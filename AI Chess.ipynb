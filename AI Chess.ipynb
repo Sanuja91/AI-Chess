{
 "cells": [
  {
   "cell_type": "code",
   "execution_count": 74,
   "metadata": {},
   "outputs": [
    {
     "name": "stdout",
     "output_type": "stream",
     "text": [
      "r n b q k b n r\n",
      "p p p p p p p p\n",
      ". . . . . . . .\n",
      ". . . . . . . .\n",
      ". . . . . . . .\n",
      ". . . . . . . .\n",
      "P P P P P P P P\n",
      "R N B Q K B N R\n"
     ]
    }
   ],
   "source": [
    "import chess\n",
    "import chess.engine as engine\n",
    "import numpy as np\n",
    "import random \n",
    "from copy import copy, deepcopy\n",
    "\n",
    "board = chess.Board()\n",
    "player_white = True\n",
    "print(board)"
   ]
  },
  {
   "cell_type": "code",
   "execution_count": 87,
   "metadata": {},
   "outputs": [
    {
     "name": "stdout",
     "output_type": "stream",
     "text": [
      "[[0 0 0 0 0 0 0 0]\n",
      " [0 0 0 0 0 0 0 0]\n",
      " [0 0 0 0 0 0 0 0]\n",
      " [0 0 0 0 0 0 0 0]\n",
      " [0 0 0 0 0 0 0 0]\n",
      " [0 0 0 0 0 0 0 1]\n",
      " [1 1 1 1 1 1 1 0]\n",
      " [1 1 1 1 1 1 1 1]]\n"
     ]
    }
   ],
   "source": [
    "white_pieces = ['P', 'N', 'B', 'R', 'Q', 'K']\n",
    "black_pieces = [piece.lower() for piece in white_pieces]\n",
    "\n",
    "board_ = np.ndarray.flatten(np.array(board.__str__().split()))\n",
    "player = copy(board_)\n",
    "opponent = copy(board_)\n",
    "pawns = copy(board_)\n",
    "knights = copy(board_)\n",
    "rooks = copy(board_)\n",
    "bishops = copy(board_)\n",
    "queens = copy(board_)\n",
    "kings = copy(board_)\n",
    "\n",
    "if player_white:\n",
    "    player = np.isin(player, white_pieces).astype(int)\n",
    "    opponent = np.isin(player, black_pieces).astype(int)\n",
    "else:\n",
    "    player = np.isin(player, black_pieces).astype(int)\n",
    "    opponent = np.isin(player, white_pieces).astype(int)\n",
    "    \n",
    "# player[63] = 1\n",
    "print(player.reshape(8,8))\n",
    "#     print(pp.symbol())\n",
    "#     if pp is not None:"
   ]
  },
  {
   "cell_type": "code",
   "execution_count": 86,
   "metadata": {},
   "outputs": [
    {
     "name": "stdout",
     "output_type": "stream",
     "text": [
      "r n b q k b . r\n",
      "p p p p p p p p\n",
      ". . . . . . . n\n",
      ". . . . . . . .\n",
      ". . . . . . . .\n",
      ". . . . . . . P\n",
      "P P P P P P P .\n",
      "R N B Q K B N R\n"
     ]
    }
   ],
   "source": [
    "if player_white:\n",
    "    player_white = False\n",
    "else:\n",
    "    player_white = True\n",
    "legal_moves = list(board.legal_moves)\n",
    "move = str(random.choice(legal_moves))\n",
    "board.push_uci(move)\n",
    "board\n",
    "print(board)"
   ]
  },
  {
   "cell_type": "code",
   "execution_count": 15,
   "metadata": {},
   "outputs": [
    {
     "ename": "AttributeError",
     "evalue": "module 'chess' has no attribute 'engine'",
     "output_type": "error",
     "traceback": [
      "\u001b[1;31m---------------------------------------------------------------------------\u001b[0m",
      "\u001b[1;31mAttributeError\u001b[0m                            Traceback (most recent call last)",
      "\u001b[1;32m<ipython-input-15-3aeabc69114b>\u001b[0m in \u001b[0;36m<module>\u001b[1;34m\u001b[0m\n\u001b[1;32m----> 1\u001b[1;33m \u001b[0mengine\u001b[0m \u001b[1;33m=\u001b[0m \u001b[0mchess\u001b[0m\u001b[1;33m.\u001b[0m\u001b[0mengine\u001b[0m\u001b[1;33m.\u001b[0m\u001b[0mSimpleEngine\u001b[0m\u001b[1;33m.\u001b[0m\u001b[0mpopen_uci\u001b[0m\u001b[1;33m(\u001b[0m\u001b[1;34m\"stockfish\"\u001b[0m\u001b[1;33m)\u001b[0m\u001b[1;33m\u001b[0m\u001b[1;33m\u001b[0m\u001b[0m\n\u001b[0m\u001b[0;32m      2\u001b[0m \u001b[0mlimit\u001b[0m \u001b[1;33m=\u001b[0m \u001b[0mchess\u001b[0m\u001b[1;33m.\u001b[0m\u001b[0mengine\u001b[0m\u001b[1;33m.\u001b[0m\u001b[0mLimit\u001b[0m\u001b[1;33m(\u001b[0m\u001b[0mtime\u001b[0m\u001b[1;33m=\u001b[0m\u001b[1;36m2.0\u001b[0m\u001b[1;33m)\u001b[0m\u001b[1;33m\u001b[0m\u001b[1;33m\u001b[0m\u001b[0m\n\u001b[0;32m      3\u001b[0m \u001b[0mengine\u001b[0m\u001b[1;33m.\u001b[0m\u001b[0mplay\u001b[0m\u001b[1;33m(\u001b[0m\u001b[0mboard\u001b[0m\u001b[1;33m,\u001b[0m \u001b[0mlimit\u001b[0m\u001b[1;33m)\u001b[0m\u001b[1;33m\u001b[0m\u001b[1;33m\u001b[0m\u001b[0m\n",
      "\u001b[1;31mAttributeError\u001b[0m: module 'chess' has no attribute 'engine'"
     ]
    }
   ],
   "source": [
    "engine = chess.engine.SimpleEngine.popen_uci(\"stockfish\")\n",
    "limit = chess.engine.Limit(time=2.0)\n",
    "engine.play(board, limit)"
   ]
  },
  {
   "cell_type": "code",
   "execution_count": null,
   "metadata": {},
   "outputs": [],
   "source": []
  }
 ],
 "metadata": {
  "kernelspec": {
   "display_name": "trader",
   "language": "python",
   "name": "trader"
  },
  "language_info": {
   "codemirror_mode": {
    "name": "ipython",
    "version": 3
   },
   "file_extension": ".py",
   "mimetype": "text/x-python",
   "name": "python",
   "nbconvert_exporter": "python",
   "pygments_lexer": "ipython3",
   "version": "3.7.6"
  }
 },
 "nbformat": 4,
 "nbformat_minor": 2
}
