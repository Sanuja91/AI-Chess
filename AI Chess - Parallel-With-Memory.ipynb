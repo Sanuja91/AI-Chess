{
 "cells": [
  {
   "cell_type": "markdown",
   "metadata": {
    "jupyter": {
     "source_hidden": true
    }
   },
   "source": [
    "# DEEPMIND ALPHAZERO CHESS"
   ]
  },
  {
   "cell_type": "markdown",
   "metadata": {},
   "source": [
    "## TODO\n",
    "- Revisit your loss function.. Some people calculate loss against Q\n",
    "- Fix Game Numbers.. Doesnt increment proper considering episodes and iterations\n",
    "- Fix MCTS PUCT Calculation... Pseudocode different from paper\n",
    "- Seperate training and actors.. IMPORTANT! Handle this \n",
    "- Learning rate schedule. 0.2, 0.02, 0.002, 0.0002 after 100k, 300k, 500k games\n",
    "- Have training on GPU and inference CPU\n",
    "- Implement https://www.youtube.com/watch?v=a4VvcmqnkhY\n",
    "- print(f\"INVALID ACTION {action}.\\nSELECTING A RANDOM ACTION FROM LEGAL ACTIONS\\n{self.legal_actions()}\") #### DISABLED FOR VIEWING PRINTS PROPERLY!\n",
    "\n",
    "\n",
    "## TODO LATER\n",
    "#### - Get backward possibly loss to train the controller. Might need to save the tensor output like states, values, etc in MCTS\n",
    "- Create Self play class\n",
    "- Create Arena class\n",
    "\n",
    "MEDIUM IN DEPTH ARTICLE\n",
    "https://medium.com/oracledevs/lessons-from-alphazero-part-4-improving-the-training-target-6efba2e71628\n",
    "\n",
    "DEEP MIND OPEN ACCESS PAPER \n",
    "\n",
    "https://kstatic.googleusercontent.com/files/2f51b2a749a284c2e2dfa13911da965f4855092a179469aedd15fbe4efe8f8cbf9c515ef83ac03a6515fa990e6f85fd827dcd477845e806f23a17845072dc7bd\n",
    "\n",
    "DEEP MIND OPEN ACCESS PAPER SUPPLEMENTARY MATERIALS\n",
    "\n",
    "https://science.sciencemag.org/content/sci/suppl/2018/12/05/362.6419.1140.DC1/aar6404-Silver-SM.pdf\n",
    "\n",
    "RAY ALPHA ZERO IMPLEMENTATION \n",
    "\n",
    "https://github.com/ray-project/ray/tree/master/rllib/contrib/alpha_zero\n",
    "\n",
    "DUPLICATED MCTS IMPLEMENTATION\n",
    "\n",
    "https://github.com/suragnair/alpha-zero-general/blob/master/MCTS.py\n",
    "\n",
    "DISTRIBUTED IMPLEMENTATION\n",
    "\n",
    "https://github.com/mokemokechicken/reversi-alpha-zero/blob/master/src/reversi_zero/lib/ggf.py\n",
    "\n",
    "CHESS MOVES\n",
    "\n",
    "https://www.ichess.net/blog/chess-pieces-moves/\n",
    "\n",
    "BOARD REPRESENTATIONS\n",
    "\n",
    "https://medium.com/datadriveninvestor/reconstructing-chess-positions-f195fd5944e\n",
    "\n",
    "ALPHA ZERO EXPLANATION\n",
    "\n",
    "https://nikcheerla.github.io/deeplearningschool/2018/01/01/AlphaZero-Explained/\n",
    "\n",
    "TRANSFORMER NETWORK IMPLEMENTATION\n",
    "\n",
    "https://pytorch.org/tutorials/beginner/transformer_tutorial.html"
   ]
  },
  {
   "cell_type": "code",
   "execution_count": 1,
   "metadata": {},
   "outputs": [
    {
     "name": "stdout",
     "output_type": "stream",
     "text": [
      "Requirement already satisfied: python-chess in /home/ec2-user/.local/lib/python3.6/site-packages (0.31.4)\n",
      "Requirement already satisfied: gym in /home/ec2-user/.local/lib/python3.6/site-packages (0.17.2)\n",
      "Requirement already satisfied: colorama in /home/ec2-user/anaconda3/envs/pytorch_latest_p36/lib/python3.6/site-packages (0.4.3)\n",
      "Requirement already satisfied: tqdm in /home/ec2-user/anaconda3/envs/pytorch_latest_p36/lib/python3.6/site-packages (4.44.1)\n",
      "Requirement already satisfied: PyQt5 in /home/ec2-user/.local/lib/python3.6/site-packages (5.15.0)\n",
      "Requirement already satisfied: ray in /home/ec2-user/.local/lib/python3.6/site-packages (0.8.7)\n",
      "Requirement already satisfied: tensorboard in /home/ec2-user/.local/lib/python3.6/site-packages (2.3.0)\n",
      "Requirement already satisfied: pyglet<=1.5.0,>=1.4.0 in /home/ec2-user/.local/lib/python3.6/site-packages (from gym) (1.5.0)\n",
      "Requirement already satisfied: cloudpickle<1.4.0,>=1.2.0 in /home/ec2-user/anaconda3/envs/pytorch_latest_p36/lib/python3.6/site-packages (from gym) (1.3.0)\n",
      "Requirement already satisfied: scipy in /home/ec2-user/anaconda3/envs/pytorch_latest_p36/lib/python3.6/site-packages (from gym) (1.4.1)\n",
      "Requirement already satisfied: numpy>=1.10.4 in /home/ec2-user/anaconda3/envs/pytorch_latest_p36/lib/python3.6/site-packages (from gym) (1.18.1)\n",
      "Requirement already satisfied: PyQt5-sip<13,>=12.8 in /home/ec2-user/.local/lib/python3.6/site-packages (from PyQt5) (12.8.1)\n",
      "Requirement already satisfied: colorful in /home/ec2-user/.local/lib/python3.6/site-packages (from ray) (0.5.4)\n",
      "Requirement already satisfied: msgpack<2.0.0,>=1.0.0 in /home/ec2-user/anaconda3/envs/pytorch_latest_p36/lib/python3.6/site-packages (from ray) (1.0.0)\n",
      "Requirement already satisfied: google in /home/ec2-user/.local/lib/python3.6/site-packages (from ray) (3.0.0)\n",
      "Requirement already satisfied: click>=7.0 in /home/ec2-user/anaconda3/envs/pytorch_latest_p36/lib/python3.6/site-packages (from ray) (7.1.1)\n",
      "Requirement already satisfied: py-spy>=0.2.0 in /home/ec2-user/.local/lib/python3.6/site-packages (from ray) (0.3.3)\n",
      "Requirement already satisfied: pyyaml in /home/ec2-user/anaconda3/envs/pytorch_latest_p36/lib/python3.6/site-packages (from ray) (5.3.1)\n",
      "Requirement already satisfied: filelock in /home/ec2-user/anaconda3/envs/pytorch_latest_p36/lib/python3.6/site-packages (from ray) (3.0.12)\n",
      "Requirement already satisfied: protobuf>=3.8.0 in /home/ec2-user/anaconda3/envs/pytorch_latest_p36/lib/python3.6/site-packages (from ray) (3.12.4)\n",
      "Requirement already satisfied: opencensus in /home/ec2-user/.local/lib/python3.6/site-packages (from ray) (0.7.10)\n",
      "Requirement already satisfied: grpcio>=1.28.1 in /home/ec2-user/.local/lib/python3.6/site-packages (from ray) (1.31.0)\n",
      "Requirement already satisfied: prometheus-client>=0.7.1 in /home/ec2-user/anaconda3/envs/pytorch_latest_p36/lib/python3.6/site-packages (from ray) (0.7.1)\n",
      "Requirement already satisfied: aioredis in /home/ec2-user/.local/lib/python3.6/site-packages (from ray) (1.3.1)\n",
      "Requirement already satisfied: jsonschema in /home/ec2-user/anaconda3/envs/pytorch_latest_p36/lib/python3.6/site-packages (from ray) (3.2.0)\n",
      "Requirement already satisfied: requests in /home/ec2-user/anaconda3/envs/pytorch_latest_p36/lib/python3.6/site-packages (from ray) (2.23.0)\n",
      "Requirement already satisfied: redis<3.5.0,>=3.3.2 in /home/ec2-user/.local/lib/python3.6/site-packages (from ray) (3.4.1)\n",
      "Requirement already satisfied: aiohttp in /home/ec2-user/.local/lib/python3.6/site-packages (from ray) (3.6.2)\n",
      "Requirement already satisfied: gpustat in /home/ec2-user/.local/lib/python3.6/site-packages (from ray) (0.6.0)\n",
      "Requirement already satisfied: google-auth<2,>=1.6.3 in /home/ec2-user/.local/lib/python3.6/site-packages (from tensorboard) (1.21.0)\n",
      "Requirement already satisfied: absl-py>=0.4 in /home/ec2-user/.local/lib/python3.6/site-packages (from tensorboard) (0.10.0)\n",
      "Requirement already satisfied: werkzeug>=0.11.15 in /home/ec2-user/anaconda3/envs/pytorch_latest_p36/lib/python3.6/site-packages (from tensorboard) (1.0.1)\n",
      "Requirement already satisfied: markdown>=2.6.8 in /home/ec2-user/.local/lib/python3.6/site-packages (from tensorboard) (3.2.2)\n",
      "Requirement already satisfied: setuptools>=41.0.0 in /home/ec2-user/anaconda3/envs/pytorch_latest_p36/lib/python3.6/site-packages (from tensorboard) (46.1.3.post20200330)\n",
      "Requirement already satisfied: six>=1.10.0 in /home/ec2-user/anaconda3/envs/pytorch_latest_p36/lib/python3.6/site-packages (from tensorboard) (1.14.0)\n",
      "Requirement already satisfied: tensorboard-plugin-wit>=1.6.0 in /home/ec2-user/.local/lib/python3.6/site-packages (from tensorboard) (1.7.0)\n",
      "Requirement already satisfied: wheel>=0.26; python_version >= \"3\" in /home/ec2-user/anaconda3/envs/pytorch_latest_p36/lib/python3.6/site-packages (from tensorboard) (0.34.2)\n",
      "Requirement already satisfied: google-auth-oauthlib<0.5,>=0.4.1 in /home/ec2-user/.local/lib/python3.6/site-packages (from tensorboard) (0.4.1)\n",
      "Requirement already satisfied: future in /home/ec2-user/anaconda3/envs/pytorch_latest_p36/lib/python3.6/site-packages (from pyglet<=1.5.0,>=1.4.0->gym) (0.18.2)\n",
      "Requirement already satisfied: beautifulsoup4 in /home/ec2-user/anaconda3/envs/pytorch_latest_p36/lib/python3.6/site-packages (from google->ray) (4.8.2)\n",
      "Requirement already satisfied: opencensus-context==0.1.1 in /home/ec2-user/.local/lib/python3.6/site-packages (from opencensus->ray) (0.1.1)\n",
      "Requirement already satisfied: google-api-core<2.0.0,>=1.0.0 in /home/ec2-user/.local/lib/python3.6/site-packages (from opencensus->ray) (1.22.1)\n",
      "Requirement already satisfied: hiredis in /home/ec2-user/.local/lib/python3.6/site-packages (from aioredis->ray) (1.1.0)\n",
      "Requirement already satisfied: async-timeout in /home/ec2-user/.local/lib/python3.6/site-packages (from aioredis->ray) (3.0.1)\n",
      "Requirement already satisfied: attrs>=17.4.0 in /home/ec2-user/anaconda3/envs/pytorch_latest_p36/lib/python3.6/site-packages (from jsonschema->ray) (19.3.0)\n",
      "Requirement already satisfied: pyrsistent>=0.14.0 in /home/ec2-user/anaconda3/envs/pytorch_latest_p36/lib/python3.6/site-packages (from jsonschema->ray) (0.16.0)\n",
      "Requirement already satisfied: importlib-metadata; python_version < \"3.8\" in /home/ec2-user/anaconda3/envs/pytorch_latest_p36/lib/python3.6/site-packages (from jsonschema->ray) (1.5.0)\n",
      "Requirement already satisfied: urllib3!=1.25.0,!=1.25.1,<1.26,>=1.21.1 in /home/ec2-user/anaconda3/envs/pytorch_latest_p36/lib/python3.6/site-packages (from requests->ray) (1.25.8)\n",
      "Requirement already satisfied: certifi>=2017.4.17 in /home/ec2-user/anaconda3/envs/pytorch_latest_p36/lib/python3.6/site-packages (from requests->ray) (2020.6.20)\n",
      "Requirement already satisfied: idna<3,>=2.5 in /home/ec2-user/anaconda3/envs/pytorch_latest_p36/lib/python3.6/site-packages (from requests->ray) (2.9)\n",
      "Requirement already satisfied: chardet<4,>=3.0.2 in /home/ec2-user/anaconda3/envs/pytorch_latest_p36/lib/python3.6/site-packages (from requests->ray) (3.0.4)\n",
      "Requirement already satisfied: multidict<5.0,>=4.5 in /home/ec2-user/.local/lib/python3.6/site-packages (from aiohttp->ray) (4.7.6)\n",
      "Requirement already satisfied: yarl<2.0,>=1.0 in /home/ec2-user/.local/lib/python3.6/site-packages (from aiohttp->ray) (1.5.1)\n",
      "Requirement already satisfied: idna-ssl>=1.0; python_version < \"3.7\" in /home/ec2-user/.local/lib/python3.6/site-packages (from aiohttp->ray) (1.1.0)\n",
      "Requirement already satisfied: typing-extensions>=3.6.5; python_version < \"3.7\" in /home/ec2-user/anaconda3/envs/pytorch_latest_p36/lib/python3.6/site-packages (from aiohttp->ray) (3.7.4.1)\n",
      "Requirement already satisfied: psutil in /home/ec2-user/anaconda3/envs/pytorch_latest_p36/lib/python3.6/site-packages (from gpustat->ray) (5.7.0)\n",
      "Requirement already satisfied: blessings>=1.6 in /home/ec2-user/.local/lib/python3.6/site-packages (from gpustat->ray) (1.7)\n",
      "Requirement already satisfied: nvidia-ml-py3>=7.352.0 in /home/ec2-user/.local/lib/python3.6/site-packages (from gpustat->ray) (7.352.0)\n",
      "Requirement already satisfied: cachetools<5.0,>=2.0.0 in /home/ec2-user/.local/lib/python3.6/site-packages (from google-auth<2,>=1.6.3->tensorboard) (4.1.1)\n",
      "Requirement already satisfied: pyasn1-modules>=0.2.1 in /home/ec2-user/.local/lib/python3.6/site-packages (from google-auth<2,>=1.6.3->tensorboard) (0.2.8)\n",
      "Requirement already satisfied: rsa<5,>=3.1.4; python_version >= \"3.5\" in /home/ec2-user/anaconda3/envs/pytorch_latest_p36/lib/python3.6/site-packages (from google-auth<2,>=1.6.3->tensorboard) (4.5)\n",
      "Requirement already satisfied: requests-oauthlib>=0.7.0 in /home/ec2-user/.local/lib/python3.6/site-packages (from google-auth-oauthlib<0.5,>=0.4.1->tensorboard) (1.3.0)\n",
      "Requirement already satisfied: soupsieve>=1.2 in /home/ec2-user/anaconda3/envs/pytorch_latest_p36/lib/python3.6/site-packages (from beautifulsoup4->google->ray) (2.0)\n",
      "Requirement already satisfied: contextvars; python_version >= \"3.6\" and python_version < \"3.7\" in /home/ec2-user/.local/lib/python3.6/site-packages (from opencensus-context==0.1.1->opencensus->ray) (2.4)\n",
      "Requirement already satisfied: googleapis-common-protos<2.0dev,>=1.6.0 in /home/ec2-user/.local/lib/python3.6/site-packages (from google-api-core<2.0.0,>=1.0.0->opencensus->ray) (1.52.0)\n",
      "Requirement already satisfied: pytz in /home/ec2-user/anaconda3/envs/pytorch_latest_p36/lib/python3.6/site-packages (from google-api-core<2.0.0,>=1.0.0->opencensus->ray) (2019.3)\n",
      "Requirement already satisfied: zipp>=0.5 in /home/ec2-user/anaconda3/envs/pytorch_latest_p36/lib/python3.6/site-packages (from importlib-metadata; python_version < \"3.8\"->jsonschema->ray) (2.2.0)\n",
      "Requirement already satisfied: pyasn1<0.5.0,>=0.4.6 in /home/ec2-user/anaconda3/envs/pytorch_latest_p36/lib/python3.6/site-packages (from pyasn1-modules>=0.2.1->google-auth<2,>=1.6.3->tensorboard) (0.4.8)\n"
     ]
    },
    {
     "name": "stdout",
     "output_type": "stream",
     "text": [
      "Requirement already satisfied: oauthlib>=3.0.0 in /home/ec2-user/.local/lib/python3.6/site-packages (from requests-oauthlib>=0.7.0->google-auth-oauthlib<0.5,>=0.4.1->tensorboard) (3.1.0)\n",
      "Requirement already satisfied: immutables>=0.9 in /home/ec2-user/.local/lib/python3.6/site-packages (from contextvars; python_version >= \"3.6\" and python_version < \"3.7\"->opencensus-context==0.1.1->opencensus->ray) (0.14)\n",
      "\u001b[33mWARNING: You are using pip version 20.0.2; however, version 20.2.2 is available.\n",
      "You should consider upgrading via the '/home/ec2-user/anaconda3/envs/pytorch_latest_p36/bin/python -m pip install --upgrade pip' command.\u001b[0m\n"
     ]
    }
   ],
   "source": [
    "PARALLEL = True\n",
    "\n",
    "if PARALLEL:\n",
    "    !pip install --user python-chess gym colorama tqdm PyQt5 ray tensorboard"
   ]
  },
  {
   "cell_type": "code",
   "execution_count": 2,
   "metadata": {},
   "outputs": [
    {
     "name": "stderr",
     "output_type": "stream",
     "text": [
      "2020-08-30 17:49:27,166\tINFO resource_spec.py:231 -- Starting Ray with 37.3 GiB memory available for workers and up to 18.67 GiB for objects. You can adjust these settings with ray.init(memory=<bytes>, object_store_memory=<bytes>).\n",
      "2020-08-30 17:49:27,598\tINFO services.py:1193 -- View the Ray dashboard at \u001b[1m\u001b[32mlocalhost:8265\u001b[39m\u001b[22m\n"
     ]
    }
   ],
   "source": [
    "if PARALLEL:\n",
    "    import ray\n",
    "    ray.init()\n",
    "\n",
    "import chess, gym, pickle, random, torch, math\n",
    "import chess.svg as svg\n",
    "import numpy as np\n",
    "import pandas as pd\n",
    "from copy import copy, deepcopy\n",
    "import matplotlib.pyplot as plt\n",
    "from torch.optim.lr_scheduler import CosineAnnealingLR, ReduceLROnPlateau\n",
    "from torch.optim import Adam\n",
    "import torch.nn as nn\n",
    "from torch.nn import functional as F\n",
    "from torch.distributions import Categorical\n",
    "\n",
    "from scipy.ndimage.interpolation import shift\n",
    "from copy import deepcopy\n",
    "from colorama import init, Fore, Back, Style\n",
    "from collections import Counter, deque\n",
    "from tqdm import tqdm, tnrange, notebook\n",
    "from random import shuffle\n",
    "import tkinter as tk\n",
    "from tkinter import simpledialog\n",
    "from PyQt5.QtSvg import QSvgWidget\n",
    "from PyQt5.QtWidgets import QApplication, QWidget\n",
    "\n",
    "from utilities import *\n",
    "from constants import *\n",
    "from models.vae import CNN_AE, CNN_VAE, train_ae, train_vae, Conv\n",
    "from models.mdn import MDN_RNN, loss_function, clip_grad_norm_\n",
    "from models.controller import Policy_Controller, Value_Controller\n",
    "plt.style.use('ggplot')\n",
    "# init(convert = True)"
   ]
  },
  {
   "cell_type": "markdown",
   "metadata": {},
   "source": [
    "# MONTE CARLO TREE SEARCH"
   ]
  },
  {
   "cell_type": "code",
   "execution_count": 3,
   "metadata": {},
   "outputs": [],
   "source": [
    "class MCTS():\n",
    "    \"\"\"Monte Carlo Tree Search Algorithm geared for Neural Networks\"\"\"\n",
    "\n",
    "    def __init__(self, env, agent, mcts_simulations = 100):\n",
    "        self.env = env\n",
    "        self.agent = agent\n",
    "        \n",
    "        # Exploration bonus\n",
    "        self.cpuct_init = 1.25                       \n",
    "        self.cpuct_base = 19652\n",
    "        self.mcts_simulations = mcts_simulations\n",
    "        \n",
    "        self.Qsa = {}                               # stores Q values for s, a (as defined in the paper)\n",
    "        self.Wsa = {}                               # stores the total action value\n",
    "        self.Nsa = {}                               # stores # times edge s, a was visited\n",
    "        self.Ns = {}                                # stores # times board s was visited\n",
    "        self.Ps = {}                                # stores prior probability of selecting a in s\n",
    "\n",
    "        self.Es = {}                                # stores victory result (1, 0, -1) ended for board s\n",
    "        self.z = {}                                 # stores the features of the state\n",
    "        self.a = {}                                 # stores the legal actions of the state\n",
    "        self.hidden = {}                            # stores the hidden states\n",
    "        \n",
    "        # Exploration noise parameters, used in action probabiltiies \n",
    "        self.dirichlet_alpha = 0.3  \n",
    "        self.exploration_fraction = 0.25\n",
    "\n",
    "\n",
    "    def action_probabilities(self, encoded_state, evaluate = False):\n",
    "        \"\"\"\n",
    "        Runs n number of monte carlo simulation, updates the tree and provides\n",
    "        an action selection probability distribution with as well an encoded representation\n",
    "        of the state with historical information zh\n",
    "        \"\"\"\n",
    "        for runs in range(self.mcts_simulations):\n",
    "            self.search(encoded_state, 0)\n",
    "        \n",
    "        s = encoded_state\n",
    "        self.env.decode(encoded_state)\n",
    "        legal_actions = self.env.legal_actions()\n",
    "        \n",
    "        # counts array represent the number of time each action edge from your current state was traversed\n",
    "        counts = [self.Nsa[(s,a)] if (s,a) in self.Nsa else 0 for a in legal_actions]\n",
    "        \n",
    "        zh = torch.cat((self.z[s].to('cpu'), self.hidden[s][0].squeeze(0).to('cpu')), dim = 1)\n",
    "        \n",
    "        # temprature is 0 representing taking the best action possible (greedy)\n",
    "        if evaluate: \n",
    "            # bestA: best action number : argmax Returns the indices of the maximum values\n",
    "            bestA = np.argmax(counts) \n",
    "            probs = [0] * len(counts)\n",
    "            probs[bestA] = 1\n",
    "            action_probs = {legal_actions[idx] : probs[idx] for idx in range(len(legal_actions))}\n",
    "            mean_q = [self.Qsa[(s,a)] for a in self.a[s]] # Mean Q[s] of all Q[(s,a)]\n",
    "            mean_q = sum(mean_q) / len(mean_q)\n",
    "            # returns the definite move(s) with same greedy reward, out of which one move HAS to be played\n",
    "            return action_probs, zh, mean_q\n",
    "        \n",
    "#         print(f\"{Fore.BLUE}COUNTS {sum(counts)} {counts}{Style.RESET_ALL}\")\n",
    "        \n",
    "        # Handles frequent draw situation when MCTS fails to explore when the game is over resulting 0 counts causing div 0 error\n",
    "        # Dirichlet noise handles this\n",
    "        #         if sum(counts) == 0:\n",
    "#             counts = [1 for _ in counts]\n",
    "        \n",
    "#         # To view P[s] distribution as a pie chartt\n",
    "#         try:\n",
    "#             agent_action_probs = {a : self.Ps[s][a] for a in self.a[s]}\n",
    "#             figureObject, axesObject = plt.subplots()\n",
    "#             # Draw the pie chart\n",
    "#             axesObject.pie(list(agent_action_probs.values()), labels = list(agent_action_probs.keys()), autopct = '%1.2f', startangle = 90)\n",
    "#             # Aspect ratio - equal means pie is a circl\n",
    "#             axesObject.axis('equal')\n",
    "#             plt.show()\n",
    "#         except Exception as e:\n",
    "#             print(e)\n",
    "            \n",
    "            \n",
    "        # Add the dirichlet noise to encourage exploration \n",
    "        noise = np.random.gamma(self.dirichlet_alpha, 1, len(legal_actions))   \n",
    "            \n",
    "        frac = self.exploration_fraction\n",
    "        for idx, (a, noise_) in enumerate(zip(legal_actions, noise)):\n",
    "            counts[idx] = counts[idx] * (1 - frac) + noise_ * frac\n",
    "        \n",
    "        probs = [x / float(sum(counts)) for x in counts]\n",
    "        action_probs = {legal_actions[idx] : probs[idx] for idx in range(len(legal_actions))}\n",
    "        mean_q = [self.Qsa[(s,a)] for a in self.a[s]]\n",
    "        mean_q = sum(mean_q) / len(mean_q)\n",
    "\n",
    "        return action_probs, zh, mean_q\n",
    "        #returns the probablity of different moves that CAN be played resulting in uniform distribution\n",
    "\n",
    "\n",
    "    def search(self, encoded_state, depth):\n",
    "        \"\"\"\n",
    "        This function performs one iteration of MCTS. It is recursively called\n",
    "        till a leaf node is found. The action chosen at each node is one that\n",
    "        has the maximum upper confidence bound as in the paper.\n",
    "        Once a leaf node is found, the neural network is called to return an\n",
    "        initial policy P and a value v for the state. This value is propogated\n",
    "        up the search path. In case the leaf node is a terminal state, the\n",
    "        outcome is propogated up the search path. The values of Ns, Nsa, Qsa, Wsa are\n",
    "        updated.\n",
    "        \n",
    "        NOTE: the return values are the negative of the value of the current\n",
    "        state. This is done since v is in [-1,1] and if v is the value of a\n",
    "        state for the current player, then its value is -v for the other player.\n",
    "        \"\"\"\n",
    "\n",
    "        s = deepcopy(encoded_state)\n",
    "        self.env.decode(encoded_state)\n",
    "#         print(f\"{Fore.GREEN}SEARCH DEPTH {depth}{Style.RESET_ALL}\")\n",
    "        \n",
    "        # Handles the maintaining of the MDNs hidden states\n",
    "        if s not in self.hidden:\n",
    "            self.hidden[s] = self.agent.get_hidden()\n",
    "        else:\n",
    "            self.agent.load_hidden(self.hidden[s])\n",
    "        \n",
    "        state, legal_actions = self.env.observe()\n",
    "            \n",
    "        # Check if its an terminal state, -1 Opponent Won, 0 Draw or Game not over, 1 Player Won\n",
    "        if self.env.terminal_test():\n",
    "            state, _ = self.env.observe()\n",
    "            \n",
    "            # Stores the AE encoded representation of current state\n",
    "            self.z[s] = self.agent.encode_z(state)\n",
    "            \n",
    "            # Intialize the edges of the state\n",
    "            for a in legal_actions:\n",
    "                self.Wsa[(s,a)] = 0\n",
    "                self.Qsa[(s,a)] = 0\n",
    "                self.Nsa[(s,a)] = 0\n",
    "            \n",
    "            self.a[s] = legal_actions\n",
    "#             print(\"SIMULATION OVER!\", self.env.terminal_test(), -self.Es[s], self.env.board.result())\n",
    "            \n",
    "            return -self.env.result()        \n",
    "\n",
    "        # Intialize the new node at state s with agents policy and value estimate\n",
    "        if s not in self.Ps: \n",
    "            self.Ps[s], v, self.z[s] = self.agent.act(state, legal_actions)\n",
    "            \n",
    "            \n",
    "#             print(\"self.Ps[s] at Depth\", depth, \"\\n\", self.Ps[s])\n",
    "            self.Ns[s] = 0\n",
    "    \n",
    "            # Intialize the edges of the state\n",
    "            for a in legal_actions:\n",
    "                self.Wsa[(s,a)] = 0\n",
    "                self.Qsa[(s,a)] = 0\n",
    "                self.Nsa[(s,a)] = 0\n",
    "            self.a[s] = legal_actions\n",
    "            return -v\n",
    "\n",
    "        self.env.decode(encoded_state)\n",
    "        \n",
    "        # Compare agents action estimates with actual legal actions\n",
    "        legal_actions = self.env.legal_actions()\n",
    "        agent_actions = list(self.Ps[s].keys())\n",
    "        \n",
    "        # Handles the occasional legal action that isn't an actual legal action\n",
    "        # Pawn side cut even though there is no enemy piece in respective position\n",
    "        if not set(agent_actions) == set(legal_actions):\n",
    "            legal_actions = agent_actions\n",
    "\n",
    "        # Update exploration rate as the search gets deeper to explore more\n",
    "        cpuct = math.log((1 + self.Ns[s] + self.cpuct_base) / self.cpuct_base) + self.cpuct_init\n",
    "        cpuct *= math.sqrt(self.Ns[s] / (self.Ns[s] + 1))\n",
    "\n",
    "        # Calculate PUCT Polynomial Upper Confidence Tree\n",
    "        # Value estimate, exploration rate, agents policy and frequency of edge visits\n",
    "        puct = {}\n",
    "        for a in legal_actions:\n",
    "            puct[a] = self.Qsa[(s,a)] + cpuct * self.Ps[s][a] * math.sqrt(self.Ns[s] / (self.Nsa[(s,a)] + 1))\n",
    "\n",
    "        # Pick the action with the highest upper confidence bound\n",
    "        a = max(puct, key = puct.get)\n",
    "        _, _ = self.env.step(a)\n",
    "        \n",
    "        # Update the MDNs hidden state\n",
    "        self.agent.step(self.z[s], a)\n",
    "        \n",
    "        # Reccursive search until leaf node or terminal node is found\n",
    "        encoded_next_state = self.env.encode()\n",
    "        v = self.search(encoded_next_state, depth + 1) \n",
    "        \n",
    "        # Backpropagate through the tree\n",
    "        self.Nsa[(s,a)] += 1 # increment number of visits this edge was taken\n",
    "        self.Wsa[(s,a)] += v # add value to total action value\n",
    "        self.Qsa[(s,a)] = self.Wsa[(s,a)] / self.Nsa[(s,a)] # calculate mean action value\n",
    "        self.Ns[s] += 1      # increment number of visits to this node\n",
    "        return -v\n",
    "    \n",
    "    def reset(self):\n",
    "        \"\"\"Resets the tracked information\"\"\"\n",
    "        self.Qsa = {} \n",
    "        self.Wsa = {} \n",
    "        self.Nsa = {}       \n",
    "        self.Ns = {}        \n",
    "        self.Ps = {}       \n",
    "        self.Es = {} \n",
    "        self.zh = {}\n",
    "        self.hidden = {}\n",
    "        self.agent.reset(1)\n",
    "        self.env.reset()"
   ]
  },
  {
   "cell_type": "markdown",
   "metadata": {},
   "source": [
    "# ENVIRONMENT"
   ]
  },
  {
   "cell_type": "code",
   "execution_count": 4,
   "metadata": {
    "scrolled": true
   },
   "outputs": [
    {
     "data": {
      "image/svg+xml": [
       "<svg height=\"390\" version=\"1.1\" viewBox=\"0 0 390 390\" width=\"390\" xmlns=\"http://www.w3.org/2000/svg\" xmlns:xlink=\"http://www.w3.org/1999/xlink\"><defs><g class=\"white pawn\" id=\"white-pawn\"><path d=\"M22 9c-2.21 0-4 1.79-4 4 0 .89.29 1.71.78 2.38-1.95 1.12-3.28 3.21-3.28 5.62 0 2.03.94 3.84 2.41 5.03-3 1.06-7.41 5.55-7.41 13.47h23c0-7.92-4.41-12.41-7.41-13.47 1.47-1.19 2.41-3 2.41-5.03 0-2.41-1.33-4.5-3.28-5.62.49-.67.78-1.49.78-2.38 0-2.21-1.79-4-4-4z\" fill=\"#fff\" stroke=\"#000\" stroke-linecap=\"round\" stroke-width=\"1.5\" /></g><g class=\"white knight\" fill=\"none\" fill-rule=\"evenodd\" id=\"white-knight\" stroke=\"#000\" stroke-linecap=\"round\" stroke-linejoin=\"round\" stroke-width=\"1.5\"><path d=\"M 22,10 C 32.5,11 38.5,18 38,39 L 15,39 C 15,30 25,32.5 23,18\" style=\"fill:#ffffff; stroke:#000000;\" /><path d=\"M 24,18 C 24.38,20.91 18.45,25.37 16,27 C 13,29 13.18,31.34 11,31 C 9.958,30.06 12.41,27.96 11,28 C 10,28 11.19,29.23 10,30 C 9,30 5.997,31 6,26 C 6,24 12,14 12,14 C 12,14 13.89,12.1 14,10.5 C 13.27,9.506 13.5,8.5 13.5,7.5 C 14.5,6.5 16.5,10 16.5,10 L 18.5,10 C 18.5,10 19.28,8.008 21,7 C 22,7 22,10 22,10\" style=\"fill:#ffffff; stroke:#000000;\" /><path d=\"M 9.5 25.5 A 0.5 0.5 0 1 1 8.5,25.5 A 0.5 0.5 0 1 1 9.5 25.5 z\" style=\"fill:#000000; stroke:#000000;\" /><path d=\"M 15 15.5 A 0.5 1.5 0 1 1 14,15.5 A 0.5 1.5 0 1 1 15 15.5 z\" style=\"fill:#000000; stroke:#000000;\" transform=\"matrix(0.866,0.5,-0.5,0.866,9.693,-5.173)\" /></g><g class=\"white bishop\" fill=\"none\" fill-rule=\"evenodd\" id=\"white-bishop\" stroke=\"#000\" stroke-linecap=\"round\" stroke-linejoin=\"round\" stroke-width=\"1.5\"><g fill=\"#fff\" stroke-linecap=\"butt\"><path d=\"M9 36c3.39-.97 10.11.43 13.5-2 3.39 2.43 10.11 1.03 13.5 2 0 0 1.65.54 3 2-.68.97-1.65.99-3 .5-3.39-.97-10.11.46-13.5-1-3.39 1.46-10.11.03-13.5 1-1.354.49-2.323.47-3-.5 1.354-1.94 3-2 3-2zM15 32c2.5 2.5 12.5 2.5 15 0 .5-1.5 0-2 0-2 0-2.5-2.5-4-2.5-4 5.5-1.5 6-11.5-5-15.5-11 4-10.5 14-5 15.5 0 0-2.5 1.5-2.5 4 0 0-.5.5 0 2zM25 8a2.5 2.5 0 1 1-5 0 2.5 2.5 0 1 1 5 0z\" /></g><path d=\"M17.5 26h10M15 30h15m-7.5-14.5v5M20 18h5\" stroke-linejoin=\"miter\" /></g><g class=\"white rook\" fill=\"#fff\" fill-rule=\"evenodd\" id=\"white-rook\" stroke=\"#000\" stroke-linecap=\"round\" stroke-linejoin=\"round\" stroke-width=\"1.5\"><path d=\"M9 39h27v-3H9v3zM12 36v-4h21v4H12zM11 14V9h4v2h5V9h5v2h5V9h4v5\" stroke-linecap=\"butt\" /><path d=\"M34 14l-3 3H14l-3-3\" /><path d=\"M31 17v12.5H14V17\" stroke-linecap=\"butt\" stroke-linejoin=\"miter\" /><path d=\"M31 29.5l1.5 2.5h-20l1.5-2.5\" /><path d=\"M11 14h23\" fill=\"none\" stroke-linejoin=\"miter\" /></g><g class=\"white queen\" fill=\"#fff\" fill-rule=\"evenodd\" id=\"white-queen\" stroke=\"#000\" stroke-linecap=\"round\" stroke-linejoin=\"round\" stroke-width=\"1.5\"><path d=\"M8 12a2 2 0 1 1-4 0 2 2 0 1 1 4 0zM24.5 7.5a2 2 0 1 1-4 0 2 2 0 1 1 4 0zM41 12a2 2 0 1 1-4 0 2 2 0 1 1 4 0zM16 8.5a2 2 0 1 1-4 0 2 2 0 1 1 4 0zM33 9a2 2 0 1 1-4 0 2 2 0 1 1 4 0z\" /><path d=\"M9 26c8.5-1.5 21-1.5 27 0l2-12-7 11V11l-5.5 13.5-3-15-3 15-5.5-14V25L7 14l2 12zM9 26c0 2 1.5 2 2.5 4 1 1.5 1 1 .5 3.5-1.5 1-1.5 2.5-1.5 2.5-1.5 1.5.5 2.5.5 2.5 6.5 1 16.5 1 23 0 0 0 1.5-1 0-2.5 0 0 .5-1.5-1-2.5-.5-2.5-.5-2 .5-3.5 1-2 2.5-2 2.5-4-8.5-1.5-18.5-1.5-27 0z\" stroke-linecap=\"butt\" /><path d=\"M11.5 30c3.5-1 18.5-1 22 0M12 33.5c6-1 15-1 21 0\" fill=\"none\" /></g><g class=\"white king\" fill=\"none\" fill-rule=\"evenodd\" id=\"white-king\" stroke=\"#000\" stroke-linecap=\"round\" stroke-linejoin=\"round\" stroke-width=\"1.5\"><path d=\"M22.5 11.63V6M20 8h5\" stroke-linejoin=\"miter\" /><path d=\"M22.5 25s4.5-7.5 3-10.5c0 0-1-2.5-3-2.5s-3 2.5-3 2.5c-1.5 3 3 10.5 3 10.5\" fill=\"#fff\" stroke-linecap=\"butt\" stroke-linejoin=\"miter\" /><path d=\"M11.5 37c5.5 3.5 15.5 3.5 21 0v-7s9-4.5 6-10.5c-4-6.5-13.5-3.5-16 4V27v-3.5c-3.5-7.5-13-10.5-16-4-3 6 5 10 5 10V37z\" fill=\"#fff\" /><path d=\"M11.5 30c5.5-3 15.5-3 21 0m-21 3.5c5.5-3 15.5-3 21 0m-21 3.5c5.5-3 15.5-3 21 0\" /></g><g class=\"black pawn\" id=\"black-pawn\"><path d=\"M22 9c-2.21 0-4 1.79-4 4 0 .89.29 1.71.78 2.38-1.95 1.12-3.28 3.21-3.28 5.62 0 2.03.94 3.84 2.41 5.03-3 1.06-7.41 5.55-7.41 13.47h23c0-7.92-4.41-12.41-7.41-13.47 1.47-1.19 2.41-3 2.41-5.03 0-2.41-1.33-4.5-3.28-5.62.49-.67.78-1.49.78-2.38 0-2.21-1.79-4-4-4z\" stroke=\"#000\" stroke-linecap=\"round\" stroke-width=\"1.5\" /></g><g class=\"black knight\" fill=\"none\" fill-rule=\"evenodd\" id=\"black-knight\" stroke=\"#000\" stroke-linecap=\"round\" stroke-linejoin=\"round\" stroke-width=\"1.5\"><path d=\"M 22,10 C 32.5,11 38.5,18 38,39 L 15,39 C 15,30 25,32.5 23,18\" style=\"fill:#000000; stroke:#000000;\" /><path d=\"M 24,18 C 24.38,20.91 18.45,25.37 16,27 C 13,29 13.18,31.34 11,31 C 9.958,30.06 12.41,27.96 11,28 C 10,28 11.19,29.23 10,30 C 9,30 5.997,31 6,26 C 6,24 12,14 12,14 C 12,14 13.89,12.1 14,10.5 C 13.27,9.506 13.5,8.5 13.5,7.5 C 14.5,6.5 16.5,10 16.5,10 L 18.5,10 C 18.5,10 19.28,8.008 21,7 C 22,7 22,10 22,10\" style=\"fill:#000000; stroke:#000000;\" /><path d=\"M 9.5 25.5 A 0.5 0.5 0 1 1 8.5,25.5 A 0.5 0.5 0 1 1 9.5 25.5 z\" style=\"fill:#ececec; stroke:#ececec;\" /><path d=\"M 15 15.5 A 0.5 1.5 0 1 1 14,15.5 A 0.5 1.5 0 1 1 15 15.5 z\" style=\"fill:#ececec; stroke:#ececec;\" transform=\"matrix(0.866,0.5,-0.5,0.866,9.693,-5.173)\" /><path d=\"M 24.55,10.4 L 24.1,11.85 L 24.6,12 C 27.75,13 30.25,14.49 32.5,18.75 C 34.75,23.01 35.75,29.06 35.25,39 L 35.2,39.5 L 37.45,39.5 L 37.5,39 C 38,28.94 36.62,22.15 34.25,17.66 C 31.88,13.17 28.46,11.02 25.06,10.5 L 24.55,10.4 z \" style=\"fill:#ececec; stroke:none;\" /></g><g class=\"black bishop\" fill=\"none\" fill-rule=\"evenodd\" id=\"black-bishop\" stroke=\"#000\" stroke-linecap=\"round\" stroke-linejoin=\"round\" stroke-width=\"1.5\"><path d=\"M9 36c3.39-.97 10.11.43 13.5-2 3.39 2.43 10.11 1.03 13.5 2 0 0 1.65.54 3 2-.68.97-1.65.99-3 .5-3.39-.97-10.11.46-13.5-1-3.39 1.46-10.11.03-13.5 1-1.354.49-2.323.47-3-.5 1.354-1.94 3-2 3-2zm6-4c2.5 2.5 12.5 2.5 15 0 .5-1.5 0-2 0-2 0-2.5-2.5-4-2.5-4 5.5-1.5 6-11.5-5-15.5-11 4-10.5 14-5 15.5 0 0-2.5 1.5-2.5 4 0 0-.5.5 0 2zM25 8a2.5 2.5 0 1 1-5 0 2.5 2.5 0 1 1 5 0z\" fill=\"#000\" stroke-linecap=\"butt\" /><path d=\"M17.5 26h10M15 30h15m-7.5-14.5v5M20 18h5\" stroke=\"#fff\" stroke-linejoin=\"miter\" /></g><g class=\"black rook\" fill=\"#000\" fill-rule=\"evenodd\" id=\"black-rook\" stroke=\"#000\" stroke-linecap=\"round\" stroke-linejoin=\"round\" stroke-width=\"1.5\"><path d=\"M9 39h27v-3H9v3zM12.5 32l1.5-2.5h17l1.5 2.5h-20zM12 36v-4h21v4H12z\" stroke-linecap=\"butt\" /><path d=\"M14 29.5v-13h17v13H14z\" stroke-linecap=\"butt\" stroke-linejoin=\"miter\" /><path d=\"M14 16.5L11 14h23l-3 2.5H14zM11 14V9h4v2h5V9h5v2h5V9h4v5H11z\" stroke-linecap=\"butt\" /><path d=\"M12 35.5h21M13 31.5h19M14 29.5h17M14 16.5h17M11 14h23\" fill=\"none\" stroke=\"#fff\" stroke-linejoin=\"miter\" stroke-width=\"1\" /></g><g class=\"black queen\" fill=\"#000\" fill-rule=\"evenodd\" id=\"black-queen\" stroke=\"#000\" stroke-linecap=\"round\" stroke-linejoin=\"round\" stroke-width=\"1.5\"><g fill=\"#000\" stroke=\"none\"><circle cx=\"6\" cy=\"12\" r=\"2.75\" /><circle cx=\"14\" cy=\"9\" r=\"2.75\" /><circle cx=\"22.5\" cy=\"8\" r=\"2.75\" /><circle cx=\"31\" cy=\"9\" r=\"2.75\" /><circle cx=\"39\" cy=\"12\" r=\"2.75\" /></g><path d=\"M9 26c8.5-1.5 21-1.5 27 0l2.5-12.5L31 25l-.3-14.1-5.2 13.6-3-14.5-3 14.5-5.2-13.6L14 25 6.5 13.5 9 26zM9 26c0 2 1.5 2 2.5 4 1 1.5 1 1 .5 3.5-1.5 1-1.5 2.5-1.5 2.5-1.5 1.5.5 2.5.5 2.5 6.5 1 16.5 1 23 0 0 0 1.5-1 0-2.5 0 0 .5-1.5-1-2.5-.5-2.5-.5-2 .5-3.5 1-2 2.5-2 2.5-4-8.5-1.5-18.5-1.5-27 0z\" stroke-linecap=\"butt\" /><path d=\"M11 38.5a35 35 1 0 0 23 0\" fill=\"none\" stroke-linecap=\"butt\" /><path d=\"M11 29a35 35 1 0 1 23 0M12.5 31.5h20M11.5 34.5a35 35 1 0 0 22 0M10.5 37.5a35 35 1 0 0 24 0\" fill=\"none\" stroke=\"#fff\" /></g><g class=\"black king\" fill=\"none\" fill-rule=\"evenodd\" id=\"black-king\" stroke=\"#000\" stroke-linecap=\"round\" stroke-linejoin=\"round\" stroke-width=\"1.5\"><path d=\"M22.5 11.63V6\" stroke-linejoin=\"miter\" /><path d=\"M22.5 25s4.5-7.5 3-10.5c0 0-1-2.5-3-2.5s-3 2.5-3 2.5c-1.5 3 3 10.5 3 10.5\" fill=\"#000\" stroke-linecap=\"butt\" stroke-linejoin=\"miter\" /><path d=\"M11.5 37c5.5 3.5 15.5 3.5 21 0v-7s9-4.5 6-10.5c-4-6.5-13.5-3.5-16 4V27v-3.5c-3.5-7.5-13-10.5-16-4-3 6 5 10 5 10V37z\" fill=\"#000\" /><path d=\"M20 8h5\" stroke-linejoin=\"miter\" /><path d=\"M32 29.5s8.5-4 6.03-9.65C34.15 14 25 18 22.5 24.5l.01 2.1-.01-2.1C20 18 9.906 14 6.997 19.85c-2.497 5.65 4.853 9 4.853 9M11.5 30c5.5-3 15.5-3 21 0m-21 3.5c5.5-3 15.5-3 21 0m-21 3.5c5.5-3 15.5-3 21 0\" stroke=\"#fff\" /></g></defs><rect fill=\"#212121\" height=\"390\" width=\"390\" x=\"0\" y=\"0\" /><rect class=\"square dark a1\" fill=\"#d18b47\" height=\"45\" stroke=\"none\" width=\"45\" x=\"15\" y=\"330\" /><use transform=\"translate(15, 330)\" xlink:href=\"#white-rook\" /><rect class=\"square light b1\" fill=\"#ffce9e\" height=\"45\" stroke=\"none\" width=\"45\" x=\"60\" y=\"330\" /><use transform=\"translate(60, 330)\" xlink:href=\"#white-knight\" /><rect class=\"square dark c1\" fill=\"#d18b47\" height=\"45\" stroke=\"none\" width=\"45\" x=\"105\" y=\"330\" /><use transform=\"translate(105, 330)\" xlink:href=\"#white-bishop\" /><rect class=\"square light d1\" fill=\"#ffce9e\" height=\"45\" stroke=\"none\" width=\"45\" x=\"150\" y=\"330\" /><use transform=\"translate(150, 330)\" xlink:href=\"#white-queen\" /><rect class=\"square dark e1\" fill=\"#d18b47\" height=\"45\" stroke=\"none\" width=\"45\" x=\"195\" y=\"330\" /><use transform=\"translate(195, 330)\" xlink:href=\"#white-king\" /><rect class=\"square light f1\" fill=\"#ffce9e\" height=\"45\" stroke=\"none\" width=\"45\" x=\"240\" y=\"330\" /><use transform=\"translate(240, 330)\" xlink:href=\"#white-bishop\" /><rect class=\"square dark g1\" fill=\"#d18b47\" height=\"45\" stroke=\"none\" width=\"45\" x=\"285\" y=\"330\" /><use transform=\"translate(285, 330)\" xlink:href=\"#white-knight\" /><rect class=\"square light h1\" fill=\"#ffce9e\" height=\"45\" stroke=\"none\" width=\"45\" x=\"330\" y=\"330\" /><use transform=\"translate(330, 330)\" xlink:href=\"#white-rook\" /><rect class=\"square light a2\" fill=\"#ffce9e\" height=\"45\" stroke=\"none\" width=\"45\" x=\"15\" y=\"285\" /><use transform=\"translate(15, 285)\" xlink:href=\"#white-pawn\" /><rect class=\"square dark b2\" fill=\"#d18b47\" height=\"45\" stroke=\"none\" width=\"45\" x=\"60\" y=\"285\" /><use transform=\"translate(60, 285)\" xlink:href=\"#white-pawn\" /><rect class=\"square light c2\" fill=\"#ffce9e\" height=\"45\" stroke=\"none\" width=\"45\" x=\"105\" y=\"285\" /><use transform=\"translate(105, 285)\" xlink:href=\"#white-pawn\" /><rect class=\"square dark d2\" fill=\"#d18b47\" height=\"45\" stroke=\"none\" width=\"45\" x=\"150\" y=\"285\" /><use transform=\"translate(150, 285)\" xlink:href=\"#white-pawn\" /><rect class=\"square light e2\" fill=\"#ffce9e\" height=\"45\" stroke=\"none\" width=\"45\" x=\"195\" y=\"285\" /><use transform=\"translate(195, 285)\" xlink:href=\"#white-pawn\" /><rect class=\"square dark f2\" fill=\"#d18b47\" height=\"45\" stroke=\"none\" width=\"45\" x=\"240\" y=\"285\" /><use transform=\"translate(240, 285)\" xlink:href=\"#white-pawn\" /><rect class=\"square light g2\" fill=\"#ffce9e\" height=\"45\" stroke=\"none\" width=\"45\" x=\"285\" y=\"285\" /><use transform=\"translate(285, 285)\" xlink:href=\"#white-pawn\" /><rect class=\"square dark h2\" fill=\"#d18b47\" height=\"45\" stroke=\"none\" width=\"45\" x=\"330\" y=\"285\" /><use transform=\"translate(330, 285)\" xlink:href=\"#white-pawn\" /><rect class=\"square dark a3\" fill=\"#d18b47\" height=\"45\" stroke=\"none\" width=\"45\" x=\"15\" y=\"240\" /><rect class=\"square light b3\" fill=\"#ffce9e\" height=\"45\" stroke=\"none\" width=\"45\" x=\"60\" y=\"240\" /><rect class=\"square dark c3\" fill=\"#d18b47\" height=\"45\" stroke=\"none\" width=\"45\" x=\"105\" y=\"240\" /><rect class=\"square light d3\" fill=\"#ffce9e\" height=\"45\" stroke=\"none\" width=\"45\" x=\"150\" y=\"240\" /><rect class=\"square dark e3\" fill=\"#d18b47\" height=\"45\" stroke=\"none\" width=\"45\" x=\"195\" y=\"240\" /><rect class=\"square light f3\" fill=\"#ffce9e\" height=\"45\" stroke=\"none\" width=\"45\" x=\"240\" y=\"240\" /><rect class=\"square dark g3\" fill=\"#d18b47\" height=\"45\" stroke=\"none\" width=\"45\" x=\"285\" y=\"240\" /><rect class=\"square light h3\" fill=\"#ffce9e\" height=\"45\" stroke=\"none\" width=\"45\" x=\"330\" y=\"240\" /><rect class=\"square light a4\" fill=\"#ffce9e\" height=\"45\" stroke=\"none\" width=\"45\" x=\"15\" y=\"195\" /><rect class=\"square dark b4\" fill=\"#d18b47\" height=\"45\" stroke=\"none\" width=\"45\" x=\"60\" y=\"195\" /><rect class=\"square light c4\" fill=\"#ffce9e\" height=\"45\" stroke=\"none\" width=\"45\" x=\"105\" y=\"195\" /><rect class=\"square dark d4\" fill=\"#d18b47\" height=\"45\" stroke=\"none\" width=\"45\" x=\"150\" y=\"195\" /><rect class=\"square light e4\" fill=\"#ffce9e\" height=\"45\" stroke=\"none\" width=\"45\" x=\"195\" y=\"195\" /><rect class=\"square dark f4\" fill=\"#d18b47\" height=\"45\" stroke=\"none\" width=\"45\" x=\"240\" y=\"195\" /><rect class=\"square light g4\" fill=\"#ffce9e\" height=\"45\" stroke=\"none\" width=\"45\" x=\"285\" y=\"195\" /><rect class=\"square dark h4\" fill=\"#d18b47\" height=\"45\" stroke=\"none\" width=\"45\" x=\"330\" y=\"195\" /><rect class=\"square dark a5\" fill=\"#d18b47\" height=\"45\" stroke=\"none\" width=\"45\" x=\"15\" y=\"150\" /><rect class=\"square light b5\" fill=\"#ffce9e\" height=\"45\" stroke=\"none\" width=\"45\" x=\"60\" y=\"150\" /><rect class=\"square dark c5\" fill=\"#d18b47\" height=\"45\" stroke=\"none\" width=\"45\" x=\"105\" y=\"150\" /><rect class=\"square light d5\" fill=\"#ffce9e\" height=\"45\" stroke=\"none\" width=\"45\" x=\"150\" y=\"150\" /><rect class=\"square dark e5\" fill=\"#d18b47\" height=\"45\" stroke=\"none\" width=\"45\" x=\"195\" y=\"150\" /><rect class=\"square light f5\" fill=\"#ffce9e\" height=\"45\" stroke=\"none\" width=\"45\" x=\"240\" y=\"150\" /><rect class=\"square dark g5\" fill=\"#d18b47\" height=\"45\" stroke=\"none\" width=\"45\" x=\"285\" y=\"150\" /><rect class=\"square light h5\" fill=\"#ffce9e\" height=\"45\" stroke=\"none\" width=\"45\" x=\"330\" y=\"150\" /><rect class=\"square light a6\" fill=\"#ffce9e\" height=\"45\" stroke=\"none\" width=\"45\" x=\"15\" y=\"105\" /><rect class=\"square dark b6\" fill=\"#d18b47\" height=\"45\" stroke=\"none\" width=\"45\" x=\"60\" y=\"105\" /><rect class=\"square light c6\" fill=\"#ffce9e\" height=\"45\" stroke=\"none\" width=\"45\" x=\"105\" y=\"105\" /><rect class=\"square dark d6\" fill=\"#d18b47\" height=\"45\" stroke=\"none\" width=\"45\" x=\"150\" y=\"105\" /><rect class=\"square light e6\" fill=\"#ffce9e\" height=\"45\" stroke=\"none\" width=\"45\" x=\"195\" y=\"105\" /><rect class=\"square dark f6\" fill=\"#d18b47\" height=\"45\" stroke=\"none\" width=\"45\" x=\"240\" y=\"105\" /><rect class=\"square light g6\" fill=\"#ffce9e\" height=\"45\" stroke=\"none\" width=\"45\" x=\"285\" y=\"105\" /><rect class=\"square dark h6\" fill=\"#d18b47\" height=\"45\" stroke=\"none\" width=\"45\" x=\"330\" y=\"105\" /><rect class=\"square dark a7\" fill=\"#d18b47\" height=\"45\" stroke=\"none\" width=\"45\" x=\"15\" y=\"60\" /><use transform=\"translate(15, 60)\" xlink:href=\"#black-pawn\" /><rect class=\"square light b7\" fill=\"#ffce9e\" height=\"45\" stroke=\"none\" width=\"45\" x=\"60\" y=\"60\" /><use transform=\"translate(60, 60)\" xlink:href=\"#black-pawn\" /><rect class=\"square dark c7\" fill=\"#d18b47\" height=\"45\" stroke=\"none\" width=\"45\" x=\"105\" y=\"60\" /><use transform=\"translate(105, 60)\" xlink:href=\"#black-pawn\" /><rect class=\"square light d7\" fill=\"#ffce9e\" height=\"45\" stroke=\"none\" width=\"45\" x=\"150\" y=\"60\" /><use transform=\"translate(150, 60)\" xlink:href=\"#black-pawn\" /><rect class=\"square dark e7\" fill=\"#d18b47\" height=\"45\" stroke=\"none\" width=\"45\" x=\"195\" y=\"60\" /><use transform=\"translate(195, 60)\" xlink:href=\"#black-pawn\" /><rect class=\"square light f7\" fill=\"#ffce9e\" height=\"45\" stroke=\"none\" width=\"45\" x=\"240\" y=\"60\" /><use transform=\"translate(240, 60)\" xlink:href=\"#black-pawn\" /><rect class=\"square dark g7\" fill=\"#d18b47\" height=\"45\" stroke=\"none\" width=\"45\" x=\"285\" y=\"60\" /><use transform=\"translate(285, 60)\" xlink:href=\"#black-pawn\" /><rect class=\"square light h7\" fill=\"#ffce9e\" height=\"45\" stroke=\"none\" width=\"45\" x=\"330\" y=\"60\" /><use transform=\"translate(330, 60)\" xlink:href=\"#black-pawn\" /><rect class=\"square light a8\" fill=\"#ffce9e\" height=\"45\" stroke=\"none\" width=\"45\" x=\"15\" y=\"15\" /><use transform=\"translate(15, 15)\" xlink:href=\"#black-rook\" /><rect class=\"square dark b8\" fill=\"#d18b47\" height=\"45\" stroke=\"none\" width=\"45\" x=\"60\" y=\"15\" /><use transform=\"translate(60, 15)\" xlink:href=\"#black-knight\" /><rect class=\"square light c8\" fill=\"#ffce9e\" height=\"45\" stroke=\"none\" width=\"45\" x=\"105\" y=\"15\" /><use transform=\"translate(105, 15)\" xlink:href=\"#black-bishop\" /><rect class=\"square dark d8\" fill=\"#d18b47\" height=\"45\" stroke=\"none\" width=\"45\" x=\"150\" y=\"15\" /><use transform=\"translate(150, 15)\" xlink:href=\"#black-queen\" /><rect class=\"square light e8\" fill=\"#ffce9e\" height=\"45\" stroke=\"none\" width=\"45\" x=\"195\" y=\"15\" /><use transform=\"translate(195, 15)\" xlink:href=\"#black-king\" /><rect class=\"square dark f8\" fill=\"#d18b47\" height=\"45\" stroke=\"none\" width=\"45\" x=\"240\" y=\"15\" /><use transform=\"translate(240, 15)\" xlink:href=\"#black-bishop\" /><rect class=\"square light g8\" fill=\"#ffce9e\" height=\"45\" stroke=\"none\" width=\"45\" x=\"285\" y=\"15\" /><use transform=\"translate(285, 15)\" xlink:href=\"#black-knight\" /><rect class=\"square dark h8\" fill=\"#d18b47\" height=\"45\" stroke=\"none\" width=\"45\" x=\"330\" y=\"15\" /><use transform=\"translate(330, 15)\" xlink:href=\"#black-rook\" /><g fill=\"#e5e5e5\" stroke=\"#e5e5e5\" transform=\"translate(20, 0) scale(0.75, 0.75)\"><path d=\"M23.328 10.016q-1.742 0-2.414.398-.672.398-.672 1.36 0 .765.5 1.218.508.445 1.375.445 1.196 0 1.914-.843.727-.852.727-2.258v-.32zm2.867-.594v4.992h-1.437v-1.328q-.492.797-1.227 1.18-.734.375-1.797.375-1.343 0-2.14-.75-.79-.758-.79-2.024 0-1.476.985-2.226.992-.75 2.953-.75h2.016V8.75q0-.992-.656-1.531-.649-.547-1.829-.547-.75 0-1.46.18-.711.18-1.368.539V6.062q.79-.304 1.532-.453.742-.156 1.445-.156 1.898 0 2.836.984.937.985.937 2.985z\" /></g><g fill=\"#e5e5e5\" stroke=\"#e5e5e5\" transform=\"translate(20, 375) scale(0.75, 0.75)\"><path d=\"M23.328 10.016q-1.742 0-2.414.398-.672.398-.672 1.36 0 .765.5 1.218.508.445 1.375.445 1.196 0 1.914-.843.727-.852.727-2.258v-.32zm2.867-.594v4.992h-1.437v-1.328q-.492.797-1.227 1.18-.734.375-1.797.375-1.343 0-2.14-.75-.79-.758-.79-2.024 0-1.476.985-2.226.992-.75 2.953-.75h2.016V8.75q0-.992-.656-1.531-.649-.547-1.829-.547-.75 0-1.46.18-.711.18-1.368.539V6.062q.79-.304 1.532-.453.742-.156 1.445-.156 1.898 0 2.836.984.937.985.937 2.985z\" /></g><g fill=\"#e5e5e5\" stroke=\"#e5e5e5\" transform=\"translate(65, 0) scale(0.75, 0.75)\"><path d=\"M24.922 10.047q0-1.586-.656-2.485-.649-.906-1.79-.906-1.14 0-1.796.906-.649.899-.649 2.485 0 1.586.649 2.492.656.898 1.797.898 1.14 0 1.789-.898.656-.906.656-2.492zm-4.89-3.055q.452-.781 1.14-1.156.695-.383 1.656-.383 1.594 0 2.586 1.266 1 1.265 1 3.328 0 2.062-1 3.328-.992 1.266-2.586 1.266-.96 0-1.656-.375-.688-.383-1.14-1.164v1.312h-1.446V2.258h1.445z\" /></g><g fill=\"#e5e5e5\" stroke=\"#e5e5e5\" transform=\"translate(65, 375) scale(0.75, 0.75)\"><path d=\"M24.922 10.047q0-1.586-.656-2.485-.649-.906-1.79-.906-1.14 0-1.796.906-.649.899-.649 2.485 0 1.586.649 2.492.656.898 1.797.898 1.14 0 1.789-.898.656-.906.656-2.492zm-4.89-3.055q.452-.781 1.14-1.156.695-.383 1.656-.383 1.594 0 2.586 1.266 1 1.265 1 3.328 0 2.062-1 3.328-.992 1.266-2.586 1.266-.96 0-1.656-.375-.688-.383-1.14-1.164v1.312h-1.446V2.258h1.445z\" /></g><g fill=\"#e5e5e5\" stroke=\"#e5e5e5\" transform=\"translate(110, 0) scale(0.75, 0.75)\"><path d=\"M25.96 6v1.344q-.608-.336-1.226-.5-.609-.172-1.234-.172-1.398 0-2.172.89-.773.883-.773 2.485 0 1.601.773 2.492.774.883 2.172.883.625 0 1.234-.164.618-.172 1.227-.508v1.328q-.602.281-1.25.422-.64.14-1.367.14-1.977 0-3.14-1.242-1.165-1.242-1.165-3.351 0-2.14 1.172-3.367 1.18-1.227 3.227-1.227.664 0 1.296.14.633.134 1.227.407z\" /></g><g fill=\"#e5e5e5\" stroke=\"#e5e5e5\" transform=\"translate(110, 375) scale(0.75, 0.75)\"><path d=\"M25.96 6v1.344q-.608-.336-1.226-.5-.609-.172-1.234-.172-1.398 0-2.172.89-.773.883-.773 2.485 0 1.601.773 2.492.774.883 2.172.883.625 0 1.234-.164.618-.172 1.227-.508v1.328q-.602.281-1.25.422-.64.14-1.367.14-1.977 0-3.14-1.242-1.165-1.242-1.165-3.351 0-2.14 1.172-3.367 1.18-1.227 3.227-1.227.664 0 1.296.14.633.134 1.227.407z\" /></g><g fill=\"#e5e5e5\" stroke=\"#e5e5e5\" transform=\"translate(155, 0) scale(0.75, 0.75)\"><path d=\"M24.973 6.992V2.258h1.437v12.156h-1.437v-1.312q-.453.78-1.149 1.164-.687.375-1.656.375-1.586 0-2.586-1.266-.992-1.266-.992-3.328 0-2.063.992-3.328 1-1.266 2.586-1.266.969 0 1.656.383.696.375 1.149 1.156zm-4.899 3.055q0 1.586.649 2.492.656.898 1.797.898 1.14 0 1.796-.898.657-.906.657-2.492 0-1.586-.657-2.485-.656-.906-1.796-.906-1.141 0-1.797.906-.649.899-.649 2.485z\" /></g><g fill=\"#e5e5e5\" stroke=\"#e5e5e5\" transform=\"translate(155, 375) scale(0.75, 0.75)\"><path d=\"M24.973 6.992V2.258h1.437v12.156h-1.437v-1.312q-.453.78-1.149 1.164-.687.375-1.656.375-1.586 0-2.586-1.266-.992-1.266-.992-3.328 0-2.063.992-3.328 1-1.266 2.586-1.266.969 0 1.656.383.696.375 1.149 1.156zm-4.899 3.055q0 1.586.649 2.492.656.898 1.797.898 1.14 0 1.796-.898.657-.906.657-2.492 0-1.586-.657-2.485-.656-.906-1.796-.906-1.141 0-1.797.906-.649.899-.649 2.485z\" /></g><g fill=\"#e5e5e5\" stroke=\"#e5e5e5\" transform=\"translate(200, 0) scale(0.75, 0.75)\"><path d=\"M26.555 9.68v.703h-6.61q.094 1.484.89 2.265.806.774 2.235.774.828 0 1.602-.203.781-.203 1.547-.61v1.36q-.774.328-1.586.5-.813.172-1.649.172-2.093 0-3.32-1.22-1.219-1.218-1.219-3.296 0-2.148 1.157-3.406 1.164-1.266 3.132-1.266 1.766 0 2.79 1.14 1.03 1.134 1.03 3.087zm-1.438-.422q-.015-1.18-.664-1.883-.64-.703-1.703-.703-1.203 0-1.93.68-.718.68-.828 1.914z\" /></g><g fill=\"#e5e5e5\" stroke=\"#e5e5e5\" transform=\"translate(200, 375) scale(0.75, 0.75)\"><path d=\"M26.555 9.68v.703h-6.61q.094 1.484.89 2.265.806.774 2.235.774.828 0 1.602-.203.781-.203 1.547-.61v1.36q-.774.328-1.586.5-.813.172-1.649.172-2.093 0-3.32-1.22-1.219-1.218-1.219-3.296 0-2.148 1.157-3.406 1.164-1.266 3.132-1.266 1.766 0 2.79 1.14 1.03 1.134 1.03 3.087zm-1.438-.422q-.015-1.18-.664-1.883-.64-.703-1.703-.703-1.203 0-1.93.68-.718.68-.828 1.914z\" /></g><g fill=\"#e5e5e5\" stroke=\"#e5e5e5\" transform=\"translate(245, 0) scale(0.75, 0.75)\"><path d=\"M25.285 2.258v1.195H23.91q-.773 0-1.078.313-.297.312-.297 1.125v.773h2.367v1.117h-2.367v7.633H21.09V6.781h-1.375V5.664h1.375v-.61q0-1.46.68-2.124.68-.672 2.156-.672z\" /></g><g fill=\"#e5e5e5\" stroke=\"#e5e5e5\" transform=\"translate(245, 375) scale(0.75, 0.75)\"><path d=\"M25.285 2.258v1.195H23.91q-.773 0-1.078.313-.297.312-.297 1.125v.773h2.367v1.117h-2.367v7.633H21.09V6.781h-1.375V5.664h1.375v-.61q0-1.46.68-2.124.68-.672 2.156-.672z\" /></g><g fill=\"#e5e5e5\" stroke=\"#e5e5e5\" transform=\"translate(290, 0) scale(0.75, 0.75)\"><path d=\"M24.973 9.937q0-1.562-.649-2.421-.64-.86-1.804-.86-1.157 0-1.805.86-.64.859-.64 2.421 0 1.555.64 2.415.648.859 1.805.859 1.164 0 1.804-.86.649-.859.649-2.414zm1.437 3.391q0 2.234-.992 3.32-.992 1.094-3.04 1.094-.757 0-1.429-.117-.672-.11-1.304-.344v-1.398q.632.344 1.25.508.617.164 1.257.164 1.414 0 2.118-.743.703-.734.703-2.226v-.711q-.446.773-1.141 1.156-.695.383-1.664.383-1.61 0-2.594-1.227-.984-1.226-.984-3.25 0-2.03.984-3.257.985-1.227 2.594-1.227.969 0 1.664.383t1.14 1.156V5.664h1.438z\" /></g><g fill=\"#e5e5e5\" stroke=\"#e5e5e5\" transform=\"translate(290, 375) scale(0.75, 0.75)\"><path d=\"M24.973 9.937q0-1.562-.649-2.421-.64-.86-1.804-.86-1.157 0-1.805.86-.64.859-.64 2.421 0 1.555.64 2.415.648.859 1.805.859 1.164 0 1.804-.86.649-.859.649-2.414zm1.437 3.391q0 2.234-.992 3.32-.992 1.094-3.04 1.094-.757 0-1.429-.117-.672-.11-1.304-.344v-1.398q.632.344 1.25.508.617.164 1.257.164 1.414 0 2.118-.743.703-.734.703-2.226v-.711q-.446.773-1.141 1.156-.695.383-1.664.383-1.61 0-2.594-1.227-.984-1.226-.984-3.25 0-2.03.984-3.257.985-1.227 2.594-1.227.969 0 1.664.383t1.14 1.156V5.664h1.438z\" /></g><g fill=\"#e5e5e5\" stroke=\"#e5e5e5\" transform=\"translate(335, 0) scale(0.75, 0.75)\"><path d=\"M26.164 9.133v5.281h-1.437V9.18q0-1.243-.485-1.86-.484-.617-1.453-.617-1.164 0-1.836.742-.672.742-.672 2.024v4.945h-1.445V2.258h1.445v4.765q.516-.789 1.211-1.18.703-.39 1.617-.39 1.508 0 2.282.938.773.93.773 2.742z\" /></g><g fill=\"#e5e5e5\" stroke=\"#e5e5e5\" transform=\"translate(335, 375) scale(0.75, 0.75)\"><path d=\"M26.164 9.133v5.281h-1.437V9.18q0-1.243-.485-1.86-.484-.617-1.453-.617-1.164 0-1.836.742-.672.742-.672 2.024v4.945h-1.445V2.258h1.445v4.765q.516-.789 1.211-1.18.703-.39 1.617-.39 1.508 0 2.282.938.773.93.773 2.742z\" /></g><g fill=\"#e5e5e5\" stroke=\"#e5e5e5\" transform=\"translate(0, 335) scale(0.75, 0.75)\"><path d=\"M6.754 26.996h2.578v-8.898l-2.805.562v-1.437l2.79-.563h1.578v10.336h2.578v1.328h-6.72z\" /></g><g fill=\"#e5e5e5\" stroke=\"#e5e5e5\" transform=\"translate(375, 335) scale(0.75, 0.75)\"><path d=\"M6.754 26.996h2.578v-8.898l-2.805.562v-1.437l2.79-.563h1.578v10.336h2.578v1.328h-6.72z\" /></g><g fill=\"#e5e5e5\" stroke=\"#e5e5e5\" transform=\"translate(0, 290) scale(0.75, 0.75)\"><path d=\"M8.195 26.996h5.508v1.328H6.297v-1.328q.898-.93 2.445-2.492 1.555-1.57 1.953-2.024.758-.851 1.055-1.437.305-.594.305-1.164 0-.93-.657-1.516-.648-.586-1.695-.586-.742 0-1.57.258-.82.258-1.758.781v-1.593q.953-.383 1.781-.578.828-.196 1.516-.196 1.812 0 2.89.906 1.079.907 1.079 2.422 0 .72-.274 1.368-.265.64-.976 1.515-.196.227-1.243 1.313-1.046 1.078-2.953 3.023z\" /></g><g fill=\"#e5e5e5\" stroke=\"#e5e5e5\" transform=\"translate(375, 290) scale(0.75, 0.75)\"><path d=\"M8.195 26.996h5.508v1.328H6.297v-1.328q.898-.93 2.445-2.492 1.555-1.57 1.953-2.024.758-.851 1.055-1.437.305-.594.305-1.164 0-.93-.657-1.516-.648-.586-1.695-.586-.742 0-1.57.258-.82.258-1.758.781v-1.593q.953-.383 1.781-.578.828-.196 1.516-.196 1.812 0 2.89.906 1.079.907 1.079 2.422 0 .72-.274 1.368-.265.64-.976 1.515-.196.227-1.243 1.313-1.046 1.078-2.953 3.023z\" /></g><g fill=\"#e5e5e5\" stroke=\"#e5e5e5\" transform=\"translate(0, 245) scale(0.75, 0.75)\"><path d=\"M11.434 22.035q1.132.242 1.765 1.008.64.766.64 1.89 0 1.727-1.187 2.672-1.187.946-3.375.946-.734 0-1.515-.149-.774-.14-1.602-.43V26.45q.656.383 1.438.578.78.196 1.632.196 1.485 0 2.258-.586.782-.586.782-1.703 0-1.032-.727-1.61-.719-.586-2.008-.586h-1.36v-1.297h1.423q1.164 0 1.78-.46.618-.47.618-1.344 0-.899-.64-1.375-.633-.485-1.82-.485-.65 0-1.391.141-.743.14-1.633.437V16.95q.898-.25 1.68-.375.788-.125 1.484-.125 1.797 0 2.844.82 1.046.813 1.046 2.204 0 .968-.554 1.64-.555.664-1.578.922z\" /></g><g fill=\"#e5e5e5\" stroke=\"#e5e5e5\" transform=\"translate(375, 245) scale(0.75, 0.75)\"><path d=\"M11.434 22.035q1.132.242 1.765 1.008.64.766.64 1.89 0 1.727-1.187 2.672-1.187.946-3.375.946-.734 0-1.515-.149-.774-.14-1.602-.43V26.45q.656.383 1.438.578.78.196 1.632.196 1.485 0 2.258-.586.782-.586.782-1.703 0-1.032-.727-1.61-.719-.586-2.008-.586h-1.36v-1.297h1.423q1.164 0 1.78-.46.618-.47.618-1.344 0-.899-.64-1.375-.633-.485-1.82-.485-.65 0-1.391.141-.743.14-1.633.437V16.95q.898-.25 1.68-.375.788-.125 1.484-.125 1.797 0 2.844.82 1.046.813 1.046 2.204 0 .968-.554 1.64-.555.664-1.578.922z\" /></g><g fill=\"#e5e5e5\" stroke=\"#e5e5e5\" transform=\"translate(0, 200) scale(0.75, 0.75)\"><path d=\"M11.016 18.035L7.03 24.262h3.985zm-.414-1.375h1.984v7.602h1.664v1.312h-1.664v2.75h-1.57v-2.75H5.75v-1.523z\" /></g><g fill=\"#e5e5e5\" stroke=\"#e5e5e5\" transform=\"translate(375, 200) scale(0.75, 0.75)\"><path d=\"M11.016 18.035L7.03 24.262h3.985zm-.414-1.375h1.984v7.602h1.664v1.312h-1.664v2.75h-1.57v-2.75H5.75v-1.523z\" /></g><g fill=\"#e5e5e5\" stroke=\"#e5e5e5\" transform=\"translate(0, 155) scale(0.75, 0.75)\"><path d=\"M6.719 16.66h6.195v1.328h-4.75v2.86q.344-.118.688-.172.343-.063.687-.063 1.953 0 3.094 1.07 1.14 1.07 1.14 2.899 0 1.883-1.171 2.93-1.172 1.039-3.305 1.039-.735 0-1.5-.125-.758-.125-1.57-.375v-1.586q.703.383 1.453.57.75.188 1.586.188 1.351 0 2.14-.711.79-.711.79-1.93 0-1.219-.79-1.93-.789-.71-2.14-.71-.633 0-1.266.14-.625.14-1.281.438z\" /></g><g fill=\"#e5e5e5\" stroke=\"#e5e5e5\" transform=\"translate(375, 155) scale(0.75, 0.75)\"><path d=\"M6.719 16.66h6.195v1.328h-4.75v2.86q.344-.118.688-.172.343-.063.687-.063 1.953 0 3.094 1.07 1.14 1.07 1.14 2.899 0 1.883-1.171 2.93-1.172 1.039-3.305 1.039-.735 0-1.5-.125-.758-.125-1.57-.375v-1.586q.703.383 1.453.57.75.188 1.586.188 1.351 0 2.14-.711.79-.711.79-1.93 0-1.219-.79-1.93-.789-.71-2.14-.71-.633 0-1.266.14-.625.14-1.281.438z\" /></g><g fill=\"#e5e5e5\" stroke=\"#e5e5e5\" transform=\"translate(0, 110) scale(0.75, 0.75)\"><path d=\"M10.137 21.863q-1.063 0-1.688.727-.617.726-.617 1.992 0 1.258.617 1.992.625.727 1.688.727 1.062 0 1.68-.727.624-.734.624-1.992 0-1.266-.625-1.992-.617-.727-1.68-.727zm3.133-4.945v1.437q-.594-.28-1.204-.43-.601-.148-1.195-.148-1.562 0-2.39 1.055-.82 1.055-.938 3.188.46-.68 1.156-1.04.696-.367 1.531-.367 1.758 0 2.774 1.07 1.023 1.063 1.023 2.899 0 1.797-1.062 2.883-1.063 1.086-2.828 1.086-2.024 0-3.094-1.547-1.07-1.555-1.07-4.5 0-2.766 1.312-4.406 1.313-1.649 3.524-1.649.593 0 1.195.117.61.118 1.266.352z\" /></g><g fill=\"#e5e5e5\" stroke=\"#e5e5e5\" transform=\"translate(375, 110) scale(0.75, 0.75)\"><path d=\"M10.137 21.863q-1.063 0-1.688.727-.617.726-.617 1.992 0 1.258.617 1.992.625.727 1.688.727 1.062 0 1.68-.727.624-.734.624-1.992 0-1.266-.625-1.992-.617-.727-1.68-.727zm3.133-4.945v1.437q-.594-.28-1.204-.43-.601-.148-1.195-.148-1.562 0-2.39 1.055-.82 1.055-.938 3.188.46-.68 1.156-1.04.696-.367 1.531-.367 1.758 0 2.774 1.07 1.023 1.063 1.023 2.899 0 1.797-1.062 2.883-1.063 1.086-2.828 1.086-2.024 0-3.094-1.547-1.07-1.555-1.07-4.5 0-2.766 1.312-4.406 1.313-1.649 3.524-1.649.593 0 1.195.117.61.118 1.266.352z\" /></g><g fill=\"#e5e5e5\" stroke=\"#e5e5e5\" transform=\"translate(0, 65) scale(0.75, 0.75)\"><path d=\"M6.25 16.66h7.5v.672L9.516 28.324H7.867l3.985-10.336H6.25z\" /></g><g fill=\"#e5e5e5\" stroke=\"#e5e5e5\" transform=\"translate(375, 65) scale(0.75, 0.75)\"><path d=\"M6.25 16.66h7.5v.672L9.516 28.324H7.867l3.985-10.336H6.25z\" /></g><g fill=\"#e5e5e5\" stroke=\"#e5e5e5\" transform=\"translate(0, 20) scale(0.75, 0.75)\"><path d=\"M10 22.785q-1.125 0-1.773.602-.641.601-.641 1.656t.64 1.656q.649.602 1.774.602t1.773-.602q.649-.61.649-1.656 0-1.055-.649-1.656-.64-.602-1.773-.602zm-1.578-.672q-1.016-.25-1.586-.945-.563-.695-.563-1.695 0-1.399.993-2.211 1-.813 2.734-.813 1.742 0 2.734.813.993.812.993 2.21 0 1-.57 1.696-.563.695-1.571.945 1.14.266 1.773 1.04.641.773.641 1.89 0 1.695-1.04 2.602-1.03.906-2.96.906t-2.969-.906Q6 26.738 6 25.043q0-1.117.64-1.89.641-.774 1.782-1.04zm-.578-2.492q0 .906.562 1.414.57.508 1.594.508 1.016 0 1.586-.508.578-.508.578-1.414 0-.906-.578-1.414-.57-.508-1.586-.508-1.023 0-1.594.508-.562.508-.562 1.414z\" /></g><g fill=\"#e5e5e5\" stroke=\"#e5e5e5\" transform=\"translate(375, 20) scale(0.75, 0.75)\"><path d=\"M10 22.785q-1.125 0-1.773.602-.641.601-.641 1.656t.64 1.656q.649.602 1.774.602t1.773-.602q.649-.61.649-1.656 0-1.055-.649-1.656-.64-.602-1.773-.602zm-1.578-.672q-1.016-.25-1.586-.945-.563-.695-.563-1.695 0-1.399.993-2.211 1-.813 2.734-.813 1.742 0 2.734.813.993.812.993 2.21 0 1-.57 1.696-.563.695-1.571.945 1.14.266 1.773 1.04.641.773.641 1.89 0 1.695-1.04 2.602-1.03.906-2.96.906t-2.969-.906Q6 26.738 6 25.043q0-1.117.64-1.89.641-.774 1.782-1.04zm-.578-2.492q0 .906.562 1.414.57.508 1.594.508 1.016 0 1.586-.508.578-.508.578-1.414 0-.906-.578-1.414-.57-.508-1.586-.508-1.023 0-1.594.508-.562.508-.562 1.414z\" /></g></svg>"
      ],
      "text/plain": [
       "Board('rnbqkbnr/pppppppp/8/8/8/8/PPPPPPPP/RNBQKBNR w KQkq - 0 1')"
      ]
     },
     "execution_count": 4,
     "metadata": {},
     "output_type": "execute_result"
    }
   ],
   "source": [
    "class Chess_Environment(gym.Env):\n",
    "    \"\"\"Chess Environment\"\"\"\n",
    "    def __init__(self):\n",
    "        self.board = chess.Board()\n",
    "        self.white_pieces = ['P', 'N', 'B', 'R', 'Q', 'K']\n",
    "        self.black_pieces = [piece.lower() for piece in self.white_pieces]\n",
    "        self.x_coords, self.y_coords = np.meshgrid(list(range(0, 8)), list(range(0, 8)))\n",
    "        self.x_coords = self.x_coords / 7\n",
    "        self.y_coords = self.y_coords / 7\n",
    "        self.state_size = self.observe()[0].shape\n",
    "        self.init_action_decoder()\n",
    "        self.whites_turn = True\n",
    "\n",
    "    def reset(self):\n",
    "        \"\"\"Resets the environment\"\"\"\n",
    "        self.board = chess.Board()\n",
    "        \n",
    "    def terminal_test(self):\n",
    "        \"\"\"Checks if the game is over\"\"\"\n",
    "        return self.board.is_game_over(claim_draw = True)\n",
    "    \n",
    "    def result(self):\n",
    "        \"\"\"Gives the end game result\"\"\"\n",
    "\n",
    "        result = self.board.result(claim_draw = True)\n",
    "        if result == '1-0':\n",
    "            return 1\n",
    "        elif result == '0-1':\n",
    "            return -1\n",
    "        elif result == '1/2-1/2':\n",
    "            return 0\n",
    "        elif result == '*':\n",
    "            return 0\n",
    "        else:\n",
    "            raise Exception('Invalid Result', result)\n",
    "        \n",
    "    def legal_actions(self):\n",
    "        \"\"\"Provides a list of legal actions in current state\"\"\"\n",
    "        legal_actions = [str(legal_action) for legal_action in list(self.board.legal_moves)]\n",
    "        return legal_actions\n",
    "    \n",
    "    def encode(self):\n",
    "        \"\"\"Encodes game state into a string\"\"\"\n",
    "        board_ = self.board.piece_map()\n",
    "            \n",
    "        encoded = {\n",
    "            'board' : board_,\n",
    "            'turn' : self.board.turn,\n",
    "            'legal_actions' : self.legal_actions()\n",
    "        }\n",
    "        \n",
    "        return pickle.dumps(encoded)\n",
    "    \n",
    "    def decode(self, encoded):\n",
    "        \"\"\"Decodes string into game state and sets board and turn\"\"\"\n",
    "        decoded = pickle.loads(encoded)\n",
    "        self.board.set_piece_map(decoded['board'])\n",
    "        if decoded['turn'] == False:\n",
    "            self.board = self.board.mirror()\n",
    "        self.board.turn = decoded['turn']\n",
    "\n",
    "    def observe(self):\n",
    "        \"\"\"Create observation from the game state\"\"\"\n",
    "\n",
    "        board_ = copy(self.board)\n",
    "            \n",
    "        board_ = np.ndarray.flatten(np.array(board_.__str__().split())).reshape(8, 8)\n",
    "        \n",
    "        black_pawns = np.isin(copy(board_), ['p']).astype(int)\n",
    "        black_knights = np.isin(copy(board_), ['n']).astype(int)\n",
    "        black_rooks = np.isin(copy(board_), ['r']).astype(int)\n",
    "        black_bishops = np.isin(copy(board_), ['b']).astype(int)\n",
    "        black_queen = np.isin(copy(board_), ['q']).astype(int)\n",
    "        black_king = np.isin(copy(board_), ['k']).astype(int)\n",
    "         \n",
    "        white_pawns = np.isin(copy(board_), ['P']).astype(int)\n",
    "        white_knights = np.isin(copy(board_), ['N']).astype(int)\n",
    "        white_rooks = np.isin(copy(board_), ['R']).astype(int)\n",
    "        white_bishops = np.isin(copy(board_), ['B']).astype(int)\n",
    "        white_queen = np.isin(copy(board_), ['Q']).astype(int)\n",
    "        white_king = np.isin(copy(board_), ['K']).astype(int)\n",
    "        \n",
    "        state = np.array([\n",
    "            white_pawns,\n",
    "            white_knights,\n",
    "            white_rooks,\n",
    "            white_bishops,\n",
    "            white_queen,\n",
    "            white_king,\n",
    "            black_pawns,\n",
    "            black_knights,\n",
    "            black_rooks,\n",
    "            black_bishops,\n",
    "            black_queen,\n",
    "            black_king\n",
    "        ])\n",
    "        \n",
    "        return state, self.legal_actions()\n",
    "    \n",
    "    def step(self, action):\n",
    "        \"\"\"Perform a step in the environment\"\"\"\n",
    "        try:\n",
    "            self.board.push_uci(action)\n",
    "        except ValueError:\n",
    "#             print(f\"INVALID ACTION {action}.\\nSELECTING A RANDOM ACTION FROM LEGAL ACTIONS\\n{self.legal_actions()}\")\n",
    "            actions = random.choices(self.legal_actions())\n",
    "            self.board.push_uci(actions[0])\n",
    "            \n",
    "        self.board = self.board.mirror()\n",
    "        if self.whites_turn:\n",
    "            self.whites_turn = False\n",
    "        else:\n",
    "            self.whites_turn = True\n",
    "        return self.observe()\n",
    "    \n",
    "    def move_board(self, move):\n",
    "        \"\"\"Moves the board positions as per the move\"\"\"\n",
    "\n",
    "        char_to_int = {'A': 1, 'B': 2, 'C': 3, 'D': 4, 'E': 5, 'F': 6, 'G': 7, 'H': 8} \n",
    "\n",
    "        int_to_char = {v: k for k, v in char_to_int.items()}\n",
    "\n",
    "        encoded_board = [(char_to_int[pos[0]], int(pos[1])) for pos in np.ndarray.flatten(BOARD)]\n",
    "\n",
    "        new_board = [tuple(map(sum, zip((char_to_int[pos[0]], int(pos[1])), move))) for pos in np.ndarray.flatten(BOARD)]\n",
    "        moves = []\n",
    "        for pos, new_pos in zip(np.ndarray.flatten(BOARD), new_board):\n",
    "            try:\n",
    "                if new_pos[1] > 8:\n",
    "                    raise Exception()\n",
    "                if move[2] is None:\n",
    "                    move_ = f'{pos}{int_to_char[new_pos[0]]}{new_pos[1]}'\n",
    "                else:\n",
    "                    move_ = f'{pos}{int_to_char[new_pos[0]]}{new_pos[1]}{move[2]}'\n",
    "            \n",
    "                if '-' in move_:\n",
    "                    raise Exception()\n",
    "            \n",
    "                if '0' in move_:\n",
    "                    raise Exception()\n",
    "                \n",
    "            except Exception:\n",
    "                move_ = 'XXXX'\n",
    "            moves.append(move_)   \n",
    "        return np.array(moves).reshape(8, 8)\n",
    "    \n",
    "    def init_action_decoder(self):\n",
    "        \"\"\"Initialize the decoder to decode the actions\"\"\"\n",
    "        decoder = []\n",
    "        for key in MOVES.keys():\n",
    "            decoder_ = self.move_board(MOVES[key])\n",
    "            decoder.append(decoder_)\n",
    "#             print(f'Move {key}\\n', new_board, '\\n')\n",
    "    \n",
    "        self.decoder = np.array(decoder)\n",
    "        self.action_size = self.decoder.shape\n",
    "        \n",
    "    def select_action(self, logits):\n",
    "        \"\"\"Decodes the output from the NN to legal actions\"\"\" \n",
    "        decoder_ = np.ndarray.flatten(self.decoder)\n",
    "        logits_ = np.ndarray.flatten(logits)\n",
    "\n",
    "        move_logits = [(decoder_[idx].lower(), logits_[idx]) for idx in range(len(logits_))]\n",
    "        move_logits = dict(move_logits)\n",
    "        \n",
    "        legal_move_logits = {legal_action: move_logits[legal_action] for legal_action in self.legal_actions()}\n",
    "        probabilities = list(legal_move_logits.values()) / sum(list(legal_move_logits.values()))\n",
    "\n",
    "        action = random.choices(list(legal_move_logits.keys()), weights = probabilities, k = 1)[0]\n",
    "        return action\n",
    "    \n",
    "    def render(self):\n",
    "        \"\"\"Render chess board\"\"\"\n",
    "        chess.svg.board(board = self.board)  \n",
    "\n",
    "env = Chess_Environment()\n",
    "env.board"
   ]
  },
  {
   "cell_type": "markdown",
   "metadata": {},
   "source": [
    "# REPLAY BUFFER"
   ]
  },
  {
   "cell_type": "code",
   "execution_count": 5,
   "metadata": {},
   "outputs": [],
   "source": [
    "class EpisodicReplayBuffer:\n",
    "    \"\"\"\n",
    "    Holds the agents episodes in memory\n",
    "    \"\"\"\n",
    "    def __init__(self, params):\n",
    "        self.capacity = params['capacity']\n",
    "        self.memory = deque(maxlen = self.capacity)\n",
    "        self.gamma = params['gamma']\n",
    "\n",
    "    def add(self, episodes):\n",
    "        \"\"\"\n",
    "        Stores the episodes in the replay buffer\n",
    "        \"\"\"\n",
    "        for episode in episodes:\n",
    "            if episode is not None:\n",
    "                self.memory.append(episode)\n",
    "                if len(self.memory) > self.capacity:\n",
    "                    self.memory.popleft() \n",
    "\n",
    "    def sample(self, sample_size):\n",
    "        \"\"\"\n",
    "        Return a sample of size of batch size as an experience tuple.\n",
    "        \"\"\"\n",
    "        if len(self.memory) == 0:\n",
    "            return None\n",
    "        if len(self.memory) >= sample_size:\n",
    "            batch = random.sample(self.memory, k = sample_size)\n",
    "        else:\n",
    "            batch = random.sample(self.memory, k = len(self.memory))\n",
    "#         state, actions, returns_, dones = zip(*batch)\n",
    "\n",
    "#         # Stacks the experiences \n",
    "#         # Get inputs into correct shape\n",
    "#         states = torch.tensor(state).float().to(self.device)\n",
    "# #         actions = torch.stack(actions).to(self.device)\n",
    "#         returns_ = torch.tensor(returns_).float().to(self.device)\n",
    "#         dones = torch.tensor(dones).float().to(self.device)\n",
    "       \n",
    "        # print(\"SAMPLE | STATES\", states.shape, \"ACTIONS\", actions.shape, \"P VECTORS\", portfolio_vectors.shape,\"NEXT STATES\", next_states.shape, \"REWARDS\", rewards.shape, \"DONES\", dones.shape)\n",
    "        \n",
    "        return batch\n",
    "\n",
    "    def reset_memory(self):\n",
    "        \"\"\"Resets the replay buffer\"\"\"\n",
    "        self.memory = deque(maxlen = self.capacity)\n"
   ]
  },
  {
   "cell_type": "markdown",
   "metadata": {},
   "source": [
    "# AI AGENT"
   ]
  },
  {
   "cell_type": "code",
   "execution_count": 6,
   "metadata": {
    "tags": []
   },
   "outputs": [],
   "source": [
    "class Agent:\n",
    "    \n",
    "    def __init__(self, decoder, action_size, vae, mdn, controller, test_mode = False, batch_size = 128, lr = 0.02, legal_multiplier = 3, save_freq = 8, train_times = 4, lambda_ = 0.9, gamma = 0.98):\n",
    "        self.batch_size = batch_size\n",
    "        self.action_size = action_size\n",
    "        self.trained_times = 0\n",
    "        self.train_times = train_times\n",
    "        self.lambda_ = lambda_\n",
    "        self.gamma = gamma\n",
    "        self.legal_multiplier = legal_multiplier # To increase the value of legal actions and MCTS insight as the target policy\n",
    "        self.decoder = decoder\n",
    "        self.save_freq = save_freq\n",
    "        if vae is not None:\n",
    "            self.vae = CNN_AE(vae, None, 'Latest')\n",
    "            self.vae.eval()\n",
    "        if mdn is not None:\n",
    "            self.mdn = MDN_RNN(mdn, None, 'Latest')\n",
    "            self.mdn.eval()\n",
    "            params = {\n",
    "                'hidden_size' : self.mdn.hidden_size,\n",
    "                'z_size' : self.vae.z_size,\n",
    "                'action_size' : action_size,\n",
    "                'expansion_size': 1200\n",
    "            }\n",
    "\n",
    "            if test_mode:\n",
    "                self.actor = Policy_Controller(controller, None, 'Latest')\n",
    "                self.critic = Value_Controller(controller, None, 'Latest')\n",
    "            else:\n",
    "                self.actor = Policy_Controller(controller, params, False)\n",
    "                self.critic = Value_Controller(controller, params, False)\n",
    "                self.actor.save_model(0)\n",
    "                self.critic.save_model(0)\n",
    "        \n",
    "            self.actor_optimizer = Adam(self.actor.parameters(), lr = lr)\n",
    "            self.critic_optimizer = Adam(self.critic.parameters(), lr = lr)\n",
    "        \n",
    "        self.char_to_int = {'a': 1, 'b': 2, 'c': 3, 'd': 4, 'e': 5, 'f': 6, 'g': 7, 'h': 8} \n",
    "        self.char_to_int_promo = {'r': 1, 'b': 2, 'q': 3, 'k': 4, 'n': 5, '': 6} \n",
    "        \n",
    "        moves_df = pd.DataFrame(list(zip(self.char_to_int.values(), self.char_to_int.keys())), columns = ['Ids', 'Labels'])\n",
    "        promo_df = pd.DataFrame(list(zip(self.char_to_int_promo.values(), self.char_to_int_promo.keys())), columns = ['Ids', 'Labels'])\n",
    "        self.move_actions_ohe = pd.get_dummies(moves_df['Ids'])\n",
    "        self.promo_actions_ohe = pd.get_dummies(promo_df['Ids'])\n",
    "        \n",
    "        self.criterion_pi = nn.NLLLoss()\n",
    "        self.criterion_v = nn.SmoothL1Loss()\n",
    "    \n",
    "    def select_action(self, logits, legal_actions):\n",
    "        \"\"\"Decodes the output from the NN to legal actions\"\"\" \n",
    "        decoder_ = np.ndarray.flatten(self.decoder)\n",
    "        logits_ = np.ndarray.flatten(logits)\n",
    "\n",
    "        move_logits = [(decoder_[idx].lower(), logits_[idx]) for idx in range(len(logits_))]\n",
    "        move_logits = dict(move_logits)\n",
    "        \n",
    "        legal_move_logits = {legal_action: move_logits[legal_action] for legal_action in legal_actions}\n",
    "        probabilities = list(legal_move_logits.values()) / sum(list(legal_move_logits.values()))\n",
    "        \n",
    "        legal_actions = list(legal_move_logits.keys())\n",
    "        action = random.choices(list(legal_move_logits.keys()), weights = probabilities, k = 1)[0]\n",
    "        \n",
    "        action_probabilities = {legal_actions[idx] : probabilities[idx] for idx in range(len(legal_actions))}\n",
    "        return action, action_probabilities\n",
    "    \n",
    "    def one_hot_encode_action(self, action):\n",
    "        \"\"\"One hot encodes the action\"\"\"\n",
    "        if len(action) == 4:\n",
    "            encoded_action = [\n",
    "                self.move_actions_ohe.loc[\n",
    "                self.char_to_int[action[0]] - 1].values, \n",
    "                self.move_actions_ohe.loc[int(action[1]) - 1].values, \n",
    "                self.move_actions_ohe.loc[self.char_to_int[action[2]] - 1].values, \n",
    "                self.move_actions_ohe.loc[int(action[3]) - 1].values,\n",
    "                self.promo_actions_ohe.loc[self.char_to_int_promo[''] - 1].values\n",
    "            ]\n",
    "        else:\n",
    "            encoded_action = [\n",
    "                self.move_actions_ohe.loc[\n",
    "                self.char_to_int[action[0]] - 1].values, \n",
    "                self.move_actions_ohe.loc[int(action[1]) - 1].values, \n",
    "                self.move_actions_ohe.loc[self.char_to_int[action[2]] - 1].values, \n",
    "                self.move_actions_ohe.loc[int(action[3]) - 1].values,\n",
    "                self.promo_actions_ohe.loc[self.char_to_int_promo[action[4]] - 1].values\n",
    "            ]\n",
    "        ohe_action = np.concatenate(encoded_action)\n",
    "        return ohe_action\n",
    "    \n",
    "    def reset(self, batch_size):\n",
    "        \"\"\"Resets the MDNs hidden state\"\"\"\n",
    "        self.hidden = self.mdn.init_hidden(batch_size)\n",
    "        self.hidden = (self.hidden[0].detach().to('cpu'), self.hidden[1].detach().to('cpu'))\n",
    "        \n",
    "    def act(self, state, legal_actions):\n",
    "        \"\"\"Gets an action from the agent\"\"\"\n",
    "        state = torch.tensor(state).float().unsqueeze(0)\n",
    "        z = self.vae.encode(state)\n",
    "    \n",
    "        zh = torch.cat((z.to('cpu'), self.hidden[0].squeeze(0).to('cpu')), dim = 1)\n",
    "        if zh.shape[0] > 1:\n",
    "            raise Exception('Batch size > 1 not handled')\n",
    "            \n",
    "        logits = self.actor(zh)\n",
    "        values = self.critic(zh)\n",
    "        logits, value = logits.detach().squeeze(0).cpu().numpy(), values.detach().squeeze(0).cpu().numpy()[0]\n",
    "        action, action_probabilities = self.select_action(logits, legal_actions)\n",
    "        \n",
    "        return action_probabilities, value, z\n",
    "    \n",
    "    def encode_z(self, state):\n",
    "        \"\"\"Encodes the state using the autoencoder\"\"\"\n",
    "        state = torch.tensor(state).float().unsqueeze(0)\n",
    "        return self.vae.encode(state)\n",
    "    \n",
    "    def train(self, episodes):\n",
    "        \"\"\"Trains the controller from the MCTS experiences\"\"\"\n",
    "        all_zh = []\n",
    "        all_returns = []\n",
    "        all_mcts_action_probs = []\n",
    "        all_mean_qs = []\n",
    "#         batches = [experiences[i : i + self.batch_size] for i in range(0, len(experiences), self.batch_size)]\n",
    "        for idx, episode in enumerate(episodes):\n",
    "            zh, mcts_action_probs, rewards, masks, mean_qs = zip(*episode)\n",
    "            \n",
    "            zh_ = torch.tensor(zh).float().unsqueeze(1)\n",
    "            values = self.critic(zh_.to(self.critic.device))\n",
    "            \n",
    "            # Calculate GAE\n",
    "            returns = []\n",
    "            values_ = list(values.view(-1).detach().cpu().numpy())\n",
    "            gae = 0\n",
    "\n",
    "            for i in reversed(range(len(rewards))):\n",
    "                if i == len(rewards) - 1:\n",
    "                    delta = rewards[i] - values[i]\n",
    "                else:\n",
    "                    delta = rewards[i] + self.gamma * values[i + 1] * masks[i] - values[i]\n",
    "                gae = delta + self.gamma * self.lambda_ * masks[i] * gae\n",
    "                returns.insert(0, gae + values[i])\n",
    "            all_returns.extend(returns)\n",
    "            all_zh.extend(list(zh))\n",
    "            all_mcts_action_probs.extend([x for x in mcts_action_probs])\n",
    "            all_mean_qs.extend(mean_qs)\n",
    "            \n",
    "#         all_returns = [item for sublist in all_returns for item in sublist]\n",
    "#         all_zh = [item for sublist in all_zh for item in sublist]\n",
    "#         all_mcts_action_probs = [item for sublist in all_mcts_action_probs for item in sublist]\n",
    "        \n",
    "        # Trains on random experiences to decoralate the information\n",
    "        idxs = random.choices(range(len(all_zh)), k = self.batch_size)\n",
    "        mcts_action_probs = [all_mcts_action_probs[idx] for idx in idxs]\n",
    "        returns = torch.stack([torch.tensor(all_returns[idx]).float() for idx in idxs]).to(self.critic.device)\n",
    "        mean_qs = torch.stack([torch.tensor(all_mean_qs[idx]).float() for idx in idxs]).to(self.critic.device)\n",
    "        actor_zh = torch.stack([torch.tensor(all_zh[idx]).float() for idx in idxs]).to(self.actor.device)\n",
    "        critic_zh = actor_zh.clone().to(self.critic.device)\n",
    "        \n",
    "        logits = self.actor(actor_zh)\n",
    "        values = self.critic(critic_zh)\n",
    "                              \n",
    "        self.actor_optimizer.zero_grad()\n",
    "        self.critic_optimizer.zero_grad()\n",
    "#             print(zh.is_cuda, type(zh))\n",
    "        improvement_estimate = self.improvement_estimate(logits, mcts_action_probs)\n",
    "        epsilon = 1e-7\n",
    "#             print(logits.shape, torch.log(logits + epsilon))\n",
    "#             print(improvement_estimate.shape, improvement_estimate)\n",
    "            \n",
    "        actor_losses = -improvement_estimate * torch.log(logits + epsilon)\n",
    "        \n",
    "        # Averages the values of the GAE return and MCTS Q values for the state\n",
    "        critic_losses = (((returns.view(-1) + mean_qs.view(-1)) / 2) - values.view(-1)).pow(2)\n",
    "            \n",
    "#             print(actor_losses)\n",
    "#             print(\"IMP EST\", improvement_estimate.shape, \"LOGITS\", logits.shape, \"ACTOR LOSS\", actor_losses.shape)\n",
    "#             print(\"RETURNS\", returns.view(-1).shape, \"VALUES\", values.view(-1).shape, \"CRITIC LOSS\", critic_losses.shape)\n",
    "\n",
    "            \n",
    "#             for idx in range(logits.shape[0]):\n",
    "#                 advantage = returns[idx] - values[idx]\n",
    "#                 # converts logits to action probabilities\n",
    "# #                 print(values[idx].squeeze(0).shape, returns[idx].shape)\n",
    "# #                 print(values[idx].squeeze(0), returns[idx])\n",
    "#                 policy_losses.append(-F.softmax(logits[idx], dim = 0) * advantage)\n",
    "#                 value_losses.append(F.smooth_l1_loss(values[idx].squeeze(0), returns[idx]))\n",
    "            \n",
    "            # sum up all the values of policy_losses and value_losses\n",
    "        actor_loss = actor_losses.sum()\n",
    "#             critic_loss = critic_losses.sum()\n",
    "        critic_loss = critic_losses.sum()\n",
    "            \n",
    "#             writer.add_scalar('policy_loss', policy_loss, writer.games)\n",
    "#             writer.add_scalar('value_loss_loss', value_loss, writer.games)\n",
    "#             loss = policy_loss + value_loss\n",
    "            \n",
    "        print(f'{self.trained_times} ACTOR LOSS {actor_loss.item()} | CRITIC LOSS {critic_loss.item()}')\n",
    "        actor_loss.backward()\n",
    "        self.actor_optimizer.step()\n",
    "        critic_loss.backward()\n",
    "        self.critic_optimizer.step()\n",
    "#         if self.trained_times % self.save_freq == 0:\n",
    "#             print(\"SAVING\")\n",
    "#             self.actor.save_model(self.trained_times)\n",
    "#             self.critic.save_model(self.trained_times)\n",
    "        self.trained_times += 1\n",
    "        \n",
    "    def load_hidden(self, hidden):\n",
    "        \"\"\"Loads the hidden state to the MDN RNN\"\"\"\n",
    "        self.hidden = deepcopy(hidden)\n",
    "        \n",
    "    def get_hidden(self):\n",
    "        \"\"\"Gets the hidden state from the MDN RNN\"\"\"\n",
    "        return deepcopy(self.hidden)\n",
    "    \n",
    "    def random_controller(self): \n",
    "        \"\"\"Updates the controller from a randomly selected save file\"\"\"\n",
    "        path = f'checkpoints_/{self.actor.type}/{self.actor.name}/'\n",
    "        list_of_files = [x for x in os.listdir(path) if '.pth' in x]\n",
    "        file_name = random.choice(list_of_files)\n",
    "        print(f'Loading Random Controllers {file_name}')\n",
    "        \n",
    "        self.actor.load_model(file_name)\n",
    "        self.critic.load_model(file_name)\n",
    "        \n",
    "    def step(self, z, action):\n",
    "        \"\"\"Updates the hidden state of the MDN-RNN\"\"\"\n",
    "        z.squeeze_(-1)\n",
    "        ohe_action = self.one_hot_encode_action(action)\n",
    "        za = torch.cat((z.to('cpu'), torch.tensor(ohe_action).float().to('cpu').unsqueeze(0)), dim = 1)\n",
    "        _, self.hidden = self.mdn(za.unsqueeze(1), self.hidden)\n",
    "        self.hidden = (self.hidden[0].detach().to('cpu'), self.hidden[1].detach().to('cpu'))\n",
    "        \n",
    "                \n",
    "    def improvement_estimate(self, logits, legal_move_logits):\n",
    "        \"\"\"Create an improvement estimate by layering the insights from MCTS\"\"\"\n",
    "        new_boards__ = [[x.lower() for x in list(np.ndarray.flatten(self.decoder))] for _ in range(logits.shape[0])]\n",
    "        improve_est = []\n",
    "        for idx in range(logits.shape[0]):\n",
    "            new_boards___ = new_boards__[idx]\n",
    "            improve_est__ = logits[idx].clone().view(-1)\n",
    "            improve_est__.data.fill_(0)\n",
    "            legal_move_logits__ = {k.lower(): v * self.legal_multiplier for k, v in legal_move_logits[idx].items()}\n",
    "            for move, legal_move_logit in legal_move_logits__.items():\n",
    "                index = new_boards___.index(move)\n",
    "                improve_est__[index] += legal_move_logit\n",
    "            improve_est.append(improve_est__.reshape(76, 8, 8))\n",
    "        return torch.stack(improve_est)"
   ]
  },
  {
   "cell_type": "markdown",
   "metadata": {},
   "source": [
    "# ALPHAZERO COACH"
   ]
  },
  {
   "cell_type": "code",
   "execution_count": null,
   "metadata": {
    "scrolled": true
   },
   "outputs": [
    {
     "name": "stdout",
     "output_type": "stream",
     "text": [
      "\n",
      "AI Running on cpu\n",
      "\n",
      "WARNING OVERRIDDING GPU TO RUN ON CPU\n",
      "CNN_AE(\n",
      "  (encoder): Sequential(\n",
      "    (0): Conv(\n",
      "      (conv): Conv2d(12, 32, kernel_size=(1, 1), stride=(1, 1), bias=False)\n",
      "      (bn): BatchNorm2d(32, eps=0.001, momentum=0.1, affine=True, track_running_stats=True)\n",
      "      (activation): ReLU()\n",
      "    )\n",
      "    (1): Conv(\n",
      "      (conv): Conv2d(32, 64, kernel_size=(3, 3), stride=(1, 1), bias=False)\n",
      "      (bn): BatchNorm2d(64, eps=0.001, momentum=0.1, affine=True, track_running_stats=True)\n",
      "      (activation): ReLU()\n",
      "    )\n",
      "    (2): Conv(\n",
      "      (conv): Conv2d(64, 128, kernel_size=(3, 3), stride=(1, 1), bias=False)\n",
      "      (bn): BatchNorm2d(128, eps=0.001, momentum=0.1, affine=True, track_running_stats=True)\n",
      "      (activation): ReLU()\n",
      "    )\n",
      "    (3): Conv(\n",
      "      (conv): Conv2d(128, 256, kernel_size=(3, 3), stride=(1, 1), bias=False)\n",
      "      (bn): BatchNorm2d(256, eps=0.001, momentum=0.1, affine=True, track_running_stats=True)\n",
      "      (activation): ReLU()\n",
      "    )\n",
      "    (4): Conv(\n",
      "      (conv): Conv2d(256, 512, kernel_size=(2, 2), stride=(1, 1), bias=False)\n",
      "      (bn): BatchNorm2d(512, eps=0.001, momentum=0.1, affine=True, track_running_stats=True)\n",
      "      (activation): ReLU()\n",
      "    )\n",
      "  )\n",
      "  (enc_linear): Linear(in_features=512, out_features=300, bias=True)\n",
      "  (dec_linear): Linear(in_features=300, out_features=512, bias=True)\n",
      "  (decoder): Sequential(\n",
      "    (0): Conv(\n",
      "      (conv): ConvTranspose2d(512, 256, kernel_size=(2, 2), stride=(1, 1), bias=False)\n",
      "      (bn): BatchNorm2d(256, eps=0.001, momentum=0.1, affine=True, track_running_stats=True)\n",
      "      (activation): ReLU()\n",
      "    )\n",
      "    (1): Conv(\n",
      "      (conv): ConvTranspose2d(256, 128, kernel_size=(3, 3), stride=(1, 1), bias=False)\n",
      "      (bn): BatchNorm2d(128, eps=0.001, momentum=0.1, affine=True, track_running_stats=True)\n",
      "      (activation): ReLU()\n",
      "    )\n",
      "    (2): Conv(\n",
      "      (conv): ConvTranspose2d(128, 64, kernel_size=(3, 3), stride=(1, 1), bias=False)\n",
      "      (bn): BatchNorm2d(64, eps=0.001, momentum=0.1, affine=True, track_running_stats=True)\n",
      "      (activation): ReLU()\n",
      "    )\n",
      "    (3): Conv(\n",
      "      (conv): ConvTranspose2d(64, 32, kernel_size=(3, 3), stride=(1, 1), bias=False)\n",
      "      (bn): BatchNorm2d(32, eps=0.001, momentum=0.1, affine=True, track_running_stats=True)\n",
      "      (activation): ReLU()\n",
      "    )\n",
      "    (4): Conv(\n",
      "      (conv): ConvTranspose2d(32, 12, kernel_size=(1, 1), stride=(1, 1), bias=False)\n",
      "      (activation): Sigmoid()\n",
      "    )\n",
      "  )\n",
      ") \n",
      "\n",
      "\n",
      "\n",
      "AI Running on cpu\n",
      "\n",
      "WARNING OVERRIDDING GPU TO RUN ON CPU\n",
      "MDN_RNN(\n",
      "  (lstm): LSTM(338, 150, batch_first=True)\n",
      "  (fc1): Linear(in_features=150, out_features=900, bias=True)\n",
      "  (fc2): Linear(in_features=150, out_features=900, bias=True)\n",
      "  (fc3): Linear(in_features=150, out_features=900, bias=True)\n",
      ") \n",
      "\n",
      "\n",
      "\n",
      "AI Running on cpu\n",
      "\n",
      "WARNING OVERRIDDING GPU TO RUN ON CPU\n",
      "Policy_Controller(\n",
      "  (fc1): Sequential(\n",
      "    (0): Linear(in_features=450, out_features=1200, bias=True)\n",
      "    (1): ReLU()\n",
      "  )\n",
      "  (fc2): Sequential(\n",
      "    (0): Linear(in_features=1200, out_features=512, bias=True)\n",
      "    (1): ReLU()\n",
      "  )\n",
      "  (fc3): Sequential(\n",
      "    (0): Linear(in_features=512, out_features=256, bias=True)\n",
      "    (1): ReLU()\n",
      "  )\n",
      "  (decoder): Sequential(\n",
      "    (0): Conv(\n",
      "      (conv): ConvTranspose2d(256, 256, kernel_size=(3, 3), stride=(1, 1), bias=False)\n",
      "      (bn): BatchNorm2d(256, eps=0.001, momentum=0.1, affine=True, track_running_stats=True)\n",
      "      (activation): ReLU()\n",
      "    )\n",
      "    (1): Conv(\n",
      "      (conv): ConvTranspose2d(256, 128, kernel_size=(3, 3), stride=(1, 1), bias=False)\n",
      "      (bn): BatchNorm2d(128, eps=0.001, momentum=0.1, affine=True, track_running_stats=True)\n",
      "      (activation): ReLU()\n",
      "    )\n",
      "    (2): Conv(\n",
      "      (conv): ConvTranspose2d(128, 64, kernel_size=(3, 3), stride=(1, 1), bias=False)\n",
      "      (bn): BatchNorm2d(64, eps=0.001, momentum=0.1, affine=True, track_running_stats=True)\n",
      "      (activation): ReLU()\n",
      "    )\n",
      "    (3): Conv(\n",
      "      (conv): ConvTranspose2d(64, 76, kernel_size=(2, 2), stride=(1, 1), bias=False)\n",
      "      (bn): BatchNorm2d(76, eps=0.001, momentum=0.1, affine=True, track_running_stats=True)\n",
      "      (activation): ReLU()\n",
      "    )\n",
      "  )\n",
      ") \n",
      "\n",
      "\n",
      "\n",
      "AI Running on cpu\n",
      "\n",
      "WARNING OVERRIDDING GPU TO RUN ON CPU\n",
      "Value_Controller(\n",
      "  (fc1): Sequential(\n",
      "    (0): Linear(in_features=450, out_features=100, bias=True)\n",
      "    (1): ReLU()\n",
      "  )\n",
      "  (fc2): Sequential(\n",
      "    (0): Linear(in_features=100, out_features=20, bias=True)\n",
      "    (1): ReLU()\n",
      "  )\n",
      "  (fc3): Sequential(\n",
      "    (0): Linear(in_features=20, out_features=1, bias=True)\n",
      "  )\n",
      ") \n",
      "\n",
      "\n",
      "LEARNING\n",
      "\u001b[2m\u001b[36m(pid=62079)\u001b[0m Playing against self\n",
      "\u001b[2m\u001b[36m(pid=62079)\u001b[0m Episode 1\n",
      "\u001b[2m\u001b[36m(pid=62070)\u001b[0m Playing against self\n",
      "\u001b[2m\u001b[36m(pid=62070)\u001b[0m Episode 1\n",
      "\u001b[2m\u001b[36m(pid=62076)\u001b[0m Playing against self\n",
      "\u001b[2m\u001b[36m(pid=62076)\u001b[0m Episode 1\n",
      "\u001b[2m\u001b[36m(pid=62064)\u001b[0m Playing against self\n",
      "\u001b[2m\u001b[36m(pid=62064)\u001b[0m Episode 1\n",
      "\u001b[2m\u001b[36m(pid=62074)\u001b[0m Playing against self\n",
      "\u001b[2m\u001b[36m(pid=62074)\u001b[0m Episode 1\n",
      "\u001b[2m\u001b[36m(pid=62067)\u001b[0m Playing against self\n",
      "\u001b[2m\u001b[36m(pid=62067)\u001b[0m Episode 1\n",
      "\u001b[2m\u001b[36m(pid=62075)\u001b[0m Playing against self\n",
      "\u001b[2m\u001b[36m(pid=62075)\u001b[0m Episode 1\n",
      "\u001b[2m\u001b[36m(pid=62066)\u001b[0m Playing against self\n",
      "\u001b[2m\u001b[36m(pid=62066)\u001b[0m Episode 1\n",
      "\u001b[2m\u001b[36m(pid=62072)\u001b[0m Playing against self\n",
      "\u001b[2m\u001b[36m(pid=62072)\u001b[0m Episode 1\n",
      "\u001b[2m\u001b[36m(pid=62069)\u001b[0m Playing against self\n",
      "\u001b[2m\u001b[36m(pid=62069)\u001b[0m Episode 1\n",
      "\u001b[2m\u001b[36m(pid=62063)\u001b[0m Playing against self\n",
      "\u001b[2m\u001b[36m(pid=62063)\u001b[0m Episode 1\n"
     ]
    },
    {
     "name": "stderr",
     "output_type": "stream",
     "text": [
      "\u001b[2m\u001b[36m(pid=62079)\u001b[0m /home/ec2-user/.local/lib/python3.6/site-packages/ray/workers/default_worker.py:58: RuntimeWarning: invalid value encountered in true_divide\n",
      "\u001b[2m\u001b[36m(pid=62079)\u001b[0m   type=str,\n"
     ]
    },
    {
     "name": "stdout",
     "output_type": "stream",
     "text": [
      "\u001b[2m\u001b[36m(pid=62065)\u001b[0m Playing against self\n",
      "\u001b[2m\u001b[36m(pid=62065)\u001b[0m Episode 1\n",
      "\u001b[2m\u001b[36m(pid=62071)\u001b[0m Playing against self\n",
      "\u001b[2m\u001b[36m(pid=62071)\u001b[0m Episode 1\n",
      "\u001b[2m\u001b[36m(pid=62077)\u001b[0m Playing against self\n",
      "\u001b[2m\u001b[36m(pid=62077)\u001b[0m Episode 1\n",
      "\u001b[2m\u001b[36m(pid=62073)\u001b[0m Playing against self\n",
      "\u001b[2m\u001b[36m(pid=62073)\u001b[0m Episode 1\n"
     ]
    },
    {
     "name": "stderr",
     "output_type": "stream",
     "text": [
      "\u001b[2m\u001b[36m(pid=62067)\u001b[0m /home/ec2-user/.local/lib/python3.6/site-packages/ray/workers/default_worker.py:58: RuntimeWarning: invalid value encountered in true_divide\n",
      "\u001b[2m\u001b[36m(pid=62067)\u001b[0m   type=str,\n"
     ]
    },
    {
     "name": "stdout",
     "output_type": "stream",
     "text": [
      "\u001b[2m\u001b[36m(pid=62068)\u001b[0m Playing against self\n",
      "\u001b[2m\u001b[36m(pid=62068)\u001b[0m Episode 1\n"
     ]
    },
    {
     "name": "stderr",
     "output_type": "stream",
     "text": [
      "\u001b[2m\u001b[36m(pid=62072)\u001b[0m /home/ec2-user/.local/lib/python3.6/site-packages/ray/workers/default_worker.py:58: RuntimeWarning: invalid value encountered in true_divide\n",
      "\u001b[2m\u001b[36m(pid=62072)\u001b[0m   type=str,\n",
      "\u001b[2m\u001b[36m(pid=62076)\u001b[0m /home/ec2-user/.local/lib/python3.6/site-packages/ray/workers/default_worker.py:58: RuntimeWarning: invalid value encountered in true_divide\n",
      "\u001b[2m\u001b[36m(pid=62076)\u001b[0m   type=str,\n",
      "\u001b[2m\u001b[36m(pid=62075)\u001b[0m /home/ec2-user/.local/lib/python3.6/site-packages/ray/workers/default_worker.py:58: RuntimeWarning: invalid value encountered in true_divide\n",
      "\u001b[2m\u001b[36m(pid=62075)\u001b[0m   type=str,\n",
      "\u001b[2m\u001b[36m(pid=62069)\u001b[0m /home/ec2-user/.local/lib/python3.6/site-packages/ray/workers/default_worker.py:58: RuntimeWarning: invalid value encountered in true_divide\n",
      "\u001b[2m\u001b[36m(pid=62069)\u001b[0m   type=str,\n",
      "\u001b[2m\u001b[36m(pid=62070)\u001b[0m /home/ec2-user/.local/lib/python3.6/site-packages/ray/workers/default_worker.py:58: RuntimeWarning: invalid value encountered in true_divide\n",
      "\u001b[2m\u001b[36m(pid=62070)\u001b[0m   type=str,\n",
      "\u001b[2m\u001b[36m(pid=62071)\u001b[0m /home/ec2-user/.local/lib/python3.6/site-packages/ray/workers/default_worker.py:58: RuntimeWarning: invalid value encountered in true_divide\n",
      "\u001b[2m\u001b[36m(pid=62071)\u001b[0m   type=str,\n",
      "\u001b[2m\u001b[36m(pid=62068)\u001b[0m /home/ec2-user/.local/lib/python3.6/site-packages/ray/workers/default_worker.py:58: RuntimeWarning: invalid value encountered in true_divide\n",
      "\u001b[2m\u001b[36m(pid=62068)\u001b[0m   type=str,\n",
      "\u001b[2m\u001b[36m(pid=62063)\u001b[0m /home/ec2-user/.local/lib/python3.6/site-packages/ray/workers/default_worker.py:58: RuntimeWarning: invalid value encountered in true_divide\n",
      "\u001b[2m\u001b[36m(pid=62063)\u001b[0m   type=str,\n",
      "\u001b[2m\u001b[36m(pid=62066)\u001b[0m /home/ec2-user/.local/lib/python3.6/site-packages/ray/workers/default_worker.py:58: RuntimeWarning: invalid value encountered in true_divide\n",
      "\u001b[2m\u001b[36m(pid=62066)\u001b[0m   type=str,\n"
     ]
    },
    {
     "name": "stdout",
     "output_type": "stream",
     "text": [
      "\u001b[2m\u001b[36m(pid=62068)\u001b[0m White Won\n",
      "\u001b[2m\u001b[36m(pid=62068)\u001b[0m Episode 2\n"
     ]
    },
    {
     "name": "stderr",
     "output_type": "stream",
     "text": [
      "\u001b[2m\u001b[36m(pid=62073)\u001b[0m /home/ec2-user/.local/lib/python3.6/site-packages/ray/workers/default_worker.py:58: RuntimeWarning: invalid value encountered in true_divide\n",
      "\u001b[2m\u001b[36m(pid=62073)\u001b[0m   type=str,\n",
      "\u001b[2m\u001b[36m(pid=62077)\u001b[0m /home/ec2-user/.local/lib/python3.6/site-packages/ray/workers/default_worker.py:58: RuntimeWarning: invalid value encountered in true_divide\n",
      "\u001b[2m\u001b[36m(pid=62077)\u001b[0m   type=str,\n",
      "\u001b[2m\u001b[36m(pid=62074)\u001b[0m /home/ec2-user/.local/lib/python3.6/site-packages/ray/workers/default_worker.py:58: RuntimeWarning: invalid value encountered in true_divide\n",
      "\u001b[2m\u001b[36m(pid=62074)\u001b[0m   type=str,\n",
      "\u001b[2m\u001b[36m(pid=62065)\u001b[0m /home/ec2-user/.local/lib/python3.6/site-packages/ray/workers/default_worker.py:58: RuntimeWarning: invalid value encountered in true_divide\n",
      "\u001b[2m\u001b[36m(pid=62065)\u001b[0m   type=str,\n",
      "\u001b[2m\u001b[36m(pid=62064)\u001b[0m /home/ec2-user/.local/lib/python3.6/site-packages/ray/workers/default_worker.py:58: RuntimeWarning: invalid value encountered in true_divide\n",
      "\u001b[2m\u001b[36m(pid=62064)\u001b[0m   type=str,\n"
     ]
    },
    {
     "name": "stdout",
     "output_type": "stream",
     "text": [
      "\u001b[2m\u001b[36m(pid=62070)\u001b[0m Draw\n",
      "\u001b[2m\u001b[36m(pid=62070)\u001b[0m WARNING DELETING EXPERIENCES\n",
      "\u001b[2m\u001b[36m(pid=62070)\u001b[0m Episode 2\n",
      "\u001b[2m\u001b[36m(pid=62067)\u001b[0m Draw\n",
      "\u001b[2m\u001b[36m(pid=62067)\u001b[0m WARNING DELETING EXPERIENCES\n",
      "\u001b[2m\u001b[36m(pid=62067)\u001b[0m Episode 2\n",
      "\u001b[2m\u001b[36m(pid=62072)\u001b[0m Draw\n",
      "\u001b[2m\u001b[36m(pid=62072)\u001b[0m WARNING DELETING EXPERIENCES\n",
      "\u001b[2m\u001b[36m(pid=62072)\u001b[0m Episode 2\n",
      "\u001b[2m\u001b[36m(pid=62065)\u001b[0m Draw\n",
      "\u001b[2m\u001b[36m(pid=62065)\u001b[0m WARNING DELETING EXPERIENCES\n",
      "\u001b[2m\u001b[36m(pid=62065)\u001b[0m Episode 2\n",
      "\u001b[2m\u001b[36m(pid=62063)\u001b[0m Draw\n",
      "\u001b[2m\u001b[36m(pid=62063)\u001b[0m WARNING DELETING EXPERIENCES\n",
      "\u001b[2m\u001b[36m(pid=62063)\u001b[0m Episode 2\n",
      "\u001b[2m\u001b[36m(pid=62065)\u001b[0m White Won\n",
      "\u001b[2m\u001b[36m(pid=62065)\u001b[0m Episode 3\n",
      "\u001b[2m\u001b[36m(pid=62071)\u001b[0m Draw\n",
      "\u001b[2m\u001b[36m(pid=62071)\u001b[0m WARNING DELETING EXPERIENCES\n",
      "\u001b[2m\u001b[36m(pid=62071)\u001b[0m Episode 2\n",
      "\u001b[2m\u001b[36m(pid=62064)\u001b[0m Draw\n",
      "\u001b[2m\u001b[36m(pid=62064)\u001b[0m WARNING DELETING EXPERIENCES\n",
      "\u001b[2m\u001b[36m(pid=62064)\u001b[0m Episode 2\n",
      "\u001b[2m\u001b[36m(pid=62076)\u001b[0m White Won\n",
      "\u001b[2m\u001b[36m(pid=62076)\u001b[0m Episode 2\n",
      "\u001b[2m\u001b[36m(pid=62075)\u001b[0m Draw\n",
      "\u001b[2m\u001b[36m(pid=62075)\u001b[0m WARNING DELETING EXPERIENCES\n",
      "\u001b[2m\u001b[36m(pid=62075)\u001b[0m Episode 2\n",
      "\u001b[2m\u001b[36m(pid=62079)\u001b[0m Draw\n",
      "\u001b[2m\u001b[36m(pid=62079)\u001b[0m WARNING DELETING EXPERIENCES\n",
      "\u001b[2m\u001b[36m(pid=62079)\u001b[0m Episode 2\n",
      "\u001b[2m\u001b[36m(pid=62067)\u001b[0m Draw\n",
      "\u001b[2m\u001b[36m(pid=62067)\u001b[0m WARNING DELETING EXPERIENCES\n",
      "\u001b[2m\u001b[36m(pid=62067)\u001b[0m Episode 3\n",
      "\u001b[2m\u001b[36m(pid=62074)\u001b[0m Draw\n",
      "\u001b[2m\u001b[36m(pid=62074)\u001b[0m WARNING DELETING EXPERIENCES\n",
      "\u001b[2m\u001b[36m(pid=62074)\u001b[0m Episode 2\n",
      "\u001b[2m\u001b[36m(pid=62066)\u001b[0m Draw\n",
      "\u001b[2m\u001b[36m(pid=62066)\u001b[0m WARNING DELETING EXPERIENCES\n",
      "\u001b[2m\u001b[36m(pid=62066)\u001b[0m Episode 2\n",
      "\u001b[2m\u001b[36m(pid=62073)\u001b[0m Draw\n",
      "\u001b[2m\u001b[36m(pid=62073)\u001b[0m WARNING DELETING EXPERIENCES\n",
      "\u001b[2m\u001b[36m(pid=62073)\u001b[0m Episode 2\n",
      "\u001b[2m\u001b[36m(pid=62072)\u001b[0m Draw\n",
      "\u001b[2m\u001b[36m(pid=62072)\u001b[0m WARNING DELETING EXPERIENCES\n",
      "\u001b[2m\u001b[36m(pid=62072)\u001b[0m Episode 3\n",
      "\u001b[2m\u001b[36m(pid=62070)\u001b[0m Draw\n",
      "\u001b[2m\u001b[36m(pid=62070)\u001b[0m WARNING DELETING EXPERIENCES\n",
      "\u001b[2m\u001b[36m(pid=62070)\u001b[0m Episode 3\n",
      "\u001b[2m\u001b[36m(pid=62074)\u001b[0m White Loss\n",
      "\u001b[2m\u001b[36m(pid=62074)\u001b[0m Episode 3\n",
      "\u001b[2m\u001b[36m(pid=62077)\u001b[0m Draw\n",
      "\u001b[2m\u001b[36m(pid=62077)\u001b[0m WARNING DELETING EXPERIENCES\n",
      "\u001b[2m\u001b[36m(pid=62077)\u001b[0m Episode 2\n",
      "\u001b[2m\u001b[36m(pid=62065)\u001b[0m Draw\n",
      "\u001b[2m\u001b[36m(pid=62065)\u001b[0m WARNING DELETING EXPERIENCES\n",
      "\u001b[2m\u001b[36m(pid=62065)\u001b[0m Episode 4\n",
      "\u001b[2m\u001b[36m(pid=62069)\u001b[0m Draw\n",
      "\u001b[2m\u001b[36m(pid=62069)\u001b[0m WARNING DELETING EXPERIENCES\n",
      "\u001b[2m\u001b[36m(pid=62069)\u001b[0m Episode 2\n",
      "\u001b[2m\u001b[36m(pid=62071)\u001b[0m Draw\n",
      "\u001b[2m\u001b[36m(pid=62071)\u001b[0m WARNING DELETING EXPERIENCES\n",
      "\u001b[2m\u001b[36m(pid=62071)\u001b[0m Episode 3\n",
      "\u001b[2m\u001b[36m(pid=62064)\u001b[0m Draw\n",
      "\u001b[2m\u001b[36m(pid=62064)\u001b[0m WARNING DELETING EXPERIENCES\n",
      "\u001b[2m\u001b[36m(pid=62064)\u001b[0m Episode 3\n",
      "\u001b[2m\u001b[36m(pid=62063)\u001b[0m Draw\n",
      "\u001b[2m\u001b[36m(pid=62063)\u001b[0m WARNING DELETING EXPERIENCES\n",
      "\u001b[2m\u001b[36m(pid=62063)\u001b[0m Episode 3\n",
      "\u001b[2m\u001b[36m(pid=62076)\u001b[0m Draw\n",
      "\u001b[2m\u001b[36m(pid=62076)\u001b[0m WARNING DELETING EXPERIENCES\n",
      "\u001b[2m\u001b[36m(pid=62076)\u001b[0m Episode 3\n",
      "\u001b[2m\u001b[36m(pid=62066)\u001b[0m Draw\n",
      "\u001b[2m\u001b[36m(pid=62066)\u001b[0m WARNING DELETING EXPERIENCES\n",
      "\u001b[2m\u001b[36m(pid=62066)\u001b[0m Episode 3\n",
      "\u001b[2m\u001b[36m(pid=62068)\u001b[0m Draw\n",
      "\u001b[2m\u001b[36m(pid=62068)\u001b[0m WARNING DELETING EXPERIENCES\n",
      "\u001b[2m\u001b[36m(pid=62068)\u001b[0m Episode 3\n",
      "\u001b[2m\u001b[36m(pid=62075)\u001b[0m Draw\n",
      "\u001b[2m\u001b[36m(pid=62075)\u001b[0m WARNING DELETING EXPERIENCES\n",
      "\u001b[2m\u001b[36m(pid=62075)\u001b[0m Episode 3\n",
      "\u001b[2m\u001b[36m(pid=62079)\u001b[0m Draw\n",
      "\u001b[2m\u001b[36m(pid=62079)\u001b[0m WARNING DELETING EXPERIENCES\n",
      "\u001b[2m\u001b[36m(pid=62079)\u001b[0m Episode 3\n",
      "\u001b[2m\u001b[36m(pid=62072)\u001b[0m Draw\n",
      "\u001b[2m\u001b[36m(pid=62072)\u001b[0m WARNING DELETING EXPERIENCES\n",
      "\u001b[2m\u001b[36m(pid=62072)\u001b[0m Episode 4\n",
      "\u001b[2m\u001b[36m(pid=62070)\u001b[0m Draw\n",
      "\u001b[2m\u001b[36m(pid=62070)\u001b[0m WARNING DELETING EXPERIENCES\n",
      "\u001b[2m\u001b[36m(pid=62070)\u001b[0m Episode 4\n",
      "\u001b[2m\u001b[36m(pid=62067)\u001b[0m Draw\n",
      "\u001b[2m\u001b[36m(pid=62067)\u001b[0m WARNING DELETING EXPERIENCES\n",
      "\u001b[2m\u001b[36m(pid=62067)\u001b[0m Episode 4\n",
      "\u001b[2m\u001b[36m(pid=62073)\u001b[0m Draw\n",
      "\u001b[2m\u001b[36m(pid=62073)\u001b[0m WARNING DELETING EXPERIENCES\n",
      "\u001b[2m\u001b[36m(pid=62073)\u001b[0m Episode 3\n",
      "\u001b[2m\u001b[36m(pid=62064)\u001b[0m Draw\n",
      "\u001b[2m\u001b[36m(pid=62064)\u001b[0m WARNING DELETING EXPERIENCES\n",
      "\u001b[2m\u001b[36m(pid=62064)\u001b[0m Episode 4\n",
      "\u001b[2m\u001b[36m(pid=62069)\u001b[0m Draw\n",
      "\u001b[2m\u001b[36m(pid=62069)\u001b[0m WARNING DELETING EXPERIENCES\n",
      "\u001b[2m\u001b[36m(pid=62069)\u001b[0m Episode 3\n",
      "\u001b[2m\u001b[36m(pid=62074)\u001b[0m Draw\n",
      "\u001b[2m\u001b[36m(pid=62074)\u001b[0m WARNING DELETING EXPERIENCES\n",
      "\u001b[2m\u001b[36m(pid=62074)\u001b[0m Episode 4\n",
      "\u001b[2m\u001b[36m(pid=62071)\u001b[0m Draw\n",
      "\u001b[2m\u001b[36m(pid=62071)\u001b[0m WARNING DELETING EXPERIENCES\n",
      "\u001b[2m\u001b[36m(pid=62071)\u001b[0m Episode 4\n",
      "\u001b[2m\u001b[36m(pid=62063)\u001b[0m Draw\n",
      "\u001b[2m\u001b[36m(pid=62063)\u001b[0m WARNING DELETING EXPERIENCES\n",
      "\u001b[2m\u001b[36m(pid=62063)\u001b[0m Episode 4\n",
      "\u001b[2m\u001b[36m(pid=62065)\u001b[0m Draw\n",
      "\u001b[2m\u001b[36m(pid=62065)\u001b[0m WARNING DELETING EXPERIENCES\n",
      "\u001b[2m\u001b[36m(pid=62065)\u001b[0m Episode 5\n",
      "\u001b[2m\u001b[36m(pid=62076)\u001b[0m Draw\n",
      "\u001b[2m\u001b[36m(pid=62076)\u001b[0m WARNING DELETING EXPERIENCES\n",
      "\u001b[2m\u001b[36m(pid=62076)\u001b[0m Episode 4\n",
      "\u001b[2m\u001b[36m(pid=62066)\u001b[0m Draw\n",
      "\u001b[2m\u001b[36m(pid=62066)\u001b[0m WARNING DELETING EXPERIENCES\n",
      "\u001b[2m\u001b[36m(pid=62066)\u001b[0m Episode 4\n",
      "\u001b[2m\u001b[36m(pid=62070)\u001b[0m Draw\n",
      "\u001b[2m\u001b[36m(pid=62070)\u001b[0m WARNING DELETING EXPERIENCES\n",
      "\u001b[2m\u001b[36m(pid=62070)\u001b[0m Episode 5\n",
      "\u001b[2m\u001b[36m(pid=62076)\u001b[0m White Won\n",
      "\u001b[2m\u001b[36m(pid=62076)\u001b[0m Episode 5\n",
      "\u001b[2m\u001b[36m(pid=62079)\u001b[0m Draw\n",
      "\u001b[2m\u001b[36m(pid=62079)\u001b[0m WARNING DELETING EXPERIENCES\n",
      "\u001b[2m\u001b[36m(pid=62079)\u001b[0m Episode 4\n",
      "\u001b[2m\u001b[36m(pid=62064)\u001b[0m Draw\n",
      "\u001b[2m\u001b[36m(pid=62064)\u001b[0m WARNING DELETING EXPERIENCES\n",
      "\u001b[2m\u001b[36m(pid=62064)\u001b[0m Episode 5\n",
      "\u001b[2m\u001b[36m(pid=62075)\u001b[0m Draw\n",
      "\u001b[2m\u001b[36m(pid=62075)\u001b[0m WARNING DELETING EXPERIENCES\n",
      "\u001b[2m\u001b[36m(pid=62075)\u001b[0m Episode 4\n",
      "\u001b[2m\u001b[36m(pid=62072)\u001b[0m Draw\n",
      "\u001b[2m\u001b[36m(pid=62072)\u001b[0m WARNING DELETING EXPERIENCES\n",
      "\u001b[2m\u001b[36m(pid=62072)\u001b[0m Episode 5\n",
      "\u001b[2m\u001b[36m(pid=62068)\u001b[0m Draw\n",
      "\u001b[2m\u001b[36m(pid=62068)\u001b[0m WARNING DELETING EXPERIENCES\n",
      "\u001b[2m\u001b[36m(pid=62068)\u001b[0m Episode 4\n",
      "\u001b[2m\u001b[36m(pid=62067)\u001b[0m Draw\n",
      "\u001b[2m\u001b[36m(pid=62067)\u001b[0m WARNING DELETING EXPERIENCES\n",
      "\u001b[2m\u001b[36m(pid=62067)\u001b[0m Episode 5\n",
      "\u001b[2m\u001b[36m(pid=62067)\u001b[0m White Won\n",
      "\u001b[2m\u001b[36m(pid=62073)\u001b[0m Draw\n",
      "\u001b[2m\u001b[36m(pid=62073)\u001b[0m WARNING DELETING EXPERIENCES\n",
      "\u001b[2m\u001b[36m(pid=62073)\u001b[0m Episode 4\n",
      "\u001b[2m\u001b[36m(pid=62069)\u001b[0m Draw\n",
      "\u001b[2m\u001b[36m(pid=62069)\u001b[0m WARNING DELETING EXPERIENCES\n",
      "\u001b[2m\u001b[36m(pid=62069)\u001b[0m Episode 4\n",
      "\u001b[2m\u001b[36m(pid=62071)\u001b[0m Draw\n",
      "\u001b[2m\u001b[36m(pid=62071)\u001b[0m WARNING DELETING EXPERIENCES\n",
      "\u001b[2m\u001b[36m(pid=62071)\u001b[0m Episode 5\n",
      "\u001b[2m\u001b[36m(pid=62065)\u001b[0m Draw\n",
      "\u001b[2m\u001b[36m(pid=62065)\u001b[0m WARNING DELETING EXPERIENCES\n",
      "\u001b[2m\u001b[36m(pid=62063)\u001b[0m Draw\n",
      "\u001b[2m\u001b[36m(pid=62063)\u001b[0m WARNING DELETING EXPERIENCES\n",
      "\u001b[2m\u001b[36m(pid=62063)\u001b[0m Episode 5\n",
      "\u001b[2m\u001b[36m(pid=62077)\u001b[0m Draw\n",
      "\u001b[2m\u001b[36m(pid=62077)\u001b[0m WARNING DELETING EXPERIENCES\n",
      "\u001b[2m\u001b[36m(pid=62077)\u001b[0m Episode 3\n",
      "\u001b[2m\u001b[36m(pid=62074)\u001b[0m Draw\n",
      "\u001b[2m\u001b[36m(pid=62074)\u001b[0m WARNING DELETING EXPERIENCES\n",
      "\u001b[2m\u001b[36m(pid=62074)\u001b[0m Episode 5\n",
      "\u001b[2m\u001b[36m(pid=62066)\u001b[0m Draw\n",
      "\u001b[2m\u001b[36m(pid=62066)\u001b[0m WARNING DELETING EXPERIENCES\n",
      "\u001b[2m\u001b[36m(pid=62066)\u001b[0m Episode 5\n",
      "\u001b[2m\u001b[36m(pid=62075)\u001b[0m Draw\n",
      "\u001b[2m\u001b[36m(pid=62075)\u001b[0m WARNING DELETING EXPERIENCES\n",
      "\u001b[2m\u001b[36m(pid=62075)\u001b[0m Episode 5\n",
      "\u001b[2m\u001b[36m(pid=62076)\u001b[0m Draw\n",
      "\u001b[2m\u001b[36m(pid=62076)\u001b[0m WARNING DELETING EXPERIENCES\n",
      "\u001b[2m\u001b[36m(pid=62072)\u001b[0m Draw\n",
      "\u001b[2m\u001b[36m(pid=62072)\u001b[0m WARNING DELETING EXPERIENCES\n",
      "\u001b[2m\u001b[36m(pid=62070)\u001b[0m Draw\n",
      "\u001b[2m\u001b[36m(pid=62070)\u001b[0m WARNING DELETING EXPERIENCES\n",
      "\u001b[2m\u001b[36m(pid=62079)\u001b[0m Draw\n",
      "\u001b[2m\u001b[36m(pid=62079)\u001b[0m WARNING DELETING EXPERIENCES\n",
      "\u001b[2m\u001b[36m(pid=62079)\u001b[0m Episode 5\n",
      "\u001b[2m\u001b[36m(pid=62066)\u001b[0m White Loss\n",
      "\u001b[2m\u001b[36m(pid=62064)\u001b[0m Draw\n",
      "\u001b[2m\u001b[36m(pid=62064)\u001b[0m WARNING DELETING EXPERIENCES\n",
      "\u001b[2m\u001b[36m(pid=62073)\u001b[0m Draw\n",
      "\u001b[2m\u001b[36m(pid=62073)\u001b[0m WARNING DELETING EXPERIENCES\n",
      "\u001b[2m\u001b[36m(pid=62073)\u001b[0m Episode 5\n",
      "\u001b[2m\u001b[36m(pid=62068)\u001b[0m Draw\n",
      "\u001b[2m\u001b[36m(pid=62068)\u001b[0m WARNING DELETING EXPERIENCES\n",
      "\u001b[2m\u001b[36m(pid=62068)\u001b[0m Episode 5\n",
      "\u001b[2m\u001b[36m(pid=62077)\u001b[0m Draw\n",
      "\u001b[2m\u001b[36m(pid=62077)\u001b[0m WARNING DELETING EXPERIENCES\n",
      "\u001b[2m\u001b[36m(pid=62077)\u001b[0m Episode 4\n",
      "\u001b[2m\u001b[36m(pid=62069)\u001b[0m Draw\n",
      "\u001b[2m\u001b[36m(pid=62069)\u001b[0m WARNING DELETING EXPERIENCES\n",
      "\u001b[2m\u001b[36m(pid=62069)\u001b[0m Episode 5\n",
      "\u001b[2m\u001b[36m(pid=62079)\u001b[0m White Loss\n",
      "\u001b[2m\u001b[36m(pid=62063)\u001b[0m Draw\n",
      "\u001b[2m\u001b[36m(pid=62063)\u001b[0m WARNING DELETING EXPERIENCES\n",
      "\u001b[2m\u001b[36m(pid=62074)\u001b[0m Draw\n",
      "\u001b[2m\u001b[36m(pid=62074)\u001b[0m WARNING DELETING EXPERIENCES\n",
      "\u001b[2m\u001b[36m(pid=62071)\u001b[0m Draw\n",
      "\u001b[2m\u001b[36m(pid=62071)\u001b[0m WARNING DELETING EXPERIENCES\n",
      "\u001b[2m\u001b[36m(pid=62075)\u001b[0m Draw\n",
      "\u001b[2m\u001b[36m(pid=62075)\u001b[0m WARNING DELETING EXPERIENCES\n",
      "\u001b[2m\u001b[36m(pid=62068)\u001b[0m Draw\n",
      "\u001b[2m\u001b[36m(pid=62068)\u001b[0m WARNING DELETING EXPERIENCES\n",
      "\u001b[2m\u001b[36m(pid=62073)\u001b[0m Draw\n",
      "\u001b[2m\u001b[36m(pid=62073)\u001b[0m WARNING DELETING EXPERIENCES\n"
     ]
    },
    {
     "name": "stdout",
     "output_type": "stream",
     "text": [
      "\u001b[2m\u001b[36m(pid=62077)\u001b[0m Draw\n",
      "\u001b[2m\u001b[36m(pid=62077)\u001b[0m WARNING DELETING EXPERIENCES\n",
      "\u001b[2m\u001b[36m(pid=62077)\u001b[0m Episode 5\n",
      "\u001b[2m\u001b[36m(pid=62069)\u001b[0m Draw\n",
      "\u001b[2m\u001b[36m(pid=62069)\u001b[0m WARNING DELETING EXPERIENCES\n",
      "\u001b[2m\u001b[36m(pid=62077)\u001b[0m Draw\n",
      "\u001b[2m\u001b[36m(pid=62077)\u001b[0m WARNING DELETING EXPERIENCES\n"
     ]
    },
    {
     "name": "stderr",
     "output_type": "stream",
     "text": [
      "/home/ec2-user/anaconda3/envs/pytorch_latest_p36/lib/python3.6/site-packages/ipykernel/__main__.py:152: UserWarning: To copy construct from a tensor, it is recommended to use sourceTensor.clone().detach() or sourceTensor.clone().detach().requires_grad_(True), rather than torch.tensor(sourceTensor).\n",
      "/home/ec2-user/anaconda3/envs/pytorch_latest_p36/lib/python3.6/site-packages/ipykernel/__main__.py:154: UserWarning: The given NumPy array is not writeable, and PyTorch does not support non-writeable tensors. This means you can write to the underlying (supposedly non-writeable) NumPy array using the tensor. You may want to copy the array to protect its data or make it writeable before converting it to a tensor. This type of warning will be suppressed for the rest of this program. (Triggered internally at  /opt/conda/conda-bld/pytorch_1595629416375/work/torch/csrc/utils/tensor_numpy.cpp:141.)\n"
     ]
    },
    {
     "name": "stdout",
     "output_type": "stream",
     "text": [
      "0 ACTOR LOSS 2450.121826171875 | CRITIC LOSS 13.645127296447754\n",
      "1 ACTOR LOSS 5179.84912109375 | CRITIC LOSS 144.86952209472656\n",
      "2 ACTOR LOSS 5385.1259765625 | CRITIC LOSS 1.047151803970337\n",
      "3 ACTOR LOSS 5464.36865234375 | CRITIC LOSS 7.927321434020996\n",
      "4 ACTOR LOSS 5327.8662109375 | CRITIC LOSS 8.536857604980469\n",
      "5 ACTOR LOSS 5435.6298828125 | CRITIC LOSS 8.218798637390137\n",
      "6 ACTOR LOSS 5738.43359375 | CRITIC LOSS 8.217484474182129\n",
      "7 ACTOR LOSS 5572.6884765625 | CRITIC LOSS 7.235198974609375\n",
      "8 ACTOR LOSS 5667.53466796875 | CRITIC LOSS 6.591628551483154\n",
      "9 ACTOR LOSS 5883.3623046875 | CRITIC LOSS 5.735169410705566\n",
      "10 ACTOR LOSS 5596.2275390625 | CRITIC LOSS 4.751041412353516\n",
      "11 ACTOR LOSS 5823.2763671875 | CRITIC LOSS 4.145820140838623\n",
      "12 ACTOR LOSS 5732.61328125 | CRITIC LOSS 3.427283763885498\n",
      "13 ACTOR LOSS 5510.4921875 | CRITIC LOSS 2.736126661300659\n",
      "14 ACTOR LOSS 5910.2314453125 | CRITIC LOSS 2.482696533203125\n",
      "15 ACTOR LOSS 5693.658203125 | CRITIC LOSS 2.6254167556762695\n",
      "16 ACTOR LOSS 5781.63720703125 | CRITIC LOSS 2.088024854660034\n",
      "17 ACTOR LOSS 5778.8369140625 | CRITIC LOSS 2.2020955085754395\n",
      "18 ACTOR LOSS 5749.45166015625 | CRITIC LOSS 2.0294594764709473\n",
      "19 ACTOR LOSS 5674.9111328125 | CRITIC LOSS 1.99947190284729\n",
      "20 ACTOR LOSS 5774.7451171875 | CRITIC LOSS 1.5699422359466553\n",
      "21 ACTOR LOSS 5732.50341796875 | CRITIC LOSS 1.261860728263855\n",
      "22 ACTOR LOSS 5838.0439453125 | CRITIC LOSS 0.9727948307991028\n",
      "23 ACTOR LOSS 5910.689453125 | CRITIC LOSS 0.6754547357559204\n",
      "24 ACTOR LOSS 5907.70849609375 | CRITIC LOSS 0.5254961848258972\n",
      "25 ACTOR LOSS 5910.8671875 | CRITIC LOSS 0.3639828562736511\n",
      "26 ACTOR LOSS 5924.56884765625 | CRITIC LOSS 0.2698636054992676\n",
      "27 ACTOR LOSS 5989.73876953125 | CRITIC LOSS 0.20914295315742493\n",
      "28 ACTOR LOSS 5916.80712890625 | CRITIC LOSS 0.14596499502658844\n",
      "29 ACTOR LOSS 5859.97509765625 | CRITIC LOSS 0.10960012674331665\n",
      "30 ACTOR LOSS 5831.14013671875 | CRITIC LOSS 0.08787762373685837\n",
      "31 ACTOR LOSS 5995.79736328125 | CRITIC LOSS 0.06662902235984802\n",
      "32 ACTOR LOSS 5883.60693359375 | CRITIC LOSS 0.051516298204660416\n",
      "33 ACTOR LOSS 5747.767578125 | CRITIC LOSS 0.04127310961484909\n",
      "34 ACTOR LOSS 5797.60498046875 | CRITIC LOSS 0.042254578322172165\n",
      "35 ACTOR LOSS 5902.90869140625 | CRITIC LOSS 0.03888172283768654\n",
      "36 ACTOR LOSS 5876.88916015625 | CRITIC LOSS 0.04567108303308487\n",
      "37 ACTOR LOSS 5785.716796875 | CRITIC LOSS 0.05450086668133736\n",
      "38 ACTOR LOSS 5854.6376953125 | CRITIC LOSS 0.060486916452646255\n",
      "39 ACTOR LOSS 5894.2255859375 | CRITIC LOSS 0.06686955690383911\n",
      "40 ACTOR LOSS 5906.50048828125 | CRITIC LOSS 0.0872606411576271\n",
      "41 ACTOR LOSS 5779.35888671875 | CRITIC LOSS 0.06792774051427841\n",
      "42 ACTOR LOSS 5815.18212890625 | CRITIC LOSS 0.0788346603512764\n",
      "43 ACTOR LOSS 5763.513671875 | CRITIC LOSS 0.09800314158201218\n",
      "44 ACTOR LOSS 5810.52001953125 | CRITIC LOSS 0.08987212181091309\n",
      "45 ACTOR LOSS 5569.6865234375 | CRITIC LOSS 0.09187974035739899\n",
      "46 ACTOR LOSS 5900.607421875 | CRITIC LOSS 0.10090473294258118\n",
      "47 ACTOR LOSS 5925.064453125 | CRITIC LOSS 0.07588350772857666\n",
      "48 ACTOR LOSS 5798.02490234375 | CRITIC LOSS 0.05825209617614746\n",
      "49 ACTOR LOSS 5810.658203125 | CRITIC LOSS 0.05407357215881348\n",
      "50 ACTOR LOSS 5898.99853515625 | CRITIC LOSS 0.038737475872039795\n",
      "51 ACTOR LOSS 5880.97509765625 | CRITIC LOSS 0.037528421729803085\n",
      "52 ACTOR LOSS 5876.82568359375 | CRITIC LOSS 0.03199823200702667\n",
      "53 ACTOR LOSS 5650.01220703125 | CRITIC LOSS 0.030135627835989\n",
      "54 ACTOR LOSS 5667.0263671875 | CRITIC LOSS 0.02042333409190178\n",
      "55 ACTOR LOSS 5491.7197265625 | CRITIC LOSS 0.01707044616341591\n",
      "56 ACTOR LOSS 5759.6328125 | CRITIC LOSS 0.02362356334924698\n",
      "57 ACTOR LOSS 5801.453125 | CRITIC LOSS 0.014995877631008625\n",
      "58 ACTOR LOSS 5788.654296875 | CRITIC LOSS 0.010874701663851738\n",
      "59 ACTOR LOSS 4869.58056640625 | CRITIC LOSS 0.013994057662785053\n",
      "60 ACTOR LOSS 5636.23828125 | CRITIC LOSS 0.014718917198479176\n",
      "61 ACTOR LOSS 5786.55126953125 | CRITIC LOSS 0.006415491923689842\n",
      "62 ACTOR LOSS 5072.1650390625 | CRITIC LOSS 0.007372398395091295\n",
      "63 ACTOR LOSS 5661.43408203125 | CRITIC LOSS 0.0063962326385080814\n",
      "64 ACTOR LOSS 4749.71826171875 | CRITIC LOSS 0.008486337028443813\n",
      "65 ACTOR LOSS 5616.77294921875 | CRITIC LOSS 0.012572664767503738\n",
      "66 ACTOR LOSS 5774.568359375 | CRITIC LOSS 0.011252184398472309\n",
      "67 ACTOR LOSS 5667.74169921875 | CRITIC LOSS 0.01103736087679863\n",
      "68 ACTOR LOSS 5763.6220703125 | CRITIC LOSS 0.01412990503013134\n",
      "69 ACTOR LOSS 5497.4287109375 | CRITIC LOSS 0.009554599411785603\n",
      "70 ACTOR LOSS 5806.22802734375 | CRITIC LOSS 0.00886336900293827\n",
      "71 ACTOR LOSS 5635.15380859375 | CRITIC LOSS 0.009562036022543907\n",
      "72 ACTOR LOSS 5596.4990234375 | CRITIC LOSS 0.010751675814390182\n",
      "73 ACTOR LOSS 5799.9794921875 | CRITIC LOSS 0.009038658812642097\n",
      "74 ACTOR LOSS 5732.49853515625 | CRITIC LOSS 0.006947963498532772\n",
      "75 ACTOR LOSS 5624.92333984375 | CRITIC LOSS 0.009774310514330864\n",
      "76 ACTOR LOSS 5857.62451171875 | CRITIC LOSS 0.010141266509890556\n",
      "77 ACTOR LOSS 5502.25048828125 | CRITIC LOSS 0.006867187097668648\n",
      "78 ACTOR LOSS 5819.8798828125 | CRITIC LOSS 0.0077710687182843685\n",
      "79 ACTOR LOSS 5910.38916015625 | CRITIC LOSS 0.010755667462944984\n",
      "80 ACTOR LOSS 5762.23046875 | CRITIC LOSS 0.0036229079123586416\n",
      "81 ACTOR LOSS 5914.51171875 | CRITIC LOSS 0.0033856972586363554\n",
      "82 ACTOR LOSS 5980.84521484375 | CRITIC LOSS 0.011862504296004772\n",
      "83 ACTOR LOSS 5778.40283203125 | CRITIC LOSS 0.00681745819747448\n",
      "84 ACTOR LOSS 5576.0283203125 | CRITIC LOSS 0.005158667452633381\n",
      "85 ACTOR LOSS 5809.69482421875 | CRITIC LOSS 0.004560079891234636\n",
      "86 ACTOR LOSS 5749.9677734375 | CRITIC LOSS 0.006287897936999798\n",
      "87 ACTOR LOSS 5757.26318359375 | CRITIC LOSS 0.011920060031116009\n",
      "88 ACTOR LOSS 5744.36376953125 | CRITIC LOSS 0.007213704753667116\n",
      "89 ACTOR LOSS 5792.5390625 | CRITIC LOSS 0.0026339306496083736\n",
      "90 ACTOR LOSS 5733.84814453125 | CRITIC LOSS 0.003723749192431569\n",
      "91 ACTOR LOSS 5753.876953125 | CRITIC LOSS 0.006796322297304869\n",
      "92 ACTOR LOSS 5862.6181640625 | CRITIC LOSS 0.006506370380520821\n",
      "93 ACTOR LOSS 5672.5078125 | CRITIC LOSS 0.0029553216882050037\n",
      "94 ACTOR LOSS 5721.7607421875 | CRITIC LOSS 0.010129323229193687\n",
      "95 ACTOR LOSS 5765.87841796875 | CRITIC LOSS 0.006587105803191662\n",
      "96 ACTOR LOSS 5892.06689453125 | CRITIC LOSS 0.009050378575921059\n",
      "97 ACTOR LOSS 5975.6474609375 | CRITIC LOSS 0.005015543662011623\n",
      "98 ACTOR LOSS 5865.00927734375 | CRITIC LOSS 0.004407327622175217\n",
      "99 ACTOR LOSS 5703.50244140625 | CRITIC LOSS 0.0030849562026560307\n",
      "EVALUATING\n",
      "Copying Current Network to Previous Network as Previous Network is None\n",
      "\u001b[2m\u001b[36m(pid=62077)\u001b[0m Playing against opponent\n",
      "\u001b[2m\u001b[36m(pid=62077)\u001b[0m Episode 1\n"
     ]
    },
    {
     "name": "stderr",
     "output_type": "stream",
     "text": [
      "\u001b[2m\u001b[36m(pid=62077)\u001b[0m /home/ec2-user/.local/lib/python3.6/site-packages/ray/workers/default_worker.py:58: RuntimeWarning: invalid value encountered in true_divide\n",
      "\u001b[2m\u001b[36m(pid=62077)\u001b[0m   type=str,\n"
     ]
    },
    {
     "name": "stdout",
     "output_type": "stream",
     "text": [
      "\u001b[2m\u001b[36m(pid=62073)\u001b[0m Playing against opponent\n",
      "\u001b[2m\u001b[36m(pid=62073)\u001b[0m Episode 1\n"
     ]
    },
    {
     "name": "stderr",
     "output_type": "stream",
     "text": [
      "\u001b[2m\u001b[36m(pid=62073)\u001b[0m /home/ec2-user/.local/lib/python3.6/site-packages/ray/workers/default_worker.py:58: RuntimeWarning: invalid value encountered in true_divide\n",
      "\u001b[2m\u001b[36m(pid=62073)\u001b[0m   type=str,\n"
     ]
    },
    {
     "name": "stdout",
     "output_type": "stream",
     "text": [
      "\u001b[2m\u001b[36m(pid=62068)\u001b[0m Playing against opponent\n",
      "\u001b[2m\u001b[36m(pid=62068)\u001b[0m Episode 1\n"
     ]
    },
    {
     "name": "stderr",
     "output_type": "stream",
     "text": [
      "\u001b[2m\u001b[36m(pid=62068)\u001b[0m /home/ec2-user/.local/lib/python3.6/site-packages/ray/workers/default_worker.py:58: RuntimeWarning: invalid value encountered in true_divide\n",
      "\u001b[2m\u001b[36m(pid=62068)\u001b[0m   type=str,\n"
     ]
    },
    {
     "name": "stdout",
     "output_type": "stream",
     "text": [
      "\u001b[2m\u001b[36m(pid=62071)\u001b[0m Playing against opponent\n",
      "\u001b[2m\u001b[36m(pid=62071)\u001b[0m Episode 1\n"
     ]
    },
    {
     "name": "stderr",
     "output_type": "stream",
     "text": [
      "\u001b[2m\u001b[36m(pid=62071)\u001b[0m /home/ec2-user/.local/lib/python3.6/site-packages/ray/workers/default_worker.py:58: RuntimeWarning: invalid value encountered in true_divide\n",
      "\u001b[2m\u001b[36m(pid=62071)\u001b[0m   type=str,\n"
     ]
    },
    {
     "name": "stdout",
     "output_type": "stream",
     "text": [
      "\u001b[2m\u001b[36m(pid=62063)\u001b[0m Playing against opponent\n",
      "\u001b[2m\u001b[36m(pid=62063)\u001b[0m Episode 1\n"
     ]
    },
    {
     "name": "stderr",
     "output_type": "stream",
     "text": [
      "\u001b[2m\u001b[36m(pid=62063)\u001b[0m /home/ec2-user/.local/lib/python3.6/site-packages/ray/workers/default_worker.py:58: RuntimeWarning: invalid value encountered in true_divide\n",
      "\u001b[2m\u001b[36m(pid=62063)\u001b[0m   type=str,\n"
     ]
    },
    {
     "name": "stdout",
     "output_type": "stream",
     "text": [
      "\u001b[2m\u001b[36m(pid=62079)\u001b[0m Playing against opponent\n",
      "\u001b[2m\u001b[36m(pid=62079)\u001b[0m Episode 1\n"
     ]
    },
    {
     "name": "stderr",
     "output_type": "stream",
     "text": [
      "\u001b[2m\u001b[36m(pid=62079)\u001b[0m /home/ec2-user/.local/lib/python3.6/site-packages/ray/workers/default_worker.py:58: RuntimeWarning: invalid value encountered in true_divide\n",
      "\u001b[2m\u001b[36m(pid=62079)\u001b[0m   type=str,\n"
     ]
    },
    {
     "name": "stdout",
     "output_type": "stream",
     "text": [
      "\u001b[2m\u001b[36m(pid=62064)\u001b[0m Playing against opponent\n",
      "\u001b[2m\u001b[36m(pid=62064)\u001b[0m Episode 1\n"
     ]
    },
    {
     "name": "stderr",
     "output_type": "stream",
     "text": [
      "\u001b[2m\u001b[36m(pid=62064)\u001b[0m /home/ec2-user/.local/lib/python3.6/site-packages/ray/workers/default_worker.py:58: RuntimeWarning: invalid value encountered in true_divide\n",
      "\u001b[2m\u001b[36m(pid=62064)\u001b[0m   type=str,\n"
     ]
    },
    {
     "name": "stdout",
     "output_type": "stream",
     "text": [
      "\u001b[2m\u001b[36m(pid=62066)\u001b[0m Playing against opponent\n",
      "\u001b[2m\u001b[36m(pid=62066)\u001b[0m Episode 1\n"
     ]
    },
    {
     "name": "stderr",
     "output_type": "stream",
     "text": [
      "\u001b[2m\u001b[36m(pid=62066)\u001b[0m /home/ec2-user/.local/lib/python3.6/site-packages/ray/workers/default_worker.py:58: RuntimeWarning: invalid value encountered in true_divide\n",
      "\u001b[2m\u001b[36m(pid=62066)\u001b[0m   type=str,\n"
     ]
    },
    {
     "name": "stdout",
     "output_type": "stream",
     "text": [
      "\u001b[2m\u001b[36m(pid=62074)\u001b[0m Playing against opponent\n",
      "\u001b[2m\u001b[36m(pid=62074)\u001b[0m Episode 1\n"
     ]
    },
    {
     "name": "stderr",
     "output_type": "stream",
     "text": [
      "\u001b[2m\u001b[36m(pid=62074)\u001b[0m /home/ec2-user/.local/lib/python3.6/site-packages/ray/workers/default_worker.py:58: RuntimeWarning: invalid value encountered in true_divide\n",
      "\u001b[2m\u001b[36m(pid=62074)\u001b[0m   type=str,\n"
     ]
    },
    {
     "name": "stdout",
     "output_type": "stream",
     "text": [
      "\u001b[2m\u001b[36m(pid=62070)\u001b[0m Playing against opponent\n",
      "\u001b[2m\u001b[36m(pid=62070)\u001b[0m Episode 1\n"
     ]
    },
    {
     "name": "stderr",
     "output_type": "stream",
     "text": [
      "\u001b[2m\u001b[36m(pid=62070)\u001b[0m /home/ec2-user/.local/lib/python3.6/site-packages/ray/workers/default_worker.py:58: RuntimeWarning: invalid value encountered in true_divide\n",
      "\u001b[2m\u001b[36m(pid=62070)\u001b[0m   type=str,\n"
     ]
    },
    {
     "name": "stdout",
     "output_type": "stream",
     "text": [
      "\u001b[2m\u001b[36m(pid=62069)\u001b[0m Playing against opponent\n",
      "\u001b[2m\u001b[36m(pid=62069)\u001b[0m Episode 1\n"
     ]
    },
    {
     "name": "stderr",
     "output_type": "stream",
     "text": [
      "\u001b[2m\u001b[36m(pid=62069)\u001b[0m /home/ec2-user/.local/lib/python3.6/site-packages/ray/workers/default_worker.py:58: RuntimeWarning: invalid value encountered in true_divide\n",
      "\u001b[2m\u001b[36m(pid=62069)\u001b[0m   type=str,\n"
     ]
    },
    {
     "name": "stdout",
     "output_type": "stream",
     "text": [
      "\u001b[2m\u001b[36m(pid=62072)\u001b[0m Playing against opponent\n",
      "\u001b[2m\u001b[36m(pid=62072)\u001b[0m Episode 1\n"
     ]
    },
    {
     "name": "stderr",
     "output_type": "stream",
     "text": [
      "\u001b[2m\u001b[36m(pid=62072)\u001b[0m /home/ec2-user/.local/lib/python3.6/site-packages/ray/workers/default_worker.py:58: RuntimeWarning: invalid value encountered in true_divide\n",
      "\u001b[2m\u001b[36m(pid=62072)\u001b[0m   type=str,\n"
     ]
    },
    {
     "name": "stdout",
     "output_type": "stream",
     "text": [
      "\u001b[2m\u001b[36m(pid=62076)\u001b[0m Playing against opponent\n",
      "\u001b[2m\u001b[36m(pid=62076)\u001b[0m Episode 1\n"
     ]
    },
    {
     "name": "stderr",
     "output_type": "stream",
     "text": [
      "\u001b[2m\u001b[36m(pid=62076)\u001b[0m /home/ec2-user/.local/lib/python3.6/site-packages/ray/workers/default_worker.py:58: RuntimeWarning: invalid value encountered in true_divide\n",
      "\u001b[2m\u001b[36m(pid=62076)\u001b[0m   type=str,\n"
     ]
    },
    {
     "name": "stdout",
     "output_type": "stream",
     "text": [
      "\u001b[2m\u001b[36m(pid=62068)\u001b[0m White Won\n",
      "\u001b[2m\u001b[36m(pid=62068)\u001b[0m Playing against opponent\n",
      "\u001b[2m\u001b[36m(pid=62068)\u001b[0m Episode 1\n"
     ]
    },
    {
     "name": "stderr",
     "output_type": "stream",
     "text": [
      "\u001b[2m\u001b[36m(pid=62068)\u001b[0m /home/ec2-user/.local/lib/python3.6/site-packages/ray/workers/default_worker.py:58: RuntimeWarning: invalid value encountered in true_divide\n",
      "\u001b[2m\u001b[36m(pid=62068)\u001b[0m   type=str,\n"
     ]
    },
    {
     "name": "stdout",
     "output_type": "stream",
     "text": [
      "\u001b[2m\u001b[36m(pid=62065)\u001b[0m Playing against opponent\n",
      "\u001b[2m\u001b[36m(pid=62065)\u001b[0m Episode 1\n"
     ]
    },
    {
     "name": "stderr",
     "output_type": "stream",
     "text": [
      "\u001b[2m\u001b[36m(pid=62065)\u001b[0m /home/ec2-user/.local/lib/python3.6/site-packages/ray/workers/default_worker.py:58: RuntimeWarning: invalid value encountered in true_divide\n",
      "\u001b[2m\u001b[36m(pid=62065)\u001b[0m   type=str,\n"
     ]
    },
    {
     "name": "stdout",
     "output_type": "stream",
     "text": [
      "\u001b[2m\u001b[36m(pid=62075)\u001b[0m Playing against opponent\n",
      "\u001b[2m\u001b[36m(pid=62075)\u001b[0m Episode 1\n"
     ]
    },
    {
     "name": "stderr",
     "output_type": "stream",
     "text": [
      "\u001b[2m\u001b[36m(pid=62075)\u001b[0m /home/ec2-user/.local/lib/python3.6/site-packages/ray/workers/default_worker.py:58: RuntimeWarning: invalid value encountered in true_divide\n",
      "\u001b[2m\u001b[36m(pid=62075)\u001b[0m   type=str,\n"
     ]
    },
    {
     "name": "stdout",
     "output_type": "stream",
     "text": [
      "\u001b[2m\u001b[36m(pid=62073)\u001b[0m Draw\n",
      "\u001b[2m\u001b[36m(pid=62079)\u001b[0m Draw\n",
      "\u001b[2m\u001b[36m(pid=62063)\u001b[0m Draw\n",
      "\u001b[2m\u001b[36m(pid=62077)\u001b[0m Draw\n",
      "\u001b[2m\u001b[36m(pid=62068)\u001b[0m Draw\n",
      "\u001b[2m\u001b[36m(pid=62071)\u001b[0m Draw\n",
      "\u001b[2m\u001b[36m(pid=62070)\u001b[0m Draw\n",
      "\u001b[2m\u001b[36m(pid=62069)\u001b[0m Draw\n",
      "\u001b[2m\u001b[36m(pid=62074)\u001b[0m Draw\n",
      "\u001b[2m\u001b[36m(pid=62072)\u001b[0m Draw\n",
      "\u001b[2m\u001b[36m(pid=62064)\u001b[0m Draw\n",
      "\u001b[2m\u001b[36m(pid=62065)\u001b[0m Draw\n",
      "\u001b[2m\u001b[36m(pid=62066)\u001b[0m Draw\n",
      "\u001b[2m\u001b[36m(pid=62076)\u001b[0m Draw\n",
      "\u001b[2m\u001b[36m(pid=62075)\u001b[0m Draw\n",
      "Wins 1 0.06% | Draws 15 0.94% | Losses 0 0.0%\n",
      "New Network was better\n",
      "Train steps 100 > Learn steps 5.. Reducing learning rate to 0.2\n",
      "LEARNING\n",
      "\u001b[2m\u001b[36m(pid=62076)\u001b[0m Playing against self\n",
      "\u001b[2m\u001b[36m(pid=62076)\u001b[0m Episode 1\n"
     ]
    },
    {
     "name": "stderr",
     "output_type": "stream",
     "text": [
      "\u001b[2m\u001b[36m(pid=62076)\u001b[0m /home/ec2-user/.local/lib/python3.6/site-packages/ray/workers/default_worker.py:58: RuntimeWarning: invalid value encountered in true_divide\n",
      "\u001b[2m\u001b[36m(pid=62076)\u001b[0m   type=str,\n"
     ]
    },
    {
     "name": "stdout",
     "output_type": "stream",
     "text": [
      "\u001b[2m\u001b[36m(pid=62066)\u001b[0m Playing against self\n",
      "\u001b[2m\u001b[36m(pid=62066)\u001b[0m Episode 1\n"
     ]
    },
    {
     "name": "stderr",
     "output_type": "stream",
     "text": [
      "\u001b[2m\u001b[36m(pid=62066)\u001b[0m /home/ec2-user/.local/lib/python3.6/site-packages/ray/workers/default_worker.py:58: RuntimeWarning: invalid value encountered in true_divide\n",
      "\u001b[2m\u001b[36m(pid=62066)\u001b[0m   type=str,\n"
     ]
    },
    {
     "name": "stdout",
     "output_type": "stream",
     "text": [
      "\u001b[2m\u001b[36m(pid=62065)\u001b[0m Playing against self\n",
      "\u001b[2m\u001b[36m(pid=62065)\u001b[0m Episode 1\n"
     ]
    },
    {
     "name": "stderr",
     "output_type": "stream",
     "text": [
      "\u001b[2m\u001b[36m(pid=62065)\u001b[0m /home/ec2-user/.local/lib/python3.6/site-packages/ray/workers/default_worker.py:58: RuntimeWarning: invalid value encountered in true_divide\n",
      "\u001b[2m\u001b[36m(pid=62065)\u001b[0m   type=str,\n"
     ]
    },
    {
     "name": "stdout",
     "output_type": "stream",
     "text": [
      "\u001b[2m\u001b[36m(pid=62064)\u001b[0m Playing against self\n",
      "\u001b[2m\u001b[36m(pid=62064)\u001b[0m Episode 1\n"
     ]
    },
    {
     "name": "stderr",
     "output_type": "stream",
     "text": [
      "\u001b[2m\u001b[36m(pid=62064)\u001b[0m /home/ec2-user/.local/lib/python3.6/site-packages/ray/workers/default_worker.py:58: RuntimeWarning: invalid value encountered in true_divide\n",
      "\u001b[2m\u001b[36m(pid=62064)\u001b[0m   type=str,\n"
     ]
    },
    {
     "name": "stdout",
     "output_type": "stream",
     "text": [
      "\u001b[2m\u001b[36m(pid=62072)\u001b[0m Playing against self\n",
      "\u001b[2m\u001b[36m(pid=62072)\u001b[0m Episode 1\n"
     ]
    },
    {
     "name": "stderr",
     "output_type": "stream",
     "text": [
      "\u001b[2m\u001b[36m(pid=62072)\u001b[0m /home/ec2-user/.local/lib/python3.6/site-packages/ray/workers/default_worker.py:58: RuntimeWarning: invalid value encountered in true_divide\n",
      "\u001b[2m\u001b[36m(pid=62072)\u001b[0m   type=str,\n"
     ]
    },
    {
     "name": "stdout",
     "output_type": "stream",
     "text": [
      "\u001b[2m\u001b[36m(pid=62069)\u001b[0m Playing against self\n",
      "\u001b[2m\u001b[36m(pid=62069)\u001b[0m Episode 1\n"
     ]
    },
    {
     "name": "stderr",
     "output_type": "stream",
     "text": [
      "\u001b[2m\u001b[36m(pid=62069)\u001b[0m /home/ec2-user/.local/lib/python3.6/site-packages/ray/workers/default_worker.py:58: RuntimeWarning: invalid value encountered in true_divide\n",
      "\u001b[2m\u001b[36m(pid=62069)\u001b[0m   type=str,\n"
     ]
    },
    {
     "name": "stdout",
     "output_type": "stream",
     "text": [
      "\u001b[2m\u001b[36m(pid=62074)\u001b[0m Playing against self\n",
      "\u001b[2m\u001b[36m(pid=62074)\u001b[0m Episode 1\n"
     ]
    },
    {
     "name": "stderr",
     "output_type": "stream",
     "text": [
      "\u001b[2m\u001b[36m(pid=62074)\u001b[0m /home/ec2-user/.local/lib/python3.6/site-packages/ray/workers/default_worker.py:58: RuntimeWarning: invalid value encountered in true_divide\n",
      "\u001b[2m\u001b[36m(pid=62074)\u001b[0m   type=str,\n"
     ]
    },
    {
     "name": "stdout",
     "output_type": "stream",
     "text": [
      "\u001b[2m\u001b[36m(pid=62070)\u001b[0m Playing against self\n",
      "\u001b[2m\u001b[36m(pid=62070)\u001b[0m Episode 1\n"
     ]
    },
    {
     "name": "stderr",
     "output_type": "stream",
     "text": [
      "\u001b[2m\u001b[36m(pid=62070)\u001b[0m /home/ec2-user/.local/lib/python3.6/site-packages/ray/workers/default_worker.py:58: RuntimeWarning: invalid value encountered in true_divide\n",
      "\u001b[2m\u001b[36m(pid=62070)\u001b[0m   type=str,\n"
     ]
    },
    {
     "name": "stdout",
     "output_type": "stream",
     "text": [
      "\u001b[2m\u001b[36m(pid=62071)\u001b[0m Playing against self\n",
      "\u001b[2m\u001b[36m(pid=62071)\u001b[0m Episode 1\n"
     ]
    },
    {
     "name": "stderr",
     "output_type": "stream",
     "text": [
      "\u001b[2m\u001b[36m(pid=62071)\u001b[0m /home/ec2-user/.local/lib/python3.6/site-packages/ray/workers/default_worker.py:58: RuntimeWarning: invalid value encountered in true_divide\n",
      "\u001b[2m\u001b[36m(pid=62071)\u001b[0m   type=str,\n"
     ]
    },
    {
     "name": "stdout",
     "output_type": "stream",
     "text": [
      "\u001b[2m\u001b[36m(pid=62068)\u001b[0m Playing against self\n",
      "\u001b[2m\u001b[36m(pid=62068)\u001b[0m Episode 1\n"
     ]
    },
    {
     "name": "stderr",
     "output_type": "stream",
     "text": [
      "\u001b[2m\u001b[36m(pid=62068)\u001b[0m /home/ec2-user/.local/lib/python3.6/site-packages/ray/workers/default_worker.py:58: RuntimeWarning: invalid value encountered in true_divide\n",
      "\u001b[2m\u001b[36m(pid=62068)\u001b[0m   type=str,\n"
     ]
    },
    {
     "name": "stdout",
     "output_type": "stream",
     "text": [
      "\u001b[2m\u001b[36m(pid=62077)\u001b[0m Playing against self\n",
      "\u001b[2m\u001b[36m(pid=62077)\u001b[0m Episode 1\n"
     ]
    },
    {
     "name": "stderr",
     "output_type": "stream",
     "text": [
      "\u001b[2m\u001b[36m(pid=62077)\u001b[0m /home/ec2-user/.local/lib/python3.6/site-packages/ray/workers/default_worker.py:58: RuntimeWarning: invalid value encountered in true_divide\n",
      "\u001b[2m\u001b[36m(pid=62077)\u001b[0m   type=str,\n"
     ]
    },
    {
     "name": "stdout",
     "output_type": "stream",
     "text": [
      "\u001b[2m\u001b[36m(pid=62063)\u001b[0m Playing against self\n",
      "\u001b[2m\u001b[36m(pid=62063)\u001b[0m Episode 1\n"
     ]
    },
    {
     "name": "stderr",
     "output_type": "stream",
     "text": [
      "\u001b[2m\u001b[36m(pid=62063)\u001b[0m /home/ec2-user/.local/lib/python3.6/site-packages/ray/workers/default_worker.py:58: RuntimeWarning: invalid value encountered in true_divide\n",
      "\u001b[2m\u001b[36m(pid=62063)\u001b[0m   type=str,\n"
     ]
    },
    {
     "name": "stdout",
     "output_type": "stream",
     "text": [
      "\u001b[2m\u001b[36m(pid=62079)\u001b[0m Playing against self\n",
      "\u001b[2m\u001b[36m(pid=62079)\u001b[0m Episode 1\n"
     ]
    },
    {
     "name": "stderr",
     "output_type": "stream",
     "text": [
      "\u001b[2m\u001b[36m(pid=62079)\u001b[0m /home/ec2-user/.local/lib/python3.6/site-packages/ray/workers/default_worker.py:58: RuntimeWarning: invalid value encountered in true_divide\n",
      "\u001b[2m\u001b[36m(pid=62079)\u001b[0m   type=str,\n"
     ]
    },
    {
     "name": "stdout",
     "output_type": "stream",
     "text": [
      "\u001b[2m\u001b[36m(pid=62073)\u001b[0m Playing against self\n",
      "\u001b[2m\u001b[36m(pid=62073)\u001b[0m Episode 1\n"
     ]
    },
    {
     "name": "stderr",
     "output_type": "stream",
     "text": [
      "\u001b[2m\u001b[36m(pid=62073)\u001b[0m /home/ec2-user/.local/lib/python3.6/site-packages/ray/workers/default_worker.py:58: RuntimeWarning: invalid value encountered in true_divide\n",
      "\u001b[2m\u001b[36m(pid=62073)\u001b[0m   type=str,\n"
     ]
    },
    {
     "name": "stdout",
     "output_type": "stream",
     "text": [
      "\u001b[2m\u001b[36m(pid=62075)\u001b[0m Playing against self\n",
      "\u001b[2m\u001b[36m(pid=62075)\u001b[0m Episode 1\n"
     ]
    },
    {
     "name": "stderr",
     "output_type": "stream",
     "text": [
      "\u001b[2m\u001b[36m(pid=62075)\u001b[0m /home/ec2-user/.local/lib/python3.6/site-packages/ray/workers/default_worker.py:58: RuntimeWarning: invalid value encountered in true_divide\n",
      "\u001b[2m\u001b[36m(pid=62075)\u001b[0m   type=str,\n"
     ]
    },
    {
     "name": "stdout",
     "output_type": "stream",
     "text": [
      "\u001b[2m\u001b[36m(pid=62067)\u001b[0m Playing against self\n",
      "\u001b[2m\u001b[36m(pid=62067)\u001b[0m Episode 1\n"
     ]
    },
    {
     "name": "stderr",
     "output_type": "stream",
     "text": [
      "\u001b[2m\u001b[36m(pid=62067)\u001b[0m /home/ec2-user/.local/lib/python3.6/site-packages/ray/workers/default_worker.py:58: RuntimeWarning: invalid value encountered in true_divide\n",
      "\u001b[2m\u001b[36m(pid=62067)\u001b[0m   type=str,\n"
     ]
    },
    {
     "name": "stdout",
     "output_type": "stream",
     "text": [
      "\u001b[2m\u001b[36m(pid=62064)\u001b[0m White Loss\n",
      "\u001b[2m\u001b[36m(pid=62064)\u001b[0m Episode 2\n",
      "\u001b[2m\u001b[36m(pid=62073)\u001b[0m White Won\n",
      "\u001b[2m\u001b[36m(pid=62073)\u001b[0m Episode 2\n",
      "\u001b[2m\u001b[36m(pid=62069)\u001b[0m Draw\n",
      "\u001b[2m\u001b[36m(pid=62069)\u001b[0m WARNING DELETING EXPERIENCES\n",
      "\u001b[2m\u001b[36m(pid=62069)\u001b[0m Episode 2\n",
      "\u001b[2m\u001b[36m(pid=62065)\u001b[0m Draw\n",
      "\u001b[2m\u001b[36m(pid=62065)\u001b[0m WARNING DELETING EXPERIENCES\n",
      "\u001b[2m\u001b[36m(pid=62065)\u001b[0m Episode 2\n",
      "\u001b[2m\u001b[36m(pid=62076)\u001b[0m Draw\n",
      "\u001b[2m\u001b[36m(pid=62076)\u001b[0m WARNING DELETING EXPERIENCES\n",
      "\u001b[2m\u001b[36m(pid=62076)\u001b[0m Episode 2\n",
      "\u001b[2m\u001b[36m(pid=62066)\u001b[0m Draw\n",
      "\u001b[2m\u001b[36m(pid=62066)\u001b[0m WARNING DELETING EXPERIENCES\n",
      "\u001b[2m\u001b[36m(pid=62066)\u001b[0m Episode 2\n",
      "\u001b[2m\u001b[36m(pid=62069)\u001b[0m Draw\n",
      "\u001b[2m\u001b[36m(pid=62069)\u001b[0m WARNING DELETING EXPERIENCES\n",
      "\u001b[2m\u001b[36m(pid=62069)\u001b[0m Episode 3\n",
      "\u001b[2m\u001b[36m(pid=62074)\u001b[0m Draw\n",
      "\u001b[2m\u001b[36m(pid=62074)\u001b[0m WARNING DELETING EXPERIENCES\n",
      "\u001b[2m\u001b[36m(pid=62074)\u001b[0m Episode 2\n",
      "\u001b[2m\u001b[36m(pid=62064)\u001b[0m Draw\n",
      "\u001b[2m\u001b[36m(pid=62064)\u001b[0m WARNING DELETING EXPERIENCES\n",
      "\u001b[2m\u001b[36m(pid=62064)\u001b[0m Episode 3\n",
      "\u001b[2m\u001b[36m(pid=62072)\u001b[0m Draw\n",
      "\u001b[2m\u001b[36m(pid=62072)\u001b[0m WARNING DELETING EXPERIENCES\n",
      "\u001b[2m\u001b[36m(pid=62072)\u001b[0m Episode 2\n",
      "\u001b[2m\u001b[36m(pid=62068)\u001b[0m White Won\n",
      "\u001b[2m\u001b[36m(pid=62068)\u001b[0m Episode 2\n",
      "\u001b[2m\u001b[36m(pid=62065)\u001b[0m White Won\n",
      "\u001b[2m\u001b[36m(pid=62065)\u001b[0m Episode 3\n",
      "\u001b[2m\u001b[36m(pid=62077)\u001b[0m Draw\n",
      "\u001b[2m\u001b[36m(pid=62077)\u001b[0m WARNING DELETING EXPERIENCES\n",
      "\u001b[2m\u001b[36m(pid=62077)\u001b[0m Episode 2\n",
      "\u001b[2m\u001b[36m(pid=62079)\u001b[0m Draw\n",
      "\u001b[2m\u001b[36m(pid=62079)\u001b[0m WARNING DELETING EXPERIENCES\n",
      "\u001b[2m\u001b[36m(pid=62079)\u001b[0m Episode 2\n",
      "\u001b[2m\u001b[36m(pid=62070)\u001b[0m Draw\n",
      "\u001b[2m\u001b[36m(pid=62070)\u001b[0m WARNING DELETING EXPERIENCES\n",
      "\u001b[2m\u001b[36m(pid=62070)\u001b[0m Episode 2\n",
      "\u001b[2m\u001b[36m(pid=62066)\u001b[0m Draw\n",
      "\u001b[2m\u001b[36m(pid=62066)\u001b[0m WARNING DELETING EXPERIENCES\n",
      "\u001b[2m\u001b[36m(pid=62066)\u001b[0m Episode 3\n",
      "\u001b[2m\u001b[36m(pid=62071)\u001b[0m Draw\n",
      "\u001b[2m\u001b[36m(pid=62071)\u001b[0m WARNING DELETING EXPERIENCES\n",
      "\u001b[2m\u001b[36m(pid=62071)\u001b[0m Episode 2\n",
      "\u001b[2m\u001b[36m(pid=62076)\u001b[0m Draw\n",
      "\u001b[2m\u001b[36m(pid=62076)\u001b[0m WARNING DELETING EXPERIENCES\n",
      "\u001b[2m\u001b[36m(pid=62076)\u001b[0m Episode 3\n",
      "\u001b[2m\u001b[36m(pid=62069)\u001b[0m Draw\n",
      "\u001b[2m\u001b[36m(pid=62069)\u001b[0m WARNING DELETING EXPERIENCES\n",
      "\u001b[2m\u001b[36m(pid=62069)\u001b[0m Episode 4\n",
      "\u001b[2m\u001b[36m(pid=62066)\u001b[0m White Won\n",
      "\u001b[2m\u001b[36m(pid=62066)\u001b[0m Episode 4\n",
      "\u001b[2m\u001b[36m(pid=62067)\u001b[0m Draw\n",
      "\u001b[2m\u001b[36m(pid=62067)\u001b[0m WARNING DELETING EXPERIENCES\n",
      "\u001b[2m\u001b[36m(pid=62067)\u001b[0m Episode 2\n",
      "\u001b[2m\u001b[36m(pid=62063)\u001b[0m Draw\n",
      "\u001b[2m\u001b[36m(pid=62063)\u001b[0m WARNING DELETING EXPERIENCES\n",
      "\u001b[2m\u001b[36m(pid=62063)\u001b[0m Episode 2\n",
      "\u001b[2m\u001b[36m(pid=62064)\u001b[0m Draw\n",
      "\u001b[2m\u001b[36m(pid=62064)\u001b[0m WARNING DELETING EXPERIENCES\n",
      "\u001b[2m\u001b[36m(pid=62064)\u001b[0m Episode 4\n",
      "\u001b[2m\u001b[36m(pid=62070)\u001b[0m White Won\n",
      "\u001b[2m\u001b[36m(pid=62070)\u001b[0m Episode 3\n",
      "\u001b[2m\u001b[36m(pid=62065)\u001b[0m White Won\n",
      "\u001b[2m\u001b[36m(pid=62065)\u001b[0m Episode 4\n",
      "\u001b[2m\u001b[36m(pid=62074)\u001b[0m Draw\n",
      "\u001b[2m\u001b[36m(pid=62074)\u001b[0m WARNING DELETING EXPERIENCES\n",
      "\u001b[2m\u001b[36m(pid=62074)\u001b[0m Episode 3\n",
      "\u001b[2m\u001b[36m(pid=62079)\u001b[0m Draw\n",
      "\u001b[2m\u001b[36m(pid=62079)\u001b[0m WARNING DELETING EXPERIENCES\n",
      "\u001b[2m\u001b[36m(pid=62079)\u001b[0m Episode 3\n",
      "\u001b[2m\u001b[36m(pid=62075)\u001b[0m Draw\n",
      "\u001b[2m\u001b[36m(pid=62075)\u001b[0m WARNING DELETING EXPERIENCES\n",
      "\u001b[2m\u001b[36m(pid=62075)\u001b[0m Episode 2\n",
      "\u001b[2m\u001b[36m(pid=62072)\u001b[0m Draw\n",
      "\u001b[2m\u001b[36m(pid=62072)\u001b[0m WARNING DELETING EXPERIENCES\n",
      "\u001b[2m\u001b[36m(pid=62072)\u001b[0m Episode 3\n",
      "\u001b[2m\u001b[36m(pid=62073)\u001b[0m Draw\n",
      "\u001b[2m\u001b[36m(pid=62073)\u001b[0m WARNING DELETING EXPERIENCES\n",
      "\u001b[2m\u001b[36m(pid=62073)\u001b[0m Episode 3\n",
      "\u001b[2m\u001b[36m(pid=62074)\u001b[0m White Loss\n",
      "\u001b[2m\u001b[36m(pid=62074)\u001b[0m Episode 4\n",
      "\u001b[2m\u001b[36m(pid=62077)\u001b[0m Draw\n",
      "\u001b[2m\u001b[36m(pid=62077)\u001b[0m WARNING DELETING EXPERIENCES\n",
      "\u001b[2m\u001b[36m(pid=62077)\u001b[0m Episode 3\n",
      "\u001b[2m\u001b[36m(pid=62066)\u001b[0m Draw\n",
      "\u001b[2m\u001b[36m(pid=62066)\u001b[0m WARNING DELETING EXPERIENCES\n",
      "\u001b[2m\u001b[36m(pid=62066)\u001b[0m Episode 5\n",
      "\u001b[2m\u001b[36m(pid=62068)\u001b[0m Draw\n",
      "\u001b[2m\u001b[36m(pid=62068)\u001b[0m WARNING DELETING EXPERIENCES\n",
      "\u001b[2m\u001b[36m(pid=62068)\u001b[0m Episode 3\n",
      "\u001b[2m\u001b[36m(pid=62067)\u001b[0m Draw\n",
      "\u001b[2m\u001b[36m(pid=62067)\u001b[0m WARNING DELETING EXPERIENCES\n",
      "\u001b[2m\u001b[36m(pid=62067)\u001b[0m Episode 3\n",
      "\u001b[2m\u001b[36m(pid=62071)\u001b[0m Draw\n",
      "\u001b[2m\u001b[36m(pid=62071)\u001b[0m WARNING DELETING EXPERIENCES\n",
      "\u001b[2m\u001b[36m(pid=62071)\u001b[0m Episode 3\n",
      "\u001b[2m\u001b[36m(pid=62076)\u001b[0m Draw\n",
      "\u001b[2m\u001b[36m(pid=62076)\u001b[0m WARNING DELETING EXPERIENCES\n",
      "\u001b[2m\u001b[36m(pid=62076)\u001b[0m Episode 4\n",
      "\u001b[2m\u001b[36m(pid=62069)\u001b[0m Draw\n",
      "\u001b[2m\u001b[36m(pid=62069)\u001b[0m WARNING DELETING EXPERIENCES\n",
      "\u001b[2m\u001b[36m(pid=62069)\u001b[0m Episode 5\n",
      "\u001b[2m\u001b[36m(pid=62063)\u001b[0m Draw\n",
      "\u001b[2m\u001b[36m(pid=62063)\u001b[0m WARNING DELETING EXPERIENCES\n",
      "\u001b[2m\u001b[36m(pid=62063)\u001b[0m Episode 3\n",
      "\u001b[2m\u001b[36m(pid=62075)\u001b[0m Draw\n",
      "\u001b[2m\u001b[36m(pid=62075)\u001b[0m WARNING DELETING EXPERIENCES\n",
      "\u001b[2m\u001b[36m(pid=62075)\u001b[0m Episode 3\n",
      "\u001b[2m\u001b[36m(pid=62064)\u001b[0m Draw\n",
      "\u001b[2m\u001b[36m(pid=62064)\u001b[0m WARNING DELETING EXPERIENCES\n",
      "\u001b[2m\u001b[36m(pid=62064)\u001b[0m Episode 5\n",
      "\u001b[2m\u001b[36m(pid=62079)\u001b[0m Draw\n",
      "\u001b[2m\u001b[36m(pid=62079)\u001b[0m WARNING DELETING EXPERIENCES\n",
      "\u001b[2m\u001b[36m(pid=62079)\u001b[0m Episode 4\n",
      "\u001b[2m\u001b[36m(pid=62073)\u001b[0m Draw\n",
      "\u001b[2m\u001b[36m(pid=62073)\u001b[0m WARNING DELETING EXPERIENCES\n",
      "\u001b[2m\u001b[36m(pid=62073)\u001b[0m Episode 4\n",
      "\u001b[2m\u001b[36m(pid=62065)\u001b[0m Draw\n",
      "\u001b[2m\u001b[36m(pid=62065)\u001b[0m WARNING DELETING EXPERIENCES\n",
      "\u001b[2m\u001b[36m(pid=62065)\u001b[0m Episode 5\n",
      "\u001b[2m\u001b[36m(pid=62072)\u001b[0m Draw\n",
      "\u001b[2m\u001b[36m(pid=62072)\u001b[0m WARNING DELETING EXPERIENCES\n",
      "\u001b[2m\u001b[36m(pid=62072)\u001b[0m Episode 4\n",
      "\u001b[2m\u001b[36m(pid=62070)\u001b[0m Draw\n",
      "\u001b[2m\u001b[36m(pid=62070)\u001b[0m WARNING DELETING EXPERIENCES\n",
      "\u001b[2m\u001b[36m(pid=62070)\u001b[0m Episode 4\n",
      "\u001b[2m\u001b[36m(pid=62067)\u001b[0m White Loss\n",
      "\u001b[2m\u001b[36m(pid=62067)\u001b[0m Episode 4\n",
      "\u001b[2m\u001b[36m(pid=62077)\u001b[0m Draw\n",
      "\u001b[2m\u001b[36m(pid=62077)\u001b[0m WARNING DELETING EXPERIENCES\n",
      "\u001b[2m\u001b[36m(pid=62077)\u001b[0m Episode 4\n",
      "\u001b[2m\u001b[36m(pid=62066)\u001b[0m Draw\n",
      "\u001b[2m\u001b[36m(pid=62066)\u001b[0m WARNING DELETING EXPERIENCES\n",
      "\u001b[2m\u001b[36m(pid=62074)\u001b[0m Draw\n",
      "\u001b[2m\u001b[36m(pid=62074)\u001b[0m WARNING DELETING EXPERIENCES\n",
      "\u001b[2m\u001b[36m(pid=62074)\u001b[0m Episode 5\n",
      "\u001b[2m\u001b[36m(pid=62068)\u001b[0m Draw\n",
      "\u001b[2m\u001b[36m(pid=62068)\u001b[0m WARNING DELETING EXPERIENCES\n",
      "\u001b[2m\u001b[36m(pid=62068)\u001b[0m Episode 4\n",
      "\u001b[2m\u001b[36m(pid=62071)\u001b[0m Draw\n",
      "\u001b[2m\u001b[36m(pid=62071)\u001b[0m WARNING DELETING EXPERIENCES\n",
      "\u001b[2m\u001b[36m(pid=62071)\u001b[0m Episode 4\n",
      "\u001b[2m\u001b[36m(pid=62064)\u001b[0m Draw\n",
      "\u001b[2m\u001b[36m(pid=62064)\u001b[0m WARNING DELETING EXPERIENCES\n",
      "\u001b[2m\u001b[36m(pid=62073)\u001b[0m Draw\n",
      "\u001b[2m\u001b[36m(pid=62073)\u001b[0m WARNING DELETING EXPERIENCES\n",
      "\u001b[2m\u001b[36m(pid=62073)\u001b[0m Episode 5\n",
      "\u001b[2m\u001b[36m(pid=62075)\u001b[0m Draw\n",
      "\u001b[2m\u001b[36m(pid=62075)\u001b[0m WARNING DELETING EXPERIENCES\n",
      "\u001b[2m\u001b[36m(pid=62075)\u001b[0m Episode 4\n",
      "\u001b[2m\u001b[36m(pid=62063)\u001b[0m Draw\n",
      "\u001b[2m\u001b[36m(pid=62063)\u001b[0m WARNING DELETING EXPERIENCES\n",
      "\u001b[2m\u001b[36m(pid=62063)\u001b[0m Episode 4\n",
      "\u001b[2m\u001b[36m(pid=62069)\u001b[0m Draw\n",
      "\u001b[2m\u001b[36m(pid=62069)\u001b[0m WARNING DELETING EXPERIENCES\n",
      "\u001b[2m\u001b[36m(pid=62079)\u001b[0m Draw\n",
      "\u001b[2m\u001b[36m(pid=62079)\u001b[0m WARNING DELETING EXPERIENCES\n",
      "\u001b[2m\u001b[36m(pid=62079)\u001b[0m Episode 5\n",
      "\u001b[2m\u001b[36m(pid=62072)\u001b[0m Draw\n",
      "\u001b[2m\u001b[36m(pid=62072)\u001b[0m WARNING DELETING EXPERIENCES\n",
      "\u001b[2m\u001b[36m(pid=62072)\u001b[0m Episode 5\n",
      "\u001b[2m\u001b[36m(pid=62065)\u001b[0m Draw\n",
      "\u001b[2m\u001b[36m(pid=62065)\u001b[0m WARNING DELETING EXPERIENCES\n",
      "\u001b[2m\u001b[36m(pid=62077)\u001b[0m Draw\n",
      "\u001b[2m\u001b[36m(pid=62077)\u001b[0m WARNING DELETING EXPERIENCES\n",
      "\u001b[2m\u001b[36m(pid=62077)\u001b[0m Episode 5\n",
      "\u001b[2m\u001b[36m(pid=62076)\u001b[0m Draw\n",
      "\u001b[2m\u001b[36m(pid=62076)\u001b[0m WARNING DELETING EXPERIENCES\n",
      "\u001b[2m\u001b[36m(pid=62076)\u001b[0m Episode 5\n",
      "\u001b[2m\u001b[36m(pid=62070)\u001b[0m Draw\n",
      "\u001b[2m\u001b[36m(pid=62070)\u001b[0m WARNING DELETING EXPERIENCES\n",
      "\u001b[2m\u001b[36m(pid=62070)\u001b[0m Episode 5\n",
      "\u001b[2m\u001b[36m(pid=62071)\u001b[0m Draw\n",
      "\u001b[2m\u001b[36m(pid=62071)\u001b[0m WARNING DELETING EXPERIENCES\n",
      "\u001b[2m\u001b[36m(pid=62071)\u001b[0m Episode 5\n",
      "\u001b[2m\u001b[36m(pid=62068)\u001b[0m Draw\n",
      "\u001b[2m\u001b[36m(pid=62068)\u001b[0m WARNING DELETING EXPERIENCES\n",
      "\u001b[2m\u001b[36m(pid=62068)\u001b[0m Episode 5\n",
      "\u001b[2m\u001b[36m(pid=62067)\u001b[0m Draw\n",
      "\u001b[2m\u001b[36m(pid=62067)\u001b[0m WARNING DELETING EXPERIENCES\n",
      "\u001b[2m\u001b[36m(pid=62067)\u001b[0m Episode 5\n",
      "\u001b[2m\u001b[36m(pid=62073)\u001b[0m Draw\n",
      "\u001b[2m\u001b[36m(pid=62073)\u001b[0m WARNING DELETING EXPERIENCES\n",
      "\u001b[2m\u001b[36m(pid=62074)\u001b[0m Draw\n",
      "\u001b[2m\u001b[36m(pid=62074)\u001b[0m WARNING DELETING EXPERIENCES\n",
      "\u001b[2m\u001b[36m(pid=62072)\u001b[0m Draw\n",
      "\u001b[2m\u001b[36m(pid=62072)\u001b[0m WARNING DELETING EXPERIENCES\n",
      "\u001b[2m\u001b[36m(pid=62063)\u001b[0m Draw\n",
      "\u001b[2m\u001b[36m(pid=62063)\u001b[0m WARNING DELETING EXPERIENCES\n",
      "\u001b[2m\u001b[36m(pid=62063)\u001b[0m Episode 5\n",
      "\u001b[2m\u001b[36m(pid=62079)\u001b[0m Draw\n",
      "\u001b[2m\u001b[36m(pid=62079)\u001b[0m WARNING DELETING EXPERIENCES\n",
      "\u001b[2m\u001b[36m(pid=62075)\u001b[0m Draw\n",
      "\u001b[2m\u001b[36m(pid=62075)\u001b[0m WARNING DELETING EXPERIENCES\n",
      "\u001b[2m\u001b[36m(pid=62075)\u001b[0m Episode 5\n",
      "\u001b[2m\u001b[36m(pid=62077)\u001b[0m Draw\n",
      "\u001b[2m\u001b[36m(pid=62077)\u001b[0m WARNING DELETING EXPERIENCES\n",
      "\u001b[2m\u001b[36m(pid=62068)\u001b[0m Draw\n",
      "\u001b[2m\u001b[36m(pid=62068)\u001b[0m WARNING DELETING EXPERIENCES\n",
      "\u001b[2m\u001b[36m(pid=62076)\u001b[0m Draw\n",
      "\u001b[2m\u001b[36m(pid=62076)\u001b[0m WARNING DELETING EXPERIENCES\n",
      "\u001b[2m\u001b[36m(pid=62067)\u001b[0m Draw\n",
      "\u001b[2m\u001b[36m(pid=62067)\u001b[0m WARNING DELETING EXPERIENCES\n",
      "\u001b[2m\u001b[36m(pid=62071)\u001b[0m Draw\n",
      "\u001b[2m\u001b[36m(pid=62071)\u001b[0m WARNING DELETING EXPERIENCES\n"
     ]
    },
    {
     "name": "stdout",
     "output_type": "stream",
     "text": [
      "\u001b[2m\u001b[36m(pid=62075)\u001b[0m White Loss\n",
      "\u001b[2m\u001b[36m(pid=62070)\u001b[0m Draw\n",
      "\u001b[2m\u001b[36m(pid=62070)\u001b[0m WARNING DELETING EXPERIENCES\n",
      "\u001b[2m\u001b[36m(pid=62063)\u001b[0m Draw\n",
      "\u001b[2m\u001b[36m(pid=62063)\u001b[0m WARNING DELETING EXPERIENCES\n",
      "100 ACTOR LOSS 5653.92041015625 | CRITIC LOSS 0.2938568592071533\n",
      "101 ACTOR LOSS 3788.573974609375 | CRITIC LOSS 0.21754026412963867\n",
      "102 ACTOR LOSS 5471.1376953125 | CRITIC LOSS 0.020035287365317345\n",
      "103 ACTOR LOSS 5325.931640625 | CRITIC LOSS 0.13078445196151733\n",
      "104 ACTOR LOSS 5869.134765625 | CRITIC LOSS 0.06265543401241302\n",
      "105 ACTOR LOSS 5879.3427734375 | CRITIC LOSS 0.07523825764656067\n",
      "106 ACTOR LOSS 5730.06494140625 | CRITIC LOSS 0.01966891624033451\n",
      "107 ACTOR LOSS 5699.861328125 | CRITIC LOSS 0.07679592072963715\n",
      "108 ACTOR LOSS 5819.611328125 | CRITIC LOSS 0.029302120208740234\n",
      "109 ACTOR LOSS 5884.1552734375 | CRITIC LOSS 0.02062179148197174\n",
      "110 ACTOR LOSS 4405.208984375 | CRITIC LOSS 0.050704214721918106\n",
      "111 ACTOR LOSS 5582.625 | CRITIC LOSS 0.0908607766032219\n",
      "112 ACTOR LOSS 5932.51123046875 | CRITIC LOSS 0.008675734512507915\n",
      "113 ACTOR LOSS 5818.6845703125 | CRITIC LOSS 0.03966747969388962\n",
      "114 ACTOR LOSS 5773.2919921875 | CRITIC LOSS 0.024556506425142288\n",
      "115 ACTOR LOSS 5869.81689453125 | CRITIC LOSS 0.017645591869950294\n",
      "116 ACTOR LOSS 5809.5048828125 | CRITIC LOSS 0.011430730111896992\n",
      "117 ACTOR LOSS 4588.02001953125 | CRITIC LOSS 0.0072232396341860294\n",
      "118 ACTOR LOSS 5447.564453125 | CRITIC LOSS 0.003848888212814927\n",
      "119 ACTOR LOSS 5691.17919921875 | CRITIC LOSS 0.0051624164916574955\n",
      "120 ACTOR LOSS 5745.05126953125 | CRITIC LOSS 0.013014466501772404\n",
      "121 ACTOR LOSS 5730.3466796875 | CRITIC LOSS 0.00914214737713337\n",
      "122 ACTOR LOSS 5750.65869140625 | CRITIC LOSS 0.005862263962626457\n",
      "123 ACTOR LOSS 5750.43798828125 | CRITIC LOSS 0.004040838219225407\n",
      "124 ACTOR LOSS 5653.755859375 | CRITIC LOSS 0.025022640824317932\n",
      "125 ACTOR LOSS 5788.31689453125 | CRITIC LOSS 0.005190676543861628\n",
      "126 ACTOR LOSS 5450.9404296875 | CRITIC LOSS 0.004508281126618385\n",
      "127 ACTOR LOSS 5937.486328125 | CRITIC LOSS 0.012244006618857384\n",
      "128 ACTOR LOSS 5781.4560546875 | CRITIC LOSS 0.008418217301368713\n",
      "129 ACTOR LOSS 5901.33447265625 | CRITIC LOSS 0.006928243208676577\n",
      "130 ACTOR LOSS 5687.90625 | CRITIC LOSS 0.008529392071068287\n",
      "131 ACTOR LOSS 5773.46728515625 | CRITIC LOSS 0.0019158002687618136\n",
      "132 ACTOR LOSS 5907.26318359375 | CRITIC LOSS 0.0025722424034029245\n",
      "133 ACTOR LOSS 5894.7216796875 | CRITIC LOSS 0.003967800177633762\n",
      "134 ACTOR LOSS 5770.96630859375 | CRITIC LOSS 0.0016058263136073947\n",
      "135 ACTOR LOSS 5828.44091796875 | CRITIC LOSS 0.004309115465730429\n",
      "136 ACTOR LOSS 5802.58203125 | CRITIC LOSS 0.0025036227889358997\n",
      "137 ACTOR LOSS 5941.22021484375 | CRITIC LOSS 0.0032579703256487846\n",
      "138 ACTOR LOSS 5874.39501953125 | CRITIC LOSS 0.0014236497227102518\n",
      "139 ACTOR LOSS 5760.94140625 | CRITIC LOSS 0.0016723612789064646\n",
      "140 ACTOR LOSS 5833.3603515625 | CRITIC LOSS 0.0025008865632116795\n",
      "141 ACTOR LOSS 5820.2548828125 | CRITIC LOSS 0.0022546681575477123\n",
      "142 ACTOR LOSS 5669.79345703125 | CRITIC LOSS 0.007049425505101681\n",
      "143 ACTOR LOSS 5847.9560546875 | CRITIC LOSS 0.004977939650416374\n",
      "144 ACTOR LOSS 5859.90087890625 | CRITIC LOSS 0.0013191300677135587\n",
      "145 ACTOR LOSS 5676.33642578125 | CRITIC LOSS 0.0014675974380224943\n",
      "146 ACTOR LOSS 5856.4111328125 | CRITIC LOSS 0.0023093698546290398\n",
      "147 ACTOR LOSS 5829.40625 | CRITIC LOSS 0.0018507778877392411\n",
      "148 ACTOR LOSS 5898.00732421875 | CRITIC LOSS 0.0009595598676241934\n",
      "149 ACTOR LOSS 5858.69970703125 | CRITIC LOSS 0.0016960323555395007\n",
      "150 ACTOR LOSS 5859.7509765625 | CRITIC LOSS 0.0008275017607957125\n",
      "151 ACTOR LOSS 5945.11474609375 | CRITIC LOSS 0.0010596776846796274\n",
      "152 ACTOR LOSS 5812.642578125 | CRITIC LOSS 0.0017534352373331785\n",
      "153 ACTOR LOSS 5850.72705078125 | CRITIC LOSS 0.002370235975831747\n",
      "154 ACTOR LOSS 5970.904296875 | CRITIC LOSS 0.0006522838375531137\n",
      "155 ACTOR LOSS 5805.0458984375 | CRITIC LOSS 0.001059006666764617\n",
      "156 ACTOR LOSS 5674.42578125 | CRITIC LOSS 0.0011769068660214543\n",
      "157 ACTOR LOSS 5995.73291015625 | CRITIC LOSS 0.0010521026561036706\n",
      "158 ACTOR LOSS 5755.890625 | CRITIC LOSS 0.0014293629210442305\n",
      "159 ACTOR LOSS 5850.3974609375 | CRITIC LOSS 0.0038827252574265003\n",
      "160 ACTOR LOSS 5768.74755859375 | CRITIC LOSS 0.001934817642904818\n",
      "161 ACTOR LOSS 5953.6806640625 | CRITIC LOSS 0.0017550578340888023\n",
      "162 ACTOR LOSS 5880.814453125 | CRITIC LOSS 0.006407358683645725\n",
      "163 ACTOR LOSS 5907.6044921875 | CRITIC LOSS 0.00784212164580822\n",
      "164 ACTOR LOSS 5648.01953125 | CRITIC LOSS 0.000976828159764409\n",
      "165 ACTOR LOSS 5816.3583984375 | CRITIC LOSS 0.002128274878486991\n",
      "166 ACTOR LOSS 5859.783203125 | CRITIC LOSS 0.0005604848265647888\n",
      "167 ACTOR LOSS 5908.33740234375 | CRITIC LOSS 0.0011952004861086607\n",
      "168 ACTOR LOSS 5977.2626953125 | CRITIC LOSS 0.0051658255979418755\n",
      "169 ACTOR LOSS 5611.2158203125 | CRITIC LOSS 0.0005017006769776344\n",
      "170 ACTOR LOSS 5146.099609375 | CRITIC LOSS 0.0013766387710347772\n",
      "171 ACTOR LOSS 5932.25927734375 | CRITIC LOSS 0.0005110002239234746\n",
      "172 ACTOR LOSS 5828.55078125 | CRITIC LOSS 0.00884971208870411\n",
      "173 ACTOR LOSS 5827.9794921875 | CRITIC LOSS 0.0006842545117251575\n",
      "174 ACTOR LOSS 5741.3662109375 | CRITIC LOSS 0.004528925288468599\n",
      "175 ACTOR LOSS 5826.35009765625 | CRITIC LOSS 0.000625968910753727\n",
      "176 ACTOR LOSS 5766.27197265625 | CRITIC LOSS 0.007246839813888073\n",
      "177 ACTOR LOSS 5870.02490234375 | CRITIC LOSS 0.003138059051707387\n",
      "178 ACTOR LOSS 5795.7998046875 | CRITIC LOSS 0.0036296676844358444\n",
      "179 ACTOR LOSS 5872.57470703125 | CRITIC LOSS 0.0012805189471691847\n",
      "180 ACTOR LOSS 5873.341796875 | CRITIC LOSS 0.000809720775578171\n",
      "181 ACTOR LOSS 5773.328125 | CRITIC LOSS 0.0023812863510102034\n",
      "182 ACTOR LOSS 5976.400390625 | CRITIC LOSS 0.003051166422665119\n",
      "183 ACTOR LOSS 5914.7099609375 | CRITIC LOSS 0.0012390956981107593\n",
      "184 ACTOR LOSS 5904.69677734375 | CRITIC LOSS 0.0008716945885680616\n",
      "185 ACTOR LOSS 5855.115234375 | CRITIC LOSS 0.0007356428541243076\n",
      "186 ACTOR LOSS 5747.7763671875 | CRITIC LOSS 0.0008922642446123064\n",
      "187 ACTOR LOSS 5872.97314453125 | CRITIC LOSS 0.0017353891162201762\n",
      "188 ACTOR LOSS 5974.21875 | CRITIC LOSS 0.0034708320163190365\n",
      "189 ACTOR LOSS 5816.36328125 | CRITIC LOSS 0.0038351069670170546\n",
      "190 ACTOR LOSS 4098.05810546875 | CRITIC LOSS 0.0008382666856050491\n",
      "191 ACTOR LOSS 5875.85400390625 | CRITIC LOSS 0.0015195405576378107\n",
      "192 ACTOR LOSS 5845.1259765625 | CRITIC LOSS 0.0015186291420832276\n",
      "193 ACTOR LOSS 5862.2021484375 | CRITIC LOSS 0.003445633687078953\n",
      "194 ACTOR LOSS 5854.49658203125 | CRITIC LOSS 0.0014348046388477087\n",
      "195 ACTOR LOSS 5798.21630859375 | CRITIC LOSS 0.0006391882197931409\n",
      "196 ACTOR LOSS 5669.119140625 | CRITIC LOSS 0.0012074965052306652\n",
      "197 ACTOR LOSS 5983.18701171875 | CRITIC LOSS 0.007020679302513599\n",
      "198 ACTOR LOSS 5866.88134765625 | CRITIC LOSS 0.004668651148676872\n",
      "199 ACTOR LOSS 5776.85693359375 | CRITIC LOSS 0.006046541500836611\n",
      "EVALUATING\n",
      "\u001b[2m\u001b[36m(pid=62063)\u001b[0m Playing against opponent\n",
      "\u001b[2m\u001b[36m(pid=62063)\u001b[0m Episode 1\n"
     ]
    },
    {
     "name": "stderr",
     "output_type": "stream",
     "text": [
      "\u001b[2m\u001b[36m(pid=62063)\u001b[0m /home/ec2-user/.local/lib/python3.6/site-packages/ray/workers/default_worker.py:58: RuntimeWarning: invalid value encountered in true_divide\n",
      "\u001b[2m\u001b[36m(pid=62063)\u001b[0m   type=str,\n"
     ]
    },
    {
     "name": "stdout",
     "output_type": "stream",
     "text": [
      "\u001b[2m\u001b[36m(pid=62071)\u001b[0m Playing against opponent\n",
      "\u001b[2m\u001b[36m(pid=62071)\u001b[0m Episode 1\n"
     ]
    },
    {
     "name": "stderr",
     "output_type": "stream",
     "text": [
      "\u001b[2m\u001b[36m(pid=62071)\u001b[0m /home/ec2-user/.local/lib/python3.6/site-packages/ray/workers/default_worker.py:58: RuntimeWarning: invalid value encountered in true_divide\n",
      "\u001b[2m\u001b[36m(pid=62071)\u001b[0m   type=str,\n"
     ]
    },
    {
     "name": "stdout",
     "output_type": "stream",
     "text": [
      "\u001b[2m\u001b[36m(pid=62075)\u001b[0m Playing against opponent\n",
      "\u001b[2m\u001b[36m(pid=62075)\u001b[0m Episode 1\n"
     ]
    },
    {
     "name": "stderr",
     "output_type": "stream",
     "text": [
      "\u001b[2m\u001b[36m(pid=62075)\u001b[0m /home/ec2-user/.local/lib/python3.6/site-packages/ray/workers/default_worker.py:58: RuntimeWarning: invalid value encountered in true_divide\n",
      "\u001b[2m\u001b[36m(pid=62075)\u001b[0m   type=str,\n"
     ]
    },
    {
     "name": "stdout",
     "output_type": "stream",
     "text": [
      "\u001b[2m\u001b[36m(pid=62067)\u001b[0m Playing against opponent\n",
      "\u001b[2m\u001b[36m(pid=62067)\u001b[0m Episode 1\n"
     ]
    },
    {
     "name": "stderr",
     "output_type": "stream",
     "text": [
      "\u001b[2m\u001b[36m(pid=62067)\u001b[0m /home/ec2-user/.local/lib/python3.6/site-packages/ray/workers/default_worker.py:58: RuntimeWarning: invalid value encountered in true_divide\n",
      "\u001b[2m\u001b[36m(pid=62067)\u001b[0m   type=str,\n"
     ]
    },
    {
     "name": "stdout",
     "output_type": "stream",
     "text": [
      "\u001b[2m\u001b[36m(pid=62076)\u001b[0m Playing against opponent\n",
      "\u001b[2m\u001b[36m(pid=62076)\u001b[0m Episode 1\n"
     ]
    },
    {
     "name": "stderr",
     "output_type": "stream",
     "text": [
      "\u001b[2m\u001b[36m(pid=62076)\u001b[0m /home/ec2-user/.local/lib/python3.6/site-packages/ray/workers/default_worker.py:58: RuntimeWarning: invalid value encountered in true_divide\n",
      "\u001b[2m\u001b[36m(pid=62076)\u001b[0m   type=str,\n"
     ]
    },
    {
     "name": "stdout",
     "output_type": "stream",
     "text": [
      "\u001b[2m\u001b[36m(pid=62068)\u001b[0m Playing against opponent\n",
      "\u001b[2m\u001b[36m(pid=62068)\u001b[0m Episode 1\n"
     ]
    },
    {
     "name": "stderr",
     "output_type": "stream",
     "text": [
      "\u001b[2m\u001b[36m(pid=62068)\u001b[0m /home/ec2-user/.local/lib/python3.6/site-packages/ray/workers/default_worker.py:58: RuntimeWarning: invalid value encountered in true_divide\n",
      "\u001b[2m\u001b[36m(pid=62068)\u001b[0m   type=str,\n"
     ]
    },
    {
     "name": "stdout",
     "output_type": "stream",
     "text": [
      "\u001b[2m\u001b[36m(pid=62077)\u001b[0m Playing against opponent\n",
      "\u001b[2m\u001b[36m(pid=62077)\u001b[0m Episode 1\n"
     ]
    },
    {
     "name": "stderr",
     "output_type": "stream",
     "text": [
      "\u001b[2m\u001b[36m(pid=62077)\u001b[0m /home/ec2-user/.local/lib/python3.6/site-packages/ray/workers/default_worker.py:58: RuntimeWarning: invalid value encountered in true_divide\n",
      "\u001b[2m\u001b[36m(pid=62077)\u001b[0m   type=str,\n"
     ]
    },
    {
     "name": "stdout",
     "output_type": "stream",
     "text": [
      "\u001b[2m\u001b[36m(pid=62079)\u001b[0m Playing against opponent\n",
      "\u001b[2m\u001b[36m(pid=62079)\u001b[0m Episode 1\n"
     ]
    },
    {
     "name": "stderr",
     "output_type": "stream",
     "text": [
      "\u001b[2m\u001b[36m(pid=62079)\u001b[0m /home/ec2-user/.local/lib/python3.6/site-packages/ray/workers/default_worker.py:58: RuntimeWarning: invalid value encountered in true_divide\n",
      "\u001b[2m\u001b[36m(pid=62079)\u001b[0m   type=str,\n"
     ]
    },
    {
     "name": "stdout",
     "output_type": "stream",
     "text": [
      "\u001b[2m\u001b[36m(pid=62070)\u001b[0m Playing against opponent\n",
      "\u001b[2m\u001b[36m(pid=62070)\u001b[0m Episode 1\n"
     ]
    },
    {
     "name": "stderr",
     "output_type": "stream",
     "text": [
      "\u001b[2m\u001b[36m(pid=62070)\u001b[0m /home/ec2-user/.local/lib/python3.6/site-packages/ray/workers/default_worker.py:58: RuntimeWarning: invalid value encountered in true_divide\n",
      "\u001b[2m\u001b[36m(pid=62070)\u001b[0m   type=str,\n"
     ]
    },
    {
     "name": "stdout",
     "output_type": "stream",
     "text": [
      "\u001b[2m\u001b[36m(pid=62074)\u001b[0m Playing against opponent\n",
      "\u001b[2m\u001b[36m(pid=62074)\u001b[0m Episode 1\n"
     ]
    },
    {
     "name": "stderr",
     "output_type": "stream",
     "text": [
      "\u001b[2m\u001b[36m(pid=62074)\u001b[0m /home/ec2-user/.local/lib/python3.6/site-packages/ray/workers/default_worker.py:58: RuntimeWarning: invalid value encountered in true_divide\n",
      "\u001b[2m\u001b[36m(pid=62074)\u001b[0m   type=str,\n"
     ]
    },
    {
     "name": "stdout",
     "output_type": "stream",
     "text": [
      "\u001b[2m\u001b[36m(pid=62073)\u001b[0m Playing against opponent\n",
      "\u001b[2m\u001b[36m(pid=62073)\u001b[0m Episode 1\n"
     ]
    },
    {
     "name": "stderr",
     "output_type": "stream",
     "text": [
      "\u001b[2m\u001b[36m(pid=62073)\u001b[0m /home/ec2-user/.local/lib/python3.6/site-packages/ray/workers/default_worker.py:58: RuntimeWarning: invalid value encountered in true_divide\n",
      "\u001b[2m\u001b[36m(pid=62073)\u001b[0m   type=str,\n"
     ]
    },
    {
     "name": "stdout",
     "output_type": "stream",
     "text": [
      "\u001b[2m\u001b[36m(pid=62065)\u001b[0m Playing against opponent\n",
      "\u001b[2m\u001b[36m(pid=62065)\u001b[0m Episode 1\n"
     ]
    },
    {
     "name": "stderr",
     "output_type": "stream",
     "text": [
      "\u001b[2m\u001b[36m(pid=62065)\u001b[0m /home/ec2-user/.local/lib/python3.6/site-packages/ray/workers/default_worker.py:58: RuntimeWarning: invalid value encountered in true_divide\n",
      "\u001b[2m\u001b[36m(pid=62065)\u001b[0m   type=str,\n"
     ]
    },
    {
     "name": "stdout",
     "output_type": "stream",
     "text": [
      "\u001b[2m\u001b[36m(pid=62072)\u001b[0m Playing against opponent\n",
      "\u001b[2m\u001b[36m(pid=62072)\u001b[0m Episode 1\n"
     ]
    },
    {
     "name": "stderr",
     "output_type": "stream",
     "text": [
      "\u001b[2m\u001b[36m(pid=62072)\u001b[0m /home/ec2-user/.local/lib/python3.6/site-packages/ray/workers/default_worker.py:58: RuntimeWarning: invalid value encountered in true_divide\n",
      "\u001b[2m\u001b[36m(pid=62072)\u001b[0m   type=str,\n"
     ]
    },
    {
     "name": "stdout",
     "output_type": "stream",
     "text": [
      "\u001b[2m\u001b[36m(pid=62069)\u001b[0m Playing against opponent\n",
      "\u001b[2m\u001b[36m(pid=62069)\u001b[0m Episode 1\n"
     ]
    },
    {
     "name": "stderr",
     "output_type": "stream",
     "text": [
      "\u001b[2m\u001b[36m(pid=62069)\u001b[0m /home/ec2-user/.local/lib/python3.6/site-packages/ray/workers/default_worker.py:58: RuntimeWarning: invalid value encountered in true_divide\n",
      "\u001b[2m\u001b[36m(pid=62069)\u001b[0m   type=str,\n"
     ]
    },
    {
     "name": "stdout",
     "output_type": "stream",
     "text": [
      "\u001b[2m\u001b[36m(pid=62064)\u001b[0m Playing against opponent\n",
      "\u001b[2m\u001b[36m(pid=62064)\u001b[0m Episode 1\n"
     ]
    },
    {
     "name": "stderr",
     "output_type": "stream",
     "text": [
      "\u001b[2m\u001b[36m(pid=62064)\u001b[0m /home/ec2-user/.local/lib/python3.6/site-packages/ray/workers/default_worker.py:58: RuntimeWarning: invalid value encountered in true_divide\n",
      "\u001b[2m\u001b[36m(pid=62064)\u001b[0m   type=str,\n"
     ]
    },
    {
     "name": "stdout",
     "output_type": "stream",
     "text": [
      "\u001b[2m\u001b[36m(pid=62066)\u001b[0m Playing against opponent\n",
      "\u001b[2m\u001b[36m(pid=62066)\u001b[0m Episode 1\n"
     ]
    },
    {
     "name": "stderr",
     "output_type": "stream",
     "text": [
      "\u001b[2m\u001b[36m(pid=62066)\u001b[0m /home/ec2-user/.local/lib/python3.6/site-packages/ray/workers/default_worker.py:58: RuntimeWarning: invalid value encountered in true_divide\n",
      "\u001b[2m\u001b[36m(pid=62066)\u001b[0m   type=str,\n"
     ]
    },
    {
     "name": "stdout",
     "output_type": "stream",
     "text": [
      "\u001b[2m\u001b[36m(pid=62063)\u001b[0m Draw\n",
      "\u001b[2m\u001b[36m(pid=62077)\u001b[0m Draw\n",
      "\u001b[2m\u001b[36m(pid=62071)\u001b[0m Draw\n",
      "\u001b[2m\u001b[36m(pid=62073)\u001b[0m Draw\n",
      "\u001b[2m\u001b[36m(pid=62067)\u001b[0m Draw\n",
      "\u001b[2m\u001b[36m(pid=62076)\u001b[0m Draw\n",
      "\u001b[2m\u001b[36m(pid=62075)\u001b[0m Draw\n",
      "\u001b[2m\u001b[36m(pid=62079)\u001b[0m Draw\n",
      "\u001b[2m\u001b[36m(pid=62070)\u001b[0m Draw\n",
      "\u001b[2m\u001b[36m(pid=62072)\u001b[0m Draw\n",
      "\u001b[2m\u001b[36m(pid=62074)\u001b[0m Draw\n",
      "\u001b[2m\u001b[36m(pid=62065)\u001b[0m Draw\n",
      "\u001b[2m\u001b[36m(pid=62064)\u001b[0m Draw\n",
      "\u001b[2m\u001b[36m(pid=62066)\u001b[0m Draw\n",
      "\u001b[2m\u001b[36m(pid=62068)\u001b[0m Draw\n",
      "\u001b[2m\u001b[36m(pid=62069)\u001b[0m Draw\n",
      "Wins 0 0.0% | Draws 16 1.0% | Losses 0 0.0%\n",
      "Old Network was better\n",
      "LEARNING\n",
      "\u001b[2m\u001b[36m(pid=62068)\u001b[0m Playing against self\n",
      "\u001b[2m\u001b[36m(pid=62068)\u001b[0m Episode 1\n"
     ]
    },
    {
     "name": "stderr",
     "output_type": "stream",
     "text": [
      "\u001b[2m\u001b[36m(pid=62068)\u001b[0m /home/ec2-user/.local/lib/python3.6/site-packages/ray/workers/default_worker.py:58: RuntimeWarning: invalid value encountered in true_divide\n",
      "\u001b[2m\u001b[36m(pid=62068)\u001b[0m   type=str,\n"
     ]
    },
    {
     "name": "stdout",
     "output_type": "stream",
     "text": [
      "\u001b[2m\u001b[36m(pid=62066)\u001b[0m Playing against self\n",
      "\u001b[2m\u001b[36m(pid=62066)\u001b[0m Episode 1\n"
     ]
    },
    {
     "name": "stderr",
     "output_type": "stream",
     "text": [
      "\u001b[2m\u001b[36m(pid=62066)\u001b[0m /home/ec2-user/.local/lib/python3.6/site-packages/ray/workers/default_worker.py:58: RuntimeWarning: invalid value encountered in true_divide\n",
      "\u001b[2m\u001b[36m(pid=62066)\u001b[0m   type=str,\n"
     ]
    },
    {
     "name": "stdout",
     "output_type": "stream",
     "text": [
      "\u001b[2m\u001b[36m(pid=62064)\u001b[0m Playing against self\n",
      "\u001b[2m\u001b[36m(pid=62064)\u001b[0m Episode 1\n"
     ]
    },
    {
     "name": "stderr",
     "output_type": "stream",
     "text": [
      "\u001b[2m\u001b[36m(pid=62064)\u001b[0m /home/ec2-user/.local/lib/python3.6/site-packages/ray/workers/default_worker.py:58: RuntimeWarning: invalid value encountered in true_divide\n",
      "\u001b[2m\u001b[36m(pid=62064)\u001b[0m   type=str,\n"
     ]
    },
    {
     "name": "stdout",
     "output_type": "stream",
     "text": [
      "\u001b[2m\u001b[36m(pid=62065)\u001b[0m Playing against self\n",
      "\u001b[2m\u001b[36m(pid=62065)\u001b[0m Episode 1\n"
     ]
    },
    {
     "name": "stderr",
     "output_type": "stream",
     "text": [
      "\u001b[2m\u001b[36m(pid=62065)\u001b[0m /home/ec2-user/.local/lib/python3.6/site-packages/ray/workers/default_worker.py:58: RuntimeWarning: invalid value encountered in true_divide\n",
      "\u001b[2m\u001b[36m(pid=62065)\u001b[0m   type=str,\n"
     ]
    },
    {
     "name": "stdout",
     "output_type": "stream",
     "text": [
      "\u001b[2m\u001b[36m(pid=62069)\u001b[0m Playing against self\n",
      "\u001b[2m\u001b[36m(pid=62069)\u001b[0m Episode 1\n"
     ]
    },
    {
     "name": "stderr",
     "output_type": "stream",
     "text": [
      "\u001b[2m\u001b[36m(pid=62069)\u001b[0m /home/ec2-user/.local/lib/python3.6/site-packages/ray/workers/default_worker.py:58: RuntimeWarning: invalid value encountered in true_divide\n",
      "\u001b[2m\u001b[36m(pid=62069)\u001b[0m   type=str,\n"
     ]
    },
    {
     "name": "stdout",
     "output_type": "stream",
     "text": [
      "\u001b[2m\u001b[36m(pid=62072)\u001b[0m Playing against self\n",
      "\u001b[2m\u001b[36m(pid=62072)\u001b[0m Episode 1\n"
     ]
    },
    {
     "name": "stderr",
     "output_type": "stream",
     "text": [
      "\u001b[2m\u001b[36m(pid=62072)\u001b[0m /home/ec2-user/.local/lib/python3.6/site-packages/ray/workers/default_worker.py:58: RuntimeWarning: invalid value encountered in true_divide\n",
      "\u001b[2m\u001b[36m(pid=62072)\u001b[0m   type=str,\n"
     ]
    },
    {
     "name": "stdout",
     "output_type": "stream",
     "text": [
      "\u001b[2m\u001b[36m(pid=62074)\u001b[0m Playing against self\n",
      "\u001b[2m\u001b[36m(pid=62074)\u001b[0m Episode 1\n"
     ]
    },
    {
     "name": "stderr",
     "output_type": "stream",
     "text": [
      "\u001b[2m\u001b[36m(pid=62074)\u001b[0m /home/ec2-user/.local/lib/python3.6/site-packages/ray/workers/default_worker.py:58: RuntimeWarning: invalid value encountered in true_divide\n",
      "\u001b[2m\u001b[36m(pid=62074)\u001b[0m   type=str,\n"
     ]
    },
    {
     "name": "stdout",
     "output_type": "stream",
     "text": [
      "\u001b[2m\u001b[36m(pid=62070)\u001b[0m Playing against self\n",
      "\u001b[2m\u001b[36m(pid=62070)\u001b[0m Episode 1\n"
     ]
    },
    {
     "name": "stderr",
     "output_type": "stream",
     "text": [
      "\u001b[2m\u001b[36m(pid=62070)\u001b[0m /home/ec2-user/.local/lib/python3.6/site-packages/ray/workers/default_worker.py:58: RuntimeWarning: invalid value encountered in true_divide\n",
      "\u001b[2m\u001b[36m(pid=62070)\u001b[0m   type=str,\n"
     ]
    },
    {
     "name": "stdout",
     "output_type": "stream",
     "text": [
      "\u001b[2m\u001b[36m(pid=62079)\u001b[0m Playing against self\n",
      "\u001b[2m\u001b[36m(pid=62079)\u001b[0m Episode 1\n"
     ]
    },
    {
     "name": "stderr",
     "output_type": "stream",
     "text": [
      "\u001b[2m\u001b[36m(pid=62079)\u001b[0m /home/ec2-user/.local/lib/python3.6/site-packages/ray/workers/default_worker.py:58: RuntimeWarning: invalid value encountered in true_divide\n",
      "\u001b[2m\u001b[36m(pid=62079)\u001b[0m   type=str,\n"
     ]
    },
    {
     "name": "stdout",
     "output_type": "stream",
     "text": [
      "\u001b[2m\u001b[36m(pid=62076)\u001b[0m Playing against self\n",
      "\u001b[2m\u001b[36m(pid=62076)\u001b[0m Episode 1\n"
     ]
    },
    {
     "name": "stderr",
     "output_type": "stream",
     "text": [
      "\u001b[2m\u001b[36m(pid=62076)\u001b[0m /home/ec2-user/.local/lib/python3.6/site-packages/ray/workers/default_worker.py:58: RuntimeWarning: invalid value encountered in true_divide\n",
      "\u001b[2m\u001b[36m(pid=62076)\u001b[0m   type=str,\n"
     ]
    },
    {
     "name": "stdout",
     "output_type": "stream",
     "text": [
      "\u001b[2m\u001b[36m(pid=62070)\u001b[0m White Loss\n",
      "\u001b[2m\u001b[36m(pid=62070)\u001b[0m Episode 2\n",
      "\u001b[2m\u001b[36m(pid=62075)\u001b[0m Playing against self\n",
      "\u001b[2m\u001b[36m(pid=62075)\u001b[0m Episode 1\n"
     ]
    },
    {
     "name": "stderr",
     "output_type": "stream",
     "text": [
      "\u001b[2m\u001b[36m(pid=62075)\u001b[0m /home/ec2-user/.local/lib/python3.6/site-packages/ray/workers/default_worker.py:58: RuntimeWarning: invalid value encountered in true_divide\n",
      "\u001b[2m\u001b[36m(pid=62075)\u001b[0m   type=str,\n"
     ]
    },
    {
     "name": "stdout",
     "output_type": "stream",
     "text": [
      "\u001b[2m\u001b[36m(pid=62067)\u001b[0m Playing against self\n",
      "\u001b[2m\u001b[36m(pid=62067)\u001b[0m Episode 1\n"
     ]
    },
    {
     "name": "stderr",
     "output_type": "stream",
     "text": [
      "\u001b[2m\u001b[36m(pid=62067)\u001b[0m /home/ec2-user/.local/lib/python3.6/site-packages/ray/workers/default_worker.py:58: RuntimeWarning: invalid value encountered in true_divide\n",
      "\u001b[2m\u001b[36m(pid=62067)\u001b[0m   type=str,\n"
     ]
    },
    {
     "name": "stdout",
     "output_type": "stream",
     "text": [
      "\u001b[2m\u001b[36m(pid=62073)\u001b[0m Playing against self\n",
      "\u001b[2m\u001b[36m(pid=62073)\u001b[0m Episode 1\n"
     ]
    },
    {
     "name": "stderr",
     "output_type": "stream",
     "text": [
      "\u001b[2m\u001b[36m(pid=62073)\u001b[0m /home/ec2-user/.local/lib/python3.6/site-packages/ray/workers/default_worker.py:58: RuntimeWarning: invalid value encountered in true_divide\n",
      "\u001b[2m\u001b[36m(pid=62073)\u001b[0m   type=str,\n"
     ]
    },
    {
     "name": "stdout",
     "output_type": "stream",
     "text": [
      "\u001b[2m\u001b[36m(pid=62071)\u001b[0m Playing against self\n",
      "\u001b[2m\u001b[36m(pid=62071)\u001b[0m Episode 1\n"
     ]
    },
    {
     "name": "stderr",
     "output_type": "stream",
     "text": [
      "\u001b[2m\u001b[36m(pid=62071)\u001b[0m /home/ec2-user/.local/lib/python3.6/site-packages/ray/workers/default_worker.py:58: RuntimeWarning: invalid value encountered in true_divide\n",
      "\u001b[2m\u001b[36m(pid=62071)\u001b[0m   type=str,\n"
     ]
    },
    {
     "name": "stdout",
     "output_type": "stream",
     "text": [
      "\u001b[2m\u001b[36m(pid=62079)\u001b[0m White Won\n",
      "\u001b[2m\u001b[36m(pid=62079)\u001b[0m Episode 2\n",
      "\u001b[2m\u001b[36m(pid=62077)\u001b[0m Playing against self\n",
      "\u001b[2m\u001b[36m(pid=62077)\u001b[0m Episode 1\n"
     ]
    },
    {
     "name": "stderr",
     "output_type": "stream",
     "text": [
      "\u001b[2m\u001b[36m(pid=62077)\u001b[0m /home/ec2-user/.local/lib/python3.6/site-packages/ray/workers/default_worker.py:58: RuntimeWarning: invalid value encountered in true_divide\n",
      "\u001b[2m\u001b[36m(pid=62077)\u001b[0m   type=str,\n"
     ]
    },
    {
     "name": "stdout",
     "output_type": "stream",
     "text": [
      "\u001b[2m\u001b[36m(pid=62063)\u001b[0m Playing against self\n",
      "\u001b[2m\u001b[36m(pid=62063)\u001b[0m Episode 1\n"
     ]
    },
    {
     "name": "stderr",
     "output_type": "stream",
     "text": [
      "\u001b[2m\u001b[36m(pid=62063)\u001b[0m /home/ec2-user/.local/lib/python3.6/site-packages/ray/workers/default_worker.py:58: RuntimeWarning: invalid value encountered in true_divide\n",
      "\u001b[2m\u001b[36m(pid=62063)\u001b[0m   type=str,\n"
     ]
    },
    {
     "name": "stdout",
     "output_type": "stream",
     "text": [
      "\u001b[2m\u001b[36m(pid=62068)\u001b[0m Draw\n",
      "\u001b[2m\u001b[36m(pid=62068)\u001b[0m WARNING DELETING EXPERIENCES\n",
      "\u001b[2m\u001b[36m(pid=62068)\u001b[0m Episode 2\n",
      "\u001b[2m\u001b[36m(pid=62064)\u001b[0m Draw\n",
      "\u001b[2m\u001b[36m(pid=62064)\u001b[0m WARNING DELETING EXPERIENCES\n",
      "\u001b[2m\u001b[36m(pid=62064)\u001b[0m Episode 2\n",
      "\u001b[2m\u001b[36m(pid=62066)\u001b[0m Draw\n",
      "\u001b[2m\u001b[36m(pid=62066)\u001b[0m WARNING DELETING EXPERIENCES\n",
      "\u001b[2m\u001b[36m(pid=62066)\u001b[0m Episode 2\n",
      "\u001b[2m\u001b[36m(pid=62079)\u001b[0m Draw\n",
      "\u001b[2m\u001b[36m(pid=62079)\u001b[0m WARNING DELETING EXPERIENCES\n",
      "\u001b[2m\u001b[36m(pid=62079)\u001b[0m Episode 3\n",
      "\u001b[2m\u001b[36m(pid=62072)\u001b[0m Draw\n",
      "\u001b[2m\u001b[36m(pid=62072)\u001b[0m WARNING DELETING EXPERIENCES\n",
      "\u001b[2m\u001b[36m(pid=62072)\u001b[0m Episode 2\n",
      "\u001b[2m\u001b[36m(pid=62071)\u001b[0m White Won\n",
      "\u001b[2m\u001b[36m(pid=62071)\u001b[0m Episode 2\n",
      "\u001b[2m\u001b[36m(pid=62074)\u001b[0m White Won\n",
      "\u001b[2m\u001b[36m(pid=62074)\u001b[0m Episode 2\n",
      "\u001b[2m\u001b[36m(pid=62076)\u001b[0m Draw\n",
      "\u001b[2m\u001b[36m(pid=62076)\u001b[0m WARNING DELETING EXPERIENCES\n",
      "\u001b[2m\u001b[36m(pid=62076)\u001b[0m Episode 2\n",
      "\u001b[2m\u001b[36m(pid=62067)\u001b[0m Draw\n",
      "\u001b[2m\u001b[36m(pid=62067)\u001b[0m WARNING DELETING EXPERIENCES\n",
      "\u001b[2m\u001b[36m(pid=62067)\u001b[0m Episode 2\n",
      "\u001b[2m\u001b[36m(pid=62077)\u001b[0m Draw\n",
      "\u001b[2m\u001b[36m(pid=62077)\u001b[0m WARNING DELETING EXPERIENCES\n",
      "\u001b[2m\u001b[36m(pid=62077)\u001b[0m Episode 2\n",
      "\u001b[2m\u001b[36m(pid=62065)\u001b[0m Draw\n",
      "\u001b[2m\u001b[36m(pid=62065)\u001b[0m WARNING DELETING EXPERIENCES\n",
      "\u001b[2m\u001b[36m(pid=62065)\u001b[0m Episode 2\n",
      "\u001b[2m\u001b[36m(pid=62066)\u001b[0m Draw\n",
      "\u001b[2m\u001b[36m(pid=62066)\u001b[0m WARNING DELETING EXPERIENCES\n",
      "\u001b[2m\u001b[36m(pid=62066)\u001b[0m Episode 3\n",
      "\u001b[2m\u001b[36m(pid=62068)\u001b[0m Draw\n",
      "\u001b[2m\u001b[36m(pid=62068)\u001b[0m WARNING DELETING EXPERIENCES\n",
      "\u001b[2m\u001b[36m(pid=62068)\u001b[0m Episode 3\n",
      "\u001b[2m\u001b[36m(pid=62073)\u001b[0m Draw\n",
      "\u001b[2m\u001b[36m(pid=62073)\u001b[0m WARNING DELETING EXPERIENCES\n",
      "\u001b[2m\u001b[36m(pid=62073)\u001b[0m Episode 2\n",
      "\u001b[2m\u001b[36m(pid=62064)\u001b[0m Draw\n",
      "\u001b[2m\u001b[36m(pid=62064)\u001b[0m WARNING DELETING EXPERIENCES\n",
      "\u001b[2m\u001b[36m(pid=62064)\u001b[0m Episode 3\n",
      "\u001b[2m\u001b[36m(pid=62077)\u001b[0m White Loss\n",
      "\u001b[2m\u001b[36m(pid=62077)\u001b[0m Episode 3\n",
      "\u001b[2m\u001b[36m(pid=62072)\u001b[0m Draw\n",
      "\u001b[2m\u001b[36m(pid=62072)\u001b[0m WARNING DELETING EXPERIENCES\n",
      "\u001b[2m\u001b[36m(pid=62072)\u001b[0m Episode 3\n",
      "\u001b[2m\u001b[36m(pid=62070)\u001b[0m Draw\n",
      "\u001b[2m\u001b[36m(pid=62070)\u001b[0m WARNING DELETING EXPERIENCES\n",
      "\u001b[2m\u001b[36m(pid=62070)\u001b[0m Episode 3\n",
      "\u001b[2m\u001b[36m(pid=62079)\u001b[0m Draw\n",
      "\u001b[2m\u001b[36m(pid=62079)\u001b[0m WARNING DELETING EXPERIENCES\n",
      "\u001b[2m\u001b[36m(pid=62079)\u001b[0m Episode 4\n",
      "\u001b[2m\u001b[36m(pid=62067)\u001b[0m Draw\n",
      "\u001b[2m\u001b[36m(pid=62067)\u001b[0m WARNING DELETING EXPERIENCES\n",
      "\u001b[2m\u001b[36m(pid=62067)\u001b[0m Episode 3\n",
      "\u001b[2m\u001b[36m(pid=62076)\u001b[0m Draw\n",
      "\u001b[2m\u001b[36m(pid=62076)\u001b[0m WARNING DELETING EXPERIENCES\n",
      "\u001b[2m\u001b[36m(pid=62076)\u001b[0m Episode 3\n",
      "\u001b[2m\u001b[36m(pid=62065)\u001b[0m Draw\n",
      "\u001b[2m\u001b[36m(pid=62065)\u001b[0m WARNING DELETING EXPERIENCES\n",
      "\u001b[2m\u001b[36m(pid=62065)\u001b[0m Episode 3\n",
      "\u001b[2m\u001b[36m(pid=62077)\u001b[0m White Won\n",
      "\u001b[2m\u001b[36m(pid=62077)\u001b[0m Episode 4\n",
      "\u001b[2m\u001b[36m(pid=62075)\u001b[0m Draw\n",
      "\u001b[2m\u001b[36m(pid=62075)\u001b[0m WARNING DELETING EXPERIENCES\n",
      "\u001b[2m\u001b[36m(pid=62075)\u001b[0m Episode 2\n",
      "\u001b[2m\u001b[36m(pid=62073)\u001b[0m White Won\n",
      "\u001b[2m\u001b[36m(pid=62073)\u001b[0m Episode 3\n",
      "\u001b[2m\u001b[36m(pid=62069)\u001b[0m Draw\n",
      "\u001b[2m\u001b[36m(pid=62069)\u001b[0m WARNING DELETING EXPERIENCES\n",
      "\u001b[2m\u001b[36m(pid=62069)\u001b[0m Episode 2\n",
      "\u001b[2m\u001b[36m(pid=62068)\u001b[0m Draw\n",
      "\u001b[2m\u001b[36m(pid=62068)\u001b[0m WARNING DELETING EXPERIENCES\n",
      "\u001b[2m\u001b[36m(pid=62068)\u001b[0m Episode 4\n",
      "\u001b[2m\u001b[36m(pid=62064)\u001b[0m Draw\n",
      "\u001b[2m\u001b[36m(pid=62064)\u001b[0m WARNING DELETING EXPERIENCES\n",
      "\u001b[2m\u001b[36m(pid=62064)\u001b[0m Episode 4\n",
      "\u001b[2m\u001b[36m(pid=62063)\u001b[0m Draw\n",
      "\u001b[2m\u001b[36m(pid=62063)\u001b[0m WARNING DELETING EXPERIENCES\n",
      "\u001b[2m\u001b[36m(pid=62063)\u001b[0m Episode 2\n",
      "\u001b[2m\u001b[36m(pid=62073)\u001b[0m White Won\n",
      "\u001b[2m\u001b[36m(pid=62073)\u001b[0m Episode 4\n",
      "\u001b[2m\u001b[36m(pid=62079)\u001b[0m White Won\n",
      "\u001b[2m\u001b[36m(pid=62079)\u001b[0m Episode 5\n",
      "\u001b[2m\u001b[36m(pid=62070)\u001b[0m Draw\n",
      "\u001b[2m\u001b[36m(pid=62070)\u001b[0m WARNING DELETING EXPERIENCES\n",
      "\u001b[2m\u001b[36m(pid=62070)\u001b[0m Episode 4\n",
      "\u001b[2m\u001b[36m(pid=62066)\u001b[0m Draw\n",
      "\u001b[2m\u001b[36m(pid=62066)\u001b[0m WARNING DELETING EXPERIENCES\n",
      "\u001b[2m\u001b[36m(pid=62066)\u001b[0m Episode 4\n",
      "\u001b[2m\u001b[36m(pid=62065)\u001b[0m Draw\n",
      "\u001b[2m\u001b[36m(pid=62065)\u001b[0m WARNING DELETING EXPERIENCES\n",
      "\u001b[2m\u001b[36m(pid=62065)\u001b[0m Episode 4\n",
      "\u001b[2m\u001b[36m(pid=62075)\u001b[0m Draw\n",
      "\u001b[2m\u001b[36m(pid=62075)\u001b[0m WARNING DELETING EXPERIENCES\n",
      "\u001b[2m\u001b[36m(pid=62075)\u001b[0m Episode 3\n",
      "\u001b[2m\u001b[36m(pid=62074)\u001b[0m Draw\n",
      "\u001b[2m\u001b[36m(pid=62074)\u001b[0m WARNING DELETING EXPERIENCES\n",
      "\u001b[2m\u001b[36m(pid=62072)\u001b[0m Draw\n",
      "\u001b[2m\u001b[36m(pid=62072)\u001b[0m WARNING DELETING EXPERIENCES\n",
      "\u001b[2m\u001b[36m(pid=62072)\u001b[0m Episode 4\n",
      "\u001b[2m\u001b[36m(pid=62074)\u001b[0m Episode 3\n",
      "\u001b[2m\u001b[36m(pid=62076)\u001b[0m Draw\n",
      "\u001b[2m\u001b[36m(pid=62076)\u001b[0m WARNING DELETING EXPERIENCES\n",
      "\u001b[2m\u001b[36m(pid=62076)\u001b[0m Episode 4\n",
      "\u001b[2m\u001b[36m(pid=62077)\u001b[0m Draw\n",
      "\u001b[2m\u001b[36m(pid=62077)\u001b[0m WARNING DELETING EXPERIENCES\n",
      "\u001b[2m\u001b[36m(pid=62077)\u001b[0m Episode 5\n",
      "\u001b[2m\u001b[36m(pid=62069)\u001b[0m Draw\n",
      "\u001b[2m\u001b[36m(pid=62069)\u001b[0m WARNING DELETING EXPERIENCES\n",
      "\u001b[2m\u001b[36m(pid=62069)\u001b[0m Episode 3\n",
      "\u001b[2m\u001b[36m(pid=62074)\u001b[0m White Loss\n",
      "\u001b[2m\u001b[36m(pid=62074)\u001b[0m Episode 4\n",
      "\u001b[2m\u001b[36m(pid=62071)\u001b[0m Draw\n",
      "\u001b[2m\u001b[36m(pid=62071)\u001b[0m WARNING DELETING EXPERIENCES\n",
      "\u001b[2m\u001b[36m(pid=62071)\u001b[0m Episode 3\n",
      "\u001b[2m\u001b[36m(pid=62068)\u001b[0m Draw\n",
      "\u001b[2m\u001b[36m(pid=62068)\u001b[0m WARNING DELETING EXPERIENCES\n",
      "\u001b[2m\u001b[36m(pid=62068)\u001b[0m Episode 5\n",
      "\u001b[2m\u001b[36m(pid=62067)\u001b[0m Draw\n",
      "\u001b[2m\u001b[36m(pid=62067)\u001b[0m WARNING DELETING EXPERIENCES\n",
      "\u001b[2m\u001b[36m(pid=62067)\u001b[0m Episode 4\n",
      "\u001b[2m\u001b[36m(pid=62079)\u001b[0m Draw\n",
      "\u001b[2m\u001b[36m(pid=62079)\u001b[0m WARNING DELETING EXPERIENCES\n",
      "\u001b[2m\u001b[36m(pid=62070)\u001b[0m Draw\n",
      "\u001b[2m\u001b[36m(pid=62070)\u001b[0m WARNING DELETING EXPERIENCES\n",
      "\u001b[2m\u001b[36m(pid=62070)\u001b[0m Episode 5\n",
      "\u001b[2m\u001b[36m(pid=62064)\u001b[0m Draw\n",
      "\u001b[2m\u001b[36m(pid=62064)\u001b[0m WARNING DELETING EXPERIENCES\n",
      "\u001b[2m\u001b[36m(pid=62064)\u001b[0m Episode 5\n",
      "\u001b[2m\u001b[36m(pid=62073)\u001b[0m Draw\n",
      "\u001b[2m\u001b[36m(pid=62073)\u001b[0m WARNING DELETING EXPERIENCES\n",
      "\u001b[2m\u001b[36m(pid=62073)\u001b[0m Episode 5\n",
      "\u001b[2m\u001b[36m(pid=62069)\u001b[0m White Loss\n",
      "\u001b[2m\u001b[36m(pid=62069)\u001b[0m Episode 4\n",
      "\u001b[2m\u001b[36m(pid=62064)\u001b[0m White Won\n",
      "\u001b[2m\u001b[36m(pid=62075)\u001b[0m White Loss\n",
      "\u001b[2m\u001b[36m(pid=62075)\u001b[0m Episode 4\n",
      "\u001b[2m\u001b[36m(pid=62063)\u001b[0m Draw\n",
      "\u001b[2m\u001b[36m(pid=62063)\u001b[0m WARNING DELETING EXPERIENCES\n",
      "\u001b[2m\u001b[36m(pid=62063)\u001b[0m Episode 3\n",
      "\u001b[2m\u001b[36m(pid=62066)\u001b[0m Draw\n",
      "\u001b[2m\u001b[36m(pid=62066)\u001b[0m WARNING DELETING EXPERIENCES\n",
      "\u001b[2m\u001b[36m(pid=62066)\u001b[0m Episode 5\n",
      "\u001b[2m\u001b[36m(pid=62076)\u001b[0m Draw\n",
      "\u001b[2m\u001b[36m(pid=62076)\u001b[0m WARNING DELETING EXPERIENCES\n",
      "\u001b[2m\u001b[36m(pid=62076)\u001b[0m Episode 5\n",
      "\u001b[2m\u001b[36m(pid=62077)\u001b[0m Draw\n",
      "\u001b[2m\u001b[36m(pid=62077)\u001b[0m WARNING DELETING EXPERIENCES\n",
      "\u001b[2m\u001b[36m(pid=62072)\u001b[0m Draw\n",
      "\u001b[2m\u001b[36m(pid=62072)\u001b[0m WARNING DELETING EXPERIENCES\n",
      "\u001b[2m\u001b[36m(pid=62072)\u001b[0m Episode 5\n",
      "\u001b[2m\u001b[36m(pid=62065)\u001b[0m Draw\n",
      "\u001b[2m\u001b[36m(pid=62065)\u001b[0m WARNING DELETING EXPERIENCES\n",
      "\u001b[2m\u001b[36m(pid=62065)\u001b[0m Episode 5\n",
      "\u001b[2m\u001b[36m(pid=62067)\u001b[0m Draw\n",
      "\u001b[2m\u001b[36m(pid=62067)\u001b[0m WARNING DELETING EXPERIENCES\n",
      "\u001b[2m\u001b[36m(pid=62067)\u001b[0m Episode 5\n",
      "\u001b[2m\u001b[36m(pid=62070)\u001b[0m Draw\n",
      "\u001b[2m\u001b[36m(pid=62070)\u001b[0m WARNING DELETING EXPERIENCES\n",
      "\u001b[2m\u001b[36m(pid=62074)\u001b[0m Draw\n",
      "\u001b[2m\u001b[36m(pid=62074)\u001b[0m WARNING DELETING EXPERIENCES\n",
      "\u001b[2m\u001b[36m(pid=62074)\u001b[0m Episode 5\n",
      "\u001b[2m\u001b[36m(pid=62073)\u001b[0m Draw\n",
      "\u001b[2m\u001b[36m(pid=62073)\u001b[0m WARNING DELETING EXPERIENCES\n",
      "\u001b[2m\u001b[36m(pid=62071)\u001b[0m Draw\n",
      "\u001b[2m\u001b[36m(pid=62071)\u001b[0m WARNING DELETING EXPERIENCES\n",
      "\u001b[2m\u001b[36m(pid=62071)\u001b[0m Episode 4\n",
      "\u001b[2m\u001b[36m(pid=62063)\u001b[0m Draw\n",
      "\u001b[2m\u001b[36m(pid=62063)\u001b[0m WARNING DELETING EXPERIENCES\n",
      "\u001b[2m\u001b[36m(pid=62063)\u001b[0m Episode 4\n",
      "\u001b[2m\u001b[36m(pid=62068)\u001b[0m Draw\n",
      "\u001b[2m\u001b[36m(pid=62068)\u001b[0m WARNING DELETING EXPERIENCES\n",
      "\u001b[2m\u001b[36m(pid=62075)\u001b[0m Draw\n",
      "\u001b[2m\u001b[36m(pid=62075)\u001b[0m WARNING DELETING EXPERIENCES\n",
      "\u001b[2m\u001b[36m(pid=62075)\u001b[0m Episode 5\n",
      "\u001b[2m\u001b[36m(pid=62069)\u001b[0m Draw\n",
      "\u001b[2m\u001b[36m(pid=62069)\u001b[0m WARNING DELETING EXPERIENCES\n",
      "\u001b[2m\u001b[36m(pid=62069)\u001b[0m Episode 5\n",
      "\u001b[2m\u001b[36m(pid=62072)\u001b[0m Draw\n",
      "\u001b[2m\u001b[36m(pid=62072)\u001b[0m WARNING DELETING EXPERIENCES\n",
      "\u001b[2m\u001b[36m(pid=62065)\u001b[0m White Loss\n",
      "\u001b[2m\u001b[36m(pid=62076)\u001b[0m Draw\n",
      "\u001b[2m\u001b[36m(pid=62076)\u001b[0m WARNING DELETING EXPERIENCES\n",
      "\u001b[2m\u001b[36m(pid=62066)\u001b[0m Draw\n",
      "\u001b[2m\u001b[36m(pid=62066)\u001b[0m WARNING DELETING EXPERIENCES\n",
      "\u001b[2m\u001b[36m(pid=62067)\u001b[0m Draw\n",
      "\u001b[2m\u001b[36m(pid=62067)\u001b[0m WARNING DELETING EXPERIENCES\n",
      "\u001b[2m\u001b[36m(pid=62063)\u001b[0m White Won\n",
      "\u001b[2m\u001b[36m(pid=62063)\u001b[0m Episode 5\n",
      "\u001b[2m\u001b[36m(pid=62071)\u001b[0m Draw\n",
      "\u001b[2m\u001b[36m(pid=62071)\u001b[0m WARNING DELETING EXPERIENCES\n",
      "\u001b[2m\u001b[36m(pid=62071)\u001b[0m Episode 5\n",
      "\u001b[2m\u001b[36m(pid=62075)\u001b[0m Draw\n",
      "\u001b[2m\u001b[36m(pid=62075)\u001b[0m WARNING DELETING EXPERIENCES\n",
      "\u001b[2m\u001b[36m(pid=62069)\u001b[0m Draw\n",
      "\u001b[2m\u001b[36m(pid=62069)\u001b[0m WARNING DELETING EXPERIENCES\n",
      "\u001b[2m\u001b[36m(pid=62074)\u001b[0m Draw\n",
      "\u001b[2m\u001b[36m(pid=62074)\u001b[0m WARNING DELETING EXPERIENCES\n",
      "\u001b[2m\u001b[36m(pid=62063)\u001b[0m Draw\n",
      "\u001b[2m\u001b[36m(pid=62063)\u001b[0m WARNING DELETING EXPERIENCES\n",
      "\u001b[2m\u001b[36m(pid=62071)\u001b[0m Draw\n",
      "\u001b[2m\u001b[36m(pid=62071)\u001b[0m WARNING DELETING EXPERIENCES\n",
      "100 ACTOR LOSS 5595.44921875 | CRITIC LOSS 0.07328949868679047\n",
      "101 ACTOR LOSS 5605.626953125 | CRITIC LOSS 0.576005220413208\n"
     ]
    },
    {
     "name": "stdout",
     "output_type": "stream",
     "text": [
      "102 ACTOR LOSS 5532.89990234375 | CRITIC LOSS 0.011071808636188507\n",
      "103 ACTOR LOSS 5827.509765625 | CRITIC LOSS 0.009977110661566257\n",
      "104 ACTOR LOSS 5871.10595703125 | CRITIC LOSS 0.12830261886119843\n",
      "105 ACTOR LOSS 4371.0029296875 | CRITIC LOSS 0.01801133342087269\n",
      "106 ACTOR LOSS 5077.17236328125 | CRITIC LOSS 0.07099637389183044\n",
      "107 ACTOR LOSS 5847.232421875 | CRITIC LOSS 0.021790120750665665\n",
      "108 ACTOR LOSS 5770.88623046875 | CRITIC LOSS 0.06498979777097702\n",
      "109 ACTOR LOSS 5886.92138671875 | CRITIC LOSS 0.007103024050593376\n",
      "110 ACTOR LOSS 5899.521484375 | CRITIC LOSS 0.010669921524822712\n",
      "111 ACTOR LOSS 5811.84716796875 | CRITIC LOSS 0.012427923269569874\n",
      "112 ACTOR LOSS 5715.76318359375 | CRITIC LOSS 0.017371250316500664\n",
      "113 ACTOR LOSS 5962.13671875 | CRITIC LOSS 0.007698930334299803\n",
      "114 ACTOR LOSS 5794.8310546875 | CRITIC LOSS 0.010220089927315712\n",
      "115 ACTOR LOSS 5864.6845703125 | CRITIC LOSS 0.006778671871870756\n",
      "116 ACTOR LOSS 5791.68798828125 | CRITIC LOSS 0.028023267164826393\n",
      "117 ACTOR LOSS 5862.63427734375 | CRITIC LOSS 0.0070134373381733894\n",
      "118 ACTOR LOSS 5924.3056640625 | CRITIC LOSS 0.01216236874461174\n",
      "119 ACTOR LOSS 6061.09033203125 | CRITIC LOSS 0.004708134103566408\n",
      "120 ACTOR LOSS 5863.7421875 | CRITIC LOSS 0.00444116722792387\n",
      "121 ACTOR LOSS 5888.33154296875 | CRITIC LOSS 0.012588338926434517\n",
      "122 ACTOR LOSS 5781.75341796875 | CRITIC LOSS 0.00898482371121645\n",
      "123 ACTOR LOSS 5809.14111328125 | CRITIC LOSS 0.014546346850693226\n",
      "124 ACTOR LOSS 5979.63720703125 | CRITIC LOSS 0.010081720538437366\n",
      "125 ACTOR LOSS 5891.99462890625 | CRITIC LOSS 0.011052028276026249\n",
      "126 ACTOR LOSS 5740.3271484375 | CRITIC LOSS 0.007862563244998455\n",
      "127 ACTOR LOSS 5928.939453125 | CRITIC LOSS 0.00968208722770214\n",
      "128 ACTOR LOSS 5320.849609375 | CRITIC LOSS 0.006312135607004166\n",
      "129 ACTOR LOSS 4802.54296875 | CRITIC LOSS 0.007945247925817966\n",
      "130 ACTOR LOSS 5824.9287109375 | CRITIC LOSS 0.003574277739971876\n",
      "131 ACTOR LOSS 5883.638671875 | CRITIC LOSS 0.005238542333245277\n",
      "132 ACTOR LOSS 5879.69677734375 | CRITIC LOSS 0.005136632360517979\n",
      "133 ACTOR LOSS 5082.42431640625 | CRITIC LOSS 0.011839688755571842\n",
      "134 ACTOR LOSS 5036.197265625 | CRITIC LOSS 0.017375973984599113\n",
      "135 ACTOR LOSS 4945.0830078125 | CRITIC LOSS 0.00802870187908411\n",
      "136 ACTOR LOSS 5239.048828125 | CRITIC LOSS 0.062084369361400604\n",
      "137 ACTOR LOSS 5231.23828125 | CRITIC LOSS 0.005899322684854269\n",
      "138 ACTOR LOSS 5094.58984375 | CRITIC LOSS 0.003479959908872843\n",
      "139 ACTOR LOSS 5250.72412109375 | CRITIC LOSS 0.0034729198087006807\n",
      "140 ACTOR LOSS 5045.34716796875 | CRITIC LOSS 0.004731778986752033\n",
      "141 ACTOR LOSS 5924.60107421875 | CRITIC LOSS 0.006990887690335512\n",
      "142 ACTOR LOSS 5679.21435546875 | CRITIC LOSS 0.005065011791884899\n",
      "143 ACTOR LOSS 5066.119140625 | CRITIC LOSS 0.0029804680962115526\n",
      "144 ACTOR LOSS 5760.080078125 | CRITIC LOSS 0.005529847927391529\n",
      "145 ACTOR LOSS 5945.501953125 | CRITIC LOSS 0.01127968542277813\n",
      "146 ACTOR LOSS 5887.87158203125 | CRITIC LOSS 0.004714547656476498\n",
      "147 ACTOR LOSS 5792.35986328125 | CRITIC LOSS 0.008659257553517818\n",
      "148 ACTOR LOSS 5937.16015625 | CRITIC LOSS 0.00826672837138176\n",
      "149 ACTOR LOSS 5851.23974609375 | CRITIC LOSS 0.006692694965749979\n",
      "150 ACTOR LOSS 5896.310546875 | CRITIC LOSS 0.00817786529660225\n",
      "151 ACTOR LOSS 6052.6318359375 | CRITIC LOSS 0.0024544973857700825\n",
      "152 ACTOR LOSS 5854.2900390625 | CRITIC LOSS 0.006977393291890621\n",
      "153 ACTOR LOSS 5928.7724609375 | CRITIC LOSS 0.010193586349487305\n",
      "154 ACTOR LOSS 5903.0400390625 | CRITIC LOSS 0.009355406276881695\n",
      "155 ACTOR LOSS 5911.6484375 | CRITIC LOSS 0.0054995897226035595\n",
      "156 ACTOR LOSS 5928.5048828125 | CRITIC LOSS 0.006471262779086828\n",
      "157 ACTOR LOSS 5955.87255859375 | CRITIC LOSS 0.00448296032845974\n",
      "158 ACTOR LOSS 5895.1884765625 | CRITIC LOSS 0.006616644561290741\n",
      "159 ACTOR LOSS 4489.40234375 | CRITIC LOSS 0.006012819241732359\n",
      "160 ACTOR LOSS 5869.298828125 | CRITIC LOSS 0.00975892599672079\n",
      "161 ACTOR LOSS 6022.796875 | CRITIC LOSS 0.008167101070284843\n",
      "162 ACTOR LOSS 5816.1083984375 | CRITIC LOSS 0.0022576279006898403\n",
      "163 ACTOR LOSS 5863.8173828125 | CRITIC LOSS 0.005756286904215813\n",
      "164 ACTOR LOSS 6010.76806640625 | CRITIC LOSS 0.0014553647488355637\n",
      "165 ACTOR LOSS 5915.5693359375 | CRITIC LOSS 0.005340986419469118\n",
      "166 ACTOR LOSS 5976.439453125 | CRITIC LOSS 0.00536925857886672\n",
      "167 ACTOR LOSS 5744.3701171875 | CRITIC LOSS 0.006047484464943409\n",
      "168 ACTOR LOSS 6001.03173828125 | CRITIC LOSS 0.011213088408112526\n",
      "169 ACTOR LOSS 5737.564453125 | CRITIC LOSS 0.00486500421538949\n",
      "170 ACTOR LOSS 5836.19287109375 | CRITIC LOSS 0.0046715280041098595\n",
      "171 ACTOR LOSS 5922.5283203125 | CRITIC LOSS 0.002937811193987727\n",
      "172 ACTOR LOSS 5790.9521484375 | CRITIC LOSS 0.010915844701230526\n",
      "173 ACTOR LOSS 5830.453125 | CRITIC LOSS 0.004785255994647741\n",
      "174 ACTOR LOSS 5726.4150390625 | CRITIC LOSS 0.004648132249712944\n",
      "175 ACTOR LOSS 5871.63720703125 | CRITIC LOSS 0.010835053399205208\n",
      "176 ACTOR LOSS 5957.5361328125 | CRITIC LOSS 0.007108781486749649\n",
      "177 ACTOR LOSS 5624.552734375 | CRITIC LOSS 0.0027722662780433893\n",
      "178 ACTOR LOSS 5838.76904296875 | CRITIC LOSS 0.004893255420029163\n",
      "179 ACTOR LOSS 5879.18896484375 | CRITIC LOSS 0.0033916709944605827\n",
      "180 ACTOR LOSS 5655.185546875 | CRITIC LOSS 0.004193867556750774\n",
      "181 ACTOR LOSS 5909.5712890625 | CRITIC LOSS 0.007293413858860731\n",
      "182 ACTOR LOSS 5753.45947265625 | CRITIC LOSS 0.007485687267035246\n",
      "183 ACTOR LOSS 5796.3583984375 | CRITIC LOSS 0.0030783459078520536\n",
      "184 ACTOR LOSS 5905.11181640625 | CRITIC LOSS 0.008400843478739262\n",
      "185 ACTOR LOSS 5884.79345703125 | CRITIC LOSS 0.004011005163192749\n",
      "186 ACTOR LOSS 3192.56787109375 | CRITIC LOSS 0.001221562852151692\n",
      "187 ACTOR LOSS 5746.3515625 | CRITIC LOSS 0.0021490922663360834\n",
      "188 ACTOR LOSS 5874.23046875 | CRITIC LOSS 0.003998772241175175\n",
      "189 ACTOR LOSS 5999.50439453125 | CRITIC LOSS 0.0034776676911860704\n",
      "190 ACTOR LOSS 5938.2001953125 | CRITIC LOSS 0.006900179665535688\n",
      "191 ACTOR LOSS 5955.20849609375 | CRITIC LOSS 0.0038944012485444546\n",
      "192 ACTOR LOSS 5989.736328125 | CRITIC LOSS 0.0049398005940020084\n",
      "193 ACTOR LOSS 5713.36083984375 | CRITIC LOSS 0.0016076118918135762\n",
      "194 ACTOR LOSS 5925.7919921875 | CRITIC LOSS 0.004495877306908369\n",
      "195 ACTOR LOSS 5687.67529296875 | CRITIC LOSS 0.009741627611219883\n",
      "196 ACTOR LOSS 5888.515625 | CRITIC LOSS 0.0011273606214672327\n",
      "197 ACTOR LOSS 5769.51611328125 | CRITIC LOSS 0.0017978046089410782\n",
      "198 ACTOR LOSS 5975.20654296875 | CRITIC LOSS 0.0026300917379558086\n",
      "199 ACTOR LOSS 5852.71484375 | CRITIC LOSS 0.0009780691470950842\n",
      "EVALUATING\n",
      "\u001b[2m\u001b[36m(pid=62071)\u001b[0m Playing against opponent\n",
      "\u001b[2m\u001b[36m(pid=62071)\u001b[0m Episode 1\n"
     ]
    },
    {
     "name": "stderr",
     "output_type": "stream",
     "text": [
      "\u001b[2m\u001b[36m(pid=62071)\u001b[0m /home/ec2-user/.local/lib/python3.6/site-packages/ray/workers/default_worker.py:58: RuntimeWarning: invalid value encountered in true_divide\n",
      "\u001b[2m\u001b[36m(pid=62071)\u001b[0m   type=str,\n"
     ]
    },
    {
     "name": "stdout",
     "output_type": "stream",
     "text": [
      "\u001b[2m\u001b[36m(pid=62063)\u001b[0m Playing against opponent\n",
      "\u001b[2m\u001b[36m(pid=62063)\u001b[0m Episode 1\n"
     ]
    },
    {
     "name": "stderr",
     "output_type": "stream",
     "text": [
      "\u001b[2m\u001b[36m(pid=62063)\u001b[0m /home/ec2-user/.local/lib/python3.6/site-packages/ray/workers/default_worker.py:58: RuntimeWarning: invalid value encountered in true_divide\n",
      "\u001b[2m\u001b[36m(pid=62063)\u001b[0m   type=str,\n"
     ]
    },
    {
     "name": "stdout",
     "output_type": "stream",
     "text": [
      "\u001b[2m\u001b[36m(pid=62075)\u001b[0m Playing against opponent\n",
      "\u001b[2m\u001b[36m(pid=62075)\u001b[0m Episode 1\n"
     ]
    },
    {
     "name": "stderr",
     "output_type": "stream",
     "text": [
      "\u001b[2m\u001b[36m(pid=62075)\u001b[0m /home/ec2-user/.local/lib/python3.6/site-packages/ray/workers/default_worker.py:58: RuntimeWarning: invalid value encountered in true_divide\n",
      "\u001b[2m\u001b[36m(pid=62075)\u001b[0m   type=str,\n"
     ]
    },
    {
     "name": "stdout",
     "output_type": "stream",
     "text": [
      "\u001b[2m\u001b[36m(pid=62067)\u001b[0m Playing against opponent\n",
      "\u001b[2m\u001b[36m(pid=62067)\u001b[0m Episode 1\n"
     ]
    },
    {
     "name": "stderr",
     "output_type": "stream",
     "text": [
      "\u001b[2m\u001b[36m(pid=62067)\u001b[0m /home/ec2-user/.local/lib/python3.6/site-packages/ray/workers/default_worker.py:58: RuntimeWarning: invalid value encountered in true_divide\n",
      "\u001b[2m\u001b[36m(pid=62067)\u001b[0m   type=str,\n"
     ]
    },
    {
     "name": "stdout",
     "output_type": "stream",
     "text": [
      "\u001b[2m\u001b[36m(pid=62066)\u001b[0m Playing against opponent\n",
      "\u001b[2m\u001b[36m(pid=62066)\u001b[0m Episode 1\n"
     ]
    },
    {
     "name": "stderr",
     "output_type": "stream",
     "text": [
      "\u001b[2m\u001b[36m(pid=62066)\u001b[0m /home/ec2-user/.local/lib/python3.6/site-packages/ray/workers/default_worker.py:58: RuntimeWarning: invalid value encountered in true_divide\n",
      "\u001b[2m\u001b[36m(pid=62066)\u001b[0m   type=str,\n"
     ]
    },
    {
     "name": "stdout",
     "output_type": "stream",
     "text": [
      "\u001b[2m\u001b[36m(pid=62076)\u001b[0m Playing against opponent\n",
      "\u001b[2m\u001b[36m(pid=62076)\u001b[0m Episode 1\n"
     ]
    },
    {
     "name": "stderr",
     "output_type": "stream",
     "text": [
      "\u001b[2m\u001b[36m(pid=62076)\u001b[0m /home/ec2-user/.local/lib/python3.6/site-packages/ray/workers/default_worker.py:58: RuntimeWarning: invalid value encountered in true_divide\n",
      "\u001b[2m\u001b[36m(pid=62076)\u001b[0m   type=str,\n"
     ]
    },
    {
     "name": "stdout",
     "output_type": "stream",
     "text": [
      "\u001b[2m\u001b[36m(pid=62065)\u001b[0m Playing against opponent\n",
      "\u001b[2m\u001b[36m(pid=62065)\u001b[0m Episode 1\n"
     ]
    },
    {
     "name": "stderr",
     "output_type": "stream",
     "text": [
      "\u001b[2m\u001b[36m(pid=62065)\u001b[0m /home/ec2-user/.local/lib/python3.6/site-packages/ray/workers/default_worker.py:58: RuntimeWarning: invalid value encountered in true_divide\n",
      "\u001b[2m\u001b[36m(pid=62065)\u001b[0m   type=str,\n"
     ]
    },
    {
     "name": "stdout",
     "output_type": "stream",
     "text": [
      "\u001b[2m\u001b[36m(pid=62069)\u001b[0m Playing against opponent\n",
      "\u001b[2m\u001b[36m(pid=62069)\u001b[0m Episode 1\n"
     ]
    },
    {
     "name": "stderr",
     "output_type": "stream",
     "text": [
      "\u001b[2m\u001b[36m(pid=62069)\u001b[0m /home/ec2-user/.local/lib/python3.6/site-packages/ray/workers/default_worker.py:58: RuntimeWarning: invalid value encountered in true_divide\n",
      "\u001b[2m\u001b[36m(pid=62069)\u001b[0m   type=str,\n"
     ]
    },
    {
     "name": "stdout",
     "output_type": "stream",
     "text": [
      "\u001b[2m\u001b[36m(pid=62072)\u001b[0m Playing against opponent\n",
      "\u001b[2m\u001b[36m(pid=62072)\u001b[0m Episode 1\n"
     ]
    },
    {
     "name": "stderr",
     "output_type": "stream",
     "text": [
      "\u001b[2m\u001b[36m(pid=62072)\u001b[0m /home/ec2-user/.local/lib/python3.6/site-packages/ray/workers/default_worker.py:58: RuntimeWarning: invalid value encountered in true_divide\n",
      "\u001b[2m\u001b[36m(pid=62072)\u001b[0m   type=str,\n"
     ]
    },
    {
     "name": "stdout",
     "output_type": "stream",
     "text": [
      "\u001b[2m\u001b[36m(pid=62068)\u001b[0m Playing against opponent\n",
      "\u001b[2m\u001b[36m(pid=62068)\u001b[0m Episode 1\n"
     ]
    },
    {
     "name": "stderr",
     "output_type": "stream",
     "text": [
      "\u001b[2m\u001b[36m(pid=62068)\u001b[0m /home/ec2-user/.local/lib/python3.6/site-packages/ray/workers/default_worker.py:58: RuntimeWarning: invalid value encountered in true_divide\n",
      "\u001b[2m\u001b[36m(pid=62068)\u001b[0m   type=str,\n"
     ]
    },
    {
     "name": "stdout",
     "output_type": "stream",
     "text": [
      "\u001b[2m\u001b[36m(pid=62073)\u001b[0m Playing against opponent\n",
      "\u001b[2m\u001b[36m(pid=62073)\u001b[0m Episode 1\n"
     ]
    },
    {
     "name": "stderr",
     "output_type": "stream",
     "text": [
      "\u001b[2m\u001b[36m(pid=62073)\u001b[0m /home/ec2-user/.local/lib/python3.6/site-packages/ray/workers/default_worker.py:58: RuntimeWarning: invalid value encountered in true_divide\n",
      "\u001b[2m\u001b[36m(pid=62073)\u001b[0m   type=str,\n"
     ]
    },
    {
     "name": "stdout",
     "output_type": "stream",
     "text": [
      "\u001b[2m\u001b[36m(pid=62063)\u001b[0m White Loss\n",
      "\u001b[2m\u001b[36m(pid=62063)\u001b[0m Playing against opponent\n",
      "\u001b[2m\u001b[36m(pid=62063)\u001b[0m Episode 1\n"
     ]
    },
    {
     "name": "stderr",
     "output_type": "stream",
     "text": [
      "\u001b[2m\u001b[36m(pid=62063)\u001b[0m /home/ec2-user/.local/lib/python3.6/site-packages/ray/workers/default_worker.py:58: RuntimeWarning: invalid value encountered in true_divide\n",
      "\u001b[2m\u001b[36m(pid=62063)\u001b[0m   type=str,\n"
     ]
    },
    {
     "name": "stdout",
     "output_type": "stream",
     "text": [
      "\u001b[2m\u001b[36m(pid=62074)\u001b[0m Playing against opponent\n",
      "\u001b[2m\u001b[36m(pid=62074)\u001b[0m Episode 1\n"
     ]
    },
    {
     "name": "stderr",
     "output_type": "stream",
     "text": [
      "\u001b[2m\u001b[36m(pid=62074)\u001b[0m /home/ec2-user/.local/lib/python3.6/site-packages/ray/workers/default_worker.py:58: RuntimeWarning: invalid value encountered in true_divide\n",
      "\u001b[2m\u001b[36m(pid=62074)\u001b[0m   type=str,\n"
     ]
    },
    {
     "name": "stdout",
     "output_type": "stream",
     "text": [
      "\u001b[2m\u001b[36m(pid=62070)\u001b[0m Playing against opponent\n",
      "\u001b[2m\u001b[36m(pid=62070)\u001b[0m Episode 1\n"
     ]
    },
    {
     "name": "stderr",
     "output_type": "stream",
     "text": [
      "\u001b[2m\u001b[36m(pid=62070)\u001b[0m /home/ec2-user/.local/lib/python3.6/site-packages/ray/workers/default_worker.py:58: RuntimeWarning: invalid value encountered in true_divide\n",
      "\u001b[2m\u001b[36m(pid=62070)\u001b[0m   type=str,\n"
     ]
    },
    {
     "name": "stdout",
     "output_type": "stream",
     "text": [
      "\u001b[2m\u001b[36m(pid=62077)\u001b[0m Playing against opponent\n",
      "\u001b[2m\u001b[36m(pid=62077)\u001b[0m Episode 1\n"
     ]
    },
    {
     "name": "stderr",
     "output_type": "stream",
     "text": [
      "\u001b[2m\u001b[36m(pid=62077)\u001b[0m /home/ec2-user/.local/lib/python3.6/site-packages/ray/workers/default_worker.py:58: RuntimeWarning: invalid value encountered in true_divide\n",
      "\u001b[2m\u001b[36m(pid=62077)\u001b[0m   type=str,\n"
     ]
    },
    {
     "name": "stdout",
     "output_type": "stream",
     "text": [
      "\u001b[2m\u001b[36m(pid=62064)\u001b[0m Playing against opponent\n",
      "\u001b[2m\u001b[36m(pid=62064)\u001b[0m Episode 1\n"
     ]
    },
    {
     "name": "stderr",
     "output_type": "stream",
     "text": [
      "\u001b[2m\u001b[36m(pid=62064)\u001b[0m /home/ec2-user/.local/lib/python3.6/site-packages/ray/workers/default_worker.py:58: RuntimeWarning: invalid value encountered in true_divide\n",
      "\u001b[2m\u001b[36m(pid=62064)\u001b[0m   type=str,\n"
     ]
    },
    {
     "name": "stdout",
     "output_type": "stream",
     "text": [
      "\u001b[2m\u001b[36m(pid=62076)\u001b[0m Draw\n",
      "\u001b[2m\u001b[36m(pid=62071)\u001b[0m Draw\n",
      "\u001b[2m\u001b[36m(pid=62073)\u001b[0m White Loss\n",
      "\u001b[2m\u001b[36m(pid=62070)\u001b[0m White Won\n",
      "\u001b[2m\u001b[36m(pid=62075)\u001b[0m Draw\n",
      "\u001b[2m\u001b[36m(pid=62066)\u001b[0m Draw\n",
      "\u001b[2m\u001b[36m(pid=62064)\u001b[0m White Loss\n",
      "\u001b[2m\u001b[36m(pid=62063)\u001b[0m Draw\n",
      "\u001b[2m\u001b[36m(pid=62069)\u001b[0m White Won\n",
      "\u001b[2m\u001b[36m(pid=62077)\u001b[0m Draw\n",
      "\u001b[2m\u001b[36m(pid=62068)\u001b[0m Draw\n",
      "\u001b[2m\u001b[36m(pid=62072)\u001b[0m White Loss\n",
      "\u001b[2m\u001b[36m(pid=62067)\u001b[0m Draw\n",
      "\u001b[2m\u001b[36m(pid=62074)\u001b[0m Draw\n",
      "\u001b[2m\u001b[36m(pid=62065)\u001b[0m Draw\n",
      "Wins 2 0.12% | Draws 10 0.62% | Losses 4 0.25%\n",
      "Old Network was better\n",
      "LEARNING\n",
      "\u001b[2m\u001b[36m(pid=62065)\u001b[0m Playing against self\n",
      "\u001b[2m\u001b[36m(pid=62065)\u001b[0m Episode 1\n"
     ]
    },
    {
     "name": "stderr",
     "output_type": "stream",
     "text": [
      "\u001b[2m\u001b[36m(pid=62065)\u001b[0m /home/ec2-user/.local/lib/python3.6/site-packages/ray/workers/default_worker.py:58: RuntimeWarning: invalid value encountered in true_divide\n",
      "\u001b[2m\u001b[36m(pid=62065)\u001b[0m   type=str,\n"
     ]
    },
    {
     "name": "stdout",
     "output_type": "stream",
     "text": [
      "\u001b[2m\u001b[36m(pid=62068)\u001b[0m Playing against self\n",
      "\u001b[2m\u001b[36m(pid=62068)\u001b[0m Episode 1\n"
     ]
    },
    {
     "name": "stderr",
     "output_type": "stream",
     "text": [
      "\u001b[2m\u001b[36m(pid=62068)\u001b[0m /home/ec2-user/.local/lib/python3.6/site-packages/ray/workers/default_worker.py:58: RuntimeWarning: invalid value encountered in true_divide\n",
      "\u001b[2m\u001b[36m(pid=62068)\u001b[0m   type=str,\n"
     ]
    },
    {
     "name": "stdout",
     "output_type": "stream",
     "text": [
      "\u001b[2m\u001b[36m(pid=62077)\u001b[0m Playing against self\n",
      "\u001b[2m\u001b[36m(pid=62077)\u001b[0m Episode 1\n"
     ]
    },
    {
     "name": "stderr",
     "output_type": "stream",
     "text": [
      "\u001b[2m\u001b[36m(pid=62077)\u001b[0m /home/ec2-user/.local/lib/python3.6/site-packages/ray/workers/default_worker.py:58: RuntimeWarning: invalid value encountered in true_divide\n",
      "\u001b[2m\u001b[36m(pid=62077)\u001b[0m   type=str,\n"
     ]
    },
    {
     "name": "stdout",
     "output_type": "stream",
     "text": [
      "\u001b[2m\u001b[36m(pid=62072)\u001b[0m Playing against self\n",
      "\u001b[2m\u001b[36m(pid=62072)\u001b[0m Episode 1\n"
     ]
    },
    {
     "name": "stderr",
     "output_type": "stream",
     "text": [
      "\u001b[2m\u001b[36m(pid=62072)\u001b[0m /home/ec2-user/.local/lib/python3.6/site-packages/ray/workers/default_worker.py:58: RuntimeWarning: invalid value encountered in true_divide\n",
      "\u001b[2m\u001b[36m(pid=62072)\u001b[0m   type=str,\n"
     ]
    },
    {
     "name": "stdout",
     "output_type": "stream",
     "text": [
      "\u001b[2m\u001b[36m(pid=62069)\u001b[0m Playing against self\n",
      "\u001b[2m\u001b[36m(pid=62069)\u001b[0m Episode 1\n"
     ]
    },
    {
     "name": "stderr",
     "output_type": "stream",
     "text": [
      "\u001b[2m\u001b[36m(pid=62069)\u001b[0m /home/ec2-user/.local/lib/python3.6/site-packages/ray/workers/default_worker.py:58: RuntimeWarning: invalid value encountered in true_divide\n",
      "\u001b[2m\u001b[36m(pid=62069)\u001b[0m   type=str,\n"
     ]
    },
    {
     "name": "stdout",
     "output_type": "stream",
     "text": [
      "\u001b[2m\u001b[36m(pid=62063)\u001b[0m Playing against self\n",
      "\u001b[2m\u001b[36m(pid=62063)\u001b[0m Episode 1\n"
     ]
    },
    {
     "name": "stderr",
     "output_type": "stream",
     "text": [
      "\u001b[2m\u001b[36m(pid=62063)\u001b[0m /home/ec2-user/.local/lib/python3.6/site-packages/ray/workers/default_worker.py:58: RuntimeWarning: invalid value encountered in true_divide\n",
      "\u001b[2m\u001b[36m(pid=62063)\u001b[0m   type=str,\n"
     ]
    },
    {
     "name": "stdout",
     "output_type": "stream",
     "text": [
      "\u001b[2m\u001b[36m(pid=62064)\u001b[0m Playing against self\n",
      "\u001b[2m\u001b[36m(pid=62064)\u001b[0m Episode 1\n"
     ]
    },
    {
     "name": "stderr",
     "output_type": "stream",
     "text": [
      "\u001b[2m\u001b[36m(pid=62064)\u001b[0m /home/ec2-user/.local/lib/python3.6/site-packages/ray/workers/default_worker.py:58: RuntimeWarning: invalid value encountered in true_divide\n",
      "\u001b[2m\u001b[36m(pid=62064)\u001b[0m   type=str,\n"
     ]
    },
    {
     "name": "stdout",
     "output_type": "stream",
     "text": [
      "\u001b[2m\u001b[36m(pid=62066)\u001b[0m Playing against self\n",
      "\u001b[2m\u001b[36m(pid=62066)\u001b[0m Episode 1\n"
     ]
    },
    {
     "name": "stderr",
     "output_type": "stream",
     "text": [
      "\u001b[2m\u001b[36m(pid=62066)\u001b[0m /home/ec2-user/.local/lib/python3.6/site-packages/ray/workers/default_worker.py:58: RuntimeWarning: invalid value encountered in true_divide\n",
      "\u001b[2m\u001b[36m(pid=62066)\u001b[0m   type=str,\n"
     ]
    },
    {
     "name": "stdout",
     "output_type": "stream",
     "text": [
      "\u001b[2m\u001b[36m(pid=62067)\u001b[0m Playing against self\n",
      "\u001b[2m\u001b[36m(pid=62067)\u001b[0m Episode 1\n"
     ]
    },
    {
     "name": "stderr",
     "output_type": "stream",
     "text": [
      "\u001b[2m\u001b[36m(pid=62067)\u001b[0m /home/ec2-user/.local/lib/python3.6/site-packages/ray/workers/default_worker.py:58: RuntimeWarning: invalid value encountered in true_divide\n",
      "\u001b[2m\u001b[36m(pid=62067)\u001b[0m   type=str,\n"
     ]
    },
    {
     "name": "stdout",
     "output_type": "stream",
     "text": [
      "\u001b[2m\u001b[36m(pid=62075)\u001b[0m Playing against self\n",
      "\u001b[2m\u001b[36m(pid=62075)\u001b[0m Episode 1\n"
     ]
    },
    {
     "name": "stderr",
     "output_type": "stream",
     "text": [
      "\u001b[2m\u001b[36m(pid=62075)\u001b[0m /home/ec2-user/.local/lib/python3.6/site-packages/ray/workers/default_worker.py:58: RuntimeWarning: invalid value encountered in true_divide\n",
      "\u001b[2m\u001b[36m(pid=62075)\u001b[0m   type=str,\n"
     ]
    },
    {
     "name": "stdout",
     "output_type": "stream",
     "text": [
      "\u001b[2m\u001b[36m(pid=62074)\u001b[0m Playing against self\n",
      "\u001b[2m\u001b[36m(pid=62074)\u001b[0m Episode 1\n"
     ]
    },
    {
     "name": "stderr",
     "output_type": "stream",
     "text": [
      "\u001b[2m\u001b[36m(pid=62074)\u001b[0m /home/ec2-user/.local/lib/python3.6/site-packages/ray/workers/default_worker.py:58: RuntimeWarning: invalid value encountered in true_divide\n",
      "\u001b[2m\u001b[36m(pid=62074)\u001b[0m   type=str,\n"
     ]
    },
    {
     "name": "stdout",
     "output_type": "stream",
     "text": [
      "\u001b[2m\u001b[36m(pid=62070)\u001b[0m Playing against self\n",
      "\u001b[2m\u001b[36m(pid=62070)\u001b[0m Episode 1\n"
     ]
    },
    {
     "name": "stderr",
     "output_type": "stream",
     "text": [
      "\u001b[2m\u001b[36m(pid=62070)\u001b[0m /home/ec2-user/.local/lib/python3.6/site-packages/ray/workers/default_worker.py:58: RuntimeWarning: invalid value encountered in true_divide\n",
      "\u001b[2m\u001b[36m(pid=62070)\u001b[0m   type=str,\n"
     ]
    },
    {
     "name": "stdout",
     "output_type": "stream",
     "text": [
      "\u001b[2m\u001b[36m(pid=62073)\u001b[0m Playing against self\n",
      "\u001b[2m\u001b[36m(pid=62073)\u001b[0m Episode 1\n"
     ]
    },
    {
     "name": "stderr",
     "output_type": "stream",
     "text": [
      "\u001b[2m\u001b[36m(pid=62073)\u001b[0m /home/ec2-user/.local/lib/python3.6/site-packages/ray/workers/default_worker.py:58: RuntimeWarning: invalid value encountered in true_divide\n",
      "\u001b[2m\u001b[36m(pid=62073)\u001b[0m   type=str,\n"
     ]
    },
    {
     "name": "stdout",
     "output_type": "stream",
     "text": [
      "\u001b[2m\u001b[36m(pid=62071)\u001b[0m Playing against self\n",
      "\u001b[2m\u001b[36m(pid=62071)\u001b[0m Episode 1\n"
     ]
    },
    {
     "name": "stderr",
     "output_type": "stream",
     "text": [
      "\u001b[2m\u001b[36m(pid=62071)\u001b[0m /home/ec2-user/.local/lib/python3.6/site-packages/ray/workers/default_worker.py:58: RuntimeWarning: invalid value encountered in true_divide\n",
      "\u001b[2m\u001b[36m(pid=62071)\u001b[0m   type=str,\n"
     ]
    },
    {
     "name": "stdout",
     "output_type": "stream",
     "text": [
      "\u001b[2m\u001b[36m(pid=62076)\u001b[0m Playing against self\n",
      "\u001b[2m\u001b[36m(pid=62076)\u001b[0m Episode 1\n"
     ]
    },
    {
     "name": "stderr",
     "output_type": "stream",
     "text": [
      "\u001b[2m\u001b[36m(pid=62076)\u001b[0m /home/ec2-user/.local/lib/python3.6/site-packages/ray/workers/default_worker.py:58: RuntimeWarning: invalid value encountered in true_divide\n",
      "\u001b[2m\u001b[36m(pid=62076)\u001b[0m   type=str,\n"
     ]
    },
    {
     "name": "stdout",
     "output_type": "stream",
     "text": [
      "\u001b[2m\u001b[36m(pid=62063)\u001b[0m White Loss\n",
      "\u001b[2m\u001b[36m(pid=62063)\u001b[0m Episode 2\n",
      "\u001b[2m\u001b[36m(pid=62079)\u001b[0m Playing against self\n",
      "\u001b[2m\u001b[36m(pid=62079)\u001b[0m Episode 1\n"
     ]
    },
    {
     "name": "stderr",
     "output_type": "stream",
     "text": [
      "\u001b[2m\u001b[36m(pid=62079)\u001b[0m /home/ec2-user/.local/lib/python3.6/site-packages/ray/workers/default_worker.py:58: RuntimeWarning: invalid value encountered in true_divide\n",
      "\u001b[2m\u001b[36m(pid=62079)\u001b[0m   type=str,\n"
     ]
    },
    {
     "name": "stdout",
     "output_type": "stream",
     "text": [
      "\u001b[2m\u001b[36m(pid=62064)\u001b[0m Draw\n",
      "\u001b[2m\u001b[36m(pid=62064)\u001b[0m WARNING DELETING EXPERIENCES\n",
      "\u001b[2m\u001b[36m(pid=62064)\u001b[0m Episode 2\n"
     ]
    }
   ],
   "source": [
    "class Coach():\n",
    "    \"\"\"\n",
    "    This class executes the self-play + learning. It uses the functions defined\n",
    "    in Game and NeuralNet. args are specified in main.py.\n",
    "    \"\"\"\n",
    "\n",
    "    def __init__(self, env, agent, params):\n",
    "        self.iterations = params['iterations']\n",
    "        self.episodes = params['episodes']\n",
    "        self.queue_length = params['queue_length']\n",
    "        self.simulations = params['simulations']\n",
    "        self.train_times = params['train_times']\n",
    "        self.memory_samples = params['memory_samples']\n",
    "        self.eval_games = params['eval_games']\n",
    "        self.improv_pct = params['improv_pct']\n",
    "        self.env = deepcopy(env)\n",
    "        self.agent = agent\n",
    "        self.previous_agent = None\n",
    "        self.trainExamplesHistory = []  # history of examples from args.numItersForTrainExamplesHistory latest iterations\n",
    "        self.games = 0\n",
    "        \n",
    "        params = {\n",
    "            'capacity' : params['capacity'],\n",
    "            'gamma' : 0.98\n",
    "        } \n",
    "        \n",
    "        self.memory = EpisodicReplayBuffer(params)\n",
    "        \n",
    "    @ray.remote   \n",
    "    def execute_iterations(self, agent, game, episodes, opponent = None, train = True):\n",
    "        \"\"\"Executes several episodes while preserving the MCTS search tree to speed up inference drastically\"\"\"\n",
    "        mcts_white = MCTS(deepcopy(self.env), deepcopy(agent), mcts_simulations = self.simulations)\n",
    "        \n",
    "        if opponent == None:\n",
    "            print('Playing against self')\n",
    "            mcts_black = MCTS(deepcopy(self.env), deepcopy(agent), mcts_simulations = self.simulations)\n",
    "        else:\n",
    "            print('Playing against opponent')\n",
    "            mcts_black = MCTS(deepcopy(self.env), deepcopy(opponent), mcts_simulations = self.simulations)\n",
    "        \n",
    "#         print('Not using random controller')\n",
    "#         mcts_black.agent.random_controller()\n",
    "        \n",
    "        episodes_ = []\n",
    "\n",
    "        for idx in range(1, episodes + 1):\n",
    "            print(f'Episode {idx}')\n",
    "            experiences, mcts_white, mcts_black = self.execute_episode(self.agent, game + idx + (idx * episodes), mcts_white, mcts_black, train)\n",
    "            episodes_.append(experiences)\n",
    "        \n",
    "        return episodes_\n",
    "            \n",
    "\n",
    "    def execute_episode(self, agent, game, mcts_white, mcts_black, train):\n",
    "        \"\"\"\n",
    "        This function executes one episode of self-play, starting with player 1.\n",
    "        As the game is played, each turn is added as a training example to\n",
    "        trainExamples. The game is played till the game ends. After the game\n",
    "        ends, the outcome of the game is used to assign values to each example\n",
    "        in trainExamples.\n",
    "        Returns:\n",
    "            trainExamples: a list of examples of the form (canonicalBoard, currPlayer, pi,v)\n",
    "                           pi is the MCTS informed policy vector, v is +1 if\n",
    "                           the player eventually won the game, else -1.\n",
    "        \"\"\"\n",
    "        env = Chess_Environment()\n",
    "        experiences = []\n",
    "        mean_qs = []\n",
    "        agent.reset(1)\n",
    "\n",
    "       \n",
    "        game_move = 0\n",
    "        \n",
    "        terminal_test = env.terminal_test()\n",
    "        while not terminal_test:\n",
    "            encoded_state = env.encode()\n",
    "            if env.whites_turn: \n",
    "                action_probs, zh, mean_q = mcts_white.action_probabilities(encoded_state)\n",
    "            else:\n",
    "                action_probs, zh, mean_q = mcts_black.action_probabilities(encoded_state)\n",
    "\n",
    "            if env.whites_turn:\n",
    "                experiences.append([zh.detach().cpu().numpy(), action_probs, 1, terminal_test, mean_q]) # mask is 'not done'\n",
    "            action = random.choices(list(action_probs.keys()), weights = action_probs.values(), k = 1)[0]\n",
    "            _, _ = env.step(action)\n",
    "    \n",
    "            game_move += 1\n",
    "            terminal_test = env.terminal_test()\n",
    "        \n",
    "        reward = env.result()\n",
    "        if not env.whites_turn and ((reward == 1) or (reward == -1)):\n",
    "            reward = reward * -1\n",
    "        \n",
    "        experiences[-1][-1] = 0 # mask is 'not done'\n",
    "        experiences[-1][-2] = reward\n",
    "        \n",
    "        if reward == -1:\n",
    "            print(f\"White Loss\")\n",
    "        elif reward == 1:\n",
    "            print(f\"White Won\")\n",
    "        else:\n",
    "            print(f\"Draw\")\n",
    "            if train:\n",
    "                print(\"WARNING DELETING EXPERIENCES\")\n",
    "                return None, mcts_white, mcts_black\n",
    "                \n",
    "        return experiences, mcts_white, mcts_black\n",
    "    \n",
    "    def learn(self, ray):    \n",
    "#     def learn(self):\n",
    "        \"\"\"\n",
    "        Performs numIters iterations with numEps episodes of self-play in each\n",
    "        iteration. After every iteration, it retrains neural network with\n",
    "        examples in trainExamples (which has a maximum length of maxlenofQueue).\n",
    "        It then pits the new neural network against the old one and accepts it\n",
    "        only if it wins >= updateThreshold fraction of games.\n",
    "        \"\"\"\n",
    "        print(\"LEARNING\")\n",
    "#         for i in range(1, self.iterations + 1):\n",
    "        if PARALLEL:\n",
    "            episodes = ray.get([self.execute_iterations.remote(self, self.agent, self.games + idx, self.episodes) for idx in range(self.iterations)])\n",
    "        else:\n",
    "            episodes = [self.execute_iterations(self.agent, self.games + idx, self.episodes) for idx in range(self.iterations)]\n",
    "        \n",
    "        episodes = [item for sublist in episodes for item in sublist]\n",
    "        self.games += len(episodes) \n",
    "        \n",
    "        if episodes is not None:\n",
    "            self.memory.add(episodes)\n",
    "        for _ in range(self.train_times):\n",
    "            episodes = self.memory.sample(self.memory_samples)\n",
    "            if episodes is not None:\n",
    "                self.agent.train(episodes)\n",
    "\n",
    "#         # training new network, keeping a copy of the old one\n",
    "#         self.nnet.save_checkpoint(folder=self.args.checkpoint, filename='temp.pth.tar')\n",
    "#         self.pnet.load_checkpoint(folder=self.args.checkpoint, filename='temp.pth.tar')\n",
    "#         pmcts = MCTS(self.game, self.pnet, self.args)\n",
    "\n",
    "#         \n",
    "#         nmcts = MCTS(self.game, self.nnet, self.args)\n",
    "\n",
    "#         log.info('PITTING AGAINST PREVIOUS VERSION')\n",
    "#         arena = Arena(lambda x: np.argmax(pmcts.getActionProb(x, temp=0)),\n",
    "#                           lambda x: np.argmax(nmcts.getActionProb(x, temp=0)), self.game)\n",
    "#         pwins, nwins, draws = arena.playGames(self.args.arenaCompare)\n",
    "\n",
    "#         log.info('NEW/PREV WINS : %d / %d ; DRAWS : %d' % (nwins, pwins, draws))\n",
    "#         if pwins + nwins == 0 or float(nwins) / (pwins + nwins) < self.args.updateThreshold:\n",
    "#             log.info('REJECTING NEW MODEL')\n",
    "#             self.nnet.load_checkpoint(folder=self.args.checkpoint, filename='temp.pth.tar')\n",
    "#         else:\n",
    "#             log.info('ACCEPTING NEW MODEL')\n",
    "#             self.nnet.save_checkpoint(folder=self.args.checkpoint, filename=self.getCheckpointFile(i))\n",
    "#             self.nnet.save_checkpoint(folder=self.args.checkpoint, filename='best.pth.tar')\n",
    "    def evaluate(self, ray, count):   \n",
    "#     def evaluate(self, count):\n",
    "        \"\"\"Plays X number of games between the latest trained version vs the previous version of the agent\"\"\"\n",
    "        print(\"EVALUATING\")\n",
    "        if self.previous_agent == None:\n",
    "            print('Copying Current Network to Previous Network as Previous Network is None')\n",
    "            self.previous_agent = deepcopy(self.agent)\n",
    "\n",
    "        game = 0\n",
    "\n",
    "        if PARALLEL:\n",
    "            episodes = ray.get([self.execute_iterations.remote(self, self.agent, 0, 1, opponent = deepcopy(self.previous_agent), train = False) for idx in range(self.eval_games)])\n",
    "        else:\n",
    "            episodes = [self.execute_iterations(self.agent, 0, 1, opponent = deepcopy(self.previous_agent), train = False) for idx in range(self.eval_games)]\n",
    "        \n",
    "        episodes = [item for sublist in episodes for item in sublist]\n",
    "        draws = 0\n",
    "        wins = 0\n",
    "        losses = 0\n",
    "        \n",
    "        for experiences in episodes:\n",
    "            result = experiences[-1][-2]\n",
    "#             _, _, rewards, _, _ = zip(*experiences)\n",
    "            if result == 0:\n",
    "                draws += 1\n",
    "            elif result > 0:\n",
    "                wins += 1\n",
    "            else:\n",
    "                losses += 1\n",
    "            \n",
    "        total_games = sum([wins, losses, draws])\n",
    "        win_pct = round(wins / total_games, 2)\n",
    "        loss_pct = round(losses / total_games, 2)\n",
    "        draw_pct = round(draws / total_games, 2)  \n",
    "        total_win_loss = sum([wins, losses])\n",
    "        \n",
    "        print(f'Wins {wins} {win_pct}% | Draws {draws} {draw_pct}% | Losses {losses} {loss_pct}%')\n",
    "        \n",
    "        if total_win_loss > 0 and wins / total_win_loss >= self.improv_pct:\n",
    "            print(\"New Network was better.. Flushing memory\")\n",
    "            self.previous_agent = deepcopy(self.agent)\n",
    "            self.memory.reset_memory()\n",
    "            self.agent.actor.save_model(count)\n",
    "            self.agent.critic.save_model(count)\n",
    "        else:\n",
    "            print(\"Old Network was better\")\n",
    "            self.agent = deepcopy(self.previous_agent)\n",
    "                \n",
    "if PARALLEL:\n",
    "    params = {\n",
    "        'capacity': 1000,\n",
    "        'iterations': 16,\n",
    "        'episodes': 5,\n",
    "        'queue_length' : 2000,\n",
    "        'simulations' : 200,\n",
    "        'train_times' : 100,\n",
    "        'save_freq' : 100,\n",
    "        'memory_samples' : 100,\n",
    "        'batch_size' : 1024,\n",
    "        'eval_games' : 16,\n",
    "        'improv_pct' : 0.55,\n",
    "        'learn_rates' : [0.2, 0.02, 0.002, 0.0002],\n",
    "        'learn_steps' : [0, 5, 10000, 100000],\n",
    "    }\n",
    "else:\n",
    "    params = {\n",
    "        'capacity': 50,\n",
    "        'iterations': 1,\n",
    "        'episodes': 5,\n",
    "        'queue_length' : 2000,\n",
    "        'simulations' : 2,\n",
    "        'train_times' : 10,\n",
    "        'save_freq' : 10,\n",
    "        'memory_samples' : 32,\n",
    "        'batch_size' : 128,\n",
    "        'eval_games' : 2,\n",
    "        'improv_pct' : 0.55,\n",
    "        'learn_rates' : [0.2, 0.02, 0.002, 0.0002],\n",
    "        'learn_steps' : [0, 1000, 10000, 100000],\n",
    "    }\n",
    "\n",
    "agent = Agent(env.decoder, env.action_size, 'Test', 'Test', 'Test', test_mode = False, train_times = params['train_times'], save_freq = params['save_freq'])\n",
    "agent.reset(1)\n",
    "\n",
    "coach = Coach(env, agent, params)\n",
    "train_steps = 0\n",
    "lr = params['learn_rates'][0]\n",
    "\n",
    "for count in range(1000):\n",
    "    if PARALLEL:\n",
    "        coach.learn(ray)\n",
    "        coach.evaluate(ray, count)\n",
    "    else:\n",
    "        coach.learn()\n",
    "        coach.evaluate(count)\n",
    "        \n",
    "    train_steps += params['train_times']\n",
    "    for idx, learn_steps in enumerate(params['learn_steps']):\n",
    "        if train_steps >= learn_steps and lr > params['learn_rates'][idx]:\n",
    "            lr = params['learn_rates'][idx]\n",
    "            print(f'Train steps {train_steps} > Learn steps {learn_steps}.. Reducing learning rate to {lr}')\n",
    "            coach.agent.actor_optimizer = Adam(coach.agent.actor.parameters(), lr = lr)\n",
    "            coach.agent.critic_optimizer = Adam(coach.agent.critic.parameters(), lr = lr)"
   ]
  },
  {
   "cell_type": "markdown",
   "metadata": {},
   "source": [
    "# EVALUATION"
   ]
  },
  {
   "cell_type": "code",
   "execution_count": null,
   "metadata": {},
   "outputs": [],
   "source": [
    "class MainWindow(QWidget):\n",
    "    def __init__(self):\n",
    "        super().__init__()\n",
    "        self.setGeometry(100, 100, 1100, 1100)\n",
    "        self.widgetSvg = QSvgWidget(parent = self)\n",
    "        self.widgetSvg.setGeometry(10, 10, 1080, 1080)\n",
    "\n",
    "\n",
    "# board = chess.Board()\n",
    "# app = QApplication([])\n",
    "# window = MainWindow()\n",
    "# window.show()\n",
    "# app.exec()"
   ]
  },
  {
   "cell_type": "code",
   "execution_count": null,
   "metadata": {},
   "outputs": [],
   "source": [
    "class Arena:\n",
    "    \"\"\"An Arena where you can have two players fight\"\"\"\n",
    "    \n",
    "    def __init__(self, env, agent):\n",
    "        self.env = env        \n",
    "        self.agent = agent\n",
    "        self.root = tk.Tk()\n",
    "        self.root.withdraw()\n",
    "        self.app = QApplication([])\n",
    "        self.window = MainWindow()\n",
    "    \n",
    "    def vs_human(self):\n",
    "        \"\"\"Fight Against the AI\"\"\"\n",
    "        self.agent = Agent(self.env.decoder, self.env.action_size, 'Test', 'Test', 'Test', test_mode = True)\n",
    "        self.mcts_black = MCTS(deepcopy(self.env), deepcopy(self.agent), mcts_simulations = 20)\n",
    "        \n",
    "        self.env.reset()\n",
    "        self.mcts_black.reset()\n",
    "        game_move = 0\n",
    "        while not self.env.terminal_test():\n",
    "            if not self.env.whites_turn:\n",
    "                encoded_state = self.env.encode()\n",
    "                action_probs, zh, mean_q = self.mcts_black.action_probabilities(encoded_state, evaluate = True)\n",
    "                \n",
    "                figureObject, axesObject = plt.subplots()\n",
    "                # Draw the pie chart\n",
    "                axesObject.pie(list(action_probs.values()), labels = list(action_probs.keys()), autopct = '%1.2f', startangle = 90)\n",
    "                # Aspect ratio - equal means pie is a circl\n",
    "                axesObject.axis('equal')\n",
    "                plt.show()\n",
    "                \n",
    "                \n",
    "                action = random.choices(list(action_probs.keys()), weights = action_probs.values(), k = 1)[0]\n",
    "            else:\n",
    "                legal_actions = self.env.legal_actions() \n",
    "                self.render()\n",
    "                action = simpledialog.askstring(title = \"Move\", prompt = f\"What's your next move?\\n{legal_actions}\")\n",
    "                while action not in legal_actions:\n",
    "                    action = simpledialog.askstring(title = \"Move\", prompt = f\"Invalid Move. What's your next move?\\n{legal_actions}\")\n",
    "                    if action is None:\n",
    "                        break\n",
    "                if action is None:\n",
    "                    break\n",
    "            \n",
    "            _, _ = self.env.step(action)\n",
    "            game_move += 1   \n",
    "        print(env.result())\n",
    "        \n",
    "    def render(self):\n",
    "        \"\"\"Renders the chess board\"\"\"\n",
    "        chessboardSvg = chess.svg.board(self.env.board).encode(\"UTF-8\")\n",
    "        self.window.widgetSvg.load(chessboardSvg)\n",
    "        self.window.show()\n",
    "        self.app.exec()\n",
    "        \n",
    "agent = Agent(env.decoder, env.action_size, 'Test', 'Test', 'Test', test_mode = True)\n",
    "agent.reset(1)\n",
    "\n",
    "arena = Arena(env, agent)\n",
    "arena.vs_human()"
   ]
  },
  {
   "cell_type": "code",
   "execution_count": null,
   "metadata": {},
   "outputs": [],
   "source": []
  },
  {
   "cell_type": "code",
   "execution_count": null,
   "metadata": {},
   "outputs": [],
   "source": []
  },
  {
   "cell_type": "code",
   "execution_count": null,
   "metadata": {},
   "outputs": [],
   "source": []
  },
  {
   "cell_type": "code",
   "execution_count": null,
   "metadata": {},
   "outputs": [],
   "source": []
  },
  {
   "cell_type": "code",
   "execution_count": null,
   "metadata": {},
   "outputs": [],
   "source": []
  }
 ],
 "metadata": {
  "kernelspec": {
   "display_name": "conda_pytorch_latest_p36",
   "language": "python",
   "name": "conda_pytorch_latest_p36"
  },
  "language_info": {
   "codemirror_mode": {
    "name": "ipython",
    "version": 3
   },
   "file_extension": ".py",
   "mimetype": "text/x-python",
   "name": "python",
   "nbconvert_exporter": "python",
   "pygments_lexer": "ipython3",
   "version": "3.6.10"
  }
 },
 "nbformat": 4,
 "nbformat_minor": 4
}
