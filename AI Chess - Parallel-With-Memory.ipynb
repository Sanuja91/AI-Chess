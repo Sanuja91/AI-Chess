{
 "cells": [
  {
   "cell_type": "markdown",
   "metadata": {
    "jupyter": {
     "source_hidden": true
    }
   },
   "source": [
    "# DEEPMIND ALPHAZERO CHESS"
   ]
  },
  {
   "cell_type": "markdown",
   "metadata": {},
   "source": [
    "## TODO\n",
    "- Calculate Advantages in Agent Train Function\n",
    "- Have training on GPU and inference CPU\n",
    "- Implement https://www.youtube.com/watch?v=a4VvcmqnkhY\n",
    "- print(f\"INVALID ACTION {action}.\\nSELECTING A RANDOM ACTION FROM LEGAL ACTIONS\\n{self.legal_actions()}\") #### DISABLED FOR VIEWING PRINTS PROPERLY!\n",
    "\n",
    "\n",
    "## TODO LATER\n",
    "#### - Get backward possibly loss to train the controller. Might need to save the tensor output like states, values, etc in MCTS\n",
    "- Create Self play class\n",
    "- Create Arena class\n",
    "\n",
    "DEEP MIND OPEN ACCESS PAPER \n",
    "\n",
    "https://kstatic.googleusercontent.com/files/2f51b2a749a284c2e2dfa13911da965f4855092a179469aedd15fbe4efe8f8cbf9c515ef83ac03a6515fa990e6f85fd827dcd477845e806f23a17845072dc7bd\n",
    "\n",
    "RAY ALPHA ZERO IMPLEMENTATION \n",
    "\n",
    "https://github.com/ray-project/ray/tree/master/rllib/contrib/alpha_zero\n",
    "\n",
    "DUPLICATED MCTS IMPLEMENTATION\n",
    "\n",
    "https://github.com/suragnair/alpha-zero-general/blob/master/MCTS.py\n",
    "\n",
    "DISTRIBUTED IMPLEMENTATION\n",
    "\n",
    "https://github.com/mokemokechicken/reversi-alpha-zero/blob/master/src/reversi_zero/lib/ggf.py\n",
    "\n",
    "CHESS MOVES\n",
    "\n",
    "https://www.ichess.net/blog/chess-pieces-moves/\n",
    "\n",
    "BOARD REPRESENTATIONS\n",
    "\n",
    "https://medium.com/datadriveninvestor/reconstructing-chess-positions-f195fd5944e\n",
    "\n",
    "ALPHA ZERO EXPLANATION\n",
    "\n",
    "https://nikcheerla.github.io/deeplearningschool/2018/01/01/AlphaZero-Explained/\n",
    "\n",
    "TRANSFORMER NETWORK IMPLEMENTATION\n",
    "\n",
    "https://pytorch.org/tutorials/beginner/transformer_tutorial.html"
   ]
  },
  {
   "cell_type": "code",
   "execution_count": 1,
   "metadata": {},
   "outputs": [
    {
     "name": "stdout",
     "output_type": "stream",
     "text": [
      "Requirement already satisfied: python-chess in /home/ec2-user/.local/lib/python3.6/site-packages (0.31.4)\n",
      "Requirement already satisfied: gym in /home/ec2-user/.local/lib/python3.6/site-packages (0.17.2)\n",
      "Requirement already satisfied: colorama in /home/ec2-user/anaconda3/envs/pytorch_latest_p36/lib/python3.6/site-packages (0.4.3)\n",
      "Requirement already satisfied: tqdm in /home/ec2-user/anaconda3/envs/pytorch_latest_p36/lib/python3.6/site-packages (4.44.1)\n",
      "Requirement already satisfied: PyQt5 in /home/ec2-user/.local/lib/python3.6/site-packages (5.15.0)\n",
      "Requirement already satisfied: ray in /home/ec2-user/.local/lib/python3.6/site-packages (0.8.7)\n",
      "Requirement already satisfied: tensorboard in /home/ec2-user/.local/lib/python3.6/site-packages (2.3.0)\n",
      "Requirement already satisfied: pyglet<=1.5.0,>=1.4.0 in /home/ec2-user/.local/lib/python3.6/site-packages (from gym) (1.5.0)\n",
      "Requirement already satisfied: scipy in /home/ec2-user/anaconda3/envs/pytorch_latest_p36/lib/python3.6/site-packages (from gym) (1.4.1)\n",
      "Requirement already satisfied: cloudpickle<1.4.0,>=1.2.0 in /home/ec2-user/anaconda3/envs/pytorch_latest_p36/lib/python3.6/site-packages (from gym) (1.3.0)\n",
      "Requirement already satisfied: numpy>=1.10.4 in /home/ec2-user/anaconda3/envs/pytorch_latest_p36/lib/python3.6/site-packages (from gym) (1.18.1)\n",
      "Requirement already satisfied: PyQt5-sip<13,>=12.8 in /home/ec2-user/.local/lib/python3.6/site-packages (from PyQt5) (12.8.0)\n",
      "Requirement already satisfied: gpustat in /home/ec2-user/.local/lib/python3.6/site-packages (from ray) (0.6.0)\n",
      "Requirement already satisfied: prometheus-client>=0.7.1 in /home/ec2-user/anaconda3/envs/pytorch_latest_p36/lib/python3.6/site-packages (from ray) (0.7.1)\n",
      "Requirement already satisfied: click>=7.0 in /home/ec2-user/anaconda3/envs/pytorch_latest_p36/lib/python3.6/site-packages (from ray) (7.1.1)\n",
      "Requirement already satisfied: protobuf>=3.8.0 in /home/ec2-user/anaconda3/envs/pytorch_latest_p36/lib/python3.6/site-packages (from ray) (3.12.4)\n",
      "Requirement already satisfied: msgpack<2.0.0,>=1.0.0 in /home/ec2-user/anaconda3/envs/pytorch_latest_p36/lib/python3.6/site-packages (from ray) (1.0.0)\n",
      "Requirement already satisfied: google in /home/ec2-user/.local/lib/python3.6/site-packages (from ray) (3.0.0)\n",
      "Requirement already satisfied: aioredis in /home/ec2-user/.local/lib/python3.6/site-packages (from ray) (1.3.1)\n",
      "Requirement already satisfied: redis<3.5.0,>=3.3.2 in /home/ec2-user/.local/lib/python3.6/site-packages (from ray) (3.4.1)\n",
      "Requirement already satisfied: opencensus in /home/ec2-user/.local/lib/python3.6/site-packages (from ray) (0.7.10)\n",
      "Requirement already satisfied: grpcio>=1.28.1 in /home/ec2-user/.local/lib/python3.6/site-packages (from ray) (1.31.0)\n",
      "Requirement already satisfied: py-spy>=0.2.0 in /home/ec2-user/.local/lib/python3.6/site-packages (from ray) (0.3.3)\n",
      "Requirement already satisfied: colorful in /home/ec2-user/.local/lib/python3.6/site-packages (from ray) (0.5.4)\n",
      "Requirement already satisfied: jsonschema in /home/ec2-user/anaconda3/envs/pytorch_latest_p36/lib/python3.6/site-packages (from ray) (3.2.0)\n",
      "Requirement already satisfied: pyyaml in /home/ec2-user/anaconda3/envs/pytorch_latest_p36/lib/python3.6/site-packages (from ray) (5.3.1)\n",
      "Requirement already satisfied: filelock in /home/ec2-user/anaconda3/envs/pytorch_latest_p36/lib/python3.6/site-packages (from ray) (3.0.12)\n",
      "Requirement already satisfied: requests in /home/ec2-user/anaconda3/envs/pytorch_latest_p36/lib/python3.6/site-packages (from ray) (2.23.0)\n",
      "Requirement already satisfied: aiohttp in /home/ec2-user/.local/lib/python3.6/site-packages (from ray) (3.6.2)\n",
      "Requirement already satisfied: tensorboard-plugin-wit>=1.6.0 in /home/ec2-user/.local/lib/python3.6/site-packages (from tensorboard) (1.7.0)\n",
      "Requirement already satisfied: google-auth<2,>=1.6.3 in /home/ec2-user/.local/lib/python3.6/site-packages (from tensorboard) (1.20.1)\n",
      "Requirement already satisfied: google-auth-oauthlib<0.5,>=0.4.1 in /home/ec2-user/.local/lib/python3.6/site-packages (from tensorboard) (0.4.1)\n",
      "Requirement already satisfied: absl-py>=0.4 in /home/ec2-user/.local/lib/python3.6/site-packages (from tensorboard) (0.10.0)\n",
      "Requirement already satisfied: markdown>=2.6.8 in /home/ec2-user/.local/lib/python3.6/site-packages (from tensorboard) (3.2.2)\n",
      "Requirement already satisfied: wheel>=0.26; python_version >= \"3\" in /home/ec2-user/anaconda3/envs/pytorch_latest_p36/lib/python3.6/site-packages (from tensorboard) (0.34.2)\n",
      "Requirement already satisfied: six>=1.10.0 in /home/ec2-user/anaconda3/envs/pytorch_latest_p36/lib/python3.6/site-packages (from tensorboard) (1.14.0)\n",
      "Requirement already satisfied: werkzeug>=0.11.15 in /home/ec2-user/anaconda3/envs/pytorch_latest_p36/lib/python3.6/site-packages (from tensorboard) (1.0.1)\n",
      "Requirement already satisfied: setuptools>=41.0.0 in /home/ec2-user/anaconda3/envs/pytorch_latest_p36/lib/python3.6/site-packages (from tensorboard) (46.1.3.post20200330)\n",
      "Requirement already satisfied: future in /home/ec2-user/anaconda3/envs/pytorch_latest_p36/lib/python3.6/site-packages (from pyglet<=1.5.0,>=1.4.0->gym) (0.18.2)\n",
      "Requirement already satisfied: nvidia-ml-py3>=7.352.0 in /home/ec2-user/.local/lib/python3.6/site-packages (from gpustat->ray) (7.352.0)\n",
      "Requirement already satisfied: blessings>=1.6 in /home/ec2-user/.local/lib/python3.6/site-packages (from gpustat->ray) (1.7)\n",
      "Requirement already satisfied: psutil in /home/ec2-user/anaconda3/envs/pytorch_latest_p36/lib/python3.6/site-packages (from gpustat->ray) (5.7.0)\n",
      "Requirement already satisfied: beautifulsoup4 in /home/ec2-user/anaconda3/envs/pytorch_latest_p36/lib/python3.6/site-packages (from google->ray) (4.8.2)\n",
      "Requirement already satisfied: hiredis in /home/ec2-user/.local/lib/python3.6/site-packages (from aioredis->ray) (1.1.0)\n",
      "Requirement already satisfied: async-timeout in /home/ec2-user/.local/lib/python3.6/site-packages (from aioredis->ray) (3.0.1)\n",
      "Requirement already satisfied: opencensus-context==0.1.1 in /home/ec2-user/.local/lib/python3.6/site-packages (from opencensus->ray) (0.1.1)\n",
      "Requirement already satisfied: google-api-core<2.0.0,>=1.0.0 in /home/ec2-user/.local/lib/python3.6/site-packages (from opencensus->ray) (1.22.1)\n",
      "Requirement already satisfied: importlib-metadata; python_version < \"3.8\" in /home/ec2-user/anaconda3/envs/pytorch_latest_p36/lib/python3.6/site-packages (from jsonschema->ray) (1.5.0)\n",
      "Requirement already satisfied: pyrsistent>=0.14.0 in /home/ec2-user/anaconda3/envs/pytorch_latest_p36/lib/python3.6/site-packages (from jsonschema->ray) (0.16.0)\n",
      "Requirement already satisfied: attrs>=17.4.0 in /home/ec2-user/anaconda3/envs/pytorch_latest_p36/lib/python3.6/site-packages (from jsonschema->ray) (19.3.0)\n",
      "Requirement already satisfied: idna<3,>=2.5 in /home/ec2-user/anaconda3/envs/pytorch_latest_p36/lib/python3.6/site-packages (from requests->ray) (2.9)\n",
      "Requirement already satisfied: chardet<4,>=3.0.2 in /home/ec2-user/anaconda3/envs/pytorch_latest_p36/lib/python3.6/site-packages (from requests->ray) (3.0.4)\n",
      "Requirement already satisfied: certifi>=2017.4.17 in /home/ec2-user/anaconda3/envs/pytorch_latest_p36/lib/python3.6/site-packages (from requests->ray) (2020.6.20)\n",
      "Requirement already satisfied: urllib3!=1.25.0,!=1.25.1,<1.26,>=1.21.1 in /home/ec2-user/anaconda3/envs/pytorch_latest_p36/lib/python3.6/site-packages (from requests->ray) (1.25.8)\n",
      "Requirement already satisfied: yarl<2.0,>=1.0 in /home/ec2-user/.local/lib/python3.6/site-packages (from aiohttp->ray) (1.5.1)\n",
      "Requirement already satisfied: idna-ssl>=1.0; python_version < \"3.7\" in /home/ec2-user/.local/lib/python3.6/site-packages (from aiohttp->ray) (1.1.0)\n",
      "Requirement already satisfied: typing-extensions>=3.6.5; python_version < \"3.7\" in /home/ec2-user/anaconda3/envs/pytorch_latest_p36/lib/python3.6/site-packages (from aiohttp->ray) (3.7.4.1)\n",
      "Requirement already satisfied: multidict<5.0,>=4.5 in /home/ec2-user/.local/lib/python3.6/site-packages (from aiohttp->ray) (4.7.6)\n",
      "Requirement already satisfied: rsa<5,>=3.1.4; python_version >= \"3.5\" in /home/ec2-user/anaconda3/envs/pytorch_latest_p36/lib/python3.6/site-packages (from google-auth<2,>=1.6.3->tensorboard) (4.5)\n",
      "Requirement already satisfied: pyasn1-modules>=0.2.1 in /home/ec2-user/.local/lib/python3.6/site-packages (from google-auth<2,>=1.6.3->tensorboard) (0.2.8)\n",
      "Requirement already satisfied: cachetools<5.0,>=2.0.0 in /home/ec2-user/.local/lib/python3.6/site-packages (from google-auth<2,>=1.6.3->tensorboard) (4.1.1)\n",
      "Requirement already satisfied: requests-oauthlib>=0.7.0 in /home/ec2-user/.local/lib/python3.6/site-packages (from google-auth-oauthlib<0.5,>=0.4.1->tensorboard) (1.3.0)\n",
      "Requirement already satisfied: soupsieve>=1.2 in /home/ec2-user/anaconda3/envs/pytorch_latest_p36/lib/python3.6/site-packages (from beautifulsoup4->google->ray) (2.0)\n",
      "Requirement already satisfied: contextvars; python_version >= \"3.6\" and python_version < \"3.7\" in /home/ec2-user/.local/lib/python3.6/site-packages (from opencensus-context==0.1.1->opencensus->ray) (2.4)\n",
      "Requirement already satisfied: googleapis-common-protos<2.0dev,>=1.6.0 in /home/ec2-user/.local/lib/python3.6/site-packages (from google-api-core<2.0.0,>=1.0.0->opencensus->ray) (1.52.0)\n",
      "Requirement already satisfied: pytz in /home/ec2-user/anaconda3/envs/pytorch_latest_p36/lib/python3.6/site-packages (from google-api-core<2.0.0,>=1.0.0->opencensus->ray) (2019.3)\n",
      "Requirement already satisfied: zipp>=0.5 in /home/ec2-user/anaconda3/envs/pytorch_latest_p36/lib/python3.6/site-packages (from importlib-metadata; python_version < \"3.8\"->jsonschema->ray) (2.2.0)\n"
     ]
    },
    {
     "name": "stdout",
     "output_type": "stream",
     "text": [
      "Requirement already satisfied: pyasn1>=0.1.3 in /home/ec2-user/anaconda3/envs/pytorch_latest_p36/lib/python3.6/site-packages (from rsa<5,>=3.1.4; python_version >= \"3.5\"->google-auth<2,>=1.6.3->tensorboard) (0.4.8)\n",
      "Requirement already satisfied: oauthlib>=3.0.0 in /home/ec2-user/.local/lib/python3.6/site-packages (from requests-oauthlib>=0.7.0->google-auth-oauthlib<0.5,>=0.4.1->tensorboard) (3.1.0)\n",
      "Requirement already satisfied: immutables>=0.9 in /home/ec2-user/.local/lib/python3.6/site-packages (from contextvars; python_version >= \"3.6\" and python_version < \"3.7\"->opencensus-context==0.1.1->opencensus->ray) (0.14)\n",
      "\u001b[33mWARNING: You are using pip version 20.0.2; however, version 20.2.2 is available.\n",
      "You should consider upgrading via the '/home/ec2-user/anaconda3/envs/pytorch_latest_p36/bin/python -m pip install --upgrade pip' command.\u001b[0m\n"
     ]
    }
   ],
   "source": [
    "!pip install --user python-chess gym colorama tqdm PyQt5 ray tensorboard"
   ]
  },
  {
   "cell_type": "code",
   "execution_count": 2,
   "metadata": {},
   "outputs": [
    {
     "name": "stderr",
     "output_type": "stream",
     "text": [
      "2020-08-22 20:39:44,925\tINFO resource_spec.py:231 -- Starting Ray with 37.3 GiB memory available for workers and up to 18.66 GiB for objects. You can adjust these settings with ray.init(memory=<bytes>, object_store_memory=<bytes>).\n",
      "2020-08-22 20:39:45,359\tINFO services.py:1193 -- View the Ray dashboard at \u001b[1m\u001b[32mlocalhost:8265\u001b[39m\u001b[22m\n"
     ]
    }
   ],
   "source": [
    "import chess, gym, pickle, random, torch, math, ray\n",
    "ray.init()\n",
    "import chess.svg as svg\n",
    "import numpy as np\n",
    "import pandas as pd\n",
    "from copy import copy, deepcopy\n",
    "import matplotlib.pyplot as plt\n",
    "from torch.optim import Adam\n",
    "import torch.nn as nn\n",
    "from torch.nn import functional as F\n",
    "from torch.distributions import Categorical\n",
    "# plt.style.use('ggplot')\n",
    "from scipy.ndimage.interpolation import shift\n",
    "from copy import deepcopy\n",
    "from colorama import init, Fore, Back, Style\n",
    "from collections import Counter, deque\n",
    "from tqdm import tqdm, tnrange, notebook\n",
    "from random import shuffle\n",
    "import tkinter as tk\n",
    "from tkinter import simpledialog\n",
    "from PyQt5.QtSvg import QSvgWidget\n",
    "from PyQt5.QtWidgets import QApplication, QWidget\n",
    "\n",
    "from utilities import *\n",
    "# import constants \n",
    "from constants import *\n",
    "from models.vae import CNN_AE, CNN_VAE, train_ae, train_vae, Conv\n",
    "from models.mdn import MDN_RNN, loss_function, clip_grad_norm_\n",
    "from models.controller import Policy_Controller, Value_Controller\n",
    "\n",
    "# init(convert = True)\n",
    "# REFERENCES\n",
    "# Tensorflow implementation for Chess\n",
    "# https://github.com/saurabhk7/chess-alpha-zero\n",
    "\n",
    "# Pytorch implementation for Connect4\n",
    "# https://github.com/plkmo/AlphaZero_Connect4/tree/master/src"
   ]
  },
  {
   "cell_type": "code",
   "execution_count": 3,
   "metadata": {},
   "outputs": [],
   "source": [
    "class MCTS():\n",
    "    \"\"\"Monte Carlo Tree Search Algorithm geared for Neural Networks\"\"\"\n",
    "\n",
    "    def __init__(self, env, agent, mcts_simulations = 100, max_depth = 100, delta = 0.5):\n",
    "        self.env = env\n",
    "        self.agent = agent\n",
    "        self.cpuct = 1.5    # WARNING BULLSHIT NUMBER!\n",
    "        self.delta = delta  # value to prevent crash if no edges are visited\n",
    "        self.mcts_simulations = mcts_simulations\n",
    "        self.max_depth = max_depth\n",
    "        \n",
    "        self.Qsa = {}       # stores Q values for s, a (as defined in the paper)\n",
    "        self.Nsa = {}       # stores # times edge s, a was visited\n",
    "        self.Ns = {}        # stores # times board s was visited\n",
    "        self.Ps = {}        # stores initial policy (returned by neural net)\n",
    "\n",
    "        self.Es = {}        # stores victory result (1, 0, -1) ended for board s\n",
    "        self.Vs = {}        # stores legal actions for board s\n",
    "        self.z = {}         # stores the features of the state\n",
    "        self.hidden = {}    # stores the hidden states\n",
    "\n",
    "    def action_probabilities(self, encoded_state, temp = 1):\n",
    "        \"\"\"\n",
    "        This function performs numMCTSSims simulations of MCTS starting from\n",
    "        canonicalBoard.\n",
    "        Returns:\n",
    "            probs: a policy vector where the probability of the ith action is\n",
    "                   proportional to Nsa[(s,a)]**(1./temp)\n",
    "        \"\"\"\n",
    "        for runs in range(self.mcts_simulations):\n",
    "#             print(f\"{Fore.BLUE}MCTS SIMULATION {runs + 1}{Style.RESET_ALL}\")\n",
    "            self.search(encoded_state, 0)\n",
    "        \n",
    "        s = encoded_state\n",
    "        self.env.decode(encoded_state)\n",
    "        legal_actions = self.env.legal_actions()\n",
    "        counts = [self.Nsa[(s,a)] if (s,a) in self.Nsa else 0 for a in legal_actions]\n",
    "        # counts array represent the number of time each action edge from your current state was traversed\n",
    "        \n",
    "        # temprature is 0 representing taking the best action possible (greedy)\n",
    "        if temp == 0: \n",
    "            # bestA: best action number : argmax Returns the indices of the maximum values\n",
    "            bestA = np.argmax(counts) \n",
    "            probs = [0] * len(counts)\n",
    "            probs[bestA] = 1\n",
    "            action_probs = {legal_actions[idx] : probs[idx] for idx in range(len(legal_actions))}\n",
    "            # returns the definite move(s) with same greedy reward, out of which one move HAS to be played\n",
    "            return action_probs \n",
    "        \n",
    "#         print(f\"{Fore.BLUE}COUNTS {sum(counts)} {counts}{Style.RESET_ALL}\")\n",
    "        \n",
    "        # Handles frequent draw situation when MCTS fails to explore when the game is over resulting 0 counts causing div 0 error\n",
    "        if sum(counts) == 0:\n",
    "            counts = [1 for _ in counts]\n",
    "            \n",
    "        counts = [x ** (1. / temp) + 0.5 for x in counts]\n",
    "        probs = [x / float(sum(counts)) for x in counts]\n",
    "        action_probs = {legal_actions[idx] : probs[idx] for idx in range(len(legal_actions))}\n",
    "        zh = torch.cat((self.z[s].to('cpu'), self.hidden[s][0].squeeze(0).to('cpu')), dim = 1)\n",
    "#         print(zh)\n",
    "        return action_probs, zh\n",
    "        #returns the probablity of different moves that CAN be played resulting in uniform distribution\n",
    "\n",
    "\n",
    "    def search(self, encoded_state, depth):\n",
    "        \"\"\"\n",
    "        This function performs one iteration of MCTS. It is recursively called\n",
    "        till a leaf node is found. The action chosen at each node is one that\n",
    "        has the maximum upper confidence bound as in the paper.\n",
    "        Once a leaf node is found, the neural network is called to return an\n",
    "        initial policy P and a value v for the state. This value is propogated\n",
    "        up the search path. In case the leaf node is a terminal state, the\n",
    "        outcome is propogated up the search path. The values of Ns, Nsa, Qsa are\n",
    "        updated.\n",
    "        NOTE: the return values are the negative of the value of the current\n",
    "        state. This is done since v is in [-1,1] and if v is the value of a\n",
    "        state for the current player, then its value is -v for the other player.\n",
    "        Returns:\n",
    "            v: the negative of the value of the current canonicalBoard\n",
    "        \"\"\"\n",
    "\n",
    "        s = deepcopy(encoded_state)\n",
    "        self.env.decode(encoded_state)\n",
    "#         print(f\"{Fore.GREEN}SEARCH DEPTH {depth}{Style.RESET_ALL}\")\n",
    "        \n",
    "        # Check if its an terminal state, -1 Opponent Won, 0 Game not Over, 1 Player Won\n",
    "        if s not in self.Es:\n",
    "            self.Es[s] = self.env.result()\n",
    "        \n",
    "        # Handles the maintaining of the MDNs hidden states\n",
    "        if s not in self.hidden:\n",
    "            self.hidden[s] = self.agent.get_hidden()\n",
    "        else:\n",
    "            self.agent.load_hidden(self.hidden[s])\n",
    "        \n",
    "        # Checks if the game is over and returns the respective value\n",
    "        if self.env.terminal_test():\n",
    "            state, _ = self.env.observe()\n",
    "            self.z[s] = self.agent.encode_z(state)\n",
    "            \n",
    "#             print(\"SIMULATION OVER!\", self.env.terminal_test(), -self.Es[s], self.env.board.result())\n",
    "            return -self.Es[s]          \n",
    "        \n",
    "        state, legal_actions = self.env.observe()\n",
    "\n",
    "        # if the current state 's' is not explored/expanded before n = 0 by MCTS then create a new node and rollout\n",
    "        if s not in self.Ps: \n",
    "            self.Ps[s], v, self.z[s] = self.agent.act(state, legal_actions)\n",
    "#             print(\"self.Ps[s] at Depth\", depth, \"\\n\", self.Ps[s])\n",
    "            valids = legal_actions\n",
    "\n",
    "            self.Vs[s] = valids \n",
    "            self.Ns[s] = 0\n",
    "#             print(\"VALUE\", -v)\n",
    "            return -v\n",
    "\n",
    "        # as already visited the valid moves array 'Vs' is already initialized\n",
    "        valids = self.Vs[s] \n",
    "        cur_best = -float('inf')\n",
    "        best_act = -1\n",
    "        \n",
    "        self.env.decode(encoded_state)\n",
    "        legal_actions = self.env.legal_actions()\n",
    "        # pick the action with the highest upper confidence bound\n",
    "        \n",
    "        agent_actions = list(self.Ps[s].keys())\n",
    "        \n",
    "        # Handles the occasional legal action that isn't an actual legal action\n",
    "        # Pawn side cut even though there is no enemy piece in respective position\n",
    "#         print(\"XXXXX PRE LEGAL ACTIONS\\n\", legal_actions)\n",
    "        if not set(agent_actions) == set(legal_actions):\n",
    "            legal_actions = agent_actions\n",
    "#         print(\"XXXXX POST LEGAL ACTIONS\\n\", legal_actions)\n",
    "        for a in legal_actions:\n",
    "            if (s,a) in self.Qsa:\n",
    "                u = self.Qsa[(s,a)] + self.cpuct * self.Ps[s][a] * math.sqrt(self.Ns[s]) / (1 + self.Nsa[(s,a)])\n",
    "#                 print(\"In Qsa\")\n",
    "            else:\n",
    "                self.Ps[s][a] \n",
    "                u = self.cpuct * self.Ps[s][a] * math.sqrt(self.Ns[s])     # Q = 0 ? : node exists but not explored as added and initilized during nnet phase\n",
    "#                 print(\"Not In Qsa\", self.Ps[s][a], self.Ns[s], math.sqrt(self.Ns[s]))\n",
    "#             print(\"U\", u)\n",
    "            if math.isnan(u):\n",
    "                u = 0\n",
    "#                 print(\"Override U\", u)\n",
    "            if u > cur_best:\n",
    "                cur_best = u\n",
    "                best_act = a\n",
    "#         print(f\"{Fore.GREEN}BEST ACTION {best_act}{Style.RESET_ALL}\")\n",
    "        a = best_act\n",
    "\n",
    "        _, _ = self.env.step(a)\n",
    "        self.agent.step(self.z[s], a)\n",
    "        \n",
    "        encoded_next_state = self.env.encode()\n",
    "\n",
    "        v = self.search(encoded_next_state, depth + 1) # RECURSION until leaf node or terminal node is found\n",
    "        \n",
    "        self.env.decode(encoded_state)\n",
    "        \n",
    "        if (s,a) in self.Qsa:\n",
    "            self.Qsa[(s,a)] = (self.Nsa[(s,a)] * self.Qsa[(s,a)] + v) / (self.Nsa[(s,a)] + 1) #update the Q Value\n",
    "            self.Nsa[(s,a)] += 1 # increment number of visits to this node in MCTS\n",
    "        else:\n",
    "            self.Qsa[(s,a)] = v # initialize the new node\n",
    "            self.Nsa[(s,a)] = 1\n",
    "\n",
    "        self.Ns[s] += 1\n",
    "        return -v\n",
    "    \n",
    "    def reset(self):\n",
    "        \"\"\"Resets the tracked information\"\"\"\n",
    "        self.Qsa = {}       \n",
    "        self.Nsa = {}       \n",
    "        self.Ns = {}        \n",
    "        self.Ps = {}       \n",
    "        self.Es = {}\n",
    "        self.Vs = {}  \n",
    "        self.zh = {}\n",
    "        self.hidden = {}\n",
    "        self.agent.reset(1)\n",
    "        self.env.reset()"
   ]
  },
  {
   "cell_type": "code",
   "execution_count": 4,
   "metadata": {
    "scrolled": true
   },
   "outputs": [
    {
     "data": {
      "image/svg+xml": [
       "<svg height=\"390\" version=\"1.1\" viewBox=\"0 0 390 390\" width=\"390\" xmlns=\"http://www.w3.org/2000/svg\" xmlns:xlink=\"http://www.w3.org/1999/xlink\"><defs><g class=\"white pawn\" id=\"white-pawn\"><path d=\"M22 9c-2.21 0-4 1.79-4 4 0 .89.29 1.71.78 2.38-1.95 1.12-3.28 3.21-3.28 5.62 0 2.03.94 3.84 2.41 5.03-3 1.06-7.41 5.55-7.41 13.47h23c0-7.92-4.41-12.41-7.41-13.47 1.47-1.19 2.41-3 2.41-5.03 0-2.41-1.33-4.5-3.28-5.62.49-.67.78-1.49.78-2.38 0-2.21-1.79-4-4-4z\" fill=\"#fff\" stroke=\"#000\" stroke-linecap=\"round\" stroke-width=\"1.5\" /></g><g class=\"white knight\" fill=\"none\" fill-rule=\"evenodd\" id=\"white-knight\" stroke=\"#000\" stroke-linecap=\"round\" stroke-linejoin=\"round\" stroke-width=\"1.5\"><path d=\"M 22,10 C 32.5,11 38.5,18 38,39 L 15,39 C 15,30 25,32.5 23,18\" style=\"fill:#ffffff; stroke:#000000;\" /><path d=\"M 24,18 C 24.38,20.91 18.45,25.37 16,27 C 13,29 13.18,31.34 11,31 C 9.958,30.06 12.41,27.96 11,28 C 10,28 11.19,29.23 10,30 C 9,30 5.997,31 6,26 C 6,24 12,14 12,14 C 12,14 13.89,12.1 14,10.5 C 13.27,9.506 13.5,8.5 13.5,7.5 C 14.5,6.5 16.5,10 16.5,10 L 18.5,10 C 18.5,10 19.28,8.008 21,7 C 22,7 22,10 22,10\" style=\"fill:#ffffff; stroke:#000000;\" /><path d=\"M 9.5 25.5 A 0.5 0.5 0 1 1 8.5,25.5 A 0.5 0.5 0 1 1 9.5 25.5 z\" style=\"fill:#000000; stroke:#000000;\" /><path d=\"M 15 15.5 A 0.5 1.5 0 1 1 14,15.5 A 0.5 1.5 0 1 1 15 15.5 z\" style=\"fill:#000000; stroke:#000000;\" transform=\"matrix(0.866,0.5,-0.5,0.866,9.693,-5.173)\" /></g><g class=\"white bishop\" fill=\"none\" fill-rule=\"evenodd\" id=\"white-bishop\" stroke=\"#000\" stroke-linecap=\"round\" stroke-linejoin=\"round\" stroke-width=\"1.5\"><g fill=\"#fff\" stroke-linecap=\"butt\"><path d=\"M9 36c3.39-.97 10.11.43 13.5-2 3.39 2.43 10.11 1.03 13.5 2 0 0 1.65.54 3 2-.68.97-1.65.99-3 .5-3.39-.97-10.11.46-13.5-1-3.39 1.46-10.11.03-13.5 1-1.354.49-2.323.47-3-.5 1.354-1.94 3-2 3-2zM15 32c2.5 2.5 12.5 2.5 15 0 .5-1.5 0-2 0-2 0-2.5-2.5-4-2.5-4 5.5-1.5 6-11.5-5-15.5-11 4-10.5 14-5 15.5 0 0-2.5 1.5-2.5 4 0 0-.5.5 0 2zM25 8a2.5 2.5 0 1 1-5 0 2.5 2.5 0 1 1 5 0z\" /></g><path d=\"M17.5 26h10M15 30h15m-7.5-14.5v5M20 18h5\" stroke-linejoin=\"miter\" /></g><g class=\"white rook\" fill=\"#fff\" fill-rule=\"evenodd\" id=\"white-rook\" stroke=\"#000\" stroke-linecap=\"round\" stroke-linejoin=\"round\" stroke-width=\"1.5\"><path d=\"M9 39h27v-3H9v3zM12 36v-4h21v4H12zM11 14V9h4v2h5V9h5v2h5V9h4v5\" stroke-linecap=\"butt\" /><path d=\"M34 14l-3 3H14l-3-3\" /><path d=\"M31 17v12.5H14V17\" stroke-linecap=\"butt\" stroke-linejoin=\"miter\" /><path d=\"M31 29.5l1.5 2.5h-20l1.5-2.5\" /><path d=\"M11 14h23\" fill=\"none\" stroke-linejoin=\"miter\" /></g><g class=\"white queen\" fill=\"#fff\" fill-rule=\"evenodd\" id=\"white-queen\" stroke=\"#000\" stroke-linecap=\"round\" stroke-linejoin=\"round\" stroke-width=\"1.5\"><path d=\"M8 12a2 2 0 1 1-4 0 2 2 0 1 1 4 0zM24.5 7.5a2 2 0 1 1-4 0 2 2 0 1 1 4 0zM41 12a2 2 0 1 1-4 0 2 2 0 1 1 4 0zM16 8.5a2 2 0 1 1-4 0 2 2 0 1 1 4 0zM33 9a2 2 0 1 1-4 0 2 2 0 1 1 4 0z\" /><path d=\"M9 26c8.5-1.5 21-1.5 27 0l2-12-7 11V11l-5.5 13.5-3-15-3 15-5.5-14V25L7 14l2 12zM9 26c0 2 1.5 2 2.5 4 1 1.5 1 1 .5 3.5-1.5 1-1.5 2.5-1.5 2.5-1.5 1.5.5 2.5.5 2.5 6.5 1 16.5 1 23 0 0 0 1.5-1 0-2.5 0 0 .5-1.5-1-2.5-.5-2.5-.5-2 .5-3.5 1-2 2.5-2 2.5-4-8.5-1.5-18.5-1.5-27 0z\" stroke-linecap=\"butt\" /><path d=\"M11.5 30c3.5-1 18.5-1 22 0M12 33.5c6-1 15-1 21 0\" fill=\"none\" /></g><g class=\"white king\" fill=\"none\" fill-rule=\"evenodd\" id=\"white-king\" stroke=\"#000\" stroke-linecap=\"round\" stroke-linejoin=\"round\" stroke-width=\"1.5\"><path d=\"M22.5 11.63V6M20 8h5\" stroke-linejoin=\"miter\" /><path d=\"M22.5 25s4.5-7.5 3-10.5c0 0-1-2.5-3-2.5s-3 2.5-3 2.5c-1.5 3 3 10.5 3 10.5\" fill=\"#fff\" stroke-linecap=\"butt\" stroke-linejoin=\"miter\" /><path d=\"M11.5 37c5.5 3.5 15.5 3.5 21 0v-7s9-4.5 6-10.5c-4-6.5-13.5-3.5-16 4V27v-3.5c-3.5-7.5-13-10.5-16-4-3 6 5 10 5 10V37z\" fill=\"#fff\" /><path d=\"M11.5 30c5.5-3 15.5-3 21 0m-21 3.5c5.5-3 15.5-3 21 0m-21 3.5c5.5-3 15.5-3 21 0\" /></g><g class=\"black pawn\" id=\"black-pawn\"><path d=\"M22 9c-2.21 0-4 1.79-4 4 0 .89.29 1.71.78 2.38-1.95 1.12-3.28 3.21-3.28 5.62 0 2.03.94 3.84 2.41 5.03-3 1.06-7.41 5.55-7.41 13.47h23c0-7.92-4.41-12.41-7.41-13.47 1.47-1.19 2.41-3 2.41-5.03 0-2.41-1.33-4.5-3.28-5.62.49-.67.78-1.49.78-2.38 0-2.21-1.79-4-4-4z\" stroke=\"#000\" stroke-linecap=\"round\" stroke-width=\"1.5\" /></g><g class=\"black knight\" fill=\"none\" fill-rule=\"evenodd\" id=\"black-knight\" stroke=\"#000\" stroke-linecap=\"round\" stroke-linejoin=\"round\" stroke-width=\"1.5\"><path d=\"M 22,10 C 32.5,11 38.5,18 38,39 L 15,39 C 15,30 25,32.5 23,18\" style=\"fill:#000000; stroke:#000000;\" /><path d=\"M 24,18 C 24.38,20.91 18.45,25.37 16,27 C 13,29 13.18,31.34 11,31 C 9.958,30.06 12.41,27.96 11,28 C 10,28 11.19,29.23 10,30 C 9,30 5.997,31 6,26 C 6,24 12,14 12,14 C 12,14 13.89,12.1 14,10.5 C 13.27,9.506 13.5,8.5 13.5,7.5 C 14.5,6.5 16.5,10 16.5,10 L 18.5,10 C 18.5,10 19.28,8.008 21,7 C 22,7 22,10 22,10\" style=\"fill:#000000; stroke:#000000;\" /><path d=\"M 9.5 25.5 A 0.5 0.5 0 1 1 8.5,25.5 A 0.5 0.5 0 1 1 9.5 25.5 z\" style=\"fill:#ececec; stroke:#ececec;\" /><path d=\"M 15 15.5 A 0.5 1.5 0 1 1 14,15.5 A 0.5 1.5 0 1 1 15 15.5 z\" style=\"fill:#ececec; stroke:#ececec;\" transform=\"matrix(0.866,0.5,-0.5,0.866,9.693,-5.173)\" /><path d=\"M 24.55,10.4 L 24.1,11.85 L 24.6,12 C 27.75,13 30.25,14.49 32.5,18.75 C 34.75,23.01 35.75,29.06 35.25,39 L 35.2,39.5 L 37.45,39.5 L 37.5,39 C 38,28.94 36.62,22.15 34.25,17.66 C 31.88,13.17 28.46,11.02 25.06,10.5 L 24.55,10.4 z \" style=\"fill:#ececec; stroke:none;\" /></g><g class=\"black bishop\" fill=\"none\" fill-rule=\"evenodd\" id=\"black-bishop\" stroke=\"#000\" stroke-linecap=\"round\" stroke-linejoin=\"round\" stroke-width=\"1.5\"><path d=\"M9 36c3.39-.97 10.11.43 13.5-2 3.39 2.43 10.11 1.03 13.5 2 0 0 1.65.54 3 2-.68.97-1.65.99-3 .5-3.39-.97-10.11.46-13.5-1-3.39 1.46-10.11.03-13.5 1-1.354.49-2.323.47-3-.5 1.354-1.94 3-2 3-2zm6-4c2.5 2.5 12.5 2.5 15 0 .5-1.5 0-2 0-2 0-2.5-2.5-4-2.5-4 5.5-1.5 6-11.5-5-15.5-11 4-10.5 14-5 15.5 0 0-2.5 1.5-2.5 4 0 0-.5.5 0 2zM25 8a2.5 2.5 0 1 1-5 0 2.5 2.5 0 1 1 5 0z\" fill=\"#000\" stroke-linecap=\"butt\" /><path d=\"M17.5 26h10M15 30h15m-7.5-14.5v5M20 18h5\" stroke=\"#fff\" stroke-linejoin=\"miter\" /></g><g class=\"black rook\" fill=\"#000\" fill-rule=\"evenodd\" id=\"black-rook\" stroke=\"#000\" stroke-linecap=\"round\" stroke-linejoin=\"round\" stroke-width=\"1.5\"><path d=\"M9 39h27v-3H9v3zM12.5 32l1.5-2.5h17l1.5 2.5h-20zM12 36v-4h21v4H12z\" stroke-linecap=\"butt\" /><path d=\"M14 29.5v-13h17v13H14z\" stroke-linecap=\"butt\" stroke-linejoin=\"miter\" /><path d=\"M14 16.5L11 14h23l-3 2.5H14zM11 14V9h4v2h5V9h5v2h5V9h4v5H11z\" stroke-linecap=\"butt\" /><path d=\"M12 35.5h21M13 31.5h19M14 29.5h17M14 16.5h17M11 14h23\" fill=\"none\" stroke=\"#fff\" stroke-linejoin=\"miter\" stroke-width=\"1\" /></g><g class=\"black queen\" fill=\"#000\" fill-rule=\"evenodd\" id=\"black-queen\" stroke=\"#000\" stroke-linecap=\"round\" stroke-linejoin=\"round\" stroke-width=\"1.5\"><g fill=\"#000\" stroke=\"none\"><circle cx=\"6\" cy=\"12\" r=\"2.75\" /><circle cx=\"14\" cy=\"9\" r=\"2.75\" /><circle cx=\"22.5\" cy=\"8\" r=\"2.75\" /><circle cx=\"31\" cy=\"9\" r=\"2.75\" /><circle cx=\"39\" cy=\"12\" r=\"2.75\" /></g><path d=\"M9 26c8.5-1.5 21-1.5 27 0l2.5-12.5L31 25l-.3-14.1-5.2 13.6-3-14.5-3 14.5-5.2-13.6L14 25 6.5 13.5 9 26zM9 26c0 2 1.5 2 2.5 4 1 1.5 1 1 .5 3.5-1.5 1-1.5 2.5-1.5 2.5-1.5 1.5.5 2.5.5 2.5 6.5 1 16.5 1 23 0 0 0 1.5-1 0-2.5 0 0 .5-1.5-1-2.5-.5-2.5-.5-2 .5-3.5 1-2 2.5-2 2.5-4-8.5-1.5-18.5-1.5-27 0z\" stroke-linecap=\"butt\" /><path d=\"M11 38.5a35 35 1 0 0 23 0\" fill=\"none\" stroke-linecap=\"butt\" /><path d=\"M11 29a35 35 1 0 1 23 0M12.5 31.5h20M11.5 34.5a35 35 1 0 0 22 0M10.5 37.5a35 35 1 0 0 24 0\" fill=\"none\" stroke=\"#fff\" /></g><g class=\"black king\" fill=\"none\" fill-rule=\"evenodd\" id=\"black-king\" stroke=\"#000\" stroke-linecap=\"round\" stroke-linejoin=\"round\" stroke-width=\"1.5\"><path d=\"M22.5 11.63V6\" stroke-linejoin=\"miter\" /><path d=\"M22.5 25s4.5-7.5 3-10.5c0 0-1-2.5-3-2.5s-3 2.5-3 2.5c-1.5 3 3 10.5 3 10.5\" fill=\"#000\" stroke-linecap=\"butt\" stroke-linejoin=\"miter\" /><path d=\"M11.5 37c5.5 3.5 15.5 3.5 21 0v-7s9-4.5 6-10.5c-4-6.5-13.5-3.5-16 4V27v-3.5c-3.5-7.5-13-10.5-16-4-3 6 5 10 5 10V37z\" fill=\"#000\" /><path d=\"M20 8h5\" stroke-linejoin=\"miter\" /><path d=\"M32 29.5s8.5-4 6.03-9.65C34.15 14 25 18 22.5 24.5l.01 2.1-.01-2.1C20 18 9.906 14 6.997 19.85c-2.497 5.65 4.853 9 4.853 9M11.5 30c5.5-3 15.5-3 21 0m-21 3.5c5.5-3 15.5-3 21 0m-21 3.5c5.5-3 15.5-3 21 0\" stroke=\"#fff\" /></g></defs><rect fill=\"#212121\" height=\"390\" width=\"390\" x=\"0\" y=\"0\" /><rect class=\"square dark a1\" fill=\"#d18b47\" height=\"45\" stroke=\"none\" width=\"45\" x=\"15\" y=\"330\" /><use transform=\"translate(15, 330)\" xlink:href=\"#white-rook\" /><rect class=\"square light b1\" fill=\"#ffce9e\" height=\"45\" stroke=\"none\" width=\"45\" x=\"60\" y=\"330\" /><use transform=\"translate(60, 330)\" xlink:href=\"#white-knight\" /><rect class=\"square dark c1\" fill=\"#d18b47\" height=\"45\" stroke=\"none\" width=\"45\" x=\"105\" y=\"330\" /><use transform=\"translate(105, 330)\" xlink:href=\"#white-bishop\" /><rect class=\"square light d1\" fill=\"#ffce9e\" height=\"45\" stroke=\"none\" width=\"45\" x=\"150\" y=\"330\" /><use transform=\"translate(150, 330)\" xlink:href=\"#white-queen\" /><rect class=\"square dark e1\" fill=\"#d18b47\" height=\"45\" stroke=\"none\" width=\"45\" x=\"195\" y=\"330\" /><use transform=\"translate(195, 330)\" xlink:href=\"#white-king\" /><rect class=\"square light f1\" fill=\"#ffce9e\" height=\"45\" stroke=\"none\" width=\"45\" x=\"240\" y=\"330\" /><use transform=\"translate(240, 330)\" xlink:href=\"#white-bishop\" /><rect class=\"square dark g1\" fill=\"#d18b47\" height=\"45\" stroke=\"none\" width=\"45\" x=\"285\" y=\"330\" /><use transform=\"translate(285, 330)\" xlink:href=\"#white-knight\" /><rect class=\"square light h1\" fill=\"#ffce9e\" height=\"45\" stroke=\"none\" width=\"45\" x=\"330\" y=\"330\" /><use transform=\"translate(330, 330)\" xlink:href=\"#white-rook\" /><rect class=\"square light a2\" fill=\"#ffce9e\" height=\"45\" stroke=\"none\" width=\"45\" x=\"15\" y=\"285\" /><use transform=\"translate(15, 285)\" xlink:href=\"#white-pawn\" /><rect class=\"square dark b2\" fill=\"#d18b47\" height=\"45\" stroke=\"none\" width=\"45\" x=\"60\" y=\"285\" /><use transform=\"translate(60, 285)\" xlink:href=\"#white-pawn\" /><rect class=\"square light c2\" fill=\"#ffce9e\" height=\"45\" stroke=\"none\" width=\"45\" x=\"105\" y=\"285\" /><use transform=\"translate(105, 285)\" xlink:href=\"#white-pawn\" /><rect class=\"square dark d2\" fill=\"#d18b47\" height=\"45\" stroke=\"none\" width=\"45\" x=\"150\" y=\"285\" /><use transform=\"translate(150, 285)\" xlink:href=\"#white-pawn\" /><rect class=\"square light e2\" fill=\"#ffce9e\" height=\"45\" stroke=\"none\" width=\"45\" x=\"195\" y=\"285\" /><use transform=\"translate(195, 285)\" xlink:href=\"#white-pawn\" /><rect class=\"square dark f2\" fill=\"#d18b47\" height=\"45\" stroke=\"none\" width=\"45\" x=\"240\" y=\"285\" /><use transform=\"translate(240, 285)\" xlink:href=\"#white-pawn\" /><rect class=\"square light g2\" fill=\"#ffce9e\" height=\"45\" stroke=\"none\" width=\"45\" x=\"285\" y=\"285\" /><use transform=\"translate(285, 285)\" xlink:href=\"#white-pawn\" /><rect class=\"square dark h2\" fill=\"#d18b47\" height=\"45\" stroke=\"none\" width=\"45\" x=\"330\" y=\"285\" /><use transform=\"translate(330, 285)\" xlink:href=\"#white-pawn\" /><rect class=\"square dark a3\" fill=\"#d18b47\" height=\"45\" stroke=\"none\" width=\"45\" x=\"15\" y=\"240\" /><rect class=\"square light b3\" fill=\"#ffce9e\" height=\"45\" stroke=\"none\" width=\"45\" x=\"60\" y=\"240\" /><rect class=\"square dark c3\" fill=\"#d18b47\" height=\"45\" stroke=\"none\" width=\"45\" x=\"105\" y=\"240\" /><rect class=\"square light d3\" fill=\"#ffce9e\" height=\"45\" stroke=\"none\" width=\"45\" x=\"150\" y=\"240\" /><rect class=\"square dark e3\" fill=\"#d18b47\" height=\"45\" stroke=\"none\" width=\"45\" x=\"195\" y=\"240\" /><rect class=\"square light f3\" fill=\"#ffce9e\" height=\"45\" stroke=\"none\" width=\"45\" x=\"240\" y=\"240\" /><rect class=\"square dark g3\" fill=\"#d18b47\" height=\"45\" stroke=\"none\" width=\"45\" x=\"285\" y=\"240\" /><rect class=\"square light h3\" fill=\"#ffce9e\" height=\"45\" stroke=\"none\" width=\"45\" x=\"330\" y=\"240\" /><rect class=\"square light a4\" fill=\"#ffce9e\" height=\"45\" stroke=\"none\" width=\"45\" x=\"15\" y=\"195\" /><rect class=\"square dark b4\" fill=\"#d18b47\" height=\"45\" stroke=\"none\" width=\"45\" x=\"60\" y=\"195\" /><rect class=\"square light c4\" fill=\"#ffce9e\" height=\"45\" stroke=\"none\" width=\"45\" x=\"105\" y=\"195\" /><rect class=\"square dark d4\" fill=\"#d18b47\" height=\"45\" stroke=\"none\" width=\"45\" x=\"150\" y=\"195\" /><rect class=\"square light e4\" fill=\"#ffce9e\" height=\"45\" stroke=\"none\" width=\"45\" x=\"195\" y=\"195\" /><rect class=\"square dark f4\" fill=\"#d18b47\" height=\"45\" stroke=\"none\" width=\"45\" x=\"240\" y=\"195\" /><rect class=\"square light g4\" fill=\"#ffce9e\" height=\"45\" stroke=\"none\" width=\"45\" x=\"285\" y=\"195\" /><rect class=\"square dark h4\" fill=\"#d18b47\" height=\"45\" stroke=\"none\" width=\"45\" x=\"330\" y=\"195\" /><rect class=\"square dark a5\" fill=\"#d18b47\" height=\"45\" stroke=\"none\" width=\"45\" x=\"15\" y=\"150\" /><rect class=\"square light b5\" fill=\"#ffce9e\" height=\"45\" stroke=\"none\" width=\"45\" x=\"60\" y=\"150\" /><rect class=\"square dark c5\" fill=\"#d18b47\" height=\"45\" stroke=\"none\" width=\"45\" x=\"105\" y=\"150\" /><rect class=\"square light d5\" fill=\"#ffce9e\" height=\"45\" stroke=\"none\" width=\"45\" x=\"150\" y=\"150\" /><rect class=\"square dark e5\" fill=\"#d18b47\" height=\"45\" stroke=\"none\" width=\"45\" x=\"195\" y=\"150\" /><rect class=\"square light f5\" fill=\"#ffce9e\" height=\"45\" stroke=\"none\" width=\"45\" x=\"240\" y=\"150\" /><rect class=\"square dark g5\" fill=\"#d18b47\" height=\"45\" stroke=\"none\" width=\"45\" x=\"285\" y=\"150\" /><rect class=\"square light h5\" fill=\"#ffce9e\" height=\"45\" stroke=\"none\" width=\"45\" x=\"330\" y=\"150\" /><rect class=\"square light a6\" fill=\"#ffce9e\" height=\"45\" stroke=\"none\" width=\"45\" x=\"15\" y=\"105\" /><rect class=\"square dark b6\" fill=\"#d18b47\" height=\"45\" stroke=\"none\" width=\"45\" x=\"60\" y=\"105\" /><rect class=\"square light c6\" fill=\"#ffce9e\" height=\"45\" stroke=\"none\" width=\"45\" x=\"105\" y=\"105\" /><rect class=\"square dark d6\" fill=\"#d18b47\" height=\"45\" stroke=\"none\" width=\"45\" x=\"150\" y=\"105\" /><rect class=\"square light e6\" fill=\"#ffce9e\" height=\"45\" stroke=\"none\" width=\"45\" x=\"195\" y=\"105\" /><rect class=\"square dark f6\" fill=\"#d18b47\" height=\"45\" stroke=\"none\" width=\"45\" x=\"240\" y=\"105\" /><rect class=\"square light g6\" fill=\"#ffce9e\" height=\"45\" stroke=\"none\" width=\"45\" x=\"285\" y=\"105\" /><rect class=\"square dark h6\" fill=\"#d18b47\" height=\"45\" stroke=\"none\" width=\"45\" x=\"330\" y=\"105\" /><rect class=\"square dark a7\" fill=\"#d18b47\" height=\"45\" stroke=\"none\" width=\"45\" x=\"15\" y=\"60\" /><use transform=\"translate(15, 60)\" xlink:href=\"#black-pawn\" /><rect class=\"square light b7\" fill=\"#ffce9e\" height=\"45\" stroke=\"none\" width=\"45\" x=\"60\" y=\"60\" /><use transform=\"translate(60, 60)\" xlink:href=\"#black-pawn\" /><rect class=\"square dark c7\" fill=\"#d18b47\" height=\"45\" stroke=\"none\" width=\"45\" x=\"105\" y=\"60\" /><use transform=\"translate(105, 60)\" xlink:href=\"#black-pawn\" /><rect class=\"square light d7\" fill=\"#ffce9e\" height=\"45\" stroke=\"none\" width=\"45\" x=\"150\" y=\"60\" /><use transform=\"translate(150, 60)\" xlink:href=\"#black-pawn\" /><rect class=\"square dark e7\" fill=\"#d18b47\" height=\"45\" stroke=\"none\" width=\"45\" x=\"195\" y=\"60\" /><use transform=\"translate(195, 60)\" xlink:href=\"#black-pawn\" /><rect class=\"square light f7\" fill=\"#ffce9e\" height=\"45\" stroke=\"none\" width=\"45\" x=\"240\" y=\"60\" /><use transform=\"translate(240, 60)\" xlink:href=\"#black-pawn\" /><rect class=\"square dark g7\" fill=\"#d18b47\" height=\"45\" stroke=\"none\" width=\"45\" x=\"285\" y=\"60\" /><use transform=\"translate(285, 60)\" xlink:href=\"#black-pawn\" /><rect class=\"square light h7\" fill=\"#ffce9e\" height=\"45\" stroke=\"none\" width=\"45\" x=\"330\" y=\"60\" /><use transform=\"translate(330, 60)\" xlink:href=\"#black-pawn\" /><rect class=\"square light a8\" fill=\"#ffce9e\" height=\"45\" stroke=\"none\" width=\"45\" x=\"15\" y=\"15\" /><use transform=\"translate(15, 15)\" xlink:href=\"#black-rook\" /><rect class=\"square dark b8\" fill=\"#d18b47\" height=\"45\" stroke=\"none\" width=\"45\" x=\"60\" y=\"15\" /><use transform=\"translate(60, 15)\" xlink:href=\"#black-knight\" /><rect class=\"square light c8\" fill=\"#ffce9e\" height=\"45\" stroke=\"none\" width=\"45\" x=\"105\" y=\"15\" /><use transform=\"translate(105, 15)\" xlink:href=\"#black-bishop\" /><rect class=\"square dark d8\" fill=\"#d18b47\" height=\"45\" stroke=\"none\" width=\"45\" x=\"150\" y=\"15\" /><use transform=\"translate(150, 15)\" xlink:href=\"#black-queen\" /><rect class=\"square light e8\" fill=\"#ffce9e\" height=\"45\" stroke=\"none\" width=\"45\" x=\"195\" y=\"15\" /><use transform=\"translate(195, 15)\" xlink:href=\"#black-king\" /><rect class=\"square dark f8\" fill=\"#d18b47\" height=\"45\" stroke=\"none\" width=\"45\" x=\"240\" y=\"15\" /><use transform=\"translate(240, 15)\" xlink:href=\"#black-bishop\" /><rect class=\"square light g8\" fill=\"#ffce9e\" height=\"45\" stroke=\"none\" width=\"45\" x=\"285\" y=\"15\" /><use transform=\"translate(285, 15)\" xlink:href=\"#black-knight\" /><rect class=\"square dark h8\" fill=\"#d18b47\" height=\"45\" stroke=\"none\" width=\"45\" x=\"330\" y=\"15\" /><use transform=\"translate(330, 15)\" xlink:href=\"#black-rook\" /><g fill=\"#e5e5e5\" stroke=\"#e5e5e5\" transform=\"translate(20, 0) scale(0.75, 0.75)\"><path d=\"M23.328 10.016q-1.742 0-2.414.398-.672.398-.672 1.36 0 .765.5 1.218.508.445 1.375.445 1.196 0 1.914-.843.727-.852.727-2.258v-.32zm2.867-.594v4.992h-1.437v-1.328q-.492.797-1.227 1.18-.734.375-1.797.375-1.343 0-2.14-.75-.79-.758-.79-2.024 0-1.476.985-2.226.992-.75 2.953-.75h2.016V8.75q0-.992-.656-1.531-.649-.547-1.829-.547-.75 0-1.46.18-.711.18-1.368.539V6.062q.79-.304 1.532-.453.742-.156 1.445-.156 1.898 0 2.836.984.937.985.937 2.985z\" /></g><g fill=\"#e5e5e5\" stroke=\"#e5e5e5\" transform=\"translate(20, 375) scale(0.75, 0.75)\"><path d=\"M23.328 10.016q-1.742 0-2.414.398-.672.398-.672 1.36 0 .765.5 1.218.508.445 1.375.445 1.196 0 1.914-.843.727-.852.727-2.258v-.32zm2.867-.594v4.992h-1.437v-1.328q-.492.797-1.227 1.18-.734.375-1.797.375-1.343 0-2.14-.75-.79-.758-.79-2.024 0-1.476.985-2.226.992-.75 2.953-.75h2.016V8.75q0-.992-.656-1.531-.649-.547-1.829-.547-.75 0-1.46.18-.711.18-1.368.539V6.062q.79-.304 1.532-.453.742-.156 1.445-.156 1.898 0 2.836.984.937.985.937 2.985z\" /></g><g fill=\"#e5e5e5\" stroke=\"#e5e5e5\" transform=\"translate(65, 0) scale(0.75, 0.75)\"><path d=\"M24.922 10.047q0-1.586-.656-2.485-.649-.906-1.79-.906-1.14 0-1.796.906-.649.899-.649 2.485 0 1.586.649 2.492.656.898 1.797.898 1.14 0 1.789-.898.656-.906.656-2.492zm-4.89-3.055q.452-.781 1.14-1.156.695-.383 1.656-.383 1.594 0 2.586 1.266 1 1.265 1 3.328 0 2.062-1 3.328-.992 1.266-2.586 1.266-.96 0-1.656-.375-.688-.383-1.14-1.164v1.312h-1.446V2.258h1.445z\" /></g><g fill=\"#e5e5e5\" stroke=\"#e5e5e5\" transform=\"translate(65, 375) scale(0.75, 0.75)\"><path d=\"M24.922 10.047q0-1.586-.656-2.485-.649-.906-1.79-.906-1.14 0-1.796.906-.649.899-.649 2.485 0 1.586.649 2.492.656.898 1.797.898 1.14 0 1.789-.898.656-.906.656-2.492zm-4.89-3.055q.452-.781 1.14-1.156.695-.383 1.656-.383 1.594 0 2.586 1.266 1 1.265 1 3.328 0 2.062-1 3.328-.992 1.266-2.586 1.266-.96 0-1.656-.375-.688-.383-1.14-1.164v1.312h-1.446V2.258h1.445z\" /></g><g fill=\"#e5e5e5\" stroke=\"#e5e5e5\" transform=\"translate(110, 0) scale(0.75, 0.75)\"><path d=\"M25.96 6v1.344q-.608-.336-1.226-.5-.609-.172-1.234-.172-1.398 0-2.172.89-.773.883-.773 2.485 0 1.601.773 2.492.774.883 2.172.883.625 0 1.234-.164.618-.172 1.227-.508v1.328q-.602.281-1.25.422-.64.14-1.367.14-1.977 0-3.14-1.242-1.165-1.242-1.165-3.351 0-2.14 1.172-3.367 1.18-1.227 3.227-1.227.664 0 1.296.14.633.134 1.227.407z\" /></g><g fill=\"#e5e5e5\" stroke=\"#e5e5e5\" transform=\"translate(110, 375) scale(0.75, 0.75)\"><path d=\"M25.96 6v1.344q-.608-.336-1.226-.5-.609-.172-1.234-.172-1.398 0-2.172.89-.773.883-.773 2.485 0 1.601.773 2.492.774.883 2.172.883.625 0 1.234-.164.618-.172 1.227-.508v1.328q-.602.281-1.25.422-.64.14-1.367.14-1.977 0-3.14-1.242-1.165-1.242-1.165-3.351 0-2.14 1.172-3.367 1.18-1.227 3.227-1.227.664 0 1.296.14.633.134 1.227.407z\" /></g><g fill=\"#e5e5e5\" stroke=\"#e5e5e5\" transform=\"translate(155, 0) scale(0.75, 0.75)\"><path d=\"M24.973 6.992V2.258h1.437v12.156h-1.437v-1.312q-.453.78-1.149 1.164-.687.375-1.656.375-1.586 0-2.586-1.266-.992-1.266-.992-3.328 0-2.063.992-3.328 1-1.266 2.586-1.266.969 0 1.656.383.696.375 1.149 1.156zm-4.899 3.055q0 1.586.649 2.492.656.898 1.797.898 1.14 0 1.796-.898.657-.906.657-2.492 0-1.586-.657-2.485-.656-.906-1.796-.906-1.141 0-1.797.906-.649.899-.649 2.485z\" /></g><g fill=\"#e5e5e5\" stroke=\"#e5e5e5\" transform=\"translate(155, 375) scale(0.75, 0.75)\"><path d=\"M24.973 6.992V2.258h1.437v12.156h-1.437v-1.312q-.453.78-1.149 1.164-.687.375-1.656.375-1.586 0-2.586-1.266-.992-1.266-.992-3.328 0-2.063.992-3.328 1-1.266 2.586-1.266.969 0 1.656.383.696.375 1.149 1.156zm-4.899 3.055q0 1.586.649 2.492.656.898 1.797.898 1.14 0 1.796-.898.657-.906.657-2.492 0-1.586-.657-2.485-.656-.906-1.796-.906-1.141 0-1.797.906-.649.899-.649 2.485z\" /></g><g fill=\"#e5e5e5\" stroke=\"#e5e5e5\" transform=\"translate(200, 0) scale(0.75, 0.75)\"><path d=\"M26.555 9.68v.703h-6.61q.094 1.484.89 2.265.806.774 2.235.774.828 0 1.602-.203.781-.203 1.547-.61v1.36q-.774.328-1.586.5-.813.172-1.649.172-2.093 0-3.32-1.22-1.219-1.218-1.219-3.296 0-2.148 1.157-3.406 1.164-1.266 3.132-1.266 1.766 0 2.79 1.14 1.03 1.134 1.03 3.087zm-1.438-.422q-.015-1.18-.664-1.883-.64-.703-1.703-.703-1.203 0-1.93.68-.718.68-.828 1.914z\" /></g><g fill=\"#e5e5e5\" stroke=\"#e5e5e5\" transform=\"translate(200, 375) scale(0.75, 0.75)\"><path d=\"M26.555 9.68v.703h-6.61q.094 1.484.89 2.265.806.774 2.235.774.828 0 1.602-.203.781-.203 1.547-.61v1.36q-.774.328-1.586.5-.813.172-1.649.172-2.093 0-3.32-1.22-1.219-1.218-1.219-3.296 0-2.148 1.157-3.406 1.164-1.266 3.132-1.266 1.766 0 2.79 1.14 1.03 1.134 1.03 3.087zm-1.438-.422q-.015-1.18-.664-1.883-.64-.703-1.703-.703-1.203 0-1.93.68-.718.68-.828 1.914z\" /></g><g fill=\"#e5e5e5\" stroke=\"#e5e5e5\" transform=\"translate(245, 0) scale(0.75, 0.75)\"><path d=\"M25.285 2.258v1.195H23.91q-.773 0-1.078.313-.297.312-.297 1.125v.773h2.367v1.117h-2.367v7.633H21.09V6.781h-1.375V5.664h1.375v-.61q0-1.46.68-2.124.68-.672 2.156-.672z\" /></g><g fill=\"#e5e5e5\" stroke=\"#e5e5e5\" transform=\"translate(245, 375) scale(0.75, 0.75)\"><path d=\"M25.285 2.258v1.195H23.91q-.773 0-1.078.313-.297.312-.297 1.125v.773h2.367v1.117h-2.367v7.633H21.09V6.781h-1.375V5.664h1.375v-.61q0-1.46.68-2.124.68-.672 2.156-.672z\" /></g><g fill=\"#e5e5e5\" stroke=\"#e5e5e5\" transform=\"translate(290, 0) scale(0.75, 0.75)\"><path d=\"M24.973 9.937q0-1.562-.649-2.421-.64-.86-1.804-.86-1.157 0-1.805.86-.64.859-.64 2.421 0 1.555.64 2.415.648.859 1.805.859 1.164 0 1.804-.86.649-.859.649-2.414zm1.437 3.391q0 2.234-.992 3.32-.992 1.094-3.04 1.094-.757 0-1.429-.117-.672-.11-1.304-.344v-1.398q.632.344 1.25.508.617.164 1.257.164 1.414 0 2.118-.743.703-.734.703-2.226v-.711q-.446.773-1.141 1.156-.695.383-1.664.383-1.61 0-2.594-1.227-.984-1.226-.984-3.25 0-2.03.984-3.257.985-1.227 2.594-1.227.969 0 1.664.383t1.14 1.156V5.664h1.438z\" /></g><g fill=\"#e5e5e5\" stroke=\"#e5e5e5\" transform=\"translate(290, 375) scale(0.75, 0.75)\"><path d=\"M24.973 9.937q0-1.562-.649-2.421-.64-.86-1.804-.86-1.157 0-1.805.86-.64.859-.64 2.421 0 1.555.64 2.415.648.859 1.805.859 1.164 0 1.804-.86.649-.859.649-2.414zm1.437 3.391q0 2.234-.992 3.32-.992 1.094-3.04 1.094-.757 0-1.429-.117-.672-.11-1.304-.344v-1.398q.632.344 1.25.508.617.164 1.257.164 1.414 0 2.118-.743.703-.734.703-2.226v-.711q-.446.773-1.141 1.156-.695.383-1.664.383-1.61 0-2.594-1.227-.984-1.226-.984-3.25 0-2.03.984-3.257.985-1.227 2.594-1.227.969 0 1.664.383t1.14 1.156V5.664h1.438z\" /></g><g fill=\"#e5e5e5\" stroke=\"#e5e5e5\" transform=\"translate(335, 0) scale(0.75, 0.75)\"><path d=\"M26.164 9.133v5.281h-1.437V9.18q0-1.243-.485-1.86-.484-.617-1.453-.617-1.164 0-1.836.742-.672.742-.672 2.024v4.945h-1.445V2.258h1.445v4.765q.516-.789 1.211-1.18.703-.39 1.617-.39 1.508 0 2.282.938.773.93.773 2.742z\" /></g><g fill=\"#e5e5e5\" stroke=\"#e5e5e5\" transform=\"translate(335, 375) scale(0.75, 0.75)\"><path d=\"M26.164 9.133v5.281h-1.437V9.18q0-1.243-.485-1.86-.484-.617-1.453-.617-1.164 0-1.836.742-.672.742-.672 2.024v4.945h-1.445V2.258h1.445v4.765q.516-.789 1.211-1.18.703-.39 1.617-.39 1.508 0 2.282.938.773.93.773 2.742z\" /></g><g fill=\"#e5e5e5\" stroke=\"#e5e5e5\" transform=\"translate(0, 335) scale(0.75, 0.75)\"><path d=\"M6.754 26.996h2.578v-8.898l-2.805.562v-1.437l2.79-.563h1.578v10.336h2.578v1.328h-6.72z\" /></g><g fill=\"#e5e5e5\" stroke=\"#e5e5e5\" transform=\"translate(375, 335) scale(0.75, 0.75)\"><path d=\"M6.754 26.996h2.578v-8.898l-2.805.562v-1.437l2.79-.563h1.578v10.336h2.578v1.328h-6.72z\" /></g><g fill=\"#e5e5e5\" stroke=\"#e5e5e5\" transform=\"translate(0, 290) scale(0.75, 0.75)\"><path d=\"M8.195 26.996h5.508v1.328H6.297v-1.328q.898-.93 2.445-2.492 1.555-1.57 1.953-2.024.758-.851 1.055-1.437.305-.594.305-1.164 0-.93-.657-1.516-.648-.586-1.695-.586-.742 0-1.57.258-.82.258-1.758.781v-1.593q.953-.383 1.781-.578.828-.196 1.516-.196 1.812 0 2.89.906 1.079.907 1.079 2.422 0 .72-.274 1.368-.265.64-.976 1.515-.196.227-1.243 1.313-1.046 1.078-2.953 3.023z\" /></g><g fill=\"#e5e5e5\" stroke=\"#e5e5e5\" transform=\"translate(375, 290) scale(0.75, 0.75)\"><path d=\"M8.195 26.996h5.508v1.328H6.297v-1.328q.898-.93 2.445-2.492 1.555-1.57 1.953-2.024.758-.851 1.055-1.437.305-.594.305-1.164 0-.93-.657-1.516-.648-.586-1.695-.586-.742 0-1.57.258-.82.258-1.758.781v-1.593q.953-.383 1.781-.578.828-.196 1.516-.196 1.812 0 2.89.906 1.079.907 1.079 2.422 0 .72-.274 1.368-.265.64-.976 1.515-.196.227-1.243 1.313-1.046 1.078-2.953 3.023z\" /></g><g fill=\"#e5e5e5\" stroke=\"#e5e5e5\" transform=\"translate(0, 245) scale(0.75, 0.75)\"><path d=\"M11.434 22.035q1.132.242 1.765 1.008.64.766.64 1.89 0 1.727-1.187 2.672-1.187.946-3.375.946-.734 0-1.515-.149-.774-.14-1.602-.43V26.45q.656.383 1.438.578.78.196 1.632.196 1.485 0 2.258-.586.782-.586.782-1.703 0-1.032-.727-1.61-.719-.586-2.008-.586h-1.36v-1.297h1.423q1.164 0 1.78-.46.618-.47.618-1.344 0-.899-.64-1.375-.633-.485-1.82-.485-.65 0-1.391.141-.743.14-1.633.437V16.95q.898-.25 1.68-.375.788-.125 1.484-.125 1.797 0 2.844.82 1.046.813 1.046 2.204 0 .968-.554 1.64-.555.664-1.578.922z\" /></g><g fill=\"#e5e5e5\" stroke=\"#e5e5e5\" transform=\"translate(375, 245) scale(0.75, 0.75)\"><path d=\"M11.434 22.035q1.132.242 1.765 1.008.64.766.64 1.89 0 1.727-1.187 2.672-1.187.946-3.375.946-.734 0-1.515-.149-.774-.14-1.602-.43V26.45q.656.383 1.438.578.78.196 1.632.196 1.485 0 2.258-.586.782-.586.782-1.703 0-1.032-.727-1.61-.719-.586-2.008-.586h-1.36v-1.297h1.423q1.164 0 1.78-.46.618-.47.618-1.344 0-.899-.64-1.375-.633-.485-1.82-.485-.65 0-1.391.141-.743.14-1.633.437V16.95q.898-.25 1.68-.375.788-.125 1.484-.125 1.797 0 2.844.82 1.046.813 1.046 2.204 0 .968-.554 1.64-.555.664-1.578.922z\" /></g><g fill=\"#e5e5e5\" stroke=\"#e5e5e5\" transform=\"translate(0, 200) scale(0.75, 0.75)\"><path d=\"M11.016 18.035L7.03 24.262h3.985zm-.414-1.375h1.984v7.602h1.664v1.312h-1.664v2.75h-1.57v-2.75H5.75v-1.523z\" /></g><g fill=\"#e5e5e5\" stroke=\"#e5e5e5\" transform=\"translate(375, 200) scale(0.75, 0.75)\"><path d=\"M11.016 18.035L7.03 24.262h3.985zm-.414-1.375h1.984v7.602h1.664v1.312h-1.664v2.75h-1.57v-2.75H5.75v-1.523z\" /></g><g fill=\"#e5e5e5\" stroke=\"#e5e5e5\" transform=\"translate(0, 155) scale(0.75, 0.75)\"><path d=\"M6.719 16.66h6.195v1.328h-4.75v2.86q.344-.118.688-.172.343-.063.687-.063 1.953 0 3.094 1.07 1.14 1.07 1.14 2.899 0 1.883-1.171 2.93-1.172 1.039-3.305 1.039-.735 0-1.5-.125-.758-.125-1.57-.375v-1.586q.703.383 1.453.57.75.188 1.586.188 1.351 0 2.14-.711.79-.711.79-1.93 0-1.219-.79-1.93-.789-.71-2.14-.71-.633 0-1.266.14-.625.14-1.281.438z\" /></g><g fill=\"#e5e5e5\" stroke=\"#e5e5e5\" transform=\"translate(375, 155) scale(0.75, 0.75)\"><path d=\"M6.719 16.66h6.195v1.328h-4.75v2.86q.344-.118.688-.172.343-.063.687-.063 1.953 0 3.094 1.07 1.14 1.07 1.14 2.899 0 1.883-1.171 2.93-1.172 1.039-3.305 1.039-.735 0-1.5-.125-.758-.125-1.57-.375v-1.586q.703.383 1.453.57.75.188 1.586.188 1.351 0 2.14-.711.79-.711.79-1.93 0-1.219-.79-1.93-.789-.71-2.14-.71-.633 0-1.266.14-.625.14-1.281.438z\" /></g><g fill=\"#e5e5e5\" stroke=\"#e5e5e5\" transform=\"translate(0, 110) scale(0.75, 0.75)\"><path d=\"M10.137 21.863q-1.063 0-1.688.727-.617.726-.617 1.992 0 1.258.617 1.992.625.727 1.688.727 1.062 0 1.68-.727.624-.734.624-1.992 0-1.266-.625-1.992-.617-.727-1.68-.727zm3.133-4.945v1.437q-.594-.28-1.204-.43-.601-.148-1.195-.148-1.562 0-2.39 1.055-.82 1.055-.938 3.188.46-.68 1.156-1.04.696-.367 1.531-.367 1.758 0 2.774 1.07 1.023 1.063 1.023 2.899 0 1.797-1.062 2.883-1.063 1.086-2.828 1.086-2.024 0-3.094-1.547-1.07-1.555-1.07-4.5 0-2.766 1.312-4.406 1.313-1.649 3.524-1.649.593 0 1.195.117.61.118 1.266.352z\" /></g><g fill=\"#e5e5e5\" stroke=\"#e5e5e5\" transform=\"translate(375, 110) scale(0.75, 0.75)\"><path d=\"M10.137 21.863q-1.063 0-1.688.727-.617.726-.617 1.992 0 1.258.617 1.992.625.727 1.688.727 1.062 0 1.68-.727.624-.734.624-1.992 0-1.266-.625-1.992-.617-.727-1.68-.727zm3.133-4.945v1.437q-.594-.28-1.204-.43-.601-.148-1.195-.148-1.562 0-2.39 1.055-.82 1.055-.938 3.188.46-.68 1.156-1.04.696-.367 1.531-.367 1.758 0 2.774 1.07 1.023 1.063 1.023 2.899 0 1.797-1.062 2.883-1.063 1.086-2.828 1.086-2.024 0-3.094-1.547-1.07-1.555-1.07-4.5 0-2.766 1.312-4.406 1.313-1.649 3.524-1.649.593 0 1.195.117.61.118 1.266.352z\" /></g><g fill=\"#e5e5e5\" stroke=\"#e5e5e5\" transform=\"translate(0, 65) scale(0.75, 0.75)\"><path d=\"M6.25 16.66h7.5v.672L9.516 28.324H7.867l3.985-10.336H6.25z\" /></g><g fill=\"#e5e5e5\" stroke=\"#e5e5e5\" transform=\"translate(375, 65) scale(0.75, 0.75)\"><path d=\"M6.25 16.66h7.5v.672L9.516 28.324H7.867l3.985-10.336H6.25z\" /></g><g fill=\"#e5e5e5\" stroke=\"#e5e5e5\" transform=\"translate(0, 20) scale(0.75, 0.75)\"><path d=\"M10 22.785q-1.125 0-1.773.602-.641.601-.641 1.656t.64 1.656q.649.602 1.774.602t1.773-.602q.649-.61.649-1.656 0-1.055-.649-1.656-.64-.602-1.773-.602zm-1.578-.672q-1.016-.25-1.586-.945-.563-.695-.563-1.695 0-1.399.993-2.211 1-.813 2.734-.813 1.742 0 2.734.813.993.812.993 2.21 0 1-.57 1.696-.563.695-1.571.945 1.14.266 1.773 1.04.641.773.641 1.89 0 1.695-1.04 2.602-1.03.906-2.96.906t-2.969-.906Q6 26.738 6 25.043q0-1.117.64-1.89.641-.774 1.782-1.04zm-.578-2.492q0 .906.562 1.414.57.508 1.594.508 1.016 0 1.586-.508.578-.508.578-1.414 0-.906-.578-1.414-.57-.508-1.586-.508-1.023 0-1.594.508-.562.508-.562 1.414z\" /></g><g fill=\"#e5e5e5\" stroke=\"#e5e5e5\" transform=\"translate(375, 20) scale(0.75, 0.75)\"><path d=\"M10 22.785q-1.125 0-1.773.602-.641.601-.641 1.656t.64 1.656q.649.602 1.774.602t1.773-.602q.649-.61.649-1.656 0-1.055-.649-1.656-.64-.602-1.773-.602zm-1.578-.672q-1.016-.25-1.586-.945-.563-.695-.563-1.695 0-1.399.993-2.211 1-.813 2.734-.813 1.742 0 2.734.813.993.812.993 2.21 0 1-.57 1.696-.563.695-1.571.945 1.14.266 1.773 1.04.641.773.641 1.89 0 1.695-1.04 2.602-1.03.906-2.96.906t-2.969-.906Q6 26.738 6 25.043q0-1.117.64-1.89.641-.774 1.782-1.04zm-.578-2.492q0 .906.562 1.414.57.508 1.594.508 1.016 0 1.586-.508.578-.508.578-1.414 0-.906-.578-1.414-.57-.508-1.586-.508-1.023 0-1.594.508-.562.508-.562 1.414z\" /></g></svg>"
      ],
      "text/plain": [
       "Board('rnbqkbnr/pppppppp/8/8/8/8/PPPPPPPP/RNBQKBNR w KQkq - 0 1')"
      ]
     },
     "execution_count": 4,
     "metadata": {},
     "output_type": "execute_result"
    }
   ],
   "source": [
    "class Chess_Environment(gym.Env):\n",
    "    \"\"\"Chess Environment\"\"\"\n",
    "    def __init__(self):\n",
    "        self.board = chess.Board()\n",
    "        self.white_pieces = ['P', 'N', 'B', 'R', 'Q', 'K']\n",
    "        self.black_pieces = [piece.lower() for piece in self.white_pieces]\n",
    "        self.x_coords, self.y_coords = np.meshgrid(list(range(0, 8)), list(range(0, 8)))\n",
    "        self.x_coords = self.x_coords / 7\n",
    "        self.y_coords = self.y_coords / 7\n",
    "        self.state_size = self.observe()[0].shape\n",
    "        self.init_action_decoder()\n",
    "        self.whites_turn = True\n",
    "\n",
    "    def reset(self):\n",
    "        \"\"\"Resets the environment\"\"\"\n",
    "        self.board = chess.Board()\n",
    "        \n",
    "    def terminal_test(self):\n",
    "        \"\"\"Checks if the game is over\"\"\"\n",
    "        return self.board.is_game_over(claim_draw = True)\n",
    "    \n",
    "    def result(self):\n",
    "        \"\"\"Gives the end game result\"\"\"\n",
    "\n",
    "        result = self.board.result(claim_draw = True)\n",
    "        if result == '1-0':\n",
    "            return 1\n",
    "        elif result == '0-1':\n",
    "            return -1\n",
    "        elif result == '1/2-1/2':\n",
    "            return 0\n",
    "        elif result == '*':\n",
    "            return 0\n",
    "        else:\n",
    "            raise Exception('Invalid Result', result)\n",
    "        \n",
    "    def legal_actions(self):\n",
    "        \"\"\"Provides a list of legal actions in current state\"\"\"\n",
    "        legal_actions = [str(legal_action) for legal_action in list(self.board.legal_moves)]\n",
    "        return legal_actions\n",
    "    \n",
    "    def encode(self):\n",
    "        \"\"\"Encodes game state into a string\"\"\"\n",
    "        board_ = self.board.piece_map()\n",
    "            \n",
    "        encoded = {\n",
    "            'board' : board_,\n",
    "            'turn' : self.board.turn,\n",
    "            'legal_actions' : self.legal_actions()\n",
    "        }\n",
    "        \n",
    "        return pickle.dumps(encoded)\n",
    "    \n",
    "    def decode(self, encoded):\n",
    "        \"\"\"Decodes string into game state and sets board and turn\"\"\"\n",
    "        decoded = pickle.loads(encoded)\n",
    "        self.board.set_piece_map(decoded['board'])\n",
    "        if decoded['turn'] == False:\n",
    "            self.board = self.board.mirror()\n",
    "        self.board.turn = decoded['turn']\n",
    "\n",
    "    def observe(self):\n",
    "        \"\"\"Create observation from the game state\"\"\"\n",
    "\n",
    "        board_ = copy(self.board)\n",
    "            \n",
    "        board_ = np.ndarray.flatten(np.array(board_.__str__().split())).reshape(8, 8)\n",
    "        \n",
    "        black_pawns = np.isin(copy(board_), ['p']).astype(int)\n",
    "        black_knights = np.isin(copy(board_), ['n']).astype(int)\n",
    "        black_rooks = np.isin(copy(board_), ['r']).astype(int)\n",
    "        black_bishops = np.isin(copy(board_), ['b']).astype(int)\n",
    "        black_queen = np.isin(copy(board_), ['q']).astype(int)\n",
    "        black_king = np.isin(copy(board_), ['k']).astype(int)\n",
    "         \n",
    "        white_pawns = np.isin(copy(board_), ['P']).astype(int)\n",
    "        white_knights = np.isin(copy(board_), ['N']).astype(int)\n",
    "        white_rooks = np.isin(copy(board_), ['R']).astype(int)\n",
    "        white_bishops = np.isin(copy(board_), ['B']).astype(int)\n",
    "        white_queen = np.isin(copy(board_), ['Q']).astype(int)\n",
    "        white_king = np.isin(copy(board_), ['K']).astype(int)\n",
    "        \n",
    "        state = np.array([\n",
    "            white_pawns,\n",
    "            white_knights,\n",
    "            white_rooks,\n",
    "            white_bishops,\n",
    "            white_queen,\n",
    "            white_king,\n",
    "            black_pawns,\n",
    "            black_knights,\n",
    "            black_rooks,\n",
    "            black_bishops,\n",
    "            black_queen,\n",
    "            black_king\n",
    "        ])\n",
    "        \n",
    "        return state, self.legal_actions()\n",
    "    \n",
    "    def step(self, action):\n",
    "        \"\"\"Perform a step in the environment\"\"\"\n",
    "        try:\n",
    "            self.board.push_uci(action)\n",
    "        except ValueError:\n",
    "#             print(f\"INVALID ACTION {action}.\\nSELECTING A RANDOM ACTION FROM LEGAL ACTIONS\\n{self.legal_actions()}\")\n",
    "            actions = random.choices(self.legal_actions())\n",
    "            self.board.push_uci(actions[0])\n",
    "            \n",
    "        self.board = self.board.mirror()\n",
    "        if self.whites_turn:\n",
    "            self.whites_turn = False\n",
    "        else:\n",
    "            self.whites_turn = True\n",
    "        return self.observe()\n",
    "    \n",
    "    def move_board(self, move):\n",
    "        \"\"\"Moves the board positions as per the move\"\"\"\n",
    "\n",
    "        char_to_int = {'A': 1, 'B': 2, 'C': 3, 'D': 4, 'E': 5, 'F': 6, 'G': 7, 'H': 8} \n",
    "\n",
    "        int_to_char = {v: k for k, v in char_to_int.items()}\n",
    "\n",
    "        encoded_board = [(char_to_int[pos[0]], int(pos[1])) for pos in np.ndarray.flatten(BOARD)]\n",
    "\n",
    "        new_board = [tuple(map(sum, zip((char_to_int[pos[0]], int(pos[1])), move))) for pos in np.ndarray.flatten(BOARD)]\n",
    "        moves = []\n",
    "        for pos, new_pos in zip(np.ndarray.flatten(BOARD), new_board):\n",
    "            try:\n",
    "                if new_pos[1] > 8:\n",
    "                    raise Exception()\n",
    "                if move[2] is None:\n",
    "                    move_ = f'{pos}{int_to_char[new_pos[0]]}{new_pos[1]}'\n",
    "                else:\n",
    "                    move_ = f'{pos}{int_to_char[new_pos[0]]}{new_pos[1]}{move[2]}'\n",
    "            \n",
    "                if '-' in move_:\n",
    "                    raise Exception()\n",
    "            \n",
    "                if '0' in move_:\n",
    "                    raise Exception()\n",
    "                \n",
    "            except Exception:\n",
    "                move_ = 'XXXX'\n",
    "            moves.append(move_)   \n",
    "        return np.array(moves).reshape(8, 8)\n",
    "    \n",
    "    def init_action_decoder(self):\n",
    "        \"\"\"Initialize the decoder to decode the actions\"\"\"\n",
    "        decoder = []\n",
    "        for key in MOVES.keys():\n",
    "            decoder_ = self.move_board(MOVES[key])\n",
    "            decoder.append(decoder_)\n",
    "#             print(f'Move {key}\\n', new_board, '\\n')\n",
    "    \n",
    "        self.decoder = np.array(decoder)\n",
    "        self.action_size = self.decoder.shape\n",
    "        \n",
    "    def select_action(self, logits):\n",
    "        \"\"\"Decodes the output from the NN to legal actions\"\"\" \n",
    "        decoder_ = np.ndarray.flatten(self.decoder)\n",
    "        logits_ = np.ndarray.flatten(logits)\n",
    "\n",
    "        move_logits = [(decoder_[idx].lower(), logits_[idx]) for idx in range(len(logits_))]\n",
    "        move_logits = dict(move_logits)\n",
    "        \n",
    "        legal_move_logits = {legal_action: move_logits[legal_action] for legal_action in self.legal_actions()}\n",
    "        probabilities = list(legal_move_logits.values()) / sum(list(legal_move_logits.values()))\n",
    "\n",
    "        action = random.choices(list(legal_move_logits.keys()), weights = probabilities, k = 1)[0]\n",
    "        return action\n",
    "    \n",
    "    def render(self):\n",
    "        \"\"\"Render chess board\"\"\"\n",
    "        chess.svg.board(board = self.board)  \n",
    "\n",
    "env = Chess_Environment()\n",
    "env.board"
   ]
  },
  {
   "cell_type": "code",
   "execution_count": 5,
   "metadata": {},
   "outputs": [],
   "source": [
    "class EpisodicReplayBuffer:\n",
    "    \"\"\"\n",
    "    Holds the agents episodes in memory\n",
    "    \"\"\"\n",
    "    def __init__(self, params):\n",
    "        self.capacity = params['capacity']\n",
    "        self.memory = deque(maxlen = self.capacity)\n",
    "        self.gamma = params['gamma']\n",
    "\n",
    "    def add(self, episodes):\n",
    "        \"\"\"\n",
    "        Stores the episodes in the replay buffer\n",
    "        \"\"\"\n",
    "        for episode in episodes:\n",
    "            if episode is not None:\n",
    "                self.memory.append(episode)\n",
    "\n",
    "    def sample(self, sample_size):\n",
    "        \"\"\"\n",
    "        Return a sample of size of batch size as an experience tuple.\n",
    "        \"\"\"\n",
    "        if len(self.memory) == 0:\n",
    "            return None\n",
    "        if len(self.memory) >= sample_size:\n",
    "            batch = random.sample(self.memory, k = sample_size)\n",
    "        else:\n",
    "            batch = random.sample(self.memory, k = len(self.memory))\n",
    "#         state, actions, returns_, dones = zip(*batch)\n",
    "\n",
    "#         # Stacks the experiences \n",
    "#         # Get inputs into correct shape\n",
    "#         states = torch.tensor(state).float().to(self.device)\n",
    "# #         actions = torch.stack(actions).to(self.device)\n",
    "#         returns_ = torch.tensor(returns_).float().to(self.device)\n",
    "#         dones = torch.tensor(dones).float().to(self.device)\n",
    "       \n",
    "        # print(\"SAMPLE | STATES\", states.shape, \"ACTIONS\", actions.shape, \"P VECTORS\", portfolio_vectors.shape,\"NEXT STATES\", next_states.shape, \"REWARDS\", rewards.shape, \"DONES\", dones.shape)\n",
    "        \n",
    "        return batch\n",
    "\n",
    "    def reset_memory(self):\n",
    "        \"\"\"Resets the replay buffer\"\"\"\n",
    "        self.memory = deque(maxlen = self.capacity)\n"
   ]
  },
  {
   "cell_type": "code",
   "execution_count": null,
   "metadata": {},
   "outputs": [],
   "source": []
  },
  {
   "cell_type": "code",
   "execution_count": 6,
   "metadata": {
    "tags": []
   },
   "outputs": [
    {
     "name": "stdout",
     "output_type": "stream",
     "text": [
      "\n",
      "AI Running on cpu\n",
      "\n",
      "CNN_AE(\n",
      "  (encoder): Sequential(\n",
      "    (0): Conv(\n",
      "      (conv): Conv2d(12, 32, kernel_size=(1, 1), stride=(1, 1), bias=False)\n",
      "      (bn): BatchNorm2d(32, eps=0.001, momentum=0.1, affine=True, track_running_stats=True)\n",
      "      (activation): ReLU()\n",
      "    )\n",
      "    (1): Conv(\n",
      "      (conv): Conv2d(32, 64, kernel_size=(3, 3), stride=(1, 1), bias=False)\n",
      "      (bn): BatchNorm2d(64, eps=0.001, momentum=0.1, affine=True, track_running_stats=True)\n",
      "      (activation): ReLU()\n",
      "    )\n",
      "    (2): Conv(\n",
      "      (conv): Conv2d(64, 128, kernel_size=(3, 3), stride=(1, 1), bias=False)\n",
      "      (bn): BatchNorm2d(128, eps=0.001, momentum=0.1, affine=True, track_running_stats=True)\n",
      "      (activation): ReLU()\n",
      "    )\n",
      "    (3): Conv(\n",
      "      (conv): Conv2d(128, 256, kernel_size=(3, 3), stride=(1, 1), bias=False)\n",
      "      (bn): BatchNorm2d(256, eps=0.001, momentum=0.1, affine=True, track_running_stats=True)\n",
      "      (activation): ReLU()\n",
      "    )\n",
      "    (4): Conv(\n",
      "      (conv): Conv2d(256, 512, kernel_size=(2, 2), stride=(1, 1), bias=False)\n",
      "      (bn): BatchNorm2d(512, eps=0.001, momentum=0.1, affine=True, track_running_stats=True)\n",
      "      (activation): ReLU()\n",
      "    )\n",
      "  )\n",
      "  (enc_linear): Linear(in_features=512, out_features=300, bias=True)\n",
      "  (dec_linear): Linear(in_features=300, out_features=512, bias=True)\n",
      "  (decoder): Sequential(\n",
      "    (0): Conv(\n",
      "      (conv): ConvTranspose2d(512, 256, kernel_size=(2, 2), stride=(1, 1), bias=False)\n",
      "      (bn): BatchNorm2d(256, eps=0.001, momentum=0.1, affine=True, track_running_stats=True)\n",
      "      (activation): ReLU()\n",
      "    )\n",
      "    (1): Conv(\n",
      "      (conv): ConvTranspose2d(256, 128, kernel_size=(3, 3), stride=(1, 1), bias=False)\n",
      "      (bn): BatchNorm2d(128, eps=0.001, momentum=0.1, affine=True, track_running_stats=True)\n",
      "      (activation): ReLU()\n",
      "    )\n",
      "    (2): Conv(\n",
      "      (conv): ConvTranspose2d(128, 64, kernel_size=(3, 3), stride=(1, 1), bias=False)\n",
      "      (bn): BatchNorm2d(64, eps=0.001, momentum=0.1, affine=True, track_running_stats=True)\n",
      "      (activation): ReLU()\n",
      "    )\n",
      "    (3): Conv(\n",
      "      (conv): ConvTranspose2d(64, 32, kernel_size=(3, 3), stride=(1, 1), bias=False)\n",
      "      (bn): BatchNorm2d(32, eps=0.001, momentum=0.1, affine=True, track_running_stats=True)\n",
      "      (activation): ReLU()\n",
      "    )\n",
      "    (4): Conv(\n",
      "      (conv): ConvTranspose2d(32, 12, kernel_size=(1, 1), stride=(1, 1), bias=False)\n",
      "      (activation): Sigmoid()\n",
      "    )\n",
      "  )\n",
      ") \n",
      "\n",
      "\n",
      "\n",
      "AI Running on cpu\n",
      "\n",
      "MDN_RNN(\n",
      "  (lstm): LSTM(338, 150, batch_first=True)\n",
      "  (fc1): Linear(in_features=150, out_features=900, bias=True)\n",
      "  (fc2): Linear(in_features=150, out_features=900, bias=True)\n",
      "  (fc3): Linear(in_features=150, out_features=900, bias=True)\n",
      ") \n",
      "\n",
      "\n",
      "\n",
      "AI Running on cpu\n",
      "\n",
      "Policy_Controller(\n",
      "  (fc1): Sequential(\n",
      "    (0): Linear(in_features=450, out_features=1200, bias=True)\n",
      "    (1): ReLU()\n",
      "  )\n",
      "  (decoder): Sequential(\n",
      "    (0): Conv(\n",
      "      (conv): ConvTranspose2d(1200, 256, kernel_size=(3, 3), stride=(1, 1), bias=False)\n",
      "      (bn): BatchNorm2d(256, eps=0.001, momentum=0.1, affine=True, track_running_stats=True)\n",
      "      (activation): ReLU()\n",
      "    )\n",
      "    (1): Conv(\n",
      "      (conv): ConvTranspose2d(256, 128, kernel_size=(3, 3), stride=(1, 1), bias=False)\n",
      "      (bn): BatchNorm2d(128, eps=0.001, momentum=0.1, affine=True, track_running_stats=True)\n",
      "      (activation): ReLU()\n",
      "    )\n",
      "    (2): Conv(\n",
      "      (conv): ConvTranspose2d(128, 64, kernel_size=(3, 3), stride=(1, 1), bias=False)\n",
      "      (bn): BatchNorm2d(64, eps=0.001, momentum=0.1, affine=True, track_running_stats=True)\n",
      "      (activation): ReLU()\n",
      "    )\n",
      "    (3): Conv(\n",
      "      (conv): ConvTranspose2d(64, 76, kernel_size=(2, 2), stride=(1, 1), bias=False)\n",
      "      (bn): BatchNorm2d(76, eps=0.001, momentum=0.1, affine=True, track_running_stats=True)\n",
      "      (activation): ReLU()\n",
      "    )\n",
      "  )\n",
      ") \n",
      "\n",
      "\n",
      "\n",
      "AI Running on cpu\n",
      "\n",
      "Value_Controller(\n",
      "  (fc1): Sequential(\n",
      "    (0): Linear(in_features=450, out_features=100, bias=True)\n",
      "    (1): ReLU()\n",
      "  )\n",
      "  (fc2): Sequential(\n",
      "    (0): Linear(in_features=100, out_features=20, bias=True)\n",
      "    (1): ReLU()\n",
      "  )\n",
      "  (fc3): Linear(in_features=20, out_features=1, bias=True)\n",
      ") \n",
      "\n",
      "\n"
     ]
    }
   ],
   "source": [
    "class Agent:\n",
    "    \n",
    "    def __init__(self, decoder, action_size, vae, mdn, controller, test_mode = False, batch_size = 128, lr = 1e-4, legal_multiplier = 3, save_freq = 8, train_times = 4, lambda_ = 0.9, gamma = 0.98):\n",
    "        self.batch_size = batch_size\n",
    "        self.action_size = action_size\n",
    "        self.trained_times = 0\n",
    "        self.train_times = train_times\n",
    "        self.lambda_ = lambda_\n",
    "        self.gamma = gamma\n",
    "        self.legal_multiplier = legal_multiplier # To increase the value of legal actions and MCTS insight as the target policy\n",
    "        self.decoder = decoder\n",
    "        self.save_freq = save_freq\n",
    "        if vae is not None:\n",
    "            self.vae = CNN_AE(vae, None, 'Latest')\n",
    "            self.vae.eval()\n",
    "        if mdn is not None:\n",
    "            self.mdn = MDN_RNN(mdn, None, 'Latest')\n",
    "            self.mdn.eval()\n",
    "            params = {\n",
    "                'hidden_size' : self.mdn.hidden_size,\n",
    "                'z_size' : self.vae.z_size,\n",
    "                'action_size' : action_size,\n",
    "                'expansion_size': 1200\n",
    "            }\n",
    "\n",
    "            if test_mode:\n",
    "                self.actor = Policy_Controller(controller, None, 'Latest')\n",
    "                self.critic = Value_Controller(controller, None, 'Latest')\n",
    "            else:\n",
    "                self.actor = Policy_Controller(controller, params, False)\n",
    "                self.critic = Value_Controller(controller, params, False)\n",
    "                self.actor.save_model(0)\n",
    "                self.critic.save_model(0)\n",
    "        \n",
    "            self.actor_optimizer = Adam(self.actor.parameters(), lr = lr)\n",
    "            self.critic_optimizer = Adam(self.critic.parameters(), lr = lr)\n",
    "        \n",
    "        self.char_to_int = {'a': 1, 'b': 2, 'c': 3, 'd': 4, 'e': 5, 'f': 6, 'g': 7, 'h': 8} \n",
    "        self.char_to_int_promo = {'r': 1, 'b': 2, 'q': 3, 'k': 4, 'n': 5, '': 6} \n",
    "        \n",
    "        moves_df = pd.DataFrame(list(zip(self.char_to_int.values(), self.char_to_int.keys())), columns = ['Ids', 'Labels'])\n",
    "        promo_df = pd.DataFrame(list(zip(self.char_to_int_promo.values(), self.char_to_int_promo.keys())), columns = ['Ids', 'Labels'])\n",
    "        self.move_actions_ohe = pd.get_dummies(moves_df['Ids'])\n",
    "        self.promo_actions_ohe = pd.get_dummies(promo_df['Ids'])\n",
    "        \n",
    "        self.criterion_pi = nn.NLLLoss()\n",
    "        self.criterion_v = nn.SmoothL1Loss()\n",
    "    \n",
    "    def select_action(self, logits, legal_actions):\n",
    "        \"\"\"Decodes the output from the NN to legal actions\"\"\" \n",
    "        decoder_ = np.ndarray.flatten(self.decoder)\n",
    "        logits_ = np.ndarray.flatten(logits)\n",
    "\n",
    "        move_logits = [(decoder_[idx].lower(), logits_[idx]) for idx in range(len(logits_))]\n",
    "        move_logits = dict(move_logits)\n",
    "        \n",
    "        legal_move_logits = {legal_action: move_logits[legal_action] for legal_action in legal_actions}\n",
    "        probabilities = list(legal_move_logits.values()) / sum(list(legal_move_logits.values()))\n",
    "        \n",
    "        legal_actions = list(legal_move_logits.keys())\n",
    "        action = random.choices(list(legal_move_logits.keys()), weights = probabilities, k = 1)[0]\n",
    "        \n",
    "        action_probabilities = {legal_actions[idx] : probabilities[idx] for idx in range(len(legal_actions))}\n",
    "        return action, action_probabilities\n",
    "    \n",
    "    def one_hot_encode_action(self, action):\n",
    "        \"\"\"One hot encodes the action\"\"\"\n",
    "        if len(action) == 4:\n",
    "            encoded_action = [\n",
    "                self.move_actions_ohe.loc[\n",
    "                self.char_to_int[action[0]] - 1].values, \n",
    "                self.move_actions_ohe.loc[int(action[1]) - 1].values, \n",
    "                self.move_actions_ohe.loc[self.char_to_int[action[2]] - 1].values, \n",
    "                self.move_actions_ohe.loc[int(action[3]) - 1].values,\n",
    "                self.promo_actions_ohe.loc[self.char_to_int_promo[''] - 1].values\n",
    "            ]\n",
    "        else:\n",
    "            encoded_action = [\n",
    "                self.move_actions_ohe.loc[\n",
    "                self.char_to_int[action[0]] - 1].values, \n",
    "                self.move_actions_ohe.loc[int(action[1]) - 1].values, \n",
    "                self.move_actions_ohe.loc[self.char_to_int[action[2]] - 1].values, \n",
    "                self.move_actions_ohe.loc[int(action[3]) - 1].values,\n",
    "                self.promo_actions_ohe.loc[self.char_to_int_promo[action[4]] - 1].values\n",
    "            ]\n",
    "        ohe_action = np.concatenate(encoded_action)\n",
    "        return ohe_action\n",
    "    \n",
    "    def reset(self, batch_size):\n",
    "        \"\"\"Resets the MDNs hidden state\"\"\"\n",
    "        self.hidden = self.mdn.init_hidden(batch_size)\n",
    "        self.hidden = (self.hidden[0].detach().to('cpu'), self.hidden[1].detach().to('cpu'))\n",
    "        \n",
    "    def act(self, state, legal_actions):\n",
    "        \"\"\"Gets an action from the agent\"\"\"\n",
    "        state = torch.tensor(state).float().unsqueeze(0)\n",
    "        z = self.vae.encode(state)\n",
    "    \n",
    "        zh = torch.cat((z.to('cpu'), self.hidden[0].squeeze(0).to('cpu')), dim = 1)\n",
    "        if zh.shape[0] > 1:\n",
    "            raise Exception('Batch size > 1 not handled')\n",
    "            \n",
    "        logits = self.actor(zh)\n",
    "        values = self.critic(zh)\n",
    "        logits, value = logits.detach().squeeze(0).cpu().numpy(), values.detach().squeeze(0).cpu().numpy()[0]\n",
    "        action, action_probabilities = self.select_action(logits, legal_actions)\n",
    "        \n",
    "        return action_probabilities, value, z\n",
    "    \n",
    "    def encode_z(self, state):\n",
    "        \"\"\"Encodes the state using the autoencoder\"\"\"\n",
    "        state = torch.tensor(state).float().unsqueeze(0)\n",
    "        return self.vae.encode(state)\n",
    "    \n",
    "    def train(self, episodes):\n",
    "        \"\"\"Trains the controller from the MCTS experiences\"\"\"\n",
    "        all_zh = []\n",
    "        all_returns = []\n",
    "        all_mcts_action_probs = []\n",
    "#         batches = [experiences[i : i + self.batch_size] for i in range(0, len(experiences), self.batch_size)]\n",
    "        for idx, episode in enumerate(episodes):\n",
    "            zh, mcts_action_probs, rewards, masks = zip(*episode)\n",
    "            \n",
    "            zh_ = torch.tensor(zh).float().unsqueeze(1)\n",
    "            values = self.critic(zh_.to(self.critic.device))\n",
    "            \n",
    "            # Calculate GAE\n",
    "            returns = []\n",
    "            values_ = list(values.view(-1).detach().cpu().numpy())\n",
    "            gae = 0\n",
    "\n",
    "            for i in reversed(range(len(rewards))):\n",
    "                if i == len(rewards) - 1:\n",
    "                    delta = rewards[i] - values[i]\n",
    "                else:\n",
    "                    delta = rewards[i] + self.gamma * values[i + 1] * masks[i] - values[i]\n",
    "                gae = delta + self.gamma * self.lambda_ * masks[i] * gae\n",
    "                returns.insert(0, gae + values[i])\n",
    "            all_returns.extend(returns)\n",
    "            all_zh.extend(list(zh))\n",
    "            all_mcts_action_probs.extend([x for x in mcts_action_probs])\n",
    "            \n",
    "#         all_returns = [item for sublist in all_returns for item in sublist]\n",
    "#         all_zh = [item for sublist in all_zh for item in sublist]\n",
    "#         all_mcts_action_probs = [item for sublist in all_mcts_action_probs for item in sublist]\n",
    "        \n",
    "        # Trains on random experiences to decoralate the information\n",
    "        idxs = random.choices(range(len(all_zh)), k = self.batch_size)\n",
    "        mcts_action_probs = [all_mcts_action_probs[idx] for idx in idxs]\n",
    "        returns = torch.stack([torch.tensor(all_returns[idx]).float() for idx in idxs]).to(self.critic.device)\n",
    "        actor_zh = torch.stack([torch.tensor(all_zh[idx]).float() for idx in idxs]).to(self.actor.device)\n",
    "        critic_zh = actor_zh.clone().to(self.critic.device)\n",
    "        \n",
    "        logits = self.actor(actor_zh)\n",
    "        values = self.critic(critic_zh)\n",
    "                              \n",
    "        self.actor_optimizer.zero_grad()\n",
    "        self.critic_optimizer.zero_grad()\n",
    "#             print(zh.is_cuda, type(zh))\n",
    "        improvement_estimate = self.improvement_estimate(logits, mcts_action_probs)\n",
    "        epsilon = 1e-7\n",
    "#             print(logits.shape, torch.log(logits + epsilon))\n",
    "#             print(improvement_estimate.shape, improvement_estimate)\n",
    "            \n",
    "        actor_losses = -improvement_estimate * torch.log(logits + epsilon)\n",
    "        critic_losses = (returns.view(-1) - values.view(-1)).pow(2)\n",
    "            \n",
    "#             print(actor_losses)\n",
    "#             print(\"IMP EST\", improvement_estimate.shape, \"LOGITS\", logits.shape, \"ACTOR LOSS\", actor_losses.shape)\n",
    "#             print(\"RETURNS\", returns.view(-1).shape, \"VALUES\", values.view(-1).shape, \"CRITIC LOSS\", critic_losses.shape)\n",
    "\n",
    "            \n",
    "#             for idx in range(logits.shape[0]):\n",
    "#                 advantage = returns[idx] - values[idx]\n",
    "#                 # converts logits to action probabilities\n",
    "# #                 print(values[idx].squeeze(0).shape, returns[idx].shape)\n",
    "# #                 print(values[idx].squeeze(0), returns[idx])\n",
    "#                 policy_losses.append(-F.softmax(logits[idx], dim = 0) * advantage)\n",
    "#                 value_losses.append(F.smooth_l1_loss(values[idx].squeeze(0), returns[idx]))\n",
    "            \n",
    "            # sum up all the values of policy_losses and value_losses\n",
    "        actor_loss = actor_losses.sum()\n",
    "#             critic_loss = critic_losses.sum()\n",
    "        critic_loss = critic_losses.sum()\n",
    "            \n",
    "#             writer.add_scalar('policy_loss', policy_loss, writer.games)\n",
    "#             writer.add_scalar('value_loss_loss', value_loss, writer.games)\n",
    "#             loss = policy_loss + value_loss\n",
    "            \n",
    "        print(\"ACTOR LOSS\", actor_loss.item(), \"| CRITIC LOSS\", critic_loss.item())\n",
    "        actor_loss.backward()\n",
    "        self.actor_optimizer.step()\n",
    "        critic_loss.backward()\n",
    "        self.critic_optimizer.step()\n",
    "        if self.trained_times % self.save_freq == 0:\n",
    "            print(\"SAVING\")\n",
    "            self.actor.save_model(self.trained_times)\n",
    "            self.critic.save_model(self.trained_times)\n",
    "        self.trained_times += 1\n",
    "        \n",
    "    def load_hidden(self, hidden):\n",
    "        \"\"\"Loads the hidden state to the MDN RNN\"\"\"\n",
    "        self.hidden = deepcopy(hidden)\n",
    "        \n",
    "    def get_hidden(self):\n",
    "        \"\"\"Gets the hidden state from the MDN RNN\"\"\"\n",
    "        return deepcopy(self.hidden)\n",
    "    \n",
    "    def random_controller(self): \n",
    "        \"\"\"Updates the controller from a randomly selected save file\"\"\"\n",
    "        path = f'checkpoints_/{self.actor.type}/{self.actor.name}/'\n",
    "        list_of_files = [x for x in os.listdir(path) if '.pth' in x]\n",
    "        file_name = random.choice(list_of_files)\n",
    "        print(f'Loading Random Controllers {file_name}')\n",
    "        \n",
    "        self.actor.load_model(file_name)\n",
    "        self.critic.load_model(file_name)\n",
    "        \n",
    "    def step(self, z, action):\n",
    "        \"\"\"Updates the hidden state of the MDN-RNN\"\"\"\n",
    "        z.squeeze_(-1)\n",
    "        ohe_action = self.one_hot_encode_action(action)\n",
    "        za = torch.cat((z.to('cpu'), torch.tensor(ohe_action).float().to('cpu').unsqueeze(0)), dim = 1)\n",
    "        _, self.hidden = self.mdn(za.unsqueeze(1), self.hidden)\n",
    "        self.hidden = (self.hidden[0].detach().to('cpu'), self.hidden[1].detach().to('cpu'))\n",
    "        \n",
    "                \n",
    "    def improvement_estimate(self, logits, legal_move_logits):\n",
    "        \"\"\"Create an improvement estimate by layering the insights from MCTS\"\"\"\n",
    "        new_boards__ = [[x.lower() for x in list(np.ndarray.flatten(self.decoder))] for _ in range(logits.shape[0])]\n",
    "        improve_est = []\n",
    "        for idx in range(logits.shape[0]):\n",
    "            new_boards___ = new_boards__[idx]\n",
    "            improve_est__ = logits[idx].clone().view(-1)\n",
    "            improve_est__.data.fill_(0)\n",
    "            legal_move_logits__ = {k.lower(): v * self.legal_multiplier for k, v in legal_move_logits[idx].items()}\n",
    "            for move, legal_move_logit in legal_move_logits__.items():\n",
    "                index = new_boards___.index(move)\n",
    "                improve_est__[index] += legal_move_logit\n",
    "            improve_est.append(improve_est__.reshape(76, 8, 8))\n",
    "        return torch.stack(improve_est)\n",
    "    \n",
    "agent = Agent(env.decoder, env.action_size, 'Test', 'Test', 'Test', test_mode = False)\n",
    "agent.reset(1)"
   ]
  },
  {
   "cell_type": "code",
   "execution_count": null,
   "metadata": {},
   "outputs": [
    {
     "name": "stdout",
     "output_type": "stream",
     "text": [
      "\u001b[2m\u001b[36m(pid=15619)\u001b[0m Loading Random Controllers E0.pth\n",
      "\u001b[2m\u001b[36m(pid=15616)\u001b[0m Loading Random Controllers E0.pth\n",
      "\u001b[2m\u001b[36m(pid=15625)\u001b[0m Loading Random Controllers E0.pth\n",
      "\u001b[2m\u001b[36m(pid=15622)\u001b[0m Loading Random Controllers E0.pth\n",
      "\u001b[2m\u001b[36m(pid=15615)\u001b[0m Loading Random Controllers E0.pth\n",
      "\u001b[2m\u001b[36m(pid=15620)\u001b[0m Loading Random Controllers E0.pth\n",
      "\u001b[2m\u001b[36m(pid=15617)\u001b[0m Loading Random Controllers E0.pth\n",
      "\u001b[2m\u001b[36m(pid=15618)\u001b[0m Loading Random Controllers E0.pth\n",
      "\u001b[2m\u001b[36m(pid=15621)\u001b[0m Loading Random Controllers E0.pth\n",
      "\u001b[2m\u001b[36m(pid=15612)\u001b[0m Loading Random Controllers E0.pth\n",
      "\u001b[2m\u001b[36m(pid=15624)\u001b[0m Loading Random Controllers E0.pth\n",
      "\u001b[2m\u001b[36m(pid=15610)\u001b[0m Loading Random Controllers E0.pth\n",
      "\u001b[2m\u001b[36m(pid=15613)\u001b[0m Loading Random Controllers E0.pth\n",
      "\u001b[2m\u001b[36m(pid=15623)\u001b[0m Loading Random Controllers E0.pth\n",
      "\u001b[2m\u001b[36m(pid=15611)\u001b[0m Loading Random Controllers E0.pth\n",
      "\u001b[2m\u001b[36m(pid=15614)\u001b[0m Loading Random Controllers E0.pth\n"
     ]
    },
    {
     "name": "stderr",
     "output_type": "stream",
     "text": [
      "\u001b[2m\u001b[36m(pid=15622)\u001b[0m /home/ec2-user/.local/lib/python3.6/site-packages/ray/workers/default_worker.py:58: RuntimeWarning: invalid value encountered in true_divide\n",
      "\u001b[2m\u001b[36m(pid=15622)\u001b[0m   type=str,\n",
      "\u001b[2m\u001b[36m(pid=15621)\u001b[0m /home/ec2-user/.local/lib/python3.6/site-packages/ray/workers/default_worker.py:58: RuntimeWarning: invalid value encountered in true_divide\n",
      "\u001b[2m\u001b[36m(pid=15621)\u001b[0m   type=str,\n",
      "\u001b[2m\u001b[36m(pid=15624)\u001b[0m /home/ec2-user/.local/lib/python3.6/site-packages/ray/workers/default_worker.py:58: RuntimeWarning: invalid value encountered in true_divide\n",
      "\u001b[2m\u001b[36m(pid=15624)\u001b[0m   type=str,\n",
      "\u001b[2m\u001b[36m(pid=15620)\u001b[0m /home/ec2-user/.local/lib/python3.6/site-packages/ray/workers/default_worker.py:58: RuntimeWarning: invalid value encountered in true_divide\n",
      "\u001b[2m\u001b[36m(pid=15620)\u001b[0m   type=str,\n",
      "\u001b[2m\u001b[36m(pid=15612)\u001b[0m /home/ec2-user/.local/lib/python3.6/site-packages/ray/workers/default_worker.py:58: RuntimeWarning: invalid value encountered in true_divide\n",
      "\u001b[2m\u001b[36m(pid=15612)\u001b[0m   type=str,\n",
      "\u001b[2m\u001b[36m(pid=15614)\u001b[0m /home/ec2-user/.local/lib/python3.6/site-packages/ray/workers/default_worker.py:58: RuntimeWarning: invalid value encountered in true_divide\n",
      "\u001b[2m\u001b[36m(pid=15614)\u001b[0m   type=str,\n",
      "\u001b[2m\u001b[36m(pid=15617)\u001b[0m /home/ec2-user/.local/lib/python3.6/site-packages/ray/workers/default_worker.py:58: RuntimeWarning: invalid value encountered in true_divide\n",
      "\u001b[2m\u001b[36m(pid=15617)\u001b[0m   type=str,\n",
      "\u001b[2m\u001b[36m(pid=15616)\u001b[0m /home/ec2-user/.local/lib/python3.6/site-packages/ray/workers/default_worker.py:58: RuntimeWarning: invalid value encountered in true_divide\n",
      "\u001b[2m\u001b[36m(pid=15616)\u001b[0m   type=str,\n",
      "\u001b[2m\u001b[36m(pid=15615)\u001b[0m /home/ec2-user/.local/lib/python3.6/site-packages/ray/workers/default_worker.py:58: RuntimeWarning: invalid value encountered in true_divide\n",
      "\u001b[2m\u001b[36m(pid=15615)\u001b[0m   type=str,\n",
      "\u001b[2m\u001b[36m(pid=15611)\u001b[0m /home/ec2-user/.local/lib/python3.6/site-packages/ray/workers/default_worker.py:58: RuntimeWarning: invalid value encountered in true_divide\n",
      "\u001b[2m\u001b[36m(pid=15611)\u001b[0m   type=str,\n",
      "\u001b[2m\u001b[36m(pid=15610)\u001b[0m /home/ec2-user/.local/lib/python3.6/site-packages/ray/workers/default_worker.py:58: RuntimeWarning: invalid value encountered in true_divide\n",
      "\u001b[2m\u001b[36m(pid=15610)\u001b[0m   type=str,\n",
      "\u001b[2m\u001b[36m(pid=15625)\u001b[0m /home/ec2-user/.local/lib/python3.6/site-packages/ray/workers/default_worker.py:58: RuntimeWarning: invalid value encountered in true_divide\n",
      "\u001b[2m\u001b[36m(pid=15625)\u001b[0m   type=str,\n",
      "\u001b[2m\u001b[36m(pid=15623)\u001b[0m /home/ec2-user/.local/lib/python3.6/site-packages/ray/workers/default_worker.py:58: RuntimeWarning: invalid value encountered in true_divide\n",
      "\u001b[2m\u001b[36m(pid=15623)\u001b[0m   type=str,\n",
      "\u001b[2m\u001b[36m(pid=15619)\u001b[0m /home/ec2-user/.local/lib/python3.6/site-packages/ray/workers/default_worker.py:58: RuntimeWarning: invalid value encountered in true_divide\n",
      "\u001b[2m\u001b[36m(pid=15619)\u001b[0m   type=str,\n",
      "\u001b[2m\u001b[36m(pid=15613)\u001b[0m /home/ec2-user/.local/lib/python3.6/site-packages/ray/workers/default_worker.py:58: RuntimeWarning: invalid value encountered in true_divide\n",
      "\u001b[2m\u001b[36m(pid=15613)\u001b[0m   type=str,\n",
      "\u001b[2m\u001b[36m(pid=15618)\u001b[0m /home/ec2-user/.local/lib/python3.6/site-packages/ray/workers/default_worker.py:58: RuntimeWarning: invalid value encountered in true_divide\n",
      "\u001b[2m\u001b[36m(pid=15618)\u001b[0m   type=str,\n"
     ]
    },
    {
     "name": "stdout",
     "output_type": "stream",
     "text": [
      "\u001b[2m\u001b[36m(pid=15615)\u001b[0m Game 4 White Won\n",
      "\u001b[2m\u001b[36m(pid=15613)\u001b[0m Game 12 Draw\n",
      "\u001b[2m\u001b[36m(pid=15613)\u001b[0m WARNING DELETING EXPERIENCES\n",
      "\u001b[2m\u001b[36m(pid=15621)\u001b[0m Game 8 White Won\n",
      "\u001b[2m\u001b[36m(pid=15622)\u001b[0m Game 2 Draw\n",
      "\u001b[2m\u001b[36m(pid=15622)\u001b[0m WARNING DELETING EXPERIENCES\n",
      "\u001b[2m\u001b[36m(pid=15611)\u001b[0m Game 14 White Won\n",
      "\u001b[2m\u001b[36m(pid=15616)\u001b[0m Game 0 White Loss\n",
      "\u001b[2m\u001b[36m(pid=15619)\u001b[0m Game 1 Draw\n",
      "\u001b[2m\u001b[36m(pid=15619)\u001b[0m WARNING DELETING EXPERIENCES\n",
      "\u001b[2m\u001b[36m(pid=15625)\u001b[0m Game 3 Draw\n",
      "\u001b[2m\u001b[36m(pid=15625)\u001b[0m WARNING DELETING EXPERIENCES\n",
      "\u001b[2m\u001b[36m(pid=15610)\u001b[0m Game 11 Draw\n",
      "\u001b[2m\u001b[36m(pid=15610)\u001b[0m WARNING DELETING EXPERIENCES\n",
      "\u001b[2m\u001b[36m(pid=15618)\u001b[0m Game 7 White Loss\n",
      "\u001b[2m\u001b[36m(pid=15614)\u001b[0m Game 15 Draw\n",
      "\u001b[2m\u001b[36m(pid=15614)\u001b[0m WARNING DELETING EXPERIENCES\n",
      "\u001b[2m\u001b[36m(pid=15612)\u001b[0m Game 9 Draw\n",
      "\u001b[2m\u001b[36m(pid=15612)\u001b[0m WARNING DELETING EXPERIENCES\n",
      "\u001b[2m\u001b[36m(pid=15617)\u001b[0m Game 6 Draw\n",
      "\u001b[2m\u001b[36m(pid=15617)\u001b[0m WARNING DELETING EXPERIENCES\n",
      "\u001b[2m\u001b[36m(pid=15623)\u001b[0m Game 13 Draw\n",
      "\u001b[2m\u001b[36m(pid=15623)\u001b[0m WARNING DELETING EXPERIENCES\n",
      "\u001b[2m\u001b[36m(pid=15620)\u001b[0m Game 5 Draw\n",
      "\u001b[2m\u001b[36m(pid=15620)\u001b[0m WARNING DELETING EXPERIENCES\n",
      "\u001b[2m\u001b[36m(pid=15624)\u001b[0m Game 10 Draw\n",
      "\u001b[2m\u001b[36m(pid=15624)\u001b[0m WARNING DELETING EXPERIENCES\n"
     ]
    },
    {
     "name": "stderr",
     "output_type": "stream",
     "text": [
      "/home/ec2-user/anaconda3/envs/pytorch_latest_p36/lib/python3.6/site-packages/ipykernel/__main__.py:150: UserWarning: To copy construct from a tensor, it is recommended to use sourceTensor.clone().detach() or sourceTensor.clone().detach().requires_grad_(True), rather than torch.tensor(sourceTensor).\n",
      "/home/ec2-user/anaconda3/envs/pytorch_latest_p36/lib/python3.6/site-packages/ipykernel/__main__.py:151: UserWarning: The given NumPy array is not writeable, and PyTorch does not support non-writeable tensors. This means you can write to the underlying (supposedly non-writeable) NumPy array using the tensor. You may want to copy the array to protect its data or make it writeable before converting it to a tensor. This type of warning will be suppressed for the rest of this program. (Triggered internally at  /opt/conda/conda-bld/pytorch_1595629416375/work/torch/csrc/utils/tensor_numpy.cpp:141.)\n"
     ]
    },
    {
     "name": "stdout",
     "output_type": "stream",
     "text": [
      "ACTOR LOSS 1715.22216796875 | CRITIC LOSS 176.1524200439453\n",
      "SAVING\n",
      "ACTOR LOSS 1830.0140380859375 | CRITIC LOSS 173.7557830810547\n",
      "ACTOR LOSS 2097.5029296875 | CRITIC LOSS 170.606689453125\n",
      "ACTOR LOSS 2654.67626953125 | CRITIC LOSS 168.16082763671875\n",
      "ACTOR LOSS 2604.507080078125 | CRITIC LOSS 164.86573791503906\n",
      "ACTOR LOSS 2854.8525390625 | CRITIC LOSS 162.93539428710938\n",
      "ACTOR LOSS 3018.4619140625 | CRITIC LOSS 158.22616577148438\n",
      "ACTOR LOSS 3133.0498046875 | CRITIC LOSS 156.59120178222656\n",
      "ACTOR LOSS 3201.103515625 | CRITIC LOSS 154.04150390625\n",
      "SAVING\n",
      "ACTOR LOSS 3259.1474609375 | CRITIC LOSS 152.24578857421875\n",
      "\u001b[2m\u001b[36m(pid=15624)\u001b[0m Loading Random Controllers E8.pth\n",
      "\u001b[2m\u001b[36m(pid=15620)\u001b[0m Loading Random Controllers E8.pth\n",
      "\u001b[2m\u001b[36m(pid=15612)\u001b[0m Loading Random Controllers E0.pth\n",
      "\u001b[2m\u001b[36m(pid=15617)\u001b[0m Loading Random Controllers E0.pth\n",
      "\u001b[2m\u001b[36m(pid=15618)\u001b[0m Loading Random Controllers E0.pth\n",
      "\u001b[2m\u001b[36m(pid=15619)\u001b[0m Loading Random Controllers E0.pth\n",
      "\u001b[2m\u001b[36m(pid=15616)\u001b[0m Loading Random Controllers E0.pth\n",
      "\u001b[2m\u001b[36m(pid=15614)\u001b[0m Loading Random Controllers E8.pth\n",
      "\u001b[2m\u001b[36m(pid=15611)\u001b[0m Loading Random Controllers E8.pth\n",
      "\u001b[2m\u001b[36m(pid=15625)\u001b[0m Loading Random Controllers E0.pth\n",
      "\u001b[2m\u001b[36m(pid=15622)\u001b[0m Loading Random Controllers E8.pth\n",
      "\u001b[2m\u001b[36m(pid=15621)\u001b[0m Loading Random Controllers E0.pth\n",
      "\u001b[2m\u001b[36m(pid=15623)\u001b[0m Loading Random Controllers E8.pth\n",
      "\u001b[2m\u001b[36m(pid=15610)\u001b[0m Loading Random Controllers E8.pth\n",
      "\u001b[2m\u001b[36m(pid=15613)\u001b[0m Loading Random Controllers E8.pth\n",
      "\u001b[2m\u001b[36m(pid=15615)\u001b[0m Loading Random Controllers E0.pth\n"
     ]
    },
    {
     "name": "stderr",
     "output_type": "stream",
     "text": [
      "\u001b[2m\u001b[36m(pid=15611)\u001b[0m /home/ec2-user/.local/lib/python3.6/site-packages/ray/workers/default_worker.py:58: RuntimeWarning: invalid value encountered in true_divide\n",
      "\u001b[2m\u001b[36m(pid=15611)\u001b[0m   type=str,\n",
      "\u001b[2m\u001b[36m(pid=15625)\u001b[0m /home/ec2-user/.local/lib/python3.6/site-packages/ray/workers/default_worker.py:58: RuntimeWarning: invalid value encountered in true_divide\n",
      "\u001b[2m\u001b[36m(pid=15625)\u001b[0m   type=str,\n",
      "\u001b[2m\u001b[36m(pid=15623)\u001b[0m /home/ec2-user/.local/lib/python3.6/site-packages/ray/workers/default_worker.py:58: RuntimeWarning: invalid value encountered in true_divide\n",
      "\u001b[2m\u001b[36m(pid=15623)\u001b[0m   type=str,\n",
      "\u001b[2m\u001b[36m(pid=15614)\u001b[0m /home/ec2-user/.local/lib/python3.6/site-packages/ray/workers/default_worker.py:58: RuntimeWarning: invalid value encountered in true_divide\n",
      "\u001b[2m\u001b[36m(pid=15614)\u001b[0m   type=str,\n",
      "\u001b[2m\u001b[36m(pid=15616)\u001b[0m /home/ec2-user/.local/lib/python3.6/site-packages/ray/workers/default_worker.py:58: RuntimeWarning: invalid value encountered in true_divide\n",
      "\u001b[2m\u001b[36m(pid=15616)\u001b[0m   type=str,\n",
      "\u001b[2m\u001b[36m(pid=15621)\u001b[0m /home/ec2-user/.local/lib/python3.6/site-packages/ray/workers/default_worker.py:58: RuntimeWarning: invalid value encountered in true_divide\n",
      "\u001b[2m\u001b[36m(pid=15621)\u001b[0m   type=str,\n",
      "\u001b[2m\u001b[36m(pid=15612)\u001b[0m /home/ec2-user/.local/lib/python3.6/site-packages/ray/workers/default_worker.py:58: RuntimeWarning: invalid value encountered in true_divide\n",
      "\u001b[2m\u001b[36m(pid=15612)\u001b[0m   type=str,\n",
      "\u001b[2m\u001b[36m(pid=15610)\u001b[0m /home/ec2-user/.local/lib/python3.6/site-packages/ray/workers/default_worker.py:58: RuntimeWarning: invalid value encountered in true_divide\n",
      "\u001b[2m\u001b[36m(pid=15610)\u001b[0m   type=str,\n",
      "\u001b[2m\u001b[36m(pid=15615)\u001b[0m /home/ec2-user/.local/lib/python3.6/site-packages/ray/workers/default_worker.py:58: RuntimeWarning: invalid value encountered in true_divide\n",
      "\u001b[2m\u001b[36m(pid=15615)\u001b[0m   type=str,\n",
      "\u001b[2m\u001b[36m(pid=15619)\u001b[0m /home/ec2-user/.local/lib/python3.6/site-packages/ray/workers/default_worker.py:58: RuntimeWarning: invalid value encountered in true_divide\n",
      "\u001b[2m\u001b[36m(pid=15619)\u001b[0m   type=str,\n",
      "\u001b[2m\u001b[36m(pid=15613)\u001b[0m /home/ec2-user/.local/lib/python3.6/site-packages/ray/workers/default_worker.py:58: RuntimeWarning: invalid value encountered in true_divide\n",
      "\u001b[2m\u001b[36m(pid=15613)\u001b[0m   type=str,\n",
      "\u001b[2m\u001b[36m(pid=15618)\u001b[0m /home/ec2-user/.local/lib/python3.6/site-packages/ray/workers/default_worker.py:58: RuntimeWarning: invalid value encountered in true_divide\n",
      "\u001b[2m\u001b[36m(pid=15618)\u001b[0m   type=str,\n",
      "\u001b[2m\u001b[36m(pid=15624)\u001b[0m /home/ec2-user/.local/lib/python3.6/site-packages/ray/workers/default_worker.py:58: RuntimeWarning: invalid value encountered in true_divide\n",
      "\u001b[2m\u001b[36m(pid=15624)\u001b[0m   type=str,\n",
      "\u001b[2m\u001b[36m(pid=15617)\u001b[0m /home/ec2-user/.local/lib/python3.6/site-packages/ray/workers/default_worker.py:58: RuntimeWarning: invalid value encountered in true_divide\n",
      "\u001b[2m\u001b[36m(pid=15617)\u001b[0m   type=str,\n",
      "\u001b[2m\u001b[36m(pid=15622)\u001b[0m /home/ec2-user/.local/lib/python3.6/site-packages/ray/workers/default_worker.py:58: RuntimeWarning: invalid value encountered in true_divide\n",
      "\u001b[2m\u001b[36m(pid=15622)\u001b[0m   type=str,\n",
      "\u001b[2m\u001b[36m(pid=15620)\u001b[0m /home/ec2-user/.local/lib/python3.6/site-packages/ray/workers/default_worker.py:58: RuntimeWarning: invalid value encountered in true_divide\n",
      "\u001b[2m\u001b[36m(pid=15620)\u001b[0m   type=str,\n"
     ]
    },
    {
     "name": "stdout",
     "output_type": "stream",
     "text": [
      "\u001b[2m\u001b[36m(pid=15618)\u001b[0m Game 20 White Won\n",
      "\u001b[2m\u001b[36m(pid=15612)\u001b[0m Game 18 Draw\n",
      "\u001b[2m\u001b[36m(pid=15612)\u001b[0m WARNING DELETING EXPERIENCES\n",
      "\u001b[2m\u001b[36m(pid=15621)\u001b[0m Game 27 Draw\n",
      "\u001b[2m\u001b[36m(pid=15621)\u001b[0m WARNING DELETING EXPERIENCES\n",
      "\u001b[2m\u001b[36m(pid=15613)\u001b[0m Game 30 Draw\n",
      "\u001b[2m\u001b[36m(pid=15613)\u001b[0m WARNING DELETING EXPERIENCES\n",
      "\u001b[2m\u001b[36m(pid=15624)\u001b[0m Game 16 Draw\n",
      "\u001b[2m\u001b[36m(pid=15624)\u001b[0m WARNING DELETING EXPERIENCES\n",
      "\u001b[2m\u001b[36m(pid=15610)\u001b[0m Game 29 Draw\n",
      "\u001b[2m\u001b[36m(pid=15610)\u001b[0m WARNING DELETING EXPERIENCES\n",
      "\u001b[2m\u001b[36m(pid=15615)\u001b[0m Game 31 Draw\n",
      "\u001b[2m\u001b[36m(pid=15615)\u001b[0m WARNING DELETING EXPERIENCES\n",
      "\u001b[2m\u001b[36m(pid=15620)\u001b[0m Game 17 White Loss\n",
      "\u001b[2m\u001b[36m(pid=15614)\u001b[0m Game 23 Draw\n",
      "\u001b[2m\u001b[36m(pid=15614)\u001b[0m WARNING DELETING EXPERIENCES\n",
      "\u001b[2m\u001b[36m(pid=15619)\u001b[0m Game 21 Draw\n",
      "\u001b[2m\u001b[36m(pid=15619)\u001b[0m WARNING DELETING EXPERIENCES\n",
      "\u001b[2m\u001b[36m(pid=15623)\u001b[0m Game 28 Draw\n",
      "\u001b[2m\u001b[36m(pid=15623)\u001b[0m WARNING DELETING EXPERIENCES\n",
      "\u001b[2m\u001b[36m(pid=15617)\u001b[0m Game 19 Draw\n",
      "\u001b[2m\u001b[36m(pid=15617)\u001b[0m WARNING DELETING EXPERIENCES\n",
      "\u001b[2m\u001b[36m(pid=15625)\u001b[0m Game 25 Draw\n",
      "\u001b[2m\u001b[36m(pid=15625)\u001b[0m WARNING DELETING EXPERIENCES\n",
      "\u001b[2m\u001b[36m(pid=15622)\u001b[0m Game 26 Draw\n",
      "\u001b[2m\u001b[36m(pid=15622)\u001b[0m WARNING DELETING EXPERIENCES\n",
      "\u001b[2m\u001b[36m(pid=15611)\u001b[0m Game 24 Draw\n",
      "\u001b[2m\u001b[36m(pid=15611)\u001b[0m WARNING DELETING EXPERIENCES\n",
      "\u001b[2m\u001b[36m(pid=15616)\u001b[0m Game 22 Draw\n",
      "\u001b[2m\u001b[36m(pid=15616)\u001b[0m WARNING DELETING EXPERIENCES\n",
      "ACTOR LOSS 3451.23974609375 | CRITIC LOSS 147.89743041992188\n",
      "ACTOR LOSS 3560.9638671875 | CRITIC LOSS 145.22384643554688\n",
      "ACTOR LOSS 3869.56689453125 | CRITIC LOSS 142.18533325195312\n",
      "ACTOR LOSS 4133.1064453125 | CRITIC LOSS 140.93231201171875\n",
      "ACTOR LOSS 3874.9375 | CRITIC LOSS 135.23399353027344\n",
      "ACTOR LOSS 3961.746826171875 | CRITIC LOSS 134.35496520996094\n",
      "ACTOR LOSS 4108.64404296875 | CRITIC LOSS 130.74566650390625\n",
      "SAVING\n",
      "ACTOR LOSS 4360.02978515625 | CRITIC LOSS 128.3705291748047\n",
      "ACTOR LOSS 4251.9580078125 | CRITIC LOSS 125.4986801147461\n",
      "ACTOR LOSS 4367.970703125 | CRITIC LOSS 123.09005737304688\n",
      "\u001b[2m\u001b[36m(pid=15616)\u001b[0m Loading Random Controllers E0.pth\n",
      "\u001b[2m\u001b[36m(pid=15622)\u001b[0m Loading Random Controllers E0.pth\n"
     ]
    },
    {
     "name": "stderr",
     "output_type": "stream",
     "text": [
      "\u001b[2m\u001b[36m(pid=15616)\u001b[0m /home/ec2-user/.local/lib/python3.6/site-packages/ray/workers/default_worker.py:58: RuntimeWarning: invalid value encountered in true_divide\n",
      "\u001b[2m\u001b[36m(pid=15616)\u001b[0m   type=str,\n",
      "\u001b[2m\u001b[36m(pid=15622)\u001b[0m /home/ec2-user/.local/lib/python3.6/site-packages/ray/workers/default_worker.py:58: RuntimeWarning: invalid value encountered in true_divide\n",
      "\u001b[2m\u001b[36m(pid=15622)\u001b[0m   type=str,\n"
     ]
    },
    {
     "name": "stdout",
     "output_type": "stream",
     "text": [
      "\u001b[2m\u001b[36m(pid=15625)\u001b[0m Loading Random Controllers E0.pth\n"
     ]
    },
    {
     "name": "stderr",
     "output_type": "stream",
     "text": [
      "\u001b[2m\u001b[36m(pid=15625)\u001b[0m /home/ec2-user/.local/lib/python3.6/site-packages/ray/workers/default_worker.py:58: RuntimeWarning: invalid value encountered in true_divide\n",
      "\u001b[2m\u001b[36m(pid=15625)\u001b[0m   type=str,\n"
     ]
    },
    {
     "name": "stdout",
     "output_type": "stream",
     "text": [
      "\u001b[2m\u001b[36m(pid=15619)\u001b[0m Loading Random Controllers E8.pth\n"
     ]
    },
    {
     "name": "stderr",
     "output_type": "stream",
     "text": [
      "\u001b[2m\u001b[36m(pid=15619)\u001b[0m /home/ec2-user/.local/lib/python3.6/site-packages/ray/workers/default_worker.py:58: RuntimeWarning: invalid value encountered in true_divide\n",
      "\u001b[2m\u001b[36m(pid=15619)\u001b[0m   type=str,\n",
      "\u001b[2m\u001b[36m(pid=15611)\u001b[0m /home/ec2-user/.local/lib/python3.6/site-packages/ray/workers/default_worker.py:58: RuntimeWarning: invalid value encountered in true_divide\n",
      "\u001b[2m\u001b[36m(pid=15611)\u001b[0m   type=str,\n"
     ]
    },
    {
     "name": "stdout",
     "output_type": "stream",
     "text": [
      "\u001b[2m\u001b[36m(pid=15611)\u001b[0m Loading Random Controllers E16.pth\n",
      "\u001b[2m\u001b[36m(pid=15614)\u001b[0m Loading Random Controllers E0.pth\n"
     ]
    },
    {
     "name": "stderr",
     "output_type": "stream",
     "text": [
      "\u001b[2m\u001b[36m(pid=15614)\u001b[0m /home/ec2-user/.local/lib/python3.6/site-packages/ray/workers/default_worker.py:58: RuntimeWarning: invalid value encountered in true_divide\n",
      "\u001b[2m\u001b[36m(pid=15614)\u001b[0m   type=str,\n",
      "\u001b[2m\u001b[36m(pid=15620)\u001b[0m /home/ec2-user/.local/lib/python3.6/site-packages/ray/workers/default_worker.py:58: RuntimeWarning: invalid value encountered in true_divide\n",
      "\u001b[2m\u001b[36m(pid=15620)\u001b[0m   type=str,\n"
     ]
    },
    {
     "name": "stdout",
     "output_type": "stream",
     "text": [
      "\u001b[2m\u001b[36m(pid=15620)\u001b[0m Loading Random Controllers E8.pth\n",
      "\u001b[2m\u001b[36m(pid=15615)\u001b[0m Loading Random Controllers E0.pth\n"
     ]
    },
    {
     "name": "stderr",
     "output_type": "stream",
     "text": [
      "\u001b[2m\u001b[36m(pid=15615)\u001b[0m /home/ec2-user/.local/lib/python3.6/site-packages/ray/workers/default_worker.py:58: RuntimeWarning: invalid value encountered in true_divide\n",
      "\u001b[2m\u001b[36m(pid=15615)\u001b[0m   type=str,\n"
     ]
    },
    {
     "name": "stdout",
     "output_type": "stream",
     "text": [
      "\u001b[2m\u001b[36m(pid=15624)\u001b[0m Loading Random Controllers E16.pth\n"
     ]
    },
    {
     "name": "stderr",
     "output_type": "stream",
     "text": [
      "\u001b[2m\u001b[36m(pid=15624)\u001b[0m /home/ec2-user/.local/lib/python3.6/site-packages/ray/workers/default_worker.py:58: RuntimeWarning: invalid value encountered in true_divide\n",
      "\u001b[2m\u001b[36m(pid=15624)\u001b[0m   type=str,\n"
     ]
    },
    {
     "name": "stdout",
     "output_type": "stream",
     "text": [
      "\u001b[2m\u001b[36m(pid=15623)\u001b[0m Loading Random Controllers E16.pth\n"
     ]
    },
    {
     "name": "stderr",
     "output_type": "stream",
     "text": [
      "\u001b[2m\u001b[36m(pid=15623)\u001b[0m /home/ec2-user/.local/lib/python3.6/site-packages/ray/workers/default_worker.py:58: RuntimeWarning: invalid value encountered in true_divide\n",
      "\u001b[2m\u001b[36m(pid=15623)\u001b[0m   type=str,\n"
     ]
    },
    {
     "name": "stdout",
     "output_type": "stream",
     "text": [
      "\u001b[2m\u001b[36m(pid=15610)\u001b[0m Loading Random Controllers E16.pth\n"
     ]
    },
    {
     "name": "stderr",
     "output_type": "stream",
     "text": [
      "\u001b[2m\u001b[36m(pid=15610)\u001b[0m /home/ec2-user/.local/lib/python3.6/site-packages/ray/workers/default_worker.py:58: RuntimeWarning: invalid value encountered in true_divide\n",
      "\u001b[2m\u001b[36m(pid=15610)\u001b[0m   type=str,\n"
     ]
    },
    {
     "name": "stdout",
     "output_type": "stream",
     "text": [
      "\u001b[2m\u001b[36m(pid=15613)\u001b[0m Loading Random Controllers E8.pth\n"
     ]
    },
    {
     "name": "stderr",
     "output_type": "stream",
     "text": [
      "\u001b[2m\u001b[36m(pid=15613)\u001b[0m /home/ec2-user/.local/lib/python3.6/site-packages/ray/workers/default_worker.py:58: RuntimeWarning: invalid value encountered in true_divide\n",
      "\u001b[2m\u001b[36m(pid=15613)\u001b[0m   type=str,\n"
     ]
    },
    {
     "name": "stdout",
     "output_type": "stream",
     "text": [
      "\u001b[2m\u001b[36m(pid=15621)\u001b[0m Loading Random Controllers E8.pth\n"
     ]
    },
    {
     "name": "stderr",
     "output_type": "stream",
     "text": [
      "\u001b[2m\u001b[36m(pid=15621)\u001b[0m /home/ec2-user/.local/lib/python3.6/site-packages/ray/workers/default_worker.py:58: RuntimeWarning: invalid value encountered in true_divide\n",
      "\u001b[2m\u001b[36m(pid=15621)\u001b[0m   type=str,\n"
     ]
    },
    {
     "name": "stdout",
     "output_type": "stream",
     "text": [
      "\u001b[2m\u001b[36m(pid=15612)\u001b[0m Loading Random Controllers E8.pth\n"
     ]
    },
    {
     "name": "stderr",
     "output_type": "stream",
     "text": [
      "\u001b[2m\u001b[36m(pid=15612)\u001b[0m /home/ec2-user/.local/lib/python3.6/site-packages/ray/workers/default_worker.py:58: RuntimeWarning: invalid value encountered in true_divide\n",
      "\u001b[2m\u001b[36m(pid=15612)\u001b[0m   type=str,\n"
     ]
    },
    {
     "name": "stdout",
     "output_type": "stream",
     "text": [
      "\u001b[2m\u001b[36m(pid=15617)\u001b[0m Loading Random Controllers E16.pth\n"
     ]
    },
    {
     "name": "stderr",
     "output_type": "stream",
     "text": [
      "\u001b[2m\u001b[36m(pid=15617)\u001b[0m /home/ec2-user/.local/lib/python3.6/site-packages/ray/workers/default_worker.py:58: RuntimeWarning: invalid value encountered in true_divide\n",
      "\u001b[2m\u001b[36m(pid=15617)\u001b[0m   type=str,\n"
     ]
    },
    {
     "name": "stdout",
     "output_type": "stream",
     "text": [
      "\u001b[2m\u001b[36m(pid=15618)\u001b[0m Loading Random Controllers E16.pth\n"
     ]
    },
    {
     "name": "stderr",
     "output_type": "stream",
     "text": [
      "\u001b[2m\u001b[36m(pid=15618)\u001b[0m /home/ec2-user/.local/lib/python3.6/site-packages/ray/workers/default_worker.py:58: RuntimeWarning: invalid value encountered in true_divide\n",
      "\u001b[2m\u001b[36m(pid=15618)\u001b[0m   type=str,\n"
     ]
    },
    {
     "name": "stdout",
     "output_type": "stream",
     "text": [
      "\u001b[2m\u001b[36m(pid=15625)\u001b[0m Game 34 White Won\n",
      "\u001b[2m\u001b[36m(pid=15616)\u001b[0m Game 32 Draw\n",
      "\u001b[2m\u001b[36m(pid=15616)\u001b[0m WARNING DELETING EXPERIENCES\n",
      "\u001b[2m\u001b[36m(pid=15621)\u001b[0m Game 44 Draw\n",
      "\u001b[2m\u001b[36m(pid=15621)\u001b[0m WARNING DELETING EXPERIENCES\n",
      "\u001b[2m\u001b[36m(pid=15610)\u001b[0m Game 42 Draw\n",
      "\u001b[2m\u001b[36m(pid=15610)\u001b[0m WARNING DELETING EXPERIENCES\n",
      "\u001b[2m\u001b[36m(pid=15613)\u001b[0m Game 43 Draw\n",
      "\u001b[2m\u001b[36m(pid=15613)\u001b[0m WARNING DELETING EXPERIENCES\n",
      "\u001b[2m\u001b[36m(pid=15617)\u001b[0m Game 46 Draw\n",
      "\u001b[2m\u001b[36m(pid=15617)\u001b[0m WARNING DELETING EXPERIENCES\n",
      "\u001b[2m\u001b[36m(pid=15624)\u001b[0m Game 40 Draw\n",
      "\u001b[2m\u001b[36m(pid=15624)\u001b[0m WARNING DELETING EXPERIENCES\n",
      "\u001b[2m\u001b[36m(pid=15611)\u001b[0m Game 36 Draw\n",
      "\u001b[2m\u001b[36m(pid=15611)\u001b[0m WARNING DELETING EXPERIENCES\n",
      "\u001b[2m\u001b[36m(pid=15614)\u001b[0m Game 37 Draw\n",
      "\u001b[2m\u001b[36m(pid=15614)\u001b[0m WARNING DELETING EXPERIENCES\n",
      "\u001b[2m\u001b[36m(pid=15620)\u001b[0m Game 38 White Loss\n",
      "\u001b[2m\u001b[36m(pid=15619)\u001b[0m Game 35 White Won\n",
      "\u001b[2m\u001b[36m(pid=15618)\u001b[0m Game 47 Draw\n",
      "\u001b[2m\u001b[36m(pid=15618)\u001b[0m WARNING DELETING EXPERIENCES\n",
      "\u001b[2m\u001b[36m(pid=15622)\u001b[0m Game 33 Draw\n",
      "\u001b[2m\u001b[36m(pid=15622)\u001b[0m WARNING DELETING EXPERIENCES\n",
      "\u001b[2m\u001b[36m(pid=15623)\u001b[0m Game 41 Draw\n",
      "\u001b[2m\u001b[36m(pid=15623)\u001b[0m WARNING DELETING EXPERIENCES\n",
      "\u001b[2m\u001b[36m(pid=15612)\u001b[0m Game 45 Draw\n",
      "\u001b[2m\u001b[36m(pid=15612)\u001b[0m WARNING DELETING EXPERIENCES\n",
      "\u001b[2m\u001b[36m(pid=15615)\u001b[0m Game 39 Draw\n",
      "\u001b[2m\u001b[36m(pid=15615)\u001b[0m WARNING DELETING EXPERIENCES\n",
      "ACTOR LOSS 4594.9501953125 | CRITIC LOSS 154.09994506835938\n",
      "ACTOR LOSS 4438.2294921875 | CRITIC LOSS 150.84783935546875\n",
      "ACTOR LOSS 4647.3759765625 | CRITIC LOSS 149.65692138671875\n",
      "ACTOR LOSS 4541.6962890625 | CRITIC LOSS 146.3014678955078\n",
      "ACTOR LOSS 4637.4267578125 | CRITIC LOSS 147.98463439941406\n",
      "SAVING\n",
      "ACTOR LOSS 4649.77734375 | CRITIC LOSS 147.0771942138672\n",
      "ACTOR LOSS 4771.275390625 | CRITIC LOSS 142.98007202148438\n",
      "ACTOR LOSS 4739.060546875 | CRITIC LOSS 147.94700622558594\n",
      "ACTOR LOSS 4942.2080078125 | CRITIC LOSS 143.8119354248047\n",
      "ACTOR LOSS 5030.5537109375 | CRITIC LOSS 142.9005584716797\n",
      "\u001b[2m\u001b[36m(pid=15615)\u001b[0m Loading Random Controllers E24.pth\n",
      "\u001b[2m\u001b[36m(pid=15612)\u001b[0m Loading Random Controllers E8.pth"
     ]
    },
    {
     "name": "stderr",
     "output_type": "stream",
     "text": [
      "\u001b[2m\u001b[36m(pid=15615)\u001b[0m /home/ec2-user/.local/lib/python3.6/site-packages/ray/workers/default_worker.py:58: RuntimeWarning: invalid value encountered in true_divide\n",
      "\u001b[2m\u001b[36m(pid=15615)\u001b[0m   type=str,\n",
      "\u001b[2m\u001b[36m(pid=15612)\u001b[0m /home/ec2-user/.local/lib/python3.6/site-packages/ray/workers/default_worker.py:58: RuntimeWarning: invalid value encountered in true_divide\n",
      "\u001b[2m\u001b[36m(pid=15612)\u001b[0m   type=str,\n"
     ]
    },
    {
     "name": "stdout",
     "output_type": "stream",
     "text": [
      "\n",
      "\u001b[2m\u001b[36m(pid=15619)\u001b[0m Loading Random Controllers E0.pth\n"
     ]
    },
    {
     "name": "stderr",
     "output_type": "stream",
     "text": [
      "\u001b[2m\u001b[36m(pid=15619)\u001b[0m /home/ec2-user/.local/lib/python3.6/site-packages/ray/workers/default_worker.py:58: RuntimeWarning: invalid value encountered in true_divide\n",
      "\u001b[2m\u001b[36m(pid=15619)\u001b[0m   type=str,\n"
     ]
    },
    {
     "name": "stdout",
     "output_type": "stream",
     "text": [
      "\u001b[2m\u001b[36m(pid=15620)\u001b[0m Loading Random Controllers E0.pth\n"
     ]
    },
    {
     "name": "stderr",
     "output_type": "stream",
     "text": [
      "\u001b[2m\u001b[36m(pid=15620)\u001b[0m /home/ec2-user/.local/lib/python3.6/site-packages/ray/workers/default_worker.py:58: RuntimeWarning: invalid value encountered in true_divide\n",
      "\u001b[2m\u001b[36m(pid=15620)\u001b[0m   type=str,\n"
     ]
    },
    {
     "name": "stdout",
     "output_type": "stream",
     "text": [
      "\u001b[2m\u001b[36m(pid=15614)\u001b[0m Loading Random Controllers E24.pth\n"
     ]
    },
    {
     "name": "stderr",
     "output_type": "stream",
     "text": [
      "\u001b[2m\u001b[36m(pid=15614)\u001b[0m /home/ec2-user/.local/lib/python3.6/site-packages/ray/workers/default_worker.py:58: RuntimeWarning: invalid value encountered in true_divide\n",
      "\u001b[2m\u001b[36m(pid=15614)\u001b[0m   type=str,\n"
     ]
    },
    {
     "name": "stdout",
     "output_type": "stream",
     "text": [
      "\u001b[2m\u001b[36m(pid=15611)\u001b[0m Loading Random Controllers E8.pth\n"
     ]
    },
    {
     "name": "stderr",
     "output_type": "stream",
     "text": [
      "\u001b[2m\u001b[36m(pid=15611)\u001b[0m /home/ec2-user/.local/lib/python3.6/site-packages/ray/workers/default_worker.py:58: RuntimeWarning: invalid value encountered in true_divide\n",
      "\u001b[2m\u001b[36m(pid=15611)\u001b[0m   type=str,\n"
     ]
    },
    {
     "name": "stdout",
     "output_type": "stream",
     "text": [
      "\u001b[2m\u001b[36m(pid=15624)\u001b[0m Loading Random Controllers E8.pth\n"
     ]
    },
    {
     "name": "stderr",
     "output_type": "stream",
     "text": [
      "\u001b[2m\u001b[36m(pid=15624)\u001b[0m /home/ec2-user/.local/lib/python3.6/site-packages/ray/workers/default_worker.py:58: RuntimeWarning: invalid value encountered in true_divide\n",
      "\u001b[2m\u001b[36m(pid=15624)\u001b[0m   type=str,\n"
     ]
    },
    {
     "name": "stdout",
     "output_type": "stream",
     "text": [
      "\u001b[2m\u001b[36m(pid=15618)\u001b[0m Loading Random Controllers E0.pth\n"
     ]
    },
    {
     "name": "stderr",
     "output_type": "stream",
     "text": [
      "\u001b[2m\u001b[36m(pid=15618)\u001b[0m /home/ec2-user/.local/lib/python3.6/site-packages/ray/workers/default_worker.py:58: RuntimeWarning: invalid value encountered in true_divide\n",
      "\u001b[2m\u001b[36m(pid=15618)\u001b[0m   type=str,\n"
     ]
    },
    {
     "name": "stdout",
     "output_type": "stream",
     "text": [
      "\u001b[2m\u001b[36m(pid=15617)\u001b[0m Loading Random Controllers E0.pth\n"
     ]
    },
    {
     "name": "stderr",
     "output_type": "stream",
     "text": [
      "\u001b[2m\u001b[36m(pid=15617)\u001b[0m /home/ec2-user/.local/lib/python3.6/site-packages/ray/workers/default_worker.py:58: RuntimeWarning: invalid value encountered in true_divide\n",
      "\u001b[2m\u001b[36m(pid=15617)\u001b[0m   type=str,\n"
     ]
    },
    {
     "name": "stdout",
     "output_type": "stream",
     "text": [
      "\u001b[2m\u001b[36m(pid=15623)\u001b[0m Loading Random Controllers E8.pth\n"
     ]
    },
    {
     "name": "stderr",
     "output_type": "stream",
     "text": [
      "\u001b[2m\u001b[36m(pid=15623)\u001b[0m /home/ec2-user/.local/lib/python3.6/site-packages/ray/workers/default_worker.py:58: RuntimeWarning: invalid value encountered in true_divide\n",
      "\u001b[2m\u001b[36m(pid=15623)\u001b[0m   type=str,\n"
     ]
    },
    {
     "name": "stdout",
     "output_type": "stream",
     "text": [
      "\u001b[2m\u001b[36m(pid=15613)\u001b[0m Loading Random Controllers E8.pth\n"
     ]
    },
    {
     "name": "stderr",
     "output_type": "stream",
     "text": [
      "\u001b[2m\u001b[36m(pid=15613)\u001b[0m /home/ec2-user/.local/lib/python3.6/site-packages/ray/workers/default_worker.py:58: RuntimeWarning: invalid value encountered in true_divide\n",
      "\u001b[2m\u001b[36m(pid=15613)\u001b[0m   type=str,\n"
     ]
    },
    {
     "name": "stdout",
     "output_type": "stream",
     "text": [
      "\u001b[2m\u001b[36m(pid=15610)\u001b[0m Loading Random Controllers E8.pth\n"
     ]
    },
    {
     "name": "stderr",
     "output_type": "stream",
     "text": [
      "\u001b[2m\u001b[36m(pid=15610)\u001b[0m /home/ec2-user/.local/lib/python3.6/site-packages/ray/workers/default_worker.py:58: RuntimeWarning: invalid value encountered in true_divide\n",
      "\u001b[2m\u001b[36m(pid=15610)\u001b[0m   type=str,\n"
     ]
    },
    {
     "name": "stdout",
     "output_type": "stream",
     "text": [
      "\u001b[2m\u001b[36m(pid=15621)\u001b[0m Loading Random Controllers E0.pth\n"
     ]
    },
    {
     "name": "stderr",
     "output_type": "stream",
     "text": [
      "\u001b[2m\u001b[36m(pid=15621)\u001b[0m /home/ec2-user/.local/lib/python3.6/site-packages/ray/workers/default_worker.py:58: RuntimeWarning: invalid value encountered in true_divide\n",
      "\u001b[2m\u001b[36m(pid=15621)\u001b[0m   type=str,\n"
     ]
    },
    {
     "name": "stdout",
     "output_type": "stream",
     "text": [
      "\u001b[2m\u001b[36m(pid=15616)\u001b[0m Loading Random Controllers E8.pth\n"
     ]
    },
    {
     "name": "stderr",
     "output_type": "stream",
     "text": [
      "\u001b[2m\u001b[36m(pid=15616)\u001b[0m /home/ec2-user/.local/lib/python3.6/site-packages/ray/workers/default_worker.py:58: RuntimeWarning: invalid value encountered in true_divide\n",
      "\u001b[2m\u001b[36m(pid=15616)\u001b[0m   type=str,\n"
     ]
    },
    {
     "name": "stdout",
     "output_type": "stream",
     "text": [
      "\u001b[2m\u001b[36m(pid=15622)\u001b[0m Loading Random Controllers E16.pth\n"
     ]
    },
    {
     "name": "stderr",
     "output_type": "stream",
     "text": [
      "\u001b[2m\u001b[36m(pid=15622)\u001b[0m /home/ec2-user/.local/lib/python3.6/site-packages/ray/workers/default_worker.py:58: RuntimeWarning: invalid value encountered in true_divide\n",
      "\u001b[2m\u001b[36m(pid=15622)\u001b[0m   type=str,\n"
     ]
    },
    {
     "name": "stdout",
     "output_type": "stream",
     "text": [
      "\u001b[2m\u001b[36m(pid=15625)\u001b[0m Loading Random Controllers E24.pth\n"
     ]
    },
    {
     "name": "stderr",
     "output_type": "stream",
     "text": [
      "\u001b[2m\u001b[36m(pid=15625)\u001b[0m /home/ec2-user/.local/lib/python3.6/site-packages/ray/workers/default_worker.py:58: RuntimeWarning: invalid value encountered in true_divide\n",
      "\u001b[2m\u001b[36m(pid=15625)\u001b[0m   type=str,\n"
     ]
    },
    {
     "name": "stdout",
     "output_type": "stream",
     "text": [
      "\u001b[2m\u001b[36m(pid=15619)\u001b[0m Game 50 White Loss\n",
      "\u001b[2m\u001b[36m(pid=15615)\u001b[0m Game 48 White Loss\n",
      "\u001b[2m\u001b[36m(pid=15610)\u001b[0m Game 59 White Won\n",
      "\u001b[2m\u001b[36m(pid=15625)\u001b[0m Game 63 White Won\n",
      "\u001b[2m\u001b[36m(pid=15617)\u001b[0m Game 56 White Won\n",
      "\u001b[2m\u001b[36m(pid=15613)\u001b[0m Game 58 Draw\n",
      "\u001b[2m\u001b[36m(pid=15613)\u001b[0m WARNING DELETING EXPERIENCES\n",
      "\u001b[2m\u001b[36m(pid=15612)\u001b[0m Game 49 Draw\n",
      "\u001b[2m\u001b[36m(pid=15612)\u001b[0m WARNING DELETING EXPERIENCES\n",
      "\u001b[2m\u001b[36m(pid=15611)\u001b[0m Game 53 Draw\n",
      "\u001b[2m\u001b[36m(pid=15611)\u001b[0m WARNING DELETING EXPERIENCES\n",
      "\u001b[2m\u001b[36m(pid=15620)\u001b[0m Game 51 Draw\n",
      "\u001b[2m\u001b[36m(pid=15620)\u001b[0m WARNING DELETING EXPERIENCES\n",
      "\u001b[2m\u001b[36m(pid=15624)\u001b[0m Game 54 Draw\n",
      "\u001b[2m\u001b[36m(pid=15624)\u001b[0m WARNING DELETING EXPERIENCES\n",
      "\u001b[2m\u001b[36m(pid=15616)\u001b[0m Game 61 Draw\n",
      "\u001b[2m\u001b[36m(pid=15616)\u001b[0m WARNING DELETING EXPERIENCES\n",
      "\u001b[2m\u001b[36m(pid=15614)\u001b[0m Game 52 Draw\n",
      "\u001b[2m\u001b[36m(pid=15614)\u001b[0m WARNING DELETING EXPERIENCES\n",
      "\u001b[2m\u001b[36m(pid=15618)\u001b[0m Game 55 Draw\n",
      "\u001b[2m\u001b[36m(pid=15618)\u001b[0m WARNING DELETING EXPERIENCES\n",
      "\u001b[2m\u001b[36m(pid=15621)\u001b[0m Game 60 Draw\n",
      "\u001b[2m\u001b[36m(pid=15621)\u001b[0m WARNING DELETING EXPERIENCES\n",
      "\u001b[2m\u001b[36m(pid=15623)\u001b[0m Game 57 Draw\n",
      "\u001b[2m\u001b[36m(pid=15623)\u001b[0m WARNING DELETING EXPERIENCES\n",
      "\u001b[2m\u001b[36m(pid=15622)\u001b[0m Game 62 Draw\n",
      "\u001b[2m\u001b[36m(pid=15622)\u001b[0m WARNING DELETING EXPERIENCES\n",
      "ACTOR LOSS 5137.20263671875 | CRITIC LOSS 148.7867431640625\n",
      "ACTOR LOSS 5170.158203125 | CRITIC LOSS 144.70657348632812\n",
      "ACTOR LOSS 5228.42431640625 | CRITIC LOSS 147.4530029296875\n",
      "SAVING\n",
      "ACTOR LOSS 5350.548828125 | CRITIC LOSS 142.2193603515625\n",
      "ACTOR LOSS 5381.0048828125 | CRITIC LOSS 142.5220947265625\n",
      "ACTOR LOSS 5450.3310546875 | CRITIC LOSS 137.92221069335938\n",
      "ACTOR LOSS 5493.103515625 | CRITIC LOSS 136.98880004882812\n",
      "ACTOR LOSS 5522.43994140625 | CRITIC LOSS 140.21771240234375\n",
      "ACTOR LOSS 5548.4306640625 | CRITIC LOSS 133.3854217529297\n",
      "ACTOR LOSS 5551.22119140625 | CRITIC LOSS 131.96875\n",
      "\u001b[2m\u001b[36m(pid=15621)\u001b[0m Loading Random Controllers E8.pth\n"
     ]
    },
    {
     "name": "stderr",
     "output_type": "stream",
     "text": [
      "\u001b[2m\u001b[36m(pid=15621)\u001b[0m /home/ec2-user/.local/lib/python3.6/site-packages/ray/workers/default_worker.py:58: RuntimeWarning: invalid value encountered in true_divide\n",
      "\u001b[2m\u001b[36m(pid=15621)\u001b[0m   type=str,\n",
      "\u001b[2m\u001b[36m(pid=15616)\u001b[0m /home/ec2-user/.local/lib/python3.6/site-packages/ray/workers/default_worker.py:58: RuntimeWarning: invalid value encountered in true_divide\n",
      "\u001b[2m\u001b[36m(pid=15616)\u001b[0m   type=str,\n"
     ]
    },
    {
     "name": "stdout",
     "output_type": "stream",
     "text": [
      "\u001b[2m\u001b[36m(pid=15616)\u001b[0m Loading Random Controllers E24.pth\n",
      "\u001b[2m\u001b[36m(pid=15624)\u001b[0m Loading Random Controllers E8.pth\n"
     ]
    },
    {
     "name": "stderr",
     "output_type": "stream",
     "text": [
      "\u001b[2m\u001b[36m(pid=15624)\u001b[0m /home/ec2-user/.local/lib/python3.6/site-packages/ray/workers/default_worker.py:58: RuntimeWarning: invalid value encountered in true_divide\n",
      "\u001b[2m\u001b[36m(pid=15624)\u001b[0m   type=str,\n"
     ]
    },
    {
     "name": "stdout",
     "output_type": "stream",
     "text": [
      "\u001b[2m\u001b[36m(pid=15620)\u001b[0m Loading Random Controllers E32.pth\n"
     ]
    },
    {
     "name": "stderr",
     "output_type": "stream",
     "text": [
      "\u001b[2m\u001b[36m(pid=15620)\u001b[0m /home/ec2-user/.local/lib/python3.6/site-packages/ray/workers/default_worker.py:58: RuntimeWarning: invalid value encountered in true_divide\n",
      "\u001b[2m\u001b[36m(pid=15620)\u001b[0m   type=str,\n"
     ]
    },
    {
     "name": "stdout",
     "output_type": "stream",
     "text": [
      "\u001b[2m\u001b[36m(pid=15614)\u001b[0m Loading Random Controllers E32.pth\n"
     ]
    },
    {
     "name": "stderr",
     "output_type": "stream",
     "text": [
      "\u001b[2m\u001b[36m(pid=15614)\u001b[0m /home/ec2-user/.local/lib/python3.6/site-packages/ray/workers/default_worker.py:58: RuntimeWarning: invalid value encountered in true_divide\n",
      "\u001b[2m\u001b[36m(pid=15614)\u001b[0m   type=str,\n",
      "\u001b[2m\u001b[36m(pid=15611)\u001b[0m /home/ec2-user/.local/lib/python3.6/site-packages/ray/workers/default_worker.py:58: RuntimeWarning: invalid value encountered in true_divide"
     ]
    },
    {
     "name": "stdout",
     "output_type": "stream",
     "text": [
      "\u001b[2m\u001b[36m(pid=15611)\u001b[0m Loading Random Controllers E16.pth\n"
     ]
    },
    {
     "name": "stderr",
     "output_type": "stream",
     "text": [
      "\n",
      "\u001b[2m\u001b[36m(pid=15611)\u001b[0m   type=str,\n"
     ]
    },
    {
     "name": "stdout",
     "output_type": "stream",
     "text": [
      "\u001b[2m\u001b[36m(pid=15612)\u001b[0m Loading Random Controllers E24.pth\n",
      "\u001b[2m\u001b[36m(pid=15618)\u001b[0m Loading Random Controllers E32.pth\n"
     ]
    },
    {
     "name": "stderr",
     "output_type": "stream",
     "text": [
      "\u001b[2m\u001b[36m(pid=15612)\u001b[0m /home/ec2-user/.local/lib/python3.6/site-packages/ray/workers/default_worker.py:58: RuntimeWarning: invalid value encountered in true_divide\n",
      "\u001b[2m\u001b[36m(pid=15612)\u001b[0m   type=str,\n",
      "\u001b[2m\u001b[36m(pid=15618)\u001b[0m /home/ec2-user/.local/lib/python3.6/site-packages/ray/workers/default_worker.py:58: RuntimeWarning: invalid value encountered in true_divide\n",
      "\u001b[2m\u001b[36m(pid=15618)\u001b[0m   type=str,\n",
      "\u001b[2m\u001b[36m(pid=15617)\u001b[0m /home/ec2-user/.local/lib/python3.6/site-packages/ray/workers/default_worker.py:58: RuntimeWarning: invalid value encountered in true_divide\n",
      "\u001b[2m\u001b[36m(pid=15617)\u001b[0m   type=str,\n"
     ]
    },
    {
     "name": "stdout",
     "output_type": "stream",
     "text": [
      "\u001b[2m\u001b[36m(pid=15617)\u001b[0m Loading Random Controllers E8.pth\n",
      "\u001b[2m\u001b[36m(pid=15622)\u001b[0m Loading Random Controllers E8.pth\n"
     ]
    },
    {
     "name": "stderr",
     "output_type": "stream",
     "text": [
      "\u001b[2m\u001b[36m(pid=15622)\u001b[0m /home/ec2-user/.local/lib/python3.6/site-packages/ray/workers/default_worker.py:58: RuntimeWarning: invalid value encountered in true_divide\n",
      "\u001b[2m\u001b[36m(pid=15622)\u001b[0m   type=str,\n"
     ]
    },
    {
     "name": "stdout",
     "output_type": "stream",
     "text": [
      "\u001b[2m\u001b[36m(pid=15625)\u001b[0m Loading Random Controllers E16.pth\n"
     ]
    },
    {
     "name": "stderr",
     "output_type": "stream",
     "text": [
      "\u001b[2m\u001b[36m(pid=15625)\u001b[0m /home/ec2-user/.local/lib/python3.6/site-packages/ray/workers/default_worker.py:58: RuntimeWarning: invalid value encountered in true_divide\n",
      "\u001b[2m\u001b[36m(pid=15625)\u001b[0m   type=str,\n"
     ]
    },
    {
     "name": "stdout",
     "output_type": "stream",
     "text": [
      "\u001b[2m\u001b[36m(pid=15623)\u001b[0m Loading Random Controllers E8.pth\n"
     ]
    },
    {
     "name": "stderr",
     "output_type": "stream",
     "text": [
      "\u001b[2m\u001b[36m(pid=15623)\u001b[0m /home/ec2-user/.local/lib/python3.6/site-packages/ray/workers/default_worker.py:58: RuntimeWarning: invalid value encountered in true_divide\n",
      "\u001b[2m\u001b[36m(pid=15623)\u001b[0m   type=str,\n"
     ]
    },
    {
     "name": "stdout",
     "output_type": "stream",
     "text": [
      "\u001b[2m\u001b[36m(pid=15613)\u001b[0m Loading Random Controllers E32.pth\n"
     ]
    },
    {
     "name": "stderr",
     "output_type": "stream",
     "text": [
      "\u001b[2m\u001b[36m(pid=15613)\u001b[0m /home/ec2-user/.local/lib/python3.6/site-packages/ray/workers/default_worker.py:58: RuntimeWarning: invalid value encountered in true_divide\n",
      "\u001b[2m\u001b[36m(pid=15613)\u001b[0m   type=str,\n"
     ]
    },
    {
     "name": "stdout",
     "output_type": "stream",
     "text": [
      "\u001b[2m\u001b[36m(pid=15610)\u001b[0m Loading Random Controllers E0.pth\n"
     ]
    },
    {
     "name": "stderr",
     "output_type": "stream",
     "text": [
      "\u001b[2m\u001b[36m(pid=15610)\u001b[0m /home/ec2-user/.local/lib/python3.6/site-packages/ray/workers/default_worker.py:58: RuntimeWarning: invalid value encountered in true_divide\n",
      "\u001b[2m\u001b[36m(pid=15610)\u001b[0m   type=str,\n"
     ]
    },
    {
     "name": "stdout",
     "output_type": "stream",
     "text": [
      "\u001b[2m\u001b[36m(pid=15615)\u001b[0m Loading Random Controllers E0.pth\n"
     ]
    },
    {
     "name": "stderr",
     "output_type": "stream",
     "text": [
      "\u001b[2m\u001b[36m(pid=15615)\u001b[0m /home/ec2-user/.local/lib/python3.6/site-packages/ray/workers/default_worker.py:58: RuntimeWarning: invalid value encountered in true_divide\n",
      "\u001b[2m\u001b[36m(pid=15615)\u001b[0m   type=str,\n"
     ]
    },
    {
     "name": "stdout",
     "output_type": "stream",
     "text": [
      "\u001b[2m\u001b[36m(pid=15619)\u001b[0m Loading Random Controllers E32.pth\n"
     ]
    },
    {
     "name": "stderr",
     "output_type": "stream",
     "text": [
      "\u001b[2m\u001b[36m(pid=15619)\u001b[0m /home/ec2-user/.local/lib/python3.6/site-packages/ray/workers/default_worker.py:58: RuntimeWarning: invalid value encountered in true_divide\n",
      "\u001b[2m\u001b[36m(pid=15619)\u001b[0m   type=str,\n"
     ]
    },
    {
     "name": "stdout",
     "output_type": "stream",
     "text": [
      "\u001b[2m\u001b[36m(pid=15614)\u001b[0m Game 68 White Won\n",
      "\u001b[2m\u001b[36m(pid=15616)\u001b[0m Game 65 Draw\n",
      "\u001b[2m\u001b[36m(pid=15616)\u001b[0m WARNING DELETING EXPERIENCES\n",
      "\u001b[2m\u001b[36m(pid=15618)\u001b[0m Game 71 Draw\n",
      "\u001b[2m\u001b[36m(pid=15618)\u001b[0m WARNING DELETING EXPERIENCES\n",
      "\u001b[2m\u001b[36m(pid=15619)\u001b[0m Game 79 Draw\n",
      "\u001b[2m\u001b[36m(pid=15619)\u001b[0m WARNING DELETING EXPERIENCES\n",
      "\u001b[2m\u001b[36m(pid=15623)\u001b[0m Game 75 Draw\n",
      "\u001b[2m\u001b[36m(pid=15623)\u001b[0m WARNING DELETING EXPERIENCES\n",
      "\u001b[2m\u001b[36m(pid=15621)\u001b[0m Game 64 Draw\n",
      "\u001b[2m\u001b[36m(pid=15621)\u001b[0m WARNING DELETING EXPERIENCES\n",
      "\u001b[2m\u001b[36m(pid=15611)\u001b[0m Game 69 Draw\n",
      "\u001b[2m\u001b[36m(pid=15611)\u001b[0m WARNING DELETING EXPERIENCES\n",
      "\u001b[2m\u001b[36m(pid=15615)\u001b[0m Game 78 Draw\n",
      "\u001b[2m\u001b[36m(pid=15615)\u001b[0m WARNING DELETING EXPERIENCES\n",
      "\u001b[2m\u001b[36m(pid=15625)\u001b[0m Game 74 Draw\n",
      "\u001b[2m\u001b[36m(pid=15625)\u001b[0m WARNING DELETING EXPERIENCES\n",
      "\u001b[2m\u001b[36m(pid=15620)\u001b[0m Game 67 Draw\n",
      "\u001b[2m\u001b[36m(pid=15620)\u001b[0m WARNING DELETING EXPERIENCES\n",
      "\u001b[2m\u001b[36m(pid=15617)\u001b[0m Game 72 Draw\n",
      "\u001b[2m\u001b[36m(pid=15617)\u001b[0m WARNING DELETING EXPERIENCES\n",
      "\u001b[2m\u001b[36m(pid=15624)\u001b[0m Game 66 Draw\n",
      "\u001b[2m\u001b[36m(pid=15624)\u001b[0m WARNING DELETING EXPERIENCES\n",
      "\u001b[2m\u001b[36m(pid=15622)\u001b[0m Game 73 Draw\n",
      "\u001b[2m\u001b[36m(pid=15622)\u001b[0m WARNING DELETING EXPERIENCES\n",
      "\u001b[2m\u001b[36m(pid=15613)\u001b[0m Game 76 Draw\n",
      "\u001b[2m\u001b[36m(pid=15613)\u001b[0m WARNING DELETING EXPERIENCES\n",
      "\u001b[2m\u001b[36m(pid=15612)\u001b[0m Game 70 Draw\n",
      "\u001b[2m\u001b[36m(pid=15612)\u001b[0m WARNING DELETING EXPERIENCES\n",
      "\u001b[2m\u001b[36m(pid=15610)\u001b[0m Game 77 Draw\n",
      "\u001b[2m\u001b[36m(pid=15610)\u001b[0m WARNING DELETING EXPERIENCES\n",
      "ACTOR LOSS 5560.970703125 | CRITIC LOSS 131.8673095703125\n",
      "SAVING\n",
      "ACTOR LOSS 5538.150390625 | CRITIC LOSS 131.3500518798828\n",
      "ACTOR LOSS 5559.57470703125 | CRITIC LOSS 123.59598541259766\n",
      "ACTOR LOSS 5381.69775390625 | CRITIC LOSS 130.7337646484375\n",
      "ACTOR LOSS 5518.99462890625 | CRITIC LOSS 129.27499389648438\n",
      "ACTOR LOSS 5596.7568359375 | CRITIC LOSS 133.3590850830078\n",
      "ACTOR LOSS 5624.4658203125 | CRITIC LOSS 125.3685302734375\n",
      "ACTOR LOSS 5472.376953125 | CRITIC LOSS 119.845703125\n",
      "ACTOR LOSS 5635.95849609375 | CRITIC LOSS 132.73269653320312\n",
      "SAVING\n",
      "ACTOR LOSS 5587.99462890625 | CRITIC LOSS 126.0702896118164\n",
      "\u001b[2m\u001b[36m(pid=15612)\u001b[0m Loading Random Controllers E0.pth\n"
     ]
    },
    {
     "name": "stderr",
     "output_type": "stream",
     "text": [
      "\u001b[2m\u001b[36m(pid=15612)\u001b[0m /home/ec2-user/.local/lib/python3.6/site-packages/ray/workers/default_worker.py:58: RuntimeWarning: invalid value encountered in true_divide\n",
      "\u001b[2m\u001b[36m(pid=15612)\u001b[0m   type=str,\n"
     ]
    },
    {
     "name": "stdout",
     "output_type": "stream",
     "text": [
      "\u001b[2m\u001b[36m(pid=15624)\u001b[0m Loading Random Controllers E16.pth\n"
     ]
    },
    {
     "name": "stderr",
     "output_type": "stream",
     "text": [
      "\u001b[2m\u001b[36m(pid=15624)\u001b[0m /home/ec2-user/.local/lib/python3.6/site-packages/ray/workers/default_worker.py:58: RuntimeWarning: invalid value encountered in true_divide\n",
      "\u001b[2m\u001b[36m(pid=15624)\u001b[0m   type=str,\n"
     ]
    },
    {
     "name": "stdout",
     "output_type": "stream",
     "text": [
      "\u001b[2m\u001b[36m(pid=15620)\u001b[0m Loading Random Controllers E0.pth\n"
     ]
    },
    {
     "name": "stderr",
     "output_type": "stream",
     "text": [
      "\u001b[2m\u001b[36m(pid=15620)\u001b[0m /home/ec2-user/.local/lib/python3.6/site-packages/ray/workers/default_worker.py:58: RuntimeWarning: invalid value encountered in true_divide\n",
      "\u001b[2m\u001b[36m(pid=15620)\u001b[0m   type=str,\n",
      "\u001b[2m\u001b[36m(pid=15622)\u001b[0m /home/ec2-user/.local/lib/python3.6/site-packages/ray/workers/default_worker.py:58: RuntimeWarning: invalid value encountered in true_divide\n",
      "\u001b[2m\u001b[36m(pid=15622)\u001b[0m   type=str,\n"
     ]
    },
    {
     "name": "stdout",
     "output_type": "stream",
     "text": [
      "\u001b[2m\u001b[36m(pid=15622)\u001b[0m Loading Random Controllers E24.pth\n",
      "\u001b[2m\u001b[36m(pid=15625)\u001b[0m Loading Random Controllers E32.pth\n"
     ]
    },
    {
     "name": "stderr",
     "output_type": "stream",
     "text": [
      "\u001b[2m\u001b[36m(pid=15625)\u001b[0m /home/ec2-user/.local/lib/python3.6/site-packages/ray/workers/default_worker.py:58: RuntimeWarning: invalid value encountered in true_divide\n",
      "\u001b[2m\u001b[36m(pid=15625)\u001b[0m   type=str,\n"
     ]
    },
    {
     "name": "stdout",
     "output_type": "stream",
     "text": [
      "\u001b[2m\u001b[36m(pid=15615)\u001b[0m Loading Random Controllers E32.pth\n"
     ]
    },
    {
     "name": "stderr",
     "output_type": "stream",
     "text": [
      "\u001b[2m\u001b[36m(pid=15615)\u001b[0m /home/ec2-user/.local/lib/python3.6/site-packages/ray/workers/default_worker.py:58: RuntimeWarning: invalid value encountered in true_divide\n",
      "\u001b[2m\u001b[36m(pid=15615)\u001b[0m   type=str,\n"
     ]
    },
    {
     "name": "stdout",
     "output_type": "stream",
     "text": [
      "\u001b[2m\u001b[36m(pid=15621)\u001b[0m Loading Random Controllers E48.pth\n"
     ]
    },
    {
     "name": "stderr",
     "output_type": "stream",
     "text": [
      "\u001b[2m\u001b[36m(pid=15621)\u001b[0m /home/ec2-user/.local/lib/python3.6/site-packages/ray/workers/default_worker.py:58: RuntimeWarning: invalid value encountered in true_divide\n",
      "\u001b[2m\u001b[36m(pid=15621)\u001b[0m   type=str,\n"
     ]
    },
    {
     "name": "stdout",
     "output_type": "stream",
     "text": [
      "\u001b[2m\u001b[36m(pid=15610)\u001b[0m Loading Random Controllers E0.pth\n"
     ]
    },
    {
     "name": "stderr",
     "output_type": "stream",
     "text": [
      "\u001b[2m\u001b[36m(pid=15610)\u001b[0m /home/ec2-user/.local/lib/python3.6/site-packages/ray/workers/default_worker.py:58: RuntimeWarning: invalid value encountered in true_divide\n",
      "\u001b[2m\u001b[36m(pid=15610)\u001b[0m   type=str,\n"
     ]
    },
    {
     "name": "stdout",
     "output_type": "stream",
     "text": [
      "\u001b[2m\u001b[36m(pid=15613)\u001b[0m Loading Random Controllers E16.pth\n"
     ]
    },
    {
     "name": "stderr",
     "output_type": "stream",
     "text": [
      "\u001b[2m\u001b[36m(pid=15613)\u001b[0m /home/ec2-user/.local/lib/python3.6/site-packages/ray/workers/default_worker.py:58: RuntimeWarning: invalid value encountered in true_divide\n",
      "\u001b[2m\u001b[36m(pid=15613)\u001b[0m   type=str,\n"
     ]
    },
    {
     "name": "stdout",
     "output_type": "stream",
     "text": [
      "\u001b[2m\u001b[36m(pid=15623)\u001b[0m Loading Random Controllers E24.pth\n"
     ]
    },
    {
     "name": "stderr",
     "output_type": "stream",
     "text": [
      "\u001b[2m\u001b[36m(pid=15623)\u001b[0m /home/ec2-user/.local/lib/python3.6/site-packages/ray/workers/default_worker.py:58: RuntimeWarning: invalid value encountered in true_divide\n",
      "\u001b[2m\u001b[36m(pid=15623)\u001b[0m   type=str,\n"
     ]
    },
    {
     "name": "stdout",
     "output_type": "stream",
     "text": [
      "\u001b[2m\u001b[36m(pid=15619)\u001b[0m Loading Random Controllers E40.pth\n"
     ]
    },
    {
     "name": "stderr",
     "output_type": "stream",
     "text": [
      "\u001b[2m\u001b[36m(pid=15619)\u001b[0m /home/ec2-user/.local/lib/python3.6/site-packages/ray/workers/default_worker.py:58: RuntimeWarning: invalid value encountered in true_divide\n",
      "\u001b[2m\u001b[36m(pid=15619)\u001b[0m   type=str,\n"
     ]
    },
    {
     "name": "stdout",
     "output_type": "stream",
     "text": [
      "\u001b[2m\u001b[36m(pid=15617)\u001b[0m Loading Random Controllers E24.pth\n"
     ]
    },
    {
     "name": "stderr",
     "output_type": "stream",
     "text": [
      "\u001b[2m\u001b[36m(pid=15617)\u001b[0m /home/ec2-user/.local/lib/python3.6/site-packages/ray/workers/default_worker.py:58: RuntimeWarning: invalid value encountered in true_divide\n",
      "\u001b[2m\u001b[36m(pid=15617)\u001b[0m   type=str,\n"
     ]
    },
    {
     "name": "stdout",
     "output_type": "stream",
     "text": [
      "\u001b[2m\u001b[36m(pid=15618)\u001b[0m Loading Random Controllers E32.pth\n"
     ]
    },
    {
     "name": "stderr",
     "output_type": "stream",
     "text": [
      "\u001b[2m\u001b[36m(pid=15618)\u001b[0m /home/ec2-user/.local/lib/python3.6/site-packages/ray/workers/default_worker.py:58: RuntimeWarning: invalid value encountered in true_divide\n",
      "\u001b[2m\u001b[36m(pid=15618)\u001b[0m   type=str,\n"
     ]
    },
    {
     "name": "stdout",
     "output_type": "stream",
     "text": [
      "\u001b[2m\u001b[36m(pid=15616)\u001b[0m Loading Random Controllers E40.pth\n"
     ]
    },
    {
     "name": "stderr",
     "output_type": "stream",
     "text": [
      "\u001b[2m\u001b[36m(pid=15616)\u001b[0m /home/ec2-user/.local/lib/python3.6/site-packages/ray/workers/default_worker.py:58: RuntimeWarning: invalid value encountered in true_divide\n",
      "\u001b[2m\u001b[36m(pid=15616)\u001b[0m   type=str,\n"
     ]
    },
    {
     "name": "stdout",
     "output_type": "stream",
     "text": [
      "\u001b[2m\u001b[36m(pid=15611)\u001b[0m Loading Random Controllers E0.pth\n"
     ]
    },
    {
     "name": "stderr",
     "output_type": "stream",
     "text": [
      "\u001b[2m\u001b[36m(pid=15611)\u001b[0m /home/ec2-user/.local/lib/python3.6/site-packages/ray/workers/default_worker.py:58: RuntimeWarning: invalid value encountered in true_divide\n",
      "\u001b[2m\u001b[36m(pid=15611)\u001b[0m   type=str,\n"
     ]
    },
    {
     "name": "stdout",
     "output_type": "stream",
     "text": [
      "\u001b[2m\u001b[36m(pid=15614)\u001b[0m Loading Random Controllers E16.pth\n"
     ]
    },
    {
     "name": "stderr",
     "output_type": "stream",
     "text": [
      "\u001b[2m\u001b[36m(pid=15614)\u001b[0m /home/ec2-user/.local/lib/python3.6/site-packages/ray/workers/default_worker.py:58: RuntimeWarning: invalid value encountered in true_divide\n",
      "\u001b[2m\u001b[36m(pid=15614)\u001b[0m   type=str,\n"
     ]
    },
    {
     "name": "stdout",
     "output_type": "stream",
     "text": [
      "\u001b[2m\u001b[36m(pid=15624)\u001b[0m Game 81 Draw\n",
      "\u001b[2m\u001b[36m(pid=15624)\u001b[0m WARNING DELETING EXPERIENCES\n",
      "\u001b[2m\u001b[36m(pid=15611)\u001b[0m Game 94 Draw\n",
      "\u001b[2m\u001b[36m(pid=15611)\u001b[0m WARNING DELETING EXPERIENCES\n",
      "\u001b[2m\u001b[36m(pid=15625)\u001b[0m Game 84 Draw\n",
      "\u001b[2m\u001b[36m(pid=15625)\u001b[0m WARNING DELETING EXPERIENCES\n",
      "\u001b[2m\u001b[36m(pid=15619)\u001b[0m Game 90 Draw\n",
      "\u001b[2m\u001b[36m(pid=15619)\u001b[0m WARNING DELETING EXPERIENCES\n",
      "\u001b[2m\u001b[36m(pid=15612)\u001b[0m Game 80 Draw\n",
      "\u001b[2m\u001b[36m(pid=15612)\u001b[0m WARNING DELETING EXPERIENCES\n",
      "\u001b[2m\u001b[36m(pid=15623)\u001b[0m Game 89 White Won\n",
      "\u001b[2m\u001b[36m(pid=15616)\u001b[0m Game 93 Draw\n",
      "\u001b[2m\u001b[36m(pid=15616)\u001b[0m WARNING DELETING EXPERIENCES\n",
      "\u001b[2m\u001b[36m(pid=15615)\u001b[0m Game 85 Draw\n",
      "\u001b[2m\u001b[36m(pid=15615)\u001b[0m WARNING DELETING EXPERIENCES\n",
      "\u001b[2m\u001b[36m(pid=15614)\u001b[0m Game 95 Draw\n",
      "\u001b[2m\u001b[36m(pid=15614)\u001b[0m WARNING DELETING EXPERIENCES\n",
      "\u001b[2m\u001b[36m(pid=15620)\u001b[0m Game 82 Draw\n",
      "\u001b[2m\u001b[36m(pid=15620)\u001b[0m WARNING DELETING EXPERIENCES\n",
      "\u001b[2m\u001b[36m(pid=15621)\u001b[0m Game 86 Draw\n",
      "\u001b[2m\u001b[36m(pid=15621)\u001b[0m WARNING DELETING EXPERIENCES\n",
      "\u001b[2m\u001b[36m(pid=15613)\u001b[0m Game 88 Draw\n",
      "\u001b[2m\u001b[36m(pid=15613)\u001b[0m WARNING DELETING EXPERIENCES\n",
      "\u001b[2m\u001b[36m(pid=15617)\u001b[0m Game 91 Draw\n",
      "\u001b[2m\u001b[36m(pid=15617)\u001b[0m WARNING DELETING EXPERIENCES\n",
      "\u001b[2m\u001b[36m(pid=15610)\u001b[0m Game 87 Draw\n",
      "\u001b[2m\u001b[36m(pid=15610)\u001b[0m WARNING DELETING EXPERIENCES\n",
      "\u001b[2m\u001b[36m(pid=15622)\u001b[0m Game 83 Draw\n",
      "\u001b[2m\u001b[36m(pid=15622)\u001b[0m WARNING DELETING EXPERIENCES\n",
      "\u001b[2m\u001b[36m(pid=15618)\u001b[0m Game 92 Draw\n",
      "\u001b[2m\u001b[36m(pid=15618)\u001b[0m WARNING DELETING EXPERIENCES\n",
      "ACTOR LOSS 5623.5986328125 | CRITIC LOSS 117.67747497558594\n",
      "ACTOR LOSS 5630.8095703125 | CRITIC LOSS 123.57868957519531\n",
      "ACTOR LOSS 5554.923828125 | CRITIC LOSS 124.70280456542969\n",
      "ACTOR LOSS 5663.6689453125 | CRITIC LOSS 128.26377868652344\n",
      "ACTOR LOSS 5676.61572265625 | CRITIC LOSS 123.9162368774414\n",
      "ACTOR LOSS 5714.724609375 | CRITIC LOSS 120.72895050048828\n",
      "ACTOR LOSS 5678.24267578125 | CRITIC LOSS 118.51959991455078\n",
      "SAVING\n",
      "ACTOR LOSS 5673.20166015625 | CRITIC LOSS 115.3834457397461\n",
      "ACTOR LOSS 5740.80859375 | CRITIC LOSS 116.56401062011719\n",
      "ACTOR LOSS 5869.03955078125 | CRITIC LOSS 112.8725357055664\n",
      "\u001b[2m\u001b[36m(pid=15618)\u001b[0m Loading Random Controllers E0.pth\n"
     ]
    },
    {
     "name": "stderr",
     "output_type": "stream",
     "text": [
      "\u001b[2m\u001b[36m(pid=15618)\u001b[0m /home/ec2-user/.local/lib/python3.6/site-packages/ray/workers/default_worker.py:58: RuntimeWarning: invalid value encountered in true_divide\n",
      "\u001b[2m\u001b[36m(pid=15618)\u001b[0m   type=str,\n"
     ]
    },
    {
     "name": "stdout",
     "output_type": "stream",
     "text": [
      "\u001b[2m\u001b[36m(pid=15617)\u001b[0m Loading Random Controllers E0.pth\n"
     ]
    },
    {
     "name": "stderr",
     "output_type": "stream",
     "text": [
      "\u001b[2m\u001b[36m(pid=15617)\u001b[0m /home/ec2-user/.local/lib/python3.6/site-packages/ray/workers/default_worker.py:58: RuntimeWarning: invalid value encountered in true_divide\n",
      "\u001b[2m\u001b[36m(pid=15617)\u001b[0m   type=str,\n"
     ]
    },
    {
     "name": "stdout",
     "output_type": "stream",
     "text": [
      "\u001b[2m\u001b[36m(pid=15621)\u001b[0m Loading Random Controllers E48.pth\n"
     ]
    },
    {
     "name": "stderr",
     "output_type": "stream",
     "text": [
      "\u001b[2m\u001b[36m(pid=15621)\u001b[0m /home/ec2-user/.local/lib/python3.6/site-packages/ray/workers/default_worker.py:58: RuntimeWarning: invalid value encountered in true_divide\n",
      "\u001b[2m\u001b[36m(pid=15621)\u001b[0m   type=str,\n",
      "\u001b[2m\u001b[36m(pid=15620)\u001b[0m /home/ec2-user/.local/lib/python3.6/site-packages/ray/workers/default_worker.py:58: RuntimeWarning: invalid value encountered in true_divide\n",
      "\u001b[2m\u001b[36m(pid=15620)\u001b[0m   type=str,\n"
     ]
    },
    {
     "name": "stdout",
     "output_type": "stream",
     "text": [
      "\u001b[2m\u001b[36m(pid=15620)\u001b[0m Loading Random Controllers E40.pth\n",
      "\u001b[2m\u001b[36m(pid=15615)\u001b[0m Loading Random Controllers E8.pth\n"
     ]
    },
    {
     "name": "stderr",
     "output_type": "stream",
     "text": [
      "\u001b[2m\u001b[36m(pid=15615)\u001b[0m /home/ec2-user/.local/lib/python3.6/site-packages/ray/workers/default_worker.py:58: RuntimeWarning: invalid value encountered in true_divide\n",
      "\u001b[2m\u001b[36m(pid=15615)\u001b[0m   type=str,\n"
     ]
    },
    {
     "name": "stdout",
     "output_type": "stream",
     "text": [
      "\u001b[2m\u001b[36m(pid=15616)\u001b[0m Loading Random Controllers E56.pth\n",
      "\u001b[2m\u001b[36m(pid=15610)\u001b[0m Loading Random Controllers E8.pth\n"
     ]
    },
    {
     "name": "stderr",
     "output_type": "stream",
     "text": [
      "\u001b[2m\u001b[36m(pid=15616)\u001b[0m /home/ec2-user/.local/lib/python3.6/site-packages/ray/workers/default_worker.py:58: RuntimeWarning: invalid value encountered in true_divide\n",
      "\u001b[2m\u001b[36m(pid=15616)\u001b[0m   type=str,\n",
      "\u001b[2m\u001b[36m(pid=15610)\u001b[0m /home/ec2-user/.local/lib/python3.6/site-packages/ray/workers/default_worker.py:58: RuntimeWarning: invalid value encountered in true_divide\n",
      "\u001b[2m\u001b[36m(pid=15610)\u001b[0m   type=str,\n"
     ]
    },
    {
     "name": "stdout",
     "output_type": "stream",
     "text": [
      "\u001b[2m\u001b[36m(pid=15613)\u001b[0m Loading Random Controllers E8.pth\n"
     ]
    },
    {
     "name": "stderr",
     "output_type": "stream",
     "text": [
      "\u001b[2m\u001b[36m(pid=15613)\u001b[0m /home/ec2-user/.local/lib/python3.6/site-packages/ray/workers/default_worker.py:58: RuntimeWarning: invalid value encountered in true_divide\n",
      "\u001b[2m\u001b[36m(pid=15613)\u001b[0m   type=str,\n"
     ]
    },
    {
     "name": "stdout",
     "output_type": "stream",
     "text": [
      "\u001b[2m\u001b[36m(pid=15623)\u001b[0m Loading Random Controllers E0.pth\n"
     ]
    },
    {
     "name": "stderr",
     "output_type": "stream",
     "text": [
      "\u001b[2m\u001b[36m(pid=15623)\u001b[0m /home/ec2-user/.local/lib/python3.6/site-packages/ray/workers/default_worker.py:58: RuntimeWarning: invalid value encountered in true_divide\n",
      "\u001b[2m\u001b[36m(pid=15623)\u001b[0m   type=str,\n"
     ]
    },
    {
     "name": "stdout",
     "output_type": "stream",
     "text": [
      "\u001b[2m\u001b[36m(pid=15612)\u001b[0m Loading Random Controllers E0.pth\n"
     ]
    },
    {
     "name": "stderr",
     "output_type": "stream",
     "text": [
      "\u001b[2m\u001b[36m(pid=15612)\u001b[0m /home/ec2-user/.local/lib/python3.6/site-packages/ray/workers/default_worker.py:58: RuntimeWarning: invalid value encountered in true_divide\n",
      "\u001b[2m\u001b[36m(pid=15612)\u001b[0m   type=str,\n"
     ]
    },
    {
     "name": "stdout",
     "output_type": "stream",
     "text": [
      "\u001b[2m\u001b[36m(pid=15619)\u001b[0m Loading Random Controllers E48.pth\n"
     ]
    },
    {
     "name": "stderr",
     "output_type": "stream",
     "text": [
      "\u001b[2m\u001b[36m(pid=15619)\u001b[0m /home/ec2-user/.local/lib/python3.6/site-packages/ray/workers/default_worker.py:58: RuntimeWarning: invalid value encountered in true_divide\n",
      "\u001b[2m\u001b[36m(pid=15619)\u001b[0m   type=str,\n"
     ]
    },
    {
     "name": "stdout",
     "output_type": "stream",
     "text": [
      "\u001b[2m\u001b[36m(pid=15622)\u001b[0m Loading Random Controllers E56.pth\n"
     ]
    },
    {
     "name": "stderr",
     "output_type": "stream",
     "text": [
      "\u001b[2m\u001b[36m(pid=15622)\u001b[0m /home/ec2-user/.local/lib/python3.6/site-packages/ray/workers/default_worker.py:58: RuntimeWarning: invalid value encountered in true_divide\n",
      "\u001b[2m\u001b[36m(pid=15622)\u001b[0m   type=str,\n"
     ]
    },
    {
     "name": "stdout",
     "output_type": "stream",
     "text": [
      "\u001b[2m\u001b[36m(pid=15625)\u001b[0m Loading Random Controllers E0.pth\n"
     ]
    },
    {
     "name": "stderr",
     "output_type": "stream",
     "text": [
      "\u001b[2m\u001b[36m(pid=15625)\u001b[0m /home/ec2-user/.local/lib/python3.6/site-packages/ray/workers/default_worker.py:58: RuntimeWarning: invalid value encountered in true_divide\n",
      "\u001b[2m\u001b[36m(pid=15625)\u001b[0m   type=str,\n"
     ]
    },
    {
     "name": "stdout",
     "output_type": "stream",
     "text": [
      "\u001b[2m\u001b[36m(pid=15614)\u001b[0m Loading Random Controllers E48.pth\n"
     ]
    },
    {
     "name": "stderr",
     "output_type": "stream",
     "text": [
      "\u001b[2m\u001b[36m(pid=15614)\u001b[0m /home/ec2-user/.local/lib/python3.6/site-packages/ray/workers/default_worker.py:58: RuntimeWarning: invalid value encountered in true_divide\n",
      "\u001b[2m\u001b[36m(pid=15614)\u001b[0m   type=str,\n"
     ]
    },
    {
     "name": "stdout",
     "output_type": "stream",
     "text": [
      "\u001b[2m\u001b[36m(pid=15611)\u001b[0m Loading Random Controllers E8.pth\n"
     ]
    },
    {
     "name": "stderr",
     "output_type": "stream",
     "text": [
      "\u001b[2m\u001b[36m(pid=15611)\u001b[0m /home/ec2-user/.local/lib/python3.6/site-packages/ray/workers/default_worker.py:58: RuntimeWarning: invalid value encountered in true_divide\n",
      "\u001b[2m\u001b[36m(pid=15611)\u001b[0m   type=str,\n"
     ]
    },
    {
     "name": "stdout",
     "output_type": "stream",
     "text": [
      "\u001b[2m\u001b[36m(pid=15624)\u001b[0m Loading Random Controllers E24.pth\n"
     ]
    },
    {
     "name": "stderr",
     "output_type": "stream",
     "text": [
      "\u001b[2m\u001b[36m(pid=15624)\u001b[0m /home/ec2-user/.local/lib/python3.6/site-packages/ray/workers/default_worker.py:58: RuntimeWarning: invalid value encountered in true_divide\n",
      "\u001b[2m\u001b[36m(pid=15624)\u001b[0m   type=str,\n"
     ]
    },
    {
     "name": "stdout",
     "output_type": "stream",
     "text": [
      "\u001b[2m\u001b[36m(pid=15616)\u001b[0m Game 101 White Won\n",
      "\u001b[2m\u001b[36m(pid=15618)\u001b[0m Game 96 White Loss\n",
      "\u001b[2m\u001b[36m(pid=15610)\u001b[0m Game 102 Draw\n",
      "\u001b[2m\u001b[36m(pid=15610)\u001b[0m WARNING DELETING EXPERIENCES\n",
      "\u001b[2m\u001b[36m(pid=15614)\u001b[0m Game 109 Draw\n",
      "\u001b[2m\u001b[36m(pid=15614)\u001b[0m WARNING DELETING EXPERIENCES\n",
      "\u001b[2m\u001b[36m(pid=15623)\u001b[0m Game 104 Draw\n",
      "\u001b[2m\u001b[36m(pid=15623)\u001b[0m WARNING DELETING EXPERIENCES\n",
      "\u001b[2m\u001b[36m(pid=15622)\u001b[0m Game 107 Draw\n",
      "\u001b[2m\u001b[36m(pid=15622)\u001b[0m WARNING DELETING EXPERIENCES\n",
      "\u001b[2m\u001b[36m(pid=15625)\u001b[0m Game 108 Draw\n",
      "\u001b[2m\u001b[36m(pid=15625)\u001b[0m WARNING DELETING EXPERIENCES\n",
      "\u001b[2m\u001b[36m(pid=15620)\u001b[0m Game 99 Draw\n",
      "\u001b[2m\u001b[36m(pid=15620)\u001b[0m WARNING DELETING EXPERIENCES\n",
      "\u001b[2m\u001b[36m(pid=15619)\u001b[0m Game 106 Draw\n",
      "\u001b[2m\u001b[36m(pid=15619)\u001b[0m WARNING DELETING EXPERIENCES\n",
      "\u001b[2m\u001b[36m(pid=15615)\u001b[0m Game 100 Draw\n",
      "\u001b[2m\u001b[36m(pid=15615)\u001b[0m WARNING DELETING EXPERIENCES\n",
      "\u001b[2m\u001b[36m(pid=15611)\u001b[0m Game 110 Draw\n",
      "\u001b[2m\u001b[36m(pid=15611)\u001b[0m WARNING DELETING EXPERIENCES\n",
      "\u001b[2m\u001b[36m(pid=15612)\u001b[0m Game 105 Draw\n",
      "\u001b[2m\u001b[36m(pid=15612)\u001b[0m WARNING DELETING EXPERIENCES\n",
      "\u001b[2m\u001b[36m(pid=15624)\u001b[0m Game 111 Draw\n",
      "\u001b[2m\u001b[36m(pid=15624)\u001b[0m WARNING DELETING EXPERIENCES\n",
      "\u001b[2m\u001b[36m(pid=15621)\u001b[0m Game 98 Draw\n",
      "\u001b[2m\u001b[36m(pid=15621)\u001b[0m WARNING DELETING EXPERIENCES\n",
      "\u001b[2m\u001b[36m(pid=15613)\u001b[0m Game 103 Draw\n",
      "\u001b[2m\u001b[36m(pid=15613)\u001b[0m WARNING DELETING EXPERIENCES\n",
      "\u001b[2m\u001b[36m(pid=15617)\u001b[0m Game 97 Draw\n",
      "\u001b[2m\u001b[36m(pid=15617)\u001b[0m WARNING DELETING EXPERIENCES\n",
      "ACTOR LOSS 5735.3896484375 | CRITIC LOSS 111.93034362792969\n",
      "ACTOR LOSS 5738.63720703125 | CRITIC LOSS 114.18128967285156\n",
      "ACTOR LOSS 5796.2861328125 | CRITIC LOSS 109.8056411743164\n",
      "ACTOR LOSS 5794.521484375 | CRITIC LOSS 113.02580261230469\n",
      "ACTOR LOSS 5807.2509765625 | CRITIC LOSS 114.62320709228516\n",
      "SAVING\n",
      "ACTOR LOSS 5765.90234375 | CRITIC LOSS 110.18402862548828\n",
      "ACTOR LOSS 5771.9453125 | CRITIC LOSS 113.03093719482422\n",
      "ACTOR LOSS 5718.20166015625 | CRITIC LOSS 103.76038360595703\n",
      "ACTOR LOSS 5714.833984375 | CRITIC LOSS 102.33769989013672\n",
      "ACTOR LOSS 5858.4296875 | CRITIC LOSS 108.85466003417969\n"
     ]
    },
    {
     "name": "stderr",
     "output_type": "stream",
     "text": [
      "\u001b[2m\u001b[36m(pid=15621)\u001b[0m /home/ec2-user/.local/lib/python3.6/site-packages/ray/workers/default_worker.py:58: RuntimeWarning: invalid value encountered in true_divide\n",
      "\u001b[2m\u001b[36m(pid=15621)\u001b[0m   type=str,\n"
     ]
    },
    {
     "name": "stdout",
     "output_type": "stream",
     "text": [
      "\u001b[2m\u001b[36m(pid=15621)\u001b[0m Loading Random Controllers E48.pth\n",
      "\u001b[2m\u001b[36m(pid=15624)\u001b[0m Loading Random Controllers E40.pth\n"
     ]
    },
    {
     "name": "stderr",
     "output_type": "stream",
     "text": [
      "\u001b[2m\u001b[36m(pid=15624)\u001b[0m /home/ec2-user/.local/lib/python3.6/site-packages/ray/workers/default_worker.py:58: RuntimeWarning: invalid value encountered in true_divide\n",
      "\u001b[2m\u001b[36m(pid=15624)\u001b[0m   type=str,\n"
     ]
    },
    {
     "name": "stdout",
     "output_type": "stream",
     "text": [
      "\u001b[2m\u001b[36m(pid=15612)\u001b[0m Loading Random Controllers E40.pth\n"
     ]
    },
    {
     "name": "stderr",
     "output_type": "stream",
     "text": [
      "\u001b[2m\u001b[36m(pid=15612)\u001b[0m /home/ec2-user/.local/lib/python3.6/site-packages/ray/workers/default_worker.py:58: RuntimeWarning: invalid value encountered in true_divide\n",
      "\u001b[2m\u001b[36m(pid=15612)\u001b[0m   type=str,\n"
     ]
    },
    {
     "name": "stdout",
     "output_type": "stream",
     "text": [
      "\u001b[2m\u001b[36m(pid=15615)\u001b[0m Loading Random Controllers E24.pth\n"
     ]
    },
    {
     "name": "stderr",
     "output_type": "stream",
     "text": [
      "\u001b[2m\u001b[36m(pid=15615)\u001b[0m /home/ec2-user/.local/lib/python3.6/site-packages/ray/workers/default_worker.py:58: RuntimeWarning: invalid value encountered in true_divide\n",
      "\u001b[2m\u001b[36m(pid=15615)\u001b[0m   type=str,\n"
     ]
    },
    {
     "name": "stdout",
     "output_type": "stream",
     "text": [
      "\u001b[2m\u001b[36m(pid=15619)\u001b[0m Loading Random Controllers E0.pth\n"
     ]
    },
    {
     "name": "stderr",
     "output_type": "stream",
     "text": [
      "\u001b[2m\u001b[36m(pid=15619)\u001b[0m /home/ec2-user/.local/lib/python3.6/site-packages/ray/workers/default_worker.py:58: RuntimeWarning: invalid value encountered in true_divide\n",
      "\u001b[2m\u001b[36m(pid=15619)\u001b[0m   type=str,\n"
     ]
    },
    {
     "name": "stdout",
     "output_type": "stream",
     "text": [
      "\u001b[2m\u001b[36m(pid=15620)\u001b[0m Loading Random Controllers E48.pth\n"
     ]
    },
    {
     "name": "stderr",
     "output_type": "stream",
     "text": [
      "\u001b[2m\u001b[36m(pid=15620)\u001b[0m /home/ec2-user/.local/lib/python3.6/site-packages/ray/workers/default_worker.py:58: RuntimeWarning: invalid value encountered in true_divide\n",
      "\u001b[2m\u001b[36m(pid=15620)\u001b[0m   type=str,\n"
     ]
    },
    {
     "name": "stdout",
     "output_type": "stream",
     "text": [
      "\u001b[2m\u001b[36m(pid=15625)\u001b[0m Loading Random Controllers E64.pth\n"
     ]
    },
    {
     "name": "stderr",
     "output_type": "stream",
     "text": [
      "\u001b[2m\u001b[36m(pid=15625)\u001b[0m /home/ec2-user/.local/lib/python3.6/site-packages/ray/workers/default_worker.py:58: RuntimeWarning: invalid value encountered in true_divide\n",
      "\u001b[2m\u001b[36m(pid=15625)\u001b[0m   type=str,\n"
     ]
    },
    {
     "name": "stdout",
     "output_type": "stream",
     "text": [
      "\u001b[2m\u001b[36m(pid=15622)\u001b[0m Loading Random Controllers E48.pth\n"
     ]
    },
    {
     "name": "stderr",
     "output_type": "stream",
     "text": [
      "\u001b[2m\u001b[36m(pid=15622)\u001b[0m /home/ec2-user/.local/lib/python3.6/site-packages/ray/workers/default_worker.py:58: RuntimeWarning: invalid value encountered in true_divide\n",
      "\u001b[2m\u001b[36m(pid=15622)\u001b[0m   type=str,\n"
     ]
    },
    {
     "name": "stdout",
     "output_type": "stream",
     "text": [
      "\u001b[2m\u001b[36m(pid=15611)\u001b[0m Loading Random Controllers E56.pth\n"
     ]
    },
    {
     "name": "stderr",
     "output_type": "stream",
     "text": [
      "\u001b[2m\u001b[36m(pid=15611)\u001b[0m /home/ec2-user/.local/lib/python3.6/site-packages/ray/workers/default_worker.py:58: RuntimeWarning: invalid value encountered in true_divide\n",
      "\u001b[2m\u001b[36m(pid=15611)\u001b[0m   type=str,\n"
     ]
    },
    {
     "name": "stdout",
     "output_type": "stream",
     "text": [
      "\u001b[2m\u001b[36m(pid=15614)\u001b[0m Loading Random Controllers E0.pth\n"
     ]
    },
    {
     "name": "stderr",
     "output_type": "stream",
     "text": [
      "\u001b[2m\u001b[36m(pid=15614)\u001b[0m /home/ec2-user/.local/lib/python3.6/site-packages/ray/workers/default_worker.py:58: RuntimeWarning: invalid value encountered in true_divide\n",
      "\u001b[2m\u001b[36m(pid=15614)\u001b[0m   type=str,\n"
     ]
    },
    {
     "name": "stdout",
     "output_type": "stream",
     "text": [
      "\u001b[2m\u001b[36m(pid=15613)\u001b[0m Loading Random Controllers E8.pth\n"
     ]
    },
    {
     "name": "stderr",
     "output_type": "stream",
     "text": [
      "\u001b[2m\u001b[36m(pid=15613)\u001b[0m /home/ec2-user/.local/lib/python3.6/site-packages/ray/workers/default_worker.py:58: RuntimeWarning: invalid value encountered in true_divide\n",
      "\u001b[2m\u001b[36m(pid=15613)\u001b[0m   type=str,\n"
     ]
    },
    {
     "name": "stdout",
     "output_type": "stream",
     "text": [
      "\u001b[2m\u001b[36m(pid=15623)\u001b[0m Loading Random Controllers E64.pth\n"
     ]
    },
    {
     "name": "stderr",
     "output_type": "stream",
     "text": [
      "\u001b[2m\u001b[36m(pid=15623)\u001b[0m /home/ec2-user/.local/lib/python3.6/site-packages/ray/workers/default_worker.py:58: RuntimeWarning: invalid value encountered in true_divide\n",
      "\u001b[2m\u001b[36m(pid=15623)\u001b[0m   type=str,\n"
     ]
    },
    {
     "name": "stdout",
     "output_type": "stream",
     "text": [
      "\u001b[2m\u001b[36m(pid=15610)\u001b[0m Loading Random Controllers E24.pth\n"
     ]
    },
    {
     "name": "stderr",
     "output_type": "stream",
     "text": [
      "\u001b[2m\u001b[36m(pid=15610)\u001b[0m /home/ec2-user/.local/lib/python3.6/site-packages/ray/workers/default_worker.py:58: RuntimeWarning: invalid value encountered in true_divide\n",
      "\u001b[2m\u001b[36m(pid=15610)\u001b[0m   type=str,\n",
      "\u001b[2m\u001b[36m(pid=15617)\u001b[0m /home/ec2-user/.local/lib/python3.6/site-packages/ray/workers/default_worker.py:58: RuntimeWarning: invalid value encountered in true_divide\n",
      "\u001b[2m\u001b[36m(pid=15617)\u001b[0m   type=str,\n"
     ]
    },
    {
     "name": "stdout",
     "output_type": "stream",
     "text": [
      "\u001b[2m\u001b[36m(pid=15617)\u001b[0m Loading Random Controllers E16.pth\n",
      "\u001b[2m\u001b[36m(pid=15618)\u001b[0m Loading Random Controllers E8.pth\n"
     ]
    },
    {
     "name": "stderr",
     "output_type": "stream",
     "text": [
      "\u001b[2m\u001b[36m(pid=15618)\u001b[0m /home/ec2-user/.local/lib/python3.6/site-packages/ray/workers/default_worker.py:58: RuntimeWarning: invalid value encountered in true_divide\n",
      "\u001b[2m\u001b[36m(pid=15618)\u001b[0m   type=str,\n"
     ]
    },
    {
     "name": "stdout",
     "output_type": "stream",
     "text": [
      "\u001b[2m\u001b[36m(pid=15616)\u001b[0m Loading Random Controllers E24.pth\n"
     ]
    },
    {
     "name": "stderr",
     "output_type": "stream",
     "text": [
      "\u001b[2m\u001b[36m(pid=15616)\u001b[0m /home/ec2-user/.local/lib/python3.6/site-packages/ray/workers/default_worker.py:58: RuntimeWarning: invalid value encountered in true_divide\n",
      "\u001b[2m\u001b[36m(pid=15616)\u001b[0m   type=str,\n"
     ]
    },
    {
     "name": "stdout",
     "output_type": "stream",
     "text": [
      "\u001b[2m\u001b[36m(pid=15610)\u001b[0m Game 124 White Loss\n",
      "\u001b[2m\u001b[36m(pid=15619)\u001b[0m Game 116 Draw\n",
      "\u001b[2m\u001b[36m(pid=15619)\u001b[0m WARNING DELETING EXPERIENCES\n",
      "\u001b[2m\u001b[36m(pid=15616)\u001b[0m Game 127 Draw\n",
      "\u001b[2m\u001b[36m(pid=15616)\u001b[0m WARNING DELETING EXPERIENCES\n",
      "\u001b[2m\u001b[36m(pid=15625)\u001b[0m Game 118 Draw\n",
      "\u001b[2m\u001b[36m(pid=15625)\u001b[0m WARNING DELETING EXPERIENCES\n",
      "\u001b[2m\u001b[36m(pid=15615)\u001b[0m Game 115 Draw\n",
      "\u001b[2m\u001b[36m(pid=15615)\u001b[0m WARNING DELETING EXPERIENCES\n",
      "\u001b[2m\u001b[36m(pid=15617)\u001b[0m Game 125 Draw\n",
      "\u001b[2m\u001b[36m(pid=15617)\u001b[0m WARNING DELETING EXPERIENCES\n",
      "\u001b[2m\u001b[36m(pid=15614)\u001b[0m Game 121 Draw\n",
      "\u001b[2m\u001b[36m(pid=15614)\u001b[0m WARNING DELETING EXPERIENCES\n",
      "\u001b[2m\u001b[36m(pid=15613)\u001b[0m Game 122 Draw\n",
      "\u001b[2m\u001b[36m(pid=15613)\u001b[0m WARNING DELETING EXPERIENCES\n",
      "\u001b[2m\u001b[36m(pid=15624)\u001b[0m Game 113 Draw\n",
      "\u001b[2m\u001b[36m(pid=15624)\u001b[0m WARNING DELETING EXPERIENCES\n",
      "\u001b[2m\u001b[36m(pid=15621)\u001b[0m Game 112 Draw\n",
      "\u001b[2m\u001b[36m(pid=15621)\u001b[0m WARNING DELETING EXPERIENCES\n",
      "\u001b[2m\u001b[36m(pid=15623)\u001b[0m Game 123 Draw\n",
      "\u001b[2m\u001b[36m(pid=15623)\u001b[0m WARNING DELETING EXPERIENCES\n",
      "\u001b[2m\u001b[36m(pid=15622)\u001b[0m Game 119 Draw\n",
      "\u001b[2m\u001b[36m(pid=15622)\u001b[0m WARNING DELETING EXPERIENCES\n",
      "\u001b[2m\u001b[36m(pid=15611)\u001b[0m Game 120 Draw\n",
      "\u001b[2m\u001b[36m(pid=15611)\u001b[0m WARNING DELETING EXPERIENCES\n",
      "\u001b[2m\u001b[36m(pid=15612)\u001b[0m Game 114 Draw\n",
      "\u001b[2m\u001b[36m(pid=15612)\u001b[0m WARNING DELETING EXPERIENCES\n",
      "\u001b[2m\u001b[36m(pid=15620)\u001b[0m Game 117 Draw\n",
      "\u001b[2m\u001b[36m(pid=15620)\u001b[0m WARNING DELETING EXPERIENCES\n",
      "\u001b[2m\u001b[36m(pid=15618)\u001b[0m Game 126 Draw\n",
      "\u001b[2m\u001b[36m(pid=15618)\u001b[0m WARNING DELETING EXPERIENCES\n",
      "ACTOR LOSS 5626.4619140625 | CRITIC LOSS 100.57938385009766\n",
      "ACTOR LOSS 5765.65380859375 | CRITIC LOSS 106.46314239501953\n",
      "ACTOR LOSS 5730.748046875 | CRITIC LOSS 99.78298950195312\n",
      "SAVING\n",
      "ACTOR LOSS 5671.44580078125 | CRITIC LOSS 105.59852600097656\n",
      "ACTOR LOSS 5745.763671875 | CRITIC LOSS 98.08659362792969\n",
      "ACTOR LOSS 5742.37255859375 | CRITIC LOSS 94.97450256347656\n",
      "ACTOR LOSS 5819.8759765625 | CRITIC LOSS 98.7466812133789\n",
      "ACTOR LOSS 5761.7138671875 | CRITIC LOSS 97.38324737548828\n",
      "ACTOR LOSS 5760.33984375 | CRITIC LOSS 98.75627899169922\n",
      "ACTOR LOSS 5869.173828125 | CRITIC LOSS 95.94288635253906\n",
      "\u001b[2m\u001b[36m(pid=15620)\u001b[0m Loading Random Controllers E0.pth\n"
     ]
    },
    {
     "name": "stderr",
     "output_type": "stream",
     "text": [
      "\u001b[2m\u001b[36m(pid=15620)\u001b[0m /home/ec2-user/.local/lib/python3.6/site-packages/ray/workers/default_worker.py:58: RuntimeWarning: invalid value encountered in true_divide\n",
      "\u001b[2m\u001b[36m(pid=15620)\u001b[0m   type=str,\n"
     ]
    },
    {
     "name": "stdout",
     "output_type": "stream",
     "text": [
      "\u001b[2m\u001b[36m(pid=15612)\u001b[0m Loading Random Controllers E72.pth\n",
      "\u001b[2m\u001b[36m(pid=15621)\u001b[0m Loading Random Controllers E24.pth\n"
     ]
    },
    {
     "name": "stderr",
     "output_type": "stream",
     "text": [
      "\u001b[2m\u001b[36m(pid=15612)\u001b[0m /home/ec2-user/.local/lib/python3.6/site-packages/ray/workers/default_worker.py:58: RuntimeWarning: invalid value encountered in true_divide\n",
      "\u001b[2m\u001b[36m(pid=15612)\u001b[0m   type=str,\n"
     ]
    },
    {
     "name": "stdout",
     "output_type": "stream",
     "text": [
      "\u001b[2m\u001b[36m(pid=15624)\u001b[0m Loading Random Controllers E64.pth\n"
     ]
    },
    {
     "name": "stderr",
     "output_type": "stream",
     "text": [
      "\u001b[2m\u001b[36m(pid=15621)\u001b[0m /home/ec2-user/.local/lib/python3.6/site-packages/ray/workers/default_worker.py:58: RuntimeWarning: invalid value encountered in true_divide\n",
      "\u001b[2m\u001b[36m(pid=15621)\u001b[0m   type=str,\n",
      "\u001b[2m\u001b[36m(pid=15624)\u001b[0m /home/ec2-user/.local/lib/python3.6/site-packages/ray/workers/default_worker.py:58: RuntimeWarning: invalid value encountered in true_divide\n",
      "\u001b[2m\u001b[36m(pid=15624)\u001b[0m   type=str,\n"
     ]
    },
    {
     "name": "stdout",
     "output_type": "stream",
     "text": [
      "\u001b[2m\u001b[36m(pid=15611)\u001b[0m Loading Random Controllers E48.pth\n",
      "\u001b[2m\u001b[36m(pid=15614)\u001b[0m Loading Random Controllers E24.pth\n"
     ]
    },
    {
     "name": "stderr",
     "output_type": "stream",
     "text": [
      "\u001b[2m\u001b[36m(pid=15611)\u001b[0m /home/ec2-user/.local/lib/python3.6/site-packages/ray/workers/default_worker.py:58: RuntimeWarning: invalid value encountered in true_divide\n",
      "\u001b[2m\u001b[36m(pid=15611)\u001b[0m   type=str,\n"
     ]
    },
    {
     "name": "stdout",
     "output_type": "stream",
     "text": [
      "\u001b[2m\u001b[36m(pid=15618)\u001b[0m Loading Random Controllers E48.pth\n"
     ]
    },
    {
     "name": "stderr",
     "output_type": "stream",
     "text": [
      "\u001b[2m\u001b[36m(pid=15614)\u001b[0m /home/ec2-user/.local/lib/python3.6/site-packages/ray/workers/default_worker.py:58: RuntimeWarning: invalid value encountered in true_divide\n",
      "\u001b[2m\u001b[36m(pid=15614)\u001b[0m   type=str,\n"
     ]
    },
    {
     "name": "stdout",
     "output_type": "stream",
     "text": [
      "\u001b[2m\u001b[36m(pid=15617)\u001b[0m Loading Random Controllers E72.pth\n"
     ]
    },
    {
     "name": "stderr",
     "output_type": "stream",
     "text": [
      "\u001b[2m\u001b[36m(pid=15618)\u001b[0m /home/ec2-user/.local/lib/python3.6/site-packages/ray/workers/default_worker.py:58: RuntimeWarning: invalid value encountered in true_divide\n",
      "\u001b[2m\u001b[36m(pid=15618)\u001b[0m   type=str,\n"
     ]
    },
    {
     "name": "stdout",
     "output_type": "stream",
     "text": [
      "\u001b[2m\u001b[36m(pid=15615)\u001b[0m Loading Random Controllers E16.pth\n"
     ]
    },
    {
     "name": "stderr",
     "output_type": "stream",
     "text": [
      "\u001b[2m\u001b[36m(pid=15617)\u001b[0m /home/ec2-user/.local/lib/python3.6/site-packages/ray/workers/default_worker.py:58: RuntimeWarning: invalid value encountered in true_divide\n",
      "\u001b[2m\u001b[36m(pid=15617)\u001b[0m   type=str,\n"
     ]
    },
    {
     "name": "stdout",
     "output_type": "stream",
     "text": [
      "\u001b[2m\u001b[36m(pid=15622)\u001b[0m Loading Random Controllers E8.pth\n"
     ]
    },
    {
     "name": "stderr",
     "output_type": "stream",
     "text": [
      "\u001b[2m\u001b[36m(pid=15615)\u001b[0m /home/ec2-user/.local/lib/python3.6/site-packages/ray/workers/default_worker.py:58: RuntimeWarning: invalid value encountered in true_divide\n",
      "\u001b[2m\u001b[36m(pid=15615)\u001b[0m   type=str,\n"
     ]
    },
    {
     "name": "stdout",
     "output_type": "stream",
     "text": [
      "\u001b[2m\u001b[36m(pid=15625)\u001b[0m Loading Random Controllers E0.pth\n"
     ]
    },
    {
     "name": "stderr",
     "output_type": "stream",
     "text": [
      "\u001b[2m\u001b[36m(pid=15622)\u001b[0m /home/ec2-user/.local/lib/python3.6/site-packages/ray/workers/default_worker.py:58: RuntimeWarning: invalid value encountered in true_divide\n",
      "\u001b[2m\u001b[36m(pid=15622)\u001b[0m   type=str,\n"
     ]
    },
    {
     "name": "stdout",
     "output_type": "stream",
     "text": [
      "\u001b[2m\u001b[36m(pid=15616)\u001b[0m Loading Random Controllers E56.pth\n",
      "\u001b[2m\u001b[36m(pid=15619)\u001b[0m Loading Random Controllers E32.pth\n"
     ]
    },
    {
     "name": "stderr",
     "output_type": "stream",
     "text": [
      "\u001b[2m\u001b[36m(pid=15625)\u001b[0m /home/ec2-user/.local/lib/python3.6/site-packages/ray/workers/default_worker.py:58: RuntimeWarning: invalid value encountered in true_divide\n",
      "\u001b[2m\u001b[36m(pid=15625)\u001b[0m   type=str,\n",
      "\u001b[2m\u001b[36m(pid=15616)\u001b[0m /home/ec2-user/.local/lib/python3.6/site-packages/ray/workers/default_worker.py:58: RuntimeWarning: invalid value encountered in true_divide\n",
      "\u001b[2m\u001b[36m(pid=15616)\u001b[0m   type=str,\n"
     ]
    },
    {
     "name": "stdout",
     "output_type": "stream",
     "text": [
      "\u001b[2m\u001b[36m(pid=15623)\u001b[0m Loading Random Controllers E32.pth\n"
     ]
    },
    {
     "name": "stderr",
     "output_type": "stream",
     "text": [
      "\u001b[2m\u001b[36m(pid=15619)\u001b[0m /home/ec2-user/.local/lib/python3.6/site-packages/ray/workers/default_worker.py:58: RuntimeWarning: invalid value encountered in true_divide\n",
      "\u001b[2m\u001b[36m(pid=15619)\u001b[0m   type=str,\n"
     ]
    },
    {
     "name": "stdout",
     "output_type": "stream",
     "text": [
      "\u001b[2m\u001b[36m(pid=15613)\u001b[0m Loading Random Controllers E24.pth\n"
     ]
    },
    {
     "name": "stderr",
     "output_type": "stream",
     "text": [
      "\u001b[2m\u001b[36m(pid=15623)\u001b[0m /home/ec2-user/.local/lib/python3.6/site-packages/ray/workers/default_worker.py:58: RuntimeWarning: invalid value encountered in true_divide\n",
      "\u001b[2m\u001b[36m(pid=15623)\u001b[0m   type=str,\n"
     ]
    },
    {
     "name": "stdout",
     "output_type": "stream",
     "text": [
      "\u001b[2m\u001b[36m(pid=15610)\u001b[0m Loading Random Controllers E56.pth\n"
     ]
    },
    {
     "name": "stderr",
     "output_type": "stream",
     "text": [
      "\u001b[2m\u001b[36m(pid=15613)\u001b[0m /home/ec2-user/.local/lib/python3.6/site-packages/ray/workers/default_worker.py:58: RuntimeWarning: invalid value encountered in true_divide\n",
      "\u001b[2m\u001b[36m(pid=15613)\u001b[0m   type=str,\n",
      "\u001b[2m\u001b[36m(pid=15610)\u001b[0m /home/ec2-user/.local/lib/python3.6/site-packages/ray/workers/default_worker.py:58: RuntimeWarning: invalid value encountered in true_divide\n",
      "\u001b[2m\u001b[36m(pid=15610)\u001b[0m   type=str,\n"
     ]
    },
    {
     "name": "stdout",
     "output_type": "stream",
     "text": [
      "\u001b[2m\u001b[36m(pid=15623)\u001b[0m Game 141 White Loss\n",
      "\u001b[2m\u001b[36m(pid=15613)\u001b[0m Game 142 Draw\n",
      "\u001b[2m\u001b[36m(pid=15613)\u001b[0m WARNING DELETING EXPERIENCES\n",
      "\u001b[2m\u001b[36m(pid=15622)\u001b[0m Game 137 Draw\n",
      "\u001b[2m\u001b[36m(pid=15622)\u001b[0m WARNING DELETING EXPERIENCES\n",
      "\u001b[2m\u001b[36m(pid=15618)\u001b[0m Game 134 Draw\n",
      "\u001b[2m\u001b[36m(pid=15618)\u001b[0m WARNING DELETING EXPERIENCES\n",
      "\u001b[2m\u001b[36m(pid=15619)\u001b[0m Game 140 Draw\n",
      "\u001b[2m\u001b[36m(pid=15619)\u001b[0m WARNING DELETING EXPERIENCES\n",
      "\u001b[2m\u001b[36m(pid=15616)\u001b[0m Game 139 Draw\n",
      "\u001b[2m\u001b[36m(pid=15616)\u001b[0m WARNING DELETING EXPERIENCES\n",
      "\u001b[2m\u001b[36m(pid=15620)\u001b[0m Game 128 Draw\n",
      "\u001b[2m\u001b[36m(pid=15620)\u001b[0m WARNING DELETING EXPERIENCES\n",
      "\u001b[2m\u001b[36m(pid=15621)\u001b[0m Game 130 Draw\n",
      "\u001b[2m\u001b[36m(pid=15621)\u001b[0m WARNING DELETING EXPERIENCES\n",
      "\u001b[2m\u001b[36m(pid=15624)\u001b[0m Game 131 Draw\n",
      "\u001b[2m\u001b[36m(pid=15624)\u001b[0m WARNING DELETING EXPERIENCES\n",
      "\u001b[2m\u001b[36m(pid=15610)\u001b[0m Game 143 Draw\n",
      "\u001b[2m\u001b[36m(pid=15610)\u001b[0m WARNING DELETING EXPERIENCES\n",
      "\u001b[2m\u001b[36m(pid=15611)\u001b[0m Game 132 Draw\n",
      "\u001b[2m\u001b[36m(pid=15611)\u001b[0m WARNING DELETING EXPERIENCES\n",
      "\u001b[2m\u001b[36m(pid=15614)\u001b[0m Game 133 Draw\n",
      "\u001b[2m\u001b[36m(pid=15614)\u001b[0m WARNING DELETING EXPERIENCES\n",
      "\u001b[2m\u001b[36m(pid=15617)\u001b[0m Game 135 Draw\n",
      "\u001b[2m\u001b[36m(pid=15617)\u001b[0m WARNING DELETING EXPERIENCES\n",
      "\u001b[2m\u001b[36m(pid=15615)\u001b[0m Game 136 Draw\n",
      "\u001b[2m\u001b[36m(pid=15615)\u001b[0m WARNING DELETING EXPERIENCES\n",
      "\u001b[2m\u001b[36m(pid=15612)\u001b[0m Game 129 Draw\n",
      "\u001b[2m\u001b[36m(pid=15612)\u001b[0m WARNING DELETING EXPERIENCES\n",
      "\u001b[2m\u001b[36m(pid=15625)\u001b[0m Game 138 Draw\n",
      "\u001b[2m\u001b[36m(pid=15625)\u001b[0m WARNING DELETING EXPERIENCES\n",
      "ACTOR LOSS 5882.87744140625 | CRITIC LOSS 90.57847595214844\n",
      "SAVING\n",
      "ACTOR LOSS 5665.73828125 | CRITIC LOSS 82.78276062011719\n",
      "ACTOR LOSS 5737.51318359375 | CRITIC LOSS 81.77444458007812\n",
      "ACTOR LOSS 5755.0732421875 | CRITIC LOSS 84.28028106689453\n",
      "ACTOR LOSS 5639.24609375 | CRITIC LOSS 81.67866516113281\n",
      "ACTOR LOSS 5855.1044921875 | CRITIC LOSS 83.0928955078125\n",
      "ACTOR LOSS 5749.82763671875 | CRITIC LOSS 80.3613510131836\n",
      "ACTOR LOSS 5773.94189453125 | CRITIC LOSS 88.27621459960938\n",
      "ACTOR LOSS 5815.49609375 | CRITIC LOSS 80.90959167480469\n",
      "SAVING\n",
      "ACTOR LOSS 5788.16943359375 | CRITIC LOSS 72.8339614868164\n"
     ]
    },
    {
     "name": "stderr",
     "output_type": "stream",
     "text": [
      "\u001b[2m\u001b[36m(pid=15612)\u001b[0m /home/ec2-user/.local/lib/python3.6/site-packages/ray/workers/default_worker.py:58: RuntimeWarning: invalid value encountered in true_divide\n",
      "\u001b[2m\u001b[36m(pid=15612)\u001b[0m   type=str,\n"
     ]
    },
    {
     "name": "stdout",
     "output_type": "stream",
     "text": [
      "\u001b[2m\u001b[36m(pid=15612)\u001b[0m Loading Random Controllers E8.pth\n",
      "\u001b[2m\u001b[36m(pid=15615)\u001b[0m Loading Random Controllers E48.pth\n"
     ]
    },
    {
     "name": "stderr",
     "output_type": "stream",
     "text": [
      "\u001b[2m\u001b[36m(pid=15615)\u001b[0m /home/ec2-user/.local/lib/python3.6/site-packages/ray/workers/default_worker.py:58: RuntimeWarning: invalid value encountered in true_divide\n",
      "\u001b[2m\u001b[36m(pid=15615)\u001b[0m   type=str,\n",
      "\u001b[2m\u001b[36m(pid=15614)\u001b[0m /home/ec2-user/.local/lib/python3.6/site-packages/ray/workers/default_worker.py:58: RuntimeWarning: invalid value encountered in true_divide"
     ]
    },
    {
     "name": "stdout",
     "output_type": "stream",
     "text": [
      "\u001b[2m\u001b[36m(pid=15614)\u001b[0m Loading Random Controllers E16.pth\n"
     ]
    },
    {
     "name": "stderr",
     "output_type": "stream",
     "text": [
      "\n",
      "\u001b[2m\u001b[36m(pid=15614)\u001b[0m   type=str,\n"
     ]
    },
    {
     "name": "stdout",
     "output_type": "stream",
     "text": [
      "\u001b[2m\u001b[36m(pid=15611)\u001b[0m Loading Random Controllers E48.pth\n"
     ]
    },
    {
     "name": "stderr",
     "output_type": "stream",
     "text": [
      "\u001b[2m\u001b[36m(pid=15611)\u001b[0m /home/ec2-user/.local/lib/python3.6/site-packages/ray/workers/default_worker.py:58: RuntimeWarning: invalid value encountered in true_divide\n",
      "\u001b[2m\u001b[36m(pid=15611)\u001b[0m   type=str,\n"
     ]
    },
    {
     "name": "stdout",
     "output_type": "stream",
     "text": [
      "\u001b[2m\u001b[36m(pid=15624)\u001b[0m Loading Random Controllers E64.pth\n"
     ]
    },
    {
     "name": "stderr",
     "output_type": "stream",
     "text": [
      "\u001b[2m\u001b[36m(pid=15624)\u001b[0m /home/ec2-user/.local/lib/python3.6/site-packages/ray/workers/default_worker.py:58: RuntimeWarning: invalid value encountered in true_divide\n",
      "\u001b[2m\u001b[36m(pid=15624)\u001b[0m   type=str,\n"
     ]
    },
    {
     "name": "stdout",
     "output_type": "stream",
     "text": [
      "\u001b[2m\u001b[36m(pid=15621)\u001b[0m Loading Random Controllers E56.pth\n"
     ]
    },
    {
     "name": "stderr",
     "output_type": "stream",
     "text": [
      "\u001b[2m\u001b[36m(pid=15621)\u001b[0m /home/ec2-user/.local/lib/python3.6/site-packages/ray/workers/default_worker.py:58: RuntimeWarning: invalid value encountered in true_divide\n",
      "\u001b[2m\u001b[36m(pid=15621)\u001b[0m   type=str,\n"
     ]
    },
    {
     "name": "stdout",
     "output_type": "stream",
     "text": [
      "\u001b[2m\u001b[36m(pid=15620)\u001b[0m Loading Random Controllers E88.pth\n"
     ]
    },
    {
     "name": "stderr",
     "output_type": "stream",
     "text": [
      "\u001b[2m\u001b[36m(pid=15620)\u001b[0m /home/ec2-user/.local/lib/python3.6/site-packages/ray/workers/default_worker.py:58: RuntimeWarning: invalid value encountered in true_divide\n",
      "\u001b[2m\u001b[36m(pid=15620)\u001b[0m   type=str,\n",
      "\u001b[2m\u001b[36m(pid=15616)\u001b[0m /home/ec2-user/.local/lib/python3.6/site-packages/ray/workers/default_worker.py:58: RuntimeWarning: invalid value encountered in true_divide\n",
      "\u001b[2m\u001b[36m(pid=15616)\u001b[0m   type=str,\n"
     ]
    },
    {
     "name": "stdout",
     "output_type": "stream",
     "text": [
      "\u001b[2m\u001b[36m(pid=15616)\u001b[0m Loading Random Controllers E72.pth\n",
      "\u001b[2m\u001b[36m(pid=15619)\u001b[0m Loading Random Controllers E48.pth\n"
     ]
    },
    {
     "name": "stderr",
     "output_type": "stream",
     "text": [
      "\u001b[2m\u001b[36m(pid=15619)\u001b[0m /home/ec2-user/.local/lib/python3.6/site-packages/ray/workers/default_worker.py:58: RuntimeWarning: invalid value encountered in true_divide\n",
      "\u001b[2m\u001b[36m(pid=15619)\u001b[0m   type=str,\n"
     ]
    },
    {
     "name": "stdout",
     "output_type": "stream",
     "text": [
      "\u001b[2m\u001b[36m(pid=15617)\u001b[0m Loading Random Controllers E72.pth\n"
     ]
    },
    {
     "name": "stderr",
     "output_type": "stream",
     "text": [
      "\u001b[2m\u001b[36m(pid=15617)\u001b[0m /home/ec2-user/.local/lib/python3.6/site-packages/ray/workers/default_worker.py:58: RuntimeWarning: invalid value encountered in true_divide\n",
      "\u001b[2m\u001b[36m(pid=15617)\u001b[0m   type=str,\n"
     ]
    },
    {
     "name": "stdout",
     "output_type": "stream",
     "text": [
      "\u001b[2m\u001b[36m(pid=15618)\u001b[0m Loading Random Controllers E40.pth\n"
     ]
    },
    {
     "name": "stderr",
     "output_type": "stream",
     "text": [
      "\u001b[2m\u001b[36m(pid=15618)\u001b[0m /home/ec2-user/.local/lib/python3.6/site-packages/ray/workers/default_worker.py:58: RuntimeWarning: invalid value encountered in true_divide\n",
      "\u001b[2m\u001b[36m(pid=15618)\u001b[0m   type=str,\n"
     ]
    },
    {
     "name": "stdout",
     "output_type": "stream",
     "text": [
      "\u001b[2m\u001b[36m(pid=15625)\u001b[0m Loading Random Controllers E80.pth\n"
     ]
    },
    {
     "name": "stderr",
     "output_type": "stream",
     "text": [
      "\u001b[2m\u001b[36m(pid=15625)\u001b[0m /home/ec2-user/.local/lib/python3.6/site-packages/ray/workers/default_worker.py:58: RuntimeWarning: invalid value encountered in true_divide\n",
      "\u001b[2m\u001b[36m(pid=15625)\u001b[0m   type=str,\n"
     ]
    },
    {
     "name": "stdout",
     "output_type": "stream",
     "text": [
      "\u001b[2m\u001b[36m(pid=15622)\u001b[0m Loading Random Controllers E16.pth\n"
     ]
    },
    {
     "name": "stderr",
     "output_type": "stream",
     "text": [
      "\u001b[2m\u001b[36m(pid=15622)\u001b[0m /home/ec2-user/.local/lib/python3.6/site-packages/ray/workers/default_worker.py:58: RuntimeWarning: invalid value encountered in true_divide\n",
      "\u001b[2m\u001b[36m(pid=15622)\u001b[0m   type=str,\n"
     ]
    },
    {
     "name": "stdout",
     "output_type": "stream",
     "text": [
      "\u001b[2m\u001b[36m(pid=15610)\u001b[0m Loading Random Controllers E0.pth\n"
     ]
    },
    {
     "name": "stderr",
     "output_type": "stream",
     "text": [
      "\u001b[2m\u001b[36m(pid=15610)\u001b[0m /home/ec2-user/.local/lib/python3.6/site-packages/ray/workers/default_worker.py:58: RuntimeWarning: invalid value encountered in true_divide\n",
      "\u001b[2m\u001b[36m(pid=15610)\u001b[0m   type=str,\n"
     ]
    },
    {
     "name": "stdout",
     "output_type": "stream",
     "text": [
      "\u001b[2m\u001b[36m(pid=15613)\u001b[0m Loading Random Controllers E56.pth\n"
     ]
    },
    {
     "name": "stderr",
     "output_type": "stream",
     "text": [
      "\u001b[2m\u001b[36m(pid=15613)\u001b[0m /home/ec2-user/.local/lib/python3.6/site-packages/ray/workers/default_worker.py:58: RuntimeWarning: invalid value encountered in true_divide\n",
      "\u001b[2m\u001b[36m(pid=15613)\u001b[0m   type=str,\n"
     ]
    },
    {
     "name": "stdout",
     "output_type": "stream",
     "text": [
      "\u001b[2m\u001b[36m(pid=15623)\u001b[0m Loading Random Controllers E32.pth\n"
     ]
    },
    {
     "name": "stderr",
     "output_type": "stream",
     "text": [
      "\u001b[2m\u001b[36m(pid=15623)\u001b[0m /home/ec2-user/.local/lib/python3.6/site-packages/ray/workers/default_worker.py:58: RuntimeWarning: invalid value encountered in true_divide\n",
      "\u001b[2m\u001b[36m(pid=15623)\u001b[0m   type=str,\n"
     ]
    },
    {
     "name": "stdout",
     "output_type": "stream",
     "text": [
      "\u001b[2m\u001b[36m(pid=15623)\u001b[0m Game 159 White Loss\n",
      "\u001b[2m\u001b[36m(pid=15620)\u001b[0m Game 150 White Won\n",
      "\u001b[2m\u001b[36m(pid=15618)\u001b[0m Game 154 White Won\n",
      "\u001b[2m\u001b[36m(pid=15616)\u001b[0m Game 151 White Loss\n",
      "\u001b[2m\u001b[36m(pid=15624)\u001b[0m Game 148 White Won\n",
      "\u001b[2m\u001b[36m(pid=15611)\u001b[0m Game 147 Draw\n",
      "\u001b[2m\u001b[36m(pid=15611)\u001b[0m WARNING DELETING EXPERIENCES\n",
      "\u001b[2m\u001b[36m(pid=15615)\u001b[0m Game 145 Draw\n",
      "\u001b[2m\u001b[36m(pid=15615)\u001b[0m WARNING DELETING EXPERIENCES\n",
      "\u001b[2m\u001b[36m(pid=15614)\u001b[0m Game 146 Draw\n",
      "\u001b[2m\u001b[36m(pid=15614)\u001b[0m WARNING DELETING EXPERIENCES\n",
      "\u001b[2m\u001b[36m(pid=15622)\u001b[0m Game 156 Draw\n",
      "\u001b[2m\u001b[36m(pid=15622)\u001b[0m WARNING DELETING EXPERIENCES\n",
      "\u001b[2m\u001b[36m(pid=15621)\u001b[0m Game 149 Draw\n",
      "\u001b[2m\u001b[36m(pid=15621)\u001b[0m WARNING DELETING EXPERIENCES\n",
      "\u001b[2m\u001b[36m(pid=15619)\u001b[0m Game 152 Draw\n",
      "\u001b[2m\u001b[36m(pid=15619)\u001b[0m WARNING DELETING EXPERIENCES\n",
      "\u001b[2m\u001b[36m(pid=15625)\u001b[0m Game 155 Draw\n",
      "\u001b[2m\u001b[36m(pid=15625)\u001b[0m WARNING DELETING EXPERIENCES\n",
      "\u001b[2m\u001b[36m(pid=15610)\u001b[0m Game 157 Draw\n",
      "\u001b[2m\u001b[36m(pid=15610)\u001b[0m WARNING DELETING EXPERIENCES\n",
      "\u001b[2m\u001b[36m(pid=15617)\u001b[0m Game 153 Draw\n",
      "\u001b[2m\u001b[36m(pid=15617)\u001b[0m WARNING DELETING EXPERIENCES\n",
      "\u001b[2m\u001b[36m(pid=15613)\u001b[0m Game 158 Draw\n",
      "\u001b[2m\u001b[36m(pid=15613)\u001b[0m WARNING DELETING EXPERIENCES\n",
      "\u001b[2m\u001b[36m(pid=15612)\u001b[0m Game 144 Draw\n",
      "\u001b[2m\u001b[36m(pid=15612)\u001b[0m WARNING DELETING EXPERIENCES\n",
      "ACTOR LOSS 5818.40478515625 | CRITIC LOSS 82.40231323242188\n",
      "ACTOR LOSS 5862.33984375 | CRITIC LOSS 80.26070404052734\n",
      "ACTOR LOSS 5856.3544921875 | CRITIC LOSS 77.96402740478516\n",
      "ACTOR LOSS 5779.6552734375 | CRITIC LOSS 77.17439270019531\n",
      "ACTOR LOSS 5829.96435546875 | CRITIC LOSS 78.40795135498047\n",
      "ACTOR LOSS 5832.93017578125 | CRITIC LOSS 73.87236785888672\n",
      "ACTOR LOSS 5787.64794921875 | CRITIC LOSS 77.58927154541016\n",
      "SAVING\n",
      "ACTOR LOSS 5814.1533203125 | CRITIC LOSS 76.88905334472656\n",
      "ACTOR LOSS 5839.37890625 | CRITIC LOSS 73.82882690429688\n",
      "ACTOR LOSS 5948.0107421875 | CRITIC LOSS 72.48357391357422\n",
      "\u001b[2m\u001b[36m(pid=15612)\u001b[0m Loading Random Controllers E64.pth\n"
     ]
    },
    {
     "name": "stderr",
     "output_type": "stream",
     "text": [
      "\u001b[2m\u001b[36m(pid=15612)\u001b[0m /home/ec2-user/.local/lib/python3.6/site-packages/ray/workers/default_worker.py:58: RuntimeWarning: invalid value encountered in true_divide\n",
      "\u001b[2m\u001b[36m(pid=15612)\u001b[0m   type=str,\n"
     ]
    },
    {
     "name": "stdout",
     "output_type": "stream",
     "text": [
      "\u001b[2m\u001b[36m(pid=15619)\u001b[0m Loading Random Controllers E64.pth\n"
     ]
    },
    {
     "name": "stderr",
     "output_type": "stream",
     "text": [
      "\u001b[2m\u001b[36m(pid=15619)\u001b[0m /home/ec2-user/.local/lib/python3.6/site-packages/ray/workers/default_worker.py:58: RuntimeWarning: invalid value encountered in true_divide\n",
      "\u001b[2m\u001b[36m(pid=15619)\u001b[0m   type=str,\n"
     ]
    },
    {
     "name": "stdout",
     "output_type": "stream",
     "text": [
      "\u001b[2m\u001b[36m(pid=15621)\u001b[0m Loading Random Controllers E32.pth\n",
      "\u001b[2m\u001b[36m(pid=15625)\u001b[0m Loading Random Controllers E48.pth\n"
     ]
    },
    {
     "name": "stderr",
     "output_type": "stream",
     "text": [
      "\u001b[2m\u001b[36m(pid=15621)\u001b[0m /home/ec2-user/.local/lib/python3.6/site-packages/ray/workers/default_worker.py:58: RuntimeWarning: invalid value encountered in true_divide\n",
      "\u001b[2m\u001b[36m(pid=15621)\u001b[0m   type=str,\n",
      "\u001b[2m\u001b[36m(pid=15625)\u001b[0m /home/ec2-user/.local/lib/python3.6/site-packages/ray/workers/default_worker.py:58: RuntimeWarning: invalid value encountered in true_divide\n",
      "\u001b[2m\u001b[36m(pid=15625)\u001b[0m   type=str,\n"
     ]
    },
    {
     "name": "stdout",
     "output_type": "stream",
     "text": [
      "\u001b[2m\u001b[36m(pid=15622)\u001b[0m Loading Random Controllers E48.pth\n"
     ]
    },
    {
     "name": "stderr",
     "output_type": "stream",
     "text": [
      "\u001b[2m\u001b[36m(pid=15622)\u001b[0m /home/ec2-user/.local/lib/python3.6/site-packages/ray/workers/default_worker.py:58: RuntimeWarning: invalid value encountered in true_divide\n",
      "\u001b[2m\u001b[36m(pid=15622)\u001b[0m   type=str,\n"
     ]
    },
    {
     "name": "stdout",
     "output_type": "stream",
     "text": [
      "\u001b[2m\u001b[36m(pid=15615)\u001b[0m Loading Random Controllers E80.pth\n"
     ]
    },
    {
     "name": "stderr",
     "output_type": "stream",
     "text": [
      "\u001b[2m\u001b[36m(pid=15615)\u001b[0m /home/ec2-user/.local/lib/python3.6/site-packages/ray/workers/default_worker.py:58: RuntimeWarning: invalid value encountered in true_divide\n",
      "\u001b[2m\u001b[36m(pid=15615)\u001b[0m   type=str,\n"
     ]
    },
    {
     "name": "stdout",
     "output_type": "stream",
     "text": [
      "\u001b[2m\u001b[36m(pid=15614)\u001b[0m Loading Random Controllers E72.pth\n"
     ]
    },
    {
     "name": "stderr",
     "output_type": "stream",
     "text": [
      "\u001b[2m\u001b[36m(pid=15614)\u001b[0m /home/ec2-user/.local/lib/python3.6/site-packages/ray/workers/default_worker.py:58: RuntimeWarning: invalid value encountered in true_divide\n",
      "\u001b[2m\u001b[36m(pid=15614)\u001b[0m   type=str,\n",
      "\u001b[2m\u001b[36m(pid=15611)\u001b[0m /home/ec2-user/.local/lib/python3.6/site-packages/ray/workers/default_worker.py:58: RuntimeWarning: invalid value encountered in true_divide\n",
      "\u001b[2m\u001b[36m(pid=15611)\u001b[0m   type=str,\n"
     ]
    },
    {
     "name": "stdout",
     "output_type": "stream",
     "text": [
      "\u001b[2m\u001b[36m(pid=15611)\u001b[0m Loading Random Controllers E32.pth\n",
      "\u001b[2m\u001b[36m(pid=15624)\u001b[0m Loading Random Controllers E40.pth\n"
     ]
    },
    {
     "name": "stderr",
     "output_type": "stream",
     "text": [
      "\u001b[2m\u001b[36m(pid=15624)\u001b[0m /home/ec2-user/.local/lib/python3.6/site-packages/ray/workers/default_worker.py:58: RuntimeWarning: invalid value encountered in true_divide\n",
      "\u001b[2m\u001b[36m(pid=15624)\u001b[0m   type=str,\n"
     ]
    },
    {
     "name": "stdout",
     "output_type": "stream",
     "text": [
      "\u001b[2m\u001b[36m(pid=15616)\u001b[0m Loading Random Controllers E80.pth\n"
     ]
    },
    {
     "name": "stderr",
     "output_type": "stream",
     "text": [
      "\u001b[2m\u001b[36m(pid=15616)\u001b[0m /home/ec2-user/.local/lib/python3.6/site-packages/ray/workers/default_worker.py:58: RuntimeWarning: invalid value encountered in true_divide\n",
      "\u001b[2m\u001b[36m(pid=15616)\u001b[0m   type=str,\n",
      "\u001b[2m\u001b[36m(pid=15617)\u001b[0m /home/ec2-user/.local/lib/python3.6/site-packages/ray/workers/default_worker.py:58: RuntimeWarning: invalid value encountered in true_divide\n",
      "\u001b[2m\u001b[36m(pid=15617)\u001b[0m   type=str,\n"
     ]
    },
    {
     "name": "stdout",
     "output_type": "stream",
     "text": [
      "\u001b[2m\u001b[36m(pid=15617)\u001b[0m Loading Random Controllers E40.pth\n",
      "\u001b[2m\u001b[36m(pid=15618)\u001b[0m Loading Random Controllers E40.pth\n"
     ]
    },
    {
     "name": "stderr",
     "output_type": "stream",
     "text": [
      "\u001b[2m\u001b[36m(pid=15618)\u001b[0m /home/ec2-user/.local/lib/python3.6/site-packages/ray/workers/default_worker.py:58: RuntimeWarning: invalid value encountered in true_divide\n",
      "\u001b[2m\u001b[36m(pid=15618)\u001b[0m   type=str,\n"
     ]
    },
    {
     "name": "stdout",
     "output_type": "stream",
     "text": [
      "\u001b[2m\u001b[36m(pid=15620)\u001b[0m Loading Random Controllers E40.pth\n"
     ]
    },
    {
     "name": "stderr",
     "output_type": "stream",
     "text": [
      "\u001b[2m\u001b[36m(pid=15620)\u001b[0m /home/ec2-user/.local/lib/python3.6/site-packages/ray/workers/default_worker.py:58: RuntimeWarning: invalid value encountered in true_divide\n",
      "\u001b[2m\u001b[36m(pid=15620)\u001b[0m   type=str,\n"
     ]
    },
    {
     "name": "stdout",
     "output_type": "stream",
     "text": [
      "\u001b[2m\u001b[36m(pid=15613)\u001b[0m Loading Random Controllers E48.pth\n"
     ]
    },
    {
     "name": "stderr",
     "output_type": "stream",
     "text": [
      "\u001b[2m\u001b[36m(pid=15613)\u001b[0m /home/ec2-user/.local/lib/python3.6/site-packages/ray/workers/default_worker.py:58: RuntimeWarning: invalid value encountered in true_divide\n",
      "\u001b[2m\u001b[36m(pid=15613)\u001b[0m   type=str,\n"
     ]
    },
    {
     "name": "stdout",
     "output_type": "stream",
     "text": [
      "\u001b[2m\u001b[36m(pid=15610)\u001b[0m Loading Random Controllers E8.pth\n"
     ]
    },
    {
     "name": "stderr",
     "output_type": "stream",
     "text": [
      "\u001b[2m\u001b[36m(pid=15610)\u001b[0m /home/ec2-user/.local/lib/python3.6/site-packages/ray/workers/default_worker.py:58: RuntimeWarning: invalid value encountered in true_divide\n",
      "\u001b[2m\u001b[36m(pid=15610)\u001b[0m   type=str,\n"
     ]
    },
    {
     "name": "stdout",
     "output_type": "stream",
     "text": [
      "\u001b[2m\u001b[36m(pid=15623)\u001b[0m Loading Random Controllers E8.pth\n"
     ]
    },
    {
     "name": "stderr",
     "output_type": "stream",
     "text": [
      "\u001b[2m\u001b[36m(pid=15623)\u001b[0m /home/ec2-user/.local/lib/python3.6/site-packages/ray/workers/default_worker.py:58: RuntimeWarning: invalid value encountered in true_divide\n",
      "\u001b[2m\u001b[36m(pid=15623)\u001b[0m   type=str,\n"
     ]
    },
    {
     "name": "stdout",
     "output_type": "stream",
     "text": [
      "\u001b[2m\u001b[36m(pid=15612)\u001b[0m Game 160 White Won\n",
      "\u001b[2m\u001b[36m(pid=15620)\u001b[0m Game 172 Draw\n",
      "\u001b[2m\u001b[36m(pid=15620)\u001b[0m WARNING DELETING EXPERIENCES\n",
      "\u001b[2m\u001b[36m(pid=15616)\u001b[0m Game 169 Draw\n",
      "\u001b[2m\u001b[36m(pid=15616)\u001b[0m WARNING DELETING EXPERIENCES\n",
      "\u001b[2m\u001b[36m(pid=15617)\u001b[0m Game 170 Draw\n",
      "\u001b[2m\u001b[36m(pid=15617)\u001b[0m WARNING DELETING EXPERIENCES\n",
      "\u001b[2m\u001b[36m(pid=15610)\u001b[0m Game 174 Draw\n",
      "\u001b[2m\u001b[36m(pid=15610)\u001b[0m WARNING DELETING EXPERIENCES\n",
      "\u001b[2m\u001b[36m(pid=15614)\u001b[0m Game 166 Draw\n",
      "\u001b[2m\u001b[36m(pid=15614)\u001b[0m WARNING DELETING EXPERIENCES\n",
      "\u001b[2m\u001b[36m(pid=15622)\u001b[0m Game 164 Draw\n",
      "\u001b[2m\u001b[36m(pid=15622)\u001b[0m WARNING DELETING EXPERIENCES\n",
      "\u001b[2m\u001b[36m(pid=15623)\u001b[0m Game 175 Draw\n",
      "\u001b[2m\u001b[36m(pid=15623)\u001b[0m WARNING DELETING EXPERIENCES\n",
      "\u001b[2m\u001b[36m(pid=15613)\u001b[0m Game 173 Draw\n",
      "\u001b[2m\u001b[36m(pid=15613)\u001b[0m WARNING DELETING EXPERIENCES\n",
      "\u001b[2m\u001b[36m(pid=15624)\u001b[0m Game 168 Draw\n",
      "\u001b[2m\u001b[36m(pid=15624)\u001b[0m WARNING DELETING EXPERIENCES\n",
      "\u001b[2m\u001b[36m(pid=15621)\u001b[0m Game 162 Draw\n",
      "\u001b[2m\u001b[36m(pid=15621)\u001b[0m WARNING DELETING EXPERIENCES\n",
      "\u001b[2m\u001b[36m(pid=15618)\u001b[0m Game 171 Draw\n",
      "\u001b[2m\u001b[36m(pid=15618)\u001b[0m WARNING DELETING EXPERIENCES\n",
      "\u001b[2m\u001b[36m(pid=15615)\u001b[0m Game 165 Draw\n",
      "\u001b[2m\u001b[36m(pid=15615)\u001b[0m WARNING DELETING EXPERIENCES\n",
      "\u001b[2m\u001b[36m(pid=15625)\u001b[0m Game 163 Draw\n",
      "\u001b[2m\u001b[36m(pid=15625)\u001b[0m WARNING DELETING EXPERIENCES\n",
      "\u001b[2m\u001b[36m(pid=15619)\u001b[0m Game 161 Draw\n",
      "\u001b[2m\u001b[36m(pid=15619)\u001b[0m WARNING DELETING EXPERIENCES\n",
      "\u001b[2m\u001b[36m(pid=15611)\u001b[0m Game 167 Draw\n",
      "\u001b[2m\u001b[36m(pid=15611)\u001b[0m WARNING DELETING EXPERIENCES\n",
      "ACTOR LOSS 5926.3701171875 | CRITIC LOSS 76.5268325805664\n",
      "ACTOR LOSS 5789.4638671875 | CRITIC LOSS 67.26712799072266\n",
      "ACTOR LOSS 5863.81298828125 | CRITIC LOSS 67.97427368164062\n",
      "ACTOR LOSS 5880.67578125 | CRITIC LOSS 64.11386108398438\n",
      "ACTOR LOSS 5876.7412109375 | CRITIC LOSS 66.22494506835938\n",
      "SAVING\n",
      "ACTOR LOSS 5843.439453125 | CRITIC LOSS 66.92292022705078\n",
      "ACTOR LOSS 5882.837890625 | CRITIC LOSS 63.566436767578125\n",
      "ACTOR LOSS 5811.09423828125 | CRITIC LOSS 75.17420959472656\n",
      "ACTOR LOSS 5950.86181640625 | CRITIC LOSS 63.999385833740234\n",
      "ACTOR LOSS 5818.5146484375 | CRITIC LOSS 63.63954544067383\n",
      "\u001b[2m\u001b[36m(pid=15619)\u001b[0m Loading Random Controllers E8.pth\n"
     ]
    },
    {
     "name": "stderr",
     "output_type": "stream",
     "text": [
      "\u001b[2m\u001b[36m(pid=15619)\u001b[0m /home/ec2-user/.local/lib/python3.6/site-packages/ray/workers/default_worker.py:58: RuntimeWarning: invalid value encountered in true_divide\n",
      "\u001b[2m\u001b[36m(pid=15619)\u001b[0m   type=str,\n",
      "\u001b[2m\u001b[36m(pid=15615)\u001b[0m /home/ec2-user/.local/lib/python3.6/site-packages/ray/workers/default_worker.py:58: RuntimeWarning: invalid value encountered in true_divide\n",
      "\u001b[2m\u001b[36m(pid=15615)\u001b[0m   type=str,\n"
     ]
    },
    {
     "name": "stdout",
     "output_type": "stream",
     "text": [
      "\u001b[2m\u001b[36m(pid=15615)\u001b[0m Loading Random Controllers E48.pth\n",
      "\u001b[2m\u001b[36m(pid=15621)\u001b[0m Loading Random Controllers E48.pth\n"
     ]
    },
    {
     "name": "stderr",
     "output_type": "stream",
     "text": [
      "\u001b[2m\u001b[36m(pid=15621)\u001b[0m /home/ec2-user/.local/lib/python3.6/site-packages/ray/workers/default_worker.py:58: RuntimeWarning: invalid value encountered in true_divide\n",
      "\u001b[2m\u001b[36m(pid=15621)\u001b[0m   type=str,\n"
     ]
    },
    {
     "name": "stdout",
     "output_type": "stream",
     "text": [
      "\u001b[2m\u001b[36m(pid=15624)\u001b[0m Loading Random Controllers E80.pth\n"
     ]
    },
    {
     "name": "stderr",
     "output_type": "stream",
     "text": [
      "\u001b[2m\u001b[36m(pid=15624)\u001b[0m /home/ec2-user/.local/lib/python3.6/site-packages/ray/workers/default_worker.py:58: RuntimeWarning: invalid value encountered in true_divide\n",
      "\u001b[2m\u001b[36m(pid=15624)\u001b[0m   type=str,\n"
     ]
    },
    {
     "name": "stdout",
     "output_type": "stream",
     "text": [
      "\u001b[2m\u001b[36m(pid=15625)\u001b[0m Loading Random Controllers E64.pth\n"
     ]
    },
    {
     "name": "stderr",
     "output_type": "stream",
     "text": [
      "\u001b[2m\u001b[36m(pid=15625)\u001b[0m /home/ec2-user/.local/lib/python3.6/site-packages/ray/workers/default_worker.py:58: RuntimeWarning: invalid value encountered in true_divide\n",
      "\u001b[2m\u001b[36m(pid=15625)\u001b[0m   type=str,\n"
     ]
    },
    {
     "name": "stdout",
     "output_type": "stream",
     "text": [
      "\u001b[2m\u001b[36m(pid=15622)\u001b[0m Loading Random Controllers E64.pth\n"
     ]
    },
    {
     "name": "stderr",
     "output_type": "stream",
     "text": [
      "\u001b[2m\u001b[36m(pid=15622)\u001b[0m /home/ec2-user/.local/lib/python3.6/site-packages/ray/workers/default_worker.py:58: RuntimeWarning: invalid value encountered in true_divide\n",
      "\u001b[2m\u001b[36m(pid=15622)\u001b[0m   type=str,\n",
      "\u001b[2m\u001b[36m(pid=15611)\u001b[0m /home/ec2-user/.local/lib/python3.6/site-packages/ray/workers/default_worker.py:58: RuntimeWarning: invalid value encountered in true_divide\n",
      "\u001b[2m\u001b[36m(pid=15611)\u001b[0m   type=str,\n"
     ]
    },
    {
     "name": "stdout",
     "output_type": "stream",
     "text": [
      "\u001b[2m\u001b[36m(pid=15611)\u001b[0m Loading Random Controllers E80.pth\n",
      "\u001b[2m\u001b[36m(pid=15614)\u001b[0m Loading Random Controllers E0.pth\n"
     ]
    },
    {
     "name": "stderr",
     "output_type": "stream",
     "text": [
      "\u001b[2m\u001b[36m(pid=15614)\u001b[0m /home/ec2-user/.local/lib/python3.6/site-packages/ray/workers/default_worker.py:58: RuntimeWarning: invalid value encountered in true_divide\n",
      "\u001b[2m\u001b[36m(pid=15614)\u001b[0m   type=str,\n"
     ]
    },
    {
     "name": "stdout",
     "output_type": "stream",
     "text": [
      "\u001b[2m\u001b[36m(pid=15613)\u001b[0m Loading Random Controllers E72.pth\n"
     ]
    },
    {
     "name": "stderr",
     "output_type": "stream",
     "text": [
      "\u001b[2m\u001b[36m(pid=15613)\u001b[0m /home/ec2-user/.local/lib/python3.6/site-packages/ray/workers/default_worker.py:58: RuntimeWarning: invalid value encountered in true_divide\n",
      "\u001b[2m\u001b[36m(pid=15613)\u001b[0m   type=str,\n"
     ]
    },
    {
     "name": "stdout",
     "output_type": "stream",
     "text": [
      "\u001b[2m\u001b[36m(pid=15623)\u001b[0m Loading Random Controllers E80.pth\n"
     ]
    },
    {
     "name": "stderr",
     "output_type": "stream",
     "text": [
      "\u001b[2m\u001b[36m(pid=15623)\u001b[0m /home/ec2-user/.local/lib/python3.6/site-packages/ray/workers/default_worker.py:58: RuntimeWarning: invalid value encountered in true_divide\n",
      "\u001b[2m\u001b[36m(pid=15623)\u001b[0m   type=str,\n",
      "\u001b[2m\u001b[36m(pid=15610)\u001b[0m /home/ec2-user/.local/lib/python3.6/site-packages/ray/workers/default_worker.py:58: RuntimeWarning: invalid value encountered in true_divide\n",
      "\u001b[2m\u001b[36m(pid=15610)\u001b[0m   type=str,\n"
     ]
    },
    {
     "name": "stdout",
     "output_type": "stream",
     "text": [
      "\u001b[2m\u001b[36m(pid=15610)\u001b[0m Loading Random Controllers E16.pth\n",
      "\u001b[2m\u001b[36m(pid=15618)\u001b[0m Loading Random Controllers E40.pth\n"
     ]
    },
    {
     "name": "stderr",
     "output_type": "stream",
     "text": [
      "\u001b[2m\u001b[36m(pid=15618)\u001b[0m /home/ec2-user/.local/lib/python3.6/site-packages/ray/workers/default_worker.py:58: RuntimeWarning: invalid value encountered in true_divide\n",
      "\u001b[2m\u001b[36m(pid=15618)\u001b[0m   type=str,\n"
     ]
    },
    {
     "name": "stdout",
     "output_type": "stream",
     "text": [
      "\u001b[2m\u001b[36m(pid=15617)\u001b[0m Loading Random Controllers E24.pth\n"
     ]
    },
    {
     "name": "stderr",
     "output_type": "stream",
     "text": [
      "\u001b[2m\u001b[36m(pid=15617)\u001b[0m /home/ec2-user/.local/lib/python3.6/site-packages/ray/workers/default_worker.py:58: RuntimeWarning: invalid value encountered in true_divide\n",
      "\u001b[2m\u001b[36m(pid=15617)\u001b[0m   type=str,\n"
     ]
    },
    {
     "name": "stdout",
     "output_type": "stream",
     "text": [
      "\u001b[2m\u001b[36m(pid=15616)\u001b[0m Loading Random Controllers E96.pth\n"
     ]
    },
    {
     "name": "stderr",
     "output_type": "stream",
     "text": [
      "\u001b[2m\u001b[36m(pid=15616)\u001b[0m /home/ec2-user/.local/lib/python3.6/site-packages/ray/workers/default_worker.py:58: RuntimeWarning: invalid value encountered in true_divide\n",
      "\u001b[2m\u001b[36m(pid=15616)\u001b[0m   type=str,\n"
     ]
    },
    {
     "name": "stdout",
     "output_type": "stream",
     "text": [
      "\u001b[2m\u001b[36m(pid=15620)\u001b[0m Loading Random Controllers E16.pth\n"
     ]
    },
    {
     "name": "stderr",
     "output_type": "stream",
     "text": [
      "\u001b[2m\u001b[36m(pid=15620)\u001b[0m /home/ec2-user/.local/lib/python3.6/site-packages/ray/workers/default_worker.py:58: RuntimeWarning: invalid value encountered in true_divide\n",
      "\u001b[2m\u001b[36m(pid=15620)\u001b[0m   type=str,\n"
     ]
    },
    {
     "name": "stdout",
     "output_type": "stream",
     "text": [
      "\u001b[2m\u001b[36m(pid=15612)\u001b[0m Loading Random Controllers E0.pth\n"
     ]
    },
    {
     "name": "stderr",
     "output_type": "stream",
     "text": [
      "\u001b[2m\u001b[36m(pid=15612)\u001b[0m /home/ec2-user/.local/lib/python3.6/site-packages/ray/workers/default_worker.py:58: RuntimeWarning: invalid value encountered in true_divide\n",
      "\u001b[2m\u001b[36m(pid=15612)\u001b[0m   type=str,\n"
     ]
    },
    {
     "name": "stdout",
     "output_type": "stream",
     "text": [
      "\u001b[2m\u001b[36m(pid=15624)\u001b[0m Game 179 White Loss\n",
      "\u001b[2m\u001b[36m(pid=15619)\u001b[0m Game 176 White Won\n",
      "\u001b[2m\u001b[36m(pid=15610)\u001b[0m Game 186 White Won\n",
      "\u001b[2m\u001b[36m(pid=15616)\u001b[0m Game 189 Draw\n",
      "\u001b[2m\u001b[36m(pid=15616)\u001b[0m WARNING DELETING EXPERIENCES\n",
      "\u001b[2m\u001b[36m(pid=15620)\u001b[0m Game 190 Draw\n",
      "\u001b[2m\u001b[36m(pid=15620)\u001b[0m WARNING DELETING EXPERIENCES\n",
      "\u001b[2m\u001b[36m(pid=15618)\u001b[0m Game 187 Draw\n",
      "\u001b[2m\u001b[36m(pid=15618)\u001b[0m WARNING DELETING EXPERIENCES\n",
      "\u001b[2m\u001b[36m(pid=15621)\u001b[0m Game 178 Draw\n",
      "\u001b[2m\u001b[36m(pid=15621)\u001b[0m WARNING DELETING EXPERIENCES\n",
      "\u001b[2m\u001b[36m(pid=15615)\u001b[0m Game 177 Draw\n",
      "\u001b[2m\u001b[36m(pid=15615)\u001b[0m WARNING DELETING EXPERIENCES\n",
      "\u001b[2m\u001b[36m(pid=15623)\u001b[0m Game 185 Draw\n",
      "\u001b[2m\u001b[36m(pid=15623)\u001b[0m WARNING DELETING EXPERIENCES\n",
      "\u001b[2m\u001b[36m(pid=15625)\u001b[0m Game 180 Draw\n",
      "\u001b[2m\u001b[36m(pid=15625)\u001b[0m WARNING DELETING EXPERIENCES\n",
      "\u001b[2m\u001b[36m(pid=15613)\u001b[0m Game 184 Draw\n",
      "\u001b[2m\u001b[36m(pid=15613)\u001b[0m WARNING DELETING EXPERIENCES\n",
      "\u001b[2m\u001b[36m(pid=15617)\u001b[0m Game 188 Draw\n",
      "\u001b[2m\u001b[36m(pid=15617)\u001b[0m WARNING DELETING EXPERIENCES\n",
      "\u001b[2m\u001b[36m(pid=15612)\u001b[0m Game 191 Draw\n",
      "\u001b[2m\u001b[36m(pid=15612)\u001b[0m WARNING DELETING EXPERIENCES\n",
      "\u001b[2m\u001b[36m(pid=15611)\u001b[0m Game 182 Draw\n",
      "\u001b[2m\u001b[36m(pid=15611)\u001b[0m WARNING DELETING EXPERIENCES\n",
      "\u001b[2m\u001b[36m(pid=15614)\u001b[0m Game 183 Draw\n",
      "\u001b[2m\u001b[36m(pid=15614)\u001b[0m WARNING DELETING EXPERIENCES\n",
      "\u001b[2m\u001b[36m(pid=15622)\u001b[0m Game 181 Draw\n",
      "\u001b[2m\u001b[36m(pid=15622)\u001b[0m WARNING DELETING EXPERIENCES\n",
      "ACTOR LOSS 5921.27978515625 | CRITIC LOSS 61.783729553222656\n",
      "ACTOR LOSS 5861.68798828125 | CRITIC LOSS 65.01732635498047\n",
      "ACTOR LOSS 5888.77587890625 | CRITIC LOSS 60.841026306152344\n",
      "SAVING\n",
      "ACTOR LOSS 5947.5791015625 | CRITIC LOSS 61.363460540771484\n",
      "ACTOR LOSS 5913.3359375 | CRITIC LOSS 61.274803161621094\n",
      "ACTOR LOSS 5838.90380859375 | CRITIC LOSS 61.980918884277344\n",
      "ACTOR LOSS 5903.56103515625 | CRITIC LOSS 57.41234588623047\n",
      "ACTOR LOSS 5864.37158203125 | CRITIC LOSS 56.35720443725586\n",
      "ACTOR LOSS 5884.43359375 | CRITIC LOSS 59.00065612792969\n",
      "ACTOR LOSS 5878.68603515625 | CRITIC LOSS 57.46293640136719\n",
      "\u001b[2m\u001b[36m(pid=15614)\u001b[0m Loading Random Controllers E72.pth\n"
     ]
    },
    {
     "name": "stderr",
     "output_type": "stream",
     "text": [
      "\u001b[2m\u001b[36m(pid=15614)\u001b[0m /home/ec2-user/.local/lib/python3.6/site-packages/ray/workers/default_worker.py:58: RuntimeWarning: invalid value encountered in true_divide\n",
      "\u001b[2m\u001b[36m(pid=15614)\u001b[0m   type=str,\n"
     ]
    },
    {
     "name": "stdout",
     "output_type": "stream",
     "text": [
      "\u001b[2m\u001b[36m(pid=15611)\u001b[0m Loading Random Controllers E80.pth\n"
     ]
    },
    {
     "name": "stderr",
     "output_type": "stream",
     "text": [
      "\u001b[2m\u001b[36m(pid=15611)\u001b[0m /home/ec2-user/.local/lib/python3.6/site-packages/ray/workers/default_worker.py:58: RuntimeWarning: invalid value encountered in true_divide\n",
      "\u001b[2m\u001b[36m(pid=15611)\u001b[0m   type=str,\n"
     ]
    },
    {
     "name": "stdout",
     "output_type": "stream",
     "text": [
      "\u001b[2m\u001b[36m(pid=15612)\u001b[0m Loading Random Controllers E16.pth\n"
     ]
    },
    {
     "name": "stderr",
     "output_type": "stream",
     "text": [
      "\u001b[2m\u001b[36m(pid=15612)\u001b[0m /home/ec2-user/.local/lib/python3.6/site-packages/ray/workers/default_worker.py:58: RuntimeWarning: invalid value encountered in true_divide\n",
      "\u001b[2m\u001b[36m(pid=15612)\u001b[0m   type=str,\n"
     ]
    },
    {
     "name": "stdout",
     "output_type": "stream",
     "text": [
      "\u001b[2m\u001b[36m(pid=15622)\u001b[0m Loading Random Controllers E8.pth\n"
     ]
    },
    {
     "name": "stderr",
     "output_type": "stream",
     "text": [
      "\u001b[2m\u001b[36m(pid=15622)\u001b[0m /home/ec2-user/.local/lib/python3.6/site-packages/ray/workers/default_worker.py:58: RuntimeWarning: invalid value encountered in true_divide\n",
      "\u001b[2m\u001b[36m(pid=15622)\u001b[0m   type=str,\n"
     ]
    },
    {
     "name": "stdout",
     "output_type": "stream",
     "text": [
      "\u001b[2m\u001b[36m(pid=15625)\u001b[0m Loading Random Controllers E48.pth\n"
     ]
    },
    {
     "name": "stderr",
     "output_type": "stream",
     "text": [
      "\u001b[2m\u001b[36m(pid=15625)\u001b[0m /home/ec2-user/.local/lib/python3.6/site-packages/ray/workers/default_worker.py:58: RuntimeWarning: invalid value encountered in true_divide\n",
      "\u001b[2m\u001b[36m(pid=15625)\u001b[0m   type=str,\n"
     ]
    },
    {
     "name": "stdout",
     "output_type": "stream",
     "text": [
      "\u001b[2m\u001b[36m(pid=15615)\u001b[0m Loading Random Controllers E96.pth\n"
     ]
    },
    {
     "name": "stderr",
     "output_type": "stream",
     "text": [
      "\u001b[2m\u001b[36m(pid=15615)\u001b[0m /home/ec2-user/.local/lib/python3.6/site-packages/ray/workers/default_worker.py:58: RuntimeWarning: invalid value encountered in true_divide\n",
      "\u001b[2m\u001b[36m(pid=15615)\u001b[0m   type=str,\n"
     ]
    },
    {
     "name": "stdout",
     "output_type": "stream",
     "text": [
      "\u001b[2m\u001b[36m(pid=15621)\u001b[0m Loading Random Controllers E32.pth\n"
     ]
    },
    {
     "name": "stderr",
     "output_type": "stream",
     "text": [
      "\u001b[2m\u001b[36m(pid=15621)\u001b[0m /home/ec2-user/.local/lib/python3.6/site-packages/ray/workers/default_worker.py:58: RuntimeWarning: invalid value encountered in true_divide\n",
      "\u001b[2m\u001b[36m(pid=15621)\u001b[0m   type=str,\n"
     ]
    },
    {
     "name": "stdout",
     "output_type": "stream",
     "text": [
      "\u001b[2m\u001b[36m(pid=15617)\u001b[0m Loading Random Controllers E16.pth\n"
     ]
    },
    {
     "name": "stderr",
     "output_type": "stream",
     "text": [
      "\u001b[2m\u001b[36m(pid=15617)\u001b[0m /home/ec2-user/.local/lib/python3.6/site-packages/ray/workers/default_worker.py:58: RuntimeWarning: invalid value encountered in true_divide\n",
      "\u001b[2m\u001b[36m(pid=15617)\u001b[0m   type=str,\n"
     ]
    },
    {
     "name": "stdout",
     "output_type": "stream",
     "text": [
      "\u001b[2m\u001b[36m(pid=15618)\u001b[0m Loading Random Controllers E88.pth\n"
     ]
    },
    {
     "name": "stderr",
     "output_type": "stream",
     "text": [
      "\u001b[2m\u001b[36m(pid=15618)\u001b[0m /home/ec2-user/.local/lib/python3.6/site-packages/ray/workers/default_worker.py:58: RuntimeWarning: invalid value encountered in true_divide\n",
      "\u001b[2m\u001b[36m(pid=15618)\u001b[0m   type=str,\n"
     ]
    },
    {
     "name": "stdout",
     "output_type": "stream",
     "text": [
      "\u001b[2m\u001b[36m(pid=15620)\u001b[0m Loading Random Controllers E0.pth\n"
     ]
    },
    {
     "name": "stderr",
     "output_type": "stream",
     "text": [
      "\u001b[2m\u001b[36m(pid=15620)\u001b[0m /home/ec2-user/.local/lib/python3.6/site-packages/ray/workers/default_worker.py:58: RuntimeWarning: invalid value encountered in true_divide\n",
      "\u001b[2m\u001b[36m(pid=15620)\u001b[0m   type=str,\n"
     ]
    },
    {
     "name": "stdout",
     "output_type": "stream",
     "text": [
      "\u001b[2m\u001b[36m(pid=15616)\u001b[0m Loading Random Controllers E72.pth\n"
     ]
    },
    {
     "name": "stderr",
     "output_type": "stream",
     "text": [
      "\u001b[2m\u001b[36m(pid=15616)\u001b[0m /home/ec2-user/.local/lib/python3.6/site-packages/ray/workers/default_worker.py:58: RuntimeWarning: invalid value encountered in true_divide\n",
      "\u001b[2m\u001b[36m(pid=15616)\u001b[0m   type=str,\n"
     ]
    },
    {
     "name": "stdout",
     "output_type": "stream",
     "text": [
      "\u001b[2m\u001b[36m(pid=15613)\u001b[0m Loading Random Controllers E32.pth\n"
     ]
    },
    {
     "name": "stderr",
     "output_type": "stream",
     "text": [
      "\u001b[2m\u001b[36m(pid=15613)\u001b[0m /home/ec2-user/.local/lib/python3.6/site-packages/ray/workers/default_worker.py:58: RuntimeWarning: invalid value encountered in true_divide\n",
      "\u001b[2m\u001b[36m(pid=15613)\u001b[0m   type=str,\n"
     ]
    },
    {
     "name": "stdout",
     "output_type": "stream",
     "text": [
      "\u001b[2m\u001b[36m(pid=15623)\u001b[0m Loading Random Controllers E80.pth\n"
     ]
    },
    {
     "name": "stderr",
     "output_type": "stream",
     "text": [
      "\u001b[2m\u001b[36m(pid=15623)\u001b[0m /home/ec2-user/.local/lib/python3.6/site-packages/ray/workers/default_worker.py:58: RuntimeWarning: invalid value encountered in true_divide\n",
      "\u001b[2m\u001b[36m(pid=15623)\u001b[0m   type=str,\n"
     ]
    },
    {
     "name": "stdout",
     "output_type": "stream",
     "text": [
      "\u001b[2m\u001b[36m(pid=15610)\u001b[0m Loading Random Controllers E112.pth\n"
     ]
    },
    {
     "name": "stderr",
     "output_type": "stream",
     "text": [
      "\u001b[2m\u001b[36m(pid=15610)\u001b[0m /home/ec2-user/.local/lib/python3.6/site-packages/ray/workers/default_worker.py:58: RuntimeWarning: invalid value encountered in true_divide\n",
      "\u001b[2m\u001b[36m(pid=15610)\u001b[0m   type=str,\n"
     ]
    },
    {
     "name": "stdout",
     "output_type": "stream",
     "text": [
      "\u001b[2m\u001b[36m(pid=15619)\u001b[0m Loading Random Controllers E80.pth\n"
     ]
    },
    {
     "name": "stderr",
     "output_type": "stream",
     "text": [
      "\u001b[2m\u001b[36m(pid=15619)\u001b[0m /home/ec2-user/.local/lib/python3.6/site-packages/ray/workers/default_worker.py:58: RuntimeWarning: invalid value encountered in true_divide\n",
      "\u001b[2m\u001b[36m(pid=15619)\u001b[0m   type=str,\n"
     ]
    },
    {
     "name": "stdout",
     "output_type": "stream",
     "text": [
      "\u001b[2m\u001b[36m(pid=15624)\u001b[0m Loading Random Controllers E88.pth\n"
     ]
    },
    {
     "name": "stderr",
     "output_type": "stream",
     "text": [
      "\u001b[2m\u001b[36m(pid=15624)\u001b[0m /home/ec2-user/.local/lib/python3.6/site-packages/ray/workers/default_worker.py:58: RuntimeWarning: invalid value encountered in true_divide\n",
      "\u001b[2m\u001b[36m(pid=15624)\u001b[0m   type=str,\n"
     ]
    },
    {
     "name": "stdout",
     "output_type": "stream",
     "text": [
      "\u001b[2m\u001b[36m(pid=15617)\u001b[0m Game 199 White Won\n",
      "\u001b[2m\u001b[36m(pid=15622)\u001b[0m Game 195 Draw\n",
      "\u001b[2m\u001b[36m(pid=15622)\u001b[0m WARNING DELETING EXPERIENCES\n",
      "\u001b[2m\u001b[36m(pid=15620)\u001b[0m Game 201 Draw\n",
      "\u001b[2m\u001b[36m(pid=15620)\u001b[0m WARNING DELETING EXPERIENCES\n",
      "\u001b[2m\u001b[36m(pid=15611)\u001b[0m Game 193 Draw\n",
      "\u001b[2m\u001b[36m(pid=15611)\u001b[0m WARNING DELETING EXPERIENCES\n",
      "\u001b[2m\u001b[36m(pid=15623)\u001b[0m Game 204 Draw\n",
      "\u001b[2m\u001b[36m(pid=15623)\u001b[0m WARNING DELETING EXPERIENCES\n",
      "\u001b[2m\u001b[36m(pid=15612)\u001b[0m Game 194 White Loss\n",
      "\u001b[2m\u001b[36m(pid=15624)\u001b[0m Game 207 Draw\n",
      "\u001b[2m\u001b[36m(pid=15624)\u001b[0m WARNING DELETING EXPERIENCES\n",
      "\u001b[2m\u001b[36m(pid=15615)\u001b[0m Game 197 Draw\n",
      "\u001b[2m\u001b[36m(pid=15615)\u001b[0m WARNING DELETING EXPERIENCES\n",
      "\u001b[2m\u001b[36m(pid=15610)\u001b[0m Game 205 Draw\n",
      "\u001b[2m\u001b[36m(pid=15610)\u001b[0m WARNING DELETING EXPERIENCES\n",
      "\u001b[2m\u001b[36m(pid=15618)\u001b[0m Game 200 Draw\n",
      "\u001b[2m\u001b[36m(pid=15618)\u001b[0m WARNING DELETING EXPERIENCES\n",
      "\u001b[2m\u001b[36m(pid=15619)\u001b[0m Game 206 Draw\n",
      "\u001b[2m\u001b[36m(pid=15619)\u001b[0m WARNING DELETING EXPERIENCES\n",
      "\u001b[2m\u001b[36m(pid=15625)\u001b[0m Game 196 Draw\n",
      "\u001b[2m\u001b[36m(pid=15625)\u001b[0m WARNING DELETING EXPERIENCES\n",
      "\u001b[2m\u001b[36m(pid=15621)\u001b[0m Game 198 Draw\n",
      "\u001b[2m\u001b[36m(pid=15621)\u001b[0m WARNING DELETING EXPERIENCES\n",
      "\u001b[2m\u001b[36m(pid=15613)\u001b[0m Game 203 Draw\n",
      "\u001b[2m\u001b[36m(pid=15613)\u001b[0m WARNING DELETING EXPERIENCES\n",
      "\u001b[2m\u001b[36m(pid=15614)\u001b[0m Game 192 Draw\n",
      "\u001b[2m\u001b[36m(pid=15614)\u001b[0m WARNING DELETING EXPERIENCES\n",
      "\u001b[2m\u001b[36m(pid=15616)\u001b[0m Game 202 Draw\n",
      "\u001b[2m\u001b[36m(pid=15616)\u001b[0m WARNING DELETING EXPERIENCES\n",
      "ACTOR LOSS 5881.11572265625 | CRITIC LOSS 54.06016159057617\n",
      "SAVING\n",
      "ACTOR LOSS 5838.2626953125 | CRITIC LOSS 53.78446960449219\n",
      "ACTOR LOSS 5902.6494140625 | CRITIC LOSS 54.82770538330078\n",
      "ACTOR LOSS 5950.1328125 | CRITIC LOSS 58.27546310424805\n",
      "ACTOR LOSS 5859.89990234375 | CRITIC LOSS 57.25322723388672\n",
      "ACTOR LOSS 5931.8779296875 | CRITIC LOSS 52.85735321044922\n",
      "ACTOR LOSS 5881.02294921875 | CRITIC LOSS 57.4892578125\n",
      "ACTOR LOSS 5898.2890625 | CRITIC LOSS 47.03920364379883\n",
      "ACTOR LOSS 5876.88330078125 | CRITIC LOSS 51.73612594604492\n",
      "SAVING\n",
      "ACTOR LOSS 5974.0478515625 | CRITIC LOSS 48.68942642211914\n",
      "\u001b[2m\u001b[36m(pid=15616)\u001b[0m Loading Random Controllers E24.pth\n"
     ]
    },
    {
     "name": "stderr",
     "output_type": "stream",
     "text": [
      "\u001b[2m\u001b[36m(pid=15616)\u001b[0m /home/ec2-user/.local/lib/python3.6/site-packages/ray/workers/default_worker.py:58: RuntimeWarning: invalid value encountered in true_divide\n",
      "\u001b[2m\u001b[36m(pid=15616)\u001b[0m   type=str,\n"
     ]
    },
    {
     "name": "stdout",
     "output_type": "stream",
     "text": [
      "\u001b[2m\u001b[36m(pid=15621)\u001b[0m Loading Random Controllers E56.pth\n"
     ]
    },
    {
     "name": "stderr",
     "output_type": "stream",
     "text": [
      "\u001b[2m\u001b[36m(pid=15621)\u001b[0m /home/ec2-user/.local/lib/python3.6/site-packages/ray/workers/default_worker.py:58: RuntimeWarning: invalid value encountered in true_divide\n",
      "\u001b[2m\u001b[36m(pid=15621)\u001b[0m   type=str,\n"
     ]
    },
    {
     "name": "stdout",
     "output_type": "stream",
     "text": [
      "\u001b[2m\u001b[36m(pid=15619)\u001b[0m Loading Random Controllers E72.pth\n",
      "\u001b[2m\u001b[36m(pid=15615)\u001b[0m Loading Random Controllers E104.pth\n"
     ]
    },
    {
     "name": "stderr",
     "output_type": "stream",
     "text": [
      "\u001b[2m\u001b[36m(pid=15619)\u001b[0m /home/ec2-user/.local/lib/python3.6/site-packages/ray/workers/default_worker.py:58: RuntimeWarning: invalid value encountered in true_divide\n",
      "\u001b[2m\u001b[36m(pid=15619)\u001b[0m   type=str,\n",
      "\u001b[2m\u001b[36m(pid=15615)\u001b[0m /home/ec2-user/.local/lib/python3.6/site-packages/ray/workers/default_worker.py:58: RuntimeWarning: invalid value encountered in true_divide\n",
      "\u001b[2m\u001b[36m(pid=15615)\u001b[0m   type=str,\n"
     ]
    },
    {
     "name": "stdout",
     "output_type": "stream",
     "text": [
      "\u001b[2m\u001b[36m(pid=15624)\u001b[0m Loading Random Controllers E120.pth\n"
     ]
    },
    {
     "name": "stderr",
     "output_type": "stream",
     "text": [
      "\u001b[2m\u001b[36m(pid=15624)\u001b[0m /home/ec2-user/.local/lib/python3.6/site-packages/ray/workers/default_worker.py:58: RuntimeWarning: invalid value encountered in true_divide\n",
      "\u001b[2m\u001b[36m(pid=15624)\u001b[0m   type=str,\n"
     ]
    },
    {
     "name": "stdout",
     "output_type": "stream",
     "text": [
      "\u001b[2m\u001b[36m(pid=15612)\u001b[0m Loading Random Controllers E40.pth\n"
     ]
    },
    {
     "name": "stderr",
     "output_type": "stream",
     "text": [
      "\u001b[2m\u001b[36m(pid=15612)\u001b[0m /home/ec2-user/.local/lib/python3.6/site-packages/ray/workers/default_worker.py:58: RuntimeWarning: invalid value encountered in true_divide\n",
      "\u001b[2m\u001b[36m(pid=15612)\u001b[0m   type=str,\n",
      "\u001b[2m\u001b[36m(pid=15613)\u001b[0m /home/ec2-user/.local/lib/python3.6/site-packages/ray/workers/default_worker.py:58: RuntimeWarning: invalid value encountered in true_divide\n",
      "\u001b[2m\u001b[36m(pid=15613)\u001b[0m   type=str,\n"
     ]
    },
    {
     "name": "stdout",
     "output_type": "stream",
     "text": [
      "\u001b[2m\u001b[36m(pid=15613)\u001b[0m Loading Random Controllers E40.pth\n",
      "\u001b[2m\u001b[36m(pid=15610)\u001b[0m Loading Random Controllers E104.pth\n"
     ]
    },
    {
     "name": "stderr",
     "output_type": "stream",
     "text": [
      "\u001b[2m\u001b[36m(pid=15610)\u001b[0m /home/ec2-user/.local/lib/python3.6/site-packages/ray/workers/default_worker.py:58: RuntimeWarning: invalid value encountered in true_divide\n",
      "\u001b[2m\u001b[36m(pid=15610)\u001b[0m   type=str,\n"
     ]
    },
    {
     "name": "stdout",
     "output_type": "stream",
     "text": [
      "\u001b[2m\u001b[36m(pid=15623)\u001b[0m Loading Random Controllers E40.pth\n"
     ]
    },
    {
     "name": "stderr",
     "output_type": "stream",
     "text": [
      "\u001b[2m\u001b[36m(pid=15623)\u001b[0m /home/ec2-user/.local/lib/python3.6/site-packages/ray/workers/default_worker.py:58: RuntimeWarning: invalid value encountered in true_divide\n",
      "\u001b[2m\u001b[36m(pid=15623)\u001b[0m   type=str,\n"
     ]
    },
    {
     "name": "stdout",
     "output_type": "stream",
     "text": [
      "\u001b[2m\u001b[36m(pid=15614)\u001b[0m Loading Random Controllers E16.pth\n"
     ]
    },
    {
     "name": "stderr",
     "output_type": "stream",
     "text": [
      "\u001b[2m\u001b[36m(pid=15614)\u001b[0m /home/ec2-user/.local/lib/python3.6/site-packages/ray/workers/default_worker.py:58: RuntimeWarning: invalid value encountered in true_divide\n",
      "\u001b[2m\u001b[36m(pid=15614)\u001b[0m   type=str,\n"
     ]
    },
    {
     "name": "stdout",
     "output_type": "stream",
     "text": [
      "\u001b[2m\u001b[36m(pid=15611)\u001b[0m Loading Random Controllers E64.pth\n"
     ]
    },
    {
     "name": "stderr",
     "output_type": "stream",
     "text": [
      "\u001b[2m\u001b[36m(pid=15611)\u001b[0m /home/ec2-user/.local/lib/python3.6/site-packages/ray/workers/default_worker.py:58: RuntimeWarning: invalid value encountered in true_divide\n",
      "\u001b[2m\u001b[36m(pid=15611)\u001b[0m   type=str,\n"
     ]
    },
    {
     "name": "stdout",
     "output_type": "stream",
     "text": [
      "\u001b[2m\u001b[36m(pid=15620)\u001b[0m Loading Random Controllers E120.pth\n"
     ]
    },
    {
     "name": "stderr",
     "output_type": "stream",
     "text": [
      "\u001b[2m\u001b[36m(pid=15620)\u001b[0m /home/ec2-user/.local/lib/python3.6/site-packages/ray/workers/default_worker.py:58: RuntimeWarning: invalid value encountered in true_divide\n",
      "\u001b[2m\u001b[36m(pid=15620)\u001b[0m   type=str,\n"
     ]
    },
    {
     "name": "stdout",
     "output_type": "stream",
     "text": [
      "\u001b[2m\u001b[36m(pid=15625)\u001b[0m Loading Random Controllers E104.pth\n"
     ]
    },
    {
     "name": "stderr",
     "output_type": "stream",
     "text": [
      "\u001b[2m\u001b[36m(pid=15625)\u001b[0m /home/ec2-user/.local/lib/python3.6/site-packages/ray/workers/default_worker.py:58: RuntimeWarning: invalid value encountered in true_divide\n",
      "\u001b[2m\u001b[36m(pid=15625)\u001b[0m   type=str,\n"
     ]
    },
    {
     "name": "stdout",
     "output_type": "stream",
     "text": [
      "\u001b[2m\u001b[36m(pid=15622)\u001b[0m Loading Random Controllers E112.pth\n"
     ]
    },
    {
     "name": "stderr",
     "output_type": "stream",
     "text": [
      "\u001b[2m\u001b[36m(pid=15622)\u001b[0m /home/ec2-user/.local/lib/python3.6/site-packages/ray/workers/default_worker.py:58: RuntimeWarning: invalid value encountered in true_divide\n",
      "\u001b[2m\u001b[36m(pid=15622)\u001b[0m   type=str,\n"
     ]
    },
    {
     "name": "stdout",
     "output_type": "stream",
     "text": [
      "\u001b[2m\u001b[36m(pid=15618)\u001b[0m Loading Random Controllers E56.pth\n"
     ]
    },
    {
     "name": "stderr",
     "output_type": "stream",
     "text": [
      "\u001b[2m\u001b[36m(pid=15618)\u001b[0m /home/ec2-user/.local/lib/python3.6/site-packages/ray/workers/default_worker.py:58: RuntimeWarning: invalid value encountered in true_divide\n",
      "\u001b[2m\u001b[36m(pid=15618)\u001b[0m   type=str,\n"
     ]
    },
    {
     "name": "stdout",
     "output_type": "stream",
     "text": [
      "\u001b[2m\u001b[36m(pid=15617)\u001b[0m Loading Random Controllers E104.pth\n"
     ]
    },
    {
     "name": "stderr",
     "output_type": "stream",
     "text": [
      "\u001b[2m\u001b[36m(pid=15617)\u001b[0m /home/ec2-user/.local/lib/python3.6/site-packages/ray/workers/default_worker.py:58: RuntimeWarning: invalid value encountered in true_divide\n",
      "\u001b[2m\u001b[36m(pid=15617)\u001b[0m   type=str,\n"
     ]
    },
    {
     "name": "stdout",
     "output_type": "stream",
     "text": [
      "\u001b[2m\u001b[36m(pid=15612)\u001b[0m Game 213 Draw\n",
      "\u001b[2m\u001b[36m(pid=15612)\u001b[0m WARNING DELETING EXPERIENCES\n",
      "\u001b[2m\u001b[36m(pid=15611)\u001b[0m Game 218 Draw\n",
      "\u001b[2m\u001b[36m(pid=15611)\u001b[0m WARNING DELETING EXPERIENCES\n",
      "\u001b[2m\u001b[36m(pid=15624)\u001b[0m Game 212 Draw\n",
      "\u001b[2m\u001b[36m(pid=15624)\u001b[0m WARNING DELETING EXPERIENCES\n",
      "\u001b[2m\u001b[36m(pid=15625)\u001b[0m Game 220 Draw\n",
      "\u001b[2m\u001b[36m(pid=15625)\u001b[0m WARNING DELETING EXPERIENCES\n",
      "\u001b[2m\u001b[36m(pid=15620)\u001b[0m Game 219 Draw\n",
      "\u001b[2m\u001b[36m(pid=15620)\u001b[0m WARNING DELETING EXPERIENCES\n",
      "\u001b[2m\u001b[36m(pid=15614)\u001b[0m Game 217 Draw\n",
      "\u001b[2m\u001b[36m(pid=15614)\u001b[0m WARNING DELETING EXPERIENCES\n",
      "\u001b[2m\u001b[36m(pid=15619)\u001b[0m Game 210 Draw\n",
      "\u001b[2m\u001b[36m(pid=15619)\u001b[0m WARNING DELETING EXPERIENCES\n",
      "\u001b[2m\u001b[36m(pid=15623)\u001b[0m Game 216 Draw\n",
      "\u001b[2m\u001b[36m(pid=15623)\u001b[0m WARNING DELETING EXPERIENCES\n",
      "\u001b[2m\u001b[36m(pid=15616)\u001b[0m Game 208 Draw\n",
      "\u001b[2m\u001b[36m(pid=15616)\u001b[0m WARNING DELETING EXPERIENCES\n",
      "\u001b[2m\u001b[36m(pid=15610)\u001b[0m Game 215 Draw\n",
      "\u001b[2m\u001b[36m(pid=15610)\u001b[0m WARNING DELETING EXPERIENCES\n",
      "\u001b[2m\u001b[36m(pid=15618)\u001b[0m Game 222 Draw\n",
      "\u001b[2m\u001b[36m(pid=15618)\u001b[0m WARNING DELETING EXPERIENCES\n",
      "\u001b[2m\u001b[36m(pid=15615)\u001b[0m Game 211 Draw\n",
      "\u001b[2m\u001b[36m(pid=15615)\u001b[0m WARNING DELETING EXPERIENCES\n",
      "\u001b[2m\u001b[36m(pid=15622)\u001b[0m Game 221 Draw\n",
      "\u001b[2m\u001b[36m(pid=15622)\u001b[0m WARNING DELETING EXPERIENCES\n",
      "\u001b[2m\u001b[36m(pid=15613)\u001b[0m Game 214 Draw\n",
      "\u001b[2m\u001b[36m(pid=15613)\u001b[0m WARNING DELETING EXPERIENCES\n",
      "\u001b[2m\u001b[36m(pid=15621)\u001b[0m Game 209 Draw\n",
      "\u001b[2m\u001b[36m(pid=15621)\u001b[0m WARNING DELETING EXPERIENCES\n",
      "\u001b[2m\u001b[36m(pid=15617)\u001b[0m Game 223 Draw\n",
      "\u001b[2m\u001b[36m(pid=15617)\u001b[0m WARNING DELETING EXPERIENCES\n",
      "ACTOR LOSS 5895.1171875 | CRITIC LOSS 45.97846221923828\n",
      "ACTOR LOSS 5843.76025390625 | CRITIC LOSS 50.29513931274414\n",
      "ACTOR LOSS 5824.4482421875 | CRITIC LOSS 51.62848663330078\n",
      "ACTOR LOSS 5930.85888671875 | CRITIC LOSS 43.44321823120117\n",
      "ACTOR LOSS 5899.9501953125 | CRITIC LOSS 41.02841567993164\n",
      "ACTOR LOSS 5869.83740234375 | CRITIC LOSS 43.54025650024414\n",
      "ACTOR LOSS 5926.3154296875 | CRITIC LOSS 51.00853729248047\n",
      "SAVING\n",
      "ACTOR LOSS 5940.58154296875 | CRITIC LOSS 41.51800537109375\n",
      "ACTOR LOSS 5896.8271484375 | CRITIC LOSS 42.5408935546875\n",
      "ACTOR LOSS 5775.3759765625 | CRITIC LOSS 48.93116760253906\n",
      "\u001b[2m\u001b[36m(pid=15621)\u001b[0m Loading Random Controllers E0.pth\n"
     ]
    },
    {
     "name": "stderr",
     "output_type": "stream",
     "text": [
      "\u001b[2m\u001b[36m(pid=15621)\u001b[0m /home/ec2-user/.local/lib/python3.6/site-packages/ray/workers/default_worker.py:58: RuntimeWarning: invalid value encountered in true_divide\n",
      "\u001b[2m\u001b[36m(pid=15621)\u001b[0m   type=str,\n"
     ]
    },
    {
     "name": "stdout",
     "output_type": "stream",
     "text": [
      "\u001b[2m\u001b[36m(pid=15615)\u001b[0m Loading Random Controllers E80.pth\n"
     ]
    },
    {
     "name": "stderr",
     "output_type": "stream",
     "text": [
      "\u001b[2m\u001b[36m(pid=15615)\u001b[0m /home/ec2-user/.local/lib/python3.6/site-packages/ray/workers/default_worker.py:58: RuntimeWarning: invalid value encountered in true_divide\n",
      "\u001b[2m\u001b[36m(pid=15615)\u001b[0m   type=str,\n"
     ]
    },
    {
     "name": "stdout",
     "output_type": "stream",
     "text": [
      "\u001b[2m\u001b[36m(pid=15617)\u001b[0m Loading Random Controllers E120.pth\n",
      "\u001b[2m\u001b[36m(pid=15618)\u001b[0m Loading Random Controllers E120.pth\n"
     ]
    },
    {
     "name": "stderr",
     "output_type": "stream",
     "text": [
      "\u001b[2m\u001b[36m(pid=15617)\u001b[0m /home/ec2-user/.local/lib/python3.6/site-packages/ray/workers/default_worker.py:58: RuntimeWarning: invalid value encountered in true_divide\n",
      "\u001b[2m\u001b[36m(pid=15617)\u001b[0m   type=str,\n",
      "\u001b[2m\u001b[36m(pid=15618)\u001b[0m /home/ec2-user/.local/lib/python3.6/site-packages/ray/workers/default_worker.py:58: RuntimeWarning: invalid value encountered in true_divide\n",
      "\u001b[2m\u001b[36m(pid=15618)\u001b[0m   type=str,\n"
     ]
    },
    {
     "name": "stdout",
     "output_type": "stream",
     "text": [
      "\u001b[2m\u001b[36m(pid=15616)\u001b[0m Loading Random Controllers E64.pth\n"
     ]
    },
    {
     "name": "stderr",
     "output_type": "stream",
     "text": [
      "\u001b[2m\u001b[36m(pid=15616)\u001b[0m /home/ec2-user/.local/lib/python3.6/site-packages/ray/workers/default_worker.py:58: RuntimeWarning: invalid value encountered in true_divide\n",
      "\u001b[2m\u001b[36m(pid=15616)\u001b[0m   type=str,\n"
     ]
    },
    {
     "name": "stdout",
     "output_type": "stream",
     "text": [
      "\u001b[2m\u001b[36m(pid=15613)\u001b[0m Loading Random Controllers E136.pth\n"
     ]
    },
    {
     "name": "stderr",
     "output_type": "stream",
     "text": [
      "\u001b[2m\u001b[36m(pid=15613)\u001b[0m /home/ec2-user/.local/lib/python3.6/site-packages/ray/workers/default_worker.py:58: RuntimeWarning: invalid value encountered in true_divide\n",
      "\u001b[2m\u001b[36m(pid=15613)\u001b[0m   type=str,\n"
     ]
    },
    {
     "name": "stdout",
     "output_type": "stream",
     "text": [
      "\u001b[2m\u001b[36m(pid=15610)\u001b[0m Loading Random Controllers E0.pth\n"
     ]
    },
    {
     "name": "stderr",
     "output_type": "stream",
     "text": [
      "\u001b[2m\u001b[36m(pid=15610)\u001b[0m /home/ec2-user/.local/lib/python3.6/site-packages/ray/workers/default_worker.py:58: RuntimeWarning: invalid value encountered in true_divide\n",
      "\u001b[2m\u001b[36m(pid=15610)\u001b[0m   type=str,\n"
     ]
    },
    {
     "name": "stdout",
     "output_type": "stream",
     "text": [
      "\u001b[2m\u001b[36m(pid=15623)\u001b[0m Loading Random Controllers E24.pth\n"
     ]
    },
    {
     "name": "stderr",
     "output_type": "stream",
     "text": [
      "\u001b[2m\u001b[36m(pid=15623)\u001b[0m /home/ec2-user/.local/lib/python3.6/site-packages/ray/workers/default_worker.py:58: RuntimeWarning: invalid value encountered in true_divide\n",
      "\u001b[2m\u001b[36m(pid=15623)\u001b[0m   type=str,\n"
     ]
    },
    {
     "name": "stdout",
     "output_type": "stream",
     "text": [
      "\u001b[2m\u001b[36m(pid=15619)\u001b[0m Loading Random Controllers E40.pth\n"
     ]
    },
    {
     "name": "stderr",
     "output_type": "stream",
     "text": [
      "\u001b[2m\u001b[36m(pid=15619)\u001b[0m /home/ec2-user/.local/lib/python3.6/site-packages/ray/workers/default_worker.py:58: RuntimeWarning: invalid value encountered in true_divide\n",
      "\u001b[2m\u001b[36m(pid=15619)\u001b[0m   type=str,\n"
     ]
    },
    {
     "name": "stdout",
     "output_type": "stream",
     "text": [
      "\u001b[2m\u001b[36m(pid=15620)\u001b[0m Loading Random Controllers E88.pth\n"
     ]
    },
    {
     "name": "stderr",
     "output_type": "stream",
     "text": [
      "\u001b[2m\u001b[36m(pid=15620)\u001b[0m /home/ec2-user/.local/lib/python3.6/site-packages/ray/workers/default_worker.py:58: RuntimeWarning: invalid value encountered in true_divide\n",
      "\u001b[2m\u001b[36m(pid=15620)\u001b[0m   type=str,\n"
     ]
    },
    {
     "name": "stdout",
     "output_type": "stream",
     "text": [
      "\u001b[2m\u001b[36m(pid=15622)\u001b[0m Loading Random Controllers E56.pth\n"
     ]
    },
    {
     "name": "stderr",
     "output_type": "stream",
     "text": [
      "\u001b[2m\u001b[36m(pid=15622)\u001b[0m /home/ec2-user/.local/lib/python3.6/site-packages/ray/workers/default_worker.py:58: RuntimeWarning: invalid value encountered in true_divide\n",
      "\u001b[2m\u001b[36m(pid=15622)\u001b[0m   type=str,\n"
     ]
    },
    {
     "name": "stdout",
     "output_type": "stream",
     "text": [
      "\u001b[2m\u001b[36m(pid=15625)\u001b[0m Loading Random Controllers E0.pth\n"
     ]
    },
    {
     "name": "stderr",
     "output_type": "stream",
     "text": [
      "\u001b[2m\u001b[36m(pid=15625)\u001b[0m /home/ec2-user/.local/lib/python3.6/site-packages/ray/workers/default_worker.py:58: RuntimeWarning: invalid value encountered in true_divide\n",
      "\u001b[2m\u001b[36m(pid=15625)\u001b[0m   type=str,\n"
     ]
    },
    {
     "name": "stdout",
     "output_type": "stream",
     "text": [
      "\u001b[2m\u001b[36m(pid=15624)\u001b[0m Loading Random Controllers E80.pth\n"
     ]
    },
    {
     "name": "stderr",
     "output_type": "stream",
     "text": [
      "\u001b[2m\u001b[36m(pid=15624)\u001b[0m /home/ec2-user/.local/lib/python3.6/site-packages/ray/workers/default_worker.py:58: RuntimeWarning: invalid value encountered in true_divide\n",
      "\u001b[2m\u001b[36m(pid=15624)\u001b[0m   type=str,\n"
     ]
    },
    {
     "name": "stdout",
     "output_type": "stream",
     "text": [
      "\u001b[2m\u001b[36m(pid=15614)\u001b[0m Loading Random Controllers E0.pth\n"
     ]
    },
    {
     "name": "stderr",
     "output_type": "stream",
     "text": [
      "\u001b[2m\u001b[36m(pid=15614)\u001b[0m /home/ec2-user/.local/lib/python3.6/site-packages/ray/workers/default_worker.py:58: RuntimeWarning: invalid value encountered in true_divide\n",
      "\u001b[2m\u001b[36m(pid=15614)\u001b[0m   type=str,\n"
     ]
    },
    {
     "name": "stdout",
     "output_type": "stream",
     "text": [
      "\u001b[2m\u001b[36m(pid=15611)\u001b[0m Loading Random Controllers E64.pth\n"
     ]
    },
    {
     "name": "stderr",
     "output_type": "stream",
     "text": [
      "\u001b[2m\u001b[36m(pid=15611)\u001b[0m /home/ec2-user/.local/lib/python3.6/site-packages/ray/workers/default_worker.py:58: RuntimeWarning: invalid value encountered in true_divide\n",
      "\u001b[2m\u001b[36m(pid=15611)\u001b[0m   type=str,\n"
     ]
    },
    {
     "name": "stdout",
     "output_type": "stream",
     "text": [
      "\u001b[2m\u001b[36m(pid=15612)\u001b[0m Loading Random Controllers E0.pth\n"
     ]
    },
    {
     "name": "stderr",
     "output_type": "stream",
     "text": [
      "\u001b[2m\u001b[36m(pid=15612)\u001b[0m /home/ec2-user/.local/lib/python3.6/site-packages/ray/workers/default_worker.py:58: RuntimeWarning: invalid value encountered in true_divide\n",
      "\u001b[2m\u001b[36m(pid=15612)\u001b[0m   type=str,\n"
     ]
    },
    {
     "name": "stdout",
     "output_type": "stream",
     "text": [
      "\u001b[2m\u001b[36m(pid=15613)\u001b[0m Game 229 White Loss\n",
      "\u001b[2m\u001b[36m(pid=15622)\u001b[0m Game 234 White Won\n",
      "\u001b[2m\u001b[36m(pid=15619)\u001b[0m Game 232 White Won\n",
      "\u001b[2m\u001b[36m(pid=15620)\u001b[0m Game 233 White Loss\n",
      "\u001b[2m\u001b[36m(pid=15610)\u001b[0m Game 230 Draw\n",
      "\u001b[2m\u001b[36m(pid=15610)\u001b[0m WARNING DELETING EXPERIENCES\n",
      "\u001b[2m\u001b[36m(pid=15615)\u001b[0m Game 225 Draw\n",
      "\u001b[2m\u001b[36m(pid=15615)\u001b[0m WARNING DELETING EXPERIENCES\n",
      "\u001b[2m\u001b[36m(pid=15612)\u001b[0m Game 239 Draw\n",
      "\u001b[2m\u001b[36m(pid=15612)\u001b[0m WARNING DELETING EXPERIENCES\n",
      "\u001b[2m\u001b[36m(pid=15617)\u001b[0m Game 226 Draw\n",
      "\u001b[2m\u001b[36m(pid=15617)\u001b[0m WARNING DELETING EXPERIENCES\n",
      "\u001b[2m\u001b[36m(pid=15611)\u001b[0m Game 238 Draw\n",
      "\u001b[2m\u001b[36m(pid=15611)\u001b[0m WARNING DELETING EXPERIENCES\n",
      "\u001b[2m\u001b[36m(pid=15614)\u001b[0m Game 237 Draw\n",
      "\u001b[2m\u001b[36m(pid=15614)\u001b[0m WARNING DELETING EXPERIENCES\n",
      "\u001b[2m\u001b[36m(pid=15623)\u001b[0m Game 231 Draw\n",
      "\u001b[2m\u001b[36m(pid=15623)\u001b[0m WARNING DELETING EXPERIENCES\n",
      "\u001b[2m\u001b[36m(pid=15618)\u001b[0m Game 227 Draw\n",
      "\u001b[2m\u001b[36m(pid=15618)\u001b[0m WARNING DELETING EXPERIENCES\n",
      "\u001b[2m\u001b[36m(pid=15621)\u001b[0m Game 224 Draw\n",
      "\u001b[2m\u001b[36m(pid=15621)\u001b[0m WARNING DELETING EXPERIENCES\n",
      "\u001b[2m\u001b[36m(pid=15624)\u001b[0m Game 236 Draw\n",
      "\u001b[2m\u001b[36m(pid=15624)\u001b[0m WARNING DELETING EXPERIENCES\n",
      "\u001b[2m\u001b[36m(pid=15625)\u001b[0m Game 235 Draw\n",
      "\u001b[2m\u001b[36m(pid=15625)\u001b[0m WARNING DELETING EXPERIENCES\n",
      "\u001b[2m\u001b[36m(pid=15616)\u001b[0m Game 228 Draw\n",
      "\u001b[2m\u001b[36m(pid=15616)\u001b[0m WARNING DELETING EXPERIENCES\n",
      "ACTOR LOSS 5914.44482421875 | CRITIC LOSS 53.288848876953125\n",
      "ACTOR LOSS 5930.76708984375 | CRITIC LOSS 42.48239517211914\n",
      "ACTOR LOSS 5919.8955078125 | CRITIC LOSS 37.390384674072266\n",
      "ACTOR LOSS 5910.123046875 | CRITIC LOSS 35.09889602661133\n",
      "ACTOR LOSS 5922.70556640625 | CRITIC LOSS 38.667945861816406\n",
      "SAVING\n",
      "ACTOR LOSS 5877.2119140625 | CRITIC LOSS 35.960975646972656\n",
      "ACTOR LOSS 5871.7646484375 | CRITIC LOSS 33.84580612182617\n",
      "ACTOR LOSS 5797.2958984375 | CRITIC LOSS 32.576141357421875\n",
      "ACTOR LOSS 5993.23974609375 | CRITIC LOSS 34.20164489746094\n",
      "ACTOR LOSS 5878.3662109375 | CRITIC LOSS 30.601322174072266\n",
      "\u001b[2m\u001b[36m(pid=15616)\u001b[0m Loading Random Controllers E96.pth\n"
     ]
    },
    {
     "name": "stderr",
     "output_type": "stream",
     "text": [
      "\u001b[2m\u001b[36m(pid=15616)\u001b[0m /home/ec2-user/.local/lib/python3.6/site-packages/ray/workers/default_worker.py:58: RuntimeWarning: invalid value encountered in true_divide\n",
      "\u001b[2m\u001b[36m(pid=15616)\u001b[0m   type=str,\n"
     ]
    },
    {
     "name": "stdout",
     "output_type": "stream",
     "text": [
      "\u001b[2m\u001b[36m(pid=15624)\u001b[0m Loading Random Controllers E128.pth\n"
     ]
    },
    {
     "name": "stderr",
     "output_type": "stream",
     "text": [
      "\u001b[2m\u001b[36m(pid=15624)\u001b[0m /home/ec2-user/.local/lib/python3.6/site-packages/ray/workers/default_worker.py:58: RuntimeWarning: invalid value encountered in true_divide\n",
      "\u001b[2m\u001b[36m(pid=15624)\u001b[0m   type=str,\n"
     ]
    },
    {
     "name": "stdout",
     "output_type": "stream",
     "text": [
      "\u001b[2m\u001b[36m(pid=15621)\u001b[0m Loading Random Controllers E88.pth\n"
     ]
    },
    {
     "name": "stderr",
     "output_type": "stream",
     "text": [
      "\u001b[2m\u001b[36m(pid=15621)\u001b[0m /home/ec2-user/.local/lib/python3.6/site-packages/ray/workers/default_worker.py:58: RuntimeWarning: invalid value encountered in true_divide\n",
      "\u001b[2m\u001b[36m(pid=15621)\u001b[0m   type=str,\n",
      "\u001b[2m\u001b[36m(pid=15614)\u001b[0m /home/ec2-user/.local/lib/python3.6/site-packages/ray/workers/default_worker.py:58: RuntimeWarning: invalid value encountered in true_divide\n",
      "\u001b[2m\u001b[36m(pid=15614)\u001b[0m   type=str,\n"
     ]
    },
    {
     "name": "stdout",
     "output_type": "stream",
     "text": [
      "\u001b[2m\u001b[36m(pid=15614)\u001b[0m Loading Random Controllers E128.pth\n",
      "\u001b[2m\u001b[36m(pid=15611)\u001b[0m Loading Random Controllers E0.pth\n"
     ]
    },
    {
     "name": "stderr",
     "output_type": "stream",
     "text": [
      "\u001b[2m\u001b[36m(pid=15611)\u001b[0m /home/ec2-user/.local/lib/python3.6/site-packages/ray/workers/default_worker.py:58: RuntimeWarning: invalid value encountered in true_divide\n",
      "\u001b[2m\u001b[36m(pid=15611)\u001b[0m   type=str,\n"
     ]
    },
    {
     "name": "stdout",
     "output_type": "stream",
     "text": [
      "\u001b[2m\u001b[36m(pid=15618)\u001b[0m Loading Random Controllers E72.pth\n"
     ]
    },
    {
     "name": "stderr",
     "output_type": "stream",
     "text": [
      "\u001b[2m\u001b[36m(pid=15618)\u001b[0m /home/ec2-user/.local/lib/python3.6/site-packages/ray/workers/default_worker.py:58: RuntimeWarning: invalid value encountered in true_divide\n",
      "\u001b[2m\u001b[36m(pid=15618)\u001b[0m   type=str,\n"
     ]
    },
    {
     "name": "stdout",
     "output_type": "stream",
     "text": [
      "\u001b[2m\u001b[36m(pid=15617)\u001b[0m Loading Random Controllers E40.pth\n"
     ]
    },
    {
     "name": "stderr",
     "output_type": "stream",
     "text": [
      "\u001b[2m\u001b[36m(pid=15617)\u001b[0m /home/ec2-user/.local/lib/python3.6/site-packages/ray/workers/default_worker.py:58: RuntimeWarning: invalid value encountered in true_divide\n",
      "\u001b[2m\u001b[36m(pid=15617)\u001b[0m   type=str,\n",
      "\u001b[2m\u001b[36m(pid=15615)\u001b[0m /home/ec2-user/.local/lib/python3.6/site-packages/ray/workers/default_worker.py:58: RuntimeWarning: invalid value encountered in true_divide\n",
      "\u001b[2m\u001b[36m(pid=15615)\u001b[0m   type=str,\n"
     ]
    },
    {
     "name": "stdout",
     "output_type": "stream",
     "text": [
      "\u001b[2m\u001b[36m(pid=15615)\u001b[0m Loading Random Controllers E64.pth\n",
      "\u001b[2m\u001b[36m(pid=15612)\u001b[0m Loading Random Controllers E128.pth\n"
     ]
    },
    {
     "name": "stderr",
     "output_type": "stream",
     "text": [
      "\u001b[2m\u001b[36m(pid=15612)\u001b[0m /home/ec2-user/.local/lib/python3.6/site-packages/ray/workers/default_worker.py:58: RuntimeWarning: invalid value encountered in true_divide\n",
      "\u001b[2m\u001b[36m(pid=15612)\u001b[0m   type=str,\n"
     ]
    },
    {
     "name": "stdout",
     "output_type": "stream",
     "text": [
      "\u001b[2m\u001b[36m(pid=15620)\u001b[0m Loading Random Controllers E56.pth\n"
     ]
    },
    {
     "name": "stderr",
     "output_type": "stream",
     "text": [
      "\u001b[2m\u001b[36m(pid=15620)\u001b[0m /home/ec2-user/.local/lib/python3.6/site-packages/ray/workers/default_worker.py:58: RuntimeWarning: invalid value encountered in true_divide\n",
      "\u001b[2m\u001b[36m(pid=15620)\u001b[0m   type=str,\n"
     ]
    },
    {
     "name": "stdout",
     "output_type": "stream",
     "text": [
      "\u001b[2m\u001b[36m(pid=15619)\u001b[0m Loading Random Controllers E88.pth\n"
     ]
    },
    {
     "name": "stderr",
     "output_type": "stream",
     "text": [
      "\u001b[2m\u001b[36m(pid=15619)\u001b[0m /home/ec2-user/.local/lib/python3.6/site-packages/ray/workers/default_worker.py:58: RuntimeWarning: invalid value encountered in true_divide\n",
      "\u001b[2m\u001b[36m(pid=15619)\u001b[0m   type=str,\n",
      "\u001b[2m\u001b[36m(pid=15625)\u001b[0m /home/ec2-user/.local/lib/python3.6/site-packages/ray/workers/default_worker.py:58: RuntimeWarning: invalid value encountered in true_divide\n",
      "\u001b[2m\u001b[36m(pid=15625)\u001b[0m   type=str,\n"
     ]
    },
    {
     "name": "stdout",
     "output_type": "stream",
     "text": [
      "\u001b[2m\u001b[36m(pid=15625)\u001b[0m Loading Random Controllers E56.pth\n",
      "\u001b[2m\u001b[36m(pid=15622)\u001b[0m Loading Random Controllers E16.pth\n"
     ]
    },
    {
     "name": "stderr",
     "output_type": "stream",
     "text": [
      "\u001b[2m\u001b[36m(pid=15622)\u001b[0m /home/ec2-user/.local/lib/python3.6/site-packages/ray/workers/default_worker.py:58: RuntimeWarning: invalid value encountered in true_divide\n",
      "\u001b[2m\u001b[36m(pid=15622)\u001b[0m   type=str,\n"
     ]
    },
    {
     "name": "stdout",
     "output_type": "stream",
     "text": [
      "\u001b[2m\u001b[36m(pid=15623)\u001b[0m Loading Random Controllers E120.pth\n"
     ]
    },
    {
     "name": "stderr",
     "output_type": "stream",
     "text": [
      "\u001b[2m\u001b[36m(pid=15623)\u001b[0m /home/ec2-user/.local/lib/python3.6/site-packages/ray/workers/default_worker.py:58: RuntimeWarning: invalid value encountered in true_divide\n",
      "\u001b[2m\u001b[36m(pid=15623)\u001b[0m   type=str,\n"
     ]
    },
    {
     "name": "stdout",
     "output_type": "stream",
     "text": [
      "\u001b[2m\u001b[36m(pid=15610)\u001b[0m Loading Random Controllers E88.pth\n"
     ]
    },
    {
     "name": "stderr",
     "output_type": "stream",
     "text": [
      "\u001b[2m\u001b[36m(pid=15610)\u001b[0m /home/ec2-user/.local/lib/python3.6/site-packages/ray/workers/default_worker.py:58: RuntimeWarning: invalid value encountered in true_divide\n",
      "\u001b[2m\u001b[36m(pid=15610)\u001b[0m   type=str,\n"
     ]
    },
    {
     "name": "stdout",
     "output_type": "stream",
     "text": [
      "\u001b[2m\u001b[36m(pid=15613)\u001b[0m Loading Random Controllers E32.pth\n"
     ]
    },
    {
     "name": "stderr",
     "output_type": "stream",
     "text": [
      "\u001b[2m\u001b[36m(pid=15613)\u001b[0m /home/ec2-user/.local/lib/python3.6/site-packages/ray/workers/default_worker.py:58: RuntimeWarning: invalid value encountered in true_divide\n",
      "\u001b[2m\u001b[36m(pid=15613)\u001b[0m   type=str,\n"
     ]
    },
    {
     "name": "stdout",
     "output_type": "stream",
     "text": [
      "\u001b[2m\u001b[36m(pid=15612)\u001b[0m Game 248 White Loss\n",
      "\u001b[2m\u001b[36m(pid=15623)\u001b[0m Game 253 Draw\n",
      "\u001b[2m\u001b[36m(pid=15623)\u001b[0m WARNING DELETING EXPERIENCES\n",
      "\u001b[2m\u001b[36m(pid=15613)\u001b[0m Game 255 Draw\n",
      "\u001b[2m\u001b[36m(pid=15613)\u001b[0m WARNING DELETING EXPERIENCES\n",
      "\u001b[2m\u001b[36m(pid=15610)\u001b[0m Game 254 Draw\n",
      "\u001b[2m\u001b[36m(pid=15610)\u001b[0m WARNING DELETING EXPERIENCES\n",
      "\u001b[2m\u001b[36m(pid=15624)\u001b[0m Game 241 Draw\n",
      "\u001b[2m\u001b[36m(pid=15624)\u001b[0m WARNING DELETING EXPERIENCES\n",
      "\u001b[2m\u001b[36m(pid=15625)\u001b[0m Game 251 Draw\n",
      "\u001b[2m\u001b[36m(pid=15625)\u001b[0m WARNING DELETING EXPERIENCES\n",
      "\u001b[2m\u001b[36m(pid=15620)\u001b[0m Game 249 Draw\n",
      "\u001b[2m\u001b[36m(pid=15620)\u001b[0m WARNING DELETING EXPERIENCES\n",
      "\u001b[2m\u001b[36m(pid=15619)\u001b[0m Game 250 Draw\n",
      "\u001b[2m\u001b[36m(pid=15619)\u001b[0m WARNING DELETING EXPERIENCES\n",
      "\u001b[2m\u001b[36m(pid=15618)\u001b[0m Game 245 Draw\n",
      "\u001b[2m\u001b[36m(pid=15618)\u001b[0m WARNING DELETING EXPERIENCES\n",
      "\u001b[2m\u001b[36m(pid=15622)\u001b[0m Game 252 Draw\n",
      "\u001b[2m\u001b[36m(pid=15622)\u001b[0m WARNING DELETING EXPERIENCES\n",
      "\u001b[2m\u001b[36m(pid=15615)\u001b[0m Game 247 Draw\n",
      "\u001b[2m\u001b[36m(pid=15615)\u001b[0m WARNING DELETING EXPERIENCES\n",
      "\u001b[2m\u001b[36m(pid=15614)\u001b[0m Game 243 Draw\n",
      "\u001b[2m\u001b[36m(pid=15614)\u001b[0m WARNING DELETING EXPERIENCES\n",
      "\u001b[2m\u001b[36m(pid=15616)\u001b[0m Game 240 Draw\n",
      "\u001b[2m\u001b[36m(pid=15616)\u001b[0m WARNING DELETING EXPERIENCES\n",
      "\u001b[2m\u001b[36m(pid=15611)\u001b[0m Game 244 Draw\n",
      "\u001b[2m\u001b[36m(pid=15611)\u001b[0m WARNING DELETING EXPERIENCES\n",
      "\u001b[2m\u001b[36m(pid=15621)\u001b[0m Game 242 Draw\n",
      "\u001b[2m\u001b[36m(pid=15621)\u001b[0m WARNING DELETING EXPERIENCES\n",
      "\u001b[2m\u001b[36m(pid=15617)\u001b[0m Game 246 Draw\n",
      "\u001b[2m\u001b[36m(pid=15617)\u001b[0m WARNING DELETING EXPERIENCES\n",
      "ACTOR LOSS 5885.1513671875 | CRITIC LOSS 33.921321868896484\n",
      "ACTOR LOSS 5940.5888671875 | CRITIC LOSS 35.8304328918457\n",
      "ACTOR LOSS 5911.33740234375 | CRITIC LOSS 30.27822494506836\n",
      "SAVING\n",
      "ACTOR LOSS 5826.79541015625 | CRITIC LOSS 31.308773040771484\n",
      "ACTOR LOSS 5955.7490234375 | CRITIC LOSS 29.588808059692383\n",
      "ACTOR LOSS 5917.55224609375 | CRITIC LOSS 31.754776000976562\n",
      "ACTOR LOSS 5881.70849609375 | CRITIC LOSS 34.18832778930664\n",
      "ACTOR LOSS 5966.6669921875 | CRITIC LOSS 27.22144317626953\n",
      "ACTOR LOSS 5956.103515625 | CRITIC LOSS 31.918420791625977\n",
      "ACTOR LOSS 5984.25732421875 | CRITIC LOSS 28.570390701293945\n",
      "\u001b[2m\u001b[36m(pid=15621)\u001b[0m Loading Random Controllers E104.pth\n"
     ]
    },
    {
     "name": "stderr",
     "output_type": "stream",
     "text": [
      "\u001b[2m\u001b[36m(pid=15621)\u001b[0m /home/ec2-user/.local/lib/python3.6/site-packages/ray/workers/default_worker.py:58: RuntimeWarning: invalid value encountered in true_divide\n",
      "\u001b[2m\u001b[36m(pid=15621)\u001b[0m   type=str,\n"
     ]
    },
    {
     "name": "stdout",
     "output_type": "stream",
     "text": [
      "\u001b[2m\u001b[36m(pid=15616)\u001b[0m Loading Random Controllers E88.pth\n"
     ]
    },
    {
     "name": "stderr",
     "output_type": "stream",
     "text": [
      "\u001b[2m\u001b[36m(pid=15616)\u001b[0m /home/ec2-user/.local/lib/python3.6/site-packages/ray/workers/default_worker.py:58: RuntimeWarning: invalid value encountered in true_divide\n",
      "\u001b[2m\u001b[36m(pid=15616)\u001b[0m   type=str,\n"
     ]
    },
    {
     "name": "stdout",
     "output_type": "stream",
     "text": [
      "\u001b[2m\u001b[36m(pid=15611)\u001b[0m Loading Random Controllers E64.pth\n"
     ]
    },
    {
     "name": "stderr",
     "output_type": "stream",
     "text": [
      "\u001b[2m\u001b[36m(pid=15611)\u001b[0m /home/ec2-user/.local/lib/python3.6/site-packages/ray/workers/default_worker.py:58: RuntimeWarning: invalid value encountered in true_divide\n",
      "\u001b[2m\u001b[36m(pid=15611)\u001b[0m   type=str,\n"
     ]
    },
    {
     "name": "stdout",
     "output_type": "stream",
     "text": [
      "\u001b[2m\u001b[36m(pid=15614)\u001b[0m Loading Random Controllers E56.pth\n"
     ]
    },
    {
     "name": "stderr",
     "output_type": "stream",
     "text": [
      "\u001b[2m\u001b[36m(pid=15614)\u001b[0m /home/ec2-user/.local/lib/python3.6/site-packages/ray/workers/default_worker.py:58: RuntimeWarning: invalid value encountered in true_divide\n",
      "\u001b[2m\u001b[36m(pid=15614)\u001b[0m   type=str,\n"
     ]
    },
    {
     "name": "stdout",
     "output_type": "stream",
     "text": [
      "\u001b[2m\u001b[36m(pid=15615)\u001b[0m Loading Random Controllers E96.pth\n",
      "\u001b[2m\u001b[36m(pid=15617)\u001b[0m Loading Random Controllers E96.pth\n"
     ]
    },
    {
     "name": "stderr",
     "output_type": "stream",
     "text": [
      "\u001b[2m\u001b[36m(pid=15615)\u001b[0m /home/ec2-user/.local/lib/python3.6/site-packages/ray/workers/default_worker.py:58: RuntimeWarning: invalid value encountered in true_divide\n",
      "\u001b[2m\u001b[36m(pid=15615)\u001b[0m   type=str,\n",
      "\u001b[2m\u001b[36m(pid=15617)\u001b[0m /home/ec2-user/.local/lib/python3.6/site-packages/ray/workers/default_worker.py:58: RuntimeWarning: invalid value encountered in true_divide\n",
      "\u001b[2m\u001b[36m(pid=15617)\u001b[0m   type=str,\n"
     ]
    },
    {
     "name": "stdout",
     "output_type": "stream",
     "text": [
      "\u001b[2m\u001b[36m(pid=15618)\u001b[0m Loading Random Controllers E40.pth\n"
     ]
    },
    {
     "name": "stderr",
     "output_type": "stream",
     "text": [
      "\u001b[2m\u001b[36m(pid=15618)\u001b[0m /home/ec2-user/.local/lib/python3.6/site-packages/ray/workers/default_worker.py:58: RuntimeWarning: invalid value encountered in true_divide\n",
      "\u001b[2m\u001b[36m(pid=15618)\u001b[0m   type=str,\n",
      "\u001b[2m\u001b[36m(pid=15619)\u001b[0m /home/ec2-user/.local/lib/python3.6/site-packages/ray/workers/default_worker.py:58: RuntimeWarning: invalid value encountered in true_divide\n",
      "\u001b[2m\u001b[36m(pid=15619)\u001b[0m   type=str,\n"
     ]
    },
    {
     "name": "stdout",
     "output_type": "stream",
     "text": [
      "\u001b[2m\u001b[36m(pid=15619)\u001b[0m Loading Random Controllers E32.pth\n",
      "\u001b[2m\u001b[36m(pid=15620)\u001b[0m Loading Random Controllers E64.pth\n"
     ]
    },
    {
     "name": "stderr",
     "output_type": "stream",
     "text": [
      "\u001b[2m\u001b[36m(pid=15620)\u001b[0m /home/ec2-user/.local/lib/python3.6/site-packages/ray/workers/default_worker.py:58: RuntimeWarning: invalid value encountered in true_divide\n",
      "\u001b[2m\u001b[36m(pid=15620)\u001b[0m   type=str,\n"
     ]
    },
    {
     "name": "stdout",
     "output_type": "stream",
     "text": [
      "\u001b[2m\u001b[36m(pid=15622)\u001b[0m Loading Random Controllers E48.pth\n"
     ]
    },
    {
     "name": "stderr",
     "output_type": "stream",
     "text": [
      "\u001b[2m\u001b[36m(pid=15622)\u001b[0m /home/ec2-user/.local/lib/python3.6/site-packages/ray/workers/default_worker.py:58: RuntimeWarning: invalid value encountered in true_divide\n",
      "\u001b[2m\u001b[36m(pid=15622)\u001b[0m   type=str,\n"
     ]
    },
    {
     "name": "stdout",
     "output_type": "stream",
     "text": [
      "\u001b[2m\u001b[36m(pid=15625)\u001b[0m Loading Random Controllers E80.pth\n"
     ]
    },
    {
     "name": "stderr",
     "output_type": "stream",
     "text": [
      "\u001b[2m\u001b[36m(pid=15625)\u001b[0m /home/ec2-user/.local/lib/python3.6/site-packages/ray/workers/default_worker.py:58: RuntimeWarning: invalid value encountered in true_divide\n",
      "\u001b[2m\u001b[36m(pid=15625)\u001b[0m   type=str,\n"
     ]
    },
    {
     "name": "stdout",
     "output_type": "stream",
     "text": [
      "\u001b[2m\u001b[36m(pid=15624)\u001b[0m Loading Random Controllers E24.pth\n"
     ]
    },
    {
     "name": "stderr",
     "output_type": "stream",
     "text": [
      "\u001b[2m\u001b[36m(pid=15624)\u001b[0m /home/ec2-user/.local/lib/python3.6/site-packages/ray/workers/default_worker.py:58: RuntimeWarning: invalid value encountered in true_divide\n",
      "\u001b[2m\u001b[36m(pid=15624)\u001b[0m   type=str,\n"
     ]
    },
    {
     "name": "stdout",
     "output_type": "stream",
     "text": [
      "\u001b[2m\u001b[36m(pid=15610)\u001b[0m Loading Random Controllers E104.pth\n"
     ]
    },
    {
     "name": "stderr",
     "output_type": "stream",
     "text": [
      "\u001b[2m\u001b[36m(pid=15610)\u001b[0m /home/ec2-user/.local/lib/python3.6/site-packages/ray/workers/default_worker.py:58: RuntimeWarning: invalid value encountered in true_divide\n",
      "\u001b[2m\u001b[36m(pid=15610)\u001b[0m   type=str,\n"
     ]
    },
    {
     "name": "stdout",
     "output_type": "stream",
     "text": [
      "\u001b[2m\u001b[36m(pid=15613)\u001b[0m Loading Random Controllers E56.pth\n"
     ]
    },
    {
     "name": "stderr",
     "output_type": "stream",
     "text": [
      "\u001b[2m\u001b[36m(pid=15613)\u001b[0m /home/ec2-user/.local/lib/python3.6/site-packages/ray/workers/default_worker.py:58: RuntimeWarning: invalid value encountered in true_divide\n",
      "\u001b[2m\u001b[36m(pid=15613)\u001b[0m   type=str,\n"
     ]
    },
    {
     "name": "stdout",
     "output_type": "stream",
     "text": [
      "\u001b[2m\u001b[36m(pid=15623)\u001b[0m Loading Random Controllers E8.pth\n"
     ]
    },
    {
     "name": "stderr",
     "output_type": "stream",
     "text": [
      "\u001b[2m\u001b[36m(pid=15623)\u001b[0m /home/ec2-user/.local/lib/python3.6/site-packages/ray/workers/default_worker.py:58: RuntimeWarning: invalid value encountered in true_divide\n",
      "\u001b[2m\u001b[36m(pid=15623)\u001b[0m   type=str,\n"
     ]
    },
    {
     "name": "stdout",
     "output_type": "stream",
     "text": [
      "\u001b[2m\u001b[36m(pid=15612)\u001b[0m Loading Random Controllers E96.pth\n"
     ]
    },
    {
     "name": "stderr",
     "output_type": "stream",
     "text": [
      "\u001b[2m\u001b[36m(pid=15612)\u001b[0m /home/ec2-user/.local/lib/python3.6/site-packages/ray/workers/default_worker.py:58: RuntimeWarning: invalid value encountered in true_divide\n",
      "\u001b[2m\u001b[36m(pid=15612)\u001b[0m   type=str,\n"
     ]
    },
    {
     "name": "stdout",
     "output_type": "stream",
     "text": [
      "\u001b[2m\u001b[36m(pid=15615)\u001b[0m Game 260 White Won\n",
      "\u001b[2m\u001b[36m(pid=15624)\u001b[0m Game 267 Draw\n",
      "\u001b[2m\u001b[36m(pid=15624)\u001b[0m WARNING DELETING EXPERIENCES\n",
      "\u001b[2m\u001b[36m(pid=15621)\u001b[0m Game 256 Draw\n",
      "\u001b[2m\u001b[36m(pid=15621)\u001b[0m WARNING DELETING EXPERIENCES\n",
      "\u001b[2m\u001b[36m(pid=15616)\u001b[0m Game 257 Draw\n",
      "\u001b[2m\u001b[36m(pid=15616)\u001b[0m WARNING DELETING EXPERIENCES\n",
      "\u001b[2m\u001b[36m(pid=15625)\u001b[0m Game 266 Draw\n",
      "\u001b[2m\u001b[36m(pid=15625)\u001b[0m WARNING DELETING EXPERIENCES\n",
      "\u001b[2m\u001b[36m(pid=15623)\u001b[0m Game 270 Draw\n",
      "\u001b[2m\u001b[36m(pid=15623)\u001b[0m WARNING DELETING EXPERIENCES\n",
      "\u001b[2m\u001b[36m(pid=15622)\u001b[0m Game 265 Draw\n",
      "\u001b[2m\u001b[36m(pid=15622)\u001b[0m WARNING DELETING EXPERIENCES\n",
      "\u001b[2m\u001b[36m(pid=15619)\u001b[0m Game 263 Draw\n",
      "\u001b[2m\u001b[36m(pid=15619)\u001b[0m WARNING DELETING EXPERIENCES\n",
      "\u001b[2m\u001b[36m(pid=15620)\u001b[0m Game 264 Draw\n",
      "\u001b[2m\u001b[36m(pid=15620)\u001b[0m WARNING DELETING EXPERIENCES\n",
      "\u001b[2m\u001b[36m(pid=15618)\u001b[0m Game 262 Draw\n",
      "\u001b[2m\u001b[36m(pid=15618)\u001b[0m WARNING DELETING EXPERIENCES\n",
      "\u001b[2m\u001b[36m(pid=15617)\u001b[0m Game 261 Draw\n",
      "\u001b[2m\u001b[36m(pid=15617)\u001b[0m WARNING DELETING EXPERIENCES\n",
      "\u001b[2m\u001b[36m(pid=15612)\u001b[0m Game 271 Draw\n",
      "\u001b[2m\u001b[36m(pid=15612)\u001b[0m WARNING DELETING EXPERIENCES\n",
      "\u001b[2m\u001b[36m(pid=15613)\u001b[0m Game 269 Draw\n",
      "\u001b[2m\u001b[36m(pid=15613)\u001b[0m WARNING DELETING EXPERIENCES\n",
      "\u001b[2m\u001b[36m(pid=15614)\u001b[0m Game 259 Draw\n",
      "\u001b[2m\u001b[36m(pid=15614)\u001b[0m WARNING DELETING EXPERIENCES\n",
      "\u001b[2m\u001b[36m(pid=15610)\u001b[0m Game 268 Draw\n",
      "\u001b[2m\u001b[36m(pid=15610)\u001b[0m WARNING DELETING EXPERIENCES\n",
      "\u001b[2m\u001b[36m(pid=15611)\u001b[0m Game 258 Draw\n",
      "\u001b[2m\u001b[36m(pid=15611)\u001b[0m WARNING DELETING EXPERIENCES\n",
      "ACTOR LOSS 5865.7841796875 | CRITIC LOSS 30.799753189086914\n",
      "SAVING\n",
      "ACTOR LOSS 5919.1318359375 | CRITIC LOSS 22.76339340209961\n",
      "ACTOR LOSS 5918.849609375 | CRITIC LOSS 34.15346145629883\n",
      "ACTOR LOSS 5973.75048828125 | CRITIC LOSS 20.942598342895508\n",
      "ACTOR LOSS 5935.23046875 | CRITIC LOSS 21.494064331054688\n",
      "ACTOR LOSS 5857.48583984375 | CRITIC LOSS 19.288707733154297\n",
      "ACTOR LOSS 5912.6484375 | CRITIC LOSS 26.655330657958984\n",
      "ACTOR LOSS 5960.09130859375 | CRITIC LOSS 27.61676788330078\n",
      "ACTOR LOSS 5919.08447265625 | CRITIC LOSS 21.382488250732422\n",
      "SAVING\n",
      "ACTOR LOSS 5907.36669921875 | CRITIC LOSS 21.82962989807129\n"
     ]
    },
    {
     "name": "stderr",
     "output_type": "stream",
     "text": [
      "\u001b[2m\u001b[36m(pid=15611)\u001b[0m /home/ec2-user/.local/lib/python3.6/site-packages/ray/workers/default_worker.py:58: RuntimeWarning: invalid value encountered in true_divide\n",
      "\u001b[2m\u001b[36m(pid=15611)\u001b[0m   type=str,\n"
     ]
    },
    {
     "name": "stdout",
     "output_type": "stream",
     "text": [
      "\u001b[2m\u001b[36m(pid=15611)\u001b[0m Loading Random Controllers E104.pth\n"
     ]
    },
    {
     "name": "stderr",
     "output_type": "stream",
     "text": [
      "\u001b[2m\u001b[36m(pid=15614)\u001b[0m /home/ec2-user/.local/lib/python3.6/site-packages/ray/workers/default_worker.py:58: RuntimeWarning: invalid value encountered in true_divide\n",
      "\u001b[2m\u001b[36m(pid=15614)\u001b[0m   type=str,\n"
     ]
    },
    {
     "name": "stdout",
     "output_type": "stream",
     "text": [
      "\u001b[2m\u001b[36m(pid=15614)\u001b[0m Loading Random Controllers E48.pth\n",
      "\u001b[2m\u001b[36m(pid=15612)\u001b[0m Loading Random Controllers E128.pth\n"
     ]
    },
    {
     "name": "stderr",
     "output_type": "stream",
     "text": [
      "\u001b[2m\u001b[36m(pid=15612)\u001b[0m /home/ec2-user/.local/lib/python3.6/site-packages/ray/workers/default_worker.py:58: RuntimeWarning: invalid value encountered in true_divide\n",
      "\u001b[2m\u001b[36m(pid=15612)\u001b[0m   type=str,\n"
     ]
    },
    {
     "name": "stdout",
     "output_type": "stream",
     "text": [
      "\u001b[2m\u001b[36m(pid=15617)\u001b[0m Loading Random Controllers E0.pth\n"
     ]
    },
    {
     "name": "stderr",
     "output_type": "stream",
     "text": [
      "\u001b[2m\u001b[36m(pid=15617)\u001b[0m /home/ec2-user/.local/lib/python3.6/site-packages/ray/workers/default_worker.py:58: RuntimeWarning: invalid value encountered in true_divide\n",
      "\u001b[2m\u001b[36m(pid=15617)\u001b[0m   type=str,\n"
     ]
    },
    {
     "name": "stdout",
     "output_type": "stream",
     "text": [
      "\u001b[2m\u001b[36m(pid=15618)\u001b[0m Loading Random Controllers E40.pth\n"
     ]
    },
    {
     "name": "stderr",
     "output_type": "stream",
     "text": [
      "\u001b[2m\u001b[36m(pid=15618)\u001b[0m /home/ec2-user/.local/lib/python3.6/site-packages/ray/workers/default_worker.py:58: RuntimeWarning: invalid value encountered in true_divide\n",
      "\u001b[2m\u001b[36m(pid=15618)\u001b[0m   type=str,\n"
     ]
    },
    {
     "name": "stdout",
     "output_type": "stream",
     "text": [
      "\u001b[2m\u001b[36m(pid=15620)\u001b[0m Loading Random Controllers E104.pth\n"
     ]
    },
    {
     "name": "stderr",
     "output_type": "stream",
     "text": [
      "\u001b[2m\u001b[36m(pid=15620)\u001b[0m /home/ec2-user/.local/lib/python3.6/site-packages/ray/workers/default_worker.py:58: RuntimeWarning: invalid value encountered in true_divide\n",
      "\u001b[2m\u001b[36m(pid=15620)\u001b[0m   type=str,\n",
      "\u001b[2m\u001b[36m(pid=15619)\u001b[0m /home/ec2-user/.local/lib/python3.6/site-packages/ray/workers/default_worker.py:58: RuntimeWarning: invalid value encountered in true_divide\n",
      "\u001b[2m\u001b[36m(pid=15619)\u001b[0m   type=str,\n"
     ]
    },
    {
     "name": "stdout",
     "output_type": "stream",
     "text": [
      "\u001b[2m\u001b[36m(pid=15619)\u001b[0m Loading Random Controllers E128.pth\n",
      "\u001b[2m\u001b[36m(pid=15610)\u001b[0m Loading Random Controllers E0.pth\n",
      "\u001b[2m\u001b[36m(pid=15613)\u001b[0m Loading Random Controllers E24.pth\n"
     ]
    },
    {
     "name": "stderr",
     "output_type": "stream",
     "text": [
      "\u001b[2m\u001b[36m(pid=15610)\u001b[0m /home/ec2-user/.local/lib/python3.6/site-packages/ray/workers/default_worker.py:58: RuntimeWarning: invalid value encountered in true_divide\n",
      "\u001b[2m\u001b[36m(pid=15610)\u001b[0m   type=str,\n",
      "\u001b[2m\u001b[36m(pid=15613)\u001b[0m /home/ec2-user/.local/lib/python3.6/site-packages/ray/workers/default_worker.py:58: RuntimeWarning: invalid value encountered in true_divide\n",
      "\u001b[2m\u001b[36m(pid=15613)\u001b[0m   type=str,\n"
     ]
    },
    {
     "name": "stdout",
     "output_type": "stream",
     "text": [
      "\u001b[2m\u001b[36m(pid=15623)\u001b[0m Loading Random Controllers E144.pth\n"
     ]
    },
    {
     "name": "stderr",
     "output_type": "stream",
     "text": [
      "\u001b[2m\u001b[36m(pid=15623)\u001b[0m /home/ec2-user/.local/lib/python3.6/site-packages/ray/workers/default_worker.py:58: RuntimeWarning: invalid value encountered in true_divide\n",
      "\u001b[2m\u001b[36m(pid=15623)\u001b[0m   type=str,\n"
     ]
    },
    {
     "name": "stdout",
     "output_type": "stream",
     "text": [
      "\u001b[2m\u001b[36m(pid=15622)\u001b[0m Loading Random Controllers E96.pth\n"
     ]
    },
    {
     "name": "stderr",
     "output_type": "stream",
     "text": [
      "\u001b[2m\u001b[36m(pid=15622)\u001b[0m /home/ec2-user/.local/lib/python3.6/site-packages/ray/workers/default_worker.py:58: RuntimeWarning: invalid value encountered in true_divide\n",
      "\u001b[2m\u001b[36m(pid=15622)\u001b[0m   type=str,\n"
     ]
    },
    {
     "name": "stdout",
     "output_type": "stream",
     "text": [
      "\u001b[2m\u001b[36m(pid=15625)\u001b[0m Loading Random Controllers E96.pth\n"
     ]
    },
    {
     "name": "stderr",
     "output_type": "stream",
     "text": [
      "\u001b[2m\u001b[36m(pid=15625)\u001b[0m /home/ec2-user/.local/lib/python3.6/site-packages/ray/workers/default_worker.py:58: RuntimeWarning: invalid value encountered in true_divide\n",
      "\u001b[2m\u001b[36m(pid=15625)\u001b[0m   type=str,\n"
     ]
    },
    {
     "name": "stdout",
     "output_type": "stream",
     "text": [
      "\u001b[2m\u001b[36m(pid=15616)\u001b[0m Loading Random Controllers E80.pth\n"
     ]
    },
    {
     "name": "stderr",
     "output_type": "stream",
     "text": [
      "\u001b[2m\u001b[36m(pid=15616)\u001b[0m /home/ec2-user/.local/lib/python3.6/site-packages/ray/workers/default_worker.py:58: RuntimeWarning: invalid value encountered in true_divide\n",
      "\u001b[2m\u001b[36m(pid=15616)\u001b[0m   type=str,\n"
     ]
    },
    {
     "name": "stdout",
     "output_type": "stream",
     "text": [
      "\u001b[2m\u001b[36m(pid=15621)\u001b[0m Loading Random Controllers E16.pth\n"
     ]
    },
    {
     "name": "stderr",
     "output_type": "stream",
     "text": [
      "\u001b[2m\u001b[36m(pid=15621)\u001b[0m /home/ec2-user/.local/lib/python3.6/site-packages/ray/workers/default_worker.py:58: RuntimeWarning: invalid value encountered in true_divide\n",
      "\u001b[2m\u001b[36m(pid=15621)\u001b[0m   type=str,\n"
     ]
    },
    {
     "name": "stdout",
     "output_type": "stream",
     "text": [
      "\u001b[2m\u001b[36m(pid=15624)\u001b[0m Loading Random Controllers E24.pth\n"
     ]
    },
    {
     "name": "stderr",
     "output_type": "stream",
     "text": [
      "\u001b[2m\u001b[36m(pid=15624)\u001b[0m /home/ec2-user/.local/lib/python3.6/site-packages/ray/workers/default_worker.py:58: RuntimeWarning: invalid value encountered in true_divide\n",
      "\u001b[2m\u001b[36m(pid=15624)\u001b[0m   type=str,\n"
     ]
    },
    {
     "name": "stdout",
     "output_type": "stream",
     "text": [
      "\u001b[2m\u001b[36m(pid=15615)\u001b[0m Loading Random Controllers E40.pth\n"
     ]
    },
    {
     "name": "stderr",
     "output_type": "stream",
     "text": [
      "\u001b[2m\u001b[36m(pid=15615)\u001b[0m /home/ec2-user/.local/lib/python3.6/site-packages/ray/workers/default_worker.py:58: RuntimeWarning: invalid value encountered in true_divide\n",
      "\u001b[2m\u001b[36m(pid=15615)\u001b[0m   type=str,\n"
     ]
    },
    {
     "name": "stdout",
     "output_type": "stream",
     "text": [
      "\u001b[2m\u001b[36m(pid=15611)\u001b[0m Game 272 White Won\n",
      "\u001b[2m\u001b[36m(pid=15621)\u001b[0m Game 285 Draw\n",
      "\u001b[2m\u001b[36m(pid=15621)\u001b[0m WARNING DELETING EXPERIENCES\n",
      "\u001b[2m\u001b[36m(pid=15612)\u001b[0m Game 274 Draw\n",
      "\u001b[2m\u001b[36m(pid=15612)\u001b[0m WARNING DELETING EXPERIENCES\n",
      "\u001b[2m\u001b[36m(pid=15615)\u001b[0m Game 287 Draw\n",
      "\u001b[2m\u001b[36m(pid=15615)\u001b[0m WARNING DELETING EXPERIENCES\n",
      "\u001b[2m\u001b[36m(pid=15623)\u001b[0m Game 281 Draw\n",
      "\u001b[2m\u001b[36m(pid=15623)\u001b[0m WARNING DELETING EXPERIENCES\n",
      "\u001b[2m\u001b[36m(pid=15614)\u001b[0m Game 273 Draw\n",
      "\u001b[2m\u001b[36m(pid=15614)\u001b[0m WARNING DELETING EXPERIENCES\n",
      "\u001b[2m\u001b[36m(pid=15610)\u001b[0m Game 279 Draw\n",
      "\u001b[2m\u001b[36m(pid=15610)\u001b[0m WARNING DELETING EXPERIENCES\n",
      "\u001b[2m\u001b[36m(pid=15613)\u001b[0m Game 280 Draw\n",
      "\u001b[2m\u001b[36m(pid=15613)\u001b[0m WARNING DELETING EXPERIENCES\n",
      "\u001b[2m\u001b[36m(pid=15624)\u001b[0m Game 286 Draw\n",
      "\u001b[2m\u001b[36m(pid=15624)\u001b[0m WARNING DELETING EXPERIENCES\n",
      "\u001b[2m\u001b[36m(pid=15625)\u001b[0m Game 283 Draw\n",
      "\u001b[2m\u001b[36m(pid=15625)\u001b[0m WARNING DELETING EXPERIENCES\n",
      "\u001b[2m\u001b[36m(pid=15617)\u001b[0m Game 275 Draw\n",
      "\u001b[2m\u001b[36m(pid=15617)\u001b[0m WARNING DELETING EXPERIENCES\n",
      "\u001b[2m\u001b[36m(pid=15618)\u001b[0m Game 276 Draw\n",
      "\u001b[2m\u001b[36m(pid=15618)\u001b[0m WARNING DELETING EXPERIENCES\n",
      "\u001b[2m\u001b[36m(pid=15622)\u001b[0m Game 282 Draw\n",
      "\u001b[2m\u001b[36m(pid=15622)\u001b[0m WARNING DELETING EXPERIENCES\n",
      "\u001b[2m\u001b[36m(pid=15619)\u001b[0m Game 278 Draw\n",
      "\u001b[2m\u001b[36m(pid=15619)\u001b[0m WARNING DELETING EXPERIENCES\n",
      "\u001b[2m\u001b[36m(pid=15620)\u001b[0m Game 277 Draw\n",
      "\u001b[2m\u001b[36m(pid=15620)\u001b[0m WARNING DELETING EXPERIENCES\n",
      "\u001b[2m\u001b[36m(pid=15616)\u001b[0m Game 284 Draw\n",
      "\u001b[2m\u001b[36m(pid=15616)\u001b[0m WARNING DELETING EXPERIENCES\n",
      "ACTOR LOSS 5986.82568359375 | CRITIC LOSS 24.93235969543457\n",
      "ACTOR LOSS 5860.45947265625 | CRITIC LOSS 21.778804779052734\n",
      "ACTOR LOSS 5871.13818359375 | CRITIC LOSS 30.28974151611328\n",
      "ACTOR LOSS 5963.6396484375 | CRITIC LOSS 23.519384384155273\n",
      "ACTOR LOSS 5912.5244140625 | CRITIC LOSS 29.409963607788086\n",
      "ACTOR LOSS 5865.5185546875 | CRITIC LOSS 16.690013885498047\n",
      "ACTOR LOSS 5860.8896484375 | CRITIC LOSS 28.30451202392578\n",
      "SAVING\n",
      "ACTOR LOSS 5838.0224609375 | CRITIC LOSS 19.574737548828125\n",
      "ACTOR LOSS 5896.068359375 | CRITIC LOSS 17.119705200195312\n",
      "ACTOR LOSS 5955.59912109375 | CRITIC LOSS 24.856796264648438\n",
      "\u001b[2m\u001b[36m(pid=15616)\u001b[0m Loading Random Controllers E152.pth\n"
     ]
    },
    {
     "name": "stderr",
     "output_type": "stream",
     "text": [
      "\u001b[2m\u001b[36m(pid=15616)\u001b[0m /home/ec2-user/.local/lib/python3.6/site-packages/ray/workers/default_worker.py:58: RuntimeWarning: invalid value encountered in true_divide\n",
      "\u001b[2m\u001b[36m(pid=15616)\u001b[0m   type=str,\n"
     ]
    },
    {
     "name": "stdout",
     "output_type": "stream",
     "text": [
      "\u001b[2m\u001b[36m(pid=15620)\u001b[0m Loading Random Controllers E48.pth\n"
     ]
    },
    {
     "name": "stderr",
     "output_type": "stream",
     "text": [
      "\u001b[2m\u001b[36m(pid=15620)\u001b[0m /home/ec2-user/.local/lib/python3.6/site-packages/ray/workers/default_worker.py:58: RuntimeWarning: invalid value encountered in true_divide\n",
      "\u001b[2m\u001b[36m(pid=15620)\u001b[0m   type=str,\n"
     ]
    },
    {
     "name": "stdout",
     "output_type": "stream",
     "text": [
      "\u001b[2m\u001b[36m(pid=15619)\u001b[0m Loading Random Controllers E24.pth\n",
      "\u001b[2m\u001b[36m(pid=15618)\u001b[0m Loading Random Controllers E16.pth\n"
     ]
    },
    {
     "name": "stderr",
     "output_type": "stream",
     "text": [
      "\u001b[2m\u001b[36m(pid=15619)\u001b[0m /home/ec2-user/.local/lib/python3.6/site-packages/ray/workers/default_worker.py:58: RuntimeWarning: invalid value encountered in true_divide\n",
      "\u001b[2m\u001b[36m(pid=15619)\u001b[0m   type=str,\n",
      "\u001b[2m\u001b[36m(pid=15618)\u001b[0m /home/ec2-user/.local/lib/python3.6/site-packages/ray/workers/default_worker.py:58: RuntimeWarning: invalid value encountered in true_divide\n",
      "\u001b[2m\u001b[36m(pid=15618)\u001b[0m   type=str,\n",
      "\u001b[2m\u001b[36m(pid=15617)\u001b[0m /home/ec2-user/.local/lib/python3.6/site-packages/ray/workers/default_worker.py:58: RuntimeWarning: invalid value encountered in true_divide\n",
      "\u001b[2m\u001b[36m(pid=15617)\u001b[0m   type=str,\n"
     ]
    },
    {
     "name": "stdout",
     "output_type": "stream",
     "text": [
      "\u001b[2m\u001b[36m(pid=15617)\u001b[0m Loading Random Controllers E48.pth\n",
      "\u001b[2m\u001b[36m(pid=15622)\u001b[0m Loading Random Controllers E80.pth\n"
     ]
    },
    {
     "name": "stderr",
     "output_type": "stream",
     "text": [
      "\u001b[2m\u001b[36m(pid=15622)\u001b[0m /home/ec2-user/.local/lib/python3.6/site-packages/ray/workers/default_worker.py:58: RuntimeWarning: invalid value encountered in true_divide\n",
      "\u001b[2m\u001b[36m(pid=15622)\u001b[0m   type=str,\n"
     ]
    },
    {
     "name": "stdout",
     "output_type": "stream",
     "text": [
      "\u001b[2m\u001b[36m(pid=15625)\u001b[0m Loading Random Controllers E64.pth\n"
     ]
    },
    {
     "name": "stderr",
     "output_type": "stream",
     "text": [
      "\u001b[2m\u001b[36m(pid=15625)\u001b[0m /home/ec2-user/.local/lib/python3.6/site-packages/ray/workers/default_worker.py:58: RuntimeWarning: invalid value encountered in true_divide\n",
      "\u001b[2m\u001b[36m(pid=15625)\u001b[0m   type=str,\n"
     ]
    },
    {
     "name": "stdout",
     "output_type": "stream",
     "text": [
      "\u001b[2m\u001b[36m(pid=15624)\u001b[0m Loading Random Controllers E160.pth\n"
     ]
    },
    {
     "name": "stderr",
     "output_type": "stream",
     "text": [
      "\u001b[2m\u001b[36m(pid=15624)\u001b[0m /home/ec2-user/.local/lib/python3.6/site-packages/ray/workers/default_worker.py:58: RuntimeWarning: invalid value encountered in true_divide\n",
      "\u001b[2m\u001b[36m(pid=15624)\u001b[0m   type=str,\n"
     ]
    },
    {
     "name": "stdout",
     "output_type": "stream",
     "text": [
      "\u001b[2m\u001b[36m(pid=15613)\u001b[0m Loading Random Controllers E32.pth\n"
     ]
    },
    {
     "name": "stderr",
     "output_type": "stream",
     "text": [
      "\u001b[2m\u001b[36m(pid=15613)\u001b[0m /home/ec2-user/.local/lib/python3.6/site-packages/ray/workers/default_worker.py:58: RuntimeWarning: invalid value encountered in true_divide\n",
      "\u001b[2m\u001b[36m(pid=15613)\u001b[0m   type=str,\n"
     ]
    },
    {
     "name": "stdout",
     "output_type": "stream",
     "text": [
      "\u001b[2m\u001b[36m(pid=15610)\u001b[0m Loading Random Controllers E120.pth\n"
     ]
    },
    {
     "name": "stderr",
     "output_type": "stream",
     "text": [
      "\u001b[2m\u001b[36m(pid=15610)\u001b[0m /home/ec2-user/.local/lib/python3.6/site-packages/ray/workers/default_worker.py:58: RuntimeWarning: invalid value encountered in true_divide\n",
      "\u001b[2m\u001b[36m(pid=15610)\u001b[0m   type=str,\n"
     ]
    },
    {
     "name": "stdout",
     "output_type": "stream",
     "text": [
      "\u001b[2m\u001b[36m(pid=15623)\u001b[0m Loading Random Controllers E152.pth\n"
     ]
    },
    {
     "name": "stderr",
     "output_type": "stream",
     "text": [
      "\u001b[2m\u001b[36m(pid=15623)\u001b[0m /home/ec2-user/.local/lib/python3.6/site-packages/ray/workers/default_worker.py:58: RuntimeWarning: invalid value encountered in true_divide\n",
      "\u001b[2m\u001b[36m(pid=15623)\u001b[0m   type=str,\n"
     ]
    },
    {
     "name": "stdout",
     "output_type": "stream",
     "text": [
      "\u001b[2m\u001b[36m(pid=15615)\u001b[0m Loading Random Controllers E120.pth\n"
     ]
    },
    {
     "name": "stderr",
     "output_type": "stream",
     "text": [
      "\u001b[2m\u001b[36m(pid=15615)\u001b[0m /home/ec2-user/.local/lib/python3.6/site-packages/ray/workers/default_worker.py:58: RuntimeWarning: invalid value encountered in true_divide\n",
      "\u001b[2m\u001b[36m(pid=15615)\u001b[0m   type=str,\n"
     ]
    },
    {
     "name": "stdout",
     "output_type": "stream",
     "text": [
      "\u001b[2m\u001b[36m(pid=15612)\u001b[0m Loading Random Controllers E144.pth\n"
     ]
    },
    {
     "name": "stderr",
     "output_type": "stream",
     "text": [
      "\u001b[2m\u001b[36m(pid=15612)\u001b[0m /home/ec2-user/.local/lib/python3.6/site-packages/ray/workers/default_worker.py:58: RuntimeWarning: invalid value encountered in true_divide\n",
      "\u001b[2m\u001b[36m(pid=15612)\u001b[0m   type=str,\n"
     ]
    },
    {
     "name": "stdout",
     "output_type": "stream",
     "text": [
      "\u001b[2m\u001b[36m(pid=15621)\u001b[0m Loading Random Controllers E96.pth\n"
     ]
    },
    {
     "name": "stderr",
     "output_type": "stream",
     "text": [
      "\u001b[2m\u001b[36m(pid=15621)\u001b[0m /home/ec2-user/.local/lib/python3.6/site-packages/ray/workers/default_worker.py:58: RuntimeWarning: invalid value encountered in true_divide\n",
      "\u001b[2m\u001b[36m(pid=15621)\u001b[0m   type=str,\n"
     ]
    },
    {
     "name": "stdout",
     "output_type": "stream",
     "text": [
      "\u001b[2m\u001b[36m(pid=15614)\u001b[0m Loading Random Controllers E176.pth\n"
     ]
    },
    {
     "name": "stderr",
     "output_type": "stream",
     "text": [
      "\u001b[2m\u001b[36m(pid=15614)\u001b[0m /home/ec2-user/.local/lib/python3.6/site-packages/ray/workers/default_worker.py:58: RuntimeWarning: invalid value encountered in true_divide\n",
      "\u001b[2m\u001b[36m(pid=15614)\u001b[0m   type=str,\n"
     ]
    },
    {
     "name": "stdout",
     "output_type": "stream",
     "text": [
      "\u001b[2m\u001b[36m(pid=15611)\u001b[0m Loading Random Controllers E40.pth\n"
     ]
    },
    {
     "name": "stderr",
     "output_type": "stream",
     "text": [
      "\u001b[2m\u001b[36m(pid=15611)\u001b[0m /home/ec2-user/.local/lib/python3.6/site-packages/ray/workers/default_worker.py:58: RuntimeWarning: invalid value encountered in true_divide\n",
      "\u001b[2m\u001b[36m(pid=15611)\u001b[0m   type=str,\n"
     ]
    },
    {
     "name": "stdout",
     "output_type": "stream",
     "text": [
      "\u001b[2m\u001b[36m(pid=15619)\u001b[0m Game 290 White Loss\n",
      "\u001b[2m\u001b[36m(pid=15625)\u001b[0m Game 294 White Loss\n",
      "\u001b[2m\u001b[36m(pid=15614)\u001b[0m Game 302 White Loss\n",
      "\u001b[2m\u001b[36m(pid=15616)\u001b[0m Game 288 White Won\n",
      "\u001b[2m\u001b[36m(pid=15612)\u001b[0m Game 300 White Won\n",
      "\u001b[2m\u001b[36m(pid=15613)\u001b[0m Game 296 Draw\n",
      "\u001b[2m\u001b[36m(pid=15613)\u001b[0m WARNING DELETING EXPERIENCES\n",
      "\u001b[2m\u001b[36m(pid=15623)\u001b[0m Game 298 Draw\n",
      "\u001b[2m\u001b[36m(pid=15623)\u001b[0m WARNING DELETING EXPERIENCES\n",
      "\u001b[2m\u001b[36m(pid=15617)\u001b[0m Game 292 Draw\n",
      "\u001b[2m\u001b[36m(pid=15617)\u001b[0m WARNING DELETING EXPERIENCES\n",
      "\u001b[2m\u001b[36m(pid=15620)\u001b[0m Game 289 Draw\n",
      "\u001b[2m\u001b[36m(pid=15620)\u001b[0m WARNING DELETING EXPERIENCES\n",
      "\u001b[2m\u001b[36m(pid=15621)\u001b[0m Game 301 Draw\n",
      "\u001b[2m\u001b[36m(pid=15621)\u001b[0m WARNING DELETING EXPERIENCES\n",
      "\u001b[2m\u001b[36m(pid=15611)\u001b[0m Game 303 Draw\n",
      "\u001b[2m\u001b[36m(pid=15611)\u001b[0m WARNING DELETING EXPERIENCES\n",
      "\u001b[2m\u001b[36m(pid=15624)\u001b[0m Game 295 Draw\n",
      "\u001b[2m\u001b[36m(pid=15624)\u001b[0m WARNING DELETING EXPERIENCES\n",
      "\u001b[2m\u001b[36m(pid=15618)\u001b[0m Game 291 Draw\n",
      "\u001b[2m\u001b[36m(pid=15618)\u001b[0m WARNING DELETING EXPERIENCES\n",
      "\u001b[2m\u001b[36m(pid=15610)\u001b[0m Game 297 Draw\n",
      "\u001b[2m\u001b[36m(pid=15610)\u001b[0m WARNING DELETING EXPERIENCES\n",
      "\u001b[2m\u001b[36m(pid=15615)\u001b[0m Game 299 Draw\n",
      "\u001b[2m\u001b[36m(pid=15615)\u001b[0m WARNING DELETING EXPERIENCES\n",
      "\u001b[2m\u001b[36m(pid=15622)\u001b[0m Game 293 Draw\n",
      "\u001b[2m\u001b[36m(pid=15622)\u001b[0m WARNING DELETING EXPERIENCES\n",
      "ACTOR LOSS 5858.255859375 | CRITIC LOSS 18.986282348632812\n",
      "ACTOR LOSS 5852.74755859375 | CRITIC LOSS 17.85340118408203\n",
      "ACTOR LOSS 5749.234375 | CRITIC LOSS 18.312246322631836\n",
      "ACTOR LOSS 5915.53515625 | CRITIC LOSS 22.52229118347168\n",
      "ACTOR LOSS 5963.236328125 | CRITIC LOSS 20.994543075561523\n",
      "SAVING\n",
      "ACTOR LOSS 5955.9970703125 | CRITIC LOSS 15.594783782958984\n",
      "ACTOR LOSS 5959.6943359375 | CRITIC LOSS 18.798397064208984\n",
      "ACTOR LOSS 5897.1669921875 | CRITIC LOSS 25.39516830444336\n",
      "ACTOR LOSS 5905.03466796875 | CRITIC LOSS 13.461750030517578\n",
      "ACTOR LOSS 6006.2470703125 | CRITIC LOSS 21.269813537597656\n",
      "\u001b[2m\u001b[36m(pid=15615)\u001b[0m Loading Random Controllers E64.pth\n"
     ]
    },
    {
     "name": "stderr",
     "output_type": "stream",
     "text": [
      "\u001b[2m\u001b[36m(pid=15615)\u001b[0m /home/ec2-user/.local/lib/python3.6/site-packages/ray/workers/default_worker.py:58: RuntimeWarning: invalid value encountered in true_divide\n",
      "\u001b[2m\u001b[36m(pid=15615)\u001b[0m   type=str,\n"
     ]
    },
    {
     "name": "stdout",
     "output_type": "stream",
     "text": [
      "\u001b[2m\u001b[36m(pid=15624)\u001b[0m Loading Random Controllers E144.pth\n"
     ]
    },
    {
     "name": "stderr",
     "output_type": "stream",
     "text": [
      "\u001b[2m\u001b[36m(pid=15624)\u001b[0m /home/ec2-user/.local/lib/python3.6/site-packages/ray/workers/default_worker.py:58: RuntimeWarning: invalid value encountered in true_divide\n",
      "\u001b[2m\u001b[36m(pid=15624)\u001b[0m   type=str,\n"
     ]
    },
    {
     "name": "stdout",
     "output_type": "stream",
     "text": [
      "\u001b[2m\u001b[36m(pid=15621)\u001b[0m Loading Random Controllers E128.pth\n"
     ]
    },
    {
     "name": "stderr",
     "output_type": "stream",
     "text": [
      "\u001b[2m\u001b[36m(pid=15621)\u001b[0m /home/ec2-user/.local/lib/python3.6/site-packages/ray/workers/default_worker.py:58: RuntimeWarning: invalid value encountered in true_divide\n",
      "\u001b[2m\u001b[36m(pid=15621)\u001b[0m   type=str,\n",
      "\u001b[2m\u001b[36m(pid=15620)\u001b[0m /home/ec2-user/.local/lib/python3.6/site-packages/ray/workers/default_worker.py:58: RuntimeWarning: invalid value encountered in true_divide\n",
      "\u001b[2m\u001b[36m(pid=15620)\u001b[0m   type=str,\n"
     ]
    },
    {
     "name": "stdout",
     "output_type": "stream",
     "text": [
      "\u001b[2m\u001b[36m(pid=15620)\u001b[0m Loading Random Controllers E120.pth\n",
      "\u001b[2m\u001b[36m(pid=15618)\u001b[0m Loading Random Controllers E128.pth\n"
     ]
    },
    {
     "name": "stderr",
     "output_type": "stream",
     "text": [
      "\u001b[2m\u001b[36m(pid=15618)\u001b[0m /home/ec2-user/.local/lib/python3.6/site-packages/ray/workers/default_worker.py:58: RuntimeWarning: invalid value encountered in true_divide\n",
      "\u001b[2m\u001b[36m(pid=15618)\u001b[0m   type=str,\n"
     ]
    },
    {
     "name": "stdout",
     "output_type": "stream",
     "text": [
      "\u001b[2m\u001b[36m(pid=15617)\u001b[0m Loading Random Controllers E40.pth\n"
     ]
    },
    {
     "name": "stderr",
     "output_type": "stream",
     "text": [
      "\u001b[2m\u001b[36m(pid=15617)\u001b[0m /home/ec2-user/.local/lib/python3.6/site-packages/ray/workers/default_worker.py:58: RuntimeWarning: invalid value encountered in true_divide\n",
      "\u001b[2m\u001b[36m(pid=15617)\u001b[0m   type=str,\n"
     ]
    },
    {
     "name": "stdout",
     "output_type": "stream",
     "text": [
      "\u001b[2m\u001b[36m(pid=15610)\u001b[0m Loading Random Controllers E104.pth\n"
     ]
    },
    {
     "name": "stderr",
     "output_type": "stream",
     "text": [
      "\u001b[2m\u001b[36m(pid=15610)\u001b[0m /home/ec2-user/.local/lib/python3.6/site-packages/ray/workers/default_worker.py:58: RuntimeWarning: invalid value encountered in true_divide\n",
      "\u001b[2m\u001b[36m(pid=15610)\u001b[0m   type=str,\n"
     ]
    },
    {
     "name": "stdout",
     "output_type": "stream",
     "text": [
      "\u001b[2m\u001b[36m(pid=15623)\u001b[0m Loading Random Controllers E24.pth\n"
     ]
    },
    {
     "name": "stderr",
     "output_type": "stream",
     "text": [
      "\u001b[2m\u001b[36m(pid=15623)\u001b[0m /home/ec2-user/.local/lib/python3.6/site-packages/ray/workers/default_worker.py:58: RuntimeWarning: invalid value encountered in true_divide\n",
      "\u001b[2m\u001b[36m(pid=15623)\u001b[0m   type=str,\n"
     ]
    },
    {
     "name": "stdout",
     "output_type": "stream",
     "text": [
      "\u001b[2m\u001b[36m(pid=15613)\u001b[0m Loading Random Controllers E88.pth\n"
     ]
    },
    {
     "name": "stderr",
     "output_type": "stream",
     "text": [
      "\u001b[2m\u001b[36m(pid=15613)\u001b[0m /home/ec2-user/.local/lib/python3.6/site-packages/ray/workers/default_worker.py:58: RuntimeWarning: invalid value encountered in true_divide\n",
      "\u001b[2m\u001b[36m(pid=15613)\u001b[0m   type=str,\n"
     ]
    },
    {
     "name": "stdout",
     "output_type": "stream",
     "text": [
      "\u001b[2m\u001b[36m(pid=15612)\u001b[0m Loading Random Controllers E24.pth\n",
      "\u001b[2m\u001b[36m(pid=15616)\u001b[0m Loading Random Controllers E176.pth\n"
     ]
    },
    {
     "name": "stderr",
     "output_type": "stream",
     "text": [
      "\u001b[2m\u001b[36m(pid=15612)\u001b[0m /home/ec2-user/.local/lib/python3.6/site-packages/ray/workers/default_worker.py:58: RuntimeWarning: invalid value encountered in true_divide\n",
      "\u001b[2m\u001b[36m(pid=15612)\u001b[0m   type=str,\n",
      "\u001b[2m\u001b[36m(pid=15616)\u001b[0m /home/ec2-user/.local/lib/python3.6/site-packages/ray/workers/default_worker.py:58: RuntimeWarning: invalid value encountered in true_divide\n",
      "\u001b[2m\u001b[36m(pid=15616)\u001b[0m   type=str,\n"
     ]
    },
    {
     "name": "stdout",
     "output_type": "stream",
     "text": [
      "\u001b[2m\u001b[36m(pid=15611)\u001b[0m Loading Random Controllers E32.pth\n"
     ]
    },
    {
     "name": "stderr",
     "output_type": "stream",
     "text": [
      "\u001b[2m\u001b[36m(pid=15611)\u001b[0m /home/ec2-user/.local/lib/python3.6/site-packages/ray/workers/default_worker.py:58: RuntimeWarning: invalid value encountered in true_divide\n",
      "\u001b[2m\u001b[36m(pid=15611)\u001b[0m   type=str,\n"
     ]
    },
    {
     "name": "stdout",
     "output_type": "stream",
     "text": [
      "\u001b[2m\u001b[36m(pid=15614)\u001b[0m Loading Random Controllers E56.pth\n"
     ]
    },
    {
     "name": "stderr",
     "output_type": "stream",
     "text": [
      "\u001b[2m\u001b[36m(pid=15614)\u001b[0m /home/ec2-user/.local/lib/python3.6/site-packages/ray/workers/default_worker.py:58: RuntimeWarning: invalid value encountered in true_divide\n",
      "\u001b[2m\u001b[36m(pid=15614)\u001b[0m   type=str,\n"
     ]
    },
    {
     "name": "stdout",
     "output_type": "stream",
     "text": [
      "\u001b[2m\u001b[36m(pid=15622)\u001b[0m Loading Random Controllers E64.pth\n"
     ]
    },
    {
     "name": "stderr",
     "output_type": "stream",
     "text": [
      "\u001b[2m\u001b[36m(pid=15622)\u001b[0m /home/ec2-user/.local/lib/python3.6/site-packages/ray/workers/default_worker.py:58: RuntimeWarning: invalid value encountered in true_divide\n",
      "\u001b[2m\u001b[36m(pid=15622)\u001b[0m   type=str,\n"
     ]
    },
    {
     "name": "stdout",
     "output_type": "stream",
     "text": [
      "\u001b[2m\u001b[36m(pid=15625)\u001b[0m Loading Random Controllers E64.pth\n"
     ]
    },
    {
     "name": "stderr",
     "output_type": "stream",
     "text": [
      "\u001b[2m\u001b[36m(pid=15625)\u001b[0m /home/ec2-user/.local/lib/python3.6/site-packages/ray/workers/default_worker.py:58: RuntimeWarning: invalid value encountered in true_divide\n",
      "\u001b[2m\u001b[36m(pid=15625)\u001b[0m   type=str,\n"
     ]
    },
    {
     "name": "stdout",
     "output_type": "stream",
     "text": [
      "\u001b[2m\u001b[36m(pid=15619)\u001b[0m Loading Random Controllers E136.pth\n"
     ]
    },
    {
     "name": "stderr",
     "output_type": "stream",
     "text": [
      "\u001b[2m\u001b[36m(pid=15619)\u001b[0m /home/ec2-user/.local/lib/python3.6/site-packages/ray/workers/default_worker.py:58: RuntimeWarning: invalid value encountered in true_divide\n",
      "\u001b[2m\u001b[36m(pid=15619)\u001b[0m   type=str,\n"
     ]
    },
    {
     "name": "stdout",
     "output_type": "stream",
     "text": [
      "\u001b[2m\u001b[36m(pid=15615)\u001b[0m Game 304 White Won\n",
      "\u001b[2m\u001b[36m(pid=15614)\u001b[0m Game 316 White Won\n",
      "\u001b[2m\u001b[36m(pid=15621)\u001b[0m Game 306 Draw\n",
      "\u001b[2m\u001b[36m(pid=15621)\u001b[0m WARNING DELETING EXPERIENCES\n",
      "\u001b[2m\u001b[36m(pid=15619)\u001b[0m Game 319 Draw\n",
      "\u001b[2m\u001b[36m(pid=15619)\u001b[0m WARNING DELETING EXPERIENCES\n",
      "\u001b[2m\u001b[36m(pid=15620)\u001b[0m Game 307 Draw\n",
      "\u001b[2m\u001b[36m(pid=15620)\u001b[0m WARNING DELETING EXPERIENCES\n",
      "\u001b[2m\u001b[36m(pid=15625)\u001b[0m Game 318 Draw\n",
      "\u001b[2m\u001b[36m(pid=15625)\u001b[0m WARNING DELETING EXPERIENCES\n",
      "\u001b[2m\u001b[36m(pid=15617)\u001b[0m Game 309 Draw\n",
      "\u001b[2m\u001b[36m(pid=15617)\u001b[0m WARNING DELETING EXPERIENCES\n",
      "\u001b[2m\u001b[36m(pid=15613)\u001b[0m Game 312 Draw\n",
      "\u001b[2m\u001b[36m(pid=15613)\u001b[0m WARNING DELETING EXPERIENCES\n",
      "\u001b[2m\u001b[36m(pid=15611)\u001b[0m Game 315 Draw\n",
      "\u001b[2m\u001b[36m(pid=15611)\u001b[0m WARNING DELETING EXPERIENCES\n",
      "\u001b[2m\u001b[36m(pid=15610)\u001b[0m Game 310 Draw\n",
      "\u001b[2m\u001b[36m(pid=15610)\u001b[0m WARNING DELETING EXPERIENCES\n",
      "\u001b[2m\u001b[36m(pid=15618)\u001b[0m Game 308 Draw\n",
      "\u001b[2m\u001b[36m(pid=15618)\u001b[0m WARNING DELETING EXPERIENCES\n",
      "\u001b[2m\u001b[36m(pid=15616)\u001b[0m Game 314 Draw\n",
      "\u001b[2m\u001b[36m(pid=15616)\u001b[0m WARNING DELETING EXPERIENCES\n",
      "\u001b[2m\u001b[36m(pid=15612)\u001b[0m Game 313 Draw\n",
      "\u001b[2m\u001b[36m(pid=15612)\u001b[0m WARNING DELETING EXPERIENCES\n",
      "\u001b[2m\u001b[36m(pid=15624)\u001b[0m Game 305 Draw\n",
      "\u001b[2m\u001b[36m(pid=15624)\u001b[0m WARNING DELETING EXPERIENCES\n",
      "\u001b[2m\u001b[36m(pid=15623)\u001b[0m Game 311 Draw\n",
      "\u001b[2m\u001b[36m(pid=15623)\u001b[0m WARNING DELETING EXPERIENCES\n",
      "\u001b[2m\u001b[36m(pid=15622)\u001b[0m Game 317 Draw\n",
      "\u001b[2m\u001b[36m(pid=15622)\u001b[0m WARNING DELETING EXPERIENCES\n",
      "ACTOR LOSS 5961.82177734375 | CRITIC LOSS 22.27035140991211\n",
      "ACTOR LOSS 5934.3603515625 | CRITIC LOSS 15.34566593170166\n",
      "ACTOR LOSS 5957.2578125 | CRITIC LOSS 17.01029396057129\n",
      "SAVING\n",
      "ACTOR LOSS 5936.66162109375 | CRITIC LOSS 13.490691184997559\n",
      "ACTOR LOSS 5945.09765625 | CRITIC LOSS 16.906766891479492\n",
      "ACTOR LOSS 5900.9013671875 | CRITIC LOSS 13.834254264831543\n",
      "ACTOR LOSS 5867.75390625 | CRITIC LOSS 14.007129669189453\n",
      "ACTOR LOSS 5862.42822265625 | CRITIC LOSS 13.191898345947266\n",
      "ACTOR LOSS 5902.85791015625 | CRITIC LOSS 10.147133827209473\n",
      "ACTOR LOSS 5924.83984375 | CRITIC LOSS 16.96101188659668\n",
      "\u001b[2m\u001b[36m(pid=15624)\u001b[0m Loading Random Controllers E32.pth\n"
     ]
    },
    {
     "name": "stderr",
     "output_type": "stream",
     "text": [
      "\u001b[2m\u001b[36m(pid=15624)\u001b[0m /home/ec2-user/.local/lib/python3.6/site-packages/ray/workers/default_worker.py:58: RuntimeWarning: invalid value encountered in true_divide\n",
      "\u001b[2m\u001b[36m(pid=15624)\u001b[0m   type=str,\n"
     ]
    },
    {
     "name": "stdout",
     "output_type": "stream",
     "text": [
      "\u001b[2m\u001b[36m(pid=15612)\u001b[0m Loading Random Controllers E160.pth\n"
     ]
    },
    {
     "name": "stderr",
     "output_type": "stream",
     "text": [
      "\u001b[2m\u001b[36m(pid=15612)\u001b[0m /home/ec2-user/.local/lib/python3.6/site-packages/ray/workers/default_worker.py:58: RuntimeWarning: invalid value encountered in true_divide\n",
      "\u001b[2m\u001b[36m(pid=15612)\u001b[0m   type=str,\n"
     ]
    },
    {
     "name": "stdout",
     "output_type": "stream",
     "text": [
      "\u001b[2m\u001b[36m(pid=15616)\u001b[0m Loading Random Controllers E168.pth\n"
     ]
    },
    {
     "name": "stderr",
     "output_type": "stream",
     "text": [
      "\u001b[2m\u001b[36m(pid=15616)\u001b[0m /home/ec2-user/.local/lib/python3.6/site-packages/ray/workers/default_worker.py:58: RuntimeWarning: invalid value encountered in true_divide\n",
      "\u001b[2m\u001b[36m(pid=15616)\u001b[0m   type=str,\n"
     ]
    },
    {
     "name": "stdout",
     "output_type": "stream",
     "text": [
      "\u001b[2m\u001b[36m(pid=15623)\u001b[0m Loading Random Controllers E112.pth\n"
     ]
    },
    {
     "name": "stderr",
     "output_type": "stream",
     "text": [
      "\u001b[2m\u001b[36m(pid=15623)\u001b[0m /home/ec2-user/.local/lib/python3.6/site-packages/ray/workers/default_worker.py:58: RuntimeWarning: invalid value encountered in true_divide\n",
      "\u001b[2m\u001b[36m(pid=15623)\u001b[0m   type=str,\n"
     ]
    },
    {
     "name": "stdout",
     "output_type": "stream",
     "text": [
      "\u001b[2m\u001b[36m(pid=15610)\u001b[0m Loading Random Controllers E48.pth\n"
     ]
    },
    {
     "name": "stderr",
     "output_type": "stream",
     "text": [
      "\u001b[2m\u001b[36m(pid=15610)\u001b[0m /home/ec2-user/.local/lib/python3.6/site-packages/ray/workers/default_worker.py:58: RuntimeWarning: invalid value encountered in true_divide\n",
      "\u001b[2m\u001b[36m(pid=15610)\u001b[0m   type=str,\n"
     ]
    },
    {
     "name": "stdout",
     "output_type": "stream",
     "text": [
      "\u001b[2m\u001b[36m(pid=15613)\u001b[0m Loading Random Controllers E8.pth\n"
     ]
    },
    {
     "name": "stderr",
     "output_type": "stream",
     "text": [
      "\u001b[2m\u001b[36m(pid=15613)\u001b[0m /home/ec2-user/.local/lib/python3.6/site-packages/ray/workers/default_worker.py:58: RuntimeWarning: invalid value encountered in true_divide\n",
      "\u001b[2m\u001b[36m(pid=15613)\u001b[0m   type=str,\n",
      "\u001b[2m\u001b[36m(pid=15618)\u001b[0m /home/ec2-user/.local/lib/python3.6/site-packages/ray/workers/default_worker.py:58: RuntimeWarning: invalid value encountered in true_divide\n",
      "\u001b[2m\u001b[36m(pid=15618)\u001b[0m   type=str,\n"
     ]
    },
    {
     "name": "stdout",
     "output_type": "stream",
     "text": [
      "\u001b[2m\u001b[36m(pid=15618)\u001b[0m Loading Random Controllers E144.pth\n",
      "\u001b[2m\u001b[36m(pid=15617)\u001b[0m Loading Random Controllers E136.pth\n"
     ]
    },
    {
     "name": "stderr",
     "output_type": "stream",
     "text": [
      "\u001b[2m\u001b[36m(pid=15617)\u001b[0m /home/ec2-user/.local/lib/python3.6/site-packages/ray/workers/default_worker.py:58: RuntimeWarning: invalid value encountered in true_divide\n",
      "\u001b[2m\u001b[36m(pid=15617)\u001b[0m   type=str,\n"
     ]
    },
    {
     "name": "stdout",
     "output_type": "stream",
     "text": [
      "\u001b[2m\u001b[36m(pid=15622)\u001b[0m Loading Random Controllers E136.pth\n",
      "\u001b[2m\u001b[36m(pid=15625)\u001b[0m Loading Random Controllers E184.pth\n"
     ]
    },
    {
     "name": "stderr",
     "output_type": "stream",
     "text": [
      "\u001b[2m\u001b[36m(pid=15622)\u001b[0m /home/ec2-user/.local/lib/python3.6/site-packages/ray/workers/default_worker.py:58: RuntimeWarning: invalid value encountered in true_divide\n",
      "\u001b[2m\u001b[36m(pid=15622)\u001b[0m   type=str,\n",
      "\u001b[2m\u001b[36m(pid=15625)\u001b[0m /home/ec2-user/.local/lib/python3.6/site-packages/ray/workers/default_worker.py:58: RuntimeWarning: invalid value encountered in true_divide\n",
      "\u001b[2m\u001b[36m(pid=15625)\u001b[0m   type=str,\n"
     ]
    },
    {
     "name": "stdout",
     "output_type": "stream",
     "text": [
      "\u001b[2m\u001b[36m(pid=15620)\u001b[0m Loading Random Controllers E64.pth\n"
     ]
    },
    {
     "name": "stderr",
     "output_type": "stream",
     "text": [
      "\u001b[2m\u001b[36m(pid=15620)\u001b[0m /home/ec2-user/.local/lib/python3.6/site-packages/ray/workers/default_worker.py:58: RuntimeWarning: invalid value encountered in true_divide\n",
      "\u001b[2m\u001b[36m(pid=15620)\u001b[0m   type=str,\n"
     ]
    },
    {
     "name": "stdout",
     "output_type": "stream",
     "text": [
      "\u001b[2m\u001b[36m(pid=15619)\u001b[0m Loading Random Controllers E56.pth\n"
     ]
    },
    {
     "name": "stderr",
     "output_type": "stream",
     "text": [
      "\u001b[2m\u001b[36m(pid=15619)\u001b[0m /home/ec2-user/.local/lib/python3.6/site-packages/ray/workers/default_worker.py:58: RuntimeWarning: invalid value encountered in true_divide\n",
      "\u001b[2m\u001b[36m(pid=15619)\u001b[0m   type=str,\n"
     ]
    },
    {
     "name": "stdout",
     "output_type": "stream",
     "text": [
      "\u001b[2m\u001b[36m(pid=15621)\u001b[0m Loading Random Controllers E112.pth\n"
     ]
    },
    {
     "name": "stderr",
     "output_type": "stream",
     "text": [
      "\u001b[2m\u001b[36m(pid=15621)\u001b[0m /home/ec2-user/.local/lib/python3.6/site-packages/ray/workers/default_worker.py:58: RuntimeWarning: invalid value encountered in true_divide\n",
      "\u001b[2m\u001b[36m(pid=15621)\u001b[0m   type=str,\n"
     ]
    },
    {
     "name": "stdout",
     "output_type": "stream",
     "text": [
      "\u001b[2m\u001b[36m(pid=15611)\u001b[0m Loading Random Controllers E176.pth\n"
     ]
    },
    {
     "name": "stderr",
     "output_type": "stream",
     "text": [
      "\u001b[2m\u001b[36m(pid=15611)\u001b[0m /home/ec2-user/.local/lib/python3.6/site-packages/ray/workers/default_worker.py:58: RuntimeWarning: invalid value encountered in true_divide\n",
      "\u001b[2m\u001b[36m(pid=15611)\u001b[0m   type=str,\n"
     ]
    },
    {
     "name": "stdout",
     "output_type": "stream",
     "text": [
      "\u001b[2m\u001b[36m(pid=15614)\u001b[0m Loading Random Controllers E136.pth\n"
     ]
    },
    {
     "name": "stderr",
     "output_type": "stream",
     "text": [
      "\u001b[2m\u001b[36m(pid=15614)\u001b[0m /home/ec2-user/.local/lib/python3.6/site-packages/ray/workers/default_worker.py:58: RuntimeWarning: invalid value encountered in true_divide\n",
      "\u001b[2m\u001b[36m(pid=15614)\u001b[0m   type=str,\n"
     ]
    },
    {
     "name": "stdout",
     "output_type": "stream",
     "text": [
      "\u001b[2m\u001b[36m(pid=15615)\u001b[0m Loading Random Controllers E16.pth\n"
     ]
    },
    {
     "name": "stderr",
     "output_type": "stream",
     "text": [
      "\u001b[2m\u001b[36m(pid=15615)\u001b[0m /home/ec2-user/.local/lib/python3.6/site-packages/ray/workers/default_worker.py:58: RuntimeWarning: invalid value encountered in true_divide\n",
      "\u001b[2m\u001b[36m(pid=15615)\u001b[0m   type=str,\n"
     ]
    },
    {
     "name": "stdout",
     "output_type": "stream",
     "text": [
      "\u001b[2m\u001b[36m(pid=15618)\u001b[0m Game 326 White Won\n",
      "\u001b[2m\u001b[36m(pid=15615)\u001b[0m Game 335 White Won\n",
      "\u001b[2m\u001b[36m(pid=15619)\u001b[0m Game 331 Draw\n",
      "\u001b[2m\u001b[36m(pid=15619)\u001b[0m WARNING DELETING EXPERIENCES\n",
      "\u001b[2m\u001b[36m(pid=15621)\u001b[0m Game 332 Draw\n",
      "\u001b[2m\u001b[36m(pid=15621)\u001b[0m WARNING DELETING EXPERIENCES\n",
      "\u001b[2m\u001b[36m(pid=15612)\u001b[0m Game 321 Draw\n",
      "\u001b[2m\u001b[36m(pid=15612)\u001b[0m WARNING DELETING EXPERIENCES\n",
      "\u001b[2m\u001b[36m(pid=15624)\u001b[0m Game 320 Draw\n",
      "\u001b[2m\u001b[36m(pid=15624)\u001b[0m WARNING DELETING EXPERIENCES\n",
      "\u001b[2m\u001b[36m(pid=15614)\u001b[0m Game 334 Draw\n",
      "\u001b[2m\u001b[36m(pid=15614)\u001b[0m WARNING DELETING EXPERIENCES\n",
      "\u001b[2m\u001b[36m(pid=15616)\u001b[0m Game 322 Draw\n",
      "\u001b[2m\u001b[36m(pid=15616)\u001b[0m WARNING DELETING EXPERIENCES\n",
      "\u001b[2m\u001b[36m(pid=15623)\u001b[0m Game 323 Draw\n",
      "\u001b[2m\u001b[36m(pid=15623)\u001b[0m WARNING DELETING EXPERIENCES\n",
      "\u001b[2m\u001b[36m(pid=15613)\u001b[0m Game 325 Draw\n",
      "\u001b[2m\u001b[36m(pid=15613)\u001b[0m WARNING DELETING EXPERIENCES\n",
      "\u001b[2m\u001b[36m(pid=15611)\u001b[0m Game 333 Draw\n",
      "\u001b[2m\u001b[36m(pid=15611)\u001b[0m WARNING DELETING EXPERIENCES\n",
      "\u001b[2m\u001b[36m(pid=15610)\u001b[0m Game 324 Draw\n",
      "\u001b[2m\u001b[36m(pid=15610)\u001b[0m WARNING DELETING EXPERIENCES\n",
      "\u001b[2m\u001b[36m(pid=15620)\u001b[0m Game 330 Draw\n",
      "\u001b[2m\u001b[36m(pid=15620)\u001b[0m WARNING DELETING EXPERIENCES\n",
      "\u001b[2m\u001b[36m(pid=15617)\u001b[0m Game 327 Draw\n",
      "\u001b[2m\u001b[36m(pid=15617)\u001b[0m WARNING DELETING EXPERIENCES\n",
      "\u001b[2m\u001b[36m(pid=15622)\u001b[0m Game 328 Draw\n",
      "\u001b[2m\u001b[36m(pid=15622)\u001b[0m WARNING DELETING EXPERIENCES\n",
      "\u001b[2m\u001b[36m(pid=15625)\u001b[0m Game 329 Draw\n",
      "\u001b[2m\u001b[36m(pid=15625)\u001b[0m WARNING DELETING EXPERIENCES\n",
      "ACTOR LOSS 5955.7001953125 | CRITIC LOSS 16.308202743530273\n",
      "SAVING\n",
      "ACTOR LOSS 5937.978515625 | CRITIC LOSS 21.887065887451172\n",
      "ACTOR LOSS 5947.58349609375 | CRITIC LOSS 10.676074028015137\n",
      "ACTOR LOSS 5935.60107421875 | CRITIC LOSS 17.004980087280273\n",
      "ACTOR LOSS 5878.404296875 | CRITIC LOSS 12.356111526489258\n",
      "ACTOR LOSS 5915.00439453125 | CRITIC LOSS 12.875242233276367\n",
      "ACTOR LOSS 5880.1357421875 | CRITIC LOSS 20.526771545410156\n",
      "ACTOR LOSS 5936.97119140625 | CRITIC LOSS 11.446158409118652\n",
      "ACTOR LOSS 5955.35791015625 | CRITIC LOSS 12.439998626708984\n",
      "SAVING\n",
      "ACTOR LOSS 5890.85302734375 | CRITIC LOSS 12.804021835327148\n",
      "\u001b[2m\u001b[36m(pid=15625)\u001b[0m Loading Random Controllers E120.pth\n"
     ]
    },
    {
     "name": "stderr",
     "output_type": "stream",
     "text": [
      "\u001b[2m\u001b[36m(pid=15625)\u001b[0m /home/ec2-user/.local/lib/python3.6/site-packages/ray/workers/default_worker.py:58: RuntimeWarning: invalid value encountered in true_divide\n",
      "\u001b[2m\u001b[36m(pid=15625)\u001b[0m   type=str,\n",
      "\u001b[2m\u001b[36m(pid=15622)\u001b[0m /home/ec2-user/.local/lib/python3.6/site-packages/ray/workers/default_worker.py:58: RuntimeWarning: invalid value encountered in true_divide\n",
      "\u001b[2m\u001b[36m(pid=15622)\u001b[0m   type=str,\n"
     ]
    },
    {
     "name": "stdout",
     "output_type": "stream",
     "text": [
      "\u001b[2m\u001b[36m(pid=15622)\u001b[0m Loading Random Controllers E96.pth\n",
      "\u001b[2m\u001b[36m(pid=15620)\u001b[0m Loading Random Controllers E64.pth\n"
     ]
    },
    {
     "name": "stderr",
     "output_type": "stream",
     "text": [
      "\u001b[2m\u001b[36m(pid=15620)\u001b[0m /home/ec2-user/.local/lib/python3.6/site-packages/ray/workers/default_worker.py:58: RuntimeWarning: invalid value encountered in true_divide\n",
      "\u001b[2m\u001b[36m(pid=15620)\u001b[0m   type=str,\n",
      "\u001b[2m\u001b[36m(pid=15610)\u001b[0m /home/ec2-user/.local/lib/python3.6/site-packages/ray/workers/default_worker.py:58: RuntimeWarning: invalid value encountered in true_divide\n",
      "\u001b[2m\u001b[36m(pid=15610)\u001b[0m   type=str,\n"
     ]
    },
    {
     "name": "stdout",
     "output_type": "stream",
     "text": [
      "\u001b[2m\u001b[36m(pid=15610)\u001b[0m Loading Random Controllers E16.pth\n",
      "\u001b[2m\u001b[36m(pid=15613)\u001b[0m Loading Random Controllers E8.pth\n"
     ]
    },
    {
     "name": "stderr",
     "output_type": "stream",
     "text": [
      "\u001b[2m\u001b[36m(pid=15613)\u001b[0m /home/ec2-user/.local/lib/python3.6/site-packages/ray/workers/default_worker.py:58: RuntimeWarning: invalid value encountered in true_divide\n",
      "\u001b[2m\u001b[36m(pid=15613)\u001b[0m   type=str,\n"
     ]
    },
    {
     "name": "stdout",
     "output_type": "stream",
     "text": [
      "\u001b[2m\u001b[36m(pid=15623)\u001b[0m Loading Random Controllers E16.pth\n"
     ]
    },
    {
     "name": "stderr",
     "output_type": "stream",
     "text": [
      "\u001b[2m\u001b[36m(pid=15623)\u001b[0m /home/ec2-user/.local/lib/python3.6/site-packages/ray/workers/default_worker.py:58: RuntimeWarning: invalid value encountered in true_divide\n",
      "\u001b[2m\u001b[36m(pid=15623)\u001b[0m   type=str,\n"
     ]
    },
    {
     "name": "stdout",
     "output_type": "stream",
     "text": [
      "\u001b[2m\u001b[36m(pid=15616)\u001b[0m Loading Random Controllers E120.pth\n"
     ]
    },
    {
     "name": "stderr",
     "output_type": "stream",
     "text": [
      "\u001b[2m\u001b[36m(pid=15616)\u001b[0m /home/ec2-user/.local/lib/python3.6/site-packages/ray/workers/default_worker.py:58: RuntimeWarning: invalid value encountered in true_divide\n",
      "\u001b[2m\u001b[36m(pid=15616)\u001b[0m   type=str,\n"
     ]
    },
    {
     "name": "stdout",
     "output_type": "stream",
     "text": [
      "\u001b[2m\u001b[36m(pid=15611)\u001b[0m Loading Random Controllers E144.pth\n"
     ]
    },
    {
     "name": "stderr",
     "output_type": "stream",
     "text": [
      "\u001b[2m\u001b[36m(pid=15611)\u001b[0m /home/ec2-user/.local/lib/python3.6/site-packages/ray/workers/default_worker.py:58: RuntimeWarning: invalid value encountered in true_divide\n",
      "\u001b[2m\u001b[36m(pid=15611)\u001b[0m   type=str,\n"
     ]
    },
    {
     "name": "stdout",
     "output_type": "stream",
     "text": [
      "\u001b[2m\u001b[36m(pid=15614)\u001b[0m Loading Random Controllers E64.pth\n"
     ]
    },
    {
     "name": "stderr",
     "output_type": "stream",
     "text": [
      "\u001b[2m\u001b[36m(pid=15614)\u001b[0m /home/ec2-user/.local/lib/python3.6/site-packages/ray/workers/default_worker.py:58: RuntimeWarning: invalid value encountered in true_divide\n",
      "\u001b[2m\u001b[36m(pid=15614)\u001b[0m   type=str,\n"
     ]
    },
    {
     "name": "stdout",
     "output_type": "stream",
     "text": [
      "\u001b[2m\u001b[36m(pid=15624)\u001b[0m Loading Random Controllers E184.pth\n"
     ]
    },
    {
     "name": "stderr",
     "output_type": "stream",
     "text": [
      "\u001b[2m\u001b[36m(pid=15624)\u001b[0m /home/ec2-user/.local/lib/python3.6/site-packages/ray/workers/default_worker.py:58: RuntimeWarning: invalid value encountered in true_divide\n",
      "\u001b[2m\u001b[36m(pid=15624)\u001b[0m   type=str,\n"
     ]
    },
    {
     "name": "stdout",
     "output_type": "stream",
     "text": [
      "\u001b[2m\u001b[36m(pid=15612)\u001b[0m Loading Random Controllers E176.pth\n"
     ]
    },
    {
     "name": "stderr",
     "output_type": "stream",
     "text": [
      "\u001b[2m\u001b[36m(pid=15612)\u001b[0m /home/ec2-user/.local/lib/python3.6/site-packages/ray/workers/default_worker.py:58: RuntimeWarning: invalid value encountered in true_divide\n",
      "\u001b[2m\u001b[36m(pid=15612)\u001b[0m   type=str,\n"
     ]
    },
    {
     "name": "stdout",
     "output_type": "stream",
     "text": [
      "\u001b[2m\u001b[36m(pid=15621)\u001b[0m Loading Random Controllers E32.pth\n"
     ]
    },
    {
     "name": "stderr",
     "output_type": "stream",
     "text": [
      "\u001b[2m\u001b[36m(pid=15621)\u001b[0m /home/ec2-user/.local/lib/python3.6/site-packages/ray/workers/default_worker.py:58: RuntimeWarning: invalid value encountered in true_divide\n",
      "\u001b[2m\u001b[36m(pid=15621)\u001b[0m   type=str,\n"
     ]
    },
    {
     "name": "stdout",
     "output_type": "stream",
     "text": [
      "\u001b[2m\u001b[36m(pid=15619)\u001b[0m Loading Random Controllers E120.pth\n"
     ]
    },
    {
     "name": "stderr",
     "output_type": "stream",
     "text": [
      "\u001b[2m\u001b[36m(pid=15619)\u001b[0m /home/ec2-user/.local/lib/python3.6/site-packages/ray/workers/default_worker.py:58: RuntimeWarning: invalid value encountered in true_divide\n",
      "\u001b[2m\u001b[36m(pid=15619)\u001b[0m   type=str,\n"
     ]
    },
    {
     "name": "stdout",
     "output_type": "stream",
     "text": [
      "\u001b[2m\u001b[36m(pid=15615)\u001b[0m Loading Random Controllers E192.pth\n"
     ]
    },
    {
     "name": "stderr",
     "output_type": "stream",
     "text": [
      "\u001b[2m\u001b[36m(pid=15615)\u001b[0m /home/ec2-user/.local/lib/python3.6/site-packages/ray/workers/default_worker.py:58: RuntimeWarning: invalid value encountered in true_divide\n",
      "\u001b[2m\u001b[36m(pid=15615)\u001b[0m   type=str,\n"
     ]
    },
    {
     "name": "stdout",
     "output_type": "stream",
     "text": [
      "\u001b[2m\u001b[36m(pid=15617)\u001b[0m Loading Random Controllers E112.pth\n"
     ]
    },
    {
     "name": "stderr",
     "output_type": "stream",
     "text": [
      "\u001b[2m\u001b[36m(pid=15617)\u001b[0m /home/ec2-user/.local/lib/python3.6/site-packages/ray/workers/default_worker.py:58: RuntimeWarning: invalid value encountered in true_divide\n",
      "\u001b[2m\u001b[36m(pid=15617)\u001b[0m   type=str,\n"
     ]
    },
    {
     "name": "stdout",
     "output_type": "stream",
     "text": [
      "\u001b[2m\u001b[36m(pid=15618)\u001b[0m Loading Random Controllers E104.pth\n"
     ]
    },
    {
     "name": "stderr",
     "output_type": "stream",
     "text": [
      "\u001b[2m\u001b[36m(pid=15618)\u001b[0m /home/ec2-user/.local/lib/python3.6/site-packages/ray/workers/default_worker.py:58: RuntimeWarning: invalid value encountered in true_divide\n",
      "\u001b[2m\u001b[36m(pid=15618)\u001b[0m   type=str,\n"
     ]
    },
    {
     "name": "stdout",
     "output_type": "stream",
     "text": [
      "\u001b[2m\u001b[36m(pid=15622)\u001b[0m Game 337 White Won\n",
      "\u001b[2m\u001b[36m(pid=15624)\u001b[0m Game 345 White Loss\n",
      "\u001b[2m\u001b[36m(pid=15621)\u001b[0m Game 347 White Loss\n",
      "\u001b[2m\u001b[36m(pid=15620)\u001b[0m Game 338 Draw\n",
      "\u001b[2m\u001b[36m(pid=15620)\u001b[0m WARNING DELETING EXPERIENCES\n",
      "\u001b[2m\u001b[36m(pid=15612)\u001b[0m Game 346 Draw\n",
      "\u001b[2m\u001b[36m(pid=15612)\u001b[0m WARNING DELETING EXPERIENCES\n",
      "\u001b[2m\u001b[36m(pid=15610)\u001b[0m Game 339 Draw\n",
      "\u001b[2m\u001b[36m(pid=15610)\u001b[0m WARNING DELETING EXPERIENCES\n",
      "\u001b[2m\u001b[36m(pid=15623)\u001b[0m Game 341 Draw\n",
      "\u001b[2m\u001b[36m(pid=15623)\u001b[0m WARNING DELETING EXPERIENCES\n",
      "\u001b[2m\u001b[36m(pid=15613)\u001b[0m Game 340 Draw\n",
      "\u001b[2m\u001b[36m(pid=15613)\u001b[0m WARNING DELETING EXPERIENCES\n",
      "\u001b[2m\u001b[36m(pid=15625)\u001b[0m Game 336 White Won\n",
      "\u001b[2m\u001b[36m(pid=15614)\u001b[0m Game 344 Draw\n",
      "\u001b[2m\u001b[36m(pid=15614)\u001b[0m WARNING DELETING EXPERIENCES\n",
      "\u001b[2m\u001b[36m(pid=15618)\u001b[0m Game 351 Draw\n",
      "\u001b[2m\u001b[36m(pid=15618)\u001b[0m WARNING DELETING EXPERIENCES\n",
      "\u001b[2m\u001b[36m(pid=15611)\u001b[0m Game 343 Draw\n",
      "\u001b[2m\u001b[36m(pid=15611)\u001b[0m WARNING DELETING EXPERIENCES\n",
      "\u001b[2m\u001b[36m(pid=15619)\u001b[0m Game 348 Draw\n",
      "\u001b[2m\u001b[36m(pid=15619)\u001b[0m WARNING DELETING EXPERIENCES\n",
      "\u001b[2m\u001b[36m(pid=15617)\u001b[0m Game 350 Draw\n",
      "\u001b[2m\u001b[36m(pid=15617)\u001b[0m WARNING DELETING EXPERIENCES\n",
      "\u001b[2m\u001b[36m(pid=15616)\u001b[0m Game 342 Draw\n",
      "\u001b[2m\u001b[36m(pid=15616)\u001b[0m WARNING DELETING EXPERIENCES\n",
      "\u001b[2m\u001b[36m(pid=15615)\u001b[0m Game 349 Draw\n",
      "\u001b[2m\u001b[36m(pid=15615)\u001b[0m WARNING DELETING EXPERIENCES\n",
      "ACTOR LOSS 5987.31787109375 | CRITIC LOSS 15.742810249328613\n",
      "ACTOR LOSS 5865.32080078125 | CRITIC LOSS 11.601602554321289\n",
      "ACTOR LOSS 5966.0205078125 | CRITIC LOSS 14.22730541229248\n",
      "ACTOR LOSS 5900.78857421875 | CRITIC LOSS 20.80086898803711\n",
      "ACTOR LOSS 5940.12109375 | CRITIC LOSS 10.356426239013672\n",
      "ACTOR LOSS 5900.154296875 | CRITIC LOSS 21.707263946533203\n",
      "ACTOR LOSS 5728.19921875 | CRITIC LOSS 11.56813907623291\n",
      "SAVING\n",
      "ACTOR LOSS 5937.48291015625 | CRITIC LOSS 14.959437370300293\n",
      "ACTOR LOSS 5976.15380859375 | CRITIC LOSS 22.57737159729004\n",
      "ACTOR LOSS 5933.560546875 | CRITIC LOSS 13.378975868225098\n",
      "\u001b[2m\u001b[36m(pid=15615)\u001b[0m Loading Random Controllers E152.pth\n"
     ]
    },
    {
     "name": "stderr",
     "output_type": "stream",
     "text": [
      "\u001b[2m\u001b[36m(pid=15615)\u001b[0m /home/ec2-user/.local/lib/python3.6/site-packages/ray/workers/default_worker.py:58: RuntimeWarning: invalid value encountered in true_divide\n",
      "\u001b[2m\u001b[36m(pid=15615)\u001b[0m   type=str,\n"
     ]
    },
    {
     "name": "stdout",
     "output_type": "stream",
     "text": [
      "\u001b[2m\u001b[36m(pid=15616)\u001b[0m Loading Random Controllers E184.pth\n"
     ]
    },
    {
     "name": "stderr",
     "output_type": "stream",
     "text": [
      "\u001b[2m\u001b[36m(pid=15616)\u001b[0m /home/ec2-user/.local/lib/python3.6/site-packages/ray/workers/default_worker.py:58: RuntimeWarning: invalid value encountered in true_divide\n",
      "\u001b[2m\u001b[36m(pid=15616)\u001b[0m   type=str,\n"
     ]
    },
    {
     "name": "stdout",
     "output_type": "stream",
     "text": [
      "\u001b[2m\u001b[36m(pid=15619)\u001b[0m Loading Random Controllers E120.pth\n"
     ]
    },
    {
     "name": "stderr",
     "output_type": "stream",
     "text": [
      "\u001b[2m\u001b[36m(pid=15619)\u001b[0m /home/ec2-user/.local/lib/python3.6/site-packages/ray/workers/default_worker.py:58: RuntimeWarning: invalid value encountered in true_divide\n",
      "\u001b[2m\u001b[36m(pid=15619)\u001b[0m   type=str,\n"
     ]
    },
    {
     "name": "stdout",
     "output_type": "stream",
     "text": [
      "\u001b[2m\u001b[36m(pid=15617)\u001b[0m Loading Random Controllers E64.pth\n"
     ]
    },
    {
     "name": "stderr",
     "output_type": "stream",
     "text": [
      "\u001b[2m\u001b[36m(pid=15617)\u001b[0m /home/ec2-user/.local/lib/python3.6/site-packages/ray/workers/default_worker.py:58: RuntimeWarning: invalid value encountered in true_divide\n",
      "\u001b[2m\u001b[36m(pid=15617)\u001b[0m   type=str,\n"
     ]
    },
    {
     "name": "stdout",
     "output_type": "stream",
     "text": [
      "\u001b[2m\u001b[36m(pid=15618)\u001b[0m Loading Random Controllers E40.pth\n"
     ]
    },
    {
     "name": "stderr",
     "output_type": "stream",
     "text": [
      "\u001b[2m\u001b[36m(pid=15618)\u001b[0m /home/ec2-user/.local/lib/python3.6/site-packages/ray/workers/default_worker.py:58: RuntimeWarning: invalid value encountered in true_divide\n",
      "\u001b[2m\u001b[36m(pid=15618)\u001b[0m   type=str,\n"
     ]
    },
    {
     "name": "stdout",
     "output_type": "stream",
     "text": [
      "\u001b[2m\u001b[36m(pid=15611)\u001b[0m Loading Random Controllers E8.pth\n"
     ]
    },
    {
     "name": "stderr",
     "output_type": "stream",
     "text": [
      "\u001b[2m\u001b[36m(pid=15611)\u001b[0m /home/ec2-user/.local/lib/python3.6/site-packages/ray/workers/default_worker.py:58: RuntimeWarning: invalid value encountered in true_divide\n",
      "\u001b[2m\u001b[36m(pid=15611)\u001b[0m   type=str,\n",
      "\u001b[2m\u001b[36m(pid=15614)\u001b[0m /home/ec2-user/.local/lib/python3.6/site-packages/ray/workers/default_worker.py:58: RuntimeWarning: invalid value encountered in true_divide\n",
      "\u001b[2m\u001b[36m(pid=15614)\u001b[0m   type=str,\n"
     ]
    },
    {
     "name": "stdout",
     "output_type": "stream",
     "text": [
      "\u001b[2m\u001b[36m(pid=15614)\u001b[0m Loading Random Controllers E168.pth\n",
      "\u001b[2m\u001b[36m(pid=15613)\u001b[0m Loading Random Controllers E96.pth\n"
     ]
    },
    {
     "name": "stderr",
     "output_type": "stream",
     "text": [
      "\u001b[2m\u001b[36m(pid=15613)\u001b[0m /home/ec2-user/.local/lib/python3.6/site-packages/ray/workers/default_worker.py:58: RuntimeWarning: invalid value encountered in true_divide\n",
      "\u001b[2m\u001b[36m(pid=15613)\u001b[0m   type=str,\n"
     ]
    },
    {
     "name": "stdout",
     "output_type": "stream",
     "text": [
      "\u001b[2m\u001b[36m(pid=15623)\u001b[0m Loading Random Controllers E16.pth\n"
     ]
    },
    {
     "name": "stderr",
     "output_type": "stream",
     "text": [
      "\u001b[2m\u001b[36m(pid=15623)\u001b[0m /home/ec2-user/.local/lib/python3.6/site-packages/ray/workers/default_worker.py:58: RuntimeWarning: invalid value encountered in true_divide\n",
      "\u001b[2m\u001b[36m(pid=15623)\u001b[0m   type=str,\n"
     ]
    },
    {
     "name": "stdout",
     "output_type": "stream",
     "text": [
      "\u001b[2m\u001b[36m(pid=15610)\u001b[0m Loading Random Controllers E192.pth\n"
     ]
    },
    {
     "name": "stderr",
     "output_type": "stream",
     "text": [
      "\u001b[2m\u001b[36m(pid=15610)\u001b[0m /home/ec2-user/.local/lib/python3.6/site-packages/ray/workers/default_worker.py:58: RuntimeWarning: invalid value encountered in true_divide\n",
      "\u001b[2m\u001b[36m(pid=15610)\u001b[0m   type=str,\n"
     ]
    },
    {
     "name": "stdout",
     "output_type": "stream",
     "text": [
      "\u001b[2m\u001b[36m(pid=15612)\u001b[0m Loading Random Controllers E64.pth\n"
     ]
    },
    {
     "name": "stderr",
     "output_type": "stream",
     "text": [
      "\u001b[2m\u001b[36m(pid=15612)\u001b[0m /home/ec2-user/.local/lib/python3.6/site-packages/ray/workers/default_worker.py:58: RuntimeWarning: invalid value encountered in true_divide\n",
      "\u001b[2m\u001b[36m(pid=15612)\u001b[0m   type=str,\n"
     ]
    },
    {
     "name": "stdout",
     "output_type": "stream",
     "text": [
      "\u001b[2m\u001b[36m(pid=15620)\u001b[0m Loading Random Controllers E112.pth\n"
     ]
    },
    {
     "name": "stderr",
     "output_type": "stream",
     "text": [
      "\u001b[2m\u001b[36m(pid=15620)\u001b[0m /home/ec2-user/.local/lib/python3.6/site-packages/ray/workers/default_worker.py:58: RuntimeWarning: invalid value encountered in true_divide\n",
      "\u001b[2m\u001b[36m(pid=15620)\u001b[0m   type=str,\n"
     ]
    },
    {
     "name": "stdout",
     "output_type": "stream",
     "text": [
      "\u001b[2m\u001b[36m(pid=15621)\u001b[0m Loading Random Controllers E40.pth\n"
     ]
    },
    {
     "name": "stderr",
     "output_type": "stream",
     "text": [
      "\u001b[2m\u001b[36m(pid=15621)\u001b[0m /home/ec2-user/.local/lib/python3.6/site-packages/ray/workers/default_worker.py:58: RuntimeWarning: invalid value encountered in true_divide\n",
      "\u001b[2m\u001b[36m(pid=15621)\u001b[0m   type=str,\n"
     ]
    },
    {
     "name": "stdout",
     "output_type": "stream",
     "text": [
      "\u001b[2m\u001b[36m(pid=15624)\u001b[0m Loading Random Controllers E0.pth\n"
     ]
    },
    {
     "name": "stderr",
     "output_type": "stream",
     "text": [
      "\u001b[2m\u001b[36m(pid=15624)\u001b[0m /home/ec2-user/.local/lib/python3.6/site-packages/ray/workers/default_worker.py:58: RuntimeWarning: invalid value encountered in true_divide\n",
      "\u001b[2m\u001b[36m(pid=15624)\u001b[0m   type=str,\n"
     ]
    },
    {
     "name": "stdout",
     "output_type": "stream",
     "text": [
      "\u001b[2m\u001b[36m(pid=15625)\u001b[0m Loading Random Controllers E96.pth\n"
     ]
    },
    {
     "name": "stderr",
     "output_type": "stream",
     "text": [
      "\u001b[2m\u001b[36m(pid=15625)\u001b[0m /home/ec2-user/.local/lib/python3.6/site-packages/ray/workers/default_worker.py:58: RuntimeWarning: invalid value encountered in true_divide\n",
      "\u001b[2m\u001b[36m(pid=15625)\u001b[0m   type=str,\n"
     ]
    },
    {
     "name": "stdout",
     "output_type": "stream",
     "text": [
      "\u001b[2m\u001b[36m(pid=15622)\u001b[0m Loading Random Controllers E208.pth\n"
     ]
    },
    {
     "name": "stderr",
     "output_type": "stream",
     "text": [
      "\u001b[2m\u001b[36m(pid=15622)\u001b[0m /home/ec2-user/.local/lib/python3.6/site-packages/ray/workers/default_worker.py:58: RuntimeWarning: invalid value encountered in true_divide\n",
      "\u001b[2m\u001b[36m(pid=15622)\u001b[0m   type=str,\n"
     ]
    },
    {
     "name": "stdout",
     "output_type": "stream",
     "text": [
      "\u001b[2m\u001b[36m(pid=15614)\u001b[0m Game 358 White Won\n",
      "\u001b[2m\u001b[36m(pid=15619)\u001b[0m Game 354 Draw\n",
      "\u001b[2m\u001b[36m(pid=15619)\u001b[0m WARNING DELETING EXPERIENCES\n",
      "\u001b[2m\u001b[36m(pid=15612)\u001b[0m Game 362 Draw\n",
      "\u001b[2m\u001b[36m(pid=15612)\u001b[0m WARNING DELETING EXPERIENCES\n",
      "\u001b[2m\u001b[36m(pid=15622)\u001b[0m Game 367 Draw\n",
      "\u001b[2m\u001b[36m(pid=15622)\u001b[0m WARNING DELETING EXPERIENCES\n",
      "\u001b[2m\u001b[36m(pid=15615)\u001b[0m Game 352 Draw\n",
      "\u001b[2m\u001b[36m(pid=15615)\u001b[0m WARNING DELETING EXPERIENCES\n",
      "\u001b[2m\u001b[36m(pid=15621)\u001b[0m Game 364 Draw\n",
      "\u001b[2m\u001b[36m(pid=15621)\u001b[0m WARNING DELETING EXPERIENCES\n",
      "\u001b[2m\u001b[36m(pid=15617)\u001b[0m Game 355 Draw\n",
      "\u001b[2m\u001b[36m(pid=15617)\u001b[0m WARNING DELETING EXPERIENCES\n",
      "\u001b[2m\u001b[36m(pid=15620)\u001b[0m Game 363 Draw\n",
      "\u001b[2m\u001b[36m(pid=15620)\u001b[0m WARNING DELETING EXPERIENCES\n",
      "\u001b[2m\u001b[36m(pid=15625)\u001b[0m Game 366 Draw\n",
      "\u001b[2m\u001b[36m(pid=15625)\u001b[0m WARNING DELETING EXPERIENCES\n",
      "\u001b[2m\u001b[36m(pid=15610)\u001b[0m Game 361 Draw\n",
      "\u001b[2m\u001b[36m(pid=15610)\u001b[0m WARNING DELETING EXPERIENCES\n",
      "\u001b[2m\u001b[36m(pid=15618)\u001b[0m Game 356 Draw\n",
      "\u001b[2m\u001b[36m(pid=15618)\u001b[0m WARNING DELETING EXPERIENCES\n",
      "\u001b[2m\u001b[36m(pid=15616)\u001b[0m Game 353 Draw\n",
      "\u001b[2m\u001b[36m(pid=15616)\u001b[0m WARNING DELETING EXPERIENCES\n",
      "\u001b[2m\u001b[36m(pid=15611)\u001b[0m Game 357 Draw\n",
      "\u001b[2m\u001b[36m(pid=15611)\u001b[0m WARNING DELETING EXPERIENCES\n",
      "\u001b[2m\u001b[36m(pid=15624)\u001b[0m Game 365 Draw\n",
      "\u001b[2m\u001b[36m(pid=15624)\u001b[0m WARNING DELETING EXPERIENCES\n",
      "\u001b[2m\u001b[36m(pid=15613)\u001b[0m Game 359 Draw\n",
      "\u001b[2m\u001b[36m(pid=15613)\u001b[0m WARNING DELETING EXPERIENCES\n",
      "\u001b[2m\u001b[36m(pid=15623)\u001b[0m Game 360 Draw\n",
      "\u001b[2m\u001b[36m(pid=15623)\u001b[0m WARNING DELETING EXPERIENCES\n",
      "ACTOR LOSS 5171.16064453125 | CRITIC LOSS 9.693638801574707\n",
      "ACTOR LOSS 5853.0361328125 | CRITIC LOSS 21.403261184692383\n",
      "ACTOR LOSS 6025.68017578125 | CRITIC LOSS 12.049642562866211\n",
      "ACTOR LOSS 5933.29638671875 | CRITIC LOSS 17.447071075439453\n",
      "ACTOR LOSS 6007.53515625 | CRITIC LOSS 12.650899887084961\n",
      "SAVING\n",
      "ACTOR LOSS 5850.341796875 | CRITIC LOSS 11.193181991577148\n",
      "ACTOR LOSS 5992.54150390625 | CRITIC LOSS 14.986553192138672\n",
      "ACTOR LOSS 6002.99462890625 | CRITIC LOSS 11.226958274841309\n",
      "ACTOR LOSS 5819.40234375 | CRITIC LOSS 10.623802185058594\n",
      "ACTOR LOSS 5997.1318359375 | CRITIC LOSS 7.951735019683838\n",
      "\u001b[2m\u001b[36m(pid=15624)\u001b[0m Loading Random Controllers E216.pth\n"
     ]
    },
    {
     "name": "stderr",
     "output_type": "stream",
     "text": [
      "\u001b[2m\u001b[36m(pid=15624)\u001b[0m /home/ec2-user/.local/lib/python3.6/site-packages/ray/workers/default_worker.py:58: RuntimeWarning: invalid value encountered in true_divide\n",
      "\u001b[2m\u001b[36m(pid=15624)\u001b[0m   type=str,\n"
     ]
    },
    {
     "name": "stdout",
     "output_type": "stream",
     "text": [
      "\u001b[2m\u001b[36m(pid=15616)\u001b[0m Loading Random Controllers E32.pth\n"
     ]
    },
    {
     "name": "stderr",
     "output_type": "stream",
     "text": [
      "\u001b[2m\u001b[36m(pid=15616)\u001b[0m /home/ec2-user/.local/lib/python3.6/site-packages/ray/workers/default_worker.py:58: RuntimeWarning: invalid value encountered in true_divide\n",
      "\u001b[2m\u001b[36m(pid=15616)\u001b[0m   type=str,\n"
     ]
    },
    {
     "name": "stdout",
     "output_type": "stream",
     "text": [
      "\u001b[2m\u001b[36m(pid=15623)\u001b[0m Loading Random Controllers E168.pth\n"
     ]
    },
    {
     "name": "stderr",
     "output_type": "stream",
     "text": [
      "\u001b[2m\u001b[36m(pid=15623)\u001b[0m /home/ec2-user/.local/lib/python3.6/site-packages/ray/workers/default_worker.py:58: RuntimeWarning: invalid value encountered in true_divide\n",
      "\u001b[2m\u001b[36m(pid=15623)\u001b[0m   type=str,\n"
     ]
    },
    {
     "name": "stdout",
     "output_type": "stream",
     "text": [
      "\u001b[2m\u001b[36m(pid=15613)\u001b[0m Loading Random Controllers E80.pth\n"
     ]
    },
    {
     "name": "stderr",
     "output_type": "stream",
     "text": [
      "\u001b[2m\u001b[36m(pid=15613)\u001b[0m /home/ec2-user/.local/lib/python3.6/site-packages/ray/workers/default_worker.py:58: RuntimeWarning: invalid value encountered in true_divide\n",
      "\u001b[2m\u001b[36m(pid=15613)\u001b[0m   type=str,\n",
      "\u001b[2m\u001b[36m(pid=15610)\u001b[0m /home/ec2-user/.local/lib/python3.6/site-packages/ray/workers/default_worker.py:58: RuntimeWarning: invalid value encountered in true_divide\n",
      "\u001b[2m\u001b[36m(pid=15610)\u001b[0m   type=str,\n"
     ]
    },
    {
     "name": "stdout",
     "output_type": "stream",
     "text": [
      "\u001b[2m\u001b[36m(pid=15610)\u001b[0m Loading Random Controllers E0.pth\n",
      "\u001b[2m\u001b[36m(pid=15620)\u001b[0m Loading Random Controllers E200.pth\n"
     ]
    },
    {
     "name": "stderr",
     "output_type": "stream",
     "text": [
      "\u001b[2m\u001b[36m(pid=15620)\u001b[0m /home/ec2-user/.local/lib/python3.6/site-packages/ray/workers/default_worker.py:58: RuntimeWarning: invalid value encountered in true_divide\n",
      "\u001b[2m\u001b[36m(pid=15620)\u001b[0m   type=str,\n"
     ]
    },
    {
     "name": "stdout",
     "output_type": "stream",
     "text": [
      "\u001b[2m\u001b[36m(pid=15618)\u001b[0m Loading Random Controllers E192.pth\n"
     ]
    },
    {
     "name": "stderr",
     "output_type": "stream",
     "text": [
      "\u001b[2m\u001b[36m(pid=15618)\u001b[0m /home/ec2-user/.local/lib/python3.6/site-packages/ray/workers/default_worker.py:58: RuntimeWarning: invalid value encountered in true_divide\n",
      "\u001b[2m\u001b[36m(pid=15618)\u001b[0m   type=str,\n"
     ]
    },
    {
     "name": "stdout",
     "output_type": "stream",
     "text": [
      "\u001b[2m\u001b[36m(pid=15617)\u001b[0m Loading Random Controllers E200.pth\n"
     ]
    },
    {
     "name": "stderr",
     "output_type": "stream",
     "text": [
      "\u001b[2m\u001b[36m(pid=15617)\u001b[0m /home/ec2-user/.local/lib/python3.6/site-packages/ray/workers/default_worker.py:58: RuntimeWarning: invalid value encountered in true_divide\n",
      "\u001b[2m\u001b[36m(pid=15617)\u001b[0m   type=str,\n"
     ]
    },
    {
     "name": "stdout",
     "output_type": "stream",
     "text": [
      "\u001b[2m\u001b[36m(pid=15621)\u001b[0m Loading Random Controllers E64.pth\n",
      "\u001b[2m\u001b[36m(pid=15615)\u001b[0m Loading Random Controllers E160.pth\n"
     ]
    },
    {
     "name": "stderr",
     "output_type": "stream",
     "text": [
      "\u001b[2m\u001b[36m(pid=15621)\u001b[0m /home/ec2-user/.local/lib/python3.6/site-packages/ray/workers/default_worker.py:58: RuntimeWarning: invalid value encountered in true_divide\n",
      "\u001b[2m\u001b[36m(pid=15621)\u001b[0m   type=str,\n",
      "\u001b[2m\u001b[36m(pid=15615)\u001b[0m /home/ec2-user/.local/lib/python3.6/site-packages/ray/workers/default_worker.py:58: RuntimeWarning: invalid value encountered in true_divide\n",
      "\u001b[2m\u001b[36m(pid=15615)\u001b[0m   type=str,\n"
     ]
    },
    {
     "name": "stdout",
     "output_type": "stream",
     "text": [
      "\u001b[2m\u001b[36m(pid=15625)\u001b[0m Loading Random Controllers E32.pth\n"
     ]
    },
    {
     "name": "stderr",
     "output_type": "stream",
     "text": [
      "\u001b[2m\u001b[36m(pid=15625)\u001b[0m /home/ec2-user/.local/lib/python3.6/site-packages/ray/workers/default_worker.py:58: RuntimeWarning: invalid value encountered in true_divide\n",
      "\u001b[2m\u001b[36m(pid=15625)\u001b[0m   type=str,\n",
      "\u001b[2m\u001b[36m(pid=15622)\u001b[0m /home/ec2-user/.local/lib/python3.6/site-packages/ray/workers/default_worker.py:58: RuntimeWarning: invalid value encountered in true_divide\n",
      "\u001b[2m\u001b[36m(pid=15622)\u001b[0m   type=str,\n"
     ]
    },
    {
     "name": "stdout",
     "output_type": "stream",
     "text": [
      "\u001b[2m\u001b[36m(pid=15622)\u001b[0m Loading Random Controllers E160.pth\n",
      "\u001b[2m\u001b[36m(pid=15612)\u001b[0m Loading Random Controllers E104.pth\n"
     ]
    },
    {
     "name": "stderr",
     "output_type": "stream",
     "text": [
      "\u001b[2m\u001b[36m(pid=15612)\u001b[0m /home/ec2-user/.local/lib/python3.6/site-packages/ray/workers/default_worker.py:58: RuntimeWarning: invalid value encountered in true_divide\n",
      "\u001b[2m\u001b[36m(pid=15612)\u001b[0m   type=str,\n"
     ]
    },
    {
     "name": "stdout",
     "output_type": "stream",
     "text": [
      "\u001b[2m\u001b[36m(pid=15619)\u001b[0m Loading Random Controllers E208.pth\n"
     ]
    },
    {
     "name": "stderr",
     "output_type": "stream",
     "text": [
      "\u001b[2m\u001b[36m(pid=15619)\u001b[0m /home/ec2-user/.local/lib/python3.6/site-packages/ray/workers/default_worker.py:58: RuntimeWarning: invalid value encountered in true_divide\n",
      "\u001b[2m\u001b[36m(pid=15619)\u001b[0m   type=str,\n"
     ]
    },
    {
     "name": "stdout",
     "output_type": "stream",
     "text": [
      "\u001b[2m\u001b[36m(pid=15611)\u001b[0m Loading Random Controllers E192.pth\n"
     ]
    },
    {
     "name": "stderr",
     "output_type": "stream",
     "text": [
      "\u001b[2m\u001b[36m(pid=15611)\u001b[0m /home/ec2-user/.local/lib/python3.6/site-packages/ray/workers/default_worker.py:58: RuntimeWarning: invalid value encountered in true_divide\n",
      "\u001b[2m\u001b[36m(pid=15611)\u001b[0m   type=str,\n"
     ]
    },
    {
     "name": "stdout",
     "output_type": "stream",
     "text": [
      "\u001b[2m\u001b[36m(pid=15614)\u001b[0m Loading Random Controllers E104.pth\n"
     ]
    },
    {
     "name": "stderr",
     "output_type": "stream",
     "text": [
      "\u001b[2m\u001b[36m(pid=15614)\u001b[0m /home/ec2-user/.local/lib/python3.6/site-packages/ray/workers/default_worker.py:58: RuntimeWarning: invalid value encountered in true_divide\n",
      "\u001b[2m\u001b[36m(pid=15614)\u001b[0m   type=str,\n"
     ]
    },
    {
     "name": "stdout",
     "output_type": "stream",
     "text": [
      "\u001b[2m\u001b[36m(pid=15613)\u001b[0m Game 371 White Loss\n",
      "\u001b[2m\u001b[36m(pid=15624)\u001b[0m Game 368 White Won\n",
      "\u001b[2m\u001b[36m(pid=15618)\u001b[0m Game 374 Draw\n",
      "\u001b[2m\u001b[36m(pid=15618)\u001b[0m WARNING DELETING EXPERIENCES\n",
      "\u001b[2m\u001b[36m(pid=15611)\u001b[0m Game 382 Draw\n",
      "\u001b[2m\u001b[36m(pid=15611)\u001b[0m WARNING DELETING EXPERIENCES\n",
      "\u001b[2m\u001b[36m(pid=15619)\u001b[0m Game 381 Draw\n",
      "\u001b[2m\u001b[36m(pid=15619)\u001b[0m WARNING DELETING EXPERIENCES\n",
      "\u001b[2m\u001b[36m(pid=15610)\u001b[0m Game 372 Draw\n",
      "\u001b[2m\u001b[36m(pid=15610)\u001b[0m WARNING DELETING EXPERIENCES\n",
      "\u001b[2m\u001b[36m(pid=15621)\u001b[0m Game 376 Draw\n",
      "\u001b[2m\u001b[36m(pid=15621)\u001b[0m WARNING DELETING EXPERIENCES\n",
      "\u001b[2m\u001b[36m(pid=15614)\u001b[0m Game 383 Draw\n",
      "\u001b[2m\u001b[36m(pid=15614)\u001b[0m WARNING DELETING EXPERIENCES\n",
      "\u001b[2m\u001b[36m(pid=15612)\u001b[0m Game 380 Draw\n",
      "\u001b[2m\u001b[36m(pid=15612)\u001b[0m WARNING DELETING EXPERIENCES\n",
      "\u001b[2m\u001b[36m(pid=15616)\u001b[0m Game 369 Draw\n",
      "\u001b[2m\u001b[36m(pid=15616)\u001b[0m WARNING DELETING EXPERIENCES\n",
      "\u001b[2m\u001b[36m(pid=15622)\u001b[0m Game 379 Draw\n",
      "\u001b[2m\u001b[36m(pid=15622)\u001b[0m WARNING DELETING EXPERIENCES\n",
      "\u001b[2m\u001b[36m(pid=15625)\u001b[0m Game 378 Draw\n",
      "\u001b[2m\u001b[36m(pid=15625)\u001b[0m WARNING DELETING EXPERIENCES\n",
      "\u001b[2m\u001b[36m(pid=15623)\u001b[0m Game 370 Draw\n",
      "\u001b[2m\u001b[36m(pid=15623)\u001b[0m WARNING DELETING EXPERIENCES\n",
      "\u001b[2m\u001b[36m(pid=15620)\u001b[0m Game 373 Draw\n",
      "\u001b[2m\u001b[36m(pid=15620)\u001b[0m WARNING DELETING EXPERIENCES\n",
      "\u001b[2m\u001b[36m(pid=15617)\u001b[0m Game 375 Draw\n",
      "\u001b[2m\u001b[36m(pid=15617)\u001b[0m WARNING DELETING EXPERIENCES\n",
      "\u001b[2m\u001b[36m(pid=15615)\u001b[0m Game 377 Draw\n",
      "\u001b[2m\u001b[36m(pid=15615)\u001b[0m WARNING DELETING EXPERIENCES\n",
      "ACTOR LOSS 5983.3076171875 | CRITIC LOSS 15.003885269165039\n",
      "ACTOR LOSS 5944.54345703125 | CRITIC LOSS 15.007139205932617\n",
      "ACTOR LOSS 5991.66650390625 | CRITIC LOSS 14.296863555908203\n",
      "SAVING\n",
      "ACTOR LOSS 5997.9130859375 | CRITIC LOSS 14.771567344665527\n",
      "ACTOR LOSS 6036.20458984375 | CRITIC LOSS 11.18192195892334\n",
      "ACTOR LOSS 5922.38134765625 | CRITIC LOSS 11.083492279052734\n",
      "ACTOR LOSS 5254.83203125 | CRITIC LOSS 7.000394821166992\n",
      "ACTOR LOSS 5996.98388671875 | CRITIC LOSS 11.099478721618652\n",
      "ACTOR LOSS 6042.1142578125 | CRITIC LOSS 13.035029411315918\n",
      "ACTOR LOSS 5902.36572265625 | CRITIC LOSS 7.887146949768066\n",
      "\u001b[2m\u001b[36m(pid=15615)\u001b[0m Loading Random Controllers E88.pth\n"
     ]
    },
    {
     "name": "stderr",
     "output_type": "stream",
     "text": [
      "\u001b[2m\u001b[36m(pid=15615)\u001b[0m /home/ec2-user/.local/lib/python3.6/site-packages/ray/workers/default_worker.py:58: RuntimeWarning: invalid value encountered in true_divide\n",
      "\u001b[2m\u001b[36m(pid=15615)\u001b[0m   type=str,\n",
      "\u001b[2m\u001b[36m(pid=15620)\u001b[0m /home/ec2-user/.local/lib/python3.6/site-packages/ray/workers/default_worker.py:58: RuntimeWarning: invalid value encountered in true_divide\n",
      "\u001b[2m\u001b[36m(pid=15620)\u001b[0m   type=str,\n"
     ]
    },
    {
     "name": "stdout",
     "output_type": "stream",
     "text": [
      "\u001b[2m\u001b[36m(pid=15620)\u001b[0m Loading Random Controllers E152.pth\n",
      "\u001b[2m\u001b[36m(pid=15625)\u001b[0m Loading Random Controllers E128.pth\n"
     ]
    },
    {
     "name": "stderr",
     "output_type": "stream",
     "text": [
      "\u001b[2m\u001b[36m(pid=15625)\u001b[0m /home/ec2-user/.local/lib/python3.6/site-packages/ray/workers/default_worker.py:58: RuntimeWarning: invalid value encountered in true_divide\n",
      "\u001b[2m\u001b[36m(pid=15625)\u001b[0m   type=str,\n"
     ]
    },
    {
     "name": "stdout",
     "output_type": "stream",
     "text": [
      "\u001b[2m\u001b[36m(pid=15622)\u001b[0m Loading Random Controllers E136.pth\n"
     ]
    },
    {
     "name": "stderr",
     "output_type": "stream",
     "text": [
      "\u001b[2m\u001b[36m(pid=15622)\u001b[0m /home/ec2-user/.local/lib/python3.6/site-packages/ray/workers/default_worker.py:58: RuntimeWarning: invalid value encountered in true_divide\n",
      "\u001b[2m\u001b[36m(pid=15622)\u001b[0m   type=str,\n"
     ]
    },
    {
     "name": "stdout",
     "output_type": "stream",
     "text": [
      "\u001b[2m\u001b[36m(pid=15616)\u001b[0m Loading Random Controllers E48.pth\n"
     ]
    },
    {
     "name": "stderr",
     "output_type": "stream",
     "text": [
      "\u001b[2m\u001b[36m(pid=15616)\u001b[0m /home/ec2-user/.local/lib/python3.6/site-packages/ray/workers/default_worker.py:58: RuntimeWarning: invalid value encountered in true_divide\n",
      "\u001b[2m\u001b[36m(pid=15616)\u001b[0m   type=str,\n"
     ]
    },
    {
     "name": "stdout",
     "output_type": "stream",
     "text": [
      "\u001b[2m\u001b[36m(pid=15612)\u001b[0m Loading Random Controllers E136.pth\n"
     ]
    },
    {
     "name": "stderr",
     "output_type": "stream",
     "text": [
      "\u001b[2m\u001b[36m(pid=15612)\u001b[0m /home/ec2-user/.local/lib/python3.6/site-packages/ray/workers/default_worker.py:58: RuntimeWarning: invalid value encountered in true_divide\n",
      "\u001b[2m\u001b[36m(pid=15612)\u001b[0m   type=str,\n"
     ]
    },
    {
     "name": "stdout",
     "output_type": "stream",
     "text": [
      "\u001b[2m\u001b[36m(pid=15621)\u001b[0m Loading Random Controllers E104.pth\n"
     ]
    },
    {
     "name": "stderr",
     "output_type": "stream",
     "text": [
      "\u001b[2m\u001b[36m(pid=15621)\u001b[0m /home/ec2-user/.local/lib/python3.6/site-packages/ray/workers/default_worker.py:58: RuntimeWarning: invalid value encountered in true_divide\n",
      "\u001b[2m\u001b[36m(pid=15621)\u001b[0m   type=str,\n"
     ]
    },
    {
     "name": "stdout",
     "output_type": "stream",
     "text": [
      "\u001b[2m\u001b[36m(pid=15619)\u001b[0m Loading Random Controllers E216.pth\n"
     ]
    },
    {
     "name": "stderr",
     "output_type": "stream",
     "text": [
      "\u001b[2m\u001b[36m(pid=15619)\u001b[0m /home/ec2-user/.local/lib/python3.6/site-packages/ray/workers/default_worker.py:58: RuntimeWarning: invalid value encountered in true_divide\n",
      "\u001b[2m\u001b[36m(pid=15619)\u001b[0m   type=str,\n"
     ]
    },
    {
     "name": "stdout",
     "output_type": "stream",
     "text": [
      "\u001b[2m\u001b[36m(pid=15614)\u001b[0m Loading Random Controllers E168.pth\n"
     ]
    },
    {
     "name": "stderr",
     "output_type": "stream",
     "text": [
      "\u001b[2m\u001b[36m(pid=15614)\u001b[0m /home/ec2-user/.local/lib/python3.6/site-packages/ray/workers/default_worker.py:58: RuntimeWarning: invalid value encountered in true_divide\n",
      "\u001b[2m\u001b[36m(pid=15614)\u001b[0m   type=str,\n"
     ]
    },
    {
     "name": "stdout",
     "output_type": "stream",
     "text": [
      "\u001b[2m\u001b[36m(pid=15611)\u001b[0m Loading Random Controllers E112.pth\n"
     ]
    },
    {
     "name": "stderr",
     "output_type": "stream",
     "text": [
      "\u001b[2m\u001b[36m(pid=15611)\u001b[0m /home/ec2-user/.local/lib/python3.6/site-packages/ray/workers/default_worker.py:58: RuntimeWarning: invalid value encountered in true_divide\n",
      "\u001b[2m\u001b[36m(pid=15611)\u001b[0m   type=str,\n"
     ]
    },
    {
     "name": "stdout",
     "output_type": "stream",
     "text": [
      "\u001b[2m\u001b[36m(pid=15617)\u001b[0m Loading Random Controllers E160.pth\n"
     ]
    },
    {
     "name": "stderr",
     "output_type": "stream",
     "text": [
      "\u001b[2m\u001b[36m(pid=15617)\u001b[0m /home/ec2-user/.local/lib/python3.6/site-packages/ray/workers/default_worker.py:58: RuntimeWarning: invalid value encountered in true_divide\n",
      "\u001b[2m\u001b[36m(pid=15617)\u001b[0m   type=str,\n"
     ]
    },
    {
     "name": "stdout",
     "output_type": "stream",
     "text": [
      "\u001b[2m\u001b[36m(pid=15618)\u001b[0m Loading Random Controllers E144.pth\n"
     ]
    },
    {
     "name": "stderr",
     "output_type": "stream",
     "text": [
      "\u001b[2m\u001b[36m(pid=15618)\u001b[0m /home/ec2-user/.local/lib/python3.6/site-packages/ray/workers/default_worker.py:58: RuntimeWarning: invalid value encountered in true_divide\n",
      "\u001b[2m\u001b[36m(pid=15618)\u001b[0m   type=str,\n"
     ]
    },
    {
     "name": "stdout",
     "output_type": "stream",
     "text": [
      "\u001b[2m\u001b[36m(pid=15624)\u001b[0m Loading Random Controllers E88.pth\n"
     ]
    },
    {
     "name": "stderr",
     "output_type": "stream",
     "text": [
      "\u001b[2m\u001b[36m(pid=15624)\u001b[0m /home/ec2-user/.local/lib/python3.6/site-packages/ray/workers/default_worker.py:58: RuntimeWarning: invalid value encountered in true_divide\n",
      "\u001b[2m\u001b[36m(pid=15624)\u001b[0m   type=str,\n"
     ]
    },
    {
     "name": "stdout",
     "output_type": "stream",
     "text": [
      "\u001b[2m\u001b[36m(pid=15623)\u001b[0m Loading Random Controllers E232.pth\n"
     ]
    },
    {
     "name": "stderr",
     "output_type": "stream",
     "text": [
      "\u001b[2m\u001b[36m(pid=15623)\u001b[0m /home/ec2-user/.local/lib/python3.6/site-packages/ray/workers/default_worker.py:58: RuntimeWarning: invalid value encountered in true_divide\n",
      "\u001b[2m\u001b[36m(pid=15623)\u001b[0m   type=str,\n"
     ]
    },
    {
     "name": "stdout",
     "output_type": "stream",
     "text": [
      "\u001b[2m\u001b[36m(pid=15610)\u001b[0m Loading Random Controllers E128.pth\n"
     ]
    },
    {
     "name": "stderr",
     "output_type": "stream",
     "text": [
      "\u001b[2m\u001b[36m(pid=15610)\u001b[0m /home/ec2-user/.local/lib/python3.6/site-packages/ray/workers/default_worker.py:58: RuntimeWarning: invalid value encountered in true_divide\n",
      "\u001b[2m\u001b[36m(pid=15610)\u001b[0m   type=str,\n"
     ]
    },
    {
     "name": "stdout",
     "output_type": "stream",
     "text": [
      "\u001b[2m\u001b[36m(pid=15613)\u001b[0m Loading Random Controllers E176.pth\n"
     ]
    },
    {
     "name": "stderr",
     "output_type": "stream",
     "text": [
      "\u001b[2m\u001b[36m(pid=15613)\u001b[0m /home/ec2-user/.local/lib/python3.6/site-packages/ray/workers/default_worker.py:58: RuntimeWarning: invalid value encountered in true_divide\n",
      "\u001b[2m\u001b[36m(pid=15613)\u001b[0m   type=str,\n"
     ]
    },
    {
     "name": "stdout",
     "output_type": "stream",
     "text": [
      "\u001b[2m\u001b[36m(pid=15614)\u001b[0m Game 392 White Loss\n",
      "\u001b[2m\u001b[36m(pid=15621)\u001b[0m Game 390 White Won\n",
      "\u001b[2m\u001b[36m(pid=15615)\u001b[0m Game 384 Draw\n",
      "\u001b[2m\u001b[36m(pid=15615)\u001b[0m WARNING DELETING EXPERIENCES\n",
      "\u001b[2m\u001b[36m(pid=15622)\u001b[0m Game 387 Draw\n",
      "\u001b[2m\u001b[36m(pid=15622)\u001b[0m WARNING DELETING EXPERIENCES\n",
      "\u001b[2m\u001b[36m(pid=15619)\u001b[0m Game 391 White Loss\n",
      "\u001b[2m\u001b[36m(pid=15624)\u001b[0m Game 396 Draw\n",
      "\u001b[2m\u001b[36m(pid=15624)\u001b[0m WARNING DELETING EXPERIENCES\n",
      "\u001b[2m\u001b[36m(pid=15610)\u001b[0m Game 398 Draw\n",
      "\u001b[2m\u001b[36m(pid=15610)\u001b[0m WARNING DELETING EXPERIENCES\n",
      "\u001b[2m\u001b[36m(pid=15617)\u001b[0m Game 394 Draw\n",
      "\u001b[2m\u001b[36m(pid=15617)\u001b[0m WARNING DELETING EXPERIENCES\n",
      "\u001b[2m\u001b[36m(pid=15616)\u001b[0m Game 388 Draw\n",
      "\u001b[2m\u001b[36m(pid=15616)\u001b[0m WARNING DELETING EXPERIENCES\n",
      "\u001b[2m\u001b[36m(pid=15620)\u001b[0m Game 385 Draw\n",
      "\u001b[2m\u001b[36m(pid=15620)\u001b[0m WARNING DELETING EXPERIENCES\n",
      "\u001b[2m\u001b[36m(pid=15612)\u001b[0m Game 389 Draw\n",
      "\u001b[2m\u001b[36m(pid=15612)\u001b[0m WARNING DELETING EXPERIENCES\n",
      "\u001b[2m\u001b[36m(pid=15625)\u001b[0m Game 386 Draw\n",
      "\u001b[2m\u001b[36m(pid=15625)\u001b[0m WARNING DELETING EXPERIENCES\n",
      "\u001b[2m\u001b[36m(pid=15611)\u001b[0m Game 393 Draw\n",
      "\u001b[2m\u001b[36m(pid=15611)\u001b[0m WARNING DELETING EXPERIENCES\n",
      "\u001b[2m\u001b[36m(pid=15623)\u001b[0m Game 397 Draw\n",
      "\u001b[2m\u001b[36m(pid=15623)\u001b[0m WARNING DELETING EXPERIENCES\n",
      "\u001b[2m\u001b[36m(pid=15618)\u001b[0m Game 395 Draw\n",
      "\u001b[2m\u001b[36m(pid=15618)\u001b[0m WARNING DELETING EXPERIENCES\n",
      "\u001b[2m\u001b[36m(pid=15613)\u001b[0m Game 399 Draw\n",
      "\u001b[2m\u001b[36m(pid=15613)\u001b[0m WARNING DELETING EXPERIENCES\n",
      "ACTOR LOSS 5983.31689453125 | CRITIC LOSS 4.207793235778809\n",
      "SAVING\n",
      "ACTOR LOSS 6015.38427734375 | CRITIC LOSS 8.512815475463867\n",
      "ACTOR LOSS 6016.49658203125 | CRITIC LOSS 15.91551399230957\n",
      "ACTOR LOSS 6070.1181640625 | CRITIC LOSS 14.961194038391113\n",
      "ACTOR LOSS 6028.03564453125 | CRITIC LOSS 5.255748271942139\n",
      "ACTOR LOSS 6012.25537109375 | CRITIC LOSS 13.001620292663574\n",
      "ACTOR LOSS 5978.5986328125 | CRITIC LOSS 15.246594429016113\n",
      "ACTOR LOSS 6050.1982421875 | CRITIC LOSS 17.140472412109375\n",
      "ACTOR LOSS 5975.2236328125 | CRITIC LOSS 4.915364742279053\n",
      "SAVING\n",
      "ACTOR LOSS 6034.6728515625 | CRITIC LOSS 9.419645309448242\n",
      "\u001b[2m\u001b[36m(pid=15612)\u001b[0m Loading Random Controllers E88.pth\n"
     ]
    },
    {
     "name": "stderr",
     "output_type": "stream",
     "text": [
      "\u001b[2m\u001b[36m(pid=15612)\u001b[0m /home/ec2-user/.local/lib/python3.6/site-packages/ray/workers/default_worker.py:58: RuntimeWarning: invalid value encountered in true_divide\n",
      "\u001b[2m\u001b[36m(pid=15612)\u001b[0m   type=str,\n"
     ]
    },
    {
     "name": "stdout",
     "output_type": "stream",
     "text": [
      "\u001b[2m\u001b[36m(pid=15620)\u001b[0m Loading Random Controllers E232.pth\n"
     ]
    },
    {
     "name": "stderr",
     "output_type": "stream",
     "text": [
      "\u001b[2m\u001b[36m(pid=15620)\u001b[0m /home/ec2-user/.local/lib/python3.6/site-packages/ray/workers/default_worker.py:58: RuntimeWarning: invalid value encountered in true_divide\n",
      "\u001b[2m\u001b[36m(pid=15620)\u001b[0m   type=str,\n"
     ]
    },
    {
     "name": "stdout",
     "output_type": "stream",
     "text": [
      "\u001b[2m\u001b[36m(pid=15616)\u001b[0m Loading Random Controllers E0.pth\n"
     ]
    },
    {
     "name": "stderr",
     "output_type": "stream",
     "text": [
      "\u001b[2m\u001b[36m(pid=15616)\u001b[0m /home/ec2-user/.local/lib/python3.6/site-packages/ray/workers/default_worker.py:58: RuntimeWarning: invalid value encountered in true_divide\n",
      "\u001b[2m\u001b[36m(pid=15616)\u001b[0m   type=str,\n",
      "\u001b[2m\u001b[36m(pid=15618)\u001b[0m /home/ec2-user/.local/lib/python3.6/site-packages/ray/workers/default_worker.py:58: RuntimeWarning: invalid value encountered in true_divide\n",
      "\u001b[2m\u001b[36m(pid=15618)\u001b[0m   type=str,\n"
     ]
    },
    {
     "name": "stdout",
     "output_type": "stream",
     "text": [
      "\u001b[2m\u001b[36m(pid=15618)\u001b[0m Loading Random Controllers E224.pth\n"
     ]
    },
    {
     "name": "stderr",
     "output_type": "stream",
     "text": [
      "\u001b[2m\u001b[36m(pid=15617)\u001b[0m /home/ec2-user/.local/lib/python3.6/site-packages/ray/workers/default_worker.py:58: RuntimeWarning: invalid value encountered in true_divide\n",
      "\u001b[2m\u001b[36m(pid=15617)\u001b[0m   type=str,\n"
     ]
    },
    {
     "name": "stdout",
     "output_type": "stream",
     "text": [
      "\u001b[2m\u001b[36m(pid=15617)\u001b[0m Loading Random Controllers E240.pth\n",
      "\u001b[2m\u001b[36m(pid=15613)\u001b[0m Loading Random Controllers E208.pth\n"
     ]
    },
    {
     "name": "stderr",
     "output_type": "stream",
     "text": [
      "\u001b[2m\u001b[36m(pid=15613)\u001b[0m /home/ec2-user/.local/lib/python3.6/site-packages/ray/workers/default_worker.py:58: RuntimeWarning: invalid value encountered in true_divide\n",
      "\u001b[2m\u001b[36m(pid=15613)\u001b[0m   type=str,\n"
     ]
    },
    {
     "name": "stdout",
     "output_type": "stream",
     "text": [
      "\u001b[2m\u001b[36m(pid=15623)\u001b[0m Loading Random Controllers E240.pth\n"
     ]
    },
    {
     "name": "stderr",
     "output_type": "stream",
     "text": [
      "\u001b[2m\u001b[36m(pid=15623)\u001b[0m /home/ec2-user/.local/lib/python3.6/site-packages/ray/workers/default_worker.py:58: RuntimeWarning: invalid value encountered in true_divide\n",
      "\u001b[2m\u001b[36m(pid=15623)\u001b[0m   type=str,\n"
     ]
    },
    {
     "name": "stdout",
     "output_type": "stream",
     "text": [
      "\u001b[2m\u001b[36m(pid=15610)\u001b[0m Loading Random Controllers E200.pth\n"
     ]
    },
    {
     "name": "stderr",
     "output_type": "stream",
     "text": [
      "\u001b[2m\u001b[36m(pid=15610)\u001b[0m /home/ec2-user/.local/lib/python3.6/site-packages/ray/workers/default_worker.py:58: RuntimeWarning: invalid value encountered in true_divide\n",
      "\u001b[2m\u001b[36m(pid=15610)\u001b[0m   type=str,\n"
     ]
    },
    {
     "name": "stdout",
     "output_type": "stream",
     "text": [
      "\u001b[2m\u001b[36m(pid=15624)\u001b[0m Loading Random Controllers E56.pth\n"
     ]
    },
    {
     "name": "stderr",
     "output_type": "stream",
     "text": [
      "\u001b[2m\u001b[36m(pid=15624)\u001b[0m /home/ec2-user/.local/lib/python3.6/site-packages/ray/workers/default_worker.py:58: RuntimeWarning: invalid value encountered in true_divide\n",
      "\u001b[2m\u001b[36m(pid=15624)\u001b[0m   type=str,\n"
     ]
    },
    {
     "name": "stdout",
     "output_type": "stream",
     "text": [
      "\u001b[2m\u001b[36m(pid=15619)\u001b[0m Loading Random Controllers E56.pth\n"
     ]
    },
    {
     "name": "stderr",
     "output_type": "stream",
     "text": [
      "\u001b[2m\u001b[36m(pid=15619)\u001b[0m /home/ec2-user/.local/lib/python3.6/site-packages/ray/workers/default_worker.py:58: RuntimeWarning: invalid value encountered in true_divide\n",
      "\u001b[2m\u001b[36m(pid=15619)\u001b[0m   type=str,\n"
     ]
    },
    {
     "name": "stdout",
     "output_type": "stream",
     "text": [
      "\u001b[2m\u001b[36m(pid=15625)\u001b[0m Loading Random Controllers E160.pth\n"
     ]
    },
    {
     "name": "stderr",
     "output_type": "stream",
     "text": [
      "\u001b[2m\u001b[36m(pid=15625)\u001b[0m /home/ec2-user/.local/lib/python3.6/site-packages/ray/workers/default_worker.py:58: RuntimeWarning: invalid value encountered in true_divide\n",
      "\u001b[2m\u001b[36m(pid=15625)\u001b[0m   type=str,\n"
     ]
    },
    {
     "name": "stdout",
     "output_type": "stream",
     "text": [
      "\u001b[2m\u001b[36m(pid=15622)\u001b[0m Loading Random Controllers E96.pth\n"
     ]
    },
    {
     "name": "stderr",
     "output_type": "stream",
     "text": [
      "\u001b[2m\u001b[36m(pid=15622)\u001b[0m /home/ec2-user/.local/lib/python3.6/site-packages/ray/workers/default_worker.py:58: RuntimeWarning: invalid value encountered in true_divide\n",
      "\u001b[2m\u001b[36m(pid=15622)\u001b[0m   type=str,\n"
     ]
    },
    {
     "name": "stdout",
     "output_type": "stream",
     "text": [
      "\u001b[2m\u001b[36m(pid=15615)\u001b[0m Loading Random Controllers E8.pth\n"
     ]
    },
    {
     "name": "stderr",
     "output_type": "stream",
     "text": [
      "\u001b[2m\u001b[36m(pid=15615)\u001b[0m /home/ec2-user/.local/lib/python3.6/site-packages/ray/workers/default_worker.py:58: RuntimeWarning: invalid value encountered in true_divide\n",
      "\u001b[2m\u001b[36m(pid=15615)\u001b[0m   type=str,\n"
     ]
    },
    {
     "name": "stdout",
     "output_type": "stream",
     "text": [
      "\u001b[2m\u001b[36m(pid=15621)\u001b[0m Loading Random Controllers E136.pth\n"
     ]
    },
    {
     "name": "stderr",
     "output_type": "stream",
     "text": [
      "\u001b[2m\u001b[36m(pid=15621)\u001b[0m /home/ec2-user/.local/lib/python3.6/site-packages/ray/workers/default_worker.py:58: RuntimeWarning: invalid value encountered in true_divide\n",
      "\u001b[2m\u001b[36m(pid=15621)\u001b[0m   type=str,\n"
     ]
    },
    {
     "name": "stdout",
     "output_type": "stream",
     "text": [
      "\u001b[2m\u001b[36m(pid=15611)\u001b[0m Loading Random Controllers E200.pth\n"
     ]
    },
    {
     "name": "stderr",
     "output_type": "stream",
     "text": [
      "\u001b[2m\u001b[36m(pid=15611)\u001b[0m /home/ec2-user/.local/lib/python3.6/site-packages/ray/workers/default_worker.py:58: RuntimeWarning: invalid value encountered in true_divide\n",
      "\u001b[2m\u001b[36m(pid=15611)\u001b[0m   type=str,\n"
     ]
    },
    {
     "name": "stdout",
     "output_type": "stream",
     "text": [
      "\u001b[2m\u001b[36m(pid=15614)\u001b[0m Loading Random Controllers E48.pth\n"
     ]
    },
    {
     "name": "stderr",
     "output_type": "stream",
     "text": [
      "\u001b[2m\u001b[36m(pid=15614)\u001b[0m /home/ec2-user/.local/lib/python3.6/site-packages/ray/workers/default_worker.py:58: RuntimeWarning: invalid value encountered in true_divide\n",
      "\u001b[2m\u001b[36m(pid=15614)\u001b[0m   type=str,\n"
     ]
    },
    {
     "name": "stdout",
     "output_type": "stream",
     "text": [
      "\u001b[2m\u001b[36m(pid=15623)\u001b[0m Game 406 White Loss\n",
      "\u001b[2m\u001b[36m(pid=15610)\u001b[0m Game 407 White Loss\n",
      "\u001b[2m\u001b[36m(pid=15616)\u001b[0m Game 402 White Won\n",
      "\u001b[2m\u001b[36m(pid=15617)\u001b[0m Game 404 Draw\n",
      "\u001b[2m\u001b[36m(pid=15617)\u001b[0m WARNING DELETING EXPERIENCES\n",
      "\u001b[2m\u001b[36m(pid=15624)\u001b[0m Game 408 Draw\n",
      "\u001b[2m\u001b[36m(pid=15624)\u001b[0m WARNING DELETING EXPERIENCES\n",
      "\u001b[2m\u001b[36m(pid=15619)\u001b[0m Game 409 Draw\n",
      "\u001b[2m\u001b[36m(pid=15619)\u001b[0m WARNING DELETING EXPERIENCES\n",
      "\u001b[2m\u001b[36m(pid=15615)\u001b[0m Game 412 Draw\n",
      "\u001b[2m\u001b[36m(pid=15615)\u001b[0m WARNING DELETING EXPERIENCES\n",
      "\u001b[2m\u001b[36m(pid=15622)\u001b[0m Game 411 Draw\n",
      "\u001b[2m\u001b[36m(pid=15622)\u001b[0m WARNING DELETING EXPERIENCES\n",
      "\u001b[2m\u001b[36m(pid=15611)\u001b[0m Game 414 Draw\n",
      "\u001b[2m\u001b[36m(pid=15611)\u001b[0m WARNING DELETING EXPERIENCES\n",
      "\u001b[2m\u001b[36m(pid=15625)\u001b[0m Game 410 Draw\n",
      "\u001b[2m\u001b[36m(pid=15625)\u001b[0m WARNING DELETING EXPERIENCES\n",
      "\u001b[2m\u001b[36m(pid=15613)\u001b[0m Game 405 Draw\n",
      "\u001b[2m\u001b[36m(pid=15613)\u001b[0m WARNING DELETING EXPERIENCES\n",
      "\u001b[2m\u001b[36m(pid=15614)\u001b[0m Game 415 Draw\n",
      "\u001b[2m\u001b[36m(pid=15614)\u001b[0m WARNING DELETING EXPERIENCES\n",
      "\u001b[2m\u001b[36m(pid=15618)\u001b[0m Game 403 Draw\n",
      "\u001b[2m\u001b[36m(pid=15618)\u001b[0m WARNING DELETING EXPERIENCES\n",
      "\u001b[2m\u001b[36m(pid=15621)\u001b[0m Game 413 Draw\n",
      "\u001b[2m\u001b[36m(pid=15621)\u001b[0m WARNING DELETING EXPERIENCES\n",
      "\u001b[2m\u001b[36m(pid=15620)\u001b[0m Game 401 Draw\n",
      "\u001b[2m\u001b[36m(pid=15620)\u001b[0m WARNING DELETING EXPERIENCES\n",
      "\u001b[2m\u001b[36m(pid=15612)\u001b[0m Game 400 Draw\n",
      "\u001b[2m\u001b[36m(pid=15612)\u001b[0m WARNING DELETING EXPERIENCES\n",
      "ACTOR LOSS 6016.69091796875 | CRITIC LOSS 6.007443904876709\n",
      "ACTOR LOSS 5770.267578125 | CRITIC LOSS 8.412888526916504\n",
      "ACTOR LOSS 6035.53076171875 | CRITIC LOSS 8.950019836425781\n",
      "ACTOR LOSS 6018.61669921875 | CRITIC LOSS 14.397236824035645\n",
      "ACTOR LOSS 4702.67822265625 | CRITIC LOSS 13.340553283691406\n",
      "ACTOR LOSS 6032.93310546875 | CRITIC LOSS 9.78669548034668\n",
      "ACTOR LOSS 6068.12109375 | CRITIC LOSS 10.067474365234375\n",
      "SAVING\n",
      "ACTOR LOSS 6016.85498046875 | CRITIC LOSS 15.282340049743652\n",
      "ACTOR LOSS 5995.3935546875 | CRITIC LOSS 8.557522773742676\n",
      "ACTOR LOSS 6058.28857421875 | CRITIC LOSS 9.923131942749023\n",
      "\u001b[2m\u001b[36m(pid=15612)\u001b[0m Loading Random Controllers E128.pth\n"
     ]
    },
    {
     "name": "stderr",
     "output_type": "stream",
     "text": [
      "\u001b[2m\u001b[36m(pid=15612)\u001b[0m /home/ec2-user/.local/lib/python3.6/site-packages/ray/workers/default_worker.py:58: RuntimeWarning: invalid value encountered in true_divide\n",
      "\u001b[2m\u001b[36m(pid=15612)\u001b[0m   type=str,\n"
     ]
    },
    {
     "name": "stdout",
     "output_type": "stream",
     "text": [
      "\u001b[2m\u001b[36m(pid=15620)\u001b[0m Loading Random Controllers E80.pth\n"
     ]
    },
    {
     "name": "stderr",
     "output_type": "stream",
     "text": [
      "\u001b[2m\u001b[36m(pid=15620)\u001b[0m /home/ec2-user/.local/lib/python3.6/site-packages/ray/workers/default_worker.py:58: RuntimeWarning: invalid value encountered in true_divide\n",
      "\u001b[2m\u001b[36m(pid=15620)\u001b[0m   type=str,\n"
     ]
    },
    {
     "name": "stdout",
     "output_type": "stream",
     "text": [
      "\u001b[2m\u001b[36m(pid=15621)\u001b[0m Loading Random Controllers E56.pth\n"
     ]
    },
    {
     "name": "stderr",
     "output_type": "stream",
     "text": [
      "\u001b[2m\u001b[36m(pid=15621)\u001b[0m /home/ec2-user/.local/lib/python3.6/site-packages/ray/workers/default_worker.py:58: RuntimeWarning: invalid value encountered in true_divide\n",
      "\u001b[2m\u001b[36m(pid=15621)\u001b[0m   type=str,\n"
     ]
    },
    {
     "name": "stdout",
     "output_type": "stream",
     "text": [
      "\u001b[2m\u001b[36m(pid=15614)\u001b[0m Loading Random Controllers E168.pth\n"
     ]
    },
    {
     "name": "stderr",
     "output_type": "stream",
     "text": [
      "\u001b[2m\u001b[36m(pid=15614)\u001b[0m /home/ec2-user/.local/lib/python3.6/site-packages/ray/workers/default_worker.py:58: RuntimeWarning: invalid value encountered in true_divide\n",
      "\u001b[2m\u001b[36m(pid=15614)\u001b[0m   type=str,\n"
     ]
    },
    {
     "name": "stdout",
     "output_type": "stream",
     "text": [
      "\u001b[2m\u001b[36m(pid=15611)\u001b[0m Loading Random Controllers E256.pth\n"
     ]
    },
    {
     "name": "stderr",
     "output_type": "stream",
     "text": [
      "\u001b[2m\u001b[36m(pid=15611)\u001b[0m /home/ec2-user/.local/lib/python3.6/site-packages/ray/workers/default_worker.py:58: RuntimeWarning: invalid value encountered in true_divide\n",
      "\u001b[2m\u001b[36m(pid=15611)\u001b[0m   type=str,\n",
      "\u001b[2m\u001b[36m(pid=15625)\u001b[0m /home/ec2-user/.local/lib/python3.6/site-packages/ray/workers/default_worker.py:58: RuntimeWarning: invalid value encountered in true_divide\n",
      "\u001b[2m\u001b[36m(pid=15625)\u001b[0m   type=str,\n"
     ]
    },
    {
     "name": "stdout",
     "output_type": "stream",
     "text": [
      "\u001b[2m\u001b[36m(pid=15625)\u001b[0m Loading Random Controllers E176.pth\n",
      "\u001b[2m\u001b[36m(pid=15622)\u001b[0m Loading Random Controllers E136.pth\n"
     ]
    },
    {
     "name": "stderr",
     "output_type": "stream",
     "text": [
      "\u001b[2m\u001b[36m(pid=15622)\u001b[0m /home/ec2-user/.local/lib/python3.6/site-packages/ray/workers/default_worker.py:58: RuntimeWarning: invalid value encountered in true_divide\n",
      "\u001b[2m\u001b[36m(pid=15622)\u001b[0m   type=str,\n"
     ]
    },
    {
     "name": "stdout",
     "output_type": "stream",
     "text": [
      "\u001b[2m\u001b[36m(pid=15615)\u001b[0m Loading Random Controllers E8.pth\n"
     ]
    },
    {
     "name": "stderr",
     "output_type": "stream",
     "text": [
      "\u001b[2m\u001b[36m(pid=15615)\u001b[0m /home/ec2-user/.local/lib/python3.6/site-packages/ray/workers/default_worker.py:58: RuntimeWarning: invalid value encountered in true_divide\n",
      "\u001b[2m\u001b[36m(pid=15615)\u001b[0m   type=str,\n"
     ]
    },
    {
     "name": "stdout",
     "output_type": "stream",
     "text": [
      "\u001b[2m\u001b[36m(pid=15619)\u001b[0m Loading Random Controllers E24.pth\n"
     ]
    },
    {
     "name": "stderr",
     "output_type": "stream",
     "text": [
      "\u001b[2m\u001b[36m(pid=15619)\u001b[0m /home/ec2-user/.local/lib/python3.6/site-packages/ray/workers/default_worker.py:58: RuntimeWarning: invalid value encountered in true_divide\n",
      "\u001b[2m\u001b[36m(pid=15619)\u001b[0m   type=str,\n"
     ]
    },
    {
     "name": "stdout",
     "output_type": "stream",
     "text": [
      "\u001b[2m\u001b[36m(pid=15624)\u001b[0m Loading Random Controllers E120.pth\n"
     ]
    },
    {
     "name": "stderr",
     "output_type": "stream",
     "text": [
      "\u001b[2m\u001b[36m(pid=15624)\u001b[0m /home/ec2-user/.local/lib/python3.6/site-packages/ray/workers/default_worker.py:58: RuntimeWarning: invalid value encountered in true_divide\n",
      "\u001b[2m\u001b[36m(pid=15624)\u001b[0m   type=str,\n"
     ]
    },
    {
     "name": "stdout",
     "output_type": "stream",
     "text": [
      "\u001b[2m\u001b[36m(pid=15618)\u001b[0m Loading Random Controllers E8.pth\n"
     ]
    },
    {
     "name": "stderr",
     "output_type": "stream",
     "text": [
      "\u001b[2m\u001b[36m(pid=15618)\u001b[0m /home/ec2-user/.local/lib/python3.6/site-packages/ray/workers/default_worker.py:58: RuntimeWarning: invalid value encountered in true_divide\n",
      "\u001b[2m\u001b[36m(pid=15618)\u001b[0m   type=str,\n"
     ]
    },
    {
     "name": "stdout",
     "output_type": "stream",
     "text": [
      "\u001b[2m\u001b[36m(pid=15617)\u001b[0m Loading Random Controllers E256.pth\n"
     ]
    },
    {
     "name": "stderr",
     "output_type": "stream",
     "text": [
      "\u001b[2m\u001b[36m(pid=15617)\u001b[0m /home/ec2-user/.local/lib/python3.6/site-packages/ray/workers/default_worker.py:58: RuntimeWarning: invalid value encountered in true_divide\n",
      "\u001b[2m\u001b[36m(pid=15617)\u001b[0m   type=str,\n"
     ]
    },
    {
     "name": "stdout",
     "output_type": "stream",
     "text": [
      "\u001b[2m\u001b[36m(pid=15616)\u001b[0m Loading Random Controllers E88.pth\n"
     ]
    },
    {
     "name": "stderr",
     "output_type": "stream",
     "text": [
      "\u001b[2m\u001b[36m(pid=15616)\u001b[0m /home/ec2-user/.local/lib/python3.6/site-packages/ray/workers/default_worker.py:58: RuntimeWarning: invalid value encountered in true_divide\n",
      "\u001b[2m\u001b[36m(pid=15616)\u001b[0m   type=str,\n"
     ]
    },
    {
     "name": "stdout",
     "output_type": "stream",
     "text": [
      "\u001b[2m\u001b[36m(pid=15613)\u001b[0m Loading Random Controllers E16.pth\n"
     ]
    },
    {
     "name": "stderr",
     "output_type": "stream",
     "text": [
      "\u001b[2m\u001b[36m(pid=15613)\u001b[0m /home/ec2-user/.local/lib/python3.6/site-packages/ray/workers/default_worker.py:58: RuntimeWarning: invalid value encountered in true_divide\n",
      "\u001b[2m\u001b[36m(pid=15613)\u001b[0m   type=str,\n"
     ]
    },
    {
     "name": "stdout",
     "output_type": "stream",
     "text": [
      "\u001b[2m\u001b[36m(pid=15610)\u001b[0m Loading Random Controllers E144.pth\n"
     ]
    },
    {
     "name": "stderr",
     "output_type": "stream",
     "text": [
      "\u001b[2m\u001b[36m(pid=15610)\u001b[0m /home/ec2-user/.local/lib/python3.6/site-packages/ray/workers/default_worker.py:58: RuntimeWarning: invalid value encountered in true_divide\n",
      "\u001b[2m\u001b[36m(pid=15610)\u001b[0m   type=str,\n"
     ]
    },
    {
     "name": "stdout",
     "output_type": "stream",
     "text": [
      "\u001b[2m\u001b[36m(pid=15623)\u001b[0m Loading Random Controllers E152.pth\n"
     ]
    },
    {
     "name": "stderr",
     "output_type": "stream",
     "text": [
      "\u001b[2m\u001b[36m(pid=15623)\u001b[0m /home/ec2-user/.local/lib/python3.6/site-packages/ray/workers/default_worker.py:58: RuntimeWarning: invalid value encountered in true_divide\n",
      "\u001b[2m\u001b[36m(pid=15623)\u001b[0m   type=str,\n"
     ]
    },
    {
     "name": "stdout",
     "output_type": "stream",
     "text": [
      "\u001b[2m\u001b[36m(pid=15620)\u001b[0m Game 417 White Won\n",
      "\u001b[2m\u001b[36m(pid=15625)\u001b[0m Game 421 White Loss\n",
      "\u001b[2m\u001b[36m(pid=15614)\u001b[0m Game 419 White Won\n",
      "\u001b[2m\u001b[36m(pid=15613)\u001b[0m Game 429 White Loss\n",
      "\u001b[2m\u001b[36m(pid=15624)\u001b[0m Game 425 Draw\n",
      "\u001b[2m\u001b[36m(pid=15624)\u001b[0m WARNING DELETING EXPERIENCES\n",
      "\u001b[2m\u001b[36m(pid=15612)\u001b[0m Game 416 Draw\n",
      "\u001b[2m\u001b[36m(pid=15612)\u001b[0m WARNING DELETING EXPERIENCES\n",
      "\u001b[2m\u001b[36m(pid=15619)\u001b[0m Game 424 Draw\n",
      "\u001b[2m\u001b[36m(pid=15619)\u001b[0m WARNING DELETING EXPERIENCES\n",
      "\u001b[2m\u001b[36m(pid=15617)\u001b[0m Game 427 Draw\n",
      "\u001b[2m\u001b[36m(pid=15617)\u001b[0m WARNING DELETING EXPERIENCES\n",
      "\u001b[2m\u001b[36m(pid=15622)\u001b[0m Game 422 Draw\n",
      "\u001b[2m\u001b[36m(pid=15622)\u001b[0m WARNING DELETING EXPERIENCES\n",
      "\u001b[2m\u001b[36m(pid=15611)\u001b[0m Game 420 Draw\n",
      "\u001b[2m\u001b[36m(pid=15611)\u001b[0m WARNING DELETING EXPERIENCES\n",
      "\u001b[2m\u001b[36m(pid=15615)\u001b[0m Game 423 Draw\n",
      "\u001b[2m\u001b[36m(pid=15615)\u001b[0m WARNING DELETING EXPERIENCES\n",
      "\u001b[2m\u001b[36m(pid=15621)\u001b[0m Game 418 Draw\n",
      "\u001b[2m\u001b[36m(pid=15621)\u001b[0m WARNING DELETING EXPERIENCES\n",
      "\u001b[2m\u001b[36m(pid=15610)\u001b[0m Game 430 Draw\n",
      "\u001b[2m\u001b[36m(pid=15610)\u001b[0m WARNING DELETING EXPERIENCES\n",
      "\u001b[2m\u001b[36m(pid=15618)\u001b[0m Game 426 Draw\n",
      "\u001b[2m\u001b[36m(pid=15618)\u001b[0m WARNING DELETING EXPERIENCES\n",
      "\u001b[2m\u001b[36m(pid=15623)\u001b[0m Game 431 Draw\n",
      "\u001b[2m\u001b[36m(pid=15623)\u001b[0m WARNING DELETING EXPERIENCES\n",
      "\u001b[2m\u001b[36m(pid=15616)\u001b[0m Game 428 Draw\n",
      "\u001b[2m\u001b[36m(pid=15616)\u001b[0m WARNING DELETING EXPERIENCES\n",
      "ACTOR LOSS 6100.404296875 | CRITIC LOSS 8.10372543334961\n",
      "ACTOR LOSS 6059.61669921875 | CRITIC LOSS 8.384343147277832\n",
      "ACTOR LOSS 6015.55908203125 | CRITIC LOSS 6.224254608154297\n",
      "ACTOR LOSS 6025.0693359375 | CRITIC LOSS 12.465143203735352\n",
      "ACTOR LOSS 6062.19580078125 | CRITIC LOSS 3.453461170196533\n",
      "SAVING\n",
      "ACTOR LOSS 5995.9873046875 | CRITIC LOSS 13.901756286621094\n",
      "ACTOR LOSS 6037.8681640625 | CRITIC LOSS 11.794151306152344\n",
      "ACTOR LOSS 5981.47509765625 | CRITIC LOSS 5.73549222946167\n",
      "ACTOR LOSS 6050.16796875 | CRITIC LOSS 13.768495559692383\n",
      "ACTOR LOSS 5932.95703125 | CRITIC LOSS 2.987016201019287\n",
      "\u001b[2m\u001b[36m(pid=15616)\u001b[0m Loading Random Controllers E112.pth\n"
     ]
    },
    {
     "name": "stderr",
     "output_type": "stream",
     "text": [
      "\u001b[2m\u001b[36m(pid=15616)\u001b[0m /home/ec2-user/.local/lib/python3.6/site-packages/ray/workers/default_worker.py:58: RuntimeWarning: invalid value encountered in true_divide\n",
      "\u001b[2m\u001b[36m(pid=15616)\u001b[0m   type=str,\n"
     ]
    },
    {
     "name": "stdout",
     "output_type": "stream",
     "text": [
      "\u001b[2m\u001b[36m(pid=15621)\u001b[0m Loading Random Controllers E160.pth\n"
     ]
    },
    {
     "name": "stderr",
     "output_type": "stream",
     "text": [
      "\u001b[2m\u001b[36m(pid=15621)\u001b[0m /home/ec2-user/.local/lib/python3.6/site-packages/ray/workers/default_worker.py:58: RuntimeWarning: invalid value encountered in true_divide\n",
      "\u001b[2m\u001b[36m(pid=15621)\u001b[0m   type=str,\n",
      "\u001b[2m\u001b[36m(pid=15615)\u001b[0m /home/ec2-user/.local/lib/python3.6/site-packages/ray/workers/default_worker.py:58: RuntimeWarning: invalid value encountered in true_divide\n",
      "\u001b[2m\u001b[36m(pid=15615)\u001b[0m   type=str,\n"
     ]
    },
    {
     "name": "stdout",
     "output_type": "stream",
     "text": [
      "\u001b[2m\u001b[36m(pid=15615)\u001b[0m Loading Random Controllers E96.pth\n",
      "\u001b[2m\u001b[36m(pid=15618)\u001b[0m Loading Random Controllers E184.pth\n"
     ]
    },
    {
     "name": "stderr",
     "output_type": "stream",
     "text": [
      "\u001b[2m\u001b[36m(pid=15618)\u001b[0m /home/ec2-user/.local/lib/python3.6/site-packages/ray/workers/default_worker.py:58: RuntimeWarning: invalid value encountered in true_divide\n",
      "\u001b[2m\u001b[36m(pid=15618)\u001b[0m   type=str,\n"
     ]
    },
    {
     "name": "stdout",
     "output_type": "stream",
     "text": [
      "\u001b[2m\u001b[36m(pid=15617)\u001b[0m Loading Random Controllers E80.pth\n"
     ]
    },
    {
     "name": "stderr",
     "output_type": "stream",
     "text": [
      "\u001b[2m\u001b[36m(pid=15617)\u001b[0m /home/ec2-user/.local/lib/python3.6/site-packages/ray/workers/default_worker.py:58: RuntimeWarning: invalid value encountered in true_divide\n",
      "\u001b[2m\u001b[36m(pid=15617)\u001b[0m   type=str,\n"
     ]
    },
    {
     "name": "stdout",
     "output_type": "stream",
     "text": [
      "\u001b[2m\u001b[36m(pid=15619)\u001b[0m Loading Random Controllers E0.pth\n"
     ]
    },
    {
     "name": "stderr",
     "output_type": "stream",
     "text": [
      "\u001b[2m\u001b[36m(pid=15619)\u001b[0m /home/ec2-user/.local/lib/python3.6/site-packages/ray/workers/default_worker.py:58: RuntimeWarning: invalid value encountered in true_divide\n",
      "\u001b[2m\u001b[36m(pid=15619)\u001b[0m   type=str,\n",
      "\u001b[2m\u001b[36m(pid=15612)\u001b[0m /home/ec2-user/.local/lib/python3.6/site-packages/ray/workers/default_worker.py:58: RuntimeWarning: invalid value encountered in true_divide\n",
      "\u001b[2m\u001b[36m(pid=15612)\u001b[0m   type=str,\n"
     ]
    },
    {
     "name": "stdout",
     "output_type": "stream",
     "text": [
      "\u001b[2m\u001b[36m(pid=15612)\u001b[0m Loading Random Controllers E88.pth\n",
      "\u001b[2m\u001b[36m(pid=15624)\u001b[0m Loading Random Controllers E16.pth\n"
     ]
    },
    {
     "name": "stderr",
     "output_type": "stream",
     "text": [
      "\u001b[2m\u001b[36m(pid=15624)\u001b[0m /home/ec2-user/.local/lib/python3.6/site-packages/ray/workers/default_worker.py:58: RuntimeWarning: invalid value encountered in true_divide\n",
      "\u001b[2m\u001b[36m(pid=15624)\u001b[0m   type=str,\n"
     ]
    },
    {
     "name": "stdout",
     "output_type": "stream",
     "text": [
      "\u001b[2m\u001b[36m(pid=15623)\u001b[0m Loading Random Controllers E88.pth\n"
     ]
    },
    {
     "name": "stderr",
     "output_type": "stream",
     "text": [
      "\u001b[2m\u001b[36m(pid=15623)\u001b[0m /home/ec2-user/.local/lib/python3.6/site-packages/ray/workers/default_worker.py:58: RuntimeWarning: invalid value encountered in true_divide\n",
      "\u001b[2m\u001b[36m(pid=15623)\u001b[0m   type=str,\n"
     ]
    },
    {
     "name": "stdout",
     "output_type": "stream",
     "text": [
      "\u001b[2m\u001b[36m(pid=15610)\u001b[0m Loading Random Controllers E200.pth\n"
     ]
    },
    {
     "name": "stderr",
     "output_type": "stream",
     "text": [
      "\u001b[2m\u001b[36m(pid=15610)\u001b[0m /home/ec2-user/.local/lib/python3.6/site-packages/ray/workers/default_worker.py:58: RuntimeWarning: invalid value encountered in true_divide\n",
      "\u001b[2m\u001b[36m(pid=15610)\u001b[0m   type=str,\n"
     ]
    },
    {
     "name": "stdout",
     "output_type": "stream",
     "text": [
      "\u001b[2m\u001b[36m(pid=15613)\u001b[0m Loading Random Controllers E176.pth\n"
     ]
    },
    {
     "name": "stderr",
     "output_type": "stream",
     "text": [
      "\u001b[2m\u001b[36m(pid=15613)\u001b[0m /home/ec2-user/.local/lib/python3.6/site-packages/ray/workers/default_worker.py:58: RuntimeWarning: invalid value encountered in true_divide\n",
      "\u001b[2m\u001b[36m(pid=15613)\u001b[0m   type=str,\n"
     ]
    },
    {
     "name": "stdout",
     "output_type": "stream",
     "text": [
      "\u001b[2m\u001b[36m(pid=15611)\u001b[0m Loading Random Controllers E112.pth\n"
     ]
    },
    {
     "name": "stderr",
     "output_type": "stream",
     "text": [
      "\u001b[2m\u001b[36m(pid=15611)\u001b[0m /home/ec2-user/.local/lib/python3.6/site-packages/ray/workers/default_worker.py:58: RuntimeWarning: invalid value encountered in true_divide\n",
      "\u001b[2m\u001b[36m(pid=15611)\u001b[0m   type=str,\n"
     ]
    },
    {
     "name": "stdout",
     "output_type": "stream",
     "text": [
      "\u001b[2m\u001b[36m(pid=15614)\u001b[0m Loading Random Controllers E144.pth\n"
     ]
    },
    {
     "name": "stderr",
     "output_type": "stream",
     "text": [
      "\u001b[2m\u001b[36m(pid=15614)\u001b[0m /home/ec2-user/.local/lib/python3.6/site-packages/ray/workers/default_worker.py:58: RuntimeWarning: invalid value encountered in true_divide\n",
      "\u001b[2m\u001b[36m(pid=15614)\u001b[0m   type=str,\n"
     ]
    },
    {
     "name": "stdout",
     "output_type": "stream",
     "text": [
      "\u001b[2m\u001b[36m(pid=15622)\u001b[0m Loading Random Controllers E40.pth\n"
     ]
    },
    {
     "name": "stderr",
     "output_type": "stream",
     "text": [
      "\u001b[2m\u001b[36m(pid=15622)\u001b[0m /home/ec2-user/.local/lib/python3.6/site-packages/ray/workers/default_worker.py:58: RuntimeWarning: invalid value encountered in true_divide\n",
      "\u001b[2m\u001b[36m(pid=15622)\u001b[0m   type=str,\n"
     ]
    },
    {
     "name": "stdout",
     "output_type": "stream",
     "text": [
      "\u001b[2m\u001b[36m(pid=15625)\u001b[0m Loading Random Controllers E200.pth\n"
     ]
    },
    {
     "name": "stderr",
     "output_type": "stream",
     "text": [
      "\u001b[2m\u001b[36m(pid=15625)\u001b[0m /home/ec2-user/.local/lib/python3.6/site-packages/ray/workers/default_worker.py:58: RuntimeWarning: invalid value encountered in true_divide\n",
      "\u001b[2m\u001b[36m(pid=15625)\u001b[0m   type=str,\n"
     ]
    },
    {
     "name": "stdout",
     "output_type": "stream",
     "text": [
      "\u001b[2m\u001b[36m(pid=15620)\u001b[0m Loading Random Controllers E40.pth\n"
     ]
    },
    {
     "name": "stderr",
     "output_type": "stream",
     "text": [
      "\u001b[2m\u001b[36m(pid=15620)\u001b[0m /home/ec2-user/.local/lib/python3.6/site-packages/ray/workers/default_worker.py:58: RuntimeWarning: invalid value encountered in true_divide\n",
      "\u001b[2m\u001b[36m(pid=15620)\u001b[0m   type=str,\n"
     ]
    },
    {
     "name": "stdout",
     "output_type": "stream",
     "text": [
      "\u001b[2m\u001b[36m(pid=15612)\u001b[0m Game 438 Draw\n",
      "\u001b[2m\u001b[36m(pid=15612)\u001b[0m WARNING DELETING EXPERIENCES\n",
      "\u001b[2m\u001b[36m(pid=15610)\u001b[0m Game 441 White Won\n",
      "\u001b[2m\u001b[36m(pid=15622)\u001b[0m Game 445 Draw\n",
      "\u001b[2m\u001b[36m(pid=15622)\u001b[0m WARNING DELETING EXPERIENCES\n",
      "\u001b[2m\u001b[36m(pid=15618)\u001b[0m Game 435 Draw\n",
      "\u001b[2m\u001b[36m(pid=15618)\u001b[0m WARNING DELETING EXPERIENCES\n",
      "\u001b[2m\u001b[36m(pid=15624)\u001b[0m Game 439 Draw\n",
      "\u001b[2m\u001b[36m(pid=15624)\u001b[0m WARNING DELETING EXPERIENCES\n",
      "\u001b[2m\u001b[36m(pid=15614)\u001b[0m Game 444 Draw\n",
      "\u001b[2m\u001b[36m(pid=15614)\u001b[0m WARNING DELETING EXPERIENCES\n",
      "\u001b[2m\u001b[36m(pid=15619)\u001b[0m Game 437 Draw\n",
      "\u001b[2m\u001b[36m(pid=15619)\u001b[0m WARNING DELETING EXPERIENCES\n",
      "\u001b[2m\u001b[36m(pid=15625)\u001b[0m Game 446 Draw\n",
      "\u001b[2m\u001b[36m(pid=15625)\u001b[0m WARNING DELETING EXPERIENCES\n",
      "\u001b[2m\u001b[36m(pid=15611)\u001b[0m Game 443 Draw\n",
      "\u001b[2m\u001b[36m(pid=15611)\u001b[0m WARNING DELETING EXPERIENCES\n",
      "\u001b[2m\u001b[36m(pid=15617)\u001b[0m Game 436 Draw\n",
      "\u001b[2m\u001b[36m(pid=15617)\u001b[0m WARNING DELETING EXPERIENCES\n",
      "\u001b[2m\u001b[36m(pid=15615)\u001b[0m Game 434 Draw\n",
      "\u001b[2m\u001b[36m(pid=15615)\u001b[0m WARNING DELETING EXPERIENCES\n",
      "\u001b[2m\u001b[36m(pid=15620)\u001b[0m Game 447 Draw\n",
      "\u001b[2m\u001b[36m(pid=15620)\u001b[0m WARNING DELETING EXPERIENCES\n",
      "\u001b[2m\u001b[36m(pid=15623)\u001b[0m Game 440 Draw\n",
      "\u001b[2m\u001b[36m(pid=15623)\u001b[0m WARNING DELETING EXPERIENCES\n",
      "\u001b[2m\u001b[36m(pid=15621)\u001b[0m Game 433 Draw\n",
      "\u001b[2m\u001b[36m(pid=15621)\u001b[0m WARNING DELETING EXPERIENCES\n",
      "\u001b[2m\u001b[36m(pid=15613)\u001b[0m Game 442 Draw\n",
      "\u001b[2m\u001b[36m(pid=15613)\u001b[0m WARNING DELETING EXPERIENCES\n",
      "\u001b[2m\u001b[36m(pid=15616)\u001b[0m Game 432 Draw\n",
      "\u001b[2m\u001b[36m(pid=15616)\u001b[0m WARNING DELETING EXPERIENCES\n",
      "ACTOR LOSS 5951.8779296875 | CRITIC LOSS 13.107170104980469\n",
      "ACTOR LOSS 6042.681640625 | CRITIC LOSS 15.692678451538086\n",
      "ACTOR LOSS 6113.40478515625 | CRITIC LOSS 4.933010578155518\n",
      "SAVING\n",
      "ACTOR LOSS 6092.69921875 | CRITIC LOSS 3.8093676567077637\n",
      "ACTOR LOSS 6132.828125 | CRITIC LOSS 9.218489646911621\n",
      "ACTOR LOSS 6047.966796875 | CRITIC LOSS 8.592666625976562\n",
      "ACTOR LOSS 6079.28515625 | CRITIC LOSS 11.464618682861328\n",
      "ACTOR LOSS 6136.18212890625 | CRITIC LOSS 11.708002090454102\n",
      "ACTOR LOSS 6016.51171875 | CRITIC LOSS 4.762825012207031\n",
      "ACTOR LOSS 6065.96240234375 | CRITIC LOSS 7.712242603302002\n",
      "\u001b[2m\u001b[36m(pid=15616)\u001b[0m Loading Random Controllers E72.pth\n"
     ]
    },
    {
     "name": "stderr",
     "output_type": "stream",
     "text": [
      "\u001b[2m\u001b[36m(pid=15616)\u001b[0m /home/ec2-user/.local/lib/python3.6/site-packages/ray/workers/default_worker.py:58: RuntimeWarning: invalid value encountered in true_divide\n",
      "\u001b[2m\u001b[36m(pid=15616)\u001b[0m   type=str,\n"
     ]
    },
    {
     "name": "stdout",
     "output_type": "stream",
     "text": [
      "\u001b[2m\u001b[36m(pid=15621)\u001b[0m Loading Random Controllers E96.pth\n"
     ]
    },
    {
     "name": "stderr",
     "output_type": "stream",
     "text": [
      "\u001b[2m\u001b[36m(pid=15621)\u001b[0m /home/ec2-user/.local/lib/python3.6/site-packages/ray/workers/default_worker.py:58: RuntimeWarning: invalid value encountered in true_divide\n",
      "\u001b[2m\u001b[36m(pid=15621)\u001b[0m   type=str,\n",
      "\u001b[2m\u001b[36m(pid=15620)\u001b[0m /home/ec2-user/.local/lib/python3.6/site-packages/ray/workers/default_worker.py:58: RuntimeWarning: invalid value encountered in true_divide\n",
      "\u001b[2m\u001b[36m(pid=15620)\u001b[0m   type=str,\n"
     ]
    },
    {
     "name": "stdout",
     "output_type": "stream",
     "text": [
      "\u001b[2m\u001b[36m(pid=15620)\u001b[0m Loading Random Controllers E40.pth\n",
      "\u001b[2m\u001b[36m(pid=15615)\u001b[0m Loading Random Controllers E200.pth\n"
     ]
    },
    {
     "name": "stderr",
     "output_type": "stream",
     "text": [
      "\u001b[2m\u001b[36m(pid=15615)\u001b[0m /home/ec2-user/.local/lib/python3.6/site-packages/ray/workers/default_worker.py:58: RuntimeWarning: invalid value encountered in true_divide\n",
      "\u001b[2m\u001b[36m(pid=15615)\u001b[0m   type=str,\n"
     ]
    },
    {
     "name": "stdout",
     "output_type": "stream",
     "text": [
      "\u001b[2m\u001b[36m(pid=15619)\u001b[0m Loading Random Controllers E176.pth\n"
     ]
    },
    {
     "name": "stderr",
     "output_type": "stream",
     "text": [
      "\u001b[2m\u001b[36m(pid=15619)\u001b[0m /home/ec2-user/.local/lib/python3.6/site-packages/ray/workers/default_worker.py:58: RuntimeWarning: invalid value encountered in true_divide\n",
      "\u001b[2m\u001b[36m(pid=15619)\u001b[0m   type=str,\n"
     ]
    },
    {
     "name": "stdout",
     "output_type": "stream",
     "text": [
      "\u001b[2m\u001b[36m(pid=15611)\u001b[0m Loading Random Controllers E8.pth\n"
     ]
    },
    {
     "name": "stderr",
     "output_type": "stream",
     "text": [
      "\u001b[2m\u001b[36m(pid=15611)\u001b[0m /home/ec2-user/.local/lib/python3.6/site-packages/ray/workers/default_worker.py:58: RuntimeWarning: invalid value encountered in true_divide\n",
      "\u001b[2m\u001b[36m(pid=15611)\u001b[0m   type=str,\n"
     ]
    },
    {
     "name": "stdout",
     "output_type": "stream",
     "text": [
      "\u001b[2m\u001b[36m(pid=15614)\u001b[0m Loading Random Controllers E56.pth\n"
     ]
    },
    {
     "name": "stderr",
     "output_type": "stream",
     "text": [
      "\u001b[2m\u001b[36m(pid=15614)\u001b[0m /home/ec2-user/.local/lib/python3.6/site-packages/ray/workers/default_worker.py:58: RuntimeWarning: invalid value encountered in true_divide\n",
      "\u001b[2m\u001b[36m(pid=15614)\u001b[0m   type=str,\n"
     ]
    },
    {
     "name": "stdout",
     "output_type": "stream",
     "text": [
      "\u001b[2m\u001b[36m(pid=15624)\u001b[0m Loading Random Controllers E272.pth\n"
     ]
    },
    {
     "name": "stderr",
     "output_type": "stream",
     "text": [
      "\u001b[2m\u001b[36m(pid=15624)\u001b[0m /home/ec2-user/.local/lib/python3.6/site-packages/ray/workers/default_worker.py:58: RuntimeWarning: invalid value encountered in true_divide\n",
      "\u001b[2m\u001b[36m(pid=15624)\u001b[0m   type=str,\n"
     ]
    },
    {
     "name": "stdout",
     "output_type": "stream",
     "text": [
      "\u001b[2m\u001b[36m(pid=15617)\u001b[0m Loading Random Controllers E152.pth\n"
     ]
    },
    {
     "name": "stderr",
     "output_type": "stream",
     "text": [
      "\u001b[2m\u001b[36m(pid=15617)\u001b[0m /home/ec2-user/.local/lib/python3.6/site-packages/ray/workers/default_worker.py:58: RuntimeWarning: invalid value encountered in true_divide\n",
      "\u001b[2m\u001b[36m(pid=15617)\u001b[0m   type=str,\n"
     ]
    },
    {
     "name": "stdout",
     "output_type": "stream",
     "text": [
      "\u001b[2m\u001b[36m(pid=15618)\u001b[0m Loading Random Controllers E72.pth\n"
     ]
    },
    {
     "name": "stderr",
     "output_type": "stream",
     "text": [
      "\u001b[2m\u001b[36m(pid=15618)\u001b[0m /home/ec2-user/.local/lib/python3.6/site-packages/ray/workers/default_worker.py:58: RuntimeWarning: invalid value encountered in true_divide\n",
      "\u001b[2m\u001b[36m(pid=15618)\u001b[0m   type=str,\n"
     ]
    },
    {
     "name": "stdout",
     "output_type": "stream",
     "text": [
      "\u001b[2m\u001b[36m(pid=15625)\u001b[0m Loading Random Controllers E200.pth\n"
     ]
    },
    {
     "name": "stderr",
     "output_type": "stream",
     "text": [
      "\u001b[2m\u001b[36m(pid=15625)\u001b[0m /home/ec2-user/.local/lib/python3.6/site-packages/ray/workers/default_worker.py:58: RuntimeWarning: invalid value encountered in true_divide\n",
      "\u001b[2m\u001b[36m(pid=15625)\u001b[0m   type=str,\n"
     ]
    },
    {
     "name": "stdout",
     "output_type": "stream",
     "text": [
      "\u001b[2m\u001b[36m(pid=15622)\u001b[0m Loading Random Controllers E64.pth\n"
     ]
    },
    {
     "name": "stderr",
     "output_type": "stream",
     "text": [
      "\u001b[2m\u001b[36m(pid=15622)\u001b[0m /home/ec2-user/.local/lib/python3.6/site-packages/ray/workers/default_worker.py:58: RuntimeWarning: invalid value encountered in true_divide\n",
      "\u001b[2m\u001b[36m(pid=15622)\u001b[0m   type=str,\n"
     ]
    },
    {
     "name": "stdout",
     "output_type": "stream",
     "text": [
      "\u001b[2m\u001b[36m(pid=15613)\u001b[0m Loading Random Controllers E112.pth\n"
     ]
    },
    {
     "name": "stderr",
     "output_type": "stream",
     "text": [
      "\u001b[2m\u001b[36m(pid=15613)\u001b[0m /home/ec2-user/.local/lib/python3.6/site-packages/ray/workers/default_worker.py:58: RuntimeWarning: invalid value encountered in true_divide\n",
      "\u001b[2m\u001b[36m(pid=15613)\u001b[0m   type=str,\n"
     ]
    },
    {
     "name": "stdout",
     "output_type": "stream",
     "text": [
      "\u001b[2m\u001b[36m(pid=15623)\u001b[0m Loading Random Controllers E152.pth\n"
     ]
    },
    {
     "name": "stderr",
     "output_type": "stream",
     "text": [
      "\u001b[2m\u001b[36m(pid=15623)\u001b[0m /home/ec2-user/.local/lib/python3.6/site-packages/ray/workers/default_worker.py:58: RuntimeWarning: invalid value encountered in true_divide\n",
      "\u001b[2m\u001b[36m(pid=15623)\u001b[0m   type=str,\n"
     ]
    },
    {
     "name": "stdout",
     "output_type": "stream",
     "text": [
      "\u001b[2m\u001b[36m(pid=15610)\u001b[0m Loading Random Controllers E0.pth\n"
     ]
    },
    {
     "name": "stderr",
     "output_type": "stream",
     "text": [
      "\u001b[2m\u001b[36m(pid=15610)\u001b[0m /home/ec2-user/.local/lib/python3.6/site-packages/ray/workers/default_worker.py:58: RuntimeWarning: invalid value encountered in true_divide\n",
      "\u001b[2m\u001b[36m(pid=15610)\u001b[0m   type=str,\n"
     ]
    },
    {
     "name": "stdout",
     "output_type": "stream",
     "text": [
      "\u001b[2m\u001b[36m(pid=15612)\u001b[0m Loading Random Controllers E32.pth\n"
     ]
    },
    {
     "name": "stderr",
     "output_type": "stream",
     "text": [
      "\u001b[2m\u001b[36m(pid=15612)\u001b[0m /home/ec2-user/.local/lib/python3.6/site-packages/ray/workers/default_worker.py:58: RuntimeWarning: invalid value encountered in true_divide\n",
      "\u001b[2m\u001b[36m(pid=15612)\u001b[0m   type=str,\n"
     ]
    },
    {
     "name": "stdout",
     "output_type": "stream",
     "text": [
      "\u001b[2m\u001b[36m(pid=15613)\u001b[0m Game 460 White Won\n",
      "\u001b[2m\u001b[36m(pid=15625)\u001b[0m Game 458 White Loss\n",
      "\u001b[2m\u001b[36m(pid=15616)\u001b[0m Game 448 Draw\n",
      "\u001b[2m\u001b[36m(pid=15616)\u001b[0m WARNING DELETING EXPERIENCES\n",
      "\u001b[2m\u001b[36m(pid=15623)\u001b[0m Game 461 Draw\n",
      "\u001b[2m\u001b[36m(pid=15623)\u001b[0m WARNING DELETING EXPERIENCES\n",
      "\u001b[2m\u001b[36m(pid=15619)\u001b[0m Game 452 Draw\n",
      "\u001b[2m\u001b[36m(pid=15619)\u001b[0m WARNING DELETING EXPERIENCES\n",
      "\u001b[2m\u001b[36m(pid=15621)\u001b[0m Game 449 Draw\n",
      "\u001b[2m\u001b[36m(pid=15621)\u001b[0m WARNING DELETING EXPERIENCES\n",
      "\u001b[2m\u001b[36m(pid=15612)\u001b[0m Game 463 Draw\n",
      "\u001b[2m\u001b[36m(pid=15612)\u001b[0m WARNING DELETING EXPERIENCES\n",
      "\u001b[2m\u001b[36m(pid=15624)\u001b[0m Game 455 White Won\n",
      "\u001b[2m\u001b[36m(pid=15615)\u001b[0m Game 451 Draw\n",
      "\u001b[2m\u001b[36m(pid=15615)\u001b[0m WARNING DELETING EXPERIENCES\n",
      "\u001b[2m\u001b[36m(pid=15617)\u001b[0m Game 456 Draw\n",
      "\u001b[2m\u001b[36m(pid=15617)\u001b[0m WARNING DELETING EXPERIENCES\n",
      "\u001b[2m\u001b[36m(pid=15611)\u001b[0m Game 453 Draw\n",
      "\u001b[2m\u001b[36m(pid=15611)\u001b[0m WARNING DELETING EXPERIENCES\n",
      "\u001b[2m\u001b[36m(pid=15620)\u001b[0m Game 450 Draw\n",
      "\u001b[2m\u001b[36m(pid=15620)\u001b[0m WARNING DELETING EXPERIENCES\n",
      "\u001b[2m\u001b[36m(pid=15618)\u001b[0m Game 457 Draw\n",
      "\u001b[2m\u001b[36m(pid=15618)\u001b[0m WARNING DELETING EXPERIENCES\n",
      "\u001b[2m\u001b[36m(pid=15610)\u001b[0m Game 462 Draw\n",
      "\u001b[2m\u001b[36m(pid=15610)\u001b[0m WARNING DELETING EXPERIENCES\n",
      "\u001b[2m\u001b[36m(pid=15614)\u001b[0m Game 454 Draw\n",
      "\u001b[2m\u001b[36m(pid=15614)\u001b[0m WARNING DELETING EXPERIENCES\n",
      "\u001b[2m\u001b[36m(pid=15622)\u001b[0m Game 459 Draw\n",
      "\u001b[2m\u001b[36m(pid=15622)\u001b[0m WARNING DELETING EXPERIENCES\n",
      "ACTOR LOSS 6022.7470703125 | CRITIC LOSS 13.326618194580078\n",
      "SAVING\n",
      "ACTOR LOSS 6087.42822265625 | CRITIC LOSS 9.369722366333008\n",
      "ACTOR LOSS 6068.927734375 | CRITIC LOSS 12.524313926696777\n",
      "ACTOR LOSS 6105.9287109375 | CRITIC LOSS 5.736752986907959\n",
      "ACTOR LOSS 6076.77490234375 | CRITIC LOSS 4.0797295570373535\n",
      "ACTOR LOSS 6040.70263671875 | CRITIC LOSS 15.28866195678711\n",
      "ACTOR LOSS 6066.72265625 | CRITIC LOSS 14.194868087768555\n",
      "ACTOR LOSS 5997.068359375 | CRITIC LOSS 5.735624313354492\n",
      "ACTOR LOSS 6054.212890625 | CRITIC LOSS 6.497967720031738\n",
      "SAVING\n",
      "ACTOR LOSS 5977.0654296875 | CRITIC LOSS 4.173213481903076\n",
      "\u001b[2m\u001b[36m(pid=15620)\u001b[0m Loading Random Controllers E264.pth\n"
     ]
    },
    {
     "name": "stderr",
     "output_type": "stream",
     "text": [
      "\u001b[2m\u001b[36m(pid=15620)\u001b[0m /home/ec2-user/.local/lib/python3.6/site-packages/ray/workers/default_worker.py:58: RuntimeWarning: invalid value encountered in true_divide\n",
      "\u001b[2m\u001b[36m(pid=15620)\u001b[0m   type=str,\n"
     ]
    },
    {
     "name": "stdout",
     "output_type": "stream",
     "text": [
      "\u001b[2m\u001b[36m(pid=15614)\u001b[0m Loading Random Controllers E16.pth\n"
     ]
    },
    {
     "name": "stderr",
     "output_type": "stream",
     "text": [
      "\u001b[2m\u001b[36m(pid=15614)\u001b[0m /home/ec2-user/.local/lib/python3.6/site-packages/ray/workers/default_worker.py:58: RuntimeWarning: invalid value encountered in true_divide\n",
      "\u001b[2m\u001b[36m(pid=15614)\u001b[0m   type=str,\n",
      "\u001b[2m\u001b[36m(pid=15611)\u001b[0m /home/ec2-user/.local/lib/python3.6/site-packages/ray/workers/default_worker.py:58: RuntimeWarning: invalid value encountered in true_divide\n",
      "\u001b[2m\u001b[36m(pid=15611)\u001b[0m   type=str,\n"
     ]
    },
    {
     "name": "stdout",
     "output_type": "stream",
     "text": [
      "\u001b[2m\u001b[36m(pid=15611)\u001b[0m Loading Random Controllers E40.pth\n",
      "\u001b[2m\u001b[36m(pid=15618)\u001b[0m Loading Random Controllers E120.pth\n"
     ]
    },
    {
     "name": "stderr",
     "output_type": "stream",
     "text": [
      "\u001b[2m\u001b[36m(pid=15618)\u001b[0m /home/ec2-user/.local/lib/python3.6/site-packages/ray/workers/default_worker.py:58: RuntimeWarning: invalid value encountered in true_divide\n",
      "\u001b[2m\u001b[36m(pid=15618)\u001b[0m   type=str,\n",
      "\u001b[2m\u001b[36m(pid=15617)\u001b[0m /home/ec2-user/.local/lib/python3.6/site-packages/ray/workers/default_worker.py:58: RuntimeWarning: invalid value encountered in true_divide\n",
      "\u001b[2m\u001b[36m(pid=15617)\u001b[0m   type=str,\n"
     ]
    },
    {
     "name": "stdout",
     "output_type": "stream",
     "text": [
      "\u001b[2m\u001b[36m(pid=15617)\u001b[0m Loading Random Controllers E288.pth\n",
      "\u001b[2m\u001b[36m(pid=15615)\u001b[0m Loading Random Controllers E224.pth\n"
     ]
    },
    {
     "name": "stderr",
     "output_type": "stream",
     "text": [
      "\u001b[2m\u001b[36m(pid=15615)\u001b[0m /home/ec2-user/.local/lib/python3.6/site-packages/ray/workers/default_worker.py:58: RuntimeWarning: invalid value encountered in true_divide\n",
      "\u001b[2m\u001b[36m(pid=15615)\u001b[0m   type=str,\n"
     ]
    },
    {
     "name": "stdout",
     "output_type": "stream",
     "text": [
      "\u001b[2m\u001b[36m(pid=15624)\u001b[0m Loading Random Controllers E24.pth\n"
     ]
    },
    {
     "name": "stderr",
     "output_type": "stream",
     "text": [
      "\u001b[2m\u001b[36m(pid=15624)\u001b[0m /home/ec2-user/.local/lib/python3.6/site-packages/ray/workers/default_worker.py:58: RuntimeWarning: invalid value encountered in true_divide\n",
      "\u001b[2m\u001b[36m(pid=15624)\u001b[0m   type=str,\n"
     ]
    },
    {
     "name": "stdout",
     "output_type": "stream",
     "text": [
      "\u001b[2m\u001b[36m(pid=15612)\u001b[0m Loading Random Controllers E24.pth\n"
     ]
    },
    {
     "name": "stderr",
     "output_type": "stream",
     "text": [
      "\u001b[2m\u001b[36m(pid=15612)\u001b[0m /home/ec2-user/.local/lib/python3.6/site-packages/ray/workers/default_worker.py:58: RuntimeWarning: invalid value encountered in true_divide\n",
      "\u001b[2m\u001b[36m(pid=15612)\u001b[0m   type=str,\n"
     ]
    },
    {
     "name": "stdout",
     "output_type": "stream",
     "text": [
      "\u001b[2m\u001b[36m(pid=15621)\u001b[0m Loading Random Controllers E104.pth\n"
     ]
    },
    {
     "name": "stderr",
     "output_type": "stream",
     "text": [
      "\u001b[2m\u001b[36m(pid=15621)\u001b[0m /home/ec2-user/.local/lib/python3.6/site-packages/ray/workers/default_worker.py:58: RuntimeWarning: invalid value encountered in true_divide\n",
      "\u001b[2m\u001b[36m(pid=15621)\u001b[0m   type=str,\n"
     ]
    },
    {
     "name": "stdout",
     "output_type": "stream",
     "text": [
      "\u001b[2m\u001b[36m(pid=15619)\u001b[0m Loading Random Controllers E40.pth\n"
     ]
    },
    {
     "name": "stderr",
     "output_type": "stream",
     "text": [
      "\u001b[2m\u001b[36m(pid=15619)\u001b[0m /home/ec2-user/.local/lib/python3.6/site-packages/ray/workers/default_worker.py:58: RuntimeWarning: invalid value encountered in true_divide\n",
      "\u001b[2m\u001b[36m(pid=15619)\u001b[0m   type=str,\n"
     ]
    },
    {
     "name": "stdout",
     "output_type": "stream",
     "text": [
      "\u001b[2m\u001b[36m(pid=15616)\u001b[0m Loading Random Controllers E232.pth\n"
     ]
    },
    {
     "name": "stderr",
     "output_type": "stream",
     "text": [
      "\u001b[2m\u001b[36m(pid=15616)\u001b[0m /home/ec2-user/.local/lib/python3.6/site-packages/ray/workers/default_worker.py:58: RuntimeWarning: invalid value encountered in true_divide\n",
      "\u001b[2m\u001b[36m(pid=15616)\u001b[0m   type=str,\n"
     ]
    },
    {
     "name": "stdout",
     "output_type": "stream",
     "text": [
      "\u001b[2m\u001b[36m(pid=15622)\u001b[0m Loading Random Controllers E8.pth\n"
     ]
    },
    {
     "name": "stderr",
     "output_type": "stream",
     "text": [
      "\u001b[2m\u001b[36m(pid=15622)\u001b[0m /home/ec2-user/.local/lib/python3.6/site-packages/ray/workers/default_worker.py:58: RuntimeWarning: invalid value encountered in true_divide\n",
      "\u001b[2m\u001b[36m(pid=15622)\u001b[0m   type=str,\n"
     ]
    },
    {
     "name": "stdout",
     "output_type": "stream",
     "text": [
      "\u001b[2m\u001b[36m(pid=15625)\u001b[0m Loading Random Controllers E224.pth\n"
     ]
    },
    {
     "name": "stderr",
     "output_type": "stream",
     "text": [
      "\u001b[2m\u001b[36m(pid=15625)\u001b[0m /home/ec2-user/.local/lib/python3.6/site-packages/ray/workers/default_worker.py:58: RuntimeWarning: invalid value encountered in true_divide\n",
      "\u001b[2m\u001b[36m(pid=15625)\u001b[0m   type=str,\n"
     ]
    },
    {
     "name": "stdout",
     "output_type": "stream",
     "text": [
      "\u001b[2m\u001b[36m(pid=15610)\u001b[0m Loading Random Controllers E136.pth\n"
     ]
    },
    {
     "name": "stderr",
     "output_type": "stream",
     "text": [
      "\u001b[2m\u001b[36m(pid=15610)\u001b[0m /home/ec2-user/.local/lib/python3.6/site-packages/ray/workers/default_worker.py:58: RuntimeWarning: invalid value encountered in true_divide\n",
      "\u001b[2m\u001b[36m(pid=15610)\u001b[0m   type=str,\n"
     ]
    },
    {
     "name": "stdout",
     "output_type": "stream",
     "text": [
      "\u001b[2m\u001b[36m(pid=15623)\u001b[0m Loading Random Controllers E160.pth\n"
     ]
    },
    {
     "name": "stderr",
     "output_type": "stream",
     "text": [
      "\u001b[2m\u001b[36m(pid=15623)\u001b[0m /home/ec2-user/.local/lib/python3.6/site-packages/ray/workers/default_worker.py:58: RuntimeWarning: invalid value encountered in true_divide\n",
      "\u001b[2m\u001b[36m(pid=15623)\u001b[0m   type=str,\n"
     ]
    },
    {
     "name": "stdout",
     "output_type": "stream",
     "text": [
      "\u001b[2m\u001b[36m(pid=15613)\u001b[0m Loading Random Controllers E152.pth\n"
     ]
    },
    {
     "name": "stderr",
     "output_type": "stream",
     "text": [
      "\u001b[2m\u001b[36m(pid=15613)\u001b[0m /home/ec2-user/.local/lib/python3.6/site-packages/ray/workers/default_worker.py:58: RuntimeWarning: invalid value encountered in true_divide\n",
      "\u001b[2m\u001b[36m(pid=15613)\u001b[0m   type=str,\n"
     ]
    },
    {
     "name": "stdout",
     "output_type": "stream",
     "text": [
      "\u001b[2m\u001b[36m(pid=15613)\u001b[0m Game 479 White Won\n",
      "\u001b[2m\u001b[36m(pid=15615)\u001b[0m Game 469 Draw\n",
      "\u001b[2m\u001b[36m(pid=15615)\u001b[0m WARNING DELETING EXPERIENCES\n",
      "\u001b[2m\u001b[36m(pid=15622)\u001b[0m Game 475 Draw\n",
      "\u001b[2m\u001b[36m(pid=15622)\u001b[0m WARNING DELETING EXPERIENCES\n",
      "\u001b[2m\u001b[36m(pid=15611)\u001b[0m Game 466 White Loss\n",
      "\u001b[2m\u001b[36m(pid=15621)\u001b[0m Game 472 Draw\n",
      "\u001b[2m\u001b[36m(pid=15621)\u001b[0m WARNING DELETING EXPERIENCES\n",
      "\u001b[2m\u001b[36m(pid=15623)\u001b[0m Game 478 Draw\n",
      "\u001b[2m\u001b[36m(pid=15623)\u001b[0m WARNING DELETING EXPERIENCES\n",
      "\u001b[2m\u001b[36m(pid=15620)\u001b[0m Game 464 Draw\n",
      "\u001b[2m\u001b[36m(pid=15620)\u001b[0m WARNING DELETING EXPERIENCES\n",
      "\u001b[2m\u001b[36m(pid=15612)\u001b[0m Game 471 Draw\n",
      "\u001b[2m\u001b[36m(pid=15612)\u001b[0m WARNING DELETING EXPERIENCES\n",
      "\u001b[2m\u001b[36m(pid=15616)\u001b[0m Game 474 Draw\n",
      "\u001b[2m\u001b[36m(pid=15616)\u001b[0m WARNING DELETING EXPERIENCES\n",
      "\u001b[2m\u001b[36m(pid=15618)\u001b[0m Game 467 Draw\n",
      "\u001b[2m\u001b[36m(pid=15618)\u001b[0m WARNING DELETING EXPERIENCES\n",
      "\u001b[2m\u001b[36m(pid=15617)\u001b[0m Game 468 Draw\n",
      "\u001b[2m\u001b[36m(pid=15617)\u001b[0m WARNING DELETING EXPERIENCES\n",
      "\u001b[2m\u001b[36m(pid=15614)\u001b[0m Game 465 Draw\n",
      "\u001b[2m\u001b[36m(pid=15614)\u001b[0m WARNING DELETING EXPERIENCES\n",
      "\u001b[2m\u001b[36m(pid=15624)\u001b[0m Game 470 Draw\n",
      "\u001b[2m\u001b[36m(pid=15624)\u001b[0m WARNING DELETING EXPERIENCES\n",
      "\u001b[2m\u001b[36m(pid=15619)\u001b[0m Game 473 Draw\n",
      "\u001b[2m\u001b[36m(pid=15619)\u001b[0m WARNING DELETING EXPERIENCES\n",
      "\u001b[2m\u001b[36m(pid=15625)\u001b[0m Game 476 Draw\n",
      "\u001b[2m\u001b[36m(pid=15625)\u001b[0m WARNING DELETING EXPERIENCES\n",
      "\u001b[2m\u001b[36m(pid=15610)\u001b[0m Game 477 Draw\n",
      "\u001b[2m\u001b[36m(pid=15610)\u001b[0m WARNING DELETING EXPERIENCES\n",
      "ACTOR LOSS 6116.8828125 | CRITIC LOSS 21.374126434326172\n",
      "ACTOR LOSS 6058.111328125 | CRITIC LOSS 14.778602600097656\n",
      "ACTOR LOSS 6118.61865234375 | CRITIC LOSS 4.554356098175049\n",
      "ACTOR LOSS 6135.5751953125 | CRITIC LOSS 11.973857879638672\n",
      "ACTOR LOSS 5937.9833984375 | CRITIC LOSS 6.893820762634277\n",
      "ACTOR LOSS 6096.5986328125 | CRITIC LOSS 10.51271915435791\n",
      "ACTOR LOSS 6038.142578125 | CRITIC LOSS 4.999480247497559\n",
      "SAVING\n",
      "ACTOR LOSS 6085.56884765625 | CRITIC LOSS 14.566749572753906\n",
      "ACTOR LOSS 6077.17578125 | CRITIC LOSS 3.6478562355041504\n",
      "ACTOR LOSS 6096.65869140625 | CRITIC LOSS 8.324779510498047\n"
     ]
    },
    {
     "name": "stderr",
     "output_type": "stream",
     "text": [
      "\u001b[2m\u001b[36m(pid=15619)\u001b[0m /home/ec2-user/.local/lib/python3.6/site-packages/ray/workers/default_worker.py:58: RuntimeWarning: invalid value encountered in true_divide\n",
      "\u001b[2m\u001b[36m(pid=15619)\u001b[0m   type=str,\n"
     ]
    },
    {
     "name": "stdout",
     "output_type": "stream",
     "text": [
      "\u001b[2m\u001b[36m(pid=15619)\u001b[0m Loading Random Controllers E96.pth\n",
      "\u001b[2m\u001b[36m(pid=15624)\u001b[0m Loading Random Controllers E112.pth\n",
      "\u001b[2m\u001b[36m(pid=15617)\u001b[0m Loading Random Controllers E264.pth\n"
     ]
    },
    {
     "name": "stderr",
     "output_type": "stream",
     "text": [
      "\u001b[2m\u001b[36m(pid=15624)\u001b[0m /home/ec2-user/.local/lib/python3.6/site-packages/ray/workers/default_worker.py:58: RuntimeWarning: invalid value encountered in true_divide\n",
      "\u001b[2m\u001b[36m(pid=15624)\u001b[0m   type=str,\n",
      "\u001b[2m\u001b[36m(pid=15617)\u001b[0m /home/ec2-user/.local/lib/python3.6/site-packages/ray/workers/default_worker.py:58: RuntimeWarning: invalid value encountered in true_divide\n",
      "\u001b[2m\u001b[36m(pid=15617)\u001b[0m   type=str,\n"
     ]
    },
    {
     "name": "stdout",
     "output_type": "stream",
     "text": [
      "\u001b[2m\u001b[36m(pid=15618)\u001b[0m Loading Random Controllers E16.pth\n"
     ]
    },
    {
     "name": "stderr",
     "output_type": "stream",
     "text": [
      "\u001b[2m\u001b[36m(pid=15618)\u001b[0m /home/ec2-user/.local/lib/python3.6/site-packages/ray/workers/default_worker.py:58: RuntimeWarning: invalid value encountered in true_divide\n",
      "\u001b[2m\u001b[36m(pid=15618)\u001b[0m   type=str,\n",
      "\u001b[2m\u001b[36m(pid=15616)\u001b[0m /home/ec2-user/.local/lib/python3.6/site-packages/ray/workers/default_worker.py:58: RuntimeWarning: invalid value encountered in true_divide\n",
      "\u001b[2m\u001b[36m(pid=15616)\u001b[0m   type=str,\n"
     ]
    },
    {
     "name": "stdout",
     "output_type": "stream",
     "text": [
      "\u001b[2m\u001b[36m(pid=15616)\u001b[0m Loading Random Controllers E216.pth\n",
      "\u001b[2m\u001b[36m(pid=15612)\u001b[0m Loading Random Controllers E248.pth\n"
     ]
    },
    {
     "name": "stderr",
     "output_type": "stream",
     "text": [
      "\u001b[2m\u001b[36m(pid=15612)\u001b[0m /home/ec2-user/.local/lib/python3.6/site-packages/ray/workers/default_worker.py:58: RuntimeWarning: invalid value encountered in true_divide\n",
      "\u001b[2m\u001b[36m(pid=15612)\u001b[0m   type=str,\n",
      "\u001b[2m\u001b[36m(pid=15620)\u001b[0m /home/ec2-user/.local/lib/python3.6/site-packages/ray/workers/default_worker.py:58: RuntimeWarning: invalid value encountered in true_divide\n",
      "\u001b[2m\u001b[36m(pid=15620)\u001b[0m   type=str,\n"
     ]
    },
    {
     "name": "stdout",
     "output_type": "stream",
     "text": [
      "\u001b[2m\u001b[36m(pid=15620)\u001b[0m Loading Random Controllers E120.pth\n",
      "\u001b[2m\u001b[36m(pid=15621)\u001b[0m Loading Random Controllers E184.pth\n"
     ]
    },
    {
     "name": "stderr",
     "output_type": "stream",
     "text": [
      "\u001b[2m\u001b[36m(pid=15621)\u001b[0m /home/ec2-user/.local/lib/python3.6/site-packages/ray/workers/default_worker.py:58: RuntimeWarning: invalid value encountered in true_divide\n",
      "\u001b[2m\u001b[36m(pid=15621)\u001b[0m   type=str,\n"
     ]
    },
    {
     "name": "stdout",
     "output_type": "stream",
     "text": [
      "\u001b[2m\u001b[36m(pid=15614)\u001b[0m Loading Random Controllers E208.pth\n"
     ]
    },
    {
     "name": "stderr",
     "output_type": "stream",
     "text": [
      "\u001b[2m\u001b[36m(pid=15614)\u001b[0m /home/ec2-user/.local/lib/python3.6/site-packages/ray/workers/default_worker.py:58: RuntimeWarning: invalid value encountered in true_divide\n",
      "\u001b[2m\u001b[36m(pid=15614)\u001b[0m   type=str,\n"
     ]
    },
    {
     "name": "stdout",
     "output_type": "stream",
     "text": [
      "\u001b[2m\u001b[36m(pid=15611)\u001b[0m Loading Random Controllers E184.pth\n"
     ]
    },
    {
     "name": "stderr",
     "output_type": "stream",
     "text": [
      "\u001b[2m\u001b[36m(pid=15611)\u001b[0m /home/ec2-user/.local/lib/python3.6/site-packages/ray/workers/default_worker.py:58: RuntimeWarning: invalid value encountered in true_divide\n",
      "\u001b[2m\u001b[36m(pid=15611)\u001b[0m   type=str,\n"
     ]
    },
    {
     "name": "stdout",
     "output_type": "stream",
     "text": [
      "\u001b[2m\u001b[36m(pid=15625)\u001b[0m Loading Random Controllers E80.pth\n"
     ]
    },
    {
     "name": "stderr",
     "output_type": "stream",
     "text": [
      "\u001b[2m\u001b[36m(pid=15625)\u001b[0m /home/ec2-user/.local/lib/python3.6/site-packages/ray/workers/default_worker.py:58: RuntimeWarning: invalid value encountered in true_divide\n",
      "\u001b[2m\u001b[36m(pid=15625)\u001b[0m   type=str,\n"
     ]
    },
    {
     "name": "stdout",
     "output_type": "stream",
     "text": [
      "\u001b[2m\u001b[36m(pid=15622)\u001b[0m Loading Random Controllers E208.pth\n"
     ]
    },
    {
     "name": "stderr",
     "output_type": "stream",
     "text": [
      "\u001b[2m\u001b[36m(pid=15622)\u001b[0m /home/ec2-user/.local/lib/python3.6/site-packages/ray/workers/default_worker.py:58: RuntimeWarning: invalid value encountered in true_divide\n",
      "\u001b[2m\u001b[36m(pid=15622)\u001b[0m   type=str,\n"
     ]
    },
    {
     "name": "stdout",
     "output_type": "stream",
     "text": [
      "\u001b[2m\u001b[36m(pid=15615)\u001b[0m Loading Random Controllers E240.pth\n"
     ]
    },
    {
     "name": "stderr",
     "output_type": "stream",
     "text": [
      "\u001b[2m\u001b[36m(pid=15615)\u001b[0m /home/ec2-user/.local/lib/python3.6/site-packages/ray/workers/default_worker.py:58: RuntimeWarning: invalid value encountered in true_divide\n",
      "\u001b[2m\u001b[36m(pid=15615)\u001b[0m   type=str,\n"
     ]
    },
    {
     "name": "stdout",
     "output_type": "stream",
     "text": [
      "\u001b[2m\u001b[36m(pid=15610)\u001b[0m Loading Random Controllers E152.pth\n"
     ]
    },
    {
     "name": "stderr",
     "output_type": "stream",
     "text": [
      "\u001b[2m\u001b[36m(pid=15610)\u001b[0m /home/ec2-user/.local/lib/python3.6/site-packages/ray/workers/default_worker.py:58: RuntimeWarning: invalid value encountered in true_divide\n",
      "\u001b[2m\u001b[36m(pid=15610)\u001b[0m   type=str,\n"
     ]
    },
    {
     "name": "stdout",
     "output_type": "stream",
     "text": [
      "\u001b[2m\u001b[36m(pid=15623)\u001b[0m Loading Random Controllers E8.pth\n"
     ]
    },
    {
     "name": "stderr",
     "output_type": "stream",
     "text": [
      "\u001b[2m\u001b[36m(pid=15623)\u001b[0m /home/ec2-user/.local/lib/python3.6/site-packages/ray/workers/default_worker.py:58: RuntimeWarning: invalid value encountered in true_divide\n",
      "\u001b[2m\u001b[36m(pid=15623)\u001b[0m   type=str,\n"
     ]
    },
    {
     "name": "stdout",
     "output_type": "stream",
     "text": [
      "\u001b[2m\u001b[36m(pid=15613)\u001b[0m Loading Random Controllers E88.pth\n"
     ]
    },
    {
     "name": "stderr",
     "output_type": "stream",
     "text": [
      "\u001b[2m\u001b[36m(pid=15613)\u001b[0m /home/ec2-user/.local/lib/python3.6/site-packages/ray/workers/default_worker.py:58: RuntimeWarning: invalid value encountered in true_divide\n",
      "\u001b[2m\u001b[36m(pid=15613)\u001b[0m   type=str,\n"
     ]
    },
    {
     "name": "stdout",
     "output_type": "stream",
     "text": [
      "\u001b[2m\u001b[36m(pid=15624)\u001b[0m Game 481 White Loss\n",
      "\u001b[2m\u001b[36m(pid=15613)\u001b[0m Game 495 Draw\n",
      "\u001b[2m\u001b[36m(pid=15613)\u001b[0m WARNING DELETING EXPERIENCES\n",
      "\u001b[2m\u001b[36m(pid=15611)\u001b[0m Game 489 Draw\n",
      "\u001b[2m\u001b[36m(pid=15611)\u001b[0m WARNING DELETING EXPERIENCES\n",
      "\u001b[2m\u001b[36m(pid=15625)\u001b[0m Game 490 Draw\n",
      "\u001b[2m\u001b[36m(pid=15625)\u001b[0m WARNING DELETING EXPERIENCES\n",
      "\u001b[2m\u001b[36m(pid=15622)\u001b[0m Game 491 Draw\n",
      "\u001b[2m\u001b[36m(pid=15622)\u001b[0m WARNING DELETING EXPERIENCES\n",
      "\u001b[2m\u001b[36m(pid=15614)\u001b[0m Game 488 Draw\n",
      "\u001b[2m\u001b[36m(pid=15614)\u001b[0m WARNING DELETING EXPERIENCES\n",
      "\u001b[2m\u001b[36m(pid=15610)\u001b[0m Game 493 Draw\n",
      "\u001b[2m\u001b[36m(pid=15610)\u001b[0m WARNING DELETING EXPERIENCES\n",
      "\u001b[2m\u001b[36m(pid=15623)\u001b[0m Game 494 Draw\n",
      "\u001b[2m\u001b[36m(pid=15623)\u001b[0m WARNING DELETING EXPERIENCES\n",
      "\u001b[2m\u001b[36m(pid=15621)\u001b[0m Game 487 Draw\n",
      "\u001b[2m\u001b[36m(pid=15621)\u001b[0m WARNING DELETING EXPERIENCES\n",
      "\u001b[2m\u001b[36m(pid=15617)\u001b[0m Game 482 Draw\n",
      "\u001b[2m\u001b[36m(pid=15617)\u001b[0m WARNING DELETING EXPERIENCES\n",
      "\u001b[2m\u001b[36m(pid=15618)\u001b[0m Game 483 Draw\n",
      "\u001b[2m\u001b[36m(pid=15618)\u001b[0m WARNING DELETING EXPERIENCES\n",
      "\u001b[2m\u001b[36m(pid=15612)\u001b[0m Game 485 Draw\n",
      "\u001b[2m\u001b[36m(pid=15612)\u001b[0m WARNING DELETING EXPERIENCES\n",
      "\u001b[2m\u001b[36m(pid=15619)\u001b[0m Game 480 Draw\n",
      "\u001b[2m\u001b[36m(pid=15619)\u001b[0m WARNING DELETING EXPERIENCES\n",
      "\u001b[2m\u001b[36m(pid=15615)\u001b[0m Game 492 Draw\n",
      "\u001b[2m\u001b[36m(pid=15615)\u001b[0m WARNING DELETING EXPERIENCES\n",
      "\u001b[2m\u001b[36m(pid=15620)\u001b[0m Game 486 Draw\n",
      "\u001b[2m\u001b[36m(pid=15620)\u001b[0m WARNING DELETING EXPERIENCES\n",
      "\u001b[2m\u001b[36m(pid=15616)\u001b[0m Game 484 Draw\n",
      "\u001b[2m\u001b[36m(pid=15616)\u001b[0m WARNING DELETING EXPERIENCES\n",
      "ACTOR LOSS 6119.6748046875 | CRITIC LOSS 7.632890701293945\n",
      "ACTOR LOSS 6139.6064453125 | CRITIC LOSS 7.78204345703125\n",
      "ACTOR LOSS 6030.48291015625 | CRITIC LOSS 9.365593910217285\n",
      "ACTOR LOSS 6076.11962890625 | CRITIC LOSS 7.307520389556885\n",
      "ACTOR LOSS 6034.60888671875 | CRITIC LOSS 7.945270538330078\n",
      "SAVING\n",
      "ACTOR LOSS 6092.34130859375 | CRITIC LOSS 7.957564353942871\n",
      "ACTOR LOSS 6134.4287109375 | CRITIC LOSS 9.35470199584961\n",
      "ACTOR LOSS 6048.94140625 | CRITIC LOSS 8.877012252807617\n",
      "ACTOR LOSS 6083.60498046875 | CRITIC LOSS 8.32320499420166\n",
      "ACTOR LOSS 6152.76513671875 | CRITIC LOSS 13.258066177368164\n",
      "\u001b[2m\u001b[36m(pid=15616)\u001b[0m Loading Random Controllers E104.pth\n"
     ]
    },
    {
     "name": "stderr",
     "output_type": "stream",
     "text": [
      "\u001b[2m\u001b[36m(pid=15616)\u001b[0m /home/ec2-user/.local/lib/python3.6/site-packages/ray/workers/default_worker.py:58: RuntimeWarning: invalid value encountered in true_divide\n",
      "\u001b[2m\u001b[36m(pid=15616)\u001b[0m   type=str,\n"
     ]
    },
    {
     "name": "stdout",
     "output_type": "stream",
     "text": [
      "\u001b[2m\u001b[36m(pid=15620)\u001b[0m Loading Random Controllers E16.pth\n"
     ]
    },
    {
     "name": "stderr",
     "output_type": "stream",
     "text": [
      "\u001b[2m\u001b[36m(pid=15620)\u001b[0m /home/ec2-user/.local/lib/python3.6/site-packages/ray/workers/default_worker.py:58: RuntimeWarning: invalid value encountered in true_divide\n",
      "\u001b[2m\u001b[36m(pid=15620)\u001b[0m   type=str,\n",
      "\u001b[2m\u001b[36m(pid=15615)\u001b[0m /home/ec2-user/.local/lib/python3.6/site-packages/ray/workers/default_worker.py:58: RuntimeWarning: invalid value encountered in true_divide\n",
      "\u001b[2m\u001b[36m(pid=15615)\u001b[0m   type=str,\n"
     ]
    },
    {
     "name": "stdout",
     "output_type": "stream",
     "text": [
      "\u001b[2m\u001b[36m(pid=15615)\u001b[0m Loading Random Controllers E104.pth\n",
      "\u001b[2m\u001b[36m(pid=15619)\u001b[0m Loading Random Controllers E120.pth\n"
     ]
    },
    {
     "name": "stderr",
     "output_type": "stream",
     "text": [
      "\u001b[2m\u001b[36m(pid=15619)\u001b[0m /home/ec2-user/.local/lib/python3.6/site-packages/ray/workers/default_worker.py:58: RuntimeWarning: invalid value encountered in true_divide\n",
      "\u001b[2m\u001b[36m(pid=15619)\u001b[0m   type=str,\n"
     ]
    },
    {
     "name": "stdout",
     "output_type": "stream",
     "text": [
      "\u001b[2m\u001b[36m(pid=15612)\u001b[0m Loading Random Controllers E208.pth\n"
     ]
    },
    {
     "name": "stderr",
     "output_type": "stream",
     "text": [
      "\u001b[2m\u001b[36m(pid=15612)\u001b[0m /home/ec2-user/.local/lib/python3.6/site-packages/ray/workers/default_worker.py:58: RuntimeWarning: invalid value encountered in true_divide\n",
      "\u001b[2m\u001b[36m(pid=15612)\u001b[0m   type=str,\n"
     ]
    },
    {
     "name": "stdout",
     "output_type": "stream",
     "text": [
      "\u001b[2m\u001b[36m(pid=15618)\u001b[0m Loading Random Controllers E40.pth\n"
     ]
    },
    {
     "name": "stderr",
     "output_type": "stream",
     "text": [
      "\u001b[2m\u001b[36m(pid=15618)\u001b[0m /home/ec2-user/.local/lib/python3.6/site-packages/ray/workers/default_worker.py:58: RuntimeWarning: invalid value encountered in true_divide\n",
      "\u001b[2m\u001b[36m(pid=15618)\u001b[0m   type=str,\n",
      "\u001b[2m\u001b[36m(pid=15617)\u001b[0m /home/ec2-user/.local/lib/python3.6/site-packages/ray/workers/default_worker.py:58: RuntimeWarning: invalid value encountered in true_divide\n",
      "\u001b[2m\u001b[36m(pid=15617)\u001b[0m   type=str,\n"
     ]
    },
    {
     "name": "stdout",
     "output_type": "stream",
     "text": [
      "\u001b[2m\u001b[36m(pid=15617)\u001b[0m Loading Random Controllers E24.pth\n",
      "\u001b[2m\u001b[36m(pid=15621)\u001b[0m Loading Random Controllers E112.pth\n"
     ]
    },
    {
     "name": "stderr",
     "output_type": "stream",
     "text": [
      "\u001b[2m\u001b[36m(pid=15621)\u001b[0m /home/ec2-user/.local/lib/python3.6/site-packages/ray/workers/default_worker.py:58: RuntimeWarning: invalid value encountered in true_divide\n",
      "\u001b[2m\u001b[36m(pid=15621)\u001b[0m   type=str,\n"
     ]
    },
    {
     "name": "stdout",
     "output_type": "stream",
     "text": [
      "\u001b[2m\u001b[36m(pid=15622)\u001b[0m Loading Random Controllers E48.pth\n"
     ]
    },
    {
     "name": "stderr",
     "output_type": "stream",
     "text": [
      "\u001b[2m\u001b[36m(pid=15622)\u001b[0m /home/ec2-user/.local/lib/python3.6/site-packages/ray/workers/default_worker.py:58: RuntimeWarning: invalid value encountered in true_divide\n",
      "\u001b[2m\u001b[36m(pid=15622)\u001b[0m   type=str,\n"
     ]
    },
    {
     "name": "stdout",
     "output_type": "stream",
     "text": [
      "\u001b[2m\u001b[36m(pid=15625)\u001b[0m Loading Random Controllers E64.pth\n"
     ]
    },
    {
     "name": "stderr",
     "output_type": "stream",
     "text": [
      "\u001b[2m\u001b[36m(pid=15625)\u001b[0m /home/ec2-user/.local/lib/python3.6/site-packages/ray/workers/default_worker.py:58: RuntimeWarning: invalid value encountered in true_divide\n",
      "\u001b[2m\u001b[36m(pid=15625)\u001b[0m   type=str,\n"
     ]
    },
    {
     "name": "stdout",
     "output_type": "stream",
     "text": [
      "\u001b[2m\u001b[36m(pid=15614)\u001b[0m Loading Random Controllers E104.pth\n"
     ]
    },
    {
     "name": "stderr",
     "output_type": "stream",
     "text": [
      "\u001b[2m\u001b[36m(pid=15614)\u001b[0m /home/ec2-user/.local/lib/python3.6/site-packages/ray/workers/default_worker.py:58: RuntimeWarning: invalid value encountered in true_divide\n",
      "\u001b[2m\u001b[36m(pid=15614)\u001b[0m   type=str,\n"
     ]
    },
    {
     "name": "stdout",
     "output_type": "stream",
     "text": [
      "\u001b[2m\u001b[36m(pid=15611)\u001b[0m Loading Random Controllers E56.pth\n"
     ]
    },
    {
     "name": "stderr",
     "output_type": "stream",
     "text": [
      "\u001b[2m\u001b[36m(pid=15611)\u001b[0m /home/ec2-user/.local/lib/python3.6/site-packages/ray/workers/default_worker.py:58: RuntimeWarning: invalid value encountered in true_divide\n",
      "\u001b[2m\u001b[36m(pid=15611)\u001b[0m   type=str,\n"
     ]
    },
    {
     "name": "stdout",
     "output_type": "stream",
     "text": [
      "\u001b[2m\u001b[36m(pid=15623)\u001b[0m Loading Random Controllers E8.pth\n"
     ]
    },
    {
     "name": "stderr",
     "output_type": "stream",
     "text": [
      "\u001b[2m\u001b[36m(pid=15623)\u001b[0m /home/ec2-user/.local/lib/python3.6/site-packages/ray/workers/default_worker.py:58: RuntimeWarning: invalid value encountered in true_divide\n",
      "\u001b[2m\u001b[36m(pid=15623)\u001b[0m   type=str,\n"
     ]
    },
    {
     "name": "stdout",
     "output_type": "stream",
     "text": [
      "\u001b[2m\u001b[36m(pid=15610)\u001b[0m Loading Random Controllers E136.pth\n"
     ]
    },
    {
     "name": "stderr",
     "output_type": "stream",
     "text": [
      "\u001b[2m\u001b[36m(pid=15610)\u001b[0m /home/ec2-user/.local/lib/python3.6/site-packages/ray/workers/default_worker.py:58: RuntimeWarning: invalid value encountered in true_divide\n",
      "\u001b[2m\u001b[36m(pid=15610)\u001b[0m   type=str,\n"
     ]
    },
    {
     "name": "stdout",
     "output_type": "stream",
     "text": [
      "\u001b[2m\u001b[36m(pid=15613)\u001b[0m Loading Random Controllers E184.pth\n"
     ]
    },
    {
     "name": "stderr",
     "output_type": "stream",
     "text": [
      "\u001b[2m\u001b[36m(pid=15613)\u001b[0m /home/ec2-user/.local/lib/python3.6/site-packages/ray/workers/default_worker.py:58: RuntimeWarning: invalid value encountered in true_divide\n",
      "\u001b[2m\u001b[36m(pid=15613)\u001b[0m   type=str,\n"
     ]
    },
    {
     "name": "stdout",
     "output_type": "stream",
     "text": [
      "\u001b[2m\u001b[36m(pid=15624)\u001b[0m Loading Random Controllers E200.pth\n"
     ]
    },
    {
     "name": "stderr",
     "output_type": "stream",
     "text": [
      "\u001b[2m\u001b[36m(pid=15624)\u001b[0m /home/ec2-user/.local/lib/python3.6/site-packages/ray/workers/default_worker.py:58: RuntimeWarning: invalid value encountered in true_divide\n",
      "\u001b[2m\u001b[36m(pid=15624)\u001b[0m   type=str,\n"
     ]
    },
    {
     "name": "stdout",
     "output_type": "stream",
     "text": [
      "\u001b[2m\u001b[36m(pid=15617)\u001b[0m Game 502 White Loss\n",
      "\u001b[2m\u001b[36m(pid=15613)\u001b[0m Game 510 White Won\n",
      "\u001b[2m\u001b[36m(pid=15622)\u001b[0m Game 504 Draw\n",
      "\u001b[2m\u001b[36m(pid=15622)\u001b[0m WARNING DELETING EXPERIENCES\n",
      "\u001b[2m\u001b[36m(pid=15616)\u001b[0m Game 496 Draw\n",
      "\u001b[2m\u001b[36m(pid=15616)\u001b[0m WARNING DELETING EXPERIENCES\n",
      "\u001b[2m\u001b[36m(pid=15615)\u001b[0m Game 498 Draw\n",
      "\u001b[2m\u001b[36m(pid=15615)\u001b[0m WARNING DELETING EXPERIENCES\n",
      "\u001b[2m\u001b[36m(pid=15610)\u001b[0m Game 509 Draw\n",
      "\u001b[2m\u001b[36m(pid=15610)\u001b[0m WARNING DELETING EXPERIENCES\n",
      "\u001b[2m\u001b[36m(pid=15625)\u001b[0m Game 505 Draw\n",
      "\u001b[2m\u001b[36m(pid=15625)\u001b[0m WARNING DELETING EXPERIENCES\n",
      "\u001b[2m\u001b[36m(pid=15618)\u001b[0m Game 501 Draw\n",
      "\u001b[2m\u001b[36m(pid=15618)\u001b[0m WARNING DELETING EXPERIENCES\n",
      "\u001b[2m\u001b[36m(pid=15621)\u001b[0m Game 503 Draw\n",
      "\u001b[2m\u001b[36m(pid=15621)\u001b[0m WARNING DELETING EXPERIENCES\n",
      "\u001b[2m\u001b[36m(pid=15623)\u001b[0m Game 508 Draw\n",
      "\u001b[2m\u001b[36m(pid=15623)\u001b[0m WARNING DELETING EXPERIENCES\n",
      "\u001b[2m\u001b[36m(pid=15619)\u001b[0m Game 499 Draw\n",
      "\u001b[2m\u001b[36m(pid=15619)\u001b[0m WARNING DELETING EXPERIENCES\n",
      "\u001b[2m\u001b[36m(pid=15612)\u001b[0m Game 500 Draw\n",
      "\u001b[2m\u001b[36m(pid=15612)\u001b[0m WARNING DELETING EXPERIENCES\n",
      "\u001b[2m\u001b[36m(pid=15614)\u001b[0m Game 506 Draw\n",
      "\u001b[2m\u001b[36m(pid=15614)\u001b[0m WARNING DELETING EXPERIENCES\n",
      "\u001b[2m\u001b[36m(pid=15611)\u001b[0m Game 507 Draw\n",
      "\u001b[2m\u001b[36m(pid=15611)\u001b[0m WARNING DELETING EXPERIENCES\n",
      "\u001b[2m\u001b[36m(pid=15624)\u001b[0m Game 511 Draw\n",
      "\u001b[2m\u001b[36m(pid=15624)\u001b[0m WARNING DELETING EXPERIENCES\n",
      "\u001b[2m\u001b[36m(pid=15620)\u001b[0m Game 497 Draw\n",
      "\u001b[2m\u001b[36m(pid=15620)\u001b[0m WARNING DELETING EXPERIENCES\n",
      "ACTOR LOSS 6126.09765625 | CRITIC LOSS 5.1745195388793945\n",
      "ACTOR LOSS 6079.2529296875 | CRITIC LOSS 15.540565490722656\n",
      "ACTOR LOSS 6029.83349609375 | CRITIC LOSS 17.4920597076416\n",
      "SAVING\n",
      "ACTOR LOSS 6094.1787109375 | CRITIC LOSS 17.5231990814209\n",
      "ACTOR LOSS 5968.00537109375 | CRITIC LOSS 5.968245506286621\n",
      "ACTOR LOSS 6128.283203125 | CRITIC LOSS 8.27409553527832\n",
      "ACTOR LOSS 6015.3876953125 | CRITIC LOSS 5.840522766113281\n",
      "ACTOR LOSS 6129.8564453125 | CRITIC LOSS 3.7255725860595703\n",
      "ACTOR LOSS 4061.639404296875 | CRITIC LOSS 6.297608375549316\n",
      "ACTOR LOSS 6136.1435546875 | CRITIC LOSS 9.514445304870605\n"
     ]
    },
    {
     "name": "stderr",
     "output_type": "stream",
     "text": [
      "\u001b[2m\u001b[36m(pid=15620)\u001b[0m /home/ec2-user/.local/lib/python3.6/site-packages/ray/workers/default_worker.py:58: RuntimeWarning: invalid value encountered in true_divide\n",
      "\u001b[2m\u001b[36m(pid=15620)\u001b[0m   type=str,\n",
      "\u001b[2m\u001b[36m(pid=15624)\u001b[0m /home/ec2-user/.local/lib/python3.6/site-packages/ray/workers/default_worker.py:58: RuntimeWarning: invalid value encountered in true_divide\n",
      "\u001b[2m\u001b[36m(pid=15624)\u001b[0m   type=str,\n"
     ]
    },
    {
     "name": "stdout",
     "output_type": "stream",
     "text": [
      "\u001b[2m\u001b[36m(pid=15620)\u001b[0m Loading Random Controllers E24.pth\n",
      "\u001b[2m\u001b[36m(pid=15624)\u001b[0m Loading Random Controllers E248.pth\n",
      "\u001b[2m\u001b[36m(pid=15611)\u001b[0m Loading Random Controllers E200.pth\n"
     ]
    },
    {
     "name": "stderr",
     "output_type": "stream",
     "text": [
      "\u001b[2m\u001b[36m(pid=15611)\u001b[0m /home/ec2-user/.local/lib/python3.6/site-packages/ray/workers/default_worker.py:58: RuntimeWarning: invalid value encountered in true_divide\n",
      "\u001b[2m\u001b[36m(pid=15611)\u001b[0m   type=str,\n"
     ]
    },
    {
     "name": "stdout",
     "output_type": "stream",
     "text": [
      "\u001b[2m\u001b[36m(pid=15614)\u001b[0m Loading Random Controllers E112.pth\n"
     ]
    },
    {
     "name": "stderr",
     "output_type": "stream",
     "text": [
      "\u001b[2m\u001b[36m(pid=15614)\u001b[0m /home/ec2-user/.local/lib/python3.6/site-packages/ray/workers/default_worker.py:58: RuntimeWarning: invalid value encountered in true_divide\n",
      "\u001b[2m\u001b[36m(pid=15614)\u001b[0m   type=str,\n"
     ]
    },
    {
     "name": "stdout",
     "output_type": "stream",
     "text": [
      "\u001b[2m\u001b[36m(pid=15612)\u001b[0m Loading Random Controllers E128.pth\n"
     ]
    },
    {
     "name": "stderr",
     "output_type": "stream",
     "text": [
      "\u001b[2m\u001b[36m(pid=15612)\u001b[0m /home/ec2-user/.local/lib/python3.6/site-packages/ray/workers/default_worker.py:58: RuntimeWarning: invalid value encountered in true_divide\n",
      "\u001b[2m\u001b[36m(pid=15612)\u001b[0m   type=str,\n",
      "\u001b[2m\u001b[36m(pid=15619)\u001b[0m /home/ec2-user/.local/lib/python3.6/site-packages/ray/workers/default_worker.py:58: RuntimeWarning: invalid value encountered in true_divide\n",
      "\u001b[2m\u001b[36m(pid=15619)\u001b[0m   type=str,\n"
     ]
    },
    {
     "name": "stdout",
     "output_type": "stream",
     "text": [
      "\u001b[2m\u001b[36m(pid=15619)\u001b[0m Loading Random Controllers E280.pth\n",
      "\u001b[2m\u001b[36m(pid=15621)\u001b[0m Loading Random Controllers E184.pth\n"
     ]
    },
    {
     "name": "stderr",
     "output_type": "stream",
     "text": [
      "\u001b[2m\u001b[36m(pid=15621)\u001b[0m /home/ec2-user/.local/lib/python3.6/site-packages/ray/workers/default_worker.py:58: RuntimeWarning: invalid value encountered in true_divide\n",
      "\u001b[2m\u001b[36m(pid=15621)\u001b[0m   type=str,\n"
     ]
    },
    {
     "name": "stdout",
     "output_type": "stream",
     "text": [
      "\u001b[2m\u001b[36m(pid=15615)\u001b[0m Loading Random Controllers E96.pth\n"
     ]
    },
    {
     "name": "stderr",
     "output_type": "stream",
     "text": [
      "\u001b[2m\u001b[36m(pid=15615)\u001b[0m /home/ec2-user/.local/lib/python3.6/site-packages/ray/workers/default_worker.py:58: RuntimeWarning: invalid value encountered in true_divide\n",
      "\u001b[2m\u001b[36m(pid=15615)\u001b[0m   type=str,\n"
     ]
    },
    {
     "name": "stdout",
     "output_type": "stream",
     "text": [
      "\u001b[2m\u001b[36m(pid=15616)\u001b[0m Loading Random Controllers E288.pth\n"
     ]
    },
    {
     "name": "stderr",
     "output_type": "stream",
     "text": [
      "\u001b[2m\u001b[36m(pid=15616)\u001b[0m /home/ec2-user/.local/lib/python3.6/site-packages/ray/workers/default_worker.py:58: RuntimeWarning: invalid value encountered in true_divide\n",
      "\u001b[2m\u001b[36m(pid=15616)\u001b[0m   type=str,\n"
     ]
    },
    {
     "name": "stdout",
     "output_type": "stream",
     "text": [
      "\u001b[2m\u001b[36m(pid=15625)\u001b[0m Loading Random Controllers E312.pth\n"
     ]
    },
    {
     "name": "stderr",
     "output_type": "stream",
     "text": [
      "\u001b[2m\u001b[36m(pid=15625)\u001b[0m /home/ec2-user/.local/lib/python3.6/site-packages/ray/workers/default_worker.py:58: RuntimeWarning: invalid value encountered in true_divide\n",
      "\u001b[2m\u001b[36m(pid=15625)\u001b[0m   type=str,\n"
     ]
    },
    {
     "name": "stdout",
     "output_type": "stream",
     "text": [
      "\u001b[2m\u001b[36m(pid=15622)\u001b[0m Loading Random Controllers E24.pth\n"
     ]
    },
    {
     "name": "stderr",
     "output_type": "stream",
     "text": [
      "\u001b[2m\u001b[36m(pid=15622)\u001b[0m /home/ec2-user/.local/lib/python3.6/site-packages/ray/workers/default_worker.py:58: RuntimeWarning: invalid value encountered in true_divide\n",
      "\u001b[2m\u001b[36m(pid=15622)\u001b[0m   type=str,\n"
     ]
    },
    {
     "name": "stdout",
     "output_type": "stream",
     "text": [
      "\u001b[2m\u001b[36m(pid=15623)\u001b[0m Loading Random Controllers E32.pth\n"
     ]
    },
    {
     "name": "stderr",
     "output_type": "stream",
     "text": [
      "\u001b[2m\u001b[36m(pid=15623)\u001b[0m /home/ec2-user/.local/lib/python3.6/site-packages/ray/workers/default_worker.py:58: RuntimeWarning: invalid value encountered in true_divide\n",
      "\u001b[2m\u001b[36m(pid=15623)\u001b[0m   type=str,\n"
     ]
    },
    {
     "name": "stdout",
     "output_type": "stream",
     "text": [
      "\u001b[2m\u001b[36m(pid=15610)\u001b[0m Loading Random Controllers E152.pth\n"
     ]
    },
    {
     "name": "stderr",
     "output_type": "stream",
     "text": [
      "\u001b[2m\u001b[36m(pid=15610)\u001b[0m /home/ec2-user/.local/lib/python3.6/site-packages/ray/workers/default_worker.py:58: RuntimeWarning: invalid value encountered in true_divide\n",
      "\u001b[2m\u001b[36m(pid=15610)\u001b[0m   type=str,\n"
     ]
    },
    {
     "name": "stdout",
     "output_type": "stream",
     "text": [
      "\u001b[2m\u001b[36m(pid=15613)\u001b[0m Loading Random Controllers E120.pth\n"
     ]
    },
    {
     "name": "stderr",
     "output_type": "stream",
     "text": [
      "\u001b[2m\u001b[36m(pid=15613)\u001b[0m /home/ec2-user/.local/lib/python3.6/site-packages/ray/workers/default_worker.py:58: RuntimeWarning: invalid value encountered in true_divide\n",
      "\u001b[2m\u001b[36m(pid=15613)\u001b[0m   type=str,\n"
     ]
    },
    {
     "name": "stdout",
     "output_type": "stream",
     "text": [
      "\u001b[2m\u001b[36m(pid=15618)\u001b[0m Loading Random Controllers E232.pth\n"
     ]
    },
    {
     "name": "stderr",
     "output_type": "stream",
     "text": [
      "\u001b[2m\u001b[36m(pid=15618)\u001b[0m /home/ec2-user/.local/lib/python3.6/site-packages/ray/workers/default_worker.py:58: RuntimeWarning: invalid value encountered in true_divide\n",
      "\u001b[2m\u001b[36m(pid=15618)\u001b[0m   type=str,\n"
     ]
    },
    {
     "name": "stdout",
     "output_type": "stream",
     "text": [
      "\u001b[2m\u001b[36m(pid=15617)\u001b[0m Loading Random Controllers E184.pth\n"
     ]
    },
    {
     "name": "stderr",
     "output_type": "stream",
     "text": [
      "\u001b[2m\u001b[36m(pid=15617)\u001b[0m /home/ec2-user/.local/lib/python3.6/site-packages/ray/workers/default_worker.py:58: RuntimeWarning: invalid value encountered in true_divide\n",
      "\u001b[2m\u001b[36m(pid=15617)\u001b[0m   type=str,\n"
     ]
    },
    {
     "name": "stdout",
     "output_type": "stream",
     "text": [
      "\u001b[2m\u001b[36m(pid=15620)\u001b[0m Game 512 White Loss\n",
      "\u001b[2m\u001b[36m(pid=15619)\u001b[0m Game 517 Draw\n",
      "\u001b[2m\u001b[36m(pid=15619)\u001b[0m WARNING DELETING EXPERIENCES\n",
      "\u001b[2m\u001b[36m(pid=15625)\u001b[0m Game 521 Draw\n",
      "\u001b[2m\u001b[36m(pid=15625)\u001b[0m WARNING DELETING EXPERIENCES\n",
      "\u001b[2m\u001b[36m(pid=15624)\u001b[0m Game 513 Draw\n",
      "\u001b[2m\u001b[36m(pid=15624)\u001b[0m WARNING DELETING EXPERIENCES\n",
      "\u001b[2m\u001b[36m(pid=15617)\u001b[0m Game 527 Draw\n",
      "\u001b[2m\u001b[36m(pid=15617)\u001b[0m WARNING DELETING EXPERIENCES\n",
      "\u001b[2m\u001b[36m(pid=15616)\u001b[0m Game 520 Draw\n",
      "\u001b[2m\u001b[36m(pid=15616)\u001b[0m WARNING DELETING EXPERIENCES\n",
      "\u001b[2m\u001b[36m(pid=15610)\u001b[0m Game 524 Draw\n",
      "\u001b[2m\u001b[36m(pid=15610)\u001b[0m WARNING DELETING EXPERIENCES\n",
      "\u001b[2m\u001b[36m(pid=15622)\u001b[0m Game 522 Draw\n",
      "\u001b[2m\u001b[36m(pid=15622)\u001b[0m WARNING DELETING EXPERIENCES\n",
      "\u001b[2m\u001b[36m(pid=15621)\u001b[0m Game 518 Draw\n",
      "\u001b[2m\u001b[36m(pid=15621)\u001b[0m WARNING DELETING EXPERIENCES\n",
      "\u001b[2m\u001b[36m(pid=15612)\u001b[0m Game 516 Draw\n",
      "\u001b[2m\u001b[36m(pid=15612)\u001b[0m WARNING DELETING EXPERIENCES\n",
      "\u001b[2m\u001b[36m(pid=15614)\u001b[0m Game 515 Draw\n",
      "\u001b[2m\u001b[36m(pid=15614)\u001b[0m WARNING DELETING EXPERIENCES\n",
      "\u001b[2m\u001b[36m(pid=15613)\u001b[0m Game 525 Draw\n",
      "\u001b[2m\u001b[36m(pid=15613)\u001b[0m WARNING DELETING EXPERIENCES\n",
      "\u001b[2m\u001b[36m(pid=15618)\u001b[0m Game 526 Draw\n",
      "\u001b[2m\u001b[36m(pid=15618)\u001b[0m WARNING DELETING EXPERIENCES\n",
      "\u001b[2m\u001b[36m(pid=15611)\u001b[0m Game 514 Draw\n",
      "\u001b[2m\u001b[36m(pid=15611)\u001b[0m WARNING DELETING EXPERIENCES\n",
      "\u001b[2m\u001b[36m(pid=15615)\u001b[0m Game 519 Draw\n",
      "\u001b[2m\u001b[36m(pid=15615)\u001b[0m WARNING DELETING EXPERIENCES\n",
      "\u001b[2m\u001b[36m(pid=15623)\u001b[0m Game 523 Draw\n",
      "\u001b[2m\u001b[36m(pid=15623)\u001b[0m WARNING DELETING EXPERIENCES\n",
      "ACTOR LOSS 6067.0048828125 | CRITIC LOSS 3.901519775390625\n",
      "SAVING\n",
      "ACTOR LOSS 6059.32177734375 | CRITIC LOSS 4.534823894500732\n",
      "ACTOR LOSS 6132.66015625 | CRITIC LOSS 4.684924125671387\n",
      "ACTOR LOSS 6082.07177734375 | CRITIC LOSS 7.184693336486816\n",
      "ACTOR LOSS 6097.34765625 | CRITIC LOSS 10.40760612487793\n",
      "ACTOR LOSS 5787.65673828125 | CRITIC LOSS 14.262361526489258\n",
      "ACTOR LOSS 5902.6748046875 | CRITIC LOSS 3.2928366661071777\n",
      "ACTOR LOSS 5985.26806640625 | CRITIC LOSS 7.061453342437744\n",
      "ACTOR LOSS 5669.25244140625 | CRITIC LOSS 9.316986083984375\n",
      "SAVING\n",
      "ACTOR LOSS 6082.46533203125 | CRITIC LOSS 5.498348236083984\n",
      "\u001b[2m\u001b[36m(pid=15615)\u001b[0m Loading Random Controllers E280.pth\n"
     ]
    },
    {
     "name": "stderr",
     "output_type": "stream",
     "text": [
      "\u001b[2m\u001b[36m(pid=15615)\u001b[0m /home/ec2-user/.local/lib/python3.6/site-packages/ray/workers/default_worker.py:58: RuntimeWarning: invalid value encountered in true_divide\n",
      "\u001b[2m\u001b[36m(pid=15615)\u001b[0m   type=str,\n"
     ]
    },
    {
     "name": "stdout",
     "output_type": "stream",
     "text": [
      "\u001b[2m\u001b[36m(pid=15611)\u001b[0m Loading Random Controllers E208.pth\n"
     ]
    },
    {
     "name": "stderr",
     "output_type": "stream",
     "text": [
      "\u001b[2m\u001b[36m(pid=15611)\u001b[0m /home/ec2-user/.local/lib/python3.6/site-packages/ray/workers/default_worker.py:58: RuntimeWarning: invalid value encountered in true_divide\n",
      "\u001b[2m\u001b[36m(pid=15611)\u001b[0m   type=str,\n"
     ]
    },
    {
     "name": "stdout",
     "output_type": "stream",
     "text": [
      "\u001b[2m\u001b[36m(pid=15614)\u001b[0m Loading Random Controllers E112.pth\n"
     ]
    },
    {
     "name": "stderr",
     "output_type": "stream",
     "text": [
      "\u001b[2m\u001b[36m(pid=15614)\u001b[0m /home/ec2-user/.local/lib/python3.6/site-packages/ray/workers/default_worker.py:58: RuntimeWarning: invalid value encountered in true_divide\n",
      "\u001b[2m\u001b[36m(pid=15614)\u001b[0m   type=str,\n"
     ]
    },
    {
     "name": "stdout",
     "output_type": "stream",
     "text": [
      "\u001b[2m\u001b[36m(pid=15612)\u001b[0m Loading Random Controllers E88.pth\n"
     ]
    },
    {
     "name": "stderr",
     "output_type": "stream",
     "text": [
      "\u001b[2m\u001b[36m(pid=15612)\u001b[0m /home/ec2-user/.local/lib/python3.6/site-packages/ray/workers/default_worker.py:58: RuntimeWarning: invalid value encountered in true_divide\n",
      "\u001b[2m\u001b[36m(pid=15612)\u001b[0m   type=str,\n"
     ]
    },
    {
     "name": "stdout",
     "output_type": "stream",
     "text": [
      "\u001b[2m\u001b[36m(pid=15621)\u001b[0m Loading Random Controllers E232.pth\n"
     ]
    },
    {
     "name": "stderr",
     "output_type": "stream",
     "text": [
      "\u001b[2m\u001b[36m(pid=15621)\u001b[0m /home/ec2-user/.local/lib/python3.6/site-packages/ray/workers/default_worker.py:58: RuntimeWarning: invalid value encountered in true_divide\n",
      "\u001b[2m\u001b[36m(pid=15621)\u001b[0m   type=str,\n"
     ]
    },
    {
     "name": "stdout",
     "output_type": "stream",
     "text": [
      "\u001b[2m\u001b[36m(pid=15623)\u001b[0m Loading Random Controllers E240.pth\n"
     ]
    },
    {
     "name": "stderr",
     "output_type": "stream",
     "text": [
      "\u001b[2m\u001b[36m(pid=15623)\u001b[0m /home/ec2-user/.local/lib/python3.6/site-packages/ray/workers/default_worker.py:58: RuntimeWarning: invalid value encountered in true_divide\n",
      "\u001b[2m\u001b[36m(pid=15623)\u001b[0m   type=str,\n"
     ]
    },
    {
     "name": "stdout",
     "output_type": "stream",
     "text": [
      "\u001b[2m\u001b[36m(pid=15613)\u001b[0m Loading Random Controllers E64.pth\n"
     ]
    },
    {
     "name": "stderr",
     "output_type": "stream",
     "text": [
      "\u001b[2m\u001b[36m(pid=15613)\u001b[0m /home/ec2-user/.local/lib/python3.6/site-packages/ray/workers/default_worker.py:58: RuntimeWarning: invalid value encountered in true_divide\n",
      "\u001b[2m\u001b[36m(pid=15613)\u001b[0m   type=str,\n"
     ]
    },
    {
     "name": "stdout",
     "output_type": "stream",
     "text": [
      "\u001b[2m\u001b[36m(pid=15610)\u001b[0m Loading Random Controllers E272.pth\n"
     ]
    },
    {
     "name": "stderr",
     "output_type": "stream",
     "text": [
      "\u001b[2m\u001b[36m(pid=15610)\u001b[0m /home/ec2-user/.local/lib/python3.6/site-packages/ray/workers/default_worker.py:58: RuntimeWarning: invalid value encountered in true_divide\n",
      "\u001b[2m\u001b[36m(pid=15610)\u001b[0m   type=str,\n"
     ]
    },
    {
     "name": "stdout",
     "output_type": "stream",
     "text": [
      "\u001b[2m\u001b[36m(pid=15616)\u001b[0m Loading Random Controllers E200.pth\n"
     ]
    },
    {
     "name": "stderr",
     "output_type": "stream",
     "text": [
      "\u001b[2m\u001b[36m(pid=15616)\u001b[0m /home/ec2-user/.local/lib/python3.6/site-packages/ray/workers/default_worker.py:58: RuntimeWarning: invalid value encountered in true_divide\n",
      "\u001b[2m\u001b[36m(pid=15616)\u001b[0m   type=str,\n"
     ]
    },
    {
     "name": "stdout",
     "output_type": "stream",
     "text": [
      "\u001b[2m\u001b[36m(pid=15618)\u001b[0m Loading Random Controllers E208.pth\n"
     ]
    },
    {
     "name": "stderr",
     "output_type": "stream",
     "text": [
      "\u001b[2m\u001b[36m(pid=15618)\u001b[0m /home/ec2-user/.local/lib/python3.6/site-packages/ray/workers/default_worker.py:58: RuntimeWarning: invalid value encountered in true_divide\n",
      "\u001b[2m\u001b[36m(pid=15618)\u001b[0m   type=str,\n"
     ]
    },
    {
     "name": "stdout",
     "output_type": "stream",
     "text": [
      "\u001b[2m\u001b[36m(pid=15617)\u001b[0m Loading Random Controllers E144.pth\n"
     ]
    },
    {
     "name": "stderr",
     "output_type": "stream",
     "text": [
      "\u001b[2m\u001b[36m(pid=15617)\u001b[0m /home/ec2-user/.local/lib/python3.6/site-packages/ray/workers/default_worker.py:58: RuntimeWarning: invalid value encountered in true_divide\n",
      "\u001b[2m\u001b[36m(pid=15617)\u001b[0m   type=str,\n"
     ]
    },
    {
     "name": "stdout",
     "output_type": "stream",
     "text": [
      "\u001b[2m\u001b[36m(pid=15624)\u001b[0m Loading Random Controllers E88.pth\n"
     ]
    },
    {
     "name": "stderr",
     "output_type": "stream",
     "text": [
      "\u001b[2m\u001b[36m(pid=15624)\u001b[0m /home/ec2-user/.local/lib/python3.6/site-packages/ray/workers/default_worker.py:58: RuntimeWarning: invalid value encountered in true_divide\n",
      "\u001b[2m\u001b[36m(pid=15624)\u001b[0m   type=str,\n"
     ]
    },
    {
     "name": "stdout",
     "output_type": "stream",
     "text": [
      "\u001b[2m\u001b[36m(pid=15622)\u001b[0m Loading Random Controllers E200.pth\n"
     ]
    },
    {
     "name": "stderr",
     "output_type": "stream",
     "text": [
      "\u001b[2m\u001b[36m(pid=15622)\u001b[0m /home/ec2-user/.local/lib/python3.6/site-packages/ray/workers/default_worker.py:58: RuntimeWarning: invalid value encountered in true_divide\n",
      "\u001b[2m\u001b[36m(pid=15622)\u001b[0m   type=str,\n"
     ]
    },
    {
     "name": "stdout",
     "output_type": "stream",
     "text": [
      "\u001b[2m\u001b[36m(pid=15625)\u001b[0m Loading Random Controllers E128.pth\n"
     ]
    },
    {
     "name": "stderr",
     "output_type": "stream",
     "text": [
      "\u001b[2m\u001b[36m(pid=15625)\u001b[0m /home/ec2-user/.local/lib/python3.6/site-packages/ray/workers/default_worker.py:58: RuntimeWarning: invalid value encountered in true_divide\n",
      "\u001b[2m\u001b[36m(pid=15625)\u001b[0m   type=str,\n"
     ]
    },
    {
     "name": "stdout",
     "output_type": "stream",
     "text": [
      "\u001b[2m\u001b[36m(pid=15619)\u001b[0m Loading Random Controllers E152.pth\n"
     ]
    },
    {
     "name": "stderr",
     "output_type": "stream",
     "text": [
      "\u001b[2m\u001b[36m(pid=15619)\u001b[0m /home/ec2-user/.local/lib/python3.6/site-packages/ray/workers/default_worker.py:58: RuntimeWarning: invalid value encountered in true_divide\n",
      "\u001b[2m\u001b[36m(pid=15619)\u001b[0m   type=str,\n"
     ]
    },
    {
     "name": "stdout",
     "output_type": "stream",
     "text": [
      "\u001b[2m\u001b[36m(pid=15620)\u001b[0m Loading Random Controllers E304.pth\n"
     ]
    },
    {
     "name": "stderr",
     "output_type": "stream",
     "text": [
      "\u001b[2m\u001b[36m(pid=15620)\u001b[0m /home/ec2-user/.local/lib/python3.6/site-packages/ray/workers/default_worker.py:58: RuntimeWarning: invalid value encountered in true_divide\n",
      "\u001b[2m\u001b[36m(pid=15620)\u001b[0m   type=str,\n"
     ]
    },
    {
     "name": "stdout",
     "output_type": "stream",
     "text": [
      "\u001b[2m\u001b[36m(pid=15618)\u001b[0m Game 537 White Loss\n",
      "\u001b[2m\u001b[36m(pid=15622)\u001b[0m Game 540 White Loss\n",
      "\u001b[2m\u001b[36m(pid=15620)\u001b[0m Game 543 White Won\n",
      "\u001b[2m\u001b[36m(pid=15620)\u001b[0m \n",
      "\u001b[2m\u001b[36m(pid=15625)\u001b[0m Game 541 White Won\n",
      "\u001b[2m\u001b[36m(pid=15614)\u001b[0m Game 530 Draw\n",
      "\u001b[2m\u001b[36m(pid=15614)\u001b[0m WARNING DELETING EXPERIENCES\n",
      "\u001b[2m\u001b[36m(pid=15624)\u001b[0m Game 539 Draw\n",
      "\u001b[2m\u001b[36m(pid=15624)\u001b[0m WARNING DELETING EXPERIENCES\n",
      "\u001b[2m\u001b[36m(pid=15621)\u001b[0m Game 532 Draw\n",
      "\u001b[2m\u001b[36m(pid=15621)\u001b[0m WARNING DELETING EXPERIENCES\n",
      "\u001b[2m\u001b[36m(pid=15617)\u001b[0m Game 538 Draw\n",
      "\u001b[2m\u001b[36m(pid=15617)\u001b[0m WARNING DELETING EXPERIENCES\n",
      "\u001b[2m\u001b[36m(pid=15619)\u001b[0m Game 542 Draw\n",
      "\u001b[2m\u001b[36m(pid=15619)\u001b[0m WARNING DELETING EXPERIENCES\n",
      "\u001b[2m\u001b[36m(pid=15613)\u001b[0m Game 534 Draw\n",
      "\u001b[2m\u001b[36m(pid=15613)\u001b[0m WARNING DELETING EXPERIENCES\n",
      "\u001b[2m\u001b[36m(pid=15612)\u001b[0m Game 531 Draw\n",
      "\u001b[2m\u001b[36m(pid=15612)\u001b[0m WARNING DELETING EXPERIENCES\n",
      "\u001b[2m\u001b[36m(pid=15615)\u001b[0m Game 528 Draw\n",
      "\u001b[2m\u001b[36m(pid=15615)\u001b[0m WARNING DELETING EXPERIENCES\n",
      "\u001b[2m\u001b[36m(pid=15610)\u001b[0m Game 535 Draw\n",
      "\u001b[2m\u001b[36m(pid=15610)\u001b[0m WARNING DELETING EXPERIENCES\n",
      "\u001b[2m\u001b[36m(pid=15623)\u001b[0m Game 533 Draw\n",
      "\u001b[2m\u001b[36m(pid=15623)\u001b[0m WARNING DELETING EXPERIENCES\n",
      "\u001b[2m\u001b[36m(pid=15611)\u001b[0m Game 529 Draw\n",
      "\u001b[2m\u001b[36m(pid=15611)\u001b[0m WARNING DELETING EXPERIENCES\n",
      "\u001b[2m\u001b[36m(pid=15616)\u001b[0m Game 536 Draw\n",
      "\u001b[2m\u001b[36m(pid=15616)\u001b[0m WARNING DELETING EXPERIENCES\n",
      "ACTOR LOSS 6040.9755859375 | CRITIC LOSS 12.38638687133789\n",
      "ACTOR LOSS 5920.451171875 | CRITIC LOSS 7.621138572692871\n",
      "ACTOR LOSS 6021.1884765625 | CRITIC LOSS 2.5271942615509033\n",
      "ACTOR LOSS 6114.64111328125 | CRITIC LOSS 12.080411911010742\n",
      "ACTOR LOSS 5299.52978515625 | CRITIC LOSS 6.3916120529174805\n",
      "ACTOR LOSS 6103.564453125 | CRITIC LOSS 16.56303596496582\n",
      "ACTOR LOSS 6083.75048828125 | CRITIC LOSS 7.062962532043457\n",
      "SAVING\n",
      "ACTOR LOSS 4761.31640625 | CRITIC LOSS 10.142719268798828\n",
      "ACTOR LOSS 5875.37109375 | CRITIC LOSS 5.414017677307129\n",
      "ACTOR LOSS 5515.3193359375 | CRITIC LOSS 5.403285026550293\n",
      "\u001b[2m\u001b[36m(pid=15616)\u001b[0m Loading Random Controllers E280.pth\n"
     ]
    },
    {
     "name": "stderr",
     "output_type": "stream",
     "text": [
      "\u001b[2m\u001b[36m(pid=15616)\u001b[0m /home/ec2-user/.local/lib/python3.6/site-packages/ray/workers/default_worker.py:58: RuntimeWarning: invalid value encountered in true_divide\n",
      "\u001b[2m\u001b[36m(pid=15616)\u001b[0m   type=str,\n"
     ]
    },
    {
     "name": "stdout",
     "output_type": "stream",
     "text": [
      "\u001b[2m\u001b[36m(pid=15615)\u001b[0m Loading Random Controllers E288.pth\n"
     ]
    },
    {
     "name": "stderr",
     "output_type": "stream",
     "text": [
      "\u001b[2m\u001b[36m(pid=15615)\u001b[0m /home/ec2-user/.local/lib/python3.6/site-packages/ray/workers/default_worker.py:58: RuntimeWarning: invalid value encountered in true_divide\n",
      "\u001b[2m\u001b[36m(pid=15615)\u001b[0m   type=str,\n"
     ]
    },
    {
     "name": "stdout",
     "output_type": "stream",
     "text": [
      "\u001b[2m\u001b[36m(pid=15612)\u001b[0m Loading Random Controllers E312.pth\n"
     ]
    },
    {
     "name": "stderr",
     "output_type": "stream",
     "text": [
      "\u001b[2m\u001b[36m(pid=15612)\u001b[0m /home/ec2-user/.local/lib/python3.6/site-packages/ray/workers/default_worker.py:58: RuntimeWarning: invalid value encountered in true_divide\n",
      "\u001b[2m\u001b[36m(pid=15612)\u001b[0m   type=str,\n"
     ]
    },
    {
     "name": "stdout",
     "output_type": "stream",
     "text": [
      "\u001b[2m\u001b[36m(pid=15623)\u001b[0m Loading Random Controllers E104.pth\n"
     ]
    },
    {
     "name": "stderr",
     "output_type": "stream",
     "text": [
      "\u001b[2m\u001b[36m(pid=15623)\u001b[0m /home/ec2-user/.local/lib/python3.6/site-packages/ray/workers/default_worker.py:58: RuntimeWarning: invalid value encountered in true_divide\n",
      "\u001b[2m\u001b[36m(pid=15623)\u001b[0m   type=str,\n"
     ]
    },
    {
     "name": "stdout",
     "output_type": "stream",
     "text": [
      "\u001b[2m\u001b[36m(pid=15610)\u001b[0m Loading Random Controllers E208.pth\n",
      "\u001b[2m\u001b[36m(pid=15613)\u001b[0m Loading Random Controllers E80.pth\n"
     ]
    },
    {
     "name": "stderr",
     "output_type": "stream",
     "text": [
      "\u001b[2m\u001b[36m(pid=15610)\u001b[0m /home/ec2-user/.local/lib/python3.6/site-packages/ray/workers/default_worker.py:58: RuntimeWarning: invalid value encountered in true_divide\n",
      "\u001b[2m\u001b[36m(pid=15610)\u001b[0m   type=str,\n",
      "\u001b[2m\u001b[36m(pid=15613)\u001b[0m /home/ec2-user/.local/lib/python3.6/site-packages/ray/workers/default_worker.py:58: RuntimeWarning: invalid value encountered in true_divide\n",
      "\u001b[2m\u001b[36m(pid=15613)\u001b[0m   type=str,\n"
     ]
    },
    {
     "name": "stdout",
     "output_type": "stream",
     "text": [
      "\u001b[2m\u001b[36m(pid=15619)\u001b[0m Loading Random Controllers E48.pth\n"
     ]
    },
    {
     "name": "stderr",
     "output_type": "stream",
     "text": [
      "\u001b[2m\u001b[36m(pid=15619)\u001b[0m /home/ec2-user/.local/lib/python3.6/site-packages/ray/workers/default_worker.py:58: RuntimeWarning: invalid value encountered in true_divide\n",
      "\u001b[2m\u001b[36m(pid=15619)\u001b[0m   type=str,\n"
     ]
    },
    {
     "name": "stdout",
     "output_type": "stream",
     "text": [
      "\u001b[2m\u001b[36m(pid=15621)\u001b[0m Loading Random Controllers E96.pth\n"
     ]
    },
    {
     "name": "stderr",
     "output_type": "stream",
     "text": [
      "\u001b[2m\u001b[36m(pid=15621)\u001b[0m /home/ec2-user/.local/lib/python3.6/site-packages/ray/workers/default_worker.py:58: RuntimeWarning: invalid value encountered in true_divide\n",
      "\u001b[2m\u001b[36m(pid=15621)\u001b[0m   type=str,\n"
     ]
    },
    {
     "name": "stdout",
     "output_type": "stream",
     "text": [
      "\u001b[2m\u001b[36m(pid=15624)\u001b[0m Loading Random Controllers E40.pth\n"
     ]
    },
    {
     "name": "stderr",
     "output_type": "stream",
     "text": [
      "\u001b[2m\u001b[36m(pid=15624)\u001b[0m /home/ec2-user/.local/lib/python3.6/site-packages/ray/workers/default_worker.py:58: RuntimeWarning: invalid value encountered in true_divide\n",
      "\u001b[2m\u001b[36m(pid=15624)\u001b[0m   type=str,\n"
     ]
    },
    {
     "name": "stdout",
     "output_type": "stream",
     "text": [
      "\u001b[2m\u001b[36m(pid=15611)\u001b[0m Loading Random Controllers E168.pth\n"
     ]
    },
    {
     "name": "stderr",
     "output_type": "stream",
     "text": [
      "\u001b[2m\u001b[36m(pid=15611)\u001b[0m /home/ec2-user/.local/lib/python3.6/site-packages/ray/workers/default_worker.py:58: RuntimeWarning: invalid value encountered in true_divide\n",
      "\u001b[2m\u001b[36m(pid=15611)\u001b[0m   type=str,\n",
      "\u001b[2m\u001b[36m(pid=15614)\u001b[0m /home/ec2-user/.local/lib/python3.6/site-packages/ray/workers/default_worker.py:58: RuntimeWarning: invalid value encountered in true_divide\n",
      "\u001b[2m\u001b[36m(pid=15614)\u001b[0m   type=str,\n"
     ]
    },
    {
     "name": "stdout",
     "output_type": "stream",
     "text": [
      "\u001b[2m\u001b[36m(pid=15614)\u001b[0m Loading Random Controllers E8.pth\n",
      "\u001b[2m\u001b[36m(pid=15620)\u001b[0m Loading Random Controllers E120.pth\n"
     ]
    },
    {
     "name": "stderr",
     "output_type": "stream",
     "text": [
      "\u001b[2m\u001b[36m(pid=15620)\u001b[0m /home/ec2-user/.local/lib/python3.6/site-packages/ray/workers/default_worker.py:58: RuntimeWarning: invalid value encountered in true_divide\n",
      "\u001b[2m\u001b[36m(pid=15620)\u001b[0m   type=str,\n"
     ]
    },
    {
     "name": "stdout",
     "output_type": "stream",
     "text": [
      "\u001b[2m\u001b[36m(pid=15625)\u001b[0m Loading Random Controllers E272.pth\n"
     ]
    },
    {
     "name": "stderr",
     "output_type": "stream",
     "text": [
      "\u001b[2m\u001b[36m(pid=15625)\u001b[0m /home/ec2-user/.local/lib/python3.6/site-packages/ray/workers/default_worker.py:58: RuntimeWarning: invalid value encountered in true_divide\n",
      "\u001b[2m\u001b[36m(pid=15625)\u001b[0m   type=str,\n"
     ]
    },
    {
     "name": "stdout",
     "output_type": "stream",
     "text": [
      "\u001b[2m\u001b[36m(pid=15622)\u001b[0m Loading Random Controllers E40.pth\n"
     ]
    },
    {
     "name": "stderr",
     "output_type": "stream",
     "text": [
      "\u001b[2m\u001b[36m(pid=15622)\u001b[0m /home/ec2-user/.local/lib/python3.6/site-packages/ray/workers/default_worker.py:58: RuntimeWarning: invalid value encountered in true_divide\n",
      "\u001b[2m\u001b[36m(pid=15622)\u001b[0m   type=str,\n"
     ]
    },
    {
     "name": "stdout",
     "output_type": "stream",
     "text": [
      "\u001b[2m\u001b[36m(pid=15617)\u001b[0m Loading Random Controllers E96.pth\n"
     ]
    },
    {
     "name": "stderr",
     "output_type": "stream",
     "text": [
      "\u001b[2m\u001b[36m(pid=15617)\u001b[0m /home/ec2-user/.local/lib/python3.6/site-packages/ray/workers/default_worker.py:58: RuntimeWarning: invalid value encountered in true_divide\n",
      "\u001b[2m\u001b[36m(pid=15617)\u001b[0m   type=str,\n"
     ]
    },
    {
     "name": "stdout",
     "output_type": "stream",
     "text": [
      "\u001b[2m\u001b[36m(pid=15618)\u001b[0m Loading Random Controllers E48.pth\n"
     ]
    },
    {
     "name": "stderr",
     "output_type": "stream",
     "text": [
      "\u001b[2m\u001b[36m(pid=15618)\u001b[0m /home/ec2-user/.local/lib/python3.6/site-packages/ray/workers/default_worker.py:58: RuntimeWarning: invalid value encountered in true_divide\n",
      "\u001b[2m\u001b[36m(pid=15618)\u001b[0m   type=str,\n"
     ]
    },
    {
     "name": "stdout",
     "output_type": "stream",
     "text": [
      "\u001b[2m\u001b[36m(pid=15617)\u001b[0m Game 558 White Loss\n",
      "\u001b[2m\u001b[36m(pid=15619)\u001b[0m Game 550 White Loss\n",
      "\u001b[2m\u001b[36m(pid=15620)\u001b[0m Game 555 Draw\n",
      "\u001b[2m\u001b[36m(pid=15620)\u001b[0m WARNING DELETING EXPERIENCES\n",
      "\u001b[2m\u001b[36m(pid=15612)\u001b[0m Game 546 White Won\n",
      "\u001b[2m\u001b[36m(pid=15613)\u001b[0m Game 549 Draw\n",
      "\u001b[2m\u001b[36m(pid=15613)\u001b[0m WARNING DELETING EXPERIENCES\n",
      "\u001b[2m\u001b[36m(pid=15621)\u001b[0m Game 551 Draw\n",
      "\u001b[2m\u001b[36m(pid=15621)\u001b[0m WARNING DELETING EXPERIENCES\n",
      "\u001b[2m\u001b[36m(pid=15615)\u001b[0m Game 545 Draw\n",
      "\u001b[2m\u001b[36m(pid=15615)\u001b[0m WARNING DELETING EXPERIENCES\n",
      "\u001b[2m\u001b[36m(pid=15623)\u001b[0m Game 547 Draw\n",
      "\u001b[2m\u001b[36m(pid=15623)\u001b[0m WARNING DELETING EXPERIENCES\n",
      "\u001b[2m\u001b[36m(pid=15610)\u001b[0m Game 548 Draw\n",
      "\u001b[2m\u001b[36m(pid=15610)\u001b[0m WARNING DELETING EXPERIENCES\n",
      "\u001b[2m\u001b[36m(pid=15616)\u001b[0m Game 544 Draw\n",
      "\u001b[2m\u001b[36m(pid=15616)\u001b[0m WARNING DELETING EXPERIENCES\n",
      "\u001b[2m\u001b[36m(pid=15618)\u001b[0m Game 559 Draw\n",
      "\u001b[2m\u001b[36m(pid=15618)\u001b[0m WARNING DELETING EXPERIENCES\n",
      "\u001b[2m\u001b[36m(pid=15624)\u001b[0m Game 552 Draw\n",
      "\u001b[2m\u001b[36m(pid=15624)\u001b[0m WARNING DELETING EXPERIENCES\n",
      "\u001b[2m\u001b[36m(pid=15611)\u001b[0m Game 553 Draw\n",
      "\u001b[2m\u001b[36m(pid=15611)\u001b[0m WARNING DELETING EXPERIENCES\n",
      "\u001b[2m\u001b[36m(pid=15625)\u001b[0m Game 556 Draw\n",
      "\u001b[2m\u001b[36m(pid=15625)\u001b[0m WARNING DELETING EXPERIENCES\n",
      "\u001b[2m\u001b[36m(pid=15614)\u001b[0m Game 554 Draw\n",
      "\u001b[2m\u001b[36m(pid=15614)\u001b[0m WARNING DELETING EXPERIENCES\n",
      "\u001b[2m\u001b[36m(pid=15622)\u001b[0m Game 557 Draw\n",
      "\u001b[2m\u001b[36m(pid=15622)\u001b[0m WARNING DELETING EXPERIENCES\n",
      "ACTOR LOSS 6089.52587890625 | CRITIC LOSS 6.814067840576172\n",
      "ACTOR LOSS 5673.599609375 | CRITIC LOSS 3.6815319061279297\n",
      "ACTOR LOSS 6087.4951171875 | CRITIC LOSS 14.768379211425781\n",
      "ACTOR LOSS 5889.79345703125 | CRITIC LOSS 5.905571460723877\n",
      "ACTOR LOSS 6114.70947265625 | CRITIC LOSS 4.657175064086914\n",
      "SAVING\n",
      "ACTOR LOSS 6062.18212890625 | CRITIC LOSS 6.29925537109375\n",
      "ACTOR LOSS 6117.31298828125 | CRITIC LOSS 11.012151718139648\n",
      "ACTOR LOSS 6123.31201171875 | CRITIC LOSS 11.17385482788086\n",
      "ACTOR LOSS 6147.7138671875 | CRITIC LOSS 9.999042510986328\n",
      "ACTOR LOSS 6032.5615234375 | CRITIC LOSS 9.346596717834473\n"
     ]
    },
    {
     "name": "stderr",
     "output_type": "stream",
     "text": [
      "\u001b[2m\u001b[36m(pid=15622)\u001b[0m /home/ec2-user/.local/lib/python3.6/site-packages/ray/workers/default_worker.py:58: RuntimeWarning: invalid value encountered in true_divide\n",
      "\u001b[2m\u001b[36m(pid=15622)\u001b[0m   type=str,\n"
     ]
    },
    {
     "name": "stdout",
     "output_type": "stream",
     "text": [
      "\u001b[2m\u001b[36m(pid=15622)\u001b[0m Loading Random Controllers E72.pth\n"
     ]
    },
    {
     "name": "stderr",
     "output_type": "stream",
     "text": [
      "\u001b[2m\u001b[36m(pid=15625)\u001b[0m /home/ec2-user/.local/lib/python3.6/site-packages/ray/workers/default_worker.py:58: RuntimeWarning: invalid value encountered in true_divide\n",
      "\u001b[2m\u001b[36m(pid=15625)\u001b[0m   type=str,\n"
     ]
    },
    {
     "name": "stdout",
     "output_type": "stream",
     "text": [
      "\u001b[2m\u001b[36m(pid=15625)\u001b[0m Loading Random Controllers E24.pth\n",
      "\u001b[2m\u001b[36m(pid=15614)\u001b[0m Loading Random Controllers E168.pth\n",
      "\u001b[2m\u001b[36m(pid=15611)\u001b[0m Loading Random Controllers E72.pth\n"
     ]
    },
    {
     "name": "stderr",
     "output_type": "stream",
     "text": [
      "\u001b[2m\u001b[36m(pid=15614)\u001b[0m /home/ec2-user/.local/lib/python3.6/site-packages/ray/workers/default_worker.py:58: RuntimeWarning: invalid value encountered in true_divide\n",
      "\u001b[2m\u001b[36m(pid=15614)\u001b[0m   type=str,\n",
      "\u001b[2m\u001b[36m(pid=15611)\u001b[0m /home/ec2-user/.local/lib/python3.6/site-packages/ray/workers/default_worker.py:58: RuntimeWarning: invalid value encountered in true_divide\n",
      "\u001b[2m\u001b[36m(pid=15611)\u001b[0m   type=str,\n"
     ]
    },
    {
     "name": "stdout",
     "output_type": "stream",
     "text": [
      "\u001b[2m\u001b[36m(pid=15624)\u001b[0m Loading Random Controllers E184.pth\n"
     ]
    },
    {
     "name": "stderr",
     "output_type": "stream",
     "text": [
      "\u001b[2m\u001b[36m(pid=15624)\u001b[0m /home/ec2-user/.local/lib/python3.6/site-packages/ray/workers/default_worker.py:58: RuntimeWarning: invalid value encountered in true_divide\n",
      "\u001b[2m\u001b[36m(pid=15624)\u001b[0m   type=str,\n",
      "\u001b[2m\u001b[36m(pid=15616)\u001b[0m /home/ec2-user/.local/lib/python3.6/site-packages/ray/workers/default_worker.py:58: RuntimeWarning: invalid value encountered in true_divide\n",
      "\u001b[2m\u001b[36m(pid=15616)\u001b[0m   type=str,\n"
     ]
    },
    {
     "name": "stdout",
     "output_type": "stream",
     "text": [
      "\u001b[2m\u001b[36m(pid=15616)\u001b[0m Loading Random Controllers E344.pth\n",
      "\u001b[2m\u001b[36m(pid=15615)\u001b[0m Loading Random Controllers E8.pth\n"
     ]
    },
    {
     "name": "stderr",
     "output_type": "stream",
     "text": [
      "\u001b[2m\u001b[36m(pid=15615)\u001b[0m /home/ec2-user/.local/lib/python3.6/site-packages/ray/workers/default_worker.py:58: RuntimeWarning: invalid value encountered in true_divide\n",
      "\u001b[2m\u001b[36m(pid=15615)\u001b[0m   type=str,\n"
     ]
    },
    {
     "name": "stdout",
     "output_type": "stream",
     "text": [
      "\u001b[2m\u001b[36m(pid=15621)\u001b[0m Loading Random Controllers E224.pth\n"
     ]
    },
    {
     "name": "stderr",
     "output_type": "stream",
     "text": [
      "\u001b[2m\u001b[36m(pid=15621)\u001b[0m /home/ec2-user/.local/lib/python3.6/site-packages/ray/workers/default_worker.py:58: RuntimeWarning: invalid value encountered in true_divide\n",
      "\u001b[2m\u001b[36m(pid=15621)\u001b[0m   type=str,\n"
     ]
    },
    {
     "name": "stdout",
     "output_type": "stream",
     "text": [
      "\u001b[2m\u001b[36m(pid=15610)\u001b[0m Loading Random Controllers E336.pth\n"
     ]
    },
    {
     "name": "stderr",
     "output_type": "stream",
     "text": [
      "\u001b[2m\u001b[36m(pid=15610)\u001b[0m /home/ec2-user/.local/lib/python3.6/site-packages/ray/workers/default_worker.py:58: RuntimeWarning: invalid value encountered in true_divide\n",
      "\u001b[2m\u001b[36m(pid=15610)\u001b[0m   type=str,\n"
     ]
    },
    {
     "name": "stdout",
     "output_type": "stream",
     "text": [
      "\u001b[2m\u001b[36m(pid=15623)\u001b[0m Loading Random Controllers E312.pth\n"
     ]
    },
    {
     "name": "stderr",
     "output_type": "stream",
     "text": [
      "\u001b[2m\u001b[36m(pid=15623)\u001b[0m /home/ec2-user/.local/lib/python3.6/site-packages/ray/workers/default_worker.py:58: RuntimeWarning: invalid value encountered in true_divide\n",
      "\u001b[2m\u001b[36m(pid=15623)\u001b[0m   type=str,\n"
     ]
    },
    {
     "name": "stdout",
     "output_type": "stream",
     "text": [
      "\u001b[2m\u001b[36m(pid=15613)\u001b[0m Loading Random Controllers E72.pth\n"
     ]
    },
    {
     "name": "stderr",
     "output_type": "stream",
     "text": [
      "\u001b[2m\u001b[36m(pid=15613)\u001b[0m /home/ec2-user/.local/lib/python3.6/site-packages/ray/workers/default_worker.py:58: RuntimeWarning: invalid value encountered in true_divide\n",
      "\u001b[2m\u001b[36m(pid=15613)\u001b[0m   type=str,\n"
     ]
    },
    {
     "name": "stdout",
     "output_type": "stream",
     "text": [
      "\u001b[2m\u001b[36m(pid=15612)\u001b[0m Loading Random Controllers E288.pth\n"
     ]
    },
    {
     "name": "stderr",
     "output_type": "stream",
     "text": [
      "\u001b[2m\u001b[36m(pid=15612)\u001b[0m /home/ec2-user/.local/lib/python3.6/site-packages/ray/workers/default_worker.py:58: RuntimeWarning: invalid value encountered in true_divide\n",
      "\u001b[2m\u001b[36m(pid=15612)\u001b[0m   type=str,\n"
     ]
    },
    {
     "name": "stdout",
     "output_type": "stream",
     "text": [
      "\u001b[2m\u001b[36m(pid=15620)\u001b[0m Loading Random Controllers E280.pth\n"
     ]
    },
    {
     "name": "stderr",
     "output_type": "stream",
     "text": [
      "\u001b[2m\u001b[36m(pid=15620)\u001b[0m /home/ec2-user/.local/lib/python3.6/site-packages/ray/workers/default_worker.py:58: RuntimeWarning: invalid value encountered in true_divide\n",
      "\u001b[2m\u001b[36m(pid=15620)\u001b[0m   type=str,\n"
     ]
    },
    {
     "name": "stdout",
     "output_type": "stream",
     "text": [
      "\u001b[2m\u001b[36m(pid=15619)\u001b[0m Loading Random Controllers E344.pth\n"
     ]
    },
    {
     "name": "stderr",
     "output_type": "stream",
     "text": [
      "\u001b[2m\u001b[36m(pid=15619)\u001b[0m /home/ec2-user/.local/lib/python3.6/site-packages/ray/workers/default_worker.py:58: RuntimeWarning: invalid value encountered in true_divide\n",
      "\u001b[2m\u001b[36m(pid=15619)\u001b[0m   type=str,\n"
     ]
    },
    {
     "name": "stdout",
     "output_type": "stream",
     "text": [
      "\u001b[2m\u001b[36m(pid=15618)\u001b[0m Loading Random Controllers E104.pth\n"
     ]
    },
    {
     "name": "stderr",
     "output_type": "stream",
     "text": [
      "\u001b[2m\u001b[36m(pid=15618)\u001b[0m /home/ec2-user/.local/lib/python3.6/site-packages/ray/workers/default_worker.py:58: RuntimeWarning: invalid value encountered in true_divide\n",
      "\u001b[2m\u001b[36m(pid=15618)\u001b[0m   type=str,\n"
     ]
    },
    {
     "name": "stdout",
     "output_type": "stream",
     "text": [
      "\u001b[2m\u001b[36m(pid=15617)\u001b[0m Loading Random Controllers E64.pth\n"
     ]
    },
    {
     "name": "stderr",
     "output_type": "stream",
     "text": [
      "\u001b[2m\u001b[36m(pid=15617)\u001b[0m /home/ec2-user/.local/lib/python3.6/site-packages/ray/workers/default_worker.py:58: RuntimeWarning: invalid value encountered in true_divide\n",
      "\u001b[2m\u001b[36m(pid=15617)\u001b[0m   type=str,\n"
     ]
    },
    {
     "name": "stdout",
     "output_type": "stream",
     "text": [
      "\u001b[2m\u001b[36m(pid=15616)\u001b[0m Game 565 White Won\n",
      "\u001b[2m\u001b[36m(pid=15619)\u001b[0m Game 573 White Won\n",
      "\u001b[2m\u001b[36m(pid=15615)\u001b[0m Game 566 Draw\n",
      "\u001b[2m\u001b[36m(pid=15615)\u001b[0m WARNING DELETING EXPERIENCES\n",
      "\u001b[2m\u001b[36m(pid=15611)\u001b[0m Game 563 Draw\n",
      "\u001b[2m\u001b[36m(pid=15611)\u001b[0m WARNING DELETING EXPERIENCES\n",
      "\u001b[2m\u001b[36m(pid=15622)\u001b[0m Game 560 Draw\n",
      "\u001b[2m\u001b[36m(pid=15622)\u001b[0m WARNING DELETING EXPERIENCES\n",
      "\u001b[2m\u001b[36m(pid=15618)\u001b[0m Game 574 Draw\n",
      "\u001b[2m\u001b[36m(pid=15618)\u001b[0m WARNING DELETING EXPERIENCES\n",
      "\u001b[2m\u001b[36m(pid=15620)\u001b[0m Game 572 Draw\n",
      "\u001b[2m\u001b[36m(pid=15620)\u001b[0m WARNING DELETING EXPERIENCES\n",
      "\u001b[2m\u001b[36m(pid=15613)\u001b[0m Game 570 Draw\n",
      "\u001b[2m\u001b[36m(pid=15613)\u001b[0m WARNING DELETING EXPERIENCES\n",
      "\u001b[2m\u001b[36m(pid=15621)\u001b[0m Game 567 Draw\n",
      "\u001b[2m\u001b[36m(pid=15621)\u001b[0m WARNING DELETING EXPERIENCES\n",
      "\u001b[2m\u001b[36m(pid=15625)\u001b[0m Game 561 Draw\n",
      "\u001b[2m\u001b[36m(pid=15625)\u001b[0m WARNING DELETING EXPERIENCES\n",
      "\u001b[2m\u001b[36m(pid=15623)\u001b[0m Game 569 Draw\n",
      "\u001b[2m\u001b[36m(pid=15623)\u001b[0m WARNING DELETING EXPERIENCES\n",
      "\u001b[2m\u001b[36m(pid=15624)\u001b[0m Game 564 Draw\n",
      "\u001b[2m\u001b[36m(pid=15624)\u001b[0m WARNING DELETING EXPERIENCES\n",
      "\u001b[2m\u001b[36m(pid=15617)\u001b[0m Game 575 Draw\n",
      "\u001b[2m\u001b[36m(pid=15617)\u001b[0m WARNING DELETING EXPERIENCES\n",
      "\u001b[2m\u001b[36m(pid=15610)\u001b[0m Game 568 Draw\n",
      "\u001b[2m\u001b[36m(pid=15610)\u001b[0m WARNING DELETING EXPERIENCES\n",
      "\u001b[2m\u001b[36m(pid=15614)\u001b[0m Game 562 Draw\n",
      "\u001b[2m\u001b[36m(pid=15614)\u001b[0m WARNING DELETING EXPERIENCES\n",
      "\u001b[2m\u001b[36m(pid=15612)\u001b[0m Game 571 Draw\n",
      "\u001b[2m\u001b[36m(pid=15612)\u001b[0m WARNING DELETING EXPERIENCES\n",
      "ACTOR LOSS 5694.802734375 | CRITIC LOSS 7.974397659301758\n",
      "ACTOR LOSS 6145.52490234375 | CRITIC LOSS 5.367120742797852\n",
      "ACTOR LOSS 6142.22900390625 | CRITIC LOSS 11.605956077575684\n",
      "SAVING\n",
      "ACTOR LOSS 6124.25244140625 | CRITIC LOSS 5.874056816101074\n",
      "ACTOR LOSS 6082.470703125 | CRITIC LOSS 8.288044929504395\n",
      "ACTOR LOSS 4430.8203125 | CRITIC LOSS 7.995073318481445\n",
      "ACTOR LOSS 6139.9228515625 | CRITIC LOSS 6.583945274353027\n",
      "ACTOR LOSS 6120.3759765625 | CRITIC LOSS 6.401679039001465\n",
      "ACTOR LOSS 6091.263671875 | CRITIC LOSS 7.640374660491943\n",
      "ACTOR LOSS 4875.42333984375 | CRITIC LOSS 2.5775976181030273\n",
      "\u001b[2m\u001b[36m(pid=15612)\u001b[0m Loading Random Controllers E0.pth\n"
     ]
    },
    {
     "name": "stderr",
     "output_type": "stream",
     "text": [
      "\u001b[2m\u001b[36m(pid=15612)\u001b[0m /home/ec2-user/.local/lib/python3.6/site-packages/ray/workers/default_worker.py:58: RuntimeWarning: invalid value encountered in true_divide\n",
      "\u001b[2m\u001b[36m(pid=15612)\u001b[0m   type=str,\n"
     ]
    },
    {
     "name": "stdout",
     "output_type": "stream",
     "text": [
      "\u001b[2m\u001b[36m(pid=15624)\u001b[0m Loading Random Controllers E104.pth\n"
     ]
    },
    {
     "name": "stderr",
     "output_type": "stream",
     "text": [
      "\u001b[2m\u001b[36m(pid=15624)\u001b[0m /home/ec2-user/.local/lib/python3.6/site-packages/ray/workers/default_worker.py:58: RuntimeWarning: invalid value encountered in true_divide\n",
      "\u001b[2m\u001b[36m(pid=15624)\u001b[0m   type=str,\n"
     ]
    },
    {
     "name": "stdout",
     "output_type": "stream",
     "text": [
      "\u001b[2m\u001b[36m(pid=15621)\u001b[0m Loading Random Controllers E0.pth\n"
     ]
    },
    {
     "name": "stderr",
     "output_type": "stream",
     "text": [
      "\u001b[2m\u001b[36m(pid=15621)\u001b[0m /home/ec2-user/.local/lib/python3.6/site-packages/ray/workers/default_worker.py:58: RuntimeWarning: invalid value encountered in true_divide\n",
      "\u001b[2m\u001b[36m(pid=15621)\u001b[0m   type=str,\n"
     ]
    },
    {
     "name": "stdout",
     "output_type": "stream",
     "text": [
      "\u001b[2m\u001b[36m(pid=15610)\u001b[0m Loading Random Controllers E72.pth\n"
     ]
    },
    {
     "name": "stderr",
     "output_type": "stream",
     "text": [
      "\u001b[2m\u001b[36m(pid=15610)\u001b[0m /home/ec2-user/.local/lib/python3.6/site-packages/ray/workers/default_worker.py:58: RuntimeWarning: invalid value encountered in true_divide\n",
      "\u001b[2m\u001b[36m(pid=15610)\u001b[0m   type=str,\n"
     ]
    },
    {
     "name": "stdout",
     "output_type": "stream",
     "text": [
      "\u001b[2m\u001b[36m(pid=15623)\u001b[0m Loading Random Controllers E320.pth\n"
     ]
    },
    {
     "name": "stderr",
     "output_type": "stream",
     "text": [
      "\u001b[2m\u001b[36m(pid=15623)\u001b[0m /home/ec2-user/.local/lib/python3.6/site-packages/ray/workers/default_worker.py:58: RuntimeWarning: invalid value encountered in true_divide\n",
      "\u001b[2m\u001b[36m(pid=15623)\u001b[0m   type=str,\n"
     ]
    },
    {
     "name": "stdout",
     "output_type": "stream",
     "text": [
      "\u001b[2m\u001b[36m(pid=15613)\u001b[0m Loading Random Controllers E240.pth\n"
     ]
    },
    {
     "name": "stderr",
     "output_type": "stream",
     "text": [
      "\u001b[2m\u001b[36m(pid=15613)\u001b[0m /home/ec2-user/.local/lib/python3.6/site-packages/ray/workers/default_worker.py:58: RuntimeWarning: invalid value encountered in true_divide\n",
      "\u001b[2m\u001b[36m(pid=15613)\u001b[0m   type=str,\n"
     ]
    },
    {
     "name": "stdout",
     "output_type": "stream",
     "text": [
      "\u001b[2m\u001b[36m(pid=15620)\u001b[0m Loading Random Controllers E256.pth\n",
      "\u001b[2m\u001b[36m(pid=15617)\u001b[0m Loading Random Controllers E336.pth\n"
     ]
    },
    {
     "name": "stderr",
     "output_type": "stream",
     "text": [
      "\u001b[2m\u001b[36m(pid=15620)\u001b[0m /home/ec2-user/.local/lib/python3.6/site-packages/ray/workers/default_worker.py:58: RuntimeWarning: invalid value encountered in true_divide\n",
      "\u001b[2m\u001b[36m(pid=15620)\u001b[0m   type=str,\n",
      "\u001b[2m\u001b[36m(pid=15617)\u001b[0m /home/ec2-user/.local/lib/python3.6/site-packages/ray/workers/default_worker.py:58: RuntimeWarning: invalid value encountered in true_divide\n",
      "\u001b[2m\u001b[36m(pid=15617)\u001b[0m   type=str,\n"
     ]
    },
    {
     "name": "stdout",
     "output_type": "stream",
     "text": [
      "\u001b[2m\u001b[36m(pid=15618)\u001b[0m Loading Random Controllers E80.pth\n"
     ]
    },
    {
     "name": "stderr",
     "output_type": "stream",
     "text": [
      "\u001b[2m\u001b[36m(pid=15618)\u001b[0m /home/ec2-user/.local/lib/python3.6/site-packages/ray/workers/default_worker.py:58: RuntimeWarning: invalid value encountered in true_divide\n",
      "\u001b[2m\u001b[36m(pid=15618)\u001b[0m   type=str,\n"
     ]
    },
    {
     "name": "stdout",
     "output_type": "stream",
     "text": [
      "\u001b[2m\u001b[36m(pid=15625)\u001b[0m Loading Random Controllers E32.pth\n"
     ]
    },
    {
     "name": "stderr",
     "output_type": "stream",
     "text": [
      "\u001b[2m\u001b[36m(pid=15625)\u001b[0m /home/ec2-user/.local/lib/python3.6/site-packages/ray/workers/default_worker.py:58: RuntimeWarning: invalid value encountered in true_divide\n",
      "\u001b[2m\u001b[36m(pid=15625)\u001b[0m   type=str,\n"
     ]
    },
    {
     "name": "stdout",
     "output_type": "stream",
     "text": [
      "\u001b[2m\u001b[36m(pid=15622)\u001b[0m Loading Random Controllers E120.pth\n"
     ]
    },
    {
     "name": "stderr",
     "output_type": "stream",
     "text": [
      "\u001b[2m\u001b[36m(pid=15622)\u001b[0m /home/ec2-user/.local/lib/python3.6/site-packages/ray/workers/default_worker.py:58: RuntimeWarning: invalid value encountered in true_divide\n",
      "\u001b[2m\u001b[36m(pid=15622)\u001b[0m   type=str,\n"
     ]
    },
    {
     "name": "stdout",
     "output_type": "stream",
     "text": [
      "\u001b[2m\u001b[36m(pid=15614)\u001b[0m Loading Random Controllers E168.pth\n"
     ]
    },
    {
     "name": "stderr",
     "output_type": "stream",
     "text": [
      "\u001b[2m\u001b[36m(pid=15614)\u001b[0m /home/ec2-user/.local/lib/python3.6/site-packages/ray/workers/default_worker.py:58: RuntimeWarning: invalid value encountered in true_divide\n",
      "\u001b[2m\u001b[36m(pid=15614)\u001b[0m   type=str,\n"
     ]
    },
    {
     "name": "stdout",
     "output_type": "stream",
     "text": [
      "\u001b[2m\u001b[36m(pid=15611)\u001b[0m Loading Random Controllers E152.pth\n"
     ]
    },
    {
     "name": "stderr",
     "output_type": "stream",
     "text": [
      "\u001b[2m\u001b[36m(pid=15611)\u001b[0m /home/ec2-user/.local/lib/python3.6/site-packages/ray/workers/default_worker.py:58: RuntimeWarning: invalid value encountered in true_divide\n",
      "\u001b[2m\u001b[36m(pid=15611)\u001b[0m   type=str,\n"
     ]
    },
    {
     "name": "stdout",
     "output_type": "stream",
     "text": [
      "\u001b[2m\u001b[36m(pid=15615)\u001b[0m Loading Random Controllers E24.pth\n"
     ]
    },
    {
     "name": "stderr",
     "output_type": "stream",
     "text": [
      "\u001b[2m\u001b[36m(pid=15615)\u001b[0m /home/ec2-user/.local/lib/python3.6/site-packages/ray/workers/default_worker.py:58: RuntimeWarning: invalid value encountered in true_divide\n",
      "\u001b[2m\u001b[36m(pid=15615)\u001b[0m   type=str,\n"
     ]
    },
    {
     "name": "stdout",
     "output_type": "stream",
     "text": [
      "\u001b[2m\u001b[36m(pid=15619)\u001b[0m Loading Random Controllers E208.pth\n"
     ]
    },
    {
     "name": "stderr",
     "output_type": "stream",
     "text": [
      "\u001b[2m\u001b[36m(pid=15619)\u001b[0m /home/ec2-user/.local/lib/python3.6/site-packages/ray/workers/default_worker.py:58: RuntimeWarning: invalid value encountered in true_divide\n",
      "\u001b[2m\u001b[36m(pid=15619)\u001b[0m   type=str,\n"
     ]
    },
    {
     "name": "stdout",
     "output_type": "stream",
     "text": [
      "\u001b[2m\u001b[36m(pid=15616)\u001b[0m Loading Random Controllers E24.pth\n"
     ]
    },
    {
     "name": "stderr",
     "output_type": "stream",
     "text": [
      "\u001b[2m\u001b[36m(pid=15616)\u001b[0m /home/ec2-user/.local/lib/python3.6/site-packages/ray/workers/default_worker.py:58: RuntimeWarning: invalid value encountered in true_divide\n",
      "\u001b[2m\u001b[36m(pid=15616)\u001b[0m   type=str,\n"
     ]
    },
    {
     "name": "stdout",
     "output_type": "stream",
     "text": [
      "\u001b[2m\u001b[36m(pid=15618)\u001b[0m Game 584 White Won\n",
      "\u001b[2m\u001b[36m(pid=15624)\u001b[0m Game 577 White Won\n",
      "\u001b[2m\u001b[36m(pid=15617)\u001b[0m Game 583 White Won\n",
      "\u001b[2m\u001b[36m(pid=15613)\u001b[0m Game 581 Draw\n",
      "\u001b[2m\u001b[36m(pid=15613)\u001b[0m WARNING DELETING EXPERIENCES\n",
      "\u001b[2m\u001b[36m(pid=15610)\u001b[0m Game 579 Draw\n",
      "\u001b[2m\u001b[36m(pid=15610)\u001b[0m WARNING DELETING EXPERIENCES\n",
      "\u001b[2m\u001b[36m(pid=15611)\u001b[0m Game 588 Draw\n",
      "\u001b[2m\u001b[36m(pid=15611)\u001b[0m WARNING DELETING EXPERIENCES\n",
      "\u001b[2m\u001b[36m(pid=15612)\u001b[0m Game 576 Draw\n",
      "\u001b[2m\u001b[36m(pid=15612)\u001b[0m WARNING DELETING EXPERIENCES\n",
      "\u001b[2m\u001b[36m(pid=15619)\u001b[0m Game 590 Draw\n",
      "\u001b[2m\u001b[36m(pid=15619)\u001b[0m WARNING DELETING EXPERIENCES\n",
      "\u001b[2m\u001b[36m(pid=15620)\u001b[0m Game 582 Draw\n",
      "\u001b[2m\u001b[36m(pid=15620)\u001b[0m WARNING DELETING EXPERIENCES\n",
      "\u001b[2m\u001b[36m(pid=15623)\u001b[0m Game 580 Draw\n",
      "\u001b[2m\u001b[36m(pid=15623)\u001b[0m WARNING DELETING EXPERIENCES\n",
      "\u001b[2m\u001b[36m(pid=15622)\u001b[0m Game 586 Draw\n",
      "\u001b[2m\u001b[36m(pid=15622)\u001b[0m WARNING DELETING EXPERIENCES\n",
      "\u001b[2m\u001b[36m(pid=15616)\u001b[0m Game 591 Draw\n",
      "\u001b[2m\u001b[36m(pid=15616)\u001b[0m WARNING DELETING EXPERIENCES\n",
      "\u001b[2m\u001b[36m(pid=15615)\u001b[0m Game 589 Draw\n",
      "\u001b[2m\u001b[36m(pid=15615)\u001b[0m WARNING DELETING EXPERIENCES\n",
      "\u001b[2m\u001b[36m(pid=15625)\u001b[0m Game 585 Draw\n",
      "\u001b[2m\u001b[36m(pid=15625)\u001b[0m WARNING DELETING EXPERIENCES\n",
      "\u001b[2m\u001b[36m(pid=15614)\u001b[0m Game 587 Draw\n",
      "\u001b[2m\u001b[36m(pid=15614)\u001b[0m WARNING DELETING EXPERIENCES\n",
      "\u001b[2m\u001b[36m(pid=15621)\u001b[0m Game 578 Draw\n",
      "\u001b[2m\u001b[36m(pid=15621)\u001b[0m WARNING DELETING EXPERIENCES\n",
      "ACTOR LOSS 6092.2177734375 | CRITIC LOSS 8.511626243591309\n",
      "SAVING\n",
      "ACTOR LOSS 6098.3193359375 | CRITIC LOSS 6.374195575714111\n",
      "ACTOR LOSS 6121.0341796875 | CRITIC LOSS 11.38082504272461\n",
      "ACTOR LOSS 5448.87109375 | CRITIC LOSS 4.648343086242676\n",
      "ACTOR LOSS 6080.64208984375 | CRITIC LOSS 6.572229385375977\n",
      "ACTOR LOSS 5524.76611328125 | CRITIC LOSS 5.313621520996094\n",
      "ACTOR LOSS 6073.466796875 | CRITIC LOSS 14.511032104492188\n",
      "ACTOR LOSS 6123.3408203125 | CRITIC LOSS 13.911240577697754\n",
      "ACTOR LOSS 6077.0185546875 | CRITIC LOSS 3.3780148029327393\n",
      "SAVING\n",
      "ACTOR LOSS 5985.45361328125 | CRITIC LOSS 3.920727491378784\n",
      "\u001b[2m\u001b[36m(pid=15621)\u001b[0m Loading Random Controllers E360.pth\n"
     ]
    },
    {
     "name": "stderr",
     "output_type": "stream",
     "text": [
      "\u001b[2m\u001b[36m(pid=15621)\u001b[0m /home/ec2-user/.local/lib/python3.6/site-packages/ray/workers/default_worker.py:58: RuntimeWarning: invalid value encountered in true_divide\n",
      "\u001b[2m\u001b[36m(pid=15621)\u001b[0m   type=str,\n"
     ]
    },
    {
     "name": "stdout",
     "output_type": "stream",
     "text": [
      "\u001b[2m\u001b[36m(pid=15615)\u001b[0m Loading Random Controllers E0.pth\n"
     ]
    },
    {
     "name": "stderr",
     "output_type": "stream",
     "text": [
      "\u001b[2m\u001b[36m(pid=15615)\u001b[0m /home/ec2-user/.local/lib/python3.6/site-packages/ray/workers/default_worker.py:58: RuntimeWarning: invalid value encountered in true_divide\n",
      "\u001b[2m\u001b[36m(pid=15615)\u001b[0m   type=str,\n"
     ]
    },
    {
     "name": "stdout",
     "output_type": "stream",
     "text": [
      "\u001b[2m\u001b[36m(pid=15616)\u001b[0m Loading Random Controllers E176.pth\n"
     ]
    },
    {
     "name": "stderr",
     "output_type": "stream",
     "text": [
      "\u001b[2m\u001b[36m(pid=15616)\u001b[0m /home/ec2-user/.local/lib/python3.6/site-packages/ray/workers/default_worker.py:58: RuntimeWarning: invalid value encountered in true_divide\n",
      "\u001b[2m\u001b[36m(pid=15616)\u001b[0m   type=str,\n"
     ]
    },
    {
     "name": "stdout",
     "output_type": "stream",
     "text": [
      "\u001b[2m\u001b[36m(pid=15625)\u001b[0m Loading Random Controllers E232.pth\n"
     ]
    },
    {
     "name": "stderr",
     "output_type": "stream",
     "text": [
      "\u001b[2m\u001b[36m(pid=15625)\u001b[0m /home/ec2-user/.local/lib/python3.6/site-packages/ray/workers/default_worker.py:58: RuntimeWarning: invalid value encountered in true_divide\n",
      "\u001b[2m\u001b[36m(pid=15625)\u001b[0m   type=str,\n"
     ]
    },
    {
     "name": "stdout",
     "output_type": "stream",
     "text": [
      "\u001b[2m\u001b[36m(pid=15622)\u001b[0m Loading Random Controllers E56.pth\n"
     ]
    },
    {
     "name": "stderr",
     "output_type": "stream",
     "text": [
      "\u001b[2m\u001b[36m(pid=15622)\u001b[0m /home/ec2-user/.local/lib/python3.6/site-packages/ray/workers/default_worker.py:58: RuntimeWarning: invalid value encountered in true_divide\n",
      "\u001b[2m\u001b[36m(pid=15622)\u001b[0m   type=str,\n"
     ]
    },
    {
     "name": "stdout",
     "output_type": "stream",
     "text": [
      "\u001b[2m\u001b[36m(pid=15620)\u001b[0m Loading Random Controllers E24.pth\n"
     ]
    },
    {
     "name": "stderr",
     "output_type": "stream",
     "text": [
      "\u001b[2m\u001b[36m(pid=15620)\u001b[0m /home/ec2-user/.local/lib/python3.6/site-packages/ray/workers/default_worker.py:58: RuntimeWarning: invalid value encountered in true_divide\n",
      "\u001b[2m\u001b[36m(pid=15620)\u001b[0m   type=str,\n"
     ]
    },
    {
     "name": "stdout",
     "output_type": "stream",
     "text": [
      "\u001b[2m\u001b[36m(pid=15619)\u001b[0m Loading Random Controllers E200.pth\n"
     ]
    },
    {
     "name": "stderr",
     "output_type": "stream",
     "text": [
      "\u001b[2m\u001b[36m(pid=15619)\u001b[0m /home/ec2-user/.local/lib/python3.6/site-packages/ray/workers/default_worker.py:58: RuntimeWarning: invalid value encountered in true_divide\n",
      "\u001b[2m\u001b[36m(pid=15619)\u001b[0m   type=str,\n"
     ]
    },
    {
     "name": "stdout",
     "output_type": "stream",
     "text": [
      "\u001b[2m\u001b[36m(pid=15612)\u001b[0m Loading Random Controllers E264.pth\n"
     ]
    },
    {
     "name": "stderr",
     "output_type": "stream",
     "text": [
      "\u001b[2m\u001b[36m(pid=15612)\u001b[0m /home/ec2-user/.local/lib/python3.6/site-packages/ray/workers/default_worker.py:58: RuntimeWarning: invalid value encountered in true_divide\n",
      "\u001b[2m\u001b[36m(pid=15612)\u001b[0m   type=str,\n"
     ]
    },
    {
     "name": "stdout",
     "output_type": "stream",
     "text": [
      "\u001b[2m\u001b[36m(pid=15614)\u001b[0m Loading Random Controllers E104.pth\n"
     ]
    },
    {
     "name": "stderr",
     "output_type": "stream",
     "text": [
      "\u001b[2m\u001b[36m(pid=15614)\u001b[0m /home/ec2-user/.local/lib/python3.6/site-packages/ray/workers/default_worker.py:58: RuntimeWarning: invalid value encountered in true_divide\n",
      "\u001b[2m\u001b[36m(pid=15614)\u001b[0m   type=str,\n",
      "\u001b[2m\u001b[36m(pid=15611)\u001b[0m /home/ec2-user/.local/lib/python3.6/site-packages/ray/workers/default_worker.py:58: RuntimeWarning: invalid value encountered in true_divide\n",
      "\u001b[2m\u001b[36m(pid=15611)\u001b[0m   type=str,\n"
     ]
    },
    {
     "name": "stdout",
     "output_type": "stream",
     "text": [
      "\u001b[2m\u001b[36m(pid=15611)\u001b[0m Loading Random Controllers E264.pth\n",
      "\u001b[2m\u001b[36m(pid=15623)\u001b[0m Loading Random Controllers E184.pth\n"
     ]
    },
    {
     "name": "stderr",
     "output_type": "stream",
     "text": [
      "\u001b[2m\u001b[36m(pid=15623)\u001b[0m /home/ec2-user/.local/lib/python3.6/site-packages/ray/workers/default_worker.py:58: RuntimeWarning: invalid value encountered in true_divide\n",
      "\u001b[2m\u001b[36m(pid=15623)\u001b[0m   type=str,\n"
     ]
    },
    {
     "name": "stdout",
     "output_type": "stream",
     "text": [
      "\u001b[2m\u001b[36m(pid=15610)\u001b[0m Loading Random Controllers E248.pth\n"
     ]
    },
    {
     "name": "stderr",
     "output_type": "stream",
     "text": [
      "\u001b[2m\u001b[36m(pid=15610)\u001b[0m /home/ec2-user/.local/lib/python3.6/site-packages/ray/workers/default_worker.py:58: RuntimeWarning: invalid value encountered in true_divide\n",
      "\u001b[2m\u001b[36m(pid=15610)\u001b[0m   type=str,\n"
     ]
    },
    {
     "name": "stdout",
     "output_type": "stream",
     "text": [
      "\u001b[2m\u001b[36m(pid=15613)\u001b[0m Loading Random Controllers E64.pth\n"
     ]
    },
    {
     "name": "stderr",
     "output_type": "stream",
     "text": [
      "\u001b[2m\u001b[36m(pid=15613)\u001b[0m /home/ec2-user/.local/lib/python3.6/site-packages/ray/workers/default_worker.py:58: RuntimeWarning: invalid value encountered in true_divide\n",
      "\u001b[2m\u001b[36m(pid=15613)\u001b[0m   type=str,\n"
     ]
    },
    {
     "name": "stdout",
     "output_type": "stream",
     "text": [
      "\u001b[2m\u001b[36m(pid=15624)\u001b[0m Loading Random Controllers E152.pth\n"
     ]
    },
    {
     "name": "stderr",
     "output_type": "stream",
     "text": [
      "\u001b[2m\u001b[36m(pid=15624)\u001b[0m /home/ec2-user/.local/lib/python3.6/site-packages/ray/workers/default_worker.py:58: RuntimeWarning: invalid value encountered in true_divide\n",
      "\u001b[2m\u001b[36m(pid=15624)\u001b[0m   type=str,\n"
     ]
    },
    {
     "name": "stdout",
     "output_type": "stream",
     "text": [
      "\u001b[2m\u001b[36m(pid=15617)\u001b[0m Loading Random Controllers E224.pth\n"
     ]
    },
    {
     "name": "stderr",
     "output_type": "stream",
     "text": [
      "\u001b[2m\u001b[36m(pid=15617)\u001b[0m /home/ec2-user/.local/lib/python3.6/site-packages/ray/workers/default_worker.py:58: RuntimeWarning: invalid value encountered in true_divide\n",
      "\u001b[2m\u001b[36m(pid=15617)\u001b[0m   type=str,\n"
     ]
    },
    {
     "name": "stdout",
     "output_type": "stream",
     "text": [
      "\u001b[2m\u001b[36m(pid=15618)\u001b[0m Loading Random Controllers E168.pth\n"
     ]
    },
    {
     "name": "stderr",
     "output_type": "stream",
     "text": [
      "\u001b[2m\u001b[36m(pid=15618)\u001b[0m /home/ec2-user/.local/lib/python3.6/site-packages/ray/workers/default_worker.py:58: RuntimeWarning: invalid value encountered in true_divide\n",
      "\u001b[2m\u001b[36m(pid=15618)\u001b[0m   type=str,\n"
     ]
    },
    {
     "name": "stdout",
     "output_type": "stream",
     "text": [
      "\u001b[2m\u001b[36m(pid=15619)\u001b[0m Game 598 Draw\n",
      "\u001b[2m\u001b[36m(pid=15619)\u001b[0m WARNING DELETING EXPERIENCES\n",
      "\u001b[2m\u001b[36m(pid=15618)\u001b[0m Game 607 Draw\n",
      "\u001b[2m\u001b[36m(pid=15618)\u001b[0m WARNING DELETING EXPERIENCES\n",
      "\u001b[2m\u001b[36m(pid=15614)\u001b[0m Game 600 Draw\n",
      "\u001b[2m\u001b[36m(pid=15614)\u001b[0m WARNING DELETING EXPERIENCES\n",
      "\u001b[2m\u001b[36m(pid=15615)\u001b[0m Game 593 Draw\n",
      "\u001b[2m\u001b[36m(pid=15615)\u001b[0m WARNING DELETING EXPERIENCES\n",
      "\u001b[2m\u001b[36m(pid=15610)\u001b[0m Game 603 Draw\n",
      "\u001b[2m\u001b[36m(pid=15610)\u001b[0m WARNING DELETING EXPERIENCES\n",
      "\u001b[2m\u001b[36m(pid=15621)\u001b[0m Game 592 Draw\n",
      "\u001b[2m\u001b[36m(pid=15621)\u001b[0m WARNING DELETING EXPERIENCES\n",
      "\u001b[2m\u001b[36m(pid=15623)\u001b[0m Game 602 Draw\n",
      "\u001b[2m\u001b[36m(pid=15623)\u001b[0m WARNING DELETING EXPERIENCES\n",
      "\u001b[2m\u001b[36m(pid=15611)\u001b[0m Game 601 Draw\n",
      "\u001b[2m\u001b[36m(pid=15611)\u001b[0m WARNING DELETING EXPERIENCES\n",
      "\u001b[2m\u001b[36m(pid=15620)\u001b[0m Game 597 Draw\n",
      "\u001b[2m\u001b[36m(pid=15620)\u001b[0m WARNING DELETING EXPERIENCES\n",
      "\u001b[2m\u001b[36m(pid=15616)\u001b[0m Game 594 Draw\n",
      "\u001b[2m\u001b[36m(pid=15616)\u001b[0m WARNING DELETING EXPERIENCES\n",
      "\u001b[2m\u001b[36m(pid=15622)\u001b[0m Game 596 Draw\n",
      "\u001b[2m\u001b[36m(pid=15622)\u001b[0m WARNING DELETING EXPERIENCES\n",
      "\u001b[2m\u001b[36m(pid=15624)\u001b[0m Game 605 Draw\n",
      "\u001b[2m\u001b[36m(pid=15624)\u001b[0m WARNING DELETING EXPERIENCES\n",
      "\u001b[2m\u001b[36m(pid=15613)\u001b[0m Game 604 Draw\n",
      "\u001b[2m\u001b[36m(pid=15613)\u001b[0m WARNING DELETING EXPERIENCES\n",
      "\u001b[2m\u001b[36m(pid=15612)\u001b[0m Game 599 Draw\n",
      "\u001b[2m\u001b[36m(pid=15612)\u001b[0m WARNING DELETING EXPERIENCES\n",
      "\u001b[2m\u001b[36m(pid=15617)\u001b[0m Game 606 Draw\n",
      "\u001b[2m\u001b[36m(pid=15617)\u001b[0m WARNING DELETING EXPERIENCES\n",
      "\u001b[2m\u001b[36m(pid=15625)\u001b[0m Game 595 Draw\n",
      "\u001b[2m\u001b[36m(pid=15625)\u001b[0m WARNING DELETING EXPERIENCES\n",
      "ACTOR LOSS 6129.10986328125 | CRITIC LOSS 4.515289306640625\n",
      "ACTOR LOSS 5588.8154296875 | CRITIC LOSS 6.00730037689209\n",
      "ACTOR LOSS 5495.318359375 | CRITIC LOSS 3.9914393424987793\n",
      "ACTOR LOSS 5677.82470703125 | CRITIC LOSS 12.988585472106934\n",
      "ACTOR LOSS 6117.5478515625 | CRITIC LOSS 7.535686016082764\n",
      "ACTOR LOSS 6076.45361328125 | CRITIC LOSS 7.99432897567749\n",
      "ACTOR LOSS 6115.9599609375 | CRITIC LOSS 2.9885635375976562\n",
      "SAVING\n",
      "ACTOR LOSS 6065.3193359375 | CRITIC LOSS 6.992465972900391\n",
      "ACTOR LOSS 6110.970703125 | CRITIC LOSS 5.621726989746094\n",
      "ACTOR LOSS 5620.6083984375 | CRITIC LOSS 8.377256393432617\n",
      "\u001b[2m\u001b[36m(pid=15612)\u001b[0m Loading Random Controllers E200.pth\n"
     ]
    },
    {
     "name": "stderr",
     "output_type": "stream",
     "text": [
      "\u001b[2m\u001b[36m(pid=15612)\u001b[0m /home/ec2-user/.local/lib/python3.6/site-packages/ray/workers/default_worker.py:58: RuntimeWarning: invalid value encountered in true_divide\n",
      "\u001b[2m\u001b[36m(pid=15612)\u001b[0m   type=str,\n"
     ]
    },
    {
     "name": "stdout",
     "output_type": "stream",
     "text": [
      "\u001b[2m\u001b[36m(pid=15624)\u001b[0m Loading Random Controllers E272.pth\n"
     ]
    },
    {
     "name": "stderr",
     "output_type": "stream",
     "text": [
      "\u001b[2m\u001b[36m(pid=15624)\u001b[0m /home/ec2-user/.local/lib/python3.6/site-packages/ray/workers/default_worker.py:58: RuntimeWarning: invalid value encountered in true_divide\n",
      "\u001b[2m\u001b[36m(pid=15624)\u001b[0m   type=str,\n"
     ]
    },
    {
     "name": "stdout",
     "output_type": "stream",
     "text": [
      "\u001b[2m\u001b[36m(pid=15625)\u001b[0m Loading Random Controllers E112.pth\n"
     ]
    },
    {
     "name": "stderr",
     "output_type": "stream",
     "text": [
      "\u001b[2m\u001b[36m(pid=15625)\u001b[0m /home/ec2-user/.local/lib/python3.6/site-packages/ray/workers/default_worker.py:58: RuntimeWarning: invalid value encountered in true_divide\n",
      "\u001b[2m\u001b[36m(pid=15625)\u001b[0m   type=str,\n"
     ]
    },
    {
     "name": "stdout",
     "output_type": "stream",
     "text": [
      "\u001b[2m\u001b[36m(pid=15622)\u001b[0m Loading Random Controllers E112.pth\n"
     ]
    },
    {
     "name": "stderr",
     "output_type": "stream",
     "text": [
      "\u001b[2m\u001b[36m(pid=15622)\u001b[0m /home/ec2-user/.local/lib/python3.6/site-packages/ray/workers/default_worker.py:58: RuntimeWarning: invalid value encountered in true_divide\n",
      "\u001b[2m\u001b[36m(pid=15622)\u001b[0m   type=str,\n"
     ]
    },
    {
     "name": "stdout",
     "output_type": "stream",
     "text": [
      "\u001b[2m\u001b[36m(pid=15616)\u001b[0m Loading Random Controllers E96.pth\n"
     ]
    },
    {
     "name": "stderr",
     "output_type": "stream",
     "text": [
      "\u001b[2m\u001b[36m(pid=15616)\u001b[0m /home/ec2-user/.local/lib/python3.6/site-packages/ray/workers/default_worker.py:58: RuntimeWarning: invalid value encountered in true_divide\n",
      "\u001b[2m\u001b[36m(pid=15616)\u001b[0m   type=str,\n"
     ]
    },
    {
     "name": "stdout",
     "output_type": "stream",
     "text": [
      "\u001b[2m\u001b[36m(pid=15620)\u001b[0m Loading Random Controllers E312.pth\n"
     ]
    },
    {
     "name": "stderr",
     "output_type": "stream",
     "text": [
      "\u001b[2m\u001b[36m(pid=15620)\u001b[0m /home/ec2-user/.local/lib/python3.6/site-packages/ray/workers/default_worker.py:58: RuntimeWarning: invalid value encountered in true_divide\n",
      "\u001b[2m\u001b[36m(pid=15620)\u001b[0m   type=str,\n"
     ]
    },
    {
     "name": "stdout",
     "output_type": "stream",
     "text": [
      "\u001b[2m\u001b[36m(pid=15621)\u001b[0m Loading Random Controllers E288.pth\n"
     ]
    },
    {
     "name": "stderr",
     "output_type": "stream",
     "text": [
      "\u001b[2m\u001b[36m(pid=15621)\u001b[0m /home/ec2-user/.local/lib/python3.6/site-packages/ray/workers/default_worker.py:58: RuntimeWarning: invalid value encountered in true_divide\n",
      "\u001b[2m\u001b[36m(pid=15621)\u001b[0m   type=str,\n"
     ]
    },
    {
     "name": "stdout",
     "output_type": "stream",
     "text": [
      "\u001b[2m\u001b[36m(pid=15613)\u001b[0m Loading Random Controllers E24.pth\n"
     ]
    },
    {
     "name": "stderr",
     "output_type": "stream",
     "text": [
      "\u001b[2m\u001b[36m(pid=15613)\u001b[0m /home/ec2-user/.local/lib/python3.6/site-packages/ray/workers/default_worker.py:58: RuntimeWarning: invalid value encountered in true_divide\n",
      "\u001b[2m\u001b[36m(pid=15613)\u001b[0m   type=str,\n"
     ]
    },
    {
     "name": "stdout",
     "output_type": "stream",
     "text": [
      "\u001b[2m\u001b[36m(pid=15623)\u001b[0m Loading Random Controllers E216.pth\n"
     ]
    },
    {
     "name": "stderr",
     "output_type": "stream",
     "text": [
      "\u001b[2m\u001b[36m(pid=15623)\u001b[0m /home/ec2-user/.local/lib/python3.6/site-packages/ray/workers/default_worker.py:58: RuntimeWarning: invalid value encountered in true_divide\n",
      "\u001b[2m\u001b[36m(pid=15623)\u001b[0m   type=str,\n"
     ]
    },
    {
     "name": "stdout",
     "output_type": "stream",
     "text": [
      "\u001b[2m\u001b[36m(pid=15610)\u001b[0m Loading Random Controllers E328.pth\n"
     ]
    },
    {
     "name": "stderr",
     "output_type": "stream",
     "text": [
      "\u001b[2m\u001b[36m(pid=15610)\u001b[0m /home/ec2-user/.local/lib/python3.6/site-packages/ray/workers/default_worker.py:58: RuntimeWarning: invalid value encountered in true_divide\n",
      "\u001b[2m\u001b[36m(pid=15610)\u001b[0m   type=str,\n"
     ]
    },
    {
     "name": "stdout",
     "output_type": "stream",
     "text": [
      "\u001b[2m\u001b[36m(pid=15615)\u001b[0m Loading Random Controllers E280.pth\n"
     ]
    },
    {
     "name": "stderr",
     "output_type": "stream",
     "text": [
      "\u001b[2m\u001b[36m(pid=15615)\u001b[0m /home/ec2-user/.local/lib/python3.6/site-packages/ray/workers/default_worker.py:58: RuntimeWarning: invalid value encountered in true_divide\n",
      "\u001b[2m\u001b[36m(pid=15615)\u001b[0m   type=str,\n"
     ]
    },
    {
     "name": "stdout",
     "output_type": "stream",
     "text": [
      "\u001b[2m\u001b[36m(pid=15611)\u001b[0m Loading Random Controllers E112.pth\n"
     ]
    },
    {
     "name": "stderr",
     "output_type": "stream",
     "text": [
      "\u001b[2m\u001b[36m(pid=15611)\u001b[0m /home/ec2-user/.local/lib/python3.6/site-packages/ray/workers/default_worker.py:58: RuntimeWarning: invalid value encountered in true_divide\n",
      "\u001b[2m\u001b[36m(pid=15611)\u001b[0m   type=str,\n"
     ]
    },
    {
     "name": "stdout",
     "output_type": "stream",
     "text": [
      "\u001b[2m\u001b[36m(pid=15614)\u001b[0m Loading Random Controllers E376.pth\n"
     ]
    },
    {
     "name": "stderr",
     "output_type": "stream",
     "text": [
      "\u001b[2m\u001b[36m(pid=15614)\u001b[0m /home/ec2-user/.local/lib/python3.6/site-packages/ray/workers/default_worker.py:58: RuntimeWarning: invalid value encountered in true_divide\n",
      "\u001b[2m\u001b[36m(pid=15614)\u001b[0m   type=str,\n"
     ]
    },
    {
     "name": "stdout",
     "output_type": "stream",
     "text": [
      "\u001b[2m\u001b[36m(pid=15617)\u001b[0m Loading Random Controllers E216.pth\n"
     ]
    },
    {
     "name": "stderr",
     "output_type": "stream",
     "text": [
      "\u001b[2m\u001b[36m(pid=15617)\u001b[0m /home/ec2-user/.local/lib/python3.6/site-packages/ray/workers/default_worker.py:58: RuntimeWarning: invalid value encountered in true_divide\n",
      "\u001b[2m\u001b[36m(pid=15617)\u001b[0m   type=str,\n"
     ]
    },
    {
     "name": "stdout",
     "output_type": "stream",
     "text": [
      "\u001b[2m\u001b[36m(pid=15618)\u001b[0m Loading Random Controllers E320.pth\n"
     ]
    },
    {
     "name": "stderr",
     "output_type": "stream",
     "text": [
      "\u001b[2m\u001b[36m(pid=15618)\u001b[0m /home/ec2-user/.local/lib/python3.6/site-packages/ray/workers/default_worker.py:58: RuntimeWarning: invalid value encountered in true_divide\n",
      "\u001b[2m\u001b[36m(pid=15618)\u001b[0m   type=str,\n"
     ]
    },
    {
     "name": "stdout",
     "output_type": "stream",
     "text": [
      "\u001b[2m\u001b[36m(pid=15619)\u001b[0m Loading Random Controllers E280.pth\n"
     ]
    },
    {
     "name": "stderr",
     "output_type": "stream",
     "text": [
      "\u001b[2m\u001b[36m(pid=15619)\u001b[0m /home/ec2-user/.local/lib/python3.6/site-packages/ray/workers/default_worker.py:58: RuntimeWarning: invalid value encountered in true_divide\n",
      "\u001b[2m\u001b[36m(pid=15619)\u001b[0m   type=str,\n"
     ]
    },
    {
     "name": "stdout",
     "output_type": "stream",
     "text": [
      "\u001b[2m\u001b[36m(pid=15614)\u001b[0m Game 620 White Won\n",
      "\u001b[2m\u001b[36m(pid=15613)\u001b[0m Game 615 White Won\n",
      "\u001b[2m\u001b[36m(pid=15624)\u001b[0m Game 609 White Won\n",
      "\u001b[2m\u001b[36m(pid=15619)\u001b[0m Game 623 Draw\n",
      "\u001b[2m\u001b[36m(pid=15619)\u001b[0m WARNING DELETING EXPERIENCES\n",
      "\u001b[2m\u001b[36m(pid=15620)\u001b[0m Game 613 White Won\n",
      "\u001b[2m\u001b[36m(pid=15612)\u001b[0m Game 608 Draw\n",
      "\u001b[2m\u001b[36m(pid=15612)\u001b[0m WARNING DELETING EXPERIENCES\n",
      "\u001b[2m\u001b[36m(pid=15617)\u001b[0m Game 621 Draw\n",
      "\u001b[2m\u001b[36m(pid=15617)\u001b[0m WARNING DELETING EXPERIENCES\n",
      "\u001b[2m\u001b[36m(pid=15625)\u001b[0m Game 610 Draw\n",
      "\u001b[2m\u001b[36m(pid=15625)\u001b[0m WARNING DELETING EXPERIENCES\n",
      "\u001b[2m\u001b[36m(pid=15618)\u001b[0m Game 622 Draw\n",
      "\u001b[2m\u001b[36m(pid=15618)\u001b[0m WARNING DELETING EXPERIENCES\n",
      "\u001b[2m\u001b[36m(pid=15611)\u001b[0m Game 619 Draw\n",
      "\u001b[2m\u001b[36m(pid=15611)\u001b[0m WARNING DELETING EXPERIENCES\n",
      "\u001b[2m\u001b[36m(pid=15610)\u001b[0m Game 617 Draw\n",
      "\u001b[2m\u001b[36m(pid=15610)\u001b[0m WARNING DELETING EXPERIENCES\n",
      "\u001b[2m\u001b[36m(pid=15616)\u001b[0m Game 612 Draw\n",
      "\u001b[2m\u001b[36m(pid=15616)\u001b[0m WARNING DELETING EXPERIENCES\n",
      "\u001b[2m\u001b[36m(pid=15623)\u001b[0m Game 616 Draw\n",
      "\u001b[2m\u001b[36m(pid=15623)\u001b[0m WARNING DELETING EXPERIENCES\n",
      "\u001b[2m\u001b[36m(pid=15615)\u001b[0m Game 618 White Loss\n",
      "\u001b[2m\u001b[36m(pid=15621)\u001b[0m Game 614 Draw\n",
      "\u001b[2m\u001b[36m(pid=15621)\u001b[0m WARNING DELETING EXPERIENCES\n",
      "\u001b[2m\u001b[36m(pid=15622)\u001b[0m Game 611 Draw\n",
      "\u001b[2m\u001b[36m(pid=15622)\u001b[0m WARNING DELETING EXPERIENCES\n",
      "ACTOR LOSS 5591.38134765625 | CRITIC LOSS 8.403467178344727\n",
      "ACTOR LOSS 6107.2724609375 | CRITIC LOSS 10.61825180053711\n",
      "ACTOR LOSS 5685.1767578125 | CRITIC LOSS 10.62918472290039\n",
      "ACTOR LOSS 5931.85009765625 | CRITIC LOSS 18.942352294921875\n",
      "ACTOR LOSS 6142.203125 | CRITIC LOSS 6.280002117156982\n",
      "SAVING\n",
      "ACTOR LOSS 6137.58349609375 | CRITIC LOSS 11.657346725463867\n",
      "ACTOR LOSS 6140.2294921875 | CRITIC LOSS 10.652724266052246\n",
      "ACTOR LOSS 5669.068359375 | CRITIC LOSS 8.132060050964355\n",
      "ACTOR LOSS 5931.80126953125 | CRITIC LOSS 5.435676574707031\n",
      "ACTOR LOSS 6163.51416015625 | CRITIC LOSS 7.895631313323975\n",
      "\u001b[2m\u001b[36m(pid=15621)\u001b[0m Loading Random Controllers E32.pth\n"
     ]
    },
    {
     "name": "stderr",
     "output_type": "stream",
     "text": [
      "\u001b[2m\u001b[36m(pid=15621)\u001b[0m /home/ec2-user/.local/lib/python3.6/site-packages/ray/workers/default_worker.py:58: RuntimeWarning: invalid value encountered in true_divide\n",
      "\u001b[2m\u001b[36m(pid=15621)\u001b[0m   type=str,\n"
     ]
    },
    {
     "name": "stdout",
     "output_type": "stream",
     "text": [
      "\u001b[2m\u001b[36m(pid=15615)\u001b[0m Loading Random Controllers E72.pth\n"
     ]
    },
    {
     "name": "stderr",
     "output_type": "stream",
     "text": [
      "\u001b[2m\u001b[36m(pid=15615)\u001b[0m /home/ec2-user/.local/lib/python3.6/site-packages/ray/workers/default_worker.py:58: RuntimeWarning: invalid value encountered in true_divide\n",
      "\u001b[2m\u001b[36m(pid=15615)\u001b[0m   type=str,\n"
     ]
    },
    {
     "name": "stdout",
     "output_type": "stream",
     "text": [
      "\u001b[2m\u001b[36m(pid=15616)\u001b[0m Loading Random Controllers E384.pth\n"
     ]
    },
    {
     "name": "stderr",
     "output_type": "stream",
     "text": [
      "\u001b[2m\u001b[36m(pid=15616)\u001b[0m /home/ec2-user/.local/lib/python3.6/site-packages/ray/workers/default_worker.py:58: RuntimeWarning: invalid value encountered in true_divide\n",
      "\u001b[2m\u001b[36m(pid=15616)\u001b[0m   type=str,\n"
     ]
    },
    {
     "name": "stdout",
     "output_type": "stream",
     "text": [
      "\u001b[2m\u001b[36m(pid=15622)\u001b[0m Loading Random Controllers E136.pth\n"
     ]
    },
    {
     "name": "stderr",
     "output_type": "stream",
     "text": [
      "\u001b[2m\u001b[36m(pid=15622)\u001b[0m /home/ec2-user/.local/lib/python3.6/site-packages/ray/workers/default_worker.py:58: RuntimeWarning: invalid value encountered in true_divide\n",
      "\u001b[2m\u001b[36m(pid=15622)\u001b[0m   type=str,\n",
      "\u001b[2m\u001b[36m(pid=15625)\u001b[0m /home/ec2-user/.local/lib/python3.6/site-packages/ray/workers/default_worker.py:58: RuntimeWarning: invalid value encountered in true_divide\n",
      "\u001b[2m\u001b[36m(pid=15625)\u001b[0m   type=str,\n"
     ]
    },
    {
     "name": "stdout",
     "output_type": "stream",
     "text": [
      "\u001b[2m\u001b[36m(pid=15625)\u001b[0m Loading Random Controllers E32.pth\n",
      "\u001b[2m\u001b[36m(pid=15618)\u001b[0m Loading Random Controllers E120.pth\n"
     ]
    },
    {
     "name": "stderr",
     "output_type": "stream",
     "text": [
      "\u001b[2m\u001b[36m(pid=15618)\u001b[0m /home/ec2-user/.local/lib/python3.6/site-packages/ray/workers/default_worker.py:58: RuntimeWarning: invalid value encountered in true_divide\n",
      "\u001b[2m\u001b[36m(pid=15618)\u001b[0m   type=str,\n"
     ]
    },
    {
     "name": "stdout",
     "output_type": "stream",
     "text": [
      "\u001b[2m\u001b[36m(pid=15617)\u001b[0m Loading Random Controllers E272.pth\n"
     ]
    },
    {
     "name": "stderr",
     "output_type": "stream",
     "text": [
      "\u001b[2m\u001b[36m(pid=15617)\u001b[0m /home/ec2-user/.local/lib/python3.6/site-packages/ray/workers/default_worker.py:58: RuntimeWarning: invalid value encountered in true_divide\n",
      "\u001b[2m\u001b[36m(pid=15617)\u001b[0m   type=str,\n",
      "\u001b[2m\u001b[36m(pid=15612)\u001b[0m /home/ec2-user/.local/lib/python3.6/site-packages/ray/workers/default_worker.py:58: RuntimeWarning: invalid value encountered in true_divide\n",
      "\u001b[2m\u001b[36m(pid=15612)\u001b[0m   type=str,\n"
     ]
    },
    {
     "name": "stdout",
     "output_type": "stream",
     "text": [
      "\u001b[2m\u001b[36m(pid=15612)\u001b[0m Loading Random Controllers E136.pth\n",
      "\u001b[2m\u001b[36m(pid=15620)\u001b[0m Loading Random Controllers E120.pth\n"
     ]
    },
    {
     "name": "stderr",
     "output_type": "stream",
     "text": [
      "\u001b[2m\u001b[36m(pid=15620)\u001b[0m /home/ec2-user/.local/lib/python3.6/site-packages/ray/workers/default_worker.py:58: RuntimeWarning: invalid value encountered in true_divide\n",
      "\u001b[2m\u001b[36m(pid=15620)\u001b[0m   type=str,\n"
     ]
    },
    {
     "name": "stdout",
     "output_type": "stream",
     "text": [
      "\u001b[2m\u001b[36m(pid=15619)\u001b[0m Loading Random Controllers E72.pth\n"
     ]
    },
    {
     "name": "stderr",
     "output_type": "stream",
     "text": [
      "\u001b[2m\u001b[36m(pid=15619)\u001b[0m /home/ec2-user/.local/lib/python3.6/site-packages/ray/workers/default_worker.py:58: RuntimeWarning: invalid value encountered in true_divide\n",
      "\u001b[2m\u001b[36m(pid=15619)\u001b[0m   type=str,\n"
     ]
    },
    {
     "name": "stdout",
     "output_type": "stream",
     "text": [
      "\u001b[2m\u001b[36m(pid=15624)\u001b[0m Loading Random Controllers E64.pth\n"
     ]
    },
    {
     "name": "stderr",
     "output_type": "stream",
     "text": [
      "\u001b[2m\u001b[36m(pid=15624)\u001b[0m /home/ec2-user/.local/lib/python3.6/site-packages/ray/workers/default_worker.py:58: RuntimeWarning: invalid value encountered in true_divide\n",
      "\u001b[2m\u001b[36m(pid=15624)\u001b[0m   type=str,\n"
     ]
    },
    {
     "name": "stdout",
     "output_type": "stream",
     "text": [
      "\u001b[2m\u001b[36m(pid=15623)\u001b[0m Loading Random Controllers E216.pth\n"
     ]
    },
    {
     "name": "stderr",
     "output_type": "stream",
     "text": [
      "\u001b[2m\u001b[36m(pid=15623)\u001b[0m /home/ec2-user/.local/lib/python3.6/site-packages/ray/workers/default_worker.py:58: RuntimeWarning: invalid value encountered in true_divide\n",
      "\u001b[2m\u001b[36m(pid=15623)\u001b[0m   type=str,\n"
     ]
    },
    {
     "name": "stdout",
     "output_type": "stream",
     "text": [
      "\u001b[2m\u001b[36m(pid=15610)\u001b[0m Loading Random Controllers E320.pth\n"
     ]
    },
    {
     "name": "stderr",
     "output_type": "stream",
     "text": [
      "\u001b[2m\u001b[36m(pid=15610)\u001b[0m /home/ec2-user/.local/lib/python3.6/site-packages/ray/workers/default_worker.py:58: RuntimeWarning: invalid value encountered in true_divide\n",
      "\u001b[2m\u001b[36m(pid=15610)\u001b[0m   type=str,\n"
     ]
    },
    {
     "name": "stdout",
     "output_type": "stream",
     "text": [
      "\u001b[2m\u001b[36m(pid=15613)\u001b[0m Loading Random Controllers E376.pth\n"
     ]
    },
    {
     "name": "stderr",
     "output_type": "stream",
     "text": [
      "\u001b[2m\u001b[36m(pid=15613)\u001b[0m /home/ec2-user/.local/lib/python3.6/site-packages/ray/workers/default_worker.py:58: RuntimeWarning: invalid value encountered in true_divide\n",
      "\u001b[2m\u001b[36m(pid=15613)\u001b[0m   type=str,\n"
     ]
    },
    {
     "name": "stdout",
     "output_type": "stream",
     "text": [
      "\u001b[2m\u001b[36m(pid=15611)\u001b[0m Loading Random Controllers E56.pth\n"
     ]
    },
    {
     "name": "stderr",
     "output_type": "stream",
     "text": [
      "\u001b[2m\u001b[36m(pid=15611)\u001b[0m /home/ec2-user/.local/lib/python3.6/site-packages/ray/workers/default_worker.py:58: RuntimeWarning: invalid value encountered in true_divide\n",
      "\u001b[2m\u001b[36m(pid=15611)\u001b[0m   type=str,\n"
     ]
    },
    {
     "name": "stdout",
     "output_type": "stream",
     "text": [
      "\u001b[2m\u001b[36m(pid=15614)\u001b[0m Loading Random Controllers E16.pth\n"
     ]
    },
    {
     "name": "stderr",
     "output_type": "stream",
     "text": [
      "\u001b[2m\u001b[36m(pid=15614)\u001b[0m /home/ec2-user/.local/lib/python3.6/site-packages/ray/workers/default_worker.py:58: RuntimeWarning: invalid value encountered in true_divide\n",
      "\u001b[2m\u001b[36m(pid=15614)\u001b[0m   type=str,\n"
     ]
    },
    {
     "name": "stdout",
     "output_type": "stream",
     "text": [
      "\u001b[2m\u001b[36m(pid=15625)\u001b[0m Game 628 White Loss\n",
      "\u001b[2m\u001b[36m(pid=15618)\u001b[0m Game 629 White Loss\n",
      "\u001b[2m\u001b[36m(pid=15611)\u001b[0m Game 638 White Loss\n",
      "\u001b[2m\u001b[36m(pid=15621)\u001b[0m Game 624 White Won\n",
      "\u001b[2m\u001b[36m(pid=15623)\u001b[0m Game 635 Draw\n",
      "\u001b[2m\u001b[36m(pid=15623)\u001b[0m WARNING DELETING EXPERIENCES\n",
      "\u001b[2m\u001b[36m(pid=15617)\u001b[0m Game 630 Draw\n",
      "\u001b[2m\u001b[36m(pid=15617)\u001b[0m WARNING DELETING EXPERIENCES\n",
      "\u001b[2m\u001b[36m(pid=15620)\u001b[0m Game 632 Draw\n",
      "\u001b[2m\u001b[36m(pid=15620)\u001b[0m WARNING DELETING EXPERIENCES\n",
      "\u001b[2m\u001b[36m(pid=15613)\u001b[0m Game 637 Draw\n",
      "\u001b[2m\u001b[36m(pid=15613)\u001b[0m WARNING DELETING EXPERIENCES\n",
      "\u001b[2m\u001b[36m(pid=15615)\u001b[0m Game 625 Draw\n",
      "\u001b[2m\u001b[36m(pid=15615)\u001b[0m WARNING DELETING EXPERIENCES\n",
      "\u001b[2m\u001b[36m(pid=15616)\u001b[0m Game 626 Draw\n",
      "\u001b[2m\u001b[36m(pid=15616)\u001b[0m WARNING DELETING EXPERIENCES\n",
      "\u001b[2m\u001b[36m(pid=15612)\u001b[0m Game 631 Draw\n",
      "\u001b[2m\u001b[36m(pid=15612)\u001b[0m WARNING DELETING EXPERIENCES\n",
      "\u001b[2m\u001b[36m(pid=15619)\u001b[0m Game 633 Draw\n",
      "\u001b[2m\u001b[36m(pid=15619)\u001b[0m WARNING DELETING EXPERIENCES\n",
      "\u001b[2m\u001b[36m(pid=15614)\u001b[0m Game 639 Draw\n",
      "\u001b[2m\u001b[36m(pid=15614)\u001b[0m WARNING DELETING EXPERIENCES\n",
      "\u001b[2m\u001b[36m(pid=15624)\u001b[0m Game 634 Draw\n",
      "\u001b[2m\u001b[36m(pid=15624)\u001b[0m WARNING DELETING EXPERIENCES\n",
      "\u001b[2m\u001b[36m(pid=15622)\u001b[0m Game 627 Draw\n",
      "\u001b[2m\u001b[36m(pid=15622)\u001b[0m WARNING DELETING EXPERIENCES\n",
      "\u001b[2m\u001b[36m(pid=15610)\u001b[0m Game 636 Draw\n",
      "\u001b[2m\u001b[36m(pid=15610)\u001b[0m WARNING DELETING EXPERIENCES\n",
      "ACTOR LOSS 5711.7685546875 | CRITIC LOSS 12.431253433227539\n",
      "ACTOR LOSS 6142.5107421875 | CRITIC LOSS 7.457387924194336\n",
      "ACTOR LOSS 5558.51806640625 | CRITIC LOSS 18.156831741333008\n",
      "SAVING\n",
      "ACTOR LOSS 6155.2119140625 | CRITIC LOSS 8.608556747436523\n",
      "ACTOR LOSS 6160.5732421875 | CRITIC LOSS 3.9011027812957764\n",
      "ACTOR LOSS 5703.16748046875 | CRITIC LOSS 7.048210144042969\n",
      "ACTOR LOSS 6012.71044921875 | CRITIC LOSS 24.738426208496094\n",
      "ACTOR LOSS 5578.4482421875 | CRITIC LOSS 10.96257209777832\n",
      "ACTOR LOSS 6130.08544921875 | CRITIC LOSS 15.278427124023438\n",
      "ACTOR LOSS 6002.037109375 | CRITIC LOSS 8.273046493530273\n",
      "\u001b[2m\u001b[36m(pid=15624)\u001b[0m Loading Random Controllers E24.pth\n"
     ]
    },
    {
     "name": "stderr",
     "output_type": "stream",
     "text": [
      "\u001b[2m\u001b[36m(pid=15624)\u001b[0m /home/ec2-user/.local/lib/python3.6/site-packages/ray/workers/default_worker.py:58: RuntimeWarning: invalid value encountered in true_divide\n",
      "\u001b[2m\u001b[36m(pid=15624)\u001b[0m   type=str,\n"
     ]
    },
    {
     "name": "stdout",
     "output_type": "stream",
     "text": [
      "\u001b[2m\u001b[36m(pid=15619)\u001b[0m Loading Random Controllers E40.pth\n"
     ]
    },
    {
     "name": "stderr",
     "output_type": "stream",
     "text": [
      "\u001b[2m\u001b[36m(pid=15619)\u001b[0m /home/ec2-user/.local/lib/python3.6/site-packages/ray/workers/default_worker.py:58: RuntimeWarning: invalid value encountered in true_divide\n",
      "\u001b[2m\u001b[36m(pid=15619)\u001b[0m   type=str,\n"
     ]
    },
    {
     "name": "stdout",
     "output_type": "stream",
     "text": [
      "\u001b[2m\u001b[36m(pid=15612)\u001b[0m Loading Random Controllers E328.pth\n"
     ]
    },
    {
     "name": "stderr",
     "output_type": "stream",
     "text": [
      "\u001b[2m\u001b[36m(pid=15612)\u001b[0m /home/ec2-user/.local/lib/python3.6/site-packages/ray/workers/default_worker.py:58: RuntimeWarning: invalid value encountered in true_divide\n",
      "\u001b[2m\u001b[36m(pid=15612)\u001b[0m   type=str,\n"
     ]
    },
    {
     "name": "stdout",
     "output_type": "stream",
     "text": [
      "\u001b[2m\u001b[36m(pid=15616)\u001b[0m Loading Random Controllers E48.pth\n"
     ]
    },
    {
     "name": "stderr",
     "output_type": "stream",
     "text": [
      "\u001b[2m\u001b[36m(pid=15616)\u001b[0m /home/ec2-user/.local/lib/python3.6/site-packages/ray/workers/default_worker.py:58: RuntimeWarning: invalid value encountered in true_divide\n",
      "\u001b[2m\u001b[36m(pid=15616)\u001b[0m   type=str,\n"
     ]
    },
    {
     "name": "stdout",
     "output_type": "stream",
     "text": [
      "\u001b[2m\u001b[36m(pid=15615)\u001b[0m Loading Random Controllers E208.pth\n"
     ]
    },
    {
     "name": "stderr",
     "output_type": "stream",
     "text": [
      "\u001b[2m\u001b[36m(pid=15615)\u001b[0m /home/ec2-user/.local/lib/python3.6/site-packages/ray/workers/default_worker.py:58: RuntimeWarning: invalid value encountered in true_divide\n",
      "\u001b[2m\u001b[36m(pid=15615)\u001b[0m   type=str,\n"
     ]
    },
    {
     "name": "stdout",
     "output_type": "stream",
     "text": [
      "\u001b[2m\u001b[36m(pid=15620)\u001b[0m Loading Random Controllers E392.pth\n"
     ]
    },
    {
     "name": "stderr",
     "output_type": "stream",
     "text": [
      "\u001b[2m\u001b[36m(pid=15620)\u001b[0m /home/ec2-user/.local/lib/python3.6/site-packages/ray/workers/default_worker.py:58: RuntimeWarning: invalid value encountered in true_divide\n",
      "\u001b[2m\u001b[36m(pid=15620)\u001b[0m   type=str,\n"
     ]
    },
    {
     "name": "stdout",
     "output_type": "stream",
     "text": [
      "\u001b[2m\u001b[36m(pid=15610)\u001b[0m Loading Random Controllers E80.pth\n"
     ]
    },
    {
     "name": "stderr",
     "output_type": "stream",
     "text": [
      "\u001b[2m\u001b[36m(pid=15610)\u001b[0m /home/ec2-user/.local/lib/python3.6/site-packages/ray/workers/default_worker.py:58: RuntimeWarning: invalid value encountered in true_divide\n",
      "\u001b[2m\u001b[36m(pid=15610)\u001b[0m   type=str,\n"
     ]
    },
    {
     "name": "stdout",
     "output_type": "stream",
     "text": [
      "\u001b[2m\u001b[36m(pid=15613)\u001b[0m Loading Random Controllers E88.pth\n"
     ]
    },
    {
     "name": "stderr",
     "output_type": "stream",
     "text": [
      "\u001b[2m\u001b[36m(pid=15613)\u001b[0m /home/ec2-user/.local/lib/python3.6/site-packages/ray/workers/default_worker.py:58: RuntimeWarning: invalid value encountered in true_divide\n",
      "\u001b[2m\u001b[36m(pid=15613)\u001b[0m   type=str,\n"
     ]
    },
    {
     "name": "stdout",
     "output_type": "stream",
     "text": [
      "\u001b[2m\u001b[36m(pid=15623)\u001b[0m Loading Random Controllers E104.pth\n"
     ]
    },
    {
     "name": "stderr",
     "output_type": "stream",
     "text": [
      "\u001b[2m\u001b[36m(pid=15623)\u001b[0m /home/ec2-user/.local/lib/python3.6/site-packages/ray/workers/default_worker.py:58: RuntimeWarning: invalid value encountered in true_divide\n",
      "\u001b[2m\u001b[36m(pid=15623)\u001b[0m   type=str,\n"
     ]
    },
    {
     "name": "stdout",
     "output_type": "stream",
     "text": [
      "\u001b[2m\u001b[36m(pid=15621)\u001b[0m Loading Random Controllers E320.pth\n"
     ]
    },
    {
     "name": "stderr",
     "output_type": "stream",
     "text": [
      "\u001b[2m\u001b[36m(pid=15621)\u001b[0m /home/ec2-user/.local/lib/python3.6/site-packages/ray/workers/default_worker.py:58: RuntimeWarning: invalid value encountered in true_divide\n",
      "\u001b[2m\u001b[36m(pid=15621)\u001b[0m   type=str,\n"
     ]
    },
    {
     "name": "stdout",
     "output_type": "stream",
     "text": [
      "\u001b[2m\u001b[36m(pid=15614)\u001b[0m Loading Random Controllers E96.pth\n"
     ]
    },
    {
     "name": "stderr",
     "output_type": "stream",
     "text": [
      "\u001b[2m\u001b[36m(pid=15614)\u001b[0m /home/ec2-user/.local/lib/python3.6/site-packages/ray/workers/default_worker.py:58: RuntimeWarning: invalid value encountered in true_divide\n",
      "\u001b[2m\u001b[36m(pid=15614)\u001b[0m   type=str,\n"
     ]
    },
    {
     "name": "stdout",
     "output_type": "stream",
     "text": [
      "\u001b[2m\u001b[36m(pid=15611)\u001b[0m Loading Random Controllers E120.pth\n"
     ]
    },
    {
     "name": "stderr",
     "output_type": "stream",
     "text": [
      "\u001b[2m\u001b[36m(pid=15611)\u001b[0m /home/ec2-user/.local/lib/python3.6/site-packages/ray/workers/default_worker.py:58: RuntimeWarning: invalid value encountered in true_divide\n",
      "\u001b[2m\u001b[36m(pid=15611)\u001b[0m   type=str,\n"
     ]
    },
    {
     "name": "stdout",
     "output_type": "stream",
     "text": [
      "\u001b[2m\u001b[36m(pid=15617)\u001b[0m Loading Random Controllers E168.pth\n"
     ]
    },
    {
     "name": "stderr",
     "output_type": "stream",
     "text": [
      "\u001b[2m\u001b[36m(pid=15617)\u001b[0m /home/ec2-user/.local/lib/python3.6/site-packages/ray/workers/default_worker.py:58: RuntimeWarning: invalid value encountered in true_divide\n",
      "\u001b[2m\u001b[36m(pid=15617)\u001b[0m   type=str,\n"
     ]
    },
    {
     "name": "stdout",
     "output_type": "stream",
     "text": [
      "\u001b[2m\u001b[36m(pid=15618)\u001b[0m Loading Random Controllers E352.pth\n"
     ]
    },
    {
     "name": "stderr",
     "output_type": "stream",
     "text": [
      "\u001b[2m\u001b[36m(pid=15618)\u001b[0m /home/ec2-user/.local/lib/python3.6/site-packages/ray/workers/default_worker.py:58: RuntimeWarning: invalid value encountered in true_divide\n",
      "\u001b[2m\u001b[36m(pid=15618)\u001b[0m   type=str,\n"
     ]
    },
    {
     "name": "stdout",
     "output_type": "stream",
     "text": [
      "\u001b[2m\u001b[36m(pid=15622)\u001b[0m Loading Random Controllers E200.pth\n"
     ]
    },
    {
     "name": "stderr",
     "output_type": "stream",
     "text": [
      "\u001b[2m\u001b[36m(pid=15622)\u001b[0m /home/ec2-user/.local/lib/python3.6/site-packages/ray/workers/default_worker.py:58: RuntimeWarning: invalid value encountered in true_divide\n",
      "\u001b[2m\u001b[36m(pid=15622)\u001b[0m   type=str,\n"
     ]
    },
    {
     "name": "stdout",
     "output_type": "stream",
     "text": [
      "\u001b[2m\u001b[36m(pid=15625)\u001b[0m Loading Random Controllers E376.pth\n"
     ]
    },
    {
     "name": "stderr",
     "output_type": "stream",
     "text": [
      "\u001b[2m\u001b[36m(pid=15625)\u001b[0m /home/ec2-user/.local/lib/python3.6/site-packages/ray/workers/default_worker.py:58: RuntimeWarning: invalid value encountered in true_divide\n",
      "\u001b[2m\u001b[36m(pid=15625)\u001b[0m   type=str,\n"
     ]
    },
    {
     "name": "stdout",
     "output_type": "stream",
     "text": [
      "\u001b[2m\u001b[36m(pid=15618)\u001b[0m Game 653 White Loss\n",
      "\u001b[2m\u001b[36m(pid=15625)\u001b[0m Game 655 White Loss\n",
      "\u001b[2m\u001b[36m(pid=15617)\u001b[0m Game 652 Draw\n",
      "\u001b[2m\u001b[36m(pid=15617)\u001b[0m WARNING DELETING EXPERIENCES\n",
      "\u001b[2m\u001b[36m(pid=15616)\u001b[0m Game 643 Draw\n",
      "\u001b[2m\u001b[36m(pid=15616)\u001b[0m WARNING DELETING EXPERIENCES\n",
      "\u001b[2m\u001b[36m(pid=15612)\u001b[0m Game 642 Draw\n",
      "\u001b[2m\u001b[36m(pid=15612)\u001b[0m WARNING DELETING EXPERIENCES\n",
      "\u001b[2m\u001b[36m(pid=15613)\u001b[0m Game 647 White Won\n",
      "\u001b[2m\u001b[36m(pid=15623)\u001b[0m Game 648 Draw\n",
      "\u001b[2m\u001b[36m(pid=15623)\u001b[0m WARNING DELETING EXPERIENCES\n",
      "\u001b[2m\u001b[36m(pid=15614)\u001b[0m Game 650 Draw\n",
      "\u001b[2m\u001b[36m(pid=15614)\u001b[0m WARNING DELETING EXPERIENCES\n",
      "\u001b[2m\u001b[36m(pid=15621)\u001b[0m Game 649 Draw\n",
      "\u001b[2m\u001b[36m(pid=15621)\u001b[0m WARNING DELETING EXPERIENCES\n",
      "\u001b[2m\u001b[36m(pid=15624)\u001b[0m Game 640 Draw\n",
      "\u001b[2m\u001b[36m(pid=15624)\u001b[0m WARNING DELETING EXPERIENCES\n",
      "\u001b[2m\u001b[36m(pid=15620)\u001b[0m Game 645 Draw\n",
      "\u001b[2m\u001b[36m(pid=15620)\u001b[0m WARNING DELETING EXPERIENCES\n",
      "\u001b[2m\u001b[36m(pid=15610)\u001b[0m Game 646 Draw\n",
      "\u001b[2m\u001b[36m(pid=15610)\u001b[0m WARNING DELETING EXPERIENCES\n",
      "\u001b[2m\u001b[36m(pid=15615)\u001b[0m Game 644 Draw\n",
      "\u001b[2m\u001b[36m(pid=15615)\u001b[0m WARNING DELETING EXPERIENCES\n",
      "\u001b[2m\u001b[36m(pid=15622)\u001b[0m Game 654 Draw\n",
      "\u001b[2m\u001b[36m(pid=15622)\u001b[0m WARNING DELETING EXPERIENCES\n",
      "\u001b[2m\u001b[36m(pid=15611)\u001b[0m Game 651 Draw\n",
      "\u001b[2m\u001b[36m(pid=15611)\u001b[0m WARNING DELETING EXPERIENCES\n",
      "\u001b[2m\u001b[36m(pid=15619)\u001b[0m Game 641 Draw\n",
      "\u001b[2m\u001b[36m(pid=15619)\u001b[0m WARNING DELETING EXPERIENCES\n",
      "ACTOR LOSS 5794.50439453125 | CRITIC LOSS 5.226586818695068\n",
      "SAVING\n",
      "ACTOR LOSS 5584.193359375 | CRITIC LOSS 7.878474235534668\n",
      "ACTOR LOSS 6108.994140625 | CRITIC LOSS 12.854805946350098\n",
      "ACTOR LOSS 6143.16796875 | CRITIC LOSS 4.0492963790893555\n",
      "ACTOR LOSS 5800.2646484375 | CRITIC LOSS 5.6063432693481445\n",
      "ACTOR LOSS 5655.92333984375 | CRITIC LOSS 20.04033660888672\n",
      "ACTOR LOSS 5842.2890625 | CRITIC LOSS 8.074213981628418\n",
      "ACTOR LOSS 6137.74853515625 | CRITIC LOSS 3.0099658966064453\n",
      "ACTOR LOSS 6149.16357421875 | CRITIC LOSS 3.525131940841675\n",
      "SAVING\n",
      "ACTOR LOSS 5967.8369140625 | CRITIC LOSS 5.436051368713379\n",
      "\u001b[2m\u001b[36m(pid=15619)\u001b[0m Loading Random Controllers E200.pth\n"
     ]
    },
    {
     "name": "stderr",
     "output_type": "stream",
     "text": [
      "\u001b[2m\u001b[36m(pid=15619)\u001b[0m /home/ec2-user/.local/lib/python3.6/site-packages/ray/workers/default_worker.py:58: RuntimeWarning: invalid value encountered in true_divide\n",
      "\u001b[2m\u001b[36m(pid=15619)\u001b[0m   type=str,\n"
     ]
    },
    {
     "name": "stdout",
     "output_type": "stream",
     "text": [
      "\u001b[2m\u001b[36m(pid=15615)\u001b[0m Loading Random Controllers E48.pth\n"
     ]
    },
    {
     "name": "stderr",
     "output_type": "stream",
     "text": [
      "\u001b[2m\u001b[36m(pid=15615)\u001b[0m /home/ec2-user/.local/lib/python3.6/site-packages/ray/workers/default_worker.py:58: RuntimeWarning: invalid value encountered in true_divide\n",
      "\u001b[2m\u001b[36m(pid=15615)\u001b[0m   type=str,\n"
     ]
    },
    {
     "name": "stdout",
     "output_type": "stream",
     "text": [
      "\u001b[2m\u001b[36m(pid=15620)\u001b[0m Loading Random Controllers E376.pth\n"
     ]
    },
    {
     "name": "stderr",
     "output_type": "stream",
     "text": [
      "\u001b[2m\u001b[36m(pid=15620)\u001b[0m /home/ec2-user/.local/lib/python3.6/site-packages/ray/workers/default_worker.py:58: RuntimeWarning: invalid value encountered in true_divide\n",
      "\u001b[2m\u001b[36m(pid=15620)\u001b[0m   type=str,\n"
     ]
    },
    {
     "name": "stdout",
     "output_type": "stream",
     "text": [
      "\u001b[2m\u001b[36m(pid=15624)\u001b[0m Loading Random Controllers E352.pth\n"
     ]
    },
    {
     "name": "stderr",
     "output_type": "stream",
     "text": [
      "\u001b[2m\u001b[36m(pid=15624)\u001b[0m /home/ec2-user/.local/lib/python3.6/site-packages/ray/workers/default_worker.py:58: RuntimeWarning: invalid value encountered in true_divide\n",
      "\u001b[2m\u001b[36m(pid=15624)\u001b[0m   type=str,\n"
     ]
    },
    {
     "name": "stdout",
     "output_type": "stream",
     "text": [
      "\u001b[2m\u001b[36m(pid=15621)\u001b[0m Loading Random Controllers E192.pth\n"
     ]
    },
    {
     "name": "stderr",
     "output_type": "stream",
     "text": [
      "\u001b[2m\u001b[36m(pid=15621)\u001b[0m /home/ec2-user/.local/lib/python3.6/site-packages/ray/workers/default_worker.py:58: RuntimeWarning: invalid value encountered in true_divide\n",
      "\u001b[2m\u001b[36m(pid=15621)\u001b[0m   type=str,\n"
     ]
    },
    {
     "name": "stdout",
     "output_type": "stream",
     "text": [
      "\u001b[2m\u001b[36m(pid=15611)\u001b[0m Loading Random Controllers E64.pth\n"
     ]
    },
    {
     "name": "stderr",
     "output_type": "stream",
     "text": [
      "\u001b[2m\u001b[36m(pid=15611)\u001b[0m /home/ec2-user/.local/lib/python3.6/site-packages/ray/workers/default_worker.py:58: RuntimeWarning: invalid value encountered in true_divide\n",
      "\u001b[2m\u001b[36m(pid=15611)\u001b[0m   type=str,\n"
     ]
    },
    {
     "name": "stdout",
     "output_type": "stream",
     "text": [
      "\u001b[2m\u001b[36m(pid=15614)\u001b[0m Loading Random Controllers E224.pth\n"
     ]
    },
    {
     "name": "stderr",
     "output_type": "stream",
     "text": [
      "\u001b[2m\u001b[36m(pid=15614)\u001b[0m /home/ec2-user/.local/lib/python3.6/site-packages/ray/workers/default_worker.py:58: RuntimeWarning: invalid value encountered in true_divide\n",
      "\u001b[2m\u001b[36m(pid=15614)\u001b[0m   type=str,\n"
     ]
    },
    {
     "name": "stdout",
     "output_type": "stream",
     "text": [
      "\u001b[2m\u001b[36m(pid=15610)\u001b[0m Loading Random Controllers E400.pth\n"
     ]
    },
    {
     "name": "stderr",
     "output_type": "stream",
     "text": [
      "\u001b[2m\u001b[36m(pid=15610)\u001b[0m /home/ec2-user/.local/lib/python3.6/site-packages/ray/workers/default_worker.py:58: RuntimeWarning: invalid value encountered in true_divide\n",
      "\u001b[2m\u001b[36m(pid=15610)\u001b[0m   type=str,\n"
     ]
    },
    {
     "name": "stdout",
     "output_type": "stream",
     "text": [
      "\u001b[2m\u001b[36m(pid=15623)\u001b[0m Loading Random Controllers E112.pth\n"
     ]
    },
    {
     "name": "stderr",
     "output_type": "stream",
     "text": [
      "\u001b[2m\u001b[36m(pid=15623)\u001b[0m /home/ec2-user/.local/lib/python3.6/site-packages/ray/workers/default_worker.py:58: RuntimeWarning: invalid value encountered in true_divide\n",
      "\u001b[2m\u001b[36m(pid=15623)\u001b[0m   type=str,\n"
     ]
    },
    {
     "name": "stdout",
     "output_type": "stream",
     "text": [
      "\u001b[2m\u001b[36m(pid=15613)\u001b[0m Loading Random Controllers E96.pth\n"
     ]
    },
    {
     "name": "stderr",
     "output_type": "stream",
     "text": [
      "\u001b[2m\u001b[36m(pid=15613)\u001b[0m /home/ec2-user/.local/lib/python3.6/site-packages/ray/workers/default_worker.py:58: RuntimeWarning: invalid value encountered in true_divide\n",
      "\u001b[2m\u001b[36m(pid=15613)\u001b[0m   type=str,\n"
     ]
    },
    {
     "name": "stdout",
     "output_type": "stream",
     "text": [
      "\u001b[2m\u001b[36m(pid=15612)\u001b[0m Loading Random Controllers E408.pth\n"
     ]
    },
    {
     "name": "stderr",
     "output_type": "stream",
     "text": [
      "\u001b[2m\u001b[36m(pid=15612)\u001b[0m /home/ec2-user/.local/lib/python3.6/site-packages/ray/workers/default_worker.py:58: RuntimeWarning: invalid value encountered in true_divide\n",
      "\u001b[2m\u001b[36m(pid=15612)\u001b[0m   type=str,\n"
     ]
    },
    {
     "name": "stdout",
     "output_type": "stream",
     "text": [
      "\u001b[2m\u001b[36m(pid=15616)\u001b[0m Loading Random Controllers E176.pth\n"
     ]
    },
    {
     "name": "stderr",
     "output_type": "stream",
     "text": [
      "\u001b[2m\u001b[36m(pid=15616)\u001b[0m /home/ec2-user/.local/lib/python3.6/site-packages/ray/workers/default_worker.py:58: RuntimeWarning: invalid value encountered in true_divide\n",
      "\u001b[2m\u001b[36m(pid=15616)\u001b[0m   type=str,\n"
     ]
    },
    {
     "name": "stdout",
     "output_type": "stream",
     "text": [
      "\u001b[2m\u001b[36m(pid=15622)\u001b[0m Loading Random Controllers E296.pth\n"
     ]
    },
    {
     "name": "stderr",
     "output_type": "stream",
     "text": [
      "\u001b[2m\u001b[36m(pid=15622)\u001b[0m /home/ec2-user/.local/lib/python3.6/site-packages/ray/workers/default_worker.py:58: RuntimeWarning: invalid value encountered in true_divide\n",
      "\u001b[2m\u001b[36m(pid=15622)\u001b[0m   type=str,\n"
     ]
    },
    {
     "name": "stdout",
     "output_type": "stream",
     "text": [
      "\u001b[2m\u001b[36m(pid=15625)\u001b[0m Loading Random Controllers E352.pth\n"
     ]
    },
    {
     "name": "stderr",
     "output_type": "stream",
     "text": [
      "\u001b[2m\u001b[36m(pid=15625)\u001b[0m /home/ec2-user/.local/lib/python3.6/site-packages/ray/workers/default_worker.py:58: RuntimeWarning: invalid value encountered in true_divide\n",
      "\u001b[2m\u001b[36m(pid=15625)\u001b[0m   type=str,\n"
     ]
    },
    {
     "name": "stdout",
     "output_type": "stream",
     "text": [
      "\u001b[2m\u001b[36m(pid=15617)\u001b[0m Loading Random Controllers E272.pth\n"
     ]
    },
    {
     "name": "stderr",
     "output_type": "stream",
     "text": [
      "\u001b[2m\u001b[36m(pid=15617)\u001b[0m /home/ec2-user/.local/lib/python3.6/site-packages/ray/workers/default_worker.py:58: RuntimeWarning: invalid value encountered in true_divide\n",
      "\u001b[2m\u001b[36m(pid=15617)\u001b[0m   type=str,\n"
     ]
    },
    {
     "name": "stdout",
     "output_type": "stream",
     "text": [
      "\u001b[2m\u001b[36m(pid=15618)\u001b[0m Loading Random Controllers E400.pth\n"
     ]
    },
    {
     "name": "stderr",
     "output_type": "stream",
     "text": [
      "\u001b[2m\u001b[36m(pid=15618)\u001b[0m /home/ec2-user/.local/lib/python3.6/site-packages/ray/workers/default_worker.py:58: RuntimeWarning: invalid value encountered in true_divide\n",
      "\u001b[2m\u001b[36m(pid=15618)\u001b[0m   type=str,\n"
     ]
    },
    {
     "name": "stdout",
     "output_type": "stream",
     "text": [
      "\u001b[2m\u001b[36m(pid=15618)\u001b[0m Game 671 Draw\n",
      "\u001b[2m\u001b[36m(pid=15618)\u001b[0m WARNING DELETING EXPERIENCES\n",
      "\u001b[2m\u001b[36m(pid=15614)\u001b[0m Game 662 Draw\n",
      "\u001b[2m\u001b[36m(pid=15614)\u001b[0m WARNING DELETING EXPERIENCES\n",
      "\u001b[2m\u001b[36m(pid=15613)\u001b[0m Game 665 Draw\n",
      "\u001b[2m\u001b[36m(pid=15613)\u001b[0m WARNING DELETING EXPERIENCES\n",
      "\u001b[2m\u001b[36m(pid=15612)\u001b[0m Game 666 Draw\n",
      "\u001b[2m\u001b[36m(pid=15612)\u001b[0m WARNING DELETING EXPERIENCES\n",
      "\u001b[2m\u001b[36m(pid=15624)\u001b[0m Game 659 Draw\n",
      "\u001b[2m\u001b[36m(pid=15624)\u001b[0m WARNING DELETING EXPERIENCES\n",
      "\u001b[2m\u001b[36m(pid=15620)\u001b[0m Game 658 Draw\n",
      "\u001b[2m\u001b[36m(pid=15620)\u001b[0m WARNING DELETING EXPERIENCES\n",
      "\u001b[2m\u001b[36m(pid=15611)\u001b[0m Game 661 Draw\n",
      "\u001b[2m\u001b[36m(pid=15611)\u001b[0m WARNING DELETING EXPERIENCES\n",
      "\u001b[2m\u001b[36m(pid=15617)\u001b[0m Game 670 Draw\n",
      "\u001b[2m\u001b[36m(pid=15617)\u001b[0m WARNING DELETING EXPERIENCES\n",
      "\u001b[2m\u001b[36m(pid=15619)\u001b[0m Game 656 Draw\n",
      "\u001b[2m\u001b[36m(pid=15619)\u001b[0m WARNING DELETING EXPERIENCES\n",
      "\u001b[2m\u001b[36m(pid=15622)\u001b[0m Game 668 Draw\n",
      "\u001b[2m\u001b[36m(pid=15622)\u001b[0m WARNING DELETING EXPERIENCES\n",
      "\u001b[2m\u001b[36m(pid=15616)\u001b[0m Game 667 Draw\n",
      "\u001b[2m\u001b[36m(pid=15616)\u001b[0m WARNING DELETING EXPERIENCES\n",
      "\u001b[2m\u001b[36m(pid=15623)\u001b[0m Game 664 Draw\n",
      "\u001b[2m\u001b[36m(pid=15623)\u001b[0m WARNING DELETING EXPERIENCES\n",
      "\u001b[2m\u001b[36m(pid=15615)\u001b[0m Game 657 Draw\n",
      "\u001b[2m\u001b[36m(pid=15615)\u001b[0m WARNING DELETING EXPERIENCES\n",
      "\u001b[2m\u001b[36m(pid=15610)\u001b[0m Game 663 Draw\n",
      "\u001b[2m\u001b[36m(pid=15610)\u001b[0m WARNING DELETING EXPERIENCES\n",
      "\u001b[2m\u001b[36m(pid=15621)\u001b[0m Game 660 Draw\n",
      "\u001b[2m\u001b[36m(pid=15621)\u001b[0m WARNING DELETING EXPERIENCES\n",
      "\u001b[2m\u001b[36m(pid=15625)\u001b[0m Game 669 Draw\n",
      "\u001b[2m\u001b[36m(pid=15625)\u001b[0m WARNING DELETING EXPERIENCES\n",
      "ACTOR LOSS 6053.03955078125 | CRITIC LOSS 6.589967727661133\n",
      "ACTOR LOSS 6132.93505859375 | CRITIC LOSS 4.549356937408447\n",
      "ACTOR LOSS 6133.39501953125 | CRITIC LOSS 13.686197280883789\n",
      "ACTOR LOSS 6160.8134765625 | CRITIC LOSS 2.9833357334136963\n",
      "ACTOR LOSS 6133.3505859375 | CRITIC LOSS 7.872741222381592\n",
      "ACTOR LOSS 6138.13916015625 | CRITIC LOSS 8.134538650512695\n",
      "ACTOR LOSS 5643.64404296875 | CRITIC LOSS 4.54835319519043\n",
      "SAVING\n",
      "ACTOR LOSS 5694.2578125 | CRITIC LOSS 7.178258895874023\n",
      "ACTOR LOSS 6153.73388671875 | CRITIC LOSS 3.2400662899017334\n",
      "ACTOR LOSS 6065.92041015625 | CRITIC LOSS 12.281508445739746\n",
      "\u001b[2m\u001b[36m(pid=15621)\u001b[0m Loading Random Controllers E88.pth\n"
     ]
    },
    {
     "name": "stderr",
     "output_type": "stream",
     "text": [
      "\u001b[2m\u001b[36m(pid=15621)\u001b[0m /home/ec2-user/.local/lib/python3.6/site-packages/ray/workers/default_worker.py:58: RuntimeWarning: invalid value encountered in true_divide\n",
      "\u001b[2m\u001b[36m(pid=15621)\u001b[0m   type=str,\n"
     ]
    },
    {
     "name": "stdout",
     "output_type": "stream",
     "text": [
      "\u001b[2m\u001b[36m(pid=15615)\u001b[0m Loading Random Controllers E160.pth\n"
     ]
    },
    {
     "name": "stderr",
     "output_type": "stream",
     "text": [
      "\u001b[2m\u001b[36m(pid=15615)\u001b[0m /home/ec2-user/.local/lib/python3.6/site-packages/ray/workers/default_worker.py:58: RuntimeWarning: invalid value encountered in true_divide\n",
      "\u001b[2m\u001b[36m(pid=15615)\u001b[0m   type=str,\n"
     ]
    },
    {
     "name": "stdout",
     "output_type": "stream",
     "text": [
      "\u001b[2m\u001b[36m(pid=15616)\u001b[0m Loading Random Controllers E64.pth\n"
     ]
    },
    {
     "name": "stderr",
     "output_type": "stream",
     "text": [
      "\u001b[2m\u001b[36m(pid=15616)\u001b[0m /home/ec2-user/.local/lib/python3.6/site-packages/ray/workers/default_worker.py:58: RuntimeWarning: invalid value encountered in true_divide\n",
      "\u001b[2m\u001b[36m(pid=15616)\u001b[0m   type=str,\n",
      "\u001b[2m\u001b[36m(pid=15625)\u001b[0m /home/ec2-user/.local/lib/python3.6/site-packages/ray/workers/default_worker.py:58: RuntimeWarning: invalid value encountered in true_divide\n",
      "\u001b[2m\u001b[36m(pid=15625)\u001b[0m   type=str,\n"
     ]
    },
    {
     "name": "stdout",
     "output_type": "stream",
     "text": [
      "\u001b[2m\u001b[36m(pid=15625)\u001b[0m Loading Random Controllers E232.pth\n",
      "\u001b[2m\u001b[36m(pid=15622)\u001b[0m Loading Random Controllers E280.pth\n"
     ]
    },
    {
     "name": "stderr",
     "output_type": "stream",
     "text": [
      "\u001b[2m\u001b[36m(pid=15622)\u001b[0m /home/ec2-user/.local/lib/python3.6/site-packages/ray/workers/default_worker.py:58: RuntimeWarning: invalid value encountered in true_divide\n",
      "\u001b[2m\u001b[36m(pid=15622)\u001b[0m   type=str,\n"
     ]
    },
    {
     "name": "stdout",
     "output_type": "stream",
     "text": [
      "\u001b[2m\u001b[36m(pid=15619)\u001b[0m Loading Random Controllers E384.pth\n"
     ]
    },
    {
     "name": "stderr",
     "output_type": "stream",
     "text": [
      "\u001b[2m\u001b[36m(pid=15619)\u001b[0m /home/ec2-user/.local/lib/python3.6/site-packages/ray/workers/default_worker.py:58: RuntimeWarning: invalid value encountered in true_divide\n",
      "\u001b[2m\u001b[36m(pid=15619)\u001b[0m   type=str,\n"
     ]
    },
    {
     "name": "stdout",
     "output_type": "stream",
     "text": [
      "\u001b[2m\u001b[36m(pid=15620)\u001b[0m Loading Random Controllers E248.pth\n"
     ]
    },
    {
     "name": "stderr",
     "output_type": "stream",
     "text": [
      "\u001b[2m\u001b[36m(pid=15620)\u001b[0m /home/ec2-user/.local/lib/python3.6/site-packages/ray/workers/default_worker.py:58: RuntimeWarning: invalid value encountered in true_divide\n",
      "\u001b[2m\u001b[36m(pid=15620)\u001b[0m   type=str,\n"
     ]
    },
    {
     "name": "stdout",
     "output_type": "stream",
     "text": [
      "\u001b[2m\u001b[36m(pid=15624)\u001b[0m Loading Random Controllers E136.pth\n"
     ]
    },
    {
     "name": "stderr",
     "output_type": "stream",
     "text": [
      "\u001b[2m\u001b[36m(pid=15624)\u001b[0m /home/ec2-user/.local/lib/python3.6/site-packages/ray/workers/default_worker.py:58: RuntimeWarning: invalid value encountered in true_divide\n",
      "\u001b[2m\u001b[36m(pid=15624)\u001b[0m   type=str,\n"
     ]
    },
    {
     "name": "stdout",
     "output_type": "stream",
     "text": [
      "\u001b[2m\u001b[36m(pid=15612)\u001b[0m Loading Random Controllers E192.pth\n"
     ]
    },
    {
     "name": "stderr",
     "output_type": "stream",
     "text": [
      "\u001b[2m\u001b[36m(pid=15612)\u001b[0m /home/ec2-user/.local/lib/python3.6/site-packages/ray/workers/default_worker.py:58: RuntimeWarning: invalid value encountered in true_divide\n",
      "\u001b[2m\u001b[36m(pid=15612)\u001b[0m   type=str,\n"
     ]
    },
    {
     "name": "stdout",
     "output_type": "stream",
     "text": [
      "\u001b[2m\u001b[36m(pid=15610)\u001b[0m Loading Random Controllers E176.pth\n"
     ]
    },
    {
     "name": "stderr",
     "output_type": "stream",
     "text": [
      "\u001b[2m\u001b[36m(pid=15610)\u001b[0m /home/ec2-user/.local/lib/python3.6/site-packages/ray/workers/default_worker.py:58: RuntimeWarning: invalid value encountered in true_divide\n",
      "\u001b[2m\u001b[36m(pid=15610)\u001b[0m   type=str,\n"
     ]
    },
    {
     "name": "stdout",
     "output_type": "stream",
     "text": [
      "\u001b[2m\u001b[36m(pid=15623)\u001b[0m Loading Random Controllers E392.pth\n"
     ]
    },
    {
     "name": "stderr",
     "output_type": "stream",
     "text": [
      "\u001b[2m\u001b[36m(pid=15623)\u001b[0m /home/ec2-user/.local/lib/python3.6/site-packages/ray/workers/default_worker.py:58: RuntimeWarning: invalid value encountered in true_divide\n",
      "\u001b[2m\u001b[36m(pid=15623)\u001b[0m   type=str,\n"
     ]
    },
    {
     "name": "stdout",
     "output_type": "stream",
     "text": [
      "\u001b[2m\u001b[36m(pid=15613)\u001b[0m Loading Random Controllers E120.pth\n"
     ]
    },
    {
     "name": "stderr",
     "output_type": "stream",
     "text": [
      "\u001b[2m\u001b[36m(pid=15613)\u001b[0m /home/ec2-user/.local/lib/python3.6/site-packages/ray/workers/default_worker.py:58: RuntimeWarning: invalid value encountered in true_divide\n",
      "\u001b[2m\u001b[36m(pid=15613)\u001b[0m   type=str,\n"
     ]
    },
    {
     "name": "stdout",
     "output_type": "stream",
     "text": [
      "\u001b[2m\u001b[36m(pid=15611)\u001b[0m Loading Random Controllers E264.pth\n"
     ]
    },
    {
     "name": "stderr",
     "output_type": "stream",
     "text": [
      "\u001b[2m\u001b[36m(pid=15611)\u001b[0m /home/ec2-user/.local/lib/python3.6/site-packages/ray/workers/default_worker.py:58: RuntimeWarning: invalid value encountered in true_divide\n",
      "\u001b[2m\u001b[36m(pid=15611)\u001b[0m   type=str,\n"
     ]
    },
    {
     "name": "stdout",
     "output_type": "stream",
     "text": [
      "\u001b[2m\u001b[36m(pid=15614)\u001b[0m Loading Random Controllers E40.pth\n"
     ]
    },
    {
     "name": "stderr",
     "output_type": "stream",
     "text": [
      "\u001b[2m\u001b[36m(pid=15614)\u001b[0m /home/ec2-user/.local/lib/python3.6/site-packages/ray/workers/default_worker.py:58: RuntimeWarning: invalid value encountered in true_divide\n",
      "\u001b[2m\u001b[36m(pid=15614)\u001b[0m   type=str,\n"
     ]
    },
    {
     "name": "stdout",
     "output_type": "stream",
     "text": [
      "\u001b[2m\u001b[36m(pid=15617)\u001b[0m Loading Random Controllers E152.pth\n"
     ]
    },
    {
     "name": "stderr",
     "output_type": "stream",
     "text": [
      "\u001b[2m\u001b[36m(pid=15617)\u001b[0m /home/ec2-user/.local/lib/python3.6/site-packages/ray/workers/default_worker.py:58: RuntimeWarning: invalid value encountered in true_divide\n",
      "\u001b[2m\u001b[36m(pid=15617)\u001b[0m   type=str,\n"
     ]
    },
    {
     "name": "stdout",
     "output_type": "stream",
     "text": [
      "\u001b[2m\u001b[36m(pid=15618)\u001b[0m Loading Random Controllers E8.pth\n"
     ]
    },
    {
     "name": "stderr",
     "output_type": "stream",
     "text": [
      "\u001b[2m\u001b[36m(pid=15618)\u001b[0m /home/ec2-user/.local/lib/python3.6/site-packages/ray/workers/default_worker.py:58: RuntimeWarning: invalid value encountered in true_divide\n",
      "\u001b[2m\u001b[36m(pid=15618)\u001b[0m   type=str,\n"
     ]
    },
    {
     "name": "stdout",
     "output_type": "stream",
     "text": [
      "\u001b[2m\u001b[36m(pid=15622)\u001b[0m Game 676 White Won\n",
      "\u001b[2m\u001b[36m(pid=15614)\u001b[0m Game 685 Draw\n",
      "\u001b[2m\u001b[36m(pid=15614)\u001b[0m WARNING DELETING EXPERIENCES\n",
      "\u001b[2m\u001b[36m(pid=15620)\u001b[0m Game 678 Draw\n",
      "\u001b[2m\u001b[36m(pid=15620)\u001b[0m WARNING DELETING EXPERIENCES\n",
      "\u001b[2m\u001b[36m(pid=15615)\u001b[0m Game 673 Draw\n",
      "\u001b[2m\u001b[36m(pid=15615)\u001b[0m WARNING DELETING EXPERIENCES\n",
      "\u001b[2m\u001b[36m(pid=15617)\u001b[0m Game 686 Draw\n",
      "\u001b[2m\u001b[36m(pid=15617)\u001b[0m WARNING DELETING EXPERIENCES\n",
      "\u001b[2m\u001b[36m(pid=15611)\u001b[0m Game 684 Draw\n",
      "\u001b[2m\u001b[36m(pid=15611)\u001b[0m WARNING DELETING EXPERIENCES\n",
      "\u001b[2m\u001b[36m(pid=15613)\u001b[0m Game 683 Draw\n",
      "\u001b[2m\u001b[36m(pid=15613)\u001b[0m WARNING DELETING EXPERIENCES\n",
      "\u001b[2m\u001b[36m(pid=15625)\u001b[0m Game 675 Draw\n",
      "\u001b[2m\u001b[36m(pid=15625)\u001b[0m WARNING DELETING EXPERIENCES\n",
      "\u001b[2m\u001b[36m(pid=15623)\u001b[0m Game 682 Draw\n",
      "\u001b[2m\u001b[36m(pid=15623)\u001b[0m WARNING DELETING EXPERIENCES\n",
      "\u001b[2m\u001b[36m(pid=15624)\u001b[0m Game 679 Draw\n",
      "\u001b[2m\u001b[36m(pid=15624)\u001b[0m WARNING DELETING EXPERIENCES\n",
      "\u001b[2m\u001b[36m(pid=15612)\u001b[0m Game 680 Draw\n",
      "\u001b[2m\u001b[36m(pid=15612)\u001b[0m WARNING DELETING EXPERIENCES\n",
      "\u001b[2m\u001b[36m(pid=15616)\u001b[0m Game 674 Draw\n",
      "\u001b[2m\u001b[36m(pid=15616)\u001b[0m WARNING DELETING EXPERIENCES\n",
      "\u001b[2m\u001b[36m(pid=15618)\u001b[0m Game 687 Draw\n",
      "\u001b[2m\u001b[36m(pid=15618)\u001b[0m WARNING DELETING EXPERIENCES\n",
      "\u001b[2m\u001b[36m(pid=15621)\u001b[0m Game 672 Draw\n",
      "\u001b[2m\u001b[36m(pid=15621)\u001b[0m WARNING DELETING EXPERIENCES\n",
      "\u001b[2m\u001b[36m(pid=15619)\u001b[0m Game 677 Draw\n",
      "\u001b[2m\u001b[36m(pid=15619)\u001b[0m WARNING DELETING EXPERIENCES\n",
      "\u001b[2m\u001b[36m(pid=15610)\u001b[0m Game 681 Draw\n",
      "\u001b[2m\u001b[36m(pid=15610)\u001b[0m WARNING DELETING EXPERIENCES\n",
      "ACTOR LOSS 6129.35888671875 | CRITIC LOSS 9.724599838256836\n",
      "ACTOR LOSS 6159.66943359375 | CRITIC LOSS 3.6303820610046387\n",
      "ACTOR LOSS 6166.138671875 | CRITIC LOSS 4.515420913696289\n",
      "ACTOR LOSS 6141.91845703125 | CRITIC LOSS 8.099998474121094\n",
      "ACTOR LOSS 5799.7060546875 | CRITIC LOSS 2.9135587215423584\n",
      "SAVING\n",
      "ACTOR LOSS 6065.38037109375 | CRITIC LOSS 9.249667167663574\n",
      "ACTOR LOSS 5797.29052734375 | CRITIC LOSS 9.838138580322266\n",
      "ACTOR LOSS 5981.421875 | CRITIC LOSS 8.283834457397461\n",
      "ACTOR LOSS 5831.0595703125 | CRITIC LOSS 6.430625915527344\n",
      "ACTOR LOSS 5913.4765625 | CRITIC LOSS 5.170778274536133\n",
      "\u001b[2m\u001b[36m(pid=15619)\u001b[0m Loading Random Controllers E368.pth\n"
     ]
    },
    {
     "name": "stderr",
     "output_type": "stream",
     "text": [
      "\u001b[2m\u001b[36m(pid=15619)\u001b[0m /home/ec2-user/.local/lib/python3.6/site-packages/ray/workers/default_worker.py:58: RuntimeWarning: invalid value encountered in true_divide\n",
      "\u001b[2m\u001b[36m(pid=15619)\u001b[0m   type=str,\n"
     ]
    },
    {
     "name": "stdout",
     "output_type": "stream",
     "text": [
      "\u001b[2m\u001b[36m(pid=15621)\u001b[0m Loading Random Controllers E336.pth\n"
     ]
    },
    {
     "name": "stderr",
     "output_type": "stream",
     "text": [
      "\u001b[2m\u001b[36m(pid=15621)\u001b[0m /home/ec2-user/.local/lib/python3.6/site-packages/ray/workers/default_worker.py:58: RuntimeWarning: invalid value encountered in true_divide\n",
      "\u001b[2m\u001b[36m(pid=15621)\u001b[0m   type=str,\n"
     ]
    },
    {
     "name": "stdout",
     "output_type": "stream",
     "text": [
      "\u001b[2m\u001b[36m(pid=15616)\u001b[0m Loading Random Controllers E16.pth\n"
     ]
    },
    {
     "name": "stderr",
     "output_type": "stream",
     "text": [
      "\u001b[2m\u001b[36m(pid=15616)\u001b[0m /home/ec2-user/.local/lib/python3.6/site-packages/ray/workers/default_worker.py:58: RuntimeWarning: invalid value encountered in true_divide\n",
      "\u001b[2m\u001b[36m(pid=15616)\u001b[0m   type=str,\n"
     ]
    },
    {
     "name": "stdout",
     "output_type": "stream",
     "text": [
      "\u001b[2m\u001b[36m(pid=15612)\u001b[0m Loading Random Controllers E272.pth\n"
     ]
    },
    {
     "name": "stderr",
     "output_type": "stream",
     "text": [
      "\u001b[2m\u001b[36m(pid=15612)\u001b[0m /home/ec2-user/.local/lib/python3.6/site-packages/ray/workers/default_worker.py:58: RuntimeWarning: invalid value encountered in true_divide\n",
      "\u001b[2m\u001b[36m(pid=15612)\u001b[0m   type=str,\n",
      "\u001b[2m\u001b[36m(pid=15624)\u001b[0m /home/ec2-user/.local/lib/python3.6/site-packages/ray/workers/default_worker.py:58: RuntimeWarning: invalid value encountered in true_divide\n",
      "\u001b[2m\u001b[36m(pid=15624)\u001b[0m   type=str,\n"
     ]
    },
    {
     "name": "stdout",
     "output_type": "stream",
     "text": [
      "\u001b[2m\u001b[36m(pid=15624)\u001b[0m Loading Random Controllers E416.pth\n",
      "\u001b[2m\u001b[36m(pid=15610)\u001b[0m Loading Random Controllers E168.pth\n"
     ]
    },
    {
     "name": "stderr",
     "output_type": "stream",
     "text": [
      "\u001b[2m\u001b[36m(pid=15610)\u001b[0m /home/ec2-user/.local/lib/python3.6/site-packages/ray/workers/default_worker.py:58: RuntimeWarning: invalid value encountered in true_divide\n",
      "\u001b[2m\u001b[36m(pid=15610)\u001b[0m   type=str,\n"
     ]
    },
    {
     "name": "stdout",
     "output_type": "stream",
     "text": [
      "\u001b[2m\u001b[36m(pid=15623)\u001b[0m Loading Random Controllers E64.pth\n",
      "\u001b[2m\u001b[36m(pid=15613)\u001b[0m Loading Random Controllers E104.pth\n"
     ]
    },
    {
     "name": "stderr",
     "output_type": "stream",
     "text": [
      "\u001b[2m\u001b[36m(pid=15623)\u001b[0m /home/ec2-user/.local/lib/python3.6/site-packages/ray/workers/default_worker.py:58: RuntimeWarning: invalid value encountered in true_divide\n",
      "\u001b[2m\u001b[36m(pid=15623)\u001b[0m   type=str,\n",
      "\u001b[2m\u001b[36m(pid=15613)\u001b[0m /home/ec2-user/.local/lib/python3.6/site-packages/ray/workers/default_worker.py:58: RuntimeWarning: invalid value encountered in true_divide\n",
      "\u001b[2m\u001b[36m(pid=15613)\u001b[0m   type=str,\n"
     ]
    },
    {
     "name": "stdout",
     "output_type": "stream",
     "text": [
      "\u001b[2m\u001b[36m(pid=15618)\u001b[0m Loading Random Controllers E128.pth\n"
     ]
    },
    {
     "name": "stderr",
     "output_type": "stream",
     "text": [
      "\u001b[2m\u001b[36m(pid=15618)\u001b[0m /home/ec2-user/.local/lib/python3.6/site-packages/ray/workers/default_worker.py:58: RuntimeWarning: invalid value encountered in true_divide\n",
      "\u001b[2m\u001b[36m(pid=15618)\u001b[0m   type=str,\n"
     ]
    },
    {
     "name": "stdout",
     "output_type": "stream",
     "text": [
      "\u001b[2m\u001b[36m(pid=15617)\u001b[0m Loading Random Controllers E328.pth\n"
     ]
    },
    {
     "name": "stderr",
     "output_type": "stream",
     "text": [
      "\u001b[2m\u001b[36m(pid=15617)\u001b[0m /home/ec2-user/.local/lib/python3.6/site-packages/ray/workers/default_worker.py:58: RuntimeWarning: invalid value encountered in true_divide\n",
      "\u001b[2m\u001b[36m(pid=15617)\u001b[0m   type=str,\n"
     ]
    },
    {
     "name": "stdout",
     "output_type": "stream",
     "text": [
      "\u001b[2m\u001b[36m(pid=15615)\u001b[0m Loading Random Controllers E128.pth\n"
     ]
    },
    {
     "name": "stderr",
     "output_type": "stream",
     "text": [
      "\u001b[2m\u001b[36m(pid=15615)\u001b[0m /home/ec2-user/.local/lib/python3.6/site-packages/ray/workers/default_worker.py:58: RuntimeWarning: invalid value encountered in true_divide\n",
      "\u001b[2m\u001b[36m(pid=15615)\u001b[0m   type=str,\n"
     ]
    },
    {
     "name": "stdout",
     "output_type": "stream",
     "text": [
      "\u001b[2m\u001b[36m(pid=15620)\u001b[0m Loading Random Controllers E256.pth\n"
     ]
    },
    {
     "name": "stderr",
     "output_type": "stream",
     "text": [
      "\u001b[2m\u001b[36m(pid=15620)\u001b[0m /home/ec2-user/.local/lib/python3.6/site-packages/ray/workers/default_worker.py:58: RuntimeWarning: invalid value encountered in true_divide\n",
      "\u001b[2m\u001b[36m(pid=15620)\u001b[0m   type=str,\n"
     ]
    },
    {
     "name": "stdout",
     "output_type": "stream",
     "text": [
      "\u001b[2m\u001b[36m(pid=15611)\u001b[0m Loading Random Controllers E56.pth\n"
     ]
    },
    {
     "name": "stderr",
     "output_type": "stream",
     "text": [
      "\u001b[2m\u001b[36m(pid=15611)\u001b[0m /home/ec2-user/.local/lib/python3.6/site-packages/ray/workers/default_worker.py:58: RuntimeWarning: invalid value encountered in true_divide\n",
      "\u001b[2m\u001b[36m(pid=15611)\u001b[0m   type=str,\n"
     ]
    },
    {
     "name": "stdout",
     "output_type": "stream",
     "text": [
      "\u001b[2m\u001b[36m(pid=15614)\u001b[0m Loading Random Controllers E144.pth\n"
     ]
    },
    {
     "name": "stderr",
     "output_type": "stream",
     "text": [
      "\u001b[2m\u001b[36m(pid=15614)\u001b[0m /home/ec2-user/.local/lib/python3.6/site-packages/ray/workers/default_worker.py:58: RuntimeWarning: invalid value encountered in true_divide\n",
      "\u001b[2m\u001b[36m(pid=15614)\u001b[0m   type=str,\n"
     ]
    },
    {
     "name": "stdout",
     "output_type": "stream",
     "text": [
      "\u001b[2m\u001b[36m(pid=15625)\u001b[0m Loading Random Controllers E152.pth\n"
     ]
    },
    {
     "name": "stderr",
     "output_type": "stream",
     "text": [
      "\u001b[2m\u001b[36m(pid=15625)\u001b[0m /home/ec2-user/.local/lib/python3.6/site-packages/ray/workers/default_worker.py:58: RuntimeWarning: invalid value encountered in true_divide\n",
      "\u001b[2m\u001b[36m(pid=15625)\u001b[0m   type=str,\n"
     ]
    },
    {
     "name": "stdout",
     "output_type": "stream",
     "text": [
      "\u001b[2m\u001b[36m(pid=15622)\u001b[0m Loading Random Controllers E56.pth\n"
     ]
    },
    {
     "name": "stderr",
     "output_type": "stream",
     "text": [
      "\u001b[2m\u001b[36m(pid=15622)\u001b[0m /home/ec2-user/.local/lib/python3.6/site-packages/ray/workers/default_worker.py:58: RuntimeWarning: invalid value encountered in true_divide\n",
      "\u001b[2m\u001b[36m(pid=15622)\u001b[0m   type=str,\n"
     ]
    },
    {
     "name": "stdout",
     "output_type": "stream",
     "text": [
      "\u001b[2m\u001b[36m(pid=15614)\u001b[0m Game 701 White Loss\n",
      "\u001b[2m\u001b[36m(pid=15619)\u001b[0m Game 688 White Won\n",
      "\u001b[2m\u001b[36m(pid=15615)\u001b[0m Game 698 Draw\n",
      "\u001b[2m\u001b[36m(pid=15615)\u001b[0m WARNING DELETING EXPERIENCES\n",
      "\u001b[2m\u001b[36m(pid=15616)\u001b[0m Game 690 White Loss\n",
      "\u001b[2m\u001b[36m(pid=15620)\u001b[0m Game 699 White Won\n",
      "\u001b[2m\u001b[36m(pid=15612)\u001b[0m Game 691 White Loss\n",
      "\u001b[2m\u001b[36m(pid=15622)\u001b[0m Game 703 White Won\n",
      "\u001b[2m\u001b[36m(pid=15623)\u001b[0m Game 694 Draw\n",
      "\u001b[2m\u001b[36m(pid=15623)\u001b[0m WARNING DELETING EXPERIENCES\n",
      "\u001b[2m\u001b[36m(pid=15613)\u001b[0m Game 695 White Loss\n",
      "\u001b[2m\u001b[36m(pid=15621)\u001b[0m Game 689 Draw\n",
      "\u001b[2m\u001b[36m(pid=15621)\u001b[0m WARNING DELETING EXPERIENCES\n",
      "\u001b[2m\u001b[36m(pid=15624)\u001b[0m Game 692 Draw\n",
      "\u001b[2m\u001b[36m(pid=15624)\u001b[0m WARNING DELETING EXPERIENCES\n",
      "\u001b[2m\u001b[36m(pid=15617)\u001b[0m Game 697 Draw\n",
      "\u001b[2m\u001b[36m(pid=15617)\u001b[0m WARNING DELETING EXPERIENCES\n",
      "\u001b[2m\u001b[36m(pid=15610)\u001b[0m Game 693 Draw\n",
      "\u001b[2m\u001b[36m(pid=15610)\u001b[0m WARNING DELETING EXPERIENCES\n",
      "\u001b[2m\u001b[36m(pid=15618)\u001b[0m Game 696 Draw\n",
      "\u001b[2m\u001b[36m(pid=15618)\u001b[0m WARNING DELETING EXPERIENCES\n",
      "\u001b[2m\u001b[36m(pid=15611)\u001b[0m Game 700 Draw\n",
      "\u001b[2m\u001b[36m(pid=15611)\u001b[0m WARNING DELETING EXPERIENCES\n",
      "\u001b[2m\u001b[36m(pid=15625)\u001b[0m Game 702 Draw\n",
      "\u001b[2m\u001b[36m(pid=15625)\u001b[0m WARNING DELETING EXPERIENCES\n",
      "ACTOR LOSS 6141.67724609375 | CRITIC LOSS 9.866357803344727\n",
      "ACTOR LOSS 6101.8935546875 | CRITIC LOSS 9.939102172851562\n",
      "ACTOR LOSS 5788.38134765625 | CRITIC LOSS 12.482867240905762\n",
      "SAVING\n",
      "ACTOR LOSS 6130.29248046875 | CRITIC LOSS 4.068767547607422\n",
      "ACTOR LOSS 6163.2880859375 | CRITIC LOSS 9.336798667907715\n",
      "ACTOR LOSS 6093.23095703125 | CRITIC LOSS 7.295372009277344\n",
      "ACTOR LOSS 5830.0107421875 | CRITIC LOSS 4.0211968421936035\n",
      "ACTOR LOSS 6147.7783203125 | CRITIC LOSS 3.4752273559570312\n",
      "ACTOR LOSS 5840.40966796875 | CRITIC LOSS 11.002017974853516\n",
      "ACTOR LOSS 5825.7646484375 | CRITIC LOSS 9.440826416015625\n",
      "\u001b[2m\u001b[36m(pid=15618)\u001b[0m Loading Random Controllers E432.pth\n"
     ]
    },
    {
     "name": "stderr",
     "output_type": "stream",
     "text": [
      "\u001b[2m\u001b[36m(pid=15618)\u001b[0m /home/ec2-user/.local/lib/python3.6/site-packages/ray/workers/default_worker.py:58: RuntimeWarning: invalid value encountered in true_divide\n",
      "\u001b[2m\u001b[36m(pid=15618)\u001b[0m   type=str,\n",
      "\u001b[2m\u001b[36m(pid=15617)\u001b[0m /home/ec2-user/.local/lib/python3.6/site-packages/ray/workers/default_worker.py:58: RuntimeWarning: invalid value encountered in true_divide\n",
      "\u001b[2m\u001b[36m(pid=15617)\u001b[0m   type=str,\n"
     ]
    },
    {
     "name": "stdout",
     "output_type": "stream",
     "text": [
      "\u001b[2m\u001b[36m(pid=15617)\u001b[0m Loading Random Controllers E400.pth\n",
      "\u001b[2m\u001b[36m(pid=15624)\u001b[0m Loading Random Controllers E432.pth\n"
     ]
    },
    {
     "name": "stderr",
     "output_type": "stream",
     "text": [
      "\u001b[2m\u001b[36m(pid=15624)\u001b[0m /home/ec2-user/.local/lib/python3.6/site-packages/ray/workers/default_worker.py:58: RuntimeWarning: invalid value encountered in true_divide\n",
      "\u001b[2m\u001b[36m(pid=15624)\u001b[0m   type=str,\n",
      "\u001b[2m\u001b[36m(pid=15621)\u001b[0m /home/ec2-user/.local/lib/python3.6/site-packages/ray/workers/default_worker.py:58: RuntimeWarning: invalid value encountered in true_divide\n",
      "\u001b[2m\u001b[36m(pid=15621)\u001b[0m   type=str,\n",
      "\u001b[2m\u001b[36m(pid=15610)\u001b[0m /home/ec2-user/.local/lib/python3.6/site-packages/ray/workers/default_worker.py:58: RuntimeWarning: invalid value encountered in true_divide\n",
      "\u001b[2m\u001b[36m(pid=15610)\u001b[0m   type=str,\n"
     ]
    },
    {
     "name": "stdout",
     "output_type": "stream",
     "text": [
      "\u001b[2m\u001b[36m(pid=15621)\u001b[0m Loading Random Controllers E328.pth\n",
      "\u001b[2m\u001b[36m(pid=15610)\u001b[0m Loading Random Controllers E144.pth\n",
      "\u001b[2m\u001b[36m(pid=15613)\u001b[0m Loading Random Controllers E416.pth\n"
     ]
    },
    {
     "name": "stderr",
     "output_type": "stream",
     "text": [
      "\u001b[2m\u001b[36m(pid=15613)\u001b[0m /home/ec2-user/.local/lib/python3.6/site-packages/ray/workers/default_worker.py:58: RuntimeWarning: invalid value encountered in true_divide\n",
      "\u001b[2m\u001b[36m(pid=15613)\u001b[0m   type=str,\n"
     ]
    },
    {
     "name": "stdout",
     "output_type": "stream",
     "text": [
      "\u001b[2m\u001b[36m(pid=15623)\u001b[0m Loading Random Controllers E0.pth\n"
     ]
    },
    {
     "name": "stderr",
     "output_type": "stream",
     "text": [
      "\u001b[2m\u001b[36m(pid=15623)\u001b[0m /home/ec2-user/.local/lib/python3.6/site-packages/ray/workers/default_worker.py:58: RuntimeWarning: invalid value encountered in true_divide\n",
      "\u001b[2m\u001b[36m(pid=15623)\u001b[0m   type=str,\n"
     ]
    },
    {
     "name": "stdout",
     "output_type": "stream",
     "text": [
      "\u001b[2m\u001b[36m(pid=15625)\u001b[0m Loading Random Controllers E112.pth\n"
     ]
    },
    {
     "name": "stderr",
     "output_type": "stream",
     "text": [
      "\u001b[2m\u001b[36m(pid=15625)\u001b[0m /home/ec2-user/.local/lib/python3.6/site-packages/ray/workers/default_worker.py:58: RuntimeWarning: invalid value encountered in true_divide\n",
      "\u001b[2m\u001b[36m(pid=15625)\u001b[0m   type=str,\n"
     ]
    },
    {
     "name": "stdout",
     "output_type": "stream",
     "text": [
      "\u001b[2m\u001b[36m(pid=15622)\u001b[0m Loading Random Controllers E136.pth\n"
     ]
    },
    {
     "name": "stderr",
     "output_type": "stream",
     "text": [
      "\u001b[2m\u001b[36m(pid=15622)\u001b[0m /home/ec2-user/.local/lib/python3.6/site-packages/ray/workers/default_worker.py:58: RuntimeWarning: invalid value encountered in true_divide\n",
      "\u001b[2m\u001b[36m(pid=15622)\u001b[0m   type=str,\n"
     ]
    },
    {
     "name": "stdout",
     "output_type": "stream",
     "text": [
      "\u001b[2m\u001b[36m(pid=15612)\u001b[0m Loading Random Controllers E184.pth\n"
     ]
    },
    {
     "name": "stderr",
     "output_type": "stream",
     "text": [
      "\u001b[2m\u001b[36m(pid=15612)\u001b[0m /home/ec2-user/.local/lib/python3.6/site-packages/ray/workers/default_worker.py:58: RuntimeWarning: invalid value encountered in true_divide\n",
      "\u001b[2m\u001b[36m(pid=15612)\u001b[0m   type=str,\n"
     ]
    },
    {
     "name": "stdout",
     "output_type": "stream",
     "text": [
      "\u001b[2m\u001b[36m(pid=15620)\u001b[0m Loading Random Controllers E376.pth\n"
     ]
    },
    {
     "name": "stderr",
     "output_type": "stream",
     "text": [
      "\u001b[2m\u001b[36m(pid=15620)\u001b[0m /home/ec2-user/.local/lib/python3.6/site-packages/ray/workers/default_worker.py:58: RuntimeWarning: invalid value encountered in true_divide\n",
      "\u001b[2m\u001b[36m(pid=15620)\u001b[0m   type=str,\n"
     ]
    },
    {
     "name": "stdout",
     "output_type": "stream",
     "text": [
      "\u001b[2m\u001b[36m(pid=15616)\u001b[0m Loading Random Controllers E200.pth\n"
     ]
    },
    {
     "name": "stderr",
     "output_type": "stream",
     "text": [
      "\u001b[2m\u001b[36m(pid=15616)\u001b[0m /home/ec2-user/.local/lib/python3.6/site-packages/ray/workers/default_worker.py:58: RuntimeWarning: invalid value encountered in true_divide\n",
      "\u001b[2m\u001b[36m(pid=15616)\u001b[0m   type=str,\n"
     ]
    },
    {
     "name": "stdout",
     "output_type": "stream",
     "text": [
      "\u001b[2m\u001b[36m(pid=15615)\u001b[0m Loading Random Controllers E16.pth\n"
     ]
    },
    {
     "name": "stderr",
     "output_type": "stream",
     "text": [
      "\u001b[2m\u001b[36m(pid=15615)\u001b[0m /home/ec2-user/.local/lib/python3.6/site-packages/ray/workers/default_worker.py:58: RuntimeWarning: invalid value encountered in true_divide\n",
      "\u001b[2m\u001b[36m(pid=15615)\u001b[0m   type=str,\n"
     ]
    },
    {
     "name": "stdout",
     "output_type": "stream",
     "text": [
      "\u001b[2m\u001b[36m(pid=15619)\u001b[0m Loading Random Controllers E136.pth\n"
     ]
    },
    {
     "name": "stderr",
     "output_type": "stream",
     "text": [
      "\u001b[2m\u001b[36m(pid=15619)\u001b[0m /home/ec2-user/.local/lib/python3.6/site-packages/ray/workers/default_worker.py:58: RuntimeWarning: invalid value encountered in true_divide\n",
      "\u001b[2m\u001b[36m(pid=15619)\u001b[0m   type=str,\n"
     ]
    },
    {
     "name": "stdout",
     "output_type": "stream",
     "text": [
      "\u001b[2m\u001b[36m(pid=15611)\u001b[0m Loading Random Controllers E8.pth\n"
     ]
    },
    {
     "name": "stderr",
     "output_type": "stream",
     "text": [
      "\u001b[2m\u001b[36m(pid=15611)\u001b[0m /home/ec2-user/.local/lib/python3.6/site-packages/ray/workers/default_worker.py:58: RuntimeWarning: invalid value encountered in true_divide\n",
      "\u001b[2m\u001b[36m(pid=15611)\u001b[0m   type=str,\n"
     ]
    },
    {
     "name": "stdout",
     "output_type": "stream",
     "text": [
      "\u001b[2m\u001b[36m(pid=15614)\u001b[0m Loading Random Controllers E56.pth\n"
     ]
    },
    {
     "name": "stderr",
     "output_type": "stream",
     "text": [
      "\u001b[2m\u001b[36m(pid=15614)\u001b[0m /home/ec2-user/.local/lib/python3.6/site-packages/ray/workers/default_worker.py:58: RuntimeWarning: invalid value encountered in true_divide\n",
      "\u001b[2m\u001b[36m(pid=15614)\u001b[0m   type=str,\n"
     ]
    },
    {
     "name": "stdout",
     "output_type": "stream",
     "text": [
      "\u001b[2m\u001b[36m(pid=15610)\u001b[0m Game 708 White Loss\n",
      "\u001b[2m\u001b[36m(pid=15613)\u001b[0m Game 709 Draw\n",
      "\u001b[2m\u001b[36m(pid=15613)\u001b[0m WARNING DELETING EXPERIENCES\n",
      "\u001b[2m\u001b[36m(pid=15616)\u001b[0m Game 715 Draw\n",
      "\u001b[2m\u001b[36m(pid=15616)\u001b[0m WARNING DELETING EXPERIENCES\n",
      "\u001b[2m\u001b[36m(pid=15617)\u001b[0m Game 705 Draw\n",
      "\u001b[2m\u001b[36m(pid=15617)\u001b[0m WARNING DELETING EXPERIENCES\n",
      "\u001b[2m\u001b[36m(pid=15615)\u001b[0m Game 716 Draw\n",
      "\u001b[2m\u001b[36m(pid=15615)\u001b[0m WARNING DELETING EXPERIENCES\n",
      "\u001b[2m\u001b[36m(pid=15614)\u001b[0m Game 719 Draw\n",
      "\u001b[2m\u001b[36m(pid=15614)\u001b[0m WARNING DELETING EXPERIENCES\n",
      "\u001b[2m\u001b[36m(pid=15619)\u001b[0m Game 717 Draw\n",
      "\u001b[2m\u001b[36m(pid=15619)\u001b[0m WARNING DELETING EXPERIENCES\n",
      "\u001b[2m\u001b[36m(pid=15620)\u001b[0m Game 714 Draw\n",
      "\u001b[2m\u001b[36m(pid=15620)\u001b[0m WARNING DELETING EXPERIENCES\n",
      "\u001b[2m\u001b[36m(pid=15624)\u001b[0m Game 706 Draw\n",
      "\u001b[2m\u001b[36m(pid=15624)\u001b[0m WARNING DELETING EXPERIENCES\n",
      "\u001b[2m\u001b[36m(pid=15622)\u001b[0m Game 712 Draw\n",
      "\u001b[2m\u001b[36m(pid=15622)\u001b[0m WARNING DELETING EXPERIENCES\n",
      "\u001b[2m\u001b[36m(pid=15611)\u001b[0m Game 718 Draw\n",
      "\u001b[2m\u001b[36m(pid=15611)\u001b[0m WARNING DELETING EXPERIENCES\n",
      "\u001b[2m\u001b[36m(pid=15623)\u001b[0m Game 710 Draw\n",
      "\u001b[2m\u001b[36m(pid=15623)\u001b[0m WARNING DELETING EXPERIENCES\n",
      "\u001b[2m\u001b[36m(pid=15621)\u001b[0m Game 707 Draw\n",
      "\u001b[2m\u001b[36m(pid=15621)\u001b[0m WARNING DELETING EXPERIENCES\n",
      "\u001b[2m\u001b[36m(pid=15612)\u001b[0m Game 713 Draw\n",
      "\u001b[2m\u001b[36m(pid=15612)\u001b[0m WARNING DELETING EXPERIENCES\n",
      "\u001b[2m\u001b[36m(pid=15625)\u001b[0m Game 711 Draw\n",
      "\u001b[2m\u001b[36m(pid=15625)\u001b[0m WARNING DELETING EXPERIENCES\n",
      "\u001b[2m\u001b[36m(pid=15618)\u001b[0m Game 704 Draw\n",
      "\u001b[2m\u001b[36m(pid=15618)\u001b[0m WARNING DELETING EXPERIENCES\n",
      "ACTOR LOSS 5928.71044921875 | CRITIC LOSS 10.14975357055664\n",
      "SAVING\n",
      "ACTOR LOSS 6176.3564453125 | CRITIC LOSS 3.5327908992767334\n",
      "ACTOR LOSS 6114.09375 | CRITIC LOSS 13.806760787963867\n",
      "ACTOR LOSS 6154.92529296875 | CRITIC LOSS 2.349656820297241\n",
      "ACTOR LOSS 6117.79736328125 | CRITIC LOSS 4.960151672363281\n",
      "ACTOR LOSS 6167.4248046875 | CRITIC LOSS 5.294801235198975\n",
      "ACTOR LOSS 5842.947265625 | CRITIC LOSS 5.745505332946777\n",
      "ACTOR LOSS 6076.533203125 | CRITIC LOSS 8.059284210205078\n",
      "ACTOR LOSS 6152.42578125 | CRITIC LOSS 12.546476364135742\n",
      "SAVING\n",
      "ACTOR LOSS 6151.66259765625 | CRITIC LOSS 10.423395156860352\n",
      "\u001b[2m\u001b[36m(pid=15612)\u001b[0m Loading Random Controllers E328.pth\n"
     ]
    },
    {
     "name": "stderr",
     "output_type": "stream",
     "text": [
      "\u001b[2m\u001b[36m(pid=15612)\u001b[0m /home/ec2-user/.local/lib/python3.6/site-packages/ray/workers/default_worker.py:58: RuntimeWarning: invalid value encountered in true_divide\n",
      "\u001b[2m\u001b[36m(pid=15612)\u001b[0m   type=str,\n"
     ]
    },
    {
     "name": "stdout",
     "output_type": "stream",
     "text": [
      "\u001b[2m\u001b[36m(pid=15621)\u001b[0m Loading Random Controllers E376.pth\n"
     ]
    },
    {
     "name": "stderr",
     "output_type": "stream",
     "text": [
      "\u001b[2m\u001b[36m(pid=15621)\u001b[0m /home/ec2-user/.local/lib/python3.6/site-packages/ray/workers/default_worker.py:58: RuntimeWarning: invalid value encountered in true_divide\n",
      "\u001b[2m\u001b[36m(pid=15621)\u001b[0m   type=str,\n"
     ]
    },
    {
     "name": "stdout",
     "output_type": "stream",
     "text": [
      "\u001b[2m\u001b[36m(pid=15625)\u001b[0m Loading Random Controllers E368.pth\n"
     ]
    },
    {
     "name": "stderr",
     "output_type": "stream",
     "text": [
      "\u001b[2m\u001b[36m(pid=15625)\u001b[0m /home/ec2-user/.local/lib/python3.6/site-packages/ray/workers/default_worker.py:58: RuntimeWarning: invalid value encountered in true_divide\n",
      "\u001b[2m\u001b[36m(pid=15625)\u001b[0m   type=str,\n"
     ]
    },
    {
     "name": "stdout",
     "output_type": "stream",
     "text": [
      "\u001b[2m\u001b[36m(pid=15622)\u001b[0m Loading Random Controllers E176.pth\n"
     ]
    },
    {
     "name": "stderr",
     "output_type": "stream",
     "text": [
      "\u001b[2m\u001b[36m(pid=15622)\u001b[0m /home/ec2-user/.local/lib/python3.6/site-packages/ray/workers/default_worker.py:58: RuntimeWarning: invalid value encountered in true_divide\n",
      "\u001b[2m\u001b[36m(pid=15622)\u001b[0m   type=str,\n"
     ]
    },
    {
     "name": "stdout",
     "output_type": "stream",
     "text": [
      "\u001b[2m\u001b[36m(pid=15624)\u001b[0m Loading Random Controllers E160.pth\n"
     ]
    },
    {
     "name": "stderr",
     "output_type": "stream",
     "text": [
      "\u001b[2m\u001b[36m(pid=15624)\u001b[0m /home/ec2-user/.local/lib/python3.6/site-packages/ray/workers/default_worker.py:58: RuntimeWarning: invalid value encountered in true_divide\n",
      "\u001b[2m\u001b[36m(pid=15624)\u001b[0m   type=str,\n",
      "\u001b[2m\u001b[36m(pid=15620)\u001b[0m /home/ec2-user/.local/lib/python3.6/site-packages/ray/workers/default_worker.py:58: RuntimeWarning: invalid value encountered in true_divide\n",
      "\u001b[2m\u001b[36m(pid=15620)\u001b[0m   type=str,\n"
     ]
    },
    {
     "name": "stdout",
     "output_type": "stream",
     "text": [
      "\u001b[2m\u001b[36m(pid=15620)\u001b[0m Loading Random Controllers E40.pth\n",
      "\u001b[2m\u001b[36m(pid=15619)\u001b[0m Loading Random Controllers E272.pth\n",
      "\u001b[2m\u001b[36m(pid=15611)\u001b[0m Loading Random Controllers E80.pth\n"
     ]
    },
    {
     "name": "stderr",
     "output_type": "stream",
     "text": [
      "\u001b[2m\u001b[36m(pid=15619)\u001b[0m /home/ec2-user/.local/lib/python3.6/site-packages/ray/workers/default_worker.py:58: RuntimeWarning: invalid value encountered in true_divide\n",
      "\u001b[2m\u001b[36m(pid=15619)\u001b[0m   type=str,\n",
      "\u001b[2m\u001b[36m(pid=15611)\u001b[0m /home/ec2-user/.local/lib/python3.6/site-packages/ray/workers/default_worker.py:58: RuntimeWarning: invalid value encountered in true_divide\n",
      "\u001b[2m\u001b[36m(pid=15611)\u001b[0m   type=str,\n"
     ]
    },
    {
     "name": "stdout",
     "output_type": "stream",
     "text": [
      "\u001b[2m\u001b[36m(pid=15614)\u001b[0m Loading Random Controllers E248.pth\n"
     ]
    },
    {
     "name": "stderr",
     "output_type": "stream",
     "text": [
      "\u001b[2m\u001b[36m(pid=15614)\u001b[0m /home/ec2-user/.local/lib/python3.6/site-packages/ray/workers/default_worker.py:58: RuntimeWarning: invalid value encountered in true_divide\n",
      "\u001b[2m\u001b[36m(pid=15614)\u001b[0m   type=str,\n"
     ]
    },
    {
     "name": "stdout",
     "output_type": "stream",
     "text": [
      "\u001b[2m\u001b[36m(pid=15615)\u001b[0m Loading Random Controllers E136.pth\n"
     ]
    },
    {
     "name": "stderr",
     "output_type": "stream",
     "text": [
      "\u001b[2m\u001b[36m(pid=15615)\u001b[0m /home/ec2-user/.local/lib/python3.6/site-packages/ray/workers/default_worker.py:58: RuntimeWarning: invalid value encountered in true_divide\n",
      "\u001b[2m\u001b[36m(pid=15615)\u001b[0m   type=str,\n"
     ]
    },
    {
     "name": "stdout",
     "output_type": "stream",
     "text": [
      "\u001b[2m\u001b[36m(pid=15618)\u001b[0m Loading Random Controllers E440.pth\n"
     ]
    },
    {
     "name": "stderr",
     "output_type": "stream",
     "text": [
      "\u001b[2m\u001b[36m(pid=15618)\u001b[0m /home/ec2-user/.local/lib/python3.6/site-packages/ray/workers/default_worker.py:58: RuntimeWarning: invalid value encountered in true_divide\n",
      "\u001b[2m\u001b[36m(pid=15618)\u001b[0m   type=str,\n"
     ]
    },
    {
     "name": "stdout",
     "output_type": "stream",
     "text": [
      "\u001b[2m\u001b[36m(pid=15617)\u001b[0m Loading Random Controllers E152.pth\n"
     ]
    },
    {
     "name": "stderr",
     "output_type": "stream",
     "text": [
      "\u001b[2m\u001b[36m(pid=15617)\u001b[0m /home/ec2-user/.local/lib/python3.6/site-packages/ray/workers/default_worker.py:58: RuntimeWarning: invalid value encountered in true_divide\n",
      "\u001b[2m\u001b[36m(pid=15617)\u001b[0m   type=str,\n"
     ]
    },
    {
     "name": "stdout",
     "output_type": "stream",
     "text": [
      "\u001b[2m\u001b[36m(pid=15616)\u001b[0m Loading Random Controllers E144.pth\n"
     ]
    },
    {
     "name": "stderr",
     "output_type": "stream",
     "text": [
      "\u001b[2m\u001b[36m(pid=15616)\u001b[0m /home/ec2-user/.local/lib/python3.6/site-packages/ray/workers/default_worker.py:58: RuntimeWarning: invalid value encountered in true_divide\n",
      "\u001b[2m\u001b[36m(pid=15616)\u001b[0m   type=str,\n"
     ]
    },
    {
     "name": "stdout",
     "output_type": "stream",
     "text": [
      "\u001b[2m\u001b[36m(pid=15623)\u001b[0m Loading Random Controllers E376.pth\n"
     ]
    },
    {
     "name": "stderr",
     "output_type": "stream",
     "text": [
      "\u001b[2m\u001b[36m(pid=15623)\u001b[0m /home/ec2-user/.local/lib/python3.6/site-packages/ray/workers/default_worker.py:58: RuntimeWarning: invalid value encountered in true_divide\n",
      "\u001b[2m\u001b[36m(pid=15623)\u001b[0m   type=str,\n"
     ]
    },
    {
     "name": "stdout",
     "output_type": "stream",
     "text": [
      "\u001b[2m\u001b[36m(pid=15613)\u001b[0m Loading Random Controllers E432.pth\n"
     ]
    },
    {
     "name": "stderr",
     "output_type": "stream",
     "text": [
      "\u001b[2m\u001b[36m(pid=15613)\u001b[0m /home/ec2-user/.local/lib/python3.6/site-packages/ray/workers/default_worker.py:58: RuntimeWarning: invalid value encountered in true_divide\n",
      "\u001b[2m\u001b[36m(pid=15613)\u001b[0m   type=str,\n"
     ]
    },
    {
     "name": "stdout",
     "output_type": "stream",
     "text": [
      "\u001b[2m\u001b[36m(pid=15610)\u001b[0m Loading Random Controllers E200.pth\n"
     ]
    },
    {
     "name": "stderr",
     "output_type": "stream",
     "text": [
      "\u001b[2m\u001b[36m(pid=15610)\u001b[0m /home/ec2-user/.local/lib/python3.6/site-packages/ray/workers/default_worker.py:58: RuntimeWarning: invalid value encountered in true_divide\n",
      "\u001b[2m\u001b[36m(pid=15610)\u001b[0m   type=str,\n"
     ]
    },
    {
     "name": "stdout",
     "output_type": "stream",
     "text": [
      "\u001b[2m\u001b[36m(pid=15624)\u001b[0m Game 724 White Won\n",
      "\u001b[2m\u001b[36m(pid=15612)\u001b[0m Game 720 White Won\n",
      "\u001b[2m\u001b[36m(pid=15621)\u001b[0m Game 721 White Won\n",
      "\u001b[2m\u001b[36m(pid=15620)\u001b[0m Game 725 Draw\n",
      "\u001b[2m\u001b[36m(pid=15620)\u001b[0m WARNING DELETING EXPERIENCES\n",
      "\u001b[2m\u001b[36m(pid=15610)\u001b[0m Game 735 Draw\n",
      "\u001b[2m\u001b[36m(pid=15610)\u001b[0m WARNING DELETING EXPERIENCES\n",
      "\u001b[2m\u001b[36m(pid=15616)\u001b[0m Game 732 Draw\n",
      "\u001b[2m\u001b[36m(pid=15616)\u001b[0m WARNING DELETING EXPERIENCES\n",
      "\u001b[2m\u001b[36m(pid=15613)\u001b[0m Game 734 Draw\n",
      "\u001b[2m\u001b[36m(pid=15613)\u001b[0m WARNING DELETING EXPERIENCES\n",
      "\u001b[2m\u001b[36m(pid=15625)\u001b[0m Game 722 Draw\n",
      "\u001b[2m\u001b[36m(pid=15625)\u001b[0m WARNING DELETING EXPERIENCES\n",
      "\u001b[2m\u001b[36m(pid=15617)\u001b[0m Game 731 Draw\n",
      "\u001b[2m\u001b[36m(pid=15617)\u001b[0m WARNING DELETING EXPERIENCES\n",
      "\u001b[2m\u001b[36m(pid=15622)\u001b[0m Game 723 Draw\n",
      "\u001b[2m\u001b[36m(pid=15622)\u001b[0m WARNING DELETING EXPERIENCES\n",
      "\u001b[2m\u001b[36m(pid=15619)\u001b[0m Game 726 Draw\n",
      "\u001b[2m\u001b[36m(pid=15619)\u001b[0m WARNING DELETING EXPERIENCES\n",
      "\u001b[2m\u001b[36m(pid=15615)\u001b[0m Game 729 Draw\n",
      "\u001b[2m\u001b[36m(pid=15615)\u001b[0m WARNING DELETING EXPERIENCES\n",
      "\u001b[2m\u001b[36m(pid=15614)\u001b[0m Game 728 Draw\n",
      "\u001b[2m\u001b[36m(pid=15614)\u001b[0m WARNING DELETING EXPERIENCES\n",
      "\u001b[2m\u001b[36m(pid=15618)\u001b[0m Game 730 Draw\n",
      "\u001b[2m\u001b[36m(pid=15618)\u001b[0m WARNING DELETING EXPERIENCES\n",
      "\u001b[2m\u001b[36m(pid=15623)\u001b[0m Game 733 Draw\n",
      "\u001b[2m\u001b[36m(pid=15623)\u001b[0m WARNING DELETING EXPERIENCES\n",
      "\u001b[2m\u001b[36m(pid=15611)\u001b[0m Game 727 Draw\n",
      "\u001b[2m\u001b[36m(pid=15611)\u001b[0m WARNING DELETING EXPERIENCES\n",
      "ACTOR LOSS 6153.791015625 | CRITIC LOSS 4.094229221343994\n",
      "ACTOR LOSS 6148.89404296875 | CRITIC LOSS 4.780892372131348\n",
      "ACTOR LOSS 6137.96533203125 | CRITIC LOSS 3.4672579765319824\n",
      "ACTOR LOSS 6058.787109375 | CRITIC LOSS 4.736820220947266\n",
      "ACTOR LOSS 6031.08935546875 | CRITIC LOSS 4.524959087371826\n",
      "ACTOR LOSS 6156.27392578125 | CRITIC LOSS 17.781471252441406\n",
      "ACTOR LOSS 6123.57080078125 | CRITIC LOSS 9.12071704864502\n",
      "SAVING\n",
      "ACTOR LOSS 6131.1337890625 | CRITIC LOSS 7.5656538009643555\n",
      "ACTOR LOSS 5644.87548828125 | CRITIC LOSS 8.475223541259766\n",
      "ACTOR LOSS 6155.3447265625 | CRITIC LOSS 5.127675533294678\n",
      "\u001b[2m\u001b[36m(pid=15611)\u001b[0m Loading Random Controllers E48.pth\n"
     ]
    },
    {
     "name": "stderr",
     "output_type": "stream",
     "text": [
      "\u001b[2m\u001b[36m(pid=15611)\u001b[0m /home/ec2-user/.local/lib/python3.6/site-packages/ray/workers/default_worker.py:58: RuntimeWarning: invalid value encountered in true_divide\n",
      "\u001b[2m\u001b[36m(pid=15611)\u001b[0m   type=str,\n"
     ]
    },
    {
     "name": "stdout",
     "output_type": "stream",
     "text": [
      "\u001b[2m\u001b[36m(pid=15614)\u001b[0m Loading Random Controllers E80.pth\n"
     ]
    },
    {
     "name": "stderr",
     "output_type": "stream",
     "text": [
      "\u001b[2m\u001b[36m(pid=15614)\u001b[0m /home/ec2-user/.local/lib/python3.6/site-packages/ray/workers/default_worker.py:58: RuntimeWarning: invalid value encountered in true_divide\n",
      "\u001b[2m\u001b[36m(pid=15614)\u001b[0m   type=str,\n"
     ]
    },
    {
     "name": "stdout",
     "output_type": "stream",
     "text": [
      "\u001b[2m\u001b[36m(pid=15615)\u001b[0m Loading Random Controllers E432.pth\n"
     ]
    },
    {
     "name": "stderr",
     "output_type": "stream",
     "text": [
      "\u001b[2m\u001b[36m(pid=15615)\u001b[0m /home/ec2-user/.local/lib/python3.6/site-packages/ray/workers/default_worker.py:58: RuntimeWarning: invalid value encountered in true_divide\n",
      "\u001b[2m\u001b[36m(pid=15615)\u001b[0m   type=str,\n"
     ]
    },
    {
     "name": "stdout",
     "output_type": "stream",
     "text": [
      "\u001b[2m\u001b[36m(pid=15619)\u001b[0m Loading Random Controllers E392.pth\n"
     ]
    },
    {
     "name": "stderr",
     "output_type": "stream",
     "text": [
      "\u001b[2m\u001b[36m(pid=15619)\u001b[0m /home/ec2-user/.local/lib/python3.6/site-packages/ray/workers/default_worker.py:58: RuntimeWarning: invalid value encountered in true_divide\n",
      "\u001b[2m\u001b[36m(pid=15619)\u001b[0m   type=str,\n"
     ]
    },
    {
     "name": "stdout",
     "output_type": "stream",
     "text": [
      "\u001b[2m\u001b[36m(pid=15618)\u001b[0m Loading Random Controllers E80.pth\n"
     ]
    },
    {
     "name": "stderr",
     "output_type": "stream",
     "text": [
      "\u001b[2m\u001b[36m(pid=15618)\u001b[0m /home/ec2-user/.local/lib/python3.6/site-packages/ray/workers/default_worker.py:58: RuntimeWarning: invalid value encountered in true_divide\n",
      "\u001b[2m\u001b[36m(pid=15618)\u001b[0m   type=str,\n"
     ]
    },
    {
     "name": "stdout",
     "output_type": "stream",
     "text": [
      "\u001b[2m\u001b[36m(pid=15617)\u001b[0m Loading Random Controllers E240.pth\n"
     ]
    },
    {
     "name": "stderr",
     "output_type": "stream",
     "text": [
      "\u001b[2m\u001b[36m(pid=15617)\u001b[0m /home/ec2-user/.local/lib/python3.6/site-packages/ray/workers/default_worker.py:58: RuntimeWarning: invalid value encountered in true_divide\n",
      "\u001b[2m\u001b[36m(pid=15617)\u001b[0m   type=str,\n"
     ]
    },
    {
     "name": "stdout",
     "output_type": "stream",
     "text": [
      "\u001b[2m\u001b[36m(pid=15622)\u001b[0m Loading Random Controllers E32.pth\n"
     ]
    },
    {
     "name": "stderr",
     "output_type": "stream",
     "text": [
      "\u001b[2m\u001b[36m(pid=15622)\u001b[0m /home/ec2-user/.local/lib/python3.6/site-packages/ray/workers/default_worker.py:58: RuntimeWarning: invalid value encountered in true_divide\n",
      "\u001b[2m\u001b[36m(pid=15622)\u001b[0m   type=str,\n"
     ]
    },
    {
     "name": "stdout",
     "output_type": "stream",
     "text": [
      "\u001b[2m\u001b[36m(pid=15625)\u001b[0m Loading Random Controllers E392.pth\n"
     ]
    },
    {
     "name": "stderr",
     "output_type": "stream",
     "text": [
      "\u001b[2m\u001b[36m(pid=15625)\u001b[0m /home/ec2-user/.local/lib/python3.6/site-packages/ray/workers/default_worker.py:58: RuntimeWarning: invalid value encountered in true_divide\n",
      "\u001b[2m\u001b[36m(pid=15625)\u001b[0m   type=str,\n"
     ]
    },
    {
     "name": "stdout",
     "output_type": "stream",
     "text": [
      "\u001b[2m\u001b[36m(pid=15616)\u001b[0m Loading Random Controllers E160.pth\n"
     ]
    },
    {
     "name": "stderr",
     "output_type": "stream",
     "text": [
      "\u001b[2m\u001b[36m(pid=15616)\u001b[0m /home/ec2-user/.local/lib/python3.6/site-packages/ray/workers/default_worker.py:58: RuntimeWarning: invalid value encountered in true_divide\n",
      "\u001b[2m\u001b[36m(pid=15616)\u001b[0m   type=str,\n"
     ]
    },
    {
     "name": "stdout",
     "output_type": "stream",
     "text": [
      "\u001b[2m\u001b[36m(pid=15623)\u001b[0m Loading Random Controllers E160.pth\n"
     ]
    },
    {
     "name": "stderr",
     "output_type": "stream",
     "text": [
      "\u001b[2m\u001b[36m(pid=15623)\u001b[0m /home/ec2-user/.local/lib/python3.6/site-packages/ray/workers/default_worker.py:58: RuntimeWarning: invalid value encountered in true_divide\n",
      "\u001b[2m\u001b[36m(pid=15623)\u001b[0m   type=str,\n"
     ]
    },
    {
     "name": "stdout",
     "output_type": "stream",
     "text": [
      "\u001b[2m\u001b[36m(pid=15613)\u001b[0m Loading Random Controllers E144.pth\n"
     ]
    },
    {
     "name": "stderr",
     "output_type": "stream",
     "text": [
      "\u001b[2m\u001b[36m(pid=15613)\u001b[0m /home/ec2-user/.local/lib/python3.6/site-packages/ray/workers/default_worker.py:58: RuntimeWarning: invalid value encountered in true_divide\n",
      "\u001b[2m\u001b[36m(pid=15613)\u001b[0m   type=str,\n"
     ]
    },
    {
     "name": "stdout",
     "output_type": "stream",
     "text": [
      "\u001b[2m\u001b[36m(pid=15610)\u001b[0m Loading Random Controllers E416.pth\n"
     ]
    },
    {
     "name": "stderr",
     "output_type": "stream",
     "text": [
      "\u001b[2m\u001b[36m(pid=15610)\u001b[0m /home/ec2-user/.local/lib/python3.6/site-packages/ray/workers/default_worker.py:58: RuntimeWarning: invalid value encountered in true_divide\n",
      "\u001b[2m\u001b[36m(pid=15610)\u001b[0m   type=str,\n"
     ]
    },
    {
     "name": "stdout",
     "output_type": "stream",
     "text": [
      "\u001b[2m\u001b[36m(pid=15620)\u001b[0m Loading Random Controllers E288.pth\n"
     ]
    },
    {
     "name": "stderr",
     "output_type": "stream",
     "text": [
      "\u001b[2m\u001b[36m(pid=15620)\u001b[0m /home/ec2-user/.local/lib/python3.6/site-packages/ray/workers/default_worker.py:58: RuntimeWarning: invalid value encountered in true_divide\n",
      "\u001b[2m\u001b[36m(pid=15620)\u001b[0m   type=str,\n"
     ]
    },
    {
     "name": "stdout",
     "output_type": "stream",
     "text": [
      "\u001b[2m\u001b[36m(pid=15621)\u001b[0m Loading Random Controllers E208.pth\n"
     ]
    },
    {
     "name": "stderr",
     "output_type": "stream",
     "text": [
      "\u001b[2m\u001b[36m(pid=15621)\u001b[0m /home/ec2-user/.local/lib/python3.6/site-packages/ray/workers/default_worker.py:58: RuntimeWarning: invalid value encountered in true_divide\n",
      "\u001b[2m\u001b[36m(pid=15621)\u001b[0m   type=str,\n"
     ]
    },
    {
     "name": "stdout",
     "output_type": "stream",
     "text": [
      "\u001b[2m\u001b[36m(pid=15612)\u001b[0m Loading Random Controllers E96.pth\n"
     ]
    },
    {
     "name": "stderr",
     "output_type": "stream",
     "text": [
      "\u001b[2m\u001b[36m(pid=15612)\u001b[0m /home/ec2-user/.local/lib/python3.6/site-packages/ray/workers/default_worker.py:58: RuntimeWarning: invalid value encountered in true_divide\n",
      "\u001b[2m\u001b[36m(pid=15612)\u001b[0m   type=str,\n"
     ]
    },
    {
     "name": "stdout",
     "output_type": "stream",
     "text": [
      "\u001b[2m\u001b[36m(pid=15624)\u001b[0m Loading Random Controllers E0.pth\n"
     ]
    },
    {
     "name": "stderr",
     "output_type": "stream",
     "text": [
      "\u001b[2m\u001b[36m(pid=15624)\u001b[0m /home/ec2-user/.local/lib/python3.6/site-packages/ray/workers/default_worker.py:58: RuntimeWarning: invalid value encountered in true_divide\n",
      "\u001b[2m\u001b[36m(pid=15624)\u001b[0m   type=str,\n"
     ]
    },
    {
     "name": "stdout",
     "output_type": "stream",
     "text": [
      "\u001b[2m\u001b[36m(pid=15625)\u001b[0m Game 743 White Won\n",
      "\u001b[2m\u001b[36m(pid=15621)\u001b[0m Game 749 White Won\n",
      "\u001b[2m\u001b[36m(pid=15611)\u001b[0m Game 736 White Won\n",
      "\u001b[2m\u001b[36m(pid=15618)\u001b[0m Game 740 White Won\n",
      "\u001b[2m\u001b[36m(pid=15616)\u001b[0m Game 744 Draw\n",
      "\u001b[2m\u001b[36m(pid=15616)\u001b[0m WARNING DELETING EXPERIENCES\n",
      "\u001b[2m\u001b[36m(pid=15620)\u001b[0m Game 748 Draw\n",
      "\u001b[2m\u001b[36m(pid=15620)\u001b[0m WARNING DELETING EXPERIENCES\n",
      "\u001b[2m\u001b[36m(pid=15614)\u001b[0m Game 737 Draw\n",
      "\u001b[2m\u001b[36m(pid=15614)\u001b[0m WARNING DELETING EXPERIENCES\n",
      "\u001b[2m\u001b[36m(pid=15615)\u001b[0m Game 738 Draw\n",
      "\u001b[2m\u001b[36m(pid=15615)\u001b[0m WARNING DELETING EXPERIENCES\n",
      "\u001b[2m\u001b[36m(pid=15619)\u001b[0m Game 739 Draw\n",
      "\u001b[2m\u001b[36m(pid=15619)\u001b[0m WARNING DELETING EXPERIENCES\n",
      "\u001b[2m\u001b[36m(pid=15623)\u001b[0m Game 745 Draw\n",
      "\u001b[2m\u001b[36m(pid=15623)\u001b[0m WARNING DELETING EXPERIENCES\n",
      "\u001b[2m\u001b[36m(pid=15622)\u001b[0m Game 742 Draw\n",
      "\u001b[2m\u001b[36m(pid=15622)\u001b[0m WARNING DELETING EXPERIENCES\n",
      "\u001b[2m\u001b[36m(pid=15624)\u001b[0m Game 751 Draw\n",
      "\u001b[2m\u001b[36m(pid=15624)\u001b[0m WARNING DELETING EXPERIENCES\n",
      "\u001b[2m\u001b[36m(pid=15613)\u001b[0m Game 746 Draw\n",
      "\u001b[2m\u001b[36m(pid=15613)\u001b[0m WARNING DELETING EXPERIENCES\n",
      "\u001b[2m\u001b[36m(pid=15617)\u001b[0m Game 741 Draw\n",
      "\u001b[2m\u001b[36m(pid=15617)\u001b[0m WARNING DELETING EXPERIENCES\n",
      "\u001b[2m\u001b[36m(pid=15610)\u001b[0m Game 747 Draw\n",
      "\u001b[2m\u001b[36m(pid=15610)\u001b[0m WARNING DELETING EXPERIENCES\n",
      "\u001b[2m\u001b[36m(pid=15612)\u001b[0m Game 750 Draw\n",
      "\u001b[2m\u001b[36m(pid=15612)\u001b[0m WARNING DELETING EXPERIENCES\n",
      "ACTOR LOSS 6140.7919921875 | CRITIC LOSS 13.836650848388672\n",
      "ACTOR LOSS 6133.25244140625 | CRITIC LOSS 12.839600563049316\n",
      "ACTOR LOSS 6065.5986328125 | CRITIC LOSS 9.624341011047363\n",
      "ACTOR LOSS 5858.20751953125 | CRITIC LOSS 5.446544170379639\n",
      "ACTOR LOSS 6155.833984375 | CRITIC LOSS 5.514060974121094\n",
      "SAVING\n",
      "ACTOR LOSS 6129.177734375 | CRITIC LOSS 8.411412239074707\n",
      "ACTOR LOSS 6151.20458984375 | CRITIC LOSS 4.9976115226745605\n",
      "ACTOR LOSS 5731.359375 | CRITIC LOSS 3.7550740242004395\n",
      "ACTOR LOSS 6152.91845703125 | CRITIC LOSS 4.433238506317139\n",
      "ACTOR LOSS 6107.1484375 | CRITIC LOSS 2.405365467071533\n",
      "\u001b[2m\u001b[36m(pid=15612)\u001b[0m Loading Random Controllers E376.pth\n"
     ]
    },
    {
     "name": "stderr",
     "output_type": "stream",
     "text": [
      "\u001b[2m\u001b[36m(pid=15612)\u001b[0m /home/ec2-user/.local/lib/python3.6/site-packages/ray/workers/default_worker.py:58: RuntimeWarning: invalid value encountered in true_divide\n",
      "\u001b[2m\u001b[36m(pid=15612)\u001b[0m   type=str,\n"
     ]
    },
    {
     "name": "stdout",
     "output_type": "stream",
     "text": [
      "\u001b[2m\u001b[36m(pid=15624)\u001b[0m Loading Random Controllers E288.pth\n"
     ]
    },
    {
     "name": "stderr",
     "output_type": "stream",
     "text": [
      "\u001b[2m\u001b[36m(pid=15624)\u001b[0m /home/ec2-user/.local/lib/python3.6/site-packages/ray/workers/default_worker.py:58: RuntimeWarning: invalid value encountered in true_divide\n",
      "\u001b[2m\u001b[36m(pid=15624)\u001b[0m   type=str,\n",
      "\u001b[2m\u001b[36m(pid=15610)\u001b[0m /home/ec2-user/.local/lib/python3.6/site-packages/ray/workers/default_worker.py:58: RuntimeWarning: invalid value encountered in true_divide\n",
      "\u001b[2m\u001b[36m(pid=15610)\u001b[0m   type=str,\n"
     ]
    },
    {
     "name": "stdout",
     "output_type": "stream",
     "text": [
      "\u001b[2m\u001b[36m(pid=15610)\u001b[0m Loading Random Controllers E464.pth\n",
      "\u001b[2m\u001b[36m(pid=15613)\u001b[0m Loading Random Controllers E248.pth\n"
     ]
    },
    {
     "name": "stderr",
     "output_type": "stream",
     "text": [
      "\u001b[2m\u001b[36m(pid=15613)\u001b[0m /home/ec2-user/.local/lib/python3.6/site-packages/ray/workers/default_worker.py:58: RuntimeWarning: invalid value encountered in true_divide\n",
      "\u001b[2m\u001b[36m(pid=15613)\u001b[0m   type=str,\n"
     ]
    },
    {
     "name": "stdout",
     "output_type": "stream",
     "text": [
      "\u001b[2m\u001b[36m(pid=15623)\u001b[0m Loading Random Controllers E416.pth\n"
     ]
    },
    {
     "name": "stderr",
     "output_type": "stream",
     "text": [
      "\u001b[2m\u001b[36m(pid=15623)\u001b[0m /home/ec2-user/.local/lib/python3.6/site-packages/ray/workers/default_worker.py:58: RuntimeWarning: invalid value encountered in true_divide\n",
      "\u001b[2m\u001b[36m(pid=15623)\u001b[0m   type=str,\n"
     ]
    },
    {
     "name": "stdout",
     "output_type": "stream",
     "text": [
      "\u001b[2m\u001b[36m(pid=15619)\u001b[0m Loading Random Controllers E64.pth\n"
     ]
    },
    {
     "name": "stderr",
     "output_type": "stream",
     "text": [
      "\u001b[2m\u001b[36m(pid=15619)\u001b[0m /home/ec2-user/.local/lib/python3.6/site-packages/ray/workers/default_worker.py:58: RuntimeWarning: invalid value encountered in true_divide\n",
      "\u001b[2m\u001b[36m(pid=15619)\u001b[0m   type=str,\n"
     ]
    },
    {
     "name": "stdout",
     "output_type": "stream",
     "text": [
      "\u001b[2m\u001b[36m(pid=15615)\u001b[0m Loading Random Controllers E56.pth\n"
     ]
    },
    {
     "name": "stderr",
     "output_type": "stream",
     "text": [
      "\u001b[2m\u001b[36m(pid=15615)\u001b[0m /home/ec2-user/.local/lib/python3.6/site-packages/ray/workers/default_worker.py:58: RuntimeWarning: invalid value encountered in true_divide\n",
      "\u001b[2m\u001b[36m(pid=15615)\u001b[0m   type=str,\n"
     ]
    },
    {
     "name": "stdout",
     "output_type": "stream",
     "text": [
      "\u001b[2m\u001b[36m(pid=15620)\u001b[0m Loading Random Controllers E280.pth\n"
     ]
    },
    {
     "name": "stderr",
     "output_type": "stream",
     "text": [
      "\u001b[2m\u001b[36m(pid=15620)\u001b[0m /home/ec2-user/.local/lib/python3.6/site-packages/ray/workers/default_worker.py:58: RuntimeWarning: invalid value encountered in true_divide\n",
      "\u001b[2m\u001b[36m(pid=15620)\u001b[0m   type=str,\n",
      "\u001b[2m\u001b[36m(pid=15616)\u001b[0m /home/ec2-user/.local/lib/python3.6/site-packages/ray/workers/default_worker.py:58: RuntimeWarning: invalid value encountered in true_divide\n",
      "\u001b[2m\u001b[36m(pid=15616)\u001b[0m   type=str,\n"
     ]
    },
    {
     "name": "stdout",
     "output_type": "stream",
     "text": [
      "\u001b[2m\u001b[36m(pid=15616)\u001b[0m Loading Random Controllers E368.pth\n",
      "\u001b[2m\u001b[36m(pid=15617)\u001b[0m Loading Random Controllers E8.pth\n"
     ]
    },
    {
     "name": "stderr",
     "output_type": "stream",
     "text": [
      "\u001b[2m\u001b[36m(pid=15617)\u001b[0m /home/ec2-user/.local/lib/python3.6/site-packages/ray/workers/default_worker.py:58: RuntimeWarning: invalid value encountered in true_divide\n",
      "\u001b[2m\u001b[36m(pid=15617)\u001b[0m   type=str,\n"
     ]
    },
    {
     "name": "stdout",
     "output_type": "stream",
     "text": [
      "\u001b[2m\u001b[36m(pid=15618)\u001b[0m Loading Random Controllers E376.pth\n"
     ]
    },
    {
     "name": "stderr",
     "output_type": "stream",
     "text": [
      "\u001b[2m\u001b[36m(pid=15618)\u001b[0m /home/ec2-user/.local/lib/python3.6/site-packages/ray/workers/default_worker.py:58: RuntimeWarning: invalid value encountered in true_divide\n",
      "\u001b[2m\u001b[36m(pid=15618)\u001b[0m   type=str,\n"
     ]
    },
    {
     "name": "stdout",
     "output_type": "stream",
     "text": [
      "\u001b[2m\u001b[36m(pid=15614)\u001b[0m Loading Random Controllers E432.pth\n"
     ]
    },
    {
     "name": "stderr",
     "output_type": "stream",
     "text": [
      "\u001b[2m\u001b[36m(pid=15614)\u001b[0m /home/ec2-user/.local/lib/python3.6/site-packages/ray/workers/default_worker.py:58: RuntimeWarning: invalid value encountered in true_divide\n",
      "\u001b[2m\u001b[36m(pid=15614)\u001b[0m   type=str,\n"
     ]
    },
    {
     "name": "stdout",
     "output_type": "stream",
     "text": [
      "\u001b[2m\u001b[36m(pid=15611)\u001b[0m Loading Random Controllers E208.pth\n"
     ]
    },
    {
     "name": "stderr",
     "output_type": "stream",
     "text": [
      "\u001b[2m\u001b[36m(pid=15611)\u001b[0m /home/ec2-user/.local/lib/python3.6/site-packages/ray/workers/default_worker.py:58: RuntimeWarning: invalid value encountered in true_divide\n",
      "\u001b[2m\u001b[36m(pid=15611)\u001b[0m   type=str,\n"
     ]
    },
    {
     "name": "stdout",
     "output_type": "stream",
     "text": [
      "\u001b[2m\u001b[36m(pid=15621)\u001b[0m Loading Random Controllers E112.pth\n"
     ]
    },
    {
     "name": "stderr",
     "output_type": "stream",
     "text": [
      "\u001b[2m\u001b[36m(pid=15621)\u001b[0m /home/ec2-user/.local/lib/python3.6/site-packages/ray/workers/default_worker.py:58: RuntimeWarning: invalid value encountered in true_divide\n",
      "\u001b[2m\u001b[36m(pid=15621)\u001b[0m   type=str,\n"
     ]
    },
    {
     "name": "stdout",
     "output_type": "stream",
     "text": [
      "\u001b[2m\u001b[36m(pid=15622)\u001b[0m Loading Random Controllers E368.pth\n"
     ]
    },
    {
     "name": "stderr",
     "output_type": "stream",
     "text": [
      "\u001b[2m\u001b[36m(pid=15622)\u001b[0m /home/ec2-user/.local/lib/python3.6/site-packages/ray/workers/default_worker.py:58: RuntimeWarning: invalid value encountered in true_divide\n",
      "\u001b[2m\u001b[36m(pid=15622)\u001b[0m   type=str,\n"
     ]
    },
    {
     "name": "stdout",
     "output_type": "stream",
     "text": [
      "\u001b[2m\u001b[36m(pid=15625)\u001b[0m Loading Random Controllers E376.pth\n"
     ]
    },
    {
     "name": "stderr",
     "output_type": "stream",
     "text": [
      "\u001b[2m\u001b[36m(pid=15625)\u001b[0m /home/ec2-user/.local/lib/python3.6/site-packages/ray/workers/default_worker.py:58: RuntimeWarning: invalid value encountered in true_divide\n",
      "\u001b[2m\u001b[36m(pid=15625)\u001b[0m   type=str,\n"
     ]
    },
    {
     "name": "stdout",
     "output_type": "stream",
     "text": [
      "\u001b[2m\u001b[36m(pid=15613)\u001b[0m Game 755 White Won\n",
      "\u001b[2m\u001b[36m(pid=15617)\u001b[0m Game 761 White Loss\n",
      "\u001b[2m\u001b[36m(pid=15618)\u001b[0m Game 762 White Loss\n",
      "\u001b[2m\u001b[36m(pid=15621)\u001b[0m Game 765 White Won\n",
      "\u001b[2m\u001b[36m(pid=15615)\u001b[0m Game 758 Draw\n",
      "\u001b[2m\u001b[36m(pid=15615)\u001b[0m WARNING DELETING EXPERIENCES\n",
      "\u001b[2m\u001b[36m(pid=15620)\u001b[0m Game 759 Draw\n",
      "\u001b[2m\u001b[36m(pid=15620)\u001b[0m WARNING DELETING EXPERIENCES\n",
      "\u001b[2m\u001b[36m(pid=15625)\u001b[0m Game 767 Draw\n",
      "\u001b[2m\u001b[36m(pid=15625)\u001b[0m WARNING DELETING EXPERIENCES\n",
      "\u001b[2m\u001b[36m(pid=15614)\u001b[0m Game 763 Draw\n",
      "\u001b[2m\u001b[36m(pid=15614)\u001b[0m WARNING DELETING EXPERIENCES\n",
      "\u001b[2m\u001b[36m(pid=15624)\u001b[0m Game 753 Draw\n",
      "\u001b[2m\u001b[36m(pid=15624)\u001b[0m WARNING DELETING EXPERIENCES\n",
      "\u001b[2m\u001b[36m(pid=15623)\u001b[0m Game 756 Draw\n",
      "\u001b[2m\u001b[36m(pid=15623)\u001b[0m WARNING DELETING EXPERIENCES\n",
      "\u001b[2m\u001b[36m(pid=15610)\u001b[0m Game 754 Draw\n",
      "\u001b[2m\u001b[36m(pid=15610)\u001b[0m WARNING DELETING EXPERIENCES\n",
      "\u001b[2m\u001b[36m(pid=15619)\u001b[0m Game 757 Draw\n",
      "\u001b[2m\u001b[36m(pid=15619)\u001b[0m WARNING DELETING EXPERIENCES\n",
      "\u001b[2m\u001b[36m(pid=15622)\u001b[0m Game 766 Draw\n",
      "\u001b[2m\u001b[36m(pid=15622)\u001b[0m WARNING DELETING EXPERIENCES\n",
      "\u001b[2m\u001b[36m(pid=15612)\u001b[0m Game 752 Draw\n",
      "\u001b[2m\u001b[36m(pid=15612)\u001b[0m WARNING DELETING EXPERIENCES\n",
      "\u001b[2m\u001b[36m(pid=15616)\u001b[0m Game 760 Draw\n",
      "\u001b[2m\u001b[36m(pid=15616)\u001b[0m WARNING DELETING EXPERIENCES\n",
      "\u001b[2m\u001b[36m(pid=15611)\u001b[0m Game 764 Draw\n",
      "\u001b[2m\u001b[36m(pid=15611)\u001b[0m WARNING DELETING EXPERIENCES\n",
      "ACTOR LOSS 6173.8076171875 | CRITIC LOSS 6.4375529289245605\n",
      "ACTOR LOSS 6141.39794921875 | CRITIC LOSS 4.379480838775635\n",
      "ACTOR LOSS 6145.3701171875 | CRITIC LOSS 17.22417449951172\n",
      "SAVING\n",
      "ACTOR LOSS 6122.3505859375 | CRITIC LOSS 10.198509216308594\n",
      "ACTOR LOSS 6155.046875 | CRITIC LOSS 13.213485717773438\n",
      "ACTOR LOSS 6007.45703125 | CRITIC LOSS 7.293665885925293\n",
      "ACTOR LOSS 5890.03564453125 | CRITIC LOSS 8.894172668457031\n",
      "ACTOR LOSS 6154.77978515625 | CRITIC LOSS 5.184197425842285\n",
      "ACTOR LOSS 6129.5078125 | CRITIC LOSS 8.372933387756348\n",
      "ACTOR LOSS 5791.5693359375 | CRITIC LOSS 9.170270919799805\n",
      "\u001b[2m\u001b[36m(pid=15616)\u001b[0m Loading Random Controllers E344.pth\n"
     ]
    },
    {
     "name": "stderr",
     "output_type": "stream",
     "text": [
      "\u001b[2m\u001b[36m(pid=15616)\u001b[0m /home/ec2-user/.local/lib/python3.6/site-packages/ray/workers/default_worker.py:58: RuntimeWarning: invalid value encountered in true_divide\n",
      "\u001b[2m\u001b[36m(pid=15616)\u001b[0m   type=str,\n"
     ]
    },
    {
     "name": "stdout",
     "output_type": "stream",
     "text": [
      "\u001b[2m\u001b[36m(pid=15612)\u001b[0m Loading Random Controllers E128.pth\n"
     ]
    },
    {
     "name": "stderr",
     "output_type": "stream",
     "text": [
      "\u001b[2m\u001b[36m(pid=15612)\u001b[0m /home/ec2-user/.local/lib/python3.6/site-packages/ray/workers/default_worker.py:58: RuntimeWarning: invalid value encountered in true_divide\n",
      "\u001b[2m\u001b[36m(pid=15612)\u001b[0m   type=str,\n"
     ]
    },
    {
     "name": "stdout",
     "output_type": "stream",
     "text": [
      "\u001b[2m\u001b[36m(pid=15619)\u001b[0m Loading Random Controllers E464.pth\n"
     ]
    },
    {
     "name": "stderr",
     "output_type": "stream",
     "text": [
      "\u001b[2m\u001b[36m(pid=15619)\u001b[0m /home/ec2-user/.local/lib/python3.6/site-packages/ray/workers/default_worker.py:58: RuntimeWarning: invalid value encountered in true_divide\n",
      "\u001b[2m\u001b[36m(pid=15619)\u001b[0m   type=str,\n"
     ]
    },
    {
     "name": "stdout",
     "output_type": "stream",
     "text": [
      "\u001b[2m\u001b[36m(pid=15624)\u001b[0m Loading Random Controllers E224.pth\n"
     ]
    },
    {
     "name": "stderr",
     "output_type": "stream",
     "text": [
      "\u001b[2m\u001b[36m(pid=15624)\u001b[0m /home/ec2-user/.local/lib/python3.6/site-packages/ray/workers/default_worker.py:58: RuntimeWarning: invalid value encountered in true_divide\n",
      "\u001b[2m\u001b[36m(pid=15624)\u001b[0m   type=str,\n"
     ]
    },
    {
     "name": "stdout",
     "output_type": "stream",
     "text": [
      "\u001b[2m\u001b[36m(pid=15611)\u001b[0m Loading Random Controllers E280.pth\n"
     ]
    },
    {
     "name": "stderr",
     "output_type": "stream",
     "text": [
      "\u001b[2m\u001b[36m(pid=15611)\u001b[0m /home/ec2-user/.local/lib/python3.6/site-packages/ray/workers/default_worker.py:58: RuntimeWarning: invalid value encountered in true_divide\n",
      "\u001b[2m\u001b[36m(pid=15611)\u001b[0m   type=str,\n"
     ]
    },
    {
     "name": "stdout",
     "output_type": "stream",
     "text": [
      "\u001b[2m\u001b[36m(pid=15614)\u001b[0m Loading Random Controllers E16.pth\n"
     ]
    },
    {
     "name": "stderr",
     "output_type": "stream",
     "text": [
      "\u001b[2m\u001b[36m(pid=15614)\u001b[0m /home/ec2-user/.local/lib/python3.6/site-packages/ray/workers/default_worker.py:58: RuntimeWarning: invalid value encountered in true_divide\n",
      "\u001b[2m\u001b[36m(pid=15614)\u001b[0m   type=str,\n"
     ]
    },
    {
     "name": "stdout",
     "output_type": "stream",
     "text": [
      "\u001b[2m\u001b[36m(pid=15622)\u001b[0m Loading Random Controllers E368.pth\n"
     ]
    },
    {
     "name": "stderr",
     "output_type": "stream",
     "text": [
      "\u001b[2m\u001b[36m(pid=15622)\u001b[0m /home/ec2-user/.local/lib/python3.6/site-packages/ray/workers/default_worker.py:58: RuntimeWarning: invalid value encountered in true_divide\n",
      "\u001b[2m\u001b[36m(pid=15622)\u001b[0m   type=str,\n"
     ]
    },
    {
     "name": "stdout",
     "output_type": "stream",
     "text": [
      "\u001b[2m\u001b[36m(pid=15625)\u001b[0m Loading Random Controllers E264.pth\n",
      "\u001b[2m\u001b[36m(pid=15620)\u001b[0m Loading Random Controllers E208.pth\n"
     ]
    },
    {
     "name": "stderr",
     "output_type": "stream",
     "text": [
      "\u001b[2m\u001b[36m(pid=15625)\u001b[0m /home/ec2-user/.local/lib/python3.6/site-packages/ray/workers/default_worker.py:58: RuntimeWarning: invalid value encountered in true_divide\n",
      "\u001b[2m\u001b[36m(pid=15625)\u001b[0m   type=str,\n",
      "\u001b[2m\u001b[36m(pid=15620)\u001b[0m /home/ec2-user/.local/lib/python3.6/site-packages/ray/workers/default_worker.py:58: RuntimeWarning: invalid value encountered in true_divide\n",
      "\u001b[2m\u001b[36m(pid=15620)\u001b[0m   type=str,\n"
     ]
    },
    {
     "name": "stdout",
     "output_type": "stream",
     "text": [
      "\u001b[2m\u001b[36m(pid=15615)\u001b[0m Loading Random Controllers E360.pth\n"
     ]
    },
    {
     "name": "stderr",
     "output_type": "stream",
     "text": [
      "\u001b[2m\u001b[36m(pid=15615)\u001b[0m /home/ec2-user/.local/lib/python3.6/site-packages/ray/workers/default_worker.py:58: RuntimeWarning: invalid value encountered in true_divide\n",
      "\u001b[2m\u001b[36m(pid=15615)\u001b[0m   type=str,\n"
     ]
    },
    {
     "name": "stdout",
     "output_type": "stream",
     "text": [
      "\u001b[2m\u001b[36m(pid=15621)\u001b[0m Loading Random Controllers E472.pth\n"
     ]
    },
    {
     "name": "stderr",
     "output_type": "stream",
     "text": [
      "\u001b[2m\u001b[36m(pid=15621)\u001b[0m /home/ec2-user/.local/lib/python3.6/site-packages/ray/workers/default_worker.py:58: RuntimeWarning: invalid value encountered in true_divide\n",
      "\u001b[2m\u001b[36m(pid=15621)\u001b[0m   type=str,\n"
     ]
    },
    {
     "name": "stdout",
     "output_type": "stream",
     "text": [
      "\u001b[2m\u001b[36m(pid=15618)\u001b[0m Loading Random Controllers E136.pth\n"
     ]
    },
    {
     "name": "stderr",
     "output_type": "stream",
     "text": [
      "\u001b[2m\u001b[36m(pid=15618)\u001b[0m /home/ec2-user/.local/lib/python3.6/site-packages/ray/workers/default_worker.py:58: RuntimeWarning: invalid value encountered in true_divide\n",
      "\u001b[2m\u001b[36m(pid=15618)\u001b[0m   type=str,\n"
     ]
    },
    {
     "name": "stdout",
     "output_type": "stream",
     "text": [
      "\u001b[2m\u001b[36m(pid=15617)\u001b[0m Loading Random Controllers E72.pth\n"
     ]
    },
    {
     "name": "stderr",
     "output_type": "stream",
     "text": [
      "\u001b[2m\u001b[36m(pid=15617)\u001b[0m /home/ec2-user/.local/lib/python3.6/site-packages/ray/workers/default_worker.py:58: RuntimeWarning: invalid value encountered in true_divide\n",
      "\u001b[2m\u001b[36m(pid=15617)\u001b[0m   type=str,\n"
     ]
    },
    {
     "name": "stdout",
     "output_type": "stream",
     "text": [
      "\u001b[2m\u001b[36m(pid=15610)\u001b[0m Loading Random Controllers E224.pth\n"
     ]
    },
    {
     "name": "stderr",
     "output_type": "stream",
     "text": [
      "\u001b[2m\u001b[36m(pid=15610)\u001b[0m /home/ec2-user/.local/lib/python3.6/site-packages/ray/workers/default_worker.py:58: RuntimeWarning: invalid value encountered in true_divide\n",
      "\u001b[2m\u001b[36m(pid=15610)\u001b[0m   type=str,\n"
     ]
    },
    {
     "name": "stdout",
     "output_type": "stream",
     "text": [
      "\u001b[2m\u001b[36m(pid=15623)\u001b[0m Loading Random Controllers E72.pth\n"
     ]
    },
    {
     "name": "stderr",
     "output_type": "stream",
     "text": [
      "\u001b[2m\u001b[36m(pid=15623)\u001b[0m /home/ec2-user/.local/lib/python3.6/site-packages/ray/workers/default_worker.py:58: RuntimeWarning: invalid value encountered in true_divide\n",
      "\u001b[2m\u001b[36m(pid=15623)\u001b[0m   type=str,\n"
     ]
    },
    {
     "name": "stdout",
     "output_type": "stream",
     "text": [
      "\u001b[2m\u001b[36m(pid=15613)\u001b[0m Loading Random Controllers E456.pth\n"
     ]
    },
    {
     "name": "stderr",
     "output_type": "stream",
     "text": [
      "\u001b[2m\u001b[36m(pid=15613)\u001b[0m /home/ec2-user/.local/lib/python3.6/site-packages/ray/workers/default_worker.py:58: RuntimeWarning: invalid value encountered in true_divide\n",
      "\u001b[2m\u001b[36m(pid=15613)\u001b[0m   type=str,\n"
     ]
    },
    {
     "name": "stdout",
     "output_type": "stream",
     "text": [
      "\u001b[2m\u001b[36m(pid=15623)\u001b[0m Game 782 White Loss\n",
      "\u001b[2m\u001b[36m(pid=15615)\u001b[0m Game 777 White Won\n",
      "\u001b[2m\u001b[36m(pid=15620)\u001b[0m Game 776 White Won\n",
      "\u001b[2m\u001b[36m(pid=15617)\u001b[0m Game 780 White Won\n",
      "\u001b[2m\u001b[36m(pid=15611)\u001b[0m Game 772 Draw\n",
      "\u001b[2m\u001b[36m(pid=15611)\u001b[0m WARNING DELETING EXPERIENCES\n",
      "\u001b[2m\u001b[36m(pid=15624)\u001b[0m Game 771 Draw\n",
      "\u001b[2m\u001b[36m(pid=15624)\u001b[0m WARNING DELETING EXPERIENCES\n",
      "\u001b[2m\u001b[36m(pid=15613)\u001b[0m Game 783 Draw\n",
      "\u001b[2m\u001b[36m(pid=15613)\u001b[0m WARNING DELETING EXPERIENCES\n",
      "\u001b[2m\u001b[36m(pid=15612)\u001b[0m Game 769 Draw\n",
      "\u001b[2m\u001b[36m(pid=15612)\u001b[0m WARNING DELETING EXPERIENCES\n",
      "\u001b[2m\u001b[36m(pid=15621)\u001b[0m Game 778 Draw\n",
      "\u001b[2m\u001b[36m(pid=15621)\u001b[0m WARNING DELETING EXPERIENCES\n",
      "\u001b[2m\u001b[36m(pid=15614)\u001b[0m Game 773 Draw\n",
      "\u001b[2m\u001b[36m(pid=15614)\u001b[0m WARNING DELETING EXPERIENCES\n",
      "\u001b[2m\u001b[36m(pid=15610)\u001b[0m Game 781 Draw\n",
      "\u001b[2m\u001b[36m(pid=15610)\u001b[0m WARNING DELETING EXPERIENCES\n",
      "\u001b[2m\u001b[36m(pid=15616)\u001b[0m Game 768 Draw\n",
      "\u001b[2m\u001b[36m(pid=15616)\u001b[0m WARNING DELETING EXPERIENCES\n",
      "\u001b[2m\u001b[36m(pid=15622)\u001b[0m Game 774 Draw\n",
      "\u001b[2m\u001b[36m(pid=15622)\u001b[0m WARNING DELETING EXPERIENCES\n",
      "\u001b[2m\u001b[36m(pid=15619)\u001b[0m Game 770 Draw\n",
      "\u001b[2m\u001b[36m(pid=15619)\u001b[0m WARNING DELETING EXPERIENCES\n",
      "\u001b[2m\u001b[36m(pid=15618)\u001b[0m Game 779 Draw\n",
      "\u001b[2m\u001b[36m(pid=15618)\u001b[0m WARNING DELETING EXPERIENCES\n",
      "\u001b[2m\u001b[36m(pid=15625)\u001b[0m Game 775 Draw\n",
      "\u001b[2m\u001b[36m(pid=15625)\u001b[0m WARNING DELETING EXPERIENCES\n",
      "ACTOR LOSS 5766.865234375 | CRITIC LOSS 9.117308616638184\n",
      "SAVING\n",
      "ACTOR LOSS 6167.54248046875 | CRITIC LOSS 10.438448905944824\n",
      "ACTOR LOSS 6162.41162109375 | CRITIC LOSS 6.605083465576172\n",
      "ACTOR LOSS 6176.10400390625 | CRITIC LOSS 12.552058219909668\n",
      "ACTOR LOSS 6157.26123046875 | CRITIC LOSS 6.986981391906738\n",
      "ACTOR LOSS 6162.55126953125 | CRITIC LOSS 2.8520901203155518\n",
      "ACTOR LOSS 6162.34619140625 | CRITIC LOSS 9.537254333496094\n",
      "ACTOR LOSS 6157.4326171875 | CRITIC LOSS 10.748457908630371\n",
      "ACTOR LOSS 6154.43994140625 | CRITIC LOSS 4.6874189376831055\n",
      "SAVING\n",
      "ACTOR LOSS 6123.50634765625 | CRITIC LOSS 10.20158576965332\n",
      "\u001b[2m\u001b[36m(pid=15619)\u001b[0m Loading Random Controllers E96.pth\n"
     ]
    },
    {
     "name": "stderr",
     "output_type": "stream",
     "text": [
      "\u001b[2m\u001b[36m(pid=15619)\u001b[0m /home/ec2-user/.local/lib/python3.6/site-packages/ray/workers/default_worker.py:58: RuntimeWarning: invalid value encountered in true_divide\n",
      "\u001b[2m\u001b[36m(pid=15619)\u001b[0m   type=str,\n"
     ]
    },
    {
     "name": "stdout",
     "output_type": "stream",
     "text": [
      "\u001b[2m\u001b[36m(pid=15625)\u001b[0m Loading Random Controllers E480.pth\n"
     ]
    },
    {
     "name": "stderr",
     "output_type": "stream",
     "text": [
      "\u001b[2m\u001b[36m(pid=15625)\u001b[0m /home/ec2-user/.local/lib/python3.6/site-packages/ray/workers/default_worker.py:58: RuntimeWarning: invalid value encountered in true_divide\n",
      "\u001b[2m\u001b[36m(pid=15625)\u001b[0m   type=str,\n"
     ]
    },
    {
     "name": "stdout",
     "output_type": "stream",
     "text": [
      "\u001b[2m\u001b[36m(pid=15622)\u001b[0m Loading Random Controllers E264.pth\n"
     ]
    },
    {
     "name": "stderr",
     "output_type": "stream",
     "text": [
      "\u001b[2m\u001b[36m(pid=15622)\u001b[0m /home/ec2-user/.local/lib/python3.6/site-packages/ray/workers/default_worker.py:58: RuntimeWarning: invalid value encountered in true_divide\n",
      "\u001b[2m\u001b[36m(pid=15622)\u001b[0m   type=str,\n"
     ]
    },
    {
     "name": "stdout",
     "output_type": "stream",
     "text": [
      "\u001b[2m\u001b[36m(pid=15616)\u001b[0m Loading Random Controllers E472.pth\n"
     ]
    },
    {
     "name": "stderr",
     "output_type": "stream",
     "text": [
      "\u001b[2m\u001b[36m(pid=15616)\u001b[0m /home/ec2-user/.local/lib/python3.6/site-packages/ray/workers/default_worker.py:58: RuntimeWarning: invalid value encountered in true_divide\n",
      "\u001b[2m\u001b[36m(pid=15616)\u001b[0m   type=str,\n"
     ]
    },
    {
     "name": "stdout",
     "output_type": "stream",
     "text": [
      "\u001b[2m\u001b[36m(pid=15621)\u001b[0m Loading Random Controllers E96.pth\n"
     ]
    },
    {
     "name": "stderr",
     "output_type": "stream",
     "text": [
      "\u001b[2m\u001b[36m(pid=15621)\u001b[0m /home/ec2-user/.local/lib/python3.6/site-packages/ray/workers/default_worker.py:58: RuntimeWarning: invalid value encountered in true_divide\n",
      "\u001b[2m\u001b[36m(pid=15621)\u001b[0m   type=str,\n"
     ]
    },
    {
     "name": "stdout",
     "output_type": "stream",
     "text": [
      "\u001b[2m\u001b[36m(pid=15612)\u001b[0m Loading Random Controllers E56.pth\n"
     ]
    },
    {
     "name": "stderr",
     "output_type": "stream",
     "text": [
      "\u001b[2m\u001b[36m(pid=15612)\u001b[0m /home/ec2-user/.local/lib/python3.6/site-packages/ray/workers/default_worker.py:58: RuntimeWarning: invalid value encountered in true_divide\n",
      "\u001b[2m\u001b[36m(pid=15612)\u001b[0m   type=str,\n"
     ]
    },
    {
     "name": "stdout",
     "output_type": "stream",
     "text": [
      "\u001b[2m\u001b[36m(pid=15624)\u001b[0m Loading Random Controllers E24.pth\n"
     ]
    },
    {
     "name": "stderr",
     "output_type": "stream",
     "text": [
      "\u001b[2m\u001b[36m(pid=15624)\u001b[0m /home/ec2-user/.local/lib/python3.6/site-packages/ray/workers/default_worker.py:58: RuntimeWarning: invalid value encountered in true_divide\n",
      "\u001b[2m\u001b[36m(pid=15624)\u001b[0m   type=str,\n"
     ]
    },
    {
     "name": "stdout",
     "output_type": "stream",
     "text": [
      "\u001b[2m\u001b[36m(pid=15614)\u001b[0m Loading Random Controllers E208.pth\n"
     ]
    },
    {
     "name": "stderr",
     "output_type": "stream",
     "text": [
      "\u001b[2m\u001b[36m(pid=15614)\u001b[0m /home/ec2-user/.local/lib/python3.6/site-packages/ray/workers/default_worker.py:58: RuntimeWarning: invalid value encountered in true_divide\n",
      "\u001b[2m\u001b[36m(pid=15614)\u001b[0m   type=str,\n"
     ]
    },
    {
     "name": "stdout",
     "output_type": "stream",
     "text": [
      "\u001b[2m\u001b[36m(pid=15611)\u001b[0m Loading Random Controllers E80.pth\n",
      "\u001b[2m\u001b[36m(pid=15618)\u001b[0m Loading Random Controllers E464.pth\n"
     ]
    },
    {
     "name": "stderr",
     "output_type": "stream",
     "text": [
      "\u001b[2m\u001b[36m(pid=15611)\u001b[0m /home/ec2-user/.local/lib/python3.6/site-packages/ray/workers/default_worker.py:58: RuntimeWarning: invalid value encountered in true_divide\n",
      "\u001b[2m\u001b[36m(pid=15611)\u001b[0m   type=str,\n",
      "\u001b[2m\u001b[36m(pid=15618)\u001b[0m /home/ec2-user/.local/lib/python3.6/site-packages/ray/workers/default_worker.py:58: RuntimeWarning: invalid value encountered in true_divide\n",
      "\u001b[2m\u001b[36m(pid=15618)\u001b[0m   type=str,\n"
     ]
    },
    {
     "name": "stdout",
     "output_type": "stream",
     "text": [
      "\u001b[2m\u001b[36m(pid=15617)\u001b[0m Loading Random Controllers E168.pth\n"
     ]
    },
    {
     "name": "stderr",
     "output_type": "stream",
     "text": [
      "\u001b[2m\u001b[36m(pid=15617)\u001b[0m /home/ec2-user/.local/lib/python3.6/site-packages/ray/workers/default_worker.py:58: RuntimeWarning: invalid value encountered in true_divide\n",
      "\u001b[2m\u001b[36m(pid=15617)\u001b[0m   type=str,\n",
      "\u001b[2m\u001b[36m(pid=15620)\u001b[0m /home/ec2-user/.local/lib/python3.6/site-packages/ray/workers/default_worker.py:58: RuntimeWarning: invalid value encountered in true_divide\n",
      "\u001b[2m\u001b[36m(pid=15620)\u001b[0m   type=str,\n"
     ]
    },
    {
     "name": "stdout",
     "output_type": "stream",
     "text": [
      "\u001b[2m\u001b[36m(pid=15620)\u001b[0m Loading Random Controllers E0.pth\n",
      "\u001b[2m\u001b[36m(pid=15615)\u001b[0m Loading Random Controllers E168.pth\n"
     ]
    },
    {
     "name": "stderr",
     "output_type": "stream",
     "text": [
      "\u001b[2m\u001b[36m(pid=15615)\u001b[0m /home/ec2-user/.local/lib/python3.6/site-packages/ray/workers/default_worker.py:58: RuntimeWarning: invalid value encountered in true_divide\n",
      "\u001b[2m\u001b[36m(pid=15615)\u001b[0m   type=str,\n"
     ]
    },
    {
     "name": "stdout",
     "output_type": "stream",
     "text": [
      "\u001b[2m\u001b[36m(pid=15610)\u001b[0m Loading Random Controllers E400.pth\n"
     ]
    },
    {
     "name": "stderr",
     "output_type": "stream",
     "text": [
      "\u001b[2m\u001b[36m(pid=15610)\u001b[0m /home/ec2-user/.local/lib/python3.6/site-packages/ray/workers/default_worker.py:58: RuntimeWarning: invalid value encountered in true_divide\n",
      "\u001b[2m\u001b[36m(pid=15610)\u001b[0m   type=str,\n"
     ]
    },
    {
     "name": "stdout",
     "output_type": "stream",
     "text": [
      "\u001b[2m\u001b[36m(pid=15613)\u001b[0m Loading Random Controllers E336.pth\n"
     ]
    },
    {
     "name": "stderr",
     "output_type": "stream",
     "text": [
      "\u001b[2m\u001b[36m(pid=15613)\u001b[0m /home/ec2-user/.local/lib/python3.6/site-packages/ray/workers/default_worker.py:58: RuntimeWarning: invalid value encountered in true_divide\n",
      "\u001b[2m\u001b[36m(pid=15613)\u001b[0m   type=str,\n"
     ]
    },
    {
     "name": "stdout",
     "output_type": "stream",
     "text": [
      "\u001b[2m\u001b[36m(pid=15623)\u001b[0m Loading Random Controllers E368.pth\n"
     ]
    },
    {
     "name": "stderr",
     "output_type": "stream",
     "text": [
      "\u001b[2m\u001b[36m(pid=15623)\u001b[0m /home/ec2-user/.local/lib/python3.6/site-packages/ray/workers/default_worker.py:58: RuntimeWarning: invalid value encountered in true_divide\n",
      "\u001b[2m\u001b[36m(pid=15623)\u001b[0m   type=str,\n"
     ]
    },
    {
     "name": "stdout",
     "output_type": "stream",
     "text": [
      "\u001b[2m\u001b[36m(pid=15624)\u001b[0m Game 790 White Loss\n",
      "\u001b[2m\u001b[36m(pid=15612)\u001b[0m Game 789 White Won\n",
      "\u001b[2m\u001b[36m(pid=15611)\u001b[0m Game 792 White Won\n",
      "\u001b[2m\u001b[36m(pid=15615)\u001b[0m Game 796 Draw\n",
      "\u001b[2m\u001b[36m(pid=15615)\u001b[0m WARNING DELETING EXPERIENCES\n",
      "\u001b[2m\u001b[36m(pid=15613)\u001b[0m Game 798 Draw\n",
      "\u001b[2m\u001b[36m(pid=15613)\u001b[0m WARNING DELETING EXPERIENCES\n",
      "\u001b[2m\u001b[36m(pid=15614)\u001b[0m Game 791 Draw\n",
      "\u001b[2m\u001b[36m(pid=15614)\u001b[0m WARNING DELETING EXPERIENCES\n",
      "\u001b[2m\u001b[36m(pid=15621)\u001b[0m Game 788 Draw\n",
      "\u001b[2m\u001b[36m(pid=15621)\u001b[0m WARNING DELETING EXPERIENCES\n",
      "\u001b[2m\u001b[36m(pid=15616)\u001b[0m Game 787 Draw\n",
      "\u001b[2m\u001b[36m(pid=15616)\u001b[0m WARNING DELETING EXPERIENCES\n",
      "\u001b[2m\u001b[36m(pid=15625)\u001b[0m Game 785 Draw\n",
      "\u001b[2m\u001b[36m(pid=15625)\u001b[0m WARNING DELETING EXPERIENCES\n",
      "\u001b[2m\u001b[36m(pid=15610)\u001b[0m Game 797 Draw\n",
      "\u001b[2m\u001b[36m(pid=15610)\u001b[0m WARNING DELETING EXPERIENCES\n",
      "\u001b[2m\u001b[36m(pid=15623)\u001b[0m Game 799 Draw\n",
      "\u001b[2m\u001b[36m(pid=15623)\u001b[0m WARNING DELETING EXPERIENCES\n",
      "\u001b[2m\u001b[36m(pid=15622)\u001b[0m Game 786 Draw\n",
      "\u001b[2m\u001b[36m(pid=15622)\u001b[0m WARNING DELETING EXPERIENCES\n",
      "\u001b[2m\u001b[36m(pid=15617)\u001b[0m Game 794 Draw\n",
      "\u001b[2m\u001b[36m(pid=15617)\u001b[0m WARNING DELETING EXPERIENCES\n",
      "\u001b[2m\u001b[36m(pid=15618)\u001b[0m Game 793 Draw\n",
      "\u001b[2m\u001b[36m(pid=15618)\u001b[0m WARNING DELETING EXPERIENCES\n",
      "\u001b[2m\u001b[36m(pid=15620)\u001b[0m Game 795 Draw\n",
      "\u001b[2m\u001b[36m(pid=15620)\u001b[0m WARNING DELETING EXPERIENCES\n",
      "\u001b[2m\u001b[36m(pid=15619)\u001b[0m Game 784 Draw\n",
      "\u001b[2m\u001b[36m(pid=15619)\u001b[0m WARNING DELETING EXPERIENCES\n",
      "ACTOR LOSS 5906.6572265625 | CRITIC LOSS 5.357330799102783\n",
      "ACTOR LOSS 6155.2333984375 | CRITIC LOSS 2.8435919284820557\n",
      "ACTOR LOSS 5797.99072265625 | CRITIC LOSS 5.530632972717285\n",
      "ACTOR LOSS 6118.15185546875 | CRITIC LOSS 4.336498737335205\n",
      "ACTOR LOSS 6151.3857421875 | CRITIC LOSS 4.401169300079346\n",
      "ACTOR LOSS 6160.6201171875 | CRITIC LOSS 11.659534454345703\n",
      "ACTOR LOSS 6126.0 | CRITIC LOSS 7.702057838439941\n",
      "SAVING\n",
      "ACTOR LOSS 6135.16796875 | CRITIC LOSS 6.273801803588867\n",
      "ACTOR LOSS 6158.04736328125 | CRITIC LOSS 7.7393951416015625\n",
      "ACTOR LOSS 6089.4423828125 | CRITIC LOSS 2.43367600440979\n",
      "\u001b[2m\u001b[36m(pid=15619)\u001b[0m Loading Random Controllers E144.pth\n"
     ]
    },
    {
     "name": "stderr",
     "output_type": "stream",
     "text": [
      "\u001b[2m\u001b[36m(pid=15619)\u001b[0m /home/ec2-user/.local/lib/python3.6/site-packages/ray/workers/default_worker.py:58: RuntimeWarning: invalid value encountered in true_divide\n",
      "\u001b[2m\u001b[36m(pid=15619)\u001b[0m   type=str,\n"
     ]
    },
    {
     "name": "stdout",
     "output_type": "stream",
     "text": [
      "\u001b[2m\u001b[36m(pid=15620)\u001b[0m Loading Random Controllers E32.pth\n"
     ]
    },
    {
     "name": "stderr",
     "output_type": "stream",
     "text": [
      "\u001b[2m\u001b[36m(pid=15620)\u001b[0m /home/ec2-user/.local/lib/python3.6/site-packages/ray/workers/default_worker.py:58: RuntimeWarning: invalid value encountered in true_divide\n",
      "\u001b[2m\u001b[36m(pid=15620)\u001b[0m   type=str,\n"
     ]
    },
    {
     "name": "stdout",
     "output_type": "stream",
     "text": [
      "\u001b[2m\u001b[36m(pid=15618)\u001b[0m Loading Random Controllers E48.pth\n"
     ]
    },
    {
     "name": "stderr",
     "output_type": "stream",
     "text": [
      "\u001b[2m\u001b[36m(pid=15618)\u001b[0m /home/ec2-user/.local/lib/python3.6/site-packages/ray/workers/default_worker.py:58: RuntimeWarning: invalid value encountered in true_divide\n",
      "\u001b[2m\u001b[36m(pid=15618)\u001b[0m   type=str,\n"
     ]
    },
    {
     "name": "stdout",
     "output_type": "stream",
     "text": [
      "\u001b[2m\u001b[36m(pid=15617)\u001b[0m Loading Random Controllers E416.pth\n"
     ]
    },
    {
     "name": "stderr",
     "output_type": "stream",
     "text": [
      "\u001b[2m\u001b[36m(pid=15617)\u001b[0m /home/ec2-user/.local/lib/python3.6/site-packages/ray/workers/default_worker.py:58: RuntimeWarning: invalid value encountered in true_divide\n",
      "\u001b[2m\u001b[36m(pid=15617)\u001b[0m   type=str,\n"
     ]
    },
    {
     "name": "stdout",
     "output_type": "stream",
     "text": [
      "\u001b[2m\u001b[36m(pid=15622)\u001b[0m Loading Random Controllers E48.pth\n"
     ]
    },
    {
     "name": "stderr",
     "output_type": "stream",
     "text": [
      "\u001b[2m\u001b[36m(pid=15622)\u001b[0m /home/ec2-user/.local/lib/python3.6/site-packages/ray/workers/default_worker.py:58: RuntimeWarning: invalid value encountered in true_divide\n",
      "\u001b[2m\u001b[36m(pid=15622)\u001b[0m   type=str,\n",
      "\u001b[2m\u001b[36m(pid=15625)\u001b[0m /home/ec2-user/.local/lib/python3.6/site-packages/ray/workers/default_worker.py:58: RuntimeWarning: invalid value encountered in true_divide\n",
      "\u001b[2m\u001b[36m(pid=15625)\u001b[0m   type=str,\n"
     ]
    },
    {
     "name": "stdout",
     "output_type": "stream",
     "text": [
      "\u001b[2m\u001b[36m(pid=15625)\u001b[0m Loading Random Controllers E456.pth\n",
      "\u001b[2m\u001b[36m(pid=15616)\u001b[0m Loading Random Controllers E64.pth\n"
     ]
    },
    {
     "name": "stderr",
     "output_type": "stream",
     "text": [
      "\u001b[2m\u001b[36m(pid=15616)\u001b[0m /home/ec2-user/.local/lib/python3.6/site-packages/ray/workers/default_worker.py:58: RuntimeWarning: invalid value encountered in true_divide\n",
      "\u001b[2m\u001b[36m(pid=15616)\u001b[0m   type=str,\n"
     ]
    },
    {
     "name": "stdout",
     "output_type": "stream",
     "text": [
      "\u001b[2m\u001b[36m(pid=15621)\u001b[0m Loading Random Controllers E224.pth\n"
     ]
    },
    {
     "name": "stderr",
     "output_type": "stream",
     "text": [
      "\u001b[2m\u001b[36m(pid=15621)\u001b[0m /home/ec2-user/.local/lib/python3.6/site-packages/ray/workers/default_worker.py:58: RuntimeWarning: invalid value encountered in true_divide\n",
      "\u001b[2m\u001b[36m(pid=15621)\u001b[0m   type=str,\n"
     ]
    },
    {
     "name": "stdout",
     "output_type": "stream",
     "text": [
      "\u001b[2m\u001b[36m(pid=15623)\u001b[0m Loading Random Controllers E280.pth\n",
      "\u001b[2m\u001b[36m(pid=15610)\u001b[0m Loading Random Controllers E472.pth\n"
     ]
    },
    {
     "name": "stderr",
     "output_type": "stream",
     "text": [
      "\u001b[2m\u001b[36m(pid=15623)\u001b[0m /home/ec2-user/.local/lib/python3.6/site-packages/ray/workers/default_worker.py:58: RuntimeWarning: invalid value encountered in true_divide\n",
      "\u001b[2m\u001b[36m(pid=15623)\u001b[0m   type=str,\n",
      "\u001b[2m\u001b[36m(pid=15610)\u001b[0m /home/ec2-user/.local/lib/python3.6/site-packages/ray/workers/default_worker.py:58: RuntimeWarning: invalid value encountered in true_divide\n",
      "\u001b[2m\u001b[36m(pid=15610)\u001b[0m   type=str,\n"
     ]
    },
    {
     "name": "stdout",
     "output_type": "stream",
     "text": [
      "\u001b[2m\u001b[36m(pid=15613)\u001b[0m Loading Random Controllers E32.pth\n"
     ]
    },
    {
     "name": "stderr",
     "output_type": "stream",
     "text": [
      "\u001b[2m\u001b[36m(pid=15613)\u001b[0m /home/ec2-user/.local/lib/python3.6/site-packages/ray/workers/default_worker.py:58: RuntimeWarning: invalid value encountered in true_divide\n",
      "\u001b[2m\u001b[36m(pid=15613)\u001b[0m   type=str,\n"
     ]
    },
    {
     "name": "stdout",
     "output_type": "stream",
     "text": [
      "\u001b[2m\u001b[36m(pid=15615)\u001b[0m Loading Random Controllers E16.pth\n"
     ]
    },
    {
     "name": "stderr",
     "output_type": "stream",
     "text": [
      "\u001b[2m\u001b[36m(pid=15615)\u001b[0m /home/ec2-user/.local/lib/python3.6/site-packages/ray/workers/default_worker.py:58: RuntimeWarning: invalid value encountered in true_divide\n",
      "\u001b[2m\u001b[36m(pid=15615)\u001b[0m   type=str,\n",
      "\u001b[2m\u001b[36m(pid=15614)\u001b[0m /home/ec2-user/.local/lib/python3.6/site-packages/ray/workers/default_worker.py:58: RuntimeWarning: invalid value encountered in true_divide\n",
      "\u001b[2m\u001b[36m(pid=15614)\u001b[0m   type=str,\n"
     ]
    },
    {
     "name": "stdout",
     "output_type": "stream",
     "text": [
      "\u001b[2m\u001b[36m(pid=15614)\u001b[0m Loading Random Controllers E64.pth\n",
      "\u001b[2m\u001b[36m(pid=15611)\u001b[0m Loading Random Controllers E432.pth\n"
     ]
    },
    {
     "name": "stderr",
     "output_type": "stream",
     "text": [
      "\u001b[2m\u001b[36m(pid=15611)\u001b[0m /home/ec2-user/.local/lib/python3.6/site-packages/ray/workers/default_worker.py:58: RuntimeWarning: invalid value encountered in true_divide\n",
      "\u001b[2m\u001b[36m(pid=15611)\u001b[0m   type=str,\n"
     ]
    },
    {
     "name": "stdout",
     "output_type": "stream",
     "text": [
      "\u001b[2m\u001b[36m(pid=15612)\u001b[0m Loading Random Controllers E248.pth\n"
     ]
    },
    {
     "name": "stderr",
     "output_type": "stream",
     "text": [
      "\u001b[2m\u001b[36m(pid=15612)\u001b[0m /home/ec2-user/.local/lib/python3.6/site-packages/ray/workers/default_worker.py:58: RuntimeWarning: invalid value encountered in true_divide\n",
      "\u001b[2m\u001b[36m(pid=15612)\u001b[0m   type=str,\n"
     ]
    },
    {
     "name": "stdout",
     "output_type": "stream",
     "text": [
      "\u001b[2m\u001b[36m(pid=15624)\u001b[0m Loading Random Controllers E264.pth\n"
     ]
    },
    {
     "name": "stderr",
     "output_type": "stream",
     "text": [
      "\u001b[2m\u001b[36m(pid=15624)\u001b[0m /home/ec2-user/.local/lib/python3.6/site-packages/ray/workers/default_worker.py:58: RuntimeWarning: invalid value encountered in true_divide\n",
      "\u001b[2m\u001b[36m(pid=15624)\u001b[0m   type=str,\n"
     ]
    }
   ],
   "source": [
    "class Coach():\n",
    "    \"\"\"\n",
    "    This class executes the self-play + learning. It uses the functions defined\n",
    "    in Game and NeuralNet. args are specified in main.py.\n",
    "    \"\"\"\n",
    "\n",
    "    def __init__(self, env, agent, params):\n",
    "        self.iterations = params['iterations']\n",
    "        self.episodes = params['episodes']\n",
    "        self.queue_length = params['queue_length']\n",
    "        self.simulations = params['simulations']\n",
    "        self.train_times = params['train_times']\n",
    "        self.memory_samples = params['memory_samples']\n",
    "        self.env = deepcopy(env)\n",
    "        self.agent = agent\n",
    "        self.trainExamplesHistory = []  # history of examples from args.numItersForTrainExamplesHistory latest iterations\n",
    "        self.games = 0\n",
    "        params = {\n",
    "            'capacity' : 70,\n",
    "            'gamma' : 0.98\n",
    "        } \n",
    "        \n",
    "        self.memory = EpisodicReplayBuffer(params)\n",
    "    \n",
    "    @ray.remote\n",
    "    def execute_episode(self, agent, game):\n",
    "        \"\"\"\n",
    "        This function executes one episode of self-play, starting with player 1.\n",
    "        As the game is played, each turn is added as a training example to\n",
    "        trainExamples. The game is played till the game ends. After the game\n",
    "        ends, the outcome of the game is used to assign values to each example\n",
    "        in trainExamples.\n",
    "        It uses a temp=1 if episodeStep < tempThreshold, and thereafter\n",
    "        uses temp=0.\n",
    "        Returns:\n",
    "            trainExamples: a list of examples of the form (canonicalBoard, currPlayer, pi,v)\n",
    "                           pi is the MCTS informed policy vector, v is +1 if\n",
    "                           the player eventually won the game, else -1.\n",
    "        \"\"\"\n",
    "        env = Chess_Environment()\n",
    "        experiences = []\n",
    "        agent.reset(1)\n",
    "        mcts_white = MCTS(deepcopy(env), deepcopy(agent), mcts_simulations = self.simulations)\n",
    "        mcts_black = MCTS(deepcopy(env), deepcopy(agent), mcts_simulations = self.simulations)  \n",
    "        mcts_black.agent.random_controller()\n",
    "        \n",
    "        # RESET HIDDEN STATES!!!!!!!!!!!!!!!!!!!!!!!!!!!!!!!!!!!!!!!!!!!!!!!!!!!!!!!!!!!!!!!!!!\n",
    "        game_move = 0\n",
    "        \n",
    "        terminal_test = env.terminal_test()\n",
    "        while not terminal_test:\n",
    "            encoded_state = env.encode()\n",
    "            if env.whites_turn: \n",
    "                action_probs, zh = mcts_white.action_probabilities(encoded_state)\n",
    "            else:\n",
    "                action_probs, zh = mcts_black.action_probabilities(encoded_state)\n",
    "\n",
    "            if env.whites_turn:\n",
    "                experiences.append([zh.detach().cpu().numpy(), action_probs, 1, terminal_test]) # mask is 'not done'\n",
    "            action = random.choices(list(action_probs.keys()), weights = action_probs.values(), k = 1)[0]\n",
    "            _, _ = env.step(action)\n",
    "    \n",
    "            game_move += 1\n",
    "            terminal_test = env.terminal_test()\n",
    "        \n",
    "        reward = env.result()\n",
    "        if not env.whites_turn and ((reward == 1) or (reward == -1)):\n",
    "            reward = reward * -1\n",
    "        \n",
    "        experiences[-1][-1] = 0 # mask is 'not done'\n",
    "        experiences[-1][-2] = reward\n",
    "        \n",
    "        if reward == -1:\n",
    "            print(f\"Game {game} White Loss\")\n",
    "        elif reward == 1:\n",
    "            print(f\"Game {game} White Won\")\n",
    "        else:\n",
    "            print(f\"Game {game} Draw\")\n",
    "            print(\"WARNING DELETING EXPERIENCES\")\n",
    "            return None\n",
    "            \n",
    "        \n",
    "\n",
    "        return experiences\n",
    "    \n",
    "    def learn(self, ray):    \n",
    "#     def learn(self):\n",
    "        \"\"\"\n",
    "        Performs numIters iterations with numEps episodes of self-play in each\n",
    "        iteration. After every iteration, it retrains neural network with\n",
    "        examples in trainExamples (which has a maximum length of maxlenofQueue).\n",
    "        It then pits the new neural network against the old one and accepts it\n",
    "        only if it wins >= updateThreshold fraction of games.\n",
    "        \"\"\"\n",
    "        \n",
    "#         for i in range(1, self.iterations + 1):\n",
    "        episodes = ray.get([self.execute_episode.remote(self, self.agent, self.games + idx) for idx in range(self.episodes)])\n",
    "#         episodes = [self.execute_episode(self.agent, self.games + idx) for idx in range(self.episodes)]\n",
    "        self.games += len(episodes)\n",
    "        \n",
    "        if episodes is not None:\n",
    "            self.memory.add(episodes)\n",
    "        for _ in range(self.train_times):\n",
    "            episodes = self.memory.sample(self.memory_samples)\n",
    "            if episodes is not None:\n",
    "                self.agent.train(episodes)\n",
    "\n",
    "#         # training new network, keeping a copy of the old one\n",
    "#         self.nnet.save_checkpoint(folder=self.args.checkpoint, filename='temp.pth.tar')\n",
    "#         self.pnet.load_checkpoint(folder=self.args.checkpoint, filename='temp.pth.tar')\n",
    "#         pmcts = MCTS(self.game, self.pnet, self.args)\n",
    "\n",
    "#         \n",
    "#         nmcts = MCTS(self.game, self.nnet, self.args)\n",
    "\n",
    "#         log.info('PITTING AGAINST PREVIOUS VERSION')\n",
    "#         arena = Arena(lambda x: np.argmax(pmcts.getActionProb(x, temp=0)),\n",
    "#                           lambda x: np.argmax(nmcts.getActionProb(x, temp=0)), self.game)\n",
    "#         pwins, nwins, draws = arena.playGames(self.args.arenaCompare)\n",
    "\n",
    "#         log.info('NEW/PREV WINS : %d / %d ; DRAWS : %d' % (nwins, pwins, draws))\n",
    "#         if pwins + nwins == 0 or float(nwins) / (pwins + nwins) < self.args.updateThreshold:\n",
    "#             log.info('REJECTING NEW MODEL')\n",
    "#             self.nnet.load_checkpoint(folder=self.args.checkpoint, filename='temp.pth.tar')\n",
    "#         else:\n",
    "#             log.info('ACCEPTING NEW MODEL')\n",
    "#             self.nnet.save_checkpoint(folder=self.args.checkpoint, filename=self.getCheckpointFile(i))\n",
    "#             self.nnet.save_checkpoint(folder=self.args.checkpoint, filename='best.pth.tar')\n",
    "        \n",
    "\n",
    "params = {\n",
    "    'iterations': 1,\n",
    "    'episodes': 16,\n",
    "    'queue_length' : 2000,\n",
    "    'simulations' : 200,\n",
    "    'train_times' : 10,\n",
    "    'memory_samples' : 32\n",
    "}\n",
    "\n",
    "coach = Coach(env, agent, params)\n",
    "for _ in range(1000):\n",
    "    coach.learn(ray)\n",
    "#     coach.learn()\n"
   ]
  },
  {
   "cell_type": "markdown",
   "metadata": {},
   "source": [
    "# ALPHA GO TIPS \n",
    "\n",
    "\n",
    "## MCTS\n",
    "Each simulation proceeds by\n",
    "selecting in each state s a move a with low visit count, high move probability and high value\n",
    "(averaged over the leaf states of simulations that selected a from s) according to the current\n",
    "neural network fθ. The search returns a vector π representing a probability distribution over\n",
    "moves, either proportionally or greedily with respect to the visit counts at the root state.\n",
    "The parameters θ of the deep neural network in AlphaZero are trained by self-play reinforcement learning, starting from randomly initialised parameters θ. Games are played by selecting\n",
    "moves for both players by MCTS, at ∼ πt\n",
    ". At the end of the game, the terminal position sT is\n",
    "scored according to the rules of the game to compute the game outcome z: −1 for a loss, 0 for\n",
    "a draw, and +1 for a win. The neural network parameters θ are updated so as to minimise the\n",
    "error between the predicted outcome vt and the game outcome z, and to maximise the similarity\n",
    "of the policy vector pt\n",
    "to the search probabilities πt\n",
    ". Specifically, the parameters θ are adjusted\n",
    "by gradient descent on a loss function l that sums over mean-squared error and cross-entropy\n",
    "losses respectively\n",
    "\n",
    "(p, v) = fθ(s)                    \n",
    "\n",
    "l = (z − v) 2 − π > log p + c||θ||2\n"
   ]
  },
  {
   "cell_type": "code",
   "execution_count": null,
   "metadata": {},
   "outputs": [],
   "source": [
    "class MCTS():\n",
    "    \"\"\"Monte Carlo Tree Search Algorithm geared for Neural Networks\"\"\"\n",
    "\n",
    "    def __init__(self, env, agent, mcts_simulations = 100, max_depth = 100, delta = 0.5):\n",
    "        self.env = env\n",
    "        self.agent = agent\n",
    "        self.cpuct = 1.5    # WARNING BULLSHIT NUMBER!\n",
    "        self.delta = delta  # value to prevent crash if no edges are visited\n",
    "        self.mcts_simulations = mcts_simulations\n",
    "        self.max_depth = max_depth\n",
    "        \n",
    "        self.Qsa = {}       # stores Q values for s, a (as defined in the paper)\n",
    "        self.Nsa = {}       # stores # times edge s, a was visited\n",
    "        self.Ns = {}        # stores # times board s was visited\n",
    "        self.Ps = {}        # stores initial policy (returned by neural net)\n",
    "\n",
    "        self.Es = {}        # stores victory result (1, 0, -1) ended for board s\n",
    "        self.Vs = {}        # stores legal actions for board s\n",
    "        self.z = {}         # stores the features of the state\n",
    "        self.hidden = {}    # stores the hidden states\n",
    "\n",
    "    def action_probabilities(self, encoded_state, temp = 1):\n",
    "        \"\"\"\n",
    "        This function performs numMCTSSims simulations of MCTS starting from\n",
    "        canonicalBoard.\n",
    "        Returns:\n",
    "            probs: a policy vector where the probability of the ith action is\n",
    "                   proportional to Nsa[(s,a)]**(1./temp)\n",
    "        \"\"\"\n",
    "        for runs in range(self.mcts_simulations):\n",
    "#             print(f\"{Fore.BLUE}MCTS SIMULATION {runs + 1}{Style.RESET_ALL}\")\n",
    "            self.search(encoded_state, 0)\n",
    "        \n",
    "        s = encoded_state\n",
    "        self.env.decode(encoded_state)\n",
    "        legal_actions = self.env.legal_actions()\n",
    "        counts = [self.Nsa[(s,a)] if (s,a) in self.Nsa else 0 for a in legal_actions]\n",
    "        # counts array represent the number of time each action edge from your current state was traversed\n",
    "        \n",
    "        # temprature is 0 representing taking the best action possible (greedy)\n",
    "        if temp == 0: \n",
    "            # bestA: best action number : argmax Returns the indices of the maximum values\n",
    "            bestA = np.argmax(counts) \n",
    "            probs = [0] * len(counts)\n",
    "            probs[bestA] = 1\n",
    "            action_probs = {legal_actions[idx] : probs[idx] for idx in range(len(legal_actions))}\n",
    "            # returns the definite move(s) with same greedy reward, out of which one move HAS to be played\n",
    "            return action_probs \n",
    "        \n",
    "#         print(f\"{Fore.BLUE}COUNTS {sum(counts)} {counts}{Style.RESET_ALL}\")\n",
    "        \n",
    "        # Handles frequent draw situation when MCTS fails to explore when the game is over resulting 0 counts causing div 0 error\n",
    "        if sum(counts) == 0:\n",
    "            counts = [1 for _ in counts]\n",
    "            \n",
    "        counts = [x ** (1. / temp) + 0.5 for x in counts]\n",
    "        probs = [x / float(sum(counts)) for x in counts]\n",
    "        action_probs = {legal_actions[idx] : probs[idx] for idx in range(len(legal_actions))}\n",
    "        zh = torch.cat((self.z[s].to('cpu'), self.hidden[s][0].squeeze(0).to('cpu')), dim = 1)\n",
    "#         print(zh)\n",
    "        return action_probs, zh\n",
    "        #returns the probablity of different moves that CAN be played resulting in uniform distribution\n",
    "\n",
    "\n",
    "    def search(self, encoded_state, depth):\n",
    "        \"\"\"\n",
    "        This function performs one iteration of MCTS. It is recursively called\n",
    "        till a leaf node is found. The action chosen at each node is one that\n",
    "        has the maximum upper confidence bound as in the paper.\n",
    "        Once a leaf node is found, the neural network is called to return an\n",
    "        initial policy P and a value v for the state. This value is propogated\n",
    "        up the search path. In case the leaf node is a terminal state, the\n",
    "        outcome is propogated up the search path. The values of Ns, Nsa, Qsa are\n",
    "        updated.\n",
    "        NOTE: the return values are the negative of the value of the current\n",
    "        state. This is done since v is in [-1,1] and if v is the value of a\n",
    "        state for the current player, then its value is -v for the other player.\n",
    "        Returns:\n",
    "            v: the negative of the value of the current canonicalBoard\n",
    "        \"\"\"\n",
    "\n",
    "        s = deepcopy(encoded_state)\n",
    "        self.env.decode(encoded_state)\n",
    "#         print(f\"{Fore.GREEN}SEARCH DEPTH {depth}{Style.RESET_ALL}\")\n",
    "        \n",
    "        # Check if its an terminal state, -1 Opponent Won, 0 Game not Over, 1 Player Won\n",
    "        if s not in self.Es:\n",
    "            self.Es[s] = self.env.result()\n",
    "        \n",
    "        # Handles the maintaining of the MDNs hidden states\n",
    "        if s not in self.hidden:\n",
    "            self.hidden[s] = self.agent.get_hidden()\n",
    "        else:\n",
    "            self.agent.load_hidden(self.hidden[s])\n",
    "        \n",
    "        # Checks if the game is over and returns the respective value\n",
    "        if self.env.terminal_test():\n",
    "            state, _ = self.env.observe()\n",
    "            self.z[s] = self.agent.encode_z(state)\n",
    "            \n",
    "#             print(\"SIMULATION OVER!\", self.env.terminal_test(), -self.Es[s], self.env.board.result())\n",
    "            return -self.Es[s]          \n",
    "        \n",
    "        state, legal_actions = self.env.observe()\n",
    "\n",
    "        # if the current state 's' is not explored/expanded before n = 0 by MCTS then create a new node and rollout\n",
    "        if s not in self.Ps: \n",
    "            self.Ps[s], v, self.z[s] = self.agent.act(state, legal_actions)\n",
    "#             print(\"self.Ps[s] at Depth\", depth, \"\\n\", self.Ps[s])\n",
    "            valids = legal_actions\n",
    "\n",
    "            self.Vs[s] = valids \n",
    "            self.Ns[s] = 0\n",
    "#             print(\"VALUE\", -v)\n",
    "            return -v\n",
    "\n",
    "        # as already visited the valid moves array 'Vs' is already initialized\n",
    "        valids = self.Vs[s] \n",
    "        cur_best = -float('inf')\n",
    "        best_act = -1\n",
    "        \n",
    "        self.env.decode(encoded_state)\n",
    "        legal_actions = self.env.legal_actions()\n",
    "        # pick the action with the highest upper confidence bound\n",
    "        \n",
    "        agent_actions = list(self.Ps[s].keys())\n",
    "        \n",
    "        # Handles the occasional legal action that isn't an actual legal action\n",
    "        # Pawn side cut even though there is no enemy piece in respective position\n",
    "#         print(\"XXXXX PRE LEGAL ACTIONS\\n\", legal_actions)\n",
    "        if not set(agent_actions) == set(legal_actions):\n",
    "            legal_actions = agent_actions\n",
    "#         print(\"XXXXX POST LEGAL ACTIONS\\n\", legal_actions)\n",
    "        for a in legal_actions:\n",
    "            if (s,a) in self.Qsa:\n",
    "                u = self.Qsa[(s,a)] + self.cpuct * self.Ps[s][a] * math.sqrt(self.Ns[s]) / (1 + self.Nsa[(s,a)])\n",
    "#                 print(\"In Qsa\")\n",
    "            else:\n",
    "                self.Ps[s][a] \n",
    "                u = self.cpuct * self.Ps[s][a] * math.sqrt(self.Ns[s])     # Q = 0 ? : node exists but not explored as added and initilized during nnet phase\n",
    "#                 print(\"Not In Qsa\", self.Ps[s][a], self.Ns[s], math.sqrt(self.Ns[s]))\n",
    "#             print(\"U\", u)\n",
    "            if math.isnan(u):\n",
    "                u = 0\n",
    "#                 print(\"Override U\", u)\n",
    "            if u > cur_best:\n",
    "                cur_best = u\n",
    "                best_act = a\n",
    "#         print(f\"{Fore.GREEN}BEST ACTION {best_act}{Style.RESET_ALL}\")\n",
    "        a = best_act\n",
    "\n",
    "        _, _ = self.env.step(a)\n",
    "        self.agent.step(self.z[s], a)\n",
    "        \n",
    "        encoded_next_state = self.env.encode()\n",
    "\n",
    "        v = self.search(encoded_next_state, depth + 1) # RECURSION until leaf node or terminal node is found\n",
    "        \n",
    "        self.env.decode(encoded_state)\n",
    "        \n",
    "        if (s,a) in self.Qsa:\n",
    "            self.Qsa[(s,a)] = (self.Nsa[(s,a)] * self.Qsa[(s,a)] + v) / (self.Nsa[(s,a)] + 1) #update the Q Value\n",
    "            self.Nsa[(s,a)] += 1 # increment number of visits to this node in MCTS\n",
    "        else:\n",
    "            self.Qsa[(s,a)] = v # initialize the new node\n",
    "            self.Nsa[(s,a)] = 1\n",
    "\n",
    "        self.Ns[s] += 1\n",
    "        return -v\n",
    "    \n",
    "    def reset(self):\n",
    "        \"\"\"Resets the tracked information\"\"\"\n",
    "        self.Qsa = {}       \n",
    "        self.Nsa = {}       \n",
    "        self.Ns = {}        \n",
    "        self.Ps = {}       \n",
    "        self.Es = {}\n",
    "        self.Vs = {}  \n",
    "        self.zh = {}\n",
    "        self.hidden = {}\n",
    "        self.agent.reset(1)\n",
    "        self.env.reset()\n",
    "\n",
    "# for _ in range(5):\n",
    "#     env.reset()\n",
    "#     mcts_white = MCTS(deepcopy(env), deepcopy(agent), mcts_simulations = 20)\n",
    "#     mcts_black = MCTS(deepcopy(env), deepcopy(agent), mcts_simulations = 20)\n",
    "#     game_move = 0\n",
    "#     while not env.terminal_test():\n",
    "#     #     print(f\"{Fore.RED}GAME MOVE {game_move}{Style.RESET_ALL}\")\n",
    "#         encoded_state = env.encode()\n",
    "#         if env.whites_turn: \n",
    "#             action_probs, zh = mcts_white.action_probabilities(encoded_state)\n",
    "#         else:\n",
    "#             action_probs, zh = mcts_black.action_probabilities(encoded_state)\n",
    "        \n",
    "        \n",
    "# #         print(game_move, env.whites_turn, env.terminal_test(), type(zh))\n",
    "# #         if zh == None:\n",
    "# #             print(encoded_state)\n",
    "#         action = random.choices(list(action_probs.keys()), weights = action_probs.values(), k = 1)[0]\n",
    "# #         print(f\"{Fore.CYAN}ACTUAL MOVE\\n {action_probs}{Style.RESET_ALL}\")\n",
    "#         _, _ = env.step(action)\n",
    "    \n",
    "#         game_move += 1    \n",
    "#     print(\"!!!!!!!!!!!!!!!!!!!!!!!!!!!!!!!!!!! GAME COMPLETED !!!!!!!!!!!!!!!!!!!!!!!!!!!!!!!!!!!\")"
   ]
  },
  {
   "cell_type": "markdown",
   "metadata": {},
   "source": [
    "### Training Loop"
   ]
  },
  {
   "cell_type": "code",
   "execution_count": null,
   "metadata": {},
   "outputs": [],
   "source": [
    "# # COPY THIS\n",
    "# # https://github.com/suragnair/alpha-zero-general/blob/master/Coach.py\n",
    "\n",
    "# env.reset()\n",
    "# mcts_white = MCTS(deepcopy(env), deepcopy(agent), mcts_simulations = 20)\n",
    "# mcts_black = MCTS(deepcopy(env), deepcopy(agent), mcts_simulations = 20)\n",
    "# game_move = 0\n",
    "\n",
    "# while not env.terminal_test():\n",
    "#     print(f\"{Fore.RED}GAME MOVE {game_move}{Style.RESET_ALL}\")\n",
    "#     encoded_state = env.encode()\n",
    "#     if env.whites_turn: \n",
    "#         action_probs = mcts_white.action_probabilities(encoded_state)\n",
    "#     else:\n",
    "#         action_probs = mcts_black.action_probabilities(encoded_state)\n",
    "#     action = random.choices(list(action_probs.keys()), weights = action_probs.values(), k = 1)[0]\n",
    "#     print(f\"{Fore.CYAN}ACTUAL MOVE\\n {action_probs}{Style.RESET_ALL}\")\n",
    "#     _, _ = env.step(action)\n",
    "    \n",
    "#     game_move += 1\n",
    "        \n",
    "# print(\"!!!!!!!!!!!!!!!!!!!!!!!!!!!!!!!!!!! GAME COMPLETED !!!!!!!!!!!!!!!!!!!!!!!!!!!!!!!!!!!\")"
   ]
  },
  {
   "cell_type": "code",
   "execution_count": null,
   "metadata": {},
   "outputs": [],
   "source": [
    "# env.decode(b'\\x80\\x03}q\\x00(X\\x05\\x00\\x00\\x00boardq\\x01}q\\x02(K<cchess\\nPiece\\nq\\x03)\\x81q\\x04}q\\x05(X\\n\\x00\\x00\\x00piece_typeq\\x06K\\x02X\\x05\\x00\\x00\\x00colorq\\x07\\x88ubK9h\\x03)\\x81q\\x08}q\\t(h\\x06K\\x06h\\x07\\x89ubK8h\\x03)\\x81q\\n}q\\x0b(h\\x06K\\x04h\\x07\\x89ubK5h\\x03)\\x81q\\x0c}q\\r(h\\x06K\\x01h\\x07\\x89ubK1h\\x03)\\x81q\\x0e}q\\x0f(h\\x06K\\x01h\\x07\\x89ubK0h\\x03)\\x81q\\x10}q\\x11(h\\x06K\\x01h\\x07\\x89ubK)h\\x03)\\x81q\\x12}q\\x13(h\\x06K\\x01h\\x07\\x88ubK&h\\x03)\\x81q\\x14}q\\x15(h\\x06K\\x01h\\x07\\x89ubK\\x1dh\\x03)\\x81q\\x16}q\\x17(h\\x06K\\x01h\\x07\\x89ubK\\x1ch\\x03)\\x81q\\x18}q\\x19(h\\x06K\\x01h\\x07\\x88ubK\\x1bh\\x03)\\x81q\\x1a}q\\x1b(h\\x06K\\x01h\\x07\\x89ubK\\x1ah\\x03)\\x81q\\x1c}q\\x1d(h\\x06K\\x01h\\x07\\x88ubK\\x19h\\x03)\\x81q\\x1e}q\\x1f(h\\x06K\\x02h\\x07\\x89ubK\\x14h\\x03)\\x81q }q!(h\\x06K\\x03h\\x07\\x89ubK\\x0ch\\x03)\\x81q\"}q#(h\\x06K\\x03h\\x07\\x88ubK\\x08h\\x03)\\x81q$}q%(h\\x06K\\x01h\\x07\\x88ubK\\x06h\\x03)\\x81q&}q\\'(h\\x06K\\x04h\\x07\\x89ubK\\x05h\\x03)\\x81q(}q)(h\\x06K\\x06h\\x07\\x88ubK\\x01h\\x03)\\x81q*}q+(h\\x06K\\x02h\\x07\\x88ubK\\x00h\\x03)\\x81q,}q-(h\\x06K\\x04h\\x07\\x88ubuX\\x04\\x00\\x00\\x00turnq.\\x88X\\r\\x00\\x00\\x00legal_actionsq/]q0u.')\n",
    "# env.board"
   ]
  },
  {
   "cell_type": "code",
   "execution_count": null,
   "metadata": {},
   "outputs": [],
   "source": [
    "# class Coach():\n",
    "#     \"\"\"\n",
    "#     This class executes the self-play + learning. It uses the functions defined\n",
    "#     in Game and NeuralNet. args are specified in main.py.\n",
    "#     \"\"\"\n",
    "\n",
    "#     def __init__(self, env, agent, params):\n",
    "#         self.iterations = params['iterations']\n",
    "#         self.episodes = params['episodes']\n",
    "#         self.queue_length = params['queue_length']\n",
    "#         self.env = deepcopy(env)\n",
    "#         self.agent = agent\n",
    "#         self.mcts_white = MCTS(deepcopy(env), deepcopy(agent), mcts_simulations = params['simulations'])\n",
    "#         self.mcts_black = MCTS(deepcopy(env), deepcopy(agent), mcts_simulations = params['simulations'])\n",
    "#         self.trainExamplesHistory = []  # history of examples from args.numItersForTrainExamplesHistory latest iterations\n",
    "#         self.games = 0\n",
    "\n",
    "#     def executeEpisode(self):\n",
    "#         \"\"\"\n",
    "#         This function executes one episode of self-play, starting with player 1.\n",
    "#         As the game is played, each turn is added as a training example to\n",
    "#         trainExamples. The game is played till the game ends. After the game\n",
    "#         ends, the outcome of the game is used to assign values to each example\n",
    "#         in trainExamples.\n",
    "#         It uses a temp=1 if episodeStep < tempThreshold, and thereafter\n",
    "#         uses temp=0.\n",
    "#         Returns:\n",
    "#             trainExamples: a list of examples of the form (canonicalBoard, currPlayer, pi,v)\n",
    "#                            pi is the MCTS informed policy vector, v is +1 if\n",
    "#                            the player eventually won the game, else -1.\n",
    "#         \"\"\"\n",
    "#         experiences = []\n",
    "#         self.env.reset()\n",
    "#         # RESET HIDDEN STATES!!!!!!!!!!!!!!!!!!!!!!!!!!!!!!!!!!!!!!!!!!!!!!!!!!!!!!!!!!!!!!!!!!\n",
    "#         game_move = 0\n",
    "#         while not self.env.terminal_test():\n",
    "#             encoded_state = self.env.encode()\n",
    "#             if self.env.whites_turn: \n",
    "#                 action_probs, zh = self.mcts_white.action_probabilities(encoded_state)\n",
    "#             else:\n",
    "#                 action_probs, zh = self.mcts_black.action_probabilities(encoded_state)\n",
    "# #             if zh is not None:\n",
    "# #                 print(\"ZH NOT NONE\")\n",
    "#             experiences.append([zh.detach().cpu().numpy(), self.env.whites_turn, action_probs, None])\n",
    "# #             else:\n",
    "# #                 print(\"ZH NONE\")\n",
    "#             action = random.choices(list(action_probs.keys()), weights = action_probs.values(), k = 1)[0]\n",
    "#             _, _ = self.env.step(action)\n",
    "    \n",
    "#             game_move += 1\n",
    "        \n",
    "#         reward = self.env.result()\n",
    "#         print(f\"Game {self.games} Score {reward}\")\n",
    "#         experiences_ = []\n",
    "#         DISCOUNT_GAMMA = 0.95\n",
    "        \n",
    "#         for idx, experience in enumerate(experiences):\n",
    "#             reward_ = reward\n",
    "#             # calculates the discounted return from the reward.. \n",
    "#             # / 2 becauses it contains experiences of both black and white\n",
    "#             return_ = reward_ * (DISCOUNT_GAMMA ** (len(experiences) - idx) / 2)\n",
    "#             if experience[1] != self.env.whites_turn and (reward_ == 1 or reward_ == -1):\n",
    "#                 return_ *= -1\n",
    "#             experiences_.append((experience[0], experience[2], return_))\n",
    "#         return experiences_\n",
    "    \n",
    "    \n",
    "#     def learn(self):\n",
    "#         \"\"\"\n",
    "#         Performs numIters iterations with numEps episodes of self-play in each\n",
    "#         iteration. After every iteration, it retrains neural network with\n",
    "#         examples in trainExamples (which has a maximum length of maxlenofQueue).\n",
    "#         It then pits the new neural network against the old one and accepts it\n",
    "#         only if it wins >= updateThreshold fraction of games.\n",
    "#         \"\"\"\n",
    "#         # deletes historical experiences so AI to enable online learning\n",
    "#         self.trainExamplesHistory = []\n",
    "        \n",
    "#         for i in range(1, self.iterations + 1):\n",
    "#             iterationTrainExamples = deque([], maxlen = self.queue_length)\n",
    "#             for _ in tnrange(self.episodes, desc = \"Self Play\"):\n",
    "#                 iterationTrainExamples += self.executeEpisode()\n",
    "#                 self.games += 1\n",
    "\n",
    "#             # save the iteration examples to the history \n",
    "#             self.trainExamplesHistory.append(iterationTrainExamples)\n",
    "\n",
    "#         # shuffle examples before training\n",
    "#         trainExamples = []\n",
    "#         for e in self.trainExamplesHistory:\n",
    "#             trainExamples.extend(e)\n",
    "#         shuffle(trainExamples)\n",
    "#         print(len(trainExamples))\n",
    "        \n",
    "#         self.agent.train(trainExamples)\n",
    "#         self.mcts_white.agent = deepcopy(self.agent)\n",
    "#         self.mcts_black.agent = deepcopy(self.agent)\n",
    "        \n",
    "#         self.mcts_white.reset()  # reset search tree as agents brain is now different\n",
    "#         self.mcts_black.reset()\n",
    "        \n",
    "\n",
    "# #         # training new network, keeping a copy of the old one\n",
    "# #         self.nnet.save_checkpoint(folder=self.args.checkpoint, filename='temp.pth.tar')\n",
    "# #         self.pnet.load_checkpoint(folder=self.args.checkpoint, filename='temp.pth.tar')\n",
    "# #         pmcts = MCTS(self.game, self.pnet, self.args)\n",
    "\n",
    "# #         \n",
    "# #         nmcts = MCTS(self.game, self.nnet, self.args)\n",
    "\n",
    "# #         log.info('PITTING AGAINST PREVIOUS VERSION')\n",
    "# #         arena = Arena(lambda x: np.argmax(pmcts.getActionProb(x, temp=0)),\n",
    "# #                           lambda x: np.argmax(nmcts.getActionProb(x, temp=0)), self.game)\n",
    "# #         pwins, nwins, draws = arena.playGames(self.args.arenaCompare)\n",
    "\n",
    "# #         log.info('NEW/PREV WINS : %d / %d ; DRAWS : %d' % (nwins, pwins, draws))\n",
    "# #         if pwins + nwins == 0 or float(nwins) / (pwins + nwins) < self.args.updateThreshold:\n",
    "# #             log.info('REJECTING NEW MODEL')\n",
    "# #             self.nnet.load_checkpoint(folder=self.args.checkpoint, filename='temp.pth.tar')\n",
    "# #         else:\n",
    "# #             log.info('ACCEPTING NEW MODEL')\n",
    "# #             self.nnet.save_checkpoint(folder=self.args.checkpoint, filename=self.getCheckpointFile(i))\n",
    "# #             self.nnet.save_checkpoint(folder=self.args.checkpoint, filename='best.pth.tar')\n",
    "        \n",
    "\n",
    "# params = {\n",
    "#     'iterations': 1,\n",
    "#     'episodes': 5,\n",
    "#     'queue_length' : 2000,\n",
    "#     'simulations' : 200\n",
    "# }\n",
    "# coach = Coach(env, agent, params)\n",
    "# for _ in range(1000):\n",
    "#     coach.learn()"
   ]
  },
  {
   "cell_type": "code",
   "execution_count": null,
   "metadata": {},
   "outputs": [],
   "source": []
  },
  {
   "cell_type": "markdown",
   "metadata": {},
   "source": [
    "### Coach Parallel"
   ]
  },
  {
   "cell_type": "code",
   "execution_count": null,
   "metadata": {},
   "outputs": [],
   "source": [
    "# ray.init()"
   ]
  },
  {
   "cell_type": "code",
   "execution_count": null,
   "metadata": {},
   "outputs": [],
   "source": [
    "\n",
    "# class Coach():\n",
    "#     \"\"\"\n",
    "#     This class executes the self-play + learning. It uses the functions defined\n",
    "#     in Game and NeuralNet. args are specified in main.py.\n",
    "#     \"\"\"\n",
    "\n",
    "#     def __init__(self, env, agent, params):\n",
    "#         self.iterations = params['iterations']\n",
    "#         self.episodes = params['episodes']\n",
    "#         self.queue_length = params['queue_length']\n",
    "#         self.simulations = params['simulations']\n",
    "#         self.env = deepcopy(env)\n",
    "#         self.agent = agent\n",
    "#         self.trainExamplesHistory = []  # history of examples from args.numItersForTrainExamplesHistory latest iterations\n",
    "#         self.games = 0\n",
    "    \n",
    "# #     @ray.remote\n",
    "#     def execute_episode(self, agent, game):\n",
    "#         \"\"\"\n",
    "#         This function executes one episode of self-play, starting with player 1.\n",
    "#         As the game is played, each turn is added as a training example to\n",
    "#         trainExamples. The game is played till the game ends. After the game\n",
    "#         ends, the outcome of the game is used to assign values to each example\n",
    "#         in trainExamples.\n",
    "#         It uses a temp=1 if episodeStep < tempThreshold, and thereafter\n",
    "#         uses temp=0.\n",
    "#         Returns:\n",
    "#             trainExamples: a list of examples of the form (canonicalBoard, currPlayer, pi,v)\n",
    "#                            pi is the MCTS informed policy vector, v is +1 if\n",
    "#                            the player eventually won the game, else -1.\n",
    "#         \"\"\"\n",
    "#         env = Chess_Environment()\n",
    "#         experiences = []\n",
    "#         mcts_white = MCTS(deepcopy(env), deepcopy(agent), mcts_simulations = self.simulations)\n",
    "#         mcts_black = MCTS(deepcopy(env), deepcopy(agent), mcts_simulations = self.simulations)  \n",
    "#         mcts_black.agent.random_controller()\n",
    "#         # RESET HIDDEN STATES!!!!!!!!!!!!!!!!!!!!!!!!!!!!!!!!!!!!!!!!!!!!!!!!!!!!!!!!!!!!!!!!!!\n",
    "#         game_move = 0\n",
    "#         while not env.terminal_test():\n",
    "#             encoded_state = env.encode()\n",
    "#             if env.whites_turn: \n",
    "#                 action_probs, zh = mcts_white.action_probabilities(encoded_state)\n",
    "#             else:\n",
    "#                 action_probs, zh = mcts_black.action_probabilities(encoded_state)\n",
    "# #             if zh is not None:\n",
    "# #                 print(\"ZH NOT NONE\")\n",
    "#             if env.whites_turn:\n",
    "#                 experiences.append([zh.detach().cpu().numpy(), env.whites_turn, action_probs, None])\n",
    "# #             else:\n",
    "# #                 print(\"ZH NONE\")\n",
    "#             action = random.choices(list(action_probs.keys()), weights = action_probs.values(), k = 1)[0]\n",
    "#             _, _ = env.step(action)\n",
    "    \n",
    "#             game_move += 1\n",
    "        \n",
    "#         reward = env.result()\n",
    "#         if not env.whites_turn and ((reward == 1) or (reward == -1)):\n",
    "#             reward = reward * -1\n",
    "        \n",
    "#         if reward == -1:\n",
    "#             print(f\"Game {game} White Loss\")\n",
    "#         elif reward == 1:\n",
    "#             print(f\"Game {game} White Won\")\n",
    "#         else:\n",
    "#             print(f\"Game {game} Draw\")\n",
    "#         experiences_ = []\n",
    "#         DISCOUNT_GAMMA = 0.98\n",
    "        \n",
    "#         for idx, experience in enumerate(experiences):\n",
    "#             if idx == len(experiences) - 1:\n",
    "#                 done = 1\n",
    "#             else: \n",
    "#                 done = 0\n",
    "#             reward_ = reward\n",
    "#             # calculates the discounted return from the reward.. \n",
    "#             # / 2 becauses it contains experiences of both black and white\n",
    "#             return_ = reward_ * (DISCOUNT_GAMMA ** (len(experiences) - idx))\n",
    "# #             if experience[1] != env.whites_turn and (reward_ == 1 or reward_ == -1):\n",
    "# #                 return_ *= -1\n",
    "#             experiences_.append((experience[0], experience[2], return_, done))\n",
    "#         return experiences_\n",
    "    \n",
    "# #     def learn(self, ray):    \n",
    "#     def learn(self):\n",
    "#         \"\"\"\n",
    "#         Performs numIters iterations with numEps episodes of self-play in each\n",
    "#         iteration. After every iteration, it retrains neural network with\n",
    "#         examples in trainExamples (which has a maximum length of maxlenofQueue).\n",
    "#         It then pits the new neural network against the old one and accepts it\n",
    "#         only if it wins >= updateThreshold fraction of games.\n",
    "#         \"\"\"\n",
    "#         # deletes historical experiences so AI to enable online learning\n",
    "#         self.trainExamplesHistory = []\n",
    "        \n",
    "#         for i in range(1, self.iterations + 1):\n",
    "# #             iterationTrainExamples = ray.get([self.execute_episode.remote(self, self.agent, self.games + idx) for idx in range(self.episodes)])\n",
    "#             iterationTrainExamples = [self.execute_episode(self.agent, self.games + idx) for idx in range(self.episodes)]\n",
    "#             self.games += len(iterationTrainExamples)\n",
    "# #             iterationTrainExamples = [item for sublist in iterationTrainExamples for item in sublist]\n",
    "# #             for _ in tnrange(self.episodes, desc = \"Self Play\"):\n",
    "# #                 iterationTrainExamples += self.execute_episode(self.agent, deepcopy(self.agent))\n",
    "# #                 self.games += 1\n",
    "# #             print(len(iterationTrainExamples))\n",
    "#             # save the iteration examples to the history \n",
    "# #             self.trainExamplesHistory.append(iterationTrainExamples)\n",
    "\n",
    "#         # shuffle examples before training\n",
    "# #         trainExamples = []\n",
    "# #         for e in self.trainExamplesHistory:\n",
    "# #             trainExamples.extend(e)\n",
    "# #         shuffle(iterationTrainExamples)\n",
    "# #         print(len(iterationTrainExamples))\n",
    "        \n",
    "#         self.agent.train(iterationTrainExamples)\n",
    "\n",
    "# #         # training new network, keeping a copy of the old one\n",
    "# #         self.nnet.save_checkpoint(folder=self.args.checkpoint, filename='temp.pth.tar')\n",
    "# #         self.pnet.load_checkpoint(folder=self.args.checkpoint, filename='temp.pth.tar')\n",
    "# #         pmcts = MCTS(self.game, self.pnet, self.args)\n",
    "\n",
    "# #         \n",
    "# #         nmcts = MCTS(self.game, self.nnet, self.args)\n",
    "\n",
    "# #         log.info('PITTING AGAINST PREVIOUS VERSION')\n",
    "# #         arena = Arena(lambda x: np.argmax(pmcts.getActionProb(x, temp=0)),\n",
    "# #                           lambda x: np.argmax(nmcts.getActionProb(x, temp=0)), self.game)\n",
    "# #         pwins, nwins, draws = arena.playGames(self.args.arenaCompare)\n",
    "\n",
    "# #         log.info('NEW/PREV WINS : %d / %d ; DRAWS : %d' % (nwins, pwins, draws))\n",
    "# #         if pwins + nwins == 0 or float(nwins) / (pwins + nwins) < self.args.updateThreshold:\n",
    "# #             log.info('REJECTING NEW MODEL')\n",
    "# #             self.nnet.load_checkpoint(folder=self.args.checkpoint, filename='temp.pth.tar')\n",
    "# #         else:\n",
    "# #             log.info('ACCEPTING NEW MODEL')\n",
    "# #             self.nnet.save_checkpoint(folder=self.args.checkpoint, filename=self.getCheckpointFile(i))\n",
    "# #             self.nnet.save_checkpoint(folder=self.args.checkpoint, filename='best.pth.tar')\n",
    "        \n",
    "\n",
    "# params = {\n",
    "#     'iterations': 1,\n",
    "#     'episodes': 2,\n",
    "#     'queue_length' : 2000,\n",
    "#     'simulations' : 2,\n",
    "# }\n",
    "\n",
    "# coach = Coach(env, agent, params)\n",
    "# for _ in range(1):\n",
    "# #     coach.learn(ray)\n",
    "#     coach.learn()\n"
   ]
  },
  {
   "cell_type": "code",
   "execution_count": null,
   "metadata": {},
   "outputs": [],
   "source": [
    "class MainWindow(QWidget):\n",
    "    def __init__(self):\n",
    "        super().__init__()\n",
    "\n",
    "        self.setGeometry(100, 100, 1100, 1100)\n",
    "\n",
    "        self.widgetSvg = QSvgWidget(parent=self)\n",
    "        self.widgetSvg.setGeometry(10, 10, 1080, 1080)\n",
    "\n",
    "\n",
    "# board = chess.Board()\n",
    "# app = QApplication([])\n",
    "# window = MainWindow()\n",
    "# window.show()\n",
    "# app.exec()"
   ]
  },
  {
   "cell_type": "code",
   "execution_count": null,
   "metadata": {},
   "outputs": [],
   "source": [
    "import matplotlib.pyplot as plotter\n",
    "class Arena:\n",
    "    \"\"\"An Arena where you can have two players fight\"\"\"\n",
    "    \n",
    "    def __init__(self, env, agent):\n",
    "        self.env = env        \n",
    "        self.agent = agent\n",
    "        self.root = tk.Tk()\n",
    "        self.root.withdraw()\n",
    "        self.app = QApplication([])\n",
    "        self.window = MainWindow()\n",
    "    \n",
    "    def vs_human(self):\n",
    "        \"\"\"Fight Against the AI\"\"\"\n",
    "        self.agent = Agent(self.env.decoder, self.env.action_size, 'Test', 'Test', 'Test', test_mode = True)\n",
    "        self.mcts_black = MCTS(deepcopy(self.env), deepcopy(self.agent), mcts_simulations = 20)\n",
    "        \n",
    "        self.env.reset()\n",
    "        self.mcts_black.reset()\n",
    "        game_move = 0\n",
    "        while not self.env.terminal_test():\n",
    "            if not self.env.whites_turn:\n",
    "                encoded_state = self.env.encode()\n",
    "                action_probs, zh = self.mcts_black.action_probabilities(encoded_state, temp = 0)\n",
    "                \n",
    "                figureObject, axesObject = plotter.subplots()\n",
    "                # Draw the pie chart\n",
    "                axesObject.pie(list(action_probs.values()), labels = list(action_probs.keys()), autopct = '%1.2f', startangle = 90)\n",
    "                # Aspect ratio - equal means pie is a circl\n",
    "                axesObject.axis('equal')\n",
    "                plotter.show()\n",
    "                \n",
    "                \n",
    "                action = random.choices(list(action_probs.keys()), weights = action_probs.values(), k = 1)[0]\n",
    "            else:\n",
    "                legal_actions = self.env.legal_actions() \n",
    "                self.render()\n",
    "                action = simpledialog.askstring(title = \"Move\", prompt = f\"What's your next move?\\n{legal_actions}\")\n",
    "                while action not in legal_actions:\n",
    "                    action = simpledialog.askstring(title = \"Move\", prompt = f\"Invalid Move. What's your next move?\\n{legal_actions}\")\n",
    "                    if action is None:\n",
    "                        break\n",
    "                if action is None:\n",
    "                    break\n",
    "            \n",
    "            _, _ = self.env.step(action)\n",
    "            game_move += 1   \n",
    "        print(env.result())\n",
    "        \n",
    "    def render(self):\n",
    "        \"\"\"Renders the chess board\"\"\"\n",
    "        chessboardSvg = chess.svg.board(self.env.board).encode(\"UTF-8\")\n",
    "        self.window.widgetSvg.load(chessboardSvg)\n",
    "        self.window.show()\n",
    "        self.app.exec()\n",
    "        \n",
    "        \n",
    "arena = Arena(env, agent)\n",
    "arena.vs_human()"
   ]
  },
  {
   "cell_type": "code",
   "execution_count": null,
   "metadata": {},
   "outputs": [],
   "source": []
  },
  {
   "cell_type": "code",
   "execution_count": null,
   "metadata": {},
   "outputs": [],
   "source": []
  },
  {
   "cell_type": "code",
   "execution_count": null,
   "metadata": {},
   "outputs": [],
   "source": []
  },
  {
   "cell_type": "code",
   "execution_count": null,
   "metadata": {},
   "outputs": [],
   "source": []
  },
  {
   "cell_type": "code",
   "execution_count": null,
   "metadata": {},
   "outputs": [],
   "source": []
  }
 ],
 "metadata": {
  "kernelspec": {
   "display_name": "conda_pytorch_latest_p36",
   "language": "python",
   "name": "conda_pytorch_latest_p36"
  },
  "language_info": {
   "codemirror_mode": {
    "name": "ipython",
    "version": 3
   },
   "file_extension": ".py",
   "mimetype": "text/x-python",
   "name": "python",
   "nbconvert_exporter": "python",
   "pygments_lexer": "ipython3",
   "version": "3.6.10"
  }
 },
 "nbformat": 4,
 "nbformat_minor": 4
}
