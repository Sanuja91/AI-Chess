{
 "cells": [
  {
   "cell_type": "markdown",
   "metadata": {
    "jupyter": {
     "source_hidden": true
    }
   },
   "source": [
    "# DEEPMIND ALPHAZERO CHESS"
   ]
  },
  {
   "cell_type": "markdown",
   "metadata": {},
   "source": [
    "## TODO\n",
    "- Redo agent actions space.. Pick up location to drop location.. https://www.youtube.com/watch?v=Wujy7OzvdJk 40 mins\n",
    "- Fix Game Numbers.. Doesnt increment proper considering episodes and iterations\n",
    "- Have training on GPU and inference CPU\n",
    "- Implement https://www.youtube.com/watch?v=a4VvcmqnkhY\n",
    "- print(f\"INVALID ACTION {action}.\\nSELECTING A RANDOM ACTION FROM LEGAL ACTIONS\\n{self.legal_actions()}\") #### DISABLED FOR VIEWING PRINTS PROPERLY!\n",
    "\n",
    "\n",
    "## TODO LATER\n",
    "#### - Get backward possibly loss to train the controller. Might need to save the tensor output like states, values, etc in MCTS\n",
    "- Create Self play class\n",
    "- Create Arena class\n",
    "\n",
    "MEDIUM IN DEPTH ARTICLE\n",
    "https://medium.com/oracledevs/lessons-from-alphazero-part-4-improving-the-training-target-6efba2e71628\n",
    "\n",
    "DEEP MIND OPEN ACCESS PAPER \n",
    "\n",
    "https://kstatic.googleusercontent.com/files/2f51b2a749a284c2e2dfa13911da965f4855092a179469aedd15fbe4efe8f8cbf9c515ef83ac03a6515fa990e6f85fd827dcd477845e806f23a17845072dc7bd\n",
    "\n",
    "DEEP MIND OPEN ACCESS PAPER SUPPLEMENTARY MATERIALS\n",
    "\n",
    "https://science.sciencemag.org/content/sci/suppl/2018/12/05/362.6419.1140.DC1/aar6404-Silver-SM.pdf\n",
    "\n",
    "RAY ALPHA ZERO IMPLEMENTATION \n",
    "\n",
    "https://github.com/ray-project/ray/tree/master/rllib/contrib/alpha_zero\n",
    "\n",
    "DUPLICATED MCTS IMPLEMENTATION\n",
    "\n",
    "https://github.com/suragnair/alpha-zero-general/blob/master/MCTS.py\n",
    "\n",
    "DISTRIBUTED IMPLEMENTATION\n",
    "\n",
    "https://github.com/mokemokechicken/reversi-alpha-zero/blob/master/src/reversi_zero/lib/ggf.py\n",
    "\n",
    "CHESS MOVES\n",
    "\n",
    "https://www.ichess.net/blog/chess-pieces-moves/\n",
    "\n",
    "BOARD REPRESENTATIONS\n",
    "\n",
    "https://medium.com/datadriveninvestor/reconstructing-chess-positions-f195fd5944e\n",
    "\n",
    "ALPHA ZERO EXPLANATION\n",
    "\n",
    "https://nikcheerla.github.io/deeplearningschool/2018/01/01/AlphaZero-Explained/\n",
    "\n",
    "TRANSFORMER NETWORK IMPLEMENTATION\n",
    "\n",
    "https://pytorch.org/tutorials/beginner/transformer_tutorial.html"
   ]
  },
  {
   "cell_type": "code",
   "execution_count": 1,
   "metadata": {},
   "outputs": [],
   "source": [
    "PARALLEL = False\n",
    "\n",
    "if PARALLEL:\n",
    "    !pip install --user python-chess gym colorama tqdm PyQt5 ray tensorboard"
   ]
  },
  {
   "cell_type": "code",
   "execution_count": 2,
   "metadata": {},
   "outputs": [],
   "source": [
    "if PARALLEL:\n",
    "    import ray\n",
    "    ray.init()\n",
    "\n",
    "import chess, gym, pickle, random, torch, math\n",
    "import chess.svg as svg\n",
    "import numpy as np\n",
    "import pandas as pd\n",
    "from copy import copy, deepcopy\n",
    "import matplotlib.pyplot as plt\n",
    "from torch.optim.lr_scheduler import CosineAnnealingLR, ReduceLROnPlateau\n",
    "from torch.optim import Adam\n",
    "import torch.nn as nn\n",
    "from torch.nn import functional as F\n",
    "from torch.distributions import Categorical\n",
    "\n",
    "from scipy.ndimage.interpolation import shift\n",
    "from copy import deepcopy\n",
    "from colorama import init, Fore, Back, Style\n",
    "from collections import Counter, deque\n",
    "from tqdm import tqdm, tnrange, notebook\n",
    "from random import shuffle\n",
    "import tkinter as tk\n",
    "from tkinter import simpledialog\n",
    "from PyQt5.QtSvg import QSvgWidget\n",
    "from PyQt5.QtWidgets import QApplication, QWidget\n",
    "\n",
    "from utilities import *\n",
    "from constants import *\n",
    "from models.vae import CNN_AE, CNN_VAE, train_ae, train_vae, Conv\n",
    "from models.mdn import MDN_RNN, loss_function, clip_grad_norm_\n",
    "from models.controller import Policy_Controller, Value_Controller\n",
    "plt.style.use('ggplot')\n",
    "# init(convert = True)"
   ]
  },
  {
   "cell_type": "code",
   "execution_count": 4,
   "metadata": {},
   "outputs": [
    {
     "data": {
      "text/plain": [
       "dict_keys(['a8qa8q', 'a8qb8q', 'a8qc8q', 'a8qd8q', 'a8qe8q', 'a8qf8q', 'a8qg8q', 'a8qh8q', 'a8qa8r', 'a8qb8r', 'a8qc8r', 'a8qd8r', 'a8qe8r', 'a8qf8r', 'a8qg8r', 'a8qh8r', 'a8qa8b', 'a8qb8b', 'a8qc8b', 'a8qd8b', 'a8qe8b', 'a8qf8b', 'a8qg8b', 'a8qh8b', 'a8qa8n', 'a8qb8n', 'a8qc8n', 'a8qd8n', 'a8qe8n', 'a8qf8n', 'a8qg8n', 'a8qh8n', 'a8qa8', 'a8qb8', 'a8qc8', 'a8qd8', 'a8qe8', 'a8qf8', 'a8qg8', 'a8qh8', 'a8qa7', 'a8qb7', 'a8qc7', 'a8qd7', 'a8qe7', 'a8qf7', 'a8qg7', 'a8qh7', 'a8qa6', 'a8qb6', 'a8qc6', 'a8qd6', 'a8qe6', 'a8qf6', 'a8qg6', 'a8qh6', 'a8qa5', 'a8qb5', 'a8qc5', 'a8qd5', 'a8qe5', 'a8qf5', 'a8qg5', 'a8qh5', 'a8qa4', 'a8qb4', 'a8qc4', 'a8qd4', 'a8qe4', 'a8qf4', 'a8qg4', 'a8qh4', 'a8qa3', 'a8qb3', 'a8qc3', 'a8qd3', 'a8qe3', 'a8qf3', 'a8qg3', 'a8qh3', 'a8qa2', 'a8qb2', 'a8qc2', 'a8qd2', 'a8qe2', 'a8qf2', 'a8qg2', 'a8qh2', 'a8qa1', 'a8qb1', 'a8qc1', 'a8qd1', 'a8qe1', 'a8qf1', 'a8qg1', 'a8qh1', 'b8qa8q', 'b8qb8q', 'b8qc8q', 'b8qd8q', 'b8qe8q', 'b8qf8q', 'b8qg8q', 'b8qh8q', 'b8qa8r', 'b8qb8r', 'b8qc8r', 'b8qd8r', 'b8qe8r', 'b8qf8r', 'b8qg8r', 'b8qh8r', 'b8qa8b', 'b8qb8b', 'b8qc8b', 'b8qd8b', 'b8qe8b', 'b8qf8b', 'b8qg8b', 'b8qh8b', 'b8qa8n', 'b8qb8n', 'b8qc8n', 'b8qd8n', 'b8qe8n', 'b8qf8n', 'b8qg8n', 'b8qh8n', 'b8qa8', 'b8qb8', 'b8qc8', 'b8qd8', 'b8qe8', 'b8qf8', 'b8qg8', 'b8qh8', 'b8qa7', 'b8qb7', 'b8qc7', 'b8qd7', 'b8qe7', 'b8qf7', 'b8qg7', 'b8qh7', 'b8qa6', 'b8qb6', 'b8qc6', 'b8qd6', 'b8qe6', 'b8qf6', 'b8qg6', 'b8qh6', 'b8qa5', 'b8qb5', 'b8qc5', 'b8qd5', 'b8qe5', 'b8qf5', 'b8qg5', 'b8qh5', 'b8qa4', 'b8qb4', 'b8qc4', 'b8qd4', 'b8qe4', 'b8qf4', 'b8qg4', 'b8qh4', 'b8qa3', 'b8qb3', 'b8qc3', 'b8qd3', 'b8qe3', 'b8qf3', 'b8qg3', 'b8qh3', 'b8qa2', 'b8qb2', 'b8qc2', 'b8qd2', 'b8qe2', 'b8qf2', 'b8qg2', 'b8qh2', 'b8qa1', 'b8qb1', 'b8qc1', 'b8qd1', 'b8qe1', 'b8qf1', 'b8qg1', 'b8qh1', 'c8qa8q', 'c8qb8q', 'c8qc8q', 'c8qd8q', 'c8qe8q', 'c8qf8q', 'c8qg8q', 'c8qh8q', 'c8qa8r', 'c8qb8r', 'c8qc8r', 'c8qd8r', 'c8qe8r', 'c8qf8r', 'c8qg8r', 'c8qh8r', 'c8qa8b', 'c8qb8b', 'c8qc8b', 'c8qd8b', 'c8qe8b', 'c8qf8b', 'c8qg8b', 'c8qh8b', 'c8qa8n', 'c8qb8n', 'c8qc8n', 'c8qd8n', 'c8qe8n', 'c8qf8n', 'c8qg8n', 'c8qh8n', 'c8qa8', 'c8qb8', 'c8qc8', 'c8qd8', 'c8qe8', 'c8qf8', 'c8qg8', 'c8qh8', 'c8qa7', 'c8qb7', 'c8qc7', 'c8qd7', 'c8qe7', 'c8qf7', 'c8qg7', 'c8qh7', 'c8qa6', 'c8qb6', 'c8qc6', 'c8qd6', 'c8qe6', 'c8qf6', 'c8qg6', 'c8qh6', 'c8qa5', 'c8qb5', 'c8qc5', 'c8qd5', 'c8qe5', 'c8qf5', 'c8qg5', 'c8qh5', 'c8qa4', 'c8qb4', 'c8qc4', 'c8qd4', 'c8qe4', 'c8qf4', 'c8qg4', 'c8qh4', 'c8qa3', 'c8qb3', 'c8qc3', 'c8qd3', 'c8qe3', 'c8qf3', 'c8qg3', 'c8qh3', 'c8qa2', 'c8qb2', 'c8qc2', 'c8qd2', 'c8qe2', 'c8qf2', 'c8qg2', 'c8qh2', 'c8qa1', 'c8qb1', 'c8qc1', 'c8qd1', 'c8qe1', 'c8qf1', 'c8qg1', 'c8qh1', 'd8qa8q', 'd8qb8q', 'd8qc8q', 'd8qd8q', 'd8qe8q', 'd8qf8q', 'd8qg8q', 'd8qh8q', 'd8qa8r', 'd8qb8r', 'd8qc8r', 'd8qd8r', 'd8qe8r', 'd8qf8r', 'd8qg8r', 'd8qh8r', 'd8qa8b', 'd8qb8b', 'd8qc8b', 'd8qd8b', 'd8qe8b', 'd8qf8b', 'd8qg8b', 'd8qh8b', 'd8qa8n', 'd8qb8n', 'd8qc8n', 'd8qd8n', 'd8qe8n', 'd8qf8n', 'd8qg8n', 'd8qh8n', 'd8qa8', 'd8qb8', 'd8qc8', 'd8qd8', 'd8qe8', 'd8qf8', 'd8qg8', 'd8qh8', 'd8qa7', 'd8qb7', 'd8qc7', 'd8qd7', 'd8qe7', 'd8qf7', 'd8qg7', 'd8qh7', 'd8qa6', 'd8qb6', 'd8qc6', 'd8qd6', 'd8qe6', 'd8qf6', 'd8qg6', 'd8qh6', 'd8qa5', 'd8qb5', 'd8qc5', 'd8qd5', 'd8qe5', 'd8qf5', 'd8qg5', 'd8qh5', 'd8qa4', 'd8qb4', 'd8qc4', 'd8qd4', 'd8qe4', 'd8qf4', 'd8qg4', 'd8qh4', 'd8qa3', 'd8qb3', 'd8qc3', 'd8qd3', 'd8qe3', 'd8qf3', 'd8qg3', 'd8qh3', 'd8qa2', 'd8qb2', 'd8qc2', 'd8qd2', 'd8qe2', 'd8qf2', 'd8qg2', 'd8qh2', 'd8qa1', 'd8qb1', 'd8qc1', 'd8qd1', 'd8qe1', 'd8qf1', 'd8qg1', 'd8qh1', 'e8qa8q', 'e8qb8q', 'e8qc8q', 'e8qd8q', 'e8qe8q', 'e8qf8q', 'e8qg8q', 'e8qh8q', 'e8qa8r', 'e8qb8r', 'e8qc8r', 'e8qd8r', 'e8qe8r', 'e8qf8r', 'e8qg8r', 'e8qh8r', 'e8qa8b', 'e8qb8b', 'e8qc8b', 'e8qd8b', 'e8qe8b', 'e8qf8b', 'e8qg8b', 'e8qh8b', 'e8qa8n', 'e8qb8n', 'e8qc8n', 'e8qd8n', 'e8qe8n', 'e8qf8n', 'e8qg8n', 'e8qh8n', 'e8qa8', 'e8qb8', 'e8qc8', 'e8qd8', 'e8qe8', 'e8qf8', 'e8qg8', 'e8qh8', 'e8qa7', 'e8qb7', 'e8qc7', 'e8qd7', 'e8qe7', 'e8qf7', 'e8qg7', 'e8qh7', 'e8qa6', 'e8qb6', 'e8qc6', 'e8qd6', 'e8qe6', 'e8qf6', 'e8qg6', 'e8qh6', 'e8qa5', 'e8qb5', 'e8qc5', 'e8qd5', 'e8qe5', 'e8qf5', 'e8qg5', 'e8qh5', 'e8qa4', 'e8qb4', 'e8qc4', 'e8qd4', 'e8qe4', 'e8qf4', 'e8qg4', 'e8qh4', 'e8qa3', 'e8qb3', 'e8qc3', 'e8qd3', 'e8qe3', 'e8qf3', 'e8qg3', 'e8qh3', 'e8qa2', 'e8qb2', 'e8qc2', 'e8qd2', 'e8qe2', 'e8qf2', 'e8qg2', 'e8qh2', 'e8qa1', 'e8qb1', 'e8qc1', 'e8qd1', 'e8qe1', 'e8qf1', 'e8qg1', 'e8qh1', 'f8qa8q', 'f8qb8q', 'f8qc8q', 'f8qd8q', 'f8qe8q', 'f8qf8q', 'f8qg8q', 'f8qh8q', 'f8qa8r', 'f8qb8r', 'f8qc8r', 'f8qd8r', 'f8qe8r', 'f8qf8r', 'f8qg8r', 'f8qh8r', 'f8qa8b', 'f8qb8b', 'f8qc8b', 'f8qd8b', 'f8qe8b', 'f8qf8b', 'f8qg8b', 'f8qh8b', 'f8qa8n', 'f8qb8n', 'f8qc8n', 'f8qd8n', 'f8qe8n', 'f8qf8n', 'f8qg8n', 'f8qh8n', 'f8qa8', 'f8qb8', 'f8qc8', 'f8qd8', 'f8qe8', 'f8qf8', 'f8qg8', 'f8qh8', 'f8qa7', 'f8qb7', 'f8qc7', 'f8qd7', 'f8qe7', 'f8qf7', 'f8qg7', 'f8qh7', 'f8qa6', 'f8qb6', 'f8qc6', 'f8qd6', 'f8qe6', 'f8qf6', 'f8qg6', 'f8qh6', 'f8qa5', 'f8qb5', 'f8qc5', 'f8qd5', 'f8qe5', 'f8qf5', 'f8qg5', 'f8qh5', 'f8qa4', 'f8qb4', 'f8qc4', 'f8qd4', 'f8qe4', 'f8qf4', 'f8qg4', 'f8qh4', 'f8qa3', 'f8qb3', 'f8qc3', 'f8qd3', 'f8qe3', 'f8qf3', 'f8qg3', 'f8qh3', 'f8qa2', 'f8qb2', 'f8qc2', 'f8qd2', 'f8qe2', 'f8qf2', 'f8qg2', 'f8qh2', 'f8qa1', 'f8qb1', 'f8qc1', 'f8qd1', 'f8qe1', 'f8qf1', 'f8qg1', 'f8qh1', 'g8qa8q', 'g8qb8q', 'g8qc8q', 'g8qd8q', 'g8qe8q', 'g8qf8q', 'g8qg8q', 'g8qh8q', 'g8qa8r', 'g8qb8r', 'g8qc8r', 'g8qd8r', 'g8qe8r', 'g8qf8r', 'g8qg8r', 'g8qh8r', 'g8qa8b', 'g8qb8b', 'g8qc8b', 'g8qd8b', 'g8qe8b', 'g8qf8b', 'g8qg8b', 'g8qh8b', 'g8qa8n', 'g8qb8n', 'g8qc8n', 'g8qd8n', 'g8qe8n', 'g8qf8n', 'g8qg8n', 'g8qh8n', 'g8qa8', 'g8qb8', 'g8qc8', 'g8qd8', 'g8qe8', 'g8qf8', 'g8qg8', 'g8qh8', 'g8qa7', 'g8qb7', 'g8qc7', 'g8qd7', 'g8qe7', 'g8qf7', 'g8qg7', 'g8qh7', 'g8qa6', 'g8qb6', 'g8qc6', 'g8qd6', 'g8qe6', 'g8qf6', 'g8qg6', 'g8qh6', 'g8qa5', 'g8qb5', 'g8qc5', 'g8qd5', 'g8qe5', 'g8qf5', 'g8qg5', 'g8qh5', 'g8qa4', 'g8qb4', 'g8qc4', 'g8qd4', 'g8qe4', 'g8qf4', 'g8qg4', 'g8qh4', 'g8qa3', 'g8qb3', 'g8qc3', 'g8qd3', 'g8qe3', 'g8qf3', 'g8qg3', 'g8qh3', 'g8qa2', 'g8qb2', 'g8qc2', 'g8qd2', 'g8qe2', 'g8qf2', 'g8qg2', 'g8qh2', 'g8qa1', 'g8qb1', 'g8qc1', 'g8qd1', 'g8qe1', 'g8qf1', 'g8qg1', 'g8qh1', 'h8qa8q', 'h8qb8q', 'h8qc8q', 'h8qd8q', 'h8qe8q', 'h8qf8q', 'h8qg8q', 'h8qh8q', 'h8qa8r', 'h8qb8r', 'h8qc8r', 'h8qd8r', 'h8qe8r', 'h8qf8r', 'h8qg8r', 'h8qh8r', 'h8qa8b', 'h8qb8b', 'h8qc8b', 'h8qd8b', 'h8qe8b', 'h8qf8b', 'h8qg8b', 'h8qh8b', 'h8qa8n', 'h8qb8n', 'h8qc8n', 'h8qd8n', 'h8qe8n', 'h8qf8n', 'h8qg8n', 'h8qh8n', 'h8qa8', 'h8qb8', 'h8qc8', 'h8qd8', 'h8qe8', 'h8qf8', 'h8qg8', 'h8qh8', 'h8qa7', 'h8qb7', 'h8qc7', 'h8qd7', 'h8qe7', 'h8qf7', 'h8qg7', 'h8qh7', 'h8qa6', 'h8qb6', 'h8qc6', 'h8qd6', 'h8qe6', 'h8qf6', 'h8qg6', 'h8qh6', 'h8qa5', 'h8qb5', 'h8qc5', 'h8qd5', 'h8qe5', 'h8qf5', 'h8qg5', 'h8qh5', 'h8qa4', 'h8qb4', 'h8qc4', 'h8qd4', 'h8qe4', 'h8qf4', 'h8qg4', 'h8qh4', 'h8qa3', 'h8qb3', 'h8qc3', 'h8qd3', 'h8qe3', 'h8qf3', 'h8qg3', 'h8qh3', 'h8qa2', 'h8qb2', 'h8qc2', 'h8qd2', 'h8qe2', 'h8qf2', 'h8qg2', 'h8qh2', 'h8qa1', 'h8qb1', 'h8qc1', 'h8qd1', 'h8qe1', 'h8qf1', 'h8qg1', 'h8qh1', 'a8ra8q', 'a8rb8q', 'a8rc8q', 'a8rd8q', 'a8re8q', 'a8rf8q', 'a8rg8q', 'a8rh8q', 'a8ra8r', 'a8rb8r', 'a8rc8r', 'a8rd8r', 'a8re8r', 'a8rf8r', 'a8rg8r', 'a8rh8r', 'a8ra8b', 'a8rb8b', 'a8rc8b', 'a8rd8b', 'a8re8b', 'a8rf8b', 'a8rg8b', 'a8rh8b', 'a8ra8n', 'a8rb8n', 'a8rc8n', 'a8rd8n', 'a8re8n', 'a8rf8n', 'a8rg8n', 'a8rh8n', 'a8ra8', 'a8rb8', 'a8rc8', 'a8rd8', 'a8re8', 'a8rf8', 'a8rg8', 'a8rh8', 'a8ra7', 'a8rb7', 'a8rc7', 'a8rd7', 'a8re7', 'a8rf7', 'a8rg7', 'a8rh7', 'a8ra6', 'a8rb6', 'a8rc6', 'a8rd6', 'a8re6', 'a8rf6', 'a8rg6', 'a8rh6', 'a8ra5', 'a8rb5', 'a8rc5', 'a8rd5', 'a8re5', 'a8rf5', 'a8rg5', 'a8rh5', 'a8ra4', 'a8rb4', 'a8rc4', 'a8rd4', 'a8re4', 'a8rf4', 'a8rg4', 'a8rh4', 'a8ra3', 'a8rb3', 'a8rc3', 'a8rd3', 'a8re3', 'a8rf3', 'a8rg3', 'a8rh3', 'a8ra2', 'a8rb2', 'a8rc2', 'a8rd2', 'a8re2', 'a8rf2', 'a8rg2', 'a8rh2', 'a8ra1', 'a8rb1', 'a8rc1', 'a8rd1', 'a8re1', 'a8rf1', 'a8rg1', 'a8rh1', 'b8ra8q', 'b8rb8q', 'b8rc8q', 'b8rd8q', 'b8re8q', 'b8rf8q', 'b8rg8q', 'b8rh8q', 'b8ra8r', 'b8rb8r', 'b8rc8r', 'b8rd8r', 'b8re8r', 'b8rf8r', 'b8rg8r', 'b8rh8r', 'b8ra8b', 'b8rb8b', 'b8rc8b', 'b8rd8b', 'b8re8b', 'b8rf8b', 'b8rg8b', 'b8rh8b', 'b8ra8n', 'b8rb8n', 'b8rc8n', 'b8rd8n', 'b8re8n', 'b8rf8n', 'b8rg8n', 'b8rh8n', 'b8ra8', 'b8rb8', 'b8rc8', 'b8rd8', 'b8re8', 'b8rf8', 'b8rg8', 'b8rh8', 'b8ra7', 'b8rb7', 'b8rc7', 'b8rd7', 'b8re7', 'b8rf7', 'b8rg7', 'b8rh7', 'b8ra6', 'b8rb6', 'b8rc6', 'b8rd6', 'b8re6', 'b8rf6', 'b8rg6', 'b8rh6', 'b8ra5', 'b8rb5', 'b8rc5', 'b8rd5', 'b8re5', 'b8rf5', 'b8rg5', 'b8rh5', 'b8ra4', 'b8rb4', 'b8rc4', 'b8rd4', 'b8re4', 'b8rf4', 'b8rg4', 'b8rh4', 'b8ra3', 'b8rb3', 'b8rc3', 'b8rd3', 'b8re3', 'b8rf3', 'b8rg3', 'b8rh3', 'b8ra2', 'b8rb2', 'b8rc2', 'b8rd2', 'b8re2', 'b8rf2', 'b8rg2', 'b8rh2', 'b8ra1', 'b8rb1', 'b8rc1', 'b8rd1', 'b8re1', 'b8rf1', 'b8rg1', 'b8rh1', 'c8ra8q', 'c8rb8q', 'c8rc8q', 'c8rd8q', 'c8re8q', 'c8rf8q', 'c8rg8q', 'c8rh8q', 'c8ra8r', 'c8rb8r', 'c8rc8r', 'c8rd8r', 'c8re8r', 'c8rf8r', 'c8rg8r', 'c8rh8r', 'c8ra8b', 'c8rb8b', 'c8rc8b', 'c8rd8b', 'c8re8b', 'c8rf8b', 'c8rg8b', 'c8rh8b', 'c8ra8n', 'c8rb8n', 'c8rc8n', 'c8rd8n', 'c8re8n', 'c8rf8n', 'c8rg8n', 'c8rh8n', 'c8ra8', 'c8rb8', 'c8rc8', 'c8rd8', 'c8re8', 'c8rf8', 'c8rg8', 'c8rh8', 'c8ra7', 'c8rb7', 'c8rc7', 'c8rd7', 'c8re7', 'c8rf7', 'c8rg7', 'c8rh7', 'c8ra6', 'c8rb6', 'c8rc6', 'c8rd6', 'c8re6', 'c8rf6', 'c8rg6', 'c8rh6', 'c8ra5', 'c8rb5', 'c8rc5', 'c8rd5', 'c8re5', 'c8rf5', 'c8rg5', 'c8rh5', 'c8ra4', 'c8rb4', 'c8rc4', 'c8rd4', 'c8re4', 'c8rf4', 'c8rg4', 'c8rh4', 'c8ra3', 'c8rb3', 'c8rc3', 'c8rd3', 'c8re3', 'c8rf3', 'c8rg3', 'c8rh3', 'c8ra2', 'c8rb2', 'c8rc2', 'c8rd2', 'c8re2', 'c8rf2', 'c8rg2', 'c8rh2', 'c8ra1', 'c8rb1', 'c8rc1', 'c8rd1', 'c8re1', 'c8rf1', 'c8rg1', 'c8rh1', 'd8ra8q', 'd8rb8q', 'd8rc8q', 'd8rd8q', 'd8re8q', 'd8rf8q', 'd8rg8q', 'd8rh8q', 'd8ra8r', 'd8rb8r', 'd8rc8r', 'd8rd8r', 'd8re8r', 'd8rf8r', 'd8rg8r', 'd8rh8r', 'd8ra8b', 'd8rb8b', 'd8rc8b', 'd8rd8b', 'd8re8b', 'd8rf8b', 'd8rg8b', 'd8rh8b', 'd8ra8n', 'd8rb8n', 'd8rc8n', 'd8rd8n', 'd8re8n', 'd8rf8n', 'd8rg8n', 'd8rh8n', 'd8ra8', 'd8rb8', 'd8rc8', 'd8rd8', 'd8re8', 'd8rf8', 'd8rg8', 'd8rh8', 'd8ra7', 'd8rb7', 'd8rc7', 'd8rd7', 'd8re7', 'd8rf7', 'd8rg7', 'd8rh7', 'd8ra6', 'd8rb6', 'd8rc6', 'd8rd6', 'd8re6', 'd8rf6', 'd8rg6', 'd8rh6', 'd8ra5', 'd8rb5', 'd8rc5', 'd8rd5', 'd8re5', 'd8rf5', 'd8rg5', 'd8rh5', 'd8ra4', 'd8rb4', 'd8rc4', 'd8rd4', 'd8re4', 'd8rf4', 'd8rg4', 'd8rh4', 'd8ra3', 'd8rb3', 'd8rc3', 'd8rd3', 'd8re3', 'd8rf3', 'd8rg3', 'd8rh3', 'd8ra2', 'd8rb2', 'd8rc2', 'd8rd2', 'd8re2', 'd8rf2', 'd8rg2', 'd8rh2', 'd8ra1', 'd8rb1', 'd8rc1', 'd8rd1', 'd8re1', 'd8rf1', 'd8rg1', 'd8rh1', 'e8ra8q', 'e8rb8q', 'e8rc8q', 'e8rd8q', 'e8re8q', 'e8rf8q', 'e8rg8q', 'e8rh8q', 'e8ra8r', 'e8rb8r', 'e8rc8r', 'e8rd8r', 'e8re8r', 'e8rf8r', 'e8rg8r', 'e8rh8r', 'e8ra8b', 'e8rb8b', 'e8rc8b', 'e8rd8b', 'e8re8b', 'e8rf8b', 'e8rg8b', 'e8rh8b', 'e8ra8n', 'e8rb8n', 'e8rc8n', 'e8rd8n', 'e8re8n', 'e8rf8n', 'e8rg8n', 'e8rh8n', 'e8ra8', 'e8rb8', 'e8rc8', 'e8rd8', 'e8re8', 'e8rf8', 'e8rg8', 'e8rh8', 'e8ra7', 'e8rb7', 'e8rc7', 'e8rd7', 'e8re7', 'e8rf7', 'e8rg7', 'e8rh7', 'e8ra6', 'e8rb6', 'e8rc6', 'e8rd6', 'e8re6', 'e8rf6', 'e8rg6', 'e8rh6', 'e8ra5', 'e8rb5', 'e8rc5', 'e8rd5', 'e8re5', 'e8rf5', 'e8rg5', 'e8rh5', 'e8ra4', 'e8rb4', 'e8rc4', 'e8rd4', 'e8re4', 'e8rf4', 'e8rg4', 'e8rh4', 'e8ra3', 'e8rb3', 'e8rc3', 'e8rd3', 'e8re3', 'e8rf3', 'e8rg3', 'e8rh3', 'e8ra2', 'e8rb2', 'e8rc2', 'e8rd2', 'e8re2', 'e8rf2', 'e8rg2', 'e8rh2', 'e8ra1', 'e8rb1', 'e8rc1', 'e8rd1', 'e8re1', 'e8rf1', 'e8rg1', 'e8rh1', 'f8ra8q', 'f8rb8q', 'f8rc8q', 'f8rd8q', 'f8re8q', 'f8rf8q', 'f8rg8q', 'f8rh8q', 'f8ra8r', 'f8rb8r', 'f8rc8r', 'f8rd8r', 'f8re8r', 'f8rf8r', 'f8rg8r', 'f8rh8r', 'f8ra8b', 'f8rb8b', 'f8rc8b', 'f8rd8b', 'f8re8b', 'f8rf8b', 'f8rg8b', 'f8rh8b', 'f8ra8n', 'f8rb8n', 'f8rc8n', 'f8rd8n', 'f8re8n', 'f8rf8n', 'f8rg8n', 'f8rh8n', 'f8ra8', 'f8rb8', 'f8rc8', 'f8rd8', 'f8re8', 'f8rf8', 'f8rg8', 'f8rh8', 'f8ra7', 'f8rb7', 'f8rc7', 'f8rd7', 'f8re7', 'f8rf7', 'f8rg7', 'f8rh7', 'f8ra6', 'f8rb6', 'f8rc6', 'f8rd6', 'f8re6', 'f8rf6', 'f8rg6', 'f8rh6', 'f8ra5', 'f8rb5', 'f8rc5', 'f8rd5', 'f8re5', 'f8rf5', 'f8rg5', 'f8rh5', 'f8ra4', 'f8rb4', 'f8rc4', 'f8rd4', 'f8re4', 'f8rf4', 'f8rg4', 'f8rh4', 'f8ra3', 'f8rb3', 'f8rc3', 'f8rd3', 'f8re3', 'f8rf3', 'f8rg3', 'f8rh3', 'f8ra2', 'f8rb2', 'f8rc2', 'f8rd2', 'f8re2', 'f8rf2', 'f8rg2', 'f8rh2', 'f8ra1', 'f8rb1', 'f8rc1', 'f8rd1', 'f8re1', 'f8rf1', 'f8rg1', 'f8rh1', 'g8ra8q', 'g8rb8q', 'g8rc8q', 'g8rd8q', 'g8re8q', 'g8rf8q', 'g8rg8q', 'g8rh8q', 'g8ra8r', 'g8rb8r', 'g8rc8r', 'g8rd8r', 'g8re8r', 'g8rf8r', 'g8rg8r', 'g8rh8r', 'g8ra8b', 'g8rb8b', 'g8rc8b', 'g8rd8b', 'g8re8b', 'g8rf8b', 'g8rg8b', 'g8rh8b', 'g8ra8n', 'g8rb8n', 'g8rc8n', 'g8rd8n', 'g8re8n', 'g8rf8n', 'g8rg8n', 'g8rh8n', 'g8ra8', 'g8rb8', 'g8rc8', 'g8rd8', 'g8re8', 'g8rf8', 'g8rg8', 'g8rh8', 'g8ra7', 'g8rb7', 'g8rc7', 'g8rd7', 'g8re7', 'g8rf7', 'g8rg7', 'g8rh7', 'g8ra6', 'g8rb6', 'g8rc6', 'g8rd6', 'g8re6', 'g8rf6', 'g8rg6', 'g8rh6', 'g8ra5', 'g8rb5', 'g8rc5', 'g8rd5', 'g8re5', 'g8rf5', 'g8rg5', 'g8rh5', 'g8ra4', 'g8rb4', 'g8rc4', 'g8rd4', 'g8re4', 'g8rf4', 'g8rg4', 'g8rh4', 'g8ra3', 'g8rb3', 'g8rc3', 'g8rd3', 'g8re3', 'g8rf3', 'g8rg3', 'g8rh3', 'g8ra2', 'g8rb2', 'g8rc2', 'g8rd2', 'g8re2', 'g8rf2', 'g8rg2', 'g8rh2', 'g8ra1', 'g8rb1', 'g8rc1', 'g8rd1', 'g8re1', 'g8rf1', 'g8rg1', 'g8rh1', 'h8ra8q', 'h8rb8q', 'h8rc8q', 'h8rd8q', 'h8re8q', 'h8rf8q', 'h8rg8q', 'h8rh8q', 'h8ra8r', 'h8rb8r', 'h8rc8r', 'h8rd8r', 'h8re8r', 'h8rf8r', 'h8rg8r', 'h8rh8r', 'h8ra8b', 'h8rb8b', 'h8rc8b', 'h8rd8b', 'h8re8b', 'h8rf8b', 'h8rg8b', 'h8rh8b', 'h8ra8n', 'h8rb8n', 'h8rc8n', 'h8rd8n', 'h8re8n', 'h8rf8n', 'h8rg8n', 'h8rh8n', 'h8ra8', 'h8rb8', 'h8rc8', 'h8rd8', 'h8re8', 'h8rf8', 'h8rg8', 'h8rh8', 'h8ra7', 'h8rb7', 'h8rc7', 'h8rd7', 'h8re7', 'h8rf7', 'h8rg7', 'h8rh7', 'h8ra6', 'h8rb6', 'h8rc6', 'h8rd6', 'h8re6', 'h8rf6', 'h8rg6', 'h8rh6', 'h8ra5', 'h8rb5', 'h8rc5', 'h8rd5', 'h8re5', 'h8rf5', 'h8rg5', 'h8rh5', 'h8ra4', 'h8rb4', 'h8rc4', 'h8rd4', 'h8re4', 'h8rf4', 'h8rg4', 'h8rh4', 'h8ra3', 'h8rb3', 'h8rc3', 'h8rd3', 'h8re3', 'h8rf3', 'h8rg3', 'h8rh3', 'h8ra2', 'h8rb2', 'h8rc2', 'h8rd2', 'h8re2', 'h8rf2', 'h8rg2', 'h8rh2', 'h8ra1', 'h8rb1', 'h8rc1', 'h8rd1', 'h8re1', 'h8rf1', 'h8rg1', 'h8rh1', 'a8ba8q', 'a8bb8q', 'a8bc8q', 'a8bd8q', 'a8be8q', 'a8bf8q', 'a8bg8q', 'a8bh8q', 'a8ba8r', 'a8bb8r', 'a8bc8r', 'a8bd8r', 'a8be8r', 'a8bf8r', 'a8bg8r', 'a8bh8r', 'a8ba8b', 'a8bb8b', 'a8bc8b', 'a8bd8b', 'a8be8b', 'a8bf8b', 'a8bg8b', 'a8bh8b', 'a8ba8n', 'a8bb8n', 'a8bc8n', 'a8bd8n', 'a8be8n', 'a8bf8n', 'a8bg8n', 'a8bh8n', 'a8ba8', 'a8bb8', 'a8bc8', 'a8bd8', 'a8be8', 'a8bf8', 'a8bg8', 'a8bh8', 'a8ba7', 'a8bb7', 'a8bc7', 'a8bd7', 'a8be7', 'a8bf7', 'a8bg7', 'a8bh7', 'a8ba6', 'a8bb6', 'a8bc6', 'a8bd6', 'a8be6', 'a8bf6', 'a8bg6', 'a8bh6', 'a8ba5', 'a8bb5', 'a8bc5', 'a8bd5', 'a8be5', 'a8bf5', 'a8bg5', 'a8bh5', 'a8ba4', 'a8bb4', 'a8bc4', 'a8bd4', 'a8be4', 'a8bf4', 'a8bg4', 'a8bh4', 'a8ba3', 'a8bb3', 'a8bc3', 'a8bd3', 'a8be3', 'a8bf3', 'a8bg3', 'a8bh3', 'a8ba2', 'a8bb2', 'a8bc2', 'a8bd2', 'a8be2', 'a8bf2', 'a8bg2', 'a8bh2', 'a8ba1', 'a8bb1', 'a8bc1', 'a8bd1', 'a8be1', 'a8bf1', 'a8bg1', 'a8bh1', 'b8ba8q', 'b8bb8q', 'b8bc8q', 'b8bd8q', 'b8be8q', 'b8bf8q', 'b8bg8q', 'b8bh8q', 'b8ba8r', 'b8bb8r', 'b8bc8r', 'b8bd8r', 'b8be8r', 'b8bf8r', 'b8bg8r', 'b8bh8r', 'b8ba8b', 'b8bb8b', 'b8bc8b', 'b8bd8b', 'b8be8b', 'b8bf8b', 'b8bg8b', 'b8bh8b', 'b8ba8n', 'b8bb8n', 'b8bc8n', 'b8bd8n', 'b8be8n', 'b8bf8n', 'b8bg8n', 'b8bh8n', 'b8ba8', 'b8bb8', 'b8bc8', 'b8bd8', 'b8be8', 'b8bf8', 'b8bg8', 'b8bh8', 'b8ba7', 'b8bb7', 'b8bc7', 'b8bd7', 'b8be7', 'b8bf7', 'b8bg7', 'b8bh7', 'b8ba6', 'b8bb6', 'b8bc6', 'b8bd6', 'b8be6', 'b8bf6', 'b8bg6', 'b8bh6', 'b8ba5', 'b8bb5', 'b8bc5', 'b8bd5', 'b8be5', 'b8bf5', 'b8bg5', 'b8bh5', 'b8ba4', 'b8bb4', 'b8bc4', 'b8bd4', 'b8be4', 'b8bf4', 'b8bg4', 'b8bh4', 'b8ba3', 'b8bb3', 'b8bc3', 'b8bd3', 'b8be3', 'b8bf3', 'b8bg3', 'b8bh3', 'b8ba2', 'b8bb2', 'b8bc2', 'b8bd2', 'b8be2', 'b8bf2', 'b8bg2', 'b8bh2', 'b8ba1', 'b8bb1', 'b8bc1', 'b8bd1', 'b8be1', 'b8bf1', 'b8bg1', 'b8bh1', 'c8ba8q', 'c8bb8q', 'c8bc8q', 'c8bd8q', 'c8be8q', 'c8bf8q', 'c8bg8q', 'c8bh8q', 'c8ba8r', 'c8bb8r', 'c8bc8r', 'c8bd8r', 'c8be8r', 'c8bf8r', 'c8bg8r', 'c8bh8r', 'c8ba8b', 'c8bb8b', 'c8bc8b', 'c8bd8b', 'c8be8b', 'c8bf8b', 'c8bg8b', 'c8bh8b', 'c8ba8n', 'c8bb8n', 'c8bc8n', 'c8bd8n', 'c8be8n', 'c8bf8n', 'c8bg8n', 'c8bh8n', 'c8ba8', 'c8bb8', 'c8bc8', 'c8bd8', 'c8be8', 'c8bf8', 'c8bg8', 'c8bh8', 'c8ba7', 'c8bb7', 'c8bc7', 'c8bd7', 'c8be7', 'c8bf7', 'c8bg7', 'c8bh7', 'c8ba6', 'c8bb6', 'c8bc6', 'c8bd6', 'c8be6', 'c8bf6', 'c8bg6', 'c8bh6', 'c8ba5', 'c8bb5', 'c8bc5', 'c8bd5', 'c8be5', 'c8bf5', 'c8bg5', 'c8bh5', 'c8ba4', 'c8bb4', 'c8bc4', 'c8bd4', 'c8be4', 'c8bf4', 'c8bg4', 'c8bh4', 'c8ba3', 'c8bb3', 'c8bc3', 'c8bd3', 'c8be3', 'c8bf3', 'c8bg3', 'c8bh3', 'c8ba2', 'c8bb2', 'c8bc2', 'c8bd2', 'c8be2', 'c8bf2', 'c8bg2', 'c8bh2', 'c8ba1', 'c8bb1', 'c8bc1', 'c8bd1', 'c8be1', 'c8bf1', 'c8bg1', 'c8bh1', 'd8ba8q', 'd8bb8q', 'd8bc8q', 'd8bd8q', 'd8be8q', 'd8bf8q', 'd8bg8q', 'd8bh8q', 'd8ba8r', 'd8bb8r', 'd8bc8r', 'd8bd8r', 'd8be8r', 'd8bf8r', 'd8bg8r', 'd8bh8r', 'd8ba8b', 'd8bb8b', 'd8bc8b', 'd8bd8b', 'd8be8b', 'd8bf8b', 'd8bg8b', 'd8bh8b', 'd8ba8n', 'd8bb8n', 'd8bc8n', 'd8bd8n', 'd8be8n', 'd8bf8n', 'd8bg8n', 'd8bh8n', 'd8ba8', 'd8bb8', 'd8bc8', 'd8bd8', 'd8be8', 'd8bf8', 'd8bg8', 'd8bh8', 'd8ba7', 'd8bb7', 'd8bc7', 'd8bd7', 'd8be7', 'd8bf7', 'd8bg7', 'd8bh7', 'd8ba6', 'd8bb6', 'd8bc6', 'd8bd6', 'd8be6', 'd8bf6', 'd8bg6', 'd8bh6', 'd8ba5', 'd8bb5', 'd8bc5', 'd8bd5', 'd8be5', 'd8bf5', 'd8bg5', 'd8bh5', 'd8ba4', 'd8bb4', 'd8bc4', 'd8bd4', 'd8be4', 'd8bf4', 'd8bg4', 'd8bh4', 'd8ba3', 'd8bb3', 'd8bc3', 'd8bd3', 'd8be3', 'd8bf3', 'd8bg3', 'd8bh3', 'd8ba2', 'd8bb2', 'd8bc2', 'd8bd2', 'd8be2', 'd8bf2', 'd8bg2', 'd8bh2', 'd8ba1', 'd8bb1', 'd8bc1', 'd8bd1', 'd8be1', 'd8bf1', 'd8bg1', 'd8bh1', 'e8ba8q', 'e8bb8q', 'e8bc8q', 'e8bd8q', 'e8be8q', 'e8bf8q', 'e8bg8q', 'e8bh8q', 'e8ba8r', 'e8bb8r', 'e8bc8r', 'e8bd8r', 'e8be8r', 'e8bf8r', 'e8bg8r', 'e8bh8r', 'e8ba8b', 'e8bb8b', 'e8bc8b', 'e8bd8b', 'e8be8b', 'e8bf8b', 'e8bg8b', 'e8bh8b', 'e8ba8n', 'e8bb8n', 'e8bc8n', 'e8bd8n', 'e8be8n', 'e8bf8n', 'e8bg8n', 'e8bh8n', 'e8ba8', 'e8bb8', 'e8bc8', 'e8bd8', 'e8be8', 'e8bf8', 'e8bg8', 'e8bh8', 'e8ba7', 'e8bb7', 'e8bc7', 'e8bd7', 'e8be7', 'e8bf7', 'e8bg7', 'e8bh7', 'e8ba6', 'e8bb6', 'e8bc6', 'e8bd6', 'e8be6', 'e8bf6', 'e8bg6', 'e8bh6', 'e8ba5', 'e8bb5', 'e8bc5', 'e8bd5', 'e8be5', 'e8bf5', 'e8bg5', 'e8bh5', 'e8ba4', 'e8bb4', 'e8bc4', 'e8bd4', 'e8be4', 'e8bf4', 'e8bg4', 'e8bh4', 'e8ba3', 'e8bb3', 'e8bc3', 'e8bd3', 'e8be3', 'e8bf3', 'e8bg3', 'e8bh3', 'e8ba2', 'e8bb2', 'e8bc2', 'e8bd2', 'e8be2', 'e8bf2', 'e8bg2', 'e8bh2', 'e8ba1', 'e8bb1', 'e8bc1', 'e8bd1', 'e8be1', 'e8bf1', 'e8bg1', 'e8bh1', 'f8ba8q', 'f8bb8q', 'f8bc8q', 'f8bd8q', 'f8be8q', 'f8bf8q', 'f8bg8q', 'f8bh8q', 'f8ba8r', 'f8bb8r', 'f8bc8r', 'f8bd8r', 'f8be8r', 'f8bf8r', 'f8bg8r', 'f8bh8r', 'f8ba8b', 'f8bb8b', 'f8bc8b', 'f8bd8b', 'f8be8b', 'f8bf8b', 'f8bg8b', 'f8bh8b', 'f8ba8n', 'f8bb8n', 'f8bc8n', 'f8bd8n', 'f8be8n', 'f8bf8n', 'f8bg8n', 'f8bh8n', 'f8ba8', 'f8bb8', 'f8bc8', 'f8bd8', 'f8be8', 'f8bf8', 'f8bg8', 'f8bh8', 'f8ba7', 'f8bb7', 'f8bc7', 'f8bd7', 'f8be7', 'f8bf7', 'f8bg7', 'f8bh7', 'f8ba6', 'f8bb6', 'f8bc6', 'f8bd6', 'f8be6', 'f8bf6', 'f8bg6', 'f8bh6', 'f8ba5', 'f8bb5', 'f8bc5', 'f8bd5', 'f8be5', 'f8bf5', 'f8bg5', 'f8bh5', 'f8ba4', 'f8bb4', 'f8bc4', 'f8bd4', 'f8be4', 'f8bf4', 'f8bg4', 'f8bh4', 'f8ba3', 'f8bb3', 'f8bc3', 'f8bd3', 'f8be3', 'f8bf3', 'f8bg3', 'f8bh3', 'f8ba2', 'f8bb2', 'f8bc2', 'f8bd2', 'f8be2', 'f8bf2', 'f8bg2', 'f8bh2', 'f8ba1', 'f8bb1', 'f8bc1', 'f8bd1', 'f8be1', 'f8bf1', 'f8bg1', 'f8bh1', 'g8ba8q', 'g8bb8q', 'g8bc8q', 'g8bd8q', 'g8be8q', 'g8bf8q', 'g8bg8q', 'g8bh8q', 'g8ba8r', 'g8bb8r', 'g8bc8r', 'g8bd8r', 'g8be8r', 'g8bf8r', 'g8bg8r', 'g8bh8r', 'g8ba8b', 'g8bb8b', 'g8bc8b', 'g8bd8b', 'g8be8b', 'g8bf8b', 'g8bg8b', 'g8bh8b', 'g8ba8n', 'g8bb8n', 'g8bc8n', 'g8bd8n', 'g8be8n', 'g8bf8n', 'g8bg8n', 'g8bh8n', 'g8ba8', 'g8bb8', 'g8bc8', 'g8bd8', 'g8be8', 'g8bf8', 'g8bg8', 'g8bh8', 'g8ba7', 'g8bb7', 'g8bc7', 'g8bd7', 'g8be7', 'g8bf7', 'g8bg7', 'g8bh7', 'g8ba6', 'g8bb6', 'g8bc6', 'g8bd6', 'g8be6', 'g8bf6', 'g8bg6', 'g8bh6', 'g8ba5', 'g8bb5', 'g8bc5', 'g8bd5', 'g8be5', 'g8bf5', 'g8bg5', 'g8bh5', 'g8ba4', 'g8bb4', 'g8bc4', 'g8bd4', 'g8be4', 'g8bf4', 'g8bg4', 'g8bh4', 'g8ba3', 'g8bb3', 'g8bc3', 'g8bd3', 'g8be3', 'g8bf3', 'g8bg3', 'g8bh3', 'g8ba2', 'g8bb2', 'g8bc2', 'g8bd2', 'g8be2', 'g8bf2', 'g8bg2', 'g8bh2', 'g8ba1', 'g8bb1', 'g8bc1', 'g8bd1', 'g8be1', 'g8bf1', 'g8bg1', 'g8bh1', 'h8ba8q', 'h8bb8q', 'h8bc8q', 'h8bd8q', 'h8be8q', 'h8bf8q', 'h8bg8q', 'h8bh8q', 'h8ba8r', 'h8bb8r', 'h8bc8r', 'h8bd8r', 'h8be8r', 'h8bf8r', 'h8bg8r', 'h8bh8r', 'h8ba8b', 'h8bb8b', 'h8bc8b', 'h8bd8b', 'h8be8b', 'h8bf8b', 'h8bg8b', 'h8bh8b', 'h8ba8n', 'h8bb8n', 'h8bc8n', 'h8bd8n', 'h8be8n', 'h8bf8n', 'h8bg8n', 'h8bh8n', 'h8ba8', 'h8bb8', 'h8bc8', 'h8bd8', 'h8be8', 'h8bf8', 'h8bg8', 'h8bh8', 'h8ba7', 'h8bb7', 'h8bc7', 'h8bd7', 'h8be7', 'h8bf7', 'h8bg7', 'h8bh7', 'h8ba6', 'h8bb6', 'h8bc6', 'h8bd6', 'h8be6', 'h8bf6', 'h8bg6', 'h8bh6', 'h8ba5', 'h8bb5', 'h8bc5', 'h8bd5', 'h8be5', 'h8bf5', 'h8bg5', 'h8bh5', 'h8ba4', 'h8bb4', 'h8bc4', 'h8bd4', 'h8be4', 'h8bf4', 'h8bg4', 'h8bh4', 'h8ba3', 'h8bb3', 'h8bc3', 'h8bd3', 'h8be3', 'h8bf3', 'h8bg3', 'h8bh3', 'h8ba2', 'h8bb2', 'h8bc2', 'h8bd2', 'h8be2', 'h8bf2', 'h8bg2', 'h8bh2', 'h8ba1', 'h8bb1', 'h8bc1', 'h8bd1', 'h8be1', 'h8bf1', 'h8bg1', 'h8bh1', 'a8na8q', 'a8nb8q', 'a8nc8q', 'a8nd8q', 'a8ne8q', 'a8nf8q', 'a8ng8q', 'a8nh8q', 'a8na8r', 'a8nb8r', 'a8nc8r', 'a8nd8r', 'a8ne8r', 'a8nf8r', 'a8ng8r', 'a8nh8r', 'a8na8b', 'a8nb8b', 'a8nc8b', 'a8nd8b', 'a8ne8b', 'a8nf8b', 'a8ng8b', 'a8nh8b', 'a8na8n', 'a8nb8n', 'a8nc8n', 'a8nd8n', 'a8ne8n', 'a8nf8n', 'a8ng8n', 'a8nh8n', 'a8na8', 'a8nb8', 'a8nc8', 'a8nd8', 'a8ne8', 'a8nf8', 'a8ng8', 'a8nh8', 'a8na7', 'a8nb7', 'a8nc7', 'a8nd7', 'a8ne7', 'a8nf7', 'a8ng7', 'a8nh7', 'a8na6', 'a8nb6', 'a8nc6', 'a8nd6', 'a8ne6', 'a8nf6', 'a8ng6', 'a8nh6', 'a8na5', 'a8nb5', 'a8nc5', 'a8nd5', 'a8ne5', 'a8nf5', 'a8ng5', 'a8nh5', 'a8na4', 'a8nb4', 'a8nc4', 'a8nd4', 'a8ne4', 'a8nf4', 'a8ng4', 'a8nh4', 'a8na3', 'a8nb3', 'a8nc3', 'a8nd3', 'a8ne3', 'a8nf3', 'a8ng3', 'a8nh3', 'a8na2', 'a8nb2', 'a8nc2', 'a8nd2', 'a8ne2', 'a8nf2', 'a8ng2', 'a8nh2', 'a8na1', 'a8nb1', 'a8nc1', 'a8nd1', 'a8ne1', 'a8nf1', 'a8ng1', 'a8nh1', 'b8na8q', 'b8nb8q', 'b8nc8q', 'b8nd8q', 'b8ne8q', 'b8nf8q', 'b8ng8q', 'b8nh8q', 'b8na8r', 'b8nb8r', 'b8nc8r', 'b8nd8r', 'b8ne8r', 'b8nf8r', 'b8ng8r', 'b8nh8r', 'b8na8b', 'b8nb8b', 'b8nc8b', 'b8nd8b', 'b8ne8b', 'b8nf8b', 'b8ng8b', 'b8nh8b', 'b8na8n', 'b8nb8n', 'b8nc8n', 'b8nd8n', 'b8ne8n', 'b8nf8n', 'b8ng8n', 'b8nh8n', 'b8na8', 'b8nb8', 'b8nc8', 'b8nd8', 'b8ne8', 'b8nf8', 'b8ng8', 'b8nh8', 'b8na7', 'b8nb7', 'b8nc7', 'b8nd7', 'b8ne7', 'b8nf7', 'b8ng7', 'b8nh7', 'b8na6', 'b8nb6', 'b8nc6', 'b8nd6', 'b8ne6', 'b8nf6', 'b8ng6', 'b8nh6', 'b8na5', 'b8nb5', 'b8nc5', 'b8nd5', 'b8ne5', 'b8nf5', 'b8ng5', 'b8nh5', 'b8na4', 'b8nb4', 'b8nc4', 'b8nd4', 'b8ne4', 'b8nf4', 'b8ng4', 'b8nh4', 'b8na3', 'b8nb3', 'b8nc3', 'b8nd3', 'b8ne3', 'b8nf3', 'b8ng3', 'b8nh3', 'b8na2', 'b8nb2', 'b8nc2', 'b8nd2', 'b8ne2', 'b8nf2', 'b8ng2', 'b8nh2', 'b8na1', 'b8nb1', 'b8nc1', 'b8nd1', 'b8ne1', 'b8nf1', 'b8ng1', 'b8nh1', 'c8na8q', 'c8nb8q', 'c8nc8q', 'c8nd8q', 'c8ne8q', 'c8nf8q', 'c8ng8q', 'c8nh8q', 'c8na8r', 'c8nb8r', 'c8nc8r', 'c8nd8r', 'c8ne8r', 'c8nf8r', 'c8ng8r', 'c8nh8r', 'c8na8b', 'c8nb8b', 'c8nc8b', 'c8nd8b', 'c8ne8b', 'c8nf8b', 'c8ng8b', 'c8nh8b', 'c8na8n', 'c8nb8n', 'c8nc8n', 'c8nd8n', 'c8ne8n', 'c8nf8n', 'c8ng8n', 'c8nh8n', 'c8na8', 'c8nb8', 'c8nc8', 'c8nd8', 'c8ne8', 'c8nf8', 'c8ng8', 'c8nh8', 'c8na7', 'c8nb7', 'c8nc7', 'c8nd7', 'c8ne7', 'c8nf7', 'c8ng7', 'c8nh7', 'c8na6', 'c8nb6', 'c8nc6', 'c8nd6', 'c8ne6', 'c8nf6', 'c8ng6', 'c8nh6', 'c8na5', 'c8nb5', 'c8nc5', 'c8nd5', 'c8ne5', 'c8nf5', 'c8ng5', 'c8nh5', 'c8na4', 'c8nb4', 'c8nc4', 'c8nd4', 'c8ne4', 'c8nf4', 'c8ng4', 'c8nh4', 'c8na3', 'c8nb3', 'c8nc3', 'c8nd3', 'c8ne3', 'c8nf3', 'c8ng3', 'c8nh3', 'c8na2', 'c8nb2', 'c8nc2', 'c8nd2', 'c8ne2', 'c8nf2', 'c8ng2', 'c8nh2', 'c8na1', 'c8nb1', 'c8nc1', 'c8nd1', 'c8ne1', 'c8nf1', 'c8ng1', 'c8nh1', 'd8na8q', 'd8nb8q', 'd8nc8q', 'd8nd8q', 'd8ne8q', 'd8nf8q', 'd8ng8q', 'd8nh8q', 'd8na8r', 'd8nb8r', 'd8nc8r', 'd8nd8r', 'd8ne8r', 'd8nf8r', 'd8ng8r', 'd8nh8r', 'd8na8b', 'd8nb8b', 'd8nc8b', 'd8nd8b', 'd8ne8b', 'd8nf8b', 'd8ng8b', 'd8nh8b', 'd8na8n', 'd8nb8n', 'd8nc8n', 'd8nd8n', 'd8ne8n', 'd8nf8n', 'd8ng8n', 'd8nh8n', 'd8na8', 'd8nb8', 'd8nc8', 'd8nd8', 'd8ne8', 'd8nf8', 'd8ng8', 'd8nh8', 'd8na7', 'd8nb7', 'd8nc7', 'd8nd7', 'd8ne7', 'd8nf7', 'd8ng7', 'd8nh7', 'd8na6', 'd8nb6', 'd8nc6', 'd8nd6', 'd8ne6', 'd8nf6', 'd8ng6', 'd8nh6', 'd8na5', 'd8nb5', 'd8nc5', 'd8nd5', 'd8ne5', 'd8nf5', 'd8ng5', 'd8nh5', 'd8na4', 'd8nb4', 'd8nc4', 'd8nd4', 'd8ne4', 'd8nf4', 'd8ng4', 'd8nh4', 'd8na3', 'd8nb3', 'd8nc3', 'd8nd3', 'd8ne3', 'd8nf3', 'd8ng3', 'd8nh3', 'd8na2', 'd8nb2', 'd8nc2', 'd8nd2', 'd8ne2', 'd8nf2', 'd8ng2', 'd8nh2', 'd8na1', 'd8nb1', 'd8nc1', 'd8nd1', 'd8ne1', 'd8nf1', 'd8ng1', 'd8nh1', 'e8na8q', 'e8nb8q', 'e8nc8q', 'e8nd8q', 'e8ne8q', 'e8nf8q', 'e8ng8q', 'e8nh8q', 'e8na8r', 'e8nb8r', 'e8nc8r', 'e8nd8r', 'e8ne8r', 'e8nf8r', 'e8ng8r', 'e8nh8r', 'e8na8b', 'e8nb8b', 'e8nc8b', 'e8nd8b', 'e8ne8b', 'e8nf8b', 'e8ng8b', 'e8nh8b', 'e8na8n', 'e8nb8n', 'e8nc8n', 'e8nd8n', 'e8ne8n', 'e8nf8n', 'e8ng8n', 'e8nh8n', 'e8na8', 'e8nb8', 'e8nc8', 'e8nd8', 'e8ne8', 'e8nf8', 'e8ng8', 'e8nh8', 'e8na7', 'e8nb7', 'e8nc7', 'e8nd7', 'e8ne7', 'e8nf7', 'e8ng7', 'e8nh7', 'e8na6', 'e8nb6', 'e8nc6', 'e8nd6', 'e8ne6', 'e8nf6', 'e8ng6', 'e8nh6', 'e8na5', 'e8nb5', 'e8nc5', 'e8nd5', 'e8ne5', 'e8nf5', 'e8ng5', 'e8nh5', 'e8na4', 'e8nb4', 'e8nc4', 'e8nd4', 'e8ne4', 'e8nf4', 'e8ng4', 'e8nh4', 'e8na3', 'e8nb3', 'e8nc3', 'e8nd3', 'e8ne3', 'e8nf3', 'e8ng3', 'e8nh3', 'e8na2', 'e8nb2', 'e8nc2', 'e8nd2', 'e8ne2', 'e8nf2', 'e8ng2', 'e8nh2', 'e8na1', 'e8nb1', 'e8nc1', 'e8nd1', 'e8ne1', 'e8nf1', 'e8ng1', 'e8nh1', 'f8na8q', 'f8nb8q', 'f8nc8q', 'f8nd8q', 'f8ne8q', 'f8nf8q', 'f8ng8q', 'f8nh8q', 'f8na8r', 'f8nb8r', 'f8nc8r', 'f8nd8r', 'f8ne8r', 'f8nf8r', 'f8ng8r', 'f8nh8r', 'f8na8b', 'f8nb8b', 'f8nc8b', 'f8nd8b', 'f8ne8b', 'f8nf8b', 'f8ng8b', 'f8nh8b', 'f8na8n', 'f8nb8n', 'f8nc8n', 'f8nd8n', 'f8ne8n', 'f8nf8n', 'f8ng8n', 'f8nh8n', 'f8na8', 'f8nb8', 'f8nc8', 'f8nd8', 'f8ne8', 'f8nf8', 'f8ng8', 'f8nh8', 'f8na7', 'f8nb7', 'f8nc7', 'f8nd7', 'f8ne7', 'f8nf7', 'f8ng7', 'f8nh7', 'f8na6', 'f8nb6', 'f8nc6', 'f8nd6', 'f8ne6', 'f8nf6', 'f8ng6', 'f8nh6', 'f8na5', 'f8nb5', 'f8nc5', 'f8nd5', 'f8ne5', 'f8nf5', 'f8ng5', 'f8nh5', 'f8na4', 'f8nb4', 'f8nc4', 'f8nd4', 'f8ne4', 'f8nf4', 'f8ng4', 'f8nh4', 'f8na3', 'f8nb3', 'f8nc3', 'f8nd3', 'f8ne3', 'f8nf3', 'f8ng3', 'f8nh3', 'f8na2', 'f8nb2', 'f8nc2', 'f8nd2', 'f8ne2', 'f8nf2', 'f8ng2', 'f8nh2', 'f8na1', 'f8nb1', 'f8nc1', 'f8nd1', 'f8ne1', 'f8nf1', 'f8ng1', 'f8nh1', 'g8na8q', 'g8nb8q', 'g8nc8q', 'g8nd8q', 'g8ne8q', 'g8nf8q', 'g8ng8q', 'g8nh8q', 'g8na8r', 'g8nb8r', 'g8nc8r', 'g8nd8r', 'g8ne8r', 'g8nf8r', 'g8ng8r', 'g8nh8r', 'g8na8b', 'g8nb8b', 'g8nc8b', 'g8nd8b', 'g8ne8b', 'g8nf8b', 'g8ng8b', 'g8nh8b', 'g8na8n', 'g8nb8n', 'g8nc8n', 'g8nd8n', 'g8ne8n', 'g8nf8n', 'g8ng8n', 'g8nh8n', 'g8na8', 'g8nb8', 'g8nc8', 'g8nd8', 'g8ne8', 'g8nf8', 'g8ng8', 'g8nh8', 'g8na7', 'g8nb7', 'g8nc7', 'g8nd7', 'g8ne7', 'g8nf7', 'g8ng7', 'g8nh7', 'g8na6', 'g8nb6', 'g8nc6', 'g8nd6', 'g8ne6', 'g8nf6', 'g8ng6', 'g8nh6', 'g8na5', 'g8nb5', 'g8nc5', 'g8nd5', 'g8ne5', 'g8nf5', 'g8ng5', 'g8nh5', 'g8na4', 'g8nb4', 'g8nc4', 'g8nd4', 'g8ne4', 'g8nf4', 'g8ng4', 'g8nh4', 'g8na3', 'g8nb3', 'g8nc3', 'g8nd3', 'g8ne3', 'g8nf3', 'g8ng3', 'g8nh3', 'g8na2', 'g8nb2', 'g8nc2', 'g8nd2', 'g8ne2', 'g8nf2', 'g8ng2', 'g8nh2', 'g8na1', 'g8nb1', 'g8nc1', 'g8nd1', 'g8ne1', 'g8nf1', 'g8ng1', 'g8nh1', 'h8na8q', 'h8nb8q', 'h8nc8q', 'h8nd8q', 'h8ne8q', 'h8nf8q', 'h8ng8q', 'h8nh8q', 'h8na8r', 'h8nb8r', 'h8nc8r', 'h8nd8r', 'h8ne8r', 'h8nf8r', 'h8ng8r', 'h8nh8r', 'h8na8b', 'h8nb8b', 'h8nc8b', 'h8nd8b', 'h8ne8b', 'h8nf8b', 'h8ng8b', 'h8nh8b', 'h8na8n', 'h8nb8n', 'h8nc8n', 'h8nd8n', 'h8ne8n', 'h8nf8n', 'h8ng8n', 'h8nh8n', 'h8na8', 'h8nb8', 'h8nc8', 'h8nd8', 'h8ne8', 'h8nf8', 'h8ng8', 'h8nh8', 'h8na7', 'h8nb7', 'h8nc7', 'h8nd7', 'h8ne7', 'h8nf7', 'h8ng7', 'h8nh7', 'h8na6', 'h8nb6', 'h8nc6', 'h8nd6', 'h8ne6', 'h8nf6', 'h8ng6', 'h8nh6', 'h8na5', 'h8nb5', 'h8nc5', 'h8nd5', 'h8ne5', 'h8nf5', 'h8ng5', 'h8nh5', 'h8na4', 'h8nb4', 'h8nc4', 'h8nd4', 'h8ne4', 'h8nf4', 'h8ng4', 'h8nh4', 'h8na3', 'h8nb3', 'h8nc3', 'h8nd3', 'h8ne3', 'h8nf3', 'h8ng3', 'h8nh3', 'h8na2', 'h8nb2', 'h8nc2', 'h8nd2', 'h8ne2', 'h8nf2', 'h8ng2', 'h8nh2', 'h8na1', 'h8nb1', 'h8nc1', 'h8nd1', 'h8ne1', 'h8nf1', 'h8ng1', 'h8nh1', 'a8a8q', 'a8b8q', 'a8c8q', 'a8d8q', 'a8e8q', 'a8f8q', 'a8g8q', 'a8h8q', 'a8a8r', 'a8b8r', 'a8c8r', 'a8d8r', 'a8e8r', 'a8f8r', 'a8g8r', 'a8h8r', 'a8a8b', 'a8b8b', 'a8c8b', 'a8d8b', 'a8e8b', 'a8f8b', 'a8g8b', 'a8h8b', 'a8a8n', 'a8b8n', 'a8c8n', 'a8d8n', 'a8e8n', 'a8f8n', 'a8g8n', 'a8h8n', 'a8a8', 'a8b8', 'a8c8', 'a8d8', 'a8e8', 'a8f8', 'a8g8', 'a8h8', 'a8a7', 'a8b7', 'a8c7', 'a8d7', 'a8e7', 'a8f7', 'a8g7', 'a8h7', 'a8a6', 'a8b6', 'a8c6', 'a8d6', 'a8e6', 'a8f6', 'a8g6', 'a8h6', 'a8a5', 'a8b5', 'a8c5', 'a8d5', 'a8e5', 'a8f5', 'a8g5', 'a8h5', 'a8a4', 'a8b4', 'a8c4', 'a8d4', 'a8e4', 'a8f4', 'a8g4', 'a8h4', 'a8a3', 'a8b3', 'a8c3', 'a8d3', 'a8e3', 'a8f3', 'a8g3', 'a8h3', 'a8a2', 'a8b2', 'a8c2', 'a8d2', 'a8e2', 'a8f2', 'a8g2', 'a8h2', 'a8a1', 'a8b1', 'a8c1', 'a8d1', 'a8e1', 'a8f1', 'a8g1', 'a8h1', 'b8a8q', 'b8b8q', 'b8c8q', 'b8d8q', 'b8e8q', 'b8f8q', 'b8g8q', 'b8h8q', 'b8a8r', 'b8b8r', 'b8c8r', 'b8d8r', 'b8e8r', 'b8f8r', 'b8g8r', 'b8h8r', 'b8a8b', 'b8b8b', 'b8c8b', 'b8d8b', 'b8e8b', 'b8f8b', 'b8g8b', 'b8h8b', 'b8a8n', 'b8b8n', 'b8c8n', 'b8d8n', 'b8e8n', 'b8f8n', 'b8g8n', 'b8h8n', 'b8a8', 'b8b8', 'b8c8', 'b8d8', 'b8e8', 'b8f8', 'b8g8', 'b8h8', 'b8a7', 'b8b7', 'b8c7', 'b8d7', 'b8e7', 'b8f7', 'b8g7', 'b8h7', 'b8a6', 'b8b6', 'b8c6', 'b8d6', 'b8e6', 'b8f6', 'b8g6', 'b8h6', 'b8a5', 'b8b5', 'b8c5', 'b8d5', 'b8e5', 'b8f5', 'b8g5', 'b8h5', 'b8a4', 'b8b4', 'b8c4', 'b8d4', 'b8e4', 'b8f4', 'b8g4', 'b8h4', 'b8a3', 'b8b3', 'b8c3', 'b8d3', 'b8e3', 'b8f3', 'b8g3', 'b8h3', 'b8a2', 'b8b2', 'b8c2', 'b8d2', 'b8e2', 'b8f2', 'b8g2', 'b8h2', 'b8a1', 'b8b1', 'b8c1', 'b8d1', 'b8e1', 'b8f1', 'b8g1', 'b8h1', 'c8a8q', 'c8b8q', 'c8c8q', 'c8d8q', 'c8e8q', 'c8f8q', 'c8g8q', 'c8h8q', 'c8a8r', 'c8b8r', 'c8c8r', 'c8d8r', 'c8e8r', 'c8f8r', 'c8g8r', 'c8h8r', 'c8a8b', 'c8b8b', 'c8c8b', 'c8d8b', 'c8e8b', 'c8f8b', 'c8g8b', 'c8h8b', 'c8a8n', 'c8b8n', 'c8c8n', 'c8d8n', 'c8e8n', 'c8f8n', 'c8g8n', 'c8h8n', 'c8a8', 'c8b8', 'c8c8', 'c8d8', 'c8e8', 'c8f8', 'c8g8', 'c8h8', 'c8a7', 'c8b7', 'c8c7', 'c8d7', 'c8e7', 'c8f7', 'c8g7', 'c8h7', 'c8a6', 'c8b6', 'c8c6', 'c8d6', 'c8e6', 'c8f6', 'c8g6', 'c8h6', 'c8a5', 'c8b5', 'c8c5', 'c8d5', 'c8e5', 'c8f5', 'c8g5', 'c8h5', 'c8a4', 'c8b4', 'c8c4', 'c8d4', 'c8e4', 'c8f4', 'c8g4', 'c8h4', 'c8a3', 'c8b3', 'c8c3', 'c8d3', 'c8e3', 'c8f3', 'c8g3', 'c8h3', 'c8a2', 'c8b2', 'c8c2', 'c8d2', 'c8e2', 'c8f2', 'c8g2', 'c8h2', 'c8a1', 'c8b1', 'c8c1', 'c8d1', 'c8e1', 'c8f1', 'c8g1', 'c8h1', 'd8a8q', 'd8b8q', 'd8c8q', 'd8d8q', 'd8e8q', 'd8f8q', 'd8g8q', 'd8h8q', 'd8a8r', 'd8b8r', 'd8c8r', 'd8d8r', 'd8e8r', 'd8f8r', 'd8g8r', 'd8h8r', 'd8a8b', 'd8b8b', 'd8c8b', 'd8d8b', 'd8e8b', 'd8f8b', 'd8g8b', 'd8h8b', 'd8a8n', 'd8b8n', 'd8c8n', 'd8d8n', 'd8e8n', 'd8f8n', 'd8g8n', 'd8h8n', 'd8a8', 'd8b8', 'd8c8', 'd8d8', 'd8e8', 'd8f8', 'd8g8', 'd8h8', 'd8a7', 'd8b7', 'd8c7', 'd8d7', 'd8e7', 'd8f7', 'd8g7', 'd8h7', 'd8a6', 'd8b6', 'd8c6', 'd8d6', 'd8e6', 'd8f6', 'd8g6', 'd8h6', 'd8a5', 'd8b5', 'd8c5', 'd8d5', 'd8e5', 'd8f5', 'd8g5', 'd8h5', 'd8a4', 'd8b4', 'd8c4', 'd8d4', 'd8e4', 'd8f4', 'd8g4', 'd8h4', 'd8a3', 'd8b3', 'd8c3', 'd8d3', 'd8e3', 'd8f3', 'd8g3', 'd8h3', 'd8a2', 'd8b2', 'd8c2', 'd8d2', 'd8e2', 'd8f2', 'd8g2', 'd8h2', 'd8a1', 'd8b1', 'd8c1', 'd8d1', 'd8e1', 'd8f1', 'd8g1', 'd8h1', 'e8a8q', 'e8b8q', 'e8c8q', 'e8d8q', 'e8e8q', 'e8f8q', 'e8g8q', 'e8h8q', 'e8a8r', 'e8b8r', 'e8c8r', 'e8d8r', 'e8e8r', 'e8f8r', 'e8g8r', 'e8h8r', 'e8a8b', 'e8b8b', 'e8c8b', 'e8d8b', 'e8e8b', 'e8f8b', 'e8g8b', 'e8h8b', 'e8a8n', 'e8b8n', 'e8c8n', 'e8d8n', 'e8e8n', 'e8f8n', 'e8g8n', 'e8h8n', 'e8a8', 'e8b8', 'e8c8', 'e8d8', 'e8e8', 'e8f8', 'e8g8', 'e8h8', 'e8a7', 'e8b7', 'e8c7', 'e8d7', 'e8e7', 'e8f7', 'e8g7', 'e8h7', 'e8a6', 'e8b6', 'e8c6', 'e8d6', 'e8e6', 'e8f6', 'e8g6', 'e8h6', 'e8a5', 'e8b5', 'e8c5', 'e8d5', 'e8e5', 'e8f5', 'e8g5', 'e8h5', 'e8a4', 'e8b4', 'e8c4', 'e8d4', 'e8e4', 'e8f4', 'e8g4', 'e8h4', 'e8a3', 'e8b3', 'e8c3', 'e8d3', 'e8e3', 'e8f3', 'e8g3', 'e8h3', 'e8a2', 'e8b2', 'e8c2', 'e8d2', 'e8e2', 'e8f2', 'e8g2', 'e8h2', 'e8a1', 'e8b1', 'e8c1', 'e8d1', 'e8e1', 'e8f1', 'e8g1', 'e8h1', 'f8a8q', 'f8b8q', 'f8c8q', 'f8d8q', 'f8e8q', 'f8f8q', 'f8g8q', 'f8h8q', 'f8a8r', 'f8b8r', 'f8c8r', 'f8d8r', 'f8e8r', 'f8f8r', 'f8g8r', 'f8h8r', 'f8a8b', 'f8b8b', 'f8c8b', 'f8d8b', 'f8e8b', 'f8f8b', 'f8g8b', 'f8h8b', 'f8a8n', 'f8b8n', 'f8c8n', 'f8d8n', 'f8e8n', 'f8f8n', 'f8g8n', 'f8h8n', 'f8a8', 'f8b8', 'f8c8', 'f8d8', 'f8e8', 'f8f8', 'f8g8', 'f8h8', 'f8a7', 'f8b7', 'f8c7', 'f8d7', 'f8e7', 'f8f7', 'f8g7', 'f8h7', 'f8a6', 'f8b6', 'f8c6', 'f8d6', 'f8e6', 'f8f6', 'f8g6', 'f8h6', 'f8a5', 'f8b5', 'f8c5', 'f8d5', 'f8e5', 'f8f5', 'f8g5', 'f8h5', 'f8a4', 'f8b4', 'f8c4', 'f8d4', 'f8e4', 'f8f4', 'f8g4', 'f8h4', 'f8a3', 'f8b3', 'f8c3', 'f8d3', 'f8e3', 'f8f3', 'f8g3', 'f8h3', 'f8a2', 'f8b2', 'f8c2', 'f8d2', 'f8e2', 'f8f2', 'f8g2', 'f8h2', 'f8a1', 'f8b1', 'f8c1', 'f8d1', 'f8e1', 'f8f1', 'f8g1', 'f8h1', 'g8a8q', 'g8b8q', 'g8c8q', 'g8d8q', 'g8e8q', 'g8f8q', 'g8g8q', 'g8h8q', 'g8a8r', 'g8b8r', 'g8c8r', 'g8d8r', 'g8e8r', 'g8f8r', 'g8g8r', 'g8h8r', 'g8a8b', 'g8b8b', 'g8c8b', 'g8d8b', 'g8e8b', 'g8f8b', 'g8g8b', 'g8h8b', 'g8a8n', 'g8b8n', 'g8c8n', 'g8d8n', 'g8e8n', 'g8f8n', 'g8g8n', 'g8h8n', 'g8a8', 'g8b8', 'g8c8', 'g8d8', 'g8e8', 'g8f8', 'g8g8', 'g8h8', 'g8a7', 'g8b7', 'g8c7', 'g8d7', 'g8e7', 'g8f7', 'g8g7', 'g8h7', 'g8a6', 'g8b6', 'g8c6', 'g8d6', 'g8e6', 'g8f6', 'g8g6', 'g8h6', 'g8a5', 'g8b5', 'g8c5', 'g8d5', 'g8e5', 'g8f5', 'g8g5', 'g8h5', 'g8a4', 'g8b4', 'g8c4', 'g8d4', 'g8e4', 'g8f4', 'g8g4', 'g8h4', 'g8a3', 'g8b3', 'g8c3', 'g8d3', 'g8e3', 'g8f3', 'g8g3', 'g8h3', 'g8a2', 'g8b2', 'g8c2', 'g8d2', 'g8e2', 'g8f2', 'g8g2', 'g8h2', 'g8a1', 'g8b1', 'g8c1', 'g8d1', 'g8e1', 'g8f1', 'g8g1', 'g8h1', 'h8a8q', 'h8b8q', 'h8c8q', 'h8d8q', 'h8e8q', 'h8f8q', 'h8g8q', 'h8h8q', 'h8a8r', 'h8b8r', 'h8c8r', 'h8d8r', 'h8e8r', 'h8f8r', 'h8g8r', 'h8h8r', 'h8a8b', 'h8b8b', 'h8c8b', 'h8d8b', 'h8e8b', 'h8f8b', 'h8g8b', 'h8h8b', 'h8a8n', 'h8b8n', 'h8c8n', 'h8d8n', 'h8e8n', 'h8f8n', 'h8g8n', 'h8h8n', 'h8a8', 'h8b8', 'h8c8', 'h8d8', 'h8e8', 'h8f8', 'h8g8', 'h8h8', 'h8a7', 'h8b7', 'h8c7', 'h8d7', 'h8e7', 'h8f7', 'h8g7', 'h8h7', 'h8a6', 'h8b6', 'h8c6', 'h8d6', 'h8e6', 'h8f6', 'h8g6', 'h8h6', 'h8a5', 'h8b5', 'h8c5', 'h8d5', 'h8e5', 'h8f5', 'h8g5', 'h8h5', 'h8a4', 'h8b4', 'h8c4', 'h8d4', 'h8e4', 'h8f4', 'h8g4', 'h8h4', 'h8a3', 'h8b3', 'h8c3', 'h8d3', 'h8e3', 'h8f3', 'h8g3', 'h8h3', 'h8a2', 'h8b2', 'h8c2', 'h8d2', 'h8e2', 'h8f2', 'h8g2', 'h8h2', 'h8a1', 'h8b1', 'h8c1', 'h8d1', 'h8e1', 'h8f1', 'h8g1', 'h8h1', 'a7a8q', 'a7b8q', 'a7c8q', 'a7d8q', 'a7e8q', 'a7f8q', 'a7g8q', 'a7h8q', 'a7a8r', 'a7b8r', 'a7c8r', 'a7d8r', 'a7e8r', 'a7f8r', 'a7g8r', 'a7h8r', 'a7a8b', 'a7b8b', 'a7c8b', 'a7d8b', 'a7e8b', 'a7f8b', 'a7g8b', 'a7h8b', 'a7a8n', 'a7b8n', 'a7c8n', 'a7d8n', 'a7e8n', 'a7f8n', 'a7g8n', 'a7h8n', 'a7a8', 'a7b8', 'a7c8', 'a7d8', 'a7e8', 'a7f8', 'a7g8', 'a7h8', 'a7a7', 'a7b7', 'a7c7', 'a7d7', 'a7e7', 'a7f7', 'a7g7', 'a7h7', 'a7a6', 'a7b6', 'a7c6', 'a7d6', 'a7e6', 'a7f6', 'a7g6', 'a7h6', 'a7a5', 'a7b5', 'a7c5', 'a7d5', 'a7e5', 'a7f5', 'a7g5', 'a7h5', 'a7a4', 'a7b4', 'a7c4', 'a7d4', 'a7e4', 'a7f4', 'a7g4', 'a7h4', 'a7a3', 'a7b3', 'a7c3', 'a7d3', 'a7e3', 'a7f3', 'a7g3', 'a7h3', 'a7a2', 'a7b2', 'a7c2', 'a7d2', 'a7e2', 'a7f2', 'a7g2', 'a7h2', 'a7a1', 'a7b1', 'a7c1', 'a7d1', 'a7e1', 'a7f1', 'a7g1', 'a7h1', 'b7a8q', 'b7b8q', 'b7c8q', 'b7d8q', 'b7e8q', 'b7f8q', 'b7g8q', 'b7h8q', 'b7a8r', 'b7b8r', 'b7c8r', 'b7d8r', 'b7e8r', 'b7f8r', 'b7g8r', 'b7h8r', 'b7a8b', 'b7b8b', 'b7c8b', 'b7d8b', 'b7e8b', 'b7f8b', 'b7g8b', 'b7h8b', 'b7a8n', 'b7b8n', 'b7c8n', 'b7d8n', 'b7e8n', 'b7f8n', 'b7g8n', 'b7h8n', 'b7a8', 'b7b8', 'b7c8', 'b7d8', 'b7e8', 'b7f8', 'b7g8', 'b7h8', 'b7a7', 'b7b7', 'b7c7', 'b7d7', 'b7e7', 'b7f7', 'b7g7', 'b7h7', 'b7a6', 'b7b6', 'b7c6', 'b7d6', 'b7e6', 'b7f6', 'b7g6', 'b7h6', 'b7a5', 'b7b5', 'b7c5', 'b7d5', 'b7e5', 'b7f5', 'b7g5', 'b7h5', 'b7a4', 'b7b4', 'b7c4', 'b7d4', 'b7e4', 'b7f4', 'b7g4', 'b7h4', 'b7a3', 'b7b3', 'b7c3', 'b7d3', 'b7e3', 'b7f3', 'b7g3', 'b7h3', 'b7a2', 'b7b2', 'b7c2', 'b7d2', 'b7e2', 'b7f2', 'b7g2', 'b7h2', 'b7a1', 'b7b1', 'b7c1', 'b7d1', 'b7e1', 'b7f1', 'b7g1', 'b7h1', 'c7a8q', 'c7b8q', 'c7c8q', 'c7d8q', 'c7e8q', 'c7f8q', 'c7g8q', 'c7h8q', 'c7a8r', 'c7b8r', 'c7c8r', 'c7d8r', 'c7e8r', 'c7f8r', 'c7g8r', 'c7h8r', 'c7a8b', 'c7b8b', 'c7c8b', 'c7d8b', 'c7e8b', 'c7f8b', 'c7g8b', 'c7h8b', 'c7a8n', 'c7b8n', 'c7c8n', 'c7d8n', 'c7e8n', 'c7f8n', 'c7g8n', 'c7h8n', 'c7a8', 'c7b8', 'c7c8', 'c7d8', 'c7e8', 'c7f8', 'c7g8', 'c7h8', 'c7a7', 'c7b7', 'c7c7', 'c7d7', 'c7e7', 'c7f7', 'c7g7', 'c7h7', 'c7a6', 'c7b6', 'c7c6', 'c7d6', 'c7e6', 'c7f6', 'c7g6', 'c7h6', 'c7a5', 'c7b5', 'c7c5', 'c7d5', 'c7e5', 'c7f5', 'c7g5', 'c7h5', 'c7a4', 'c7b4', 'c7c4', 'c7d4', 'c7e4', 'c7f4', 'c7g4', 'c7h4', 'c7a3', 'c7b3', 'c7c3', 'c7d3', 'c7e3', 'c7f3', 'c7g3', 'c7h3', 'c7a2', 'c7b2', 'c7c2', 'c7d2', 'c7e2', 'c7f2', 'c7g2', 'c7h2', 'c7a1', 'c7b1', 'c7c1', 'c7d1', 'c7e1', 'c7f1', 'c7g1', 'c7h1', 'd7a8q', 'd7b8q', 'd7c8q', 'd7d8q', 'd7e8q', 'd7f8q', 'd7g8q', 'd7h8q', 'd7a8r', 'd7b8r', 'd7c8r', 'd7d8r', 'd7e8r', 'd7f8r', 'd7g8r', 'd7h8r', 'd7a8b', 'd7b8b', 'd7c8b', 'd7d8b', 'd7e8b', 'd7f8b', 'd7g8b', 'd7h8b', 'd7a8n', 'd7b8n', 'd7c8n', 'd7d8n', 'd7e8n', 'd7f8n', 'd7g8n', 'd7h8n', 'd7a8', 'd7b8', 'd7c8', 'd7d8', 'd7e8', 'd7f8', 'd7g8', 'd7h8', 'd7a7', 'd7b7', 'd7c7', 'd7d7', 'd7e7', 'd7f7', 'd7g7', 'd7h7', 'd7a6', 'd7b6', 'd7c6', 'd7d6', 'd7e6', 'd7f6', 'd7g6', 'd7h6', 'd7a5', 'd7b5', 'd7c5', 'd7d5', 'd7e5', 'd7f5', 'd7g5', 'd7h5', 'd7a4', 'd7b4', 'd7c4', 'd7d4', 'd7e4', 'd7f4', 'd7g4', 'd7h4', 'd7a3', 'd7b3', 'd7c3', 'd7d3', 'd7e3', 'd7f3', 'd7g3', 'd7h3', 'd7a2', 'd7b2', 'd7c2', 'd7d2', 'd7e2', 'd7f2', 'd7g2', 'd7h2', 'd7a1', 'd7b1', 'd7c1', 'd7d1', 'd7e1', 'd7f1', 'd7g1', 'd7h1', 'e7a8q', 'e7b8q', 'e7c8q', 'e7d8q', 'e7e8q', 'e7f8q', 'e7g8q', 'e7h8q', 'e7a8r', 'e7b8r', 'e7c8r', 'e7d8r', 'e7e8r', 'e7f8r', 'e7g8r', 'e7h8r', 'e7a8b', 'e7b8b', 'e7c8b', 'e7d8b', 'e7e8b', 'e7f8b', 'e7g8b', 'e7h8b', 'e7a8n', 'e7b8n', 'e7c8n', 'e7d8n', 'e7e8n', 'e7f8n', 'e7g8n', 'e7h8n', 'e7a8', 'e7b8', 'e7c8', 'e7d8', 'e7e8', 'e7f8', 'e7g8', 'e7h8', 'e7a7', 'e7b7', 'e7c7', 'e7d7', 'e7e7', 'e7f7', 'e7g7', 'e7h7', 'e7a6', 'e7b6', 'e7c6', 'e7d6', 'e7e6', 'e7f6', 'e7g6', 'e7h6', 'e7a5', 'e7b5', 'e7c5', 'e7d5', 'e7e5', 'e7f5', 'e7g5', 'e7h5', 'e7a4', 'e7b4', 'e7c4', 'e7d4', 'e7e4', 'e7f4', 'e7g4', 'e7h4', 'e7a3', 'e7b3', 'e7c3', 'e7d3', 'e7e3', 'e7f3', 'e7g3', 'e7h3', 'e7a2', 'e7b2', 'e7c2', 'e7d2', 'e7e2', 'e7f2', 'e7g2', 'e7h2', 'e7a1', 'e7b1', 'e7c1', 'e7d1', 'e7e1', 'e7f1', 'e7g1', 'e7h1', 'f7a8q', 'f7b8q', 'f7c8q', 'f7d8q', 'f7e8q', 'f7f8q', 'f7g8q', 'f7h8q', 'f7a8r', 'f7b8r', 'f7c8r', 'f7d8r', 'f7e8r', 'f7f8r', 'f7g8r', 'f7h8r', 'f7a8b', 'f7b8b', 'f7c8b', 'f7d8b', 'f7e8b', 'f7f8b', 'f7g8b', 'f7h8b', 'f7a8n', 'f7b8n', 'f7c8n', 'f7d8n', 'f7e8n', 'f7f8n', 'f7g8n', 'f7h8n', 'f7a8', 'f7b8', 'f7c8', 'f7d8', 'f7e8', 'f7f8', 'f7g8', 'f7h8', 'f7a7', 'f7b7', 'f7c7', 'f7d7', 'f7e7', 'f7f7', 'f7g7', 'f7h7', 'f7a6', 'f7b6', 'f7c6', 'f7d6', 'f7e6', 'f7f6', 'f7g6', 'f7h6', 'f7a5', 'f7b5', 'f7c5', 'f7d5', 'f7e5', 'f7f5', 'f7g5', 'f7h5', 'f7a4', 'f7b4', 'f7c4', 'f7d4', 'f7e4', 'f7f4', 'f7g4', 'f7h4', 'f7a3', 'f7b3', 'f7c3', 'f7d3', 'f7e3', 'f7f3', 'f7g3', 'f7h3', 'f7a2', 'f7b2', 'f7c2', 'f7d2', 'f7e2', 'f7f2', 'f7g2', 'f7h2', 'f7a1', 'f7b1', 'f7c1', 'f7d1', 'f7e1', 'f7f1', 'f7g1', 'f7h1', 'g7a8q', 'g7b8q', 'g7c8q', 'g7d8q', 'g7e8q', 'g7f8q', 'g7g8q', 'g7h8q', 'g7a8r', 'g7b8r', 'g7c8r', 'g7d8r', 'g7e8r', 'g7f8r', 'g7g8r', 'g7h8r', 'g7a8b', 'g7b8b', 'g7c8b', 'g7d8b', 'g7e8b', 'g7f8b', 'g7g8b', 'g7h8b', 'g7a8n', 'g7b8n', 'g7c8n', 'g7d8n', 'g7e8n', 'g7f8n', 'g7g8n', 'g7h8n', 'g7a8', 'g7b8', 'g7c8', 'g7d8', 'g7e8', 'g7f8', 'g7g8', 'g7h8', 'g7a7', 'g7b7', 'g7c7', 'g7d7', 'g7e7', 'g7f7', 'g7g7', 'g7h7', 'g7a6', 'g7b6', 'g7c6', 'g7d6', 'g7e6', 'g7f6', 'g7g6', 'g7h6', 'g7a5', 'g7b5', 'g7c5', 'g7d5', 'g7e5', 'g7f5', 'g7g5', 'g7h5', 'g7a4', 'g7b4', 'g7c4', 'g7d4', 'g7e4', 'g7f4', 'g7g4', 'g7h4', 'g7a3', 'g7b3', 'g7c3', 'g7d3', 'g7e3', 'g7f3', 'g7g3', 'g7h3', 'g7a2', 'g7b2', 'g7c2', 'g7d2', 'g7e2', 'g7f2', 'g7g2', 'g7h2', 'g7a1', 'g7b1', 'g7c1', 'g7d1', 'g7e1', 'g7f1', 'g7g1', 'g7h1', 'h7a8q', 'h7b8q', 'h7c8q', 'h7d8q', 'h7e8q', 'h7f8q', 'h7g8q', 'h7h8q', 'h7a8r', 'h7b8r', 'h7c8r', 'h7d8r', 'h7e8r', 'h7f8r', 'h7g8r', 'h7h8r', 'h7a8b', 'h7b8b', 'h7c8b', 'h7d8b', 'h7e8b', 'h7f8b', 'h7g8b', 'h7h8b', 'h7a8n', 'h7b8n', 'h7c8n', 'h7d8n', 'h7e8n', 'h7f8n', 'h7g8n', 'h7h8n', 'h7a8', 'h7b8', 'h7c8', 'h7d8', 'h7e8', 'h7f8', 'h7g8', 'h7h8', 'h7a7', 'h7b7', 'h7c7', 'h7d7', 'h7e7', 'h7f7', 'h7g7', 'h7h7', 'h7a6', 'h7b6', 'h7c6', 'h7d6', 'h7e6', 'h7f6', 'h7g6', 'h7h6', 'h7a5', 'h7b5', 'h7c5', 'h7d5', 'h7e5', 'h7f5', 'h7g5', 'h7h5', 'h7a4', 'h7b4', 'h7c4', 'h7d4', 'h7e4', 'h7f4', 'h7g4', 'h7h4', 'h7a3', 'h7b3', 'h7c3', 'h7d3', 'h7e3', 'h7f3', 'h7g3', 'h7h3', 'h7a2', 'h7b2', 'h7c2', 'h7d2', 'h7e2', 'h7f2', 'h7g2', 'h7h2', 'h7a1', 'h7b1', 'h7c1', 'h7d1', 'h7e1', 'h7f1', 'h7g1', 'h7h1', 'a6a8q', 'a6b8q', 'a6c8q', 'a6d8q', 'a6e8q', 'a6f8q', 'a6g8q', 'a6h8q', 'a6a8r', 'a6b8r', 'a6c8r', 'a6d8r', 'a6e8r', 'a6f8r', 'a6g8r', 'a6h8r', 'a6a8b', 'a6b8b', 'a6c8b', 'a6d8b', 'a6e8b', 'a6f8b', 'a6g8b', 'a6h8b', 'a6a8n', 'a6b8n', 'a6c8n', 'a6d8n', 'a6e8n', 'a6f8n', 'a6g8n', 'a6h8n', 'a6a8', 'a6b8', 'a6c8', 'a6d8', 'a6e8', 'a6f8', 'a6g8', 'a6h8', 'a6a7', 'a6b7', 'a6c7', 'a6d7', 'a6e7', 'a6f7', 'a6g7', 'a6h7', 'a6a6', 'a6b6', 'a6c6', 'a6d6', 'a6e6', 'a6f6', 'a6g6', 'a6h6', 'a6a5', 'a6b5', 'a6c5', 'a6d5', 'a6e5', 'a6f5', 'a6g5', 'a6h5', 'a6a4', 'a6b4', 'a6c4', 'a6d4', 'a6e4', 'a6f4', 'a6g4', 'a6h4', 'a6a3', 'a6b3', 'a6c3', 'a6d3', 'a6e3', 'a6f3', 'a6g3', 'a6h3', 'a6a2', 'a6b2', 'a6c2', 'a6d2', 'a6e2', 'a6f2', 'a6g2', 'a6h2', 'a6a1', 'a6b1', 'a6c1', 'a6d1', 'a6e1', 'a6f1', 'a6g1', 'a6h1', 'b6a8q', 'b6b8q', 'b6c8q', 'b6d8q', 'b6e8q', 'b6f8q', 'b6g8q', 'b6h8q', 'b6a8r', 'b6b8r', 'b6c8r', 'b6d8r', 'b6e8r', 'b6f8r', 'b6g8r', 'b6h8r', 'b6a8b', 'b6b8b', 'b6c8b', 'b6d8b', 'b6e8b', 'b6f8b', 'b6g8b', 'b6h8b', 'b6a8n', 'b6b8n', 'b6c8n', 'b6d8n', 'b6e8n', 'b6f8n', 'b6g8n', 'b6h8n', 'b6a8', 'b6b8', 'b6c8', 'b6d8', 'b6e8', 'b6f8', 'b6g8', 'b6h8', 'b6a7', 'b6b7', 'b6c7', 'b6d7', 'b6e7', 'b6f7', 'b6g7', 'b6h7', 'b6a6', 'b6b6', 'b6c6', 'b6d6', 'b6e6', 'b6f6', 'b6g6', 'b6h6', 'b6a5', 'b6b5', 'b6c5', 'b6d5', 'b6e5', 'b6f5', 'b6g5', 'b6h5', 'b6a4', 'b6b4', 'b6c4', 'b6d4', 'b6e4', 'b6f4', 'b6g4', 'b6h4', 'b6a3', 'b6b3', 'b6c3', 'b6d3', 'b6e3', 'b6f3', 'b6g3', 'b6h3', 'b6a2', 'b6b2', 'b6c2', 'b6d2', 'b6e2', 'b6f2', 'b6g2', 'b6h2', 'b6a1', 'b6b1', 'b6c1', 'b6d1', 'b6e1', 'b6f1', 'b6g1', 'b6h1', 'c6a8q', 'c6b8q', 'c6c8q', 'c6d8q', 'c6e8q', 'c6f8q', 'c6g8q', 'c6h8q', 'c6a8r', 'c6b8r', 'c6c8r', 'c6d8r', 'c6e8r', 'c6f8r', 'c6g8r', 'c6h8r', 'c6a8b', 'c6b8b', 'c6c8b', 'c6d8b', 'c6e8b', 'c6f8b', 'c6g8b', 'c6h8b', 'c6a8n', 'c6b8n', 'c6c8n', 'c6d8n', 'c6e8n', 'c6f8n', 'c6g8n', 'c6h8n', 'c6a8', 'c6b8', 'c6c8', 'c6d8', 'c6e8', 'c6f8', 'c6g8', 'c6h8', 'c6a7', 'c6b7', 'c6c7', 'c6d7', 'c6e7', 'c6f7', 'c6g7', 'c6h7', 'c6a6', 'c6b6', 'c6c6', 'c6d6', 'c6e6', 'c6f6', 'c6g6', 'c6h6', 'c6a5', 'c6b5', 'c6c5', 'c6d5', 'c6e5', 'c6f5', 'c6g5', 'c6h5', 'c6a4', 'c6b4', 'c6c4', 'c6d4', 'c6e4', 'c6f4', 'c6g4', 'c6h4', 'c6a3', 'c6b3', 'c6c3', 'c6d3', 'c6e3', 'c6f3', 'c6g3', 'c6h3', 'c6a2', 'c6b2', 'c6c2', 'c6d2', 'c6e2', 'c6f2', 'c6g2', 'c6h2', 'c6a1', 'c6b1', 'c6c1', 'c6d1', 'c6e1', 'c6f1', 'c6g1', 'c6h1', 'd6a8q', 'd6b8q', 'd6c8q', 'd6d8q', 'd6e8q', 'd6f8q', 'd6g8q', 'd6h8q', 'd6a8r', 'd6b8r', 'd6c8r', 'd6d8r', 'd6e8r', 'd6f8r', 'd6g8r', 'd6h8r', 'd6a8b', 'd6b8b', 'd6c8b', 'd6d8b', 'd6e8b', 'd6f8b', 'd6g8b', 'd6h8b', 'd6a8n', 'd6b8n', 'd6c8n', 'd6d8n', 'd6e8n', 'd6f8n', 'd6g8n', 'd6h8n', 'd6a8', 'd6b8', 'd6c8', 'd6d8', 'd6e8', 'd6f8', 'd6g8', 'd6h8', 'd6a7', 'd6b7', 'd6c7', 'd6d7', 'd6e7', 'd6f7', 'd6g7', 'd6h7', 'd6a6', 'd6b6', 'd6c6', 'd6d6', 'd6e6', 'd6f6', 'd6g6', 'd6h6', 'd6a5', 'd6b5', 'd6c5', 'd6d5', 'd6e5', 'd6f5', 'd6g5', 'd6h5', 'd6a4', 'd6b4', 'd6c4', 'd6d4', 'd6e4', 'd6f4', 'd6g4', 'd6h4', 'd6a3', 'd6b3', 'd6c3', 'd6d3', 'd6e3', 'd6f3', 'd6g3', 'd6h3', 'd6a2', 'd6b2', 'd6c2', 'd6d2', 'd6e2', 'd6f2', 'd6g2', 'd6h2', 'd6a1', 'd6b1', 'd6c1', 'd6d1', 'd6e1', 'd6f1', 'd6g1', 'd6h1', 'e6a8q', 'e6b8q', 'e6c8q', 'e6d8q', 'e6e8q', 'e6f8q', 'e6g8q', 'e6h8q', 'e6a8r', 'e6b8r', 'e6c8r', 'e6d8r', 'e6e8r', 'e6f8r', 'e6g8r', 'e6h8r', 'e6a8b', 'e6b8b', 'e6c8b', 'e6d8b', 'e6e8b', 'e6f8b', 'e6g8b', 'e6h8b', 'e6a8n', 'e6b8n', 'e6c8n', 'e6d8n', 'e6e8n', 'e6f8n', 'e6g8n', 'e6h8n', 'e6a8', 'e6b8', 'e6c8', 'e6d8', 'e6e8', 'e6f8', 'e6g8', 'e6h8', 'e6a7', 'e6b7', 'e6c7', 'e6d7', 'e6e7', 'e6f7', 'e6g7', 'e6h7', 'e6a6', 'e6b6', 'e6c6', 'e6d6', 'e6e6', 'e6f6', 'e6g6', 'e6h6', 'e6a5', 'e6b5', 'e6c5', 'e6d5', 'e6e5', 'e6f5', 'e6g5', 'e6h5', 'e6a4', 'e6b4', 'e6c4', 'e6d4', 'e6e4', 'e6f4', 'e6g4', 'e6h4', 'e6a3', 'e6b3', 'e6c3', 'e6d3', 'e6e3', 'e6f3', 'e6g3', 'e6h3', 'e6a2', 'e6b2', 'e6c2', 'e6d2', 'e6e2', 'e6f2', 'e6g2', 'e6h2', 'e6a1', 'e6b1', 'e6c1', 'e6d1', 'e6e1', 'e6f1', 'e6g1', 'e6h1', 'f6a8q', 'f6b8q', 'f6c8q', 'f6d8q', 'f6e8q', 'f6f8q', 'f6g8q', 'f6h8q', 'f6a8r', 'f6b8r', 'f6c8r', 'f6d8r', 'f6e8r', 'f6f8r', 'f6g8r', 'f6h8r', 'f6a8b', 'f6b8b', 'f6c8b', 'f6d8b', 'f6e8b', 'f6f8b', 'f6g8b', 'f6h8b', 'f6a8n', 'f6b8n', 'f6c8n', 'f6d8n', 'f6e8n', 'f6f8n', 'f6g8n', 'f6h8n', 'f6a8', 'f6b8', 'f6c8', 'f6d8', 'f6e8', 'f6f8', 'f6g8', 'f6h8', 'f6a7', 'f6b7', 'f6c7', 'f6d7', 'f6e7', 'f6f7', 'f6g7', 'f6h7', 'f6a6', 'f6b6', 'f6c6', 'f6d6', 'f6e6', 'f6f6', 'f6g6', 'f6h6', 'f6a5', 'f6b5', 'f6c5', 'f6d5', 'f6e5', 'f6f5', 'f6g5', 'f6h5', 'f6a4', 'f6b4', 'f6c4', 'f6d4', 'f6e4', 'f6f4', 'f6g4', 'f6h4', 'f6a3', 'f6b3', 'f6c3', 'f6d3', 'f6e3', 'f6f3', 'f6g3', 'f6h3', 'f6a2', 'f6b2', 'f6c2', 'f6d2', 'f6e2', 'f6f2', 'f6g2', 'f6h2', 'f6a1', 'f6b1', 'f6c1', 'f6d1', 'f6e1', 'f6f1', 'f6g1', 'f6h1', 'g6a8q', 'g6b8q', 'g6c8q', 'g6d8q', 'g6e8q', 'g6f8q', 'g6g8q', 'g6h8q', 'g6a8r', 'g6b8r', 'g6c8r', 'g6d8r', 'g6e8r', 'g6f8r', 'g6g8r', 'g6h8r', 'g6a8b', 'g6b8b', 'g6c8b', 'g6d8b', 'g6e8b', 'g6f8b', 'g6g8b', 'g6h8b', 'g6a8n', 'g6b8n', 'g6c8n', 'g6d8n', 'g6e8n', 'g6f8n', 'g6g8n', 'g6h8n', 'g6a8', 'g6b8', 'g6c8', 'g6d8', 'g6e8', 'g6f8', 'g6g8', 'g6h8', 'g6a7', 'g6b7', 'g6c7', 'g6d7', 'g6e7', 'g6f7', 'g6g7', 'g6h7', 'g6a6', 'g6b6', 'g6c6', 'g6d6', 'g6e6', 'g6f6', 'g6g6', 'g6h6', 'g6a5', 'g6b5', 'g6c5', 'g6d5', 'g6e5', 'g6f5', 'g6g5', 'g6h5', 'g6a4', 'g6b4', 'g6c4', 'g6d4', 'g6e4', 'g6f4', 'g6g4', 'g6h4', 'g6a3', 'g6b3', 'g6c3', 'g6d3', 'g6e3', 'g6f3', 'g6g3', 'g6h3', 'g6a2', 'g6b2', 'g6c2', 'g6d2', 'g6e2', 'g6f2', 'g6g2', 'g6h2', 'g6a1', 'g6b1', 'g6c1', 'g6d1', 'g6e1', 'g6f1', 'g6g1', 'g6h1', 'h6a8q', 'h6b8q', 'h6c8q', 'h6d8q', 'h6e8q', 'h6f8q', 'h6g8q', 'h6h8q', 'h6a8r', 'h6b8r', 'h6c8r', 'h6d8r', 'h6e8r', 'h6f8r', 'h6g8r', 'h6h8r', 'h6a8b', 'h6b8b', 'h6c8b', 'h6d8b', 'h6e8b', 'h6f8b', 'h6g8b', 'h6h8b', 'h6a8n', 'h6b8n', 'h6c8n', 'h6d8n', 'h6e8n', 'h6f8n', 'h6g8n', 'h6h8n', 'h6a8', 'h6b8', 'h6c8', 'h6d8', 'h6e8', 'h6f8', 'h6g8', 'h6h8', 'h6a7', 'h6b7', 'h6c7', 'h6d7', 'h6e7', 'h6f7', 'h6g7', 'h6h7', 'h6a6', 'h6b6', 'h6c6', 'h6d6', 'h6e6', 'h6f6', 'h6g6', 'h6h6', 'h6a5', 'h6b5', 'h6c5', 'h6d5', 'h6e5', 'h6f5', 'h6g5', 'h6h5', 'h6a4', 'h6b4', 'h6c4', 'h6d4', 'h6e4', 'h6f4', 'h6g4', 'h6h4', 'h6a3', 'h6b3', 'h6c3', 'h6d3', 'h6e3', 'h6f3', 'h6g3', 'h6h3', 'h6a2', 'h6b2', 'h6c2', 'h6d2', 'h6e2', 'h6f2', 'h6g2', 'h6h2', 'h6a1', 'h6b1', 'h6c1', 'h6d1', 'h6e1', 'h6f1', 'h6g1', 'h6h1', 'a5a8q', 'a5b8q', 'a5c8q', 'a5d8q', 'a5e8q', 'a5f8q', 'a5g8q', 'a5h8q', 'a5a8r', 'a5b8r', 'a5c8r', 'a5d8r', 'a5e8r', 'a5f8r', 'a5g8r', 'a5h8r', 'a5a8b', 'a5b8b', 'a5c8b', 'a5d8b', 'a5e8b', 'a5f8b', 'a5g8b', 'a5h8b', 'a5a8n', 'a5b8n', 'a5c8n', 'a5d8n', 'a5e8n', 'a5f8n', 'a5g8n', 'a5h8n', 'a5a8', 'a5b8', 'a5c8', 'a5d8', 'a5e8', 'a5f8', 'a5g8', 'a5h8', 'a5a7', 'a5b7', 'a5c7', 'a5d7', 'a5e7', 'a5f7', 'a5g7', 'a5h7', 'a5a6', 'a5b6', 'a5c6', 'a5d6', 'a5e6', 'a5f6', 'a5g6', 'a5h6', 'a5a5', 'a5b5', 'a5c5', 'a5d5', 'a5e5', 'a5f5', 'a5g5', 'a5h5', 'a5a4', 'a5b4', 'a5c4', 'a5d4', 'a5e4', 'a5f4', 'a5g4', 'a5h4', 'a5a3', 'a5b3', 'a5c3', 'a5d3', 'a5e3', 'a5f3', 'a5g3', 'a5h3', 'a5a2', 'a5b2', 'a5c2', 'a5d2', 'a5e2', 'a5f2', 'a5g2', 'a5h2', 'a5a1', 'a5b1', 'a5c1', 'a5d1', 'a5e1', 'a5f1', 'a5g1', 'a5h1', 'b5a8q', 'b5b8q', 'b5c8q', 'b5d8q', 'b5e8q', 'b5f8q', 'b5g8q', 'b5h8q', 'b5a8r', 'b5b8r', 'b5c8r', 'b5d8r', 'b5e8r', 'b5f8r', 'b5g8r', 'b5h8r', 'b5a8b', 'b5b8b', 'b5c8b', 'b5d8b', 'b5e8b', 'b5f8b', 'b5g8b', 'b5h8b', 'b5a8n', 'b5b8n', 'b5c8n', 'b5d8n', 'b5e8n', 'b5f8n', 'b5g8n', 'b5h8n', 'b5a8', 'b5b8', 'b5c8', 'b5d8', 'b5e8', 'b5f8', 'b5g8', 'b5h8', 'b5a7', 'b5b7', 'b5c7', 'b5d7', 'b5e7', 'b5f7', 'b5g7', 'b5h7', 'b5a6', 'b5b6', 'b5c6', 'b5d6', 'b5e6', 'b5f6', 'b5g6', 'b5h6', 'b5a5', 'b5b5', 'b5c5', 'b5d5', 'b5e5', 'b5f5', 'b5g5', 'b5h5', 'b5a4', 'b5b4', 'b5c4', 'b5d4', 'b5e4', 'b5f4', 'b5g4', 'b5h4', 'b5a3', 'b5b3', 'b5c3', 'b5d3', 'b5e3', 'b5f3', 'b5g3', 'b5h3', 'b5a2', 'b5b2', 'b5c2', 'b5d2', 'b5e2', 'b5f2', 'b5g2', 'b5h2', 'b5a1', 'b5b1', 'b5c1', 'b5d1', 'b5e1', 'b5f1', 'b5g1', 'b5h1', 'c5a8q', 'c5b8q', 'c5c8q', 'c5d8q', 'c5e8q', 'c5f8q', 'c5g8q', 'c5h8q', 'c5a8r', 'c5b8r', 'c5c8r', 'c5d8r', 'c5e8r', 'c5f8r', 'c5g8r', 'c5h8r', 'c5a8b', 'c5b8b', 'c5c8b', 'c5d8b', 'c5e8b', 'c5f8b', 'c5g8b', 'c5h8b', 'c5a8n', 'c5b8n', 'c5c8n', 'c5d8n', 'c5e8n', 'c5f8n', 'c5g8n', 'c5h8n', 'c5a8', 'c5b8', 'c5c8', 'c5d8', 'c5e8', 'c5f8', 'c5g8', 'c5h8', 'c5a7', 'c5b7', 'c5c7', 'c5d7', 'c5e7', 'c5f7', 'c5g7', 'c5h7', 'c5a6', 'c5b6', 'c5c6', 'c5d6', 'c5e6', 'c5f6', 'c5g6', 'c5h6', 'c5a5', 'c5b5', 'c5c5', 'c5d5', 'c5e5', 'c5f5', 'c5g5', 'c5h5', 'c5a4', 'c5b4', 'c5c4', 'c5d4', 'c5e4', 'c5f4', 'c5g4', 'c5h4', 'c5a3', 'c5b3', 'c5c3', 'c5d3', 'c5e3', 'c5f3', 'c5g3', 'c5h3', 'c5a2', 'c5b2', 'c5c2', 'c5d2', 'c5e2', 'c5f2', 'c5g2', 'c5h2', 'c5a1', 'c5b1', 'c5c1', 'c5d1', 'c5e1', 'c5f1', 'c5g1', 'c5h1', 'd5a8q', 'd5b8q', 'd5c8q', 'd5d8q', 'd5e8q', 'd5f8q', 'd5g8q', 'd5h8q', 'd5a8r', 'd5b8r', 'd5c8r', 'd5d8r', 'd5e8r', 'd5f8r', 'd5g8r', 'd5h8r', 'd5a8b', 'd5b8b', 'd5c8b', 'd5d8b', 'd5e8b', 'd5f8b', 'd5g8b', 'd5h8b', 'd5a8n', 'd5b8n', 'd5c8n', 'd5d8n', 'd5e8n', 'd5f8n', 'd5g8n', 'd5h8n', 'd5a8', 'd5b8', 'd5c8', 'd5d8', 'd5e8', 'd5f8', 'd5g8', 'd5h8', 'd5a7', 'd5b7', 'd5c7', 'd5d7', 'd5e7', 'd5f7', 'd5g7', 'd5h7', 'd5a6', 'd5b6', 'd5c6', 'd5d6', 'd5e6', 'd5f6', 'd5g6', 'd5h6', 'd5a5', 'd5b5', 'd5c5', 'd5d5', 'd5e5', 'd5f5', 'd5g5', 'd5h5', 'd5a4', 'd5b4', 'd5c4', 'd5d4', 'd5e4', 'd5f4', 'd5g4', 'd5h4', 'd5a3', 'd5b3', 'd5c3', 'd5d3', 'd5e3', 'd5f3', 'd5g3', 'd5h3', 'd5a2', 'd5b2', 'd5c2', 'd5d2', 'd5e2', 'd5f2', 'd5g2', 'd5h2', 'd5a1', 'd5b1', 'd5c1', 'd5d1', 'd5e1', 'd5f1', 'd5g1', 'd5h1', 'e5a8q', 'e5b8q', 'e5c8q', 'e5d8q', 'e5e8q', 'e5f8q', 'e5g8q', 'e5h8q', 'e5a8r', 'e5b8r', 'e5c8r', 'e5d8r', 'e5e8r', 'e5f8r', 'e5g8r', 'e5h8r', 'e5a8b', 'e5b8b', 'e5c8b', 'e5d8b', 'e5e8b', 'e5f8b', 'e5g8b', 'e5h8b', 'e5a8n', 'e5b8n', 'e5c8n', 'e5d8n', 'e5e8n', 'e5f8n', 'e5g8n', 'e5h8n', 'e5a8', 'e5b8', 'e5c8', 'e5d8', 'e5e8', 'e5f8', 'e5g8', 'e5h8', 'e5a7', 'e5b7', 'e5c7', 'e5d7', 'e5e7', 'e5f7', 'e5g7', 'e5h7', 'e5a6', 'e5b6', 'e5c6', 'e5d6', 'e5e6', 'e5f6', 'e5g6', 'e5h6', 'e5a5', 'e5b5', 'e5c5', 'e5d5', 'e5e5', 'e5f5', 'e5g5', 'e5h5', 'e5a4', 'e5b4', 'e5c4', 'e5d4', 'e5e4', 'e5f4', 'e5g4', 'e5h4', 'e5a3', 'e5b3', 'e5c3', 'e5d3', 'e5e3', 'e5f3', 'e5g3', 'e5h3', 'e5a2', 'e5b2', 'e5c2', 'e5d2', 'e5e2', 'e5f2', 'e5g2', 'e5h2', 'e5a1', 'e5b1', 'e5c1', 'e5d1', 'e5e1', 'e5f1', 'e5g1', 'e5h1', 'f5a8q', 'f5b8q', 'f5c8q', 'f5d8q', 'f5e8q', 'f5f8q', 'f5g8q', 'f5h8q', 'f5a8r', 'f5b8r', 'f5c8r', 'f5d8r', 'f5e8r', 'f5f8r', 'f5g8r', 'f5h8r', 'f5a8b', 'f5b8b', 'f5c8b', 'f5d8b', 'f5e8b', 'f5f8b', 'f5g8b', 'f5h8b', 'f5a8n', 'f5b8n', 'f5c8n', 'f5d8n', 'f5e8n', 'f5f8n', 'f5g8n', 'f5h8n', 'f5a8', 'f5b8', 'f5c8', 'f5d8', 'f5e8', 'f5f8', 'f5g8', 'f5h8', 'f5a7', 'f5b7', 'f5c7', 'f5d7', 'f5e7', 'f5f7', 'f5g7', 'f5h7', 'f5a6', 'f5b6', 'f5c6', 'f5d6', 'f5e6', 'f5f6', 'f5g6', 'f5h6', 'f5a5', 'f5b5', 'f5c5', 'f5d5', 'f5e5', 'f5f5', 'f5g5', 'f5h5', 'f5a4', 'f5b4', 'f5c4', 'f5d4', 'f5e4', 'f5f4', 'f5g4', 'f5h4', 'f5a3', 'f5b3', 'f5c3', 'f5d3', 'f5e3', 'f5f3', 'f5g3', 'f5h3', 'f5a2', 'f5b2', 'f5c2', 'f5d2', 'f5e2', 'f5f2', 'f5g2', 'f5h2', 'f5a1', 'f5b1', 'f5c1', 'f5d1', 'f5e1', 'f5f1', 'f5g1', 'f5h1', 'g5a8q', 'g5b8q', 'g5c8q', 'g5d8q', 'g5e8q', 'g5f8q', 'g5g8q', 'g5h8q', 'g5a8r', 'g5b8r', 'g5c8r', 'g5d8r', 'g5e8r', 'g5f8r', 'g5g8r', 'g5h8r', 'g5a8b', 'g5b8b', 'g5c8b', 'g5d8b', 'g5e8b', 'g5f8b', 'g5g8b', 'g5h8b', 'g5a8n', 'g5b8n', 'g5c8n', 'g5d8n', 'g5e8n', 'g5f8n', 'g5g8n', 'g5h8n', 'g5a8', 'g5b8', 'g5c8', 'g5d8', 'g5e8', 'g5f8', 'g5g8', 'g5h8', 'g5a7', 'g5b7', 'g5c7', 'g5d7', 'g5e7', 'g5f7', 'g5g7', 'g5h7', 'g5a6', 'g5b6', 'g5c6', 'g5d6', 'g5e6', 'g5f6', 'g5g6', 'g5h6', 'g5a5', 'g5b5', 'g5c5', 'g5d5', 'g5e5', 'g5f5', 'g5g5', 'g5h5', 'g5a4', 'g5b4', 'g5c4', 'g5d4', 'g5e4', 'g5f4', 'g5g4', 'g5h4', 'g5a3', 'g5b3', 'g5c3', 'g5d3', 'g5e3', 'g5f3', 'g5g3', 'g5h3', 'g5a2', 'g5b2', 'g5c2', 'g5d2', 'g5e2', 'g5f2', 'g5g2', 'g5h2', 'g5a1', 'g5b1', 'g5c1', 'g5d1', 'g5e1', 'g5f1', 'g5g1', 'g5h1', 'h5a8q', 'h5b8q', 'h5c8q', 'h5d8q', 'h5e8q', 'h5f8q', 'h5g8q', 'h5h8q', 'h5a8r', 'h5b8r', 'h5c8r', 'h5d8r', 'h5e8r', 'h5f8r', 'h5g8r', 'h5h8r', 'h5a8b', 'h5b8b', 'h5c8b', 'h5d8b', 'h5e8b', 'h5f8b', 'h5g8b', 'h5h8b', 'h5a8n', 'h5b8n', 'h5c8n', 'h5d8n', 'h5e8n', 'h5f8n', 'h5g8n', 'h5h8n', 'h5a8', 'h5b8', 'h5c8', 'h5d8', 'h5e8', 'h5f8', 'h5g8', 'h5h8', 'h5a7', 'h5b7', 'h5c7', 'h5d7', 'h5e7', 'h5f7', 'h5g7', 'h5h7', 'h5a6', 'h5b6', 'h5c6', 'h5d6', 'h5e6', 'h5f6', 'h5g6', 'h5h6', 'h5a5', 'h5b5', 'h5c5', 'h5d5', 'h5e5', 'h5f5', 'h5g5', 'h5h5', 'h5a4', 'h5b4', 'h5c4', 'h5d4', 'h5e4', 'h5f4', 'h5g4', 'h5h4', 'h5a3', 'h5b3', 'h5c3', 'h5d3', 'h5e3', 'h5f3', 'h5g3', 'h5h3', 'h5a2', 'h5b2', 'h5c2', 'h5d2', 'h5e2', 'h5f2', 'h5g2', 'h5h2', 'h5a1', 'h5b1', 'h5c1', 'h5d1', 'h5e1', 'h5f1', 'h5g1', 'h5h1', 'a4a8q', 'a4b8q', 'a4c8q', 'a4d8q', 'a4e8q', 'a4f8q', 'a4g8q', 'a4h8q', 'a4a8r', 'a4b8r', 'a4c8r', 'a4d8r', 'a4e8r', 'a4f8r', 'a4g8r', 'a4h8r', 'a4a8b', 'a4b8b', 'a4c8b', 'a4d8b', 'a4e8b', 'a4f8b', 'a4g8b', 'a4h8b', 'a4a8n', 'a4b8n', 'a4c8n', 'a4d8n', 'a4e8n', 'a4f8n', 'a4g8n', 'a4h8n', 'a4a8', 'a4b8', 'a4c8', 'a4d8', 'a4e8', 'a4f8', 'a4g8', 'a4h8', 'a4a7', 'a4b7', 'a4c7', 'a4d7', 'a4e7', 'a4f7', 'a4g7', 'a4h7', 'a4a6', 'a4b6', 'a4c6', 'a4d6', 'a4e6', 'a4f6', 'a4g6', 'a4h6', 'a4a5', 'a4b5', 'a4c5', 'a4d5', 'a4e5', 'a4f5', 'a4g5', 'a4h5', 'a4a4', 'a4b4', 'a4c4', 'a4d4', 'a4e4', 'a4f4', 'a4g4', 'a4h4', 'a4a3', 'a4b3', 'a4c3', 'a4d3', 'a4e3', 'a4f3', 'a4g3', 'a4h3', 'a4a2', 'a4b2', 'a4c2', 'a4d2', 'a4e2', 'a4f2', 'a4g2', 'a4h2', 'a4a1', 'a4b1', 'a4c1', 'a4d1', 'a4e1', 'a4f1', 'a4g1', 'a4h1', 'b4a8q', 'b4b8q', 'b4c8q', 'b4d8q', 'b4e8q', 'b4f8q', 'b4g8q', 'b4h8q', 'b4a8r', 'b4b8r', 'b4c8r', 'b4d8r', 'b4e8r', 'b4f8r', 'b4g8r', 'b4h8r', 'b4a8b', 'b4b8b', 'b4c8b', 'b4d8b', 'b4e8b', 'b4f8b', 'b4g8b', 'b4h8b', 'b4a8n', 'b4b8n', 'b4c8n', 'b4d8n', 'b4e8n', 'b4f8n', 'b4g8n', 'b4h8n', 'b4a8', 'b4b8', 'b4c8', 'b4d8', 'b4e8', 'b4f8', 'b4g8', 'b4h8', 'b4a7', 'b4b7', 'b4c7', 'b4d7', 'b4e7', 'b4f7', 'b4g7', 'b4h7', 'b4a6', 'b4b6', 'b4c6', 'b4d6', 'b4e6', 'b4f6', 'b4g6', 'b4h6', 'b4a5', 'b4b5', 'b4c5', 'b4d5', 'b4e5', 'b4f5', 'b4g5', 'b4h5', 'b4a4', 'b4b4', 'b4c4', 'b4d4', 'b4e4', 'b4f4', 'b4g4', 'b4h4', 'b4a3', 'b4b3', 'b4c3', 'b4d3', 'b4e3', 'b4f3', 'b4g3', 'b4h3', 'b4a2', 'b4b2', 'b4c2', 'b4d2', 'b4e2', 'b4f2', 'b4g2', 'b4h2', 'b4a1', 'b4b1', 'b4c1', 'b4d1', 'b4e1', 'b4f1', 'b4g1', 'b4h1', 'c4a8q', 'c4b8q', 'c4c8q', 'c4d8q', 'c4e8q', 'c4f8q', 'c4g8q', 'c4h8q', 'c4a8r', 'c4b8r', 'c4c8r', 'c4d8r', 'c4e8r', 'c4f8r', 'c4g8r', 'c4h8r', 'c4a8b', 'c4b8b', 'c4c8b', 'c4d8b', 'c4e8b', 'c4f8b', 'c4g8b', 'c4h8b', 'c4a8n', 'c4b8n', 'c4c8n', 'c4d8n', 'c4e8n', 'c4f8n', 'c4g8n', 'c4h8n', 'c4a8', 'c4b8', 'c4c8', 'c4d8', 'c4e8', 'c4f8', 'c4g8', 'c4h8', 'c4a7', 'c4b7', 'c4c7', 'c4d7', 'c4e7', 'c4f7', 'c4g7', 'c4h7', 'c4a6', 'c4b6', 'c4c6', 'c4d6', 'c4e6', 'c4f6', 'c4g6', 'c4h6', 'c4a5', 'c4b5', 'c4c5', 'c4d5', 'c4e5', 'c4f5', 'c4g5', 'c4h5', 'c4a4', 'c4b4', 'c4c4', 'c4d4', 'c4e4', 'c4f4', 'c4g4', 'c4h4', 'c4a3', 'c4b3', 'c4c3', 'c4d3', 'c4e3', 'c4f3', 'c4g3', 'c4h3', 'c4a2', 'c4b2', 'c4c2', 'c4d2', 'c4e2', 'c4f2', 'c4g2', 'c4h2', 'c4a1', 'c4b1', 'c4c1', 'c4d1', 'c4e1', 'c4f1', 'c4g1', 'c4h1', 'd4a8q', 'd4b8q', 'd4c8q', 'd4d8q', 'd4e8q', 'd4f8q', 'd4g8q', 'd4h8q', 'd4a8r', 'd4b8r', 'd4c8r', 'd4d8r', 'd4e8r', 'd4f8r', 'd4g8r', 'd4h8r', 'd4a8b', 'd4b8b', 'd4c8b', 'd4d8b', 'd4e8b', 'd4f8b', 'd4g8b', 'd4h8b', 'd4a8n', 'd4b8n', 'd4c8n', 'd4d8n', 'd4e8n', 'd4f8n', 'd4g8n', 'd4h8n', 'd4a8', 'd4b8', 'd4c8', 'd4d8', 'd4e8', 'd4f8', 'd4g8', 'd4h8', 'd4a7', 'd4b7', 'd4c7', 'd4d7', 'd4e7', 'd4f7', 'd4g7', 'd4h7', 'd4a6', 'd4b6', 'd4c6', 'd4d6', 'd4e6', 'd4f6', 'd4g6', 'd4h6', 'd4a5', 'd4b5', 'd4c5', 'd4d5', 'd4e5', 'd4f5', 'd4g5', 'd4h5', 'd4a4', 'd4b4', 'd4c4', 'd4d4', 'd4e4', 'd4f4', 'd4g4', 'd4h4', 'd4a3', 'd4b3', 'd4c3', 'd4d3', 'd4e3', 'd4f3', 'd4g3', 'd4h3', 'd4a2', 'd4b2', 'd4c2', 'd4d2', 'd4e2', 'd4f2', 'd4g2', 'd4h2', 'd4a1', 'd4b1', 'd4c1', 'd4d1', 'd4e1', 'd4f1', 'd4g1', 'd4h1', 'e4a8q', 'e4b8q', 'e4c8q', 'e4d8q', 'e4e8q', 'e4f8q', 'e4g8q', 'e4h8q', 'e4a8r', 'e4b8r', 'e4c8r', 'e4d8r', 'e4e8r', 'e4f8r', 'e4g8r', 'e4h8r', 'e4a8b', 'e4b8b', 'e4c8b', 'e4d8b', 'e4e8b', 'e4f8b', 'e4g8b', 'e4h8b', 'e4a8n', 'e4b8n', 'e4c8n', 'e4d8n', 'e4e8n', 'e4f8n', 'e4g8n', 'e4h8n', 'e4a8', 'e4b8', 'e4c8', 'e4d8', 'e4e8', 'e4f8', 'e4g8', 'e4h8', 'e4a7', 'e4b7', 'e4c7', 'e4d7', 'e4e7', 'e4f7', 'e4g7', 'e4h7', 'e4a6', 'e4b6', 'e4c6', 'e4d6', 'e4e6', 'e4f6', 'e4g6', 'e4h6', 'e4a5', 'e4b5', 'e4c5', 'e4d5', 'e4e5', 'e4f5', 'e4g5', 'e4h5', 'e4a4', 'e4b4', 'e4c4', 'e4d4', 'e4e4', 'e4f4', 'e4g4', 'e4h4', 'e4a3', 'e4b3', 'e4c3', 'e4d3', 'e4e3', 'e4f3', 'e4g3', 'e4h3', 'e4a2', 'e4b2', 'e4c2', 'e4d2', 'e4e2', 'e4f2', 'e4g2', 'e4h2', 'e4a1', 'e4b1', 'e4c1', 'e4d1', 'e4e1', 'e4f1', 'e4g1', 'e4h1', 'f4a8q', 'f4b8q', 'f4c8q', 'f4d8q', 'f4e8q', 'f4f8q', 'f4g8q', 'f4h8q', 'f4a8r', 'f4b8r', 'f4c8r', 'f4d8r', 'f4e8r', 'f4f8r', 'f4g8r', 'f4h8r', 'f4a8b', 'f4b8b', 'f4c8b', 'f4d8b', 'f4e8b', 'f4f8b', 'f4g8b', 'f4h8b', 'f4a8n', 'f4b8n', 'f4c8n', 'f4d8n', 'f4e8n', 'f4f8n', 'f4g8n', 'f4h8n', 'f4a8', 'f4b8', 'f4c8', 'f4d8', 'f4e8', 'f4f8', 'f4g8', 'f4h8', 'f4a7', 'f4b7', 'f4c7', 'f4d7', 'f4e7', 'f4f7', 'f4g7', 'f4h7', 'f4a6', 'f4b6', 'f4c6', 'f4d6', 'f4e6', 'f4f6', 'f4g6', 'f4h6', 'f4a5', 'f4b5', 'f4c5', 'f4d5', 'f4e5', 'f4f5', 'f4g5', 'f4h5', 'f4a4', 'f4b4', 'f4c4', 'f4d4', 'f4e4', 'f4f4', 'f4g4', 'f4h4', 'f4a3', 'f4b3', 'f4c3', 'f4d3', 'f4e3', 'f4f3', 'f4g3', 'f4h3', 'f4a2', 'f4b2', 'f4c2', 'f4d2', 'f4e2', 'f4f2', 'f4g2', 'f4h2', 'f4a1', 'f4b1', 'f4c1', 'f4d1', 'f4e1', 'f4f1', 'f4g1', 'f4h1', 'g4a8q', 'g4b8q', 'g4c8q', 'g4d8q', 'g4e8q', 'g4f8q', 'g4g8q', 'g4h8q', 'g4a8r', 'g4b8r', 'g4c8r', 'g4d8r', 'g4e8r', 'g4f8r', 'g4g8r', 'g4h8r', 'g4a8b', 'g4b8b', 'g4c8b', 'g4d8b', 'g4e8b', 'g4f8b', 'g4g8b', 'g4h8b', 'g4a8n', 'g4b8n', 'g4c8n', 'g4d8n', 'g4e8n', 'g4f8n', 'g4g8n', 'g4h8n', 'g4a8', 'g4b8', 'g4c8', 'g4d8', 'g4e8', 'g4f8', 'g4g8', 'g4h8', 'g4a7', 'g4b7', 'g4c7', 'g4d7', 'g4e7', 'g4f7', 'g4g7', 'g4h7', 'g4a6', 'g4b6', 'g4c6', 'g4d6', 'g4e6', 'g4f6', 'g4g6', 'g4h6', 'g4a5', 'g4b5', 'g4c5', 'g4d5', 'g4e5', 'g4f5', 'g4g5', 'g4h5', 'g4a4', 'g4b4', 'g4c4', 'g4d4', 'g4e4', 'g4f4', 'g4g4', 'g4h4', 'g4a3', 'g4b3', 'g4c3', 'g4d3', 'g4e3', 'g4f3', 'g4g3', 'g4h3', 'g4a2', 'g4b2', 'g4c2', 'g4d2', 'g4e2', 'g4f2', 'g4g2', 'g4h2', 'g4a1', 'g4b1', 'g4c1', 'g4d1', 'g4e1', 'g4f1', 'g4g1', 'g4h1', 'h4a8q', 'h4b8q', 'h4c8q', 'h4d8q', 'h4e8q', 'h4f8q', 'h4g8q', 'h4h8q', 'h4a8r', 'h4b8r', 'h4c8r', 'h4d8r', 'h4e8r', 'h4f8r', 'h4g8r', 'h4h8r', 'h4a8b', 'h4b8b', 'h4c8b', 'h4d8b', 'h4e8b', 'h4f8b', 'h4g8b', 'h4h8b', 'h4a8n', 'h4b8n', 'h4c8n', 'h4d8n', 'h4e8n', 'h4f8n', 'h4g8n', 'h4h8n', 'h4a8', 'h4b8', 'h4c8', 'h4d8', 'h4e8', 'h4f8', 'h4g8', 'h4h8', 'h4a7', 'h4b7', 'h4c7', 'h4d7', 'h4e7', 'h4f7', 'h4g7', 'h4h7', 'h4a6', 'h4b6', 'h4c6', 'h4d6', 'h4e6', 'h4f6', 'h4g6', 'h4h6', 'h4a5', 'h4b5', 'h4c5', 'h4d5', 'h4e5', 'h4f5', 'h4g5', 'h4h5', 'h4a4', 'h4b4', 'h4c4', 'h4d4', 'h4e4', 'h4f4', 'h4g4', 'h4h4', 'h4a3', 'h4b3', 'h4c3', 'h4d3', 'h4e3', 'h4f3', 'h4g3', 'h4h3', 'h4a2', 'h4b2', 'h4c2', 'h4d2', 'h4e2', 'h4f2', 'h4g2', 'h4h2', 'h4a1', 'h4b1', 'h4c1', 'h4d1', 'h4e1', 'h4f1', 'h4g1', 'h4h1', 'a3a8q', 'a3b8q', 'a3c8q', 'a3d8q', 'a3e8q', 'a3f8q', 'a3g8q', 'a3h8q', 'a3a8r', 'a3b8r', 'a3c8r', 'a3d8r', 'a3e8r', 'a3f8r', 'a3g8r', 'a3h8r', 'a3a8b', 'a3b8b', 'a3c8b', 'a3d8b', 'a3e8b', 'a3f8b', 'a3g8b', 'a3h8b', 'a3a8n', 'a3b8n', 'a3c8n', 'a3d8n', 'a3e8n', 'a3f8n', 'a3g8n', 'a3h8n', 'a3a8', 'a3b8', 'a3c8', 'a3d8', 'a3e8', 'a3f8', 'a3g8', 'a3h8', 'a3a7', 'a3b7', 'a3c7', 'a3d7', 'a3e7', 'a3f7', 'a3g7', 'a3h7', 'a3a6', 'a3b6', 'a3c6', 'a3d6', 'a3e6', 'a3f6', 'a3g6', 'a3h6', 'a3a5', 'a3b5', 'a3c5', 'a3d5', 'a3e5', 'a3f5', 'a3g5', 'a3h5', 'a3a4', 'a3b4', 'a3c4', 'a3d4', 'a3e4', 'a3f4', 'a3g4', 'a3h4', 'a3a3', 'a3b3', 'a3c3', 'a3d3', 'a3e3', 'a3f3', 'a3g3', 'a3h3', 'a3a2', 'a3b2', 'a3c2', 'a3d2', 'a3e2', 'a3f2', 'a3g2', 'a3h2', 'a3a1', 'a3b1', 'a3c1', 'a3d1', 'a3e1', 'a3f1', 'a3g1', 'a3h1', 'b3a8q', 'b3b8q', 'b3c8q', 'b3d8q', 'b3e8q', 'b3f8q', 'b3g8q', 'b3h8q', 'b3a8r', 'b3b8r', 'b3c8r', 'b3d8r', 'b3e8r', 'b3f8r', 'b3g8r', 'b3h8r', 'b3a8b', 'b3b8b', 'b3c8b', 'b3d8b', 'b3e8b', 'b3f8b', 'b3g8b', 'b3h8b', 'b3a8n', 'b3b8n', 'b3c8n', 'b3d8n', 'b3e8n', 'b3f8n', 'b3g8n', 'b3h8n', 'b3a8', 'b3b8', 'b3c8', 'b3d8', 'b3e8', 'b3f8', 'b3g8', 'b3h8', 'b3a7', 'b3b7', 'b3c7', 'b3d7', 'b3e7', 'b3f7', 'b3g7', 'b3h7', 'b3a6', 'b3b6', 'b3c6', 'b3d6', 'b3e6', 'b3f6', 'b3g6', 'b3h6', 'b3a5', 'b3b5', 'b3c5', 'b3d5', 'b3e5', 'b3f5', 'b3g5', 'b3h5', 'b3a4', 'b3b4', 'b3c4', 'b3d4', 'b3e4', 'b3f4', 'b3g4', 'b3h4', 'b3a3', 'b3b3', 'b3c3', 'b3d3', 'b3e3', 'b3f3', 'b3g3', 'b3h3', 'b3a2', 'b3b2', 'b3c2', 'b3d2', 'b3e2', 'b3f2', 'b3g2', 'b3h2', 'b3a1', 'b3b1', 'b3c1', 'b3d1', 'b3e1', 'b3f1', 'b3g1', 'b3h1', 'c3a8q', 'c3b8q', 'c3c8q', 'c3d8q', 'c3e8q', 'c3f8q', 'c3g8q', 'c3h8q', 'c3a8r', 'c3b8r', 'c3c8r', 'c3d8r', 'c3e8r', 'c3f8r', 'c3g8r', 'c3h8r', 'c3a8b', 'c3b8b', 'c3c8b', 'c3d8b', 'c3e8b', 'c3f8b', 'c3g8b', 'c3h8b', 'c3a8n', 'c3b8n', 'c3c8n', 'c3d8n', 'c3e8n', 'c3f8n', 'c3g8n', 'c3h8n', 'c3a8', 'c3b8', 'c3c8', 'c3d8', 'c3e8', 'c3f8', 'c3g8', 'c3h8', 'c3a7', 'c3b7', 'c3c7', 'c3d7', 'c3e7', 'c3f7', 'c3g7', 'c3h7', 'c3a6', 'c3b6', 'c3c6', 'c3d6', 'c3e6', 'c3f6', 'c3g6', 'c3h6', 'c3a5', 'c3b5', 'c3c5', 'c3d5', 'c3e5', 'c3f5', 'c3g5', 'c3h5', 'c3a4', 'c3b4', 'c3c4', 'c3d4', 'c3e4', 'c3f4', 'c3g4', 'c3h4', 'c3a3', 'c3b3', 'c3c3', 'c3d3', 'c3e3', 'c3f3', 'c3g3', 'c3h3', 'c3a2', 'c3b2', 'c3c2', 'c3d2', 'c3e2', 'c3f2', 'c3g2', 'c3h2', 'c3a1', 'c3b1', 'c3c1', 'c3d1', 'c3e1', 'c3f1', 'c3g1', 'c3h1', 'd3a8q', 'd3b8q', 'd3c8q', 'd3d8q', 'd3e8q', 'd3f8q', 'd3g8q', 'd3h8q', 'd3a8r', 'd3b8r', 'd3c8r', 'd3d8r', 'd3e8r', 'd3f8r', 'd3g8r', 'd3h8r', 'd3a8b', 'd3b8b', 'd3c8b', 'd3d8b', 'd3e8b', 'd3f8b', 'd3g8b', 'd3h8b', 'd3a8n', 'd3b8n', 'd3c8n', 'd3d8n', 'd3e8n', 'd3f8n', 'd3g8n', 'd3h8n', 'd3a8', 'd3b8', 'd3c8', 'd3d8', 'd3e8', 'd3f8', 'd3g8', 'd3h8', 'd3a7', 'd3b7', 'd3c7', 'd3d7', 'd3e7', 'd3f7', 'd3g7', 'd3h7', 'd3a6', 'd3b6', 'd3c6', 'd3d6', 'd3e6', 'd3f6', 'd3g6', 'd3h6', 'd3a5', 'd3b5', 'd3c5', 'd3d5', 'd3e5', 'd3f5', 'd3g5', 'd3h5', 'd3a4', 'd3b4', 'd3c4', 'd3d4', 'd3e4', 'd3f4', 'd3g4', 'd3h4', 'd3a3', 'd3b3', 'd3c3', 'd3d3', 'd3e3', 'd3f3', 'd3g3', 'd3h3', 'd3a2', 'd3b2', 'd3c2', 'd3d2', 'd3e2', 'd3f2', 'd3g2', 'd3h2', 'd3a1', 'd3b1', 'd3c1', 'd3d1', 'd3e1', 'd3f1', 'd3g1', 'd3h1', 'e3a8q', 'e3b8q', 'e3c8q', 'e3d8q', 'e3e8q', 'e3f8q', 'e3g8q', 'e3h8q', 'e3a8r', 'e3b8r', 'e3c8r', 'e3d8r', 'e3e8r', 'e3f8r', 'e3g8r', 'e3h8r', 'e3a8b', 'e3b8b', 'e3c8b', 'e3d8b', 'e3e8b', 'e3f8b', 'e3g8b', 'e3h8b', 'e3a8n', 'e3b8n', 'e3c8n', 'e3d8n', 'e3e8n', 'e3f8n', 'e3g8n', 'e3h8n', 'e3a8', 'e3b8', 'e3c8', 'e3d8', 'e3e8', 'e3f8', 'e3g8', 'e3h8', 'e3a7', 'e3b7', 'e3c7', 'e3d7', 'e3e7', 'e3f7', 'e3g7', 'e3h7', 'e3a6', 'e3b6', 'e3c6', 'e3d6', 'e3e6', 'e3f6', 'e3g6', 'e3h6', 'e3a5', 'e3b5', 'e3c5', 'e3d5', 'e3e5', 'e3f5', 'e3g5', 'e3h5', 'e3a4', 'e3b4', 'e3c4', 'e3d4', 'e3e4', 'e3f4', 'e3g4', 'e3h4', 'e3a3', 'e3b3', 'e3c3', 'e3d3', 'e3e3', 'e3f3', 'e3g3', 'e3h3', 'e3a2', 'e3b2', 'e3c2', 'e3d2', 'e3e2', 'e3f2', 'e3g2', 'e3h2', 'e3a1', 'e3b1', 'e3c1', 'e3d1', 'e3e1', 'e3f1', 'e3g1', 'e3h1', 'f3a8q', 'f3b8q', 'f3c8q', 'f3d8q', 'f3e8q', 'f3f8q', 'f3g8q', 'f3h8q', 'f3a8r', 'f3b8r', 'f3c8r', 'f3d8r', 'f3e8r', 'f3f8r', 'f3g8r', 'f3h8r', 'f3a8b', 'f3b8b', 'f3c8b', 'f3d8b', 'f3e8b', 'f3f8b', 'f3g8b', 'f3h8b', 'f3a8n', 'f3b8n', 'f3c8n', 'f3d8n', 'f3e8n', 'f3f8n', 'f3g8n', 'f3h8n', 'f3a8', 'f3b8', 'f3c8', 'f3d8', 'f3e8', 'f3f8', 'f3g8', 'f3h8', 'f3a7', 'f3b7', 'f3c7', 'f3d7', 'f3e7', 'f3f7', 'f3g7', 'f3h7', 'f3a6', 'f3b6', 'f3c6', 'f3d6', 'f3e6', 'f3f6', 'f3g6', 'f3h6', 'f3a5', 'f3b5', 'f3c5', 'f3d5', 'f3e5', 'f3f5', 'f3g5', 'f3h5', 'f3a4', 'f3b4', 'f3c4', 'f3d4', 'f3e4', 'f3f4', 'f3g4', 'f3h4', 'f3a3', 'f3b3', 'f3c3', 'f3d3', 'f3e3', 'f3f3', 'f3g3', 'f3h3', 'f3a2', 'f3b2', 'f3c2', 'f3d2', 'f3e2', 'f3f2', 'f3g2', 'f3h2', 'f3a1', 'f3b1', 'f3c1', 'f3d1', 'f3e1', 'f3f1', 'f3g1', 'f3h1', 'g3a8q', 'g3b8q', 'g3c8q', 'g3d8q', 'g3e8q', 'g3f8q', 'g3g8q', 'g3h8q', 'g3a8r', 'g3b8r', 'g3c8r', 'g3d8r', 'g3e8r', 'g3f8r', 'g3g8r', 'g3h8r', 'g3a8b', 'g3b8b', 'g3c8b', 'g3d8b', 'g3e8b', 'g3f8b', 'g3g8b', 'g3h8b', 'g3a8n', 'g3b8n', 'g3c8n', 'g3d8n', 'g3e8n', 'g3f8n', 'g3g8n', 'g3h8n', 'g3a8', 'g3b8', 'g3c8', 'g3d8', 'g3e8', 'g3f8', 'g3g8', 'g3h8', 'g3a7', 'g3b7', 'g3c7', 'g3d7', 'g3e7', 'g3f7', 'g3g7', 'g3h7', 'g3a6', 'g3b6', 'g3c6', 'g3d6', 'g3e6', 'g3f6', 'g3g6', 'g3h6', 'g3a5', 'g3b5', 'g3c5', 'g3d5', 'g3e5', 'g3f5', 'g3g5', 'g3h5', 'g3a4', 'g3b4', 'g3c4', 'g3d4', 'g3e4', 'g3f4', 'g3g4', 'g3h4', 'g3a3', 'g3b3', 'g3c3', 'g3d3', 'g3e3', 'g3f3', 'g3g3', 'g3h3', 'g3a2', 'g3b2', 'g3c2', 'g3d2', 'g3e2', 'g3f2', 'g3g2', 'g3h2', 'g3a1', 'g3b1', 'g3c1', 'g3d1', 'g3e1', 'g3f1', 'g3g1', 'g3h1', 'h3a8q', 'h3b8q', 'h3c8q', 'h3d8q', 'h3e8q', 'h3f8q', 'h3g8q', 'h3h8q', 'h3a8r', 'h3b8r', 'h3c8r', 'h3d8r', 'h3e8r', 'h3f8r', 'h3g8r', 'h3h8r', 'h3a8b', 'h3b8b', 'h3c8b', 'h3d8b', 'h3e8b', 'h3f8b', 'h3g8b', 'h3h8b', 'h3a8n', 'h3b8n', 'h3c8n', 'h3d8n', 'h3e8n', 'h3f8n', 'h3g8n', 'h3h8n', 'h3a8', 'h3b8', 'h3c8', 'h3d8', 'h3e8', 'h3f8', 'h3g8', 'h3h8', 'h3a7', 'h3b7', 'h3c7', 'h3d7', 'h3e7', 'h3f7', 'h3g7', 'h3h7', 'h3a6', 'h3b6', 'h3c6', 'h3d6', 'h3e6', 'h3f6', 'h3g6', 'h3h6', 'h3a5', 'h3b5', 'h3c5', 'h3d5', 'h3e5', 'h3f5', 'h3g5', 'h3h5', 'h3a4', 'h3b4', 'h3c4', 'h3d4', 'h3e4', 'h3f4', 'h3g4', 'h3h4', 'h3a3', 'h3b3', 'h3c3', 'h3d3', 'h3e3', 'h3f3', 'h3g3', 'h3h3', 'h3a2', 'h3b2', 'h3c2', 'h3d2', 'h3e2', 'h3f2', 'h3g2', 'h3h2', 'h3a1', 'h3b1', 'h3c1', 'h3d1', 'h3e1', 'h3f1', 'h3g1', 'h3h1', 'a2a8q', 'a2b8q', 'a2c8q', 'a2d8q', 'a2e8q', 'a2f8q', 'a2g8q', 'a2h8q', 'a2a8r', 'a2b8r', 'a2c8r', 'a2d8r', 'a2e8r', 'a2f8r', 'a2g8r', 'a2h8r', 'a2a8b', 'a2b8b', 'a2c8b', 'a2d8b', 'a2e8b', 'a2f8b', 'a2g8b', 'a2h8b', 'a2a8n', 'a2b8n', 'a2c8n', 'a2d8n', 'a2e8n', 'a2f8n', 'a2g8n', 'a2h8n', 'a2a8', 'a2b8', 'a2c8', 'a2d8', 'a2e8', 'a2f8', 'a2g8', 'a2h8', 'a2a7', 'a2b7', 'a2c7', 'a2d7', 'a2e7', 'a2f7', 'a2g7', 'a2h7', 'a2a6', 'a2b6', 'a2c6', 'a2d6', 'a2e6', 'a2f6', 'a2g6', 'a2h6', 'a2a5', 'a2b5', 'a2c5', 'a2d5', 'a2e5', 'a2f5', 'a2g5', 'a2h5', 'a2a4', 'a2b4', 'a2c4', 'a2d4', 'a2e4', 'a2f4', 'a2g4', 'a2h4', 'a2a3', 'a2b3', 'a2c3', 'a2d3', 'a2e3', 'a2f3', 'a2g3', 'a2h3', 'a2a2', 'a2b2', 'a2c2', 'a2d2', 'a2e2', 'a2f2', 'a2g2', 'a2h2', 'a2a1', 'a2b1', 'a2c1', 'a2d1', 'a2e1', 'a2f1', 'a2g1', 'a2h1', 'b2a8q', 'b2b8q', 'b2c8q', 'b2d8q', 'b2e8q', 'b2f8q', 'b2g8q', 'b2h8q', 'b2a8r', 'b2b8r', 'b2c8r', 'b2d8r', 'b2e8r', 'b2f8r', 'b2g8r', 'b2h8r', 'b2a8b', 'b2b8b', 'b2c8b', 'b2d8b', 'b2e8b', 'b2f8b', 'b2g8b', 'b2h8b', 'b2a8n', 'b2b8n', 'b2c8n', 'b2d8n', 'b2e8n', 'b2f8n', 'b2g8n', 'b2h8n', 'b2a8', 'b2b8', 'b2c8', 'b2d8', 'b2e8', 'b2f8', 'b2g8', 'b2h8', 'b2a7', 'b2b7', 'b2c7', 'b2d7', 'b2e7', 'b2f7', 'b2g7', 'b2h7', 'b2a6', 'b2b6', 'b2c6', 'b2d6', 'b2e6', 'b2f6', 'b2g6', 'b2h6', 'b2a5', 'b2b5', 'b2c5', 'b2d5', 'b2e5', 'b2f5', 'b2g5', 'b2h5', 'b2a4', 'b2b4', 'b2c4', 'b2d4', 'b2e4', 'b2f4', 'b2g4', 'b2h4', 'b2a3', 'b2b3', 'b2c3', 'b2d3', 'b2e3', 'b2f3', 'b2g3', 'b2h3', 'b2a2', 'b2b2', 'b2c2', 'b2d2', 'b2e2', 'b2f2', 'b2g2', 'b2h2', 'b2a1', 'b2b1', 'b2c1', 'b2d1', 'b2e1', 'b2f1', 'b2g1', 'b2h1', 'c2a8q', 'c2b8q', 'c2c8q', 'c2d8q', 'c2e8q', 'c2f8q', 'c2g8q', 'c2h8q', 'c2a8r', 'c2b8r', 'c2c8r', 'c2d8r', 'c2e8r', 'c2f8r', 'c2g8r', 'c2h8r', 'c2a8b', 'c2b8b', 'c2c8b', 'c2d8b', 'c2e8b', 'c2f8b', 'c2g8b', 'c2h8b', 'c2a8n', 'c2b8n', 'c2c8n', 'c2d8n', 'c2e8n', 'c2f8n', 'c2g8n', 'c2h8n', 'c2a8', 'c2b8', 'c2c8', 'c2d8', 'c2e8', 'c2f8', 'c2g8', 'c2h8', 'c2a7', 'c2b7', 'c2c7', 'c2d7', 'c2e7', 'c2f7', 'c2g7', 'c2h7', 'c2a6', 'c2b6', 'c2c6', 'c2d6', 'c2e6', 'c2f6', 'c2g6', 'c2h6', 'c2a5', 'c2b5', 'c2c5', 'c2d5', 'c2e5', 'c2f5', 'c2g5', 'c2h5', 'c2a4', 'c2b4', 'c2c4', 'c2d4', 'c2e4', 'c2f4', 'c2g4', 'c2h4', 'c2a3', 'c2b3', 'c2c3', 'c2d3', 'c2e3', 'c2f3', 'c2g3', 'c2h3', 'c2a2', 'c2b2', 'c2c2', 'c2d2', 'c2e2', 'c2f2', 'c2g2', 'c2h2', 'c2a1', 'c2b1', 'c2c1', 'c2d1', 'c2e1', 'c2f1', 'c2g1', 'c2h1', 'd2a8q', 'd2b8q', 'd2c8q', 'd2d8q', 'd2e8q', 'd2f8q', 'd2g8q', 'd2h8q', 'd2a8r', 'd2b8r', 'd2c8r', 'd2d8r', 'd2e8r', 'd2f8r', 'd2g8r', 'd2h8r', 'd2a8b', 'd2b8b', 'd2c8b', 'd2d8b', 'd2e8b', 'd2f8b', 'd2g8b', 'd2h8b', 'd2a8n', 'd2b8n', 'd2c8n', 'd2d8n', 'd2e8n', 'd2f8n', 'd2g8n', 'd2h8n', 'd2a8', 'd2b8', 'd2c8', 'd2d8', 'd2e8', 'd2f8', 'd2g8', 'd2h8', 'd2a7', 'd2b7', 'd2c7', 'd2d7', 'd2e7', 'd2f7', 'd2g7', 'd2h7', 'd2a6', 'd2b6', 'd2c6', 'd2d6', 'd2e6', 'd2f6', 'd2g6', 'd2h6', 'd2a5', 'd2b5', 'd2c5', 'd2d5', 'd2e5', 'd2f5', 'd2g5', 'd2h5', 'd2a4', 'd2b4', 'd2c4', 'd2d4', 'd2e4', 'd2f4', 'd2g4', 'd2h4', 'd2a3', 'd2b3', 'd2c3', 'd2d3', 'd2e3', 'd2f3', 'd2g3', 'd2h3', 'd2a2', 'd2b2', 'd2c2', 'd2d2', 'd2e2', 'd2f2', 'd2g2', 'd2h2', 'd2a1', 'd2b1', 'd2c1', 'd2d1', 'd2e1', 'd2f1', 'd2g1', 'd2h1', 'e2a8q', 'e2b8q', 'e2c8q', 'e2d8q', 'e2e8q', 'e2f8q', 'e2g8q', 'e2h8q', 'e2a8r', 'e2b8r', 'e2c8r', 'e2d8r', 'e2e8r', 'e2f8r', 'e2g8r', 'e2h8r', 'e2a8b', 'e2b8b', 'e2c8b', 'e2d8b', 'e2e8b', 'e2f8b', 'e2g8b', 'e2h8b', 'e2a8n', 'e2b8n', 'e2c8n', 'e2d8n', 'e2e8n', 'e2f8n', 'e2g8n', 'e2h8n', 'e2a8', 'e2b8', 'e2c8', 'e2d8', 'e2e8', 'e2f8', 'e2g8', 'e2h8', 'e2a7', 'e2b7', 'e2c7', 'e2d7', 'e2e7', 'e2f7', 'e2g7', 'e2h7', 'e2a6', 'e2b6', 'e2c6', 'e2d6', 'e2e6', 'e2f6', 'e2g6', 'e2h6', 'e2a5', 'e2b5', 'e2c5', 'e2d5', 'e2e5', 'e2f5', 'e2g5', 'e2h5', 'e2a4', 'e2b4', 'e2c4', 'e2d4', 'e2e4', 'e2f4', 'e2g4', 'e2h4', 'e2a3', 'e2b3', 'e2c3', 'e2d3', 'e2e3', 'e2f3', 'e2g3', 'e2h3', 'e2a2', 'e2b2', 'e2c2', 'e2d2', 'e2e2', 'e2f2', 'e2g2', 'e2h2', 'e2a1', 'e2b1', 'e2c1', 'e2d1', 'e2e1', 'e2f1', 'e2g1', 'e2h1', 'f2a8q', 'f2b8q', 'f2c8q', 'f2d8q', 'f2e8q', 'f2f8q', 'f2g8q', 'f2h8q', 'f2a8r', 'f2b8r', 'f2c8r', 'f2d8r', 'f2e8r', 'f2f8r', 'f2g8r', 'f2h8r', 'f2a8b', 'f2b8b', 'f2c8b', 'f2d8b', 'f2e8b', 'f2f8b', 'f2g8b', 'f2h8b', 'f2a8n', 'f2b8n', 'f2c8n', 'f2d8n', 'f2e8n', 'f2f8n', 'f2g8n', 'f2h8n', 'f2a8', 'f2b8', 'f2c8', 'f2d8', 'f2e8', 'f2f8', 'f2g8', 'f2h8', 'f2a7', 'f2b7', 'f2c7', 'f2d7', 'f2e7', 'f2f7', 'f2g7', 'f2h7', 'f2a6', 'f2b6', 'f2c6', 'f2d6', 'f2e6', 'f2f6', 'f2g6', 'f2h6', 'f2a5', 'f2b5', 'f2c5', 'f2d5', 'f2e5', 'f2f5', 'f2g5', 'f2h5', 'f2a4', 'f2b4', 'f2c4', 'f2d4', 'f2e4', 'f2f4', 'f2g4', 'f2h4', 'f2a3', 'f2b3', 'f2c3', 'f2d3', 'f2e3', 'f2f3', 'f2g3', 'f2h3', 'f2a2', 'f2b2', 'f2c2', 'f2d2', 'f2e2', 'f2f2', 'f2g2', 'f2h2', 'f2a1', 'f2b1', 'f2c1', 'f2d1', 'f2e1', 'f2f1', 'f2g1', 'f2h1', 'g2a8q', 'g2b8q', 'g2c8q', 'g2d8q', 'g2e8q', 'g2f8q', 'g2g8q', 'g2h8q', 'g2a8r', 'g2b8r', 'g2c8r', 'g2d8r', 'g2e8r', 'g2f8r', 'g2g8r', 'g2h8r', 'g2a8b', 'g2b8b', 'g2c8b', 'g2d8b', 'g2e8b', 'g2f8b', 'g2g8b', 'g2h8b', 'g2a8n', 'g2b8n', 'g2c8n', 'g2d8n', 'g2e8n', 'g2f8n', 'g2g8n', 'g2h8n', 'g2a8', 'g2b8', 'g2c8', 'g2d8', 'g2e8', 'g2f8', 'g2g8', 'g2h8', 'g2a7', 'g2b7', 'g2c7', 'g2d7', 'g2e7', 'g2f7', 'g2g7', 'g2h7', 'g2a6', 'g2b6', 'g2c6', 'g2d6', 'g2e6', 'g2f6', 'g2g6', 'g2h6', 'g2a5', 'g2b5', 'g2c5', 'g2d5', 'g2e5', 'g2f5', 'g2g5', 'g2h5', 'g2a4', 'g2b4', 'g2c4', 'g2d4', 'g2e4', 'g2f4', 'g2g4', 'g2h4', 'g2a3', 'g2b3', 'g2c3', 'g2d3', 'g2e3', 'g2f3', 'g2g3', 'g2h3', 'g2a2', 'g2b2', 'g2c2', 'g2d2', 'g2e2', 'g2f2', 'g2g2', 'g2h2', 'g2a1', 'g2b1', 'g2c1', 'g2d1', 'g2e1', 'g2f1', 'g2g1', 'g2h1', 'h2a8q', 'h2b8q', 'h2c8q', 'h2d8q', 'h2e8q', 'h2f8q', 'h2g8q', 'h2h8q', 'h2a8r', 'h2b8r', 'h2c8r', 'h2d8r', 'h2e8r', 'h2f8r', 'h2g8r', 'h2h8r', 'h2a8b', 'h2b8b', 'h2c8b', 'h2d8b', 'h2e8b', 'h2f8b', 'h2g8b', 'h2h8b', 'h2a8n', 'h2b8n', 'h2c8n', 'h2d8n', 'h2e8n', 'h2f8n', 'h2g8n', 'h2h8n', 'h2a8', 'h2b8', 'h2c8', 'h2d8', 'h2e8', 'h2f8', 'h2g8', 'h2h8', 'h2a7', 'h2b7', 'h2c7', 'h2d7', 'h2e7', 'h2f7', 'h2g7', 'h2h7', 'h2a6', 'h2b6', 'h2c6', 'h2d6', 'h2e6', 'h2f6', 'h2g6', 'h2h6', 'h2a5', 'h2b5', 'h2c5', 'h2d5', 'h2e5', 'h2f5', 'h2g5', 'h2h5', 'h2a4', 'h2b4', 'h2c4', 'h2d4', 'h2e4', 'h2f4', 'h2g4', 'h2h4', 'h2a3', 'h2b3', 'h2c3', 'h2d3', 'h2e3', 'h2f3', 'h2g3', 'h2h3', 'h2a2', 'h2b2', 'h2c2', 'h2d2', 'h2e2', 'h2f2', 'h2g2', 'h2h2', 'h2a1', 'h2b1', 'h2c1', 'h2d1', 'h2e1', 'h2f1', 'h2g1', 'h2h1', 'a1a8q', 'a1b8q', 'a1c8q', 'a1d8q', 'a1e8q', 'a1f8q', 'a1g8q', 'a1h8q', 'a1a8r', 'a1b8r', 'a1c8r', 'a1d8r', 'a1e8r', 'a1f8r', 'a1g8r', 'a1h8r', 'a1a8b', 'a1b8b', 'a1c8b', 'a1d8b', 'a1e8b', 'a1f8b', 'a1g8b', 'a1h8b', 'a1a8n', 'a1b8n', 'a1c8n', 'a1d8n', 'a1e8n', 'a1f8n', 'a1g8n', 'a1h8n', 'a1a8', 'a1b8', 'a1c8', 'a1d8', 'a1e8', 'a1f8', 'a1g8', 'a1h8', 'a1a7', 'a1b7', 'a1c7', 'a1d7', 'a1e7', 'a1f7', 'a1g7', 'a1h7', 'a1a6', 'a1b6', 'a1c6', 'a1d6', 'a1e6', 'a1f6', 'a1g6', 'a1h6', 'a1a5', 'a1b5', 'a1c5', 'a1d5', 'a1e5', 'a1f5', 'a1g5', 'a1h5', 'a1a4', 'a1b4', 'a1c4', 'a1d4', 'a1e4', 'a1f4', 'a1g4', 'a1h4', 'a1a3', 'a1b3', 'a1c3', 'a1d3', 'a1e3', 'a1f3', 'a1g3', 'a1h3', 'a1a2', 'a1b2', 'a1c2', 'a1d2', 'a1e2', 'a1f2', 'a1g2', 'a1h2', 'a1a1', 'a1b1', 'a1c1', 'a1d1', 'a1e1', 'a1f1', 'a1g1', 'a1h1', 'b1a8q', 'b1b8q', 'b1c8q', 'b1d8q', 'b1e8q', 'b1f8q', 'b1g8q', 'b1h8q', 'b1a8r', 'b1b8r', 'b1c8r', 'b1d8r', 'b1e8r', 'b1f8r', 'b1g8r', 'b1h8r', 'b1a8b', 'b1b8b', 'b1c8b', 'b1d8b', 'b1e8b', 'b1f8b', 'b1g8b', 'b1h8b', 'b1a8n', 'b1b8n', 'b1c8n', 'b1d8n', 'b1e8n', 'b1f8n', 'b1g8n', 'b1h8n', 'b1a8', 'b1b8', 'b1c8', 'b1d8', 'b1e8', 'b1f8', 'b1g8', 'b1h8', 'b1a7', 'b1b7', 'b1c7', 'b1d7', 'b1e7', 'b1f7', 'b1g7', 'b1h7', 'b1a6', 'b1b6', 'b1c6', 'b1d6', 'b1e6', 'b1f6', 'b1g6', 'b1h6', 'b1a5', 'b1b5', 'b1c5', 'b1d5', 'b1e5', 'b1f5', 'b1g5', 'b1h5', 'b1a4', 'b1b4', 'b1c4', 'b1d4', 'b1e4', 'b1f4', 'b1g4', 'b1h4', 'b1a3', 'b1b3', 'b1c3', 'b1d3', 'b1e3', 'b1f3', 'b1g3', 'b1h3', 'b1a2', 'b1b2', 'b1c2', 'b1d2', 'b1e2', 'b1f2', 'b1g2', 'b1h2', 'b1a1', 'b1b1', 'b1c1', 'b1d1', 'b1e1', 'b1f1', 'b1g1', 'b1h1', 'c1a8q', 'c1b8q', 'c1c8q', 'c1d8q', 'c1e8q', 'c1f8q', 'c1g8q', 'c1h8q', 'c1a8r', 'c1b8r', 'c1c8r', 'c1d8r', 'c1e8r', 'c1f8r', 'c1g8r', 'c1h8r', 'c1a8b', 'c1b8b', 'c1c8b', 'c1d8b', 'c1e8b', 'c1f8b', 'c1g8b', 'c1h8b', 'c1a8n', 'c1b8n', 'c1c8n', 'c1d8n', 'c1e8n', 'c1f8n', 'c1g8n', 'c1h8n', 'c1a8', 'c1b8', 'c1c8', 'c1d8', 'c1e8', 'c1f8', 'c1g8', 'c1h8', 'c1a7', 'c1b7', 'c1c7', 'c1d7', 'c1e7', 'c1f7', 'c1g7', 'c1h7', 'c1a6', 'c1b6', 'c1c6', 'c1d6', 'c1e6', 'c1f6', 'c1g6', 'c1h6', 'c1a5', 'c1b5', 'c1c5', 'c1d5', 'c1e5', 'c1f5', 'c1g5', 'c1h5', 'c1a4', 'c1b4', 'c1c4', 'c1d4', 'c1e4', 'c1f4', 'c1g4', 'c1h4', 'c1a3', 'c1b3', 'c1c3', 'c1d3', 'c1e3', 'c1f3', 'c1g3', 'c1h3', 'c1a2', 'c1b2', 'c1c2', 'c1d2', 'c1e2', 'c1f2', 'c1g2', 'c1h2', 'c1a1', 'c1b1', 'c1c1', 'c1d1', 'c1e1', 'c1f1', 'c1g1', 'c1h1', 'd1a8q', 'd1b8q', 'd1c8q', 'd1d8q', 'd1e8q', 'd1f8q', 'd1g8q', 'd1h8q', 'd1a8r', 'd1b8r', 'd1c8r', 'd1d8r', 'd1e8r', 'd1f8r', 'd1g8r', 'd1h8r', 'd1a8b', 'd1b8b', 'd1c8b', 'd1d8b', 'd1e8b', 'd1f8b', 'd1g8b', 'd1h8b', 'd1a8n', 'd1b8n', 'd1c8n', 'd1d8n', 'd1e8n', 'd1f8n', 'd1g8n', 'd1h8n', 'd1a8', 'd1b8', 'd1c8', 'd1d8', 'd1e8', 'd1f8', 'd1g8', 'd1h8', 'd1a7', 'd1b7', 'd1c7', 'd1d7', 'd1e7', 'd1f7', 'd1g7', 'd1h7', 'd1a6', 'd1b6', 'd1c6', 'd1d6', 'd1e6', 'd1f6', 'd1g6', 'd1h6', 'd1a5', 'd1b5', 'd1c5', 'd1d5', 'd1e5', 'd1f5', 'd1g5', 'd1h5', 'd1a4', 'd1b4', 'd1c4', 'd1d4', 'd1e4', 'd1f4', 'd1g4', 'd1h4', 'd1a3', 'd1b3', 'd1c3', 'd1d3', 'd1e3', 'd1f3', 'd1g3', 'd1h3', 'd1a2', 'd1b2', 'd1c2', 'd1d2', 'd1e2', 'd1f2', 'd1g2', 'd1h2', 'd1a1', 'd1b1', 'd1c1', 'd1d1', 'd1e1', 'd1f1', 'd1g1', 'd1h1', 'e1a8q', 'e1b8q', 'e1c8q', 'e1d8q', 'e1e8q', 'e1f8q', 'e1g8q', 'e1h8q', 'e1a8r', 'e1b8r', 'e1c8r', 'e1d8r', 'e1e8r', 'e1f8r', 'e1g8r', 'e1h8r', 'e1a8b', 'e1b8b', 'e1c8b', 'e1d8b', 'e1e8b', 'e1f8b', 'e1g8b', 'e1h8b', 'e1a8n', 'e1b8n', 'e1c8n', 'e1d8n', 'e1e8n', 'e1f8n', 'e1g8n', 'e1h8n', 'e1a8', 'e1b8', 'e1c8', 'e1d8', 'e1e8', 'e1f8', 'e1g8', 'e1h8', 'e1a7', 'e1b7', 'e1c7', 'e1d7', 'e1e7', 'e1f7', 'e1g7', 'e1h7', 'e1a6', 'e1b6', 'e1c6', 'e1d6', 'e1e6', 'e1f6', 'e1g6', 'e1h6', 'e1a5', 'e1b5', 'e1c5', 'e1d5', 'e1e5', 'e1f5', 'e1g5', 'e1h5', 'e1a4', 'e1b4', 'e1c4', 'e1d4', 'e1e4', 'e1f4', 'e1g4', 'e1h4', 'e1a3', 'e1b3', 'e1c3', 'e1d3', 'e1e3', 'e1f3', 'e1g3', 'e1h3', 'e1a2', 'e1b2', 'e1c2', 'e1d2', 'e1e2', 'e1f2', 'e1g2', 'e1h2', 'e1a1', 'e1b1', 'e1c1', 'e1d1', 'e1e1', 'e1f1', 'e1g1', 'e1h1', 'f1a8q', 'f1b8q', 'f1c8q', 'f1d8q', 'f1e8q', 'f1f8q', 'f1g8q', 'f1h8q', 'f1a8r', 'f1b8r', 'f1c8r', 'f1d8r', 'f1e8r', 'f1f8r', 'f1g8r', 'f1h8r', 'f1a8b', 'f1b8b', 'f1c8b', 'f1d8b', 'f1e8b', 'f1f8b', 'f1g8b', 'f1h8b', 'f1a8n', 'f1b8n', 'f1c8n', 'f1d8n', 'f1e8n', 'f1f8n', 'f1g8n', 'f1h8n', 'f1a8', 'f1b8', 'f1c8', 'f1d8', 'f1e8', 'f1f8', 'f1g8', 'f1h8', 'f1a7', 'f1b7', 'f1c7', 'f1d7', 'f1e7', 'f1f7', 'f1g7', 'f1h7', 'f1a6', 'f1b6', 'f1c6', 'f1d6', 'f1e6', 'f1f6', 'f1g6', 'f1h6', 'f1a5', 'f1b5', 'f1c5', 'f1d5', 'f1e5', 'f1f5', 'f1g5', 'f1h5', 'f1a4', 'f1b4', 'f1c4', 'f1d4', 'f1e4', 'f1f4', 'f1g4', 'f1h4', 'f1a3', 'f1b3', 'f1c3', 'f1d3', 'f1e3', 'f1f3', 'f1g3', 'f1h3', 'f1a2', 'f1b2', 'f1c2', 'f1d2', 'f1e2', 'f1f2', 'f1g2', 'f1h2', 'f1a1', 'f1b1', 'f1c1', 'f1d1', 'f1e1', 'f1f1', 'f1g1', 'f1h1', 'g1a8q', 'g1b8q', 'g1c8q', 'g1d8q', 'g1e8q', 'g1f8q', 'g1g8q', 'g1h8q', 'g1a8r', 'g1b8r', 'g1c8r', 'g1d8r', 'g1e8r', 'g1f8r', 'g1g8r', 'g1h8r', 'g1a8b', 'g1b8b', 'g1c8b', 'g1d8b', 'g1e8b', 'g1f8b', 'g1g8b', 'g1h8b', 'g1a8n', 'g1b8n', 'g1c8n', 'g1d8n', 'g1e8n', 'g1f8n', 'g1g8n', 'g1h8n', 'g1a8', 'g1b8', 'g1c8', 'g1d8', 'g1e8', 'g1f8', 'g1g8', 'g1h8', 'g1a7', 'g1b7', 'g1c7', 'g1d7', 'g1e7', 'g1f7', 'g1g7', 'g1h7', 'g1a6', 'g1b6', 'g1c6', 'g1d6', 'g1e6', 'g1f6', 'g1g6', 'g1h6', 'g1a5', 'g1b5', 'g1c5', 'g1d5', 'g1e5', 'g1f5', 'g1g5', 'g1h5', 'g1a4', 'g1b4', 'g1c4', 'g1d4', 'g1e4', 'g1f4', 'g1g4', 'g1h4', 'g1a3', 'g1b3', 'g1c3', 'g1d3', 'g1e3', 'g1f3', 'g1g3', 'g1h3', 'g1a2', 'g1b2', 'g1c2', 'g1d2', 'g1e2', 'g1f2', 'g1g2', 'g1h2', 'g1a1', 'g1b1', 'g1c1', 'g1d1', 'g1e1', 'g1f1', 'g1g1', 'g1h1', 'h1a8q', 'h1b8q', 'h1c8q', 'h1d8q', 'h1e8q', 'h1f8q', 'h1g8q', 'h1h8q', 'h1a8r', 'h1b8r', 'h1c8r', 'h1d8r', 'h1e8r', 'h1f8r', 'h1g8r', 'h1h8r', 'h1a8b', 'h1b8b', 'h1c8b', 'h1d8b', 'h1e8b', 'h1f8b', 'h1g8b', 'h1h8b', 'h1a8n', 'h1b8n', 'h1c8n', 'h1d8n', 'h1e8n', 'h1f8n', 'h1g8n', 'h1h8n', 'h1a8', 'h1b8', 'h1c8', 'h1d8', 'h1e8', 'h1f8', 'h1g8', 'h1h8', 'h1a7', 'h1b7', 'h1c7', 'h1d7', 'h1e7', 'h1f7', 'h1g7', 'h1h7', 'h1a6', 'h1b6', 'h1c6', 'h1d6', 'h1e6', 'h1f6', 'h1g6', 'h1h6', 'h1a5', 'h1b5', 'h1c5', 'h1d5', 'h1e5', 'h1f5', 'h1g5', 'h1h5', 'h1a4', 'h1b4', 'h1c4', 'h1d4', 'h1e4', 'h1f4', 'h1g4', 'h1h4', 'h1a3', 'h1b3', 'h1c3', 'h1d3', 'h1e3', 'h1f3', 'h1g3', 'h1h3', 'h1a2', 'h1b2', 'h1c2', 'h1d2', 'h1e2', 'h1f2', 'h1g2', 'h1h2', 'h1a1', 'h1b1', 'h1c1', 'h1d1', 'h1e1', 'h1f1', 'h1g1', 'h1h1'])"
      ]
     },
     "execution_count": 4,
     "metadata": {},
     "output_type": "execute_result"
    }
   ],
   "source": [
    "actions = torch.rand(2, 12, 8)\n",
    "from_ = actions[0].view(-1).numpy()\n",
    "to_ = actions[1].view(-1).numpy()\n",
    "board_ = np.ndarray.flatten(BOARD)\n",
    "\n",
    "queen_promo = np.array([f'{x}q'for x in board_[ : 8]])\n",
    "rook_promo = np.array([f'{x}r'for x in board_[ : 8]])\n",
    "bishop_promo = np.array([f'{x}b'for x in board_[ : 8]])\n",
    "knight_promo = np.array([f'{x}n'for x in board_[ : 8]])\n",
    "\n",
    "board__ = np.char.lower(np.concatenate((queen_promo, rook_promo, bishop_promo, knight_promo, board_)))\n",
    "\n",
    "from_ = {board__[idx] : from_[idx] for idx in range(len(from_))}\n",
    "to_ = {board__[idx] : to_[idx] for idx in range(len(to_))}\n",
    "\n",
    "action_probs = {}\n",
    "for from__ in from_.keys():\n",
    "    for to__ in to_.keys():\n",
    "        action_probs[f'{from__}{to__}'] = from_[from__] * to_[to__]\n",
    "        \n",
    "\n",
    "# action_probs =  \n",
    "\n",
    "\n",
    "# # from_.shape\n",
    "\n",
    "# board_\n",
    "# from_\\knight_promo\n",
    "len(action_probs.keys())"
   ]
  },
  {
   "cell_type": "markdown",
   "metadata": {},
   "source": [
    "# MONTE CARLO TREE SEARCH"
   ]
  },
  {
   "cell_type": "code",
   "execution_count": 3,
   "metadata": {},
   "outputs": [],
   "source": [
    "class MCTS():\n",
    "    \"\"\"Monte Carlo Tree Search Algorithm geared for Neural Networks\"\"\"\n",
    "\n",
    "    def __init__(self, env, agent, mcts_simulations = 100):\n",
    "        self.env = env\n",
    "        self.agent = agent\n",
    "        \n",
    "        # Exploration bonus\n",
    "        self.cpuct_init = 1.25                       \n",
    "        self.cpuct_base = 19652\n",
    "        self.mcts_simulations = mcts_simulations\n",
    "        \n",
    "        self.Qsa = {}                               # stores Q values for s, a (as defined in the paper)\n",
    "        self.Wsa = {}                               # stores the total action value\n",
    "        self.Nsa = {}                               # stores # times edge s, a was visited\n",
    "        self.Ns = {}                                # stores # times board s was visited\n",
    "        self.Ps = {}                                # stores prior probability of selecting a in s\n",
    "\n",
    "        self.Es = {}                                # stores victory result (1, 0, -1) ended for board s\n",
    "        self.z = {}                                 # stores the features of the state\n",
    "        self.a = {}                                 # stores the legal actions of the state\n",
    "        self.hidden = {}                            # stores the hidden states\n",
    "        \n",
    "        # Exploration noise parameters, used in action probabiltiies \n",
    "        self.dirichlet_alpha = 0.3  \n",
    "        self.exploration_fraction = 0.25\n",
    "\n",
    "\n",
    "    def action_probabilities(self, encoded_state, evaluate = False):\n",
    "        \"\"\"\n",
    "        Runs n number of monte carlo simulation, updates the tree and provides\n",
    "        an action selection probability distribution with as well an encoded representation\n",
    "        of the state with historical information zh\n",
    "        \"\"\"\n",
    "        for runs in range(self.mcts_simulations):\n",
    "            self.search(encoded_state, 0)\n",
    "        \n",
    "        s = encoded_state\n",
    "        self.env.decode(encoded_state)\n",
    "        legal_actions = self.env.legal_actions()\n",
    "        \n",
    "        # counts array represent the number of time each action edge from your current state was traversed\n",
    "        counts = [self.Nsa[(s,a)] if (s,a) in self.Nsa else 0 for a in legal_actions]\n",
    "        \n",
    "        zh = torch.cat((self.z[s].to('cpu'), self.hidden[s][0].squeeze(0).to('cpu')), dim = 1)\n",
    "        \n",
    "        # temprature is 0 representing taking the best action possible (greedy)\n",
    "        if evaluate: \n",
    "            # bestA: best action number : argmax Returns the indices of the maximum values\n",
    "            bestA = np.argmax(counts) \n",
    "            probs = [0] * len(counts)\n",
    "            probs[bestA] = 1\n",
    "            action_probs = {legal_actions[idx] : probs[idx] for idx in range(len(legal_actions))}\n",
    "            mean_q = [self.Qsa[(s,a)] for a in self.a[s]] # Mean Q[s] of all Q[(s,a)]\n",
    "            mean_q = sum(mean_q) / len(mean_q)\n",
    "            # returns the definite move(s) with same greedy reward, out of which one move HAS to be played\n",
    "            return action_probs, zh, mean_q\n",
    "        \n",
    "#         print(f\"{Fore.BLUE}COUNTS {sum(counts)} {counts}{Style.RESET_ALL}\")\n",
    "        \n",
    "        # Handles frequent draw situation when MCTS fails to explore when the game is over resulting 0 counts causing div 0 error\n",
    "        # Dirichlet noise handles this\n",
    "        #         if sum(counts) == 0:\n",
    "#             counts = [1 for _ in counts]\n",
    "        \n",
    "#         # To view P[s] distribution as a pie chartt\n",
    "#         try:\n",
    "#             agent_action_probs = {a : self.Ps[s][a] for a in self.a[s]}\n",
    "#             figureObject, axesObject = plt.subplots()\n",
    "#             # Draw the pie chart\n",
    "#             axesObject.pie(list(agent_action_probs.values()), labels = list(agent_action_probs.keys()), autopct = '%1.2f', startangle = 90)\n",
    "#             # Aspect ratio - equal means pie is a circl\n",
    "#             axesObject.axis('equal')\n",
    "#             plt.show()\n",
    "#         except Exception as e:\n",
    "#             print(e)\n",
    "            \n",
    "            \n",
    "        # Add the dirichlet noise to encourage exploration \n",
    "        noise = np.random.gamma(self.dirichlet_alpha, 1, len(legal_actions))   \n",
    "            \n",
    "        frac = self.exploration_fraction\n",
    "        for idx, (a, noise_) in enumerate(zip(legal_actions, noise)):\n",
    "            counts[idx] = counts[idx] * (1 - frac) + noise_ * frac\n",
    "        \n",
    "        probs = [x / float(sum(counts)) for x in counts]\n",
    "        action_probs = {legal_actions[idx] : probs[idx] for idx in range(len(legal_actions))}\n",
    "        mean_q = [self.Qsa[(s,a)] for a in self.a[s]]\n",
    "        mean_q = sum(mean_q) / len(mean_q)\n",
    "\n",
    "        return action_probs, zh, mean_q\n",
    "        #returns the probablity of different moves that CAN be played resulting in uniform distribution\n",
    "\n",
    "\n",
    "    def search(self, encoded_state, depth):\n",
    "        \"\"\"\n",
    "        This function performs one iteration of MCTS. It is recursively called\n",
    "        till a leaf node is found. The action chosen at each node is one that\n",
    "        has the maximum upper confidence bound as in the paper.\n",
    "        Once a leaf node is found, the neural network is called to return an\n",
    "        initial policy P and a value v for the state. This value is propogated\n",
    "        up the search path. In case the leaf node is a terminal state, the\n",
    "        outcome is propogated up the search path. The values of Ns, Nsa, Qsa, Wsa are\n",
    "        updated.\n",
    "        \n",
    "        NOTE: the return values are the negative of the value of the current\n",
    "        state. This is done since v is in [-1,1] and if v is the value of a\n",
    "        state for the current player, then its value is -v for the other player.\n",
    "        \"\"\"\n",
    "\n",
    "        s = deepcopy(encoded_state)\n",
    "        self.env.decode(encoded_state)\n",
    "#         print(f\"{Fore.GREEN}SEARCH DEPTH {depth}{Style.RESET_ALL}\")\n",
    "        \n",
    "        # Handles the maintaining of the MDNs hidden states\n",
    "        if s not in self.hidden:\n",
    "            self.hidden[s] = self.agent.get_hidden()\n",
    "        else:\n",
    "            self.agent.load_hidden(self.hidden[s])\n",
    "        \n",
    "        state, legal_actions = self.env.observe()\n",
    "            \n",
    "        # Check if its an terminal state, -1 Opponent Won, 0 Draw or Game not over, 1 Player Won\n",
    "        if self.env.terminal_test():\n",
    "            state, _ = self.env.observe()\n",
    "            \n",
    "            # Stores the AE encoded representation of current state\n",
    "            self.z[s] = self.agent.encode_z(state)\n",
    "            \n",
    "            # Intialize the edges of the state\n",
    "            for a in legal_actions:\n",
    "                self.Wsa[(s,a)] = 0\n",
    "                self.Qsa[(s,a)] = 0\n",
    "                self.Nsa[(s,a)] = 0\n",
    "            \n",
    "            self.a[s] = legal_actions\n",
    "#             print(\"SIMULATION OVER!\", self.env.terminal_test(), -self.Es[s], self.env.board.result())\n",
    "            \n",
    "            return -self.env.result()        \n",
    "\n",
    "        # Intialize the new node at state s with agents policy and value estimate\n",
    "        if s not in self.Ps: \n",
    "            self.Ps[s], v, self.z[s] = self.agent.act(state, legal_actions)\n",
    "            \n",
    "            \n",
    "#             print(\"self.Ps[s] at Depth\", depth, \"\\n\", self.Ps[s])\n",
    "            self.Ns[s] = 0\n",
    "    \n",
    "            # Intialize the edges of the state\n",
    "            for a in legal_actions:\n",
    "                self.Wsa[(s,a)] = 0\n",
    "                self.Qsa[(s,a)] = 0\n",
    "                self.Nsa[(s,a)] = 0\n",
    "            self.a[s] = legal_actions\n",
    "            return -v\n",
    "\n",
    "        self.env.decode(encoded_state)\n",
    "        \n",
    "        # Compare agents action estimates with actual legal actions\n",
    "        legal_actions = self.env.legal_actions()\n",
    "        agent_actions = list(self.Ps[s].keys())\n",
    "        \n",
    "        # Handles the occasional legal action that isn't an actual legal action\n",
    "        # Pawn side cut even though there is no enemy piece in respective position\n",
    "        if not set(agent_actions) == set(legal_actions):\n",
    "            legal_actions = agent_actions\n",
    "\n",
    "        # Update exploration rate as the search gets deeper to explore more\n",
    "        cpuct = math.log((1 + self.Ns[s] + self.cpuct_base) / self.cpuct_base) + self.cpuct_init\n",
    "        cpuct *= math.sqrt(self.Ns[s] / (self.Ns[s] + 1))\n",
    "\n",
    "        # Calculate PUCT Polynomial Upper Confidence Tree\n",
    "        # Value estimate, exploration rate, agents policy and frequency of edge visits\n",
    "        puct = {}\n",
    "        for a in legal_actions:\n",
    "            puct[a] = self.Qsa[(s,a)] + cpuct * self.Ps[s][a] * math.sqrt(self.Ns[s] / (self.Nsa[(s,a)] + 1))\n",
    "\n",
    "        # Pick the action with the highest upper confidence bound\n",
    "        a = max(puct, key = puct.get)\n",
    "        _, _ = self.env.step(a)\n",
    "        \n",
    "        # Update the MDNs hidden state\n",
    "        self.agent.step(self.z[s], a)\n",
    "        \n",
    "        # Reccursive search until leaf node or terminal node is found\n",
    "        encoded_next_state = self.env.encode()\n",
    "        v = self.search(encoded_next_state, depth + 1) \n",
    "        \n",
    "        # Backpropagate through the tree\n",
    "        self.Nsa[(s,a)] += 1 # increment number of visits this edge was taken\n",
    "        self.Wsa[(s,a)] += v # add value to total action value\n",
    "        self.Qsa[(s,a)] = self.Wsa[(s,a)] / self.Nsa[(s,a)] # calculate mean action value\n",
    "        self.Ns[s] += 1      # increment number of visits to this node\n",
    "        return -v\n",
    "    \n",
    "    def reset(self):\n",
    "        \"\"\"Resets the tracked information\"\"\"\n",
    "        self.Qsa = {} \n",
    "        self.Wsa = {} \n",
    "        self.Nsa = {}       \n",
    "        self.Ns = {}        \n",
    "        self.Ps = {}       \n",
    "        self.Es = {} \n",
    "        self.zh = {}\n",
    "        self.hidden = {}\n",
    "        self.agent.reset(1)\n",
    "        self.env.reset()"
   ]
  },
  {
   "cell_type": "markdown",
   "metadata": {},
   "source": [
    "# ENVIRONMENT"
   ]
  },
  {
   "cell_type": "code",
   "execution_count": 4,
   "metadata": {
    "scrolled": true
   },
   "outputs": [
    {
     "data": {
      "image/svg+xml": [
       "<svg height=\"390\" version=\"1.1\" viewBox=\"0 0 390 390\" width=\"390\" xmlns=\"http://www.w3.org/2000/svg\" xmlns:xlink=\"http://www.w3.org/1999/xlink\"><defs><g class=\"white pawn\" id=\"white-pawn\"><path d=\"M22 9c-2.21 0-4 1.79-4 4 0 .89.29 1.71.78 2.38-1.95 1.12-3.28 3.21-3.28 5.62 0 2.03.94 3.84 2.41 5.03-3 1.06-7.41 5.55-7.41 13.47h23c0-7.92-4.41-12.41-7.41-13.47 1.47-1.19 2.41-3 2.41-5.03 0-2.41-1.33-4.5-3.28-5.62.49-.67.78-1.49.78-2.38 0-2.21-1.79-4-4-4z\" fill=\"#fff\" stroke=\"#000\" stroke-linecap=\"round\" stroke-width=\"1.5\" /></g><g class=\"white knight\" fill=\"none\" fill-rule=\"evenodd\" id=\"white-knight\" stroke=\"#000\" stroke-linecap=\"round\" stroke-linejoin=\"round\" stroke-width=\"1.5\"><path d=\"M 22,10 C 32.5,11 38.5,18 38,39 L 15,39 C 15,30 25,32.5 23,18\" style=\"fill:#ffffff; stroke:#000000;\" /><path d=\"M 24,18 C 24.38,20.91 18.45,25.37 16,27 C 13,29 13.18,31.34 11,31 C 9.958,30.06 12.41,27.96 11,28 C 10,28 11.19,29.23 10,30 C 9,30 5.997,31 6,26 C 6,24 12,14 12,14 C 12,14 13.89,12.1 14,10.5 C 13.27,9.506 13.5,8.5 13.5,7.5 C 14.5,6.5 16.5,10 16.5,10 L 18.5,10 C 18.5,10 19.28,8.008 21,7 C 22,7 22,10 22,10\" style=\"fill:#ffffff; stroke:#000000;\" /><path d=\"M 9.5 25.5 A 0.5 0.5 0 1 1 8.5,25.5 A 0.5 0.5 0 1 1 9.5 25.5 z\" style=\"fill:#000000; stroke:#000000;\" /><path d=\"M 15 15.5 A 0.5 1.5 0 1 1 14,15.5 A 0.5 1.5 0 1 1 15 15.5 z\" style=\"fill:#000000; stroke:#000000;\" transform=\"matrix(0.866,0.5,-0.5,0.866,9.693,-5.173)\" /></g><g class=\"white bishop\" fill=\"none\" fill-rule=\"evenodd\" id=\"white-bishop\" stroke=\"#000\" stroke-linecap=\"round\" stroke-linejoin=\"round\" stroke-width=\"1.5\"><g fill=\"#fff\" stroke-linecap=\"butt\"><path d=\"M9 36c3.39-.97 10.11.43 13.5-2 3.39 2.43 10.11 1.03 13.5 2 0 0 1.65.54 3 2-.68.97-1.65.99-3 .5-3.39-.97-10.11.46-13.5-1-3.39 1.46-10.11.03-13.5 1-1.354.49-2.323.47-3-.5 1.354-1.94 3-2 3-2zM15 32c2.5 2.5 12.5 2.5 15 0 .5-1.5 0-2 0-2 0-2.5-2.5-4-2.5-4 5.5-1.5 6-11.5-5-15.5-11 4-10.5 14-5 15.5 0 0-2.5 1.5-2.5 4 0 0-.5.5 0 2zM25 8a2.5 2.5 0 1 1-5 0 2.5 2.5 0 1 1 5 0z\" /></g><path d=\"M17.5 26h10M15 30h15m-7.5-14.5v5M20 18h5\" stroke-linejoin=\"miter\" /></g><g class=\"white rook\" fill=\"#fff\" fill-rule=\"evenodd\" id=\"white-rook\" stroke=\"#000\" stroke-linecap=\"round\" stroke-linejoin=\"round\" stroke-width=\"1.5\"><path d=\"M9 39h27v-3H9v3zM12 36v-4h21v4H12zM11 14V9h4v2h5V9h5v2h5V9h4v5\" stroke-linecap=\"butt\" /><path d=\"M34 14l-3 3H14l-3-3\" /><path d=\"M31 17v12.5H14V17\" stroke-linecap=\"butt\" stroke-linejoin=\"miter\" /><path d=\"M31 29.5l1.5 2.5h-20l1.5-2.5\" /><path d=\"M11 14h23\" fill=\"none\" stroke-linejoin=\"miter\" /></g><g class=\"white queen\" fill=\"#fff\" fill-rule=\"evenodd\" id=\"white-queen\" stroke=\"#000\" stroke-linecap=\"round\" stroke-linejoin=\"round\" stroke-width=\"1.5\"><path d=\"M8 12a2 2 0 1 1-4 0 2 2 0 1 1 4 0zM24.5 7.5a2 2 0 1 1-4 0 2 2 0 1 1 4 0zM41 12a2 2 0 1 1-4 0 2 2 0 1 1 4 0zM16 8.5a2 2 0 1 1-4 0 2 2 0 1 1 4 0zM33 9a2 2 0 1 1-4 0 2 2 0 1 1 4 0z\" /><path d=\"M9 26c8.5-1.5 21-1.5 27 0l2-12-7 11V11l-5.5 13.5-3-15-3 15-5.5-14V25L7 14l2 12zM9 26c0 2 1.5 2 2.5 4 1 1.5 1 1 .5 3.5-1.5 1-1.5 2.5-1.5 2.5-1.5 1.5.5 2.5.5 2.5 6.5 1 16.5 1 23 0 0 0 1.5-1 0-2.5 0 0 .5-1.5-1-2.5-.5-2.5-.5-2 .5-3.5 1-2 2.5-2 2.5-4-8.5-1.5-18.5-1.5-27 0z\" stroke-linecap=\"butt\" /><path d=\"M11.5 30c3.5-1 18.5-1 22 0M12 33.5c6-1 15-1 21 0\" fill=\"none\" /></g><g class=\"white king\" fill=\"none\" fill-rule=\"evenodd\" id=\"white-king\" stroke=\"#000\" stroke-linecap=\"round\" stroke-linejoin=\"round\" stroke-width=\"1.5\"><path d=\"M22.5 11.63V6M20 8h5\" stroke-linejoin=\"miter\" /><path d=\"M22.5 25s4.5-7.5 3-10.5c0 0-1-2.5-3-2.5s-3 2.5-3 2.5c-1.5 3 3 10.5 3 10.5\" fill=\"#fff\" stroke-linecap=\"butt\" stroke-linejoin=\"miter\" /><path d=\"M11.5 37c5.5 3.5 15.5 3.5 21 0v-7s9-4.5 6-10.5c-4-6.5-13.5-3.5-16 4V27v-3.5c-3.5-7.5-13-10.5-16-4-3 6 5 10 5 10V37z\" fill=\"#fff\" /><path d=\"M11.5 30c5.5-3 15.5-3 21 0m-21 3.5c5.5-3 15.5-3 21 0m-21 3.5c5.5-3 15.5-3 21 0\" /></g><g class=\"black pawn\" id=\"black-pawn\"><path d=\"M22 9c-2.21 0-4 1.79-4 4 0 .89.29 1.71.78 2.38-1.95 1.12-3.28 3.21-3.28 5.62 0 2.03.94 3.84 2.41 5.03-3 1.06-7.41 5.55-7.41 13.47h23c0-7.92-4.41-12.41-7.41-13.47 1.47-1.19 2.41-3 2.41-5.03 0-2.41-1.33-4.5-3.28-5.62.49-.67.78-1.49.78-2.38 0-2.21-1.79-4-4-4z\" stroke=\"#000\" stroke-linecap=\"round\" stroke-width=\"1.5\" /></g><g class=\"black knight\" fill=\"none\" fill-rule=\"evenodd\" id=\"black-knight\" stroke=\"#000\" stroke-linecap=\"round\" stroke-linejoin=\"round\" stroke-width=\"1.5\"><path d=\"M 22,10 C 32.5,11 38.5,18 38,39 L 15,39 C 15,30 25,32.5 23,18\" style=\"fill:#000000; stroke:#000000;\" /><path d=\"M 24,18 C 24.38,20.91 18.45,25.37 16,27 C 13,29 13.18,31.34 11,31 C 9.958,30.06 12.41,27.96 11,28 C 10,28 11.19,29.23 10,30 C 9,30 5.997,31 6,26 C 6,24 12,14 12,14 C 12,14 13.89,12.1 14,10.5 C 13.27,9.506 13.5,8.5 13.5,7.5 C 14.5,6.5 16.5,10 16.5,10 L 18.5,10 C 18.5,10 19.28,8.008 21,7 C 22,7 22,10 22,10\" style=\"fill:#000000; stroke:#000000;\" /><path d=\"M 9.5 25.5 A 0.5 0.5 0 1 1 8.5,25.5 A 0.5 0.5 0 1 1 9.5 25.5 z\" style=\"fill:#ececec; stroke:#ececec;\" /><path d=\"M 15 15.5 A 0.5 1.5 0 1 1 14,15.5 A 0.5 1.5 0 1 1 15 15.5 z\" style=\"fill:#ececec; stroke:#ececec;\" transform=\"matrix(0.866,0.5,-0.5,0.866,9.693,-5.173)\" /><path d=\"M 24.55,10.4 L 24.1,11.85 L 24.6,12 C 27.75,13 30.25,14.49 32.5,18.75 C 34.75,23.01 35.75,29.06 35.25,39 L 35.2,39.5 L 37.45,39.5 L 37.5,39 C 38,28.94 36.62,22.15 34.25,17.66 C 31.88,13.17 28.46,11.02 25.06,10.5 L 24.55,10.4 z \" style=\"fill:#ececec; stroke:none;\" /></g><g class=\"black bishop\" fill=\"none\" fill-rule=\"evenodd\" id=\"black-bishop\" stroke=\"#000\" stroke-linecap=\"round\" stroke-linejoin=\"round\" stroke-width=\"1.5\"><path d=\"M9 36c3.39-.97 10.11.43 13.5-2 3.39 2.43 10.11 1.03 13.5 2 0 0 1.65.54 3 2-.68.97-1.65.99-3 .5-3.39-.97-10.11.46-13.5-1-3.39 1.46-10.11.03-13.5 1-1.354.49-2.323.47-3-.5 1.354-1.94 3-2 3-2zm6-4c2.5 2.5 12.5 2.5 15 0 .5-1.5 0-2 0-2 0-2.5-2.5-4-2.5-4 5.5-1.5 6-11.5-5-15.5-11 4-10.5 14-5 15.5 0 0-2.5 1.5-2.5 4 0 0-.5.5 0 2zM25 8a2.5 2.5 0 1 1-5 0 2.5 2.5 0 1 1 5 0z\" fill=\"#000\" stroke-linecap=\"butt\" /><path d=\"M17.5 26h10M15 30h15m-7.5-14.5v5M20 18h5\" stroke=\"#fff\" stroke-linejoin=\"miter\" /></g><g class=\"black rook\" fill=\"#000\" fill-rule=\"evenodd\" id=\"black-rook\" stroke=\"#000\" stroke-linecap=\"round\" stroke-linejoin=\"round\" stroke-width=\"1.5\"><path d=\"M9 39h27v-3H9v3zM12.5 32l1.5-2.5h17l1.5 2.5h-20zM12 36v-4h21v4H12z\" stroke-linecap=\"butt\" /><path d=\"M14 29.5v-13h17v13H14z\" stroke-linecap=\"butt\" stroke-linejoin=\"miter\" /><path d=\"M14 16.5L11 14h23l-3 2.5H14zM11 14V9h4v2h5V9h5v2h5V9h4v5H11z\" stroke-linecap=\"butt\" /><path d=\"M12 35.5h21M13 31.5h19M14 29.5h17M14 16.5h17M11 14h23\" fill=\"none\" stroke=\"#fff\" stroke-linejoin=\"miter\" stroke-width=\"1\" /></g><g class=\"black queen\" fill=\"#000\" fill-rule=\"evenodd\" id=\"black-queen\" stroke=\"#000\" stroke-linecap=\"round\" stroke-linejoin=\"round\" stroke-width=\"1.5\"><g fill=\"#000\" stroke=\"none\"><circle cx=\"6\" cy=\"12\" r=\"2.75\" /><circle cx=\"14\" cy=\"9\" r=\"2.75\" /><circle cx=\"22.5\" cy=\"8\" r=\"2.75\" /><circle cx=\"31\" cy=\"9\" r=\"2.75\" /><circle cx=\"39\" cy=\"12\" r=\"2.75\" /></g><path d=\"M9 26c8.5-1.5 21-1.5 27 0l2.5-12.5L31 25l-.3-14.1-5.2 13.6-3-14.5-3 14.5-5.2-13.6L14 25 6.5 13.5 9 26zM9 26c0 2 1.5 2 2.5 4 1 1.5 1 1 .5 3.5-1.5 1-1.5 2.5-1.5 2.5-1.5 1.5.5 2.5.5 2.5 6.5 1 16.5 1 23 0 0 0 1.5-1 0-2.5 0 0 .5-1.5-1-2.5-.5-2.5-.5-2 .5-3.5 1-2 2.5-2 2.5-4-8.5-1.5-18.5-1.5-27 0z\" stroke-linecap=\"butt\" /><path d=\"M11 38.5a35 35 1 0 0 23 0\" fill=\"none\" stroke-linecap=\"butt\" /><path d=\"M11 29a35 35 1 0 1 23 0M12.5 31.5h20M11.5 34.5a35 35 1 0 0 22 0M10.5 37.5a35 35 1 0 0 24 0\" fill=\"none\" stroke=\"#fff\" /></g><g class=\"black king\" fill=\"none\" fill-rule=\"evenodd\" id=\"black-king\" stroke=\"#000\" stroke-linecap=\"round\" stroke-linejoin=\"round\" stroke-width=\"1.5\"><path d=\"M22.5 11.63V6\" stroke-linejoin=\"miter\" /><path d=\"M22.5 25s4.5-7.5 3-10.5c0 0-1-2.5-3-2.5s-3 2.5-3 2.5c-1.5 3 3 10.5 3 10.5\" fill=\"#000\" stroke-linecap=\"butt\" stroke-linejoin=\"miter\" /><path d=\"M11.5 37c5.5 3.5 15.5 3.5 21 0v-7s9-4.5 6-10.5c-4-6.5-13.5-3.5-16 4V27v-3.5c-3.5-7.5-13-10.5-16-4-3 6 5 10 5 10V37z\" fill=\"#000\" /><path d=\"M20 8h5\" stroke-linejoin=\"miter\" /><path d=\"M32 29.5s8.5-4 6.03-9.65C34.15 14 25 18 22.5 24.5l.01 2.1-.01-2.1C20 18 9.906 14 6.997 19.85c-2.497 5.65 4.853 9 4.853 9M11.5 30c5.5-3 15.5-3 21 0m-21 3.5c5.5-3 15.5-3 21 0m-21 3.5c5.5-3 15.5-3 21 0\" stroke=\"#fff\" /></g></defs><rect fill=\"#212121\" height=\"390\" width=\"390\" x=\"0\" y=\"0\" /><rect class=\"square dark a1\" fill=\"#d18b47\" height=\"45\" stroke=\"none\" width=\"45\" x=\"15\" y=\"330\" /><use transform=\"translate(15, 330)\" xlink:href=\"#white-rook\" /><rect class=\"square light b1\" fill=\"#ffce9e\" height=\"45\" stroke=\"none\" width=\"45\" x=\"60\" y=\"330\" /><use transform=\"translate(60, 330)\" xlink:href=\"#white-knight\" /><rect class=\"square dark c1\" fill=\"#d18b47\" height=\"45\" stroke=\"none\" width=\"45\" x=\"105\" y=\"330\" /><use transform=\"translate(105, 330)\" xlink:href=\"#white-bishop\" /><rect class=\"square light d1\" fill=\"#ffce9e\" height=\"45\" stroke=\"none\" width=\"45\" x=\"150\" y=\"330\" /><use transform=\"translate(150, 330)\" xlink:href=\"#white-queen\" /><rect class=\"square dark e1\" fill=\"#d18b47\" height=\"45\" stroke=\"none\" width=\"45\" x=\"195\" y=\"330\" /><use transform=\"translate(195, 330)\" xlink:href=\"#white-king\" /><rect class=\"square light f1\" fill=\"#ffce9e\" height=\"45\" stroke=\"none\" width=\"45\" x=\"240\" y=\"330\" /><use transform=\"translate(240, 330)\" xlink:href=\"#white-bishop\" /><rect class=\"square dark g1\" fill=\"#d18b47\" height=\"45\" stroke=\"none\" width=\"45\" x=\"285\" y=\"330\" /><use transform=\"translate(285, 330)\" xlink:href=\"#white-knight\" /><rect class=\"square light h1\" fill=\"#ffce9e\" height=\"45\" stroke=\"none\" width=\"45\" x=\"330\" y=\"330\" /><use transform=\"translate(330, 330)\" xlink:href=\"#white-rook\" /><rect class=\"square light a2\" fill=\"#ffce9e\" height=\"45\" stroke=\"none\" width=\"45\" x=\"15\" y=\"285\" /><use transform=\"translate(15, 285)\" xlink:href=\"#white-pawn\" /><rect class=\"square dark b2\" fill=\"#d18b47\" height=\"45\" stroke=\"none\" width=\"45\" x=\"60\" y=\"285\" /><use transform=\"translate(60, 285)\" xlink:href=\"#white-pawn\" /><rect class=\"square light c2\" fill=\"#ffce9e\" height=\"45\" stroke=\"none\" width=\"45\" x=\"105\" y=\"285\" /><use transform=\"translate(105, 285)\" xlink:href=\"#white-pawn\" /><rect class=\"square dark d2\" fill=\"#d18b47\" height=\"45\" stroke=\"none\" width=\"45\" x=\"150\" y=\"285\" /><use transform=\"translate(150, 285)\" xlink:href=\"#white-pawn\" /><rect class=\"square light e2\" fill=\"#ffce9e\" height=\"45\" stroke=\"none\" width=\"45\" x=\"195\" y=\"285\" /><use transform=\"translate(195, 285)\" xlink:href=\"#white-pawn\" /><rect class=\"square dark f2\" fill=\"#d18b47\" height=\"45\" stroke=\"none\" width=\"45\" x=\"240\" y=\"285\" /><use transform=\"translate(240, 285)\" xlink:href=\"#white-pawn\" /><rect class=\"square light g2\" fill=\"#ffce9e\" height=\"45\" stroke=\"none\" width=\"45\" x=\"285\" y=\"285\" /><use transform=\"translate(285, 285)\" xlink:href=\"#white-pawn\" /><rect class=\"square dark h2\" fill=\"#d18b47\" height=\"45\" stroke=\"none\" width=\"45\" x=\"330\" y=\"285\" /><use transform=\"translate(330, 285)\" xlink:href=\"#white-pawn\" /><rect class=\"square dark a3\" fill=\"#d18b47\" height=\"45\" stroke=\"none\" width=\"45\" x=\"15\" y=\"240\" /><rect class=\"square light b3\" fill=\"#ffce9e\" height=\"45\" stroke=\"none\" width=\"45\" x=\"60\" y=\"240\" /><rect class=\"square dark c3\" fill=\"#d18b47\" height=\"45\" stroke=\"none\" width=\"45\" x=\"105\" y=\"240\" /><rect class=\"square light d3\" fill=\"#ffce9e\" height=\"45\" stroke=\"none\" width=\"45\" x=\"150\" y=\"240\" /><rect class=\"square dark e3\" fill=\"#d18b47\" height=\"45\" stroke=\"none\" width=\"45\" x=\"195\" y=\"240\" /><rect class=\"square light f3\" fill=\"#ffce9e\" height=\"45\" stroke=\"none\" width=\"45\" x=\"240\" y=\"240\" /><rect class=\"square dark g3\" fill=\"#d18b47\" height=\"45\" stroke=\"none\" width=\"45\" x=\"285\" y=\"240\" /><rect class=\"square light h3\" fill=\"#ffce9e\" height=\"45\" stroke=\"none\" width=\"45\" x=\"330\" y=\"240\" /><rect class=\"square light a4\" fill=\"#ffce9e\" height=\"45\" stroke=\"none\" width=\"45\" x=\"15\" y=\"195\" /><rect class=\"square dark b4\" fill=\"#d18b47\" height=\"45\" stroke=\"none\" width=\"45\" x=\"60\" y=\"195\" /><rect class=\"square light c4\" fill=\"#ffce9e\" height=\"45\" stroke=\"none\" width=\"45\" x=\"105\" y=\"195\" /><rect class=\"square dark d4\" fill=\"#d18b47\" height=\"45\" stroke=\"none\" width=\"45\" x=\"150\" y=\"195\" /><rect class=\"square light e4\" fill=\"#ffce9e\" height=\"45\" stroke=\"none\" width=\"45\" x=\"195\" y=\"195\" /><rect class=\"square dark f4\" fill=\"#d18b47\" height=\"45\" stroke=\"none\" width=\"45\" x=\"240\" y=\"195\" /><rect class=\"square light g4\" fill=\"#ffce9e\" height=\"45\" stroke=\"none\" width=\"45\" x=\"285\" y=\"195\" /><rect class=\"square dark h4\" fill=\"#d18b47\" height=\"45\" stroke=\"none\" width=\"45\" x=\"330\" y=\"195\" /><rect class=\"square dark a5\" fill=\"#d18b47\" height=\"45\" stroke=\"none\" width=\"45\" x=\"15\" y=\"150\" /><rect class=\"square light b5\" fill=\"#ffce9e\" height=\"45\" stroke=\"none\" width=\"45\" x=\"60\" y=\"150\" /><rect class=\"square dark c5\" fill=\"#d18b47\" height=\"45\" stroke=\"none\" width=\"45\" x=\"105\" y=\"150\" /><rect class=\"square light d5\" fill=\"#ffce9e\" height=\"45\" stroke=\"none\" width=\"45\" x=\"150\" y=\"150\" /><rect class=\"square dark e5\" fill=\"#d18b47\" height=\"45\" stroke=\"none\" width=\"45\" x=\"195\" y=\"150\" /><rect class=\"square light f5\" fill=\"#ffce9e\" height=\"45\" stroke=\"none\" width=\"45\" x=\"240\" y=\"150\" /><rect class=\"square dark g5\" fill=\"#d18b47\" height=\"45\" stroke=\"none\" width=\"45\" x=\"285\" y=\"150\" /><rect class=\"square light h5\" fill=\"#ffce9e\" height=\"45\" stroke=\"none\" width=\"45\" x=\"330\" y=\"150\" /><rect class=\"square light a6\" fill=\"#ffce9e\" height=\"45\" stroke=\"none\" width=\"45\" x=\"15\" y=\"105\" /><rect class=\"square dark b6\" fill=\"#d18b47\" height=\"45\" stroke=\"none\" width=\"45\" x=\"60\" y=\"105\" /><rect class=\"square light c6\" fill=\"#ffce9e\" height=\"45\" stroke=\"none\" width=\"45\" x=\"105\" y=\"105\" /><rect class=\"square dark d6\" fill=\"#d18b47\" height=\"45\" stroke=\"none\" width=\"45\" x=\"150\" y=\"105\" /><rect class=\"square light e6\" fill=\"#ffce9e\" height=\"45\" stroke=\"none\" width=\"45\" x=\"195\" y=\"105\" /><rect class=\"square dark f6\" fill=\"#d18b47\" height=\"45\" stroke=\"none\" width=\"45\" x=\"240\" y=\"105\" /><rect class=\"square light g6\" fill=\"#ffce9e\" height=\"45\" stroke=\"none\" width=\"45\" x=\"285\" y=\"105\" /><rect class=\"square dark h6\" fill=\"#d18b47\" height=\"45\" stroke=\"none\" width=\"45\" x=\"330\" y=\"105\" /><rect class=\"square dark a7\" fill=\"#d18b47\" height=\"45\" stroke=\"none\" width=\"45\" x=\"15\" y=\"60\" /><use transform=\"translate(15, 60)\" xlink:href=\"#black-pawn\" /><rect class=\"square light b7\" fill=\"#ffce9e\" height=\"45\" stroke=\"none\" width=\"45\" x=\"60\" y=\"60\" /><use transform=\"translate(60, 60)\" xlink:href=\"#black-pawn\" /><rect class=\"square dark c7\" fill=\"#d18b47\" height=\"45\" stroke=\"none\" width=\"45\" x=\"105\" y=\"60\" /><use transform=\"translate(105, 60)\" xlink:href=\"#black-pawn\" /><rect class=\"square light d7\" fill=\"#ffce9e\" height=\"45\" stroke=\"none\" width=\"45\" x=\"150\" y=\"60\" /><use transform=\"translate(150, 60)\" xlink:href=\"#black-pawn\" /><rect class=\"square dark e7\" fill=\"#d18b47\" height=\"45\" stroke=\"none\" width=\"45\" x=\"195\" y=\"60\" /><use transform=\"translate(195, 60)\" xlink:href=\"#black-pawn\" /><rect class=\"square light f7\" fill=\"#ffce9e\" height=\"45\" stroke=\"none\" width=\"45\" x=\"240\" y=\"60\" /><use transform=\"translate(240, 60)\" xlink:href=\"#black-pawn\" /><rect class=\"square dark g7\" fill=\"#d18b47\" height=\"45\" stroke=\"none\" width=\"45\" x=\"285\" y=\"60\" /><use transform=\"translate(285, 60)\" xlink:href=\"#black-pawn\" /><rect class=\"square light h7\" fill=\"#ffce9e\" height=\"45\" stroke=\"none\" width=\"45\" x=\"330\" y=\"60\" /><use transform=\"translate(330, 60)\" xlink:href=\"#black-pawn\" /><rect class=\"square light a8\" fill=\"#ffce9e\" height=\"45\" stroke=\"none\" width=\"45\" x=\"15\" y=\"15\" /><use transform=\"translate(15, 15)\" xlink:href=\"#black-rook\" /><rect class=\"square dark b8\" fill=\"#d18b47\" height=\"45\" stroke=\"none\" width=\"45\" x=\"60\" y=\"15\" /><use transform=\"translate(60, 15)\" xlink:href=\"#black-knight\" /><rect class=\"square light c8\" fill=\"#ffce9e\" height=\"45\" stroke=\"none\" width=\"45\" x=\"105\" y=\"15\" /><use transform=\"translate(105, 15)\" xlink:href=\"#black-bishop\" /><rect class=\"square dark d8\" fill=\"#d18b47\" height=\"45\" stroke=\"none\" width=\"45\" x=\"150\" y=\"15\" /><use transform=\"translate(150, 15)\" xlink:href=\"#black-queen\" /><rect class=\"square light e8\" fill=\"#ffce9e\" height=\"45\" stroke=\"none\" width=\"45\" x=\"195\" y=\"15\" /><use transform=\"translate(195, 15)\" xlink:href=\"#black-king\" /><rect class=\"square dark f8\" fill=\"#d18b47\" height=\"45\" stroke=\"none\" width=\"45\" x=\"240\" y=\"15\" /><use transform=\"translate(240, 15)\" xlink:href=\"#black-bishop\" /><rect class=\"square light g8\" fill=\"#ffce9e\" height=\"45\" stroke=\"none\" width=\"45\" x=\"285\" y=\"15\" /><use transform=\"translate(285, 15)\" xlink:href=\"#black-knight\" /><rect class=\"square dark h8\" fill=\"#d18b47\" height=\"45\" stroke=\"none\" width=\"45\" x=\"330\" y=\"15\" /><use transform=\"translate(330, 15)\" xlink:href=\"#black-rook\" /><g fill=\"#e5e5e5\" stroke=\"#e5e5e5\" transform=\"translate(20, 0) scale(0.75, 0.75)\"><path d=\"M23.328 10.016q-1.742 0-2.414.398-.672.398-.672 1.36 0 .765.5 1.218.508.445 1.375.445 1.196 0 1.914-.843.727-.852.727-2.258v-.32zm2.867-.594v4.992h-1.437v-1.328q-.492.797-1.227 1.18-.734.375-1.797.375-1.343 0-2.14-.75-.79-.758-.79-2.024 0-1.476.985-2.226.992-.75 2.953-.75h2.016V8.75q0-.992-.656-1.531-.649-.547-1.829-.547-.75 0-1.46.18-.711.18-1.368.539V6.062q.79-.304 1.532-.453.742-.156 1.445-.156 1.898 0 2.836.984.937.985.937 2.985z\" /></g><g fill=\"#e5e5e5\" stroke=\"#e5e5e5\" transform=\"translate(20, 375) scale(0.75, 0.75)\"><path d=\"M23.328 10.016q-1.742 0-2.414.398-.672.398-.672 1.36 0 .765.5 1.218.508.445 1.375.445 1.196 0 1.914-.843.727-.852.727-2.258v-.32zm2.867-.594v4.992h-1.437v-1.328q-.492.797-1.227 1.18-.734.375-1.797.375-1.343 0-2.14-.75-.79-.758-.79-2.024 0-1.476.985-2.226.992-.75 2.953-.75h2.016V8.75q0-.992-.656-1.531-.649-.547-1.829-.547-.75 0-1.46.18-.711.18-1.368.539V6.062q.79-.304 1.532-.453.742-.156 1.445-.156 1.898 0 2.836.984.937.985.937 2.985z\" /></g><g fill=\"#e5e5e5\" stroke=\"#e5e5e5\" transform=\"translate(65, 0) scale(0.75, 0.75)\"><path d=\"M24.922 10.047q0-1.586-.656-2.485-.649-.906-1.79-.906-1.14 0-1.796.906-.649.899-.649 2.485 0 1.586.649 2.492.656.898 1.797.898 1.14 0 1.789-.898.656-.906.656-2.492zm-4.89-3.055q.452-.781 1.14-1.156.695-.383 1.656-.383 1.594 0 2.586 1.266 1 1.265 1 3.328 0 2.062-1 3.328-.992 1.266-2.586 1.266-.96 0-1.656-.375-.688-.383-1.14-1.164v1.312h-1.446V2.258h1.445z\" /></g><g fill=\"#e5e5e5\" stroke=\"#e5e5e5\" transform=\"translate(65, 375) scale(0.75, 0.75)\"><path d=\"M24.922 10.047q0-1.586-.656-2.485-.649-.906-1.79-.906-1.14 0-1.796.906-.649.899-.649 2.485 0 1.586.649 2.492.656.898 1.797.898 1.14 0 1.789-.898.656-.906.656-2.492zm-4.89-3.055q.452-.781 1.14-1.156.695-.383 1.656-.383 1.594 0 2.586 1.266 1 1.265 1 3.328 0 2.062-1 3.328-.992 1.266-2.586 1.266-.96 0-1.656-.375-.688-.383-1.14-1.164v1.312h-1.446V2.258h1.445z\" /></g><g fill=\"#e5e5e5\" stroke=\"#e5e5e5\" transform=\"translate(110, 0) scale(0.75, 0.75)\"><path d=\"M25.96 6v1.344q-.608-.336-1.226-.5-.609-.172-1.234-.172-1.398 0-2.172.89-.773.883-.773 2.485 0 1.601.773 2.492.774.883 2.172.883.625 0 1.234-.164.618-.172 1.227-.508v1.328q-.602.281-1.25.422-.64.14-1.367.14-1.977 0-3.14-1.242-1.165-1.242-1.165-3.351 0-2.14 1.172-3.367 1.18-1.227 3.227-1.227.664 0 1.296.14.633.134 1.227.407z\" /></g><g fill=\"#e5e5e5\" stroke=\"#e5e5e5\" transform=\"translate(110, 375) scale(0.75, 0.75)\"><path d=\"M25.96 6v1.344q-.608-.336-1.226-.5-.609-.172-1.234-.172-1.398 0-2.172.89-.773.883-.773 2.485 0 1.601.773 2.492.774.883 2.172.883.625 0 1.234-.164.618-.172 1.227-.508v1.328q-.602.281-1.25.422-.64.14-1.367.14-1.977 0-3.14-1.242-1.165-1.242-1.165-3.351 0-2.14 1.172-3.367 1.18-1.227 3.227-1.227.664 0 1.296.14.633.134 1.227.407z\" /></g><g fill=\"#e5e5e5\" stroke=\"#e5e5e5\" transform=\"translate(155, 0) scale(0.75, 0.75)\"><path d=\"M24.973 6.992V2.258h1.437v12.156h-1.437v-1.312q-.453.78-1.149 1.164-.687.375-1.656.375-1.586 0-2.586-1.266-.992-1.266-.992-3.328 0-2.063.992-3.328 1-1.266 2.586-1.266.969 0 1.656.383.696.375 1.149 1.156zm-4.899 3.055q0 1.586.649 2.492.656.898 1.797.898 1.14 0 1.796-.898.657-.906.657-2.492 0-1.586-.657-2.485-.656-.906-1.796-.906-1.141 0-1.797.906-.649.899-.649 2.485z\" /></g><g fill=\"#e5e5e5\" stroke=\"#e5e5e5\" transform=\"translate(155, 375) scale(0.75, 0.75)\"><path d=\"M24.973 6.992V2.258h1.437v12.156h-1.437v-1.312q-.453.78-1.149 1.164-.687.375-1.656.375-1.586 0-2.586-1.266-.992-1.266-.992-3.328 0-2.063.992-3.328 1-1.266 2.586-1.266.969 0 1.656.383.696.375 1.149 1.156zm-4.899 3.055q0 1.586.649 2.492.656.898 1.797.898 1.14 0 1.796-.898.657-.906.657-2.492 0-1.586-.657-2.485-.656-.906-1.796-.906-1.141 0-1.797.906-.649.899-.649 2.485z\" /></g><g fill=\"#e5e5e5\" stroke=\"#e5e5e5\" transform=\"translate(200, 0) scale(0.75, 0.75)\"><path d=\"M26.555 9.68v.703h-6.61q.094 1.484.89 2.265.806.774 2.235.774.828 0 1.602-.203.781-.203 1.547-.61v1.36q-.774.328-1.586.5-.813.172-1.649.172-2.093 0-3.32-1.22-1.219-1.218-1.219-3.296 0-2.148 1.157-3.406 1.164-1.266 3.132-1.266 1.766 0 2.79 1.14 1.03 1.134 1.03 3.087zm-1.438-.422q-.015-1.18-.664-1.883-.64-.703-1.703-.703-1.203 0-1.93.68-.718.68-.828 1.914z\" /></g><g fill=\"#e5e5e5\" stroke=\"#e5e5e5\" transform=\"translate(200, 375) scale(0.75, 0.75)\"><path d=\"M26.555 9.68v.703h-6.61q.094 1.484.89 2.265.806.774 2.235.774.828 0 1.602-.203.781-.203 1.547-.61v1.36q-.774.328-1.586.5-.813.172-1.649.172-2.093 0-3.32-1.22-1.219-1.218-1.219-3.296 0-2.148 1.157-3.406 1.164-1.266 3.132-1.266 1.766 0 2.79 1.14 1.03 1.134 1.03 3.087zm-1.438-.422q-.015-1.18-.664-1.883-.64-.703-1.703-.703-1.203 0-1.93.68-.718.68-.828 1.914z\" /></g><g fill=\"#e5e5e5\" stroke=\"#e5e5e5\" transform=\"translate(245, 0) scale(0.75, 0.75)\"><path d=\"M25.285 2.258v1.195H23.91q-.773 0-1.078.313-.297.312-.297 1.125v.773h2.367v1.117h-2.367v7.633H21.09V6.781h-1.375V5.664h1.375v-.61q0-1.46.68-2.124.68-.672 2.156-.672z\" /></g><g fill=\"#e5e5e5\" stroke=\"#e5e5e5\" transform=\"translate(245, 375) scale(0.75, 0.75)\"><path d=\"M25.285 2.258v1.195H23.91q-.773 0-1.078.313-.297.312-.297 1.125v.773h2.367v1.117h-2.367v7.633H21.09V6.781h-1.375V5.664h1.375v-.61q0-1.46.68-2.124.68-.672 2.156-.672z\" /></g><g fill=\"#e5e5e5\" stroke=\"#e5e5e5\" transform=\"translate(290, 0) scale(0.75, 0.75)\"><path d=\"M24.973 9.937q0-1.562-.649-2.421-.64-.86-1.804-.86-1.157 0-1.805.86-.64.859-.64 2.421 0 1.555.64 2.415.648.859 1.805.859 1.164 0 1.804-.86.649-.859.649-2.414zm1.437 3.391q0 2.234-.992 3.32-.992 1.094-3.04 1.094-.757 0-1.429-.117-.672-.11-1.304-.344v-1.398q.632.344 1.25.508.617.164 1.257.164 1.414 0 2.118-.743.703-.734.703-2.226v-.711q-.446.773-1.141 1.156-.695.383-1.664.383-1.61 0-2.594-1.227-.984-1.226-.984-3.25 0-2.03.984-3.257.985-1.227 2.594-1.227.969 0 1.664.383t1.14 1.156V5.664h1.438z\" /></g><g fill=\"#e5e5e5\" stroke=\"#e5e5e5\" transform=\"translate(290, 375) scale(0.75, 0.75)\"><path d=\"M24.973 9.937q0-1.562-.649-2.421-.64-.86-1.804-.86-1.157 0-1.805.86-.64.859-.64 2.421 0 1.555.64 2.415.648.859 1.805.859 1.164 0 1.804-.86.649-.859.649-2.414zm1.437 3.391q0 2.234-.992 3.32-.992 1.094-3.04 1.094-.757 0-1.429-.117-.672-.11-1.304-.344v-1.398q.632.344 1.25.508.617.164 1.257.164 1.414 0 2.118-.743.703-.734.703-2.226v-.711q-.446.773-1.141 1.156-.695.383-1.664.383-1.61 0-2.594-1.227-.984-1.226-.984-3.25 0-2.03.984-3.257.985-1.227 2.594-1.227.969 0 1.664.383t1.14 1.156V5.664h1.438z\" /></g><g fill=\"#e5e5e5\" stroke=\"#e5e5e5\" transform=\"translate(335, 0) scale(0.75, 0.75)\"><path d=\"M26.164 9.133v5.281h-1.437V9.18q0-1.243-.485-1.86-.484-.617-1.453-.617-1.164 0-1.836.742-.672.742-.672 2.024v4.945h-1.445V2.258h1.445v4.765q.516-.789 1.211-1.18.703-.39 1.617-.39 1.508 0 2.282.938.773.93.773 2.742z\" /></g><g fill=\"#e5e5e5\" stroke=\"#e5e5e5\" transform=\"translate(335, 375) scale(0.75, 0.75)\"><path d=\"M26.164 9.133v5.281h-1.437V9.18q0-1.243-.485-1.86-.484-.617-1.453-.617-1.164 0-1.836.742-.672.742-.672 2.024v4.945h-1.445V2.258h1.445v4.765q.516-.789 1.211-1.18.703-.39 1.617-.39 1.508 0 2.282.938.773.93.773 2.742z\" /></g><g fill=\"#e5e5e5\" stroke=\"#e5e5e5\" transform=\"translate(0, 335) scale(0.75, 0.75)\"><path d=\"M6.754 26.996h2.578v-8.898l-2.805.562v-1.437l2.79-.563h1.578v10.336h2.578v1.328h-6.72z\" /></g><g fill=\"#e5e5e5\" stroke=\"#e5e5e5\" transform=\"translate(375, 335) scale(0.75, 0.75)\"><path d=\"M6.754 26.996h2.578v-8.898l-2.805.562v-1.437l2.79-.563h1.578v10.336h2.578v1.328h-6.72z\" /></g><g fill=\"#e5e5e5\" stroke=\"#e5e5e5\" transform=\"translate(0, 290) scale(0.75, 0.75)\"><path d=\"M8.195 26.996h5.508v1.328H6.297v-1.328q.898-.93 2.445-2.492 1.555-1.57 1.953-2.024.758-.851 1.055-1.437.305-.594.305-1.164 0-.93-.657-1.516-.648-.586-1.695-.586-.742 0-1.57.258-.82.258-1.758.781v-1.593q.953-.383 1.781-.578.828-.196 1.516-.196 1.812 0 2.89.906 1.079.907 1.079 2.422 0 .72-.274 1.368-.265.64-.976 1.515-.196.227-1.243 1.313-1.046 1.078-2.953 3.023z\" /></g><g fill=\"#e5e5e5\" stroke=\"#e5e5e5\" transform=\"translate(375, 290) scale(0.75, 0.75)\"><path d=\"M8.195 26.996h5.508v1.328H6.297v-1.328q.898-.93 2.445-2.492 1.555-1.57 1.953-2.024.758-.851 1.055-1.437.305-.594.305-1.164 0-.93-.657-1.516-.648-.586-1.695-.586-.742 0-1.57.258-.82.258-1.758.781v-1.593q.953-.383 1.781-.578.828-.196 1.516-.196 1.812 0 2.89.906 1.079.907 1.079 2.422 0 .72-.274 1.368-.265.64-.976 1.515-.196.227-1.243 1.313-1.046 1.078-2.953 3.023z\" /></g><g fill=\"#e5e5e5\" stroke=\"#e5e5e5\" transform=\"translate(0, 245) scale(0.75, 0.75)\"><path d=\"M11.434 22.035q1.132.242 1.765 1.008.64.766.64 1.89 0 1.727-1.187 2.672-1.187.946-3.375.946-.734 0-1.515-.149-.774-.14-1.602-.43V26.45q.656.383 1.438.578.78.196 1.632.196 1.485 0 2.258-.586.782-.586.782-1.703 0-1.032-.727-1.61-.719-.586-2.008-.586h-1.36v-1.297h1.423q1.164 0 1.78-.46.618-.47.618-1.344 0-.899-.64-1.375-.633-.485-1.82-.485-.65 0-1.391.141-.743.14-1.633.437V16.95q.898-.25 1.68-.375.788-.125 1.484-.125 1.797 0 2.844.82 1.046.813 1.046 2.204 0 .968-.554 1.64-.555.664-1.578.922z\" /></g><g fill=\"#e5e5e5\" stroke=\"#e5e5e5\" transform=\"translate(375, 245) scale(0.75, 0.75)\"><path d=\"M11.434 22.035q1.132.242 1.765 1.008.64.766.64 1.89 0 1.727-1.187 2.672-1.187.946-3.375.946-.734 0-1.515-.149-.774-.14-1.602-.43V26.45q.656.383 1.438.578.78.196 1.632.196 1.485 0 2.258-.586.782-.586.782-1.703 0-1.032-.727-1.61-.719-.586-2.008-.586h-1.36v-1.297h1.423q1.164 0 1.78-.46.618-.47.618-1.344 0-.899-.64-1.375-.633-.485-1.82-.485-.65 0-1.391.141-.743.14-1.633.437V16.95q.898-.25 1.68-.375.788-.125 1.484-.125 1.797 0 2.844.82 1.046.813 1.046 2.204 0 .968-.554 1.64-.555.664-1.578.922z\" /></g><g fill=\"#e5e5e5\" stroke=\"#e5e5e5\" transform=\"translate(0, 200) scale(0.75, 0.75)\"><path d=\"M11.016 18.035L7.03 24.262h3.985zm-.414-1.375h1.984v7.602h1.664v1.312h-1.664v2.75h-1.57v-2.75H5.75v-1.523z\" /></g><g fill=\"#e5e5e5\" stroke=\"#e5e5e5\" transform=\"translate(375, 200) scale(0.75, 0.75)\"><path d=\"M11.016 18.035L7.03 24.262h3.985zm-.414-1.375h1.984v7.602h1.664v1.312h-1.664v2.75h-1.57v-2.75H5.75v-1.523z\" /></g><g fill=\"#e5e5e5\" stroke=\"#e5e5e5\" transform=\"translate(0, 155) scale(0.75, 0.75)\"><path d=\"M6.719 16.66h6.195v1.328h-4.75v2.86q.344-.118.688-.172.343-.063.687-.063 1.953 0 3.094 1.07 1.14 1.07 1.14 2.899 0 1.883-1.171 2.93-1.172 1.039-3.305 1.039-.735 0-1.5-.125-.758-.125-1.57-.375v-1.586q.703.383 1.453.57.75.188 1.586.188 1.351 0 2.14-.711.79-.711.79-1.93 0-1.219-.79-1.93-.789-.71-2.14-.71-.633 0-1.266.14-.625.14-1.281.438z\" /></g><g fill=\"#e5e5e5\" stroke=\"#e5e5e5\" transform=\"translate(375, 155) scale(0.75, 0.75)\"><path d=\"M6.719 16.66h6.195v1.328h-4.75v2.86q.344-.118.688-.172.343-.063.687-.063 1.953 0 3.094 1.07 1.14 1.07 1.14 2.899 0 1.883-1.171 2.93-1.172 1.039-3.305 1.039-.735 0-1.5-.125-.758-.125-1.57-.375v-1.586q.703.383 1.453.57.75.188 1.586.188 1.351 0 2.14-.711.79-.711.79-1.93 0-1.219-.79-1.93-.789-.71-2.14-.71-.633 0-1.266.14-.625.14-1.281.438z\" /></g><g fill=\"#e5e5e5\" stroke=\"#e5e5e5\" transform=\"translate(0, 110) scale(0.75, 0.75)\"><path d=\"M10.137 21.863q-1.063 0-1.688.727-.617.726-.617 1.992 0 1.258.617 1.992.625.727 1.688.727 1.062 0 1.68-.727.624-.734.624-1.992 0-1.266-.625-1.992-.617-.727-1.68-.727zm3.133-4.945v1.437q-.594-.28-1.204-.43-.601-.148-1.195-.148-1.562 0-2.39 1.055-.82 1.055-.938 3.188.46-.68 1.156-1.04.696-.367 1.531-.367 1.758 0 2.774 1.07 1.023 1.063 1.023 2.899 0 1.797-1.062 2.883-1.063 1.086-2.828 1.086-2.024 0-3.094-1.547-1.07-1.555-1.07-4.5 0-2.766 1.312-4.406 1.313-1.649 3.524-1.649.593 0 1.195.117.61.118 1.266.352z\" /></g><g fill=\"#e5e5e5\" stroke=\"#e5e5e5\" transform=\"translate(375, 110) scale(0.75, 0.75)\"><path d=\"M10.137 21.863q-1.063 0-1.688.727-.617.726-.617 1.992 0 1.258.617 1.992.625.727 1.688.727 1.062 0 1.68-.727.624-.734.624-1.992 0-1.266-.625-1.992-.617-.727-1.68-.727zm3.133-4.945v1.437q-.594-.28-1.204-.43-.601-.148-1.195-.148-1.562 0-2.39 1.055-.82 1.055-.938 3.188.46-.68 1.156-1.04.696-.367 1.531-.367 1.758 0 2.774 1.07 1.023 1.063 1.023 2.899 0 1.797-1.062 2.883-1.063 1.086-2.828 1.086-2.024 0-3.094-1.547-1.07-1.555-1.07-4.5 0-2.766 1.312-4.406 1.313-1.649 3.524-1.649.593 0 1.195.117.61.118 1.266.352z\" /></g><g fill=\"#e5e5e5\" stroke=\"#e5e5e5\" transform=\"translate(0, 65) scale(0.75, 0.75)\"><path d=\"M6.25 16.66h7.5v.672L9.516 28.324H7.867l3.985-10.336H6.25z\" /></g><g fill=\"#e5e5e5\" stroke=\"#e5e5e5\" transform=\"translate(375, 65) scale(0.75, 0.75)\"><path d=\"M6.25 16.66h7.5v.672L9.516 28.324H7.867l3.985-10.336H6.25z\" /></g><g fill=\"#e5e5e5\" stroke=\"#e5e5e5\" transform=\"translate(0, 20) scale(0.75, 0.75)\"><path d=\"M10 22.785q-1.125 0-1.773.602-.641.601-.641 1.656t.64 1.656q.649.602 1.774.602t1.773-.602q.649-.61.649-1.656 0-1.055-.649-1.656-.64-.602-1.773-.602zm-1.578-.672q-1.016-.25-1.586-.945-.563-.695-.563-1.695 0-1.399.993-2.211 1-.813 2.734-.813 1.742 0 2.734.813.993.812.993 2.21 0 1-.57 1.696-.563.695-1.571.945 1.14.266 1.773 1.04.641.773.641 1.89 0 1.695-1.04 2.602-1.03.906-2.96.906t-2.969-.906Q6 26.738 6 25.043q0-1.117.64-1.89.641-.774 1.782-1.04zm-.578-2.492q0 .906.562 1.414.57.508 1.594.508 1.016 0 1.586-.508.578-.508.578-1.414 0-.906-.578-1.414-.57-.508-1.586-.508-1.023 0-1.594.508-.562.508-.562 1.414z\" /></g><g fill=\"#e5e5e5\" stroke=\"#e5e5e5\" transform=\"translate(375, 20) scale(0.75, 0.75)\"><path d=\"M10 22.785q-1.125 0-1.773.602-.641.601-.641 1.656t.64 1.656q.649.602 1.774.602t1.773-.602q.649-.61.649-1.656 0-1.055-.649-1.656-.64-.602-1.773-.602zm-1.578-.672q-1.016-.25-1.586-.945-.563-.695-.563-1.695 0-1.399.993-2.211 1-.813 2.734-.813 1.742 0 2.734.813.993.812.993 2.21 0 1-.57 1.696-.563.695-1.571.945 1.14.266 1.773 1.04.641.773.641 1.89 0 1.695-1.04 2.602-1.03.906-2.96.906t-2.969-.906Q6 26.738 6 25.043q0-1.117.64-1.89.641-.774 1.782-1.04zm-.578-2.492q0 .906.562 1.414.57.508 1.594.508 1.016 0 1.586-.508.578-.508.578-1.414 0-.906-.578-1.414-.57-.508-1.586-.508-1.023 0-1.594.508-.562.508-.562 1.414z\" /></g></svg>"
      ],
      "text/plain": [
       "Board('rnbqkbnr/pppppppp/8/8/8/8/PPPPPPPP/RNBQKBNR w KQkq - 0 1')"
      ]
     },
     "execution_count": 4,
     "metadata": {},
     "output_type": "execute_result"
    }
   ],
   "source": [
    "class Chess_Environment(gym.Env):\n",
    "    \"\"\"Chess Environment\"\"\"\n",
    "    def __init__(self):\n",
    "        self.board = chess.Board()\n",
    "        self.white_pieces = ['P', 'N', 'B', 'R', 'Q', 'K']\n",
    "        self.black_pieces = [piece.lower() for piece in self.white_pieces]\n",
    "        self.x_coords, self.y_coords = np.meshgrid(list(range(0, 8)), list(range(0, 8)))\n",
    "        self.x_coords = self.x_coords / 7\n",
    "        self.y_coords = self.y_coords / 7\n",
    "        self.state_size = self.observe()[0].shape\n",
    "        self.init_action_decoder()\n",
    "        self.whites_turn = True\n",
    "\n",
    "    def reset(self):\n",
    "        \"\"\"Resets the environment\"\"\"\n",
    "        self.board = chess.Board()\n",
    "        \n",
    "    def terminal_test(self):\n",
    "        \"\"\"Checks if the game is over\"\"\"\n",
    "        return self.board.is_game_over(claim_draw = True)\n",
    "    \n",
    "    def result(self):\n",
    "        \"\"\"Gives the end game result\"\"\"\n",
    "\n",
    "        result = self.board.result(claim_draw = True)\n",
    "        if result == '1-0':\n",
    "            return 1\n",
    "        elif result == '0-1':\n",
    "            return -1\n",
    "        elif result == '1/2-1/2':\n",
    "            return 0\n",
    "        elif result == '*':\n",
    "            return 0\n",
    "        else:\n",
    "            raise Exception('Invalid Result', result)\n",
    "        \n",
    "    def legal_actions(self):\n",
    "        \"\"\"Provides a list of legal actions in current state\"\"\"\n",
    "        legal_actions = [str(legal_action) for legal_action in list(self.board.legal_moves)]\n",
    "        return legal_actions\n",
    "    \n",
    "    def encode(self):\n",
    "        \"\"\"Encodes game state into a string\"\"\"\n",
    "        board_ = self.board.piece_map()\n",
    "            \n",
    "        encoded = {\n",
    "            'board' : board_,\n",
    "            'turn' : self.board.turn,\n",
    "            'legal_actions' : self.legal_actions()\n",
    "        }\n",
    "        \n",
    "        return pickle.dumps(encoded)\n",
    "    \n",
    "    def decode(self, encoded):\n",
    "        \"\"\"Decodes string into game state and sets board and turn\"\"\"\n",
    "        decoded = pickle.loads(encoded)\n",
    "        self.board.set_piece_map(decoded['board'])\n",
    "        if decoded['turn'] == False:\n",
    "            self.board = self.board.mirror()\n",
    "        self.board.turn = decoded['turn']\n",
    "\n",
    "    def observe(self):\n",
    "        \"\"\"Create observation from the game state\"\"\"\n",
    "\n",
    "        board_ = copy(self.board)\n",
    "            \n",
    "        board_ = np.ndarray.flatten(np.array(board_.__str__().split())).reshape(8, 8)\n",
    "        \n",
    "        black_pawns = np.isin(copy(board_), ['p']).astype(int)\n",
    "        black_knights = np.isin(copy(board_), ['n']).astype(int)\n",
    "        black_rooks = np.isin(copy(board_), ['r']).astype(int)\n",
    "        black_bishops = np.isin(copy(board_), ['b']).astype(int)\n",
    "        black_queen = np.isin(copy(board_), ['q']).astype(int)\n",
    "        black_king = np.isin(copy(board_), ['k']).astype(int)\n",
    "         \n",
    "        white_pawns = np.isin(copy(board_), ['P']).astype(int)\n",
    "        white_knights = np.isin(copy(board_), ['N']).astype(int)\n",
    "        white_rooks = np.isin(copy(board_), ['R']).astype(int)\n",
    "        white_bishops = np.isin(copy(board_), ['B']).astype(int)\n",
    "        white_queen = np.isin(copy(board_), ['Q']).astype(int)\n",
    "        white_king = np.isin(copy(board_), ['K']).astype(int)\n",
    "        \n",
    "        state = np.array([\n",
    "            white_pawns,\n",
    "            white_knights,\n",
    "            white_rooks,\n",
    "            white_bishops,\n",
    "            white_queen,\n",
    "            white_king,\n",
    "            black_pawns,\n",
    "            black_knights,\n",
    "            black_rooks,\n",
    "            black_bishops,\n",
    "            black_queen,\n",
    "            black_king\n",
    "        ])\n",
    "        \n",
    "        return state, self.legal_actions()\n",
    "    \n",
    "    def step(self, action):\n",
    "        \"\"\"Perform a step in the environment\"\"\"\n",
    "        try:\n",
    "            self.board.push_uci(action)\n",
    "        except ValueError:\n",
    "#             print(f\"INVALID ACTION {action}.\\nSELECTING A RANDOM ACTION FROM LEGAL ACTIONS\\n{self.legal_actions()}\")\n",
    "            actions = random.choices(self.legal_actions())\n",
    "            self.board.push_uci(actions[0])\n",
    "            \n",
    "        self.board = self.board.mirror()\n",
    "        if self.whites_turn:\n",
    "            self.whites_turn = False\n",
    "        else:\n",
    "            self.whites_turn = True\n",
    "        return self.observe()\n",
    "    \n",
    "    def move_board(self, move):\n",
    "        \"\"\"Moves the board positions as per the move\"\"\"\n",
    "\n",
    "        char_to_int = {'A': 1, 'B': 2, 'C': 3, 'D': 4, 'E': 5, 'F': 6, 'G': 7, 'H': 8} \n",
    "\n",
    "        int_to_char = {v: k for k, v in char_to_int.items()}\n",
    "\n",
    "        encoded_board = [(char_to_int[pos[0]], int(pos[1])) for pos in np.ndarray.flatten(BOARD)]\n",
    "\n",
    "        new_board = [tuple(map(sum, zip((char_to_int[pos[0]], int(pos[1])), move))) for pos in np.ndarray.flatten(BOARD)]\n",
    "        moves = []\n",
    "        for pos, new_pos in zip(np.ndarray.flatten(BOARD), new_board):\n",
    "            try:\n",
    "                if new_pos[1] > 8:\n",
    "                    raise Exception()\n",
    "                if move[2] is None:\n",
    "                    move_ = f'{pos}{int_to_char[new_pos[0]]}{new_pos[1]}'\n",
    "                else:\n",
    "                    move_ = f'{pos}{int_to_char[new_pos[0]]}{new_pos[1]}{move[2]}'\n",
    "            \n",
    "                if '-' in move_:\n",
    "                    raise Exception()\n",
    "            \n",
    "                if '0' in move_:\n",
    "                    raise Exception()\n",
    "                \n",
    "            except Exception:\n",
    "                move_ = 'XXXX'\n",
    "            moves.append(move_)   \n",
    "        return np.array(moves).reshape(8, 8)\n",
    "    \n",
    "    def init_action_decoder(self):\n",
    "        \"\"\"Initialize the decoder to decode the actions\"\"\"\n",
    "        decoder = []\n",
    "        for key in MOVES.keys():\n",
    "            decoder_ = self.move_board(MOVES[key])\n",
    "            decoder.append(decoder_)\n",
    "#             print(f'Move {key}\\n', new_board, '\\n')\n",
    "    \n",
    "        self.decoder = np.array(decoder)\n",
    "        self.action_size = self.decoder.shape\n",
    "        \n",
    "    def select_action(self, logits):\n",
    "        \"\"\"Decodes the output from the NN to legal actions\"\"\" \n",
    "        decoder_ = np.ndarray.flatten(self.decoder)\n",
    "        logits_ = np.ndarray.flatten(logits)\n",
    "\n",
    "        move_logits = [(decoder_[idx].lower(), logits_[idx]) for idx in range(len(logits_))]\n",
    "        move_logits = dict(move_logits)\n",
    "        \n",
    "        legal_move_logits = {legal_action: move_logits[legal_action] for legal_action in self.legal_actions()}\n",
    "        probabilities = list(legal_move_logits.values()) / sum(list(legal_move_logits.values()))\n",
    "\n",
    "        action = random.choices(list(legal_move_logits.keys()), weights = probabilities, k = 1)[0]\n",
    "        return action\n",
    "    \n",
    "    def render(self):\n",
    "        \"\"\"Render chess board\"\"\"\n",
    "        chess.svg.board(board = self.board)  \n",
    "\n",
    "env = Chess_Environment()\n",
    "env.board"
   ]
  },
  {
   "cell_type": "markdown",
   "metadata": {},
   "source": [
    "# REPLAY BUFFER"
   ]
  },
  {
   "cell_type": "code",
   "execution_count": 5,
   "metadata": {},
   "outputs": [],
   "source": [
    "class EpisodicReplayBuffer:\n",
    "    \"\"\"\n",
    "    Holds the agents episodes in memory\n",
    "    \"\"\"\n",
    "    def __init__(self, params):\n",
    "        self.capacity = params['capacity']\n",
    "        self.memory = deque(maxlen = self.capacity)\n",
    "        self.gamma = params['gamma']\n",
    "\n",
    "    def add(self, episodes):\n",
    "        \"\"\"\n",
    "        Stores the episodes in the replay buffer\n",
    "        \"\"\"\n",
    "        for episode in episodes:\n",
    "            if episode is not None:\n",
    "                self.memory.append(episode)\n",
    "                if len(self.memory) > self.capacity:\n",
    "                    self.memory.popleft() \n",
    "\n",
    "    def sample(self, sample_size):\n",
    "        \"\"\"\n",
    "        Return a sample of size of batch size as an experience tuple.\n",
    "        \"\"\"\n",
    "        if len(self.memory) == 0:\n",
    "            return None\n",
    "        if len(self.memory) >= sample_size:\n",
    "            batch = random.sample(self.memory, k = sample_size)\n",
    "        else:\n",
    "            batch = random.sample(self.memory, k = len(self.memory))\n",
    "#         state, actions, returns_, dones = zip(*batch)\n",
    "\n",
    "#         # Stacks the experiences \n",
    "#         # Get inputs into correct shape\n",
    "#         states = torch.tensor(state).float().to(self.device)\n",
    "# #         actions = torch.stack(actions).to(self.device)\n",
    "#         returns_ = torch.tensor(returns_).float().to(self.device)\n",
    "#         dones = torch.tensor(dones).float().to(self.device)\n",
    "       \n",
    "        # print(\"SAMPLE | STATES\", states.shape, \"ACTIONS\", actions.shape, \"P VECTORS\", portfolio_vectors.shape,\"NEXT STATES\", next_states.shape, \"REWARDS\", rewards.shape, \"DONES\", dones.shape)\n",
    "        \n",
    "        return batch\n",
    "\n",
    "    def reset_memory(self):\n",
    "        \"\"\"Resets the replay buffer\"\"\"\n",
    "        self.memory = deque(maxlen = self.capacity)\n"
   ]
  },
  {
   "cell_type": "markdown",
   "metadata": {},
   "source": [
    "# AI AGENT"
   ]
  },
  {
   "cell_type": "code",
   "execution_count": 6,
   "metadata": {
    "tags": []
   },
   "outputs": [],
   "source": [
    "class Agent:\n",
    "    \n",
    "    def __init__(self, decoder, action_size, vae, mdn, controller, test_mode = False, batch_size = 128, lr = 0.02, legal_multiplier = 3, save_freq = 8, train_times = 4, lambda_ = 0.9, gamma = 0.98):\n",
    "        self.batch_size = batch_size\n",
    "        self.action_size = action_size\n",
    "        self.trained_times = 0\n",
    "        self.train_times = train_times\n",
    "        self.lambda_ = lambda_\n",
    "        self.gamma = gamma\n",
    "        self.legal_multiplier = legal_multiplier # To increase the value of legal actions and MCTS insight as the target policy\n",
    "        self.decoder = decoder\n",
    "        self.save_freq = save_freq\n",
    "        if vae is not None:\n",
    "            self.vae = CNN_AE(vae, None, 'Latest')\n",
    "            self.vae.eval()\n",
    "        if mdn is not None:\n",
    "            self.mdn = MDN_RNN(mdn, None, 'Latest')\n",
    "            self.mdn.eval()\n",
    "            params = {\n",
    "                'hidden_size' : self.mdn.hidden_size,\n",
    "                'z_size' : self.vae.z_size,\n",
    "                'action_size' : action_size,\n",
    "                'expansion_size': 1200\n",
    "            }\n",
    "\n",
    "            if test_mode:\n",
    "                self.actor = Policy_Controller(controller, None, 'Latest')\n",
    "                self.critic = Value_Controller(controller, None, 'Latest')\n",
    "            else:\n",
    "                self.actor = Policy_Controller(controller, params, False)\n",
    "                self.critic = Value_Controller(controller, params, False)\n",
    "                self.actor.save_model(0)\n",
    "                self.critic.save_model(0)\n",
    "        \n",
    "            self.actor_optimizer = Adam(self.actor.parameters(), lr = lr)\n",
    "            self.critic_optimizer = Adam(self.critic.parameters(), lr = lr)\n",
    "        \n",
    "        self.char_to_int = {'a': 1, 'b': 2, 'c': 3, 'd': 4, 'e': 5, 'f': 6, 'g': 7, 'h': 8} \n",
    "        self.char_to_int_promo = {'r': 1, 'b': 2, 'q': 3, 'k': 4, 'n': 5, '': 6} \n",
    "        \n",
    "        moves_df = pd.DataFrame(list(zip(self.char_to_int.values(), self.char_to_int.keys())), columns = ['Ids', 'Labels'])\n",
    "        promo_df = pd.DataFrame(list(zip(self.char_to_int_promo.values(), self.char_to_int_promo.keys())), columns = ['Ids', 'Labels'])\n",
    "        self.move_actions_ohe = pd.get_dummies(moves_df['Ids'])\n",
    "        self.promo_actions_ohe = pd.get_dummies(promo_df['Ids'])\n",
    "        \n",
    "        self.criterion_pi = nn.NLLLoss()\n",
    "        self.criterion_v = nn.SmoothL1Loss()\n",
    "    \n",
    "    def select_action(self, logits, legal_actions):\n",
    "        \"\"\"Decodes the output from the NN to legal actions\"\"\" \n",
    "        decoder_ = np.ndarray.flatten(self.decoder)\n",
    "        logits_ = np.ndarray.flatten(logits)\n",
    "\n",
    "        move_logits = [(decoder_[idx].lower(), logits_[idx]) for idx in range(len(logits_))]\n",
    "        move_logits = dict(move_logits)\n",
    "        \n",
    "        legal_move_logits = {legal_action: move_logits[legal_action] for legal_action in legal_actions}\n",
    "        probabilities = list(legal_move_logits.values()) / sum(list(legal_move_logits.values()))\n",
    "        \n",
    "        legal_actions = list(legal_move_logits.keys())\n",
    "        action = random.choices(list(legal_move_logits.keys()), weights = probabilities, k = 1)[0]\n",
    "        \n",
    "        action_probabilities = {legal_actions[idx] : probabilities[idx] for idx in range(len(legal_actions))}\n",
    "        return action, action_probabilities\n",
    "    \n",
    "    def one_hot_encode_action(self, action):\n",
    "        \"\"\"One hot encodes the action\"\"\"\n",
    "        if len(action) == 4:\n",
    "            encoded_action = [\n",
    "                self.move_actions_ohe.loc[\n",
    "                self.char_to_int[action[0]] - 1].values, \n",
    "                self.move_actions_ohe.loc[int(action[1]) - 1].values, \n",
    "                self.move_actions_ohe.loc[self.char_to_int[action[2]] - 1].values, \n",
    "                self.move_actions_ohe.loc[int(action[3]) - 1].values,\n",
    "                self.promo_actions_ohe.loc[self.char_to_int_promo[''] - 1].values\n",
    "            ]\n",
    "        else:\n",
    "            encoded_action = [\n",
    "                self.move_actions_ohe.loc[\n",
    "                self.char_to_int[action[0]] - 1].values, \n",
    "                self.move_actions_ohe.loc[int(action[1]) - 1].values, \n",
    "                self.move_actions_ohe.loc[self.char_to_int[action[2]] - 1].values, \n",
    "                self.move_actions_ohe.loc[int(action[3]) - 1].values,\n",
    "                self.promo_actions_ohe.loc[self.char_to_int_promo[action[4]] - 1].values\n",
    "            ]\n",
    "        ohe_action = np.concatenate(encoded_action)\n",
    "        return ohe_action\n",
    "    \n",
    "    def reset(self, batch_size):\n",
    "        \"\"\"Resets the MDNs hidden state\"\"\"\n",
    "        self.hidden = self.mdn.init_hidden(batch_size)\n",
    "        self.hidden = (self.hidden[0].detach().to('cpu'), self.hidden[1].detach().to('cpu'))\n",
    "        \n",
    "    def act(self, state, legal_actions):\n",
    "        \"\"\"Gets an action from the agent\"\"\"\n",
    "        state = torch.tensor(state).float().unsqueeze(0)\n",
    "        z = self.vae.encode(state)\n",
    "    \n",
    "        zh = torch.cat((z.to('cpu'), self.hidden[0].squeeze(0).to('cpu')), dim = 1)\n",
    "        if zh.shape[0] > 1:\n",
    "            raise Exception('Batch size > 1 not handled')\n",
    "            \n",
    "        logits = self.actor(zh)\n",
    "        values = self.critic(zh)\n",
    "        logits, value = logits.detach().squeeze(0).cpu().numpy(), values.detach().squeeze(0).cpu().numpy()[0]\n",
    "        action, action_probabilities = self.select_action(logits, legal_actions)\n",
    "        \n",
    "        return action_probabilities, value, z\n",
    "    \n",
    "    def encode_z(self, state):\n",
    "        \"\"\"Encodes the state using the autoencoder\"\"\"\n",
    "        state = torch.tensor(state).float().unsqueeze(0)\n",
    "        return self.vae.encode(state)\n",
    "    \n",
    "    def train(self, episodes):\n",
    "        \"\"\"Trains the controller from the MCTS experiences\"\"\"\n",
    "        all_zh = []\n",
    "        all_returns = []\n",
    "        all_mcts_action_probs = []\n",
    "        all_mean_qs = []\n",
    "#         batches = [experiences[i : i + self.batch_size] for i in range(0, len(experiences), self.batch_size)]\n",
    "        for idx, episode in enumerate(episodes):\n",
    "            zh, mcts_action_probs, rewards, masks, mean_qs = zip(*episode)\n",
    "            \n",
    "            zh_ = torch.tensor(zh).float().unsqueeze(1)\n",
    "            values = self.critic(zh_.to(self.critic.device))\n",
    "            \n",
    "            # Calculate GAE\n",
    "            returns = []\n",
    "            values_ = list(values.view(-1).detach().cpu().numpy())\n",
    "            gae = 0\n",
    "\n",
    "            for i in reversed(range(len(rewards))):\n",
    "                if i == len(rewards) - 1:\n",
    "                    delta = rewards[i] - values[i]\n",
    "                else:\n",
    "                    delta = rewards[i] + self.gamma * values[i + 1] * masks[i] - values[i]\n",
    "                gae = delta + self.gamma * self.lambda_ * masks[i] * gae\n",
    "                returns.insert(0, gae + values[i])\n",
    "            all_returns.extend(returns)\n",
    "            all_zh.extend(list(zh))\n",
    "            all_mcts_action_probs.extend([x for x in mcts_action_probs])\n",
    "            all_mean_qs.extend(mean_qs)\n",
    "            \n",
    "#         all_returns = [item for sublist in all_returns for item in sublist]\n",
    "#         all_zh = [item for sublist in all_zh for item in sublist]\n",
    "#         all_mcts_action_probs = [item for sublist in all_mcts_action_probs for item in sublist]\n",
    "        \n",
    "        # Trains on random experiences to decoralate the information\n",
    "        idxs = random.choices(range(len(all_zh)), k = self.batch_size)\n",
    "        mcts_action_probs = [all_mcts_action_probs[idx] for idx in idxs]\n",
    "        returns = torch.stack([torch.tensor(all_returns[idx]).float() for idx in idxs]).to(self.critic.device)\n",
    "        mean_qs = torch.stack([torch.tensor(all_mean_qs[idx]).float() for idx in idxs]).to(self.critic.device)\n",
    "        actor_zh = torch.stack([torch.tensor(all_zh[idx]).float() for idx in idxs]).to(self.actor.device)\n",
    "        critic_zh = actor_zh.clone().to(self.critic.device)\n",
    "        \n",
    "        logits = self.actor(actor_zh)\n",
    "        values = self.critic(critic_zh)\n",
    "                              \n",
    "        self.actor_optimizer.zero_grad()\n",
    "        self.critic_optimizer.zero_grad()\n",
    "#             print(zh.is_cuda, type(zh))\n",
    "        improvement_estimate = self.improvement_estimate(logits, mcts_action_probs)\n",
    "        epsilon = 1e-7\n",
    "#             print(logits.shape, torch.log(logits + epsilon))\n",
    "#             print(improvement_estimate.shape, improvement_estimate)\n",
    "            \n",
    "        actor_losses = -improvement_estimate * torch.log(logits + epsilon)\n",
    "        \n",
    "        # Averages the values of the GAE return and MCTS Q values for the state\n",
    "        critic_losses = (((returns.view(-1) + mean_qs.view(-1)) / 2) - values.view(-1)).pow(2)\n",
    "            \n",
    "#             print(actor_losses)\n",
    "#             print(\"IMP EST\", improvement_estimate.shape, \"LOGITS\", logits.shape, \"ACTOR LOSS\", actor_losses.shape)\n",
    "#             print(\"RETURNS\", returns.view(-1).shape, \"VALUES\", values.view(-1).shape, \"CRITIC LOSS\", critic_losses.shape)\n",
    "\n",
    "            \n",
    "#             for idx in range(logits.shape[0]):\n",
    "#                 advantage = returns[idx] - values[idx]\n",
    "#                 # converts logits to action probabilities\n",
    "# #                 print(values[idx].squeeze(0).shape, returns[idx].shape)\n",
    "# #                 print(values[idx].squeeze(0), returns[idx])\n",
    "#                 policy_losses.append(-F.softmax(logits[idx], dim = 0) * advantage)\n",
    "#                 value_losses.append(F.smooth_l1_loss(values[idx].squeeze(0), returns[idx]))\n",
    "            \n",
    "            # sum up all the values of policy_losses and value_losses\n",
    "        actor_loss = actor_losses.sum()\n",
    "#             critic_loss = critic_losses.sum()\n",
    "        critic_loss = critic_losses.sum()\n",
    "            \n",
    "#             writer.add_scalar('policy_loss', policy_loss, writer.games)\n",
    "#             writer.add_scalar('value_loss_loss', value_loss, writer.games)\n",
    "#             loss = policy_loss + value_loss\n",
    "            \n",
    "        print(f'{self.trained_times} ACTOR LOSS {actor_loss.item()} | CRITIC LOSS {critic_loss.item()}')\n",
    "        actor_loss.backward()\n",
    "        self.actor_optimizer.step()\n",
    "        critic_loss.backward()\n",
    "        self.critic_optimizer.step()\n",
    "#         if self.trained_times % self.save_freq == 0:\n",
    "#             print(\"SAVING\")\n",
    "#             self.actor.save_model(self.trained_times)\n",
    "#             self.critic.save_model(self.trained_times)\n",
    "        self.trained_times += 1\n",
    "        \n",
    "    def load_hidden(self, hidden):\n",
    "        \"\"\"Loads the hidden state to the MDN RNN\"\"\"\n",
    "        self.hidden = deepcopy(hidden)\n",
    "        \n",
    "    def get_hidden(self):\n",
    "        \"\"\"Gets the hidden state from the MDN RNN\"\"\"\n",
    "        return deepcopy(self.hidden)\n",
    "    \n",
    "    def random_controller(self): \n",
    "        \"\"\"Updates the controller from a randomly selected save file\"\"\"\n",
    "        path = f'checkpoints_/{self.actor.type}/{self.actor.name}/'\n",
    "        list_of_files = [x for x in os.listdir(path) if '.pth' in x]\n",
    "        file_name = random.choice(list_of_files)\n",
    "        print(f'Loading Random Controllers {file_name}')\n",
    "        \n",
    "        self.actor.load_model(file_name)\n",
    "        self.critic.load_model(file_name)\n",
    "        \n",
    "    def step(self, z, action):\n",
    "        \"\"\"Updates the hidden state of the MDN-RNN\"\"\"\n",
    "        z.squeeze_(-1)\n",
    "        ohe_action = self.one_hot_encode_action(action)\n",
    "        za = torch.cat((z.to('cpu'), torch.tensor(ohe_action).float().to('cpu').unsqueeze(0)), dim = 1)\n",
    "        _, self.hidden = self.mdn(za.unsqueeze(1), self.hidden)\n",
    "        self.hidden = (self.hidden[0].detach().to('cpu'), self.hidden[1].detach().to('cpu'))\n",
    "        \n",
    "                \n",
    "    def improvement_estimate(self, logits, legal_move_logits):\n",
    "        \"\"\"Create an improvement estimate by layering the insights from MCTS\"\"\"\n",
    "        new_boards__ = [[x.lower() for x in list(np.ndarray.flatten(self.decoder))] for _ in range(logits.shape[0])]\n",
    "        improve_est = []\n",
    "        for idx in range(logits.shape[0]):\n",
    "            new_boards___ = new_boards__[idx]\n",
    "            improve_est__ = logits[idx].clone().view(-1)\n",
    "            improve_est__.data.fill_(0)\n",
    "            legal_move_logits__ = {k.lower(): v * self.legal_multiplier for k, v in legal_move_logits[idx].items()}\n",
    "            for move, legal_move_logit in legal_move_logits__.items():\n",
    "                index = new_boards___.index(move)\n",
    "                improve_est__[index] += legal_move_logit\n",
    "            improve_est.append(improve_est__.reshape(76, 8, 8))\n",
    "        return torch.stack(improve_est)"
   ]
  },
  {
   "cell_type": "markdown",
   "metadata": {},
   "source": [
    "# ALPHAZERO COACH"
   ]
  },
  {
   "cell_type": "code",
   "execution_count": null,
   "metadata": {
    "scrolled": true
   },
   "outputs": [
    {
     "name": "stdout",
     "output_type": "stream",
     "text": [
      "\n",
      "AI Running on cpu\n",
      "\n",
      "WARNING OVERRIDDING GPU TO RUN ON CPU\n",
      "CNN_AE(\n",
      "  (encoder): Sequential(\n",
      "    (0): Conv(\n",
      "      (conv): Conv2d(12, 32, kernel_size=(1, 1), stride=(1, 1), bias=False)\n",
      "      (bn): BatchNorm2d(32, eps=0.001, momentum=0.1, affine=True, track_running_stats=True)\n",
      "      (activation): ReLU()\n",
      "    )\n",
      "    (1): Conv(\n",
      "      (conv): Conv2d(32, 64, kernel_size=(3, 3), stride=(1, 1), bias=False)\n",
      "      (bn): BatchNorm2d(64, eps=0.001, momentum=0.1, affine=True, track_running_stats=True)\n",
      "      (activation): ReLU()\n",
      "    )\n",
      "    (2): Conv(\n",
      "      (conv): Conv2d(64, 128, kernel_size=(3, 3), stride=(1, 1), bias=False)\n",
      "      (bn): BatchNorm2d(128, eps=0.001, momentum=0.1, affine=True, track_running_stats=True)\n",
      "      (activation): ReLU()\n",
      "    )\n",
      "    (3): Conv(\n",
      "      (conv): Conv2d(128, 256, kernel_size=(3, 3), stride=(1, 1), bias=False)\n",
      "      (bn): BatchNorm2d(256, eps=0.001, momentum=0.1, affine=True, track_running_stats=True)\n",
      "      (activation): ReLU()\n",
      "    )\n",
      "    (4): Conv(\n",
      "      (conv): Conv2d(256, 512, kernel_size=(2, 2), stride=(1, 1), bias=False)\n",
      "      (bn): BatchNorm2d(512, eps=0.001, momentum=0.1, affine=True, track_running_stats=True)\n",
      "      (activation): ReLU()\n",
      "    )\n",
      "  )\n",
      "  (enc_linear): Linear(in_features=512, out_features=300, bias=True)\n",
      "  (dec_linear): Linear(in_features=300, out_features=512, bias=True)\n",
      "  (decoder): Sequential(\n",
      "    (0): Conv(\n",
      "      (conv): ConvTranspose2d(512, 256, kernel_size=(2, 2), stride=(1, 1), bias=False)\n",
      "      (bn): BatchNorm2d(256, eps=0.001, momentum=0.1, affine=True, track_running_stats=True)\n",
      "      (activation): ReLU()\n",
      "    )\n",
      "    (1): Conv(\n",
      "      (conv): ConvTranspose2d(256, 128, kernel_size=(3, 3), stride=(1, 1), bias=False)\n",
      "      (bn): BatchNorm2d(128, eps=0.001, momentum=0.1, affine=True, track_running_stats=True)\n",
      "      (activation): ReLU()\n",
      "    )\n",
      "    (2): Conv(\n",
      "      (conv): ConvTranspose2d(128, 64, kernel_size=(3, 3), stride=(1, 1), bias=False)\n",
      "      (bn): BatchNorm2d(64, eps=0.001, momentum=0.1, affine=True, track_running_stats=True)\n",
      "      (activation): ReLU()\n",
      "    )\n",
      "    (3): Conv(\n",
      "      (conv): ConvTranspose2d(64, 32, kernel_size=(3, 3), stride=(1, 1), bias=False)\n",
      "      (bn): BatchNorm2d(32, eps=0.001, momentum=0.1, affine=True, track_running_stats=True)\n",
      "      (activation): ReLU()\n",
      "    )\n",
      "    (4): Conv(\n",
      "      (conv): ConvTranspose2d(32, 12, kernel_size=(1, 1), stride=(1, 1), bias=False)\n",
      "      (activation): Sigmoid()\n",
      "    )\n",
      "  )\n",
      ") \n",
      "\n",
      "\n",
      "\n",
      "AI Running on cpu\n",
      "\n",
      "WARNING OVERRIDDING GPU TO RUN ON CPU\n",
      "MDN_RNN(\n",
      "  (lstm): LSTM(338, 150, batch_first=True)\n",
      "  (fc1): Linear(in_features=150, out_features=900, bias=True)\n",
      "  (fc2): Linear(in_features=150, out_features=900, bias=True)\n",
      "  (fc3): Linear(in_features=150, out_features=900, bias=True)\n",
      ") \n",
      "\n",
      "\n",
      "\n",
      "AI Running on cpu\n",
      "\n",
      "WARNING OVERRIDDING GPU TO RUN ON CPU\n",
      "Policy_Controller(\n",
      "  (fc1): Sequential(\n",
      "    (0): Linear(in_features=450, out_features=1200, bias=True)\n",
      "    (1): ReLU()\n",
      "  )\n",
      "  (fc2): Sequential(\n",
      "    (0): Linear(in_features=1200, out_features=512, bias=True)\n",
      "    (1): ReLU()\n",
      "  )\n",
      "  (fc3): Sequential(\n",
      "    (0): Linear(in_features=512, out_features=256, bias=True)\n",
      "    (1): ReLU()\n",
      "  )\n",
      "  (decoder): Sequential(\n",
      "    (0): Conv(\n",
      "      (conv): ConvTranspose2d(256, 256, kernel_size=(3, 3), stride=(1, 1), bias=False)\n",
      "      (bn): BatchNorm2d(256, eps=0.001, momentum=0.1, affine=True, track_running_stats=True)\n",
      "      (activation): ReLU()\n",
      "    )\n",
      "    (1): Conv(\n",
      "      (conv): ConvTranspose2d(256, 128, kernel_size=(3, 3), stride=(1, 1), bias=False)\n",
      "      (bn): BatchNorm2d(128, eps=0.001, momentum=0.1, affine=True, track_running_stats=True)\n",
      "      (activation): ReLU()\n",
      "    )\n",
      "    (2): Conv(\n",
      "      (conv): ConvTranspose2d(128, 64, kernel_size=(3, 3), stride=(1, 1), bias=False)\n",
      "      (bn): BatchNorm2d(64, eps=0.001, momentum=0.1, affine=True, track_running_stats=True)\n",
      "      (activation): ReLU()\n",
      "    )\n",
      "    (3): Conv(\n",
      "      (conv): ConvTranspose2d(64, 76, kernel_size=(2, 2), stride=(1, 1), bias=False)\n",
      "      (bn): BatchNorm2d(76, eps=0.001, momentum=0.1, affine=True, track_running_stats=True)\n",
      "      (activation): ReLU()\n",
      "    )\n",
      "  )\n",
      ") \n",
      "\n",
      "\n",
      "\n",
      "AI Running on cpu\n",
      "\n",
      "WARNING OVERRIDDING GPU TO RUN ON CPU\n",
      "Value_Controller(\n",
      "  (fc1): Sequential(\n",
      "    (0): Linear(in_features=450, out_features=100, bias=True)\n",
      "    (1): ReLU()\n",
      "  )\n",
      "  (fc2): Sequential(\n",
      "    (0): Linear(in_features=100, out_features=20, bias=True)\n",
      "    (1): ReLU()\n",
      "  )\n",
      "  (fc3): Sequential(\n",
      "    (0): Linear(in_features=20, out_features=1, bias=True)\n",
      "  )\n",
      ") \n",
      "\n",
      "\n",
      "LEARNING\n",
      "\u001b[2m\u001b[36m(pid=62079)\u001b[0m Playing against self\n",
      "\u001b[2m\u001b[36m(pid=62079)\u001b[0m Episode 1\n",
      "\u001b[2m\u001b[36m(pid=62070)\u001b[0m Playing against self\n",
      "\u001b[2m\u001b[36m(pid=62070)\u001b[0m Episode 1\n",
      "\u001b[2m\u001b[36m(pid=62076)\u001b[0m Playing against self\n",
      "\u001b[2m\u001b[36m(pid=62076)\u001b[0m Episode 1\n",
      "\u001b[2m\u001b[36m(pid=62064)\u001b[0m Playing against self\n",
      "\u001b[2m\u001b[36m(pid=62064)\u001b[0m Episode 1\n",
      "\u001b[2m\u001b[36m(pid=62074)\u001b[0m Playing against self\n",
      "\u001b[2m\u001b[36m(pid=62074)\u001b[0m Episode 1\n",
      "\u001b[2m\u001b[36m(pid=62067)\u001b[0m Playing against self\n",
      "\u001b[2m\u001b[36m(pid=62067)\u001b[0m Episode 1\n",
      "\u001b[2m\u001b[36m(pid=62075)\u001b[0m Playing against self\n",
      "\u001b[2m\u001b[36m(pid=62075)\u001b[0m Episode 1\n",
      "\u001b[2m\u001b[36m(pid=62066)\u001b[0m Playing against self\n",
      "\u001b[2m\u001b[36m(pid=62066)\u001b[0m Episode 1\n",
      "\u001b[2m\u001b[36m(pid=62072)\u001b[0m Playing against self\n",
      "\u001b[2m\u001b[36m(pid=62072)\u001b[0m Episode 1\n",
      "\u001b[2m\u001b[36m(pid=62069)\u001b[0m Playing against self\n",
      "\u001b[2m\u001b[36m(pid=62069)\u001b[0m Episode 1\n",
      "\u001b[2m\u001b[36m(pid=62063)\u001b[0m Playing against self\n",
      "\u001b[2m\u001b[36m(pid=62063)\u001b[0m Episode 1\n"
     ]
    },
    {
     "name": "stderr",
     "output_type": "stream",
     "text": [
      "\u001b[2m\u001b[36m(pid=62079)\u001b[0m /home/ec2-user/.local/lib/python3.6/site-packages/ray/workers/default_worker.py:58: RuntimeWarning: invalid value encountered in true_divide\n",
      "\u001b[2m\u001b[36m(pid=62079)\u001b[0m   type=str,\n"
     ]
    },
    {
     "name": "stdout",
     "output_type": "stream",
     "text": [
      "\u001b[2m\u001b[36m(pid=62065)\u001b[0m Playing against self\n",
      "\u001b[2m\u001b[36m(pid=62065)\u001b[0m Episode 1\n",
      "\u001b[2m\u001b[36m(pid=62071)\u001b[0m Playing against self\n",
      "\u001b[2m\u001b[36m(pid=62071)\u001b[0m Episode 1\n",
      "\u001b[2m\u001b[36m(pid=62077)\u001b[0m Playing against self\n",
      "\u001b[2m\u001b[36m(pid=62077)\u001b[0m Episode 1\n",
      "\u001b[2m\u001b[36m(pid=62073)\u001b[0m Playing against self\n",
      "\u001b[2m\u001b[36m(pid=62073)\u001b[0m Episode 1\n"
     ]
    },
    {
     "name": "stderr",
     "output_type": "stream",
     "text": [
      "\u001b[2m\u001b[36m(pid=62067)\u001b[0m /home/ec2-user/.local/lib/python3.6/site-packages/ray/workers/default_worker.py:58: RuntimeWarning: invalid value encountered in true_divide\n",
      "\u001b[2m\u001b[36m(pid=62067)\u001b[0m   type=str,\n"
     ]
    },
    {
     "name": "stdout",
     "output_type": "stream",
     "text": [
      "\u001b[2m\u001b[36m(pid=62068)\u001b[0m Playing against self\n",
      "\u001b[2m\u001b[36m(pid=62068)\u001b[0m Episode 1\n"
     ]
    },
    {
     "name": "stderr",
     "output_type": "stream",
     "text": [
      "\u001b[2m\u001b[36m(pid=62072)\u001b[0m /home/ec2-user/.local/lib/python3.6/site-packages/ray/workers/default_worker.py:58: RuntimeWarning: invalid value encountered in true_divide\n",
      "\u001b[2m\u001b[36m(pid=62072)\u001b[0m   type=str,\n",
      "\u001b[2m\u001b[36m(pid=62076)\u001b[0m /home/ec2-user/.local/lib/python3.6/site-packages/ray/workers/default_worker.py:58: RuntimeWarning: invalid value encountered in true_divide\n",
      "\u001b[2m\u001b[36m(pid=62076)\u001b[0m   type=str,\n",
      "\u001b[2m\u001b[36m(pid=62075)\u001b[0m /home/ec2-user/.local/lib/python3.6/site-packages/ray/workers/default_worker.py:58: RuntimeWarning: invalid value encountered in true_divide\n",
      "\u001b[2m\u001b[36m(pid=62075)\u001b[0m   type=str,\n",
      "\u001b[2m\u001b[36m(pid=62069)\u001b[0m /home/ec2-user/.local/lib/python3.6/site-packages/ray/workers/default_worker.py:58: RuntimeWarning: invalid value encountered in true_divide\n",
      "\u001b[2m\u001b[36m(pid=62069)\u001b[0m   type=str,\n",
      "\u001b[2m\u001b[36m(pid=62070)\u001b[0m /home/ec2-user/.local/lib/python3.6/site-packages/ray/workers/default_worker.py:58: RuntimeWarning: invalid value encountered in true_divide\n",
      "\u001b[2m\u001b[36m(pid=62070)\u001b[0m   type=str,\n",
      "\u001b[2m\u001b[36m(pid=62071)\u001b[0m /home/ec2-user/.local/lib/python3.6/site-packages/ray/workers/default_worker.py:58: RuntimeWarning: invalid value encountered in true_divide\n",
      "\u001b[2m\u001b[36m(pid=62071)\u001b[0m   type=str,\n",
      "\u001b[2m\u001b[36m(pid=62068)\u001b[0m /home/ec2-user/.local/lib/python3.6/site-packages/ray/workers/default_worker.py:58: RuntimeWarning: invalid value encountered in true_divide\n",
      "\u001b[2m\u001b[36m(pid=62068)\u001b[0m   type=str,\n",
      "\u001b[2m\u001b[36m(pid=62063)\u001b[0m /home/ec2-user/.local/lib/python3.6/site-packages/ray/workers/default_worker.py:58: RuntimeWarning: invalid value encountered in true_divide\n",
      "\u001b[2m\u001b[36m(pid=62063)\u001b[0m   type=str,\n",
      "\u001b[2m\u001b[36m(pid=62066)\u001b[0m /home/ec2-user/.local/lib/python3.6/site-packages/ray/workers/default_worker.py:58: RuntimeWarning: invalid value encountered in true_divide\n",
      "\u001b[2m\u001b[36m(pid=62066)\u001b[0m   type=str,\n"
     ]
    },
    {
     "name": "stdout",
     "output_type": "stream",
     "text": [
      "\u001b[2m\u001b[36m(pid=62068)\u001b[0m White Won\n",
      "\u001b[2m\u001b[36m(pid=62068)\u001b[0m Episode 2\n"
     ]
    },
    {
     "name": "stderr",
     "output_type": "stream",
     "text": [
      "\u001b[2m\u001b[36m(pid=62073)\u001b[0m /home/ec2-user/.local/lib/python3.6/site-packages/ray/workers/default_worker.py:58: RuntimeWarning: invalid value encountered in true_divide\n",
      "\u001b[2m\u001b[36m(pid=62073)\u001b[0m   type=str,\n",
      "\u001b[2m\u001b[36m(pid=62077)\u001b[0m /home/ec2-user/.local/lib/python3.6/site-packages/ray/workers/default_worker.py:58: RuntimeWarning: invalid value encountered in true_divide\n",
      "\u001b[2m\u001b[36m(pid=62077)\u001b[0m   type=str,\n",
      "\u001b[2m\u001b[36m(pid=62074)\u001b[0m /home/ec2-user/.local/lib/python3.6/site-packages/ray/workers/default_worker.py:58: RuntimeWarning: invalid value encountered in true_divide\n",
      "\u001b[2m\u001b[36m(pid=62074)\u001b[0m   type=str,\n",
      "\u001b[2m\u001b[36m(pid=62065)\u001b[0m /home/ec2-user/.local/lib/python3.6/site-packages/ray/workers/default_worker.py:58: RuntimeWarning: invalid value encountered in true_divide\n",
      "\u001b[2m\u001b[36m(pid=62065)\u001b[0m   type=str,\n",
      "\u001b[2m\u001b[36m(pid=62064)\u001b[0m /home/ec2-user/.local/lib/python3.6/site-packages/ray/workers/default_worker.py:58: RuntimeWarning: invalid value encountered in true_divide\n",
      "\u001b[2m\u001b[36m(pid=62064)\u001b[0m   type=str,\n"
     ]
    },
    {
     "name": "stdout",
     "output_type": "stream",
     "text": [
      "\u001b[2m\u001b[36m(pid=62070)\u001b[0m Draw\n",
      "\u001b[2m\u001b[36m(pid=62070)\u001b[0m WARNING DELETING EXPERIENCES\n",
      "\u001b[2m\u001b[36m(pid=62070)\u001b[0m Episode 2\n",
      "\u001b[2m\u001b[36m(pid=62067)\u001b[0m Draw\n",
      "\u001b[2m\u001b[36m(pid=62067)\u001b[0m WARNING DELETING EXPERIENCES\n",
      "\u001b[2m\u001b[36m(pid=62067)\u001b[0m Episode 2\n",
      "\u001b[2m\u001b[36m(pid=62072)\u001b[0m Draw\n",
      "\u001b[2m\u001b[36m(pid=62072)\u001b[0m WARNING DELETING EXPERIENCES\n",
      "\u001b[2m\u001b[36m(pid=62072)\u001b[0m Episode 2\n",
      "\u001b[2m\u001b[36m(pid=62065)\u001b[0m Draw\n",
      "\u001b[2m\u001b[36m(pid=62065)\u001b[0m WARNING DELETING EXPERIENCES\n",
      "\u001b[2m\u001b[36m(pid=62065)\u001b[0m Episode 2\n",
      "\u001b[2m\u001b[36m(pid=62063)\u001b[0m Draw\n",
      "\u001b[2m\u001b[36m(pid=62063)\u001b[0m WARNING DELETING EXPERIENCES\n",
      "\u001b[2m\u001b[36m(pid=62063)\u001b[0m Episode 2\n",
      "\u001b[2m\u001b[36m(pid=62065)\u001b[0m White Won\n",
      "\u001b[2m\u001b[36m(pid=62065)\u001b[0m Episode 3\n",
      "\u001b[2m\u001b[36m(pid=62071)\u001b[0m Draw\n",
      "\u001b[2m\u001b[36m(pid=62071)\u001b[0m WARNING DELETING EXPERIENCES\n",
      "\u001b[2m\u001b[36m(pid=62071)\u001b[0m Episode 2\n",
      "\u001b[2m\u001b[36m(pid=62064)\u001b[0m Draw\n",
      "\u001b[2m\u001b[36m(pid=62064)\u001b[0m WARNING DELETING EXPERIENCES\n",
      "\u001b[2m\u001b[36m(pid=62064)\u001b[0m Episode 2\n",
      "\u001b[2m\u001b[36m(pid=62076)\u001b[0m White Won\n",
      "\u001b[2m\u001b[36m(pid=62076)\u001b[0m Episode 2\n",
      "\u001b[2m\u001b[36m(pid=62075)\u001b[0m Draw\n",
      "\u001b[2m\u001b[36m(pid=62075)\u001b[0m WARNING DELETING EXPERIENCES\n",
      "\u001b[2m\u001b[36m(pid=62075)\u001b[0m Episode 2\n",
      "\u001b[2m\u001b[36m(pid=62079)\u001b[0m Draw\n",
      "\u001b[2m\u001b[36m(pid=62079)\u001b[0m WARNING DELETING EXPERIENCES\n",
      "\u001b[2m\u001b[36m(pid=62079)\u001b[0m Episode 2\n",
      "\u001b[2m\u001b[36m(pid=62067)\u001b[0m Draw\n",
      "\u001b[2m\u001b[36m(pid=62067)\u001b[0m WARNING DELETING EXPERIENCES\n",
      "\u001b[2m\u001b[36m(pid=62067)\u001b[0m Episode 3\n",
      "\u001b[2m\u001b[36m(pid=62074)\u001b[0m Draw\n",
      "\u001b[2m\u001b[36m(pid=62074)\u001b[0m WARNING DELETING EXPERIENCES\n",
      "\u001b[2m\u001b[36m(pid=62074)\u001b[0m Episode 2\n",
      "\u001b[2m\u001b[36m(pid=62066)\u001b[0m Draw\n",
      "\u001b[2m\u001b[36m(pid=62066)\u001b[0m WARNING DELETING EXPERIENCES\n",
      "\u001b[2m\u001b[36m(pid=62066)\u001b[0m Episode 2\n",
      "\u001b[2m\u001b[36m(pid=62073)\u001b[0m Draw\n",
      "\u001b[2m\u001b[36m(pid=62073)\u001b[0m WARNING DELETING EXPERIENCES\n",
      "\u001b[2m\u001b[36m(pid=62073)\u001b[0m Episode 2\n",
      "\u001b[2m\u001b[36m(pid=62072)\u001b[0m Draw\n",
      "\u001b[2m\u001b[36m(pid=62072)\u001b[0m WARNING DELETING EXPERIENCES\n",
      "\u001b[2m\u001b[36m(pid=62072)\u001b[0m Episode 3\n",
      "\u001b[2m\u001b[36m(pid=62070)\u001b[0m Draw\n",
      "\u001b[2m\u001b[36m(pid=62070)\u001b[0m WARNING DELETING EXPERIENCES\n",
      "\u001b[2m\u001b[36m(pid=62070)\u001b[0m Episode 3\n",
      "\u001b[2m\u001b[36m(pid=62074)\u001b[0m White Loss\n",
      "\u001b[2m\u001b[36m(pid=62074)\u001b[0m Episode 3\n",
      "\u001b[2m\u001b[36m(pid=62077)\u001b[0m Draw\n",
      "\u001b[2m\u001b[36m(pid=62077)\u001b[0m WARNING DELETING EXPERIENCES\n",
      "\u001b[2m\u001b[36m(pid=62077)\u001b[0m Episode 2\n",
      "\u001b[2m\u001b[36m(pid=62065)\u001b[0m Draw\n",
      "\u001b[2m\u001b[36m(pid=62065)\u001b[0m WARNING DELETING EXPERIENCES\n",
      "\u001b[2m\u001b[36m(pid=62065)\u001b[0m Episode 4\n",
      "\u001b[2m\u001b[36m(pid=62069)\u001b[0m Draw\n",
      "\u001b[2m\u001b[36m(pid=62069)\u001b[0m WARNING DELETING EXPERIENCES\n",
      "\u001b[2m\u001b[36m(pid=62069)\u001b[0m Episode 2\n",
      "\u001b[2m\u001b[36m(pid=62071)\u001b[0m Draw\n",
      "\u001b[2m\u001b[36m(pid=62071)\u001b[0m WARNING DELETING EXPERIENCES\n",
      "\u001b[2m\u001b[36m(pid=62071)\u001b[0m Episode 3\n",
      "\u001b[2m\u001b[36m(pid=62064)\u001b[0m Draw\n",
      "\u001b[2m\u001b[36m(pid=62064)\u001b[0m WARNING DELETING EXPERIENCES\n",
      "\u001b[2m\u001b[36m(pid=62064)\u001b[0m Episode 3\n",
      "\u001b[2m\u001b[36m(pid=62063)\u001b[0m Draw\n",
      "\u001b[2m\u001b[36m(pid=62063)\u001b[0m WARNING DELETING EXPERIENCES\n",
      "\u001b[2m\u001b[36m(pid=62063)\u001b[0m Episode 3\n",
      "\u001b[2m\u001b[36m(pid=62076)\u001b[0m Draw\n",
      "\u001b[2m\u001b[36m(pid=62076)\u001b[0m WARNING DELETING EXPERIENCES\n",
      "\u001b[2m\u001b[36m(pid=62076)\u001b[0m Episode 3\n",
      "\u001b[2m\u001b[36m(pid=62066)\u001b[0m Draw\n",
      "\u001b[2m\u001b[36m(pid=62066)\u001b[0m WARNING DELETING EXPERIENCES\n",
      "\u001b[2m\u001b[36m(pid=62066)\u001b[0m Episode 3\n",
      "\u001b[2m\u001b[36m(pid=62068)\u001b[0m Draw\n",
      "\u001b[2m\u001b[36m(pid=62068)\u001b[0m WARNING DELETING EXPERIENCES\n",
      "\u001b[2m\u001b[36m(pid=62068)\u001b[0m Episode 3\n",
      "\u001b[2m\u001b[36m(pid=62075)\u001b[0m Draw\n",
      "\u001b[2m\u001b[36m(pid=62075)\u001b[0m WARNING DELETING EXPERIENCES\n",
      "\u001b[2m\u001b[36m(pid=62075)\u001b[0m Episode 3\n",
      "\u001b[2m\u001b[36m(pid=62079)\u001b[0m Draw\n",
      "\u001b[2m\u001b[36m(pid=62079)\u001b[0m WARNING DELETING EXPERIENCES\n",
      "\u001b[2m\u001b[36m(pid=62079)\u001b[0m Episode 3\n",
      "\u001b[2m\u001b[36m(pid=62072)\u001b[0m Draw\n",
      "\u001b[2m\u001b[36m(pid=62072)\u001b[0m WARNING DELETING EXPERIENCES\n",
      "\u001b[2m\u001b[36m(pid=62072)\u001b[0m Episode 4\n",
      "\u001b[2m\u001b[36m(pid=62070)\u001b[0m Draw\n",
      "\u001b[2m\u001b[36m(pid=62070)\u001b[0m WARNING DELETING EXPERIENCES\n",
      "\u001b[2m\u001b[36m(pid=62070)\u001b[0m Episode 4\n",
      "\u001b[2m\u001b[36m(pid=62067)\u001b[0m Draw\n",
      "\u001b[2m\u001b[36m(pid=62067)\u001b[0m WARNING DELETING EXPERIENCES\n",
      "\u001b[2m\u001b[36m(pid=62067)\u001b[0m Episode 4\n",
      "\u001b[2m\u001b[36m(pid=62073)\u001b[0m Draw\n",
      "\u001b[2m\u001b[36m(pid=62073)\u001b[0m WARNING DELETING EXPERIENCES\n",
      "\u001b[2m\u001b[36m(pid=62073)\u001b[0m Episode 3\n",
      "\u001b[2m\u001b[36m(pid=62064)\u001b[0m Draw\n",
      "\u001b[2m\u001b[36m(pid=62064)\u001b[0m WARNING DELETING EXPERIENCES\n",
      "\u001b[2m\u001b[36m(pid=62064)\u001b[0m Episode 4\n",
      "\u001b[2m\u001b[36m(pid=62069)\u001b[0m Draw\n",
      "\u001b[2m\u001b[36m(pid=62069)\u001b[0m WARNING DELETING EXPERIENCES\n",
      "\u001b[2m\u001b[36m(pid=62069)\u001b[0m Episode 3\n",
      "\u001b[2m\u001b[36m(pid=62074)\u001b[0m Draw\n",
      "\u001b[2m\u001b[36m(pid=62074)\u001b[0m WARNING DELETING EXPERIENCES\n",
      "\u001b[2m\u001b[36m(pid=62074)\u001b[0m Episode 4\n",
      "\u001b[2m\u001b[36m(pid=62071)\u001b[0m Draw\n",
      "\u001b[2m\u001b[36m(pid=62071)\u001b[0m WARNING DELETING EXPERIENCES\n",
      "\u001b[2m\u001b[36m(pid=62071)\u001b[0m Episode 4\n",
      "\u001b[2m\u001b[36m(pid=62063)\u001b[0m Draw\n",
      "\u001b[2m\u001b[36m(pid=62063)\u001b[0m WARNING DELETING EXPERIENCES\n",
      "\u001b[2m\u001b[36m(pid=62063)\u001b[0m Episode 4\n",
      "\u001b[2m\u001b[36m(pid=62065)\u001b[0m Draw\n",
      "\u001b[2m\u001b[36m(pid=62065)\u001b[0m WARNING DELETING EXPERIENCES\n",
      "\u001b[2m\u001b[36m(pid=62065)\u001b[0m Episode 5\n",
      "\u001b[2m\u001b[36m(pid=62076)\u001b[0m Draw\n",
      "\u001b[2m\u001b[36m(pid=62076)\u001b[0m WARNING DELETING EXPERIENCES\n",
      "\u001b[2m\u001b[36m(pid=62076)\u001b[0m Episode 4\n",
      "\u001b[2m\u001b[36m(pid=62066)\u001b[0m Draw\n",
      "\u001b[2m\u001b[36m(pid=62066)\u001b[0m WARNING DELETING EXPERIENCES\n",
      "\u001b[2m\u001b[36m(pid=62066)\u001b[0m Episode 4\n",
      "\u001b[2m\u001b[36m(pid=62070)\u001b[0m Draw\n",
      "\u001b[2m\u001b[36m(pid=62070)\u001b[0m WARNING DELETING EXPERIENCES\n",
      "\u001b[2m\u001b[36m(pid=62070)\u001b[0m Episode 5\n",
      "\u001b[2m\u001b[36m(pid=62076)\u001b[0m White Won\n",
      "\u001b[2m\u001b[36m(pid=62076)\u001b[0m Episode 5\n",
      "\u001b[2m\u001b[36m(pid=62079)\u001b[0m Draw\n",
      "\u001b[2m\u001b[36m(pid=62079)\u001b[0m WARNING DELETING EXPERIENCES\n",
      "\u001b[2m\u001b[36m(pid=62079)\u001b[0m Episode 4\n",
      "\u001b[2m\u001b[36m(pid=62064)\u001b[0m Draw\n",
      "\u001b[2m\u001b[36m(pid=62064)\u001b[0m WARNING DELETING EXPERIENCES\n",
      "\u001b[2m\u001b[36m(pid=62064)\u001b[0m Episode 5\n",
      "\u001b[2m\u001b[36m(pid=62075)\u001b[0m Draw\n",
      "\u001b[2m\u001b[36m(pid=62075)\u001b[0m WARNING DELETING EXPERIENCES\n",
      "\u001b[2m\u001b[36m(pid=62075)\u001b[0m Episode 4\n",
      "\u001b[2m\u001b[36m(pid=62072)\u001b[0m Draw\n",
      "\u001b[2m\u001b[36m(pid=62072)\u001b[0m WARNING DELETING EXPERIENCES\n",
      "\u001b[2m\u001b[36m(pid=62072)\u001b[0m Episode 5\n",
      "\u001b[2m\u001b[36m(pid=62068)\u001b[0m Draw\n",
      "\u001b[2m\u001b[36m(pid=62068)\u001b[0m WARNING DELETING EXPERIENCES\n",
      "\u001b[2m\u001b[36m(pid=62068)\u001b[0m Episode 4\n",
      "\u001b[2m\u001b[36m(pid=62067)\u001b[0m Draw\n",
      "\u001b[2m\u001b[36m(pid=62067)\u001b[0m WARNING DELETING EXPERIENCES\n",
      "\u001b[2m\u001b[36m(pid=62067)\u001b[0m Episode 5\n",
      "\u001b[2m\u001b[36m(pid=62067)\u001b[0m White Won\n",
      "\u001b[2m\u001b[36m(pid=62073)\u001b[0m Draw\n",
      "\u001b[2m\u001b[36m(pid=62073)\u001b[0m WARNING DELETING EXPERIENCES\n",
      "\u001b[2m\u001b[36m(pid=62073)\u001b[0m Episode 4\n",
      "\u001b[2m\u001b[36m(pid=62069)\u001b[0m Draw\n",
      "\u001b[2m\u001b[36m(pid=62069)\u001b[0m WARNING DELETING EXPERIENCES\n",
      "\u001b[2m\u001b[36m(pid=62069)\u001b[0m Episode 4\n",
      "\u001b[2m\u001b[36m(pid=62071)\u001b[0m Draw\n",
      "\u001b[2m\u001b[36m(pid=62071)\u001b[0m WARNING DELETING EXPERIENCES\n",
      "\u001b[2m\u001b[36m(pid=62071)\u001b[0m Episode 5\n",
      "\u001b[2m\u001b[36m(pid=62065)\u001b[0m Draw\n",
      "\u001b[2m\u001b[36m(pid=62065)\u001b[0m WARNING DELETING EXPERIENCES\n",
      "\u001b[2m\u001b[36m(pid=62063)\u001b[0m Draw\n",
      "\u001b[2m\u001b[36m(pid=62063)\u001b[0m WARNING DELETING EXPERIENCES\n",
      "\u001b[2m\u001b[36m(pid=62063)\u001b[0m Episode 5\n",
      "\u001b[2m\u001b[36m(pid=62077)\u001b[0m Draw\n",
      "\u001b[2m\u001b[36m(pid=62077)\u001b[0m WARNING DELETING EXPERIENCES\n",
      "\u001b[2m\u001b[36m(pid=62077)\u001b[0m Episode 3\n",
      "\u001b[2m\u001b[36m(pid=62074)\u001b[0m Draw\n",
      "\u001b[2m\u001b[36m(pid=62074)\u001b[0m WARNING DELETING EXPERIENCES\n",
      "\u001b[2m\u001b[36m(pid=62074)\u001b[0m Episode 5\n",
      "\u001b[2m\u001b[36m(pid=62066)\u001b[0m Draw\n",
      "\u001b[2m\u001b[36m(pid=62066)\u001b[0m WARNING DELETING EXPERIENCES\n",
      "\u001b[2m\u001b[36m(pid=62066)\u001b[0m Episode 5\n",
      "\u001b[2m\u001b[36m(pid=62075)\u001b[0m Draw\n",
      "\u001b[2m\u001b[36m(pid=62075)\u001b[0m WARNING DELETING EXPERIENCES\n",
      "\u001b[2m\u001b[36m(pid=62075)\u001b[0m Episode 5\n",
      "\u001b[2m\u001b[36m(pid=62076)\u001b[0m Draw\n",
      "\u001b[2m\u001b[36m(pid=62076)\u001b[0m WARNING DELETING EXPERIENCES\n",
      "\u001b[2m\u001b[36m(pid=62072)\u001b[0m Draw\n",
      "\u001b[2m\u001b[36m(pid=62072)\u001b[0m WARNING DELETING EXPERIENCES\n",
      "\u001b[2m\u001b[36m(pid=62070)\u001b[0m Draw\n",
      "\u001b[2m\u001b[36m(pid=62070)\u001b[0m WARNING DELETING EXPERIENCES\n",
      "\u001b[2m\u001b[36m(pid=62079)\u001b[0m Draw\n",
      "\u001b[2m\u001b[36m(pid=62079)\u001b[0m WARNING DELETING EXPERIENCES\n",
      "\u001b[2m\u001b[36m(pid=62079)\u001b[0m Episode 5\n",
      "\u001b[2m\u001b[36m(pid=62066)\u001b[0m White Loss\n",
      "\u001b[2m\u001b[36m(pid=62064)\u001b[0m Draw\n",
      "\u001b[2m\u001b[36m(pid=62064)\u001b[0m WARNING DELETING EXPERIENCES\n",
      "\u001b[2m\u001b[36m(pid=62073)\u001b[0m Draw\n",
      "\u001b[2m\u001b[36m(pid=62073)\u001b[0m WARNING DELETING EXPERIENCES\n",
      "\u001b[2m\u001b[36m(pid=62073)\u001b[0m Episode 5\n",
      "\u001b[2m\u001b[36m(pid=62068)\u001b[0m Draw\n",
      "\u001b[2m\u001b[36m(pid=62068)\u001b[0m WARNING DELETING EXPERIENCES\n",
      "\u001b[2m\u001b[36m(pid=62068)\u001b[0m Episode 5\n",
      "\u001b[2m\u001b[36m(pid=62077)\u001b[0m Draw\n",
      "\u001b[2m\u001b[36m(pid=62077)\u001b[0m WARNING DELETING EXPERIENCES\n",
      "\u001b[2m\u001b[36m(pid=62077)\u001b[0m Episode 4\n",
      "\u001b[2m\u001b[36m(pid=62069)\u001b[0m Draw\n",
      "\u001b[2m\u001b[36m(pid=62069)\u001b[0m WARNING DELETING EXPERIENCES\n",
      "\u001b[2m\u001b[36m(pid=62069)\u001b[0m Episode 5\n",
      "\u001b[2m\u001b[36m(pid=62079)\u001b[0m White Loss\n",
      "\u001b[2m\u001b[36m(pid=62063)\u001b[0m Draw\n",
      "\u001b[2m\u001b[36m(pid=62063)\u001b[0m WARNING DELETING EXPERIENCES\n",
      "\u001b[2m\u001b[36m(pid=62074)\u001b[0m Draw\n",
      "\u001b[2m\u001b[36m(pid=62074)\u001b[0m WARNING DELETING EXPERIENCES\n",
      "\u001b[2m\u001b[36m(pid=62071)\u001b[0m Draw\n",
      "\u001b[2m\u001b[36m(pid=62071)\u001b[0m WARNING DELETING EXPERIENCES\n",
      "\u001b[2m\u001b[36m(pid=62075)\u001b[0m Draw\n",
      "\u001b[2m\u001b[36m(pid=62075)\u001b[0m WARNING DELETING EXPERIENCES\n",
      "\u001b[2m\u001b[36m(pid=62068)\u001b[0m Draw\n",
      "\u001b[2m\u001b[36m(pid=62068)\u001b[0m WARNING DELETING EXPERIENCES\n",
      "\u001b[2m\u001b[36m(pid=62073)\u001b[0m Draw\n",
      "\u001b[2m\u001b[36m(pid=62073)\u001b[0m WARNING DELETING EXPERIENCES\n"
     ]
    },
    {
     "name": "stdout",
     "output_type": "stream",
     "text": [
      "\u001b[2m\u001b[36m(pid=62077)\u001b[0m Draw\n",
      "\u001b[2m\u001b[36m(pid=62077)\u001b[0m WARNING DELETING EXPERIENCES\n",
      "\u001b[2m\u001b[36m(pid=62077)\u001b[0m Episode 5\n",
      "\u001b[2m\u001b[36m(pid=62069)\u001b[0m Draw\n",
      "\u001b[2m\u001b[36m(pid=62069)\u001b[0m WARNING DELETING EXPERIENCES\n",
      "\u001b[2m\u001b[36m(pid=62077)\u001b[0m Draw\n",
      "\u001b[2m\u001b[36m(pid=62077)\u001b[0m WARNING DELETING EXPERIENCES\n"
     ]
    },
    {
     "name": "stderr",
     "output_type": "stream",
     "text": [
      "/home/ec2-user/anaconda3/envs/pytorch_latest_p36/lib/python3.6/site-packages/ipykernel/__main__.py:152: UserWarning: To copy construct from a tensor, it is recommended to use sourceTensor.clone().detach() or sourceTensor.clone().detach().requires_grad_(True), rather than torch.tensor(sourceTensor).\n",
      "/home/ec2-user/anaconda3/envs/pytorch_latest_p36/lib/python3.6/site-packages/ipykernel/__main__.py:154: UserWarning: The given NumPy array is not writeable, and PyTorch does not support non-writeable tensors. This means you can write to the underlying (supposedly non-writeable) NumPy array using the tensor. You may want to copy the array to protect its data or make it writeable before converting it to a tensor. This type of warning will be suppressed for the rest of this program. (Triggered internally at  /opt/conda/conda-bld/pytorch_1595629416375/work/torch/csrc/utils/tensor_numpy.cpp:141.)\n"
     ]
    },
    {
     "name": "stdout",
     "output_type": "stream",
     "text": [
      "0 ACTOR LOSS 2450.121826171875 | CRITIC LOSS 13.645127296447754\n",
      "1 ACTOR LOSS 5179.84912109375 | CRITIC LOSS 144.86952209472656\n",
      "2 ACTOR LOSS 5385.1259765625 | CRITIC LOSS 1.047151803970337\n",
      "3 ACTOR LOSS 5464.36865234375 | CRITIC LOSS 7.927321434020996\n",
      "4 ACTOR LOSS 5327.8662109375 | CRITIC LOSS 8.536857604980469\n",
      "5 ACTOR LOSS 5435.6298828125 | CRITIC LOSS 8.218798637390137\n",
      "6 ACTOR LOSS 5738.43359375 | CRITIC LOSS 8.217484474182129\n",
      "7 ACTOR LOSS 5572.6884765625 | CRITIC LOSS 7.235198974609375\n",
      "8 ACTOR LOSS 5667.53466796875 | CRITIC LOSS 6.591628551483154\n",
      "9 ACTOR LOSS 5883.3623046875 | CRITIC LOSS 5.735169410705566\n",
      "10 ACTOR LOSS 5596.2275390625 | CRITIC LOSS 4.751041412353516\n",
      "11 ACTOR LOSS 5823.2763671875 | CRITIC LOSS 4.145820140838623\n",
      "12 ACTOR LOSS 5732.61328125 | CRITIC LOSS 3.427283763885498\n",
      "13 ACTOR LOSS 5510.4921875 | CRITIC LOSS 2.736126661300659\n",
      "14 ACTOR LOSS 5910.2314453125 | CRITIC LOSS 2.482696533203125\n",
      "15 ACTOR LOSS 5693.658203125 | CRITIC LOSS 2.6254167556762695\n",
      "16 ACTOR LOSS 5781.63720703125 | CRITIC LOSS 2.088024854660034\n",
      "17 ACTOR LOSS 5778.8369140625 | CRITIC LOSS 2.2020955085754395\n",
      "18 ACTOR LOSS 5749.45166015625 | CRITIC LOSS 2.0294594764709473\n",
      "19 ACTOR LOSS 5674.9111328125 | CRITIC LOSS 1.99947190284729\n",
      "20 ACTOR LOSS 5774.7451171875 | CRITIC LOSS 1.5699422359466553\n",
      "21 ACTOR LOSS 5732.50341796875 | CRITIC LOSS 1.261860728263855\n",
      "22 ACTOR LOSS 5838.0439453125 | CRITIC LOSS 0.9727948307991028\n",
      "23 ACTOR LOSS 5910.689453125 | CRITIC LOSS 0.6754547357559204\n",
      "24 ACTOR LOSS 5907.70849609375 | CRITIC LOSS 0.5254961848258972\n",
      "25 ACTOR LOSS 5910.8671875 | CRITIC LOSS 0.3639828562736511\n",
      "26 ACTOR LOSS 5924.56884765625 | CRITIC LOSS 0.2698636054992676\n",
      "27 ACTOR LOSS 5989.73876953125 | CRITIC LOSS 0.20914295315742493\n",
      "28 ACTOR LOSS 5916.80712890625 | CRITIC LOSS 0.14596499502658844\n",
      "29 ACTOR LOSS 5859.97509765625 | CRITIC LOSS 0.10960012674331665\n",
      "30 ACTOR LOSS 5831.14013671875 | CRITIC LOSS 0.08787762373685837\n",
      "31 ACTOR LOSS 5995.79736328125 | CRITIC LOSS 0.06662902235984802\n",
      "32 ACTOR LOSS 5883.60693359375 | CRITIC LOSS 0.051516298204660416\n",
      "33 ACTOR LOSS 5747.767578125 | CRITIC LOSS 0.04127310961484909\n",
      "34 ACTOR LOSS 5797.60498046875 | CRITIC LOSS 0.042254578322172165\n",
      "35 ACTOR LOSS 5902.90869140625 | CRITIC LOSS 0.03888172283768654\n",
      "36 ACTOR LOSS 5876.88916015625 | CRITIC LOSS 0.04567108303308487\n",
      "37 ACTOR LOSS 5785.716796875 | CRITIC LOSS 0.05450086668133736\n",
      "38 ACTOR LOSS 5854.6376953125 | CRITIC LOSS 0.060486916452646255\n",
      "39 ACTOR LOSS 5894.2255859375 | CRITIC LOSS 0.06686955690383911\n",
      "40 ACTOR LOSS 5906.50048828125 | CRITIC LOSS 0.0872606411576271\n",
      "41 ACTOR LOSS 5779.35888671875 | CRITIC LOSS 0.06792774051427841\n",
      "42 ACTOR LOSS 5815.18212890625 | CRITIC LOSS 0.0788346603512764\n",
      "43 ACTOR LOSS 5763.513671875 | CRITIC LOSS 0.09800314158201218\n",
      "44 ACTOR LOSS 5810.52001953125 | CRITIC LOSS 0.08987212181091309\n",
      "45 ACTOR LOSS 5569.6865234375 | CRITIC LOSS 0.09187974035739899\n",
      "46 ACTOR LOSS 5900.607421875 | CRITIC LOSS 0.10090473294258118\n",
      "47 ACTOR LOSS 5925.064453125 | CRITIC LOSS 0.07588350772857666\n",
      "48 ACTOR LOSS 5798.02490234375 | CRITIC LOSS 0.05825209617614746\n",
      "49 ACTOR LOSS 5810.658203125 | CRITIC LOSS 0.05407357215881348\n",
      "50 ACTOR LOSS 5898.99853515625 | CRITIC LOSS 0.038737475872039795\n",
      "51 ACTOR LOSS 5880.97509765625 | CRITIC LOSS 0.037528421729803085\n",
      "52 ACTOR LOSS 5876.82568359375 | CRITIC LOSS 0.03199823200702667\n",
      "53 ACTOR LOSS 5650.01220703125 | CRITIC LOSS 0.030135627835989\n",
      "54 ACTOR LOSS 5667.0263671875 | CRITIC LOSS 0.02042333409190178\n",
      "55 ACTOR LOSS 5491.7197265625 | CRITIC LOSS 0.01707044616341591\n",
      "56 ACTOR LOSS 5759.6328125 | CRITIC LOSS 0.02362356334924698\n",
      "57 ACTOR LOSS 5801.453125 | CRITIC LOSS 0.014995877631008625\n",
      "58 ACTOR LOSS 5788.654296875 | CRITIC LOSS 0.010874701663851738\n",
      "59 ACTOR LOSS 4869.58056640625 | CRITIC LOSS 0.013994057662785053\n",
      "60 ACTOR LOSS 5636.23828125 | CRITIC LOSS 0.014718917198479176\n",
      "61 ACTOR LOSS 5786.55126953125 | CRITIC LOSS 0.006415491923689842\n",
      "62 ACTOR LOSS 5072.1650390625 | CRITIC LOSS 0.007372398395091295\n",
      "63 ACTOR LOSS 5661.43408203125 | CRITIC LOSS 0.0063962326385080814\n",
      "64 ACTOR LOSS 4749.71826171875 | CRITIC LOSS 0.008486337028443813\n",
      "65 ACTOR LOSS 5616.77294921875 | CRITIC LOSS 0.012572664767503738\n",
      "66 ACTOR LOSS 5774.568359375 | CRITIC LOSS 0.011252184398472309\n",
      "67 ACTOR LOSS 5667.74169921875 | CRITIC LOSS 0.01103736087679863\n",
      "68 ACTOR LOSS 5763.6220703125 | CRITIC LOSS 0.01412990503013134\n",
      "69 ACTOR LOSS 5497.4287109375 | CRITIC LOSS 0.009554599411785603\n",
      "70 ACTOR LOSS 5806.22802734375 | CRITIC LOSS 0.00886336900293827\n",
      "71 ACTOR LOSS 5635.15380859375 | CRITIC LOSS 0.009562036022543907\n",
      "72 ACTOR LOSS 5596.4990234375 | CRITIC LOSS 0.010751675814390182\n",
      "73 ACTOR LOSS 5799.9794921875 | CRITIC LOSS 0.009038658812642097\n",
      "74 ACTOR LOSS 5732.49853515625 | CRITIC LOSS 0.006947963498532772\n",
      "75 ACTOR LOSS 5624.92333984375 | CRITIC LOSS 0.009774310514330864\n",
      "76 ACTOR LOSS 5857.62451171875 | CRITIC LOSS 0.010141266509890556\n",
      "77 ACTOR LOSS 5502.25048828125 | CRITIC LOSS 0.006867187097668648\n",
      "78 ACTOR LOSS 5819.8798828125 | CRITIC LOSS 0.0077710687182843685\n",
      "79 ACTOR LOSS 5910.38916015625 | CRITIC LOSS 0.010755667462944984\n",
      "80 ACTOR LOSS 5762.23046875 | CRITIC LOSS 0.0036229079123586416\n",
      "81 ACTOR LOSS 5914.51171875 | CRITIC LOSS 0.0033856972586363554\n",
      "82 ACTOR LOSS 5980.84521484375 | CRITIC LOSS 0.011862504296004772\n",
      "83 ACTOR LOSS 5778.40283203125 | CRITIC LOSS 0.00681745819747448\n",
      "84 ACTOR LOSS 5576.0283203125 | CRITIC LOSS 0.005158667452633381\n",
      "85 ACTOR LOSS 5809.69482421875 | CRITIC LOSS 0.004560079891234636\n",
      "86 ACTOR LOSS 5749.9677734375 | CRITIC LOSS 0.006287897936999798\n",
      "87 ACTOR LOSS 5757.26318359375 | CRITIC LOSS 0.011920060031116009\n",
      "88 ACTOR LOSS 5744.36376953125 | CRITIC LOSS 0.007213704753667116\n",
      "89 ACTOR LOSS 5792.5390625 | CRITIC LOSS 0.0026339306496083736\n",
      "90 ACTOR LOSS 5733.84814453125 | CRITIC LOSS 0.003723749192431569\n",
      "91 ACTOR LOSS 5753.876953125 | CRITIC LOSS 0.006796322297304869\n",
      "92 ACTOR LOSS 5862.6181640625 | CRITIC LOSS 0.006506370380520821\n",
      "93 ACTOR LOSS 5672.5078125 | CRITIC LOSS 0.0029553216882050037\n",
      "94 ACTOR LOSS 5721.7607421875 | CRITIC LOSS 0.010129323229193687\n",
      "95 ACTOR LOSS 5765.87841796875 | CRITIC LOSS 0.006587105803191662\n",
      "96 ACTOR LOSS 5892.06689453125 | CRITIC LOSS 0.009050378575921059\n",
      "97 ACTOR LOSS 5975.6474609375 | CRITIC LOSS 0.005015543662011623\n",
      "98 ACTOR LOSS 5865.00927734375 | CRITIC LOSS 0.004407327622175217\n",
      "99 ACTOR LOSS 5703.50244140625 | CRITIC LOSS 0.0030849562026560307\n",
      "EVALUATING\n",
      "Copying Current Network to Previous Network as Previous Network is None\n",
      "\u001b[2m\u001b[36m(pid=62077)\u001b[0m Playing against opponent\n",
      "\u001b[2m\u001b[36m(pid=62077)\u001b[0m Episode 1\n"
     ]
    },
    {
     "name": "stderr",
     "output_type": "stream",
     "text": [
      "\u001b[2m\u001b[36m(pid=62077)\u001b[0m /home/ec2-user/.local/lib/python3.6/site-packages/ray/workers/default_worker.py:58: RuntimeWarning: invalid value encountered in true_divide\n",
      "\u001b[2m\u001b[36m(pid=62077)\u001b[0m   type=str,\n"
     ]
    },
    {
     "name": "stdout",
     "output_type": "stream",
     "text": [
      "\u001b[2m\u001b[36m(pid=62073)\u001b[0m Playing against opponent\n",
      "\u001b[2m\u001b[36m(pid=62073)\u001b[0m Episode 1\n"
     ]
    },
    {
     "name": "stderr",
     "output_type": "stream",
     "text": [
      "\u001b[2m\u001b[36m(pid=62073)\u001b[0m /home/ec2-user/.local/lib/python3.6/site-packages/ray/workers/default_worker.py:58: RuntimeWarning: invalid value encountered in true_divide\n",
      "\u001b[2m\u001b[36m(pid=62073)\u001b[0m   type=str,\n"
     ]
    },
    {
     "name": "stdout",
     "output_type": "stream",
     "text": [
      "\u001b[2m\u001b[36m(pid=62068)\u001b[0m Playing against opponent\n",
      "\u001b[2m\u001b[36m(pid=62068)\u001b[0m Episode 1\n"
     ]
    },
    {
     "name": "stderr",
     "output_type": "stream",
     "text": [
      "\u001b[2m\u001b[36m(pid=62068)\u001b[0m /home/ec2-user/.local/lib/python3.6/site-packages/ray/workers/default_worker.py:58: RuntimeWarning: invalid value encountered in true_divide\n",
      "\u001b[2m\u001b[36m(pid=62068)\u001b[0m   type=str,\n"
     ]
    },
    {
     "name": "stdout",
     "output_type": "stream",
     "text": [
      "\u001b[2m\u001b[36m(pid=62071)\u001b[0m Playing against opponent\n",
      "\u001b[2m\u001b[36m(pid=62071)\u001b[0m Episode 1\n"
     ]
    },
    {
     "name": "stderr",
     "output_type": "stream",
     "text": [
      "\u001b[2m\u001b[36m(pid=62071)\u001b[0m /home/ec2-user/.local/lib/python3.6/site-packages/ray/workers/default_worker.py:58: RuntimeWarning: invalid value encountered in true_divide\n",
      "\u001b[2m\u001b[36m(pid=62071)\u001b[0m   type=str,\n"
     ]
    },
    {
     "name": "stdout",
     "output_type": "stream",
     "text": [
      "\u001b[2m\u001b[36m(pid=62063)\u001b[0m Playing against opponent\n",
      "\u001b[2m\u001b[36m(pid=62063)\u001b[0m Episode 1\n"
     ]
    },
    {
     "name": "stderr",
     "output_type": "stream",
     "text": [
      "\u001b[2m\u001b[36m(pid=62063)\u001b[0m /home/ec2-user/.local/lib/python3.6/site-packages/ray/workers/default_worker.py:58: RuntimeWarning: invalid value encountered in true_divide\n",
      "\u001b[2m\u001b[36m(pid=62063)\u001b[0m   type=str,\n"
     ]
    },
    {
     "name": "stdout",
     "output_type": "stream",
     "text": [
      "\u001b[2m\u001b[36m(pid=62079)\u001b[0m Playing against opponent\n",
      "\u001b[2m\u001b[36m(pid=62079)\u001b[0m Episode 1\n"
     ]
    },
    {
     "name": "stderr",
     "output_type": "stream",
     "text": [
      "\u001b[2m\u001b[36m(pid=62079)\u001b[0m /home/ec2-user/.local/lib/python3.6/site-packages/ray/workers/default_worker.py:58: RuntimeWarning: invalid value encountered in true_divide\n",
      "\u001b[2m\u001b[36m(pid=62079)\u001b[0m   type=str,\n"
     ]
    },
    {
     "name": "stdout",
     "output_type": "stream",
     "text": [
      "\u001b[2m\u001b[36m(pid=62064)\u001b[0m Playing against opponent\n",
      "\u001b[2m\u001b[36m(pid=62064)\u001b[0m Episode 1\n"
     ]
    },
    {
     "name": "stderr",
     "output_type": "stream",
     "text": [
      "\u001b[2m\u001b[36m(pid=62064)\u001b[0m /home/ec2-user/.local/lib/python3.6/site-packages/ray/workers/default_worker.py:58: RuntimeWarning: invalid value encountered in true_divide\n",
      "\u001b[2m\u001b[36m(pid=62064)\u001b[0m   type=str,\n"
     ]
    },
    {
     "name": "stdout",
     "output_type": "stream",
     "text": [
      "\u001b[2m\u001b[36m(pid=62066)\u001b[0m Playing against opponent\n",
      "\u001b[2m\u001b[36m(pid=62066)\u001b[0m Episode 1\n"
     ]
    },
    {
     "name": "stderr",
     "output_type": "stream",
     "text": [
      "\u001b[2m\u001b[36m(pid=62066)\u001b[0m /home/ec2-user/.local/lib/python3.6/site-packages/ray/workers/default_worker.py:58: RuntimeWarning: invalid value encountered in true_divide\n",
      "\u001b[2m\u001b[36m(pid=62066)\u001b[0m   type=str,\n"
     ]
    },
    {
     "name": "stdout",
     "output_type": "stream",
     "text": [
      "\u001b[2m\u001b[36m(pid=62074)\u001b[0m Playing against opponent\n",
      "\u001b[2m\u001b[36m(pid=62074)\u001b[0m Episode 1\n"
     ]
    },
    {
     "name": "stderr",
     "output_type": "stream",
     "text": [
      "\u001b[2m\u001b[36m(pid=62074)\u001b[0m /home/ec2-user/.local/lib/python3.6/site-packages/ray/workers/default_worker.py:58: RuntimeWarning: invalid value encountered in true_divide\n",
      "\u001b[2m\u001b[36m(pid=62074)\u001b[0m   type=str,\n"
     ]
    },
    {
     "name": "stdout",
     "output_type": "stream",
     "text": [
      "\u001b[2m\u001b[36m(pid=62070)\u001b[0m Playing against opponent\n",
      "\u001b[2m\u001b[36m(pid=62070)\u001b[0m Episode 1\n"
     ]
    },
    {
     "name": "stderr",
     "output_type": "stream",
     "text": [
      "\u001b[2m\u001b[36m(pid=62070)\u001b[0m /home/ec2-user/.local/lib/python3.6/site-packages/ray/workers/default_worker.py:58: RuntimeWarning: invalid value encountered in true_divide\n",
      "\u001b[2m\u001b[36m(pid=62070)\u001b[0m   type=str,\n"
     ]
    },
    {
     "name": "stdout",
     "output_type": "stream",
     "text": [
      "\u001b[2m\u001b[36m(pid=62069)\u001b[0m Playing against opponent\n",
      "\u001b[2m\u001b[36m(pid=62069)\u001b[0m Episode 1\n"
     ]
    },
    {
     "name": "stderr",
     "output_type": "stream",
     "text": [
      "\u001b[2m\u001b[36m(pid=62069)\u001b[0m /home/ec2-user/.local/lib/python3.6/site-packages/ray/workers/default_worker.py:58: RuntimeWarning: invalid value encountered in true_divide\n",
      "\u001b[2m\u001b[36m(pid=62069)\u001b[0m   type=str,\n"
     ]
    },
    {
     "name": "stdout",
     "output_type": "stream",
     "text": [
      "\u001b[2m\u001b[36m(pid=62072)\u001b[0m Playing against opponent\n",
      "\u001b[2m\u001b[36m(pid=62072)\u001b[0m Episode 1\n"
     ]
    },
    {
     "name": "stderr",
     "output_type": "stream",
     "text": [
      "\u001b[2m\u001b[36m(pid=62072)\u001b[0m /home/ec2-user/.local/lib/python3.6/site-packages/ray/workers/default_worker.py:58: RuntimeWarning: invalid value encountered in true_divide\n",
      "\u001b[2m\u001b[36m(pid=62072)\u001b[0m   type=str,\n"
     ]
    },
    {
     "name": "stdout",
     "output_type": "stream",
     "text": [
      "\u001b[2m\u001b[36m(pid=62076)\u001b[0m Playing against opponent\n",
      "\u001b[2m\u001b[36m(pid=62076)\u001b[0m Episode 1\n"
     ]
    },
    {
     "name": "stderr",
     "output_type": "stream",
     "text": [
      "\u001b[2m\u001b[36m(pid=62076)\u001b[0m /home/ec2-user/.local/lib/python3.6/site-packages/ray/workers/default_worker.py:58: RuntimeWarning: invalid value encountered in true_divide\n",
      "\u001b[2m\u001b[36m(pid=62076)\u001b[0m   type=str,\n"
     ]
    },
    {
     "name": "stdout",
     "output_type": "stream",
     "text": [
      "\u001b[2m\u001b[36m(pid=62068)\u001b[0m White Won\n",
      "\u001b[2m\u001b[36m(pid=62068)\u001b[0m Playing against opponent\n",
      "\u001b[2m\u001b[36m(pid=62068)\u001b[0m Episode 1\n"
     ]
    },
    {
     "name": "stderr",
     "output_type": "stream",
     "text": [
      "\u001b[2m\u001b[36m(pid=62068)\u001b[0m /home/ec2-user/.local/lib/python3.6/site-packages/ray/workers/default_worker.py:58: RuntimeWarning: invalid value encountered in true_divide\n",
      "\u001b[2m\u001b[36m(pid=62068)\u001b[0m   type=str,\n"
     ]
    },
    {
     "name": "stdout",
     "output_type": "stream",
     "text": [
      "\u001b[2m\u001b[36m(pid=62065)\u001b[0m Playing against opponent\n",
      "\u001b[2m\u001b[36m(pid=62065)\u001b[0m Episode 1\n"
     ]
    },
    {
     "name": "stderr",
     "output_type": "stream",
     "text": [
      "\u001b[2m\u001b[36m(pid=62065)\u001b[0m /home/ec2-user/.local/lib/python3.6/site-packages/ray/workers/default_worker.py:58: RuntimeWarning: invalid value encountered in true_divide\n",
      "\u001b[2m\u001b[36m(pid=62065)\u001b[0m   type=str,\n"
     ]
    },
    {
     "name": "stdout",
     "output_type": "stream",
     "text": [
      "\u001b[2m\u001b[36m(pid=62075)\u001b[0m Playing against opponent\n",
      "\u001b[2m\u001b[36m(pid=62075)\u001b[0m Episode 1\n"
     ]
    },
    {
     "name": "stderr",
     "output_type": "stream",
     "text": [
      "\u001b[2m\u001b[36m(pid=62075)\u001b[0m /home/ec2-user/.local/lib/python3.6/site-packages/ray/workers/default_worker.py:58: RuntimeWarning: invalid value encountered in true_divide\n",
      "\u001b[2m\u001b[36m(pid=62075)\u001b[0m   type=str,\n"
     ]
    },
    {
     "name": "stdout",
     "output_type": "stream",
     "text": [
      "\u001b[2m\u001b[36m(pid=62073)\u001b[0m Draw\n",
      "\u001b[2m\u001b[36m(pid=62079)\u001b[0m Draw\n",
      "\u001b[2m\u001b[36m(pid=62063)\u001b[0m Draw\n",
      "\u001b[2m\u001b[36m(pid=62077)\u001b[0m Draw\n",
      "\u001b[2m\u001b[36m(pid=62068)\u001b[0m Draw\n",
      "\u001b[2m\u001b[36m(pid=62071)\u001b[0m Draw\n",
      "\u001b[2m\u001b[36m(pid=62070)\u001b[0m Draw\n",
      "\u001b[2m\u001b[36m(pid=62069)\u001b[0m Draw\n",
      "\u001b[2m\u001b[36m(pid=62074)\u001b[0m Draw\n",
      "\u001b[2m\u001b[36m(pid=62072)\u001b[0m Draw\n",
      "\u001b[2m\u001b[36m(pid=62064)\u001b[0m Draw\n",
      "\u001b[2m\u001b[36m(pid=62065)\u001b[0m Draw\n",
      "\u001b[2m\u001b[36m(pid=62066)\u001b[0m Draw\n",
      "\u001b[2m\u001b[36m(pid=62076)\u001b[0m Draw\n",
      "\u001b[2m\u001b[36m(pid=62075)\u001b[0m Draw\n",
      "Wins 1 0.06% | Draws 15 0.94% | Losses 0 0.0%\n",
      "New Network was better\n",
      "Train steps 100 > Learn steps 5.. Reducing learning rate to 0.2\n",
      "LEARNING\n",
      "\u001b[2m\u001b[36m(pid=62076)\u001b[0m Playing against self\n",
      "\u001b[2m\u001b[36m(pid=62076)\u001b[0m Episode 1\n"
     ]
    },
    {
     "name": "stderr",
     "output_type": "stream",
     "text": [
      "\u001b[2m\u001b[36m(pid=62076)\u001b[0m /home/ec2-user/.local/lib/python3.6/site-packages/ray/workers/default_worker.py:58: RuntimeWarning: invalid value encountered in true_divide\n",
      "\u001b[2m\u001b[36m(pid=62076)\u001b[0m   type=str,\n"
     ]
    },
    {
     "name": "stdout",
     "output_type": "stream",
     "text": [
      "\u001b[2m\u001b[36m(pid=62066)\u001b[0m Playing against self\n",
      "\u001b[2m\u001b[36m(pid=62066)\u001b[0m Episode 1\n"
     ]
    },
    {
     "name": "stderr",
     "output_type": "stream",
     "text": [
      "\u001b[2m\u001b[36m(pid=62066)\u001b[0m /home/ec2-user/.local/lib/python3.6/site-packages/ray/workers/default_worker.py:58: RuntimeWarning: invalid value encountered in true_divide\n",
      "\u001b[2m\u001b[36m(pid=62066)\u001b[0m   type=str,\n"
     ]
    },
    {
     "name": "stdout",
     "output_type": "stream",
     "text": [
      "\u001b[2m\u001b[36m(pid=62065)\u001b[0m Playing against self\n",
      "\u001b[2m\u001b[36m(pid=62065)\u001b[0m Episode 1\n"
     ]
    },
    {
     "name": "stderr",
     "output_type": "stream",
     "text": [
      "\u001b[2m\u001b[36m(pid=62065)\u001b[0m /home/ec2-user/.local/lib/python3.6/site-packages/ray/workers/default_worker.py:58: RuntimeWarning: invalid value encountered in true_divide\n",
      "\u001b[2m\u001b[36m(pid=62065)\u001b[0m   type=str,\n"
     ]
    },
    {
     "name": "stdout",
     "output_type": "stream",
     "text": [
      "\u001b[2m\u001b[36m(pid=62064)\u001b[0m Playing against self\n",
      "\u001b[2m\u001b[36m(pid=62064)\u001b[0m Episode 1\n"
     ]
    },
    {
     "name": "stderr",
     "output_type": "stream",
     "text": [
      "\u001b[2m\u001b[36m(pid=62064)\u001b[0m /home/ec2-user/.local/lib/python3.6/site-packages/ray/workers/default_worker.py:58: RuntimeWarning: invalid value encountered in true_divide\n",
      "\u001b[2m\u001b[36m(pid=62064)\u001b[0m   type=str,\n"
     ]
    },
    {
     "name": "stdout",
     "output_type": "stream",
     "text": [
      "\u001b[2m\u001b[36m(pid=62072)\u001b[0m Playing against self\n",
      "\u001b[2m\u001b[36m(pid=62072)\u001b[0m Episode 1\n"
     ]
    },
    {
     "name": "stderr",
     "output_type": "stream",
     "text": [
      "\u001b[2m\u001b[36m(pid=62072)\u001b[0m /home/ec2-user/.local/lib/python3.6/site-packages/ray/workers/default_worker.py:58: RuntimeWarning: invalid value encountered in true_divide\n",
      "\u001b[2m\u001b[36m(pid=62072)\u001b[0m   type=str,\n"
     ]
    },
    {
     "name": "stdout",
     "output_type": "stream",
     "text": [
      "\u001b[2m\u001b[36m(pid=62069)\u001b[0m Playing against self\n",
      "\u001b[2m\u001b[36m(pid=62069)\u001b[0m Episode 1\n"
     ]
    },
    {
     "name": "stderr",
     "output_type": "stream",
     "text": [
      "\u001b[2m\u001b[36m(pid=62069)\u001b[0m /home/ec2-user/.local/lib/python3.6/site-packages/ray/workers/default_worker.py:58: RuntimeWarning: invalid value encountered in true_divide\n",
      "\u001b[2m\u001b[36m(pid=62069)\u001b[0m   type=str,\n"
     ]
    },
    {
     "name": "stdout",
     "output_type": "stream",
     "text": [
      "\u001b[2m\u001b[36m(pid=62074)\u001b[0m Playing against self\n",
      "\u001b[2m\u001b[36m(pid=62074)\u001b[0m Episode 1\n"
     ]
    },
    {
     "name": "stderr",
     "output_type": "stream",
     "text": [
      "\u001b[2m\u001b[36m(pid=62074)\u001b[0m /home/ec2-user/.local/lib/python3.6/site-packages/ray/workers/default_worker.py:58: RuntimeWarning: invalid value encountered in true_divide\n",
      "\u001b[2m\u001b[36m(pid=62074)\u001b[0m   type=str,\n"
     ]
    },
    {
     "name": "stdout",
     "output_type": "stream",
     "text": [
      "\u001b[2m\u001b[36m(pid=62070)\u001b[0m Playing against self\n",
      "\u001b[2m\u001b[36m(pid=62070)\u001b[0m Episode 1\n"
     ]
    },
    {
     "name": "stderr",
     "output_type": "stream",
     "text": [
      "\u001b[2m\u001b[36m(pid=62070)\u001b[0m /home/ec2-user/.local/lib/python3.6/site-packages/ray/workers/default_worker.py:58: RuntimeWarning: invalid value encountered in true_divide\n",
      "\u001b[2m\u001b[36m(pid=62070)\u001b[0m   type=str,\n"
     ]
    },
    {
     "name": "stdout",
     "output_type": "stream",
     "text": [
      "\u001b[2m\u001b[36m(pid=62071)\u001b[0m Playing against self\n",
      "\u001b[2m\u001b[36m(pid=62071)\u001b[0m Episode 1\n"
     ]
    },
    {
     "name": "stderr",
     "output_type": "stream",
     "text": [
      "\u001b[2m\u001b[36m(pid=62071)\u001b[0m /home/ec2-user/.local/lib/python3.6/site-packages/ray/workers/default_worker.py:58: RuntimeWarning: invalid value encountered in true_divide\n",
      "\u001b[2m\u001b[36m(pid=62071)\u001b[0m   type=str,\n"
     ]
    },
    {
     "name": "stdout",
     "output_type": "stream",
     "text": [
      "\u001b[2m\u001b[36m(pid=62068)\u001b[0m Playing against self\n",
      "\u001b[2m\u001b[36m(pid=62068)\u001b[0m Episode 1\n"
     ]
    },
    {
     "name": "stderr",
     "output_type": "stream",
     "text": [
      "\u001b[2m\u001b[36m(pid=62068)\u001b[0m /home/ec2-user/.local/lib/python3.6/site-packages/ray/workers/default_worker.py:58: RuntimeWarning: invalid value encountered in true_divide\n",
      "\u001b[2m\u001b[36m(pid=62068)\u001b[0m   type=str,\n"
     ]
    },
    {
     "name": "stdout",
     "output_type": "stream",
     "text": [
      "\u001b[2m\u001b[36m(pid=62077)\u001b[0m Playing against self\n",
      "\u001b[2m\u001b[36m(pid=62077)\u001b[0m Episode 1\n"
     ]
    },
    {
     "name": "stderr",
     "output_type": "stream",
     "text": [
      "\u001b[2m\u001b[36m(pid=62077)\u001b[0m /home/ec2-user/.local/lib/python3.6/site-packages/ray/workers/default_worker.py:58: RuntimeWarning: invalid value encountered in true_divide\n",
      "\u001b[2m\u001b[36m(pid=62077)\u001b[0m   type=str,\n"
     ]
    },
    {
     "name": "stdout",
     "output_type": "stream",
     "text": [
      "\u001b[2m\u001b[36m(pid=62063)\u001b[0m Playing against self\n",
      "\u001b[2m\u001b[36m(pid=62063)\u001b[0m Episode 1\n"
     ]
    },
    {
     "name": "stderr",
     "output_type": "stream",
     "text": [
      "\u001b[2m\u001b[36m(pid=62063)\u001b[0m /home/ec2-user/.local/lib/python3.6/site-packages/ray/workers/default_worker.py:58: RuntimeWarning: invalid value encountered in true_divide\n",
      "\u001b[2m\u001b[36m(pid=62063)\u001b[0m   type=str,\n"
     ]
    },
    {
     "name": "stdout",
     "output_type": "stream",
     "text": [
      "\u001b[2m\u001b[36m(pid=62079)\u001b[0m Playing against self\n",
      "\u001b[2m\u001b[36m(pid=62079)\u001b[0m Episode 1\n"
     ]
    },
    {
     "name": "stderr",
     "output_type": "stream",
     "text": [
      "\u001b[2m\u001b[36m(pid=62079)\u001b[0m /home/ec2-user/.local/lib/python3.6/site-packages/ray/workers/default_worker.py:58: RuntimeWarning: invalid value encountered in true_divide\n",
      "\u001b[2m\u001b[36m(pid=62079)\u001b[0m   type=str,\n"
     ]
    },
    {
     "name": "stdout",
     "output_type": "stream",
     "text": [
      "\u001b[2m\u001b[36m(pid=62073)\u001b[0m Playing against self\n",
      "\u001b[2m\u001b[36m(pid=62073)\u001b[0m Episode 1\n"
     ]
    },
    {
     "name": "stderr",
     "output_type": "stream",
     "text": [
      "\u001b[2m\u001b[36m(pid=62073)\u001b[0m /home/ec2-user/.local/lib/python3.6/site-packages/ray/workers/default_worker.py:58: RuntimeWarning: invalid value encountered in true_divide\n",
      "\u001b[2m\u001b[36m(pid=62073)\u001b[0m   type=str,\n"
     ]
    },
    {
     "name": "stdout",
     "output_type": "stream",
     "text": [
      "\u001b[2m\u001b[36m(pid=62075)\u001b[0m Playing against self\n",
      "\u001b[2m\u001b[36m(pid=62075)\u001b[0m Episode 1\n"
     ]
    },
    {
     "name": "stderr",
     "output_type": "stream",
     "text": [
      "\u001b[2m\u001b[36m(pid=62075)\u001b[0m /home/ec2-user/.local/lib/python3.6/site-packages/ray/workers/default_worker.py:58: RuntimeWarning: invalid value encountered in true_divide\n",
      "\u001b[2m\u001b[36m(pid=62075)\u001b[0m   type=str,\n"
     ]
    },
    {
     "name": "stdout",
     "output_type": "stream",
     "text": [
      "\u001b[2m\u001b[36m(pid=62067)\u001b[0m Playing against self\n",
      "\u001b[2m\u001b[36m(pid=62067)\u001b[0m Episode 1\n"
     ]
    },
    {
     "name": "stderr",
     "output_type": "stream",
     "text": [
      "\u001b[2m\u001b[36m(pid=62067)\u001b[0m /home/ec2-user/.local/lib/python3.6/site-packages/ray/workers/default_worker.py:58: RuntimeWarning: invalid value encountered in true_divide\n",
      "\u001b[2m\u001b[36m(pid=62067)\u001b[0m   type=str,\n"
     ]
    },
    {
     "name": "stdout",
     "output_type": "stream",
     "text": [
      "\u001b[2m\u001b[36m(pid=62064)\u001b[0m White Loss\n",
      "\u001b[2m\u001b[36m(pid=62064)\u001b[0m Episode 2\n",
      "\u001b[2m\u001b[36m(pid=62073)\u001b[0m White Won\n",
      "\u001b[2m\u001b[36m(pid=62073)\u001b[0m Episode 2\n",
      "\u001b[2m\u001b[36m(pid=62069)\u001b[0m Draw\n",
      "\u001b[2m\u001b[36m(pid=62069)\u001b[0m WARNING DELETING EXPERIENCES\n",
      "\u001b[2m\u001b[36m(pid=62069)\u001b[0m Episode 2\n",
      "\u001b[2m\u001b[36m(pid=62065)\u001b[0m Draw\n",
      "\u001b[2m\u001b[36m(pid=62065)\u001b[0m WARNING DELETING EXPERIENCES\n",
      "\u001b[2m\u001b[36m(pid=62065)\u001b[0m Episode 2\n",
      "\u001b[2m\u001b[36m(pid=62076)\u001b[0m Draw\n",
      "\u001b[2m\u001b[36m(pid=62076)\u001b[0m WARNING DELETING EXPERIENCES\n",
      "\u001b[2m\u001b[36m(pid=62076)\u001b[0m Episode 2\n",
      "\u001b[2m\u001b[36m(pid=62066)\u001b[0m Draw\n",
      "\u001b[2m\u001b[36m(pid=62066)\u001b[0m WARNING DELETING EXPERIENCES\n",
      "\u001b[2m\u001b[36m(pid=62066)\u001b[0m Episode 2\n",
      "\u001b[2m\u001b[36m(pid=62069)\u001b[0m Draw\n",
      "\u001b[2m\u001b[36m(pid=62069)\u001b[0m WARNING DELETING EXPERIENCES\n",
      "\u001b[2m\u001b[36m(pid=62069)\u001b[0m Episode 3\n",
      "\u001b[2m\u001b[36m(pid=62074)\u001b[0m Draw\n",
      "\u001b[2m\u001b[36m(pid=62074)\u001b[0m WARNING DELETING EXPERIENCES\n",
      "\u001b[2m\u001b[36m(pid=62074)\u001b[0m Episode 2\n",
      "\u001b[2m\u001b[36m(pid=62064)\u001b[0m Draw\n",
      "\u001b[2m\u001b[36m(pid=62064)\u001b[0m WARNING DELETING EXPERIENCES\n",
      "\u001b[2m\u001b[36m(pid=62064)\u001b[0m Episode 3\n",
      "\u001b[2m\u001b[36m(pid=62072)\u001b[0m Draw\n",
      "\u001b[2m\u001b[36m(pid=62072)\u001b[0m WARNING DELETING EXPERIENCES\n",
      "\u001b[2m\u001b[36m(pid=62072)\u001b[0m Episode 2\n",
      "\u001b[2m\u001b[36m(pid=62068)\u001b[0m White Won\n",
      "\u001b[2m\u001b[36m(pid=62068)\u001b[0m Episode 2\n",
      "\u001b[2m\u001b[36m(pid=62065)\u001b[0m White Won\n",
      "\u001b[2m\u001b[36m(pid=62065)\u001b[0m Episode 3\n",
      "\u001b[2m\u001b[36m(pid=62077)\u001b[0m Draw\n",
      "\u001b[2m\u001b[36m(pid=62077)\u001b[0m WARNING DELETING EXPERIENCES\n",
      "\u001b[2m\u001b[36m(pid=62077)\u001b[0m Episode 2\n",
      "\u001b[2m\u001b[36m(pid=62079)\u001b[0m Draw\n",
      "\u001b[2m\u001b[36m(pid=62079)\u001b[0m WARNING DELETING EXPERIENCES\n",
      "\u001b[2m\u001b[36m(pid=62079)\u001b[0m Episode 2\n",
      "\u001b[2m\u001b[36m(pid=62070)\u001b[0m Draw\n",
      "\u001b[2m\u001b[36m(pid=62070)\u001b[0m WARNING DELETING EXPERIENCES\n",
      "\u001b[2m\u001b[36m(pid=62070)\u001b[0m Episode 2\n",
      "\u001b[2m\u001b[36m(pid=62066)\u001b[0m Draw\n",
      "\u001b[2m\u001b[36m(pid=62066)\u001b[0m WARNING DELETING EXPERIENCES\n",
      "\u001b[2m\u001b[36m(pid=62066)\u001b[0m Episode 3\n",
      "\u001b[2m\u001b[36m(pid=62071)\u001b[0m Draw\n",
      "\u001b[2m\u001b[36m(pid=62071)\u001b[0m WARNING DELETING EXPERIENCES\n",
      "\u001b[2m\u001b[36m(pid=62071)\u001b[0m Episode 2\n",
      "\u001b[2m\u001b[36m(pid=62076)\u001b[0m Draw\n",
      "\u001b[2m\u001b[36m(pid=62076)\u001b[0m WARNING DELETING EXPERIENCES\n",
      "\u001b[2m\u001b[36m(pid=62076)\u001b[0m Episode 3\n",
      "\u001b[2m\u001b[36m(pid=62069)\u001b[0m Draw\n",
      "\u001b[2m\u001b[36m(pid=62069)\u001b[0m WARNING DELETING EXPERIENCES\n",
      "\u001b[2m\u001b[36m(pid=62069)\u001b[0m Episode 4\n",
      "\u001b[2m\u001b[36m(pid=62066)\u001b[0m White Won\n",
      "\u001b[2m\u001b[36m(pid=62066)\u001b[0m Episode 4\n",
      "\u001b[2m\u001b[36m(pid=62067)\u001b[0m Draw\n",
      "\u001b[2m\u001b[36m(pid=62067)\u001b[0m WARNING DELETING EXPERIENCES\n",
      "\u001b[2m\u001b[36m(pid=62067)\u001b[0m Episode 2\n",
      "\u001b[2m\u001b[36m(pid=62063)\u001b[0m Draw\n",
      "\u001b[2m\u001b[36m(pid=62063)\u001b[0m WARNING DELETING EXPERIENCES\n",
      "\u001b[2m\u001b[36m(pid=62063)\u001b[0m Episode 2\n",
      "\u001b[2m\u001b[36m(pid=62064)\u001b[0m Draw\n",
      "\u001b[2m\u001b[36m(pid=62064)\u001b[0m WARNING DELETING EXPERIENCES\n",
      "\u001b[2m\u001b[36m(pid=62064)\u001b[0m Episode 4\n",
      "\u001b[2m\u001b[36m(pid=62070)\u001b[0m White Won\n",
      "\u001b[2m\u001b[36m(pid=62070)\u001b[0m Episode 3\n",
      "\u001b[2m\u001b[36m(pid=62065)\u001b[0m White Won\n",
      "\u001b[2m\u001b[36m(pid=62065)\u001b[0m Episode 4\n",
      "\u001b[2m\u001b[36m(pid=62074)\u001b[0m Draw\n",
      "\u001b[2m\u001b[36m(pid=62074)\u001b[0m WARNING DELETING EXPERIENCES\n",
      "\u001b[2m\u001b[36m(pid=62074)\u001b[0m Episode 3\n",
      "\u001b[2m\u001b[36m(pid=62079)\u001b[0m Draw\n",
      "\u001b[2m\u001b[36m(pid=62079)\u001b[0m WARNING DELETING EXPERIENCES\n",
      "\u001b[2m\u001b[36m(pid=62079)\u001b[0m Episode 3\n",
      "\u001b[2m\u001b[36m(pid=62075)\u001b[0m Draw\n",
      "\u001b[2m\u001b[36m(pid=62075)\u001b[0m WARNING DELETING EXPERIENCES\n",
      "\u001b[2m\u001b[36m(pid=62075)\u001b[0m Episode 2\n",
      "\u001b[2m\u001b[36m(pid=62072)\u001b[0m Draw\n",
      "\u001b[2m\u001b[36m(pid=62072)\u001b[0m WARNING DELETING EXPERIENCES\n",
      "\u001b[2m\u001b[36m(pid=62072)\u001b[0m Episode 3\n",
      "\u001b[2m\u001b[36m(pid=62073)\u001b[0m Draw\n",
      "\u001b[2m\u001b[36m(pid=62073)\u001b[0m WARNING DELETING EXPERIENCES\n",
      "\u001b[2m\u001b[36m(pid=62073)\u001b[0m Episode 3\n",
      "\u001b[2m\u001b[36m(pid=62074)\u001b[0m White Loss\n",
      "\u001b[2m\u001b[36m(pid=62074)\u001b[0m Episode 4\n",
      "\u001b[2m\u001b[36m(pid=62077)\u001b[0m Draw\n",
      "\u001b[2m\u001b[36m(pid=62077)\u001b[0m WARNING DELETING EXPERIENCES\n",
      "\u001b[2m\u001b[36m(pid=62077)\u001b[0m Episode 3\n",
      "\u001b[2m\u001b[36m(pid=62066)\u001b[0m Draw\n",
      "\u001b[2m\u001b[36m(pid=62066)\u001b[0m WARNING DELETING EXPERIENCES\n",
      "\u001b[2m\u001b[36m(pid=62066)\u001b[0m Episode 5\n",
      "\u001b[2m\u001b[36m(pid=62068)\u001b[0m Draw\n",
      "\u001b[2m\u001b[36m(pid=62068)\u001b[0m WARNING DELETING EXPERIENCES\n",
      "\u001b[2m\u001b[36m(pid=62068)\u001b[0m Episode 3\n",
      "\u001b[2m\u001b[36m(pid=62067)\u001b[0m Draw\n",
      "\u001b[2m\u001b[36m(pid=62067)\u001b[0m WARNING DELETING EXPERIENCES\n",
      "\u001b[2m\u001b[36m(pid=62067)\u001b[0m Episode 3\n",
      "\u001b[2m\u001b[36m(pid=62071)\u001b[0m Draw\n",
      "\u001b[2m\u001b[36m(pid=62071)\u001b[0m WARNING DELETING EXPERIENCES\n",
      "\u001b[2m\u001b[36m(pid=62071)\u001b[0m Episode 3\n",
      "\u001b[2m\u001b[36m(pid=62076)\u001b[0m Draw\n",
      "\u001b[2m\u001b[36m(pid=62076)\u001b[0m WARNING DELETING EXPERIENCES\n",
      "\u001b[2m\u001b[36m(pid=62076)\u001b[0m Episode 4\n",
      "\u001b[2m\u001b[36m(pid=62069)\u001b[0m Draw\n",
      "\u001b[2m\u001b[36m(pid=62069)\u001b[0m WARNING DELETING EXPERIENCES\n",
      "\u001b[2m\u001b[36m(pid=62069)\u001b[0m Episode 5\n",
      "\u001b[2m\u001b[36m(pid=62063)\u001b[0m Draw\n",
      "\u001b[2m\u001b[36m(pid=62063)\u001b[0m WARNING DELETING EXPERIENCES\n",
      "\u001b[2m\u001b[36m(pid=62063)\u001b[0m Episode 3\n",
      "\u001b[2m\u001b[36m(pid=62075)\u001b[0m Draw\n",
      "\u001b[2m\u001b[36m(pid=62075)\u001b[0m WARNING DELETING EXPERIENCES\n",
      "\u001b[2m\u001b[36m(pid=62075)\u001b[0m Episode 3\n",
      "\u001b[2m\u001b[36m(pid=62064)\u001b[0m Draw\n",
      "\u001b[2m\u001b[36m(pid=62064)\u001b[0m WARNING DELETING EXPERIENCES\n",
      "\u001b[2m\u001b[36m(pid=62064)\u001b[0m Episode 5\n",
      "\u001b[2m\u001b[36m(pid=62079)\u001b[0m Draw\n",
      "\u001b[2m\u001b[36m(pid=62079)\u001b[0m WARNING DELETING EXPERIENCES\n",
      "\u001b[2m\u001b[36m(pid=62079)\u001b[0m Episode 4\n",
      "\u001b[2m\u001b[36m(pid=62073)\u001b[0m Draw\n",
      "\u001b[2m\u001b[36m(pid=62073)\u001b[0m WARNING DELETING EXPERIENCES\n",
      "\u001b[2m\u001b[36m(pid=62073)\u001b[0m Episode 4\n",
      "\u001b[2m\u001b[36m(pid=62065)\u001b[0m Draw\n",
      "\u001b[2m\u001b[36m(pid=62065)\u001b[0m WARNING DELETING EXPERIENCES\n",
      "\u001b[2m\u001b[36m(pid=62065)\u001b[0m Episode 5\n",
      "\u001b[2m\u001b[36m(pid=62072)\u001b[0m Draw\n",
      "\u001b[2m\u001b[36m(pid=62072)\u001b[0m WARNING DELETING EXPERIENCES\n",
      "\u001b[2m\u001b[36m(pid=62072)\u001b[0m Episode 4\n",
      "\u001b[2m\u001b[36m(pid=62070)\u001b[0m Draw\n",
      "\u001b[2m\u001b[36m(pid=62070)\u001b[0m WARNING DELETING EXPERIENCES\n",
      "\u001b[2m\u001b[36m(pid=62070)\u001b[0m Episode 4\n",
      "\u001b[2m\u001b[36m(pid=62067)\u001b[0m White Loss\n",
      "\u001b[2m\u001b[36m(pid=62067)\u001b[0m Episode 4\n",
      "\u001b[2m\u001b[36m(pid=62077)\u001b[0m Draw\n",
      "\u001b[2m\u001b[36m(pid=62077)\u001b[0m WARNING DELETING EXPERIENCES\n",
      "\u001b[2m\u001b[36m(pid=62077)\u001b[0m Episode 4\n",
      "\u001b[2m\u001b[36m(pid=62066)\u001b[0m Draw\n",
      "\u001b[2m\u001b[36m(pid=62066)\u001b[0m WARNING DELETING EXPERIENCES\n",
      "\u001b[2m\u001b[36m(pid=62074)\u001b[0m Draw\n",
      "\u001b[2m\u001b[36m(pid=62074)\u001b[0m WARNING DELETING EXPERIENCES\n",
      "\u001b[2m\u001b[36m(pid=62074)\u001b[0m Episode 5\n",
      "\u001b[2m\u001b[36m(pid=62068)\u001b[0m Draw\n",
      "\u001b[2m\u001b[36m(pid=62068)\u001b[0m WARNING DELETING EXPERIENCES\n",
      "\u001b[2m\u001b[36m(pid=62068)\u001b[0m Episode 4\n",
      "\u001b[2m\u001b[36m(pid=62071)\u001b[0m Draw\n",
      "\u001b[2m\u001b[36m(pid=62071)\u001b[0m WARNING DELETING EXPERIENCES\n",
      "\u001b[2m\u001b[36m(pid=62071)\u001b[0m Episode 4\n",
      "\u001b[2m\u001b[36m(pid=62064)\u001b[0m Draw\n",
      "\u001b[2m\u001b[36m(pid=62064)\u001b[0m WARNING DELETING EXPERIENCES\n",
      "\u001b[2m\u001b[36m(pid=62073)\u001b[0m Draw\n",
      "\u001b[2m\u001b[36m(pid=62073)\u001b[0m WARNING DELETING EXPERIENCES\n",
      "\u001b[2m\u001b[36m(pid=62073)\u001b[0m Episode 5\n",
      "\u001b[2m\u001b[36m(pid=62075)\u001b[0m Draw\n",
      "\u001b[2m\u001b[36m(pid=62075)\u001b[0m WARNING DELETING EXPERIENCES\n",
      "\u001b[2m\u001b[36m(pid=62075)\u001b[0m Episode 4\n",
      "\u001b[2m\u001b[36m(pid=62063)\u001b[0m Draw\n",
      "\u001b[2m\u001b[36m(pid=62063)\u001b[0m WARNING DELETING EXPERIENCES\n",
      "\u001b[2m\u001b[36m(pid=62063)\u001b[0m Episode 4\n",
      "\u001b[2m\u001b[36m(pid=62069)\u001b[0m Draw\n",
      "\u001b[2m\u001b[36m(pid=62069)\u001b[0m WARNING DELETING EXPERIENCES\n",
      "\u001b[2m\u001b[36m(pid=62079)\u001b[0m Draw\n",
      "\u001b[2m\u001b[36m(pid=62079)\u001b[0m WARNING DELETING EXPERIENCES\n",
      "\u001b[2m\u001b[36m(pid=62079)\u001b[0m Episode 5\n",
      "\u001b[2m\u001b[36m(pid=62072)\u001b[0m Draw\n",
      "\u001b[2m\u001b[36m(pid=62072)\u001b[0m WARNING DELETING EXPERIENCES\n",
      "\u001b[2m\u001b[36m(pid=62072)\u001b[0m Episode 5\n",
      "\u001b[2m\u001b[36m(pid=62065)\u001b[0m Draw\n",
      "\u001b[2m\u001b[36m(pid=62065)\u001b[0m WARNING DELETING EXPERIENCES\n",
      "\u001b[2m\u001b[36m(pid=62077)\u001b[0m Draw\n",
      "\u001b[2m\u001b[36m(pid=62077)\u001b[0m WARNING DELETING EXPERIENCES\n",
      "\u001b[2m\u001b[36m(pid=62077)\u001b[0m Episode 5\n",
      "\u001b[2m\u001b[36m(pid=62076)\u001b[0m Draw\n",
      "\u001b[2m\u001b[36m(pid=62076)\u001b[0m WARNING DELETING EXPERIENCES\n",
      "\u001b[2m\u001b[36m(pid=62076)\u001b[0m Episode 5\n",
      "\u001b[2m\u001b[36m(pid=62070)\u001b[0m Draw\n",
      "\u001b[2m\u001b[36m(pid=62070)\u001b[0m WARNING DELETING EXPERIENCES\n",
      "\u001b[2m\u001b[36m(pid=62070)\u001b[0m Episode 5\n",
      "\u001b[2m\u001b[36m(pid=62071)\u001b[0m Draw\n",
      "\u001b[2m\u001b[36m(pid=62071)\u001b[0m WARNING DELETING EXPERIENCES\n",
      "\u001b[2m\u001b[36m(pid=62071)\u001b[0m Episode 5\n",
      "\u001b[2m\u001b[36m(pid=62068)\u001b[0m Draw\n",
      "\u001b[2m\u001b[36m(pid=62068)\u001b[0m WARNING DELETING EXPERIENCES\n",
      "\u001b[2m\u001b[36m(pid=62068)\u001b[0m Episode 5\n",
      "\u001b[2m\u001b[36m(pid=62067)\u001b[0m Draw\n",
      "\u001b[2m\u001b[36m(pid=62067)\u001b[0m WARNING DELETING EXPERIENCES\n",
      "\u001b[2m\u001b[36m(pid=62067)\u001b[0m Episode 5\n",
      "\u001b[2m\u001b[36m(pid=62073)\u001b[0m Draw\n",
      "\u001b[2m\u001b[36m(pid=62073)\u001b[0m WARNING DELETING EXPERIENCES\n",
      "\u001b[2m\u001b[36m(pid=62074)\u001b[0m Draw\n",
      "\u001b[2m\u001b[36m(pid=62074)\u001b[0m WARNING DELETING EXPERIENCES\n",
      "\u001b[2m\u001b[36m(pid=62072)\u001b[0m Draw\n",
      "\u001b[2m\u001b[36m(pid=62072)\u001b[0m WARNING DELETING EXPERIENCES\n",
      "\u001b[2m\u001b[36m(pid=62063)\u001b[0m Draw\n",
      "\u001b[2m\u001b[36m(pid=62063)\u001b[0m WARNING DELETING EXPERIENCES\n",
      "\u001b[2m\u001b[36m(pid=62063)\u001b[0m Episode 5\n",
      "\u001b[2m\u001b[36m(pid=62079)\u001b[0m Draw\n",
      "\u001b[2m\u001b[36m(pid=62079)\u001b[0m WARNING DELETING EXPERIENCES\n",
      "\u001b[2m\u001b[36m(pid=62075)\u001b[0m Draw\n",
      "\u001b[2m\u001b[36m(pid=62075)\u001b[0m WARNING DELETING EXPERIENCES\n",
      "\u001b[2m\u001b[36m(pid=62075)\u001b[0m Episode 5\n",
      "\u001b[2m\u001b[36m(pid=62077)\u001b[0m Draw\n",
      "\u001b[2m\u001b[36m(pid=62077)\u001b[0m WARNING DELETING EXPERIENCES\n",
      "\u001b[2m\u001b[36m(pid=62068)\u001b[0m Draw\n",
      "\u001b[2m\u001b[36m(pid=62068)\u001b[0m WARNING DELETING EXPERIENCES\n",
      "\u001b[2m\u001b[36m(pid=62076)\u001b[0m Draw\n",
      "\u001b[2m\u001b[36m(pid=62076)\u001b[0m WARNING DELETING EXPERIENCES\n",
      "\u001b[2m\u001b[36m(pid=62067)\u001b[0m Draw\n",
      "\u001b[2m\u001b[36m(pid=62067)\u001b[0m WARNING DELETING EXPERIENCES\n",
      "\u001b[2m\u001b[36m(pid=62071)\u001b[0m Draw\n",
      "\u001b[2m\u001b[36m(pid=62071)\u001b[0m WARNING DELETING EXPERIENCES\n"
     ]
    },
    {
     "name": "stdout",
     "output_type": "stream",
     "text": [
      "\u001b[2m\u001b[36m(pid=62075)\u001b[0m White Loss\n",
      "\u001b[2m\u001b[36m(pid=62070)\u001b[0m Draw\n",
      "\u001b[2m\u001b[36m(pid=62070)\u001b[0m WARNING DELETING EXPERIENCES\n",
      "\u001b[2m\u001b[36m(pid=62063)\u001b[0m Draw\n",
      "\u001b[2m\u001b[36m(pid=62063)\u001b[0m WARNING DELETING EXPERIENCES\n",
      "100 ACTOR LOSS 5653.92041015625 | CRITIC LOSS 0.2938568592071533\n",
      "101 ACTOR LOSS 3788.573974609375 | CRITIC LOSS 0.21754026412963867\n",
      "102 ACTOR LOSS 5471.1376953125 | CRITIC LOSS 0.020035287365317345\n",
      "103 ACTOR LOSS 5325.931640625 | CRITIC LOSS 0.13078445196151733\n",
      "104 ACTOR LOSS 5869.134765625 | CRITIC LOSS 0.06265543401241302\n",
      "105 ACTOR LOSS 5879.3427734375 | CRITIC LOSS 0.07523825764656067\n",
      "106 ACTOR LOSS 5730.06494140625 | CRITIC LOSS 0.01966891624033451\n",
      "107 ACTOR LOSS 5699.861328125 | CRITIC LOSS 0.07679592072963715\n",
      "108 ACTOR LOSS 5819.611328125 | CRITIC LOSS 0.029302120208740234\n",
      "109 ACTOR LOSS 5884.1552734375 | CRITIC LOSS 0.02062179148197174\n",
      "110 ACTOR LOSS 4405.208984375 | CRITIC LOSS 0.050704214721918106\n",
      "111 ACTOR LOSS 5582.625 | CRITIC LOSS 0.0908607766032219\n",
      "112 ACTOR LOSS 5932.51123046875 | CRITIC LOSS 0.008675734512507915\n",
      "113 ACTOR LOSS 5818.6845703125 | CRITIC LOSS 0.03966747969388962\n",
      "114 ACTOR LOSS 5773.2919921875 | CRITIC LOSS 0.024556506425142288\n",
      "115 ACTOR LOSS 5869.81689453125 | CRITIC LOSS 0.017645591869950294\n",
      "116 ACTOR LOSS 5809.5048828125 | CRITIC LOSS 0.011430730111896992\n",
      "117 ACTOR LOSS 4588.02001953125 | CRITIC LOSS 0.0072232396341860294\n",
      "118 ACTOR LOSS 5447.564453125 | CRITIC LOSS 0.003848888212814927\n",
      "119 ACTOR LOSS 5691.17919921875 | CRITIC LOSS 0.0051624164916574955\n",
      "120 ACTOR LOSS 5745.05126953125 | CRITIC LOSS 0.013014466501772404\n",
      "121 ACTOR LOSS 5730.3466796875 | CRITIC LOSS 0.00914214737713337\n",
      "122 ACTOR LOSS 5750.65869140625 | CRITIC LOSS 0.005862263962626457\n",
      "123 ACTOR LOSS 5750.43798828125 | CRITIC LOSS 0.004040838219225407\n",
      "124 ACTOR LOSS 5653.755859375 | CRITIC LOSS 0.025022640824317932\n",
      "125 ACTOR LOSS 5788.31689453125 | CRITIC LOSS 0.005190676543861628\n",
      "126 ACTOR LOSS 5450.9404296875 | CRITIC LOSS 0.004508281126618385\n",
      "127 ACTOR LOSS 5937.486328125 | CRITIC LOSS 0.012244006618857384\n",
      "128 ACTOR LOSS 5781.4560546875 | CRITIC LOSS 0.008418217301368713\n",
      "129 ACTOR LOSS 5901.33447265625 | CRITIC LOSS 0.006928243208676577\n",
      "130 ACTOR LOSS 5687.90625 | CRITIC LOSS 0.008529392071068287\n",
      "131 ACTOR LOSS 5773.46728515625 | CRITIC LOSS 0.0019158002687618136\n",
      "132 ACTOR LOSS 5907.26318359375 | CRITIC LOSS 0.0025722424034029245\n",
      "133 ACTOR LOSS 5894.7216796875 | CRITIC LOSS 0.003967800177633762\n",
      "134 ACTOR LOSS 5770.96630859375 | CRITIC LOSS 0.0016058263136073947\n",
      "135 ACTOR LOSS 5828.44091796875 | CRITIC LOSS 0.004309115465730429\n",
      "136 ACTOR LOSS 5802.58203125 | CRITIC LOSS 0.0025036227889358997\n",
      "137 ACTOR LOSS 5941.22021484375 | CRITIC LOSS 0.0032579703256487846\n",
      "138 ACTOR LOSS 5874.39501953125 | CRITIC LOSS 0.0014236497227102518\n",
      "139 ACTOR LOSS 5760.94140625 | CRITIC LOSS 0.0016723612789064646\n",
      "140 ACTOR LOSS 5833.3603515625 | CRITIC LOSS 0.0025008865632116795\n",
      "141 ACTOR LOSS 5820.2548828125 | CRITIC LOSS 0.0022546681575477123\n",
      "142 ACTOR LOSS 5669.79345703125 | CRITIC LOSS 0.007049425505101681\n",
      "143 ACTOR LOSS 5847.9560546875 | CRITIC LOSS 0.004977939650416374\n",
      "144 ACTOR LOSS 5859.90087890625 | CRITIC LOSS 0.0013191300677135587\n",
      "145 ACTOR LOSS 5676.33642578125 | CRITIC LOSS 0.0014675974380224943\n",
      "146 ACTOR LOSS 5856.4111328125 | CRITIC LOSS 0.0023093698546290398\n",
      "147 ACTOR LOSS 5829.40625 | CRITIC LOSS 0.0018507778877392411\n",
      "148 ACTOR LOSS 5898.00732421875 | CRITIC LOSS 0.0009595598676241934\n",
      "149 ACTOR LOSS 5858.69970703125 | CRITIC LOSS 0.0016960323555395007\n",
      "150 ACTOR LOSS 5859.7509765625 | CRITIC LOSS 0.0008275017607957125\n",
      "151 ACTOR LOSS 5945.11474609375 | CRITIC LOSS 0.0010596776846796274\n",
      "152 ACTOR LOSS 5812.642578125 | CRITIC LOSS 0.0017534352373331785\n",
      "153 ACTOR LOSS 5850.72705078125 | CRITIC LOSS 0.002370235975831747\n",
      "154 ACTOR LOSS 5970.904296875 | CRITIC LOSS 0.0006522838375531137\n",
      "155 ACTOR LOSS 5805.0458984375 | CRITIC LOSS 0.001059006666764617\n",
      "156 ACTOR LOSS 5674.42578125 | CRITIC LOSS 0.0011769068660214543\n",
      "157 ACTOR LOSS 5995.73291015625 | CRITIC LOSS 0.0010521026561036706\n",
      "158 ACTOR LOSS 5755.890625 | CRITIC LOSS 0.0014293629210442305\n",
      "159 ACTOR LOSS 5850.3974609375 | CRITIC LOSS 0.0038827252574265003\n",
      "160 ACTOR LOSS 5768.74755859375 | CRITIC LOSS 0.001934817642904818\n",
      "161 ACTOR LOSS 5953.6806640625 | CRITIC LOSS 0.0017550578340888023\n",
      "162 ACTOR LOSS 5880.814453125 | CRITIC LOSS 0.006407358683645725\n",
      "163 ACTOR LOSS 5907.6044921875 | CRITIC LOSS 0.00784212164580822\n",
      "164 ACTOR LOSS 5648.01953125 | CRITIC LOSS 0.000976828159764409\n",
      "165 ACTOR LOSS 5816.3583984375 | CRITIC LOSS 0.002128274878486991\n",
      "166 ACTOR LOSS 5859.783203125 | CRITIC LOSS 0.0005604848265647888\n",
      "167 ACTOR LOSS 5908.33740234375 | CRITIC LOSS 0.0011952004861086607\n",
      "168 ACTOR LOSS 5977.2626953125 | CRITIC LOSS 0.0051658255979418755\n",
      "169 ACTOR LOSS 5611.2158203125 | CRITIC LOSS 0.0005017006769776344\n",
      "170 ACTOR LOSS 5146.099609375 | CRITIC LOSS 0.0013766387710347772\n",
      "171 ACTOR LOSS 5932.25927734375 | CRITIC LOSS 0.0005110002239234746\n",
      "172 ACTOR LOSS 5828.55078125 | CRITIC LOSS 0.00884971208870411\n",
      "173 ACTOR LOSS 5827.9794921875 | CRITIC LOSS 0.0006842545117251575\n",
      "174 ACTOR LOSS 5741.3662109375 | CRITIC LOSS 0.004528925288468599\n",
      "175 ACTOR LOSS 5826.35009765625 | CRITIC LOSS 0.000625968910753727\n",
      "176 ACTOR LOSS 5766.27197265625 | CRITIC LOSS 0.007246839813888073\n",
      "177 ACTOR LOSS 5870.02490234375 | CRITIC LOSS 0.003138059051707387\n",
      "178 ACTOR LOSS 5795.7998046875 | CRITIC LOSS 0.0036296676844358444\n",
      "179 ACTOR LOSS 5872.57470703125 | CRITIC LOSS 0.0012805189471691847\n",
      "180 ACTOR LOSS 5873.341796875 | CRITIC LOSS 0.000809720775578171\n",
      "181 ACTOR LOSS 5773.328125 | CRITIC LOSS 0.0023812863510102034\n",
      "182 ACTOR LOSS 5976.400390625 | CRITIC LOSS 0.003051166422665119\n",
      "183 ACTOR LOSS 5914.7099609375 | CRITIC LOSS 0.0012390956981107593\n",
      "184 ACTOR LOSS 5904.69677734375 | CRITIC LOSS 0.0008716945885680616\n",
      "185 ACTOR LOSS 5855.115234375 | CRITIC LOSS 0.0007356428541243076\n",
      "186 ACTOR LOSS 5747.7763671875 | CRITIC LOSS 0.0008922642446123064\n",
      "187 ACTOR LOSS 5872.97314453125 | CRITIC LOSS 0.0017353891162201762\n",
      "188 ACTOR LOSS 5974.21875 | CRITIC LOSS 0.0034708320163190365\n",
      "189 ACTOR LOSS 5816.36328125 | CRITIC LOSS 0.0038351069670170546\n",
      "190 ACTOR LOSS 4098.05810546875 | CRITIC LOSS 0.0008382666856050491\n",
      "191 ACTOR LOSS 5875.85400390625 | CRITIC LOSS 0.0015195405576378107\n",
      "192 ACTOR LOSS 5845.1259765625 | CRITIC LOSS 0.0015186291420832276\n",
      "193 ACTOR LOSS 5862.2021484375 | CRITIC LOSS 0.003445633687078953\n",
      "194 ACTOR LOSS 5854.49658203125 | CRITIC LOSS 0.0014348046388477087\n",
      "195 ACTOR LOSS 5798.21630859375 | CRITIC LOSS 0.0006391882197931409\n",
      "196 ACTOR LOSS 5669.119140625 | CRITIC LOSS 0.0012074965052306652\n",
      "197 ACTOR LOSS 5983.18701171875 | CRITIC LOSS 0.007020679302513599\n",
      "198 ACTOR LOSS 5866.88134765625 | CRITIC LOSS 0.004668651148676872\n",
      "199 ACTOR LOSS 5776.85693359375 | CRITIC LOSS 0.006046541500836611\n",
      "EVALUATING\n",
      "\u001b[2m\u001b[36m(pid=62063)\u001b[0m Playing against opponent\n",
      "\u001b[2m\u001b[36m(pid=62063)\u001b[0m Episode 1\n"
     ]
    },
    {
     "name": "stderr",
     "output_type": "stream",
     "text": [
      "\u001b[2m\u001b[36m(pid=62063)\u001b[0m /home/ec2-user/.local/lib/python3.6/site-packages/ray/workers/default_worker.py:58: RuntimeWarning: invalid value encountered in true_divide\n",
      "\u001b[2m\u001b[36m(pid=62063)\u001b[0m   type=str,\n"
     ]
    },
    {
     "name": "stdout",
     "output_type": "stream",
     "text": [
      "\u001b[2m\u001b[36m(pid=62071)\u001b[0m Playing against opponent\n",
      "\u001b[2m\u001b[36m(pid=62071)\u001b[0m Episode 1\n"
     ]
    },
    {
     "name": "stderr",
     "output_type": "stream",
     "text": [
      "\u001b[2m\u001b[36m(pid=62071)\u001b[0m /home/ec2-user/.local/lib/python3.6/site-packages/ray/workers/default_worker.py:58: RuntimeWarning: invalid value encountered in true_divide\n",
      "\u001b[2m\u001b[36m(pid=62071)\u001b[0m   type=str,\n"
     ]
    },
    {
     "name": "stdout",
     "output_type": "stream",
     "text": [
      "\u001b[2m\u001b[36m(pid=62075)\u001b[0m Playing against opponent\n",
      "\u001b[2m\u001b[36m(pid=62075)\u001b[0m Episode 1\n"
     ]
    },
    {
     "name": "stderr",
     "output_type": "stream",
     "text": [
      "\u001b[2m\u001b[36m(pid=62075)\u001b[0m /home/ec2-user/.local/lib/python3.6/site-packages/ray/workers/default_worker.py:58: RuntimeWarning: invalid value encountered in true_divide\n",
      "\u001b[2m\u001b[36m(pid=62075)\u001b[0m   type=str,\n"
     ]
    },
    {
     "name": "stdout",
     "output_type": "stream",
     "text": [
      "\u001b[2m\u001b[36m(pid=62067)\u001b[0m Playing against opponent\n",
      "\u001b[2m\u001b[36m(pid=62067)\u001b[0m Episode 1\n"
     ]
    },
    {
     "name": "stderr",
     "output_type": "stream",
     "text": [
      "\u001b[2m\u001b[36m(pid=62067)\u001b[0m /home/ec2-user/.local/lib/python3.6/site-packages/ray/workers/default_worker.py:58: RuntimeWarning: invalid value encountered in true_divide\n",
      "\u001b[2m\u001b[36m(pid=62067)\u001b[0m   type=str,\n"
     ]
    },
    {
     "name": "stdout",
     "output_type": "stream",
     "text": [
      "\u001b[2m\u001b[36m(pid=62076)\u001b[0m Playing against opponent\n",
      "\u001b[2m\u001b[36m(pid=62076)\u001b[0m Episode 1\n"
     ]
    },
    {
     "name": "stderr",
     "output_type": "stream",
     "text": [
      "\u001b[2m\u001b[36m(pid=62076)\u001b[0m /home/ec2-user/.local/lib/python3.6/site-packages/ray/workers/default_worker.py:58: RuntimeWarning: invalid value encountered in true_divide\n",
      "\u001b[2m\u001b[36m(pid=62076)\u001b[0m   type=str,\n"
     ]
    },
    {
     "name": "stdout",
     "output_type": "stream",
     "text": [
      "\u001b[2m\u001b[36m(pid=62068)\u001b[0m Playing against opponent\n",
      "\u001b[2m\u001b[36m(pid=62068)\u001b[0m Episode 1\n"
     ]
    },
    {
     "name": "stderr",
     "output_type": "stream",
     "text": [
      "\u001b[2m\u001b[36m(pid=62068)\u001b[0m /home/ec2-user/.local/lib/python3.6/site-packages/ray/workers/default_worker.py:58: RuntimeWarning: invalid value encountered in true_divide\n",
      "\u001b[2m\u001b[36m(pid=62068)\u001b[0m   type=str,\n"
     ]
    },
    {
     "name": "stdout",
     "output_type": "stream",
     "text": [
      "\u001b[2m\u001b[36m(pid=62077)\u001b[0m Playing against opponent\n",
      "\u001b[2m\u001b[36m(pid=62077)\u001b[0m Episode 1\n"
     ]
    },
    {
     "name": "stderr",
     "output_type": "stream",
     "text": [
      "\u001b[2m\u001b[36m(pid=62077)\u001b[0m /home/ec2-user/.local/lib/python3.6/site-packages/ray/workers/default_worker.py:58: RuntimeWarning: invalid value encountered in true_divide\n",
      "\u001b[2m\u001b[36m(pid=62077)\u001b[0m   type=str,\n"
     ]
    },
    {
     "name": "stdout",
     "output_type": "stream",
     "text": [
      "\u001b[2m\u001b[36m(pid=62079)\u001b[0m Playing against opponent\n",
      "\u001b[2m\u001b[36m(pid=62079)\u001b[0m Episode 1\n"
     ]
    },
    {
     "name": "stderr",
     "output_type": "stream",
     "text": [
      "\u001b[2m\u001b[36m(pid=62079)\u001b[0m /home/ec2-user/.local/lib/python3.6/site-packages/ray/workers/default_worker.py:58: RuntimeWarning: invalid value encountered in true_divide\n",
      "\u001b[2m\u001b[36m(pid=62079)\u001b[0m   type=str,\n"
     ]
    },
    {
     "name": "stdout",
     "output_type": "stream",
     "text": [
      "\u001b[2m\u001b[36m(pid=62070)\u001b[0m Playing against opponent\n",
      "\u001b[2m\u001b[36m(pid=62070)\u001b[0m Episode 1\n"
     ]
    },
    {
     "name": "stderr",
     "output_type": "stream",
     "text": [
      "\u001b[2m\u001b[36m(pid=62070)\u001b[0m /home/ec2-user/.local/lib/python3.6/site-packages/ray/workers/default_worker.py:58: RuntimeWarning: invalid value encountered in true_divide\n",
      "\u001b[2m\u001b[36m(pid=62070)\u001b[0m   type=str,\n"
     ]
    },
    {
     "name": "stdout",
     "output_type": "stream",
     "text": [
      "\u001b[2m\u001b[36m(pid=62074)\u001b[0m Playing against opponent\n",
      "\u001b[2m\u001b[36m(pid=62074)\u001b[0m Episode 1\n"
     ]
    },
    {
     "name": "stderr",
     "output_type": "stream",
     "text": [
      "\u001b[2m\u001b[36m(pid=62074)\u001b[0m /home/ec2-user/.local/lib/python3.6/site-packages/ray/workers/default_worker.py:58: RuntimeWarning: invalid value encountered in true_divide\n",
      "\u001b[2m\u001b[36m(pid=62074)\u001b[0m   type=str,\n"
     ]
    },
    {
     "name": "stdout",
     "output_type": "stream",
     "text": [
      "\u001b[2m\u001b[36m(pid=62073)\u001b[0m Playing against opponent\n",
      "\u001b[2m\u001b[36m(pid=62073)\u001b[0m Episode 1\n"
     ]
    },
    {
     "name": "stderr",
     "output_type": "stream",
     "text": [
      "\u001b[2m\u001b[36m(pid=62073)\u001b[0m /home/ec2-user/.local/lib/python3.6/site-packages/ray/workers/default_worker.py:58: RuntimeWarning: invalid value encountered in true_divide\n",
      "\u001b[2m\u001b[36m(pid=62073)\u001b[0m   type=str,\n"
     ]
    },
    {
     "name": "stdout",
     "output_type": "stream",
     "text": [
      "\u001b[2m\u001b[36m(pid=62065)\u001b[0m Playing against opponent\n",
      "\u001b[2m\u001b[36m(pid=62065)\u001b[0m Episode 1\n"
     ]
    },
    {
     "name": "stderr",
     "output_type": "stream",
     "text": [
      "\u001b[2m\u001b[36m(pid=62065)\u001b[0m /home/ec2-user/.local/lib/python3.6/site-packages/ray/workers/default_worker.py:58: RuntimeWarning: invalid value encountered in true_divide\n",
      "\u001b[2m\u001b[36m(pid=62065)\u001b[0m   type=str,\n"
     ]
    },
    {
     "name": "stdout",
     "output_type": "stream",
     "text": [
      "\u001b[2m\u001b[36m(pid=62072)\u001b[0m Playing against opponent\n",
      "\u001b[2m\u001b[36m(pid=62072)\u001b[0m Episode 1\n"
     ]
    },
    {
     "name": "stderr",
     "output_type": "stream",
     "text": [
      "\u001b[2m\u001b[36m(pid=62072)\u001b[0m /home/ec2-user/.local/lib/python3.6/site-packages/ray/workers/default_worker.py:58: RuntimeWarning: invalid value encountered in true_divide\n",
      "\u001b[2m\u001b[36m(pid=62072)\u001b[0m   type=str,\n"
     ]
    },
    {
     "name": "stdout",
     "output_type": "stream",
     "text": [
      "\u001b[2m\u001b[36m(pid=62069)\u001b[0m Playing against opponent\n",
      "\u001b[2m\u001b[36m(pid=62069)\u001b[0m Episode 1\n"
     ]
    },
    {
     "name": "stderr",
     "output_type": "stream",
     "text": [
      "\u001b[2m\u001b[36m(pid=62069)\u001b[0m /home/ec2-user/.local/lib/python3.6/site-packages/ray/workers/default_worker.py:58: RuntimeWarning: invalid value encountered in true_divide\n",
      "\u001b[2m\u001b[36m(pid=62069)\u001b[0m   type=str,\n"
     ]
    },
    {
     "name": "stdout",
     "output_type": "stream",
     "text": [
      "\u001b[2m\u001b[36m(pid=62064)\u001b[0m Playing against opponent\n",
      "\u001b[2m\u001b[36m(pid=62064)\u001b[0m Episode 1\n"
     ]
    },
    {
     "name": "stderr",
     "output_type": "stream",
     "text": [
      "\u001b[2m\u001b[36m(pid=62064)\u001b[0m /home/ec2-user/.local/lib/python3.6/site-packages/ray/workers/default_worker.py:58: RuntimeWarning: invalid value encountered in true_divide\n",
      "\u001b[2m\u001b[36m(pid=62064)\u001b[0m   type=str,\n"
     ]
    },
    {
     "name": "stdout",
     "output_type": "stream",
     "text": [
      "\u001b[2m\u001b[36m(pid=62066)\u001b[0m Playing against opponent\n",
      "\u001b[2m\u001b[36m(pid=62066)\u001b[0m Episode 1\n"
     ]
    },
    {
     "name": "stderr",
     "output_type": "stream",
     "text": [
      "\u001b[2m\u001b[36m(pid=62066)\u001b[0m /home/ec2-user/.local/lib/python3.6/site-packages/ray/workers/default_worker.py:58: RuntimeWarning: invalid value encountered in true_divide\n",
      "\u001b[2m\u001b[36m(pid=62066)\u001b[0m   type=str,\n"
     ]
    },
    {
     "name": "stdout",
     "output_type": "stream",
     "text": [
      "\u001b[2m\u001b[36m(pid=62063)\u001b[0m Draw\n",
      "\u001b[2m\u001b[36m(pid=62077)\u001b[0m Draw\n",
      "\u001b[2m\u001b[36m(pid=62071)\u001b[0m Draw\n",
      "\u001b[2m\u001b[36m(pid=62073)\u001b[0m Draw\n",
      "\u001b[2m\u001b[36m(pid=62067)\u001b[0m Draw\n",
      "\u001b[2m\u001b[36m(pid=62076)\u001b[0m Draw\n",
      "\u001b[2m\u001b[36m(pid=62075)\u001b[0m Draw\n",
      "\u001b[2m\u001b[36m(pid=62079)\u001b[0m Draw\n",
      "\u001b[2m\u001b[36m(pid=62070)\u001b[0m Draw\n",
      "\u001b[2m\u001b[36m(pid=62072)\u001b[0m Draw\n",
      "\u001b[2m\u001b[36m(pid=62074)\u001b[0m Draw\n",
      "\u001b[2m\u001b[36m(pid=62065)\u001b[0m Draw\n",
      "\u001b[2m\u001b[36m(pid=62064)\u001b[0m Draw\n",
      "\u001b[2m\u001b[36m(pid=62066)\u001b[0m Draw\n",
      "\u001b[2m\u001b[36m(pid=62068)\u001b[0m Draw\n",
      "\u001b[2m\u001b[36m(pid=62069)\u001b[0m Draw\n",
      "Wins 0 0.0% | Draws 16 1.0% | Losses 0 0.0%\n",
      "Old Network was better\n",
      "LEARNING\n",
      "\u001b[2m\u001b[36m(pid=62068)\u001b[0m Playing against self\n",
      "\u001b[2m\u001b[36m(pid=62068)\u001b[0m Episode 1\n"
     ]
    },
    {
     "name": "stderr",
     "output_type": "stream",
     "text": [
      "\u001b[2m\u001b[36m(pid=62068)\u001b[0m /home/ec2-user/.local/lib/python3.6/site-packages/ray/workers/default_worker.py:58: RuntimeWarning: invalid value encountered in true_divide\n",
      "\u001b[2m\u001b[36m(pid=62068)\u001b[0m   type=str,\n"
     ]
    },
    {
     "name": "stdout",
     "output_type": "stream",
     "text": [
      "\u001b[2m\u001b[36m(pid=62066)\u001b[0m Playing against self\n",
      "\u001b[2m\u001b[36m(pid=62066)\u001b[0m Episode 1\n"
     ]
    },
    {
     "name": "stderr",
     "output_type": "stream",
     "text": [
      "\u001b[2m\u001b[36m(pid=62066)\u001b[0m /home/ec2-user/.local/lib/python3.6/site-packages/ray/workers/default_worker.py:58: RuntimeWarning: invalid value encountered in true_divide\n",
      "\u001b[2m\u001b[36m(pid=62066)\u001b[0m   type=str,\n"
     ]
    },
    {
     "name": "stdout",
     "output_type": "stream",
     "text": [
      "\u001b[2m\u001b[36m(pid=62064)\u001b[0m Playing against self\n",
      "\u001b[2m\u001b[36m(pid=62064)\u001b[0m Episode 1\n"
     ]
    },
    {
     "name": "stderr",
     "output_type": "stream",
     "text": [
      "\u001b[2m\u001b[36m(pid=62064)\u001b[0m /home/ec2-user/.local/lib/python3.6/site-packages/ray/workers/default_worker.py:58: RuntimeWarning: invalid value encountered in true_divide\n",
      "\u001b[2m\u001b[36m(pid=62064)\u001b[0m   type=str,\n"
     ]
    },
    {
     "name": "stdout",
     "output_type": "stream",
     "text": [
      "\u001b[2m\u001b[36m(pid=62065)\u001b[0m Playing against self\n",
      "\u001b[2m\u001b[36m(pid=62065)\u001b[0m Episode 1\n"
     ]
    },
    {
     "name": "stderr",
     "output_type": "stream",
     "text": [
      "\u001b[2m\u001b[36m(pid=62065)\u001b[0m /home/ec2-user/.local/lib/python3.6/site-packages/ray/workers/default_worker.py:58: RuntimeWarning: invalid value encountered in true_divide\n",
      "\u001b[2m\u001b[36m(pid=62065)\u001b[0m   type=str,\n"
     ]
    },
    {
     "name": "stdout",
     "output_type": "stream",
     "text": [
      "\u001b[2m\u001b[36m(pid=62069)\u001b[0m Playing against self\n",
      "\u001b[2m\u001b[36m(pid=62069)\u001b[0m Episode 1\n"
     ]
    },
    {
     "name": "stderr",
     "output_type": "stream",
     "text": [
      "\u001b[2m\u001b[36m(pid=62069)\u001b[0m /home/ec2-user/.local/lib/python3.6/site-packages/ray/workers/default_worker.py:58: RuntimeWarning: invalid value encountered in true_divide\n",
      "\u001b[2m\u001b[36m(pid=62069)\u001b[0m   type=str,\n"
     ]
    },
    {
     "name": "stdout",
     "output_type": "stream",
     "text": [
      "\u001b[2m\u001b[36m(pid=62072)\u001b[0m Playing against self\n",
      "\u001b[2m\u001b[36m(pid=62072)\u001b[0m Episode 1\n"
     ]
    },
    {
     "name": "stderr",
     "output_type": "stream",
     "text": [
      "\u001b[2m\u001b[36m(pid=62072)\u001b[0m /home/ec2-user/.local/lib/python3.6/site-packages/ray/workers/default_worker.py:58: RuntimeWarning: invalid value encountered in true_divide\n",
      "\u001b[2m\u001b[36m(pid=62072)\u001b[0m   type=str,\n"
     ]
    },
    {
     "name": "stdout",
     "output_type": "stream",
     "text": [
      "\u001b[2m\u001b[36m(pid=62074)\u001b[0m Playing against self\n",
      "\u001b[2m\u001b[36m(pid=62074)\u001b[0m Episode 1\n"
     ]
    },
    {
     "name": "stderr",
     "output_type": "stream",
     "text": [
      "\u001b[2m\u001b[36m(pid=62074)\u001b[0m /home/ec2-user/.local/lib/python3.6/site-packages/ray/workers/default_worker.py:58: RuntimeWarning: invalid value encountered in true_divide\n",
      "\u001b[2m\u001b[36m(pid=62074)\u001b[0m   type=str,\n"
     ]
    },
    {
     "name": "stdout",
     "output_type": "stream",
     "text": [
      "\u001b[2m\u001b[36m(pid=62070)\u001b[0m Playing against self\n",
      "\u001b[2m\u001b[36m(pid=62070)\u001b[0m Episode 1\n"
     ]
    },
    {
     "name": "stderr",
     "output_type": "stream",
     "text": [
      "\u001b[2m\u001b[36m(pid=62070)\u001b[0m /home/ec2-user/.local/lib/python3.6/site-packages/ray/workers/default_worker.py:58: RuntimeWarning: invalid value encountered in true_divide\n",
      "\u001b[2m\u001b[36m(pid=62070)\u001b[0m   type=str,\n"
     ]
    },
    {
     "name": "stdout",
     "output_type": "stream",
     "text": [
      "\u001b[2m\u001b[36m(pid=62079)\u001b[0m Playing against self\n",
      "\u001b[2m\u001b[36m(pid=62079)\u001b[0m Episode 1\n"
     ]
    },
    {
     "name": "stderr",
     "output_type": "stream",
     "text": [
      "\u001b[2m\u001b[36m(pid=62079)\u001b[0m /home/ec2-user/.local/lib/python3.6/site-packages/ray/workers/default_worker.py:58: RuntimeWarning: invalid value encountered in true_divide\n",
      "\u001b[2m\u001b[36m(pid=62079)\u001b[0m   type=str,\n"
     ]
    },
    {
     "name": "stdout",
     "output_type": "stream",
     "text": [
      "\u001b[2m\u001b[36m(pid=62076)\u001b[0m Playing against self\n",
      "\u001b[2m\u001b[36m(pid=62076)\u001b[0m Episode 1\n"
     ]
    },
    {
     "name": "stderr",
     "output_type": "stream",
     "text": [
      "\u001b[2m\u001b[36m(pid=62076)\u001b[0m /home/ec2-user/.local/lib/python3.6/site-packages/ray/workers/default_worker.py:58: RuntimeWarning: invalid value encountered in true_divide\n",
      "\u001b[2m\u001b[36m(pid=62076)\u001b[0m   type=str,\n"
     ]
    },
    {
     "name": "stdout",
     "output_type": "stream",
     "text": [
      "\u001b[2m\u001b[36m(pid=62070)\u001b[0m White Loss\n",
      "\u001b[2m\u001b[36m(pid=62070)\u001b[0m Episode 2\n",
      "\u001b[2m\u001b[36m(pid=62075)\u001b[0m Playing against self\n",
      "\u001b[2m\u001b[36m(pid=62075)\u001b[0m Episode 1\n"
     ]
    },
    {
     "name": "stderr",
     "output_type": "stream",
     "text": [
      "\u001b[2m\u001b[36m(pid=62075)\u001b[0m /home/ec2-user/.local/lib/python3.6/site-packages/ray/workers/default_worker.py:58: RuntimeWarning: invalid value encountered in true_divide\n",
      "\u001b[2m\u001b[36m(pid=62075)\u001b[0m   type=str,\n"
     ]
    },
    {
     "name": "stdout",
     "output_type": "stream",
     "text": [
      "\u001b[2m\u001b[36m(pid=62067)\u001b[0m Playing against self\n",
      "\u001b[2m\u001b[36m(pid=62067)\u001b[0m Episode 1\n"
     ]
    },
    {
     "name": "stderr",
     "output_type": "stream",
     "text": [
      "\u001b[2m\u001b[36m(pid=62067)\u001b[0m /home/ec2-user/.local/lib/python3.6/site-packages/ray/workers/default_worker.py:58: RuntimeWarning: invalid value encountered in true_divide\n",
      "\u001b[2m\u001b[36m(pid=62067)\u001b[0m   type=str,\n"
     ]
    },
    {
     "name": "stdout",
     "output_type": "stream",
     "text": [
      "\u001b[2m\u001b[36m(pid=62073)\u001b[0m Playing against self\n",
      "\u001b[2m\u001b[36m(pid=62073)\u001b[0m Episode 1\n"
     ]
    },
    {
     "name": "stderr",
     "output_type": "stream",
     "text": [
      "\u001b[2m\u001b[36m(pid=62073)\u001b[0m /home/ec2-user/.local/lib/python3.6/site-packages/ray/workers/default_worker.py:58: RuntimeWarning: invalid value encountered in true_divide\n",
      "\u001b[2m\u001b[36m(pid=62073)\u001b[0m   type=str,\n"
     ]
    },
    {
     "name": "stdout",
     "output_type": "stream",
     "text": [
      "\u001b[2m\u001b[36m(pid=62071)\u001b[0m Playing against self\n",
      "\u001b[2m\u001b[36m(pid=62071)\u001b[0m Episode 1\n"
     ]
    },
    {
     "name": "stderr",
     "output_type": "stream",
     "text": [
      "\u001b[2m\u001b[36m(pid=62071)\u001b[0m /home/ec2-user/.local/lib/python3.6/site-packages/ray/workers/default_worker.py:58: RuntimeWarning: invalid value encountered in true_divide\n",
      "\u001b[2m\u001b[36m(pid=62071)\u001b[0m   type=str,\n"
     ]
    },
    {
     "name": "stdout",
     "output_type": "stream",
     "text": [
      "\u001b[2m\u001b[36m(pid=62079)\u001b[0m White Won\n",
      "\u001b[2m\u001b[36m(pid=62079)\u001b[0m Episode 2\n",
      "\u001b[2m\u001b[36m(pid=62077)\u001b[0m Playing against self\n",
      "\u001b[2m\u001b[36m(pid=62077)\u001b[0m Episode 1\n"
     ]
    },
    {
     "name": "stderr",
     "output_type": "stream",
     "text": [
      "\u001b[2m\u001b[36m(pid=62077)\u001b[0m /home/ec2-user/.local/lib/python3.6/site-packages/ray/workers/default_worker.py:58: RuntimeWarning: invalid value encountered in true_divide\n",
      "\u001b[2m\u001b[36m(pid=62077)\u001b[0m   type=str,\n"
     ]
    },
    {
     "name": "stdout",
     "output_type": "stream",
     "text": [
      "\u001b[2m\u001b[36m(pid=62063)\u001b[0m Playing against self\n",
      "\u001b[2m\u001b[36m(pid=62063)\u001b[0m Episode 1\n"
     ]
    },
    {
     "name": "stderr",
     "output_type": "stream",
     "text": [
      "\u001b[2m\u001b[36m(pid=62063)\u001b[0m /home/ec2-user/.local/lib/python3.6/site-packages/ray/workers/default_worker.py:58: RuntimeWarning: invalid value encountered in true_divide\n",
      "\u001b[2m\u001b[36m(pid=62063)\u001b[0m   type=str,\n"
     ]
    },
    {
     "name": "stdout",
     "output_type": "stream",
     "text": [
      "\u001b[2m\u001b[36m(pid=62068)\u001b[0m Draw\n",
      "\u001b[2m\u001b[36m(pid=62068)\u001b[0m WARNING DELETING EXPERIENCES\n",
      "\u001b[2m\u001b[36m(pid=62068)\u001b[0m Episode 2\n",
      "\u001b[2m\u001b[36m(pid=62064)\u001b[0m Draw\n",
      "\u001b[2m\u001b[36m(pid=62064)\u001b[0m WARNING DELETING EXPERIENCES\n",
      "\u001b[2m\u001b[36m(pid=62064)\u001b[0m Episode 2\n",
      "\u001b[2m\u001b[36m(pid=62066)\u001b[0m Draw\n",
      "\u001b[2m\u001b[36m(pid=62066)\u001b[0m WARNING DELETING EXPERIENCES\n",
      "\u001b[2m\u001b[36m(pid=62066)\u001b[0m Episode 2\n",
      "\u001b[2m\u001b[36m(pid=62079)\u001b[0m Draw\n",
      "\u001b[2m\u001b[36m(pid=62079)\u001b[0m WARNING DELETING EXPERIENCES\n",
      "\u001b[2m\u001b[36m(pid=62079)\u001b[0m Episode 3\n",
      "\u001b[2m\u001b[36m(pid=62072)\u001b[0m Draw\n",
      "\u001b[2m\u001b[36m(pid=62072)\u001b[0m WARNING DELETING EXPERIENCES\n",
      "\u001b[2m\u001b[36m(pid=62072)\u001b[0m Episode 2\n",
      "\u001b[2m\u001b[36m(pid=62071)\u001b[0m White Won\n",
      "\u001b[2m\u001b[36m(pid=62071)\u001b[0m Episode 2\n",
      "\u001b[2m\u001b[36m(pid=62074)\u001b[0m White Won\n",
      "\u001b[2m\u001b[36m(pid=62074)\u001b[0m Episode 2\n",
      "\u001b[2m\u001b[36m(pid=62076)\u001b[0m Draw\n",
      "\u001b[2m\u001b[36m(pid=62076)\u001b[0m WARNING DELETING EXPERIENCES\n",
      "\u001b[2m\u001b[36m(pid=62076)\u001b[0m Episode 2\n",
      "\u001b[2m\u001b[36m(pid=62067)\u001b[0m Draw\n",
      "\u001b[2m\u001b[36m(pid=62067)\u001b[0m WARNING DELETING EXPERIENCES\n",
      "\u001b[2m\u001b[36m(pid=62067)\u001b[0m Episode 2\n",
      "\u001b[2m\u001b[36m(pid=62077)\u001b[0m Draw\n",
      "\u001b[2m\u001b[36m(pid=62077)\u001b[0m WARNING DELETING EXPERIENCES\n",
      "\u001b[2m\u001b[36m(pid=62077)\u001b[0m Episode 2\n",
      "\u001b[2m\u001b[36m(pid=62065)\u001b[0m Draw\n",
      "\u001b[2m\u001b[36m(pid=62065)\u001b[0m WARNING DELETING EXPERIENCES\n",
      "\u001b[2m\u001b[36m(pid=62065)\u001b[0m Episode 2\n",
      "\u001b[2m\u001b[36m(pid=62066)\u001b[0m Draw\n",
      "\u001b[2m\u001b[36m(pid=62066)\u001b[0m WARNING DELETING EXPERIENCES\n",
      "\u001b[2m\u001b[36m(pid=62066)\u001b[0m Episode 3\n",
      "\u001b[2m\u001b[36m(pid=62068)\u001b[0m Draw\n",
      "\u001b[2m\u001b[36m(pid=62068)\u001b[0m WARNING DELETING EXPERIENCES\n",
      "\u001b[2m\u001b[36m(pid=62068)\u001b[0m Episode 3\n",
      "\u001b[2m\u001b[36m(pid=62073)\u001b[0m Draw\n",
      "\u001b[2m\u001b[36m(pid=62073)\u001b[0m WARNING DELETING EXPERIENCES\n",
      "\u001b[2m\u001b[36m(pid=62073)\u001b[0m Episode 2\n",
      "\u001b[2m\u001b[36m(pid=62064)\u001b[0m Draw\n",
      "\u001b[2m\u001b[36m(pid=62064)\u001b[0m WARNING DELETING EXPERIENCES\n",
      "\u001b[2m\u001b[36m(pid=62064)\u001b[0m Episode 3\n",
      "\u001b[2m\u001b[36m(pid=62077)\u001b[0m White Loss\n",
      "\u001b[2m\u001b[36m(pid=62077)\u001b[0m Episode 3\n",
      "\u001b[2m\u001b[36m(pid=62072)\u001b[0m Draw\n",
      "\u001b[2m\u001b[36m(pid=62072)\u001b[0m WARNING DELETING EXPERIENCES\n",
      "\u001b[2m\u001b[36m(pid=62072)\u001b[0m Episode 3\n",
      "\u001b[2m\u001b[36m(pid=62070)\u001b[0m Draw\n",
      "\u001b[2m\u001b[36m(pid=62070)\u001b[0m WARNING DELETING EXPERIENCES\n",
      "\u001b[2m\u001b[36m(pid=62070)\u001b[0m Episode 3\n",
      "\u001b[2m\u001b[36m(pid=62079)\u001b[0m Draw\n",
      "\u001b[2m\u001b[36m(pid=62079)\u001b[0m WARNING DELETING EXPERIENCES\n",
      "\u001b[2m\u001b[36m(pid=62079)\u001b[0m Episode 4\n",
      "\u001b[2m\u001b[36m(pid=62067)\u001b[0m Draw\n",
      "\u001b[2m\u001b[36m(pid=62067)\u001b[0m WARNING DELETING EXPERIENCES\n",
      "\u001b[2m\u001b[36m(pid=62067)\u001b[0m Episode 3\n",
      "\u001b[2m\u001b[36m(pid=62076)\u001b[0m Draw\n",
      "\u001b[2m\u001b[36m(pid=62076)\u001b[0m WARNING DELETING EXPERIENCES\n",
      "\u001b[2m\u001b[36m(pid=62076)\u001b[0m Episode 3\n",
      "\u001b[2m\u001b[36m(pid=62065)\u001b[0m Draw\n",
      "\u001b[2m\u001b[36m(pid=62065)\u001b[0m WARNING DELETING EXPERIENCES\n",
      "\u001b[2m\u001b[36m(pid=62065)\u001b[0m Episode 3\n",
      "\u001b[2m\u001b[36m(pid=62077)\u001b[0m White Won\n",
      "\u001b[2m\u001b[36m(pid=62077)\u001b[0m Episode 4\n",
      "\u001b[2m\u001b[36m(pid=62075)\u001b[0m Draw\n",
      "\u001b[2m\u001b[36m(pid=62075)\u001b[0m WARNING DELETING EXPERIENCES\n",
      "\u001b[2m\u001b[36m(pid=62075)\u001b[0m Episode 2\n",
      "\u001b[2m\u001b[36m(pid=62073)\u001b[0m White Won\n",
      "\u001b[2m\u001b[36m(pid=62073)\u001b[0m Episode 3\n",
      "\u001b[2m\u001b[36m(pid=62069)\u001b[0m Draw\n",
      "\u001b[2m\u001b[36m(pid=62069)\u001b[0m WARNING DELETING EXPERIENCES\n",
      "\u001b[2m\u001b[36m(pid=62069)\u001b[0m Episode 2\n",
      "\u001b[2m\u001b[36m(pid=62068)\u001b[0m Draw\n",
      "\u001b[2m\u001b[36m(pid=62068)\u001b[0m WARNING DELETING EXPERIENCES\n",
      "\u001b[2m\u001b[36m(pid=62068)\u001b[0m Episode 4\n",
      "\u001b[2m\u001b[36m(pid=62064)\u001b[0m Draw\n",
      "\u001b[2m\u001b[36m(pid=62064)\u001b[0m WARNING DELETING EXPERIENCES\n",
      "\u001b[2m\u001b[36m(pid=62064)\u001b[0m Episode 4\n",
      "\u001b[2m\u001b[36m(pid=62063)\u001b[0m Draw\n",
      "\u001b[2m\u001b[36m(pid=62063)\u001b[0m WARNING DELETING EXPERIENCES\n",
      "\u001b[2m\u001b[36m(pid=62063)\u001b[0m Episode 2\n",
      "\u001b[2m\u001b[36m(pid=62073)\u001b[0m White Won\n",
      "\u001b[2m\u001b[36m(pid=62073)\u001b[0m Episode 4\n",
      "\u001b[2m\u001b[36m(pid=62079)\u001b[0m White Won\n",
      "\u001b[2m\u001b[36m(pid=62079)\u001b[0m Episode 5\n",
      "\u001b[2m\u001b[36m(pid=62070)\u001b[0m Draw\n",
      "\u001b[2m\u001b[36m(pid=62070)\u001b[0m WARNING DELETING EXPERIENCES\n",
      "\u001b[2m\u001b[36m(pid=62070)\u001b[0m Episode 4\n",
      "\u001b[2m\u001b[36m(pid=62066)\u001b[0m Draw\n",
      "\u001b[2m\u001b[36m(pid=62066)\u001b[0m WARNING DELETING EXPERIENCES\n",
      "\u001b[2m\u001b[36m(pid=62066)\u001b[0m Episode 4\n",
      "\u001b[2m\u001b[36m(pid=62065)\u001b[0m Draw\n",
      "\u001b[2m\u001b[36m(pid=62065)\u001b[0m WARNING DELETING EXPERIENCES\n",
      "\u001b[2m\u001b[36m(pid=62065)\u001b[0m Episode 4\n",
      "\u001b[2m\u001b[36m(pid=62075)\u001b[0m Draw\n",
      "\u001b[2m\u001b[36m(pid=62075)\u001b[0m WARNING DELETING EXPERIENCES\n",
      "\u001b[2m\u001b[36m(pid=62075)\u001b[0m Episode 3\n",
      "\u001b[2m\u001b[36m(pid=62074)\u001b[0m Draw\n",
      "\u001b[2m\u001b[36m(pid=62074)\u001b[0m WARNING DELETING EXPERIENCES\n",
      "\u001b[2m\u001b[36m(pid=62072)\u001b[0m Draw\n",
      "\u001b[2m\u001b[36m(pid=62072)\u001b[0m WARNING DELETING EXPERIENCES\n",
      "\u001b[2m\u001b[36m(pid=62072)\u001b[0m Episode 4\n",
      "\u001b[2m\u001b[36m(pid=62074)\u001b[0m Episode 3\n",
      "\u001b[2m\u001b[36m(pid=62076)\u001b[0m Draw\n",
      "\u001b[2m\u001b[36m(pid=62076)\u001b[0m WARNING DELETING EXPERIENCES\n",
      "\u001b[2m\u001b[36m(pid=62076)\u001b[0m Episode 4\n",
      "\u001b[2m\u001b[36m(pid=62077)\u001b[0m Draw\n",
      "\u001b[2m\u001b[36m(pid=62077)\u001b[0m WARNING DELETING EXPERIENCES\n",
      "\u001b[2m\u001b[36m(pid=62077)\u001b[0m Episode 5\n",
      "\u001b[2m\u001b[36m(pid=62069)\u001b[0m Draw\n",
      "\u001b[2m\u001b[36m(pid=62069)\u001b[0m WARNING DELETING EXPERIENCES\n",
      "\u001b[2m\u001b[36m(pid=62069)\u001b[0m Episode 3\n",
      "\u001b[2m\u001b[36m(pid=62074)\u001b[0m White Loss\n",
      "\u001b[2m\u001b[36m(pid=62074)\u001b[0m Episode 4\n",
      "\u001b[2m\u001b[36m(pid=62071)\u001b[0m Draw\n",
      "\u001b[2m\u001b[36m(pid=62071)\u001b[0m WARNING DELETING EXPERIENCES\n",
      "\u001b[2m\u001b[36m(pid=62071)\u001b[0m Episode 3\n",
      "\u001b[2m\u001b[36m(pid=62068)\u001b[0m Draw\n",
      "\u001b[2m\u001b[36m(pid=62068)\u001b[0m WARNING DELETING EXPERIENCES\n",
      "\u001b[2m\u001b[36m(pid=62068)\u001b[0m Episode 5\n",
      "\u001b[2m\u001b[36m(pid=62067)\u001b[0m Draw\n",
      "\u001b[2m\u001b[36m(pid=62067)\u001b[0m WARNING DELETING EXPERIENCES\n",
      "\u001b[2m\u001b[36m(pid=62067)\u001b[0m Episode 4\n",
      "\u001b[2m\u001b[36m(pid=62079)\u001b[0m Draw\n",
      "\u001b[2m\u001b[36m(pid=62079)\u001b[0m WARNING DELETING EXPERIENCES\n",
      "\u001b[2m\u001b[36m(pid=62070)\u001b[0m Draw\n",
      "\u001b[2m\u001b[36m(pid=62070)\u001b[0m WARNING DELETING EXPERIENCES\n",
      "\u001b[2m\u001b[36m(pid=62070)\u001b[0m Episode 5\n",
      "\u001b[2m\u001b[36m(pid=62064)\u001b[0m Draw\n",
      "\u001b[2m\u001b[36m(pid=62064)\u001b[0m WARNING DELETING EXPERIENCES\n",
      "\u001b[2m\u001b[36m(pid=62064)\u001b[0m Episode 5\n",
      "\u001b[2m\u001b[36m(pid=62073)\u001b[0m Draw\n",
      "\u001b[2m\u001b[36m(pid=62073)\u001b[0m WARNING DELETING EXPERIENCES\n",
      "\u001b[2m\u001b[36m(pid=62073)\u001b[0m Episode 5\n",
      "\u001b[2m\u001b[36m(pid=62069)\u001b[0m White Loss\n",
      "\u001b[2m\u001b[36m(pid=62069)\u001b[0m Episode 4\n",
      "\u001b[2m\u001b[36m(pid=62064)\u001b[0m White Won\n",
      "\u001b[2m\u001b[36m(pid=62075)\u001b[0m White Loss\n",
      "\u001b[2m\u001b[36m(pid=62075)\u001b[0m Episode 4\n",
      "\u001b[2m\u001b[36m(pid=62063)\u001b[0m Draw\n",
      "\u001b[2m\u001b[36m(pid=62063)\u001b[0m WARNING DELETING EXPERIENCES\n",
      "\u001b[2m\u001b[36m(pid=62063)\u001b[0m Episode 3\n",
      "\u001b[2m\u001b[36m(pid=62066)\u001b[0m Draw\n",
      "\u001b[2m\u001b[36m(pid=62066)\u001b[0m WARNING DELETING EXPERIENCES\n",
      "\u001b[2m\u001b[36m(pid=62066)\u001b[0m Episode 5\n",
      "\u001b[2m\u001b[36m(pid=62076)\u001b[0m Draw\n",
      "\u001b[2m\u001b[36m(pid=62076)\u001b[0m WARNING DELETING EXPERIENCES\n",
      "\u001b[2m\u001b[36m(pid=62076)\u001b[0m Episode 5\n",
      "\u001b[2m\u001b[36m(pid=62077)\u001b[0m Draw\n",
      "\u001b[2m\u001b[36m(pid=62077)\u001b[0m WARNING DELETING EXPERIENCES\n",
      "\u001b[2m\u001b[36m(pid=62072)\u001b[0m Draw\n",
      "\u001b[2m\u001b[36m(pid=62072)\u001b[0m WARNING DELETING EXPERIENCES\n",
      "\u001b[2m\u001b[36m(pid=62072)\u001b[0m Episode 5\n",
      "\u001b[2m\u001b[36m(pid=62065)\u001b[0m Draw\n",
      "\u001b[2m\u001b[36m(pid=62065)\u001b[0m WARNING DELETING EXPERIENCES\n",
      "\u001b[2m\u001b[36m(pid=62065)\u001b[0m Episode 5\n",
      "\u001b[2m\u001b[36m(pid=62067)\u001b[0m Draw\n",
      "\u001b[2m\u001b[36m(pid=62067)\u001b[0m WARNING DELETING EXPERIENCES\n",
      "\u001b[2m\u001b[36m(pid=62067)\u001b[0m Episode 5\n",
      "\u001b[2m\u001b[36m(pid=62070)\u001b[0m Draw\n",
      "\u001b[2m\u001b[36m(pid=62070)\u001b[0m WARNING DELETING EXPERIENCES\n",
      "\u001b[2m\u001b[36m(pid=62074)\u001b[0m Draw\n",
      "\u001b[2m\u001b[36m(pid=62074)\u001b[0m WARNING DELETING EXPERIENCES\n",
      "\u001b[2m\u001b[36m(pid=62074)\u001b[0m Episode 5\n",
      "\u001b[2m\u001b[36m(pid=62073)\u001b[0m Draw\n",
      "\u001b[2m\u001b[36m(pid=62073)\u001b[0m WARNING DELETING EXPERIENCES\n",
      "\u001b[2m\u001b[36m(pid=62071)\u001b[0m Draw\n",
      "\u001b[2m\u001b[36m(pid=62071)\u001b[0m WARNING DELETING EXPERIENCES\n",
      "\u001b[2m\u001b[36m(pid=62071)\u001b[0m Episode 4\n",
      "\u001b[2m\u001b[36m(pid=62063)\u001b[0m Draw\n",
      "\u001b[2m\u001b[36m(pid=62063)\u001b[0m WARNING DELETING EXPERIENCES\n",
      "\u001b[2m\u001b[36m(pid=62063)\u001b[0m Episode 4\n",
      "\u001b[2m\u001b[36m(pid=62068)\u001b[0m Draw\n",
      "\u001b[2m\u001b[36m(pid=62068)\u001b[0m WARNING DELETING EXPERIENCES\n",
      "\u001b[2m\u001b[36m(pid=62075)\u001b[0m Draw\n",
      "\u001b[2m\u001b[36m(pid=62075)\u001b[0m WARNING DELETING EXPERIENCES\n",
      "\u001b[2m\u001b[36m(pid=62075)\u001b[0m Episode 5\n",
      "\u001b[2m\u001b[36m(pid=62069)\u001b[0m Draw\n",
      "\u001b[2m\u001b[36m(pid=62069)\u001b[0m WARNING DELETING EXPERIENCES\n",
      "\u001b[2m\u001b[36m(pid=62069)\u001b[0m Episode 5\n",
      "\u001b[2m\u001b[36m(pid=62072)\u001b[0m Draw\n",
      "\u001b[2m\u001b[36m(pid=62072)\u001b[0m WARNING DELETING EXPERIENCES\n",
      "\u001b[2m\u001b[36m(pid=62065)\u001b[0m White Loss\n",
      "\u001b[2m\u001b[36m(pid=62076)\u001b[0m Draw\n",
      "\u001b[2m\u001b[36m(pid=62076)\u001b[0m WARNING DELETING EXPERIENCES\n",
      "\u001b[2m\u001b[36m(pid=62066)\u001b[0m Draw\n",
      "\u001b[2m\u001b[36m(pid=62066)\u001b[0m WARNING DELETING EXPERIENCES\n",
      "\u001b[2m\u001b[36m(pid=62067)\u001b[0m Draw\n",
      "\u001b[2m\u001b[36m(pid=62067)\u001b[0m WARNING DELETING EXPERIENCES\n",
      "\u001b[2m\u001b[36m(pid=62063)\u001b[0m White Won\n",
      "\u001b[2m\u001b[36m(pid=62063)\u001b[0m Episode 5\n",
      "\u001b[2m\u001b[36m(pid=62071)\u001b[0m Draw\n",
      "\u001b[2m\u001b[36m(pid=62071)\u001b[0m WARNING DELETING EXPERIENCES\n",
      "\u001b[2m\u001b[36m(pid=62071)\u001b[0m Episode 5\n",
      "\u001b[2m\u001b[36m(pid=62075)\u001b[0m Draw\n",
      "\u001b[2m\u001b[36m(pid=62075)\u001b[0m WARNING DELETING EXPERIENCES\n",
      "\u001b[2m\u001b[36m(pid=62069)\u001b[0m Draw\n",
      "\u001b[2m\u001b[36m(pid=62069)\u001b[0m WARNING DELETING EXPERIENCES\n",
      "\u001b[2m\u001b[36m(pid=62074)\u001b[0m Draw\n",
      "\u001b[2m\u001b[36m(pid=62074)\u001b[0m WARNING DELETING EXPERIENCES\n",
      "\u001b[2m\u001b[36m(pid=62063)\u001b[0m Draw\n",
      "\u001b[2m\u001b[36m(pid=62063)\u001b[0m WARNING DELETING EXPERIENCES\n",
      "\u001b[2m\u001b[36m(pid=62071)\u001b[0m Draw\n",
      "\u001b[2m\u001b[36m(pid=62071)\u001b[0m WARNING DELETING EXPERIENCES\n",
      "100 ACTOR LOSS 5595.44921875 | CRITIC LOSS 0.07328949868679047\n",
      "101 ACTOR LOSS 5605.626953125 | CRITIC LOSS 0.576005220413208\n"
     ]
    },
    {
     "name": "stdout",
     "output_type": "stream",
     "text": [
      "102 ACTOR LOSS 5532.89990234375 | CRITIC LOSS 0.011071808636188507\n",
      "103 ACTOR LOSS 5827.509765625 | CRITIC LOSS 0.009977110661566257\n",
      "104 ACTOR LOSS 5871.10595703125 | CRITIC LOSS 0.12830261886119843\n",
      "105 ACTOR LOSS 4371.0029296875 | CRITIC LOSS 0.01801133342087269\n",
      "106 ACTOR LOSS 5077.17236328125 | CRITIC LOSS 0.07099637389183044\n",
      "107 ACTOR LOSS 5847.232421875 | CRITIC LOSS 0.021790120750665665\n",
      "108 ACTOR LOSS 5770.88623046875 | CRITIC LOSS 0.06498979777097702\n",
      "109 ACTOR LOSS 5886.92138671875 | CRITIC LOSS 0.007103024050593376\n",
      "110 ACTOR LOSS 5899.521484375 | CRITIC LOSS 0.010669921524822712\n",
      "111 ACTOR LOSS 5811.84716796875 | CRITIC LOSS 0.012427923269569874\n",
      "112 ACTOR LOSS 5715.76318359375 | CRITIC LOSS 0.017371250316500664\n",
      "113 ACTOR LOSS 5962.13671875 | CRITIC LOSS 0.007698930334299803\n",
      "114 ACTOR LOSS 5794.8310546875 | CRITIC LOSS 0.010220089927315712\n",
      "115 ACTOR LOSS 5864.6845703125 | CRITIC LOSS 0.006778671871870756\n",
      "116 ACTOR LOSS 5791.68798828125 | CRITIC LOSS 0.028023267164826393\n",
      "117 ACTOR LOSS 5862.63427734375 | CRITIC LOSS 0.0070134373381733894\n",
      "118 ACTOR LOSS 5924.3056640625 | CRITIC LOSS 0.01216236874461174\n",
      "119 ACTOR LOSS 6061.09033203125 | CRITIC LOSS 0.004708134103566408\n",
      "120 ACTOR LOSS 5863.7421875 | CRITIC LOSS 0.00444116722792387\n",
      "121 ACTOR LOSS 5888.33154296875 | CRITIC LOSS 0.012588338926434517\n",
      "122 ACTOR LOSS 5781.75341796875 | CRITIC LOSS 0.00898482371121645\n",
      "123 ACTOR LOSS 5809.14111328125 | CRITIC LOSS 0.014546346850693226\n",
      "124 ACTOR LOSS 5979.63720703125 | CRITIC LOSS 0.010081720538437366\n",
      "125 ACTOR LOSS 5891.99462890625 | CRITIC LOSS 0.011052028276026249\n",
      "126 ACTOR LOSS 5740.3271484375 | CRITIC LOSS 0.007862563244998455\n",
      "127 ACTOR LOSS 5928.939453125 | CRITIC LOSS 0.00968208722770214\n",
      "128 ACTOR LOSS 5320.849609375 | CRITIC LOSS 0.006312135607004166\n",
      "129 ACTOR LOSS 4802.54296875 | CRITIC LOSS 0.007945247925817966\n",
      "130 ACTOR LOSS 5824.9287109375 | CRITIC LOSS 0.003574277739971876\n",
      "131 ACTOR LOSS 5883.638671875 | CRITIC LOSS 0.005238542333245277\n",
      "132 ACTOR LOSS 5879.69677734375 | CRITIC LOSS 0.005136632360517979\n",
      "133 ACTOR LOSS 5082.42431640625 | CRITIC LOSS 0.011839688755571842\n",
      "134 ACTOR LOSS 5036.197265625 | CRITIC LOSS 0.017375973984599113\n",
      "135 ACTOR LOSS 4945.0830078125 | CRITIC LOSS 0.00802870187908411\n",
      "136 ACTOR LOSS 5239.048828125 | CRITIC LOSS 0.062084369361400604\n",
      "137 ACTOR LOSS 5231.23828125 | CRITIC LOSS 0.005899322684854269\n",
      "138 ACTOR LOSS 5094.58984375 | CRITIC LOSS 0.003479959908872843\n",
      "139 ACTOR LOSS 5250.72412109375 | CRITIC LOSS 0.0034729198087006807\n",
      "140 ACTOR LOSS 5045.34716796875 | CRITIC LOSS 0.004731778986752033\n",
      "141 ACTOR LOSS 5924.60107421875 | CRITIC LOSS 0.006990887690335512\n",
      "142 ACTOR LOSS 5679.21435546875 | CRITIC LOSS 0.005065011791884899\n",
      "143 ACTOR LOSS 5066.119140625 | CRITIC LOSS 0.0029804680962115526\n",
      "144 ACTOR LOSS 5760.080078125 | CRITIC LOSS 0.005529847927391529\n",
      "145 ACTOR LOSS 5945.501953125 | CRITIC LOSS 0.01127968542277813\n",
      "146 ACTOR LOSS 5887.87158203125 | CRITIC LOSS 0.004714547656476498\n",
      "147 ACTOR LOSS 5792.35986328125 | CRITIC LOSS 0.008659257553517818\n",
      "148 ACTOR LOSS 5937.16015625 | CRITIC LOSS 0.00826672837138176\n",
      "149 ACTOR LOSS 5851.23974609375 | CRITIC LOSS 0.006692694965749979\n",
      "150 ACTOR LOSS 5896.310546875 | CRITIC LOSS 0.00817786529660225\n",
      "151 ACTOR LOSS 6052.6318359375 | CRITIC LOSS 0.0024544973857700825\n",
      "152 ACTOR LOSS 5854.2900390625 | CRITIC LOSS 0.006977393291890621\n",
      "153 ACTOR LOSS 5928.7724609375 | CRITIC LOSS 0.010193586349487305\n",
      "154 ACTOR LOSS 5903.0400390625 | CRITIC LOSS 0.009355406276881695\n",
      "155 ACTOR LOSS 5911.6484375 | CRITIC LOSS 0.0054995897226035595\n",
      "156 ACTOR LOSS 5928.5048828125 | CRITIC LOSS 0.006471262779086828\n",
      "157 ACTOR LOSS 5955.87255859375 | CRITIC LOSS 0.00448296032845974\n",
      "158 ACTOR LOSS 5895.1884765625 | CRITIC LOSS 0.006616644561290741\n",
      "159 ACTOR LOSS 4489.40234375 | CRITIC LOSS 0.006012819241732359\n",
      "160 ACTOR LOSS 5869.298828125 | CRITIC LOSS 0.00975892599672079\n",
      "161 ACTOR LOSS 6022.796875 | CRITIC LOSS 0.008167101070284843\n",
      "162 ACTOR LOSS 5816.1083984375 | CRITIC LOSS 0.0022576279006898403\n",
      "163 ACTOR LOSS 5863.8173828125 | CRITIC LOSS 0.005756286904215813\n",
      "164 ACTOR LOSS 6010.76806640625 | CRITIC LOSS 0.0014553647488355637\n",
      "165 ACTOR LOSS 5915.5693359375 | CRITIC LOSS 0.005340986419469118\n",
      "166 ACTOR LOSS 5976.439453125 | CRITIC LOSS 0.00536925857886672\n",
      "167 ACTOR LOSS 5744.3701171875 | CRITIC LOSS 0.006047484464943409\n",
      "168 ACTOR LOSS 6001.03173828125 | CRITIC LOSS 0.011213088408112526\n",
      "169 ACTOR LOSS 5737.564453125 | CRITIC LOSS 0.00486500421538949\n",
      "170 ACTOR LOSS 5836.19287109375 | CRITIC LOSS 0.0046715280041098595\n",
      "171 ACTOR LOSS 5922.5283203125 | CRITIC LOSS 0.002937811193987727\n",
      "172 ACTOR LOSS 5790.9521484375 | CRITIC LOSS 0.010915844701230526\n",
      "173 ACTOR LOSS 5830.453125 | CRITIC LOSS 0.004785255994647741\n",
      "174 ACTOR LOSS 5726.4150390625 | CRITIC LOSS 0.004648132249712944\n",
      "175 ACTOR LOSS 5871.63720703125 | CRITIC LOSS 0.010835053399205208\n",
      "176 ACTOR LOSS 5957.5361328125 | CRITIC LOSS 0.007108781486749649\n",
      "177 ACTOR LOSS 5624.552734375 | CRITIC LOSS 0.0027722662780433893\n",
      "178 ACTOR LOSS 5838.76904296875 | CRITIC LOSS 0.004893255420029163\n",
      "179 ACTOR LOSS 5879.18896484375 | CRITIC LOSS 0.0033916709944605827\n",
      "180 ACTOR LOSS 5655.185546875 | CRITIC LOSS 0.004193867556750774\n",
      "181 ACTOR LOSS 5909.5712890625 | CRITIC LOSS 0.007293413858860731\n",
      "182 ACTOR LOSS 5753.45947265625 | CRITIC LOSS 0.007485687267035246\n",
      "183 ACTOR LOSS 5796.3583984375 | CRITIC LOSS 0.0030783459078520536\n",
      "184 ACTOR LOSS 5905.11181640625 | CRITIC LOSS 0.008400843478739262\n",
      "185 ACTOR LOSS 5884.79345703125 | CRITIC LOSS 0.004011005163192749\n",
      "186 ACTOR LOSS 3192.56787109375 | CRITIC LOSS 0.001221562852151692\n",
      "187 ACTOR LOSS 5746.3515625 | CRITIC LOSS 0.0021490922663360834\n",
      "188 ACTOR LOSS 5874.23046875 | CRITIC LOSS 0.003998772241175175\n",
      "189 ACTOR LOSS 5999.50439453125 | CRITIC LOSS 0.0034776676911860704\n",
      "190 ACTOR LOSS 5938.2001953125 | CRITIC LOSS 0.006900179665535688\n",
      "191 ACTOR LOSS 5955.20849609375 | CRITIC LOSS 0.0038944012485444546\n",
      "192 ACTOR LOSS 5989.736328125 | CRITIC LOSS 0.0049398005940020084\n",
      "193 ACTOR LOSS 5713.36083984375 | CRITIC LOSS 0.0016076118918135762\n",
      "194 ACTOR LOSS 5925.7919921875 | CRITIC LOSS 0.004495877306908369\n",
      "195 ACTOR LOSS 5687.67529296875 | CRITIC LOSS 0.009741627611219883\n",
      "196 ACTOR LOSS 5888.515625 | CRITIC LOSS 0.0011273606214672327\n",
      "197 ACTOR LOSS 5769.51611328125 | CRITIC LOSS 0.0017978046089410782\n",
      "198 ACTOR LOSS 5975.20654296875 | CRITIC LOSS 0.0026300917379558086\n",
      "199 ACTOR LOSS 5852.71484375 | CRITIC LOSS 0.0009780691470950842\n",
      "EVALUATING\n",
      "\u001b[2m\u001b[36m(pid=62071)\u001b[0m Playing against opponent\n",
      "\u001b[2m\u001b[36m(pid=62071)\u001b[0m Episode 1\n"
     ]
    },
    {
     "name": "stderr",
     "output_type": "stream",
     "text": [
      "\u001b[2m\u001b[36m(pid=62071)\u001b[0m /home/ec2-user/.local/lib/python3.6/site-packages/ray/workers/default_worker.py:58: RuntimeWarning: invalid value encountered in true_divide\n",
      "\u001b[2m\u001b[36m(pid=62071)\u001b[0m   type=str,\n"
     ]
    },
    {
     "name": "stdout",
     "output_type": "stream",
     "text": [
      "\u001b[2m\u001b[36m(pid=62063)\u001b[0m Playing against opponent\n",
      "\u001b[2m\u001b[36m(pid=62063)\u001b[0m Episode 1\n"
     ]
    },
    {
     "name": "stderr",
     "output_type": "stream",
     "text": [
      "\u001b[2m\u001b[36m(pid=62063)\u001b[0m /home/ec2-user/.local/lib/python3.6/site-packages/ray/workers/default_worker.py:58: RuntimeWarning: invalid value encountered in true_divide\n",
      "\u001b[2m\u001b[36m(pid=62063)\u001b[0m   type=str,\n"
     ]
    },
    {
     "name": "stdout",
     "output_type": "stream",
     "text": [
      "\u001b[2m\u001b[36m(pid=62075)\u001b[0m Playing against opponent\n",
      "\u001b[2m\u001b[36m(pid=62075)\u001b[0m Episode 1\n"
     ]
    },
    {
     "name": "stderr",
     "output_type": "stream",
     "text": [
      "\u001b[2m\u001b[36m(pid=62075)\u001b[0m /home/ec2-user/.local/lib/python3.6/site-packages/ray/workers/default_worker.py:58: RuntimeWarning: invalid value encountered in true_divide\n",
      "\u001b[2m\u001b[36m(pid=62075)\u001b[0m   type=str,\n"
     ]
    },
    {
     "name": "stdout",
     "output_type": "stream",
     "text": [
      "\u001b[2m\u001b[36m(pid=62067)\u001b[0m Playing against opponent\n",
      "\u001b[2m\u001b[36m(pid=62067)\u001b[0m Episode 1\n"
     ]
    },
    {
     "name": "stderr",
     "output_type": "stream",
     "text": [
      "\u001b[2m\u001b[36m(pid=62067)\u001b[0m /home/ec2-user/.local/lib/python3.6/site-packages/ray/workers/default_worker.py:58: RuntimeWarning: invalid value encountered in true_divide\n",
      "\u001b[2m\u001b[36m(pid=62067)\u001b[0m   type=str,\n"
     ]
    },
    {
     "name": "stdout",
     "output_type": "stream",
     "text": [
      "\u001b[2m\u001b[36m(pid=62066)\u001b[0m Playing against opponent\n",
      "\u001b[2m\u001b[36m(pid=62066)\u001b[0m Episode 1\n"
     ]
    },
    {
     "name": "stderr",
     "output_type": "stream",
     "text": [
      "\u001b[2m\u001b[36m(pid=62066)\u001b[0m /home/ec2-user/.local/lib/python3.6/site-packages/ray/workers/default_worker.py:58: RuntimeWarning: invalid value encountered in true_divide\n",
      "\u001b[2m\u001b[36m(pid=62066)\u001b[0m   type=str,\n"
     ]
    },
    {
     "name": "stdout",
     "output_type": "stream",
     "text": [
      "\u001b[2m\u001b[36m(pid=62076)\u001b[0m Playing against opponent\n",
      "\u001b[2m\u001b[36m(pid=62076)\u001b[0m Episode 1\n"
     ]
    },
    {
     "name": "stderr",
     "output_type": "stream",
     "text": [
      "\u001b[2m\u001b[36m(pid=62076)\u001b[0m /home/ec2-user/.local/lib/python3.6/site-packages/ray/workers/default_worker.py:58: RuntimeWarning: invalid value encountered in true_divide\n",
      "\u001b[2m\u001b[36m(pid=62076)\u001b[0m   type=str,\n"
     ]
    },
    {
     "name": "stdout",
     "output_type": "stream",
     "text": [
      "\u001b[2m\u001b[36m(pid=62065)\u001b[0m Playing against opponent\n",
      "\u001b[2m\u001b[36m(pid=62065)\u001b[0m Episode 1\n"
     ]
    },
    {
     "name": "stderr",
     "output_type": "stream",
     "text": [
      "\u001b[2m\u001b[36m(pid=62065)\u001b[0m /home/ec2-user/.local/lib/python3.6/site-packages/ray/workers/default_worker.py:58: RuntimeWarning: invalid value encountered in true_divide\n",
      "\u001b[2m\u001b[36m(pid=62065)\u001b[0m   type=str,\n"
     ]
    },
    {
     "name": "stdout",
     "output_type": "stream",
     "text": [
      "\u001b[2m\u001b[36m(pid=62069)\u001b[0m Playing against opponent\n",
      "\u001b[2m\u001b[36m(pid=62069)\u001b[0m Episode 1\n"
     ]
    },
    {
     "name": "stderr",
     "output_type": "stream",
     "text": [
      "\u001b[2m\u001b[36m(pid=62069)\u001b[0m /home/ec2-user/.local/lib/python3.6/site-packages/ray/workers/default_worker.py:58: RuntimeWarning: invalid value encountered in true_divide\n",
      "\u001b[2m\u001b[36m(pid=62069)\u001b[0m   type=str,\n"
     ]
    },
    {
     "name": "stdout",
     "output_type": "stream",
     "text": [
      "\u001b[2m\u001b[36m(pid=62072)\u001b[0m Playing against opponent\n",
      "\u001b[2m\u001b[36m(pid=62072)\u001b[0m Episode 1\n"
     ]
    },
    {
     "name": "stderr",
     "output_type": "stream",
     "text": [
      "\u001b[2m\u001b[36m(pid=62072)\u001b[0m /home/ec2-user/.local/lib/python3.6/site-packages/ray/workers/default_worker.py:58: RuntimeWarning: invalid value encountered in true_divide\n",
      "\u001b[2m\u001b[36m(pid=62072)\u001b[0m   type=str,\n"
     ]
    },
    {
     "name": "stdout",
     "output_type": "stream",
     "text": [
      "\u001b[2m\u001b[36m(pid=62068)\u001b[0m Playing against opponent\n",
      "\u001b[2m\u001b[36m(pid=62068)\u001b[0m Episode 1\n"
     ]
    },
    {
     "name": "stderr",
     "output_type": "stream",
     "text": [
      "\u001b[2m\u001b[36m(pid=62068)\u001b[0m /home/ec2-user/.local/lib/python3.6/site-packages/ray/workers/default_worker.py:58: RuntimeWarning: invalid value encountered in true_divide\n",
      "\u001b[2m\u001b[36m(pid=62068)\u001b[0m   type=str,\n"
     ]
    },
    {
     "name": "stdout",
     "output_type": "stream",
     "text": [
      "\u001b[2m\u001b[36m(pid=62073)\u001b[0m Playing against opponent\n",
      "\u001b[2m\u001b[36m(pid=62073)\u001b[0m Episode 1\n"
     ]
    },
    {
     "name": "stderr",
     "output_type": "stream",
     "text": [
      "\u001b[2m\u001b[36m(pid=62073)\u001b[0m /home/ec2-user/.local/lib/python3.6/site-packages/ray/workers/default_worker.py:58: RuntimeWarning: invalid value encountered in true_divide\n",
      "\u001b[2m\u001b[36m(pid=62073)\u001b[0m   type=str,\n"
     ]
    },
    {
     "name": "stdout",
     "output_type": "stream",
     "text": [
      "\u001b[2m\u001b[36m(pid=62063)\u001b[0m White Loss\n",
      "\u001b[2m\u001b[36m(pid=62063)\u001b[0m Playing against opponent\n",
      "\u001b[2m\u001b[36m(pid=62063)\u001b[0m Episode 1\n"
     ]
    },
    {
     "name": "stderr",
     "output_type": "stream",
     "text": [
      "\u001b[2m\u001b[36m(pid=62063)\u001b[0m /home/ec2-user/.local/lib/python3.6/site-packages/ray/workers/default_worker.py:58: RuntimeWarning: invalid value encountered in true_divide\n",
      "\u001b[2m\u001b[36m(pid=62063)\u001b[0m   type=str,\n"
     ]
    },
    {
     "name": "stdout",
     "output_type": "stream",
     "text": [
      "\u001b[2m\u001b[36m(pid=62074)\u001b[0m Playing against opponent\n",
      "\u001b[2m\u001b[36m(pid=62074)\u001b[0m Episode 1\n"
     ]
    },
    {
     "name": "stderr",
     "output_type": "stream",
     "text": [
      "\u001b[2m\u001b[36m(pid=62074)\u001b[0m /home/ec2-user/.local/lib/python3.6/site-packages/ray/workers/default_worker.py:58: RuntimeWarning: invalid value encountered in true_divide\n",
      "\u001b[2m\u001b[36m(pid=62074)\u001b[0m   type=str,\n"
     ]
    },
    {
     "name": "stdout",
     "output_type": "stream",
     "text": [
      "\u001b[2m\u001b[36m(pid=62070)\u001b[0m Playing against opponent\n",
      "\u001b[2m\u001b[36m(pid=62070)\u001b[0m Episode 1\n"
     ]
    },
    {
     "name": "stderr",
     "output_type": "stream",
     "text": [
      "\u001b[2m\u001b[36m(pid=62070)\u001b[0m /home/ec2-user/.local/lib/python3.6/site-packages/ray/workers/default_worker.py:58: RuntimeWarning: invalid value encountered in true_divide\n",
      "\u001b[2m\u001b[36m(pid=62070)\u001b[0m   type=str,\n"
     ]
    },
    {
     "name": "stdout",
     "output_type": "stream",
     "text": [
      "\u001b[2m\u001b[36m(pid=62077)\u001b[0m Playing against opponent\n",
      "\u001b[2m\u001b[36m(pid=62077)\u001b[0m Episode 1\n"
     ]
    },
    {
     "name": "stderr",
     "output_type": "stream",
     "text": [
      "\u001b[2m\u001b[36m(pid=62077)\u001b[0m /home/ec2-user/.local/lib/python3.6/site-packages/ray/workers/default_worker.py:58: RuntimeWarning: invalid value encountered in true_divide\n",
      "\u001b[2m\u001b[36m(pid=62077)\u001b[0m   type=str,\n"
     ]
    },
    {
     "name": "stdout",
     "output_type": "stream",
     "text": [
      "\u001b[2m\u001b[36m(pid=62064)\u001b[0m Playing against opponent\n",
      "\u001b[2m\u001b[36m(pid=62064)\u001b[0m Episode 1\n"
     ]
    },
    {
     "name": "stderr",
     "output_type": "stream",
     "text": [
      "\u001b[2m\u001b[36m(pid=62064)\u001b[0m /home/ec2-user/.local/lib/python3.6/site-packages/ray/workers/default_worker.py:58: RuntimeWarning: invalid value encountered in true_divide\n",
      "\u001b[2m\u001b[36m(pid=62064)\u001b[0m   type=str,\n"
     ]
    },
    {
     "name": "stdout",
     "output_type": "stream",
     "text": [
      "\u001b[2m\u001b[36m(pid=62076)\u001b[0m Draw\n",
      "\u001b[2m\u001b[36m(pid=62071)\u001b[0m Draw\n",
      "\u001b[2m\u001b[36m(pid=62073)\u001b[0m White Loss\n",
      "\u001b[2m\u001b[36m(pid=62070)\u001b[0m White Won\n",
      "\u001b[2m\u001b[36m(pid=62075)\u001b[0m Draw\n",
      "\u001b[2m\u001b[36m(pid=62066)\u001b[0m Draw\n",
      "\u001b[2m\u001b[36m(pid=62064)\u001b[0m White Loss\n",
      "\u001b[2m\u001b[36m(pid=62063)\u001b[0m Draw\n",
      "\u001b[2m\u001b[36m(pid=62069)\u001b[0m White Won\n",
      "\u001b[2m\u001b[36m(pid=62077)\u001b[0m Draw\n",
      "\u001b[2m\u001b[36m(pid=62068)\u001b[0m Draw\n",
      "\u001b[2m\u001b[36m(pid=62072)\u001b[0m White Loss\n",
      "\u001b[2m\u001b[36m(pid=62067)\u001b[0m Draw\n",
      "\u001b[2m\u001b[36m(pid=62074)\u001b[0m Draw\n",
      "\u001b[2m\u001b[36m(pid=62065)\u001b[0m Draw\n",
      "Wins 2 0.12% | Draws 10 0.62% | Losses 4 0.25%\n",
      "Old Network was better\n",
      "LEARNING\n",
      "\u001b[2m\u001b[36m(pid=62065)\u001b[0m Playing against self\n",
      "\u001b[2m\u001b[36m(pid=62065)\u001b[0m Episode 1\n"
     ]
    },
    {
     "name": "stderr",
     "output_type": "stream",
     "text": [
      "\u001b[2m\u001b[36m(pid=62065)\u001b[0m /home/ec2-user/.local/lib/python3.6/site-packages/ray/workers/default_worker.py:58: RuntimeWarning: invalid value encountered in true_divide\n",
      "\u001b[2m\u001b[36m(pid=62065)\u001b[0m   type=str,\n"
     ]
    },
    {
     "name": "stdout",
     "output_type": "stream",
     "text": [
      "\u001b[2m\u001b[36m(pid=62068)\u001b[0m Playing against self\n",
      "\u001b[2m\u001b[36m(pid=62068)\u001b[0m Episode 1\n"
     ]
    },
    {
     "name": "stderr",
     "output_type": "stream",
     "text": [
      "\u001b[2m\u001b[36m(pid=62068)\u001b[0m /home/ec2-user/.local/lib/python3.6/site-packages/ray/workers/default_worker.py:58: RuntimeWarning: invalid value encountered in true_divide\n",
      "\u001b[2m\u001b[36m(pid=62068)\u001b[0m   type=str,\n"
     ]
    },
    {
     "name": "stdout",
     "output_type": "stream",
     "text": [
      "\u001b[2m\u001b[36m(pid=62077)\u001b[0m Playing against self\n",
      "\u001b[2m\u001b[36m(pid=62077)\u001b[0m Episode 1\n"
     ]
    },
    {
     "name": "stderr",
     "output_type": "stream",
     "text": [
      "\u001b[2m\u001b[36m(pid=62077)\u001b[0m /home/ec2-user/.local/lib/python3.6/site-packages/ray/workers/default_worker.py:58: RuntimeWarning: invalid value encountered in true_divide\n",
      "\u001b[2m\u001b[36m(pid=62077)\u001b[0m   type=str,\n"
     ]
    },
    {
     "name": "stdout",
     "output_type": "stream",
     "text": [
      "\u001b[2m\u001b[36m(pid=62072)\u001b[0m Playing against self\n",
      "\u001b[2m\u001b[36m(pid=62072)\u001b[0m Episode 1\n"
     ]
    },
    {
     "name": "stderr",
     "output_type": "stream",
     "text": [
      "\u001b[2m\u001b[36m(pid=62072)\u001b[0m /home/ec2-user/.local/lib/python3.6/site-packages/ray/workers/default_worker.py:58: RuntimeWarning: invalid value encountered in true_divide\n",
      "\u001b[2m\u001b[36m(pid=62072)\u001b[0m   type=str,\n"
     ]
    },
    {
     "name": "stdout",
     "output_type": "stream",
     "text": [
      "\u001b[2m\u001b[36m(pid=62069)\u001b[0m Playing against self\n",
      "\u001b[2m\u001b[36m(pid=62069)\u001b[0m Episode 1\n"
     ]
    },
    {
     "name": "stderr",
     "output_type": "stream",
     "text": [
      "\u001b[2m\u001b[36m(pid=62069)\u001b[0m /home/ec2-user/.local/lib/python3.6/site-packages/ray/workers/default_worker.py:58: RuntimeWarning: invalid value encountered in true_divide\n",
      "\u001b[2m\u001b[36m(pid=62069)\u001b[0m   type=str,\n"
     ]
    },
    {
     "name": "stdout",
     "output_type": "stream",
     "text": [
      "\u001b[2m\u001b[36m(pid=62063)\u001b[0m Playing against self\n",
      "\u001b[2m\u001b[36m(pid=62063)\u001b[0m Episode 1\n"
     ]
    },
    {
     "name": "stderr",
     "output_type": "stream",
     "text": [
      "\u001b[2m\u001b[36m(pid=62063)\u001b[0m /home/ec2-user/.local/lib/python3.6/site-packages/ray/workers/default_worker.py:58: RuntimeWarning: invalid value encountered in true_divide\n",
      "\u001b[2m\u001b[36m(pid=62063)\u001b[0m   type=str,\n"
     ]
    },
    {
     "name": "stdout",
     "output_type": "stream",
     "text": [
      "\u001b[2m\u001b[36m(pid=62064)\u001b[0m Playing against self\n",
      "\u001b[2m\u001b[36m(pid=62064)\u001b[0m Episode 1\n"
     ]
    },
    {
     "name": "stderr",
     "output_type": "stream",
     "text": [
      "\u001b[2m\u001b[36m(pid=62064)\u001b[0m /home/ec2-user/.local/lib/python3.6/site-packages/ray/workers/default_worker.py:58: RuntimeWarning: invalid value encountered in true_divide\n",
      "\u001b[2m\u001b[36m(pid=62064)\u001b[0m   type=str,\n"
     ]
    },
    {
     "name": "stdout",
     "output_type": "stream",
     "text": [
      "\u001b[2m\u001b[36m(pid=62066)\u001b[0m Playing against self\n",
      "\u001b[2m\u001b[36m(pid=62066)\u001b[0m Episode 1\n"
     ]
    },
    {
     "name": "stderr",
     "output_type": "stream",
     "text": [
      "\u001b[2m\u001b[36m(pid=62066)\u001b[0m /home/ec2-user/.local/lib/python3.6/site-packages/ray/workers/default_worker.py:58: RuntimeWarning: invalid value encountered in true_divide\n",
      "\u001b[2m\u001b[36m(pid=62066)\u001b[0m   type=str,\n"
     ]
    },
    {
     "name": "stdout",
     "output_type": "stream",
     "text": [
      "\u001b[2m\u001b[36m(pid=62067)\u001b[0m Playing against self\n",
      "\u001b[2m\u001b[36m(pid=62067)\u001b[0m Episode 1\n"
     ]
    },
    {
     "name": "stderr",
     "output_type": "stream",
     "text": [
      "\u001b[2m\u001b[36m(pid=62067)\u001b[0m /home/ec2-user/.local/lib/python3.6/site-packages/ray/workers/default_worker.py:58: RuntimeWarning: invalid value encountered in true_divide\n",
      "\u001b[2m\u001b[36m(pid=62067)\u001b[0m   type=str,\n"
     ]
    },
    {
     "name": "stdout",
     "output_type": "stream",
     "text": [
      "\u001b[2m\u001b[36m(pid=62075)\u001b[0m Playing against self\n",
      "\u001b[2m\u001b[36m(pid=62075)\u001b[0m Episode 1\n"
     ]
    },
    {
     "name": "stderr",
     "output_type": "stream",
     "text": [
      "\u001b[2m\u001b[36m(pid=62075)\u001b[0m /home/ec2-user/.local/lib/python3.6/site-packages/ray/workers/default_worker.py:58: RuntimeWarning: invalid value encountered in true_divide\n",
      "\u001b[2m\u001b[36m(pid=62075)\u001b[0m   type=str,\n"
     ]
    },
    {
     "name": "stdout",
     "output_type": "stream",
     "text": [
      "\u001b[2m\u001b[36m(pid=62074)\u001b[0m Playing against self\n",
      "\u001b[2m\u001b[36m(pid=62074)\u001b[0m Episode 1\n"
     ]
    },
    {
     "name": "stderr",
     "output_type": "stream",
     "text": [
      "\u001b[2m\u001b[36m(pid=62074)\u001b[0m /home/ec2-user/.local/lib/python3.6/site-packages/ray/workers/default_worker.py:58: RuntimeWarning: invalid value encountered in true_divide\n",
      "\u001b[2m\u001b[36m(pid=62074)\u001b[0m   type=str,\n"
     ]
    },
    {
     "name": "stdout",
     "output_type": "stream",
     "text": [
      "\u001b[2m\u001b[36m(pid=62070)\u001b[0m Playing against self\n",
      "\u001b[2m\u001b[36m(pid=62070)\u001b[0m Episode 1\n"
     ]
    },
    {
     "name": "stderr",
     "output_type": "stream",
     "text": [
      "\u001b[2m\u001b[36m(pid=62070)\u001b[0m /home/ec2-user/.local/lib/python3.6/site-packages/ray/workers/default_worker.py:58: RuntimeWarning: invalid value encountered in true_divide\n",
      "\u001b[2m\u001b[36m(pid=62070)\u001b[0m   type=str,\n"
     ]
    },
    {
     "name": "stdout",
     "output_type": "stream",
     "text": [
      "\u001b[2m\u001b[36m(pid=62073)\u001b[0m Playing against self\n",
      "\u001b[2m\u001b[36m(pid=62073)\u001b[0m Episode 1\n"
     ]
    },
    {
     "name": "stderr",
     "output_type": "stream",
     "text": [
      "\u001b[2m\u001b[36m(pid=62073)\u001b[0m /home/ec2-user/.local/lib/python3.6/site-packages/ray/workers/default_worker.py:58: RuntimeWarning: invalid value encountered in true_divide\n",
      "\u001b[2m\u001b[36m(pid=62073)\u001b[0m   type=str,\n"
     ]
    },
    {
     "name": "stdout",
     "output_type": "stream",
     "text": [
      "\u001b[2m\u001b[36m(pid=62071)\u001b[0m Playing against self\n",
      "\u001b[2m\u001b[36m(pid=62071)\u001b[0m Episode 1\n"
     ]
    },
    {
     "name": "stderr",
     "output_type": "stream",
     "text": [
      "\u001b[2m\u001b[36m(pid=62071)\u001b[0m /home/ec2-user/.local/lib/python3.6/site-packages/ray/workers/default_worker.py:58: RuntimeWarning: invalid value encountered in true_divide\n",
      "\u001b[2m\u001b[36m(pid=62071)\u001b[0m   type=str,\n"
     ]
    },
    {
     "name": "stdout",
     "output_type": "stream",
     "text": [
      "\u001b[2m\u001b[36m(pid=62076)\u001b[0m Playing against self\n",
      "\u001b[2m\u001b[36m(pid=62076)\u001b[0m Episode 1\n"
     ]
    },
    {
     "name": "stderr",
     "output_type": "stream",
     "text": [
      "\u001b[2m\u001b[36m(pid=62076)\u001b[0m /home/ec2-user/.local/lib/python3.6/site-packages/ray/workers/default_worker.py:58: RuntimeWarning: invalid value encountered in true_divide\n",
      "\u001b[2m\u001b[36m(pid=62076)\u001b[0m   type=str,\n"
     ]
    },
    {
     "name": "stdout",
     "output_type": "stream",
     "text": [
      "\u001b[2m\u001b[36m(pid=62063)\u001b[0m White Loss\n",
      "\u001b[2m\u001b[36m(pid=62063)\u001b[0m Episode 2\n",
      "\u001b[2m\u001b[36m(pid=62079)\u001b[0m Playing against self\n",
      "\u001b[2m\u001b[36m(pid=62079)\u001b[0m Episode 1\n"
     ]
    },
    {
     "name": "stderr",
     "output_type": "stream",
     "text": [
      "\u001b[2m\u001b[36m(pid=62079)\u001b[0m /home/ec2-user/.local/lib/python3.6/site-packages/ray/workers/default_worker.py:58: RuntimeWarning: invalid value encountered in true_divide\n",
      "\u001b[2m\u001b[36m(pid=62079)\u001b[0m   type=str,\n"
     ]
    },
    {
     "name": "stdout",
     "output_type": "stream",
     "text": [
      "\u001b[2m\u001b[36m(pid=62064)\u001b[0m Draw\n",
      "\u001b[2m\u001b[36m(pid=62064)\u001b[0m WARNING DELETING EXPERIENCES\n",
      "\u001b[2m\u001b[36m(pid=62064)\u001b[0m Episode 2\n",
      "\u001b[2m\u001b[36m(pid=62065)\u001b[0m Draw\n",
      "\u001b[2m\u001b[36m(pid=62065)\u001b[0m WARNING DELETING EXPERIENCES\n",
      "\u001b[2m\u001b[36m(pid=62065)\u001b[0m Episode 2\n",
      "\u001b[2m\u001b[36m(pid=62071)\u001b[0m White Won\n",
      "\u001b[2m\u001b[36m(pid=62071)\u001b[0m Episode 2\n",
      "\u001b[2m\u001b[36m(pid=62065)\u001b[0m White Loss\n",
      "\u001b[2m\u001b[36m(pid=62065)\u001b[0m Episode 3\n",
      "\u001b[2m\u001b[36m(pid=62074)\u001b[0m Draw\n",
      "\u001b[2m\u001b[36m(pid=62074)\u001b[0m WARNING DELETING EXPERIENCES\n",
      "\u001b[2m\u001b[36m(pid=62074)\u001b[0m Episode 2\n",
      "\u001b[2m\u001b[36m(pid=62069)\u001b[0m Draw\n",
      "\u001b[2m\u001b[36m(pid=62069)\u001b[0m WARNING DELETING EXPERIENCES\n",
      "\u001b[2m\u001b[36m(pid=62069)\u001b[0m Episode 2\n",
      "\u001b[2m\u001b[36m(pid=62077)\u001b[0m Draw\n",
      "\u001b[2m\u001b[36m(pid=62077)\u001b[0m WARNING DELETING EXPERIENCES\n",
      "\u001b[2m\u001b[36m(pid=62077)\u001b[0m Episode 2\n",
      "\u001b[2m\u001b[36m(pid=62066)\u001b[0m Draw\n",
      "\u001b[2m\u001b[36m(pid=62066)\u001b[0m WARNING DELETING EXPERIENCES\n",
      "\u001b[2m\u001b[36m(pid=62066)\u001b[0m Episode 2\n",
      "\u001b[2m\u001b[36m(pid=62072)\u001b[0m Draw\n",
      "\u001b[2m\u001b[36m(pid=62072)\u001b[0m WARNING DELETING EXPERIENCES\n",
      "\u001b[2m\u001b[36m(pid=62072)\u001b[0m Episode 2\n",
      "\u001b[2m\u001b[36m(pid=62070)\u001b[0m Draw\n",
      "\u001b[2m\u001b[36m(pid=62070)\u001b[0m WARNING DELETING EXPERIENCES\n",
      "\u001b[2m\u001b[36m(pid=62070)\u001b[0m Episode 2\n",
      "\u001b[2m\u001b[36m(pid=62067)\u001b[0m Draw\n",
      "\u001b[2m\u001b[36m(pid=62067)\u001b[0m WARNING DELETING EXPERIENCES\n",
      "\u001b[2m\u001b[36m(pid=62067)\u001b[0m Episode 2\n",
      "\u001b[2m\u001b[36m(pid=62068)\u001b[0m Draw\n",
      "\u001b[2m\u001b[36m(pid=62068)\u001b[0m WARNING DELETING EXPERIENCES\n",
      "\u001b[2m\u001b[36m(pid=62068)\u001b[0m Episode 2\n",
      "\u001b[2m\u001b[36m(pid=62064)\u001b[0m Draw\n",
      "\u001b[2m\u001b[36m(pid=62064)\u001b[0m WARNING DELETING EXPERIENCES\n",
      "\u001b[2m\u001b[36m(pid=62064)\u001b[0m Episode 3\n",
      "\u001b[2m\u001b[36m(pid=62063)\u001b[0m Draw\n",
      "\u001b[2m\u001b[36m(pid=62063)\u001b[0m WARNING DELETING EXPERIENCES\n",
      "\u001b[2m\u001b[36m(pid=62063)\u001b[0m Episode 3\n",
      "\u001b[2m\u001b[36m(pid=62065)\u001b[0m Draw\n",
      "\u001b[2m\u001b[36m(pid=62065)\u001b[0m WARNING DELETING EXPERIENCES\n",
      "\u001b[2m\u001b[36m(pid=62065)\u001b[0m Episode 4\n",
      "\u001b[2m\u001b[36m(pid=62071)\u001b[0m Draw\n",
      "\u001b[2m\u001b[36m(pid=62071)\u001b[0m WARNING DELETING EXPERIENCES\n",
      "\u001b[2m\u001b[36m(pid=62071)\u001b[0m Episode 3\n",
      "\u001b[2m\u001b[36m(pid=62074)\u001b[0m Draw\n",
      "\u001b[2m\u001b[36m(pid=62074)\u001b[0m WARNING DELETING EXPERIENCES\n",
      "\u001b[2m\u001b[36m(pid=62074)\u001b[0m Episode 3\n",
      "\u001b[2m\u001b[36m(pid=62076)\u001b[0m Draw\n",
      "\u001b[2m\u001b[36m(pid=62076)\u001b[0m WARNING DELETING EXPERIENCES\n",
      "\u001b[2m\u001b[36m(pid=62076)\u001b[0m Episode 2\n",
      "\u001b[2m\u001b[36m(pid=62073)\u001b[0m Draw\n",
      "\u001b[2m\u001b[36m(pid=62073)\u001b[0m WARNING DELETING EXPERIENCES\n",
      "\u001b[2m\u001b[36m(pid=62073)\u001b[0m Episode 2\n",
      "\u001b[2m\u001b[36m(pid=62079)\u001b[0m Draw\n",
      "\u001b[2m\u001b[36m(pid=62079)\u001b[0m WARNING DELETING EXPERIENCES\n",
      "\u001b[2m\u001b[36m(pid=62079)\u001b[0m Episode 2\n",
      "\u001b[2m\u001b[36m(pid=62066)\u001b[0m Draw\n",
      "\u001b[2m\u001b[36m(pid=62066)\u001b[0m WARNING DELETING EXPERIENCES\n",
      "\u001b[2m\u001b[36m(pid=62066)\u001b[0m Episode 3\n",
      "\u001b[2m\u001b[36m(pid=62077)\u001b[0m Draw\n",
      "\u001b[2m\u001b[36m(pid=62077)\u001b[0m WARNING DELETING EXPERIENCES\n",
      "\u001b[2m\u001b[36m(pid=62077)\u001b[0m Episode 3\n",
      "\u001b[2m\u001b[36m(pid=62079)\u001b[0m White Loss\n",
      "\u001b[2m\u001b[36m(pid=62079)\u001b[0m Episode 3\n",
      "\u001b[2m\u001b[36m(pid=62072)\u001b[0m Draw\n",
      "\u001b[2m\u001b[36m(pid=62072)\u001b[0m WARNING DELETING EXPERIENCES\n",
      "\u001b[2m\u001b[36m(pid=62072)\u001b[0m Episode 3\n",
      "\u001b[2m\u001b[36m(pid=62065)\u001b[0m White Won\n",
      "\u001b[2m\u001b[36m(pid=62065)\u001b[0m Episode 5\n",
      "\u001b[2m\u001b[36m(pid=62075)\u001b[0m Draw\n",
      "\u001b[2m\u001b[36m(pid=62075)\u001b[0m WARNING DELETING EXPERIENCES\n",
      "\u001b[2m\u001b[36m(pid=62075)\u001b[0m Episode 2\n",
      "\u001b[2m\u001b[36m(pid=62068)\u001b[0m Draw\n",
      "\u001b[2m\u001b[36m(pid=62068)\u001b[0m WARNING DELETING EXPERIENCES\n",
      "\u001b[2m\u001b[36m(pid=62068)\u001b[0m Episode 3\n",
      "\u001b[2m\u001b[36m(pid=62069)\u001b[0m Draw\n",
      "\u001b[2m\u001b[36m(pid=62069)\u001b[0m WARNING DELETING EXPERIENCES\n",
      "\u001b[2m\u001b[36m(pid=62069)\u001b[0m Episode 3\n",
      "\u001b[2m\u001b[36m(pid=62076)\u001b[0m Draw\n",
      "\u001b[2m\u001b[36m(pid=62076)\u001b[0m WARNING DELETING EXPERIENCES\n",
      "\u001b[2m\u001b[36m(pid=62076)\u001b[0m Episode 3\n",
      "\u001b[2m\u001b[36m(pid=62071)\u001b[0m Draw\n",
      "\u001b[2m\u001b[36m(pid=62071)\u001b[0m WARNING DELETING EXPERIENCES\n",
      "\u001b[2m\u001b[36m(pid=62071)\u001b[0m Episode 4\n",
      "\u001b[2m\u001b[36m(pid=62063)\u001b[0m Draw\n",
      "\u001b[2m\u001b[36m(pid=62063)\u001b[0m WARNING DELETING EXPERIENCES\n",
      "\u001b[2m\u001b[36m(pid=62063)\u001b[0m Episode 4\n",
      "\u001b[2m\u001b[36m(pid=62075)\u001b[0m White Won\n",
      "\u001b[2m\u001b[36m(pid=62075)\u001b[0m Episode 3\n",
      "\u001b[2m\u001b[36m(pid=62067)\u001b[0m Draw\n",
      "\u001b[2m\u001b[36m(pid=62067)\u001b[0m WARNING DELETING EXPERIENCES\n",
      "\u001b[2m\u001b[36m(pid=62067)\u001b[0m Episode 3\n",
      "\u001b[2m\u001b[36m(pid=62070)\u001b[0m Draw\n",
      "\u001b[2m\u001b[36m(pid=62070)\u001b[0m WARNING DELETING EXPERIENCES\n",
      "\u001b[2m\u001b[36m(pid=62070)\u001b[0m Episode 3\n",
      "\u001b[2m\u001b[36m(pid=62073)\u001b[0m Draw\n",
      "\u001b[2m\u001b[36m(pid=62073)\u001b[0m WARNING DELETING EXPERIENCES\n",
      "\u001b[2m\u001b[36m(pid=62073)\u001b[0m Episode 3\n",
      "\u001b[2m\u001b[36m(pid=62077)\u001b[0m Draw\n",
      "\u001b[2m\u001b[36m(pid=62077)\u001b[0m WARNING DELETING EXPERIENCES\n",
      "\u001b[2m\u001b[36m(pid=62077)\u001b[0m Episode 4\n",
      "\u001b[2m\u001b[36m(pid=62066)\u001b[0m Draw\n",
      "\u001b[2m\u001b[36m(pid=62066)\u001b[0m WARNING DELETING EXPERIENCES\n",
      "\u001b[2m\u001b[36m(pid=62066)\u001b[0m Episode 4\n",
      "\u001b[2m\u001b[36m(pid=62063)\u001b[0m White Won\n",
      "\u001b[2m\u001b[36m(pid=62063)\u001b[0m Episode 5\n",
      "\u001b[2m\u001b[36m(pid=62064)\u001b[0m Draw\n",
      "\u001b[2m\u001b[36m(pid=62064)\u001b[0m WARNING DELETING EXPERIENCES\n",
      "\u001b[2m\u001b[36m(pid=62064)\u001b[0m Episode 4\n",
      "\u001b[2m\u001b[36m(pid=62079)\u001b[0m Draw\n",
      "\u001b[2m\u001b[36m(pid=62079)\u001b[0m WARNING DELETING EXPERIENCES\n",
      "\u001b[2m\u001b[36m(pid=62079)\u001b[0m Episode 4\n",
      "\u001b[2m\u001b[36m(pid=62069)\u001b[0m Draw\n",
      "\u001b[2m\u001b[36m(pid=62069)\u001b[0m WARNING DELETING EXPERIENCES\n",
      "\u001b[2m\u001b[36m(pid=62069)\u001b[0m Episode 4\n",
      "\u001b[2m\u001b[36m(pid=62065)\u001b[0m Draw\n",
      "\u001b[2m\u001b[36m(pid=62065)\u001b[0m WARNING DELETING EXPERIENCES\n",
      "\u001b[2m\u001b[36m(pid=62076)\u001b[0m Draw\n",
      "\u001b[2m\u001b[36m(pid=62076)\u001b[0m WARNING DELETING EXPERIENCES\n",
      "\u001b[2m\u001b[36m(pid=62076)\u001b[0m Episode 4\n",
      "\u001b[2m\u001b[36m(pid=62072)\u001b[0m Draw\n",
      "\u001b[2m\u001b[36m(pid=62072)\u001b[0m WARNING DELETING EXPERIENCES\n",
      "\u001b[2m\u001b[36m(pid=62072)\u001b[0m Episode 4\n",
      "\u001b[2m\u001b[36m(pid=62063)\u001b[0m White Loss\n",
      "\u001b[2m\u001b[36m(pid=62074)\u001b[0m Draw\n",
      "\u001b[2m\u001b[36m(pid=62074)\u001b[0m WARNING DELETING EXPERIENCES\n",
      "\u001b[2m\u001b[36m(pid=62074)\u001b[0m Episode 4\n",
      "\u001b[2m\u001b[36m(pid=62070)\u001b[0m Draw\n",
      "\u001b[2m\u001b[36m(pid=62070)\u001b[0m WARNING DELETING EXPERIENCES\n",
      "\u001b[2m\u001b[36m(pid=62070)\u001b[0m Episode 4\n",
      "\u001b[2m\u001b[36m(pid=62067)\u001b[0m Draw\n",
      "\u001b[2m\u001b[36m(pid=62067)\u001b[0m WARNING DELETING EXPERIENCES\n",
      "\u001b[2m\u001b[36m(pid=62067)\u001b[0m Episode 4\n",
      "\u001b[2m\u001b[36m(pid=62071)\u001b[0m Draw\n",
      "\u001b[2m\u001b[36m(pid=62071)\u001b[0m WARNING DELETING EXPERIENCES\n",
      "\u001b[2m\u001b[36m(pid=62071)\u001b[0m Episode 5\n",
      "\u001b[2m\u001b[36m(pid=62068)\u001b[0m Draw\n",
      "\u001b[2m\u001b[36m(pid=62068)\u001b[0m WARNING DELETING EXPERIENCES\n",
      "\u001b[2m\u001b[36m(pid=62068)\u001b[0m Episode 4\n",
      "\u001b[2m\u001b[36m(pid=62075)\u001b[0m Draw\n",
      "\u001b[2m\u001b[36m(pid=62075)\u001b[0m WARNING DELETING EXPERIENCES\n",
      "\u001b[2m\u001b[36m(pid=62075)\u001b[0m Episode 4\n",
      "\u001b[2m\u001b[36m(pid=62077)\u001b[0m Draw\n",
      "\u001b[2m\u001b[36m(pid=62077)\u001b[0m WARNING DELETING EXPERIENCES\n",
      "\u001b[2m\u001b[36m(pid=62077)\u001b[0m Episode 5\n",
      "\u001b[2m\u001b[36m(pid=62079)\u001b[0m Draw\n",
      "\u001b[2m\u001b[36m(pid=62079)\u001b[0m WARNING DELETING EXPERIENCES\n",
      "\u001b[2m\u001b[36m(pid=62079)\u001b[0m Episode 5\n",
      "\u001b[2m\u001b[36m(pid=62066)\u001b[0m Draw\n",
      "\u001b[2m\u001b[36m(pid=62066)\u001b[0m WARNING DELETING EXPERIENCES\n",
      "\u001b[2m\u001b[36m(pid=62066)\u001b[0m Episode 5\n",
      "\u001b[2m\u001b[36m(pid=62064)\u001b[0m Draw\n",
      "\u001b[2m\u001b[36m(pid=62064)\u001b[0m WARNING DELETING EXPERIENCES\n",
      "\u001b[2m\u001b[36m(pid=62064)\u001b[0m Episode 5\n",
      "\u001b[2m\u001b[36m(pid=62073)\u001b[0m Draw\n",
      "\u001b[2m\u001b[36m(pid=62073)\u001b[0m WARNING DELETING EXPERIENCES\n",
      "\u001b[2m\u001b[36m(pid=62073)\u001b[0m Episode 4\n",
      "\u001b[2m\u001b[36m(pid=62072)\u001b[0m Draw\n",
      "\u001b[2m\u001b[36m(pid=62072)\u001b[0m WARNING DELETING EXPERIENCES\n",
      "\u001b[2m\u001b[36m(pid=62072)\u001b[0m Episode 5\n",
      "\u001b[2m\u001b[36m(pid=62069)\u001b[0m Draw\n",
      "\u001b[2m\u001b[36m(pid=62069)\u001b[0m WARNING DELETING EXPERIENCES\n",
      "\u001b[2m\u001b[36m(pid=62069)\u001b[0m Episode 5\n",
      "\u001b[2m\u001b[36m(pid=62074)\u001b[0m White Loss\n",
      "\u001b[2m\u001b[36m(pid=62074)\u001b[0m Episode 5\n",
      "\u001b[2m\u001b[36m(pid=62076)\u001b[0m Draw\n",
      "\u001b[2m\u001b[36m(pid=62076)\u001b[0m WARNING DELETING EXPERIENCES\n",
      "\u001b[2m\u001b[36m(pid=62076)\u001b[0m Episode 5\n",
      "\u001b[2m\u001b[36m(pid=62070)\u001b[0m Draw\n",
      "\u001b[2m\u001b[36m(pid=62070)\u001b[0m WARNING DELETING EXPERIENCES\n",
      "\u001b[2m\u001b[36m(pid=62070)\u001b[0m Episode 5\n",
      "\u001b[2m\u001b[36m(pid=62071)\u001b[0m Draw\n",
      "\u001b[2m\u001b[36m(pid=62071)\u001b[0m WARNING DELETING EXPERIENCES\n",
      "\u001b[2m\u001b[36m(pid=62079)\u001b[0m White Won\n",
      "\u001b[2m\u001b[36m(pid=62070)\u001b[0m White Loss\n",
      "\u001b[2m\u001b[36m(pid=62066)\u001b[0m Draw\n",
      "\u001b[2m\u001b[36m(pid=62066)\u001b[0m WARNING DELETING EXPERIENCES\n",
      "\u001b[2m\u001b[36m(pid=62067)\u001b[0m Draw\n",
      "\u001b[2m\u001b[36m(pid=62067)\u001b[0m WARNING DELETING EXPERIENCES\n",
      "\u001b[2m\u001b[36m(pid=62067)\u001b[0m Episode 5\n",
      "\u001b[2m\u001b[36m(pid=62068)\u001b[0m Draw\n",
      "\u001b[2m\u001b[36m(pid=62068)\u001b[0m WARNING DELETING EXPERIENCES\n",
      "\u001b[2m\u001b[36m(pid=62068)\u001b[0m Episode 5\n",
      "\u001b[2m\u001b[36m(pid=62075)\u001b[0m Draw\n",
      "\u001b[2m\u001b[36m(pid=62075)\u001b[0m WARNING DELETING EXPERIENCES\n",
      "\u001b[2m\u001b[36m(pid=62075)\u001b[0m Episode 5\n",
      "\u001b[2m\u001b[36m(pid=62077)\u001b[0m Draw\n",
      "\u001b[2m\u001b[36m(pid=62077)\u001b[0m WARNING DELETING EXPERIENCES\n",
      "\u001b[2m\u001b[36m(pid=62069)\u001b[0m Draw\n",
      "\u001b[2m\u001b[36m(pid=62069)\u001b[0m WARNING DELETING EXPERIENCES\n",
      "\u001b[2m\u001b[36m(pid=62067)\u001b[0m White Loss\n",
      "\u001b[2m\u001b[36m(pid=62072)\u001b[0m Draw\n",
      "\u001b[2m\u001b[36m(pid=62072)\u001b[0m WARNING DELETING EXPERIENCES\n",
      "\u001b[2m\u001b[36m(pid=62076)\u001b[0m Draw\n",
      "\u001b[2m\u001b[36m(pid=62076)\u001b[0m WARNING DELETING EXPERIENCES\n",
      "\u001b[2m\u001b[36m(pid=62064)\u001b[0m Draw\n",
      "\u001b[2m\u001b[36m(pid=62064)\u001b[0m WARNING DELETING EXPERIENCES\n",
      "\u001b[2m\u001b[36m(pid=62074)\u001b[0m Draw\n",
      "\u001b[2m\u001b[36m(pid=62074)\u001b[0m WARNING DELETING EXPERIENCES\n",
      "\u001b[2m\u001b[36m(pid=62075)\u001b[0m Draw\n",
      "\u001b[2m\u001b[36m(pid=62075)\u001b[0m WARNING DELETING EXPERIENCES\n",
      "\u001b[2m\u001b[36m(pid=62073)\u001b[0m Draw\n",
      "\u001b[2m\u001b[36m(pid=62073)\u001b[0m WARNING DELETING EXPERIENCES\n",
      "\u001b[2m\u001b[36m(pid=62073)\u001b[0m Episode 5\n",
      "\u001b[2m\u001b[36m(pid=62068)\u001b[0m Draw\n",
      "\u001b[2m\u001b[36m(pid=62068)\u001b[0m WARNING DELETING EXPERIENCES\n"
     ]
    },
    {
     "name": "stdout",
     "output_type": "stream",
     "text": [
      "\u001b[2m\u001b[36m(pid=62073)\u001b[0m Draw\n",
      "\u001b[2m\u001b[36m(pid=62073)\u001b[0m WARNING DELETING EXPERIENCES\n",
      "100 ACTOR LOSS 4015.35107421875 | CRITIC LOSS 0.7525320053100586\n",
      "101 ACTOR LOSS 5236.04296875 | CRITIC LOSS 0.014740211889147758\n",
      "102 ACTOR LOSS 4028.24658203125 | CRITIC LOSS 0.011836422607302666\n",
      "103 ACTOR LOSS 5537.95068359375 | CRITIC LOSS 0.021024435758590698\n",
      "104 ACTOR LOSS 5224.396484375 | CRITIC LOSS 0.017260776832699776\n",
      "105 ACTOR LOSS 5500.53076171875 | CRITIC LOSS 0.011682040989398956\n",
      "106 ACTOR LOSS 5739.1640625 | CRITIC LOSS 0.015083547681570053\n",
      "107 ACTOR LOSS 5851.525390625 | CRITIC LOSS 0.2860942482948303\n",
      "108 ACTOR LOSS 5944.177734375 | CRITIC LOSS 0.008662289008498192\n",
      "109 ACTOR LOSS 5973.22265625 | CRITIC LOSS 0.012524728663265705\n",
      "110 ACTOR LOSS 5778.638671875 | CRITIC LOSS 0.006345681846141815\n",
      "111 ACTOR LOSS 6023.8994140625 | CRITIC LOSS 0.0100907813757658\n",
      "112 ACTOR LOSS 4351.6884765625 | CRITIC LOSS 0.006683114916086197\n",
      "113 ACTOR LOSS 5837.9306640625 | CRITIC LOSS 0.012138938531279564\n",
      "114 ACTOR LOSS 6000.92626953125 | CRITIC LOSS 0.013726770877838135\n",
      "115 ACTOR LOSS 5918.8740234375 | CRITIC LOSS 0.012099195271730423\n",
      "116 ACTOR LOSS 5950.3173828125 | CRITIC LOSS 0.006513359025120735\n",
      "117 ACTOR LOSS 5942.5107421875 | CRITIC LOSS 0.010462738573551178\n",
      "118 ACTOR LOSS 6034.15283203125 | CRITIC LOSS 0.008327383548021317\n",
      "119 ACTOR LOSS 6060.5224609375 | CRITIC LOSS 0.010122045874595642\n",
      "120 ACTOR LOSS 5929.59912109375 | CRITIC LOSS 0.00898444838821888\n",
      "121 ACTOR LOSS 6076.38037109375 | CRITIC LOSS 0.0054207718931138515\n",
      "122 ACTOR LOSS 5880.40234375 | CRITIC LOSS 0.017602358013391495\n",
      "123 ACTOR LOSS 5987.296875 | CRITIC LOSS 0.04378461837768555\n",
      "124 ACTOR LOSS 5977.96630859375 | CRITIC LOSS 0.004286512266844511\n",
      "125 ACTOR LOSS 5947.44482421875 | CRITIC LOSS 0.009379999712109566\n",
      "126 ACTOR LOSS 5998.849609375 | CRITIC LOSS 0.007822524756193161\n",
      "127 ACTOR LOSS 5837.53759765625 | CRITIC LOSS 0.012663057073950768\n",
      "128 ACTOR LOSS 6087.9697265625 | CRITIC LOSS 0.008538471534848213\n",
      "129 ACTOR LOSS 5987.888671875 | CRITIC LOSS 0.007458406500518322\n",
      "130 ACTOR LOSS 5832.09619140625 | CRITIC LOSS 0.009172781370580196\n",
      "131 ACTOR LOSS 5942.5146484375 | CRITIC LOSS 0.006133061833679676\n",
      "132 ACTOR LOSS 5906.46240234375 | CRITIC LOSS 0.011356160044670105\n",
      "133 ACTOR LOSS 5854.21240234375 | CRITIC LOSS 0.007201438769698143\n",
      "134 ACTOR LOSS 6001.052734375 | CRITIC LOSS 0.007576322183012962\n",
      "135 ACTOR LOSS 5861.93359375 | CRITIC LOSS 0.011597766540944576\n",
      "136 ACTOR LOSS 5941.9697265625 | CRITIC LOSS 0.005183788947761059\n",
      "137 ACTOR LOSS 5906.96875 | CRITIC LOSS 0.010483906604349613\n",
      "138 ACTOR LOSS 5974.29052734375 | CRITIC LOSS 0.0034529524855315685\n",
      "139 ACTOR LOSS 5743.5 | CRITIC LOSS 0.006950093433260918\n",
      "140 ACTOR LOSS 5936.21142578125 | CRITIC LOSS 0.0032273931428790092\n",
      "141 ACTOR LOSS 5873.97705078125 | CRITIC LOSS 0.007526444271206856\n",
      "142 ACTOR LOSS 5914.22021484375 | CRITIC LOSS 0.0034595937468111515\n",
      "143 ACTOR LOSS 6042.81640625 | CRITIC LOSS 0.006935227662324905\n",
      "144 ACTOR LOSS 5825.67578125 | CRITIC LOSS 0.03637662157416344\n",
      "145 ACTOR LOSS 5965.01171875 | CRITIC LOSS 0.008926454931497574\n",
      "146 ACTOR LOSS 6058.46435546875 | CRITIC LOSS 0.007113446947187185\n",
      "147 ACTOR LOSS 5903.21435546875 | CRITIC LOSS 0.004772041458636522\n",
      "148 ACTOR LOSS 6004.2919921875 | CRITIC LOSS 0.011000080965459347\n",
      "149 ACTOR LOSS 5907.30908203125 | CRITIC LOSS 0.006228158250451088\n",
      "150 ACTOR LOSS 5898.357421875 | CRITIC LOSS 0.004064460750669241\n",
      "151 ACTOR LOSS 6087.0185546875 | CRITIC LOSS 0.002795003354549408\n",
      "152 ACTOR LOSS 6125.20947265625 | CRITIC LOSS 0.0027585523203015327\n"
     ]
    }
   ],
   "source": [
    "class Coach():\n",
    "    \"\"\"\n",
    "    This class executes the self-play + learning. It uses the functions defined\n",
    "    in Game and NeuralNet. args are specified in main.py.\n",
    "    \"\"\"\n",
    "\n",
    "    def __init__(self, env, agent, params):\n",
    "        self.iterations = params['iterations']\n",
    "        self.episodes = params['episodes']\n",
    "        self.queue_length = params['queue_length']\n",
    "        self.simulations = params['simulations']\n",
    "        self.train_times = params['train_times']\n",
    "        self.memory_samples = params['memory_samples']\n",
    "        self.eval_games = params['eval_games']\n",
    "        self.improv_pct = params['improv_pct']\n",
    "        self.env = deepcopy(env)\n",
    "        self.agent = agent\n",
    "        self.previous_agent = None\n",
    "        self.trainExamplesHistory = []  # history of examples from args.numItersForTrainExamplesHistory latest iterations\n",
    "        self.games = 0\n",
    "        \n",
    "        params = {\n",
    "            'capacity' : params['capacity'],\n",
    "            'gamma' : 0.98\n",
    "        } \n",
    "        \n",
    "        self.memory = EpisodicReplayBuffer(params)\n",
    "        \n",
    "    @ray.remote   \n",
    "    def execute_iterations(self, agent, game, episodes, opponent = None, train = True):\n",
    "        \"\"\"Executes several episodes while preserving the MCTS search tree to speed up inference drastically\"\"\"\n",
    "        mcts_white = MCTS(deepcopy(self.env), deepcopy(agent), mcts_simulations = self.simulations)\n",
    "        \n",
    "        if opponent == None:\n",
    "            print('Playing against self')\n",
    "            mcts_black = MCTS(deepcopy(self.env), deepcopy(agent), mcts_simulations = self.simulations)\n",
    "        else:\n",
    "            print('Playing against opponent')\n",
    "            mcts_black = MCTS(deepcopy(self.env), deepcopy(opponent), mcts_simulations = self.simulations)\n",
    "        \n",
    "#         print('Not using random controller')\n",
    "#         mcts_black.agent.random_controller()\n",
    "        \n",
    "        episodes_ = []\n",
    "\n",
    "        for idx in range(1, episodes + 1):\n",
    "            print(f'Episode {idx}')\n",
    "            experiences, mcts_white, mcts_black = self.execute_episode(self.agent, game + idx + (idx * episodes), mcts_white, mcts_black, train)\n",
    "            episodes_.append(experiences)\n",
    "        \n",
    "        return episodes_\n",
    "            \n",
    "\n",
    "    def execute_episode(self, agent, game, mcts_white, mcts_black, train):\n",
    "        \"\"\"\n",
    "        This function executes one episode of self-play, starting with player 1.\n",
    "        As the game is played, each turn is added as a training example to\n",
    "        trainExamples. The game is played till the game ends. After the game\n",
    "        ends, the outcome of the game is used to assign values to each example\n",
    "        in trainExamples.\n",
    "        Returns:\n",
    "            trainExamples: a list of examples of the form (canonicalBoard, currPlayer, pi,v)\n",
    "                           pi is the MCTS informed policy vector, v is +1 if\n",
    "                           the player eventually won the game, else -1.\n",
    "        \"\"\"\n",
    "        env = Chess_Environment()\n",
    "        experiences = []\n",
    "        mean_qs = []\n",
    "        agent.reset(1)\n",
    "\n",
    "       \n",
    "        game_move = 0\n",
    "        \n",
    "        terminal_test = env.terminal_test()\n",
    "        while not terminal_test:\n",
    "            encoded_state = env.encode()\n",
    "            if env.whites_turn: \n",
    "                action_probs, zh, mean_q = mcts_white.action_probabilities(encoded_state)\n",
    "            else:\n",
    "                action_probs, zh, mean_q = mcts_black.action_probabilities(encoded_state)\n",
    "\n",
    "            if env.whites_turn:\n",
    "                experiences.append([zh.detach().cpu().numpy(), action_probs, 1, terminal_test, mean_q]) # mask is 'not done'\n",
    "            action = random.choices(list(action_probs.keys()), weights = action_probs.values(), k = 1)[0]\n",
    "            _, _ = env.step(action)\n",
    "    \n",
    "            game_move += 1\n",
    "            terminal_test = env.terminal_test()\n",
    "        \n",
    "        reward = env.result()\n",
    "        if not env.whites_turn and ((reward == 1) or (reward == -1)):\n",
    "            reward = reward * -1\n",
    "        \n",
    "        experiences[-1][-1] = 0 # mask is 'not done'\n",
    "        experiences[-1][-2] = reward\n",
    "        \n",
    "        if reward == -1:\n",
    "            print(f\"White Loss\")\n",
    "        elif reward == 1:\n",
    "            print(f\"White Won\")\n",
    "        else:\n",
    "            print(f\"Draw\")\n",
    "            if train:\n",
    "                print(\"WARNING DELETING EXPERIENCES\")\n",
    "                return None, mcts_white, mcts_black\n",
    "                \n",
    "        return experiences, mcts_white, mcts_black\n",
    "    \n",
    "    def learn(self, ray):    \n",
    "#     def learn(self):\n",
    "        \"\"\"\n",
    "        Performs numIters iterations with numEps episodes of self-play in each\n",
    "        iteration. After every iteration, it retrains neural network with\n",
    "        examples in trainExamples (which has a maximum length of maxlenofQueue).\n",
    "        It then pits the new neural network against the old one and accepts it\n",
    "        only if it wins >= updateThreshold fraction of games.\n",
    "        \"\"\"\n",
    "        print(\"LEARNING\")\n",
    "#         for i in range(1, self.iterations + 1):\n",
    "        if PARALLEL:\n",
    "            episodes = ray.get([self.execute_iterations.remote(self, self.agent, self.games + idx, self.episodes) for idx in range(self.iterations)])\n",
    "        else:\n",
    "            episodes = [self.execute_iterations(self.agent, self.games + idx, self.episodes) for idx in range(self.iterations)]\n",
    "        \n",
    "        episodes = [item for sublist in episodes for item in sublist]\n",
    "        self.games += len(episodes) \n",
    "        \n",
    "        if episodes is not None:\n",
    "            self.memory.add(episodes)\n",
    "        for _ in range(self.train_times):\n",
    "            episodes = self.memory.sample(self.memory_samples)\n",
    "            if episodes is not None:\n",
    "                self.agent.train(episodes)\n",
    "\n",
    "#         # training new network, keeping a copy of the old one\n",
    "#         self.nnet.save_checkpoint(folder=self.args.checkpoint, filename='temp.pth.tar')\n",
    "#         self.pnet.load_checkpoint(folder=self.args.checkpoint, filename='temp.pth.tar')\n",
    "#         pmcts = MCTS(self.game, self.pnet, self.args)\n",
    "\n",
    "#         \n",
    "#         nmcts = MCTS(self.game, self.nnet, self.args)\n",
    "\n",
    "#         log.info('PITTING AGAINST PREVIOUS VERSION')\n",
    "#         arena = Arena(lambda x: np.argmax(pmcts.getActionProb(x, temp=0)),\n",
    "#                           lambda x: np.argmax(nmcts.getActionProb(x, temp=0)), self.game)\n",
    "#         pwins, nwins, draws = arena.playGames(self.args.arenaCompare)\n",
    "\n",
    "#         log.info('NEW/PREV WINS : %d / %d ; DRAWS : %d' % (nwins, pwins, draws))\n",
    "#         if pwins + nwins == 0 or float(nwins) / (pwins + nwins) < self.args.updateThreshold:\n",
    "#             log.info('REJECTING NEW MODEL')\n",
    "#             self.nnet.load_checkpoint(folder=self.args.checkpoint, filename='temp.pth.tar')\n",
    "#         else:\n",
    "#             log.info('ACCEPTING NEW MODEL')\n",
    "#             self.nnet.save_checkpoint(folder=self.args.checkpoint, filename=self.getCheckpointFile(i))\n",
    "#             self.nnet.save_checkpoint(folder=self.args.checkpoint, filename='best.pth.tar')\n",
    "    def evaluate(self, ray, count):   \n",
    "#     def evaluate(self, count):\n",
    "        \"\"\"Plays X number of games between the latest trained version vs the previous version of the agent\"\"\"\n",
    "        print(\"EVALUATING\")\n",
    "        if self.previous_agent == None:\n",
    "            print('Copying Current Network to Previous Network as Previous Network is None')\n",
    "            self.previous_agent = deepcopy(self.agent)\n",
    "\n",
    "        game = 0\n",
    "\n",
    "        if PARALLEL:\n",
    "            episodes = ray.get([self.execute_iterations.remote(self, self.agent, 0, 1, opponent = deepcopy(self.previous_agent), train = False) for idx in range(self.eval_games)])\n",
    "        else:\n",
    "            episodes = [self.execute_iterations(self.agent, 0, 1, opponent = deepcopy(self.previous_agent), train = False) for idx in range(self.eval_games)]\n",
    "        \n",
    "        episodes = [item for sublist in episodes for item in sublist]\n",
    "        draws = 0\n",
    "        wins = 0\n",
    "        losses = 0\n",
    "        \n",
    "        for experiences in episodes:\n",
    "            result = experiences[-1][-2]\n",
    "#             _, _, rewards, _, _ = zip(*experiences)\n",
    "            if result == 0:\n",
    "                draws += 1\n",
    "            elif result > 0:\n",
    "                wins += 1\n",
    "            else:\n",
    "                losses += 1\n",
    "            \n",
    "        total_games = sum([wins, losses, draws])\n",
    "        win_pct = round(wins / total_games, 2)\n",
    "        loss_pct = round(losses / total_games, 2)\n",
    "        draw_pct = round(draws / total_games, 2)  \n",
    "        total_win_loss = sum([wins, losses])\n",
    "        \n",
    "        print(f'Wins {wins} {win_pct}% | Draws {draws} {draw_pct}% | Losses {losses} {loss_pct}%')\n",
    "        \n",
    "        if total_win_loss > 0 and wins / total_win_loss >= self.improv_pct:\n",
    "            print(\"New Network was better.. Flushing memory\")\n",
    "            self.previous_agent = deepcopy(self.agent)\n",
    "            self.memory.reset_memory()\n",
    "            self.agent.actor.save_model(count)\n",
    "            self.agent.critic.save_model(count)\n",
    "        else:\n",
    "            print(\"Old Network was better\")\n",
    "            self.agent = deepcopy(self.previous_agent)\n",
    "                \n",
    "if PARALLEL:\n",
    "    params = {\n",
    "        'capacity': 1000,\n",
    "        'iterations': 16,\n",
    "        'episodes': 5,\n",
    "        'queue_length' : 2000,\n",
    "        'simulations' : 200,\n",
    "        'train_times' : 100,\n",
    "        'save_freq' : 100,\n",
    "        'memory_samples' : 100,\n",
    "        'batch_size' : 1024,\n",
    "        'eval_games' : 16,\n",
    "        'improv_pct' : 0.55,\n",
    "        'learn_rates' : [0.2, 0.02, 0.002, 0.0002],\n",
    "        'learn_steps' : [0, 5, 10000, 100000],\n",
    "    }\n",
    "else:\n",
    "    params = {\n",
    "        'capacity': 50,\n",
    "        'iterations': 1,\n",
    "        'episodes': 5,\n",
    "        'queue_length' : 2000,\n",
    "        'simulations' : 2,\n",
    "        'train_times' : 10,\n",
    "        'save_freq' : 10,\n",
    "        'memory_samples' : 32,\n",
    "        'batch_size' : 128,\n",
    "        'eval_games' : 2,\n",
    "        'improv_pct' : 0.55,\n",
    "        'learn_rates' : [0.2, 0.02, 0.002, 0.0002],\n",
    "        'learn_steps' : [0, 1000, 10000, 100000],\n",
    "    }\n",
    "\n",
    "agent = Agent(env.decoder, env.action_size, 'Test', 'Test', 'Test', test_mode = False, train_times = params['train_times'], save_freq = params['save_freq'])\n",
    "agent.reset(1)\n",
    "\n",
    "coach = Coach(env, agent, params)\n",
    "train_steps = 0\n",
    "lr = params['learn_rates'][0]\n",
    "\n",
    "for count in range(1000):\n",
    "    if PARALLEL:\n",
    "        coach.learn(ray)\n",
    "        coach.evaluate(ray, count)\n",
    "    else:\n",
    "        coach.learn()\n",
    "        coach.evaluate(count)\n",
    "        \n",
    "    train_steps += params['train_times']\n",
    "    for idx, learn_steps in enumerate(params['learn_steps']):\n",
    "        if train_steps >= learn_steps and lr > params['learn_rates'][idx]:\n",
    "            lr = params['learn_rates'][idx]\n",
    "            print(f'Train steps {train_steps} > Learn steps {learn_steps}.. Reducing learning rate to {lr}')\n",
    "            coach.agent.actor_optimizer = Adam(coach.agent.actor.parameters(), lr = lr)\n",
    "            coach.agent.critic_optimizer = Adam(coach.agent.critic.parameters(), lr = lr)"
   ]
  },
  {
   "cell_type": "markdown",
   "metadata": {},
   "source": [
    "# EVALUATION"
   ]
  },
  {
   "cell_type": "code",
   "execution_count": null,
   "metadata": {},
   "outputs": [],
   "source": [
    "class MainWindow(QWidget):\n",
    "    def __init__(self):\n",
    "        super().__init__()\n",
    "        self.setGeometry(100, 100, 1100, 1100)\n",
    "        self.widgetSvg = QSvgWidget(parent = self)\n",
    "        self.widgetSvg.setGeometry(10, 10, 1080, 1080)\n",
    "\n",
    "\n",
    "# board = chess.Board()\n",
    "# app = QApplication([])\n",
    "# window = MainWindow()\n",
    "# window.show()\n",
    "# app.exec()"
   ]
  },
  {
   "cell_type": "code",
   "execution_count": null,
   "metadata": {},
   "outputs": [],
   "source": [
    "class Arena:\n",
    "    \"\"\"An Arena where you can have two players fight\"\"\"\n",
    "    \n",
    "    def __init__(self, env, agent):\n",
    "        self.env = env        \n",
    "        self.agent = agent\n",
    "        self.root = tk.Tk()\n",
    "        self.root.withdraw()\n",
    "        self.app = QApplication([])\n",
    "        self.window = MainWindow()\n",
    "    \n",
    "    def vs_human(self):\n",
    "        \"\"\"Fight Against the AI\"\"\"\n",
    "        self.agent = Agent(self.env.decoder, self.env.action_size, 'Test', 'Test', 'Test', test_mode = True)\n",
    "        self.mcts_black = MCTS(deepcopy(self.env), deepcopy(self.agent), mcts_simulations = 20)\n",
    "        \n",
    "        self.env.reset()\n",
    "        self.mcts_black.reset()\n",
    "        game_move = 0\n",
    "        while not self.env.terminal_test():\n",
    "            if not self.env.whites_turn:\n",
    "                encoded_state = self.env.encode()\n",
    "                action_probs, zh, mean_q = self.mcts_black.action_probabilities(encoded_state, evaluate = True)\n",
    "                \n",
    "                figureObject, axesObject = plt.subplots()\n",
    "                # Draw the pie chart\n",
    "                axesObject.pie(list(action_probs.values()), labels = list(action_probs.keys()), autopct = '%1.2f', startangle = 90)\n",
    "                # Aspect ratio - equal means pie is a circl\n",
    "                axesObject.axis('equal')\n",
    "                plt.show()\n",
    "                \n",
    "                \n",
    "                action = random.choices(list(action_probs.keys()), weights = action_probs.values(), k = 1)[0]\n",
    "            else:\n",
    "                legal_actions = self.env.legal_actions() \n",
    "                self.render()\n",
    "                action = simpledialog.askstring(title = \"Move\", prompt = f\"What's your next move?\\n{legal_actions}\")\n",
    "                while action not in legal_actions:\n",
    "                    action = simpledialog.askstring(title = \"Move\", prompt = f\"Invalid Move. What's your next move?\\n{legal_actions}\")\n",
    "                    if action is None:\n",
    "                        break\n",
    "                if action is None:\n",
    "                    break\n",
    "            \n",
    "            _, _ = self.env.step(action)\n",
    "            game_move += 1   \n",
    "        print(env.result())\n",
    "        \n",
    "    def render(self):\n",
    "        \"\"\"Renders the chess board\"\"\"\n",
    "        chessboardSvg = chess.svg.board(self.env.board).encode(\"UTF-8\")\n",
    "        self.window.widgetSvg.load(chessboardSvg)\n",
    "        self.window.show()\n",
    "        self.app.exec()\n",
    "        \n",
    "agent = Agent(env.decoder, env.action_size, 'Test', 'Test', 'Test', test_mode = True)\n",
    "agent.reset(1)\n",
    "\n",
    "arena = Arena(env, agent)\n",
    "arena.vs_human()"
   ]
  },
  {
   "cell_type": "code",
   "execution_count": null,
   "metadata": {},
   "outputs": [],
   "source": []
  },
  {
   "cell_type": "code",
   "execution_count": null,
   "metadata": {},
   "outputs": [],
   "source": []
  },
  {
   "cell_type": "code",
   "execution_count": null,
   "metadata": {},
   "outputs": [],
   "source": []
  },
  {
   "cell_type": "code",
   "execution_count": null,
   "metadata": {},
   "outputs": [],
   "source": []
  },
  {
   "cell_type": "code",
   "execution_count": null,
   "metadata": {},
   "outputs": [],
   "source": []
  }
 ],
 "metadata": {
  "kernelspec": {
   "display_name": "Python [conda env:conda-trader]",
   "language": "python",
   "name": "conda-env-conda-trader-py"
  },
  "language_info": {
   "codemirror_mode": {
    "name": "ipython",
    "version": 3
   },
   "file_extension": ".py",
   "mimetype": "text/x-python",
   "name": "python",
   "nbconvert_exporter": "python",
   "pygments_lexer": "ipython3",
   "version": "3.7.3"
  }
 },
 "nbformat": 4,
 "nbformat_minor": 4
}
